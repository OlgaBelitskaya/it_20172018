{
 "cells": [
  {
   "cell_type": "markdown",
   "metadata": {},
   "source": [
    "# ЕГЭ 2017 Вариант 1 &nbsp; &nbsp; &nbsp; EGE 2017 Variant 1\n",
    "### The variant from the book was used: [ЕГЭ-2017. Информатика.10 тренировочных вариантов. Ушаков Д.М.](https://drive.google.com/file/d/0B6696ckkWj_zS2ptblAxNERHZzQ/view)\n",
    "## Часть 1 &nbsp; &nbsp; &nbsp; Part 1"
   ]
  },
  {
   "cell_type": "code",
   "execution_count": 18,
   "metadata": {},
   "outputs": [
    {
     "data": {
      "text/html": [
       "<style>\n",
       "@import url('https://fonts.googleapis.com/css?family=Roboto');\n",
       "body {background-color: aliceblue;} \n",
       "a {color: #4876ff; font-family: 'Roboto';} \n",
       "h1 {color: #348ABD; font-family: 'Roboto'; text-shadow: 4px 4px 4px #aaa;} \n",
       "h2, h3 {color: gray; font-family: 'Roboto'; text-shadow: 4px 4px 4px #aaa;}\n",
       "h4 {color: #348ABD; font-family: 'Roboto';}\n",
       "span {text-shadow: 4px 4px 4px #aaa;}\n",
       "div.output_prompt, div.output_area pre, div.output_subarea {color: gray;}\n",
       "div.input_prompt {color: #4876ff;}      \n",
       "div.output_stderr pre {background-color: aliceblue;}  \n",
       "div.output_stderr {background-color: gray;}                        \n",
       "</style>"
      ],
      "text/plain": [
       "<IPython.core.display.HTML object>"
      ]
     },
     "metadata": {},
     "output_type": "display_data"
    }
   ],
   "source": [
    "%%html\n",
    "<style>\n",
    "@import url('https://fonts.googleapis.com/css?family=Roboto');\n",
    "body {background-color: aliceblue;} \n",
    "a {color: #4876ff; font-family: 'Roboto';} \n",
    "h1 {color: #348ABD; font-family: 'Roboto'; text-shadow: 4px 4px 4px #aaa;} \n",
    "h2, h3 {color: gray; font-family: 'Roboto'; text-shadow: 4px 4px 4px #aaa;}\n",
    "h4 {color: #348ABD; font-family: 'Roboto';}\n",
    "span {text-shadow: 4px 4px 4px #aaa;}\n",
    "div.output_prompt, div.output_area pre, div.output_subarea {color: gray;}\n",
    "div.input_prompt {color: #4876ff;}      \n",
    "div.output_stderr pre {background-color: aliceblue;}  \n",
    "div.output_stderr {background-color: gray;}                        \n",
    "</style>"
   ]
  },
  {
   "cell_type": "code",
   "execution_count": 19,
   "metadata": {},
   "outputs": [],
   "source": [
    "answer_dictionary = dict()"
   ]
  },
  {
   "cell_type": "markdown",
   "metadata": {},
   "source": [
    "<div style=\"width: 800px; height: 100px; overflow:auto;\">\n",
    "    <img src=\"it_images/2017_01_01.png\" width=\"800\" height=\"100\"/>\n",
    "</div> \n",
    "Во сколько раз $34_8$ меньше чем $3400_8$ ? В ответе запишите только число в десятичной системе счисления.\n",
    "\n",
    "---\n",
    "\n",
    "How many times is $34_8$ less than $3400_8$ ? In the answer write down only the number in the decimal number system."
   ]
  },
  {
   "cell_type": "code",
   "execution_count": 20,
   "metadata": {},
   "outputs": [
    {
     "data": {
      "text/plain": [
       "64"
      ]
     },
     "execution_count": 20,
     "metadata": {},
     "output_type": "execute_result"
    }
   ],
   "source": [
    "# from octal to decimal - I method\n",
    "int(int('3400', 8) / int('34', 8))"
   ]
  },
  {
   "cell_type": "code",
   "execution_count": 21,
   "metadata": {},
   "outputs": [
    {
     "data": {
      "text/plain": [
       "64"
      ]
     },
     "execution_count": 21,
     "metadata": {},
     "output_type": "execute_result"
    }
   ],
   "source": [
    "# from octal to decimal - II method\n",
    "# 3400 / 34\n",
    "int('100', 8)"
   ]
  },
  {
   "cell_type": "code",
   "execution_count": 22,
   "metadata": {},
   "outputs": [
    {
     "name": "stdout",
     "output_type": "stream",
     "text": [
      "Answer: 64\n"
     ]
    }
   ],
   "source": [
    "answer_dictionary[1]=str(int('100', 8))\n",
    "print (\"Answer:\",answer_dictionary[1])"
   ]
  },
  {
   "cell_type": "markdown",
   "metadata": {},
   "source": [
    "<div style=\"width: 800px; height: 350px; overflow:auto;\">\n",
    "    <img src=\"it_images/2017_01_02.png\" width=\"800\" height=\"350\"/>\n",
    "</div>\n",
    "Дан фрагмент таблицы истинности выражения F. Значения в пустых клетках таблицы неизвестны и могут быть любыми из возможных.\n",
    "\n",
    "The fragment of the truth table of the expression F is given. Values in empty table cells are unknown and can be any of the possible ones.\n",
    "\n",
    "| $x_1$ | $x_2$ | $x_3$ | $F$ |\n",
    "|:-:|:-:|:-:|:-:|\n",
    "| | | | 0 |\n",
    "| 0 | 1 | 0 | 0 |\n",
    "\n",
    "Перечислите в порядке возрастания без запятых и пробелов номера логических выражений, которые могут соответствовать F.\n",
    "\n",
    "List in ascending order without commas and spaces the numbers of logical expressions that can correspond to F.\n",
    "\n",
    "1) $\\neg x_1 \\land x_2 \\land \\neg x_3$\n",
    "\n",
    "2) $x_1 \\lor \\neg x_2 \\lor \\neg x_3$\n",
    "\n",
    "3) $x_1 \\land \\neg x_2 \\land \\neg x_3$\n",
    "\n",
    "4) $\\neg x_1 \\land \\neg x_2 \\land x_3$\n",
    "\n",
    "5) $x_1 \\lor \\neg x_2 \\lor x_3$"
   ]
  },
  {
   "cell_type": "code",
   "execution_count": 23,
   "metadata": {},
   "outputs": [
    {
     "name": "stdout",
     "output_type": "stream",
     "text": [
      " Step 1\n",
      "1) F:  1\n",
      "2) F:  1\n",
      "3) F:  0\n",
      "4) F:  0\n",
      "5) F:  0\n"
     ]
    }
   ],
   "source": [
    "print(\" Step 1\")\n",
    "\n",
    "print(\"1) F: \", int((not 0) and 1 and (not 0)))\n",
    "print(\"2) F: \", int( 0 or (not 1) or (not 0)))\n",
    "print(\"3) F: \", int(0 and (not 1) and (not 0)))\n",
    "print(\"4) F: \", int((not 0) and (not 1) and 0))\n",
    "print(\"5) F: \", int( 0 or (not 1) or 0))"
   ]
  },
  {
   "cell_type": "code",
   "execution_count": 24,
   "metadata": {},
   "outputs": [
    {
     "name": "stdout",
     "output_type": "stream",
     "text": [
      " Step 2\n",
      "3) For all binary combinations\n",
      "[0, 0, 0, 0, 1, 0, 0, 0]\n",
      "4) For all binary combinations\n",
      "[0, 1, 0, 0, 0, 0, 0, 0]\n",
      "5) For all binary combinations\n",
      "[1, 1, 0, 1, 1, 1, 1, 1]\n"
     ]
    }
   ],
   "source": [
    "print(\" Step 2\")\n",
    "\n",
    "import numpy\n",
    "import itertools\n",
    "n = 3\n",
    "binary_combinations = numpy.array(list(itertools.product([0, 1], repeat=n)))\n",
    "\n",
    "print(\"3) For all binary combinations\")\n",
    "def logic_function3(x,y,z): return int(x and (not y) and (not z))\n",
    "result3 = []\n",
    "for x,y,z in binary_combinations:\n",
    "    result3.append(logic_function3(x,y,z))\n",
    "print(result3)\n",
    "\n",
    "print(\"4) For all binary combinations\")\n",
    "def logic_function4(x,y,z): return int((not x) and (not y) and z)\n",
    "result4 = []\n",
    "for x,y,z in binary_combinations:\n",
    "    result4.append(logic_function4(x,y,z))\n",
    "print(result4)\n",
    "\n",
    "print(\"5) For all binary combinations\")\n",
    "def logic_function5(x,y,z): return int( x or (not y) or z)\n",
    "result5 = []\n",
    "for x,y,z in binary_combinations:\n",
    "    result5.append(logic_function5(x,y,z))\n",
    "print(result5)"
   ]
  },
  {
   "cell_type": "markdown",
   "metadata": {},
   "source": [
    "Для функции 5) существует только одно нулевое значение, а F должно иметь не менее 2 нулевых значений.\n",
    "\n",
    "---\n",
    "\n",
    "There is only one zero value for the function 5), but F should have at least 2 zero values."
   ]
  },
  {
   "cell_type": "code",
   "execution_count": 25,
   "metadata": {},
   "outputs": [
    {
     "name": "stdout",
     "output_type": "stream",
     "text": [
      "Answer: 34\n"
     ]
    }
   ],
   "source": [
    "answer_dictionary[2]=str(34)\n",
    "print (\"Answer:\",answer_dictionary[2])"
   ]
  },
  {
   "cell_type": "markdown",
   "metadata": {},
   "source": [
    "<div style=\"width: 800px; height: 400px; overflow:auto;\">\n",
    "    <img src=\"it_images/2017_01_03.png\" width=\"800\" height=\"400\"/>\n",
    "</div>\n",
    "На рисунке справа схема дорог Н-ского района изображена в виде графа, в таблице содержатся сведения о длинах этих дорог (в километрах).\n",
    "\n",
    "Так как таблицу и схему рисовали независимо друг от друга, то нумерация населённых пунктов в таблице никак не связана с буквенными обозначениями на графе. Определите, какова длина дороги из пункта Д в пункт К. В ответе запишите целое число — так, как оно указано в таблице.\n",
    "\n",
    "---\n",
    "\n",
    "In the figure to the right, the road scheme of the N-rayon is depicted in the form of a graph, the table contains information on the lengths of these roads (in kilometers).\n",
    "\n",
    "Since the table and the diagram were drawn independently of each other, the numbering of settlements in the table is in no way connected with the letter symbols on the graph. Determine the length of the road from the point Д to the point К. In the answer, write down the integer number - as it is indicated in the table.\n",
    "\n",
    "| &#x123CF; | П1 | П2 | П3 | П4 | П5 | П6 | П7 |\n",
    "|:-:|:-:|:-:|:-:|:-:|:-:|:-:|:-:|\n",
    "| **П1** | &#x123CF; |  |  | 60 |  |  | 45 |\n",
    "| **П2** |  | &#x123CF; | 50 | 20 | 10 |  |  |\n",
    "| **П3** |  | 50 | &#x123CF; | 40 |  | 30 | 25 |\n",
    "| **П4** | 60 | 20 | 40 | &#x123CF; | 15 |  | 55 |\n",
    "| **П5** |  | 10 |  | 15 | &#x123CF; |  |  |\n",
    "| **П6** |  |  | 30 |  |  | &#x123CF; | 35 |\n",
    "| **П7** | 45 |  | 25 | 55 |  | 35 | &#x123CF; |"
   ]
  },
  {
   "cell_type": "markdown",
   "metadata": {
    "collapsed": true
   },
   "source": [
    "- Только один узел имеет 5 ребер => К == П4.\n",
    "- Только один узел имеет 3 ребра => Д == П2.\n",
    "- Е <-> К, Е <-> Д => Е == П5.\n",
    "- Д <-> В (оставшаяся связь для Д) => В == П3\n",
    "- А <-> В и имеет 2 связи => А == П6\n",
    "- Б имеет 2 ребра => Б == П1\n",
    "- Γ = Π7\n",
    "\n",
    "---\n",
    "\n",
    "- Only one node has 5 edges => K == П4.\n",
    "- Only one node has 3 edges => Д == П2.\n",
    "- Е <-> К, Е <-> Д => Е == П5.\n",
    "- Д <-> В (the least edge for Д) => В == П3\n",
    "- А <-> В and has 2 edges => А == П6\n",
    "- Б has 2 edges => Б == П1\n",
    "- Г == П7\n",
    "\n",
    "| &#x123CF; | П1=Б | П2=Д | П3=В | П4=К | П5=Е | П6=А | П7=Г |\n",
    "|:-:|:-:|:-:|:-:|:-:|:-:|:-:|:-:|\n",
    "| **П1=Б** | &#x123CF; |  |  | 60 |  |  | 45 |\n",
    "| **П2=Д** |  | &#x123CF; | 50 | 20 | 10 |  |  |\n",
    "| **П3=В** |  | 50 | &#x123CF; | 40 |  | 30 | 25 |\n",
    "| **П4=К** | 60 | 20 | 40 | &#x123CF; | 15 |  | 55 |\n",
    "| **П5=Е** |  | 10 |  | 15 | &#x123CF; |  |  |\n",
    "| **П6=А** |  |  | 30 |  |  | &#x123CF; | 35 |\n",
    "| **П7=Г** | 45 |  | 25 | 55 |  | 35 | &#x123CF; |      "
   ]
  },
  {
   "cell_type": "code",
   "execution_count": 26,
   "metadata": {},
   "outputs": [
    {
     "data": {
      "image/png": "[encoded data removed]",
      "text/plain": [
       "<matplotlib.figure.Figure at 0x10530d5f8>"
      ]
     },
     "metadata": {},
     "output_type": "display_data"
    }
   ],
   "source": [
    "import matplotlib.pyplot as plt\n",
    "%matplotlib inline\n",
    "import networkx as nx\n",
    "\n",
    "plt.figure(figsize=(9,9))\n",
    "G=nx.Graph()\n",
    "\n",
    "G.add_edge('А','В',weight=30)\n",
    "G.add_edge('А','Г',weight=35)\n",
    "G.add_edge('Б','Г',weight=45)\n",
    "G.add_edge('Б','К',weight=60)\n",
    "G.add_edge('В','Г',weight=25)\n",
    "G.add_edge('В','Д',weight=50)\n",
    "G.add_edge('В','К',weight=40)\n",
    "G.add_edge('Г','К',weight=55)\n",
    "G.add_edge('Д','Е',weight=10)\n",
    "G.add_edge('Д','К',weight=20)\n",
    "G.add_edge('Е','К',weight=15)\n",
    "\n",
    "elarge=[(u,v) for (u,v,d) in G.edges(data=True) if d['weight'] >35]\n",
    "esmall=[(u,v) for (u,v,d) in G.edges(data=True) if d['weight'] <=35]                 \n",
    "\n",
    "# positions for all nodes\n",
    "pos=nx.shell_layout(G) \n",
    "\n",
    "# nodes\n",
    "nx.draw_networkx_nodes(G,pos,node_size=1000, node_shape=\"h\", node_color='lightsteelblue')\n",
    "\n",
    "# edges\n",
    "nx.draw_networkx_edges(G,pos,edgelist=elarge,edge_color='slategray',\n",
    "                       width=6,alpha=0.5,style='dashed')\n",
    "nx.draw_networkx_edges(G,pos,edgelist=esmall,edge_color='steelblue',\n",
    "                       width=3,alpha=0.5,style='dashed')\n",
    "# labels\n",
    "nx.draw_networkx_labels(G,pos,font_size=20,font_weight='bold')\n",
    "edge_labels=\\\n",
    "dict([((u,v,),d['weight']) for u,v,d in G.edges(data=True)])\n",
    "nx.draw_networkx_edge_labels(G,pos,font_size=20,font_weight='bold', \n",
    "                             label_pos=0.3, color='r', edge_labels=edge_labels)\n",
    "\n",
    "plt.axis('off');"
   ]
  },
  {
   "cell_type": "code",
   "execution_count": 27,
   "metadata": {},
   "outputs": [
    {
     "name": "stdout",
     "output_type": "stream",
     "text": [
      "Answer: 20\n"
     ]
    }
   ],
   "source": [
    "answer_dictionary[3]=str(G['Д']['К']['weight'])\n",
    "print (\"Answer:\",answer_dictionary[3])"
   ]
  },
  {
   "cell_type": "markdown",
   "metadata": {},
   "source": [
    "<div style=\"width: 800px; height: 400px; overflow:auto;\">\n",
    "    <img src=\"it_images/2017_01_04.png\" width=\"800\" height=\"400\"/>\n",
    "</div>\n",
    "Для групповых операций с файлами используются маски имён файлов. \n",
    "\n",
    "Маска представляет собой последовательность букв, цифр и прочих допустимых в именах файлов символов, в которых также могут встречаться следующие символы.\n",
    "\n",
    "Символ `«?»` (вопросительный знак) означает ровно один произвольный символ.\n",
    "\n",
    "Символ `«*»` (звёздочка) означает любую последовательность символов произвольной длины, в том числе `«*»` может задавать и пустую последовательность.\n",
    "\n",
    "Имеется список из нескольких масок:\n",
    "\n",
    "`go*?.?*?`,\n",
    "\n",
    "`?o*a.t*t`,\n",
    "\n",
    "`??d?*.*t*`, \n",
    "\n",
    "`*od*.*`.\n",
    "\n",
    "Определите, какие из указанных файлов будут отобраны по ровно трём из приведённых масок. \n",
    "\n",
    "1) `godovaya.tt`, 2) `goroda.txt`, 3) `goda.ttf`, 4) `godat.xt`.\n",
    "\n",
    "В ответе перечислите номера файлов в порядке возрастания без пробелов и знаков препинания.\n",
    "\n",
    "---\n",
    "\n",
    "For group operations with files, masks of file names are used.\n",
    "\n",
    "A mask is a sequence of letters, numbers and other permissible characters in file names, in which the following characters can also occur.\n",
    "\n",
    "The symbol `«?»` (question mark) means exactly one arbitrary character.\n",
    "\n",
    "The symbol `«*»` (asterisk) stands for any sequence of characters of arbitrary length, including `«*»`, which can also specify an empty sequence.\n",
    "\n",
    "There is a list of several masks:\n",
    "\n",
    "`go*?.?*?`,\n",
    "\n",
    "`?o*a.t*t`,\n",
    "\n",
    "`??d?*.*t*`, \n",
    "\n",
    "`*od*.*`.\n",
    "\n",
    "Determine which of these files will be selected on exactly three of the given masks. \n",
    "\n",
    "1) `godovaya.tt`, 2) `goroda.txt`, 3) `goda.ttf`, 4) `godat.xt`.\n",
    "\n",
    "In the answer, list file numbers in ascending order without spaces and punctuation marks."
   ]
  },
  {
   "cell_type": "code",
   "execution_count": 28,
   "metadata": {},
   "outputs": [
    {
     "name": "stdout",
     "output_type": "stream",
     "text": [
      "1 go*?.?*? 1 godovaya.tt\n",
      "1 go*?.?*? 2 goroda.txt\n",
      "1 go*?.?*? 3 goda.ttf\n",
      "1 go*?.?*? 4 godat.xt\n",
      "2 ?o*a.t*t 1 godovaya.tt\n",
      "2 ?o*a.t*t 2 goroda.txt\n",
      "3 ??d?*.*t* 1 godovaya.tt\n",
      "3 ??d?*.*t* 3 goda.ttf\n",
      "3 ??d?*.*t* 4 godat.xt\n",
      "4 *od*.* 1 godovaya.tt\n",
      "4 *od*.* 2 goroda.txt\n",
      "4 *od*.* 3 goda.ttf\n",
      "4 *od*.* 4 godat.xt\n",
      "\n",
      " Answer: 234\n"
     ]
    }
   ],
   "source": [
    "import fnmatch\n",
    "import os\n",
    "mask_list = ['go*?.?*?','?o*a.t*t','??d?*.*t*', '*od*.*']\n",
    "file_list = ['godovaya.tt', 'goroda.txt', 'goda.ttf', 'godat.xt']\n",
    "answer_list = [[],[],[],[]]\n",
    "\n",
    "for i,mask in enumerate(mask_list):   \n",
    "    for j,file in enumerate(file_list):\n",
    "        if fnmatch.fnmatch(file, mask):\n",
    "            print (i+1,mask,j+1,file)\n",
    "            answer_list[i].append(str(j+1))\n",
    "\n",
    "\n",
    "answer = []\n",
    "for el in ['1','2','3','4']:\n",
    "    c=0\n",
    "    for i in range(4):\n",
    "        if el in answer_list[i]:\n",
    "            c+=1\n",
    "    if c==3:\n",
    "        answer.append(el)\n",
    "        \n",
    "answer_dictionary[4]=''.join(answer)       \n",
    "print(\"\\n\",\"Answer:\",answer_dictionary[4])"
   ]
  },
  {
   "cell_type": "markdown",
   "metadata": {},
   "source": [
    "<div style=\"width: 800px; height: 200px; overflow:auto;\">\n",
    "    <img src=\"it_images/2017_01_05.png\" width=\"800\" height=\"200\"/>\n",
    "</div>\n",
    "По каналу связи передаются сообщения, каждое из которых содержит: 8 букв А, 8 букв Б, 16 букв В и 32 буквы Г (других букв в сообщениях нет).\n",
    "\n",
    "Каждую букву кодируют двоичной последовательностью. При выборе кода учитывались два требования:\n",
    "\n",
    "а) ни одно кодовое слово не является началом другого (это нужно, чтобы код допускал однозначное декодирование);\n",
    "\n",
    "б) общая длина закодированного сообщения должна быть как можно меньше.\n",
    "\n",
    "Какова суммарная длина всех четырёх кодовых букв?\n",
    "\n",
    "---\n",
    "\n",
    "Messages are sent on the communication channel, each of which contains: 8 letters А, 8 letters Б, 16 letters В and 32 letters Г (in messages there are no other letters).\n",
    "\n",
    "Each letter is encoded in a binary sequence. When choosing a code, two requirements were taken into account:\n",
    "\n",
    "a) no codeword is the beginning of the other (this is necessary for the code to allow unambiguous decoding);\n",
    "\n",
    "b) the total length of the encoded message should be as small as possible.\n",
    "\n",
    "What is the total length of all four code letters ?"
   ]
  },
  {
   "cell_type": "markdown",
   "metadata": {
    "collapsed": true
   },
   "source": [
    "В решении использован [Алгоритм Шеннона — Фано](https://ru.wikipedia.org/wiki/%D0%90%D0%BB%D0%B3%D0%BE%D1%80%D0%B8%D1%82%D0%BC_%D0%A8%D0%B5%D0%BD%D0%BD%D0%BE%D0%BD%D0%B0_%E2%80%94_%D0%A4%D0%B0%D0%BD%D0%BE).\n",
    "\n",
    "1) В сообщениях используются 4 символа с вероятностями:\n",
    "   - Г: 32/(8+8+16+32)=0.5\n",
    "   - В: 16/(8+8+16+32)=0.25\n",
    "   - А и Б: 8/(8+8+16+32)=0.125\n",
    "   \n",
    "2) Присвоим коды, используя принцип: чем чаще встречается символ, тем короче код.\n",
    "   - Г:0, В:11, А:100, Б:101 или\n",
    "   - Г:0, В:10, А:110, Б:111 или\n",
    "   - Г:1, В:00, А:010, Б:011 или\n",
    "   - Г:1, В:01, А:110, Б:111 \n",
    "   \n",
    "3) Вычислим длину одного сообщения, состоящего из всех четырех символов:\n",
    "\n",
    "---\n",
    "\n",
    "The solution uses the Shannon-Fano Algorithm.\n",
    "\n",
    "1) Messages use 4 symbols with probabilities:\n",
    "\n",
    "   - Г: 32 / (8 + 8 + 16 + 32) = 0.5\n",
    "   - В: 16 / (8 + 8 + 16 + 32) = 0.25\n",
    "   - А and Б: 8 / (8 + 8 + 16 + 32) = 0.125\n",
    "\n",
    "2) Assign codes using the principle: the more common the symbol, the shorter its code.\n",
    "\n",
    "   - Г:0, В:11, А:100, Б:101 or\n",
    "   - Г:0, В:10, А:110, Б:111 or\n",
    "   - Г:1, В:00, А:010, Б:011 or\n",
    "   - Г:1, В:01, А:110, Б:111\n",
    "\n",
    "3) Let's calculate the length of one message consisting of all four symbols:"
   ]
  },
  {
   "cell_type": "code",
   "execution_count": 29,
   "metadata": {},
   "outputs": [
    {
     "name": "stdout",
     "output_type": "stream",
     "text": [
      "\n",
      " Answer: 9\n"
     ]
    }
   ],
   "source": [
    "answer_dictionary[5]=str(1+2+3*2)     \n",
    "print(\"\\n\",\"Answer:\",answer_dictionary[5])"
   ]
  },
  {
   "cell_type": "markdown",
   "metadata": {},
   "source": [
    "<div style=\"width: 800px; height: 220px; overflow:auto;\">\n",
    "    <img src=\"it_images/2017_01_06.png\" width=\"800\" height=\"220\"/>\n",
    "</div>\n",
    "В некоторой информационной системе информация кодируется двоичными числами, имеющими ровно 4 значащих разряда. При передаче данных возможны их искажения, поэтому в конец каждого числа дописывается ещё один (контрольный) разряд таким образом, чтобы сумма разрядов нового числа, считая контрольный, была чётной. Например, к слову $1011$ справа будет добавлена $1$, а к слову $1010$ — $0$.\n",
    "\n",
    "После этого, для увеличения надежности кодирования, к полученному двоичному числу дописывается сумма его разрядов в двоичном виде. Например, исходное слово $0010$ превратится в $0010110$.\n",
    "\n",
    "Какое наименьшее число, большее 50 число может быть получено в результате этого алгоритма? Ответ запишите в десятичном виде.\n",
    "\n",
    "---\n",
    "\n",
    "In some information system, the information is encoded by binary numbers having exactly 4 significant digits. When transmitting data, their distortions are possible, so at the end of each number one more (control) discharge is added so that the sum of the digits of the new number, assuming the control digit, is even. For example, to the word $1011$ will be added $1$ to the right, and to word $1010$ - $0$.\n",
    "\n",
    "After this, to increase the reliability of the encoding, the sum of its significant digits in binary form is added to the received binary number. For example, the original word $0010$ will turn into $0010110$.\n",
    "\n",
    "What is the smallest number, greater the 50, can be obtained as a result of this algorithm? Write the answer in decimal form."
   ]
  },
  {
   "cell_type": "code",
   "execution_count": 30,
   "metadata": {},
   "outputs": [
    {
     "name": "stdout",
     "output_type": "stream",
     "text": [
      "binary: 000000, integer: 0\n",
      "binary: 0001110, integer: 14\n",
      "binary: 0010110, integer: 22\n",
      "binary: 0011010, integer: 26\n",
      "binary: 0100110, integer: 38\n",
      "binary: 0101010, integer: 42\n",
      "binary: 0110010, integer: 50\n",
      "binary: 01111100, integer: 124\n",
      "binary: 1000110, integer: 70\n",
      "binary: 1001010, integer: 74\n",
      "binary: 1010010, integer: 82\n",
      "binary: 10111100, integer: 188\n",
      "binary: 1100010, integer: 98\n",
      "binary: 11011100, integer: 220\n",
      "binary: 11101100, integer: 236\n",
      "binary: 11110100, integer: 244\n",
      "\n",
      " Answer: 70\n"
     ]
    }
   ],
   "source": [
    "import itertools\n",
    "n = 4\n",
    "binary_combinations = numpy.array(list(itertools.product([0, 1], repeat=n)))\n",
    "min_number = 1000\n",
    "for element in binary_combinations:\n",
    "    if sum(element)% 2 == 0:\n",
    "        element = numpy.append(element, [0])\n",
    "    else:\n",
    "        element = numpy.append(element, [1])\n",
    "\n",
    "    element_ext=bin(sum(element))     \n",
    "    element_str = \"\".join([str(el) for el in element]) + element_ext[2:]\n",
    "    number = int(element_str, 2)\n",
    "    print('binary: {}, integer: {}'.format(element_str, number))\n",
    "    \n",
    "    if number > 50 and min_number > number: \n",
    "        min_number = number\n",
    "\n",
    "answer_dictionary[6]=str(min_number)     \n",
    "print(\"\\n\",\"Answer:\",answer_dictionary[6])"
   ]
  },
  {
   "cell_type": "markdown",
   "metadata": {},
   "source": [
    "<div style=\"width: 800px; height: 220px; overflow:auto;\">\n",
    "    <img src=\"it_images/2017_01_07.png\" width=\"800\" height=\"220\"/>\n",
    "</div>\n",
    "В электронной таблице в ячейке С5 записана формула, которая вычисляет результат сложения значения ячейки Е4 со значением ячейки D3. \n",
    "\n",
    "Формулу из ячейки С5 скопировали в ячейку В6. \n",
    "\n",
    "Какое количество следующих утверждений не противоречит условию?\n",
    "\n",
    "1) В ячейке В6 вычисляется результат сложения значения ячейки D5 со значением ячейки С4.\n",
    "\n",
    "2) В ячейке В6 вычисляется результат сложения значения ячейки D5 со значением ячейки D3.\n",
    "\n",
    "3) В ячейке В6 вычисляется результат удвоения значения ячейки D4.\n",
    "\n",
    "4) В ячейке В6 вычисляется результат сложения значения ячейки Е4 со значением ячейки D3.\n",
    "\n",
    "---\n",
    "\n",
    "In the spreadsheet, a formula is written in cell C5, which calculates the result of adding the value of cell E4 with the value of cell D3. \n",
    "\n",
    "The formula from cell C5 was copied into cell B6. \n",
    "\n",
    "How many of the following statements do not contradict the condition?\n",
    "\n",
    "1) In cell B6, the result of adding the value of cell D5 with cell value C4 is calculated.\n",
    "\n",
    "2) Cell B6 calculates the result of adding the value of cell D5 with the value of cell D3.\n",
    "\n",
    "3) Cell B6 calculates the result of doubling the value of cell D4.\n",
    "\n",
    "4) In cell B6, the result of the addition of the cell value E4 with the cell value D3 is calculated."
   ]
  },
  {
   "cell_type": "markdown",
   "metadata": {},
   "source": [
    "<div style=\"width: 800px; height: 300px; overflow:auto;\">\n",
    "    <img src=\"it_images/2017_01_07a.png\" width=\"800\" height=\"300\"/>\n",
    "</div>\n",
    "[Google Sheet](https://drive.google.com/open?id=1A87X6IMO9XJRyDSlCt6je4ALy2P1mFGeIoZoYf3vwzo)\n",
    "\n",
    "Копируется не сама **ячейка**, а **формула** в ней. Ответ: 4."
   ]
  },
  {
   "cell_type": "code",
   "execution_count": 31,
   "metadata": {},
   "outputs": [
    {
     "name": "stdout",
     "output_type": "stream",
     "text": [
      "\n",
      " Answer: 4\n"
     ]
    }
   ],
   "source": [
    "answer_dictionary[7]=str(4)     \n",
    "print(\"\\n\",\"Answer:\",answer_dictionary[7])"
   ]
  },
  {
   "cell_type": "markdown",
   "metadata": {},
   "source": [
    "<div style=\"width: 800px; height: 700px; overflow:auto;\">\n",
    "    <img src=\"it_images/2017_01_08.png\" width=\"800\" height=\"700\"/>\n",
    "</div>\n",
    "Определите, что будет напечатано в результате выполнения следующего фрагмента программы.\n",
    "\n",
    "---\n",
    "\n",
    "Determine what will be printed as a result of the next program fragment."
   ]
  },
  {
   "cell_type": "code",
   "execution_count": 32,
   "metadata": {},
   "outputs": [
    {
     "name": "stdout",
     "output_type": "stream",
     "text": [
      "32\n"
     ]
    }
   ],
   "source": [
    "k, s = 1024, 50\n",
    "while s > 30:\n",
    "    s-=4\n",
    "    k/=2\n",
    "    k, s = int(k), int(s)\n",
    "print(k)"
   ]
  },
  {
   "cell_type": "code",
   "execution_count": 33,
   "metadata": {},
   "outputs": [
    {
     "name": "stdout",
     "output_type": "stream",
     "text": [
      "\n",
      " Answer: 32\n"
     ]
    }
   ],
   "source": [
    "answer_dictionary[8]=str(k)     \n",
    "print(\"\\n\",\"Answer:\",answer_dictionary[8])"
   ]
  },
  {
   "cell_type": "markdown",
   "metadata": {},
   "source": [
    "<div style=\"width: 800px; height: 200px; overflow:auto;\">\n",
    "    <img src=\"it_images/2017_01_09.png\" width=\"800\" height=\"200\"/>\n",
    "</div>\n",
    "Музыкальный фрагмент был оцифрован и записан в виде файла без использования сжатия данных. \n",
    "\n",
    "Получившийся файл был передан в город А по каналу связи за 90 секунд. \n",
    "\n",
    "Затем тот же музыкальный фрагмент был оцифрован повторно с разрешением в 2 раза меньше и частотой дискретизации в 1,5 раза меньше, чем в первый раз. \n",
    "\n",
    "Сжатие данных не производилось. \n",
    "\n",
    "Полученный файл был передан в город Б; пропускная способность канала связи с городом Б в 3 раза ниже, чем канала связи с городом А. \n",
    "\n",
    "Сколько секунд длилась передача файла в город Б?\n",
    "\n",
    "В ответе запишите только целое число, единицу измерения писать не нужно.\n",
    "\n",
    "---\n",
    "\n",
    "The musical fragment was digitized and recorded as a file without using data compression. \n",
    "\n",
    "The resulting file was transferred to the city A via the communication channel in 90 seconds. \n",
    "\n",
    "Then the same musical fragment was digitized again with a resolution of 2 times smaller and a sampling rate of 1.5 times smaller than the first time. \n",
    "\n",
    "Data compression was not performed. \n",
    "\n",
    "The resulting file was transferred to the city B; the capacity of the communication channel with the city of B is 3 times lower than the communication channel with the city of A. \n",
    "\n",
    "How many seconds did the file transfer to the city B last?\n",
    "\n",
    "In the answer, write down only an integer, you do not need to write a unit of measurement."
   ]
  },
  {
   "cell_type": "markdown",
   "metadata": {},
   "source": [
    "1) Второй музыкальный фрагмент имеет в 3 раза меньший размер, чем первый ( $2*1.5=3$: разрешение в 2 раза меньше и частота дискретизации в 1,5 раза меньше). Следовательно, по каналу связи с городом А второй файл передавался бы в 3 раза быстрее.\n",
    "\n",
    "2) Пропускная способность канала связи с городом Б в 3 раза ниже, а значит время передачи файлов возрастает в 3 раза по сравнению с каналом с городом А.\n",
    "\n",
    "3) Учитывая пункты 1) и 2), меньший файл по каналу с меньшей пропускной способностью будет передан за: $90 \\ / \\ 3 * 3 = 90$ секунд.\n",
    "\n",
    "---\n",
    "\n",
    "1) The second musical fragment is 3 times smaller than the first one ( $2 * 1.5 = 3$: the resolution is 2 times smaller and the sampling rate is 1.5 times smaller). Therefore, on the communication channel with the city А, the second file would be transmitted 3 times faster.\n",
    "\n",
    "2) The capacity of the communication channel with the city Б is 3 times lower, which means that the file transfer time is 3 times higher than the channel with the city А.\n",
    "\n",
    "3) Given points 1) and 2), the smaller file on the channel with the lower communication capacity will be transmitted for: $90 \\ / \\ 3 * 3 = 90$ seconds."
   ]
  },
  {
   "cell_type": "code",
   "execution_count": 34,
   "metadata": {},
   "outputs": [
    {
     "name": "stdout",
     "output_type": "stream",
     "text": [
      "\n",
      " Answer: 90\n"
     ]
    }
   ],
   "source": [
    "answer_dictionary[9]=str(int(90/2/1.5*3))     \n",
    "print(\"\\n\",\"Answer:\",answer_dictionary[9])"
   ]
  },
  {
   "cell_type": "markdown",
   "metadata": {},
   "source": [
    "<div style=\"width: 800px; height: 150px; overflow:auto;\">\n",
    "    <img src=\"it_images/2017_01_10.png\" width=\"800\" height=\"150\"/>\n",
    "</div>\n",
    "Вася составляет 4-буквенные слова, в которых есть только буквы С, Т, Е, П, А, причём буква Е используется в каждом слове ровно 1 раз. Каждая из других допустимых букв может встречаться в слове любое количество раз или не встречаться совсем. Словом считается любая допустимая последовательность букв, не обязательно осмысленная. Сколько существует таких слов, которые может написать Вася?\n",
    "\n",
    "---\n",
    "\n",
    "Vasya composes 4-letter words in which there are only letters С, Т, Е, П, А, and the letter Е is used in each word exactly 1 time. Each of the other valid letters can occur in the word any number of times or not occur at all. A word is any valid sequence of letters, not necessarily meaningful. How many such words can Vasya write?\n",
    "\n",
    "---\n",
    "\n",
    "1) `Е` занимает $4$ возможных положения в словах: `Е***`, `*Е**`, `**Е*`, `***Е`.\n",
    "\n",
    "2) Рассмотрим одну из этих позиций: другие буквы `С, Т, П, А` могут находиться в любом из оставшихся трех мест. Таким образом, количество слов для одной позиции `Е` будет равно $ 4 * 4 * 4 $.\n",
    "\n",
    "3) Число всех возможных слов равно $ 4 * 4 * 4 * 4 = 4 ^ 4 $.\n",
    "\n",
    "---\n",
    "\n",
    "1) `Е` has $4$ possible positions in the words: `Е***`, `*Е**`, `**Е*`, `***Е`.\n",
    "\n",
    "2) Let's have a look at one of these positions: other letters `С, Т, П, А` can be in any of the remained three places. Thus, the number of words for one position of `Е` will be equal $4*4*4$.\n",
    "\n",
    "3) The number of all possible words is equal $4*4*4*4=4^4$."
   ]
  },
  {
   "cell_type": "code",
   "execution_count": 35,
   "metadata": {},
   "outputs": [
    {
     "name": "stdout",
     "output_type": "stream",
     "text": [
      "\n",
      " Answer: 256\n"
     ]
    }
   ],
   "source": [
    "answer_dictionary[10]=str(4**4)     \n",
    "print(\"\\n\",\"Answer:\",answer_dictionary[10])"
   ]
  },
  {
   "cell_type": "markdown",
   "metadata": {},
   "source": [
    "<div style=\"width: 800px; height: 700px; overflow:auto;\">\n",
    "    <img src=\"it_images/2017_01_11.png\" width=\"800\" height=\"700\"/>\n",
    "</div>\n",
    "Даны рекурсивные алгоритмы F и G. Чему равна сумма всех чисел, напечатанных на экране при выполнении вызова F(15)?\n",
    "\n",
    "---\n",
    "\n",
    "The recursive algorithms F and G age given. What is the sum of all numbers printed on the screen when the call F (15) is executed?"
   ]
  },
  {
   "cell_type": "code",
   "execution_count": 36,
   "metadata": {},
   "outputs": [
    {
     "name": "stdout",
     "output_type": "stream",
     "text": [
      "13\n",
      "10\n",
      "7\n",
      "4\n",
      "1\n",
      "35\n"
     ]
    }
   ],
   "source": [
    "def F(n):\n",
    "    n = int(n)\n",
    "    if n > 0:\n",
    "        G(n - 2)\n",
    "\n",
    "def G(n):\n",
    "    n = int(n)\n",
    "    print(n)\n",
    "    global sum_n\n",
    "    sum_n += n\n",
    "    if n > 1:\n",
    "        F(n - 1)\n",
    "        \n",
    "sum_n = 0\n",
    "F(15)\n",
    "print(sum_n)"
   ]
  },
  {
   "cell_type": "code",
   "execution_count": 37,
   "metadata": {},
   "outputs": [
    {
     "name": "stdout",
     "output_type": "stream",
     "text": [
      "\n",
      " Answer: 35\n"
     ]
    }
   ],
   "source": [
    "answer_dictionary[11]=str(sum_n)     \n",
    "print(\"\\n\",\"Answer:\",answer_dictionary[11])"
   ]
  },
  {
   "cell_type": "markdown",
   "metadata": {},
   "source": [
    "<div style=\"width: 800px; height: 200px; overflow:auto;\">\n",
    "    <img src=\"it_images/2017_01_12.png\" width=\"800\" height=\"200\"/>\n",
    "</div>\n",
    "\n",
    "В терминологии сетей TCP/IP маской сети называется двоичное число, определяющее, какая часть IP-адреса узла сети относится к адресу сети, а какая — к адресу самого узла в этой сети. \n",
    "\n",
    "Обычно маска записывается по тем же правилам, что и IP-адрес. \n",
    "\n",
    "Адрес сети получается в результате применения поразрядной конъюнкции к заданному IP-адресу узла и маске. \n",
    "\n",
    "При этом адрес узла в сети (часть IP-адреса, задающего адрес самого узла в сети) не может состоять из одних нулей или из одних единиц. \n",
    "\n",
    "Сколько компьютеров может быть в сети с маской:\n",
    "\n",
    "- $255.255.255.192$?\n",
    "\n",
    "---\n",
    "\n",
    "In the terminology of TCP / IP networks, a network mask is a binary number that specifies what part of the IP address of the host belongs to the network address, and which one to the address of the node in that network. \n",
    "\n",
    "Usually, the mask is written using the same rules as the IP address. \n",
    "\n",
    "The network address is obtained as a result of applying the bitwise conjunction to the specified IP address of the node and to the mask. \n",
    "\n",
    "The node address in the network (a part of the IP address specifying the address of the node in the network) cannot consist of only zeros or only units. \n",
    "\n",
    "How many computers can be on the network with a mask:\n",
    "\n",
    "- $255.255.255.192$?\n",
    "\n",
    "[Пример расчета количества хостов и подсетей на основе IP-адреса и маски](https://help.keenetic.net/hc/ru/articles/213965829-%D0%9F%D1%80%D0%B8%D0%BC%D0%B5%D1%80-%D1%80%D0%B0%D1%81%D1%87%D0%B5%D1%82%D0%B0-%D0%BA%D0%BE%D0%BB%D0%B8%D1%87%D0%B5%D1%81%D1%82%D0%B2%D0%B0-%D1%85%D0%BE%D1%81%D1%82%D0%BE%D0%B2-%D0%B8-%D0%BF%D0%BE%D0%B4%D1%81%D0%B5%D1%82%D0%B5%D0%B9-%D0%BD%D0%B0-%D0%BE%D1%81%D0%BD%D0%BE%D0%B2%D0%B5-IP-%D0%B0%D0%B4%D1%80%D0%B5%D1%81%D0%B0-%D0%B8-%D0%BC%D0%B0%D1%81%D0%BA%D0%B8)"
   ]
  },
  {
   "cell_type": "code",
   "execution_count": 38,
   "metadata": {},
   "outputs": [
    {
     "name": "stdout",
     "output_type": "stream",
     "text": [
      "11111111.11111111.11111111.11000000\n"
     ]
    }
   ],
   "source": [
    "mask='255.255.255.192'\n",
    "mask_bin='.'.join([bin(int(x)+256)[3:] for x in mask.split('.')])\n",
    "print(mask_bin)"
   ]
  },
  {
   "cell_type": "markdown",
   "metadata": {},
   "source": [
    "**Замечание: два адреса не используются (адрес сети и [широковещательный адрес](https://ru.wikipedia.org/wiki/%D0%A8%D0%B8%D1%80%D0%BE%D0%BA%D0%BE%D0%B2%D0%B5%D1%89%D0%B0%D1%82%D0%B5%D0%BB%D1%8C%D0%BD%D1%8B%D0%B9_%D0%B0%D0%B4%D1%80%D0%B5%D1%81)).**\n",
    "\n",
    "1) Первые три десятичных числа маски равны $255$, из запись состоит из $24$ единиц в двоичной системе счисления. Они определяют адрес сети.\n",
    "\n",
    "2) Число $192$ в двоичной системе счисления равно `11000000`. В записи есть шесть разрядов со значением $0$. Они могут быть использованы для записи адресов компьютеров. Количество возможных бинарных комбинаций для записи адреса при этом равно $2^6$.\n",
    "\n",
    "3) Два адреса не используются, поэтому количество компьютеров равно: $2^6 - 2$.\n",
    "\n",
    "---\n",
    "\n",
    "** Note: two addresses are not used (the network address and the [broadcast address](https://en.wikipedia.org/wiki/Broadcast_address)).**\n",
    "\n",
    "1) The first three decimal numbers of the mask are $255$, their record consists of $24$ units in the binary number system. They determine the network address.\n",
    "\n",
    "2) The number $192$ in the binary system is equal to `11000000`. There are six digits in the record with a value of $0$. They can be used to record computer addresses. The number of possible binary combinations for writing an address is $2^6$.\n",
    "\n",
    "3) Two addresses are not used, therefore the number of computers is equal to: $2^6-2$."
   ]
  },
  {
   "cell_type": "code",
   "execution_count": 39,
   "metadata": {},
   "outputs": [
    {
     "name": "stdout",
     "output_type": "stream",
     "text": [
      "\n",
      " Answer: 62\n"
     ]
    }
   ],
   "source": [
    "answer_dictionary[12]=str(2**6-2)     \n",
    "print(\"\\n\",\"Answer:\",answer_dictionary[12])"
   ]
  },
  {
   "cell_type": "markdown",
   "metadata": {},
   "source": [
    "<div style=\"width: 800px; height: 120px; overflow:auto;\">\n",
    "    <img src=\"it_images/2017_01_13.png\" width=\"800\" height=\"120\"/>\n",
    "</div>\n",
    "Кабельная сеть проводит голосование среди зрителей о том, какой из четырёх фильмов они хотели бы посмотреть вечером. \n",
    "\n",
    "Кабельной сетью пользуются 2000 человек. В голосовании участвовало 1200 человек. \n",
    "\n",
    "Каков объём информации (в байтах), записанный автоматизированной системой голосования?\n",
    "\n",
    "---\n",
    "\n",
    "The cable network conducts a vote among viewers about which of the four films they would like to watch in the evening. \n",
    "\n",
    "Cable network is used by 2000 people. In the voting participated 1200 people. \n",
    "\n",
    "What is the amount of information (in bytes) recorded by an automated voting system?"
   ]
  },
  {
   "cell_type": "markdown",
   "metadata": {},
   "source": [
    "1) Для кодирования номера фильма (и, следовательно, для записи результата голосования одного человека) достаточно 2 бит информации:\n",
    "\n",
    "   - $4 = 2^2$ : фильм №1, фильм №2, фильм №3, фильм №4 - `00`, `01`,`10`,`11`.\n",
    "\n",
    "2) Для 1200 человек необходимо $1200 * 2 = 2400$ бит. Это равно $2400 / 8 = 300$ байт.\n",
    "\n",
    "---\n",
    "\n",
    "1) To encode the movie number (and, therefore, to record the result of voting by one person), 2 bits of information are sufficient:\n",
    "\n",
    "- $4 = 2^2$: film number 1, film number 2, film number 3, film number 4 - `00`,` 01`, `10`,` 11`.\n",
    "\n",
    "2) For 1200 people you need $1200 * 2 = 2400$ bits. This is $2400 / 8 = 300$ bytes."
   ]
  },
  {
   "cell_type": "code",
   "execution_count": 40,
   "metadata": {},
   "outputs": [
    {
     "name": "stdout",
     "output_type": "stream",
     "text": [
      "\n",
      " Answer: 300\n"
     ]
    }
   ],
   "source": [
    "answer_dictionary[13]=str(int(2*1200/8))  \n",
    "print(\"\\n\",\"Answer:\",answer_dictionary[13])"
   ]
  },
  {
   "cell_type": "markdown",
   "metadata": {},
   "source": [
    "<div style=\"width: 800px; height: 500px; overflow:auto;\">\n",
    "    <img src=\"it_images/2017_01_14.png\" width=\"800\" height=\"500\"/>\n",
    "</div>\n",
    "\n",
    "Исполнитель Чертёжник перемещается на координатной плоскости, оставляя след в виде линии. \n",
    "\n",
    "Чертёжник может выполнять команду `сместиться на (а, b)`, где а, b — целые числа. \n",
    "\n",
    "- Эта команда перемещает Чертёжника из точки с координатами (х, у) в точку с координатами (х + а; у + b). \n",
    "- Например, если Чертёжник находится в точке с координатами (4, -2), то команда `сместиться на (2, 3)` переместит Чертёжника в точку (6, 1). \n",
    "\n",
    "Цикл `повтори n раз` означает, что последовательность команд будет выполнена указанное число раз (число должно быть натуральным).\n",
    "\n",
    "Чертёжнику был дан для исполнения следующий алгоритм (буквами n, а, b обозначены неизвестные числа, при этом n > 1):\n",
    "\n",
    "- **`начало`**\n",
    "\n",
    "  - **`сместиться на (-5, 8)`**\n",
    "  - **`повтори n раз`**\n",
    "    - **`сместиться на (а, b)`**\n",
    "    - **`сместиться на (14, 18)`**\n",
    "  - **`конец повтори`**\n",
    "  - **`сместиться на (-16, -23)`**\n",
    "\n",
    "- **`конец`**\n",
    "\n",
    "Укажите наименьшее возможное значение числа n, для которого найдутся такие значения чисел а и b, \n",
    "\n",
    "что после выполнения программы Чертёжник возвратится в исходную точку.\n",
    "\n",
    "---\n",
    "\n",
    "The performer 'Tracer' moves on the coordinate plane, leaving a trace in the form of a line. \n",
    "\n",
    "'Tracer' can execute the command `to shift to (a, b)`, where a, b are integers. \n",
    "\n",
    "- This command moves the performer from the point with the coordinates (x, y) to the point with the coordinates (x + a; y + b). \n",
    "- For example, if 'Tracer' is at the point with coordinates (4, -2), then the command `to shift to(2, 3)` will move him to the point (6, 1). \n",
    "\n",
    "The cycle `repeat n times` means that the command sequence will be executed the specified number of times (the number must be natural).\n",
    "\n",
    "The following algorithm for execution was given (n, a, b denotes unknown numbers, n > 1):\n",
    "\n",
    "- **`start`**\n",
    "\n",
    "     - **`shift to (-5, 8)`**\n",
    "   \n",
    "     - **`repeat n times`**\n",
    "   \n",
    "         - **`shift to (a, b)`**\n",
    "     \n",
    "         - **`shift to (14, 18)`**\n",
    "     \n",
    "     - **`end repeat`**\n",
    "   \n",
    "     - **`shift to (-16, -23)`**\n",
    "   \n",
    "- **`end`**\n",
    "\n",
    "Specify the smallest possible value of the number n, for which there are values of the numbers a and b, \n",
    "\n",
    "that 'Tracer' returns to the starting point after the program execution."
   ]
  },
  {
   "cell_type": "markdown",
   "metadata": {},
   "source": [
    "Координата `x` изменяется вне цикла на $-21 (= -5 - 16)$, `y` - на $-15 (= 8 - 23)$. \n",
    "\n",
    "Чтобы `Чертежник` вернулся в исходную точку, при выполнение команд цикла итоговое смещение должно быть (21, 15): \n",
    "    \n",
    "- $n * (a + 14) = 21 (= 3 * 7)$\n",
    "\n",
    "- $n * (b + 18) = 15 (= 3 * 5)$\n",
    "\n",
    "По условию, n > 1, а и b — целые числа => n = 2 не подходит, так как 21 и 15 не кратны 2.\n",
    "\n",
    "При n = 3, а = -7, b = -13: $3 * (-7 + 14) = 21$ и $3 * (-13 + 18) = 15$.\n",
    "\n",
    "\n",
    "---\n",
    "\n",
    "\n",
    "The coordinate `x` varies outside the cycle by $-21 (= - 5 - 16)$, `y` - by $-15 (= 8 - 23)$.\n",
    "\n",
    "`Tracer` returns to the starting point, when executing of the cycle commands is the offset (21, 15) in total:\n",
    "\n",
    "- $n * (a + 14) = 21 (= 3 * 7)$\n",
    "\n",
    "- $n * (b + 18) = 15 (= 3 * 5)$\n",
    "\n",
    "\n",
    "By the task conditions, n > 1, a and b are integers => n = 2 is not suitable, since 21 and 15 are not multiples of 2.\n",
    "\n",
    "For n = 3, a = -7, b = -13: $3 * (-7 + 14) = 21$ and $3 * (-13 + 18) = 15$."
   ]
  },
  {
   "cell_type": "code",
   "execution_count": 41,
   "metadata": {},
   "outputs": [
    {
     "name": "stdout",
     "output_type": "stream",
     "text": [
      "\n",
      " Answer: 3\n"
     ]
    }
   ],
   "source": [
    "answer_dictionary[14]=str(3)  \n",
    "print(\"\\n\",\"Answer:\",answer_dictionary[14])"
   ]
  },
  {
   "cell_type": "markdown",
   "metadata": {},
   "source": [
    "<div style=\"width: 800px; height: 300px; overflow:auto;\">\n",
    "    <img src=\"it_images/2017_01_15.png\" width=\"800\" height=\"300\"/>\n",
    "</div>\n",
    "На рисунке — схема дорог, связывающих города А, Б, В, Г, Д, Е, Ж, 3, И, К, Л, М. \n",
    "\n",
    "По каждой дороге можно двигаться только в одном направлении, указанном стрелкой. \n",
    "\n",
    "Сколько существует различных путей из города А в город М?\n",
    "\n",
    "---\n",
    "\n",
    "In the figure - the scheme of the roads connecting the cities А, Б, В, Г, Д, Е, Ж, 3, И, К, Л, М. \n",
    "\n",
    "For each road, it is possible to move only in one direction indicated by the arrow. \n",
    "\n",
    "How many different paths exist from the city А to the city М?"
   ]
  },
  {
   "cell_type": "code",
   "execution_count": 42,
   "metadata": {},
   "outputs": [
    {
     "data": {
      "image/png": "[encoded data removed]",
      "text/plain": [
       "<matplotlib.figure.Figure at 0x104a4ed30>"
      ]
     },
     "metadata": {},
     "output_type": "display_data"
    }
   ],
   "source": [
    "G2 = nx.MultiDiGraph()\n",
    "plt.figure(figsize=(12,9))\n",
    "\n",
    "G2.add_edges_from([('А', 'Б'),('А','В'),('А','Г'),('А','Д')])\n",
    "G2.add_edges_from([('Б','В'),('Б','Е')])\n",
    "G2.add_edges_from([('В','Г'),('В','Е')])\n",
    "G2.add_edges_from([('Г','Ж')])\n",
    "G2.add_edges_from([('Д','Г'),('Д','Ж')])\n",
    "G2.add_edges_from([('Е','З')])\n",
    "G2.add_edges_from([('Ж','Е'),('Ж','З')])\n",
    "G2.add_edges_from([('З','И'),('З','К'),('З','Л')])\n",
    "G2.add_edges_from([('И','К'),('И','М')])\n",
    "G2.add_edges_from([('К','Л'),('К','М')])\n",
    "G2.add_edges_from([('Л','М')])\n",
    "\n",
    "pos=nx.shell_layout(G2)\n",
    "\n",
    "nx.draw_networkx_edges(G2, pos, width=3, alpha=0.5, edge_color='slategray',\n",
    "                       arrowsize=70, arrowstyle='-|>')\n",
    "nx.draw_networkx_nodes(G2, pos, node_size=1500, node_shape='h', node_color='lightsteelblue')\n",
    "nx.draw_networkx_labels(G2, pos, font_size=20, font_weight='bold')\n",
    "\n",
    "plt.axis('off')\n",
    "plt.show()"
   ]
  },
  {
   "cell_type": "code",
   "execution_count": 43,
   "metadata": {},
   "outputs": [
    {
     "name": "stdout",
     "output_type": "stream",
     "text": [
      "['А', 'Б', 'В', 'Г', 'Ж', 'Е', 'З', 'И', 'К', 'Л', 'М']\n",
      "['А', 'Б', 'В', 'Г', 'Ж', 'Е', 'З', 'И', 'К', 'М']\n",
      "['А', 'Б', 'В', 'Г', 'Ж', 'Е', 'З', 'И', 'М']\n",
      "['А', 'Б', 'В', 'Г', 'Ж', 'Е', 'З', 'К', 'Л', 'М']\n",
      "['А', 'Б', 'В', 'Г', 'Ж', 'Е', 'З', 'К', 'М']\n",
      "['А', 'Б', 'В', 'Г', 'Ж', 'Е', 'З', 'Л', 'М']\n",
      "['А', 'Б', 'В', 'Г', 'Ж', 'З', 'И', 'К', 'Л', 'М']\n",
      "['А', 'Б', 'В', 'Г', 'Ж', 'З', 'И', 'К', 'М']\n",
      "['А', 'Б', 'В', 'Г', 'Ж', 'З', 'И', 'М']\n",
      "['А', 'Б', 'В', 'Г', 'Ж', 'З', 'К', 'Л', 'М']\n",
      "['А', 'Б', 'В', 'Г', 'Ж', 'З', 'К', 'М']\n",
      "['А', 'Б', 'В', 'Г', 'Ж', 'З', 'Л', 'М']\n",
      "['А', 'Б', 'В', 'Е', 'З', 'И', 'К', 'Л', 'М']\n",
      "['А', 'Б', 'В', 'Е', 'З', 'И', 'К', 'М']\n",
      "['А', 'Б', 'В', 'Е', 'З', 'И', 'М']\n",
      "['А', 'Б', 'В', 'Е', 'З', 'К', 'Л', 'М']\n",
      "['А', 'Б', 'В', 'Е', 'З', 'К', 'М']\n",
      "['А', 'Б', 'В', 'Е', 'З', 'Л', 'М']\n",
      "['А', 'Б', 'Е', 'З', 'И', 'К', 'Л', 'М']\n",
      "['А', 'Б', 'Е', 'З', 'И', 'К', 'М']\n",
      "['А', 'Б', 'Е', 'З', 'И', 'М']\n",
      "['А', 'Б', 'Е', 'З', 'К', 'Л', 'М']\n",
      "['А', 'Б', 'Е', 'З', 'К', 'М']\n",
      "['А', 'Б', 'Е', 'З', 'Л', 'М']\n",
      "['А', 'В', 'Г', 'Ж', 'Е', 'З', 'И', 'К', 'Л', 'М']\n",
      "['А', 'В', 'Г', 'Ж', 'Е', 'З', 'И', 'К', 'М']\n",
      "['А', 'В', 'Г', 'Ж', 'Е', 'З', 'И', 'М']\n",
      "['А', 'В', 'Г', 'Ж', 'Е', 'З', 'К', 'Л', 'М']\n",
      "['А', 'В', 'Г', 'Ж', 'Е', 'З', 'К', 'М']\n",
      "['А', 'В', 'Г', 'Ж', 'Е', 'З', 'Л', 'М']\n",
      "['А', 'В', 'Г', 'Ж', 'З', 'И', 'К', 'Л', 'М']\n",
      "['А', 'В', 'Г', 'Ж', 'З', 'И', 'К', 'М']\n",
      "['А', 'В', 'Г', 'Ж', 'З', 'И', 'М']\n",
      "['А', 'В', 'Г', 'Ж', 'З', 'К', 'Л', 'М']\n",
      "['А', 'В', 'Г', 'Ж', 'З', 'К', 'М']\n",
      "['А', 'В', 'Г', 'Ж', 'З', 'Л', 'М']\n",
      "['А', 'В', 'Е', 'З', 'И', 'К', 'Л', 'М']\n",
      "['А', 'В', 'Е', 'З', 'И', 'К', 'М']\n",
      "['А', 'В', 'Е', 'З', 'И', 'М']\n",
      "['А', 'В', 'Е', 'З', 'К', 'Л', 'М']\n",
      "['А', 'В', 'Е', 'З', 'К', 'М']\n",
      "['А', 'В', 'Е', 'З', 'Л', 'М']\n",
      "['А', 'Г', 'Ж', 'Е', 'З', 'И', 'К', 'Л', 'М']\n",
      "['А', 'Г', 'Ж', 'Е', 'З', 'И', 'К', 'М']\n",
      "['А', 'Г', 'Ж', 'Е', 'З', 'И', 'М']\n",
      "['А', 'Г', 'Ж', 'Е', 'З', 'К', 'Л', 'М']\n",
      "['А', 'Г', 'Ж', 'Е', 'З', 'К', 'М']\n",
      "['А', 'Г', 'Ж', 'Е', 'З', 'Л', 'М']\n",
      "['А', 'Г', 'Ж', 'З', 'И', 'К', 'Л', 'М']\n",
      "['А', 'Г', 'Ж', 'З', 'И', 'К', 'М']\n",
      "['А', 'Г', 'Ж', 'З', 'И', 'М']\n",
      "['А', 'Г', 'Ж', 'З', 'К', 'Л', 'М']\n",
      "['А', 'Г', 'Ж', 'З', 'К', 'М']\n",
      "['А', 'Г', 'Ж', 'З', 'Л', 'М']\n",
      "['А', 'Д', 'Г', 'Ж', 'Е', 'З', 'И', 'К', 'Л', 'М']\n",
      "['А', 'Д', 'Г', 'Ж', 'Е', 'З', 'И', 'К', 'М']\n",
      "['А', 'Д', 'Г', 'Ж', 'Е', 'З', 'И', 'М']\n",
      "['А', 'Д', 'Г', 'Ж', 'Е', 'З', 'К', 'Л', 'М']\n",
      "['А', 'Д', 'Г', 'Ж', 'Е', 'З', 'К', 'М']\n",
      "['А', 'Д', 'Г', 'Ж', 'Е', 'З', 'Л', 'М']\n",
      "['А', 'Д', 'Г', 'Ж', 'З', 'И', 'К', 'Л', 'М']\n",
      "['А', 'Д', 'Г', 'Ж', 'З', 'И', 'К', 'М']\n",
      "['А', 'Д', 'Г', 'Ж', 'З', 'И', 'М']\n",
      "['А', 'Д', 'Г', 'Ж', 'З', 'К', 'Л', 'М']\n",
      "['А', 'Д', 'Г', 'Ж', 'З', 'К', 'М']\n",
      "['А', 'Д', 'Г', 'Ж', 'З', 'Л', 'М']\n",
      "['А', 'Д', 'Ж', 'Е', 'З', 'И', 'К', 'Л', 'М']\n",
      "['А', 'Д', 'Ж', 'Е', 'З', 'И', 'К', 'М']\n",
      "['А', 'Д', 'Ж', 'Е', 'З', 'И', 'М']\n",
      "['А', 'Д', 'Ж', 'Е', 'З', 'К', 'Л', 'М']\n",
      "['А', 'Д', 'Ж', 'Е', 'З', 'К', 'М']\n",
      "['А', 'Д', 'Ж', 'Е', 'З', 'Л', 'М']\n",
      "['А', 'Д', 'Ж', 'З', 'И', 'К', 'Л', 'М']\n",
      "['А', 'Д', 'Ж', 'З', 'И', 'К', 'М']\n",
      "['А', 'Д', 'Ж', 'З', 'И', 'М']\n",
      "['А', 'Д', 'Ж', 'З', 'К', 'Л', 'М']\n",
      "['А', 'Д', 'Ж', 'З', 'К', 'М']\n",
      "['А', 'Д', 'Ж', 'З', 'Л', 'М']\n"
     ]
    }
   ],
   "source": [
    "for path in nx.all_simple_paths(G2, 'А', 'М'): print (path)"
   ]
  },
  {
   "cell_type": "code",
   "execution_count": 44,
   "metadata": {},
   "outputs": [
    {
     "name": "stdout",
     "output_type": "stream",
     "text": [
      "Answer: 78\n"
     ]
    }
   ],
   "source": [
    "answer_dictionary[15]=str(len(list(nx.all_simple_paths(G2, 'А', 'М'))))\n",
    "print(\"Answer:\", answer_dictionary[15]) "
   ]
  },
  {
   "cell_type": "markdown",
   "metadata": {},
   "source": [
    "<div style=\"width: 800px; height: 100px; overflow:auto;\">\n",
    "    <img src=\"it_images/2017_01_16.png\" width=\"800\" height=\"100\"/>\n",
    "</div>\n",
    "Сколько единиц содержится в двоичной записи значения выражения: $8^{16} + 2^{52} - 15$?\n",
    "\n",
    "---\n",
    "\n",
    "How many units are contained in the binary value of the expression: $8^{16} + 2^{52} - 15$?"
   ]
  },
  {
   "cell_type": "markdown",
   "metadata": {},
   "source": [
    "$8^{16} + 2^{52} - 15 = 2^{52} + 2^{48} - 2^{4} + 2^{0}$\n",
    "\n",
    "$2^{52} \\ в \\ бинарной \\ системе: 1 \\ символ \\ {`1`} \\ \\& \\ 51 \\ символ \\ {`0`}$ \n",
    "\n",
    "$2^{48} \\ в \\ бинарной \\ системе: 1 \\ символ \\ {`1`} \\ \\& \\ 47 \\ символов \\ {`0`}$ \n",
    "\n",
    "$2^{52} + 2^{48} \\ в \\ бинарной \\ системе: 1 \\ символ \\ {`1`} \\ \\& \\ 3 \\ символа \\ {`0`} \\ \\& \\ 1 \\ символ \\ {`1`} \\ \\& \\ 47 \\ символов \\ {`0`}$\n",
    "\n",
    "$2^{4} \\  1 \\ символ \\ {`1`} \\ \\& \\ 3 \\ символа \\ {`0`}$ \n",
    "\n",
    "$2^{52} + 2^{48} - 2^{4} \\ в \\ бинарной \\ системе: 1 \\ символ \\ {`1`} \\ \\& \\ 4 \\ символа \\ {`0`} \\ \\& \\ 44 \\ символа \\ {`1`} \\ \\& \\ 4 \\ символа \\ {`0`}$\n",
    "\n",
    "$2^{52} + 2^{48} - 2^{4} + 2^{0} \\ в \\ бинарной \\ системе: 1 \\ символ \\ {`1`} \\ \\& \\ 4 \\ символа \\ {`0`} \\ \\& \\ 44 \\ символа \\ {`1`} \\ \\& \\ 3 \\ символа \\ {`0`} \\ \\& \\ 1 \\ символ \\ {`1`}$\n",
    "\n",
    "---\n",
    "\n",
    "$2^{52} \\ in \\ the \\ binary \\ system: 1 \\ symbol \\ {`1`} \\ \\& \\ 51 \\ symbol \\ {`0`}$ \n",
    "\n",
    "$2^{48} \\ in \\ the \\ binary \\ system: 1 \\ symbol \\ {`1`} \\ \\& \\ 47 \\ symbol \\ {`0`}$ \n",
    "\n",
    "$2^{52} + 2^{48} \\ in \\ the \\ binary \\ system: 1 \\ symbol \\ {`1`} \\ \\& \\ 3 \\ symbol \\ {`0`} \\ \\& \\ 1 \\ symbol \\ {`1`} \\ \\& \\ 47 \\ symbol \\ {`0`}$\n",
    "\n",
    "$2^{4} \\ in \\ the \\ binary \\ system: 1 \\ symbol \\ {`1`} \\ \\& \\ 3 \\ symbol \\ {`0`}$ \n",
    "\n",
    "$2^{52} + 2^{48} - 2^{4} \\ in \\ the \\ binary \\ system: 1 \\ symbol \\ {`1`} \\ \\& \\ 4 \\ symbol \\ {`0`} \\ \\& \\ 44 \\ symbol \\ {`1`} \\ \\& \\ 4 \\ symbol \\ {`0`}$\n",
    "\n",
    "$2^{52} + 2^{48} - 2^{4} + 2^{0} \\ in \\ the \\ binary \\ system: 1 \\ symbol \\ {`1`} \\ \\& \\ 4 \\ symbol \\ {`0`} \\ \\& \\ 44 \\ symbol \\ {`1`} \\ \\& \\ 3 \\ symbol \\ {`0`} \\ \\& \\ 1 \\ symbol \\ {`1`}$"
   ]
  },
  {
   "cell_type": "code",
   "execution_count": 45,
   "metadata": {},
   "outputs": [
    {
     "name": "stdout",
     "output_type": "stream",
     "text": [
      "2**52                              10000000000000000000000000000000000000000000000000000 - in the binary system\n",
      "2**52 + 2**(16*3) =                10001000000000000000000000000000000000000000000000000 - in the binary system\n",
      "2**52 + 2**(16*3) - 2**4 =         10000111111111111111111111111111111111111111111110000 - in the binary system\n",
      "2**52 + 2**(16*3) - 2**4 + 2**0 =  10000111111111111111111111111111111111111111111110001 - in the binary system\n",
      "(array([0, 1]), array([ 7, 46])) - occurrences of the digits\n"
     ]
    }
   ],
   "source": [
    "import numpy\n",
    "print('2**52                             ', \n",
    "      bin(2**52)[2:], '- in the binary system')\n",
    "print('2**52 + 2**(16*3) =               ', \n",
    "      bin(2**52 + 2**(16*3))[2:], '- in the binary system')\n",
    "print('2**52 + 2**(16*3) - 2**4 =        ', \n",
    "      bin(2**52 + 2**(16*3) - 2**4)[2:], '- in the binary system')\n",
    "print('2**52 + 2**(16*3) - 2**4 + 2**0 = ', \n",
    "      bin(2**52 + 2**(16*3) - 2**4 + 2**0)[2:], '- in the binary system')\n",
    "\n",
    "bin_number_array = numpy.array(list(map(int, bin(8**16 + 2**52 - 15)[2:])))\n",
    "print(numpy.unique(bin_number_array, return_counts=True), '- occurrences of the digits')"
   ]
  },
  {
   "cell_type": "code",
   "execution_count": 46,
   "metadata": {},
   "outputs": [
    {
     "name": "stdout",
     "output_type": "stream",
     "text": [
      "\n",
      " Answer: 46\n"
     ]
    }
   ],
   "source": [
    "answer_dictionary[16]=str(numpy.unique(bin_number_array, return_counts=True)[1][1])\n",
    "print(\"\\n\",\"Answer:\",answer_dictionary[16])"
   ]
  },
  {
   "cell_type": "markdown",
   "metadata": {},
   "source": [
    "<div style=\"width: 800px; height: 500px; overflow:auto;\">\n",
    "    <img src=\"it_images/2017_01_17.png\" width=\"800\" height=\"500\"/>\n",
    "</div>\n",
    "В языке запросов к поисковому серверу для обозначения \n",
    "\n",
    "- логической операции $«ИЛИ»$ используется символ $\\mid$, \n",
    "- а для логической операции $«И»$ — $\\&$.\n",
    "\n",
    "В таблице приведено количество страниц, которое находит поисковая система по каждому запросу. \n",
    "\n",
    "Какое количество страниц (в тысячах) будет найдено этой поисковой системой по запросу $Авторучка \\& Линейка$?\n",
    "\n",
    "| $Запрос$ | $Количество \\; найденных \\; страниц \\; (в \\; тысячах)$ |\n",
    "|:-:|:-:|\n",
    "| $Query$ | $Number \\; of \\; pages \\; found$ |\n",
    "| $Авторучка \\; \\mid \\; Карандаш \\; \\mid \\; Линейка$ | $45$ |\n",
    "| $Линейка$ | $23$ |\n",
    "| $Карандаш$ | $18$ |\n",
    "| $Авторучка$ | $15$ |\n",
    "| $Карандаш \\; \\& \\; Линейка$ | $0$ |\n",
    "| $Авторучка \\; \\& \\; Карандаш$ | $8$ |\n",
    "\n",
    "In the query language to the search server, \n",
    "\n",
    "- the $\\mid$ symbol is used to indicate the logical operation $\"OR\"$, \n",
    "- and for the logical operation $\"AND\"$ - $\\&$.\n",
    "\n",
    "The table shows the number of pages that the search engine finds for each query. \n",
    "\n",
    "How many pages (in thousands) will this search engine find on the request $Авторучка \\& Линейка$?"
   ]
  },
  {
   "cell_type": "markdown",
   "metadata": {},
   "source": [
    "**Note: Pencil & Ruler = 0 => Pencil & Ruler & Pen = 0**\n",
    "\n",
    "`Pen & Ruler` = `Pencil` + `Ruler` + `Pen` - `Pencil | Ruler | Pen` + `Pencil & Ruler & Pen` - `Pencil & Ruler` - `Pencil & Pen`"
   ]
  },
  {
   "cell_type": "code",
   "execution_count": 47,
   "metadata": {},
   "outputs": [
    {
     "data": {
      "image/png": "[encoded data removed]",
      "text/plain": [
       "<matplotlib.figure.Figure at 0x104a9f898>"
      ]
     },
     "metadata": {},
     "output_type": "display_data"
    }
   ],
   "source": [
    "from matplotlib_venn import venn3\n",
    "\n",
    "pen_and_ruler = 23+18+15-45+0-0-8\n",
    "search_sets =[23-0-pen_and_ruler, 18-8-0, 0, 15-8-pen_and_ruler, pen_and_ruler, 8, 0]\n",
    "\n",
    "plt.figure(figsize=(12,9))\n",
    "v=venn3(subsets=search_sets, set_labels=('Линейка', 'Карандаш', 'Авторучка'))\n",
    "\n",
    "for text in v.set_labels:\n",
    "    text.set_fontsize(15)\n",
    "    \n",
    "plt.show()"
   ]
  },
  {
   "cell_type": "code",
   "execution_count": 48,
   "metadata": {},
   "outputs": [
    {
     "data": {
      "text/plain": [
       "45"
      ]
     },
     "execution_count": 48,
     "metadata": {},
     "output_type": "execute_result"
    }
   ],
   "source": [
    "sum(search_sets)"
   ]
  },
  {
   "cell_type": "code",
   "execution_count": 49,
   "metadata": {},
   "outputs": [
    {
     "name": "stdout",
     "output_type": "stream",
     "text": [
      "Answer: 3\n"
     ]
    }
   ],
   "source": [
    "answer_dictionary[17]=str(pen_and_ruler)\n",
    "print(\"Answer:\", answer_dictionary[17])"
   ]
  },
  {
   "cell_type": "markdown",
   "metadata": {},
   "source": [
    "<div style=\"width: 800px; height: 150px; overflow:auto;\">\n",
    "    <img src=\"it_images/2017_01_18.png\" width=\"800\" height=\"150\"/>\n",
    "</div>\n",
    "Обозначим через $ m \\ \\& \\ n $ поразрядную конъюнкцию неотрицательных целых чисел $m$ и $n$. \n",
    "\n",
    "Так, например, $14 \\ \\& \\ 5 = 1110_2 \\ \\& \\ 0101_2 = 0100_2 = 4$.\n",
    "\n",
    "Для какого наименьшего неотрицательного целого числа А формула \n",
    "\n",
    "$(x \\ \\& \\ A = 0 \\land x \\ \\& \\ 58 \\neq 0) \\to x \\ \\& \\ 34 \\neq 0$ \n",
    "\n",
    "тождественно истинна (то есть принимает значение 1 при любом неотрицательном целом значении переменной х)?\n",
    "\n",
    "---\n",
    "\n",
    "Let's denote by $ m \\ \\& \\ n $ the bitwise conjunction of non-negative integers $m$ and $n$. \n",
    "\n",
    "For example, $14 \\ \\& \\ 5 = 1110_2 \\ \\& \\ 0101_2 = 0100_2 = 4$.\n",
    "\n",
    "For what the smallest nonnegative integer A, the formula \n",
    "\n",
    "$(x \\ \\& \\ A = 0 \\land x \\ \\& \\ 58 \\neq 0) \\to x \\ \\& \\ 34 \\neq 0$ \n",
    "\n",
    "is identically true (that is, it takes the value 1 for any nonnegative integer value of the variable x)?"
   ]
  },
  {
   "cell_type": "code",
   "execution_count": 50,
   "metadata": {},
   "outputs": [
    {
     "data": {
      "text/plain": [
       "('111010', '100010')"
      ]
     },
     "execution_count": 50,
     "metadata": {},
     "output_type": "execute_result"
    }
   ],
   "source": [
    "bin(58)[2:], bin(34)[2:]"
   ]
  },
  {
   "cell_type": "markdown",
   "metadata": {},
   "source": [
    "| Обозначения | Denotements| \n",
    "|:-:|:-:|\n",
    "| \"И\" - истинное значение выражений | \"T\" is the true meaning of the expressions |\n",
    "| \"Л\" - ложное значение выражений | \"F\" is the false meaning of the expressions|\n",
    "| $\"*\"$ - последовательность цифр 0 или 1 (в том числе пустая) | $\"*\"$ - a sequence of several digits 0 or 1 (empty one  also can be) |\n",
    "| $\"?\"$ - одна цифра 1 или 0 | $\"?\"$ - one digit 1 or 0 |"
   ]
  },
  {
   "cell_type": "markdown",
   "metadata": {},
   "source": [
    "$(x \\ \\& \\ A = 0 \\land x \\ \\& \\ 58 \\neq 0) \\to x \\ \\& \\ 34 \\neq 0 \\ \\equiv И, \\; \\forall x$ в двух случаях:\n",
    "\n",
    "1) $x \\ \\& \\ A = 0 \\land x \\ \\& \\ 58 \\neq 0 \\equiv Л, \\; \\forall x$\n",
    "\n",
    "Для выполнения этого тождества достаточно взять число А = 58 (в бинарной системе: $111010_2$): \n",
    "\n",
    "$x \\ \\& \\ 58 = 0$ и $x \\ \\& \\ 58 \\neq 0$ противоречат друг другу $ \\implies x \\ \\& \\ 58 = 0 \\land x \\ \\& \\ 58 \\neq 0 \\equiv Л, \\; \\forall x$.\n",
    "\n",
    "Тождество будет верным для всех чисел $A$ вида $*111010_2$ в бинарной системе: \n",
    "\n",
    "$1111010_2$ (58 + 64 = 122), $10111010_2$ (58 + 128 = 186) и т.д.\n",
    "\n",
    "2) $(x \\ \\& \\ A = 0 \\land x \\ \\& \\ 58 \\neq 0 \\equiv И) \\land \\ (x \\ \\& \\ 34 \\neq 0 \\ \\equiv И), \\; \\forall x$\n",
    "\n",
    "$x \\ \\& \\ 58 \\neq 0 \\equiv И$ для тех чисел, которые в бинарной системе имеют вид: $1?????_2$; $?1????_2$; $??1???_2$; $????1?_2$ **(1)**.\n",
    "\n",
    "$x \\ \\& \\ 34 \\neq 0 \\equiv И$ для тех чисел, которые в бинарной системе имеют вид: $1?????_2$; $????1?_2$ **(2)**.\n",
    "\n",
    "Для того, чтобы **(1)** и **(2)** совпали, достаточно из первого множества исключить числа вида $?1????_2$; $??1???_2$, \n",
    "\n",
    "а значит это должны быть числа вида $?0????_2$; $??0???_2$.\n",
    "\n",
    "Осталось подобрать $А$ из $x \\ \\& \\ A = 0 \\equiv И$ так, чтобы ему удовлетворяли числа вида $?0????_2$; $??0???_2$ при $ \\forall x$.\n",
    "\n",
    "Для этого $А$ в бинарной системе должно принимать значения $*11???_2$. \n",
    "\n",
    "А значит, минимально возможное $А$ в бинарной системе равно $11000_2$ (или 24 - в десятичной системе).\n",
    "\n",
    "---\n",
    "\n",
    "$(x \\ \\& \\ A = 0 \\land x \\ \\& \\ 58 \\neq 0) \\to x \\ \\& \\ 34 \\neq 0 \\ \\equiv И, \\; \\forall x$ in two cases:\n",
    "\n",
    "1) $x \\ \\& \\ A = 0 \\land x \\ \\& \\ 58 \\neq 0 \\equiv Л, \\; \\forall x$\n",
    "\n",
    "To satisfy this logical equation it suffices to take the number A = 58 (in the binary system: $ 111010_2 $): \n",
    "\n",
    "$x \\ \\& \\ 58 = 0$ and $x \\ \\& \\ 58 \\neq 0$ contradict each other $\\implies x \\ \\& \\ 58 = 0 \\land x \\ \\& \\ 58 \\neq 0 \\equiv Л, \\; \\forall x$.\n",
    "\n",
    "The expression will be true for all numbers $A$ of the form $* 111010_2$ in a binary system: \n",
    "\n",
    "$1111010_2$ (58 + 64 = 122), $10111010_2$ (58 + 128 = 186), etc.\n",
    "\n",
    "2) $(x \\ \\& \\ A = 0 \\land x \\ \\& \\ 58 \\neq 0 \\equiv И) \\land \\ (x \\ \\& \\ 34 \\neq 0 \\ \\equiv И), \\; \\forall x$\n",
    "\n",
    "$x \\ \\& \\ 58 \\neq 0 \\equiv И$ for those numbers which in the binary system have the form: $1?????_2$; $?1????_2$; $??1???_2$; $????1?_2$ **(1)**.\n",
    "\n",
    "$x \\ \\& \\ 34 \\neq 0 \\equiv И$ for those numbers which in the binary system have the form: $1?????_2$; $????1?_2$ **(2)**.\n",
    "\n",
    "In order that **(1)** and **(2)** coincide, it suffices to exclude numbers of the form $?1????_2$; $??1???_2$ from the first set, \n",
    "\n",
    "and therefore it must be a number of the form $?0????_2$; $??0???_2$.\n",
    "\n",
    "It remains to choose $A$ from $x \\ \\& \\ A = 0 \\equiv T$ so that it satisfies numbers of the form $?0????_2$ and $??0???_2, \\;\\forall x$.\n",
    "\n",
    "For this, $A$ in the binary system must take the values $*11???_2$. \n",
    "\n",
    "So, the minimum possible $A$ in a binary system is $11000_2$ (or 24 - in the decimal system)."
   ]
  },
  {
   "cell_type": "code",
   "execution_count": 51,
   "metadata": {},
   "outputs": [
    {
     "name": "stdout",
     "output_type": "stream",
     "text": [
      "Answer: 24\n"
     ]
    }
   ],
   "source": [
    "answer_dictionary[18]=str(int('11000', 2))\n",
    "print(\"Answer:\", answer_dictionary[18])"
   ]
  },
  {
   "cell_type": "markdown",
   "metadata": {},
   "source": [
    "<div style=\"width: 800px; height: 600px; overflow:auto;\">\n",
    "    <img src=\"it_images/2017_01_19.png\" width=\"800\" height=\"600\"/>\n",
    "</div>\n",
    "В программе используется целочисленный массив А с индексами от 0 до 9. \n",
    "\n",
    "Значения элементов массива равны $4; 5; 4; 7; 6; 3; 9; 11; 7; 8$ соответственно, т.е. $А[0] = 4; А[1] = 5$ и т.д.\n",
    "\n",
    "Определите значение переменной $k$ после выполнения следующего фрагмента программы, \n",
    "\n",
    "записанной ниже на разных языках программирования.\n",
    "\n",
    "---\n",
    "\n",
    "The program uses an integer array A with indices from 0 to 9. \n",
    "\n",
    "The values of the array elements are $4; 5; 4; 7; 6; 3; 9; 11; 7; 8$ respectively, i.e. $А[0] = 4; А[1] = 5$, etc.\n",
    "\n",
    "Determine the value of the variable $k$ after the execution of the next program fragment, \n",
    "\n",
    "written down below in different programming languages."
   ]
  },
  {
   "cell_type": "code",
   "execution_count": 52,
   "metadata": {},
   "outputs": [
    {
     "name": "stdout",
     "output_type": "stream",
     "text": [
      "Answer: 9\n"
     ]
    }
   ],
   "source": [
    "A = numpy.array([4,5,4,7,6,3,9,11,7,8])\n",
    "k = 0\n",
    "\n",
    "for i in range(10): \n",
    "    if A[i] < A[9-i]:\n",
    "        k+=1\n",
    "        t=A[i]\n",
    "        A[i]=A[9-i]\n",
    "        A[9-i]=t\n",
    "        \n",
    "answer_dictionary[19]=str(k)\n",
    "print(\"Answer:\", answer_dictionary[19])"
   ]
  },
  {
   "cell_type": "markdown",
   "metadata": {},
   "source": [
    "<div style=\"width: 800px; height: 1100px; overflow:auto;\">\n",
    "    <img src=\"it_images/2017_01_20_1.png\" width=\"800\" height=\"500\"/>\n",
    "    <img src=\"it_images/2017_01_20_2.png\" width=\"800\" height=\"500\"/>\n",
    "</div>\n",
    "\n",
    "Ниже на четырёх языках записан алгоритм. \n",
    "\n",
    "Получив на вход число х, этот алгоритм печатает три числа К, М и L. \n",
    "\n",
    "Укажите наименьшее число х, при вводе которого алгоритм печатает сначала 3, потом 2, потом ещё 2.\n",
    "\n",
    "---\n",
    "\n",
    "Below, in four languages, an algorithm is written. \n",
    "\n",
    "Having received the number x on the input, this algorithm prints the three numbers K, M and L. \n",
    "\n",
    "Indicate the smallest number of x, at the input of which the algorithm prints at first 3, then 2, then 2 more."
   ]
  },
  {
   "cell_type": "code",
   "execution_count": 55,
   "metadata": {},
   "outputs": [
    {
     "name": "stdout",
     "output_type": "stream",
     "text": [
      "(K,L,M)==(3,2,2) for x = 159\n"
     ]
    }
   ],
   "source": [
    "for x in range(50, 200, 1): \n",
    "    x0 = x\n",
    "    K, L, M = 0, 0, 0\n",
    "    while x > 0:\n",
    "        y = int(x % 10)\n",
    "        K+=1\n",
    "        if y >= 5:\n",
    "            L+=1\n",
    "        if y <= 8:\n",
    "            M+=1\n",
    "        x=int(x/10)\n",
    "    \n",
    "    if (K,L,M)==(3,2,2):\n",
    "        print('(K,L,M)==(3,2,2) for x =',x0)\n",
    "        break"
   ]
  },
  {
   "cell_type": "markdown",
   "metadata": {},
   "source": [
    "Числа, для которых будет напечатано 3 2 2:\n",
    "\n",
    "- трехзначные (K = 3);\n",
    "- две цифры меньше или равны 8 (M = 2): третья цифра должна быть больше 8 (равна 9);\n",
    "- две цифры больше или равны 5 (L = 2): одна из них уже определена - 9, минимально возможная другая - 5;\n",
    "- первая цифра - 1: число будет наименьшим. \n",
    "\n",
    "Искомое число - 159.\n",
    "\n",
    "--- \n",
    "\n",
    "The numbers for which will be printed 3 2 2:\n",
    "\n",
    "- three-digit (K = 3);\n",
    "- two digits less than or equal to 8 (M = 2): the third digit must be greater than 8 (equal to 9);\n",
    "- two digits greater than or equal to 5 (L = 2): one of them is already defined - 9, the lowest possible another - 5;\n",
    "- the first digit is 1: the number will be the smallest.\n",
    "\n",
    "The required number is 159."
   ]
  },
  {
   "cell_type": "code",
   "execution_count": 59,
   "metadata": {},
   "outputs": [
    {
     "name": "stdout",
     "output_type": "stream",
     "text": [
      "159\n",
      "3 2 2\n"
     ]
    }
   ],
   "source": [
    "K, L, M = 0, 0, 0\n",
    "x = int(input())\n",
    "while x > 0:\n",
    "    y = int(x % 10)\n",
    "    K += 1\n",
    "    if y >= 5:\n",
    "        L+=1\n",
    "    if y <= 8:\n",
    "        M+=1\n",
    "    x=int(x/10)\n",
    "    \n",
    "print(K,L,M)"
   ]
  },
  {
   "cell_type": "code",
   "execution_count": 56,
   "metadata": {},
   "outputs": [
    {
     "name": "stdout",
     "output_type": "stream",
     "text": [
      "Answer: 159\n"
     ]
    }
   ],
   "source": [
    "answer_dictionary[20]=str(x0)\n",
    "print(\"Answer:\", answer_dictionary[20])"
   ]
  },
  {
   "cell_type": "markdown",
   "metadata": {},
   "source": [
    "<div style=\"width: 800px; height: 950px; overflow:auto;\">\n",
    "    <img src=\"it_images/2017_01_21_1.png\" width=\"800\" height=\"470\"/>\n",
    "    <img src=\"it_images/2017_01_21_2.png\" width=\"800\" height=\"470\"/>\n",
    "</div>\n",
    "\n",
    "Ниже на четырёх языках представлен алгоритм. \n",
    "\n",
    "Напишите в ответе число различных значений входной переменной $k$, \n",
    "\n",
    "при которых алгоритм выдаёт тот же ответ, что и при входном значении $k = 40$. \n",
    "\n",
    "Значение $k = 40$ также включается в подсчёт различных значений $k$.\n",
    "\n",
    "---\n",
    "\n",
    "The algorithm is presented in four languages below. \n",
    "\n",
    "Write in the answer the number of different values of the input variable $k$, \n",
    "\n",
    "under which the algorithm produces the same response as the input value $k = 40$. \n",
    "\n",
    "The value $k = 40$ is also included in the calculation of the different values of $k$."
   ]
  },
  {
   "cell_type": "code",
   "execution_count": 60,
   "metadata": {},
   "outputs": [
    {
     "name": "stdout",
     "output_type": "stream",
     "text": [
      "k = 30 ; i = 5\n",
      "k = 31 ; i = 5\n",
      "k = 32 ; i = 5\n",
      "k = 33 ; i = 5\n",
      "k = 34 ; i-1 = 5\n",
      "k = 35 ; i-1 = 5\n",
      "k = 36 ; i-1 = 5\n",
      "k = 37 ; i-1 = 5\n",
      "k = 38 ; i-1 = 5\n",
      "k = 39 ; i = 6\n",
      "k = 40 ; i = 6\n",
      "k = 41 ; i = 6\n",
      "k = 42 ; i = 6\n",
      "k = 43 ; i = 6\n",
      "k = 44 ; i = 6\n",
      "k = 45 ; i-1 = 6\n",
      "k = 46 ; i-1 = 6\n",
      "k = 47 ; i-1 = 6\n",
      "k = 48 ; i-1 = 6\n",
      "k = 49 ; i-1 = 6\n",
      "k = 50 ; i-1 = 6\n",
      "k = 51 ; i = 7\n",
      "k = 52 ; i = 7\n",
      "k = 53 ; i = 7\n",
      "k = 54 ; i = 7\n",
      "k = 55 ; i = 7\n",
      "k = 56 ; i = 7\n",
      "k = 57 ; i = 7\n",
      "k = 58 ; i-1 = 7\n",
      "k = 59 ; i-1 = 7\n"
     ]
    }
   ],
   "source": [
    "def F(n): return int(n**2+8)\n",
    "\n",
    "for k in range(30,60):\n",
    "    i = 0\n",
    "    while F(i) < k:\n",
    "        i += 1\n",
    "    if F(i) + F(i-1) < 2 * k:\n",
    "        print('k =', k, '; i =', i)\n",
    "    else:\n",
    "        print('k =', k, '; i-1 =', i-1)"
   ]
  },
  {
   "cell_type": "markdown",
   "metadata": {},
   "source": [
    "1) \n",
    "\n",
    "Рассмотрим, какое число будет выведено при $k=40$. \n",
    "\n",
    "Программа последовательно перебирает все целые неотрицательные числа $i$ пока они удовлетворяют неравенству: \n",
    "\n",
    "$i*i + 8 < 40 \\iff i^2 < 32$. \n",
    "\n",
    "Последним в этом ряду является число $5$. \n",
    "\n",
    "Далее проверяется выполнение неравенства $(i+1)*(i+1) + 8 + i*i + 8 < 2 * 40 \\iff (i+1)^2 + i^2 < 64$. \n",
    "\n",
    "Для $5$ оно выполняется, значит итоговое значение $i$, которое программа выдаст в качестве результата, становится равным $6$.\n",
    "\n",
    "2) \n",
    "\n",
    "Осталось определить, для скольких чисел $k$ в результате выполнения программы также будет напечатано $6$. \n",
    "\n",
    "   - 1-й случай: максимальное i до выполнения команд цикла равно 5.\n",
    "   \n",
    "      - Тогда $i*i + 8 < k$, $(i+1)*(i+1) + 8 + i*i + 8 < 2*k$ <=> $i*i < k - 8$, $(i+1)*(i+1) + i*i < 2*k - 16$  \n",
    "      \n",
    "        должны выполняться для $i=5$ и не выполняться для $i=6$.\n",
    "        \n",
    "      - $5*5 < k - 8$, $(5+1)*(5+1) + 5*5 < 2*k - 16$ <=> $k > 31$, $ k > 38$\n",
    "      \n",
    "      - $6*6 >= k - 8$, $(6+1)*(6+1) + 6*6 >= 2*k - 16$ <=> $k <= 44$, $ k <= 50.5$\n",
    "      \n",
    "      - Учитывая все ограничения для $k$, получим: $38 < k <= 44$.\n",
    "      \n",
    "      - В указанном промежутке всего 6 целых чисел: 39, 40, 41, 42, 43, 44.\n",
    "   \n",
    "   - 2-й случай: максимальное i до выполнения команд цикла равно 6.\n",
    "   \n",
    "      - Тогда $i*i + 8 < k$, $(i+1)*(i+1) + 8 + i*i + 8 >= 2*k$ <=> $i*i < k - 8$, $(i+1)*(i+1) + i*i >= 2*k - 16$\n",
    "      \n",
    "        должны выполняться для $i=6$ и не выполняться для $i=7$.\n",
    "        \n",
    "      - $6*6 < k - 8$, $(6+1)*(6+1) + 6*6 >= 2*k - 16$ <=> $k > 44$, $k <= 50.5$\n",
    "      \n",
    "      - $7*7 >= k - 8$, $(7+1)*(7+1) + 7*7 < 2*k - 16$ <=> $k <= 57$, $k > 64.5$\n",
    "      \n",
    "      - Учитывая все ограничения для $k$, получим: $44 < k <= 50.5$.\n",
    "      \n",
    "      - В указанном промежутке всего 6 целых чисел: 45, 46, 47, 48, 49, 50.\n",
    "     \n",
    "3) \n",
    "\n",
    "Общее количество чисел $k$ равно 12: 39, 40, 41, 42, 43, 44, 45, 46, 47, 48, 49, 50.\n",
    "\n",
    "---\n",
    "\n",
    "1) \n",
    "\n",
    "Let's consider, what number will be deduced at $k = 40$. \n",
    "\n",
    "The program sequentially searches for all nonnegative integers $i$ as long as they satisfy the inequality: \n",
    "\n",
    "$i*i + 8 < 40 \\iff i^2 < 32$. \n",
    "\n",
    "The last in this series is the number $5$. \n",
    "\n",
    "Then it verifies the validity of inequality: $(i+1)*(i+1) + 8 + i*i + 8 < 2 * 40 \\iff (i+1)^2 + i^2 < 64$. \n",
    "\n",
    "For $5$ it is true, then the total value $i$, which the program will return, as a result, becomes $6$.\n",
    "\n",
    "2) \n",
    "\n",
    "It remains to determine for how many $k$ numbers the program will also print $6$. \n",
    "\n",
    "   - 1st case: the maximum i before executing the cycle commands is 5.\n",
    "   \n",
    "      - Then $i*i + 8 < k$, $(i+1)*(i+1) + 8 + i*i + 8 < 2*k$ <=> $i*i < k - 8$, $(i+1)*(i+1) + i*i < 2*k - 16$ \n",
    "      \n",
    "        should be true for $i=5$ and should not be true for $i=6$.\n",
    "      \n",
    "      - $5*5 < k - 8$, $(5+1)*(5+1) + 5*5 < 2*k - 16$ <=> $k > 31$, $ k > 38$\n",
    "      \n",
    "      - $6*6 >= k - 8$, $(6+1)*(6+1) + 6*6 >= 2*k - 16$ <=> $k <= 44$, $ k <= 50.5$\n",
    "      \n",
    "      - Taking into account all the constraints for $k$: $38 < k <= 44$.\n",
    "      \n",
    "      - In this case, we have 6 values: 39, 40, 41, 42, 43, 44.\n",
    "   \n",
    "   - 2nd case: the maximum i before executing the cycle commands is 6.\n",
    "   \n",
    "      - Then $i*i + 8 < k$, $(i+1)*(i+1) + 8 + i*i + 8 >= 2*k$ => $i*i < k - 8$, $(i+1)*(i+1) + i*i >= 2*k - 16$ \n",
    "     \n",
    "        should be true for $i=6$ and should not be true for $i=7$.\n",
    "     \n",
    "      - $6*6 < k - 8$, $(6+1)*(6+1) + 6*6 >= 2*k - 16$ => $k > 44$, $k <= 50.5$\n",
    "     \n",
    "      - $7*7 >= k - 8$, $(7+1)*(7+1) + 7*7 < 2*k - 16$ => $k <= 57$, $k > 64.5$\n",
    "     \n",
    "      - Taking into account all the constraints for $k$: $44 < k <= 50.5$.\n",
    "     \n",
    "      - In this case, we have 6 values: 45, 46, 47, 48, 49, 50.\n",
    "     \n",
    "3) \n",
    "\n",
    "In general, there are 12 $k$ values: 39, 40, 41, 42, 43, 44, 45, 46, 47, 48, 49, 50."
   ]
  },
  {
   "cell_type": "code",
   "execution_count": 63,
   "metadata": {},
   "outputs": [
    {
     "name": "stdout",
     "output_type": "stream",
     "text": [
      "50\n",
      "6\n"
     ]
    }
   ],
   "source": [
    "def F(n): return int(n**2+8)\n",
    "k = int(input())\n",
    "i = 0\n",
    "\n",
    "while F(i) < k:\n",
    "    i += 1\n",
    "if F(i) + F(i-1) < 2 * k:\n",
    "    print(i)\n",
    "else:\n",
    "    print(i-1)"
   ]
  },
  {
   "cell_type": "code",
   "execution_count": 58,
   "metadata": {},
   "outputs": [
    {
     "name": "stdout",
     "output_type": "stream",
     "text": [
      "Answer: 12\n"
     ]
    }
   ],
   "source": [
    "answer_dictionary[21]=str(12)\n",
    "print(\"Answer:\", answer_dictionary[21])"
   ]
  },
  {
   "cell_type": "markdown",
   "metadata": {},
   "source": [
    "<div style=\"width: 800px; height: 450px; overflow:auto;\">\n",
    "    <img src=\"it_images/2017_01_22.png\" width=\"800\" height=\"450\"/>\n",
    "</div>\n",
    "Исполнитель `Июнь 15` преобразует число на экране.\n",
    "\n",
    "У исполнителя есть две команды, которым присвоены номера:\n",
    "\n",
    "1. `Прибавить 1`\n",
    "\n",
    "2. `Умножить на 2`\n",
    "\n",
    "Первая команда увеличивает число на экране на 1, вторая умножает его на 2.\n",
    "\n",
    "Программа для исполнителя `Июнь 15` — это последовательность команд.\n",
    "\n",
    "Сколько существует программ, для которых при исходном числе 2 результатом является число 34 и при этом траектория вычислений содержит число 12?\n",
    "\n",
    "Траектория вычислений программы — это последовательность результатов выполнения всех команд программы. \n",
    "\n",
    "Например, для программы 121 при исходном числе 7 траектория будет состоять из чисел 8, 16, 17.\n",
    "\n",
    "---\n",
    "\n",
    "The robot `June-15` converts the number on the screen. The robot has two assigned commands:\n",
    "\n",
    "1. `Add 1`\n",
    "\n",
    "2. `Multiply by 2`\n",
    "\n",
    "The first command increases the number on the screen by 1, the second one multiplies it by 2. \n",
    "\n",
    "The program for the performer `June-15` is a sequence of commands.\n",
    "\n",
    "How many programs exist for which the original number 2 results in the number of 34 and the calculation path contains the number 12?\n",
    "\n",
    "The program's calculation path is a sequence of the execution results for all program commands. \n",
    "\n",
    "For example, for the program 121 with the original number 7, the trajectory will consist of the numbers 8, 16, 17."
   ]
  },
  {
   "cell_type": "code",
   "execution_count": 66,
   "metadata": {},
   "outputs": [
    {
     "data": {
      "image/png": "[encoded data removed]",
      "text/plain": [
       "<matplotlib.figure.Figure at 0x109d28160>"
      ]
     },
     "metadata": {},
     "output_type": "display_data"
    }
   ],
   "source": [
    "import pydot\n",
    "from networkx.drawing.nx_pydot import graphviz_layout\n",
    "\n",
    "G3 = nx.balanced_tree(2, 4)\n",
    "pos = graphviz_layout(G3, prog='twopi', args='')\n",
    "\n",
    "plt.figure(figsize=(18, 9))\n",
    "node_labels={0:2, 1:3, 2:4, 3:4, 4:6, 5:5, 6:8, 7:5, \n",
    "             8:8, 9:7, 10:12, 11:6, 12:10, 13:9, 14:16,\n",
    "             15:6, 16:10, 17:9, 18:16, 19:8, 20:14, 21:13, 22:24, \n",
    "             23:7, 24:12, 25:11, 26:20, 27:10, 28:18, 29:17, 30:32}\n",
    "edge_labels={(0,1):'+1', (0,2):'*2', (1,3):'+1', (1,4):'*2', (2,5):'+1', (2,6):'*2', \n",
    "             (3,7):'+1', (3,8):'*2', (4,9):'+1', (4,10):'*2', (5,11):'+1', (5,12):'*2', \n",
    "             (6,13):'+1', (6,14):'*2', (7,15):'+1', (7,16):'*2', (8,17):'+1', (8,18):'*2', \n",
    "             (9,19):'+1', (9,20):'*2', (10,21):'+1', (10,22):'*2', (11,23):'+1', (11,24):'*2', \n",
    "             (12,25):'+1', (12,26):'*2', (13,27):'+1', (13,28):'*2', (14,29):'+1', (14,30):'*2'}\n",
    "\n",
    "nx.draw(G3, pos, node_size=1500, alpha=0.7, node_color=\"steelblue\")\n",
    "nx.draw_networkx_labels(G3, pos, node_labels, font_size=25, font_weight='bold')\n",
    "nx.draw_networkx_edge_labels(G3, pos, edge_labels, font_size=25, font_weight='bold')\n",
    "plt.axis('equal')\n",
    "plt.show()"
   ]
  },
  {
   "cell_type": "markdown",
   "metadata": {},
   "source": [
    "`2 -> 12: 10 траекторий / tracks`\n",
    "\n",
    "1) $[2,3,4,5,6,7,8,9,10,11,12] - [1, 1, 1, 1, 1, 1, 1, 1, 1, 1]$\n",
    "\n",
    "2) $[2,3,4,5,6,12] - [1, 1, 1, 1, 2]$\n",
    "\n",
    "3) $[2,3,4,5,10,11,12] - [1, 1, 1, 2, 1, 1]$\n",
    "\n",
    "4) $[2,3,4,8,9,10,11,12] - [1, 1, 2, 1, 1, 1, 1]$\n",
    "\n",
    "5) $[2,3,6,7,8,9,10,11,12] - [1, 2, 1, 1, 1, 1, 1, 1]$\n",
    "\n",
    "6) $[2,4,5,6,7,8,9,10,11,12] - [2, 1, 1, 1, 1, 1, 1, 1, 1]$\n",
    "\n",
    "7) $[2,4,5,6,12] - [2, 1, 1, 2]$\n",
    "\n",
    "8) $[2,4,5,10,11,12] - [2, 1, 2, 1, 1]$\n",
    "\n",
    "9) $[2,4,8,9,10,11,12] - [2, 2, 1, 1, 1, 1]$\n",
    "\n",
    "10) $[2,3,6,12] - [1, 2, 2]$\n",
    "\n",
    "---\n",
    "\n",
    "`12 -> 34:  7 траекторий / tracks`\n",
    "\n",
    "1) $[12,13,14,15,16,17,18,19,20,21,22,23,24,25,26,27,28,29,30,31,32,33,34] - [1, 1, 1, 1, 1, 1, 1, 1, 1, 1, 1, 1, 1, 1, 1, 1, 1, 1, 1, 1, 1, 1]$\n",
    "\n",
    "2) $[12,13,14,15,16,17,34] - [1, 1, 1, 1, 1, 2]$\n",
    "\n",
    "3) $[12,13,14,15,16,32,33,34] - [1, 1, 1, 1, 2, 1, 1]$\n",
    "\n",
    "4) $[12,13,14,15,30,31,32,33,34] - [1, 1, 1, 2, 1, 1, 1, 1]$\n",
    "\n",
    "5) $[12,13,14,28,29,30,31,32,33,34] - [1, 1, 2, 1, 1, 1, 1, 1, 1]$\n",
    "\n",
    "6) $[12,13,26,27,28,29,30,31,32,33,34] - [1, 2, 1, 1, 1, 1, 1, 1, 1, 1]$\n",
    "\n",
    "7) $[12,24,25,26,27,28,29,30,31,32,33,34] - [2, 1, 1, 1, 1, 1, 1, 1, 1, 1, 1]$\n",
    "\n",
    "---\n",
    "\n",
    "`10 x 7  = 70 программ / programs`\n",
    "\n",
    "Например / For example:\n",
    "\n",
    "$[2,3,6,12,24,25,26,27,28,29,30,31,32,33,34] - [1, 2, 2, 2, 1, 1, 1, 1, 1, 1, 1, 1, 1, 1]$"
   ]
  },
  {
   "cell_type": "code",
   "execution_count": 65,
   "metadata": {},
   "outputs": [
    {
     "name": "stdout",
     "output_type": "stream",
     "text": [
      "Answer: 70\n"
     ]
    }
   ],
   "source": [
    "answer_dictionary[22]=str(10*7)\n",
    "print(\"Answer:\", answer_dictionary[22])"
   ]
  },
  {
   "cell_type": "markdown",
   "metadata": {},
   "source": [
    "<div style=\"width: 800px; height: 250px; overflow:auto;\">\n",
    "    <img src=\"it_images/2017_01_23.png\" width=\"800\" height=\"250\"/>\n",
    "</div>\n",
    "\n",
    "Сколько существует различных наборов значений логических переменных $x_1, х_2, ... x_9, х_{10}$, \n",
    "\n",
    "которые удовлетворяют всем перечисленным ниже условиям?\n",
    "\n",
    "How many different sets of Boolean variables $x_1, х_2, ... x_9, х_{10}$ exist \n",
    "\n",
    "that satisfy all of the following conditions?\n",
    "\n",
    "$(x_1 \\equiv x_2) \\lor ((x_3 \\land x_4) \\lor (\\neg x_3 \\land \\neg x_4)) = 1$\n",
    "\n",
    "$(x_3 \\equiv x_4) \\land ((x_5 \\land x_6) \\lor (\\neg x_5 \\land \\neg x_6)) = 0$\n",
    "\n",
    "$(x_5 \\equiv x_6) \\lor ((x_7 \\land x_8) \\lor (\\neg x_7 \\land \\neg x_8)) = 1$\n",
    "\n",
    "$(x_7 \\equiv x_8) \\land ((x_9 \\land x_{10}) \\lor (\\neg x_9 \\land \\neg x_{10})) = 0$ \n",
    "\n",
    "В ответе не нужно перечислять все различные наборы значений $x_1, х_2, ... x_9, х_{10}$, при которых выполнена данная система равенств.\n",
    "\n",
    "В качестве ответа вам нужно указать количество таких наборов.\n",
    "\n",
    "The answer does not need to list all the different sets of values $x_1, х_2, ... x_9, х_{10}$ under which this system of equations is satisfied. \n",
    "\n",
    "As an answer, you need to specify only the number of such sets."
   ]
  },
  {
   "cell_type": "markdown",
   "metadata": {},
   "source": [
    "1) Упростим систему логических уравнений. / Let's simplify the logical equations.\n",
    "\n",
    "$ (x_1 \\equiv x_2) \\lor ((x_3 \\land x_4) \\lor (\\neg x_3 \\land \\neg x_4)) \\iff (x_1 \\equiv x_2) \\lor ((x_3 \\land x_4) \\lor \\neg (x_3 \\lor x_4)) \\iff (x_1 \\equiv x_2) \\lor ( \\neg \\neg (x_3 \\land x_4) \\lor \\neg (x_3 \\lor x_4)) \\iff$ \n",
    "\n",
    "$ \\iff (x_1 \\equiv x_2) \\lor (\\neg (x_3 \\land x_4) \\to \\neg (x_3 \\lor x_4)) \\iff (x_1 \\equiv x_2) \\lor ((x_3 \\lor x_4) \\to (x_3 \\land x_4)) \\iff (x_1 \\equiv x_2) \\lor (x_3 \\equiv x_4) $\n",
    "\n",
    "2)  Система будет иметь вид: / The system of equations will be:\n",
    "\n",
    "- $(x_1 \\equiv x_2) \\lor (x_3 \\equiv x_4) = 1$ **(1)**\n",
    "- $(x_3 \\equiv x_4) \\land (x_5 \\equiv x_6) = 0$ **(2)**\n",
    "- $(x_5 \\equiv x_6) \\lor (x_7 \\equiv x_8) = 1$ **(3)**\n",
    "- $(x_7 \\equiv x_8) \\land (x_9 \\equiv x_{10}) = 0$ **(4)**\n",
    "\n",
    "3) Количество бинарных комбинаций из 10 цифр: / The number of binary combinations from 10 digits: \n",
    "\n",
    "- $2^{10} = 1024$.\n",
    "\n",
    "4) Исключаем случаи: / Let's exclude cases:\n",
    "\n",
    "   - $(x_1 \\equiv x_2) \\lor (x_3 \\equiv x_4) = 0$ \n",
    "     - $(x_1, x_2, x_3, x_4): (0,1,0,1), (0,1,1,0), (1,0,0,1), (1,0,1,0)$\n",
    "     - другие 6 переменных могут иметь любое возможное значение: $2^6$ вариантов\n",
    "     - other 6 variables can have any possible value: $2^6$ combinations\n",
    "     - всего исключается $4 * 2^6$ наборов     \n",
    "     - so $4 * 2^6$ variable sets\n",
    "   - $(x_5 \\equiv x_6) \\lor (x_7 \\equiv x_8) = 0$ \n",
    "     - другие 6 переменных могут иметь любое возможное значение: $2^6$ вариантов\n",
    "     - other 6 variables can have any possible value: $2^6$ combinations\n",
    "     - всего исключается $4 * 2^6$ наборов     \n",
    "     - so $4 * 2^6$ variable sets  \n",
    "\n",
    "5) \n",
    "\n",
    "Множества $(x_1, x_2, x_3, x_4, x_5, x_6, x_7, x_8)$ вида (0,1,0,1,0,1,0,1) были исключены дважды. \n",
    "\n",
    "Значит мы должны добавить их количество $4 * 4 * 2^2$ снова.\n",
    "\n",
    "Sets $(x_1, x_2, x_3, x_4, x_5, x_6, x_7, x_8)$ like (0,1,0,1,0,1,0,1) were excluded twice. \n",
    "\n",
    "So we should add them again $4 * 4 * 2^2$ variants.\n",
    "\n",
    "6) Исключаем случаи: /Let's exclude cases:\n",
    "\n",
    "   - $(x_3 \\equiv x_4) \\land (x_5 \\equiv x_6) = 1$ \n",
    "     - $(x_3, x_4, x_5, x_6): (0,0,0,0), (0,0,1,1), (1,1,0,0), (1,1,1,1)$\n",
    "     - другие 6 переменных могут иметь любое возможное значение: $2^6$ вариантов\n",
    "     - other 6 variables can have any possible value: $2^6$ combinations\n",
    "     - всего исключается $4 * 2^6$ наборов     \n",
    "     - so $4 * 2^6$ variable sets\n",
    "   - $(x_7 \\equiv x_8) \\land (x_9 \\equiv x_{10}) = 1$ \n",
    "     - $(x_7, x_8, x_9, x_{10}): (0,0,0,0), (0,0,1,1), (1,1,0,0), (1,1,1,1)$\n",
    "     - другие 6 переменных могут иметь любое возможное значение: $2^6$ вариантов\n",
    "     - other 6 variables can have any possible value: $2^6$ combinations\n",
    "     - всего исключается $4 * 2^6$ наборов     \n",
    "     - so $4 * 2^6$ variable sets\n",
    "     \n",
    "7) \n",
    "\n",
    "Множества $(x_3, x_4, x_5, x_6, x_7, x_8, x_9, x_{10})$ вида (0,0,1,1,0,0,1,1) были исключены дважды. \n",
    "\n",
    "Значит мы должны добавить их количество $4 * 4 * 2^2$ снова.\n",
    "\n",
    "Sets $(x_3, x_4, x_5, x_6, x_7, x_8, x_9, x_{10})$ like (0,0,1,1,0,0,1,1) were excluded twice. \n",
    "\n",
    "So we should add them again: $4 * 4 * 2^2$ variants.\n",
    "\n",
    "8) \n",
    "\n",
    "Множества $(x_1, x_2, x_3, x_4, ..., ..., x_7, x_8, x_9, x_{10})$ вида (0,1,0,1,...,...,0,0,0,0) были исключены дважды. \n",
    "\n",
    "Значит мы должны добавить их количество $4 * 4 * 2^2$ снова. \n",
    "\n",
    "$x_5, x_6$ в этих наборах могут иметь любое возможное значение (0,0),(0,1),(1,0),(1,1).\n",
    "\n",
    "Sets $(x_1, x_2, x_3, x_4, ..., ..., x_7, x_8, x_9, x_{10})$ like (0,1,0,1,...,....,0,0,0,0) were excluded twice. \n",
    "\n",
    "So we should add them again: $4 * 4 * 2^2$ variants.\n",
    "\n",
    "$x_5, x_6$ can have any possible value (0,0),(0,1),(1,0),(1,1)."
   ]
  },
  {
   "cell_type": "code",
   "execution_count": 71,
   "metadata": {},
   "outputs": [
    {
     "data": {
      "text/plain": [
       "192"
      ]
     },
     "execution_count": 71,
     "metadata": {},
     "output_type": "execute_result"
    }
   ],
   "source": [
    "2**10 - 4 * 2 ** 6 - 4 * 2 ** 6 + 4 * 4 * 2**2 - 4 * 2 ** 6 - 4 * 2 ** 6 + 4 * 4 * 2**2 + 4 * 4 * 2**2"
   ]
  },
  {
   "cell_type": "code",
   "execution_count": 69,
   "metadata": {},
   "outputs": [
    {
     "name": "stdout",
     "output_type": "stream",
     "text": [
      "Answer: 192\n"
     ]
    }
   ],
   "source": [
    "# check the decision method\n",
    "import itertools\n",
    "n = 10\n",
    "binary_combinations = numpy.array(list(itertools.product([0, 1], repeat=n)))\n",
    "result = []\n",
    "\n",
    "for el in binary_combinations:\n",
    "    \n",
    "    e1 = bool( (el[0] == el[1]) or ( (el[2] and el[3]) or ((not el[2]) and (not el[3]) ) ) ) \n",
    "    \n",
    "    e2 = bool( (el[2] == el[3]) and ( (el[4] and el[5]) or ((not el[4]) and (not el[5]) ) ) ) \n",
    "    \n",
    "    e3 = bool( (el[4] == el[5]) or ( (el[6] and el[7]) or ((not el[6]) and (not el[7]) ) ) )\n",
    "    \n",
    "    e4 = bool( (el[6] == el[7]) and ( (el[8] and el[9]) or ((not el[8]) and (not el[9]) ) ) )\n",
    "\n",
    "    result.append((e1 == 1)and (e2 == 0) and (e3 == 1) and (e4 == 0))\n",
    "\n",
    "\n",
    "answer_dictionary[23]=str(sum(result))\n",
    "print(\"Answer:\", answer_dictionary[23])"
   ]
  },
  {
   "cell_type": "markdown",
   "metadata": {},
   "source": [
    "## Часть 2 &nbsp; &nbsp; &nbsp; Part 2"
   ]
  },
  {
   "cell_type": "markdown",
   "metadata": {},
   "source": [
    "<div style=\"width: 800px; height: 1200px; overflow:auto;\">\n",
    "    <img src=\"it_images/2017_01_24_1.png\" width=\"800\" height=\"500\"/>\n",
    "    <img src=\"it_images/2017_01_24_2.png\" width=\"800\" height=\"700\"/>\n",
    "</div>\n",
    "\n",
    "Требовалось написать программу, которая вводит с клавиатуры последовательность из n целых чисел (n = 4), и выводит на экран минимальное положительное число этой последовательности. Если в последовательности нет положительных чисел, программа должна вывести на экран «NO». Известно, что вводимые числа не превышают по модулю 1000. Программист торопился и написал программу неправильно.\n",
    "\n",
    "Выполните следующие действия:\n",
    "\n",
    "1. Напишите, что выведет программа при вводе чисел -1 -2 -3 -4.\n",
    "\n",
    "2. Приведите пример такой входной последовательности, при которой программа работает верно.\n",
    "\n",
    "3. Укажите все ошибки в программе и исправьте их. Для этого для каждой ошибки: выпишите строку, которая написана неправильно и приведите правильный вариант строки.\n",
    "\n",
    "---\n",
    "\n",
    "It was required to write a program that enters from the keyboard a sequence of n integers (n = 4) and displays the minimal positive number of this sequence. If there are no positive numbers in the sequence, the program should display \"NO\". It is known that the input numbers do not exceed 1000  by the modulus. The programmer was in a hurry and wrote the program incorrectly.\n",
    "\n",
    "Do the following:\n",
    "\n",
    "1. Write what the program will output when you enter numbers -1 -2 -3 -4.\n",
    "\n",
    "2. Give an example of such an input sequence, in which the program works correctly.\n",
    "\n",
    "3. Specify all errors in the program and correct them. To do this, for each error: write out the line that was written incorrectly and give the correct version of the line."
   ]
  },
  {
   "cell_type": "code",
   "execution_count": 70,
   "metadata": {},
   "outputs": [
    {
     "name": "stdout",
     "output_type": "stream",
     "text": [
      "Create a sequence of 4 natural numbers: \n",
      "Enter the number -1\n",
      "Enter the number -2\n",
      "Enter the number -3\n",
      "Enter the number -4\n",
      "2000\n"
     ]
    }
   ],
   "source": [
    "# The wrong variant - the wrong answer\n",
    "print(\"Create a sequence of 4 natural numbers: \")\n",
    "\n",
    "N, MIN = 4, 2000\n",
    "\n",
    "for I in range(N):\n",
    "    \n",
    "    A = int(input(\"Enter the number \"))\n",
    " \n",
    "    if A > 0:\n",
    "        if A < MIN:\n",
    "            MIN = A\n",
    "if MIN > 0:\n",
    "    print(MIN)\n",
    "else:\n",
    "    print(0)"
   ]
  },
  {
   "cell_type": "code",
   "execution_count": 71,
   "metadata": {},
   "outputs": [],
   "source": [
    "answer1 = str(2000)"
   ]
  },
  {
   "cell_type": "code",
   "execution_count": 72,
   "metadata": {},
   "outputs": [
    {
     "name": "stdout",
     "output_type": "stream",
     "text": [
      "Create a sequence of 4 natural numbers: \n",
      "Enter the number 1\n",
      "Enter the number 2\n",
      "Enter the number 3\n",
      "Enter the number 4\n",
      "1\n"
     ]
    }
   ],
   "source": [
    "# The wrong variant - the right answer\n",
    "print(\"Create a sequence of 4 natural numbers: \")\n",
    "\n",
    "N, MIN = 4, 2000\n",
    "s = []\n",
    "for I in range(N):\n",
    "    \n",
    "    A = int(input(\"Enter the number \"))\n",
    " \n",
    "    if A > 0:\n",
    "        if A < MIN:\n",
    "            MIN = A\n",
    "            \n",
    "    s.append(A)\n",
    "    \n",
    "if MIN > 0:\n",
    "    print(MIN)\n",
    "else:\n",
    "    print(0)\n",
    "answer2 = str(s)"
   ]
  },
  {
   "cell_type": "code",
   "execution_count": 73,
   "metadata": {},
   "outputs": [
    {
     "name": "stdout",
     "output_type": "stream",
     "text": [
      "Create a sequence of 4 natural numbers: \n",
      "Enter the number -1\n",
      "Enter the number -2\n",
      "Enter the number -3\n",
      "Enter the number -4\n",
      "NO\n"
     ]
    }
   ],
   "source": [
    "# The right variant - the right answer\n",
    "print(\"Create a sequence of 4 natural numbers: \")\n",
    "\n",
    "N, MIN = 4, 2000\n",
    "s = []\n",
    "for I in range(N):\n",
    "    \n",
    "    A = int(input(\"Enter the number \"))\n",
    " \n",
    "    if A > 0:\n",
    "        if A < MIN:\n",
    "            MIN = A\n",
    "            \n",
    "    s.append(A)\n",
    "    \n",
    "if MIN < 2000:\n",
    "    print(MIN)\n",
    "else:\n",
    "    print('NO')\n",
    "answer3 = '\"if MIN > 0\" -> \"if MIN < 2000\" | \"if MIN <> 2000\" | \"if MIN != 2000\"; \"print(0)\" -> \"print(\"NO\")\"'"
   ]
  },
  {
   "cell_type": "code",
   "execution_count": 74,
   "metadata": {},
   "outputs": [
    {
     "name": "stdout",
     "output_type": "stream",
     "text": [
      "Answer: ['2000', '[1, 2, 3, 4]', '\"if MIN > 0\" -> \"if MIN < 2000\" | \"if MIN <> 2000\" | \"if MIN != 2000\"; \"print(0)\" -> \"print(\"NO\")\"']\n"
     ]
    }
   ],
   "source": [
    "answer_dictionary[24]=[answer1, answer2, answer3]\n",
    "print(\"Answer:\", answer_dictionary[24])"
   ]
  },
  {
   "cell_type": "markdown",
   "metadata": {},
   "source": [
    "<div style=\"width: 800px; height: 1050px; overflow:auto;\">\n",
    "    <img src=\"it_images/2017_01_25_1.png\" width=\"800\" height=\"400\"/>\n",
    "    <img src=\"it_images/2017_01_25_2.png\" width=\"800\" height=\"600\"/>\n",
    "</div>\n",
    "\n",
    "Дан целочисленный массив из 40 элементов. Элементы массива могут принимать значения от -10000 до 10000. Опишите на русском языке или на одном из языков программирования алгоритм, который проверяет, каких значений элементов в массиве больше — положительных (в этом случае вывести «+»), отрицательных (в этом случае вывести «-»), или их поровну (в этом случае вывести «=»).\n",
    "\n",
    "Исходные данные объявлены так, как показано ниже. Запрещается использовать переменные, не описанные ниже, но разрешается не использовать часть из них.\n",
    "\n",
    "- Объявляем массив А из 40 элементов.\n",
    "\n",
    "- Объявляем целочисленные переменные I, J, К.\n",
    "\n",
    "- В цикле от 1 до 40 вводим элементы массива А с 1-го по 40-й.\n",
    "\n",
    "- ...\n",
    "\n",
    "В качестве ответа вам необходимо привести фрагмент программы (или описание алгоритма на естественном языке), который должен находиться на месте многоточия. Вы можете записать решение также на другом языке программирования (укажите название и используемую версию языка программирования, например Borland Pascal 7.0) или в виде блок-схемы. В этом случае вы должны использовать те же самые исходные данные и переменные, какие были предложены в условии (например, в образце, записанном на естественном языке).\n",
    "\n",
    "---\n",
    "\n",
    "An integer array of 40 elements is given. Elements of the array can take values from -10000 to 10000. Describe in Russian / English, or in one of the programming languages, an algorithm that checks which values ​​of the elements in the array are larger - positive (in this case print \"+\"), negative (in this case output \"-\"), or equally (in this case print \"=\").\n",
    "\n",
    "The original data is declared as shown below. It is forbidden to use variables not described below, but it is allowed not to use part of them.\n",
    "\n",
    "- Declare an array A of 40 elements.\n",
    "\n",
    "- Declare the integer variables I, J, K.\n",
    "\n",
    "- In the cycle from 1 to 40, we introduce the elements of array A from the 1st to the 40th.\n",
    "\n",
    "- ...\n",
    "\n",
    "As an answer, you need to bring the program fragment (or description of the algorithm in natural language), which should be in place of the ellipsis. You can also write the solution in another programming language (specify the name and the version of the programming language used, for example, Borland Pascal 7.0) or as a flowchart. In this case, you must use the same source data and variables that were proposed in the condition (for example, in a sample written in the natural language)."
   ]
  },
  {
   "cell_type": "code",
   "execution_count": 77,
   "metadata": {},
   "outputs": [
    {
     "name": "stdout",
     "output_type": "stream",
     "text": [
      "Create an array of 40 integer numbers from [-10000, 10000].\n",
      " 1\n",
      " 2\n",
      " 3\n",
      " 4\n",
      " 5\n",
      " 6\n",
      " 7\n",
      " 8\n",
      " 9\n",
      " 10\n",
      " 11\n",
      " 12\n",
      " 13\n",
      " 14\n",
      " 15\n",
      " 16\n",
      " 17\n",
      " 18\n",
      " 19\n",
      " -11\n",
      " -22\n",
      " -33\n",
      " -44\n",
      " -55\n",
      " -66\n",
      " -77\n",
      " -88\n",
      " -99\n",
      " -100\n",
      " -101\n",
      " -102\n",
      " -103\n",
      " -104\n",
      " -105\n",
      " -106\n",
      " -107\n",
      " -108\n",
      " -109\n",
      " -110\n",
      " -111\n",
      "[   1    2    3    4    5    6    7    8    9   10   11   12   13   14\n",
      "   15   16   17   18   19  -11  -22  -33  -44  -55  -66  -77  -88  -99\n",
      " -100 -101 -102 -103 -104 -105 -106 -107 -108 -109 -110 -111]\n"
     ]
    }
   ],
   "source": [
    "# The test variant of the program (40 elements)\n",
    "print(\"Create an array of 40 integer numbers from [-10000, 10000].\")\n",
    "A = numpy.zeros(40)\n",
    "I,J = 0,0\n",
    "for K in range(40):\n",
    "    A[K] = int(input(\" \"))\n",
    "    \n",
    "A = A.astype('int32')\n",
    "print(A)"
   ]
  },
  {
   "cell_type": "code",
   "execution_count": 78,
   "metadata": {},
   "outputs": [
    {
     "name": "stdout",
     "output_type": "stream",
     "text": [
      "-\n"
     ]
    }
   ],
   "source": [
    "# The fragment instead of the ellipsis\n",
    "\n",
    "for K in range(40):\n",
    "    if A[I] > 0: I+=1\n",
    "    elif A[I] < 0: J+=1   \n",
    "\n",
    "if I>J: print('+')\n",
    "elif I<J: print('-')\n",
    "else: print('=')"
   ]
  },
  {
   "cell_type": "code",
   "execution_count": 79,
   "metadata": {},
   "outputs": [],
   "source": [
    "import sys\n",
    "version = 'python '+str(sys.version_info[0])+'.'+str(sys.version_info[1])\n",
    "program_fragment = \\\n",
    "\"\"\"\n",
    "for K in range(40):\n",
    "    if A[I] > 0: I+=1\n",
    "    elif A[I] < 0: J+=1   \n",
    "\n",
    "if I>J: print('+')\n",
    "elif I<J: print('-')\n",
    "else: print('=')\n",
    "\"\"\""
   ]
  },
  {
   "cell_type": "code",
   "execution_count": 80,
   "metadata": {},
   "outputs": [
    {
     "name": "stdout",
     "output_type": "stream",
     "text": [
      "Answer: ['python 3.6', \"\\nfor K in range(40):\\n    if A[I] > 0: I+=1\\n    elif A[I] < 0: J+=1   \\n\\nif I>J: print('+')\\nelif I<J: print('-')\\nelse: print('=')\\n\"]\n"
     ]
    }
   ],
   "source": [
    "answer_dictionary[25]=[version, program_fragment]\n",
    "print(\"Answer:\", answer_dictionary[25])"
   ]
  },
  {
   "cell_type": "markdown",
   "metadata": {},
   "source": [
    "<div style=\"width: 800px; height: 520px; overflow:auto;\">\n",
    "    <img src=\"it_images/2017_01_26.png\" width=\"800\" height=\"520\"/>\n",
    "</div>\n",
    "\n",
    "Два игрока, Петя и Ваня, играют в следующую игру. Перед игроками лежит две кучи камней. Игроки ходят по очереди, первый ход делает Петя. Назовём позицией игры указание количества камней в обеих кучах. Например, позиция (15,20) означает, что в первой куче 15 камней, а во второй — 20. За один ход игрок может добавить в одну из куч один камень или увеличить количество камней в одной из куч в два раза. Например, имея количество камней в кучах (15,20), за один ход можно получить положение (16,20), (30,20), (15,21) и (15,40). У каждого игрока, чтобы делать ходы, есть неограниченное количество камней.\n",
    "\n",
    "Игра завершается в тот момент, когда количество камней в обеих кучах (сумма) становится не менее 65. Победителем считается игрок, сделавший последний ход, то есть первым получивший положение, в котором сумма камней в кучах будет 65 или больше камней.\n",
    "\n",
    "Говорят, что игрок имеет выигрышную стратегию, если он может выиграть при любых ходах противника. Описать стратегию игрока — значит описать, какой ход он должен сделать в любой ситуации, которая ему может встретиться при различной игре противника. Например, при начальных позициях (4,31), (5,30), (7,29) выигрышная стратегия есть у Пети. Чтобы выиграть, ему достаточно удвоить количество камней во второй куче.\n",
    "\n",
    "Выполните следующие задания. Во всех случаях обосновывайте свой ответ.\n",
    "\n",
    "1. Для исходных позиций (4,30) и (6,29) укажите, кто из игроков выигрывает. Сколько ходов необходимо для выигрыша? Опишите выигрышную стратегию. Обоснуйте ответ.\n",
    "\n",
    "2. Для исходных позиций (4,29), (6,28) и (5,29) укажите, кто из игроков выигрывает. Сколько ходов необходимо для выигрыша? Опишите выигрышную стратегию. Обоснуйте ответ.\n",
    "\n",
    "3. Для исходной позиции (5,28) укажите, кто из игроков выигрывает. Сколько ходов необходимо для выигрыша? Опишите выигрышную стратегию. Приведите дерево игры. Обоснуйте ответ. На рёбрах дерева указывайте, кто делает ход, в узлах — позицию игры.\n",
    "\n",
    "---\n",
    "\n",
    "Two players, Petya and Vanya, play the next game. There are two heaps of stones in front of the players. Players walk by turns, the first move is made by Petya. Let's call the position of the game the indication of the number of stones in both heaps. For example, position (15,20) means that there are 15 stones in the first heap, and 20 in the second. In one move, a player can add one stone to one of the heaps or increase the number of stones in one of the heaps twice. For example, having the number of stones in heaps (15,20), in one move you can get the position (16,20), (30,20), (15,21) and (15,40). Each player to make moves has an unlimited number of stones.\n",
    "\n",
    "The game ends when the number of stones in both heaps (amount) becomes at least 65. The winner is the player who made the last move, that is, the first to receive a position in which the number of stones in the heaps will be 65 or more stones.\n",
    "\n",
    "It is said that a player has a winning strategy if he can win for any moves of the opponent. To describe a player's strategy is to describe what course he should take in any situation that he can meet in a different game of the opponent. For example, with initial positions (4,31), (5,30), (7,29) a winning strategy is in Petit. To win, it is enough for him to double the number of stones in the second heap.\n",
    "\n",
    "Complete the following tasks. In all cases, explain your answer.\n",
    "\n",
    "1. For starting positions (4,30) and (6,29), indicate which player wins. How many moves does it need to win? Describe a winning strategy. Justify the answer.\n",
    "\n",
    "2. For starting positions (4,29), (6,28) and (5,29) specify which of the players wins. How many moves do you need to win? Describe a winning strategy. Justify the answer.\n",
    "\n",
    "3. For the starting position (5,28), indicate which player wins. How many moves does he need to win? Describe a winning strategy. Display the decision tree of the game. Justify the answer. On the edges of the tree indicate who is making the move, in the nodes - the position of the game."
   ]
  },
  {
   "cell_type": "markdown",
   "metadata": {},
   "source": [
    "#### Решение\n",
    "\n",
    "#### 1. \n",
    "Первый ход делает Петя. \n",
    "\n",
    "   - а) Из позиции (4,30) он может получить одну из позиций {(5,30), (8,30), (4,31), (4,60)}. В любой из них сумма камней меньше 65. => Ни одна не является выигрышной.\n",
    "   - б) Из позиции (6,29) он может получить одну из позиций {(7,29), (12,29), (6,30), (6,58)}. В любой из них сумма камней меньше 65. => Ни одна не является выигрышной.\n",
    "   \n",
    "Следующий ход делает Ваня.\n",
    "\n",
    "   - а) Для любой из позиций после хода Пети Ваня выигрывает: \n",
    "     {(5,30)-> (5,60), (8,30)->(8,60), (4,31)->(4,62), (4,60)->(4,60)}.\n",
    "     Ему достаточно удвоить количество камней в одной из куч, сумма камней становится >= 65.\n",
    "   - б) Аналогично:\n",
    "     {(7,29)-> (7,58), (12,29)->(12,58), (6,30)->(6,60), (6,58)->(12,58)}.\n",
    "     \n",
    "Значит, у Вани имеется выигрышная стратегия. Он побеждает при любой из двух начальных позиций, какой бы ход ни выбрал Петя.\n",
    "\n",
    "#### 2.\n",
    "При стартовых позициях (4,29), (6,28), (5,29) у Пети имеется выигрышная стратегия.\n",
    "\n",
    "Первый ход делает Петя, добавляя один камень: (4,29) -> (4,30), (6,28) -> (6,29), (5,29) -> (6,29).\n",
    "\n",
    "Следующий ход делает Ваня: (4,30) -> {(5,30), (8,30), (4,31), (4,60)}; (6,29) -> {(7,29), (12,29), (6,30), (6,58)}. Все позиции проигрышные.\n",
    "\n",
    "Петя при любом из выбранных Ваней вариантов выигрывает, удваивая количество камней:\n",
    "{(5,30) -> (5,60), (8,30) -> (8,60), (4,31) -> (4,62), (4,60) -> (8,60), (7,29) -> (7,58), (12,29) -> (12,58), (6,30) -> (6,60), (6,58) -> (12,58)}\n",
    "\n",
    "#### 3.\n",
    "При стартовой позиции (5,28) у Вани имеется выигрышная стратегия:\n",
    "\n",
    "Первые ходы игроков:\n",
    "\n",
    "- Если Петя удваивает количество камней и получает (10,28) или (5,56), то Ване достаточно также удвоить их при следующем ходе и получить (10,56). Ваня побеждает.\n",
    "- Если Петя добавляет один камень и получает (6,28) или (5,29), то Ваня пока победить не может. Однако он не должен допустить победы соперника. Ваня может добавить один камень в любой из этих позиций и перейти в (6,29).\n",
    "\n",
    "Вторые ходы игроков:\n",
    "\n",
    "- Какой бы ход не сделал Петя (6,30), (7,29), (12,29) или (6,58), он выиграть не сможет. А Ване достаточно удвоить количество камней при следующем ходе и получить (6,60), (12,58) или (7,58). Ваня побеждает.\n",
    "\n",
    "---\n",
    "\n",
    "#### Decision\n",
    "\n",
    "#### 1.\n",
    "The first move is made by Petya.\n",
    "\n",
    "   - a) From the position (4,30) he can get one of the positions {(5,30), (8,30), (4,31), (4,60)}. In any of them the sum of the stones is less than 65. => None is winning.\n",
    "   - b) From the position (6,29) he can obtain one of the positions {(7,29), (12,29), (6,30), (6,58)}. In any of them the sum of the stones is less than 65. => None is winning.\n",
    "   \n",
    "The next move is made by Vanya.\n",
    "\n",
    "   - a) For any of the positions after Petya's move, Vanya wins:\n",
    "     {(5,30) -> (5,60), (8,30) -> (8,60), (4,31) -> (4,62), (4,60) -> (4,60)}.\n",
    "     It is enough for him to double the number of stones in one of the piles, the amount of stones becomes >= 65.\n",
    "   - b) Similarly:\n",
    "     {(7,29) -> (7,58), (12,29) -> (12,58), (6,30) -> (6,60), (6,58) -> (12,58)}.\n",
    "     \n",
    "Hence, Vanya has a winning strategy. He wins at any of two initial positions, no matter what decision Petya has made.\n",
    "\n",
    "#### 2.\n",
    "With starting positions (4,29), (6,28), (5,29) Petya has a winning strategy.\n",
    "\n",
    "Petya makes the first move, adding one stone: (4,29) -> (4,30), (6,28) -> (6,29), (5,29) -> (6,29).\n",
    "\n",
    "The next move is made Vanya: (4,30) -> {(5,30), (8,30), (4,31), (4,60)}; (6,29) -> {(7,29), (12,29), (6,30), (6,58)}. All positions are losing.\n",
    "\n",
    "Petya wins for any of the chosen Vanya variants, doubling the number of stones: {(5,30) -> (5,60), (8,30) - (8,60), (4,31) -> (4, 62), (4,60) -> (8,60), (7,29) -> (7,58), (12,29) -> (12,58), (6,30) -> ( 6,60), (6,58) -> (12,58)}.\n",
    "\n",
    "#### 3.\n",
    "With the starting position (5,28), Vanya has a winning strategy:\n",
    "\n",
    "The first moves of players:\n",
    "\n",
    "- If Petya doubles the number of stones and gets (10,28) or (5,56), then it's enough for Vanya to double them in the next move and get (10,56). Vanya wins.\n",
    "- If Petya adds one stone and receives (6,28) or (5,29), then Vanya cannot win yet. However, he should not allow the opponent to win. Vanya can add one stone to any of these positions and go to (6,29).\n",
    "\n",
    "The second moves of the players:\n",
    "\n",
    "- Whichever move Petya (6,30), (7,29), (12,29) or (6,58) does, he cannot win. And it's enough for Vanya to double the number of stones at the next step and get (6,60), (12,58) or (7,58). Vanya wins."
   ]
  },
  {
   "cell_type": "code",
   "execution_count": 148,
   "metadata": {},
   "outputs": [
    {
     "name": "stdout",
     "output_type": "stream",
     "text": [
      "Answer: ['1. Vanya wins at his first step', '2. Petya wins at his second step', '3. Vanya wins at his first or second step']\n"
     ]
    }
   ],
   "source": [
    "answer_dictionary[26]=['1. Vanya wins at his first step', \n",
    "                       '2. Petya wins at his second step', \n",
    "                       '3. Vanya wins at his first or second step']\n",
    "print(\"Answer:\", answer_dictionary[26])"
   ]
  },
  {
   "cell_type": "code",
   "execution_count": 141,
   "metadata": {},
   "outputs": [
    {
     "data": {
      "image/png": "[encoded data removed]",
      "text/plain": [
       "<matplotlib.figure.Figure at 0x10957cbe0>"
      ]
     },
     "metadata": {},
     "output_type": "display_data"
    }
   ],
   "source": [
    "import pydot\n",
    "from networkx.drawing.nx_pydot import graphviz_layout\n",
    "\n",
    "plt.figure(figsize=(18,12))\n",
    "\n",
    "G4 = nx.MultiDiGraph()\n",
    "\n",
    "G4.add_edges_from([('5|28','6|28'),('5|28','10|28'),('5|28','5|29'),('5|28','5|56')])\n",
    "G4.add_edges_from([('6|28','6|29')])\n",
    "G4.add_edges_from([('10|28','10|56')])\n",
    "G4.add_edges_from([('5|29','6|29')])\n",
    "G4.add_edges_from([('5|56','10|56')])\n",
    "G4.add_edges_from([('6|29','7|29'),('6|29','12|29'),('6|29','6|30'),('6|29','6|58')])\n",
    "G4.add_edges_from([('7|29','7|58')])\n",
    "G4.add_edges_from([('12|29','12|58')])\n",
    "G4.add_edges_from([('6|30','6|60')])\n",
    "G4.add_edges_from([('6|58','12|58')])\n",
    "\n",
    "pos = graphviz_layout(G4, prog='dot')\n",
    "\n",
    "edge_labels={('5|28','6|28'):'P +1', ('5|28','10|28'):'P *2', \n",
    "             ('5|28','5|29'):'P +1', ('5|28','5|56'):'P *2', \n",
    "             ('6|28','6|29'):'V +1', ('10|28','10|56'):'V *2',\n",
    "             ('5|29','6|29'):'V +1', ('5|56','10|56'):'V *2',\n",
    "             ('6|29','7|29'):'P +1', ('6|29','12|29'):'P *2', \n",
    "             ('6|29','6|30'):'P +1', ('6|29','6|58'):'P *2',\n",
    "             ('7|29','7|58'):'V *2', ('12|29','12|58'):'V *2',\n",
    "             ('6|30','6|60'):'V *2', ('6|58','12|58'):'V *2'}\n",
    "\n",
    "node_colors=['coral','lightsteelblue','lightsteelblue','lightsteelblue','lightsteelblue',\n",
    "             'lightsteelblue','lightgreen','lightsteelblue','lightsteelblue','lightsteelblue',\n",
    "             'lightsteelblue','lightgreen','lightgreen','lightgreen']\n",
    "\n",
    "\n",
    "nx.draw_networkx_edges(G4, pos, width=3, alpha=0.5, edge_color='slategray',\n",
    "                       arrowsize=30, arrowstyle='-|>')\n",
    "nx.draw_networkx_nodes(G4, pos, node_size=2000, node_shape='h', node_color=node_colors)\n",
    "\n",
    "nx.draw_networkx_edge_labels(G4, pos, edge_labels, label_pos=0.4,\n",
    "                             font_size=20, font_weight='bold')\n",
    "nx.draw_networkx_labels(G4, pos, font_size=15, font_weight='bold')\n",
    "\n",
    "plt.axis('off')            \n",
    "plt.show()"
   ]
  },
  {
   "cell_type": "markdown",
   "metadata": {},
   "source": [
    "<div style=\"width: 800px; height: 400px; overflow:auto;\">\n",
    "    <img src=\"it_images/2017_01_27.png\" width=\"800\" height=\"400\"/>\n",
    "</div>\n",
    "На вход программе подаётся: в первой строке — число N (1 < N < 109).\n",
    "\n",
    "В каждой из последующих N строк — по одному элементу последовательности — целые числа, не превышающее по модулю 10 000.\n",
    "\n",
    "Напишите эффективную, в том числе и по используемой памяти, программу (укажите используемую версию языка программирования, например, Borland Pascal 7.0), которая выводит на экран минимальное произведение двух элементов этой последовательности.\n",
    "\n",
    "Пример входных данных:\n",
    "\n",
    "- 8\n",
    "\n",
    "- 3\n",
    "\n",
    "- 4\n",
    "\n",
    "- 5\n",
    "\n",
    "- -7\n",
    "\n",
    "- -8\n",
    "\n",
    "- 3\n",
    "\n",
    "- 2\n",
    "\n",
    "- 9\n",
    "\n",
    "Пример выходных данных:\n",
    "\n",
    "- -72\n",
    "\n",
    "---\n",
    "\n",
    "The input is given to the program: the first line contains the number N (1 <N <109).\n",
    "In each of the following N lines - one element of the sequence - integers not exceeding 10,000 in modulus.\n",
    "\n",
    "Write an effective program, including the memory used (specify the version of the programming language used, for example, Borland Pascal 7.0), which displays the minimal product of two elements of this sequence.\n",
    "\n",
    "Example input:\n",
    "\n",
    "- 8\n",
    "\n",
    "- 3\n",
    "\n",
    "- 4\n",
    "\n",
    "- 5\n",
    "\n",
    "- -7\n",
    "\n",
    "- -8\n",
    "\n",
    "- 3\n",
    "\n",
    "- 2\n",
    "\n",
    "- 9\n",
    "\n",
    "Example output:\n",
    "\n",
    "- -72"
   ]
  },
  {
   "cell_type": "markdown",
   "metadata": {},
   "source": [
    "Минимальное произведение целых чисел будет равно:\n",
    "\n",
    "1) произведению двух минимальных по модулю отрицательных чисел, если все элементы последовательности отрицательные;\n",
    "\n",
    "2) произведению двух минимальных положительных чисел, если все элементы последовательности положительные;\n",
    "\n",
    "3) произведению максимального по модулю отрицательного числа и максимального положительного числа, если встречаются и положительные, и отрицательные элеиенты последовательности;\n",
    "\n",
    "4) если среди элементов есть 0, то в первом и во втором случае миниальное произведение будет равно 0.\n",
    "\n",
    "Значит, при вводе каждого из чисел последовательности должны обновляться данные о количестве отрицательных и положительных чисел, о двух минимальных по модулю и о двух максимальных по модулю числах последовательности.\n",
    "\n",
    "---\n",
    "\n",
    "The minimum product of integers will be:\n",
    "\n",
    "1) the product of two minimal by the absolute value negative numbers, if all elements of the sequence are negative;\n",
    "\n",
    "2) the product of two minimal positive numbers if all elements of the sequence are positive;\n",
    "\n",
    "3) the product of the maximal by the absolute value negative number and the maximal positive number, if both positive and negative elements of the sequence are encountered;\n",
    "\n",
    "4) if there are 0 among the elements, then in the first and in the second cases the minimal product will be 0.\n",
    "\n",
    "Therefore, with entering each of the sequence elements, the program should update the data about the number of negative and positive numbers, and about two minimal and two maximal by the absolute value sequence elements."
   ]
  },
  {
   "cell_type": "code",
   "execution_count": 142,
   "metadata": {},
   "outputs": [
    {
     "name": "stdout",
     "output_type": "stream",
     "text": [
      "Define the number N (1 < N <109) of array elements.\n",
      " 10\n",
      "Create an array of N integer numbers from [-10000, 10000].\n",
      "-1\n",
      "-1\n",
      "-3\n",
      "-5\n",
      "-6\n",
      "-8\n",
      "1\n",
      "2\n",
      "3\n",
      "4\n",
      "\n",
      "Array: [-1 -1 -3 -5 -6 -8  1  2  3  4] \n",
      " Minimum Product of 2 Array Elements: -32 \n",
      " Number of Positive Array Elements: 4 \n",
      " Number of Negative Array Elements: 6 \n",
      " 2 Minimum Absolute Values among Array Elements: 1 1 \n",
      " Maximum Absolute Values among Positive Array Elements: 4 \n",
      " Maximum Absolute Values among Negative Array Elements: 8\n"
     ]
    }
   ],
   "source": [
    "import numpy\n",
    "\n",
    "print(\"Define the number N (1 < N <109) of array elements.\")\n",
    "N = int(input(\" \"))\n",
    "print(\"Create an array of N integer numbers from [-10000, 10000].\")\n",
    "A = numpy.zeros(N).astype('int32')\n",
    "\n",
    "n_pos, n_neg, abs_min1, abs_min2, abs_max_neg, abs_max_pos = 0,0,10001,10001,0,0\n",
    "for K in range(N):\n",
    "    A[K] = int(input(\"\"))\n",
    "    \n",
    "    if A[K] > 0:\n",
    "        n_pos+=1\n",
    "        if A[K] > abs_max_pos:\n",
    "            abs_max_pos = A[K]\n",
    "        \n",
    "    elif A[K] < 0:\n",
    "        n_neg+=1\n",
    "        if abs(A[K]) > abs_max_neg:\n",
    "            abs_max_neg = abs(A[K])\n",
    "        \n",
    "    if abs(A[K]) < abs_min1:\n",
    "        abs_min2 = abs_min1\n",
    "        abs_min1 = abs(A[K])\n",
    "    elif abs(A[K]) < abs_min2: \n",
    "        abs_min2 = abs(A[K])\n",
    "    \n",
    "    if n_neg == 0 or n_pos == 0:\n",
    "        MIN_P = abs_min1 * abs_min2\n",
    "    else:\n",
    "        MIN_P = -1 * abs_max_pos * abs_max_neg\n",
    "        \n",
    "print('\\nArray:', A, '\\n',\n",
    "      'Minimum Product of 2 Array Elements:', MIN_P, '\\n',\n",
    "      'Number of Positive Array Elements:', n_pos, '\\n',\n",
    "      'Number of Negative Array Elements:', n_neg, '\\n', \n",
    "      '2 Minimum Absolute Values among Array Elements:', abs_min1, abs_min2, '\\n',\n",
    "      'Maximum Absolute Values among Positive Array Elements:', abs_max_pos, '\\n', \n",
    "      'Maximum Absolute Values among Negative Array Elements:', abs_max_neg)        "
   ]
  },
  {
   "cell_type": "code",
   "execution_count": 143,
   "metadata": {},
   "outputs": [],
   "source": [
    "program = \\\n",
    "\"\"\"\n",
    "import numpy\n",
    "\n",
    "print(\"Define the number N (1 <N <109) of array elements.\")\n",
    "N = int(input(\" \"))\n",
    "print(\"Create an array of N integer numbers from [-10000, 10000].\")\n",
    "A = numpy.zeros(N).astype('int32')\n",
    "\n",
    "n_pos, n_neg, abs_min1, abs_min2, abs_max_neg, abs_max_pos = 0,0,10001,10001,0,0\n",
    "for K in range(N):\n",
    "    A[K] = int(input(\"\"))\n",
    "    \n",
    "    if A[K] > 0:\n",
    "        n_pos+=1\n",
    "        if A[K] > abs_max_pos:\n",
    "            abs_max_pos = A[K]\n",
    "        \n",
    "    elif A[K] < 0:\n",
    "        n_neg+=1\n",
    "        if abs(A[K]) > abs_max_neg:\n",
    "            abs_max_neg = abs(A[K])\n",
    "        \n",
    "    if abs(A[K]) < abs_min1:\n",
    "        abs_min2 = abs_min1\n",
    "        abs_min1 = abs(A[K])\n",
    "    elif abs(A[K]) < abs_min2: \n",
    "        abs_min2 = abs(A[K])\n",
    "    \n",
    "    if n_neg == 0 or n_pos == 0:\n",
    "        MIN_P = abs_min1 * abs_min2\n",
    "    else:\n",
    "        MIN_P = -1 * abs_max_pos * abs_max_neg\n",
    "        \n",
    "print('\\nArray:', A, '\\n',\n",
    "      'Minimum Product of 2 Array Elements:', MIN_P, '\\n',\n",
    "      'Number of Positive Array Elements:', n_pos, '\\n',\n",
    "      'Number of Negative Array Elements:', n_neg, '\\n', \n",
    "      '2 Minimum Absolute Values among Array Elements:', abs_min1, abs_min2, '\\n',\n",
    "      'Maximum Absolute Values among Positive Array Elements:', abs_max_pos, '\\n', \n",
    "      'Maximum Absolute Values among Negative Array Elements:', abs_max_neg)\n",
    "\"\"\""
   ]
  },
  {
   "cell_type": "code",
   "execution_count": 144,
   "metadata": {},
   "outputs": [
    {
     "name": "stdout",
     "output_type": "stream",
     "text": [
      "Answer: ['python 3.6', '\\nimport numpy\\n\\nprint(\"Define the number N (1 <N <109) of array elements.\")\\nN = int(input(\" \"))\\nprint(\"Create an array of N integer numbers from [-10000, 10000].\")\\nA = numpy.zeros(N).astype(\\'int32\\')\\n\\nn_pos, n_neg, abs_min1, abs_min2, abs_max_neg, abs_max_pos = 0,0,10001,10001,0,0\\nfor K in range(N):\\n    A[K] = int(input(\"\"))\\n    \\n    if A[K] > 0:\\n        n_pos+=1\\n        if A[K] > abs_max_pos:\\n            abs_max_pos = A[K]\\n        \\n    elif A[K] < 0:\\n        n_neg+=1\\n        if abs(A[K]) > abs_max_neg:\\n            abs_max_neg = abs(A[K])\\n        \\n    if abs(A[K]) < abs_min1:\\n        abs_min2 = abs_min1\\n        abs_min1 = abs(A[K])\\n    elif abs(A[K]) < abs_min2: \\n        abs_min2 = abs(A[K])\\n    \\n    if n_neg == 0 or n_pos == 0:\\n        MIN_P = abs_min1 * abs_min2\\n    else:\\n        MIN_P = -1 * abs_max_pos * abs_max_neg\\n        \\nprint(\\'\\nArray:\\', A, \\'\\n\\',\\n      \\'Minimum Product of 2 Array Elements:\\', MIN_P, \\'\\n\\',\\n      \\'Number of Positive Array Elements:\\', n_pos, \\'\\n\\',\\n      \\'Number of Negative Array Elements:\\', n_neg, \\'\\n\\', \\n      \\'2 Minimum Absolute Values among Array Elements:\\', abs_min1, abs_min2, \\'\\n\\',\\n      \\'Maximum Absolute Values among Positive Array Elements:\\', abs_max_pos, \\'\\n\\', \\n      \\'Maximum Absolute Values among Negative Array Elements:\\', abs_max_neg)\\n']\n"
     ]
    }
   ],
   "source": [
    "answer_dictionary[27]=[version, program]\n",
    "print(\"Answer:\", answer_dictionary[27])"
   ]
  },
  {
   "cell_type": "markdown",
   "metadata": {},
   "source": [
    "## Ответы  &nbsp;     Answers"
   ]
  },
  {
   "cell_type": "code",
   "execution_count": 149,
   "metadata": {},
   "outputs": [
    {
     "data": {
      "text/plain": [
       "{1: '64',\n",
       " 2: '4',\n",
       " 3: '20',\n",
       " 4: '234',\n",
       " 5: '9',\n",
       " 6: '70',\n",
       " 7: '4',\n",
       " 8: '32',\n",
       " 9: '90',\n",
       " 10: '256',\n",
       " 11: '35',\n",
       " 12: '62',\n",
       " 13: '300',\n",
       " 14: '3',\n",
       " 15: '78',\n",
       " 16: '46',\n",
       " 17: '3',\n",
       " 18: '24',\n",
       " 19: '9',\n",
       " 20: '159',\n",
       " 21: '12',\n",
       " 22: '70',\n",
       " 23: '128',\n",
       " 24: ['2000',\n",
       "  '[1, 2, 3, 4]',\n",
       "  '\"if MIN > 0\" -> \"if MIN < 2000\" | \"if MIN <> 2000\" | \"if MIN != 2000\"; \"print(0)\" -> \"print(\"NO\")\"'],\n",
       " 25: ['python 3.6',\n",
       "  \"\\nfor K in range(40):\\n    if A[I] > 0: I+=1\\n    elif A[I] < 0: J+=1   \\n\\nif I>J: print('+')\\nelif I<J: print('-')\\nelse: print('=')\\n\"],\n",
       " 26: ['1. Vanya wins at his first step',\n",
       "  '2. Petya wins at his second step',\n",
       "  '3. Vanya wins at his first or second step'],\n",
       " 27: ['python 3.6',\n",
       "  '\\nimport numpy\\n\\nprint(\"Define the number N (1 <N <109) of array elements.\")\\nN = int(input(\" \"))\\nprint(\"Create an array of N integer numbers from [-10000, 10000].\")\\nA = numpy.zeros(N).astype(\\'int32\\')\\n\\nn_pos, n_neg, abs_min1, abs_min2, abs_max_neg, abs_max_pos = 0,0,10001,10001,0,0\\nfor K in range(N):\\n    A[K] = int(input(\"\"))\\n    \\n    if A[K] > 0:\\n        n_pos+=1\\n        if A[K] > abs_max_pos:\\n            abs_max_pos = A[K]\\n        \\n    elif A[K] < 0:\\n        n_neg+=1\\n        if abs(A[K]) > abs_max_neg:\\n            abs_max_neg = abs(A[K])\\n        \\n    if abs(A[K]) < abs_min1:\\n        abs_min2 = abs_min1\\n        abs_min1 = abs(A[K])\\n    elif abs(A[K]) < abs_min2: \\n        abs_min2 = abs(A[K])\\n    \\n    if n_neg == 0 or n_pos == 0:\\n        MIN_P = abs_min1 * abs_min2\\n    else:\\n        MIN_P = -1 * abs_max_pos * abs_max_neg\\n        \\nprint(\\'\\nArray:\\', A, \\'\\n\\',\\n      \\'Minimum Product of 2 Array Elements:\\', MIN_P, \\'\\n\\',\\n      \\'Number of Positive Array Elements:\\', n_pos, \\'\\n\\',\\n      \\'Number of Negative Array Elements:\\', n_neg, \\'\\n\\', \\n      \\'2 Minimum Absolute Values among Array Elements:\\', abs_min1, abs_min2, \\'\\n\\',\\n      \\'Maximum Absolute Values among Positive Array Elements:\\', abs_max_pos, \\'\\n\\', \\n      \\'Maximum Absolute Values among Negative Array Elements:\\', abs_max_neg)\\n']}"
      ]
     },
     "execution_count": 149,
     "metadata": {},
     "output_type": "execute_result"
    }
   ],
   "source": [
    "answer_dictionary"
   ]
  }
 ],
 "metadata": {
  "kernelspec": {
   "display_name": "Python 3",
   "language": "python",
   "name": "python3"
  },
  "language_info": {
   "codemirror_mode": {
    "name": "ipython",
    "version": 3
   },
   "file_extension": ".py",
   "mimetype": "text/x-python",
   "name": "python",
   "nbconvert_exporter": "python",
   "pygments_lexer": "ipython3",
   "version": "3.6.4"
  }
 },
 "nbformat": 4,
 "nbformat_minor": 2
}
