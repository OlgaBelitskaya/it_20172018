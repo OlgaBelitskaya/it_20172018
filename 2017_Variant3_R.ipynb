{
 "cells": [
  {
   "cell_type": "markdown",
   "metadata": {},
   "source": [
    "# ЕГЭ 2017 Вариант 3 &nbsp; &nbsp; &nbsp; EGE 2017 Variant 3\n",
    "[ЕГЭ-2017. Информатика.10 тренировочных вариантов. Ушаков Д.М.](https://drive.google.com/file/d/0B6696ckkWj_zS2ptblAxNERHZzQ/view)\n",
    "\n",
    "[Basic Regular Expressions in R Cheatsheet](https://www.rstudio.com/wp-content/uploads/2016/09/RegExCheatsheet.pdf)\n",
    "\n",
    "[DataFlair: R Tutorials](https://data-flair.training/blogs/category/r/)\n",
    "\n",
    "[Алгоритм Шеннона — Фано](https://ru.wikipedia.org/wiki/%D0%90%D0%BB%D0%B3%D0%BE%D1%80%D0%B8%D1%82%D0%BC_%D0%A8%D0%B5%D0%BD%D0%BD%D0%BE%D0%BD%D0%B0_%E2%80%94_%D0%A4%D0%B0%D0%BD%D0%BE)"
   ]
  },
  {
   "cell_type": "code",
   "execution_count": 2,
   "metadata": {},
   "outputs": [],
   "source": [
    "library(IRdisplay)\n",
    "library(repr)\n",
    "library(hash)\n",
    "library(numbers)\n",
    "library(e1071)\n",
    "library(igraph)\n",
    "library(VennDiagram)"
   ]
  },
  {
   "cell_type": "code",
   "execution_count": 3,
   "metadata": {},
   "outputs": [],
   "source": [
    "# install.packages('')"
   ]
  },
  {
   "cell_type": "code",
   "execution_count": 4,
   "metadata": {},
   "outputs": [],
   "source": [
    "answer_dictionary <- hash()"
   ]
  },
  {
   "cell_type": "code",
   "execution_count": 5,
   "metadata": {},
   "outputs": [
    {
     "data": {
      "text/html": [
       "<style>\n",
       "@import url('https://fonts.googleapis.com/css?family=Roboto');\n",
       "body {background-color: aliceblue;} \n",
       "a {color: #4876ff; font-family: 'Roboto';} \n",
       "h1 {color: #348ABD; font-family: 'Roboto'; text-shadow: 4px 4px 4px #aaa;} \n",
       "h2, h3 {color: gray; font-family: 'Roboto'; text-shadow: 4px 4px 4px #aaa;}\n",
       "h4 {color: #348ABD; font-family: 'Roboto';}\n",
       "span {text-shadow: 4px 4px 4px #aaa;}\n",
       "div.output_prompt, div.output_area pre, div.output_subarea {color: gray;}\n",
       "div.input_prompt {color: #4876ff;}      \n",
       "div.output_stderr pre {background-color: aliceblue;}  \n",
       "div.output_stderr {background-color: gray;}                        \n",
       "</style>"
      ]
     },
     "metadata": {},
     "output_type": "display_data"
    }
   ],
   "source": [
    "display_html(\"<style>\n",
    "@import url('https://fonts.googleapis.com/css?family=Roboto');\n",
    "body {background-color: aliceblue;} \n",
    "a {color: #4876ff; font-family: 'Roboto';} \n",
    "h1 {color: #348ABD; font-family: 'Roboto'; text-shadow: 4px 4px 4px #aaa;} \n",
    "h2, h3 {color: gray; font-family: 'Roboto'; text-shadow: 4px 4px 4px #aaa;}\n",
    "h4 {color: #348ABD; font-family: 'Roboto';}\n",
    "span {text-shadow: 4px 4px 4px #aaa;}\n",
    "div.output_prompt, div.output_area pre, div.output_subarea {color: gray;}\n",
    "div.input_prompt {color: #4876ff;}      \n",
    "div.output_stderr pre {background-color: aliceblue;}  \n",
    "div.output_stderr {background-color: gray;}                        \n",
    "</style>\")  "
   ]
  },
  {
   "cell_type": "markdown",
   "metadata": {},
   "source": [
    "## Часть 1 &nbsp; &nbsp; &nbsp; Part 1\n",
    "\n",
    "## 1.\n",
    "Сколько единиц содержится в двоичной записи восьмеричного числа $2417_8$?\n",
    "\n",
    "How many units are contained in the binary notation of the octal number $ 2417_8 $?"
   ]
  },
  {
   "cell_type": "code",
   "execution_count": 6,
   "metadata": {},
   "outputs": [],
   "source": [
    "options(scipen = 999)\n",
    "dec2bin <- function(n) {\n",
    "  bv <- rep(0, 1 + floor(log(n, 2)))\n",
    "  while (n >= 2) {\n",
    "    pow <- floor(log(n, 2))\n",
    "    bv[1 + pow] <- 1\n",
    "    n <- n - 2^pow\n",
    "  }\n",
    "  bv[1] <- n %% 2\n",
    "  paste(rev(bv), collapse = \"\")\n",
    "}"
   ]
  },
  {
   "cell_type": "code",
   "execution_count": 7,
   "metadata": {},
   "outputs": [
    {
     "data": {
      "text/html": [
       "1295"
      ],
      "text/latex": [
       "1295"
      ],
      "text/markdown": [
       "1295"
      ],
      "text/plain": [
       "[1] 1295"
      ]
     },
     "metadata": {},
     "output_type": "display_data"
    }
   ],
   "source": [
    "# 2417 _8 = 1295 _10\n",
    "2 * 8 ** 3 + 4 * 8 ** 2 + 1 * 8 ** 1 + 7 * 8 ** 0"
   ]
  },
  {
   "cell_type": "code",
   "execution_count": 8,
   "metadata": {},
   "outputs": [
    {
     "data": {
      "text/html": [
       "'10100001111'"
      ],
      "text/latex": [
       "'10100001111'"
      ],
      "text/markdown": [
       "'10100001111'"
      ],
      "text/plain": [
       "[1] \"10100001111\""
      ]
     },
     "metadata": {},
     "output_type": "display_data"
    }
   ],
   "source": [
    "# 1295 _10 = 10100001111 _2\n",
    "dec2bin(1295)"
   ]
  },
  {
   "cell_type": "code",
   "execution_count": 9,
   "metadata": {},
   "outputs": [
    {
     "data": {
      "text/html": [
       "'111111'"
      ],
      "text/latex": [
       "'111111'"
      ],
      "text/markdown": [
       "'111111'"
      ],
      "text/plain": [
       "[1] \"111111\""
      ]
     },
     "metadata": {},
     "output_type": "display_data"
    }
   ],
   "source": [
    "gsub(\"0\",\"\",dec2bin(1295))"
   ]
  },
  {
   "cell_type": "code",
   "execution_count": 10,
   "metadata": {},
   "outputs": [
    {
     "data": {
      "text/html": [
       "6"
      ],
      "text/latex": [
       "6"
      ],
      "text/markdown": [
       "6"
      ],
      "text/plain": [
       "[1] 6"
      ]
     },
     "metadata": {},
     "output_type": "display_data"
    }
   ],
   "source": [
    "nchar(gsub(\"0\",\"\",dec2bin(1295)))"
   ]
  },
  {
   "cell_type": "markdown",
   "metadata": {},
   "source": [
    "Один разряд в восьмеричной записи соответствует трем разрядам в двоичной системе:\n",
    "\n",
    "One digit in the octal system corresponds to three digits in the binary system:\n",
    "\n",
    "$7 * 8^0 = 1 * 2^2 + 1 * 2^1 + 1 * 2^0$\n",
    "\n",
    "$1 * 8^1 = 1 * 2^3$\n",
    "\n",
    "$4 * 8^2 = 1 * 2^8$\n",
    "\n",
    "$2 * 8^3 = 1 * 2^10$\n",
    "\n",
    "Всего 6 ненулевых коэффициентов различных степеней основания системы 2.\n",
    "\n",
    "There are 6 nonzero coefficients of different degrees of 2 (the binary system)."
   ]
  },
  {
   "cell_type": "code",
   "execution_count": 11,
   "metadata": {},
   "outputs": [],
   "source": [
    "answer_dictionary[1] <- nchar(gsub(\"0\",\"\",dec2bin(2 * 8 ** 3 + 4 * 8 ** 2 + \n",
    "                                                  1 * 8 ** 1 + 7 * 8 ** 0)))"
   ]
  },
  {
   "cell_type": "markdown",
   "metadata": {},
   "source": [
    "## 2.\n",
    "Дан фрагмент таблицы истинности выражения F, зависящего от трех аргументов X, Y, Z.\n",
    "\n",
    "Перечислите в порядке возрастания без запятых и пробелов номера логических выражений, которые соответствуют F.\n",
    "\n",
    "---\n",
    "\n",
    "The truth table fragment of the expression F, depending on three arguments X, Y, Z, is given.\n",
    "\n",
    "List in ascending order without commas and spaces the numbers of logical expressions that correspond to F.\n",
    "\n",
    "| $X$ | $Y$ | $Z$ | $F$ |\n",
    "|:-:|:-:|:-:|:-:|\n",
    "| 0 | 0 | 0 | 1 |\n",
    "| 1 | 1 | 0 | 0 |\n",
    "| 0 | 1 | 1 | 1 |\n",
    "\n",
    "$1) \\ X \\land Y \\lor Z \\\\ \n",
    "2) \\ \\neg X \\land \\neg Y \\lor \\neg Z \\\\ \n",
    "3) \\ ( X \\lor Y ) \\land \\neg Z \\\\ \n",
    "4) \\ ( X \\lor Y ) \\to Z \\\\ \n",
    "5) \\ \\neg X \\lor \\neg Y \\lor Z$"
   ]
  },
  {
   "cell_type": "markdown",
   "metadata": {},
   "source": [
    "| $X$ | $Y$ | $Z$ | $F$ |\n",
    "|:-:|:-:|:-:|:-:|\n",
    "| 0 | 0 | 0 | 1 |\n",
    "| 1 | 1 | 0 | 0 |\n",
    "| 0 | 1 | 1 | 1 |\n",
    "\n",
    "$1) \\ X \\land Y \\lor Z \\\\ \n",
    "2) \\ \\neg X \\land \\neg Y \\lor \\neg Z \\\\ \n",
    "3) \\ ( X \\lor Y ) \\land \\neg Z \\\\ \n",
    "4) \\ ( X \\lor Y ) \\to Z \\\\ \n",
    "5) \\ \\neg X \\lor \\neg Y \\lor Z$"
   ]
  },
  {
   "cell_type": "code",
   "execution_count": 20,
   "metadata": {},
   "outputs": [],
   "source": [
    "bc <- matrix(c(0,0,0, 1,1,0, 0,1,1), nrow=3, ncol=3, byrow = TRUE)\n",
    "x_implies_y <- function(x,y) {!x | y}\n",
    "\n",
    "F <- function(X, Y, Z, I) {\n",
    "    if (I == 1) {return(X & Y | Z)}\n",
    "    if (I == 2) {return(!X & !Y | !Z)}\n",
    "    if (I == 3) {return((X | Y) & !Z)}\n",
    "    if (I == 4) {return(x_implies_y((X | Y),Z))}    \n",
    "    if (I == 5) {return(!X | !Y | Z)}    \n",
    "} "
   ]
  },
  {
   "cell_type": "code",
   "execution_count": 21,
   "metadata": {},
   "outputs": [
    {
     "name": "stdout",
     "output_type": "stream",
     "text": [
      "[1] 4\n",
      "[1] 5\n"
     ]
    }
   ],
   "source": [
    "for (i in 1:5){\n",
    "    result = vector(length=3)\n",
    "    for (j in 1:3) {result[j] = F(bc[j,1],bc[j,2],bc[j,3],i)}\n",
    "    if (all(result == c(TRUE,FALSE,TRUE))){print(i)}\n",
    "}"
   ]
  },
  {
   "cell_type": "code",
   "execution_count": 22,
   "metadata": {},
   "outputs": [],
   "source": [
    "answer_dictionary[2] <- '45'"
   ]
  },
  {
   "cell_type": "markdown",
   "metadata": {},
   "source": [
    "## 3.\n",
    "На рисунке справа схема дорог Н-ского района изображена в виде графа, в таблице содержатся сведения о длинах этих дорог (в километрах).\n",
    "\n",
    "Так как таблицу и схему рисовали независимо друг от друга, то нумерация населённых пунктов в таблице никак не связана с буквенными обозначениями на графе. \n",
    "\n",
    "Определите, какова длина дороги и пункта В в пункт Д. \n",
    "\n",
    "В ответе запишите целое число — так, как оно указано в таблице.\n",
    "\n",
    "---\n",
    "\n",
    "n the figure, the road scheme of the N-region is drawn in the form of a graph, the table contains information on the lengths of these roads (in kilometers).\n",
    "\n",
    "Since the table and the graph were drawn independently of each other, the numbering of settlements in the table is not connected with the letter symbols on the graph.\n",
    "\n",
    "Determine the length of the road from the point В to the point Д. \n",
    "\n",
    "In the answer, write down the integer number - as it is indicated in the table.\n",
    "\n",
    "| &#x123CF; | П1 | П2 | П3 | П4 | П5 | П6 | П7 |\n",
    "|:-:|:-:|:-:|:-:|:-:|:-:|:-:|:-:|\n",
    "| **П1** | &#x123CF; | 40 | 50 | |  |  | |\n",
    "| **П2** | 40 | &#x123CF; | 15 |  | 60 |  |  |\n",
    "| **П3** | 50 | 15 | &#x123CF; | 25 | 30 |  |  |\n",
    "| **П4** |  |  | 25 | &#x123CF; | 70 | 20 |  |\n",
    "| **П5** |  | 60 | 30 | 70 | &#x123CF; | 35 | 45 |\n",
    "| **П6** |  |  |  | 20 | 35 | &#x123CF; | 55 |\n",
    "| **П7** |  |  |  |  | 45 | 55 | &#x123CF; |"
   ]
  },
  {
   "cell_type": "code",
   "execution_count": 28,
   "metadata": {},
   "outputs": [
    {
     "data": {
      "image/png": "[encoded data removed]",
      "text/plain": [
       "Plot with title “”"
      ]
     },
     "metadata": {},
     "output_type": "display_data"
    }
   ],
   "source": [
    "options(warn = -1,repr.plot.width=4,repr.plot.height=4)\n",
    "edges <- c('А','Б', 'А','В', 'Б','В', 'Б','Д',\n",
    "           'В','Г', 'В','Д', 'Г','Д', 'Г','Е',\n",
    "           'Д','Е', 'Д','К', 'Е','К')\n",
    "\n",
    "g <- graph(edges, directed=FALSE)\n",
    "plot(g,vertex.color=\"steelblue\", vertex.size=30, vertex.frame.color=\"gray\")"
   ]
  },
  {
   "cell_type": "markdown",
   "metadata": {},
   "source": [
    "- Только один узел имеет 5 ребер => Д == П5.\n",
    "- Только один узел имеет 4 ребра => В == П3.\n",
    "- А - один из узлов с 2 ребрами и А <-> В => А == П1.\n",
    "- Б - один из узлов с 3 ребрами и Б <-> А, Б <-> В => Б == П2.\n",
    "- Г - один из узлов с 3 ребрами и Г <-> В => Г == П4.\n",
    "- Е - оставшийся узел с 3 ребрами => Е == Π6.\n",
    "- К == П7.\n",
    "\n",
    "---\n",
    "\n",
    "- Only one node has 5 edges => Д == П5.\n",
    "- Only one node has 4 edges => В == П3.\n",
    "- А is one of the nodes with 2 edges and А <-> В => А == П1.\n",
    "- Б is one of the nodes with 3 edges and Б <-> А, Б <-> В => Б == П2.\n",
    "- Γ is one of the nodes with 3 edges and Г <-> В => Г == П4.\n",
    "- Е is the remaining node with 3 edges => Е == Π6.\n",
    "- К == П7.\n",
    "\n",
    "| &#x123CF; | П1=А | П2=Б | П3=В | П4=Г | П5=Д | П6=Е | П7=К |\n",
    "|:-:|:-:|:-:|:-:|:-:|:-:|:-:|:-:|\n",
    "| **П1=А** | &#x123CF; | 40 | 50 | |  |  | |\n",
    "| **П2=Б** | 40 | &#x123CF; | 15 |  | 60 |  |  |\n",
    "| **П3=В** | 50 | 15 | &#x123CF; | 25 | 30 |  |  |\n",
    "| **П4=Г** |  |  | 25 | &#x123CF; | 70 | 20 |  |\n",
    "| **П5=Д** |  | 60 | 30 | 70 | &#x123CF; | 35 | 45 |\n",
    "| **П6=Е** |  |  |  | 20 | 35 | &#x123CF; | 55 |\n",
    "| **П7=К** |  |  |  |  | 45 | 55 | &#x123CF; |"
   ]
  },
  {
   "cell_type": "code",
   "execution_count": 31,
   "metadata": {},
   "outputs": [
    {
     "data": {
      "image/png": "[encoded data removed]",
      "text/plain": [
       "Plot with title “”"
      ]
     },
     "metadata": {},
     "output_type": "display_data"
    }
   ],
   "source": [
    "options(warn = -1,repr.plot.width=6,repr.plot.height=6)\n",
    "edges <- c('А=П1','Б=П2', 'А=П1','В=П3', 'Б=П2','В=П3', 'Б=П2','Д=П5',\n",
    "           'В=П3','Г=П4', 'В=П3','Д=П5', 'Г=П4','Д=П5', 'Г=П4','Е=П6',\n",
    "           'Д=П5','Е=П6', 'Д=П5','К=П7', 'Е=П6','К=П7')\n",
    "weights <- c(40,50,15,60,25,30,70,20,35,45,55)\n",
    "\n",
    "g <- graph(edges, directed=FALSE)%>%\n",
    "    set_edge_attr(\"weight\", value=weights)\n",
    "plot(g,\n",
    "     vertex.color=\"steelblue\",vertex.size=30,vertex.frame.color=\"gray\",\n",
    "     edge.label=E(g)$weight,edge.width=E(g)$weight/10)"
   ]
  },
  {
   "cell_type": "code",
   "execution_count": 32,
   "metadata": {},
   "outputs": [
    {
     "data": {
      "text/html": [
       "<strong>Д=П5:</strong> 30"
      ],
      "text/latex": [
       "\\textbf{Д=П5:} 30"
      ],
      "text/markdown": [
       "**Д=П5:** 30"
      ],
      "text/plain": [
       "Д=П5 \n",
       "  30 "
      ]
     },
     "metadata": {},
     "output_type": "display_data"
    }
   ],
   "source": [
    "g['В=П3']['Д=П5']"
   ]
  },
  {
   "cell_type": "code",
   "execution_count": 33,
   "metadata": {},
   "outputs": [],
   "source": [
    "answer_dictionary[3] <- toString(g['В=П3']['Д=П5'])"
   ]
  },
  {
   "cell_type": "markdown",
   "metadata": {},
   "source": [
    "## 4.\n",
    "Для групповых операций с файлами используются маски имён файлов. \n",
    "\n",
    "Маска представляет собой последовательность букв, цифр и прочих допустимых в именах файлов символов, в которой также могут встречаться следующие символы.\n",
    "\n",
    "Символ $«?»$ (вопросительный знак) означает ровно один произвольный символ.\n",
    "\n",
    "Символ $«*»$ (звёздочка) означает любую последовательность символов произвольной длины, в том числе $«*»$ может задавать и пустую последовательность.\n",
    "\n",
    "В каталоге находятся шесть файлов. \n",
    "\n",
    "`ask.c`, `kasko.cpp`, `kraska.doc`, `nebraska.docx`, `mask.pic`, `laska.dpr`\n",
    "\n",
    "Ниже представлено восемь масок. \n",
    "\n",
    "`*?sk*.???*`, `*a*k*.*c*`, `*ask?.*c*`, `*ask*.??c*`, `*a??a*.??c*`, `*.??*`,'`*ka*.?*?`, `*sk*.d*`\n",
    "\n",
    "Сколько из них таких, которым соответствует ровно три файла из данного каталога?\n",
    "\n",
    "---\n",
    "\n",
    "For group operations with files, file name masks are used. \n",
    "\n",
    "A mask is a sequence of letters, numbers and other permissible characters in file names, in which the following characters can also occur.\n",
    "\n",
    "The symbol $?$ (question mark) means exactly one arbitrary character.\n",
    "\n",
    "The symbol $*$ (asterisk) stands for any sequence of characters of arbitrary length, including $*$, which can also specify an empty sequence.\n",
    "\n",
    "There are six files in the directory. \n",
    "\n",
    "`ask.c`, `kasko.cpp`, `kraska.doc`, `nebraska.docx`, `mask.pic`, `laska.dpr`\n",
    "\n",
    "Here are eight masks.\n",
    "\n",
    "`*?sk*.???*`, `*a*k*.*c*`, `*ask?.*c*`, `*ask*.??c*`, `*a??a*.??c*`, `*.??*`,'`*ka*.?*?`, `*sk*.d*`\n",
    "\n",
    "How many of them are those to which exactly three files from this catalog correspond?"
   ]
  },
  {
   "cell_type": "code",
   "execution_count": 35,
   "metadata": {},
   "outputs": [
    {
     "data": {
      "text/html": [
       "<table>\n",
       "<thead><tr><th scope=col>file_list</th><th scope=col>mask_1</th><th scope=col>mask_2</th><th scope=col>mask_3</th><th scope=col>mask_4</th><th scope=col>mask_5</th><th scope=col>mask_6</th><th scope=col>mask_7</th><th scope=col>mask_8</th></tr></thead>\n",
       "<tbody>\n",
       "\t<tr><td>ask.c        </td><td>FALSE        </td><td> TRUE        </td><td>FALSE        </td><td>FALSE        </td><td>FALSE        </td><td>FALSE        </td><td>FALSE        </td><td>FALSE        </td></tr>\n",
       "\t<tr><td>kasko.cpp    </td><td> TRUE        </td><td> TRUE        </td><td> TRUE        </td><td>FALSE        </td><td>FALSE        </td><td> TRUE        </td><td> TRUE        </td><td>FALSE        </td></tr>\n",
       "\t<tr><td>kraska.doc   </td><td> TRUE        </td><td> TRUE        </td><td> TRUE        </td><td> TRUE        </td><td> TRUE        </td><td> TRUE        </td><td> TRUE        </td><td> TRUE        </td></tr>\n",
       "\t<tr><td>nebraska.docx</td><td> TRUE        </td><td> TRUE        </td><td> TRUE        </td><td> TRUE        </td><td> TRUE        </td><td> TRUE        </td><td> TRUE        </td><td> TRUE        </td></tr>\n",
       "\t<tr><td>mask.pic     </td><td> TRUE        </td><td> TRUE        </td><td>FALSE        </td><td> TRUE        </td><td>FALSE        </td><td> TRUE        </td><td>FALSE        </td><td>FALSE        </td></tr>\n",
       "\t<tr><td>laska.dpr    </td><td> TRUE        </td><td>FALSE        </td><td>FALSE        </td><td>FALSE        </td><td>FALSE        </td><td> TRUE        </td><td> TRUE        </td><td> TRUE        </td></tr>\n",
       "</tbody>\n",
       "</table>\n"
      ],
      "text/latex": [
       "\\begin{tabular}{r|lllllllll}\n",
       " file\\_list & mask\\_1 & mask\\_2 & mask\\_3 & mask\\_4 & mask\\_5 & mask\\_6 & mask\\_7 & mask\\_8\\\\\n",
       "\\hline\n",
       "\t ask.c         & FALSE         &  TRUE         & FALSE         & FALSE         & FALSE         & FALSE         & FALSE         & FALSE        \\\\\n",
       "\t kasko.cpp     &  TRUE         &  TRUE         &  TRUE         & FALSE         & FALSE         &  TRUE         &  TRUE         & FALSE        \\\\\n",
       "\t kraska.doc    &  TRUE         &  TRUE         &  TRUE         &  TRUE         &  TRUE         &  TRUE         &  TRUE         &  TRUE        \\\\\n",
       "\t nebraska.docx &  TRUE         &  TRUE         &  TRUE         &  TRUE         &  TRUE         &  TRUE         &  TRUE         &  TRUE        \\\\\n",
       "\t mask.pic      &  TRUE         &  TRUE         & FALSE         &  TRUE         & FALSE         &  TRUE         & FALSE         & FALSE        \\\\\n",
       "\t laska.dpr     &  TRUE         & FALSE         & FALSE         & FALSE         & FALSE         &  TRUE         &  TRUE         &  TRUE        \\\\\n",
       "\\end{tabular}\n"
      ],
      "text/markdown": [
       "\n",
       "file_list | mask_1 | mask_2 | mask_3 | mask_4 | mask_5 | mask_6 | mask_7 | mask_8 | \n",
       "|---|---|---|---|---|---|\n",
       "| ask.c         | FALSE         |  TRUE         | FALSE         | FALSE         | FALSE         | FALSE         | FALSE         | FALSE         | \n",
       "| kasko.cpp     |  TRUE         |  TRUE         |  TRUE         | FALSE         | FALSE         |  TRUE         |  TRUE         | FALSE         | \n",
       "| kraska.doc    |  TRUE         |  TRUE         |  TRUE         |  TRUE         |  TRUE         |  TRUE         |  TRUE         |  TRUE         | \n",
       "| nebraska.docx |  TRUE         |  TRUE         |  TRUE         |  TRUE         |  TRUE         |  TRUE         |  TRUE         |  TRUE         | \n",
       "| mask.pic      |  TRUE         |  TRUE         | FALSE         |  TRUE         | FALSE         |  TRUE         | FALSE         | FALSE         | \n",
       "| laska.dpr     |  TRUE         | FALSE         | FALSE         | FALSE         | FALSE         |  TRUE         |  TRUE         |  TRUE         | \n",
       "\n",
       "\n"
      ],
      "text/plain": [
       "  file_list     mask_1 mask_2 mask_3 mask_4 mask_5 mask_6 mask_7 mask_8\n",
       "1 ask.c         FALSE   TRUE  FALSE  FALSE  FALSE  FALSE  FALSE  FALSE \n",
       "2 kasko.cpp      TRUE   TRUE   TRUE  FALSE  FALSE   TRUE   TRUE  FALSE \n",
       "3 kraska.doc     TRUE   TRUE   TRUE   TRUE   TRUE   TRUE   TRUE   TRUE \n",
       "4 nebraska.docx  TRUE   TRUE   TRUE   TRUE   TRUE   TRUE   TRUE   TRUE \n",
       "5 mask.pic       TRUE   TRUE  FALSE   TRUE  FALSE   TRUE  FALSE  FALSE \n",
       "6 laska.dpr      TRUE  FALSE  FALSE  FALSE  FALSE   TRUE   TRUE   TRUE "
      ]
     },
     "metadata": {},
     "output_type": "display_data"
    }
   ],
   "source": [
    "file_list <- c('ask.c', 'kasko.cpp', 'kraska.doc', \n",
    "               'nebraska.docx', 'mask.pic', 'laska.dpr')\n",
    "mask_list <- c('?ask*.???*', '*ask*.*c*', '*as??.*c*', '*ask*.???',\n",
    "               '*a*a*.*d*', '*aska*.?*?', '?????*.???', '?s*k?.*')\n",
    "\n",
    "df <- data.frame(file_list=file_list,\n",
    "                 mask_1=grepl(\"^.*.sk.*\\\\.....*$\",file_list), \n",
    "                 mask_2=grepl(\"^.*a.*k.*\\\\..*c.*$\", file_list), \n",
    "                 mask_3=grepl(\"^.*ask.\\\\..*c.*$\", file_list), \n",
    "                 mask_4=grepl(\"^.*ask.*\\\\...c.*$\", file_list),\n",
    "                 mask_5=grepl(\"^.*a..a.*\\\\...c.*$\",file_list), \n",
    "                 mask_6=grepl(\"^.*\\\\....*$\", file_list), \n",
    "                 mask_7=grepl(\"^.*ka.*\\\\...*.$\", file_list), \n",
    "                 mask_8=grepl(\"^.*sk.*\\\\.d.*$\", file_list))\n",
    "df "
   ]
  },
  {
   "cell_type": "code",
   "execution_count": 36,
   "metadata": {},
   "outputs": [
    {
     "name": "stdout",
     "output_type": "stream",
     "text": [
      "[1] \"?ask*.???*\"\n",
      "[1] 5\n",
      "[1] \"*ask*.*c*\"\n",
      "[1] 5\n",
      "[1] \"*as??.*c*\"\n",
      "[1] 3\n",
      "[1] \"*ask*.???\"\n",
      "[1] 3\n",
      "[1] \"*a*a*.*d*\"\n",
      "[1] 2\n",
      "[1] \"*aska*.?*?\"\n",
      "[1] 5\n",
      "[1] \"?????*.???\"\n",
      "[1] 4\n",
      "[1] \"?s*k?.*\"\n",
      "[1] 3\n"
     ]
    },
    {
     "data": {
      "text/html": [
       "3"
      ],
      "text/latex": [
       "3"
      ],
      "text/markdown": [
       "3"
      ],
      "text/plain": [
       "[1] 3"
      ]
     },
     "metadata": {},
     "output_type": "display_data"
    }
   ],
   "source": [
    "c <- 0\n",
    "for (i in 2:9) {\n",
    "    print(mask_list[i-1]); \n",
    "    print(length(df[1:6,i][df[1:6,i]==TRUE]))\n",
    "    if (length(df[1:6,i][df[1:6,i]==TRUE]) == 3) {c <- c + 1}\n",
    "}\n",
    "\n",
    "c"
   ]
  },
  {
   "cell_type": "code",
   "execution_count": 37,
   "metadata": {},
   "outputs": [],
   "source": [
    "answer_dictionary[4] <- toString(c)"
   ]
  },
  {
   "cell_type": "markdown",
   "metadata": {},
   "source": [
    "## 5.\n",
    "Для кодирования некоторой последовательности, состоящей из букв А, Б, В, Г и Д, используется неравномерный двоичный код, \n",
    "\n",
    "позволяющий однозначно декодировать полученную двоичную последовательность. \n",
    "\n",
    "Вот этот код: `А-110`, `Б-10`, `В-01`, `Г-111`. \n",
    "\n",
    "Каким кодовым словом должна кодироваться буква Д? \n",
    "\n",
    "Если таких вариантов несколько, укажите самый короткий.\n",
    "\n",
    "---\n",
    "\n",
    "To encode a sequence consisting of the letters А, Б, В, Г and Д, an unequal binary code is used, \n",
    "\n",
    "which uniquely decodes the resulting binary sequence.\n",
    "\n",
    "Here is the code: `А-110`, `Б-10`, `В-01`, `Г-111`.\n",
    "\n",
    "What code word should be used for encoding the letter Д? \n",
    "\n",
    "If there are several possible variants, specify the shortest one."
   ]
  },
  {
   "cell_type": "markdown",
   "metadata": {},
   "source": [
    "В решении использован Алгоритм Шеннона — Фано.\n",
    "\n",
    "1) Самые короткие коды 0 и 1 не могут быть использованы - с них уже начинаются другие кодовые слова.\n",
    "\n",
    "2) Следующая бинарная комбинация - из двух цифр. В начале кодовых слов уже встречаются 01, 10 и 11, но нет 00. \n",
    "\n",
    "Этим самым коротким из возможных сочетаний и можно закодировать Д.\n",
    "\n",
    "---\n",
    "\n",
    "The solution uses the Shannon-Fano Algorithm.\n",
    "\n",
    "1) The shortest codes 0 and 1 cannot be used - other code words already begin with them.\n",
    "\n",
    "2) The next binary combination is two-digital. At the beginning of the code words, there are already 01, 10 and 11, but no 00. \n",
    "\n",
    "This shortest possible combination can be used for encoding D."
   ]
  },
  {
   "cell_type": "code",
   "execution_count": 39,
   "metadata": {},
   "outputs": [],
   "source": [
    "answer_dictionary[5] <- '00'"
   ]
  },
  {
   "cell_type": "markdown",
   "metadata": {},
   "source": [
    "## 6.\n",
    "Автомат получает на вход два двузначных шестнадцатеричных числа. \n",
    "\n",
    "В этих числах все цифры не превосходят цифру 7 (если в числе есть цифра больше 7, автомат отказывается работать). \n",
    "\n",
    "По этим числам строится новое шестнадцатеричное число по следующим правилам.\n",
    "\n",
    "1. Вычисляются два шестнадцатеричных числа — сумма старших разрядов полученных чисел и сумма младших разрядов этих чисел.\n",
    "\n",
    "2. Полученные два шестнадцатеричных числа записываются друг за другом в порядке возрастания (без разделителей).\n",
    "\n",
    "*Пример*. Исходные числа: 52, 66. Поразрядные суммы: В, 8. Результат: 8В.\n",
    "\n",
    "Какие из предложенных чисел могут быть результатом работы автомата?\n",
    "\n",
    "Перечислите в алфавитном порядке буквы, соответствующие этим числам, без пробелов и знаков препинания.\n",
    "\n",
    "**A) 18 B) 2F C) 214 D) 7Е E) В7**\n",
    "\n",
    "---\n",
    "\n",
    "The machine receives two two-digit hexadecimal numbers. \n",
    "\n",
    "In these numbers, all figures do not exceed 7 (if there is a figure greater than 7 in the number, the machine refuses to work). \n",
    "\n",
    "For these numbers, a new hexadecimal number is constructed according to the following rules.\n",
    "\n",
    "1. Two hexadecimal numbers are calculated - the sum of the highest digits of the obtained numbers and the sum of the lower digits of these numbers.\n",
    "\n",
    "2. The received two hexadecimal numbers are written one after the other in ascending order (without separators).\n",
    "\n",
    "*Example*. Original numbers: 52, 66. Bitwise sums: B, 8. Result: 8B.\n",
    "\n",
    "Which of the suggested numbers can be the result of the operation of this machine?\n",
    "\n",
    "List the letters in the alphabetical order corresponding to these numbers, without spaces and punctuation marks.\n",
    "\n",
    "**A) 18 B) 2F C) 214 D) 7E E) B7**"
   ]
  },
  {
   "cell_type": "markdown",
   "metadata": {},
   "source": [
    "**A) 18**\n",
    "\n",
    "- Возможный вариант сложения и перестановки цифр:  $20_{16}$ и $61_{16}$  поразрядно суммируются и получается пара $8_{16}, 1_{16}$, затем цифры переставляются $18_{16}$.\n",
    "\n",
    "\n",
    "**B) 2F**\n",
    "\n",
    "- Цифры складываемых чисел не превышают $7_{10} (7_{16})$  => их поразрядные суммы не превышают  $7_{10}+7_{10}=14_{10} (7_{16}+7_{16}=E_{16})$ => результат сложения разрядов не может быть $15_{10} (F_{16})$.\n",
    "\n",
    "**C) 214**\n",
    "\n",
    "- Цифры складываемых чисел не превышают $7_{10} (7_{16})$  => их поразрядные суммы не превышают  $7_{10}+7_{10}=14_{10} (7_{16}+7_{16}=E_{16})$ => результат не может быть трехзначным в шестнадцатеричной системе.\n",
    "\n",
    "**D) 7E**\n",
    "\n",
    "- Возможный вариант сложения и перестановки цифр:  $73_{16}$ и $74_{16}$  поразрядно суммируются и получается пара $E_{16}, 7_{16}$, затем цифры переставляются $7E_{16}$.\n",
    "\n",
    "**E) B7**\n",
    "\n",
    "- Цифры расположены в порядке убывания => число не может быть результатом работы автомата.\n",
    "\n",
    "---\n",
    "\n",
    "**A) 18**\n",
    "\n",
    "- The possible variant of adding and rearranging the numbers:  $20_{16}$ and $61_{16}$ are digitally summed and the pair $8_{16}, 1_{16}$ , is obtained, then the digits are rearranged $18_{16}$.\n",
    "\n",
    "**B) 2F**\n",
    "\n",
    "- The figures do not exceed $7_{10} (7_{16})$  => their bitwise sums do not exceed $7_{10}+7_{10}=14_{10} (7_{16}+7_{16}=E_{16})$ => the result cannot be a three-digit number in the hexadecimal system.\n",
    "\n",
    "**C) 214**\n",
    "\n",
    "- The figures do not exceed $7_{10} (7_{16})$  => their bitwise sums do not exceed $7_{10}+7_{10}=14_{10} (7_{16}+7_{16}=E_{16})$ => the result cannot be $15_{10} (F_{16})$.\n",
    "\n",
    "**D) 7E**\n",
    "\n",
    "- The possible variant of adding and rearranging the numbers:  $73_{16}$ and $74_{16}$ are digitally summed and the pair $E_{16}, 7_{16}$ , is obtained, then the digits are rearranged $7E_{16}$.\n",
    "\n",
    "**E) B7**\n",
    "\n",
    "- The digits are arranged in descending order => the number cannot be the result of the operation of this machine."
   ]
  },
  {
   "cell_type": "code",
   "execution_count": 42,
   "metadata": {},
   "outputs": [],
   "source": [
    "answer_dictionary[6] <- 'AD'"
   ]
  },
  {
   "cell_type": "markdown",
   "metadata": {},
   "source": [
    "## 7."
   ]
  },
  {
   "cell_type": "code",
   "execution_count": null,
   "metadata": {},
   "outputs": [],
   "source": []
  },
  {
   "cell_type": "markdown",
   "metadata": {},
   "source": [
    "## 8."
   ]
  },
  {
   "cell_type": "code",
   "execution_count": null,
   "metadata": {},
   "outputs": [],
   "source": []
  },
  {
   "cell_type": "markdown",
   "metadata": {},
   "source": [
    "## 9."
   ]
  },
  {
   "cell_type": "code",
   "execution_count": null,
   "metadata": {},
   "outputs": [],
   "source": []
  },
  {
   "cell_type": "markdown",
   "metadata": {},
   "source": [
    "## 10."
   ]
  },
  {
   "cell_type": "code",
   "execution_count": null,
   "metadata": {},
   "outputs": [],
   "source": []
  },
  {
   "cell_type": "markdown",
   "metadata": {},
   "source": [
    "## 11."
   ]
  },
  {
   "cell_type": "code",
   "execution_count": null,
   "metadata": {},
   "outputs": [],
   "source": []
  },
  {
   "cell_type": "markdown",
   "metadata": {},
   "source": [
    "## 12."
   ]
  },
  {
   "cell_type": "code",
   "execution_count": null,
   "metadata": {},
   "outputs": [],
   "source": []
  },
  {
   "cell_type": "markdown",
   "metadata": {},
   "source": [
    "## 13."
   ]
  },
  {
   "cell_type": "code",
   "execution_count": null,
   "metadata": {},
   "outputs": [],
   "source": []
  },
  {
   "cell_type": "markdown",
   "metadata": {},
   "source": [
    "## 14."
   ]
  },
  {
   "cell_type": "code",
   "execution_count": null,
   "metadata": {},
   "outputs": [],
   "source": []
  },
  {
   "cell_type": "markdown",
   "metadata": {},
   "source": [
    "## 15."
   ]
  },
  {
   "cell_type": "code",
   "execution_count": null,
   "metadata": {},
   "outputs": [],
   "source": []
  },
  {
   "cell_type": "markdown",
   "metadata": {},
   "source": [
    "## 16."
   ]
  },
  {
   "cell_type": "code",
   "execution_count": null,
   "metadata": {},
   "outputs": [],
   "source": []
  },
  {
   "cell_type": "markdown",
   "metadata": {},
   "source": [
    "## 17."
   ]
  },
  {
   "cell_type": "code",
   "execution_count": null,
   "metadata": {},
   "outputs": [],
   "source": []
  },
  {
   "cell_type": "markdown",
   "metadata": {},
   "source": [
    "## 18."
   ]
  },
  {
   "cell_type": "code",
   "execution_count": null,
   "metadata": {},
   "outputs": [],
   "source": []
  },
  {
   "cell_type": "markdown",
   "metadata": {},
   "source": [
    "## 19."
   ]
  },
  {
   "cell_type": "code",
   "execution_count": null,
   "metadata": {},
   "outputs": [],
   "source": []
  },
  {
   "cell_type": "markdown",
   "metadata": {},
   "source": [
    "## 20."
   ]
  },
  {
   "cell_type": "code",
   "execution_count": null,
   "metadata": {},
   "outputs": [],
   "source": []
  },
  {
   "cell_type": "markdown",
   "metadata": {},
   "source": [
    "## 21."
   ]
  },
  {
   "cell_type": "code",
   "execution_count": null,
   "metadata": {},
   "outputs": [],
   "source": []
  },
  {
   "cell_type": "markdown",
   "metadata": {},
   "source": [
    "## 22."
   ]
  },
  {
   "cell_type": "code",
   "execution_count": null,
   "metadata": {},
   "outputs": [],
   "source": []
  },
  {
   "cell_type": "markdown",
   "metadata": {},
   "source": [
    "## 23."
   ]
  },
  {
   "cell_type": "code",
   "execution_count": null,
   "metadata": {},
   "outputs": [],
   "source": []
  },
  {
   "cell_type": "markdown",
   "metadata": {},
   "source": [
    "## Часть 2 &nbsp; &nbsp; &nbsp; Part 2\n",
    "\n",
    "## 24."
   ]
  },
  {
   "cell_type": "code",
   "execution_count": null,
   "metadata": {},
   "outputs": [],
   "source": []
  },
  {
   "cell_type": "markdown",
   "metadata": {},
   "source": [
    "## 25."
   ]
  },
  {
   "cell_type": "code",
   "execution_count": null,
   "metadata": {},
   "outputs": [],
   "source": []
  },
  {
   "cell_type": "markdown",
   "metadata": {},
   "source": [
    "## 26."
   ]
  },
  {
   "cell_type": "code",
   "execution_count": null,
   "metadata": {},
   "outputs": [],
   "source": []
  },
  {
   "cell_type": "markdown",
   "metadata": {},
   "source": [
    "## 27."
   ]
  },
  {
   "cell_type": "code",
   "execution_count": null,
   "metadata": {},
   "outputs": [],
   "source": []
  },
  {
   "cell_type": "markdown",
   "metadata": {},
   "source": [
    "## Ответы &nbsp; &nbsp; &nbsp; Answers"
   ]
  },
  {
   "cell_type": "code",
   "execution_count": 43,
   "metadata": {},
   "outputs": [
    {
     "data": {
      "text/plain": [
       "<hash> containing 6 key-value pair(s).\n",
       "  1 : 6\n",
       "  2 : 45\n",
       "  3 : 30\n",
       "  4 : 3\n",
       "  5 : 00\n",
       "  6 : AD"
      ]
     },
     "metadata": {},
     "output_type": "display_data"
    }
   ],
   "source": [
    "answer_dictionary"
   ]
  },
  {
   "cell_type": "code",
   "execution_count": null,
   "metadata": {},
   "outputs": [],
   "source": []
  }
 ],
 "metadata": {
  "kernelspec": {
   "display_name": "R 3.4",
   "language": "R",
   "name": "ir34"
  },
  "language_info": {
   "codemirror_mode": "r",
   "file_extension": ".r",
   "mimetype": "text/x-r-source",
   "name": "R",
   "pygments_lexer": "r",
   "version": "3.4.1"
  }
 },
 "nbformat": 4,
 "nbformat_minor": 2
}
