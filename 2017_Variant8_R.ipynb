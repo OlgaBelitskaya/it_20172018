{
 "cells": [
  {
   "cell_type": "markdown",
   "metadata": {},
   "source": [
    "# ЕГЭ 2017 Вариант 8 &nbsp; &nbsp; &nbsp; EGE 2017 Variant 8\n",
    "[ЕГЭ-2017. Информатика.10 тренировочных вариантов. Ушаков Д.М.](https://drive.google.com/file/d/0B6696ckkWj_zS2ptblAxNERHZzQ/view)\n",
    "\n",
    "[Basic Regular Expressions in R Cheatsheet](https://www.rstudio.com/wp-content/uploads/2016/09/RegExCheatsheet.pdf)\n",
    "\n",
    "[DataFlair: R Tutorials](https://data-flair.training/blogs/category/r/)\n",
    "\n",
    "[Алгоритм Шеннона — Фано](https://ru.wikipedia.org/wiki/%D0%90%D0%BB%D0%B3%D0%BE%D1%80%D0%B8%D1%82%D0%BC_%D0%A8%D0%B5%D0%BD%D0%BD%D0%BE%D0%BD%D0%B0_%E2%80%94_%D0%A4%D0%B0%D0%BD%D0%BE)\n",
    "\n",
    "[IPv4 - Address Classes](https://www.tutorialspoint.com/ipv4/ipv4_address_classes.htm)\n",
    "\n",
    "[Basic and advanced network visualization with R](http://www.kateto.net/wp-content/uploads/2016/04/Sunbelt%202016%20R%20Network%20Visualization%20Handout.pdf)"
   ]
  },
  {
   "cell_type": "code",
   "execution_count": 5,
   "metadata": {},
   "outputs": [],
   "source": [
    "library(IRdisplay)\n",
    "library(repr)\n",
    "library(hash)\n",
    "library(numbers)\n",
    "library(e1071)\n",
    "library(igraph)\n",
    "library(VennDiagram)"
   ]
  },
  {
   "cell_type": "code",
   "execution_count": 2,
   "metadata": {},
   "outputs": [],
   "source": [
    "# install.packages(\"\")"
   ]
  },
  {
   "cell_type": "code",
   "execution_count": 3,
   "metadata": {},
   "outputs": [],
   "source": [
    "answer_dictionary <- hash()"
   ]
  },
  {
   "cell_type": "code",
   "execution_count": 4,
   "metadata": {},
   "outputs": [
    {
     "data": {
      "text/html": [
       "<style>\n",
       "@import url('https://fonts.googleapis.com/css?family=Roboto&effect=3d|fire-animation|canvas-print|brick-sign');\n",
       "body {background-color: aliceblue;} \n",
       "a {color: #4876ff; font-family: 'Roboto';} \n",
       "h1 {color: #348ABD; font-family: 'Roboto'; text-shadow: 4px 4px 4px #aaa;} \n",
       "h2, h3 {color: gray; font-family: 'Roboto'; text-shadow: 4px 4px 4px #aaa;}\n",
       "h4 {color: #348ABD; font-family: 'Roboto';}\n",
       "span {text-shadow: 4px 4px 4px #aaa;}\n",
       "div.output_prompt, div.output_area pre, div.output_subarea {color: gray;}\n",
       "div.input_prompt {color: #4876ff;}      \n",
       "div.output_stderr pre {background-color: aliceblue;}  \n",
       "div.output_stderr {background-color: gray;}                        \n",
       "</style>"
      ]
     },
     "metadata": {},
     "output_type": "display_data"
    }
   ],
   "source": [
    "display_html(\"<style>\n",
    "@import url('https://fonts.googleapis.com/css?family=Roboto&effect=3d|fire-animation|canvas-print|brick-sign');\n",
    "body {background-color: aliceblue;} \n",
    "a {color: #4876ff; font-family: 'Roboto';} \n",
    "h1 {color: #348ABD; font-family: 'Roboto'; text-shadow: 4px 4px 4px #aaa;} \n",
    "h2, h3 {color: gray; font-family: 'Roboto'; text-shadow: 4px 4px 4px #aaa;}\n",
    "h4 {color: #348ABD; font-family: 'Roboto';}\n",
    "span {text-shadow: 4px 4px 4px #aaa;}\n",
    "div.output_prompt, div.output_area pre, div.output_subarea {color: gray;}\n",
    "div.input_prompt {color: #4876ff;}      \n",
    "div.output_stderr pre {background-color: aliceblue;}  \n",
    "div.output_stderr {background-color: gray;}                        \n",
    "</style>\")"
   ]
  },
  {
   "cell_type": "markdown",
   "metadata": {},
   "source": [
    "## Часть 1 &nbsp; &nbsp; &nbsp; Part 1\n",
    "## 1.\n",
    "Сколько чисел находится между $275_8$ и $304_8$?\n",
    "\n",
    "---\n",
    "\n",
    "How many numbers are between $275_8$ and $304_8$?"
   ]
  },
  {
   "cell_type": "code",
   "execution_count": 6,
   "metadata": {},
   "outputs": [],
   "source": [
    "options(scipen = 999)\n",
    "oct2dec <- function(n) {\n",
    "  return(sapply(strsplit(as.character(n),split=\"\"), \n",
    "                function(x) sum(as.numeric(x) * 8 ** (rev(seq_along(x) - 1)))))\n",
    "}"
   ]
  },
  {
   "cell_type": "code",
   "execution_count": 7,
   "metadata": {},
   "outputs": [
    {
     "data": {
      "text/html": [
       "189"
      ],
      "text/latex": [
       "189"
      ],
      "text/markdown": [
       "189"
      ],
      "text/plain": [
       "[1] 189"
      ]
     },
     "metadata": {},
     "output_type": "display_data"
    },
    {
     "data": {
      "text/html": [
       "196"
      ],
      "text/latex": [
       "196"
      ],
      "text/markdown": [
       "196"
      ],
      "text/plain": [
       "[1] 196"
      ]
     },
     "metadata": {},
     "output_type": "display_data"
    }
   ],
   "source": [
    "# 2 * 8^2 + 7 * 8^1 + 5 * 8^0, 3 * 8^2 + 0 * 8^1 + 4 * 8^0\n",
    "oct2dec('275'); oct2dec('304')"
   ]
  },
  {
   "cell_type": "code",
   "execution_count": 8,
   "metadata": {},
   "outputs": [
    {
     "name": "stdout",
     "output_type": "stream",
     "text": [
      "[1] 190\n",
      "[1] 191\n",
      "[1] 192\n",
      "[1] 193\n",
      "[1] 194\n",
      "[1] 195\n"
     ]
    }
   ],
   "source": [
    "for (i in (oct2dec('275')+1):(oct2dec('304')-1)) {\n",
    "    print(i)\n",
    "}"
   ]
  },
  {
   "cell_type": "code",
   "execution_count": 9,
   "metadata": {},
   "outputs": [],
   "source": [
    "answer_dictionary[1] <- toString(oct2dec('304') - oct2dec('275') - 1)"
   ]
  },
  {
   "cell_type": "markdown",
   "metadata": {},
   "source": [
    "## 2.\n",
    "Логическая функция $F$ задаётся выражением $(x \\land \\neg y) \\lor ((\\neg x) \\land z)) \\ (*)$. \n",
    "\n",
    "Определите, какому столбцу таблицы истинности функции $F$ соответствует каждая из переменных $x, y, z$.\n",
    "\n",
    "---\n",
    "\n",
    "The logical function $ F $ is given by the expression $(x \\land \\neg y) \\lor ((\\neg x) \\land z)) \\ (*)$. \n",
    "\n",
    "Determine which column of the truth table of $F$ corresponds to each of the variables $x, y, z$.\n",
    "\n",
    "| Перем. 1 | Перем. 2 | Перем. 3 | Функция |\n",
    "| :-: | :-: | :-: | :-: |\n",
    "| Variable 1| Variable 2 | Variable 3 | Function |\n",
    "| ??? | ??? | ??? | F|\n",
    "| 0 | 0 | 0 | 0 |\n",
    "| 0 | 0 | 1 | 0 |\n",
    "| 0 | 1 | 0 | 1 |\n",
    "| 0 | 1 | 1 | 1 |\n",
    "| 1 | 0 | 0 | 1 |\n",
    "| 1 | 0 | 1 | 0 |\n",
    "| 1 | 1 | 0 | 1 |\n",
    "| 1 | 1 | 1 | 0 |\n",
    "\n",
    "В ответе напишите буквы $x, y, z$ в том порядке, в котором идут соответствующие им столбцы \n",
    "\n",
    "(сначала — буква, соответствующая 1-му столбцу; затем — буква, соответствующая 2-му столбцу; затем — буква, соответствующая 3-му столбцу). \n",
    "\n",
    "Букве в ответе пишите подряд, никаких разделителей между буквами ставить не нужно.\n",
    "\n",
    "_Пример_.\n",
    "\n",
    "Пусть задано выражение $x \\to y$, зависящее от двух переменных $x$ и $y$, и таблица истинности:\n",
    "\n",
    "---\n",
    "\n",
    "In the answer, write the letters $x, y, z$ in the order in which the corresponding columns go \n",
    "\n",
    "(at first, the letter corresponding to the 1st column, then the letter corresponding to the 2nd column, then the letter corresponding to the 3rd column). \n",
    "\n",
    "Write an answer in a row, delimiters between the letters are not necessary.\n",
    "\n",
    "_Example_.\n",
    "\n",
    "The expression $x \\to y$ is given. It depends on two variables $x$ and $y$, and the truth table is:\n",
    "\n",
    "| Перем. 1 | Перем. 2 | Функция |\n",
    "| :-: | :-: | :-: |\n",
    "| Variable 1| Variable 2 | Function |\n",
    "| ??? | ??? | F |\n",
    "| 0 | 0 | 1 | \n",
    "| 1 | 0 | 1 |\n",
    "| 0 | 1 | 0 |\n",
    "| 1 | 1 | 1 |\n",
    "\n",
    "Тогда 1-му столбцу соответствует переменная $y$, а 2-му столбцу соответствует переменная $x$. В ответе нужно написать: $yx$.\n",
    "\n",
    "---\n",
    "\n",
    "Then the first column corresponds to the variable $y$, and the second column corresponds to the variable $x$. The answer is $yx$."
   ]
  },
  {
   "cell_type": "markdown",
   "metadata": {},
   "source": [
    "Если переменная $x = 0$, то заданная выражением $(*)$ логическая функция \n",
    "\n",
    "- $F = 1$ в двух наборах значений переменных (при $z = 1$) и \n",
    "- $F = 0$ в двух других наборах (при $z = 0$). \n",
    "\n",
    "В таблице истинности это верно только для случая, когда первая переменная - $x$, а вторая  - $z$. \n",
    "\n",
    "Значит, порядок переменных будет $xzy$.\n",
    "\n",
    "---\n",
    "\n",
    "If the variable $x = 0$, then according to the expression $(*)$ the logical function \n",
    "\n",
    "- $F = 1$ in two sets of values of variables (for $z = 1$) and \n",
    "- $F = 0$ in the other two sets (for $z = 0$).\n",
    "\n",
    "In the truth table, this is correct only for the case where the first variable is $x$, and the second is $z$. \n",
    "\n",
    "Hence, the order of the variables is $xzy$."
   ]
  },
  {
   "cell_type": "code",
   "execution_count": 10,
   "metadata": {},
   "outputs": [
    {
     "data": {
      "text/html": [
       "<table>\n",
       "<tbody>\n",
       "\t<tr><td>0</td><td>0</td><td>0</td></tr>\n",
       "\t<tr><td>0</td><td>0</td><td>1</td></tr>\n",
       "\t<tr><td>0</td><td>1</td><td>0</td></tr>\n",
       "\t<tr><td>0</td><td>1</td><td>1</td></tr>\n",
       "\t<tr><td>1</td><td>0</td><td>0</td></tr>\n",
       "\t<tr><td>1</td><td>0</td><td>1</td></tr>\n",
       "\t<tr><td>1</td><td>1</td><td>0</td></tr>\n",
       "\t<tr><td>1</td><td>1</td><td>1</td></tr>\n",
       "</tbody>\n",
       "</table>\n"
      ],
      "text/latex": [
       "\\begin{tabular}{lll}\n",
       "\t 0 & 0 & 0\\\\\n",
       "\t 0 & 0 & 1\\\\\n",
       "\t 0 & 1 & 0\\\\\n",
       "\t 0 & 1 & 1\\\\\n",
       "\t 1 & 0 & 0\\\\\n",
       "\t 1 & 0 & 1\\\\\n",
       "\t 1 & 1 & 0\\\\\n",
       "\t 1 & 1 & 1\\\\\n",
       "\\end{tabular}\n"
      ],
      "text/markdown": [
       "\n",
       "| 0 | 0 | 0 | \n",
       "| 0 | 0 | 1 | \n",
       "| 0 | 1 | 0 | \n",
       "| 0 | 1 | 1 | \n",
       "| 1 | 0 | 0 | \n",
       "| 1 | 0 | 1 | \n",
       "| 1 | 1 | 0 | \n",
       "| 1 | 1 | 1 | \n",
       "\n",
       "\n"
      ],
      "text/plain": [
       "     [,1] [,2] [,3]\n",
       "[1,] 0    0    0   \n",
       "[2,] 0    0    1   \n",
       "[3,] 0    1    0   \n",
       "[4,] 0    1    1   \n",
       "[5,] 1    0    0   \n",
       "[6,] 1    0    1   \n",
       "[7,] 1    1    0   \n",
       "[8,] 1    1    1   "
      ]
     },
     "metadata": {},
     "output_type": "display_data"
    }
   ],
   "source": [
    "bc <- bincombinations(3)\n",
    "bc"
   ]
  },
  {
   "cell_type": "code",
   "execution_count": 11,
   "metadata": {},
   "outputs": [],
   "source": [
    "F_values <- c(0,0,1,1,1,0,1,0)\n",
    "F <- function(x, y, z) {\n",
    "    return((x & !y) | ((!x) & z)) \n",
    "}"
   ]
  },
  {
   "cell_type": "code",
   "execution_count": 12,
   "metadata": {},
   "outputs": [
    {
     "data": {
      "text/html": [
       "<ol class=list-inline>\n",
       "\t<li>TRUE</li>\n",
       "\t<li>FALSE</li>\n",
       "\t<li>FALSE</li>\n",
       "\t<li>TRUE</li>\n",
       "\t<li>TRUE</li>\n",
       "\t<li>FALSE</li>\n",
       "\t<li>FALSE</li>\n",
       "\t<li>TRUE</li>\n",
       "</ol>\n"
      ],
      "text/latex": [
       "\\begin{enumerate*}\n",
       "\\item TRUE\n",
       "\\item FALSE\n",
       "\\item FALSE\n",
       "\\item TRUE\n",
       "\\item TRUE\n",
       "\\item FALSE\n",
       "\\item FALSE\n",
       "\\item TRUE\n",
       "\\end{enumerate*}\n"
      ],
      "text/markdown": [
       "1. TRUE\n",
       "2. FALSE\n",
       "3. FALSE\n",
       "4. TRUE\n",
       "5. TRUE\n",
       "6. FALSE\n",
       "7. FALSE\n",
       "8. TRUE\n",
       "\n",
       "\n"
      ],
      "text/plain": [
       "[1]  TRUE FALSE FALSE  TRUE  TRUE FALSE FALSE  TRUE"
      ]
     },
     "metadata": {},
     "output_type": "display_data"
    }
   ],
   "source": [
    "# xyz\n",
    "result_xyz <- vector(length=8)\n",
    "for (j in 1:8) {\n",
    "    result_xyz[j] <- F(bc[j,1],bc[j,2],bc[j,3])\n",
    "}\n",
    "result_xyz == F_values"
   ]
  },
  {
   "cell_type": "code",
   "execution_count": 13,
   "metadata": {},
   "outputs": [
    {
     "data": {
      "text/html": [
       "<ol class=list-inline>\n",
       "\t<li>TRUE</li>\n",
       "\t<li>TRUE</li>\n",
       "\t<li>TRUE</li>\n",
       "\t<li>TRUE</li>\n",
       "\t<li>TRUE</li>\n",
       "\t<li>TRUE</li>\n",
       "\t<li>TRUE</li>\n",
       "\t<li>TRUE</li>\n",
       "</ol>\n"
      ],
      "text/latex": [
       "\\begin{enumerate*}\n",
       "\\item TRUE\n",
       "\\item TRUE\n",
       "\\item TRUE\n",
       "\\item TRUE\n",
       "\\item TRUE\n",
       "\\item TRUE\n",
       "\\item TRUE\n",
       "\\item TRUE\n",
       "\\end{enumerate*}\n"
      ],
      "text/markdown": [
       "1. TRUE\n",
       "2. TRUE\n",
       "3. TRUE\n",
       "4. TRUE\n",
       "5. TRUE\n",
       "6. TRUE\n",
       "7. TRUE\n",
       "8. TRUE\n",
       "\n",
       "\n"
      ],
      "text/plain": [
       "[1] TRUE TRUE TRUE TRUE TRUE TRUE TRUE TRUE"
      ]
     },
     "metadata": {},
     "output_type": "display_data"
    }
   ],
   "source": [
    "# xzy\n",
    "result_xzy <- vector(length=8)\n",
    "for (j in 1:8) {\n",
    "    result_xzy[j] <- F(bc[j,1],bc[j,3],bc[j,2])\n",
    "}\n",
    "result_xzy == F_values"
   ]
  },
  {
   "cell_type": "code",
   "execution_count": 14,
   "metadata": {},
   "outputs": [
    {
     "data": {
      "text/html": [
       "<ol class=list-inline>\n",
       "\t<li>TRUE</li>\n",
       "\t<li>FALSE</li>\n",
       "\t<li>TRUE</li>\n",
       "\t<li>TRUE</li>\n",
       "\t<li>FALSE</li>\n",
       "\t<li>FALSE</li>\n",
       "\t<li>FALSE</li>\n",
       "\t<li>TRUE</li>\n",
       "</ol>\n"
      ],
      "text/latex": [
       "\\begin{enumerate*}\n",
       "\\item TRUE\n",
       "\\item FALSE\n",
       "\\item TRUE\n",
       "\\item TRUE\n",
       "\\item FALSE\n",
       "\\item FALSE\n",
       "\\item FALSE\n",
       "\\item TRUE\n",
       "\\end{enumerate*}\n"
      ],
      "text/markdown": [
       "1. TRUE\n",
       "2. FALSE\n",
       "3. TRUE\n",
       "4. TRUE\n",
       "5. FALSE\n",
       "6. FALSE\n",
       "7. FALSE\n",
       "8. TRUE\n",
       "\n",
       "\n"
      ],
      "text/plain": [
       "[1]  TRUE FALSE  TRUE  TRUE FALSE FALSE FALSE  TRUE"
      ]
     },
     "metadata": {},
     "output_type": "display_data"
    }
   ],
   "source": [
    "# yxz\n",
    "result_yxz <- vector(length=8)\n",
    "for (j in 1:8) {\n",
    "    result_yxz[j] <- F(bc[j,2],bc[j,1],bc[j,3])\n",
    "}\n",
    "result_yxz == F_values"
   ]
  },
  {
   "cell_type": "code",
   "execution_count": 15,
   "metadata": {},
   "outputs": [
    {
     "data": {
      "text/html": [
       "<ol class=list-inline>\n",
       "\t<li>TRUE</li>\n",
       "\t<li>FALSE</li>\n",
       "\t<li>TRUE</li>\n",
       "\t<li>TRUE</li>\n",
       "\t<li>FALSE</li>\n",
       "\t<li>TRUE</li>\n",
       "\t<li>TRUE</li>\n",
       "\t<li>TRUE</li>\n",
       "</ol>\n"
      ],
      "text/latex": [
       "\\begin{enumerate*}\n",
       "\\item TRUE\n",
       "\\item FALSE\n",
       "\\item TRUE\n",
       "\\item TRUE\n",
       "\\item FALSE\n",
       "\\item TRUE\n",
       "\\item TRUE\n",
       "\\item TRUE\n",
       "\\end{enumerate*}\n"
      ],
      "text/markdown": [
       "1. TRUE\n",
       "2. FALSE\n",
       "3. TRUE\n",
       "4. TRUE\n",
       "5. FALSE\n",
       "6. TRUE\n",
       "7. TRUE\n",
       "8. TRUE\n",
       "\n",
       "\n"
      ],
      "text/plain": [
       "[1]  TRUE FALSE  TRUE  TRUE FALSE  TRUE  TRUE  TRUE"
      ]
     },
     "metadata": {},
     "output_type": "display_data"
    }
   ],
   "source": [
    "# yzx\n",
    "result_yzx <- vector(length=8)\n",
    "for (j in 1:8) {\n",
    "    result_yzx[j] <- F(bc[j,3],bc[j,1],bc[j,2])\n",
    "}\n",
    "result_yzx == F_values"
   ]
  },
  {
   "cell_type": "code",
   "execution_count": 16,
   "metadata": {},
   "outputs": [
    {
     "data": {
      "text/html": [
       "<ol class=list-inline>\n",
       "\t<li>TRUE</li>\n",
       "\t<li>TRUE</li>\n",
       "\t<li>TRUE</li>\n",
       "\t<li>FALSE</li>\n",
       "\t<li>TRUE</li>\n",
       "\t<li>FALSE</li>\n",
       "\t<li>TRUE</li>\n",
       "\t<li>TRUE</li>\n",
       "</ol>\n"
      ],
      "text/latex": [
       "\\begin{enumerate*}\n",
       "\\item TRUE\n",
       "\\item TRUE\n",
       "\\item TRUE\n",
       "\\item FALSE\n",
       "\\item TRUE\n",
       "\\item FALSE\n",
       "\\item TRUE\n",
       "\\item TRUE\n",
       "\\end{enumerate*}\n"
      ],
      "text/markdown": [
       "1. TRUE\n",
       "2. TRUE\n",
       "3. TRUE\n",
       "4. FALSE\n",
       "5. TRUE\n",
       "6. FALSE\n",
       "7. TRUE\n",
       "8. TRUE\n",
       "\n",
       "\n"
      ],
      "text/plain": [
       "[1]  TRUE  TRUE  TRUE FALSE  TRUE FALSE  TRUE  TRUE"
      ]
     },
     "metadata": {},
     "output_type": "display_data"
    }
   ],
   "source": [
    "# zxy\n",
    "result_zxy <- vector(length=8)\n",
    "for (j in 1:8) {\n",
    "    result_zxy[j] <- F(bc[j,2],bc[j,3],bc[j,1])\n",
    "}\n",
    "result_zxy == F_values"
   ]
  },
  {
   "cell_type": "code",
   "execution_count": 17,
   "metadata": {},
   "outputs": [
    {
     "data": {
      "text/html": [
       "<ol class=list-inline>\n",
       "\t<li>TRUE</li>\n",
       "\t<li>FALSE</li>\n",
       "\t<li>FALSE</li>\n",
       "\t<li>FALSE</li>\n",
       "\t<li>TRUE</li>\n",
       "\t<li>FALSE</li>\n",
       "\t<li>TRUE</li>\n",
       "\t<li>TRUE</li>\n",
       "</ol>\n"
      ],
      "text/latex": [
       "\\begin{enumerate*}\n",
       "\\item TRUE\n",
       "\\item FALSE\n",
       "\\item FALSE\n",
       "\\item FALSE\n",
       "\\item TRUE\n",
       "\\item FALSE\n",
       "\\item TRUE\n",
       "\\item TRUE\n",
       "\\end{enumerate*}\n"
      ],
      "text/markdown": [
       "1. TRUE\n",
       "2. FALSE\n",
       "3. FALSE\n",
       "4. FALSE\n",
       "5. TRUE\n",
       "6. FALSE\n",
       "7. TRUE\n",
       "8. TRUE\n",
       "\n",
       "\n"
      ],
      "text/plain": [
       "[1]  TRUE FALSE FALSE FALSE  TRUE FALSE  TRUE  TRUE"
      ]
     },
     "metadata": {},
     "output_type": "display_data"
    }
   ],
   "source": [
    "# zyx\n",
    "result_zyx <- vector(length=8)\n",
    "for (j in 1:8) {\n",
    "    result_zyx[j] <- F(bc[j,3],bc[j,2],bc[j,1])\n",
    "}\n",
    "result_zyx == F_values"
   ]
  },
  {
   "cell_type": "code",
   "execution_count": 18,
   "metadata": {},
   "outputs": [],
   "source": [
    "answer_dictionary[2] <- 'xzy'"
   ]
  },
  {
   "cell_type": "markdown",
   "metadata": {},
   "source": [
    "## 3.\n",
    "Между населёнными пунктами A, B, C, D, E, F построены дороги, протяжённость которых приведена в таблице. \n",
    "\n",
    "(Отсутствие числа в таблице означает, что прямой дороги между пунктами нет.)\n",
    "\n",
    "Определите длину кратчайшего пути между пунктами А и F \n",
    "\n",
    "(при условии, что передвигаться можно только по построенным дорогам).\n",
    "\n",
    "---\n",
    "\n",
    "Between the settlements A, B, C, D, E, F roads are constructed, the length of them is given in the table. \n",
    "\n",
    "(The absence of a number in the table means that there is no direct road between these points.)\n",
    "\n",
    "Determine the length of the shortest path between points A and F \n",
    "\n",
    "(assuming that it is possible to move only along the constructed roads).\n",
    "\n",
    "| &#x123CF; | A | B | C | D | E | F |\n",
    "|:-:|:-:|:-:|:-:|:-:|:-:|:-:|\n",
    "| **A** | &#x123CF; | 5 | 3 |   | 8 |   |\n",
    "| **B** | 5 | &#x123CF; | 1 | 4 | 3 | 6 |\n",
    "| **C** | 3 | 1 | &#x123CF; |   |   | 7 |\n",
    "| **D** |   | 4 |   | &#x123CF; | 1 | 3 |\n",
    "| **E** | 8 | 3 |   | 1 | &#x123CF; | 2 |\n",
    "| **F** |   | 6 | 7 | 3 | 2 | &#x123CF; |"
   ]
  },
  {
   "cell_type": "code",
   "execution_count": 19,
   "metadata": {},
   "outputs": [],
   "source": [
    "edges <- c('A','B', 'A','C', 'A','E', 'B','C', 'B','D', 'B','E', 'B','F',\n",
    "           'C','E', 'D','E', 'D','F', 'E','F')\n",
    "weights <- c(5,3,8,1,4,3,6,7,1,3,2)\n",
    "g <- graph(edges, directed=FALSE)%>%\n",
    "    set_edge_attr(\"weight\", value=weights)\n",
    "\n",
    "shortest_path <- get.shortest.paths(g,'A','F')"
   ]
  },
  {
   "cell_type": "code",
   "execution_count": 20,
   "metadata": {},
   "outputs": [
    {
     "data": {
      "text/html": [
       "<table>\n",
       "<thead><tr><th></th><th scope=col>A</th><th scope=col>B</th><th scope=col>C</th><th scope=col>D</th><th scope=col>E</th><th scope=col>F</th></tr></thead>\n",
       "<tbody>\n",
       "\t<tr><th scope=row>A</th><td>0</td><td>5</td><td>3</td><td>0</td><td>8</td><td>0</td></tr>\n",
       "\t<tr><th scope=row>B</th><td>5</td><td>0</td><td>1</td><td>4</td><td>3</td><td>6</td></tr>\n",
       "\t<tr><th scope=row>C</th><td>3</td><td>1</td><td>0</td><td>0</td><td>7</td><td>0</td></tr>\n",
       "\t<tr><th scope=row>D</th><td>0</td><td>4</td><td>0</td><td>0</td><td>1</td><td>3</td></tr>\n",
       "\t<tr><th scope=row>E</th><td>8</td><td>3</td><td>7</td><td>1</td><td>0</td><td>2</td></tr>\n",
       "\t<tr><th scope=row>F</th><td>0</td><td>6</td><td>0</td><td>3</td><td>2</td><td>0</td></tr>\n",
       "</tbody>\n",
       "</table>\n"
      ],
      "text/latex": [
       "\\begin{tabular}{r|llllll}\n",
       "  & A & B & C & D & E & F\\\\\n",
       "\\hline\n",
       "\tA & 0 & 5 & 3 & 0 & 8 & 0\\\\\n",
       "\tB & 5 & 0 & 1 & 4 & 3 & 6\\\\\n",
       "\tC & 3 & 1 & 0 & 0 & 7 & 0\\\\\n",
       "\tD & 0 & 4 & 0 & 0 & 1 & 3\\\\\n",
       "\tE & 8 & 3 & 7 & 1 & 0 & 2\\\\\n",
       "\tF & 0 & 6 & 0 & 3 & 2 & 0\\\\\n",
       "\\end{tabular}\n"
      ],
      "text/markdown": [
       "\n",
       "| <!--/--> | A | B | C | D | E | F | \n",
       "|---|---|---|---|---|---|\n",
       "| A | 0 | 5 | 3 | 0 | 8 | 0 | \n",
       "| B | 5 | 0 | 1 | 4 | 3 | 6 | \n",
       "| C | 3 | 1 | 0 | 0 | 7 | 0 | \n",
       "| D | 0 | 4 | 0 | 0 | 1 | 3 | \n",
       "| E | 8 | 3 | 7 | 1 | 0 | 2 | \n",
       "| F | 0 | 6 | 0 | 3 | 2 | 0 | \n",
       "\n",
       "\n"
      ],
      "text/plain": [
       "  A B C D E F\n",
       "A 0 5 3 0 8 0\n",
       "B 5 0 1 4 3 6\n",
       "C 3 1 0 0 7 0\n",
       "D 0 4 0 0 1 3\n",
       "E 8 3 7 1 0 2\n",
       "F 0 6 0 3 2 0"
      ]
     },
     "metadata": {},
     "output_type": "display_data"
    }
   ],
   "source": [
    "adjm <- get.adjacency(g, attr=\"weight\",sparse=FALSE)\n",
    "adjm[sort(rownames(adjm)),sort(colnames(adjm))]"
   ]
  },
  {
   "cell_type": "code",
   "execution_count": 21,
   "metadata": {},
   "outputs": [
    {
     "data": {
      "image/png": "[encoded data removed]",
      "text/plain": [
       "Plot with title “”"
      ]
     },
     "metadata": {},
     "output_type": "display_data"
    }
   ],
   "source": [
    "options(repr.plot.width=6,repr.plot.height=6)\n",
    "\n",
    "E(g)$color <- \"gray\"\n",
    "E(g, path=unlist(shortest_path$vpath))$color <- \"darkred\"\n",
    "\n",
    "plot(g, layout=layout_nicely(g),\n",
    "     vertex.color=\"steelblue\",vertex.size=30,vertex.frame.color=\"gray\",\n",
    "     edge.label=E(g)$weight,edge.label.cex=1.5,edge.width=E(g)$weight)"
   ]
  },
  {
   "cell_type": "code",
   "execution_count": 22,
   "metadata": {},
   "outputs": [
    {
     "data": {
      "text/plain": [
       "+ 5/6 vertices, named, from 00891ee:\n",
       "[1] A C B E F"
      ]
     },
     "metadata": {},
     "output_type": "display_data"
    }
   ],
   "source": [
    "shortest_path$vpath[[1]]"
   ]
  },
  {
   "cell_type": "code",
   "execution_count": 23,
   "metadata": {},
   "outputs": [
    {
     "data": {
      "text/html": [
       "<table>\n",
       "<thead><tr><th></th><th scope=col>A</th><th scope=col>B</th><th scope=col>C</th><th scope=col>E</th><th scope=col>D</th><th scope=col>F</th></tr></thead>\n",
       "<tbody>\n",
       "\t<tr><th scope=row>A</th><td>0</td><td>4</td><td>3</td><td>7</td><td>8</td><td>9</td></tr>\n",
       "\t<tr><th scope=row>B</th><td>4</td><td>0</td><td>1</td><td>3</td><td>4</td><td>5</td></tr>\n",
       "\t<tr><th scope=row>C</th><td>3</td><td>1</td><td>0</td><td>4</td><td>5</td><td>6</td></tr>\n",
       "\t<tr><th scope=row>E</th><td>7</td><td>3</td><td>4</td><td>0</td><td>1</td><td>2</td></tr>\n",
       "\t<tr><th scope=row>D</th><td>8</td><td>4</td><td>5</td><td>1</td><td>0</td><td>3</td></tr>\n",
       "\t<tr><th scope=row>F</th><td>9</td><td>5</td><td>6</td><td>2</td><td>3</td><td>0</td></tr>\n",
       "</tbody>\n",
       "</table>\n"
      ],
      "text/latex": [
       "\\begin{tabular}{r|llllll}\n",
       "  & A & B & C & E & D & F\\\\\n",
       "\\hline\n",
       "\tA & 0 & 4 & 3 & 7 & 8 & 9\\\\\n",
       "\tB & 4 & 0 & 1 & 3 & 4 & 5\\\\\n",
       "\tC & 3 & 1 & 0 & 4 & 5 & 6\\\\\n",
       "\tE & 7 & 3 & 4 & 0 & 1 & 2\\\\\n",
       "\tD & 8 & 4 & 5 & 1 & 0 & 3\\\\\n",
       "\tF & 9 & 5 & 6 & 2 & 3 & 0\\\\\n",
       "\\end{tabular}\n"
      ],
      "text/markdown": [
       "\n",
       "| <!--/--> | A | B | C | E | D | F | \n",
       "|---|---|---|---|---|---|\n",
       "| A | 0 | 4 | 3 | 7 | 8 | 9 | \n",
       "| B | 4 | 0 | 1 | 3 | 4 | 5 | \n",
       "| C | 3 | 1 | 0 | 4 | 5 | 6 | \n",
       "| E | 7 | 3 | 4 | 0 | 1 | 2 | \n",
       "| D | 8 | 4 | 5 | 1 | 0 | 3 | \n",
       "| F | 9 | 5 | 6 | 2 | 3 | 0 | \n",
       "\n",
       "\n"
      ],
      "text/plain": [
       "  A B C E D F\n",
       "A 0 4 3 7 8 9\n",
       "B 4 0 1 3 4 5\n",
       "C 3 1 0 4 5 6\n",
       "E 7 3 4 0 1 2\n",
       "D 8 4 5 1 0 3\n",
       "F 9 5 6 2 3 0"
      ]
     },
     "metadata": {},
     "output_type": "display_data"
    }
   ],
   "source": [
    "distances(g)"
   ]
  },
  {
   "cell_type": "code",
   "execution_count": 24,
   "metadata": {},
   "outputs": [],
   "source": [
    "answer_dictionary[3] <- distances(g,'A','F')"
   ]
  },
  {
   "cell_type": "markdown",
   "metadata": {},
   "source": [
    "## 4.\n",
    "Для групповых операций с файлами используются **маски имён файлов**. \n",
    "\n",
    "Маска представляет собой последовательность букв, цифр и прочих допустимых в именах файлов символов, в которых также могут встречаться следующие символы:\n",
    "\n",
    "Символ `«?»` (вопросительный знак) означает ровно один произвольный символ.\n",
    "\n",
    "Символ `«*»` (звёздочка) означает любую последовательность символов произвольной длины, в том числе `«*»` может задавать и пустую последовательность.\n",
    "\n",
    "Определите, какие из указанных имён файлов \n",
    "\n",
    "1) `blam.docx`\n",
    "\n",
    "2) `plan.ozi`\n",
    "\n",
    "3) `lat.to`\n",
    "\n",
    "4) `blabla.doc`\n",
    "\n",
    "удовлетворяют маске `*la?*.*?o*`.\n",
    "\n",
    "В ответе перечислите номера файлов в порядке возрастания без пробелов и знаков препинания.\n",
    "\n",
    "---\n",
    "\n",
    "For group operations with files, **masks of file names** are used.\n",
    "\n",
    "A mask is a sequence of letters, numbers and other permissible characters in file names, in which the following characters can also occur.\n",
    "\n",
    "The symbol `«?»` (question mark) means exactly one arbitrary character.\n",
    "\n",
    "The symbol `«*»` (asterisk) stands for any sequence of characters of arbitrary length, including `«*»`, which can also specify an empty sequence.\n",
    "\n",
    "Determine which of the specified file names\n",
    "\n",
    "1) `blam.docx`\n",
    "\n",
    "2) `plan.ozi`\n",
    "\n",
    "3) `lat.to`\n",
    "\n",
    "4) `blabla.doc`\n",
    "\n",
    "satisfy the mask `*la?*.*?o*`.\n",
    "\n",
    "In the answer, list file numbers in ascending order without spaces and punctuation marks."
   ]
  },
  {
   "cell_type": "code",
   "execution_count": 25,
   "metadata": {},
   "outputs": [],
   "source": [
    "file_list <- c('blam.docx', 'plan.ozi', 'lat.to', 'blabla.doc')"
   ]
  },
  {
   "cell_type": "code",
   "execution_count": 26,
   "metadata": {},
   "outputs": [
    {
     "data": {
      "text/html": [
       "<ol class=list-inline>\n",
       "\t<li>TRUE</li>\n",
       "\t<li>FALSE</li>\n",
       "\t<li>TRUE</li>\n",
       "\t<li>TRUE</li>\n",
       "</ol>\n"
      ],
      "text/latex": [
       "\\begin{enumerate*}\n",
       "\\item TRUE\n",
       "\\item FALSE\n",
       "\\item TRUE\n",
       "\\item TRUE\n",
       "\\end{enumerate*}\n"
      ],
      "text/markdown": [
       "1. TRUE\n",
       "2. FALSE\n",
       "3. TRUE\n",
       "4. TRUE\n",
       "\n",
       "\n"
      ],
      "text/plain": [
       "[1]  TRUE FALSE  TRUE  TRUE"
      ]
     },
     "metadata": {},
     "output_type": "display_data"
    }
   ],
   "source": [
    "mask_files <- grepl(\"^.*la..*\\\\..*.o.*$\", file_list)\n",
    "mask_files"
   ]
  },
  {
   "cell_type": "code",
   "execution_count": 27,
   "metadata": {},
   "outputs": [
    {
     "data": {
      "text/html": [
       "'134'"
      ],
      "text/latex": [
       "'134'"
      ],
      "text/markdown": [
       "'134'"
      ],
      "text/plain": [
       "[1] \"134\""
      ]
     },
     "metadata": {},
     "output_type": "display_data"
    }
   ],
   "source": [
    "result <- ''\n",
    "\n",
    "for (i in 1:4) {\n",
    "    if (mask_files[i] == TRUE) {\n",
    "        result <- paste(result,toString(i),sep='')\n",
    "    }\n",
    "}\n",
    "\n",
    "result"
   ]
  },
  {
   "cell_type": "code",
   "execution_count": 28,
   "metadata": {},
   "outputs": [],
   "source": [
    "answer_dictionary[4] <- result"
   ]
  },
  {
   "cell_type": "markdown",
   "metadata": {},
   "source": [
    "## 5.\n",
    "Для кодирования некоторой последовательности, состоящей из букв `A`, `B`, `C`, `D` и`E`, используется неравномерный двоичный код,\n",
    "\n",
    "позволяющий однозначно декодировать полученную двоичную последовательность. \n",
    "\n",
    "Вот этот код: <i style=\"font-size:130%;\" class=\"font-effect-canvas-print\">`A-110, B-01, C-001, D-111, E-100`</i>. \n",
    "\n",
    "Можно ли сократить для одной или нескольких букв длину кодового слова, удалив в нём один или несколько последних символов, \n",
    "\n",
    "чтобы код по-прежнему можно было декодировать однозначно?\n",
    "\n",
    "Запишите ответ в виде: буква, кодовое слово. Если таких букв несколько, то далее через запятую перечислите буквы и их коды. \n",
    "\n",
    "Буквы перечислять в алфавитном порядке. \n",
    "\n",
    "Например, если бы ответ был «Для буквы `F` новый код будет `110`, а для буквы `G` новый код будет `101`», ответ нужно записать как: <i style=\"font-size:130%;\" class=\"font-effect-canvas-print\">`F110,G101`</i>. \n",
    "\n",
    "Если невозможно ничего сократить, запишите в ответе просто цифру `0`.\n",
    "\n",
    "---\n",
    "\n",
    "To encode some sequence consisting of the letters `A`, ` B`,  `C`, ` D` and `E`, an unequal binary code is used, \n",
    "\n",
    "which uniquely decodes the resulting binary sequence.\n",
    "\n",
    "Here is the code:  <i style=\"font-size:130%;\" class=\"font-effect-canvas-print\">`A-110, B-01, C-001, D-111, E-100`</i>.\n",
    "\n",
    "Is it possible to shorten the length of a codeword for one or more letters by deleting one or more of the last characters in it \n",
    "\n",
    "so that the code can still be decoded uniquely?\n",
    "\n",
    "Write down the answer in the form: a letter, a code word. \n",
    "\n",
    "If there are several such letters, then through the comma, list the letters and their codes. \n",
    "\n",
    "Letters should be in the alphabetical order. \n",
    "\n",
    "For example, if the answer was \"For the letter `F` the new code will be `110`, and for the letter `G` the new code will be `101`, the answer needs to be written as: <i style=\"font-size:130%;\" class=\"font-effect-canvas-print\">`F110,G101`</i>. \n",
    "\n",
    "If it is impossible to shorten anything, write down in the answer just the number `0`."
   ]
  },
  {
   "cell_type": "markdown",
   "metadata": {},
   "source": [
    "В решении использован Алгоритм Шеннона — Фано.\n",
    "\n",
    "Самые короткие коды `0` и `1` не могут быть использованы - с них уже начинается не одно кодовое слово.\n",
    "\n",
    "Следующая бинарная комбинация - из двух цифр. В начале кодовых слов встречаются все возможные варианты `01`, `10`, `11`, `00`.\n",
    "\n",
    "Однако используется как слово из двух символов только `01`, а повторяется в начале слов из трех символов - только `11`. \n",
    "\n",
    "Значит, коды <i style=\"font-size:130%;\" class=\"font-effect-canvas-print\">`C-001, E-100`</i> можно сократить до <i style=\"font-size:130%;\" class=\"font-effect-canvas-print\">`C-00, E-10`</i>.\n",
    "\n",
    "---\n",
    "\n",
    "The solution uses the Shannon-Fano Algorithm.\n",
    "\n",
    "The shortest codes `0` and `1` cannot be used - they have already situated at the beginning of more than one codeword.\n",
    "\n",
    "The next binary combination is two-digit. At the beginning of the code words, all possible variants `01`, `10`, `11`, `00` are encountered. \n",
    "\n",
    "However, only `01` is used as a word of two characters and only `11` is repeated at the beginning of words of three characters.\n",
    "\n",
    "Hence, the codes <i style=\"font-size:130%;\" class=\"font-effect-canvas-print\">`C-001, E-100`</i> can be shortened to <i style=\"font-size:130%;\" class=\"font-effect-canvas-print\">`C-00, E-10`</i>."
   ]
  },
  {
   "cell_type": "code",
   "execution_count": 29,
   "metadata": {},
   "outputs": [],
   "source": [
    "answer_dictionary[5] <- 'C00,E10'"
   ]
  },
  {
   "cell_type": "markdown",
   "metadata": {},
   "source": [
    "## 6.\n",
    "Автомат получает на вход два однозначных восьмеричных числа. \n",
    "\n",
    "Каждое из этих чисел не превосходит 6 (если число больше 6, автомат отказывается работать). \n",
    "\n",
    "По этим двум числам вычисляется новое восьмеричное число как произведение полученных чисел.\n",
    "\n",
    "Ученик проанализировал алгоритм и выписал все восьмеричные числа, которые могут быть получены в результате работы алгоритма:\n",
    "\n",
    "$1_8,2_8,3_8,4_8,5_8,6_8,10_8,11_8,12_8,14_8,20_8,22_8,24_8,30_8,36_8,44_8$.\n",
    "\n",
    "Определите, сколько чисел он пропустил.\n",
    "\n",
    "---\n",
    "\n",
    "The automatic system receives two single-digit octal numbers. \n",
    "\n",
    "Each of these numbers does not exceed 6 (if the number is greater than 6, the system refuses to work). \n",
    "\n",
    "For these two numbers, a new octal number is calculated as the product of the numbers obtained.\n",
    "\n",
    "The student analyzed the algorithm and wrote out all octal numbers that can be obtained as a result of the algorithm:\n",
    "\n",
    "$1_8,2_8,3_8,4_8,5_8,6_8,10_8,11_8,12_8,14_8,20_8,22_8,24_8,30_8,36_8,44_8$.\n",
    "\n",
    "Determine how many numbers he missed."
   ]
  },
  {
   "cell_type": "code",
   "execution_count": 30,
   "metadata": {},
   "outputs": [],
   "source": [
    "written_list <- c('1', '2', '3', '4', '5', '6', '10', '11' , \n",
    "                  '12', '14', '20', '22', '24', '30', '36', '44')"
   ]
  },
  {
   "cell_type": "code",
   "execution_count": 31,
   "metadata": {},
   "outputs": [
    {
     "data": {
      "text/html": [
       "<ol class=list-inline>\n",
       "\t<li>1</li>\n",
       "\t<li>2</li>\n",
       "\t<li>3</li>\n",
       "\t<li>4</li>\n",
       "\t<li>5</li>\n",
       "\t<li>6</li>\n",
       "\t<li>8</li>\n",
       "\t<li>9</li>\n",
       "\t<li>10</li>\n",
       "\t<li>12</li>\n",
       "\t<li>16</li>\n",
       "\t<li>18</li>\n",
       "\t<li>20</li>\n",
       "\t<li>24</li>\n",
       "\t<li>30</li>\n",
       "\t<li>36</li>\n",
       "</ol>\n"
      ],
      "text/latex": [
       "\\begin{enumerate*}\n",
       "\\item 1\n",
       "\\item 2\n",
       "\\item 3\n",
       "\\item 4\n",
       "\\item 5\n",
       "\\item 6\n",
       "\\item 8\n",
       "\\item 9\n",
       "\\item 10\n",
       "\\item 12\n",
       "\\item 16\n",
       "\\item 18\n",
       "\\item 20\n",
       "\\item 24\n",
       "\\item 30\n",
       "\\item 36\n",
       "\\end{enumerate*}\n"
      ],
      "text/markdown": [
       "1. 1\n",
       "2. 2\n",
       "3. 3\n",
       "4. 4\n",
       "5. 5\n",
       "6. 6\n",
       "7. 8\n",
       "8. 9\n",
       "9. 10\n",
       "10. 12\n",
       "11. 16\n",
       "12. 18\n",
       "13. 20\n",
       "14. 24\n",
       "15. 30\n",
       "16. 36\n",
       "\n",
       "\n"
      ],
      "text/plain": [
       " [1]  1  2  3  4  5  6  8  9 10 12 16 18 20 24 30 36"
      ]
     },
     "metadata": {},
     "output_type": "display_data"
    }
   ],
   "source": [
    "dec_written_list <- as.vector(sapply(written_list, oct2dec))\n",
    "dec_written_list"
   ]
  },
  {
   "cell_type": "code",
   "execution_count": 32,
   "metadata": {},
   "outputs": [
    {
     "data": {
      "text/html": [
       "<ol class=list-inline>\n",
       "\t<li>1</li>\n",
       "\t<li>2</li>\n",
       "\t<li>3</li>\n",
       "\t<li>4</li>\n",
       "\t<li>5</li>\n",
       "\t<li>6</li>\n",
       "\t<li>8</li>\n",
       "\t<li>9</li>\n",
       "\t<li>10</li>\n",
       "\t<li>12</li>\n",
       "\t<li>15</li>\n",
       "\t<li>16</li>\n",
       "\t<li>18</li>\n",
       "\t<li>20</li>\n",
       "\t<li>24</li>\n",
       "\t<li>25</li>\n",
       "\t<li>30</li>\n",
       "\t<li>36</li>\n",
       "</ol>\n"
      ],
      "text/latex": [
       "\\begin{enumerate*}\n",
       "\\item 1\n",
       "\\item 2\n",
       "\\item 3\n",
       "\\item 4\n",
       "\\item 5\n",
       "\\item 6\n",
       "\\item 8\n",
       "\\item 9\n",
       "\\item 10\n",
       "\\item 12\n",
       "\\item 15\n",
       "\\item 16\n",
       "\\item 18\n",
       "\\item 20\n",
       "\\item 24\n",
       "\\item 25\n",
       "\\item 30\n",
       "\\item 36\n",
       "\\end{enumerate*}\n"
      ],
      "text/markdown": [
       "1. 1\n",
       "2. 2\n",
       "3. 3\n",
       "4. 4\n",
       "5. 5\n",
       "6. 6\n",
       "7. 8\n",
       "8. 9\n",
       "9. 10\n",
       "10. 12\n",
       "11. 15\n",
       "12. 16\n",
       "13. 18\n",
       "14. 20\n",
       "15. 24\n",
       "16. 25\n",
       "17. 30\n",
       "18. 36\n",
       "\n",
       "\n"
      ],
      "text/plain": [
       " [1]  1  2  3  4  5  6  8  9 10 12 15 16 18 20 24 25 30 36"
      ]
     },
     "metadata": {},
     "output_type": "display_data"
    }
   ],
   "source": [
    "right_list <- sort(unique(as.vector(c(1:6) %o% c(1:6))))\n",
    "right_list"
   ]
  },
  {
   "cell_type": "code",
   "execution_count": 33,
   "metadata": {},
   "outputs": [
    {
     "data": {
      "text/html": [
       "<ol class=list-inline>\n",
       "\t<li>1</li>\n",
       "\t<li>2</li>\n",
       "\t<li>3</li>\n",
       "\t<li>4</li>\n",
       "\t<li>5</li>\n",
       "\t<li>6</li>\n",
       "\t<li>7</li>\n",
       "\t<li>8</li>\n",
       "\t<li>9</li>\n",
       "\t<li>10</li>\n",
       "\t<li>&lt;NA&gt;</li>\n",
       "\t<li>11</li>\n",
       "\t<li>12</li>\n",
       "\t<li>13</li>\n",
       "\t<li>14</li>\n",
       "\t<li>&lt;NA&gt;</li>\n",
       "\t<li>15</li>\n",
       "\t<li>16</li>\n",
       "</ol>\n"
      ],
      "text/latex": [
       "\\begin{enumerate*}\n",
       "\\item 1\n",
       "\\item 2\n",
       "\\item 3\n",
       "\\item 4\n",
       "\\item 5\n",
       "\\item 6\n",
       "\\item 7\n",
       "\\item 8\n",
       "\\item 9\n",
       "\\item 10\n",
       "\\item <NA>\n",
       "\\item 11\n",
       "\\item 12\n",
       "\\item 13\n",
       "\\item 14\n",
       "\\item <NA>\n",
       "\\item 15\n",
       "\\item 16\n",
       "\\end{enumerate*}\n"
      ],
      "text/markdown": [
       "1. 1\n",
       "2. 2\n",
       "3. 3\n",
       "4. 4\n",
       "5. 5\n",
       "6. 6\n",
       "7. 7\n",
       "8. 8\n",
       "9. 9\n",
       "10. 10\n",
       "11. &lt;NA&gt;\n",
       "12. 11\n",
       "13. 12\n",
       "14. 13\n",
       "15. 14\n",
       "16. &lt;NA&gt;\n",
       "17. 15\n",
       "18. 16\n",
       "\n",
       "\n"
      ],
      "text/plain": [
       " [1]  1  2  3  4  5  6  7  8  9 10 NA 11 12 13 14 NA 15 16"
      ]
     },
     "metadata": {},
     "output_type": "display_data"
    }
   ],
   "source": [
    "match(right_list, dec_written_list)"
   ]
  },
  {
   "cell_type": "code",
   "execution_count": 34,
   "metadata": {},
   "outputs": [
    {
     "data": {
      "text/html": [
       "2"
      ],
      "text/latex": [
       "2"
      ],
      "text/markdown": [
       "2"
      ],
      "text/plain": [
       "[1] 2"
      ]
     },
     "metadata": {},
     "output_type": "display_data"
    }
   ],
   "source": [
    "n <- sum(is.na(match(right_list, dec_written_list)))\n",
    "n"
   ]
  },
  {
   "cell_type": "code",
   "execution_count": 35,
   "metadata": {},
   "outputs": [],
   "source": [
    "answer_dictionary[6] <- toString(n)"
   ]
  },
  {
   "cell_type": "markdown",
   "metadata": {},
   "source": [
    "## 7.\n",
    "Дан фрагмент электронной таблицы.\n",
    "\n",
    "---\n",
    "\n",
    "The fragment of the spreadsheet is given.\n",
    "\n",
    "| | A | B | C | D |\n",
    "|:-:|:-:|:-:|:-:|:-:|\n",
    "| 1 |   | 3 | 5 | 4 |\n",
    "| 2 | 10 | `=C$3+B3` | 1 | 2 |\n",
    "| 3 | 20 | `=C$2+$C3` | 6 | 7 |\n",
    "\n",
    "Чему станет равным значение ячейки `A1`, если в неё скопировать формулу из ячейки `B2`?\n",
    "\n",
    "Примечание: знак `$` обозначает абсолютную адресацию.\n",
    "\n",
    "---\n",
    "\n",
    "What will the value of the cell `A1` become equal if you copy the formula from the cell `B2` into it?\n",
    "\n",
    "Note: The `$` sign denotes absolute addressing.\n",
    "\n",
    "[Google Sheet](https://drive.google.com/open?id=13XTW3PWXUoUeYK9AZfjlrCcFXbmRNPoJazwd1azoAq8)\n",
    "\n",
    "Результат копирования ячейки.\n",
    "\n",
    "---\n",
    "\n",
    "The result of copying the cell.\n",
    "\n",
    "<div style=\"width:700px; height:260px; overflow:auto;\">\n",
    "    <img src=\"it_images/2017_08_07a.png\" width=\"700\" height=\"260\"/>\n",
    "</div>"
   ]
  },
  {
   "cell_type": "code",
   "execution_count": 36,
   "metadata": {},
   "outputs": [],
   "source": [
    "answer_dictionary[7] <- toString(7 + 10)"
   ]
  },
  {
   "cell_type": "markdown",
   "metadata": {},
   "source": [
    "## 8. \n",
    "Определите, что будет напечатано в результате выполнения следующего фрагмента программы:\n",
    "\n",
    "Determine what will be printed as a result of execution of the following program fragment:\n",
    "<table style=\"width:95%;\">\n",
    "  <tr style=\"color:slategray;font-size:120%;font-family:'Roboto';\">\n",
    "    <th style=\"text-align:center;\">Python</th> \n",
    "    <th style=\"text-align:center;\">R</th>          \n",
    "  </tr>\n",
    "  <tr>\n",
    "    <td style=\"font-weight:bold;text-align:left;\"><pre><code class='python'>\n",
    "\n",
    "k,s = 50,2\n",
    "while s < 1000:\n",
    "    s &#42;= 2\n",
    "    k -= 3\n",
    "\n",
    "print (k)\n",
    "    </code></pre></td> \n",
    "    <td style=\"font-weight:bold;text-align:left;\"><pre><code class='r'> \n",
    "    \n",
    "k <- 50; s <- 2\n",
    "\n",
    "while (s < 1000) {\n",
    "    s <- s &#42; 2\n",
    "    k <- k - 3\n",
    "}\n",
    "\n",
    "print(k)\n",
    "    </code></pre></td>     \n",
    "  </tr> \n",
    "  <tr style=\"color:slategray;font-size:120%;font-family:'Roboto';\">\n",
    "    <th style=\"text-align:center;\">BASIC</th> \n",
    "    <th style=\"text-align:center;\">Pascal</th>          \n",
    "  </tr>\n",
    "  <tr>\n",
    "    <td style=\"font-weight:bold;text-align:left;\"><pre><code class='basic'>\n",
    "\n",
    "DIM k, s AS INTEGER\n",
    "k = 50\n",
    "s = 2\n",
    "WHILE s < 1000\n",
    "    s = s &#42; 2\n",
    "    k = k - 3\n",
    "WEND\n",
    "PRINT k\n",
    "    </code></pre></td> \n",
    "    <td style=\"font-weight:bold;text-align:left;\"><pre><code class='pascal'> \n",
    "    \n",
    "var k, s : integer;\n",
    "begin\n",
    "    k := 50;\n",
    "    s := 2;\n",
    "    while s < 1000 do\n",
    "        s := s &#42; 2;\n",
    "        k := k - 3;\n",
    "    end;\n",
    "    write(k);\n",
    "end.\n",
    "    </code></pre></td>     \n",
    "  </tr>    \n",
    "  <tr style=\"color:slategray;font-size:120%;font-family:'Roboto';\">\n",
    "    <th style=\"text-align:center;\">C</th> \n",
    "    <th style=\"text-align:center;\">Natural Language Programming</th>          \n",
    "  </tr>\n",
    "  <tr>\n",
    "    <td style=\"font-weight:bold;text-align:left;\"><pre><code class='c'>\n",
    "\n",
    "{\n",
    "    int k, s;\n",
    "    k = 50;\n",
    "    s = 2;\n",
    "    while (s < 1000)\n",
    "    {\n",
    "        s = s &#42; 2;\n",
    "        k = k - 3;\n",
    "    } \n",
    "    printf(\"%d\", k);\n",
    "}\n",
    "    </code></pre></td> \n",
    "    <td style=\"font-weight:bold;text-align:left;\"><pre><code class='nlp'> \n",
    "    \n",
    "\n",
    "нач\n",
    "    цел k, s\n",
    "    k := 50\n",
    "    s := 2\n",
    "    нц пока s < 1000\n",
    "        s := s &#42; 2\n",
    "        k := k - 3\n",
    "    кц\n",
    "    вывод k\n",
    "кон\n",
    "    </code></pre></td>     \n",
    "  </tr>      \n",
    "</table>"
   ]
  },
  {
   "cell_type": "code",
   "execution_count": 37,
   "metadata": {},
   "outputs": [
    {
     "name": "stdout",
     "output_type": "stream",
     "text": [
      "[1] 23\n"
     ]
    }
   ],
   "source": [
    "k <- 50; s <- 2\n",
    "\n",
    "while (s < 1000) {\n",
    "    s <- s * 2\n",
    "    k <- k - 3\n",
    "}\n",
    "\n",
    "print(k)"
   ]
  },
  {
   "cell_type": "code",
   "execution_count": 38,
   "metadata": {},
   "outputs": [],
   "source": [
    "answer_dictionary[8] <- toString(k)"
   ]
  },
  {
   "cell_type": "markdown",
   "metadata": {},
   "source": [
    "## 9. \n",
    "Музыкальный фрагмент был записан в формате стерео (двухканальная запись), \n",
    "\n",
    "оцифрован и сохранён в виде файла без использования сжатия данных. \n",
    "\n",
    "Размер полученного файла — 16 Мбайт. \n",
    "\n",
    "Затем тот же музыкальный фрагмент был оцифрован повторно в формате моно и \n",
    "\n",
    "оцифрован с разрешением в 1,5 раза выше и частотой дискретизации в 2 раза меньше, чем в первый раз. \n",
    "\n",
    "Сжатие данных не производилось. \n",
    "\n",
    "Укажите размер файла в Мбайт, полученного при повторной записи. \n",
    "\n",
    "В ответе запишите только целое число, единицу измерения писать не нужно.\n",
    "\n",
    "---\n",
    "\n",
    "The musical fragment was recorded in stereo (two-channel recording), \n",
    "\n",
    "digitized and saved as a file without using data compression. \n",
    "\n",
    "The size of the received file is 16 MB. \n",
    "\n",
    "Then the same musical fragment was digitized again in the mono format and \n",
    "\n",
    "digitized with a resolution of 1.5 times higher and a sampling frequency is 2 times less than for the first time. \n",
    "\n",
    "Data compression was not applied. \n",
    "\n",
    "Specify the size of the file in MB, obtained with the re-recording. \n",
    "\n",
    "In the answer, write down only an integer, you do not need to write a unit of measurement."
   ]
  },
  {
   "cell_type": "markdown",
   "metadata": {},
   "source": [
    "| Показатели | Изменение объема информации |\n",
    "|:-:|:-:|\n",
    "| частота дискретизации | в 2 раза меньше |\n",
    "| разрешение | в 1,5 раза выше |\n",
    "| время записи | одинаковое (тот же музыкальный фрагмент) |\n",
    "| одноканальная (моно) | в 2 раза меньше, чем при стерео записи |\n",
    "\n",
    "Размер полученного файла: $16 \\ / \\ 2 \\ ∗ \\ 1.5 \\ / \\ 2 \\ = \\ 6$ Мбайт.\n",
    "\n",
    "---\n",
    "\n",
    "| Indicators | Changing the volume of information |\n",
    "|:-:|:-:|\n",
    "| sampling frequency | 2 times less |\n",
    "| resolution | 1.5 times higher |\n",
    "| recording time | equal (the same musical fragment) |\n",
    "| single-channel (mono) | 2 times less than with stereo recording |\n",
    "\n",
    "The size of the resulting file: $16 \\ / \\ 2 \\ ∗ \\ 1.5 \\ / \\ 2 \\ = \\ 6$ MB."
   ]
  },
  {
   "cell_type": "code",
   "execution_count": 39,
   "metadata": {},
   "outputs": [],
   "source": [
    "answer_dictionary[9] <- toString(16 / 2 * 1.5 / 2)"
   ]
  },
  {
   "cell_type": "markdown",
   "metadata": {},
   "source": [
    "## 10.\n",
    "[Эллочка-людоедка](https://ru.wikipedia.org/wiki/%D0%AD%D0%BB%D0%BB%D0%BE%D1%87%D0%BA%D0%B0-%D0%BB%D1%8E%D0%B4%D0%BE%D0%B5%D0%B4%D0%BA%D0%B0) (в лексиконе которой, как известно, было всего 30 слов) произносит фразу, состоящую из 10 слов. \n",
    "\n",
    "Какое количество информации (количество бит) сообщает Эллочка?\n",
    "\n",
    "---\n",
    "\n",
    "Ellochka (in her lexicon, as we know, was only 30 words) pronounces a phrase consisting of 10 words.\n",
    "\n",
    "What amount of information (the number of bits) does Ellochka say?"
   ]
  },
  {
   "cell_type": "code",
   "execution_count": 40,
   "metadata": {},
   "outputs": [
    {
     "data": {
      "text/html": [
       "5"
      ],
      "text/latex": [
       "5"
      ],
      "text/markdown": [
       "5"
      ],
      "text/plain": [
       "[1] 5"
      ]
     },
     "metadata": {},
     "output_type": "display_data"
    }
   ],
   "source": [
    "bits_for_one_of_30_words <- ceiling(log2(30))\n",
    "bits_for_one_of_30_words"
   ]
  },
  {
   "cell_type": "code",
   "execution_count": 41,
   "metadata": {},
   "outputs": [],
   "source": [
    "answer_dictionary[10] <- toString(10 * bits_for_one_of_30_words)"
   ]
  },
  {
   "cell_type": "markdown",
   "metadata": {},
   "source": [
    "## 11.\n",
    "Определите, сколько звёздочек будет напечатано в результате вызова F(1) приведённой подпрограммы:\n",
    "\n",
    "Determine how many asterisks will be printed as a result of the calling F(1) of this program fragment:\n",
    "<table style=\"width:95%;\">\n",
    "  <tr style=\"color:slategray;font-size:120%;font-family:'Roboto';\">\n",
    "    <th style=\"text-align:center;\">Python</th> \n",
    "    <th style=\"text-align:center;\">R</th>          \n",
    "  </tr>\n",
    "  <tr>\n",
    "    <td style=\"font-weight:bold;text-align:left;\"><pre><code class='python'>\n",
    "\n",
    "def F(n):\n",
    "    print('&#42;')\n",
    "    if n < 6:\n",
    "        F(n + 2)\n",
    "        F(n + 1)\n",
    "    </code></pre></td> \n",
    "    <td style=\"font-weight:bold;text-align:left;\"><pre><code class='r'> \n",
    "    \n",
    "F <- function(n) {\n",
    "    print('&#42;')\n",
    "    if (n < 6) {\n",
    "        F(n + 2)\n",
    "        F(n + 1)\n",
    "    }\n",
    "}\n",
    "    </code></pre></td>     \n",
    "  </tr> \n",
    "  <tr style=\"color:slategray;font-size:120%;font-family:'Roboto';\">\n",
    "    <th style=\"text-align:center;\">BASIC</th> \n",
    "    <th style=\"text-align:center;\">Pascal</th>          \n",
    "  </tr>\n",
    "  <tr>\n",
    "    <td style=\"font-weight:bold;text-align:left;\"><pre><code class='basic'>\n",
    "\n",
    "SUB F(n)\n",
    "    PRINT \"&#42;\";\n",
    "    IF n < 6 THEN\n",
    "        F(n + 2)\n",
    "        F(n + 1)\n",
    "    END IF\n",
    "END SUB\n",
    "    </code></pre></td> \n",
    "    <td style=\"font-weight:bold;text-align:left;\"><pre><code class='pascal'> \n",
    "    \n",
    "procedure F(n : integer);\n",
    "begin\n",
    "    write('&#42;');\n",
    "    if n < 6 then\n",
    "        F(n + 2);\n",
    "        F(n + 1);\n",
    "    end;\n",
    "end.\n",
    "    </code></pre></td>     \n",
    "  </tr>    \n",
    "  <tr style=\"color:slategray;font-size:120%;font-family:'Roboto';\">\n",
    "    <th style=\"text-align:center;\">C</th> \n",
    "    <th style=\"text-align:center;\">Natural Language Programming</th>          \n",
    "  </tr>\n",
    "  <tr>\n",
    "    <td style=\"font-weight:bold;text-align:left;\"><pre><code class='c'>\n",
    "\n",
    "void F(int n)\n",
    "{\n",
    "    printf(\"&#42;\");\n",
    "    if (n < 6)\n",
    "    {\n",
    "        F(n + 2);\n",
    "        F(n + 1);\n",
    "    }\n",
    "}\n",
    "    </code></pre></td> \n",
    "    <td style=\"font-weight:bold;text-align:left;\"><pre><code class='nlp'> \n",
    "    \n",
    "алг F(цел n)\n",
    "нач\n",
    "    вывод \"&#42;\"\n",
    "    если n < 6 то\n",
    "        F(n + 2)\n",
    "        F(n + 1)\n",
    "    все\n",
    "кон\n",
    "    </code></pre></td>     \n",
    "  </tr>      \n",
    "</table>"
   ]
  },
  {
   "cell_type": "code",
   "execution_count": 42,
   "metadata": {},
   "outputs": [
    {
     "name": "stdout",
     "output_type": "stream",
     "text": [
      "[1] \"* 1\"\n",
      "[1] \"* 2\"\n",
      "[1] \"* 3\"\n",
      "[1] \"* 4\"\n",
      "[1] \"* 5\"\n",
      "[1] \"* 6\"\n",
      "[1] \"* 7\"\n",
      "[1] \"* 8\"\n",
      "[1] \"* 9\"\n",
      "[1] \"* 10\"\n",
      "[1] \"* 11\"\n",
      "[1] \"* 12\"\n",
      "[1] \"* 13\"\n",
      "[1] \"* 14\"\n",
      "[1] \"* 15\"\n",
      "[1] \"* 16\"\n",
      "[1] \"* 17\"\n",
      "[1] \"* 18\"\n",
      "[1] \"* 19\"\n",
      "[1] \"* 20\"\n",
      "[1] \"* 21\"\n",
      "[1] \"* 22\"\n",
      "[1] \"* 23\"\n",
      "[1] \"* 24\"\n",
      "[1] \"* 25\"\n"
     ]
    }
   ],
   "source": [
    "# расширенная версия программы\n",
    "c <- 0\n",
    "F <- function(n) {\n",
    "    c <<- c + 1\n",
    "    print(paste('*',toString(c),sep=' '))\n",
    "    if (n < 6) {\n",
    "        F(n + 2)\n",
    "        F(n + 1)\n",
    "    }\n",
    "}\n",
    "\n",
    "F(1)"
   ]
  },
  {
   "cell_type": "code",
   "execution_count": 43,
   "metadata": {},
   "outputs": [
    {
     "data": {
      "image/png": "[encoded data removed]",
      "text/plain": [
       "Plot with title “”"
      ]
     },
     "metadata": {},
     "output_type": "display_data"
    }
   ],
   "source": [
    "options(repr.plot.width=9,repr.plot.height=9)\n",
    "edges1 <- c('F(1)/1','F(2)/2', 'F(1)/1','F(3)/3', \n",
    "            'F(2)/2','F(3)/4', 'F(2)/2','F(4)/5',\n",
    "            'F(3)/3','F(4)/6', 'F(3)/3','F(5)/7',\n",
    "            'F(3)/4','F(4)/8', 'F(3)/4','F(5)/9',\n",
    "            'F(4)/5','F(5)/10', 'F(4)/5','F(6)/11',\n",
    "            'F(4)/6','F(5)/12', 'F(4)/6','F(6)/13',\n",
    "            'F(4)/8','F(5)/14', 'F(4)/8','F(6)/15',\n",
    "            'F(5)/7','F(6)/16', 'F(5)/7','F(7)/17',\n",
    "            'F(5)/9','F(6)/18', 'F(5)/9','F(7)/19',\n",
    "            'F(5)/10','F(6)/20', 'F(5)/10','F(7)/21',\n",
    "            'F(5)/12','F(6)/22', 'F(5)/12','F(7)/23',\n",
    "            'F(5)/14','F(6)/24', 'F(5)/14','F(7)/25')\n",
    "\n",
    "g1 <- graph(edges1)\n",
    "\n",
    "plot(g1,layout=layout_as_tree(g1),\n",
    "     vertex.color=\"lightsteelblue\",\n",
    "     vertex.size=18,vertex.label.cex=1.1,\n",
    "     vertex.frame.color=\"slategray\",vertex.shape='rectangle')"
   ]
  },
  {
   "cell_type": "code",
   "execution_count": 44,
   "metadata": {},
   "outputs": [],
   "source": [
    "answer_dictionary[11] <- toString(c)"
   ]
  },
  {
   "cell_type": "markdown",
   "metadata": {},
   "source": [
    "## 12.\n",
    "В терминологии сетей TCP/IP маской сети называется двоичное число, определяющее, \n",
    "\n",
    "- какая часть IP-адреса узла сети относится к адресу сети, \n",
    "- а какая — к адресу самого узла в этой сети. \n",
    "\n",
    "Обычно маска записывается по тем же правилам, что и IP-адрес, — в виде четырёх байтов, причём каждый байт записывается в виде десятичного числа. \n",
    "\n",
    "При этом в маске сначала (в старших разрядах) стоят единицы, а затем с некоторого разряда — нули.\n",
    "\n",
    "Адрес сети получается в результате применения поразрядной конъюнкции к заданному IP-адресу узла и маске.\n",
    "\n",
    "Например, если IP-адрес узла равен `231.32.255.131`, а маска равна `255.255.240.0`, то адрес сети равен `231.32.240.0`.\n",
    "\n",
    "Для узла с IP-адресом `205.183.139.102` адрес сети равен `205.183.128.0`. \n",
    "\n",
    "Чему равно наибольшее возможное значение третьего слева байта маски? Ответ запишите в виде десятичного числа.\n",
    "\n",
    "---\n",
    "\n",
    "In the terminology of TCP / IP networks, a network mask is a binary number that \n",
    "\n",
    "- specifies what part of the IP address of the node refers to the network address, \n",
    "- and which one to the host address in that network.\n",
    "\n",
    "Usually, the mask is written according to the same rules as the IP address, in the form of four bytes, and each byte is written as a decimal number. \n",
    "\n",
    "At the same time, in the mask in the binary form, first (in the higher order digits) there are 1, and then from a certain level, zeros.\n",
    "\n",
    "The network address is obtained as a result of applying the bitwise conjunction to the specified node IP address and the mask.\n",
    "\n",
    "For example, if the host's IP address is `231.32.255.131`, and the mask is `255.255.240.0`, then the network address is `231.32.240.0`.\n",
    "\n",
    "For the node with the IP address of `205.183.139.102`, the network address is `205.183.128.0`.\n",
    "\n",
    "What is the greatest possible value of the third byte from the left in the mask? Write the answer in the form of a decimal number."
   ]
  },
  {
   "cell_type": "markdown",
   "metadata": {},
   "source": [
    "1) В бинарной форме третий байт IP-адрес узла равен `10001011` ($139 = 1 * 2^7 + 1 * 2^3 + 1 * 2^1 + 1 * 2^0$).\n",
    "\n",
    "2) В бинарной форме третий байт адреса сети равен `10000000` ($128 = 1 * 2^7$).\n",
    "\n",
    "3) Значение третьего байта маски будет наибольшим при максимально возможном количестве единиц в бинарной форме этого числа.\n",
    "\n",
    "4) Третий байт маски `11110100` в десятичной форме равен: $1 * 2^7 + 1 * 2^6 + 1 * 2^5 + 1 * 2^4 = 240$.\n",
    "\n",
    "5) Шестая цифра маски равна 0 в бинарной форме, поскольку при 1 в данном разряде получается десятичное число 244, а возможные значения маски в этом промежутке 224, 240, 248, 252.\n",
    "\n",
    "---\n",
    "\n",
    "1) In binary form, the third byte of the IP address is `10001011` ($139 = 1 * 2^7 + 1 * 2^3 + 1 * 2^1 + 1 * 2^0$).\n",
    "\n",
    "2) In binary form, the third byte of the network address is `10000000` ($128 = 1 * 2^7$).\n",
    "\n",
    "3) The value of the third byte of the mask will be the largest with the maximum possible number of units in the binary form of this number.\n",
    "\n",
    "4) The third byte of the mask `11110000` in decimal form is equal to: $1 * 2^7 + 1 * 2^6 + 1 * 2^5 + 1 * 2^4 = 240$.\n",
    "\n",
    "5) The sixth digit of the mask is 0 in binary form, because with the value 1 in this bit the decimal number 244 is obtained, but the possible mask values in this range are 224, 240, 248, 252.\n",
    "\n",
    "\n",
    "| Разряды третьего байта | IP-адрес узла | Маска | Адрес сети |\n",
    "|:-:|:-:|:-:|:-:|\n",
    "| Digits of the Third Byte | IP Address | Mask | Network Address |\n",
    "| 1 | 1 | 1 | 1 & 1 = 1 |\n",
    "| 2 | 0 | 1 | 0 & 1 = 0 |\n",
    "| 3 | 0 | 1 | 0 & 1 = 0 |\n",
    "| 4 | 0 | 1 | 0 & 1 = 0 |\n",
    "| 5 | 1 | 0 | 1 & 0 = 0 |\n",
    "| 6 | 0 | 0 | 0 & 0 = 0 |\n",
    "| 7 | 1 | 0 | 1 & 0 = 0 |\n",
    "| 8 | 1 | 0 | 1 & 0 = 0 |"
   ]
  },
  {
   "cell_type": "code",
   "execution_count": 45,
   "metadata": {},
   "outputs": [],
   "source": [
    "options(scipen = 999)\n",
    "\n",
    "dec2bin <- function(n) {\n",
    "  if (n == 0) {\n",
    "      bv <- '0'\n",
    "  } else {\n",
    "      bv <- rep(0, 1 + floor(log(n, 2)))\n",
    "      while (n >= 2) {\n",
    "          pow <- floor(log(n, 2))\n",
    "          bv[1 + pow] <- 1\n",
    "          n <- n - 2^pow\n",
    "      }\n",
    "      bv[1] <- n %% 2\n",
    "      paste(rev(bv), collapse = \"\")\n",
    "  }\n",
    "}\n",
    "bin2dec <- function(n) {\n",
    "  return(sapply(strsplit(as.character(n),split=\"\"), \n",
    "                function(x) sum(as.numeric(x) * 2 ** (rev(seq_along(x) - 1)))))\n",
    "}"
   ]
  },
  {
   "cell_type": "code",
   "execution_count": 46,
   "metadata": {},
   "outputs": [],
   "source": [
    "ip <- unlist(strsplit('205.183.139.102','[.]'))\n",
    "net <- unlist(strsplit('205.183.128.0','[.]'))\n",
    "\n",
    "ip_bin <- ''\n",
    "net_bin <- '' \n",
    "\n",
    "for (i in 1:4) {\n",
    "    ip_bin_cur <- dec2bin(as.integer(ip[i]))\n",
    "    if (nchar(ip_bin_cur) < 8) {\n",
    "        for (k in 1:(8 - nchar(ip_bin_cur))) {\n",
    "           ip_bin_cur <- paste('0',ip_bin_cur,sep='') \n",
    "        }\n",
    "    }\n",
    "\n",
    "    net_bin_cur <- dec2bin(as.integer(net[i]))\n",
    "    if (nchar(net_bin_cur) < 8) {\n",
    "        for (k in 1:(8 - nchar(net_bin_cur))) {\n",
    "           net_bin_cur <- paste('0',net_bin_cur,sep='') \n",
    "        }\n",
    "    }\n",
    "    \n",
    "    ip_bin <- paste(ip_bin,ip_bin_cur,sep='.')\n",
    "    net_bin <- paste(net_bin,net_bin_cur,sep='.')\n",
    "\n",
    "}\n",
    "\n",
    "ip_bin <- substr(ip_bin,2,nchar(ip_bin))\n",
    "net_bin <- substr(net_bin,2,nchar(net_bin))"
   ]
  },
  {
   "cell_type": "code",
   "execution_count": 47,
   "metadata": {},
   "outputs": [
    {
     "data": {
      "text/html": [
       "'11001101.10110111.10001011.01100110'"
      ],
      "text/latex": [
       "'11001101.10110111.10001011.01100110'"
      ],
      "text/markdown": [
       "'11001101.10110111.10001011.01100110'"
      ],
      "text/plain": [
       "[1] \"11001101.10110111.10001011.01100110\""
      ]
     },
     "metadata": {},
     "output_type": "display_data"
    },
    {
     "data": {
      "text/html": [
       "'11001101.10110111.10000000.00000000'"
      ],
      "text/latex": [
       "'11001101.10110111.10000000.00000000'"
      ],
      "text/markdown": [
       "'11001101.10110111.10000000.00000000'"
      ],
      "text/plain": [
       "[1] \"11001101.10110111.10000000.00000000\""
      ]
     },
     "metadata": {},
     "output_type": "display_data"
    }
   ],
   "source": [
    "ip_bin; net_bin"
   ]
  },
  {
   "cell_type": "code",
   "execution_count": 48,
   "metadata": {},
   "outputs": [
    {
     "data": {
      "text/html": [
       "'10001011'"
      ],
      "text/latex": [
       "'10001011'"
      ],
      "text/markdown": [
       "'10001011'"
      ],
      "text/plain": [
       "[1] \"10001011\""
      ]
     },
     "metadata": {},
     "output_type": "display_data"
    },
    {
     "data": {
      "text/html": [
       "'10000000'"
      ],
      "text/latex": [
       "'10000000'"
      ],
      "text/markdown": [
       "'10000000'"
      ],
      "text/plain": [
       "[1] \"10000000\""
      ]
     },
     "metadata": {},
     "output_type": "display_data"
    },
    {
     "data": {
      "text/html": [
       "<ol class=list-inline>\n",
       "\t<li>128</li>\n",
       "\t<li>132</li>\n",
       "\t<li>144</li>\n",
       "\t<li>148</li>\n",
       "\t<li>160</li>\n",
       "\t<li>164</li>\n",
       "\t<li>176</li>\n",
       "\t<li>180</li>\n",
       "\t<li>192</li>\n",
       "\t<li>196</li>\n",
       "\t<li>208</li>\n",
       "\t<li>212</li>\n",
       "\t<li>224</li>\n",
       "\t<li>228</li>\n",
       "\t<li>240</li>\n",
       "\t<li>244</li>\n",
       "</ol>\n"
      ],
      "text/latex": [
       "\\begin{enumerate*}\n",
       "\\item 128\n",
       "\\item 132\n",
       "\\item 144\n",
       "\\item 148\n",
       "\\item 160\n",
       "\\item 164\n",
       "\\item 176\n",
       "\\item 180\n",
       "\\item 192\n",
       "\\item 196\n",
       "\\item 208\n",
       "\\item 212\n",
       "\\item 224\n",
       "\\item 228\n",
       "\\item 240\n",
       "\\item 244\n",
       "\\end{enumerate*}\n"
      ],
      "text/markdown": [
       "1. 128\n",
       "2. 132\n",
       "3. 144\n",
       "4. 148\n",
       "5. 160\n",
       "6. 164\n",
       "7. 176\n",
       "8. 180\n",
       "9. 192\n",
       "10. 196\n",
       "11. 208\n",
       "12. 212\n",
       "13. 224\n",
       "14. 228\n",
       "15. 240\n",
       "16. 244\n",
       "\n",
       "\n"
      ],
      "text/plain": [
       " [1] 128 132 144 148 160 164 176 180 192 196 208 212 224 228 240 244"
      ]
     },
     "metadata": {},
     "output_type": "display_data"
    }
   ],
   "source": [
    "bc8 <- bincombinations(8)\n",
    "mask3 <- c()\n",
    "ip_bin3 <- substr(ip_bin,19,26)\n",
    "net_bin3 <- substr(net_bin,19,26)\n",
    "ip_bin3; net_bin3 \n",
    "\n",
    "ip_bin3 <- unlist(strsplit(ip_bin3,NULL))\n",
    "net_bin3 <- unlist(strsplit(net_bin3,NULL))\n",
    "\n",
    "for (j in 1:256){\n",
    "    c <- 0\n",
    "    for (i in 1:8) {\n",
    "        if (as.integer(as.integer(ip_bin3[i]) & bc8[j,i])== as.integer(net_bin3[i])) {\n",
    "            c <- c + 1\n",
    "        }\n",
    "    }\n",
    "    if (c == 8) {\n",
    "        mask3 <- append(mask3,j-1)\n",
    "    }\n",
    "} \n",
    "\n",
    "mask3"
   ]
  },
  {
   "cell_type": "code",
   "execution_count": 49,
   "metadata": {},
   "outputs": [
    {
     "data": {
      "text/html": [
       "<ol class=list-inline>\n",
       "\t<li>0</li>\n",
       "\t<li>128</li>\n",
       "\t<li>192</li>\n",
       "\t<li>224</li>\n",
       "\t<li>240</li>\n",
       "\t<li>248</li>\n",
       "\t<li>252</li>\n",
       "\t<li>254</li>\n",
       "\t<li>255</li>\n",
       "\t<li>255</li>\n",
       "\t<li>255</li>\n",
       "\t<li>255</li>\n",
       "\t<li>255</li>\n",
       "\t<li>255</li>\n",
       "\t<li>255</li>\n",
       "</ol>\n"
      ],
      "text/latex": [
       "\\begin{enumerate*}\n",
       "\\item 0\n",
       "\\item 128\n",
       "\\item 192\n",
       "\\item 224\n",
       "\\item 240\n",
       "\\item 248\n",
       "\\item 252\n",
       "\\item 254\n",
       "\\item 255\n",
       "\\item 255\n",
       "\\item 255\n",
       "\\item 255\n",
       "\\item 255\n",
       "\\item 255\n",
       "\\item 255\n",
       "\\end{enumerate*}\n"
      ],
      "text/markdown": [
       "1. 0\n",
       "2. 128\n",
       "3. 192\n",
       "4. 224\n",
       "5. 240\n",
       "6. 248\n",
       "7. 252\n",
       "8. 254\n",
       "9. 255\n",
       "10. 255\n",
       "11. 255\n",
       "12. 255\n",
       "13. 255\n",
       "14. 255\n",
       "15. 255\n",
       "\n",
       "\n"
      ],
      "text/plain": [
       " [1]   0 128 192 224 240 248 252 254 255 255 255 255 255 255 255"
      ]
     },
     "metadata": {},
     "output_type": "display_data"
    }
   ],
   "source": [
    "mask_list <- c('240.0.0.0','248.0.0.0','252.0.0.0','254.0.0.0','255.0.0.0',\n",
    "               '255.128.0.0','255.192.0.0','255.224.0.0','255.240.0.0','255.248.0.0', \n",
    "               '255.252.0.0','255.254.0.0','255.255.0.0','255.255.128.0','255.255.192.0',\n",
    "               '255.255.224.0','255.255.240.0','255.255.248.0','255.255.252.0','255.255.254.0',\n",
    "               '255.255.255.0','255.255.255.128','255.255.255.192','255.255.255.224','255.255.255.240',\n",
    "               '255.255.255.248','255.255.255.252')\n",
    "mask3_list <- c()\n",
    "\n",
    "for (i in 1:length(mask_list)) {\n",
    "    if (substr(mask_list[i],1,8) == '255.255.') {\n",
    "        c <- substr(mask_list[i],9,nchar(mask_list[i]))        \n",
    "        c <- as.integer(sub('\\\\..*', '', c))\n",
    "        mask3_list <- append(mask3_list,c)\n",
    "    }\n",
    "}\n",
    "mask3_list"
   ]
  },
  {
   "cell_type": "code",
   "execution_count": 50,
   "metadata": {},
   "outputs": [
    {
     "data": {
      "text/html": [
       "<ol class=list-inline>\n",
       "\t<li>128</li>\n",
       "\t<li>192</li>\n",
       "\t<li>224</li>\n",
       "\t<li>240</li>\n",
       "</ol>\n"
      ],
      "text/latex": [
       "\\begin{enumerate*}\n",
       "\\item 128\n",
       "\\item 192\n",
       "\\item 224\n",
       "\\item 240\n",
       "\\end{enumerate*}\n"
      ],
      "text/markdown": [
       "1. 128\n",
       "2. 192\n",
       "3. 224\n",
       "4. 240\n",
       "\n",
       "\n"
      ],
      "text/plain": [
       "[1] 128 192 224 240"
      ]
     },
     "metadata": {},
     "output_type": "display_data"
    }
   ],
   "source": [
    "intersect(mask3,mask3_list)"
   ]
  },
  {
   "cell_type": "code",
   "execution_count": 51,
   "metadata": {},
   "outputs": [],
   "source": [
    "answer_dictionary[12] <- max(intersect(mask3,mask3_list))"
   ]
  },
  {
   "cell_type": "markdown",
   "metadata": {},
   "source": [
    "## 13.\n",
    "Репетиционный экзамен в некоем регионе сдают 9 потоков по 100 человек в каждом. \n",
    "\n",
    "Каждому из них выделяют специальный код, состоящий из номера потока и номера в потоке. \n",
    "\n",
    "При кодировании этих номеров участников проверяющая система использует минимально возможное количество бит, \n",
    "\n",
    "одинаковое для каждого участника, отдельно номер потока и номер в потоке. \n",
    "\n",
    "При этом для записи кода используется минимально возможное и одинаково целое количество байтов. \n",
    "\n",
    "Каков объём информации (в байтах), записанный устройством после регистрации 80 участников?\n",
    "\n",
    "---\n",
    "\n",
    "A rehearsal exam in a certain region is organized by 9 groups of 100 people each. \n",
    "\n",
    "Each of them is allocated a special code consisting of the group number and the number in this group. \n",
    "\n",
    "When coding these participant numbers, the verification system uses the minimum possible number of bits, \n",
    "\n",
    "the same for each participant, separately for the group number and for the number in the group. \n",
    "\n",
    "At the same time, the minimum possible and the same integer number of bytes is used to write the whole participant code. \n",
    "\n",
    "What is the amount of information (in bytes) recorded by the device after registration of 80 participants?"
   ]
  },
  {
   "cell_type": "markdown",
   "metadata": {},
   "source": [
    "1)  $3 < log_2{9} < 4  => 4$ (бит) - необходимо для кодирования номера потока.\n",
    "\n",
    "Количество возможных вариантов кодировки ($2^4$) не должно быть меньше количества имеющейся информации (9  номеров), \n",
    "\n",
    "округление в данном случае - всегда в большую сторону.\n",
    "\n",
    "2)  $6 < log_2{100} < 7  => 7$ (бит) - необходимо для кодирования номера участника в потоке.\n",
    "\n",
    "3)  $(4 + 7) \\ / \\ 8 \\ = \\ 1.375 \\ \\approx \\ 2$  (байта) - для двух видов номеров.\n",
    "\n",
    "Количество байт - целое число, и округление опять должно быть только в большую сторону.\n",
    "\n",
    "4)  $80 \\ ∗ \\ 2 \\ = \\ 160$ (байт) - необходимо для кодирования информации о 80 участниках.\n",
    "\n",
    "---\n",
    "\n",
    "1) $3 < log_2{9} < 4  => 4$ (bit) - necessary for encoding the group number.\n",
    "\n",
    "The number of possible encoding options ($2^4$) should not be less than the number of available information (9 numbers), \n",
    "\n",
    "rounding in this case - always on the larger side.\n",
    "\n",
    "2) $6 < log_2{100} < 7  => 7$ (bit) - necessary for encoding the participant number in the group.\n",
    "\n",
    "3) $(4 + 7) \\ / \\ 8 \\ = \\ 1.375 \\ \\approx \\ 2$ (byte) - for two kinds of numbers.\n",
    "\n",
    "The number of bytes is an integer, and rounding should again only be on the larger side.\n",
    "\n",
    "4) $80 \\ ∗ \\ 2 \\ = \\ 160$ (byte) - necessary to encode information about 80 participants."
   ]
  },
  {
   "cell_type": "code",
   "execution_count": 52,
   "metadata": {},
   "outputs": [],
   "source": [
    "answer_dictionary[13] <- ceiling((ceiling(log2(9)) + ceiling(log2(100))) / 8) * 80"
   ]
  },
  {
   "cell_type": "markdown",
   "metadata": {},
   "source": [
    "## 14.\n",
    "Система команд исполнителя РОБОТ, «живущего» в прямоугольном лабиринте на клетчатой плоскости \n",
    "\n",
    "включает 4 команды-приказа и 4 команды проверки условия. Команды-приказы:\n",
    "\n",
    "---\n",
    "\n",
    "The command system of the ROBOT, \"living\" in a rectangular labyrinth on the grid plane, \n",
    "\n",
    "includes 4 moving commands and 4 condition-checking ones. Moving commands:\n",
    "\n",
    "\n",
    "|<p style=\"text-align:center; color:red;\">вверх</p>|<p style=\"text-align:center; color:green;\">вниз</p>|<p style=\"text-align:center; color:red;\">влево</p>|<p style=\"text-align:center; color:green;\">вправо</p>|\n",
    "|-:|-:|-:|-:|\n",
    "|<p style=\"text-align:center; color:red;\">up</p>|<p style=\"text-align:center; color:green;\">down</p>|<p style=\"text-align:center; color:red;\">left</p>|<p style=\"text-align:center; color:green;\">right</p>|\n",
    "\n",
    "При выполнении этих команд РОБОТ перемещается на одну клетку соответственно: вверх ↑, вниз ↓, влево ←, вправо →.\n",
    "\n",
    "Если РОБОТ начнет движение в сторону находящейся рядом с ним стены, то он разрушится и программа прервётся.\n",
    "\n",
    "Другие четыре команды проверяют истинность условия отсутствия стены у каждой стороны той клетки, где находится РОБОТ:\n",
    "\n",
    "---\n",
    "\n",
    "When these commands are executed, ROBOT moves one cell accordingly: up ↑, down ↓, left ←, right →.\n",
    "\n",
    "If ROBOT starts moving towards the wall next to it, it will be destroyed and the program will be stopped.\n",
    "\n",
    "The other four commands verify the truth of the absence of the wall on each side of the cell where ROBOT is located:\n",
    "\n",
    "|<p style=\"text-align:center; color:red;\">сверху свободно</p>|<p style=\"text-align:center; color:green;\">снизу свободно</p>|<p style=\"text-align:center; color:red;\">слева свободно</p>|<p style=\"text-align:center; color:green;\">справа свободно</p>|\n",
    "|-:|-:|-:|-:|\n",
    "|<p style=\"text-align:center; color:red;\">up free</p>|<p style=\"text-align:center; color:green;\">down free</p>|<p style=\"text-align:center; color:red;\">left free</p>|<p style=\"text-align:center; color:green;\">right free</p>|\n",
    "\n",
    "Цикл \n",
    "\n",
    "`ПОКА` $<условие>$\n",
    "\n",
    "- $ последовательность \\ команд $\n",
    "    \n",
    "`КОНЕЦ ПОКА`\n",
    "\n",
    "выполняется, пока условие истинно.\n",
    "\n",
    "В конструкции \n",
    "\n",
    "`ЕСЛИ` $<условие>$\n",
    "\n",
    "- `ТО` $команда \\ 1$\n",
    "\n",
    "- `ИНАЧЕ` $команда \\ 2$\n",
    "    \n",
    "`КОНЕЦ ЕСЛИ`\n",
    "\n",
    "выполняется `команда 1` (если условие истинно) или `команда 2` (если условие ложно).\n",
    "\n",
    "Сколько клеток лабиринта соответствует требованию, что, начав движение в ней и выполнив предложенную программу, \n",
    "\n",
    "РОБОТ уцелеет и остановится в закрашенной клетке (клетка F6)?\n",
    "\n",
    "---\n",
    "\n",
    "The cycle\n",
    "\n",
    "`WHILE` $<condition>$\n",
    "\n",
    "- $command \\ sequence$\n",
    "\n",
    "`END WHILE`\n",
    "\n",
    "is executed until the condition is true.\n",
    "\n",
    "In the construction\n",
    "\n",
    "`IF` $<condition>$\n",
    "\n",
    "- `THEN` $command \\ 1$\n",
    "\n",
    "- `ELSE` $command \\ 2$\n",
    "\n",
    "`END IF`\n",
    "\n",
    "the `command 1` is executed (if the condition is true) or the `command 2` is executed (if the condition is false).\n",
    "\n",
    "How many cells of the labyrinth correspond to the requirement that, after starting the movement in it and executing the proposed program, \n",
    "\n",
    "ROBOT will survive and stop in the shaded cell (F6)?"
   ]
  },
  {
   "cell_type": "markdown",
   "metadata": {},
   "source": [
    "`НАЧАЛО`\n",
    "\n",
    "`ПОКА` $<справа \\; свободно>$ `ИЛИ` $<снизу \\; свободно>$\n",
    "\n",
    "  - `ПОКА` $<справа \\; свободно>$\n",
    "  \n",
    "    - $вправо$\n",
    "\n",
    "  - `КОНЕЦ ПОКА`\n",
    "  \n",
    "  - `ПОКА` $<снизу \\; свободно>$ \n",
    "  \n",
    "    - $вниз$\n",
    "\n",
    "  - `КОНЕЦ ПОКА`\n",
    "  \n",
    "  - `ЕСЛИ` $<справа \\; свободно>$ \n",
    "  \n",
    "    - $вправо$\n",
    "\n",
    "  - `КОНЕЦ ЕСЛИ`  \n",
    "\n",
    "`КОНЕЦ ПОКА`\n",
    "\n",
    "`КОНЕЦ`\n",
    "\n",
    "---\n",
    "\n",
    "`START`\n",
    "\n",
    "`WHILE` $<right \\; free>$ `OR` $<down \\; free>$\n",
    "\n",
    "  - `WHILE` $<right \\; free>$ \n",
    "  \n",
    "    - $right$\n",
    "  \n",
    "  - `END WHILE`\n",
    "  \n",
    "  - `WHILE` $<down \\; free>$ \n",
    "  \n",
    "    - $down$\n",
    "  \n",
    "  - `END WHILE` \n",
    "  \n",
    "  - `IF` $<right \\; free>$ \n",
    "  \n",
    "    - $right$\n",
    "  \n",
    "  - `END IF`  \n",
    "\n",
    "`END WHILE`  \n",
    "\n",
    "`END`"
   ]
  },
  {
   "cell_type": "code",
   "execution_count": 53,
   "metadata": {},
   "outputs": [
    {
     "data": {
      "image/png": "[encoded data removed]",
      "text/plain": [
       "plot without title"
      ]
     },
     "metadata": {},
     "output_type": "display_data"
    }
   ],
   "source": [
    "options(warn = -1,repr.plot.width=3,repr.plot.height=3)\n",
    "par(mar=c(2,2,2,2))\n",
    "\n",
    "plot(c(3.5,4.5,5.5,0.5,1.5,2.5,3.5,4.5,5.5,5.5,3.5,4.5,5.5,5.5,4.5,5.5),\n",
    "     c(0.5,0.5,0.5,1.5,1.5,1.5,1.5,1.5,1.5,2.5,3.5,3.5,3.5,4.5,5.5,5.5),\n",
    "     col='forestgreen',\n",
    "     pch=20,cex=2,xaxt='n',yaxt='n',\n",
    "     xlim=c(0.2,5.8),ylim=c(0.2,5.8))\n",
    "\n",
    "axis(2,las=2,tck=0,col.axis='slategray',cex.axis=1.3,\n",
    "     at=c(0.5,1.5,2.5,3.5,4.5,5.5),labels=c('1','2','3','4','5','6'))\n",
    "axis(1,las=0,tck=0,col.axis='slategray',cex.axis=1.3,\n",
    "     at=c(0.5,1.5,2.5,3.5,4.5,5.5),labels=c('A','B','C','D','E','F'))\n",
    "\n",
    "points(5.5,0.5,pch=7,cex=5,col='coral')\n",
    "points(c(0.5,1.5,2.5,3.5,0.5,1.5,2.5),c(5.5,5.5,5.5,5.5,3.5,3.5,3.5),\n",
    "       col='lightgreen',pch=20,cex=2)\n",
    "points(c(0.5,1.5,2.5,3.5,4.5),c(2.5,2.5,2.5,2.5,2.5),\n",
    "       pch=-c(9658, 9658, 9658, 9658, 9689),\n",
    "       cex=1,col='firebrick')\n",
    "\n",
    "seg <- c(0,3,1,3, 1,4,3,4, 3,4,3,3,\n",
    "        2,1,3,1, 3,1,3,0, 4,2,5,2,\n",
    "        5,2,5,3, 5,4,5,5, 4,5,4,6)\n",
    "\n",
    "for (i in seq(from=1, to=36, by=4)) {\n",
    "     segments(seg[i],seg[i+1],seg[i+2],seg[i+3],\n",
    "              col='slategray',lw=4)\n",
    "}\n",
    "\n",
    "box(col=\"slategray\",lwd=5)\n",
    "grid(nx=6,ny=6,col=\"slategray\",lty=\"dotted\",equilogs = TRUE)"
   ]
  },
  {
   "cell_type": "code",
   "execution_count": 54,
   "metadata": {},
   "outputs": [],
   "source": [
    "answer_dictionary[14] <- '23'"
   ]
  },
  {
   "cell_type": "markdown",
   "metadata": {},
   "source": [
    "## 15.\n",
    "На рисунке — схема дорог, связывающих города $А, Б, В, Г, Д, Е, Ж, З, И, К$. \n",
    "\n",
    "По каждой дороге можно двигаться только в одном направлении, указанном стрелкой. \n",
    "\n",
    "Сколько существует различных путей из города $А$ в город $К$?\n",
    "\n",
    "---\n",
    "\n",
    "In the figure - the scheme of roads is connecting the cities $А, Б, В, Г, Д, Е, Ж, З, И, К$. \n",
    "\n",
    "For each road, it is possible to move only in one direction, indicated by an arrow. \n",
    "\n",
    "How many different paths exist from the city А to the city $К$?"
   ]
  },
  {
   "cell_type": "code",
   "execution_count": 55,
   "metadata": {},
   "outputs": [
    {
     "data": {
      "image/png": "[encoded data removed]",
      "text/plain": [
       "Plot with title “”"
      ]
     },
     "metadata": {},
     "output_type": "display_data"
    }
   ],
   "source": [
    "options(warn = -1,repr.plot.width=5,repr.plot.height=5)\n",
    "edges <- c('А','Б', 'А','В', 'А','Г', 'Б','В', 'Б','Д',\n",
    "           'В','Д', 'В','Е', 'В','Ж', 'В','З', 'Г','В', 'Г','Е',\n",
    "           'Д','И', 'Д','Ж', 'Е','З',\n",
    "           'Ж','И', 'Ж','З', 'Ж','К', 'З','К', 'И','К')\n",
    "g2 <- graph(edges)\n",
    "plot(g2,\n",
    "     vertex.color=\"steelblue\",vertex.size=15,\n",
    "     vertex.frame.color=\"gray\",vertex.shape='square')"
   ]
  },
  {
   "cell_type": "code",
   "execution_count": 56,
   "metadata": {},
   "outputs": [
    {
     "data": {
      "text/html": [
       "<ol>\n",
       "\t<li><ol class=list-inline>\n",
       "\t<li>'А'</li>\n",
       "\t<li>'Б'</li>\n",
       "\t<li>'В'</li>\n",
       "\t<li>'Д'</li>\n",
       "\t<li>'Ж'</li>\n",
       "\t<li>'З'</li>\n",
       "\t<li>'К'</li>\n",
       "</ol>\n",
       "</li>\n",
       "\t<li><ol class=list-inline>\n",
       "\t<li>'А'</li>\n",
       "\t<li>'Б'</li>\n",
       "\t<li>'В'</li>\n",
       "\t<li>'Д'</li>\n",
       "\t<li>'Ж'</li>\n",
       "\t<li>'И'</li>\n",
       "\t<li>'К'</li>\n",
       "</ol>\n",
       "</li>\n",
       "\t<li><ol class=list-inline>\n",
       "\t<li>'А'</li>\n",
       "\t<li>'Б'</li>\n",
       "\t<li>'В'</li>\n",
       "\t<li>'Д'</li>\n",
       "\t<li>'Ж'</li>\n",
       "\t<li>'К'</li>\n",
       "</ol>\n",
       "</li>\n",
       "\t<li><ol class=list-inline>\n",
       "\t<li>'А'</li>\n",
       "\t<li>'Б'</li>\n",
       "\t<li>'В'</li>\n",
       "\t<li>'Д'</li>\n",
       "\t<li>'И'</li>\n",
       "\t<li>'К'</li>\n",
       "</ol>\n",
       "</li>\n",
       "\t<li><ol class=list-inline>\n",
       "\t<li>'А'</li>\n",
       "\t<li>'Б'</li>\n",
       "\t<li>'В'</li>\n",
       "\t<li>'Е'</li>\n",
       "\t<li>'З'</li>\n",
       "\t<li>'К'</li>\n",
       "</ol>\n",
       "</li>\n",
       "\t<li><ol class=list-inline>\n",
       "\t<li>'А'</li>\n",
       "\t<li>'Б'</li>\n",
       "\t<li>'В'</li>\n",
       "\t<li>'Ж'</li>\n",
       "\t<li>'З'</li>\n",
       "\t<li>'К'</li>\n",
       "</ol>\n",
       "</li>\n",
       "\t<li><ol class=list-inline>\n",
       "\t<li>'А'</li>\n",
       "\t<li>'Б'</li>\n",
       "\t<li>'В'</li>\n",
       "\t<li>'Ж'</li>\n",
       "\t<li>'И'</li>\n",
       "\t<li>'К'</li>\n",
       "</ol>\n",
       "</li>\n",
       "\t<li><ol class=list-inline>\n",
       "\t<li>'А'</li>\n",
       "\t<li>'Б'</li>\n",
       "\t<li>'В'</li>\n",
       "\t<li>'Ж'</li>\n",
       "\t<li>'К'</li>\n",
       "</ol>\n",
       "</li>\n",
       "\t<li><ol class=list-inline>\n",
       "\t<li>'А'</li>\n",
       "\t<li>'Б'</li>\n",
       "\t<li>'В'</li>\n",
       "\t<li>'З'</li>\n",
       "\t<li>'К'</li>\n",
       "</ol>\n",
       "</li>\n",
       "\t<li><ol class=list-inline>\n",
       "\t<li>'А'</li>\n",
       "\t<li>'Б'</li>\n",
       "\t<li>'Д'</li>\n",
       "\t<li>'Ж'</li>\n",
       "\t<li>'З'</li>\n",
       "\t<li>'К'</li>\n",
       "</ol>\n",
       "</li>\n",
       "\t<li><ol class=list-inline>\n",
       "\t<li>'А'</li>\n",
       "\t<li>'Б'</li>\n",
       "\t<li>'Д'</li>\n",
       "\t<li>'Ж'</li>\n",
       "\t<li>'И'</li>\n",
       "\t<li>'К'</li>\n",
       "</ol>\n",
       "</li>\n",
       "\t<li><ol class=list-inline>\n",
       "\t<li>'А'</li>\n",
       "\t<li>'Б'</li>\n",
       "\t<li>'Д'</li>\n",
       "\t<li>'Ж'</li>\n",
       "\t<li>'К'</li>\n",
       "</ol>\n",
       "</li>\n",
       "\t<li><ol class=list-inline>\n",
       "\t<li>'А'</li>\n",
       "\t<li>'Б'</li>\n",
       "\t<li>'Д'</li>\n",
       "\t<li>'И'</li>\n",
       "\t<li>'К'</li>\n",
       "</ol>\n",
       "</li>\n",
       "\t<li><ol class=list-inline>\n",
       "\t<li>'А'</li>\n",
       "\t<li>'В'</li>\n",
       "\t<li>'Д'</li>\n",
       "\t<li>'Ж'</li>\n",
       "\t<li>'З'</li>\n",
       "\t<li>'К'</li>\n",
       "</ol>\n",
       "</li>\n",
       "\t<li><ol class=list-inline>\n",
       "\t<li>'А'</li>\n",
       "\t<li>'В'</li>\n",
       "\t<li>'Д'</li>\n",
       "\t<li>'Ж'</li>\n",
       "\t<li>'И'</li>\n",
       "\t<li>'К'</li>\n",
       "</ol>\n",
       "</li>\n",
       "\t<li><ol class=list-inline>\n",
       "\t<li>'А'</li>\n",
       "\t<li>'В'</li>\n",
       "\t<li>'Д'</li>\n",
       "\t<li>'Ж'</li>\n",
       "\t<li>'К'</li>\n",
       "</ol>\n",
       "</li>\n",
       "\t<li><ol class=list-inline>\n",
       "\t<li>'А'</li>\n",
       "\t<li>'В'</li>\n",
       "\t<li>'Д'</li>\n",
       "\t<li>'И'</li>\n",
       "\t<li>'К'</li>\n",
       "</ol>\n",
       "</li>\n",
       "\t<li><ol class=list-inline>\n",
       "\t<li>'А'</li>\n",
       "\t<li>'В'</li>\n",
       "\t<li>'Е'</li>\n",
       "\t<li>'З'</li>\n",
       "\t<li>'К'</li>\n",
       "</ol>\n",
       "</li>\n",
       "\t<li><ol class=list-inline>\n",
       "\t<li>'А'</li>\n",
       "\t<li>'В'</li>\n",
       "\t<li>'Ж'</li>\n",
       "\t<li>'З'</li>\n",
       "\t<li>'К'</li>\n",
       "</ol>\n",
       "</li>\n",
       "\t<li><ol class=list-inline>\n",
       "\t<li>'А'</li>\n",
       "\t<li>'В'</li>\n",
       "\t<li>'Ж'</li>\n",
       "\t<li>'И'</li>\n",
       "\t<li>'К'</li>\n",
       "</ol>\n",
       "</li>\n",
       "\t<li><ol class=list-inline>\n",
       "\t<li>'А'</li>\n",
       "\t<li>'В'</li>\n",
       "\t<li>'Ж'</li>\n",
       "\t<li>'К'</li>\n",
       "</ol>\n",
       "</li>\n",
       "\t<li><ol class=list-inline>\n",
       "\t<li>'А'</li>\n",
       "\t<li>'В'</li>\n",
       "\t<li>'З'</li>\n",
       "\t<li>'К'</li>\n",
       "</ol>\n",
       "</li>\n",
       "\t<li><ol class=list-inline>\n",
       "\t<li>'А'</li>\n",
       "\t<li>'Г'</li>\n",
       "\t<li>'В'</li>\n",
       "\t<li>'Д'</li>\n",
       "\t<li>'Ж'</li>\n",
       "\t<li>'З'</li>\n",
       "\t<li>'К'</li>\n",
       "</ol>\n",
       "</li>\n",
       "\t<li><ol class=list-inline>\n",
       "\t<li>'А'</li>\n",
       "\t<li>'Г'</li>\n",
       "\t<li>'В'</li>\n",
       "\t<li>'Д'</li>\n",
       "\t<li>'Ж'</li>\n",
       "\t<li>'И'</li>\n",
       "\t<li>'К'</li>\n",
       "</ol>\n",
       "</li>\n",
       "\t<li><ol class=list-inline>\n",
       "\t<li>'А'</li>\n",
       "\t<li>'Г'</li>\n",
       "\t<li>'В'</li>\n",
       "\t<li>'Д'</li>\n",
       "\t<li>'Ж'</li>\n",
       "\t<li>'К'</li>\n",
       "</ol>\n",
       "</li>\n",
       "\t<li><ol class=list-inline>\n",
       "\t<li>'А'</li>\n",
       "\t<li>'Г'</li>\n",
       "\t<li>'В'</li>\n",
       "\t<li>'Д'</li>\n",
       "\t<li>'И'</li>\n",
       "\t<li>'К'</li>\n",
       "</ol>\n",
       "</li>\n",
       "\t<li><ol class=list-inline>\n",
       "\t<li>'А'</li>\n",
       "\t<li>'Г'</li>\n",
       "\t<li>'В'</li>\n",
       "\t<li>'Е'</li>\n",
       "\t<li>'З'</li>\n",
       "\t<li>'К'</li>\n",
       "</ol>\n",
       "</li>\n",
       "\t<li><ol class=list-inline>\n",
       "\t<li>'А'</li>\n",
       "\t<li>'Г'</li>\n",
       "\t<li>'В'</li>\n",
       "\t<li>'Ж'</li>\n",
       "\t<li>'З'</li>\n",
       "\t<li>'К'</li>\n",
       "</ol>\n",
       "</li>\n",
       "\t<li><ol class=list-inline>\n",
       "\t<li>'А'</li>\n",
       "\t<li>'Г'</li>\n",
       "\t<li>'В'</li>\n",
       "\t<li>'Ж'</li>\n",
       "\t<li>'И'</li>\n",
       "\t<li>'К'</li>\n",
       "</ol>\n",
       "</li>\n",
       "\t<li><ol class=list-inline>\n",
       "\t<li>'А'</li>\n",
       "\t<li>'Г'</li>\n",
       "\t<li>'В'</li>\n",
       "\t<li>'Ж'</li>\n",
       "\t<li>'К'</li>\n",
       "</ol>\n",
       "</li>\n",
       "\t<li><ol class=list-inline>\n",
       "\t<li>'А'</li>\n",
       "\t<li>'Г'</li>\n",
       "\t<li>'В'</li>\n",
       "\t<li>'З'</li>\n",
       "\t<li>'К'</li>\n",
       "</ol>\n",
       "</li>\n",
       "\t<li><ol class=list-inline>\n",
       "\t<li>'А'</li>\n",
       "\t<li>'Г'</li>\n",
       "\t<li>'Е'</li>\n",
       "\t<li>'З'</li>\n",
       "\t<li>'К'</li>\n",
       "</ol>\n",
       "</li>\n",
       "</ol>\n"
      ],
      "text/latex": [
       "\\begin{enumerate}\n",
       "\\item \\begin{enumerate*}\n",
       "\\item 'А'\n",
       "\\item 'Б'\n",
       "\\item 'В'\n",
       "\\item 'Д'\n",
       "\\item 'Ж'\n",
       "\\item 'З'\n",
       "\\item 'К'\n",
       "\\end{enumerate*}\n",
       "\n",
       "\\item \\begin{enumerate*}\n",
       "\\item 'А'\n",
       "\\item 'Б'\n",
       "\\item 'В'\n",
       "\\item 'Д'\n",
       "\\item 'Ж'\n",
       "\\item 'И'\n",
       "\\item 'К'\n",
       "\\end{enumerate*}\n",
       "\n",
       "\\item \\begin{enumerate*}\n",
       "\\item 'А'\n",
       "\\item 'Б'\n",
       "\\item 'В'\n",
       "\\item 'Д'\n",
       "\\item 'Ж'\n",
       "\\item 'К'\n",
       "\\end{enumerate*}\n",
       "\n",
       "\\item \\begin{enumerate*}\n",
       "\\item 'А'\n",
       "\\item 'Б'\n",
       "\\item 'В'\n",
       "\\item 'Д'\n",
       "\\item 'И'\n",
       "\\item 'К'\n",
       "\\end{enumerate*}\n",
       "\n",
       "\\item \\begin{enumerate*}\n",
       "\\item 'А'\n",
       "\\item 'Б'\n",
       "\\item 'В'\n",
       "\\item 'Е'\n",
       "\\item 'З'\n",
       "\\item 'К'\n",
       "\\end{enumerate*}\n",
       "\n",
       "\\item \\begin{enumerate*}\n",
       "\\item 'А'\n",
       "\\item 'Б'\n",
       "\\item 'В'\n",
       "\\item 'Ж'\n",
       "\\item 'З'\n",
       "\\item 'К'\n",
       "\\end{enumerate*}\n",
       "\n",
       "\\item \\begin{enumerate*}\n",
       "\\item 'А'\n",
       "\\item 'Б'\n",
       "\\item 'В'\n",
       "\\item 'Ж'\n",
       "\\item 'И'\n",
       "\\item 'К'\n",
       "\\end{enumerate*}\n",
       "\n",
       "\\item \\begin{enumerate*}\n",
       "\\item 'А'\n",
       "\\item 'Б'\n",
       "\\item 'В'\n",
       "\\item 'Ж'\n",
       "\\item 'К'\n",
       "\\end{enumerate*}\n",
       "\n",
       "\\item \\begin{enumerate*}\n",
       "\\item 'А'\n",
       "\\item 'Б'\n",
       "\\item 'В'\n",
       "\\item 'З'\n",
       "\\item 'К'\n",
       "\\end{enumerate*}\n",
       "\n",
       "\\item \\begin{enumerate*}\n",
       "\\item 'А'\n",
       "\\item 'Б'\n",
       "\\item 'Д'\n",
       "\\item 'Ж'\n",
       "\\item 'З'\n",
       "\\item 'К'\n",
       "\\end{enumerate*}\n",
       "\n",
       "\\item \\begin{enumerate*}\n",
       "\\item 'А'\n",
       "\\item 'Б'\n",
       "\\item 'Д'\n",
       "\\item 'Ж'\n",
       "\\item 'И'\n",
       "\\item 'К'\n",
       "\\end{enumerate*}\n",
       "\n",
       "\\item \\begin{enumerate*}\n",
       "\\item 'А'\n",
       "\\item 'Б'\n",
       "\\item 'Д'\n",
       "\\item 'Ж'\n",
       "\\item 'К'\n",
       "\\end{enumerate*}\n",
       "\n",
       "\\item \\begin{enumerate*}\n",
       "\\item 'А'\n",
       "\\item 'Б'\n",
       "\\item 'Д'\n",
       "\\item 'И'\n",
       "\\item 'К'\n",
       "\\end{enumerate*}\n",
       "\n",
       "\\item \\begin{enumerate*}\n",
       "\\item 'А'\n",
       "\\item 'В'\n",
       "\\item 'Д'\n",
       "\\item 'Ж'\n",
       "\\item 'З'\n",
       "\\item 'К'\n",
       "\\end{enumerate*}\n",
       "\n",
       "\\item \\begin{enumerate*}\n",
       "\\item 'А'\n",
       "\\item 'В'\n",
       "\\item 'Д'\n",
       "\\item 'Ж'\n",
       "\\item 'И'\n",
       "\\item 'К'\n",
       "\\end{enumerate*}\n",
       "\n",
       "\\item \\begin{enumerate*}\n",
       "\\item 'А'\n",
       "\\item 'В'\n",
       "\\item 'Д'\n",
       "\\item 'Ж'\n",
       "\\item 'К'\n",
       "\\end{enumerate*}\n",
       "\n",
       "\\item \\begin{enumerate*}\n",
       "\\item 'А'\n",
       "\\item 'В'\n",
       "\\item 'Д'\n",
       "\\item 'И'\n",
       "\\item 'К'\n",
       "\\end{enumerate*}\n",
       "\n",
       "\\item \\begin{enumerate*}\n",
       "\\item 'А'\n",
       "\\item 'В'\n",
       "\\item 'Е'\n",
       "\\item 'З'\n",
       "\\item 'К'\n",
       "\\end{enumerate*}\n",
       "\n",
       "\\item \\begin{enumerate*}\n",
       "\\item 'А'\n",
       "\\item 'В'\n",
       "\\item 'Ж'\n",
       "\\item 'З'\n",
       "\\item 'К'\n",
       "\\end{enumerate*}\n",
       "\n",
       "\\item \\begin{enumerate*}\n",
       "\\item 'А'\n",
       "\\item 'В'\n",
       "\\item 'Ж'\n",
       "\\item 'И'\n",
       "\\item 'К'\n",
       "\\end{enumerate*}\n",
       "\n",
       "\\item \\begin{enumerate*}\n",
       "\\item 'А'\n",
       "\\item 'В'\n",
       "\\item 'Ж'\n",
       "\\item 'К'\n",
       "\\end{enumerate*}\n",
       "\n",
       "\\item \\begin{enumerate*}\n",
       "\\item 'А'\n",
       "\\item 'В'\n",
       "\\item 'З'\n",
       "\\item 'К'\n",
       "\\end{enumerate*}\n",
       "\n",
       "\\item \\begin{enumerate*}\n",
       "\\item 'А'\n",
       "\\item 'Г'\n",
       "\\item 'В'\n",
       "\\item 'Д'\n",
       "\\item 'Ж'\n",
       "\\item 'З'\n",
       "\\item 'К'\n",
       "\\end{enumerate*}\n",
       "\n",
       "\\item \\begin{enumerate*}\n",
       "\\item 'А'\n",
       "\\item 'Г'\n",
       "\\item 'В'\n",
       "\\item 'Д'\n",
       "\\item 'Ж'\n",
       "\\item 'И'\n",
       "\\item 'К'\n",
       "\\end{enumerate*}\n",
       "\n",
       "\\item \\begin{enumerate*}\n",
       "\\item 'А'\n",
       "\\item 'Г'\n",
       "\\item 'В'\n",
       "\\item 'Д'\n",
       "\\item 'Ж'\n",
       "\\item 'К'\n",
       "\\end{enumerate*}\n",
       "\n",
       "\\item \\begin{enumerate*}\n",
       "\\item 'А'\n",
       "\\item 'Г'\n",
       "\\item 'В'\n",
       "\\item 'Д'\n",
       "\\item 'И'\n",
       "\\item 'К'\n",
       "\\end{enumerate*}\n",
       "\n",
       "\\item \\begin{enumerate*}\n",
       "\\item 'А'\n",
       "\\item 'Г'\n",
       "\\item 'В'\n",
       "\\item 'Е'\n",
       "\\item 'З'\n",
       "\\item 'К'\n",
       "\\end{enumerate*}\n",
       "\n",
       "\\item \\begin{enumerate*}\n",
       "\\item 'А'\n",
       "\\item 'Г'\n",
       "\\item 'В'\n",
       "\\item 'Ж'\n",
       "\\item 'З'\n",
       "\\item 'К'\n",
       "\\end{enumerate*}\n",
       "\n",
       "\\item \\begin{enumerate*}\n",
       "\\item 'А'\n",
       "\\item 'Г'\n",
       "\\item 'В'\n",
       "\\item 'Ж'\n",
       "\\item 'И'\n",
       "\\item 'К'\n",
       "\\end{enumerate*}\n",
       "\n",
       "\\item \\begin{enumerate*}\n",
       "\\item 'А'\n",
       "\\item 'Г'\n",
       "\\item 'В'\n",
       "\\item 'Ж'\n",
       "\\item 'К'\n",
       "\\end{enumerate*}\n",
       "\n",
       "\\item \\begin{enumerate*}\n",
       "\\item 'А'\n",
       "\\item 'Г'\n",
       "\\item 'В'\n",
       "\\item 'З'\n",
       "\\item 'К'\n",
       "\\end{enumerate*}\n",
       "\n",
       "\\item \\begin{enumerate*}\n",
       "\\item 'А'\n",
       "\\item 'Г'\n",
       "\\item 'Е'\n",
       "\\item 'З'\n",
       "\\item 'К'\n",
       "\\end{enumerate*}\n",
       "\n",
       "\\end{enumerate}\n"
      ],
      "text/markdown": [
       "1. 1. 'А'\n",
       "2. 'Б'\n",
       "3. 'В'\n",
       "4. 'Д'\n",
       "5. 'Ж'\n",
       "6. 'З'\n",
       "7. 'К'\n",
       "\n",
       "\n",
       "\n",
       "2. 1. 'А'\n",
       "2. 'Б'\n",
       "3. 'В'\n",
       "4. 'Д'\n",
       "5. 'Ж'\n",
       "6. 'И'\n",
       "7. 'К'\n",
       "\n",
       "\n",
       "\n",
       "3. 1. 'А'\n",
       "2. 'Б'\n",
       "3. 'В'\n",
       "4. 'Д'\n",
       "5. 'Ж'\n",
       "6. 'К'\n",
       "\n",
       "\n",
       "\n",
       "4. 1. 'А'\n",
       "2. 'Б'\n",
       "3. 'В'\n",
       "4. 'Д'\n",
       "5. 'И'\n",
       "6. 'К'\n",
       "\n",
       "\n",
       "\n",
       "5. 1. 'А'\n",
       "2. 'Б'\n",
       "3. 'В'\n",
       "4. 'Е'\n",
       "5. 'З'\n",
       "6. 'К'\n",
       "\n",
       "\n",
       "\n",
       "6. 1. 'А'\n",
       "2. 'Б'\n",
       "3. 'В'\n",
       "4. 'Ж'\n",
       "5. 'З'\n",
       "6. 'К'\n",
       "\n",
       "\n",
       "\n",
       "7. 1. 'А'\n",
       "2. 'Б'\n",
       "3. 'В'\n",
       "4. 'Ж'\n",
       "5. 'И'\n",
       "6. 'К'\n",
       "\n",
       "\n",
       "\n",
       "8. 1. 'А'\n",
       "2. 'Б'\n",
       "3. 'В'\n",
       "4. 'Ж'\n",
       "5. 'К'\n",
       "\n",
       "\n",
       "\n",
       "9. 1. 'А'\n",
       "2. 'Б'\n",
       "3. 'В'\n",
       "4. 'З'\n",
       "5. 'К'\n",
       "\n",
       "\n",
       "\n",
       "10. 1. 'А'\n",
       "2. 'Б'\n",
       "3. 'Д'\n",
       "4. 'Ж'\n",
       "5. 'З'\n",
       "6. 'К'\n",
       "\n",
       "\n",
       "\n",
       "11. 1. 'А'\n",
       "2. 'Б'\n",
       "3. 'Д'\n",
       "4. 'Ж'\n",
       "5. 'И'\n",
       "6. 'К'\n",
       "\n",
       "\n",
       "\n",
       "12. 1. 'А'\n",
       "2. 'Б'\n",
       "3. 'Д'\n",
       "4. 'Ж'\n",
       "5. 'К'\n",
       "\n",
       "\n",
       "\n",
       "13. 1. 'А'\n",
       "2. 'Б'\n",
       "3. 'Д'\n",
       "4. 'И'\n",
       "5. 'К'\n",
       "\n",
       "\n",
       "\n",
       "14. 1. 'А'\n",
       "2. 'В'\n",
       "3. 'Д'\n",
       "4. 'Ж'\n",
       "5. 'З'\n",
       "6. 'К'\n",
       "\n",
       "\n",
       "\n",
       "15. 1. 'А'\n",
       "2. 'В'\n",
       "3. 'Д'\n",
       "4. 'Ж'\n",
       "5. 'И'\n",
       "6. 'К'\n",
       "\n",
       "\n",
       "\n",
       "16. 1. 'А'\n",
       "2. 'В'\n",
       "3. 'Д'\n",
       "4. 'Ж'\n",
       "5. 'К'\n",
       "\n",
       "\n",
       "\n",
       "17. 1. 'А'\n",
       "2. 'В'\n",
       "3. 'Д'\n",
       "4. 'И'\n",
       "5. 'К'\n",
       "\n",
       "\n",
       "\n",
       "18. 1. 'А'\n",
       "2. 'В'\n",
       "3. 'Е'\n",
       "4. 'З'\n",
       "5. 'К'\n",
       "\n",
       "\n",
       "\n",
       "19. 1. 'А'\n",
       "2. 'В'\n",
       "3. 'Ж'\n",
       "4. 'З'\n",
       "5. 'К'\n",
       "\n",
       "\n",
       "\n",
       "20. 1. 'А'\n",
       "2. 'В'\n",
       "3. 'Ж'\n",
       "4. 'И'\n",
       "5. 'К'\n",
       "\n",
       "\n",
       "\n",
       "21. 1. 'А'\n",
       "2. 'В'\n",
       "3. 'Ж'\n",
       "4. 'К'\n",
       "\n",
       "\n",
       "\n",
       "22. 1. 'А'\n",
       "2. 'В'\n",
       "3. 'З'\n",
       "4. 'К'\n",
       "\n",
       "\n",
       "\n",
       "23. 1. 'А'\n",
       "2. 'Г'\n",
       "3. 'В'\n",
       "4. 'Д'\n",
       "5. 'Ж'\n",
       "6. 'З'\n",
       "7. 'К'\n",
       "\n",
       "\n",
       "\n",
       "24. 1. 'А'\n",
       "2. 'Г'\n",
       "3. 'В'\n",
       "4. 'Д'\n",
       "5. 'Ж'\n",
       "6. 'И'\n",
       "7. 'К'\n",
       "\n",
       "\n",
       "\n",
       "25. 1. 'А'\n",
       "2. 'Г'\n",
       "3. 'В'\n",
       "4. 'Д'\n",
       "5. 'Ж'\n",
       "6. 'К'\n",
       "\n",
       "\n",
       "\n",
       "26. 1. 'А'\n",
       "2. 'Г'\n",
       "3. 'В'\n",
       "4. 'Д'\n",
       "5. 'И'\n",
       "6. 'К'\n",
       "\n",
       "\n",
       "\n",
       "27. 1. 'А'\n",
       "2. 'Г'\n",
       "3. 'В'\n",
       "4. 'Е'\n",
       "5. 'З'\n",
       "6. 'К'\n",
       "\n",
       "\n",
       "\n",
       "28. 1. 'А'\n",
       "2. 'Г'\n",
       "3. 'В'\n",
       "4. 'Ж'\n",
       "5. 'З'\n",
       "6. 'К'\n",
       "\n",
       "\n",
       "\n",
       "29. 1. 'А'\n",
       "2. 'Г'\n",
       "3. 'В'\n",
       "4. 'Ж'\n",
       "5. 'И'\n",
       "6. 'К'\n",
       "\n",
       "\n",
       "\n",
       "30. 1. 'А'\n",
       "2. 'Г'\n",
       "3. 'В'\n",
       "4. 'Ж'\n",
       "5. 'К'\n",
       "\n",
       "\n",
       "\n",
       "31. 1. 'А'\n",
       "2. 'Г'\n",
       "3. 'В'\n",
       "4. 'З'\n",
       "5. 'К'\n",
       "\n",
       "\n",
       "\n",
       "32. 1. 'А'\n",
       "2. 'Г'\n",
       "3. 'Е'\n",
       "4. 'З'\n",
       "5. 'К'\n",
       "\n",
       "\n",
       "\n",
       "\n",
       "\n"
      ],
      "text/plain": [
       "[[1]]\n",
       "[1] \"А\" \"Б\" \"В\" \"Д\" \"Ж\" \"З\" \"К\"\n",
       "\n",
       "[[2]]\n",
       "[1] \"А\" \"Б\" \"В\" \"Д\" \"Ж\" \"И\" \"К\"\n",
       "\n",
       "[[3]]\n",
       "[1] \"А\" \"Б\" \"В\" \"Д\" \"Ж\" \"К\"\n",
       "\n",
       "[[4]]\n",
       "[1] \"А\" \"Б\" \"В\" \"Д\" \"И\" \"К\"\n",
       "\n",
       "[[5]]\n",
       "[1] \"А\" \"Б\" \"В\" \"Е\" \"З\" \"К\"\n",
       "\n",
       "[[6]]\n",
       "[1] \"А\" \"Б\" \"В\" \"Ж\" \"З\" \"К\"\n",
       "\n",
       "[[7]]\n",
       "[1] \"А\" \"Б\" \"В\" \"Ж\" \"И\" \"К\"\n",
       "\n",
       "[[8]]\n",
       "[1] \"А\" \"Б\" \"В\" \"Ж\" \"К\"\n",
       "\n",
       "[[9]]\n",
       "[1] \"А\" \"Б\" \"В\" \"З\" \"К\"\n",
       "\n",
       "[[10]]\n",
       "[1] \"А\" \"Б\" \"Д\" \"Ж\" \"З\" \"К\"\n",
       "\n",
       "[[11]]\n",
       "[1] \"А\" \"Б\" \"Д\" \"Ж\" \"И\" \"К\"\n",
       "\n",
       "[[12]]\n",
       "[1] \"А\" \"Б\" \"Д\" \"Ж\" \"К\"\n",
       "\n",
       "[[13]]\n",
       "[1] \"А\" \"Б\" \"Д\" \"И\" \"К\"\n",
       "\n",
       "[[14]]\n",
       "[1] \"А\" \"В\" \"Д\" \"Ж\" \"З\" \"К\"\n",
       "\n",
       "[[15]]\n",
       "[1] \"А\" \"В\" \"Д\" \"Ж\" \"И\" \"К\"\n",
       "\n",
       "[[16]]\n",
       "[1] \"А\" \"В\" \"Д\" \"Ж\" \"К\"\n",
       "\n",
       "[[17]]\n",
       "[1] \"А\" \"В\" \"Д\" \"И\" \"К\"\n",
       "\n",
       "[[18]]\n",
       "[1] \"А\" \"В\" \"Е\" \"З\" \"К\"\n",
       "\n",
       "[[19]]\n",
       "[1] \"А\" \"В\" \"Ж\" \"З\" \"К\"\n",
       "\n",
       "[[20]]\n",
       "[1] \"А\" \"В\" \"Ж\" \"И\" \"К\"\n",
       "\n",
       "[[21]]\n",
       "[1] \"А\" \"В\" \"Ж\" \"К\"\n",
       "\n",
       "[[22]]\n",
       "[1] \"А\" \"В\" \"З\" \"К\"\n",
       "\n",
       "[[23]]\n",
       "[1] \"А\" \"Г\" \"В\" \"Д\" \"Ж\" \"З\" \"К\"\n",
       "\n",
       "[[24]]\n",
       "[1] \"А\" \"Г\" \"В\" \"Д\" \"Ж\" \"И\" \"К\"\n",
       "\n",
       "[[25]]\n",
       "[1] \"А\" \"Г\" \"В\" \"Д\" \"Ж\" \"К\"\n",
       "\n",
       "[[26]]\n",
       "[1] \"А\" \"Г\" \"В\" \"Д\" \"И\" \"К\"\n",
       "\n",
       "[[27]]\n",
       "[1] \"А\" \"Г\" \"В\" \"Е\" \"З\" \"К\"\n",
       "\n",
       "[[28]]\n",
       "[1] \"А\" \"Г\" \"В\" \"Ж\" \"З\" \"К\"\n",
       "\n",
       "[[29]]\n",
       "[1] \"А\" \"Г\" \"В\" \"Ж\" \"И\" \"К\"\n",
       "\n",
       "[[30]]\n",
       "[1] \"А\" \"Г\" \"В\" \"Ж\" \"К\"\n",
       "\n",
       "[[31]]\n",
       "[1] \"А\" \"Г\" \"В\" \"З\" \"К\"\n",
       "\n",
       "[[32]]\n",
       "[1] \"А\" \"Г\" \"Е\" \"З\" \"К\"\n"
      ]
     },
     "metadata": {},
     "output_type": "display_data"
    }
   ],
   "source": [
    "paths <- all_simple_paths(g2,'А','К')\n",
    "paths <- lapply(1:length(paths), function(x) as_ids(paths[[x]]))\n",
    "paths"
   ]
  },
  {
   "cell_type": "code",
   "execution_count": 57,
   "metadata": {},
   "outputs": [],
   "source": [
    "answer_dictionary[15] <- toString(length(paths))"
   ]
  },
  {
   "cell_type": "markdown",
   "metadata": {},
   "source": [
    "## 16.\n",
    "Запись числа $64_{10}$ в системе счисления с основанием $N$ оканчивается на $4$ и содержит $3$ цифры. \n",
    "\n",
    "Перечислите через запятую все такие $N$ в порядке возрастания.\n",
    "\n",
    "---\n",
    "\n",
    "Recording the number $64_{10}$ in the number system with the base $N$ ends at $4$ and contains $3$ digits.\n",
    "\n",
    "List all commas separated bases $N$ in ascending order."
   ]
  },
  {
   "cell_type": "markdown",
   "metadata": {},
   "source": [
    "1) Запись числа в системе с основанием $N$ является трехзначной, а значит максимально возможное $N$ равно 8: \n",
    "\n",
    "$64 = 8^2; 64_{10} = 100_8$ => $N \\leq 8$.\n",
    "\n",
    "2) Последняя цифра в записи равна 4 => $N \\geq 5$.\n",
    "\n",
    "3) $N$ является решением уравнения $a * N^2 + b * N^1 + 4 * N^0 = 64 \\iff N * (a* N + b) = 60$, где a,b - натуральные числа из $[5;8]$. \n",
    "\n",
    "=> $N$ должно быть одним из множителей числа 60.\n",
    "\n",
    "4) Пунктам 1), 2), 3) соответствуют только два числа: 5 и 6.\n",
    "\n",
    "---\n",
    "\n",
    "1) Recording the number in the system with the base $ N $ is three-valued, which means that the maximum possible $ N $ is 8: \n",
    "\n",
    "$64 = 8^2; 64_{10} = 100_8$ => $N \\leq 8$.\n",
    "\n",
    "2) The last digit in the entry is 4 => $N \\geq 5$.\n",
    "\n",
    "3) $ N $ is a solution of the equation $a * N^2 + b * N^1 + 4 * N^0 = 64 \\iff N * (a* N + b) = 60$, where a and b are positive integers from $[5, 8]$. \n",
    "\n",
    "=> $N$ must be one of the multipliers of the number 60.\n",
    "\n",
    "4) Only 2 numbers correspond to points 1), 2), 3): 5 and 6."
   ]
  },
  {
   "cell_type": "code",
   "execution_count": 58,
   "metadata": {},
   "outputs": [],
   "source": [
    "answer_dictionary[16] <- '5,6'"
   ]
  },
  {
   "cell_type": "markdown",
   "metadata": {},
   "source": [
    "## 17.\n",
    "В языке запросов к поисковому серверу для обозначения \n",
    "\n",
    "- логической операции `«ИЛИ»` используется символ `|`, \n",
    "- а для логической операции `«И»` — `&`. \n",
    "\n",
    "В таблице приведено количество страниц, которое находит поисковая система по каждому запросу.\n",
    "\n",
    "---\n",
    "\n",
    "In the query language to the search server, \n",
    "\n",
    "- the symbol `\"|\"` is used to indicate the logical operation `\"OR\"`, \n",
    "- and for the logical operation `\"AND\"` - `\"&\"`. \n",
    "\n",
    "The table shows the number of pages that the search engine finds for each query.\n",
    "\n",
    "| Запрос | Количество найденных страниц (в тысячах) |\n",
    "|:-:|:-:|\n",
    "| Query | Number of pages found |\n",
    "| $Ангара$ | 24 |\n",
    "| $Лена$ | 53 |\n",
    "| $Енисей$ | 19 |\n",
    "| $Ангара \\ \\& \\ Лена$ | 21 |\n",
    "| $Ангара \\ \\& \\ Енисей$ | 14 |\n",
    "| $Лена \\ \\& \\ Енисей$ | 17 |\n",
    "| $Ангара \\ \\mid Лена \\mid \\ Енисей$ | 62 |\n",
    "\n",
    "Какое количество страниц (в тысячах) будет найдено этой поисковой системой по запросу $Ангара \\ \\& \\ Лена \\ \\& \\ Енисей$?\n",
    "\n",
    "---\n",
    "\n",
    "How many pages (in thousands) will be found on the query  $Ангара \\ \\& \\ Лена \\ \\& \\ Енисей$?"
   ]
  },
  {
   "cell_type": "code",
   "execution_count": 59,
   "metadata": {},
   "outputs": [
    {
     "data": {
      "text/html": [
       "18"
      ],
      "text/latex": [
       "18"
      ],
      "text/markdown": [
       "18"
      ],
      "text/plain": [
       "[1] 18"
      ]
     },
     "metadata": {},
     "output_type": "display_data"
    }
   ],
   "source": [
    "Angara <- 24; Lena <- 53; Yenisei <- 19\n",
    "Angara_and_Lena <- 21\n",
    "Angara_and_Yenisei <- 14\n",
    "Lena_and_Yenisei <- 17\n",
    "Angara_or_Lena_or_Yenisei <- 62\n",
    "\n",
    "Angara_and_Lena_and_Yenisei <- Angara_or_Lena_or_Yenisei - Angara - Lena - Yenisei +\n",
    "Angara_and_Lena + Angara_and_Yenisei + Lena_and_Yenisei\n",
    "Angara_and_Lena_and_Yenisei"
   ]
  },
  {
   "cell_type": "code",
   "execution_count": 60,
   "metadata": {},
   "outputs": [
    {
     "data": {
      "image/png": "[encoded data removed]",
      "text/plain": [
       "plot without title"
      ]
     },
     "metadata": {},
     "output_type": "display_data"
    }
   ],
   "source": [
    "# the task data produces negative area\n",
    "# data task has changed for correct plotting\n",
    "Angara <- 29; Lena <- 53; Yenisei <- 24\n",
    "Angara_and_Lena <- 21\n",
    "Angara_and_Yenisei <- 19\n",
    "Lena_and_Yenisei <- 22\n",
    "venn.plot <- draw.triple.venn(\n",
    "    area1 = Angara, area2 = Lena, area3 = Yenisei,\n",
    "    n12 = Angara_and_Lena, n23 = Lena_and_Yenisei, n13 = Angara_and_Yenisei,\n",
    "    n123 = Angara_and_Lena_and_Yenisei,\n",
    "    category = c(\"Angara\", \"Lena\", \"Yenisei\"),\n",
    "    fill = c(\"steelblue\", \"coral\", \"lightgreen\"),\n",
    "    lty = \"blank\",\n",
    "    cex = 2, cat.cex = 2, \n",
    "    cat.dist = c(0.1, 0.1, -0.5), cat.pos = c(-5, 5, 0),\n",
    "    cat.col = c(\"steelblue\", \"coral\", \"lightgreen\")\n",
    ");\n",
    "grid.draw(venn.plot);\n",
    "grid.newpage();"
   ]
  },
  {
   "cell_type": "code",
   "execution_count": 61,
   "metadata": {},
   "outputs": [],
   "source": [
    "answer_dictionary[17] <- toString(Angara_and_Lena_and_Yenisei)"
   ]
  },
  {
   "cell_type": "markdown",
   "metadata": {},
   "source": [
    "## 18.\n",
    "На числовой прямой даны отрезки $P = [5, 13]$ и $Q = [8, 19]$. \n",
    "\n",
    "Укажите наименьшую возможную длину такого отрезка A, что формула \n",
    "\n",
    "$(( x \\in P ) \\land \\neg ( x \\in A )) \\to (( x \\in Q ) \\land \\neg ( x \\in A ))$ \n",
    "\n",
    "верна при любых значениях х.\n",
    "\n",
    "---\n",
    "\n",
    "On the number line are given the segments $P = [5, 13]$ and $Q = [8, 19]$.\n",
    "\n",
    "Indicate the smallest possible length of a segment A for which the formula\n",
    "\n",
    "$(( x \\in P ) \\land \\neg ( x \\in A )) \\to (( x \\in Q ) \\land \\neg ( x \\in A ))$\n",
    "\n",
    "is true for any values of x."
   ]
  },
  {
   "cell_type": "markdown",
   "metadata": {},
   "source": [
    "$((x \\in P) \\land \\neg (x \\in A)) \\to ((x \\in Q) \\land \\neg (x \\in A)) \\iff \\\\\n",
    "\\neg ((x \\in P) \\land \\neg (x \\in A)) \\lor ((x \\in Q) \\land \\neg (x \\in A)) \\iff \\\\\n",
    "(\\neg (x \\in P) \\lor \\neg \\neg (x \\in A)) \\lor ((x \\in Q) \\land \\neg (x \\in A)) \\iff \\\\\n",
    "\\neg (x \\in P) \\lor (x \\in A) \\lor ((x \\in Q) \\land \\neg (x \\in A)) \\ (*)$\n",
    "\n",
    "$(*) \\iff (x < 5) \\lor( x > 13) \\lor (x \\in A) \\lor ((8 \\leq x \\leq 19) \\land \\neg (x \\in A)) \\ (**)$\n",
    "\n",
    "Для $(x < 5)$ или $(x > 13)$ выражение $(**)$ верно. \n",
    "\n",
    "Теперь необходимо выбрать $A$ на отрезке $[5, 13]$ ($5 \\leq x \\leq 13$) таким образом, чтобы для любых x из A \n",
    "\n",
    "хотя бы одно из выражений $(x \\in A)$ или $(8 \\leq x \\leq 19) \\land \\neg (x \\in A)$ было верным. \n",
    "\n",
    "Минимально возможным A является отрезок $[5, 8]$. \n",
    "\n",
    "В этом случае для $5 \\leq x \\leq 8$  верно $(x \\in A)$, а для $8 < x \\leq 13$ верно $(8 \\leq x \\leq 19) \\land \\neg (x \\in A)$.\n",
    "\n",
    "---\n",
    "\n",
    "For $(x <5) $ or $ (x> 13)$, the expression $(**)$ is true.\n",
    "\n",
    "Now it is necessary to choose $A$ on the interval $[5, 13]$ ($ 5 \\leq x \\leq 13$) such that for any x in A\n",
    "\n",
    "at least one of the expressions $(x \\in A)$ or $(8 \\leq x \\leq 19) \\land \\neg (x \\in A)$ would be true.\n",
    "\n",
    "The minimum possible A is the interval $[5, 8]$.\n",
    "\n",
    "In this case, for $5 \\leq x \\leq 8$, $(x \\in A)$ is true, and for $8 < x \\leq 13$ the expression $(8 \\leq x \\leq 19) \\land \\neg (x \\in A)$ is true."
   ]
  },
  {
   "cell_type": "code",
   "execution_count": 62,
   "metadata": {},
   "outputs": [],
   "source": [
    "answer_dictionary[18] <- toString(8 - 5) "
   ]
  },
  {
   "cell_type": "markdown",
   "metadata": {},
   "source": [
    "## 19.\n",
    "В программе используется целочисленный массив $A$ с индексами от $0$ до $9$. \n",
    "\n",
    "Значения элементов массива равны $6; 5; 4; 7; 10; 6; 9; 11; 7; 8$ соответственно, т.е. $A[0] = 6$; $A[1] = 5$ и т.д.\n",
    "\n",
    "Определите значение переменной $k$ после выполнения следующего фрагмента программы, \n",
    "\n",
    "записанной ниже на разных языках программирования.\n",
    "\n",
    "---\n",
    "\n",
    "The program uses an integer array $A$ with indices from $0$ to $9$.\n",
    "\n",
    "The values of the array elements are $6, 5, 4, 7, 10, 6, 9, 11, 7, 8$ respectively, i.e. $A[0] = 6$; $A[1] = 5$, etc.\n",
    "\n",
    "Determine the value of the variable $k$ after the execution of the next program fragment, \n",
    "\n",
    "written down below in different programming languages.\n",
    "<table style=\"width:95%;\">\n",
    "  <tr style=\"color:slategray;font-size:120%;font-family:'Roboto';\">\n",
    "    <th style=\"text-align:center;\">Python</th> \n",
    "    <th style=\"text-align:center;\">R</th>          \n",
    "  </tr>\n",
    "  <tr>\n",
    "    <td style=\"font-weight:bold;text-align:left;\"><pre><code class='python'>\n",
    "\n",
    "A = [6,5,4,7,10,6,9,11,7,8]\n",
    "k = 0\n",
    "m = A[0]\n",
    "\n",
    "for i in range(1,10): \n",
    "    if A[i] < m:\n",
    "        k += A[i]\n",
    "    </code></pre></td> \n",
    "    <td style=\"font-weight:bold;text-align:left;\"><pre><code class='r'> \n",
    "    \n",
    "A <- c(6,5,4,7,10,6,9,11,7,8)\n",
    "k <- 0\n",
    "m <- A[1]\n",
    "\n",
    "for (i in 2:10) { \n",
    "    if (A[i] < m) {\n",
    "        k <- k + A[i]\n",
    "    }\n",
    "}\n",
    "    </code></pre></td>     \n",
    "  </tr> \n",
    "</table>"
   ]
  },
  {
   "cell_type": "code",
   "execution_count": 63,
   "metadata": {},
   "outputs": [
    {
     "data": {
      "text/html": [
       "9"
      ],
      "text/latex": [
       "9"
      ],
      "text/markdown": [
       "9"
      ],
      "text/plain": [
       "[1] 9"
      ]
     },
     "metadata": {},
     "output_type": "display_data"
    }
   ],
   "source": [
    "A <- c(6,5,4,7,10,6,9,11,7,8)\n",
    "k <- 0\n",
    "m <- A[1]\n",
    "\n",
    "for (i in 2:10) { \n",
    "    if (A[i] < m) {\n",
    "        k <- k + A[i]\n",
    "    }\n",
    "}\n",
    "\n",
    "k"
   ]
  },
  {
   "cell_type": "code",
   "execution_count": 64,
   "metadata": {},
   "outputs": [],
   "source": [
    "answer_dictionary[19] <- toString(k)"
   ]
  },
  {
   "cell_type": "markdown",
   "metadata": {},
   "source": [
    "## 20.\n",
    "Ниже на нескольких языках записан алгоритм. \n",
    "\n",
    "Получив на вход число $x$, этот алгоритм печатает два числа $L$ и $М$. \n",
    "\n",
    "Укажите наименьшее число $x$, при вводе которого алгоритм печатает сначала `2`, а потом `4`.\n",
    "\n",
    "---\n",
    "\n",
    "Below, in several languages, the algorithm is written.\n",
    "\n",
    "After receiving the number $x$ on the input, this algorithm prints two numbers $L$ and $M$.\n",
    "\n",
    "Specify the smallest number $x$, for which the algorithm prints at first `2`, and then `4`.\n",
    "<table style=\"width:95%;\">\n",
    "  <tr style=\"color:slategray;font-size:120%;font-family:'Roboto';\">\n",
    "    <th style=\"text-align:center;\">Python</th> \n",
    "    <th style=\"text-align:center;\">R</th>          \n",
    "  </tr>\n",
    "  <tr>\n",
    "    <td style=\"font-weight:bold;text-align:left;\"><pre><code class='python'>\n",
    "\n",
    "x = int(input())\n",
    "L, M = 0, 0\n",
    "\n",
    "while x > 0:\n",
    "    M += 1\n",
    "    if x % 4 > 1:\n",
    "        L += 1\n",
    "    x = int(x / 4)\n",
    "\n",
    "print(L, M)\n",
    "    </code></pre></td> \n",
    "    <td style=\"font-weight:bold;text-align:left;\"><pre><code class='r'> \n",
    "    \n",
    "x <- as.integer(readline())\n",
    "L <-0; M <- 0\n",
    "\n",
    "while (x > 0){\n",
    "    M <- M + 1\n",
    "    if (x %% 4 > 1) {\n",
    "        L <- L + 1\n",
    "    }\n",
    "    x <- as.integer(x / 4)\n",
    "}\n",
    "\n",
    "print(paste(L, M, sep=\" \"))\n",
    "    </code></pre></td>     \n",
    "  </tr> \n",
    "</table>"
   ]
  },
  {
   "cell_type": "code",
   "execution_count": 68,
   "metadata": {},
   "outputs": [
    {
     "name": "stdout",
     "output_type": "stream",
     "text": [
      "74\n",
      "[1] \"2 4\"\n"
     ]
    }
   ],
   "source": [
    "x <- as.integer(readline())\n",
    "L <-0; M <- 0\n",
    "\n",
    "while (x > 0){\n",
    "    M <- M + 1\n",
    "    if (x %% 4 > 1) {\n",
    "        L <- L + 1\n",
    "    }\n",
    "    x <- as.integer(x / 4)\n",
    "}\n",
    "\n",
    "print(paste(L, M, sep=\" \"))"
   ]
  },
  {
   "cell_type": "markdown",
   "metadata": {},
   "source": [
    "| Шаг алгоритма / Algorithm steps | Деление на 4 с остатком / Division by 4 with remainders | L | M |\n",
    "|:-:|:-:|:-:|:-:|\n",
    "| 1 | 74 / 4 = 18 (2) | 1 | 1|\n",
    "| 2 | 18 / 4 = 4 (2) | 2 | 2 |\n",
    "| 3 | 4 / 4 = 1 (0) | 2 | 3 |\n",
    "| 4 | 1 / 4 = 0 (1) | 2 | 4 |\n",
    "\n",
    "L увеличивается, если остаток > 1, M увеличивается до тех пор, пока результат деления не станет равным 0.\n",
    "\n",
    "---\n",
    "\n",
    "L increases if the remainder > 1, M increases until the result of division is equal to 0."
   ]
  },
  {
   "cell_type": "code",
   "execution_count": 65,
   "metadata": {},
   "outputs": [
    {
     "name": "stdout",
     "output_type": "stream",
     "text": [
      "[1] \"60 2 3\"\n",
      "[1] \"61 2 3\"\n",
      "[1] \"62 3 3\"\n",
      "[1] \"63 3 3\"\n",
      "[1] \"64 0 4\"\n",
      "[1] \"65 0 4\"\n",
      "[1] \"66 1 4\"\n",
      "[1] \"67 1 4\"\n",
      "[1] \"68 0 4\"\n",
      "[1] \"69 0 4\"\n",
      "[1] \"70 1 4\"\n",
      "[1] \"71 1 4\"\n",
      "[1] \"72 1 4\"\n",
      "[1] \"73 1 4\"\n",
      "[1] \"74 2 4\"\n",
      "[1] \"75 2 4\"\n",
      "[1] \"76 1 4\"\n",
      "[1] \"77 1 4\"\n",
      "[1] \"78 2 4\"\n",
      "[1] \"79 2 4\"\n",
      "[1] \"80 0 4\"\n"
     ]
    },
    {
     "data": {
      "text/html": [
       "74"
      ],
      "text/latex": [
       "74"
      ],
      "text/markdown": [
       "74"
      ],
      "text/plain": [
       "[1] 74"
      ]
     },
     "metadata": {},
     "output_type": "display_data"
    }
   ],
   "source": [
    "# расширенная версия программы\n",
    "MIN <- 1000\n",
    "for (x in 60:80) {\n",
    "    L <-0; M <- 0; t <- x\n",
    "\n",
    "    while (x > 0){\n",
    "        M <- M + 1\n",
    "        if (x %% 4 > 1) {\n",
    "            L <- L + 1\n",
    "        }\n",
    "        x <- as.integer(x / 4)\n",
    "    }\n",
    "    \n",
    "    if (L == 2 & M == 4 & MIN > t) {\n",
    "        MIN <- t\n",
    "    }\n",
    "    print(sprintf(\"%i %i %i\", t, L, M))\n",
    "}\n",
    "\n",
    "MIN"
   ]
  },
  {
   "cell_type": "code",
   "execution_count": 66,
   "metadata": {},
   "outputs": [],
   "source": [
    "answer_dictionary[20] <- toString(MIN)"
   ]
  },
  {
   "cell_type": "markdown",
   "metadata": {},
   "source": [
    "## 21.\n",
    "Определите, при каком наибольшем значении $b$ в результате выполнения следующего алгоритма будет напечатано число `15` \n",
    "\n",
    "(для Вашего удобства алгоритм представлен на нескольких языках):\n",
    "\n",
    "---\n",
    "\n",
    "Determine at what the largest value of $b$ as a result of the following algorithm will be printed number `15` \n",
    "\n",
    "(for your convenience, the algorithm is presented in several languages):\n",
    "<table style=\"width:95%;\">\n",
    "  <tr style=\"color:slategray;font-size:120%;font-family:'Roboto';\">\n",
    "    <th style=\"text-align:center;\">Python</th> \n",
    "    <th style=\"text-align:center;\">R</th>          \n",
    "  </tr>\n",
    "  <tr>\n",
    "    <td style=\"font-weight:bold;text-align:left;\"><pre><code class='python'>\n",
    "\n",
    "def F(x):\n",
    "    if x < 0:\n",
    "        return -1\n",
    "    else:\n",
    "        return int(F(x - 4) + 1)\n",
    "\n",
    "b = int(input())   \n",
    "a = 0\n",
    "while a < F(b):\n",
    "    a += 1\n",
    "    \n",
    "print(a)\n",
    "    </code></pre></td> \n",
    "    <td style=\"font-weight:bold;text-align:left;\"><pre><code class='r'> \n",
    "    \n",
    "F <- function(x) {\n",
    "    if (x < 0) {\n",
    "        return (-1)\n",
    "    } else {\n",
    "        return(F(x - 4) + 1)\n",
    "    }\n",
    "} \n",
    "\n",
    "b <- as.integer(readline())\n",
    "a <- 0\n",
    "\n",
    "while (a < F(b)) {\n",
    "    a <- a + 1\n",
    "}\n",
    "\n",
    "print(a)\n",
    "    </code></pre></td>     \n",
    "  </tr> \n",
    "</table>"
   ]
  },
  {
   "cell_type": "code",
   "execution_count": 67,
   "metadata": {},
   "outputs": [
    {
     "name": "stdout",
     "output_type": "stream",
     "text": [
      "63\n",
      "[1] 15\n"
     ]
    }
   ],
   "source": [
    "F <- function(x) {\n",
    "    if (x < 0) {\n",
    "        return (-1)\n",
    "    } else {\n",
    "        return(F(x - 4) + 1)\n",
    "    }\n",
    "} \n",
    "\n",
    "b <- as.integer(readline())\n",
    "a <- 0\n",
    "\n",
    "while (a < F(b)) {\n",
    "    a <- a + 1\n",
    "}\n",
    "\n",
    "print(a)"
   ]
  },
  {
   "cell_type": "markdown",
   "metadata": {},
   "source": [
    "Алгоритм печатает результат `a` деления на 4 с остатком параметра `b`. \n",
    "\n",
    "При `a = 15` максимально возможное значение `b = 63`: 63 / 4 = 15 (остаток 3).\n",
    "\n",
    "---\n",
    "\n",
    "The algorithm prints the result `a` of division by 4 with the remainders for the parameter `b`.\n",
    "\n",
    "With `a = 15`, the maximum possible value is `b = 63`: 63/4 = 15 (remainder 3)."
   ]
  },
  {
   "cell_type": "code",
   "execution_count": 68,
   "metadata": {},
   "outputs": [
    {
     "name": "stdout",
     "output_type": "stream",
     "text": [
      "[1] \"Pairs [b,a]:\"\n",
      "     [,1] [,2] [,3] [,4] [,5] [,6] [,7] [,8] [,9] [,10] [,11] [,12] [,13] [,14]\n",
      "[1,]   50   51   52   53   54   55   56   57   58    59    60    61    62    63\n",
      "[2,]   12   12   13   13   13   13   14   14   14    14    15    15    15    15\n",
      "     [,15] [,16] [,17] [,18] [,19] [,20] [,21]\n",
      "[1,]    64    65    66    67    68    69    70\n",
      "[2,]    16    16    16    16    17    17    17\n"
     ]
    }
   ],
   "source": [
    "# расширенная версия программы\n",
    "F <- function(x) {\n",
    "    if (x < 0) {\n",
    "        return (-1)\n",
    "    } else {\n",
    "        return(F(x - 4) + 1)\n",
    "    }\n",
    "} \n",
    "\n",
    "A <- matrix(nrow=2, ncol=70-49)\n",
    "\n",
    "for (b in 50:70) {\n",
    "    a <- 0\n",
    "    \n",
    "    while (a < F(b)) {\n",
    "        a <- a + 1\n",
    "    }\n",
    "    \n",
    "    A[1,b-49] <- b\n",
    "    A[2,b-49] <- a    \n",
    "}\n",
    "\n",
    "print(\"Pairs [b,a]:\")\n",
    "print(A)"
   ]
  },
  {
   "cell_type": "code",
   "execution_count": 69,
   "metadata": {},
   "outputs": [],
   "source": [
    "answer_dictionary[21] <- '63'"
   ]
  },
  {
   "cell_type": "markdown",
   "metadata": {},
   "source": [
    "## 22.\n",
    "У исполнителя `Прибавлятель` две команды, которым присвоены номера:\n",
    "\n",
    "$1$. `прибавь 1`,\n",
    "\n",
    "$2$. `прибавь 10`.\n",
    "\n",
    "Первая из них увеличивает число на экране на 1, вторая увеличивает его на 10. \n",
    "\n",
    "Программа для `Прибавлятеля` — это последовательность команд.\n",
    "\n",
    "Сколько есть программ, которые число 1 преобразуют в число 24?\n",
    "\n",
    "---\n",
    "\n",
    "The performer `Additioner` has two enumerated commands:\n",
    "\n",
    "$1$. `add 1`,\n",
    "\n",
    "$2$. `add 10`.\n",
    "\n",
    "The first of them increases the number on the screen by 1, the second one - by 10.\n",
    "\n",
    "The program for `Additioner` is a sequence of commands.\n",
    "\n",
    "How many programs convert the number 1 to the number 24?"
   ]
  },
  {
   "cell_type": "code",
   "execution_count": 70,
   "metadata": {},
   "outputs": [
    {
     "data": {
      "image/png": "[encoded data removed]",
      "text/plain": [
       "Plot with title “”"
      ]
     },
     "metadata": {},
     "output_type": "display_data"
    }
   ],
   "source": [
    "options(repr.plot.width=9,repr.plot.height=9)\n",
    "edges1 <- c('1','2', '1','11', '2','3', '2','12', '11','12 ', '11','21',\n",
    "            '3','4', '3','13', '12','13 ', '12','22', \n",
    "            '12 ',' 13 ', '12 ','22 ', '21',' 22 ', '21','31')\n",
    "\n",
    "elabels <- c('+1','+10', '+1','+10', '+1','+10', '+1','+10',\n",
    "             '+1','+10', '+1','+10', '+1','+10', '+1','+10')\n",
    "\n",
    "g1 <- graph(edges1)\n",
    "\n",
    "plot(g1,layout=layout_as_tree(g1,circular=TRUE),\n",
    "     edge.label=elabels,vertex.color=\"steelblue\",\n",
    "     vertex.size=15,vertex.label.cex=1.5,\n",
    "     vertex.frame.color=\"gray\",vertex.shape='square')"
   ]
  },
  {
   "cell_type": "markdown",
   "metadata": {},
   "source": [
    "| Начальное число → Конечное число | Количество программ | Примечание |\n",
    "|:-|:-|:-|\n",
    "| Start → End | Number of Programs | Notes |\n",
    "| 1 → 2 | 1 | `1+1` |\n",
    "| 1 → 3 | 1 | = 1 → 2 |\n",
    "| 1 → 4 | 1 | = 1 → 3 |\n",
    "| 1 → 5 | 1 | = 1 → 4 |\n",
    "| 1 → 6 | 1 | = 1 → 5 |\n",
    "| 1 → 7 | 1 | = 1 → 6 |\n",
    "| 1 → 8 | 1 | = 1 → 7 |\n",
    "| 1 → 9 | 1 | = 1 → 8 |\n",
    "| 1 → 10 | 1 | = 1 → 9 |\n",
    "| 1 → 11 | 2 | `1+1+1+1+1+1+1+1+1+1`, `10+1` |\n",
    "| 1 → 12 | 3 | = 1 → 11 + 1 → 2 |\n",
    "| 1 → 13 | 4 | = 1 → 12 + 1 → 3 |\n",
    "| 1 → 14 | 5 | = 1 → 13 + 1 → 4 |\n",
    "| 1 → 15 | 6 | = 1 → 14 + 1 → 5 |\n",
    "| 1 → 16 | 7 | = 1 → 15 + 1 → 6 |\n",
    "| 1 → 17 | 8 | = 1 → 16 + 1 → 7 |\n",
    "| 1 → 18 | 9 | = 1 → 17 + 1 → 8 |\n",
    "| 1 → 19 | 10 | = 1 → 18 + 1 → 9 |\n",
    "| 1 → 20 | 11 | = 1 → 19 + 1 → 10 |\n",
    "| 1 → 21 | 13 | = 1 → 20 + 1 → 11 |\n",
    "| 1 → 22 | 16 | = 1 → 21 + 1 → 12 |\n",
    "| 1 → 23 | 20 | = 1 → 22 + 1 → 13 |\n",
    "| 1 → 24 | 25 | = 1 → 23 + 1 → 14 |"
   ]
  },
  {
   "cell_type": "code",
   "execution_count": 71,
   "metadata": {},
   "outputs": [
    {
     "data": {
      "text/html": [
       "131071"
      ],
      "text/latex": [
       "131071"
      ],
      "text/markdown": [
       "131071"
      ],
      "text/plain": [
       "[1] 131071"
      ]
     },
     "metadata": {},
     "output_type": "display_data"
    }
   ],
   "source": [
    "# пример вариантов программы указанного вида\n",
    "x <- c(1)\n",
    "\n",
    "for (i in 0:15) {    \n",
    "    n <- as.integer(length(x) - 2 ** i + 1)\n",
    "    y <- c(); z <- c()\n",
    "    \n",
    "    for (j in n:length(x)) {\n",
    "        y <- c(y, x[j] + 1) \n",
    "        z <- c(z, x[j] + 10)\n",
    "    }\n",
    "    \n",
    "    x <- c(x, y, z)\n",
    "}\n",
    "\n",
    "length(x)"
   ]
  },
  {
   "cell_type": "code",
   "execution_count": 72,
   "metadata": {},
   "outputs": [
    {
     "data": {
      "text/plain": [
       "x\n",
       "   1    2    3    4    5    6    7    8    9   10   11   12   13   14   15   16 \n",
       "   1    1    1    1    1    1    1    1    1    1    2    3    4    5    6    7 \n",
       "  17   18   19   20   21   22   23   24   25   26   27   28   29   30   31   32 \n",
       "   8    8    9   10   12   15   19   24   30   37   28   36   45   55   67   82 \n",
       "  33   34   35   36   37   38   39   40   41   42   43   44   45   46   47   48 \n",
       " 101  125  155   56   84  120  165  220  287  369  470  595   70  126  210  330 \n",
       "  49   50   51   52 \n",
       " 495  715 1002 1371 "
      ]
     },
     "metadata": {},
     "output_type": "display_data"
    }
   ],
   "source": [
    "nt <- table(x)\n",
    "nt[1:52]"
   ]
  },
  {
   "cell_type": "code",
   "execution_count": 73,
   "metadata": {},
   "outputs": [
    {
     "data": {
      "text/html": [
       "<strong>24:</strong> 24"
      ],
      "text/latex": [
       "\\textbf{24:} 24"
      ],
      "text/markdown": [
       "**24:** 24"
      ],
      "text/plain": [
       "24 \n",
       "24 "
      ]
     },
     "metadata": {},
     "output_type": "display_data"
    }
   ],
   "source": [
    "nt[names(nt) == 24]"
   ]
  },
  {
   "cell_type": "code",
   "execution_count": 74,
   "metadata": {},
   "outputs": [],
   "source": [
    "answer_dictionary[22] <- '25'"
   ]
  },
  {
   "cell_type": "markdown",
   "metadata": {},
   "source": [
    "## 23.\n",
    "Сколько существует различных наборов значений логических переменных $x_1, х_2, ... х_{11}, x_{12}$, \n",
    "\n",
    "которые удовлетворяют всем перечисленным ниже условиям? \n",
    "\n",
    "В ответе не нужно перечислять все различные наборы значений $x_1, х_2, ... х_{11}, x_{12}$, \n",
    "\n",
    "при которых выполнена данная система равенств. \n",
    "\n",
    "В качестве ответа вам нужно указать количество таких наборов.\n",
    "\n",
    "---\n",
    "\n",
    "How many different sets of values of logical variables $x_1, х_2, ... х_{11}, x_{12}$ \n",
    "\n",
    "exist that satisfy all the conditions listed below?\n",
    "\n",
    "In the answer it is not necessary to list all the different sets of values $x_1, х_2, ... х_{11}, x_{12}$ \n",
    "\n",
    "for which the given system of equations is satisfied. \n",
    "\n",
    "As an answer, you need to specify only the number of such sets.\n",
    "\n",
    "- $(x_1 \\to x_2) \\land (x_2 \\to x_1) \\land (x_3 \\to x_4) = 1$  **(1)**\n",
    "- $(x_3 \\to x_4) \\land (x_4 \\to x_3) \\land (x_5 \\to x_6) = 1$  **(2)**\n",
    "- $(x_5 \\to x_6) \\land (x_6 \\to x_5) \\land (x_7 \\to x_8) = 1$  **(3)**\n",
    "- $(x_7 \\to x_8) \\land (x_8 \\to x_7) \\land (x_9 \\to x_{10}) = 1$  **(4)**\n",
    "- $(x_9 \\to x_{10}) \\land (x_{10} \\to x_9) \\land (x_{11} \\to x_{12}) = 1$  **(5)**"
   ]
  },
  {
   "cell_type": "markdown",
   "metadata": {},
   "source": [
    "$ \\begin{cases}\n",
    "(x_1 \\to x_2) \\land (x_2 \\to x_1) \\land (x_3 \\to x_4) = 1 \\\\\n",
    "(x_3 \\to x_4) \\land (x_4 \\to x_3) \\land (x_5 \\to x_6) = 1 \\\\\n",
    "(x_5 \\to x_6) \\land (x_6 \\to x_5) \\land (x_7 \\to x_8) = 1 \\\\\n",
    "(x_7 \\to x_8) \\land (x_8 \\to x_7) \\land (x_9 \\to x_{10}) = 1 \\\\\n",
    "(x_9 \\to x_{10}) \\land (x_{10} \\to x_9) \\land (x_{11} \\to x_{12}) = 1\n",
    "\\end{cases} \\iff \\begin{cases}\n",
    "(x_1 \\equiv x_2) \\land (x_3 \\to x_4) = 1 \\ (1*) \\\\\n",
    "(x_3 \\equiv x_4) \\land (x_5 \\to x_6) = 1 \\ (2*) \\\\\n",
    "(x_5 \\equiv x_6) \\land (x_7 \\to x_8) = 1 \\ (3*) \\\\\n",
    "(x_7 \\equiv x_8) \\land (x_9 \\to x_{10}) = 1 \\ (4*) \\\\\n",
    "(x_9 \\equiv x_{10}) \\land (x_{11} \\to x_{12}) = 1 \\ (5*)\n",
    "\\end{cases}$"
   ]
  },
  {
   "cell_type": "markdown",
   "metadata": {},
   "source": [
    "1) Тождество $(1*)$ выполнется только для 6 наборов переменных $(x_1,x_2,x_3,x_4)$ из 16 возможных: \n",
    "\n",
    "(0,0,0,0), (0,0,0,1), (0,0,1,1), (1,1,0,0), (1,1,0,1), (1,1,1,1).\n",
    "\n",
    "2) Эти наборы $(x_1,x_2,x_3,x_4)$ должны пересекаться со множеством решений тождества $(2*)$ для переменных $(x_3,x_4,x_5,x_6)$. \n",
    "\n",
    "Не нарушают истинности $(2*)$ только 4 набора $(x_1,x_2,x_3,x_4)$: (0,0,0,0), (0,0,1,1), (1,1,0,0), (1,1,1,1). \n",
    "\n",
    "При этом переменные $(x_5,x_6)$ могут принимать значения (0,0), (0,1), (1,1). \n",
    "\n",
    "Всего системе тождеств $(1*)$ и $(2*)$ соответствуют $4 * 3 = 12$ вариантов $(x_1,x_2,x_3,x_4,x_5,x_6)$.\n",
    "\n",
    "3) Рассуждая аналогично, получим:\n",
    "\n",
    "   - $(12 - 4) * 3 = 24$ набора $(x_1,x_2,x_3,x_4,x_5,x_6,x_7,x_8)$, являющихся решениями системы $(1*)$, $(2*)$, $(3*)$;\n",
    "\n",
    "   - $(24 - 8) * 3 = 48$ наборов $(x_1,x_2,x_3,x_4,x_5,x_6,x_7,x_8,x_9,x_{10})$, являющихся решениями системы $(1*), (2*), (3*), (4*)$;\n",
    "   \n",
    "   - $(48 - 16) * 3 = 96$ наборов $(x_1,x_2,x_3,x_4,x_5,x_6,x_7,x_8,x_9,x_{10},x_{11},x_{12})$, являющихся решениями системы $(1*), (2*), (3*), (4*), (5*)$.\n",
    "   \n",
    "---\n",
    "\n",
    "1) The identity $(1*)$ is fulfilled only for 6 sets of variables $(x_1,x_2,x_3,x_4)$ from 16 possible ones: \n",
    "\n",
    "(0,0,0,0), (0,0,0,1), (0,0,1,1), (1,1,0,0), (1,1,0,1), (1,1,1,1).\n",
    "\n",
    "2) These sets $(x_1, x_2, x_3, x_4)$ must intersect the set of solutions of the identity $(2*)$ for the variables $(x_3, x_4, x_5, x_6)$. \n",
    "\n",
    "Do not violate the truth of $(2*)$ only 4 sets $(x_1, x_2, x_3, x_4)$: (0,0,0,0), (0,0,1,1), (1,1,0,0), (1,1,1,1). \n",
    "\n",
    "In this case, the variables $(x_5, x_6)$ can take the values (0,0), (0,1), (1,1). \n",
    "\n",
    "In total, $4 * 3 = 12$ variants $(x_1, x_2, x_3, x_4, x_5, x_6)$ correspond to the system of identities $(1*)$ and $(2*)$.\n",
    "\n",
    "3) Arguing similarly, we get:\n",
    "\n",
    "   - $(12 - 4) * 3 = 24$ sets $(x_1, x_2, x_3, x_4, x_5, x_6, x_7, x_8)$ are solutions of the system $(1 *)$, $(2*)$, $(3*)$;\n",
    "\n",
    "   - $(24 - 8) * 3 = 48$ sets $(x_1, x_2, x_3, x_4, x_5, x_6, x_7, x_8, x_9, x_{10})$ are solutions of the system $(1*), (2*), (3*), (4*)$;\n",
    "   \n",
    "   - $(48 - 16) * 3 = 96$ sets $(x_1, x_2, x_3, x_4, x_5, x_6, x_7, x_8, x_9, x_{10}, x_{11}, x_{12})$ are solutions of the system $(1*), (2*), (3*), (4*), (5*)$."
   ]
  },
  {
   "cell_type": "code",
   "execution_count": 75,
   "metadata": {},
   "outputs": [
    {
     "data": {
      "text/html": [
       "96"
      ],
      "text/latex": [
       "96"
      ],
      "text/markdown": [
       "96"
      ],
      "text/plain": [
       "[1] 96"
      ]
     },
     "metadata": {},
     "output_type": "display_data"
    }
   ],
   "source": [
    "# check the decision method\n",
    "bc <- bincombinations(12)\n",
    "c <- 0\n",
    "n <- length(bc)/12\n",
    "x_implies_y <- function(x,y) {!x | y}\n",
    "\n",
    "logical_function <- function(k,l,m,n) {\n",
    "    x_implies_y(k,l) & x_implies_y(l,k) & x_implies_y(m,n)\n",
    "}\n",
    "\n",
    "for (i in 1:n){\n",
    "    el <- bc[i,]\n",
    "    e1 <- logical_function(el[1],el[2],el[3],el[4])\n",
    "    e2 <- logical_function(el[3],el[4],el[5],el[6])\n",
    "    e3 <- logical_function(el[5],el[6],el[7],el[8])\n",
    "    e4 <- logical_function(el[7],el[8],el[9],el[10])\n",
    "    e5 <- logical_function(el[9],el[10],el[11],el[12])\n",
    "    \n",
    "    result <- (e1 == 1) & (e2 == 1) & (e3 == 1) & (e4 == 1) & (e5 == 1)\n",
    "    \n",
    "    if (result == 1) {\n",
    "        c <- c + 1\n",
    "    }\n",
    "}\n",
    "\n",
    "c"
   ]
  },
  {
   "cell_type": "code",
   "execution_count": 76,
   "metadata": {},
   "outputs": [],
   "source": [
    "answer_dictionary[23] <- toString(c)"
   ]
  },
  {
   "cell_type": "markdown",
   "metadata": {},
   "source": [
    "## Часть 2 &nbsp; &nbsp; &nbsp; Part 2\n",
    "## 24.\n",
    "Требовалось написать программу, \n",
    "\n",
    "- которая вводит с клавиатуры последовательность из n целых чисел (n = 4), \n",
    "- и выводит на экран произведение положительных чисел среди этой последовательности. \n",
    "\n",
    "Если в последовательности нет положительных чисел, программа выводит «NO». \n",
    "\n",
    "Известно, что вводимые числа не превышают по модулю 1000. \n",
    "\n",
    "Программист торопился и написал программу неправильно.\n",
    "\n",
    "Выполните следующие действия:\n",
    "\n",
    "$1$. Напишите, что выведет программа при вводе чисел -1 2 -3 4.\n",
    "\n",
    "$2$. Приведите пример такой входной последовательности, при которой программа работает верно.\n",
    "\n",
    "$3$. Укажите все ошибки в программе и исправьте их. \n",
    "\n",
    "Для этого для каждой ошибки: выпишите строку, которая написана неправильно и приведите правильный вариант строки.\n",
    "\n",
    "---\n",
    "\n",
    "It was required to write a program \n",
    "\n",
    "- that enters from the keyboard a sequence of n integers (n = 4) \n",
    "- and displays the product of positive numbers among this sequence. \n",
    "\n",
    "If there are no positive numbers in the sequence, the program displays \"NO\". \n",
    "\n",
    "It is known that the input numbers do not exceed 1000 by the absolute value.\n",
    "\n",
    "The programmer was in a hurry and wrote the program incorrectly.\n",
    "\n",
    "Do the following:\n",
    "\n",
    "$1$. Write what the program will output when you enter numbers -1 2 -3 4.\n",
    "\n",
    "$2$. Give an example of an input sequence for which the program works correctly.\n",
    "\n",
    "$3$. Indicate any errors in the program and correct them. \n",
    "\n",
    "To do this, for each error: write out the line that was written incorrectly and give the correct version of the line.\n",
    "<table style=\"width:95%;\">\n",
    "  <tr style=\"color:slategray;font-size:120%;font-family:'Roboto';\">\n",
    "    <th style=\"text-align:center;\">Python</th> \n",
    "    <th style=\"text-align:center;\">R</th>          \n",
    "  </tr>\n",
    "  <tr>\n",
    "    <td style=\"font-weight:bold;text-align:left;\"><pre><code class='python'>\n",
    "\n",
    "N, PROD, COUNT = 4, 0, 0\n",
    "\n",
    "for I in range(N):\n",
    "    A = int(input())\n",
    "    if A > 0:\n",
    "        PROD += A\n",
    "        COUNT += 1\n",
    "    \n",
    "if COUNT > 0:\n",
    "    print(PROD)\n",
    "else:\n",
    "    print('NO')\n",
    "    </code></pre></td> \n",
    "    <td style=\"font-weight:bold;text-align:left;\"><pre><code class='r'> \n",
    "    \n",
    "N <- 4; PROD <- 0; COUNT <- 0 \n",
    "\n",
    "for (I in 1:N) {\n",
    "    A <- as.integer(readline())\n",
    "    if (A > 0) {\n",
    "        PROD <- PROD + A\n",
    "        COUNT <- COUNT + 1\n",
    "    }\n",
    "} \n",
    "\n",
    "if (COUNT > 0) {\n",
    "    print(PROD)\n",
    "} else {\n",
    "    print('NO')\n",
    "}\n",
    "    </code></pre></td>     \n",
    "  </tr> \n",
    "</table>"
   ]
  },
  {
   "cell_type": "code",
   "execution_count": 77,
   "metadata": {},
   "outputs": [
    {
     "name": "stdout",
     "output_type": "stream",
     "text": [
      "-1\n",
      "2\n",
      "-3\n",
      "4\n",
      "[1] 6\n"
     ]
    }
   ],
   "source": [
    "# the wrong program, the wrong result\n",
    "N <- 4; PROD <- 0; COUNT <- 0 \n",
    "\n",
    "for (I in 1:N) {\n",
    "    A <- as.integer(readline())\n",
    "    if (A > 0) {\n",
    "        PROD <- PROD + A\n",
    "        COUNT <- COUNT + 1\n",
    "    }\n",
    "} \n",
    "\n",
    "if (COUNT > 0) {\n",
    "    print(PROD)\n",
    "} else {\n",
    "    print('NO')\n",
    "}"
   ]
  },
  {
   "cell_type": "code",
   "execution_count": 78,
   "metadata": {},
   "outputs": [
    {
     "name": "stdout",
     "output_type": "stream",
     "text": [
      "-1\n",
      "2\n",
      "-3\n",
      "2\n",
      "[1] 4\n"
     ]
    }
   ],
   "source": [
    "# the wrong program, the right result\n",
    "N <- 4; PROD <- 0; COUNT <- 0 \n",
    "\n",
    "for (I in 1:N) {\n",
    "    A <- as.integer(readline())\n",
    "    if (A > 0) {\n",
    "        PROD <- PROD + A\n",
    "        COUNT <- COUNT + 1\n",
    "    }\n",
    "} \n",
    "\n",
    "if (COUNT > 0) {\n",
    "    print(PROD)\n",
    "} else {\n",
    "    print('NO')\n",
    "}"
   ]
  },
  {
   "cell_type": "code",
   "execution_count": 79,
   "metadata": {},
   "outputs": [
    {
     "name": "stdout",
     "output_type": "stream",
     "text": [
      "-1\n",
      "2\n",
      "-3\n",
      "4\n",
      "[1] 8\n"
     ]
    }
   ],
   "source": [
    "# the right program, the right result\n",
    "N <- 4; PROD <- 1; COUNT <- 0 \n",
    "\n",
    "for (I in 1:N) {\n",
    "    A <- as.integer(readline())\n",
    "    if (A > 0) {\n",
    "        PROD <- PROD * A\n",
    "        COUNT <- COUNT + 1\n",
    "    }\n",
    "} \n",
    "\n",
    "if (COUNT > 0) {\n",
    "    print(PROD)\n",
    "} else {\n",
    "    print('NO')\n",
    "}"
   ]
  },
  {
   "cell_type": "code",
   "execution_count": 80,
   "metadata": {},
   "outputs": [],
   "source": [
    "answer_dictionary[24] <- '\n",
    "1. 6\n",
    "2. -1 2 -3 2\n",
    "3. \"N <- 4; PROD <- 0; COUNT <- 0\" ⟹ \"N <- 4; PROD <- 1; COUNT <- 0\"; \"PROD <- PROD + A\" ⟹ \"PROD <- PROD * A\"\n",
    "'"
   ]
  },
  {
   "cell_type": "markdown",
   "metadata": {},
   "source": [
    "## 25.\n",
    "Дан целочисленный массив из 40 элементов. Элементы массива могут принимать значения от -10000 до 10000. \n",
    "\n",
    "Опишите на русском языке или на одном из языков программирования алгоритм, который \n",
    "\n",
    "находит и выводит произведение нечётных положительных элементов массива. \n",
    "\n",
    "Если таких элементов нет, вывести на экран 1.\n",
    "\n",
    "Исходные данные объявлены так, как показано ниже. \n",
    "\n",
    "Запрещается использовать переменные, не описанные ниже, но разрешается не использовать часть из них.\n",
    "\n",
    "- Объявляем массив А из 40 элементов.\n",
    "\n",
    "- Объявляем целочисленные переменные I, J, Р.\n",
    "\n",
    "- В цикле от 1 до 40 вводим элементы массива А с 1-го по 40-й.\n",
    "\n",
    "- ...\n",
    "\n",
    "В качестве ответа вам необходимо привести фрагмент программы (или описание алгоритма на естественном языке), который должен находиться на месте многоточия. \n",
    "\n",
    "Вы можете записать решение также на другом языке программирования (укажите название и используемую версию языка программирования, например `Borland Pascal 7.0`) или в виде блок-схемы. \n",
    "\n",
    "В этом случае вы должны использовать те же самые исходные данные и переменные, какие были предложены в условии (например, в образце, записанном на естественном языке).\n",
    "\n",
    "---\n",
    "\n",
    "An integer array of 40 elements is given. Elements of the array can take values from -10000 to 10000. \n",
    "\n",
    "Describe in Russian or one of the programming languages an algorithm that finds and outputs the product of odd positive elements of the array. \n",
    "\n",
    "If there are no such elements, display 1.\n",
    "\n",
    "The original data is declared as shown below. \n",
    "\n",
    "It is forbidden to use variables not described below, but it is allowed not to use part of them.\n",
    "\n",
    "- Declare an array A of 40 elements.\n",
    "\n",
    "- Declare the integer variables I, J, P.\n",
    "\n",
    "- In the cycle from 1 to 40, we introduce the elements of array A from the 1st to the 40th.\n",
    "\n",
    "- ...\n",
    "\n",
    "As an answer, you need to bring the program fragment (or description of the algorithm in natural language), which should be in place of the ellipsis. \n",
    "\n",
    "You can also write the solution in another programming language (specify the name and the version of the programming language used, for example `Borland Pascal 7.0`) or as a flowchart. \n",
    "\n",
    "In this case, you must use the same source data and variables that were proposed in the condition (for example, in a sample written in natural language).\n",
    "<table style=\"width:95%;\">\n",
    "  <tr style=\"color:slategray;font-size:120%;font-family:'Roboto';\">\n",
    "    <th style=\"text-align:center;\">Python</th> \n",
    "    <th style=\"text-align:center;\">R</th>          \n",
    "  </tr>\n",
    "  <tr>\n",
    "    <td style=\"font-weight:bold;text-align:left;\"><pre><code class='python'>\n",
    "\n",
    "N = 40\n",
    "A = []\n",
    "\n",
    "#use integer variables I, J, P\n",
    "\n",
    "for I in range(N):\n",
    "    A.append(int(input()))       \n",
    "    ...\n",
    "    </code></pre></td> \n",
    "    <td style=\"font-weight:bold;text-align:left;\"><pre><code class='r'> \n",
    "    \n",
    "N <- 40\n",
    "A <- vector(mode=\"integer\",length=N)\n",
    "\n",
    "#use integer variables I, J, P\n",
    "\n",
    "for (I in 1:N){\n",
    "    A[I] <- as.integer(readline())\n",
    "...\n",
    "}   \n",
    "    </code></pre></td>     \n",
    "  </tr> \n",
    "</table>"
   ]
  },
  {
   "cell_type": "code",
   "execution_count": 87,
   "metadata": {},
   "outputs": [],
   "source": [
    "version <- R.version.string"
   ]
  },
  {
   "cell_type": "code",
   "execution_count": 85,
   "metadata": {},
   "outputs": [
    {
     "name": "stdout",
     "output_type": "stream",
     "text": [
      "Create an integer array of numbers from the interval [-10000, 10000].\n",
      "11\n",
      "12\n",
      "13\n",
      "14\n",
      "15\n",
      "16\n",
      "17\n",
      "18\n",
      "19\n",
      "20\n",
      "-11\n",
      "-12\n",
      "-13\n",
      "-14\n",
      "-15\n",
      "-16\n",
      "-17\n",
      "-18\n",
      "-19\n",
      "-20\n",
      "10\n",
      "20\n",
      "30\n",
      "40\n",
      "50\n",
      "60\n",
      "70\n",
      "80\n",
      "90\n",
      "101\n",
      "-10\n",
      "-20\n",
      "-30\n",
      "-40\n",
      "-50\n",
      "-60\n",
      "-70\n",
      "-80\n",
      "-90\n",
      "-101\n",
      "69976335"
     ]
    }
   ],
   "source": [
    "cat('Create an integer array of numbers from the interval [-10000, 10000].\\n')\n",
    "N <- 40\n",
    "A <- vector(mode='integer',length=N)\n",
    "P <- 1\n",
    "\n",
    "for (I in 1:N){\n",
    "    A[I] <- as.integer(readline())\n",
    "    # The fragment instead of the ellipsis\n",
    "    if ((A[I] %% 2 != 0) & (A[I] > 0)) { \n",
    "        P <- P * A[I]\n",
    "    }\n",
    "}\n",
    "\n",
    "cat(toString(P))"
   ]
  },
  {
   "cell_type": "code",
   "execution_count": 86,
   "metadata": {},
   "outputs": [
    {
     "data": {
      "text/html": [
       "69976335"
      ],
      "text/latex": [
       "69976335"
      ],
      "text/markdown": [
       "69976335"
      ],
      "text/plain": [
       "[1] 69976335"
      ]
     },
     "metadata": {},
     "output_type": "display_data"
    }
   ],
   "source": [
    "11 * 13 * 15 * 17 * 19 * 101"
   ]
  },
  {
   "cell_type": "code",
   "execution_count": 88,
   "metadata": {},
   "outputs": [],
   "source": [
    "program_fragment <- \"\n",
    "cat('Create an integer array of numbers from the interval [-10000, 10000].\\n')\n",
    "N <- 40\n",
    "A <- vector(mode='integer',length=N)\n",
    "P <- 1\n",
    "\n",
    "for (I in 1:N){\n",
    "    A[I] <- as.integer(readline())\n",
    "    # The fragment instead of the ellipsis\n",
    "    if ((A[I] %% 2 != 0) & (A[I] > 0)) { \n",
    "        P <- P * A[I]\n",
    "    }\n",
    "}\n",
    "\n",
    "cat(toString(P))\n",
    "\""
   ]
  },
  {
   "cell_type": "code",
   "execution_count": 89,
   "metadata": {},
   "outputs": [],
   "source": [
    "answer_dictionary[25] <- paste(version, program_fragment, sep=\";\")"
   ]
  },
  {
   "cell_type": "markdown",
   "metadata": {},
   "source": [
    "## 26.\n",
    "Два игрока, Петя и Ваня, играют в следующую игру. Перед игроками лежит куча камней. Игроки ходят по очереди, первый ход делает Петя. \n",
    "\n",
    "За один ход игрок может добавить в кучу **один** или **три** камня или увеличить количество камней в куче в **три** раза. \n",
    "\n",
    "Например, имея кучу из 15 камней, за один ход можно получить кучу из 16, 18 или 45 камней. \n",
    "\n",
    "У каждого игрока, чтобы делать ходы, есть неограниченное количество камней.\n",
    "\n",
    "Игра завершается в тот момент, когда количество камней в куче становится **не менее 25**. \n",
    "\n",
    "Победителем считается игрок, сделавший последний ход, то есть первым получивший кучу, в которой будет 25 или больше камней.\n",
    "\n",
    "В начальный момент в куче было $S$ камней, $1 ≤ S ≤ 24$.\n",
    "\n",
    "Говорят, что игрок имеет выигрышную стратегию, если он может выиграть при любых ходах противника. \n",
    "\n",
    "Описать стратегию игрока — значит описать, какой ход он должен сделать в любой ситуации, которая ему может встретиться при различной игре противника.\n",
    "\n",
    "Выполните следующие задания. Во всех случаях обосновывайте свой ответ.\n",
    "\n",
    "$1$. \n",
    "\n",
    "- $а)$ Укажите все такие значения числа $S$, при которых Петя может выиграть в один ход. \n",
    "\n",
    "Обоснуйте, что найдены все нужные значения $S$, и укажите выигрывающий ход для каждого указанного значения $S$.\n",
    "\n",
    "- $б)$ Укажите такое значение $S$, при котором Петя не может выиграть за один ход, \n",
    "\n",
    "но при любом ходе Пети Ваня может выиграть своим первым ходом. Опишите выигрышную стратегию Вани.\n",
    "\n",
    "$2$. Укажите два значения $S$, при которых у Пети есть выигрышная стратегия, причём \n",
    "\n",
    "- $а)$ Петя не может выиграть за один ход и \n",
    "\n",
    "- $б)$ Петя может выиграть своим вторым ходом независимо от того, как будет ходить Ваня. \n",
    "\n",
    "Для каждого указанного значения $S$ опишите выигрышную стратегию Пети.\n",
    "\n",
    "$3$. Укажите такое значение $S$, при котором:\n",
    "\n",
    "- $а)$ у Вани есть выигрышная стратегия, позволяющая ему выиграть первым или вторым ходом при любой игре Пети, и\n",
    "\n",
    "- $б)$ у Вани нет стратегии, которая позволит ему гарантированно выиграть первым ходом. \n",
    "\n",
    "Для указанного значения $S$ опишите выигрышную стратегию Вани. \n",
    "\n",
    "Постройте дерево всех партий, возможных при этой выигрышной стратегии Вани (в виде рисунка или таблицы). \n",
    "\n",
    "На рёбрах дерева указывайте, кто делает ход, в узлах — количество камней в куче.\n",
    "\n",
    "---\n",
    "\n",
    "Two players, Petya and Vanya, play the next game. There is a bunch of stones in front of them. Players move by turns, the first step is made by Petya. \n",
    "\n",
    "In one move, a player can add **one** or **three** stones to the pile or increase the number of stones in the heap by **three** times. \n",
    "\n",
    "For example, having a bunch of 15 stones, you can get a heap of 16, 18 or 45 stones by one step. \n",
    "\n",
    "Each player has an unlimited number of stones for playing.\n",
    "\n",
    "The game ends at the moment when the number of stones in the heap becomes **at least 25**. \n",
    "\n",
    "The winner is the player who made the last step, that is, the first to receive a pile, in which there will be 25 or more stones.\n",
    "\n",
    "At the initial moment, the heap had S stones, $1 ≤ S ≤ 24$.\n",
    "\n",
    "It is said that a player has a winning strategy if he can win at any moves of the opponent. \n",
    "\n",
    "To describe a player's strategy is to describe what course he should take in any situation that he can meet in a different game of the opponent.\n",
    "\n",
    "Complete the following tasks. In all cases, justify your answer.\n",
    "\n",
    "$1$.\n",
    "\n",
    "- $a)$ Indicate all such values of the number $S$ at which Petya can win in one turn. \n",
    "\n",
    "Justify that you have found all the required values of $S$, and indicate the winning move for each specified value of $S$.\n",
    "\n",
    "- $b)$ Specify a value $S$ for which Petya cannot win in one move, \n",
    "\n",
    "but at any his step Vanya can win with his first move. Describe the Vanya's winning strategy.\n",
    "\n",
    "$2$. Specify two values of $S$ for which Petya has a winning strategy, and two conditions are satisfied:\n",
    "\n",
    "- $a)$ Petya cannot win in one move;\n",
    "    \n",
    "- $b)$ Petya can win with his second move regardless of how Vanya will walk. \n",
    "\n",
    "For each specified value of $S$, describe the Petya's winning strategy.\n",
    "\n",
    "$3$. Specify an $S$ value such that both points are true:\n",
    "\n",
    "- $a)$ Vanya has a winning strategy that allows him to win by the first or second move with any Petya's game;\n",
    "\n",
    "- $b)$ Vanya does not have a strategy that will allow him to win by the first step with a guarantee. \n",
    "\n",
    "For the specified value of $S$, describe the Vanya's winning strategy. \n",
    "\n",
    "Build a tree of all the possible batches with this winning strategy of Vanya (in the form of a picture or a table). \n",
    "\n",
    "On the edges of the tree indicate who is making the move, in the nodes - the number of stones in the heap."
   ]
  },
  {
   "cell_type": "code",
   "execution_count": null,
   "metadata": {},
   "outputs": [],
   "source": []
  },
  {
   "cell_type": "markdown",
   "metadata": {},
   "source": [
    "## 27."
   ]
  },
  {
   "cell_type": "code",
   "execution_count": null,
   "metadata": {},
   "outputs": [],
   "source": []
  },
  {
   "cell_type": "markdown",
   "metadata": {},
   "source": [
    "## Ответы &nbsp; &nbsp; &nbsp; Answers"
   ]
  },
  {
   "cell_type": "code",
   "execution_count": 90,
   "metadata": {},
   "outputs": [
    {
     "data": {
      "text/plain": [
       "<hash> containing 25 key-value pair(s).\n",
       "  1 : 6\n",
       "  10 : 50\n",
       "  11 : 25\n",
       "  12 : 240\n",
       "  13 : 160\n",
       "  14 : 23\n",
       "  15 : 32\n",
       "  16 : 5,6\n",
       "  17 : 18\n",
       "  18 : 3\n",
       "  19 : 9\n",
       "  2 : xzy\n",
       "  20 : 74\n",
       "  21 : 63\n",
       "  22 : 25\n",
       "  23 : 96\n",
       "  24 : \n",
       "1. 6\n",
       "2. -1 2 -3 2\n",
       "3. \"N <- 4; PROD <- 0; COUNT <- 0\" ⟹ \"N <- 4; PROD <- 1; COUNT <- 0\"; \"PROD <- PROD + A\" ⟹ \"PROD <- PROD * A\"\n",
       "  25 : R version 3.5.0 (2018-04-23);\n",
       "cat('Create an integer array of numbers from the interval [-10000, 10000].\n",
       "')\n",
       "N <- 40\n",
       "A <- vector(mode='integer',length=N)\n",
       "P <- 1\n",
       "for (I in 1:N){\n",
       "    A[I] <- as.integer(readline())\n",
       "    # The fragment instead of the ellipsis\n",
       "    if ((A[I] %% 2 != 0) & (A[I] > 0)) { \n",
       "        P <- P * A[I]\n",
       "    }\n",
       "}\n",
       "cat(toString(P))\n",
       "  3 : 9\n",
       "  4 : 134\n",
       "  5 : C00,E10\n",
       "  6 : 2\n",
       "  7 : 17\n",
       "  8 : 23\n",
       "  9 : 6"
      ]
     },
     "metadata": {},
     "output_type": "display_data"
    }
   ],
   "source": [
    "answer_dictionary"
   ]
  }
 ],
 "metadata": {
  "kernelspec": {
   "display_name": "R",
   "language": "R",
   "name": "ir"
  },
  "language_info": {
   "codemirror_mode": "r",
   "file_extension": ".r",
   "mimetype": "text/x-r-source",
   "name": "R",
   "pygments_lexer": "r",
   "version": "3.5.0"
  }
 },
 "nbformat": 4,
 "nbformat_minor": 2
}
