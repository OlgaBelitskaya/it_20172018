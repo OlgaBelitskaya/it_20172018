{
 "cells": [
  {
   "cell_type": "markdown",
   "metadata": {},
   "source": [
    "# ЕГЭ 2017 Вариант 8 &nbsp; &nbsp; &nbsp; EGE 2017 Variant 8\n",
    "[ЕГЭ-2017. Информатика.10 тренировочных вариантов. Ушаков Д.М.](https://drive.google.com/file/d/0B6696ckkWj_zS2ptblAxNERHZzQ/view)\n",
    "\n",
    "[Basic Regular Expressions in R Cheatsheet](https://www.rstudio.com/wp-content/uploads/2016/09/RegExCheatsheet.pdf)\n",
    "\n",
    "[DataFlair: R Tutorials](https://data-flair.training/blogs/category/r/)\n",
    "\n",
    "[Алгоритм Шеннона — Фано](https://ru.wikipedia.org/wiki/%D0%90%D0%BB%D0%B3%D0%BE%D1%80%D0%B8%D1%82%D0%BC_%D0%A8%D0%B5%D0%BD%D0%BD%D0%BE%D0%BD%D0%B0_%E2%80%94_%D0%A4%D0%B0%D0%BD%D0%BE)\n",
    "\n",
    "[IPv4 - Address Classes](https://www.tutorialspoint.com/ipv4/ipv4_address_classes.htm)\n",
    "\n",
    "[Basic and advanced network visualization with R](http://www.kateto.net/wp-content/uploads/2016/04/Sunbelt%202016%20R%20Network%20Visualization%20Handout.pdf)"
   ]
  },
  {
   "cell_type": "code",
   "execution_count": 5,
   "metadata": {},
   "outputs": [],
   "source": [
    "library(IRdisplay)\n",
    "library(repr)\n",
    "library(hash)\n",
    "library(numbers)\n",
    "library(e1071)\n",
    "library(igraph)\n",
    "library(VennDiagram)"
   ]
  },
  {
   "cell_type": "code",
   "execution_count": 2,
   "metadata": {},
   "outputs": [],
   "source": [
    "# install.packages(\"\")"
   ]
  },
  {
   "cell_type": "code",
   "execution_count": 3,
   "metadata": {},
   "outputs": [],
   "source": [
    "answer_dictionary <- hash()"
   ]
  },
  {
   "cell_type": "code",
   "execution_count": 4,
   "metadata": {},
   "outputs": [
    {
     "data": {
      "text/html": [
       "<style>\n",
       "@import url('https://fonts.googleapis.com/css?family=Roboto&effect=3d|fire-animation|canvas-print|brick-sign');\n",
       "body {background-color: aliceblue;} \n",
       "a {color: #4876ff; font-family: 'Roboto';} \n",
       "h1 {color: #348ABD; font-family: 'Roboto'; text-shadow: 4px 4px 4px #aaa;} \n",
       "h2, h3 {color: gray; font-family: 'Roboto'; text-shadow: 4px 4px 4px #aaa;}\n",
       "h4 {color: #348ABD; font-family: 'Roboto';}\n",
       "span {text-shadow: 4px 4px 4px #aaa;}\n",
       "div.output_prompt, div.output_area pre, div.output_subarea {color: gray;}\n",
       "div.input_prompt {color: #4876ff;}      \n",
       "div.output_stderr pre {background-color: aliceblue;}  \n",
       "div.output_stderr {background-color: gray;}                        \n",
       "</style>"
      ]
     },
     "metadata": {},
     "output_type": "display_data"
    }
   ],
   "source": [
    "display_html(\"<style>\n",
    "@import url('https://fonts.googleapis.com/css?family=Roboto&effect=3d|fire-animation|canvas-print|brick-sign');\n",
    "body {background-color: aliceblue;} \n",
    "a {color: #4876ff; font-family: 'Roboto';} \n",
    "h1 {color: #348ABD; font-family: 'Roboto'; text-shadow: 4px 4px 4px #aaa;} \n",
    "h2, h3 {color: gray; font-family: 'Roboto'; text-shadow: 4px 4px 4px #aaa;}\n",
    "h4 {color: #348ABD; font-family: 'Roboto';}\n",
    "span {text-shadow: 4px 4px 4px #aaa;}\n",
    "div.output_prompt, div.output_area pre, div.output_subarea {color: gray;}\n",
    "div.input_prompt {color: #4876ff;}      \n",
    "div.output_stderr pre {background-color: aliceblue;}  \n",
    "div.output_stderr {background-color: gray;}                        \n",
    "</style>\")"
   ]
  },
  {
   "cell_type": "markdown",
   "metadata": {},
   "source": [
    "## Часть 1 &nbsp; &nbsp; &nbsp; Part 1\n",
    "## 1.\n",
    "Сколько чисел находится между $275_8$ и $304_8$?\n",
    "\n",
    "---\n",
    "\n",
    "How many numbers are between $275_8$ and $304_8$?"
   ]
  },
  {
   "cell_type": "code",
   "execution_count": 6,
   "metadata": {},
   "outputs": [],
   "source": [
    "options(scipen = 999)\n",
    "oct2dec <- function(n) {\n",
    "  return(sapply(strsplit(as.character(n),split=\"\"), \n",
    "                function(x) sum(as.numeric(x) * 8 ** (rev(seq_along(x) - 1)))))\n",
    "}"
   ]
  },
  {
   "cell_type": "code",
   "execution_count": 7,
   "metadata": {},
   "outputs": [
    {
     "data": {
      "text/html": [
       "189"
      ],
      "text/latex": [
       "189"
      ],
      "text/markdown": [
       "189"
      ],
      "text/plain": [
       "[1] 189"
      ]
     },
     "metadata": {},
     "output_type": "display_data"
    },
    {
     "data": {
      "text/html": [
       "196"
      ],
      "text/latex": [
       "196"
      ],
      "text/markdown": [
       "196"
      ],
      "text/plain": [
       "[1] 196"
      ]
     },
     "metadata": {},
     "output_type": "display_data"
    }
   ],
   "source": [
    "# 2 * 8^2 + 7 * 8^1 + 5 * 8^0, 3 * 8^2 + 0 * 8^1 + 4 * 8^0\n",
    "oct2dec('275'); oct2dec('304')"
   ]
  },
  {
   "cell_type": "code",
   "execution_count": 8,
   "metadata": {},
   "outputs": [
    {
     "name": "stdout",
     "output_type": "stream",
     "text": [
      "[1] 190\n",
      "[1] 191\n",
      "[1] 192\n",
      "[1] 193\n",
      "[1] 194\n",
      "[1] 195\n"
     ]
    }
   ],
   "source": [
    "for (i in (oct2dec('275')+1):(oct2dec('304')-1)) {\n",
    "    print(i)\n",
    "}"
   ]
  },
  {
   "cell_type": "code",
   "execution_count": 9,
   "metadata": {},
   "outputs": [],
   "source": [
    "answer_dictionary[1] <- toString(oct2dec('304') - oct2dec('275') - 1)"
   ]
  },
  {
   "cell_type": "markdown",
   "metadata": {},
   "source": [
    "## 2.\n",
    "Логическая функция $F$ задаётся выражением $(x \\land \\neg y) \\lor ((\\neg x) \\land z)) \\ (*)$. \n",
    "\n",
    "Определите, какому столбцу таблицы истинности функции $F$ соответствует каждая из переменных $x, y, z$.\n",
    "\n",
    "---\n",
    "\n",
    "The logical function $ F $ is given by the expression $(x \\land \\neg y) \\lor ((\\neg x) \\land z)) \\ (*)$. \n",
    "\n",
    "Determine which column of the truth table of $F$ corresponds to each of the variables $x, y, z$.\n",
    "\n",
    "| Перем. 1 | Перем. 2 | Перем. 3 | Функция |\n",
    "| :-: | :-: | :-: | :-: |\n",
    "| Variable 1| Variable 2 | Variable 3 | Function |\n",
    "| ??? | ??? | ??? | F|\n",
    "| 0 | 0 | 0 | 0 |\n",
    "| 0 | 0 | 1 | 0 |\n",
    "| 0 | 1 | 0 | 1 |\n",
    "| 0 | 1 | 1 | 1 |\n",
    "| 1 | 0 | 0 | 1 |\n",
    "| 1 | 0 | 1 | 0 |\n",
    "| 1 | 1 | 0 | 1 |\n",
    "| 1 | 1 | 1 | 0 |\n",
    "\n",
    "В ответе напишите буквы $x, y, z$ в том порядке, в котором идут соответствующие им столбцы \n",
    "\n",
    "(сначала — буква, соответствующая 1-му столбцу; затем — буква, соответствующая 2-му столбцу; затем — буква, соответствующая 3-му столбцу). \n",
    "\n",
    "Букве в ответе пишите подряд, никаких разделителей между буквами ставить не нужно.\n",
    "\n",
    "_Пример_.\n",
    "\n",
    "Пусть задано выражение $x \\to y$, зависящее от двух переменных $x$ и $y$, и таблица истинности:\n",
    "\n",
    "---\n",
    "\n",
    "In the answer, write the letters $x, y, z$ in the order in which the corresponding columns go \n",
    "\n",
    "(at first, the letter corresponding to the 1st column, then the letter corresponding to the 2nd column, then the letter corresponding to the 3rd column). \n",
    "\n",
    "Write an answer in a row, delimiters between the letters are not necessary.\n",
    "\n",
    "_Example_.\n",
    "\n",
    "The expression $x \\to y$ is given. It depends on two variables $x$ and $y$, and the truth table is:\n",
    "\n",
    "| Перем. 1 | Перем. 2 | Функция |\n",
    "| :-: | :-: | :-: |\n",
    "| Variable 1| Variable 2 | Function |\n",
    "| ??? | ??? | F |\n",
    "| 0 | 0 | 1 | \n",
    "| 1 | 0 | 1 |\n",
    "| 0 | 1 | 0 |\n",
    "| 1 | 1 | 1 |\n",
    "\n",
    "Тогда 1-му столбцу соответствует переменная $y$, а 2-му столбцу соответствует переменная $x$. В ответе нужно написать: $yx$.\n",
    "\n",
    "---\n",
    "\n",
    "Then the first column corresponds to the variable $y$, and the second column corresponds to the variable $x$. The answer is $yx$."
   ]
  },
  {
   "cell_type": "markdown",
   "metadata": {},
   "source": [
    "Если переменная $x = 0$, то заданная выражением $(*)$ логическая функция \n",
    "\n",
    "- $F = 1$ в двух наборах значений переменных (при $z = 1$) и \n",
    "- $F = 0$ в двух других наборах (при $z = 0$). \n",
    "\n",
    "В таблице истинности это верно только для случая, когда первая переменная - $x$, а вторая  - $z$. \n",
    "\n",
    "Значит, порядок переменных будет $xzy$.\n",
    "\n",
    "---\n",
    "\n",
    "If the variable $x = 0$, then according to the expression $(*)$ the logical function \n",
    "\n",
    "- $F = 1$ in two sets of values of variables (for $z = 1$) and \n",
    "- $F = 0$ in the other two sets (for $z = 0$).\n",
    "\n",
    "In the truth table, this is correct only for the case where the first variable is $x$, and the second is $z$. \n",
    "\n",
    "Hence, the order of the variables is $xzy$."
   ]
  },
  {
   "cell_type": "code",
   "execution_count": 10,
   "metadata": {},
   "outputs": [
    {
     "data": {
      "text/html": [
       "<table>\n",
       "<tbody>\n",
       "\t<tr><td>0</td><td>0</td><td>0</td></tr>\n",
       "\t<tr><td>0</td><td>0</td><td>1</td></tr>\n",
       "\t<tr><td>0</td><td>1</td><td>0</td></tr>\n",
       "\t<tr><td>0</td><td>1</td><td>1</td></tr>\n",
       "\t<tr><td>1</td><td>0</td><td>0</td></tr>\n",
       "\t<tr><td>1</td><td>0</td><td>1</td></tr>\n",
       "\t<tr><td>1</td><td>1</td><td>0</td></tr>\n",
       "\t<tr><td>1</td><td>1</td><td>1</td></tr>\n",
       "</tbody>\n",
       "</table>\n"
      ],
      "text/latex": [
       "\\begin{tabular}{lll}\n",
       "\t 0 & 0 & 0\\\\\n",
       "\t 0 & 0 & 1\\\\\n",
       "\t 0 & 1 & 0\\\\\n",
       "\t 0 & 1 & 1\\\\\n",
       "\t 1 & 0 & 0\\\\\n",
       "\t 1 & 0 & 1\\\\\n",
       "\t 1 & 1 & 0\\\\\n",
       "\t 1 & 1 & 1\\\\\n",
       "\\end{tabular}\n"
      ],
      "text/markdown": [
       "\n",
       "| 0 | 0 | 0 | \n",
       "| 0 | 0 | 1 | \n",
       "| 0 | 1 | 0 | \n",
       "| 0 | 1 | 1 | \n",
       "| 1 | 0 | 0 | \n",
       "| 1 | 0 | 1 | \n",
       "| 1 | 1 | 0 | \n",
       "| 1 | 1 | 1 | \n",
       "\n",
       "\n"
      ],
      "text/plain": [
       "     [,1] [,2] [,3]\n",
       "[1,] 0    0    0   \n",
       "[2,] 0    0    1   \n",
       "[3,] 0    1    0   \n",
       "[4,] 0    1    1   \n",
       "[5,] 1    0    0   \n",
       "[6,] 1    0    1   \n",
       "[7,] 1    1    0   \n",
       "[8,] 1    1    1   "
      ]
     },
     "metadata": {},
     "output_type": "display_data"
    }
   ],
   "source": [
    "bc <- bincombinations(3)\n",
    "bc"
   ]
  },
  {
   "cell_type": "code",
   "execution_count": 11,
   "metadata": {},
   "outputs": [],
   "source": [
    "F_values <- c(0,0,1,1,1,0,1,0)\n",
    "F <- function(x, y, z) {\n",
    "    return((x & !y) | ((!x) & z)) \n",
    "}"
   ]
  },
  {
   "cell_type": "code",
   "execution_count": 12,
   "metadata": {},
   "outputs": [
    {
     "data": {
      "text/html": [
       "<ol class=list-inline>\n",
       "\t<li>TRUE</li>\n",
       "\t<li>FALSE</li>\n",
       "\t<li>FALSE</li>\n",
       "\t<li>TRUE</li>\n",
       "\t<li>TRUE</li>\n",
       "\t<li>FALSE</li>\n",
       "\t<li>FALSE</li>\n",
       "\t<li>TRUE</li>\n",
       "</ol>\n"
      ],
      "text/latex": [
       "\\begin{enumerate*}\n",
       "\\item TRUE\n",
       "\\item FALSE\n",
       "\\item FALSE\n",
       "\\item TRUE\n",
       "\\item TRUE\n",
       "\\item FALSE\n",
       "\\item FALSE\n",
       "\\item TRUE\n",
       "\\end{enumerate*}\n"
      ],
      "text/markdown": [
       "1. TRUE\n",
       "2. FALSE\n",
       "3. FALSE\n",
       "4. TRUE\n",
       "5. TRUE\n",
       "6. FALSE\n",
       "7. FALSE\n",
       "8. TRUE\n",
       "\n",
       "\n"
      ],
      "text/plain": [
       "[1]  TRUE FALSE FALSE  TRUE  TRUE FALSE FALSE  TRUE"
      ]
     },
     "metadata": {},
     "output_type": "display_data"
    }
   ],
   "source": [
    "# xyz\n",
    "result_xyz <- vector(length=8)\n",
    "for (j in 1:8) {\n",
    "    result_xyz[j] <- F(bc[j,1],bc[j,2],bc[j,3])\n",
    "}\n",
    "result_xyz == F_values"
   ]
  },
  {
   "cell_type": "code",
   "execution_count": 13,
   "metadata": {},
   "outputs": [
    {
     "data": {
      "text/html": [
       "<ol class=list-inline>\n",
       "\t<li>TRUE</li>\n",
       "\t<li>TRUE</li>\n",
       "\t<li>TRUE</li>\n",
       "\t<li>TRUE</li>\n",
       "\t<li>TRUE</li>\n",
       "\t<li>TRUE</li>\n",
       "\t<li>TRUE</li>\n",
       "\t<li>TRUE</li>\n",
       "</ol>\n"
      ],
      "text/latex": [
       "\\begin{enumerate*}\n",
       "\\item TRUE\n",
       "\\item TRUE\n",
       "\\item TRUE\n",
       "\\item TRUE\n",
       "\\item TRUE\n",
       "\\item TRUE\n",
       "\\item TRUE\n",
       "\\item TRUE\n",
       "\\end{enumerate*}\n"
      ],
      "text/markdown": [
       "1. TRUE\n",
       "2. TRUE\n",
       "3. TRUE\n",
       "4. TRUE\n",
       "5. TRUE\n",
       "6. TRUE\n",
       "7. TRUE\n",
       "8. TRUE\n",
       "\n",
       "\n"
      ],
      "text/plain": [
       "[1] TRUE TRUE TRUE TRUE TRUE TRUE TRUE TRUE"
      ]
     },
     "metadata": {},
     "output_type": "display_data"
    }
   ],
   "source": [
    "# xzy\n",
    "result_xzy <- vector(length=8)\n",
    "for (j in 1:8) {\n",
    "    result_xzy[j] <- F(bc[j,1],bc[j,3],bc[j,2])\n",
    "}\n",
    "result_xzy == F_values"
   ]
  },
  {
   "cell_type": "code",
   "execution_count": 14,
   "metadata": {},
   "outputs": [
    {
     "data": {
      "text/html": [
       "<ol class=list-inline>\n",
       "\t<li>TRUE</li>\n",
       "\t<li>FALSE</li>\n",
       "\t<li>TRUE</li>\n",
       "\t<li>TRUE</li>\n",
       "\t<li>FALSE</li>\n",
       "\t<li>FALSE</li>\n",
       "\t<li>FALSE</li>\n",
       "\t<li>TRUE</li>\n",
       "</ol>\n"
      ],
      "text/latex": [
       "\\begin{enumerate*}\n",
       "\\item TRUE\n",
       "\\item FALSE\n",
       "\\item TRUE\n",
       "\\item TRUE\n",
       "\\item FALSE\n",
       "\\item FALSE\n",
       "\\item FALSE\n",
       "\\item TRUE\n",
       "\\end{enumerate*}\n"
      ],
      "text/markdown": [
       "1. TRUE\n",
       "2. FALSE\n",
       "3. TRUE\n",
       "4. TRUE\n",
       "5. FALSE\n",
       "6. FALSE\n",
       "7. FALSE\n",
       "8. TRUE\n",
       "\n",
       "\n"
      ],
      "text/plain": [
       "[1]  TRUE FALSE  TRUE  TRUE FALSE FALSE FALSE  TRUE"
      ]
     },
     "metadata": {},
     "output_type": "display_data"
    }
   ],
   "source": [
    "# yxz\n",
    "result_yxz <- vector(length=8)\n",
    "for (j in 1:8) {\n",
    "    result_yxz[j] <- F(bc[j,2],bc[j,1],bc[j,3])\n",
    "}\n",
    "result_yxz == F_values"
   ]
  },
  {
   "cell_type": "code",
   "execution_count": 15,
   "metadata": {},
   "outputs": [
    {
     "data": {
      "text/html": [
       "<ol class=list-inline>\n",
       "\t<li>TRUE</li>\n",
       "\t<li>FALSE</li>\n",
       "\t<li>TRUE</li>\n",
       "\t<li>TRUE</li>\n",
       "\t<li>FALSE</li>\n",
       "\t<li>TRUE</li>\n",
       "\t<li>TRUE</li>\n",
       "\t<li>TRUE</li>\n",
       "</ol>\n"
      ],
      "text/latex": [
       "\\begin{enumerate*}\n",
       "\\item TRUE\n",
       "\\item FALSE\n",
       "\\item TRUE\n",
       "\\item TRUE\n",
       "\\item FALSE\n",
       "\\item TRUE\n",
       "\\item TRUE\n",
       "\\item TRUE\n",
       "\\end{enumerate*}\n"
      ],
      "text/markdown": [
       "1. TRUE\n",
       "2. FALSE\n",
       "3. TRUE\n",
       "4. TRUE\n",
       "5. FALSE\n",
       "6. TRUE\n",
       "7. TRUE\n",
       "8. TRUE\n",
       "\n",
       "\n"
      ],
      "text/plain": [
       "[1]  TRUE FALSE  TRUE  TRUE FALSE  TRUE  TRUE  TRUE"
      ]
     },
     "metadata": {},
     "output_type": "display_data"
    }
   ],
   "source": [
    "# yzx\n",
    "result_yzx <- vector(length=8)\n",
    "for (j in 1:8) {\n",
    "    result_yzx[j] <- F(bc[j,3],bc[j,1],bc[j,2])\n",
    "}\n",
    "result_yzx == F_values"
   ]
  },
  {
   "cell_type": "code",
   "execution_count": 16,
   "metadata": {},
   "outputs": [
    {
     "data": {
      "text/html": [
       "<ol class=list-inline>\n",
       "\t<li>TRUE</li>\n",
       "\t<li>TRUE</li>\n",
       "\t<li>TRUE</li>\n",
       "\t<li>FALSE</li>\n",
       "\t<li>TRUE</li>\n",
       "\t<li>FALSE</li>\n",
       "\t<li>TRUE</li>\n",
       "\t<li>TRUE</li>\n",
       "</ol>\n"
      ],
      "text/latex": [
       "\\begin{enumerate*}\n",
       "\\item TRUE\n",
       "\\item TRUE\n",
       "\\item TRUE\n",
       "\\item FALSE\n",
       "\\item TRUE\n",
       "\\item FALSE\n",
       "\\item TRUE\n",
       "\\item TRUE\n",
       "\\end{enumerate*}\n"
      ],
      "text/markdown": [
       "1. TRUE\n",
       "2. TRUE\n",
       "3. TRUE\n",
       "4. FALSE\n",
       "5. TRUE\n",
       "6. FALSE\n",
       "7. TRUE\n",
       "8. TRUE\n",
       "\n",
       "\n"
      ],
      "text/plain": [
       "[1]  TRUE  TRUE  TRUE FALSE  TRUE FALSE  TRUE  TRUE"
      ]
     },
     "metadata": {},
     "output_type": "display_data"
    }
   ],
   "source": [
    "# zxy\n",
    "result_zxy <- vector(length=8)\n",
    "for (j in 1:8) {\n",
    "    result_zxy[j] <- F(bc[j,2],bc[j,3],bc[j,1])\n",
    "}\n",
    "result_zxy == F_values"
   ]
  },
  {
   "cell_type": "code",
   "execution_count": 17,
   "metadata": {},
   "outputs": [
    {
     "data": {
      "text/html": [
       "<ol class=list-inline>\n",
       "\t<li>TRUE</li>\n",
       "\t<li>FALSE</li>\n",
       "\t<li>FALSE</li>\n",
       "\t<li>FALSE</li>\n",
       "\t<li>TRUE</li>\n",
       "\t<li>FALSE</li>\n",
       "\t<li>TRUE</li>\n",
       "\t<li>TRUE</li>\n",
       "</ol>\n"
      ],
      "text/latex": [
       "\\begin{enumerate*}\n",
       "\\item TRUE\n",
       "\\item FALSE\n",
       "\\item FALSE\n",
       "\\item FALSE\n",
       "\\item TRUE\n",
       "\\item FALSE\n",
       "\\item TRUE\n",
       "\\item TRUE\n",
       "\\end{enumerate*}\n"
      ],
      "text/markdown": [
       "1. TRUE\n",
       "2. FALSE\n",
       "3. FALSE\n",
       "4. FALSE\n",
       "5. TRUE\n",
       "6. FALSE\n",
       "7. TRUE\n",
       "8. TRUE\n",
       "\n",
       "\n"
      ],
      "text/plain": [
       "[1]  TRUE FALSE FALSE FALSE  TRUE FALSE  TRUE  TRUE"
      ]
     },
     "metadata": {},
     "output_type": "display_data"
    }
   ],
   "source": [
    "# zyx\n",
    "result_zyx <- vector(length=8)\n",
    "for (j in 1:8) {\n",
    "    result_zyx[j] <- F(bc[j,3],bc[j,2],bc[j,1])\n",
    "}\n",
    "result_zyx == F_values"
   ]
  },
  {
   "cell_type": "code",
   "execution_count": 18,
   "metadata": {},
   "outputs": [],
   "source": [
    "answer_dictionary[2] <- 'xzy'"
   ]
  },
  {
   "cell_type": "markdown",
   "metadata": {},
   "source": [
    "## 3.\n",
    "Между населёнными пунктами A, B, C, D, E, F построены дороги, протяжённость которых приведена в таблице. \n",
    "\n",
    "(Отсутствие числа в таблице означает, что прямой дороги между пунктами нет.)\n",
    "\n",
    "Определите длину кратчайшего пути между пунктами А и F \n",
    "\n",
    "(при условии, что передвигаться можно только по построенным дорогам).\n",
    "\n",
    "---\n",
    "\n",
    "Between the settlements A, B, C, D, E, F roads are constructed, the length of them is given in the table. \n",
    "\n",
    "(The absence of a number in the table means that there is no direct road between these points.)\n",
    "\n",
    "Determine the length of the shortest path between points A and F \n",
    "\n",
    "(assuming that it is possible to move only along the constructed roads).\n",
    "\n",
    "| &#x123CF; | A | B | C | D | E | F |\n",
    "|:-:|:-:|:-:|:-:|:-:|:-:|:-:|\n",
    "| **A** | &#x123CF; | 5 | 3 |   | 8 |   |\n",
    "| **B** | 5 | &#x123CF; | 1 | 4 | 3 | 6 |\n",
    "| **C** | 3 | 1 | &#x123CF; |   |   | 7 |\n",
    "| **D** |   | 4 |   | &#x123CF; | 1 | 3 |\n",
    "| **E** | 8 | 3 |   | 1 | &#x123CF; | 2 |\n",
    "| **F** |   | 6 | 7 | 3 | 2 | &#x123CF; |"
   ]
  },
  {
   "cell_type": "code",
   "execution_count": 19,
   "metadata": {},
   "outputs": [],
   "source": [
    "edges <- c('A','B', 'A','C', 'A','E', 'B','C', 'B','D', 'B','E', 'B','F',\n",
    "           'C','E', 'D','E', 'D','F', 'E','F')\n",
    "weights <- c(5,3,8,1,4,3,6,7,1,3,2)\n",
    "g <- graph(edges, directed=FALSE)%>%\n",
    "    set_edge_attr(\"weight\", value=weights)\n",
    "\n",
    "shortest_path <- get.shortest.paths(g,'A','F')"
   ]
  },
  {
   "cell_type": "code",
   "execution_count": 20,
   "metadata": {},
   "outputs": [
    {
     "data": {
      "text/html": [
       "<table>\n",
       "<thead><tr><th></th><th scope=col>A</th><th scope=col>B</th><th scope=col>C</th><th scope=col>D</th><th scope=col>E</th><th scope=col>F</th></tr></thead>\n",
       "<tbody>\n",
       "\t<tr><th scope=row>A</th><td>0</td><td>5</td><td>3</td><td>0</td><td>8</td><td>0</td></tr>\n",
       "\t<tr><th scope=row>B</th><td>5</td><td>0</td><td>1</td><td>4</td><td>3</td><td>6</td></tr>\n",
       "\t<tr><th scope=row>C</th><td>3</td><td>1</td><td>0</td><td>0</td><td>7</td><td>0</td></tr>\n",
       "\t<tr><th scope=row>D</th><td>0</td><td>4</td><td>0</td><td>0</td><td>1</td><td>3</td></tr>\n",
       "\t<tr><th scope=row>E</th><td>8</td><td>3</td><td>7</td><td>1</td><td>0</td><td>2</td></tr>\n",
       "\t<tr><th scope=row>F</th><td>0</td><td>6</td><td>0</td><td>3</td><td>2</td><td>0</td></tr>\n",
       "</tbody>\n",
       "</table>\n"
      ],
      "text/latex": [
       "\\begin{tabular}{r|llllll}\n",
       "  & A & B & C & D & E & F\\\\\n",
       "\\hline\n",
       "\tA & 0 & 5 & 3 & 0 & 8 & 0\\\\\n",
       "\tB & 5 & 0 & 1 & 4 & 3 & 6\\\\\n",
       "\tC & 3 & 1 & 0 & 0 & 7 & 0\\\\\n",
       "\tD & 0 & 4 & 0 & 0 & 1 & 3\\\\\n",
       "\tE & 8 & 3 & 7 & 1 & 0 & 2\\\\\n",
       "\tF & 0 & 6 & 0 & 3 & 2 & 0\\\\\n",
       "\\end{tabular}\n"
      ],
      "text/markdown": [
       "\n",
       "| <!--/--> | A | B | C | D | E | F | \n",
       "|---|---|---|---|---|---|\n",
       "| A | 0 | 5 | 3 | 0 | 8 | 0 | \n",
       "| B | 5 | 0 | 1 | 4 | 3 | 6 | \n",
       "| C | 3 | 1 | 0 | 0 | 7 | 0 | \n",
       "| D | 0 | 4 | 0 | 0 | 1 | 3 | \n",
       "| E | 8 | 3 | 7 | 1 | 0 | 2 | \n",
       "| F | 0 | 6 | 0 | 3 | 2 | 0 | \n",
       "\n",
       "\n"
      ],
      "text/plain": [
       "  A B C D E F\n",
       "A 0 5 3 0 8 0\n",
       "B 5 0 1 4 3 6\n",
       "C 3 1 0 0 7 0\n",
       "D 0 4 0 0 1 3\n",
       "E 8 3 7 1 0 2\n",
       "F 0 6 0 3 2 0"
      ]
     },
     "metadata": {},
     "output_type": "display_data"
    }
   ],
   "source": [
    "adjm <- get.adjacency(g, attr=\"weight\",sparse=FALSE)\n",
    "adjm[sort(rownames(adjm)),sort(colnames(adjm))]"
   ]
  },
  {
   "cell_type": "code",
   "execution_count": 21,
   "metadata": {},
   "outputs": [
    {
     "data": {
      "image/png": "[encoded data removed]",
      "text/plain": [
       "Plot with title “”"
      ]
     },
     "metadata": {},
     "output_type": "display_data"
    }
   ],
   "source": [
    "options(repr.plot.width=6,repr.plot.height=6)\n",
    "\n",
    "E(g)$color <- \"gray\"\n",
    "E(g, path=unlist(shortest_path$vpath))$color <- \"darkred\"\n",
    "\n",
    "plot(g, layout=layout_nicely(g),\n",
    "     vertex.color=\"steelblue\",vertex.size=30,vertex.frame.color=\"gray\",\n",
    "     edge.label=E(g)$weight,edge.label.cex=1.5,edge.width=E(g)$weight)"
   ]
  },
  {
   "cell_type": "code",
   "execution_count": 22,
   "metadata": {},
   "outputs": [
    {
     "data": {
      "text/plain": [
       "+ 5/6 vertices, named, from dc655f7:\n",
       "[1] A C B E F"
      ]
     },
     "metadata": {},
     "output_type": "display_data"
    }
   ],
   "source": [
    "shortest_path$vpath[[1]]"
   ]
  },
  {
   "cell_type": "code",
   "execution_count": 23,
   "metadata": {},
   "outputs": [
    {
     "data": {
      "text/html": [
       "<table>\n",
       "<thead><tr><th></th><th scope=col>A</th><th scope=col>B</th><th scope=col>C</th><th scope=col>E</th><th scope=col>D</th><th scope=col>F</th></tr></thead>\n",
       "<tbody>\n",
       "\t<tr><th scope=row>A</th><td>0</td><td>4</td><td>3</td><td>7</td><td>8</td><td>9</td></tr>\n",
       "\t<tr><th scope=row>B</th><td>4</td><td>0</td><td>1</td><td>3</td><td>4</td><td>5</td></tr>\n",
       "\t<tr><th scope=row>C</th><td>3</td><td>1</td><td>0</td><td>4</td><td>5</td><td>6</td></tr>\n",
       "\t<tr><th scope=row>E</th><td>7</td><td>3</td><td>4</td><td>0</td><td>1</td><td>2</td></tr>\n",
       "\t<tr><th scope=row>D</th><td>8</td><td>4</td><td>5</td><td>1</td><td>0</td><td>3</td></tr>\n",
       "\t<tr><th scope=row>F</th><td>9</td><td>5</td><td>6</td><td>2</td><td>3</td><td>0</td></tr>\n",
       "</tbody>\n",
       "</table>\n"
      ],
      "text/latex": [
       "\\begin{tabular}{r|llllll}\n",
       "  & A & B & C & E & D & F\\\\\n",
       "\\hline\n",
       "\tA & 0 & 4 & 3 & 7 & 8 & 9\\\\\n",
       "\tB & 4 & 0 & 1 & 3 & 4 & 5\\\\\n",
       "\tC & 3 & 1 & 0 & 4 & 5 & 6\\\\\n",
       "\tE & 7 & 3 & 4 & 0 & 1 & 2\\\\\n",
       "\tD & 8 & 4 & 5 & 1 & 0 & 3\\\\\n",
       "\tF & 9 & 5 & 6 & 2 & 3 & 0\\\\\n",
       "\\end{tabular}\n"
      ],
      "text/markdown": [
       "\n",
       "| <!--/--> | A | B | C | E | D | F | \n",
       "|---|---|---|---|---|---|\n",
       "| A | 0 | 4 | 3 | 7 | 8 | 9 | \n",
       "| B | 4 | 0 | 1 | 3 | 4 | 5 | \n",
       "| C | 3 | 1 | 0 | 4 | 5 | 6 | \n",
       "| E | 7 | 3 | 4 | 0 | 1 | 2 | \n",
       "| D | 8 | 4 | 5 | 1 | 0 | 3 | \n",
       "| F | 9 | 5 | 6 | 2 | 3 | 0 | \n",
       "\n",
       "\n"
      ],
      "text/plain": [
       "  A B C E D F\n",
       "A 0 4 3 7 8 9\n",
       "B 4 0 1 3 4 5\n",
       "C 3 1 0 4 5 6\n",
       "E 7 3 4 0 1 2\n",
       "D 8 4 5 1 0 3\n",
       "F 9 5 6 2 3 0"
      ]
     },
     "metadata": {},
     "output_type": "display_data"
    }
   ],
   "source": [
    "distances(g)"
   ]
  },
  {
   "cell_type": "code",
   "execution_count": 24,
   "metadata": {},
   "outputs": [],
   "source": [
    "answer_dictionary[3] <- distances(g,'A','F')"
   ]
  },
  {
   "cell_type": "markdown",
   "metadata": {},
   "source": [
    "## 4.\n",
    "Для групповых операций с файлами используются **маски имён файлов**. \n",
    "\n",
    "Маска представляет собой последовательность букв, цифр и прочих допустимых в именах файлов символов, в которых также могут встречаться следующие символы:\n",
    "\n",
    "Символ `«?»` (вопросительный знак) означает ровно один произвольный символ.\n",
    "\n",
    "Символ `«*»` (звёздочка) означает любую последовательность символов произвольной длины, в том числе `«*»` может задавать и пустую последовательность.\n",
    "\n",
    "Определите, какие из указанных имён файлов \n",
    "\n",
    "1) `blam.docx`\n",
    "\n",
    "2) `plan.ozi`\n",
    "\n",
    "3) `lat.to`\n",
    "\n",
    "4) `blabla.doc`\n",
    "\n",
    "удовлетворяют маске `*la?*.*?o*`.\n",
    "\n",
    "В ответе перечислите номера файлов в порядке возрастания без пробелов и знаков препинания.\n",
    "\n",
    "---\n",
    "\n",
    "For group operations with files, **masks of file names** are used.\n",
    "\n",
    "A mask is a sequence of letters, numbers and other permissible characters in file names, in which the following characters can also occur.\n",
    "\n",
    "The symbol `«?»` (question mark) means exactly one arbitrary character.\n",
    "\n",
    "The symbol `«*»` (asterisk) stands for any sequence of characters of arbitrary length, including `«*»`, which can also specify an empty sequence.\n",
    "\n",
    "Determine which of the specified file names\n",
    "\n",
    "1) `blam.docx`\n",
    "\n",
    "2) `plan.ozi`\n",
    "\n",
    "3) `lat.to`\n",
    "\n",
    "4) `blabla.doc`\n",
    "\n",
    "satisfy the mask `*la?*.*?o*`.\n",
    "\n",
    "In the answer, list file numbers in ascending order without spaces and punctuation marks."
   ]
  },
  {
   "cell_type": "code",
   "execution_count": 25,
   "metadata": {},
   "outputs": [],
   "source": [
    "file_list <- c('blam.docx', 'plan.ozi', 'lat.to', 'blabla.doc')"
   ]
  },
  {
   "cell_type": "code",
   "execution_count": 26,
   "metadata": {},
   "outputs": [
    {
     "data": {
      "text/html": [
       "<ol class=list-inline>\n",
       "\t<li>TRUE</li>\n",
       "\t<li>FALSE</li>\n",
       "\t<li>TRUE</li>\n",
       "\t<li>TRUE</li>\n",
       "</ol>\n"
      ],
      "text/latex": [
       "\\begin{enumerate*}\n",
       "\\item TRUE\n",
       "\\item FALSE\n",
       "\\item TRUE\n",
       "\\item TRUE\n",
       "\\end{enumerate*}\n"
      ],
      "text/markdown": [
       "1. TRUE\n",
       "2. FALSE\n",
       "3. TRUE\n",
       "4. TRUE\n",
       "\n",
       "\n"
      ],
      "text/plain": [
       "[1]  TRUE FALSE  TRUE  TRUE"
      ]
     },
     "metadata": {},
     "output_type": "display_data"
    }
   ],
   "source": [
    "mask_files <- grepl(\"^.*la..*\\\\..*.o.*$\", file_list)\n",
    "mask_files"
   ]
  },
  {
   "cell_type": "code",
   "execution_count": 27,
   "metadata": {},
   "outputs": [
    {
     "data": {
      "text/html": [
       "'134'"
      ],
      "text/latex": [
       "'134'"
      ],
      "text/markdown": [
       "'134'"
      ],
      "text/plain": [
       "[1] \"134\""
      ]
     },
     "metadata": {},
     "output_type": "display_data"
    }
   ],
   "source": [
    "result <- ''\n",
    "\n",
    "for (i in 1:4) {\n",
    "    if (mask_files[i] == TRUE) {\n",
    "        result <- paste(result,toString(i),sep='')\n",
    "    }\n",
    "}\n",
    "\n",
    "result"
   ]
  },
  {
   "cell_type": "code",
   "execution_count": 28,
   "metadata": {},
   "outputs": [],
   "source": [
    "answer_dictionary[4] <- result"
   ]
  },
  {
   "cell_type": "markdown",
   "metadata": {},
   "source": [
    "## 5.\n",
    "Для кодирования некоторой последовательности, состоящей из букв `A`, `B`, `C`, `D` и`E`, используется неравномерный двоичный код,\n",
    "\n",
    "позволяющий однозначно декодировать полученную двоичную последовательность. \n",
    "\n",
    "Вот этот код: <i style=\"font-size:130%;\" class=\"font-effect-canvas-print\">`A-110, B-01, C-001, D-111, E-100`</i>. \n",
    "\n",
    "Можно ли сократить для одной или нескольких букв длину кодового слова, удалив в нём один или несколько последних символов, \n",
    "\n",
    "чтобы код по-прежнему можно было декодировать однозначно?\n",
    "\n",
    "Запишите ответ в виде: буква, кодовое слово. Если таких букв несколько, то далее через запятую перечислите буквы и их коды. \n",
    "\n",
    "Буквы перечислять в алфавитном порядке. \n",
    "\n",
    "Например, если бы ответ был «Для буквы `F` новый код будет `110`, а для буквы `G` новый код будет `101`», ответ нужно записать как: <i style=\"font-size:130%;\" class=\"font-effect-canvas-print\">`F110,G101`</i>. \n",
    "\n",
    "Если невозможно ничего сократить, запишите в ответе просто цифру `0`.\n",
    "\n",
    "---\n",
    "\n",
    "To encode some sequence consisting of the letters `A`, ` B`,  `C`, ` D` and `E`, an unequal binary code is used, \n",
    "\n",
    "which uniquely decodes the resulting binary sequence.\n",
    "\n",
    "Here is the code:  <i style=\"font-size:130%;\" class=\"font-effect-canvas-print\">`A-110, B-01, C-001, D-111, E-100`</i>.\n",
    "\n",
    "Is it possible to shorten the length of a codeword for one or more letters by deleting one or more of the last characters in it \n",
    "\n",
    "so that the code can still be decoded uniquely?\n",
    "\n",
    "Write down the answer in the form: a letter, a code word. \n",
    "\n",
    "If there are several such letters, then through the comma, list the letters and their codes. \n",
    "\n",
    "Letters should be in the alphabetical order. \n",
    "\n",
    "For example, if the answer was \"For the letter `F` the new code will be `110`, and for the letter `G` the new code will be `101`, the answer needs to be written as: <i style=\"font-size:130%;\" class=\"font-effect-canvas-print\">`F110,G101`</i>. \n",
    "\n",
    "If it is impossible to shorten anything, write down in the answer just the number `0`."
   ]
  },
  {
   "cell_type": "markdown",
   "metadata": {},
   "source": [
    "В решении использован Алгоритм Шеннона — Фано.\n",
    "\n",
    "Самые короткие коды `0` и `1` не могут быть использованы - с них уже начинается не одно кодовое слово.\n",
    "\n",
    "Следующая бинарная комбинация - из двух цифр. В начале кодовых слов встречаются все возможные варианты `01`, `10`, `11`, `00`.\n",
    "\n",
    "Однако используется как слово из двух символов только `01`, а повторяется в начале слов из трех символов - только `11`. \n",
    "\n",
    "Значит, коды <i style=\"font-size:130%;\" class=\"font-effect-canvas-print\">`C-001, E-100`</i> можно сократить до <i style=\"font-size:130%;\" class=\"font-effect-canvas-print\">`C-00, E-10`</i>.\n",
    "\n",
    "---\n",
    "\n",
    "The solution uses the Shannon-Fano Algorithm.\n",
    "\n",
    "The shortest codes `0` and `1` cannot be used - they have already situated at the beginning of more than one codeword.\n",
    "\n",
    "The next binary combination is two-digit. At the beginning of the code words, all possible variants `01`, `10`, `11`, `00` are encountered. \n",
    "\n",
    "However, only `01` is used as a word of two characters and only `11` is repeated at the beginning of words of three characters.\n",
    "\n",
    "Hence, the codes <i style=\"font-size:130%;\" class=\"font-effect-canvas-print\">`C-001, E-100`</i> can be shortened to <i style=\"font-size:130%;\" class=\"font-effect-canvas-print\">`C-00, E-10`</i>."
   ]
  },
  {
   "cell_type": "code",
   "execution_count": 29,
   "metadata": {},
   "outputs": [],
   "source": [
    "answer_dictionary[5] <- 'C00,E10'"
   ]
  },
  {
   "cell_type": "markdown",
   "metadata": {},
   "source": [
    "## 6.\n",
    "Автомат получает на вход два однозначных восьмеричных числа. \n",
    "\n",
    "Каждое из этих чисел не превосходит 6 (если число больше 6, автомат отказывается работать). \n",
    "\n",
    "По этим двум числам вычисляется новое восьмеричное число как произведение полученных чисел.\n",
    "\n",
    "Ученик проанализировал алгоритм и выписал все восьмеричные числа, которые могут быть получены в результате работы алгоритма:\n",
    "\n",
    "$1_8,2_8,3_8,4_8,5_8,6_8,10_8,11_8,12_8,14_8,20_8,22_8,24_8,30_8,36_8,44_8$.\n",
    "\n",
    "Определите, сколько чисел он пропустил.\n",
    "\n",
    "---\n",
    "\n",
    "The automatic system receives two single-digit octal numbers. \n",
    "\n",
    "Each of these numbers does not exceed 6 (if the number is greater than 6, the system refuses to work). \n",
    "\n",
    "For these two numbers, a new octal number is calculated as the product of the numbers obtained.\n",
    "\n",
    "The student analyzed the algorithm and wrote out all octal numbers that can be obtained as a result of the algorithm:\n",
    "\n",
    "$1_8,2_8,3_8,4_8,5_8,6_8,10_8,11_8,12_8,14_8,20_8,22_8,24_8,30_8,36_8,44_8$.\n",
    "\n",
    "Determine how many numbers he missed."
   ]
  },
  {
   "cell_type": "code",
   "execution_count": 30,
   "metadata": {},
   "outputs": [],
   "source": [
    "written_list <- c('1', '2', '3', '4', '5', '6', '10', '11' , \n",
    "                  '12', '14', '20', '22', '24', '30', '36', '44')"
   ]
  },
  {
   "cell_type": "code",
   "execution_count": 31,
   "metadata": {},
   "outputs": [
    {
     "data": {
      "text/html": [
       "<ol class=list-inline>\n",
       "\t<li>1</li>\n",
       "\t<li>2</li>\n",
       "\t<li>3</li>\n",
       "\t<li>4</li>\n",
       "\t<li>5</li>\n",
       "\t<li>6</li>\n",
       "\t<li>8</li>\n",
       "\t<li>9</li>\n",
       "\t<li>10</li>\n",
       "\t<li>12</li>\n",
       "\t<li>16</li>\n",
       "\t<li>18</li>\n",
       "\t<li>20</li>\n",
       "\t<li>24</li>\n",
       "\t<li>30</li>\n",
       "\t<li>36</li>\n",
       "</ol>\n"
      ],
      "text/latex": [
       "\\begin{enumerate*}\n",
       "\\item 1\n",
       "\\item 2\n",
       "\\item 3\n",
       "\\item 4\n",
       "\\item 5\n",
       "\\item 6\n",
       "\\item 8\n",
       "\\item 9\n",
       "\\item 10\n",
       "\\item 12\n",
       "\\item 16\n",
       "\\item 18\n",
       "\\item 20\n",
       "\\item 24\n",
       "\\item 30\n",
       "\\item 36\n",
       "\\end{enumerate*}\n"
      ],
      "text/markdown": [
       "1. 1\n",
       "2. 2\n",
       "3. 3\n",
       "4. 4\n",
       "5. 5\n",
       "6. 6\n",
       "7. 8\n",
       "8. 9\n",
       "9. 10\n",
       "10. 12\n",
       "11. 16\n",
       "12. 18\n",
       "13. 20\n",
       "14. 24\n",
       "15. 30\n",
       "16. 36\n",
       "\n",
       "\n"
      ],
      "text/plain": [
       " [1]  1  2  3  4  5  6  8  9 10 12 16 18 20 24 30 36"
      ]
     },
     "metadata": {},
     "output_type": "display_data"
    }
   ],
   "source": [
    "dec_written_list <- as.vector(sapply(written_list, oct2dec))\n",
    "dec_written_list"
   ]
  },
  {
   "cell_type": "code",
   "execution_count": 32,
   "metadata": {},
   "outputs": [
    {
     "data": {
      "text/html": [
       "<ol class=list-inline>\n",
       "\t<li>1</li>\n",
       "\t<li>2</li>\n",
       "\t<li>3</li>\n",
       "\t<li>4</li>\n",
       "\t<li>5</li>\n",
       "\t<li>6</li>\n",
       "\t<li>8</li>\n",
       "\t<li>9</li>\n",
       "\t<li>10</li>\n",
       "\t<li>12</li>\n",
       "\t<li>15</li>\n",
       "\t<li>16</li>\n",
       "\t<li>18</li>\n",
       "\t<li>20</li>\n",
       "\t<li>24</li>\n",
       "\t<li>25</li>\n",
       "\t<li>30</li>\n",
       "\t<li>36</li>\n",
       "</ol>\n"
      ],
      "text/latex": [
       "\\begin{enumerate*}\n",
       "\\item 1\n",
       "\\item 2\n",
       "\\item 3\n",
       "\\item 4\n",
       "\\item 5\n",
       "\\item 6\n",
       "\\item 8\n",
       "\\item 9\n",
       "\\item 10\n",
       "\\item 12\n",
       "\\item 15\n",
       "\\item 16\n",
       "\\item 18\n",
       "\\item 20\n",
       "\\item 24\n",
       "\\item 25\n",
       "\\item 30\n",
       "\\item 36\n",
       "\\end{enumerate*}\n"
      ],
      "text/markdown": [
       "1. 1\n",
       "2. 2\n",
       "3. 3\n",
       "4. 4\n",
       "5. 5\n",
       "6. 6\n",
       "7. 8\n",
       "8. 9\n",
       "9. 10\n",
       "10. 12\n",
       "11. 15\n",
       "12. 16\n",
       "13. 18\n",
       "14. 20\n",
       "15. 24\n",
       "16. 25\n",
       "17. 30\n",
       "18. 36\n",
       "\n",
       "\n"
      ],
      "text/plain": [
       " [1]  1  2  3  4  5  6  8  9 10 12 15 16 18 20 24 25 30 36"
      ]
     },
     "metadata": {},
     "output_type": "display_data"
    }
   ],
   "source": [
    "right_list <- sort(unique(as.vector(c(1:6) %o% c(1:6))))\n",
    "right_list"
   ]
  },
  {
   "cell_type": "code",
   "execution_count": 33,
   "metadata": {},
   "outputs": [
    {
     "data": {
      "text/html": [
       "<ol class=list-inline>\n",
       "\t<li>1</li>\n",
       "\t<li>2</li>\n",
       "\t<li>3</li>\n",
       "\t<li>4</li>\n",
       "\t<li>5</li>\n",
       "\t<li>6</li>\n",
       "\t<li>7</li>\n",
       "\t<li>8</li>\n",
       "\t<li>9</li>\n",
       "\t<li>10</li>\n",
       "\t<li>&lt;NA&gt;</li>\n",
       "\t<li>11</li>\n",
       "\t<li>12</li>\n",
       "\t<li>13</li>\n",
       "\t<li>14</li>\n",
       "\t<li>&lt;NA&gt;</li>\n",
       "\t<li>15</li>\n",
       "\t<li>16</li>\n",
       "</ol>\n"
      ],
      "text/latex": [
       "\\begin{enumerate*}\n",
       "\\item 1\n",
       "\\item 2\n",
       "\\item 3\n",
       "\\item 4\n",
       "\\item 5\n",
       "\\item 6\n",
       "\\item 7\n",
       "\\item 8\n",
       "\\item 9\n",
       "\\item 10\n",
       "\\item <NA>\n",
       "\\item 11\n",
       "\\item 12\n",
       "\\item 13\n",
       "\\item 14\n",
       "\\item <NA>\n",
       "\\item 15\n",
       "\\item 16\n",
       "\\end{enumerate*}\n"
      ],
      "text/markdown": [
       "1. 1\n",
       "2. 2\n",
       "3. 3\n",
       "4. 4\n",
       "5. 5\n",
       "6. 6\n",
       "7. 7\n",
       "8. 8\n",
       "9. 9\n",
       "10. 10\n",
       "11. &lt;NA&gt;\n",
       "12. 11\n",
       "13. 12\n",
       "14. 13\n",
       "15. 14\n",
       "16. &lt;NA&gt;\n",
       "17. 15\n",
       "18. 16\n",
       "\n",
       "\n"
      ],
      "text/plain": [
       " [1]  1  2  3  4  5  6  7  8  9 10 NA 11 12 13 14 NA 15 16"
      ]
     },
     "metadata": {},
     "output_type": "display_data"
    }
   ],
   "source": [
    "match(right_list, dec_written_list)"
   ]
  },
  {
   "cell_type": "code",
   "execution_count": 34,
   "metadata": {},
   "outputs": [
    {
     "data": {
      "text/html": [
       "2"
      ],
      "text/latex": [
       "2"
      ],
      "text/markdown": [
       "2"
      ],
      "text/plain": [
       "[1] 2"
      ]
     },
     "metadata": {},
     "output_type": "display_data"
    }
   ],
   "source": [
    "n <- sum(is.na(match(right_list, dec_written_list)))\n",
    "n"
   ]
  },
  {
   "cell_type": "code",
   "execution_count": 35,
   "metadata": {},
   "outputs": [],
   "source": [
    "answer_dictionary[6] <- toString(n)"
   ]
  },
  {
   "cell_type": "markdown",
   "metadata": {},
   "source": [
    "## 7.\n",
    "Дан фрагмент электронной таблицы.\n",
    "\n",
    "---\n",
    "\n",
    "The fragment of the spreadsheet is given.\n",
    "\n",
    "| | A | B | C | D |\n",
    "|:-:|:-:|:-:|:-:|:-:|\n",
    "| 1 |   | 3 | 5 | 4 |\n",
    "| 2 | 10 | `=C$3+B3` | 1 | 2 |\n",
    "| 3 | 20 | `=C$2+$C3` | 6 | 7 |\n",
    "\n",
    "Чему станет равным значение ячейки `A1`, если в неё скопировать формулу из ячейки `B2`?\n",
    "\n",
    "Примечание: знак `$` обозначает абсолютную адресацию.\n",
    "\n",
    "---\n",
    "\n",
    "What will the value of the cell `A1` become equal if you copy the formula from the cell `B2` into it?\n",
    "\n",
    "Note: The `$` sign denotes absolute addressing.\n",
    "\n",
    "[Google Sheet](https://drive.google.com/open?id=13XTW3PWXUoUeYK9AZfjlrCcFXbmRNPoJazwd1azoAq8)\n",
    "\n",
    "Результат копирования ячейки.\n",
    "\n",
    "---\n",
    "\n",
    "The result of copying the cell.\n",
    "\n",
    "<div style=\"width:700px; height:260px; overflow:auto;\">\n",
    "    <img src=\"it_images/2017_08_07a.png\" width=\"700\" height=\"260\"/>\n",
    "</div>"
   ]
  },
  {
   "cell_type": "code",
   "execution_count": 36,
   "metadata": {},
   "outputs": [],
   "source": [
    "answer_dictionary[7] <- toString(7 + 10)"
   ]
  },
  {
   "cell_type": "markdown",
   "metadata": {},
   "source": [
    "## 8. \n",
    "Определите, что будет напечатано в результате выполнения следующего фрагмента программы:\n",
    "\n",
    "Determine what will be printed as a result of execution of the following program fragment:\n",
    "<table style=\"width:95%;\">\n",
    "  <tr style=\"color:slategray;font-size:120%;font-family:'Roboto';\">\n",
    "    <th style=\"text-align:center;\">Python</th> \n",
    "    <th style=\"text-align:center;\">R</th>          \n",
    "  </tr>\n",
    "  <tr>\n",
    "    <td style=\"font-weight:bold;text-align:left;\"><pre><code class='python'>\n",
    "\n",
    "k,s = 50,2\n",
    "while s < 1000:\n",
    "    s &#42;= 2\n",
    "    k -= 3\n",
    "\n",
    "print (k)\n",
    "    </code></pre></td> \n",
    "    <td style=\"font-weight:bold;text-align:left;\"><pre><code class='r'> \n",
    "    \n",
    "k <- 50; s <- 2\n",
    "\n",
    "while (s < 1000) {\n",
    "    s <- s &#42; 2\n",
    "    k <- k - 3\n",
    "}\n",
    "\n",
    "print(k)\n",
    "    </code></pre></td>     \n",
    "  </tr> \n",
    "  <tr style=\"color:slategray;font-size:120%;font-family:'Roboto';\">\n",
    "    <th style=\"text-align:center;\">BASIC</th> \n",
    "    <th style=\"text-align:center;\">Pascal</th>          \n",
    "  </tr>\n",
    "  <tr>\n",
    "    <td style=\"font-weight:bold;text-align:left;\"><pre><code class='basic'>\n",
    "\n",
    "DIM k, s AS INTEGER\n",
    "k = 50\n",
    "s = 2\n",
    "WHILE s < 1000\n",
    "    s = s &#42; 2\n",
    "    k = k - 3\n",
    "WEND\n",
    "PRINT k\n",
    "    </code></pre></td> \n",
    "    <td style=\"font-weight:bold;text-align:left;\"><pre><code class='pascal'> \n",
    "    \n",
    "var k, s : integer;\n",
    "begin\n",
    "    k := 50;\n",
    "    s := 2;\n",
    "    while s < 1000 do\n",
    "        s := s &#42; 2;\n",
    "        k := k - 3;\n",
    "    end;\n",
    "    write(k);\n",
    "end.\n",
    "    </code></pre></td>     \n",
    "  </tr>    \n",
    "  <tr style=\"color:slategray;font-size:120%;font-family:'Roboto';\">\n",
    "    <th style=\"text-align:center;\">C</th> \n",
    "    <th style=\"text-align:center;\">Natural Language Programming</th>          \n",
    "  </tr>\n",
    "  <tr>\n",
    "    <td style=\"font-weight:bold;text-align:left;\"><pre><code class='c'>\n",
    "\n",
    "{\n",
    "    int k, s;\n",
    "    k = 50;\n",
    "    s = 2;\n",
    "    while (s < 1000)\n",
    "    {\n",
    "        s = s &#42; 2;\n",
    "        k = k - 3;\n",
    "    } \n",
    "    printf(\"%d\", k);\n",
    "}\n",
    "    </code></pre></td> \n",
    "    <td style=\"font-weight:bold;text-align:left;\"><pre><code class='nlp'> \n",
    "    \n",
    "\n",
    "нач\n",
    "    цел k, s\n",
    "    k := 50\n",
    "    s := 2\n",
    "    нц пока s < 1000\n",
    "        s := s &#42; 2\n",
    "        k := k - 3\n",
    "    кц\n",
    "    вывод k\n",
    "кон\n",
    "    </code></pre></td>     \n",
    "  </tr>      \n",
    "</table>"
   ]
  },
  {
   "cell_type": "code",
   "execution_count": 37,
   "metadata": {},
   "outputs": [
    {
     "name": "stdout",
     "output_type": "stream",
     "text": [
      "[1] 23\n"
     ]
    }
   ],
   "source": [
    "k <- 50; s <- 2\n",
    "\n",
    "while (s < 1000) {\n",
    "    s <- s * 2\n",
    "    k <- k - 3\n",
    "}\n",
    "\n",
    "print(k)"
   ]
  },
  {
   "cell_type": "code",
   "execution_count": 38,
   "metadata": {},
   "outputs": [],
   "source": [
    "answer_dictionary[8] <- toString(k)"
   ]
  },
  {
   "cell_type": "markdown",
   "metadata": {},
   "source": [
    "## 9. \n",
    "Музыкальный фрагмент был записан в формате стерео (двухканальная запись), \n",
    "\n",
    "оцифрован и сохранён в виде файла без использования сжатия данных. \n",
    "\n",
    "Размер полученного файла — 16 Мбайт. \n",
    "\n",
    "Затем тот же музыкальный фрагмент был оцифрован повторно в формате моно и \n",
    "\n",
    "оцифрован с разрешением в 1,5 раза выше и частотой дискретизации в 2 раза меньше, чем в первый раз. \n",
    "\n",
    "Сжатие данных не производилось. \n",
    "\n",
    "Укажите размер файла в Мбайт, полученного при повторной записи. \n",
    "\n",
    "В ответе запишите только целое число, единицу измерения писать не нужно.\n",
    "\n",
    "---\n",
    "\n",
    "The musical fragment was recorded in stereo (two-channel recording), \n",
    "\n",
    "digitized and saved as a file without using data compression. \n",
    "\n",
    "The size of the received file is 16 MB. \n",
    "\n",
    "Then the same musical fragment was digitized again in the mono format and \n",
    "\n",
    "digitized with a resolution of 1.5 times higher and a sampling frequency is 2 times less than for the first time. \n",
    "\n",
    "Data compression was not applied. \n",
    "\n",
    "Specify the size of the file in MB, obtained with the re-recording. \n",
    "\n",
    "In the answer, write down only an integer, you do not need to write a unit of measurement."
   ]
  },
  {
   "cell_type": "markdown",
   "metadata": {},
   "source": [
    "| Показатели | Изменение объема информации |\n",
    "|:-:|:-:|\n",
    "| частота дискретизации | в 2 раза меньше |\n",
    "| разрешение | в 1,5 раза выше |\n",
    "| время записи | одинаковое (тот же музыкальный фрагмент) |\n",
    "| одноканальная (моно) | в 2 раза меньше, чем при стерео записи |\n",
    "\n",
    "Размер полученного файла: $16 \\ / \\ 2 \\ ∗ \\ 1.5 \\ / \\ 2 \\ = \\ 6$ Мбайт.\n",
    "\n",
    "---\n",
    "\n",
    "| Indicators | Changing the volume of information |\n",
    "|:-:|:-:|\n",
    "| sampling frequency | 2 times less |\n",
    "| resolution | 1.5 times higher |\n",
    "| recording time | equal (the same musical fragment) |\n",
    "| single-channel (mono) | 2 times less than with stereo recording |\n",
    "\n",
    "The size of the resulting file: $16 \\ / \\ 2 \\ ∗ \\ 1.5 \\ / \\ 2 \\ = \\ 6$ MB."
   ]
  },
  {
   "cell_type": "code",
   "execution_count": 39,
   "metadata": {},
   "outputs": [],
   "source": [
    "answer_dictionary[9] <- toString(16 / 2 * 1.5 / 2)"
   ]
  },
  {
   "cell_type": "markdown",
   "metadata": {},
   "source": [
    "## 10.\n",
    "[Эллочка-людоедка](https://ru.wikipedia.org/wiki/%D0%AD%D0%BB%D0%BB%D0%BE%D1%87%D0%BA%D0%B0-%D0%BB%D1%8E%D0%B4%D0%BE%D0%B5%D0%B4%D0%BA%D0%B0) (в лексиконе которой, как известно, было всего 30 слов) произносит фразу, состоящую из 10 слов. \n",
    "\n",
    "Какое количество информации (количество бит) сообщает Эллочка?\n",
    "\n",
    "---\n",
    "\n",
    "Ellochka (in her lexicon, as we know, was only 30 words) pronounces a phrase consisting of 10 words.\n",
    "\n",
    "What amount of information (the number of bits) does Ellochka say?"
   ]
  },
  {
   "cell_type": "code",
   "execution_count": 42,
   "metadata": {},
   "outputs": [
    {
     "data": {
      "text/html": [
       "5"
      ],
      "text/latex": [
       "5"
      ],
      "text/markdown": [
       "5"
      ],
      "text/plain": [
       "[1] 5"
      ]
     },
     "metadata": {},
     "output_type": "display_data"
    }
   ],
   "source": [
    "bits_for_one_of_30_words <- ceiling(log2(30))\n",
    "bits_for_one_of_30_words"
   ]
  },
  {
   "cell_type": "code",
   "execution_count": 43,
   "metadata": {},
   "outputs": [],
   "source": [
    "answer_dictionary[10] <- toString(10 * bits_for_one_of_30_words)"
   ]
  },
  {
   "cell_type": "markdown",
   "metadata": {},
   "source": [
    "## Ответы &nbsp; &nbsp; &nbsp; Answers"
   ]
  },
  {
   "cell_type": "code",
   "execution_count": 44,
   "metadata": {},
   "outputs": [
    {
     "data": {
      "text/plain": [
       "<hash> containing 10 key-value pair(s).\n",
       "  1 : 6\n",
       "  10 : 50\n",
       "  2 : xzy\n",
       "  3 : 9\n",
       "  4 : 134\n",
       "  5 : C00,E10\n",
       "  6 : 2\n",
       "  7 : 17\n",
       "  8 : 23\n",
       "  9 : 6"
      ]
     },
     "metadata": {},
     "output_type": "display_data"
    }
   ],
   "source": [
    "answer_dictionary"
   ]
  }
 ],
 "metadata": {
  "kernelspec": {
   "display_name": "R",
   "language": "R",
   "name": "ir"
  },
  "language_info": {
   "codemirror_mode": "r",
   "file_extension": ".r",
   "mimetype": "text/x-r-source",
   "name": "R",
   "pygments_lexer": "r",
   "version": "3.5.0"
  }
 },
 "nbformat": 4,
 "nbformat_minor": 2
}
