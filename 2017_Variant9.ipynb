{
 "cells": [
  {
   "cell_type": "markdown",
   "metadata": {},
   "source": [
    "# ЕГЭ 2017 Вариант 9 &nbsp; &nbsp; &nbsp; EGE 2017 Variant 9\n",
    "### The variant from the book was used: [ЕГЭ-2017. Информатика.10 тренировочных вариантов. Ушаков Д.М.](https://drive.google.com/file/d/0B6696ckkWj_zS2ptblAxNERHZzQ/view)\n",
    "## Часть 1 &nbsp; &nbsp; &nbsp; Part 1"
   ]
  },
  {
   "cell_type": "code",
   "execution_count": 45,
   "metadata": {},
   "outputs": [
    {
     "data": {
      "text/html": [
       "<style>\n",
       "@import url('https://fonts.googleapis.com/css?family=Roboto&effect=3d|fire-animation|brick-sign|canvas-print|');\n",
       "body {background-color: aliceblue;} \n",
       "a {color: #4876ff; font-family: 'Roboto';} \n",
       "h1 {color: #348ABD; font-family: 'Roboto'; text-shadow: 4px 4px 4px #aaa;} \n",
       "h2, h3 {color: gray; font-family: 'Roboto'; text-shadow: 4px 4px 4px #aaa;}\n",
       "h4 {color: #348ABD; font-family: 'Roboto';}\n",
       "span {text-shadow: 4px 4px 4px #aaa;}\n",
       "div.output_prompt, div.output_area pre, div.output_subarea {color: gray;}\n",
       "div.input_prompt {color: #4876ff;}      \n",
       "div.output_stderr pre {background-color: aliceblue;}  \n",
       "div.output_stderr {background-color: gray;}                        \n",
       "</style>"
      ],
      "text/plain": [
       "<IPython.core.display.HTML object>"
      ]
     },
     "metadata": {},
     "output_type": "display_data"
    }
   ],
   "source": [
    "%%html\n",
    "<style>\n",
    "@import url('https://fonts.googleapis.com/css?family=Roboto&effect=3d|fire-animation|brick-sign|canvas-print|');\n",
    "body {background-color: aliceblue;} \n",
    "a {color: #4876ff; font-family: 'Roboto';} \n",
    "h1 {color: #348ABD; font-family: 'Roboto'; text-shadow: 4px 4px 4px #aaa;} \n",
    "h2, h3 {color: gray; font-family: 'Roboto'; text-shadow: 4px 4px 4px #aaa;}\n",
    "h4 {color: #348ABD; font-family: 'Roboto';}\n",
    "span {text-shadow: 4px 4px 4px #aaa;}\n",
    "div.output_prompt, div.output_area pre, div.output_subarea {color: gray;}\n",
    "div.input_prompt {color: #4876ff;}      \n",
    "div.output_stderr pre {background-color: aliceblue;}  \n",
    "div.output_stderr {background-color: gray;}                        \n",
    "</style>"
   ]
  },
  {
   "cell_type": "code",
   "execution_count": 46,
   "metadata": {},
   "outputs": [],
   "source": [
    "answer_dictionary = dict()"
   ]
  },
  {
   "cell_type": "markdown",
   "metadata": {},
   "source": [
    "<div style=\"width: 800px; height: 80px; overflow:auto;\">\n",
    "    <img src=\"it_images/2017_09_01.png\" width=\"800\" height=\"80\"/>\n",
    "</div>\n",
    "Сколько существует различных 3-значных чисел в десятичной системе счисления?\n",
    "\n",
    "---\n",
    "\n",
    "How many different 3-digit numbers exist in the decimal system?"
   ]
  },
  {
   "cell_type": "code",
   "execution_count": 47,
   "metadata": {},
   "outputs": [
    {
     "name": "stdout",
     "output_type": "stream",
     "text": [
      "\n",
      " Answer: 900\n"
     ]
    }
   ],
   "source": [
    "answer_dictionary[1] = str(1000 - 100)\n",
    "print (\"\\n\",\"Answer:\",answer_dictionary[1]) "
   ]
  },
  {
   "cell_type": "markdown",
   "metadata": {},
   "source": [
    "<div style=\"width: 800px; height: 350px; overflow:auto;\">\n",
    "    <img src=\"it_images/2017_09_02.png\" width=\"800\" height=\"350\"/>\n",
    "</div>"
   ]
  },
  {
   "cell_type": "markdown",
   "metadata": {},
   "source": [
    "Дан фрагмент таблицы истинности выражения $F$, зависящего от трёх логических переменных $x_1, x_2, x_3$. \n",
    "\n",
    "Значения в пустых клетках таблицы неизвестны и могут быть любыми из возможных.\n",
    "\n",
    "---\n",
    "\n",
    "A fragment of the truth table of the expression $F$, depending on three logical variables $x_1, x_2, x_3$, is given.\n",
    "\n",
    "Values in blank cells are unknown and can be any of the possible ones.\n",
    "\n",
    "| $x_1$ | $x_2$ | $x_3$ | F |\n",
    "| :-: | :-: | :-: | :-: |\n",
    "| 0 |   |   | 0 |\n",
    "| 1 | 1 | 0 | 0 |\n",
    "\n",
    "Перечислите в порядке возрастания без запятых и пробелов номера логических выражений, которые могут соответствовать F:\n",
    "\n",
    "---\n",
    "\n",
    "List in ascending order without commas and spaces the numbers of logical expressions that can correspond to F:\n",
    "\n",
    "1) $\\neg x_1 \\land \\neg x_2 \\land x_3$\n",
    "\n",
    "2) $x_1 \\lor \\neg x_2 \\lor x_3$\n",
    "\n",
    "3) $\\neg x_1 \\land x_2 \\land x_3$\n",
    "\n",
    "4) $\\neg x_1 \\lor \\neg x_2 \\lor x_3$\n",
    "\n",
    "5) $x_1 \\land x_2 \\land \\neg x_3$"
   ]
  },
  {
   "cell_type": "code",
   "execution_count": 48,
   "metadata": {},
   "outputs": [],
   "source": [
    "def f1(x1,x2,x3): return (not x1 and not x2 and x3)\n",
    "def f2(x1,x2,x3): return (x1 or not x2 or x3)\n",
    "def f3(x1,x2,x3): return (not x1 and x2 and x3)\n",
    "def f4(x1,x2,x3): return (not x1 or not x2 or x3)\n",
    "def f5(x1,x2,x3): return (x1 and x2 and not x3)\n",
    "\n",
    "def find_logic_exp(function):\n",
    "    c1 = ((function(0,0,0) == 0) or (function(0,1,0) == 0) or \\\n",
    "          (function(0,0,1) == 0) or (function(0,1,1)==0)) \n",
    "    c2 = function(1,1,0)==0\n",
    "    return (c1 and c2)\n",
    "\n",
    "result = ''\n",
    "for i, function in enumerate([f1, f2, f3, f4, f5]):\n",
    "    if find_logic_exp(function) == True:\n",
    "        result += str(i+1)"
   ]
  },
  {
   "cell_type": "code",
   "execution_count": 49,
   "metadata": {},
   "outputs": [
    {
     "name": "stdout",
     "output_type": "stream",
     "text": [
      "\n",
      " Answer: 13\n"
     ]
    }
   ],
   "source": [
    "answer_dictionary[2] = result\n",
    "print (\"\\n\",\"Answer:\",answer_dictionary[2]) "
   ]
  },
  {
   "cell_type": "markdown",
   "metadata": {},
   "source": [
    "<div style=\"width: 800px; height: 400px; overflow:auto;\">\n",
    "    <img src=\"it_images/2017_09_03.png\" width=\"800\" height=\"400\"/>\n",
    "</div>"
   ]
  },
  {
   "cell_type": "markdown",
   "metadata": {},
   "source": [
    "Между населёнными пунктами $A, B, C, D, E, F$ построены дороги, протяжённость которых приведена в таблице. \n",
    "\n",
    "(Отсутствие числа в таблице означает, что прямой дороги между пунктами нет.)\n",
    "\n",
    "Определите длину кратчайшего пути между пунктами $A$ и $F$ (при условии, что передвигаться можно только по построенным дорогам).\n",
    "\n",
    "---\n",
    "\n",
    "Between the settlements $A, B, C, D, E, F$ roads are constructed, the lengths of which are given in the table.\n",
    "\n",
    "(The absence of a number in the table means that there is no direct road between points.)\n",
    "\n",
    "Determine the length of the shortest path between points $A$ and $F$ (provided that you can only move along the constructed roads).\n",
    "\n",
    "| &#x123CF; | A | B | C | D | E | F |\n",
    "|:-:|:-:|:-:|:-:|:-:|:-:|:-:|\n",
    "| **A** | &#x123CF; | 3 | 8 |   |   | 16 |\n",
    "| **B** | 3 | &#x123CF; | 4 | 7 |   |   |\n",
    "| **C** | 8 | 4 | &#x123CF; | 2 | 6 |   |\n",
    "| **D** |   | 7 | 2 | &#x123CF; | 5 | 4 |\n",
    "| **E** |   |   | 6 | 5 | &#x123CF; | 2 |\n",
    "| **F** | 16 |   |   | 4 | 2 | &#x123CF; |"
   ]
  },
  {
   "cell_type": "code",
   "execution_count": 50,
   "metadata": {},
   "outputs": [
    {
     "data": {
      "text/html": [
       "<div>\n",
       "<style scoped>\n",
       "    .dataframe tbody tr th:only-of-type {\n",
       "        vertical-align: middle;\n",
       "    }\n",
       "\n",
       "    .dataframe tbody tr th {\n",
       "        vertical-align: top;\n",
       "    }\n",
       "\n",
       "    .dataframe thead th {\n",
       "        text-align: right;\n",
       "    }\n",
       "</style>\n",
       "<table border=\"1\" class=\"dataframe\">\n",
       "  <thead>\n",
       "    <tr style=\"text-align: right;\">\n",
       "      <th></th>\n",
       "      <th>A</th>\n",
       "      <th>B</th>\n",
       "      <th>C</th>\n",
       "      <th>D</th>\n",
       "      <th>E</th>\n",
       "      <th>F</th>\n",
       "    </tr>\n",
       "  </thead>\n",
       "  <tbody>\n",
       "    <tr>\n",
       "      <th>A</th>\n",
       "      <td>0</td>\n",
       "      <td>3</td>\n",
       "      <td>8</td>\n",
       "      <td>0</td>\n",
       "      <td>0</td>\n",
       "      <td>16</td>\n",
       "    </tr>\n",
       "    <tr>\n",
       "      <th>B</th>\n",
       "      <td>3</td>\n",
       "      <td>0</td>\n",
       "      <td>4</td>\n",
       "      <td>7</td>\n",
       "      <td>0</td>\n",
       "      <td>0</td>\n",
       "    </tr>\n",
       "    <tr>\n",
       "      <th>C</th>\n",
       "      <td>8</td>\n",
       "      <td>4</td>\n",
       "      <td>0</td>\n",
       "      <td>2</td>\n",
       "      <td>6</td>\n",
       "      <td>0</td>\n",
       "    </tr>\n",
       "    <tr>\n",
       "      <th>D</th>\n",
       "      <td>0</td>\n",
       "      <td>7</td>\n",
       "      <td>2</td>\n",
       "      <td>0</td>\n",
       "      <td>5</td>\n",
       "      <td>4</td>\n",
       "    </tr>\n",
       "    <tr>\n",
       "      <th>E</th>\n",
       "      <td>0</td>\n",
       "      <td>0</td>\n",
       "      <td>6</td>\n",
       "      <td>5</td>\n",
       "      <td>0</td>\n",
       "      <td>2</td>\n",
       "    </tr>\n",
       "    <tr>\n",
       "      <th>F</th>\n",
       "      <td>16</td>\n",
       "      <td>0</td>\n",
       "      <td>0</td>\n",
       "      <td>4</td>\n",
       "      <td>2</td>\n",
       "      <td>0</td>\n",
       "    </tr>\n",
       "  </tbody>\n",
       "</table>\n",
       "</div>"
      ],
      "text/plain": [
       "    A  B  C  D  E   F\n",
       "A   0  3  8  0  0  16\n",
       "B   3  0  4  7  0   0\n",
       "C   8  4  0  2  6   0\n",
       "D   0  7  2  0  5   4\n",
       "E   0  0  6  5  0   2\n",
       "F  16  0  0  4  2   0"
      ]
     },
     "execution_count": 50,
     "metadata": {},
     "output_type": "execute_result"
    }
   ],
   "source": [
    "import networkx as nx\n",
    "import pandas\n",
    "import matplotlib.pyplot as plt\n",
    "%matplotlib inline\n",
    "\n",
    "df = pandas.DataFrame(index=['A', 'B', 'C', 'D', 'E', 'F'], \n",
    "                      columns=['A', 'B', 'C', 'D', 'E', 'F'])\n",
    "df = df.fillna(0) \n",
    "df['A']['B'], df['A']['C'], df['A']['F'] = 3, 8, 16\n",
    "df['B']['A'], df['B']['C'], df['B']['D'] = 3, 4, 7\n",
    "df['C']['A'], df['C']['B'], df['C']['D'], df['C']['E'] = 8, 4, 2, 6\n",
    "df['D']['B'], df['D']['C'], df['D']['E'], df['D']['F'] = 7, 2, 5, 4\n",
    "df['E']['C'], df['E']['D'], df['E']['F'] = 6, 5, 2\n",
    "df['F']['A'], df['F']['D'], df['F']['E'] = 16, 4, 2\n",
    "df"
   ]
  },
  {
   "cell_type": "code",
   "execution_count": 51,
   "metadata": {},
   "outputs": [
    {
     "data": {
      "image/png": "[encoded data removed]",
      "text/plain": [
       "<matplotlib.figure.Figure at 0x104a9e588>"
      ]
     },
     "metadata": {},
     "output_type": "display_data"
    }
   ],
   "source": [
    "plt.figure(figsize=(9,6))\n",
    "G = nx.from_pandas_adjacency(df)\n",
    "pos = nx.shell_layout(G) \n",
    "\n",
    "nx.draw_networkx_nodes(G,pos,node_size=1200,node_shape=\"h\",\n",
    "                       node_color='steelblue')\n",
    "nx.draw_networkx_labels(G,pos,font_size=20,font_weight='bold')\n",
    "nx.draw_networkx_edges(G,pos,width=3,alpha=0.7,\n",
    "                       edge_color='steelblue',style='dashed')\n",
    "edge_labels = \\\n",
    "dict([((u,v,),d['weight']) for u,v,d in G.edges(data=True)])\n",
    "nx.draw_networkx_edge_labels(G,pos,font_size=20,font_weight='bold', \n",
    "                             label_pos=0.5, edge_labels=edge_labels)\n",
    "\n",
    "path_edges = [('A','B'), ('B','C'), ('C','D'), ('D','F')]\n",
    "\n",
    "nx.draw_networkx_edges(G, pos, width=3, edgelist=path_edges,\n",
    "                       alpha=0.5, edge_color='darkorange',\n",
    "                       arrowsize=70, arrowstyle='-|>')\n",
    "plt.axis('off');"
   ]
  },
  {
   "cell_type": "code",
   "execution_count": 52,
   "metadata": {},
   "outputs": [
    {
     "data": {
      "text/plain": [
       "['A', 'B', 'C', 'D', 'F']"
      ]
     },
     "execution_count": 52,
     "metadata": {},
     "output_type": "execute_result"
    }
   ],
   "source": [
    "nx.shortest_path(G,'A','F',weight='weight')"
   ]
  },
  {
   "cell_type": "code",
   "execution_count": 53,
   "metadata": {},
   "outputs": [
    {
     "name": "stdout",
     "output_type": "stream",
     "text": [
      "\n",
      " Answer: 13\n"
     ]
    }
   ],
   "source": [
    "length = G['A']['B']['weight'] + G['B']['C']['weight'] + \\\n",
    "         G['C']['D']['weight'] + G['D']['F']['weight']\n",
    "    \n",
    "answer_dictionary[3] = str(length)\n",
    "print(\"\\n\",\"Answer:\", answer_dictionary[3])"
   ]
  },
  {
   "cell_type": "markdown",
   "metadata": {},
   "source": [
    "<div style=\"width: 800px; height: 320px; overflow:auto;\">\n",
    "    <img src=\"it_images/2017_09_04.png\" width=\"800\" height=\"320\"/>\n",
    "</div>"
   ]
  },
  {
   "cell_type": "markdown",
   "metadata": {},
   "source": [
    "Для групповых операций с файлами используются маски имён файлов. \n",
    "\n",
    "Маска представляет собой последовательность букв, цифр и прочих допустимых в именах файлов символов, в которой также могут встречаться следующие символы.\n",
    "\n",
    "Символ <i style=\"font-size:170%;\" class=\"font-effect-fire-animation\">«?»</i> &nbsp; (вопросительный знак) означает ровно один произвольный символ.\n",
    "\n",
    "Символ <i style=\"font-size:170%;\" class=\"font-effect-fire-animation\">«&#42;»</i> &nbsp; (звёздочка) означает любую последовательность символов произвольной длины, в том числе <i style=\"font-size:170%;\" class=\"font-effect-fire-animation\">«&#42;»</i> &nbsp; может задавать и пустую последовательность.\n",
    "\n",
    "Имеется список из нескольких масок:\n",
    "    \n",
    "`*to*.?*a*`, `*sto??.*`, `?*to*.???`, `a*to*m.*?a`.\n",
    "\n",
    "Определите, какие из указанных файлов будут отобраны по ровно трём из приведённых масок:\n",
    "\n",
    "1) `astorm.aa`, 2) `anastom.bra`, 3) `apostorm.mka`, 4) `abrasto2m.abc`.\n",
    "\n",
    "В ответе перечислите номера файлов в порядке возрастания без пробелов и знаков препинания.\n",
    "\n",
    "---\n",
    "\n",
    "For group operations with files, masks of file names are used. \n",
    "\n",
    "A mask is a sequence of letters, numbers and other permissible characters in file names, in which the following characters can also occur.\n",
    "\n",
    "The symbol <i style=\"font-size:170%;\" class=\"font-effect-fire-animation\">«?»</i> &nbsp; (question mark) means exactly one arbitrary symbol.\n",
    "\n",
    "The symbol <i style=\"font-size:170%;\" class=\"font-effect-fire-animation\">«&#42;»</i> &nbsp; (asterisk) means any character sequence of an arbitrary length, including the case when <i style=\"font-size:170%;\" class=\"font-effect-fire-animation\">«&#42;»</i> &nbsp; can specify an empty sequence.\n",
    "\n",
    "There is a list of several masks:\n",
    "\n",
    "`*to*.?*a*`, `*sto??.*`, `?*to*.???`, `a*to*m.*?a`.\n",
    "\n",
    "Determine which of the specified files will be selected on exactly three of the given masks:\n",
    "\n",
    "1) `astorm.aa`, 2) `anastom.bra`, 3) `apostorm.mka`, 4) `abrasto2m.abc`.\n",
    "\n",
    "In the answer, list file numbers in ascending order without spaces and punctuation marks."
   ]
  },
  {
   "cell_type": "code",
   "execution_count": 54,
   "metadata": {},
   "outputs": [
    {
     "name": "stdout",
     "output_type": "stream",
     "text": [
      "1 astorm.aa 1 *to*.?*a*\n",
      "1 astorm.aa 2 *sto??.*\n",
      "1 astorm.aa 4 a*to*m.*?a\n",
      "2 anastom.bra 1 *to*.?*a*\n",
      "2 anastom.bra 3 ?*to*.???\n",
      "2 anastom.bra 4 a*to*m.*?a\n",
      "3 apostorm.mka 1 *to*.?*a*\n",
      "3 apostorm.mka 2 *sto??.*\n",
      "3 apostorm.mka 3 ?*to*.???\n",
      "3 apostorm.mka 4 a*to*m.*?a\n",
      "4 abrasto2m.abc 2 *sto??.*\n",
      "4 abrasto2m.abc 3 ?*to*.???\n",
      "[['1', '2', '4'], ['1', '3', '4'], ['1', '2', '3', '4'], ['2', '3']]\n",
      "\n",
      " Answer: 12\n"
     ]
    }
   ],
   "source": [
    "import fnmatch\n",
    "import os\n",
    "mask_list = ['*to*.?*a*','*sto??.*','?*to*.???', 'a*to*m.*?a']\n",
    "file_list = ['astorm.aa', 'anastom.bra', 'apostorm.mka', 'abrasto2m.abc']\n",
    "answer_list = [[],[],[],[]]\n",
    "c = ''\n",
    "\n",
    "for i,file in enumerate(file_list):\n",
    "    for j,mask in enumerate(mask_list):   \n",
    "        if fnmatch.fnmatch(file, mask):\n",
    "            print (i+1,file,j+1,mask)\n",
    "            answer_list[i].append(str(j+1))\n",
    "    if len(answer_list[i]) == 3: \n",
    "        c += str(i+1)\n",
    "\n",
    "print(answer_list)\n",
    "answer_dictionary[4] = c      \n",
    "print(\"\\n\",\"Answer:\",answer_dictionary[4])"
   ]
  },
  {
   "cell_type": "code",
   "execution_count": 55,
   "metadata": {},
   "outputs": [
    {
     "name": "stdout",
     "output_type": "stream",
     "text": [
      "(?s:.*to.*\\...*a.*)\\Z\n",
      "(?s:.*sto..\\..*)\\Z\n",
      "(?s:..*to.*\\....)\\Z\n",
      "(?s:a.*to.*m\\..*.a)\\Z\n"
     ]
    }
   ],
   "source": [
    "for mask in mask_list:\n",
    "    print(fnmatch.translate(mask))"
   ]
  },
  {
   "cell_type": "markdown",
   "metadata": {},
   "source": [
    "<div style=\"width: 800px; height: 280px; overflow:auto;\">\n",
    "    <img src=\"it_images/2017_09_05.png\" width=\"800\" height=\"280\"/>\n",
    "</div>"
   ]
  },
  {
   "cell_type": "markdown",
   "metadata": {},
   "source": [
    "Для передачи информации по каналу связи с помехами используется 5-битовый код. \n",
    "\n",
    "Сообщение содержит только буквы A, B и C, которые кодируются следующими кодовыми словами:\n",
    "\n",
    "<i style=\"font-size:150%;color:#348ABD;\" class=\"font-effect-3d\">A-10101, B-10010, C-01110</i>.\n",
    "\n",
    "Любые два из этих трёх кодовых слов отличаются не менее чем в трёх позициях. Поэтому, если принятое кодовое слово отличается от допустимого не более чем в одной позиции, можно однозначно определить, какая буква передавалась (говорят, что «код исправляет одну ошибку»). Так, получив кодовое слово 10000, можно догадаться, что передавалась буква B (отличие от кодового слова для B только в одной позиции, для остальных кодовых слов отличий больше). Если принятое кодовое слово отличается от всех допустимых кодовых слов более, чем в одной позиции, считается, что произошла ошибка (она обозначается «х»).\n",
    "\n",
    "Получено сообщение: <i style=\"font-size:150%;color:#348ABD;\" class=\"font-effect-3d\">00101 11010 11110 10111</i>. \n",
    "\n",
    "Декодируйте это сообщение. В ответе укажите четыре символа без пробелов и запятых.\n",
    "\n",
    "---\n",
    "\n",
    "To transmit information over a communication channel with interference, a 5-bit code is used. \n",
    "\n",
    "The message contains only the letters A, B and C, which are encoded by the following code words:\n",
    "\n",
    "<i style=\"font-size:150%;color:#348ABD;\" class=\"font-effect-3d\">A-10101, B-10010, C-01110</i>.\n",
    "\n",
    "Any two of these three codewords differ in at least three positions. Therefore, if the received codeword differs from permissible in not more than one position, it is possible to unambiguously determine which letter was transmitted (say that \"decoding corrects one error\"). So, having received the code word 10000, you can guess that the letter B was transmitted (unlike the codeword for B in only one position, for the other codewords there are more differences). If the received codeword differs from all valid codewords in more than one position, it is considered that an error has occurred (it is denoted by \"x\").\n",
    "\n",
    "The received message: <i style=\"font-size:150%;color:#348ABD;\" class=\"font-effect-3d\">00101 11010 11110 10111</i>.\n",
    "\n",
    "Decode this message. In the answer, specify four characters without spaces or commas."
   ]
  },
  {
   "cell_type": "code",
   "execution_count": 56,
   "metadata": {},
   "outputs": [
    {
     "data": {
      "text/plain": [
       "'ABCA'"
      ]
     },
     "execution_count": 56,
     "metadata": {},
     "output_type": "execute_result"
    }
   ],
   "source": [
    "codes = ['10101','10010','01110'] \n",
    "string = '00101 11010 11110 10111'.split()\n",
    "difference = []\n",
    "result = ''\n",
    "\n",
    "for element in string:\n",
    "    for code in codes:\n",
    "        diff = [i for i in range(len(element)) if element[i] != code[i]]\n",
    "        if len(diff) == 1:\n",
    "            result += ' ' + code\n",
    "        difference.append(diff)\n",
    "\n",
    "if len(result.split()) == len(string):\n",
    "    result = result[1:].replace('10101', 'A').replace('10010', 'B').replace('01110', 'C').replace(' ', '')\n",
    "    \n",
    "result"
   ]
  },
  {
   "cell_type": "code",
   "execution_count": 57,
   "metadata": {},
   "outputs": [
    {
     "name": "stdout",
     "output_type": "stream",
     "text": [
      "\n",
      " Answer: ABCA\n"
     ]
    }
   ],
   "source": [
    "answer_dictionary[5] = result       \n",
    "print(\"\\n\",\"Answer:\",answer_dictionary[5])"
   ]
  },
  {
   "cell_type": "markdown",
   "metadata": {},
   "source": [
    "<div style=\"width: 800px; height: 200px; overflow:auto;\">\n",
    "    <img src=\"it_images/2017_09_06.png\" width=\"800\" height=\"200\"/>\n",
    "</div>"
   ]
  },
  {
   "cell_type": "markdown",
   "metadata": {},
   "source": [
    "В некоторой информационной системе информация кодируется двоичными четырёхразрядными словами. \n",
    "\n",
    "При передаче данных возможны их искажения, поэтому в конец каждого слова добавляется еще один (контрольный) разряд таким образом, \n",
    "\n",
    "чтобы сумма разрядов нового слова, считая контрольный, была чётной. \n",
    "\n",
    "Например, к слову `1011` справа будет добавлена `1`, а к слову `1010` — `0`.\n",
    "\n",
    "После этого, для увеличения надежности кодирования, к полученному слову добавляется сумма его разрядов в двоичном виде. \n",
    "\n",
    "Например, исходное слово `1000` превратится в `1000110`.\n",
    "\n",
    "Какое наименьшее число, большее 30 число может быть получено в результате этого алгоритма? \n",
    "\n",
    "Ответ запишите в десятичном виде.\n",
    "\n",
    "---\n",
    "\n",
    "In some information system, information is encoded in binary four-digit words. \n",
    "\n",
    "With transmitting data, their distortions are possible, so at the end of each word one more (control) symbol is added \n",
    "\n",
    "so that the sum of the bits of the new word, assuming the control word, is even. \n",
    "\n",
    "For example, to the word `1011` will be added `1` from the right, and to the word `1010` - `0`.\n",
    "\n",
    "After that, for increasing the reliability of encoding, to the resulting word the sum of its digit bits in the binary form is added. \n",
    "\n",
    "For example, the original word `1000` will turn into `1000110`.\n",
    "\n",
    "What is the smallest number, greater than 30, can be obtained as a result of this algorithm? \n",
    "\n",
    "Write the answer in decimal form."
   ]
  },
  {
   "cell_type": "code",
   "execution_count": 58,
   "metadata": {},
   "outputs": [
    {
     "data": {
      "text/plain": [
       "[38, 42, 50, 124, 70, 74, 82, 188, 98, 220, 236, 244]"
      ]
     },
     "execution_count": 58,
     "metadata": {},
     "output_type": "execute_result"
    }
   ],
   "source": [
    "import itertools\n",
    "import numpy\n",
    "n = 4\n",
    "binary_combinations = numpy.array(list(itertools.product([0, 1], repeat=n)))\n",
    "result = []\n",
    "\n",
    "for el in binary_combinations:\n",
    "    string = ''.join(str(i) for i in el)\n",
    "    if string.count('1') % 2 == 0:\n",
    "        string += '0'\n",
    "    else:\n",
    "        string += '1'\n",
    "    string += bin(string.count('1'))[2:]\n",
    "    number = int(string,2)\n",
    "    if number > 30:\n",
    "        result.append(number)\n",
    "result"
   ]
  },
  {
   "cell_type": "code",
   "execution_count": 59,
   "metadata": {},
   "outputs": [
    {
     "name": "stdout",
     "output_type": "stream",
     "text": [
      "\n",
      " Answer: 38\n"
     ]
    }
   ],
   "source": [
    "answer_dictionary[6] = min(result)     \n",
    "print(\"\\n\",\"Answer:\",answer_dictionary[6])"
   ]
  },
  {
   "cell_type": "markdown",
   "metadata": {},
   "source": [
    "<div style=\"width: 800px; height: 150px; overflow:auto;\">\n",
    "    <img src=\"it_images/2017_09_07.png\" width=\"800\" height=\"150\"/>\n",
    "</div>"
   ]
  },
  {
   "cell_type": "markdown",
   "metadata": {},
   "source": [
    "В электронной таблице в ячейке D4 записана формула, которая вычисляет результат умножения значения ячейки С3 на 2. \n",
    "\n",
    "Формулу из ячейки D4 скопировали в ячейку Е3. \n",
    "\n",
    "Какое количество следующих утверждений не противоречит условию?\n",
    "\n",
    "1) В ячейке Е3 вычисляется результат удвоения значения ячейки D2.\n",
    "\n",
    "2) В ячейке Е3 вычисляется результат удвоения значения ячейки C2.\n",
    "\n",
    "3) В ячейке Е3 вычисляется результат удвоения значения ячейки D3.\n",
    "\n",
    "---\n",
    "\n",
    "In the spreadsheet, a formula is written in the cell D4, it calculates the result of multiplying the value of the cell C3 by 2. \n",
    "\n",
    "The formula from the cell D4 was copied into the cell E3. \n",
    "\n",
    "How many of the following statements do not contradict the condition?\n",
    "\n",
    "1) In the cell E3, the result of doubling the value of the cell D2 is calculated.\n",
    "\n",
    "2) In the cell E3, the result of doubling the value of the cell C2 is calculated.\n",
    "\n",
    "3) In the cell E3, the result of doubling the value of the cell D3 is calculated."
   ]
  },
  {
   "cell_type": "markdown",
   "metadata": {},
   "source": [
    "[Google Sheet](https://drive.google.com/open?id=1bSJxuKBzEWbI6X9i7vSgCiClX-KSe2-OiytCqRVkhR4)\n",
    "\n",
    "Результат копирования ячейки.\n",
    "\n",
    "---\n",
    "\n",
    "The result of copying the cell.\n",
    "\n",
    "<div style=\"width: 800px; height: 300px; overflow:auto;\">\n",
    "    <img src=\"it_images/2017_09_07a.png\" width=\"800\" height=\"300\"/>\n",
    "</div>"
   ]
  },
  {
   "cell_type": "code",
   "execution_count": 60,
   "metadata": {},
   "outputs": [
    {
     "name": "stdout",
     "output_type": "stream",
     "text": [
      "\n",
      " Answer: 1\n"
     ]
    }
   ],
   "source": [
    "answer_dictionary[7] = '1'     \n",
    "print(\"\\n\",\"Answer:\",answer_dictionary[7])"
   ]
  },
  {
   "cell_type": "markdown",
   "metadata": {},
   "source": [
    "<div style=\"width: 800px; height: 650px; overflow:auto;\">\n",
    "    <img src=\"it_images/2017_09_08.png\" width=\"800\" height=\"650\"/>\n",
    "</div>"
   ]
  },
  {
   "cell_type": "markdown",
   "metadata": {},
   "source": [
    "Определите, что будет напечатано в результате выполнения следующего фрагмента программы:\n",
    "\n",
    "Determine what will be printed as a result of execution of the following program fragment:\n",
    "<table style=\"width:95%;\">\n",
    "  <tr style=\"font-size:150%;color:#348ABD;\" class=\"font-effect-3d\">\n",
    "    <th style=\"text-align:center;\">Python</th> \n",
    "    <th style=\"text-align:center;\">R</th>          \n",
    "  </tr>\n",
    "  <tr>\n",
    "    <td style=\"font-weight:bold;text-align:left;\"><pre><code class='python'>\n",
    "\n",
    "k, s = 5, 512\n",
    "while s > 5:\n",
    "    s = s // 2\n",
    "    k += 4\n",
    "\n",
    "print (k)\n",
    "    </code></pre></td> \n",
    "    <td style=\"font-weight:bold;text-align:left;\"><pre><code class='r'> \n",
    "    \n",
    "k <- 5; s <- 512\n",
    "\n",
    "while (s > 5) {\n",
    "    s <- s %/% 2\n",
    "    k <- k + 4\n",
    "}\n",
    "\n",
    "print(k)\n",
    "    </code></pre></td>     \n",
    "  </tr> \n",
    "  <tr style=\"font-size:150%;color:#348ABD;\" class=\"font-effect-3d\">\n",
    "    <th style=\"text-align:center;\">BASIC</th> \n",
    "    <th style=\"text-align:center;\">Pascal</th>          \n",
    "  </tr>\n",
    "  <tr>\n",
    "    <td style=\"font-weight:bold;text-align:left;\"><pre><code class='basic'>\n",
    "\n",
    "DIM k, s AS INTEGER\n",
    "k = 5\n",
    "s = 512\n",
    "WHILE s > 5\n",
    "    s = s \\ 2\n",
    "    k = k + 4\n",
    "WEND\n",
    "PRINT k\n",
    "    </code></pre></td> \n",
    "    <td style=\"font-weight:bold;text-align:left;\"><pre><code class='pascal'> \n",
    "    \n",
    "var k, s : integer;\n",
    "begin\n",
    "    k := 5;\n",
    "    s := 512;\n",
    "    while s > 5 do\n",
    "        s := s div 2;\n",
    "        k := k + 4;\n",
    "    end;\n",
    "    write(k);\n",
    "end.\n",
    "    </code></pre></td>     \n",
    "  </tr>    \n",
    "  <tr style=\"font-size:150%;color:#348ABD;\" class=\"font-effect-3d\">\n",
    "    <th style=\"text-align:center;\">C</th> \n",
    "    <th style=\"text-align:center;\">Natural Language Programming</th>          \n",
    "  </tr>\n",
    "  <tr>\n",
    "    <td style=\"font-weight:bold;text-align:left;\"><pre><code class='c'>\n",
    "\n",
    "{\n",
    "    int k, s;\n",
    "    k = 5;\n",
    "    s = 512;\n",
    "    while (s > 5)\n",
    "    {\n",
    "        s = s / 2;\n",
    "        k = k + 4;\n",
    "    } \n",
    "    printf(\"%d\", k);\n",
    "}\n",
    "    </code></pre></td> \n",
    "    <td style=\"font-weight:bold;text-align:left;\"><pre><code class='nlp'> \n",
    "    \n",
    "нач\n",
    "    цел k, s\n",
    "    k := 5\n",
    "    s := 512\n",
    "    нц пока s > 5\n",
    "        s := div(s,2)\n",
    "        k := k + 4\n",
    "    кц\n",
    "    вывод k\n",
    "кон\n",
    "    </code></pre></td>     \n",
    "  </tr>      \n",
    "</table>"
   ]
  },
  {
   "cell_type": "code",
   "execution_count": 61,
   "metadata": {},
   "outputs": [
    {
     "name": "stdout",
     "output_type": "stream",
     "text": [
      "33\n"
     ]
    }
   ],
   "source": [
    "k, s = 5, 512\n",
    "while s > 5:\n",
    "    s = s // 2\n",
    "    k += 4\n",
    "\n",
    "print (k)"
   ]
  },
  {
   "cell_type": "code",
   "execution_count": 62,
   "metadata": {},
   "outputs": [
    {
     "name": "stdout",
     "output_type": "stream",
     "text": [
      "\n",
      " Answer: 33\n"
     ]
    }
   ],
   "source": [
    "answer_dictionary[8] = str(k)\n",
    "print(\"\\n\",\"Answer:\", answer_dictionary[8])"
   ]
  },
  {
   "cell_type": "markdown",
   "metadata": {},
   "source": [
    "<div style=\"width: 800px; height: 200px; overflow:auto;\">\n",
    "    <img src=\"it_images/2017_09_09.png\" width=\"800\" height=\"200\"/>\n",
    "</div>"
   ]
  },
  {
   "cell_type": "markdown",
   "metadata": {},
   "source": [
    "Музыкальный фрагмент был оцифрован и записан в виде файла без использования сжатия данных. \n",
    "\n",
    "Получившийся файл был передан в город А по каналу связи за 40 секунд. \n",
    "\n",
    "Затем тот же музыкальный фрагмент был оцифрован повторно \n",
    "\n",
    "- с разрешением в 2 раза меньше и \n",
    "- частотой дискретизации в 1,5 раза больше, чем в первый раз. \n",
    "\n",
    "Сжатие данных не производилось. \n",
    "\n",
    "Полученный файл был передан в город Б; \n",
    "\n",
    "пропускная способность канала связи с городом Б в 3 раза выше, чем канала связи с городом А. \n",
    "\n",
    "Сколько секунд длилась передача файла в город Б? \n",
    "\n",
    "В ответе запишите только целое число, единицу измерения писать не нужно.\n",
    "\n",
    "---\n",
    "\n",
    "The musical fragment was digitized and recorded as a file without using data compression. \n",
    "\n",
    "The resulting file was transferred to the city A via the communication channel in 40 seconds. \n",
    "\n",
    "Then the same musical fragment was digitized again with \n",
    "\n",
    "- a resolution of 2 times smaller and \n",
    "- a sampling frequency 1.5 times greater than the first time. \n",
    "\n",
    "Data compression was not performed. \n",
    "\n",
    "The resulting file was transferred to the city B; \n",
    "\n",
    "the capacity for the communication channel with the city B is 3 times higher than for the communication channel with the city A.\n",
    "\n",
    "How many seconds did the file transfer to the city B? \n",
    "\n",
    "In the answer, write down only an integer, you do not need to write a unit of measurement."
   ]
  },
  {
   "cell_type": "markdown",
   "metadata": {},
   "source": [
    "1) Второй музыкальный фрагмент имеет меньший размер, чем первый (разрешение в 2 раза меньше, частота дискретизации в 1,5 раза больше). \n",
    "\n",
    "2) Пропускная способность канала связи с городом Б в 3 раза выше, а значит время передачи файлов уменьшается в 3 раза по сравнению с каналом с городом А.\n",
    "\n",
    "3) Учитывая пункты 1) и 2), меньший файл по каналу с большей пропускной способностью будет передан за: $40 / 2 * 1.5 / 3 = 10$ секунд.\n",
    "\n",
    "---\n",
    "\n",
    "1) The second musical fragment has a smaller size than the first one (resolution is 2 times smaller, the sampling rate is 1.5 times larger).\n",
    "\n",
    "2) The capacity of the communication channel with the city B is 3 times higher, it means that the time of file transfer is reduced by 3 times in comparison with the channel with the city A.\n",
    "\n",
    "3) According to the points 1) and 2), a smaller file on a channel with a higher bandwidth will be transferred for: $40/2 * 1.5 / 3 = 10$ seconds."
   ]
  },
  {
   "cell_type": "code",
   "execution_count": 63,
   "metadata": {},
   "outputs": [
    {
     "name": "stdout",
     "output_type": "stream",
     "text": [
      "\n",
      " Answer: 10\n"
     ]
    }
   ],
   "source": [
    "answer_dictionary[9] = str(int(40 / 2 * 1.5 / 3))\n",
    "print(\"\\n\",\"Answer:\", answer_dictionary[9])"
   ]
  },
  {
   "cell_type": "markdown",
   "metadata": {},
   "source": [
    "<div style=\"width: 800px; height: 130px; overflow:auto;\">\n",
    "    <img src=\"it_images/2017_09_10.png\" width=\"800\" height=\"130\"/>\n",
    "</div>"
   ]
  },
  {
   "cell_type": "markdown",
   "metadata": {},
   "source": [
    "При сборе статистики о посетителях гипермаркета маркетолог записывает про каждого вошедшего: \n",
    "\n",
    "пол (м/ж), один или нет, возрастную категорию (ребёнок/подросток/взрослый/ пожилой). \n",
    "\n",
    "При этом за час зарегистрировано 300 посетителей. \n",
    "\n",
    "Какое количество информации (число бит) получил маркетолог?\n",
    "\n",
    "---\n",
    "\n",
    "With collecting statistics about visitors of a hypermarket, the marketer writes information about each person who entered: \n",
    "\n",
    "sex (m / f), one or not, the age category (child / adolescent / adult / elderly). \n",
    "\n",
    "During the experiment, 300 visitors were registered per hour.\n",
    "\n",
    "How much information (number of bits) has a marketer got?"
   ]
  },
  {
   "cell_type": "markdown",
   "metadata": {},
   "source": [
    "| Виды информации | Пол | Один или нет | Возрастная категория | Количество посетителей |\n",
    "|:-:|:-:|:-:|:-:|:-:|\n",
    "| Варианты | м/ж | да/нет | ребёнок/подросток/взрослый/пожилой | 300 |\n",
    "| Кодировка | 1/0 | 1/0 | 00/01/10/11 | - |\n",
    "| В битах | 1 | 1 | 2 | $(1 + 1 + 2 ) * 300 = 1200$ | \n",
    "\n",
    "---\n",
    "\n",
    "| Kinds of Information | Gender | Alone or not | Age | Visitor Quantity |\n",
    "|:-:|:-:|:-:|:-:|:-:|\n",
    "| Options | m/f | yes/no | child/adolescent/adult/elderly | 300 |\n",
    "| Encoding | 1/0 | 1/0 | 00/01/10/11 | - |\n",
    "| In bits | 1 | 1 | 2 | $(1 + 1 + 2 ) * 300 = 1200$ | "
   ]
  },
  {
   "cell_type": "code",
   "execution_count": 64,
   "metadata": {},
   "outputs": [
    {
     "name": "stdout",
     "output_type": "stream",
     "text": [
      "\n",
      " Answer: 1200\n"
     ]
    }
   ],
   "source": [
    "answer_dictionary[10] = str(300 * 4)\n",
    "print(\"\\n\",\"Answer:\", answer_dictionary[10])"
   ]
  },
  {
   "cell_type": "markdown",
   "metadata": {},
   "source": [
    "<div style=\"width: 800px; height: 600px; overflow:auto;\">\n",
    "    <img src=\"it_images/2017_09_11.png\" width=\"800\" height=\"600\"/>\n",
    "</div>\n",
    "Определите, сколько звёздочек будет напечатано в результате вызова F(5) приведённой подпрограммы:\n",
    "\n",
    "---\n",
    "\n",
    "Determine how many asterisks will be printed as a result of calling F(5) from this program fragment:"
   ]
  },
  {
   "cell_type": "markdown",
   "metadata": {},
   "source": [
    "<table style=\"width:95%;\">\n",
    "  <tr style=\"font-size:150%;color:#348ABD;\" class=\"font-effect-3d\">\n",
    "    <th style=\"text-align:center;\">Python</th> \n",
    "    <th style=\"text-align:center;\">R</th>          \n",
    "  </tr>\n",
    "  <tr>\n",
    "    <td style=\"font-weight:bold;text-align:left;\"><pre><code class='python'>\n",
    "\n",
    "def F(n):\n",
    "    print('*')    \n",
    "    if n > 0:\n",
    "        F(n - 3)\n",
    "        F(n - 1)\n",
    "        print('*')\n",
    "\n",
    "    </code></pre></td> \n",
    "    <td style=\"font-weight:bold;text-align:left;\"><pre><code class='r'> \n",
    "    \n",
    "F <- function(n) {\n",
    "    print('*')    \n",
    "    if (n > 0) {\n",
    "        F(n - 3)\n",
    "        F(n - 1)\n",
    "        print('*')\n",
    "    }\n",
    "}\n",
    "    </code></pre></td>     \n",
    "  </tr> \n",
    "  <tr style=\"font-size:150%;color:#348ABD;\" class=\"font-effect-3d\">\n",
    "    <th style=\"text-align:center;\">BASIC</th> \n",
    "    <th style=\"text-align:center;\">Pascal</th>          \n",
    "  </tr>\n",
    "  <tr>\n",
    "    <td style=\"font-weight:bold;text-align:left;\"><pre><code class='basic'>\n",
    "\n",
    "SUB F(n)\n",
    "    PRINT \"&#42;\";\n",
    "    IF n > 0 THEN\n",
    "        F(n - 2)\n",
    "        F(n - 1)\n",
    "        PRINT \"&#42;\";\n",
    "    END IF\n",
    "END SUB\n",
    "    </code></pre></td> \n",
    "    <td style=\"font-weight:bold;text-align:left;\"><pre><code class='pascal'> \n",
    "    \n",
    "procedure F(n : integer);\n",
    "begin\n",
    "    write('&#42;');\n",
    "    if n > 0 then\n",
    "        F(n - 3);\n",
    "        F(n - 1);\n",
    "        write('&#42;');\n",
    "    end;\n",
    "\n",
    "end.\n",
    "    </code></pre></td>     \n",
    "  </tr>    \n",
    "  <tr style=\"font-size:150%;color:#348ABD;\" class=\"font-effect-3d\">\n",
    "    <th style=\"text-align:center;\">C</th> \n",
    "    <th style=\"text-align:center;\">Natural Language Programming</th>          \n",
    "  </tr>\n",
    "  <tr>\n",
    "    <td style=\"font-weight:bold;text-align:left;\"><pre><code class='c'>\n",
    "\n",
    "void F(int n)\n",
    "{\n",
    "    printf(\"&#42;\");\n",
    "    if (n > 0)\n",
    "    {\n",
    "        F(n - 3);\n",
    "        F(n - 1); \n",
    "        printf(\"&#42;\");\n",
    "    }\n",
    "}\n",
    "    </code></pre></td> \n",
    "    <td style=\"font-weight:bold;text-align:left;\"><pre><code class='nlp'> \n",
    "    \n",
    "алг F(цел n)\n",
    "нач\n",
    "    вывод \"&#42;\"\n",
    "    если n > 0 то\n",
    "        F(n - 3)\n",
    "        F(n - 1)\n",
    "        вывод \"&#42;\"\n",
    "    все\n",
    "кон\n",
    "    </code></pre></td>     \n",
    "  </tr>      \n",
    "</table>"
   ]
  },
  {
   "cell_type": "code",
   "execution_count": 65,
   "metadata": {},
   "outputs": [
    {
     "name": "stdout",
     "output_type": "stream",
     "text": [
      "* 1\n",
      "* 2\n",
      "* 3\n",
      "* 4\n",
      "* 5\n",
      "* 6\n",
      "* 7\n",
      "* 8\n",
      "* 9\n",
      "* 10\n",
      "* 11\n",
      "* 12\n",
      "* 13\n",
      "* 14\n",
      "* 15\n",
      "* 16\n",
      "* 17\n",
      "* 18\n",
      "* 19\n",
      "* 20\n",
      "* 21\n",
      "* 22\n",
      "* 23\n",
      "* 24\n",
      "* 25\n"
     ]
    }
   ],
   "source": [
    "# расширенная версия программы\n",
    "c = 0\n",
    "\n",
    "def F(n):\n",
    "    global c\n",
    "    c += 1\n",
    "    print('*', c)\n",
    "    \n",
    "    if n > 0:\n",
    "        F(n - 3)\n",
    "        F(n - 1)\n",
    "        c += 1\n",
    "        print('*', c)\n",
    "F(5)"
   ]
  },
  {
   "cell_type": "code",
   "execution_count": 66,
   "metadata": {},
   "outputs": [
    {
     "name": "stdout",
     "output_type": "stream",
     "text": [
      "\n",
      " Answer: 25\n"
     ]
    }
   ],
   "source": [
    "answer_dictionary[11] = str(c)\n",
    "print(\"\\n\",\"Answer:\",answer_dictionary[11])"
   ]
  },
  {
   "cell_type": "markdown",
   "metadata": {},
   "source": [
    "<div style=\"width: 800px; height: 260px; overflow:auto;\">\n",
    "    <img src=\"it_images/2017_09_12.png\" width=\"800\" height=\"260\"/>\n",
    "</div>"
   ]
  },
  {
   "cell_type": "markdown",
   "metadata": {},
   "source": [
    "В терминологии сетей TCP/IP маской сети называется двоичное число, определяющее, \n",
    "\n",
    "- какая часть IP-адреса узла сети относится к адресу сети, \n",
    "- а какая — к адресу самого узла в этой сети. \n",
    "\n",
    "Обычно маска записывается по тем же правилам, что и IP-адрес, — в виде четырёх байтов, \n",
    "\n",
    "причём каждый байт записывается в виде десятичного числа. \n",
    "\n",
    "При этом в маске сначала (в старших разрядах) стоят единицы, а затем с некоторого разряда — нули.\n",
    "\n",
    "Адрес сети получается в результате применения поразрядной конъюнкции к заданному IP-адресу узла и маске.\n",
    "\n",
    "Например, если IP-адрес узла равен `231.32.255.131`, а маска равна `255.255.240.0`, то адрес сети равен `231.32.240.0`.\n",
    "\n",
    "Для узла с IP-адресом `153.214.91.37` адрес сети равен `153.214.80.0`. \n",
    "\n",
    "Чему равен третий слева байт маски? Ответ запишите в виде десятичного числа.\n",
    "\n",
    "---\n",
    "\n",
    "In the terminology of TCP / IP networks, a network mask is a binary number that specifies \n",
    "\n",
    "- which part of the IP address of the node refers to the network address, \n",
    "- and which one to the host address in that network.\n",
    "\n",
    "Usually, the mask is written according to the same rules as the IP address, in the form of four bytes, and each byte is written as a decimal number. \n",
    "\n",
    "At the same time, in the mask in the binary form, first (in the higher order digits) there are 1, and then from a certain level, zeros.\n",
    "\n",
    "The network address is obtained as a result of applying the bitwise conjunction to the specified node IP address and the mask.\n",
    "\n",
    "For example, if the host's IP address is `231.32.255.131`, and the mask is `255.255.240.0`, then the network address is `231.32.240.0`.\n",
    "\n",
    "For the node with the IP address of `153.214.91.37`, the network address is `153.214.80.0`.\n",
    "\n",
    "What is the value of the third byte from the left in the mask? Write the answer in the form of a decimal number."
   ]
  },
  {
   "cell_type": "markdown",
   "metadata": {},
   "source": [
    "1) В бинарной форме третий байт IP-адрес узла равен `01011011` ($91 = 1 * 2^6 + 1 * 2^4 + 1 * 2^3 + 1 * 2^1 + 1 * 2^0$).\n",
    "\n",
    "2) В бинарной форме третий байт адреса сети равен `01010000` ($80 = 1 * 2^6 + 1 * 2^4$).\n",
    "\n",
    "3) Значение третьего байта маски будет наибольшим при максимально возможном количестве единиц в бинарной форме этого числа.\n",
    "\n",
    "4) Третий байт маски `11110100` в десятичной форме равен: $1 * 2^7 + 1 * 2^6 + 1 * 2^5 + 1 * 2^4 = 240$.\n",
    "\n",
    "---\n",
    "\n",
    "1) In binary form, the third byte of the IP address is `01011011` ($91 = 1 * 2^6 + 1 * 2^4 + 1 * 2^3 + 1 * 2^1 + 1 * 2^0$).\n",
    "\n",
    "2) In binary form, the third byte of the network address is `01010000` ($80 = 1 * 2^6 + 1 * 2^4$).\n",
    "\n",
    "3) The value of the third byte of the mask will be the largest with the maximum possible number of units in the binary form of this number.\n",
    "\n",
    "4) The third byte of the mask `11110000` in decimal form is equal to: $1 * 2^7 + 1 * 2^6 + 1 * 2^5 + 1 * 2^4 = 240$.\n",
    "\n",
    "\n",
    "| Разряды третьего байта | IP-адрес узла | Маска | Адрес сети |\n",
    "|:-:|:-:|:-:|:-:|\n",
    "| Digits of the Third Byte | IP Address | Mask | Network Address |\n",
    "| 1 | 0 | 1 | 0 & 1 = 0 |\n",
    "| 2 | 1 | 1 | 1 & 1 = 1 |\n",
    "| 3 | 0 | 1 | 0 & 1 = 0 |\n",
    "| 4 | 1 | 1 | 1 & 1 = 1 |\n",
    "| 5 | 1 | 0 | 1 & 0 = 0 |\n",
    "| 6 | 0 | 0 | 0 & 0 = 0 |\n",
    "| 7 | 1 | 0 | 1 & 0 = 0 |\n",
    "| 8 | 1 | 0 | 1 & 0 = 0 |"
   ]
  },
  {
   "cell_type": "code",
   "execution_count": 67,
   "metadata": {},
   "outputs": [
    {
     "name": "stdout",
     "output_type": "stream",
     "text": [
      "10011001.11010110.01011011.00100101\n"
     ]
    }
   ],
   "source": [
    "# check the decision method\n",
    "ip = '153.214.91.37'\n",
    "ip_bin = '.'.join([bin(int(x)+256)[3:] for x in ip.split('.')])\n",
    "print(ip_bin)"
   ]
  },
  {
   "cell_type": "code",
   "execution_count": 68,
   "metadata": {},
   "outputs": [
    {
     "name": "stdout",
     "output_type": "stream",
     "text": [
      "10011001.11010110.01010000.00000000\n"
     ]
    }
   ],
   "source": [
    "net = '153.214.80.0'\n",
    "net_bin = '.'.join([bin(int(x)+256)[3:] for x in net.split('.')])\n",
    "print(net_bin)"
   ]
  },
  {
   "cell_type": "code",
   "execution_count": 69,
   "metadata": {},
   "outputs": [
    {
     "name": "stdout",
     "output_type": "stream",
     "text": [
      "[80, 84, 112, 116, 208, 212, 240, 244]\n"
     ]
    }
   ],
   "source": [
    "mask_third_symbols = []\n",
    "for x in range(256):\n",
    "    n1 = numpy.array([int(i) for i in bin(91+256)[3:]])\n",
    "    n2 = numpy.array([int(i) for i in bin(x+256)[3:]])\n",
    "    n3 = numpy.array([int(i) for i in bin(80+256)[3:]])\n",
    "    if min(n1 & n2 == n3) == True: \n",
    "        mask_third_symbols.append(x)\n",
    "print(mask_third_symbols)"
   ]
  },
  {
   "cell_type": "code",
   "execution_count": 70,
   "metadata": {},
   "outputs": [
    {
     "data": {
      "text/plain": [
       "{4: '240.0.0.0',\n",
       " 5: '248.0.0.0',\n",
       " 6: '252.0.0.0',\n",
       " 7: '254.0.0.0',\n",
       " 8: '255.0.0.0',\n",
       " 9: '255.128.0.0',\n",
       " 10: '255.192.0.0',\n",
       " 11: '255.224.0.0',\n",
       " 12: '255.240.0.0',\n",
       " 13: '255.248.0.0',\n",
       " 14: '255.252.0.0',\n",
       " 15: '255.254.0.0',\n",
       " 16: '255.255.0.0',\n",
       " 17: '255.255.128.0',\n",
       " 18: '255.255.192.0',\n",
       " 19: '255.255.224.0',\n",
       " 20: '255.255.240.0',\n",
       " 21: '255.255.248.0',\n",
       " 22: '255.255.252.0',\n",
       " 23: '255.255.254.0',\n",
       " 24: '255.255.255.0',\n",
       " 25: '255.255.255.128',\n",
       " 26: '255.255.255.192',\n",
       " 27: '255.255.255.224',\n",
       " 28: '255.255.255.240',\n",
       " 29: '255.255.255.248',\n",
       " 30: '255.255.255.252'}"
      ]
     },
     "execution_count": 70,
     "metadata": {},
     "output_type": "execute_result"
    }
   ],
   "source": [
    "classes = numpy.arange(4,31,1)\n",
    "masks = numpy.array(['240.0.0.0','248.0.0.0','252.0.0.0','254.0.0.0','255.0.0.0',\n",
    "                     '255.128.0.0','255.192.0.0','255.224.0.0','255.240.0.0','255.248.0.0', \n",
    "                     '255.252.0.0','255.254.0.0','255.255.0.0','255.255.128.0','255.255.192.0',\n",
    "                     '255.255.224.0','255.255.240.0','255.255.248.0','255.255.252.0','255.255.254.0',\n",
    "                     '255.255.255.0','255.255.255.128','255.255.255.192','255.255.255.224','255.255.255.240',\n",
    "                     '255.255.255.248','255.255.255.252'])\n",
    "mask_dictionary = dict(zip(classes, masks))\n",
    "mask_dictionary"
   ]
  },
  {
   "cell_type": "code",
   "execution_count": 71,
   "metadata": {},
   "outputs": [
    {
     "name": "stdout",
     "output_type": "stream",
     "text": [
      "\n",
      " Answer: 240\n"
     ]
    }
   ],
   "source": [
    "symbols = []\n",
    "for mask in mask_dictionary.values():\n",
    "    for symbol in mask_third_symbols:\n",
    "        if (mask[:8] == '255.255.'):\n",
    "            if mask[8:11] == str(symbol):\n",
    "                symbols.append(symbol)\n",
    "                \n",
    "answer_dictionary[12] = str(symbols[0])           \n",
    "print(\"\\n\",\"Answer:\", answer_dictionary[12])   "
   ]
  },
  {
   "cell_type": "markdown",
   "metadata": {},
   "source": [
    "<div style=\"width: 800px; height: 120px; overflow:auto;\">\n",
    "    <img src=\"it_images/2017_09_13.png\" width=\"800\" height=\"120\"/>\n",
    "</div>"
   ]
  },
  {
   "cell_type": "markdown",
   "metadata": {},
   "source": [
    "При передаче сообщения используются только десятичные цифры и строчные буквы местного алфавита. \n",
    "\n",
    "В местном алфавите 15 букв. \n",
    "\n",
    "При этом используется посимвольное кодирование и каждый символ кодируется минимально возможным количеством бит. \n",
    "\n",
    "Каков объём информации (в байтах), записанный устройством после передачи 200 символов?\n",
    "\n",
    "---\n",
    "\n",
    "With sending a message, only the decimal digits and lowercase letters of the local alphabet are used. \n",
    "\n",
    "In the local alphabet are 15 letters. \n",
    "\n",
    "It is used character-by-symbol encoding and each character is encoded with the minimum possible number of bits.\n",
    "\n",
    "What is the amount of information (in bytes) recorded by the device after transmission of 200 characters?"
   ]
  },
  {
   "cell_type": "code",
   "execution_count": 72,
   "metadata": {},
   "outputs": [
    {
     "name": "stdout",
     "output_type": "stream",
     "text": [
      "\n",
      " Answer: 1000\n"
     ]
    }
   ],
   "source": [
    "import math\n",
    "# 10 digits + 15 letters = 25 symbols\n",
    "bits_for_one_of_25_symbols = math.ceil(math.log(25,2))\n",
    "\n",
    "answer_dictionary[13]=str(200*bits_for_one_of_25_symbols)\n",
    "print(\"\\n\",\"Answer:\",answer_dictionary[13])"
   ]
  },
  {
   "cell_type": "markdown",
   "metadata": {},
   "source": [
    "<div style=\"width: 800px; height: 900px; overflow:auto;\">\n",
    "    <img src=\"it_images/2017_09_14_1.png\" width=\"800\" height=\"550\"/>\n",
    "    <img src=\"it_images/2017_09_14_2.png\" width=\"800\" height=\"350\"/>    \n",
    "</div>"
   ]
  },
  {
   "cell_type": "markdown",
   "metadata": {},
   "source": [
    "Система команд исполнителя РОБОТ, «живущего» в прямоугольном лабиринте на клетчатой плоскости включает \n",
    "\n",
    "4 команды-приказа и 4 команды проверки условия. Команды-приказы:\n",
    "\n",
    "---\n",
    "\n",
    "The command system of the ROBOT, \"living\" in a rectangular labyrinth on the grid plane, includes \n",
    "\n",
    "4 moving commands and 4 condition-checking ones. Moving commands:\n",
    "\n",
    "\n",
    "|<p style=\"text-align:center; color:red;\">вверх</p>|<p style=\"text-align:center; color:green;\">вниз</p>|<p style=\"text-align:center; color:red;\">влево</p>|<p style=\"text-align:center; color:green;\">вправо</p>|\n",
    "|-:|-:|-:|-:|\n",
    "|<p style=\"text-align:center; color:red;\">up</p>|<p style=\"text-align:center; color:green;\">down</p>|<p style=\"text-align:center; color:red;\">left</p>|<p style=\"text-align:center; color:green;\">right</p>|\n",
    "\n",
    "При выполнении этих команд РОБОТ перемещается на одну клетку соответственно: вверх ↑, вниз ↓, влево ←, вправо →.\n",
    "\n",
    "Если РОБОТ начнет движение в сторону находящейся рядом с ним стены, то он разрушится и программа прервётся.\n",
    "\n",
    "Другие четыре команды проверяют истинность условия отсутствия стены у каждой стороны той клетки, где находится РОБОТ:\n",
    "\n",
    "---\n",
    "\n",
    "When these commands are executed, ROBOT moves one cell accordingly: up ↑, down ↓, left ←, right →.\n",
    "\n",
    "If ROBOT starts moving towards the wall next to it, it will be destroyed and the program will be stopped.\n",
    "\n",
    "The other four commands verify the truth of the absence of the wall on each side of the cell where ROBOT is located:\n",
    "\n",
    "|<p style=\"text-align:center; color:red;\">сверху свободно</p>|<p style=\"text-align:center; color:green;\">снизу свободно</p>|<p style=\"text-align:center; color:red;\">слева свободно</p>|<p style=\"text-align:center; color:green;\">справа свободно</p>|\n",
    "|-:|-:|-:|-:|\n",
    "|<p style=\"text-align:center; color:red;\">up free</p>|<p style=\"text-align:center; color:green;\">down free</p>|<p style=\"text-align:center; color:red;\">left free</p>|<p style=\"text-align:center; color:green;\">right free</p>|\n",
    "\n",
    "Цикл \n",
    "\n",
    "`ПОКА` $<условие>$\n",
    "\n",
    "- $последовательность \\ команд$\n",
    "    \n",
    "`КОНЕЦ ПОКА`\n",
    "\n",
    "выполняется, пока условие истинно.\n",
    "\n",
    "В конструкции \n",
    "\n",
    "`ЕСЛИ` $<условие>$\n",
    "\n",
    "- `ТО` $команда \\ 1$\n",
    "\n",
    "- `ИНАЧЕ` $команда \\ 2$\n",
    "    \n",
    "`КОНЕЦ ЕСЛИ`\n",
    "\n",
    "выполняется `команда 1` (если условие истинно) или `команда 2` (если условие ложно).\n",
    "\n",
    "Сколько клеток лабиринта соответствует требованию, что, начав движение в ней и выполнив предложенную программу, \n",
    "\n",
    "РОБОТ уцелеет и остановится в закрашенной клетке (клетка `F6`)?\n",
    "\n",
    "---\n",
    "\n",
    "The cycle\n",
    "\n",
    "`WHILE` $<condition>$\n",
    "\n",
    "- $command \\ sequence$\n",
    "\n",
    "`END WHILE`\n",
    "\n",
    "is executed until the condition is true.\n",
    "\n",
    "\n",
    "In the construction\n",
    "\n",
    "`IF` $<condition>$\n",
    "\n",
    "- `THEN` $command \\ 1$\n",
    "\n",
    "- `ELSE` $command \\ 2$\n",
    "\n",
    "`END IF`\n",
    "\n",
    "the `command 1` is executed (if the condition is true) or the `command 2` is executed (if the condition is false).\n",
    "\n",
    "How many cells of the labyrinth correspond to the requirement that, after starting the movement in it and executing the proposed program, \n",
    "\n",
    "ROBOT will survive and stop in the shaded cell (`F6`)?"
   ]
  },
  {
   "cell_type": "markdown",
   "metadata": {},
   "source": [
    "`НАЧАЛО`\n",
    "\n",
    "`ПОКА` $<справа \\; свободно>$ `ИЛИ` $<снизу \\; свободно>$\n",
    "\n",
    "  - `ПОКА` $<справа \\; свободно>$ \n",
    "  \n",
    "    - $вправо$\n",
    "\n",
    "  - `КОНЕЦ ПОКА`\n",
    "  \n",
    "  - `ЕСЛИ` $<снизу \\; свободно>$ \n",
    "  \n",
    "    - `ТО` $вниз$\n",
    "    \n",
    "    - `ИНАЧЕ` $вверх$\n",
    "\n",
    "  - `КОНЕЦ ЕСЛИ`  \n",
    "\n",
    "`КОНЕЦ ПОКА`\n",
    "\n",
    "`КОНЕЦ`\n",
    "\n",
    "---\n",
    "\n",
    "`START`\n",
    "\n",
    "`WHILE` $<right \\; free>$ `OR` $<down \\; free>$\n",
    "\n",
    "  - `WHILE` $<right \\; free>$ \n",
    "  \n",
    "    - $right$\n",
    "  \n",
    "  - `END WHILE`\n",
    "  \n",
    "  - `IF` $<down \\; free>$ \n",
    "  \n",
    "    - `THEN` $down$\n",
    "    \n",
    "    - `ELSE` $up$\n",
    "  \n",
    "  - `END IF`  \n",
    "\n",
    "`END WHILE`  \n",
    "\n",
    "`END`"
   ]
  },
  {
   "cell_type": "code",
   "execution_count": 73,
   "metadata": {},
   "outputs": [
    {
     "data": {
      "image/png": "[encoded data removed]",
      "text/plain": [
       "<matplotlib.figure.Figure at 0x10ae86da0>"
      ]
     },
     "metadata": {},
     "output_type": "display_data"
    }
   ],
   "source": [
    "plt.figure(figsize=(6,6))\n",
    "\n",
    "hlines = [[0.04,0,1],[5.96,0,1],\n",
    "          [1,0.34,0.5],[4,0.5,0.66]]\n",
    "for line in hlines:\n",
    "    plt.axhline(line[0],line[1],line[2], \n",
    "                lw=5, c='slategray')\n",
    "    \n",
    "vlines = [[0.04,0,1],[5.97,0,1],\n",
    "          [3,0.17,0.5],[2,0.34,0.66],[4,0,0.33],\n",
    "          [3,0.84,1],[4,0.67,0.83]]\n",
    "for line in vlines:\n",
    "    plt.axvline(line[0],line[1],line[2], \n",
    "                lw=5, c='slategray')\n",
    "    \n",
    "plt.scatter([5.47],[0.55],2200,['coral'], marker='s')\n",
    "plt.scatter([5.5,5.5,5.5,5.5,5.5,5.5,3.5,4.5,3.5,4.5,\n",
    "             4.5,4.5,4.5,4.5,3.5,2.5,0.5,1.5,2.5,\n",
    "             0.5,1.5,2.5],\n",
    "            [0.5,1.5,2.5,3.5,4.5,5.5,5.5,5.5,3.5,3.5,\n",
    "             0.5,1.5,2.5,4.5,2.5,3.5,5.5,5.5,5.5,\n",
    "             4.5,4.5,4.5],\n",
    "            500,'g', marker='o')\n",
    "\n",
    "plt.xlim(0,6) \n",
    "plt.ylim(0,6)\n",
    "\n",
    "plt.xticks(visible=False)\n",
    "plt.yticks(visible=False)\n",
    "plt.xlabel(' A     B     C     D     E     F ', fontsize=25)\n",
    "plt.ylabel('1  \\n\\n2  \\n\\n3  \\n\\n4  \\n\\n5  \\n\\n6  ', \n",
    "           position = (0.,0.05), fontsize=23, rotation='horizontal')\n",
    "\n",
    "plt.grid(c='slategray', ls='--', lw=2)"
   ]
  },
  {
   "cell_type": "code",
   "execution_count": 74,
   "metadata": {},
   "outputs": [
    {
     "name": "stdout",
     "output_type": "stream",
     "text": [
      "\n",
      " Answer: 22\n"
     ]
    }
   ],
   "source": [
    "answer_dictionary[14] = '22'           \n",
    "print(\"\\n\",\"Answer:\", answer_dictionary[14])"
   ]
  },
  {
   "cell_type": "markdown",
   "metadata": {},
   "source": [
    "<div style=\"width: 800px; height: 190px; overflow:auto;\">\n",
    "    <img src=\"it_images/2017_09_15.png\" width=\"800\" height=\"190\"/>\n",
    "</div>"
   ]
  },
  {
   "cell_type": "markdown",
   "metadata": {},
   "source": [
    "На рисунке — схема дорог, связывающих города $А, Б, В, Г, Д, Е, Ж, 3, И, К$. \n",
    "\n",
    "По каждой дороге можно двигаться только в одном направлении, указанном стрелкой. \n",
    "\n",
    "Сколько существует различных путей из города $А$ в город $К$?\n",
    "\n",
    "---\n",
    "\n",
    "In the figure - the scheme of roads is connecting the cities $А, Б, В, Г, Д, Е, Ж, З, И, К$. \n",
    "\n",
    "For each road, it is possible to move only in one direction, indicated by an arrow. \n",
    "\n",
    "How many different paths exist from the city $А$ to the city $К$?"
   ]
  },
  {
   "cell_type": "code",
   "execution_count": 75,
   "metadata": {},
   "outputs": [
    {
     "data": {
      "image/png": "[encoded data removed]",
      "text/plain": [
       "<matplotlib.figure.Figure at 0x10aa33cc0>"
      ]
     },
     "metadata": {},
     "output_type": "display_data"
    }
   ],
   "source": [
    "G3 = nx.MultiDiGraph()\n",
    "plt.figure(figsize=(9,9))\n",
    "\n",
    "G3.add_edges_from([('А','Б'),('А','В'),('А','Г'),('А','Д')])\n",
    "G3.add_edges_from([('Б','Д')])\n",
    "G3.add_edges_from([('В','Д'),('В','Е'),('В','Ж')])\n",
    "G3.add_edges_from([('Г','В'),('Г','Е')])\n",
    "G3.add_edges_from([('Д','Ж')])\n",
    "G3.add_edges_from([('Е','Ж')])\n",
    "G3.add_edges_from([('Ж','И'),('Ж','З')])\n",
    "G3.add_edges_from([('З','К')])\n",
    "G3.add_edges_from([('И','К')])\n",
    "\n",
    "pos = nx.shell_layout(G3)\n",
    "\n",
    "nx.draw_networkx_edges(G3, pos, width=3, \n",
    "                       alpha=0.5, edge_color='slategray',\n",
    "                       arrowsize=50, arrowstyle='-|>')\n",
    "nx.draw_networkx_nodes(G3, pos, node_size=1500, alpha=0.7,\n",
    "                       node_shape='h', node_color='steelblue')\n",
    "nx.draw_networkx_labels(G3, pos, font_size=20, font_weight='bold')\n",
    "\n",
    "plt.axis('off')\n",
    "plt.show()"
   ]
  },
  {
   "cell_type": "code",
   "execution_count": 76,
   "metadata": {},
   "outputs": [
    {
     "name": "stdout",
     "output_type": "stream",
     "text": [
      "['А', 'Б', 'Д', 'Ж', 'И', 'К']\n",
      "['А', 'Б', 'Д', 'Ж', 'З', 'К']\n",
      "['А', 'В', 'Д', 'Ж', 'И', 'К']\n",
      "['А', 'В', 'Д', 'Ж', 'З', 'К']\n",
      "['А', 'В', 'Е', 'Ж', 'И', 'К']\n",
      "['А', 'В', 'Е', 'Ж', 'З', 'К']\n",
      "['А', 'В', 'Ж', 'И', 'К']\n",
      "['А', 'В', 'Ж', 'З', 'К']\n",
      "['А', 'Г', 'В', 'Д', 'Ж', 'И', 'К']\n",
      "['А', 'Г', 'В', 'Д', 'Ж', 'З', 'К']\n",
      "['А', 'Г', 'В', 'Е', 'Ж', 'И', 'К']\n",
      "['А', 'Г', 'В', 'Е', 'Ж', 'З', 'К']\n",
      "['А', 'Г', 'В', 'Ж', 'И', 'К']\n",
      "['А', 'Г', 'В', 'Ж', 'З', 'К']\n",
      "['А', 'Г', 'Е', 'Ж', 'И', 'К']\n",
      "['А', 'Г', 'Е', 'Ж', 'З', 'К']\n",
      "['А', 'Д', 'Ж', 'И', 'К']\n",
      "['А', 'Д', 'Ж', 'З', 'К']\n"
     ]
    }
   ],
   "source": [
    "for path in nx.all_simple_paths(G3,'А','К'): print (path)"
   ]
  },
  {
   "cell_type": "code",
   "execution_count": 77,
   "metadata": {},
   "outputs": [
    {
     "name": "stdout",
     "output_type": "stream",
     "text": [
      "\n",
      " Answer: 18\n"
     ]
    }
   ],
   "source": [
    "answer_dictionary[15] = str(len(list(nx.all_simple_paths(G3,'А','К'))))\n",
    "print(\"\\n\",\"Answer:\", answer_dictionary[15])"
   ]
  },
  {
   "cell_type": "markdown",
   "metadata": {},
   "source": [
    "<div style=\"width: 800px; height: 100px; overflow:auto;\">\n",
    "    <img src=\"it_images/2017_09_16.png\" width=\"800\" height=\"100\"/>\n",
    "</div>"
   ]
  },
  {
   "cell_type": "markdown",
   "metadata": {},
   "source": [
    "В системе счисления с основанием 7 записано трёхзначное число. Известно, что все цифры числа разные. \n",
    "\n",
    "Какое самое большое число удовлетворяет этому условию? Ответ запишите в десятичной системе счисления.\n",
    "\n",
    "---\n",
    "\n",
    "In the number system with base 7, a three-digit number is written. It is known that all figures of the number are different.\n",
    "\n",
    "What is the largest number that satisfies this condition? Write the answer in decimal notation."
   ]
  },
  {
   "cell_type": "code",
   "execution_count": 78,
   "metadata": {},
   "outputs": [
    {
     "data": {
      "text/plain": [
       "333"
      ]
     },
     "execution_count": 78,
     "metadata": {},
     "output_type": "execute_result"
    }
   ],
   "source": [
    "6 * 7 ** 2 + 5 * 7 ** 1 + 4 * 7 ** 0"
   ]
  },
  {
   "cell_type": "code",
   "execution_count": 81,
   "metadata": {},
   "outputs": [
    {
     "name": "stdout",
     "output_type": "stream",
     "text": [
      "\n",
      " Answer: 333\n"
     ]
    }
   ],
   "source": [
    "answer_dictionary[16] = str(int('654',7))\n",
    "print(\"\\n\",\"Answer:\", answer_dictionary[16])"
   ]
  },
  {
   "cell_type": "markdown",
   "metadata": {},
   "source": [
    "<div style=\"width: 800px; height: 360px; overflow:auto;\">\n",
    "    <img src=\"it_images/2017_09_17.png\" width=\"800\" height=\"360\"/>\n",
    "</div>"
   ]
  },
  {
   "cell_type": "markdown",
   "metadata": {},
   "source": [
    "В языке запросов к поисковому серверу для обозначения \n",
    "\n",
    "- логической операции $«ИЛИ»$ используется символ $\" \\mid \"$, \n",
    "\n",
    "- а для логической операции $«И»$ — $\" \\& \"$. \n",
    "\n",
    "В таблице приведено количество страниц, которое находит поисковая система по каждому запросу.\n",
    "\n",
    "---\n",
    "\n",
    "In the query language to the search server, \n",
    "\n",
    "- the symbol $\" \\mid \"$ is used to indicate the logical operation $\"OR\"$, \n",
    "\n",
    "- and for the logical operation $\"AND\"$ - $\" \\& \"$. \n",
    "\n",
    "The table shows the number of pages that the search engine finds for each query.\n",
    "\n",
    "| Запрос | Количество найденных страниц (в тысячах) |\n",
    "|:-:|:-:|\n",
    "| Query\t| Number of Found Pages |\n",
    "| <i style=\"color:red;\">Красный</i> | 21 |\n",
    "| <i style=\"color:blue;\">Синий</i> | 34 |\n",
    "| <i style=\"color:green;\">Зелёный</i> | 28 |\n",
    "| <i style=\"color:red;\">Красный</i> $\\&$ <i style=\"color:green;\">Зелёный</i> | 6 |\n",
    "| <i style=\"color:blue;\">Синий</i> $\\&$ <i style=\"color:green;\">Зелёный</i> | 11 |\n",
    "| <i style=\"color:red;\">Красный</i> $\\mid$ <i style=\"color:blue;\">Синий</i> $\\mid$ <i style=\"color:green;\">Зелёный</i> | 61 |\n",
    "| <i style=\"color:red;\">Красный</i> $\\&$ <i style=\"color:blue;\">Синий</i> $\\&$ <i style=\"color:green;\">Зелёный</i> | 2 |\n",
    "\n",
    "Какое количество страниц (в тысячах) будет найдено этой поисковой системой по запросу <i style=\"color:red;\">Красный</i> $\\&$ <i style=\"color:blue;\">Синий</i>?\n",
    "\n",
    "---\n",
    "\n",
    "How many pages (in thousands) will be found on the query <i style=\"color:red;\">Красный</i> $\\&$ <i style=\"color:blue;\">Синий</i>?"
   ]
  },
  {
   "cell_type": "markdown",
   "metadata": {},
   "source": [
    "<i style=\"color:red;\">Красный</i> $\\mid$ <i style=\"color:blue;\">Синий</i> $\\mid$ <i style=\"color:green;\">Зелёный</i> $=$\n",
    "\n",
    "\n",
    "$=$ <i style=\"color:red;\">Красный</i> $+$ <i style=\"color:green;\">Зелёный</i> $+$ <i style=\"color:blue;\">Синий</i> $-$ <i style=\"color:red;\">Красный</i> $\\&$ <i style=\"color:green;\">Зелёный</i> $-$ <i style=\"color:blue;\">Синий</i> $\\&$ <i style=\"color:green;\">Зелёный</i> $-$ <i style=\"color:red;\">Красный</i> $\\&$ <i style=\"color:blue;\">Синий</i> $+$  <i style=\"color:red;\">Красный</i> $\\&$ <i style=\"color:blue;\">Синий</i>  $\\&$ <i style=\"color:green;\">Зелёный</i>\n",
    "\n",
    "---\n",
    "\n",
    "<i style=\"color:red;\">Красный</i> $\\&$ <i style=\"color:blue;\">Синий</i> $=$\n",
    "\n",
    "\n",
    "$=$ <i style=\"color:red;\">Красный</i> $+$ <i style=\"color:green;\">Зелёный</i> $+$ <i style=\"color:blue;\">Синий</i> $-$ <i style=\"color:red;\">Красный</i> $\\&$ <i style=\"color:green;\">Зелёный</i> $-$ <i style=\"color:blue;\">Синий</i> $\\&$ <i style=\"color:green;\">Зелёный</i> $-$ <i style=\"color:red;\">Красный</i> $\\mid$ <i style=\"color:blue;\">Синий</i> $\\mid$ <i style=\"color:green;\">Зелёный</i> $+$  <i style=\"color:red;\">Красный</i> $\\&$ <i style=\"color:blue;\">Синий</i>  $\\&$ <i style=\"color:green;\">Зелёный</i>"
   ]
  },
  {
   "cell_type": "code",
   "execution_count": 82,
   "metadata": {},
   "outputs": [
    {
     "data": {
      "text/plain": [
       "7"
      ]
     },
     "execution_count": 82,
     "metadata": {},
     "output_type": "execute_result"
    }
   ],
   "source": [
    "Red, Green, Blue = 21, 28, 34\n",
    "Red_and_Green = 6\n",
    "Blue_and_Green = 11\n",
    "Red_and_Green_and_Blue = 2\n",
    "Red_or_Green_or_Blue = 61\n",
    "\n",
    "Red_and_Blue = Red + Green + Blue - Red_and_Green - Blue_and_Green - \\\n",
    "Red_or_Green_or_Blue + Red_and_Green_and_Blue\n",
    "Red_and_Blue"
   ]
  },
  {
   "cell_type": "code",
   "execution_count": 83,
   "metadata": {},
   "outputs": [
    {
     "data": {
      "image/png": "[encoded data removed]",
      "text/plain": [
       "<matplotlib.figure.Figure at 0x104aad748>"
      ]
     },
     "metadata": {},
     "output_type": "display_data"
    }
   ],
   "source": [
    "from matplotlib_venn import venn3\n",
    "\n",
    "search_sets = [Red - Red_and_Green - Red_and_Blue + Red_and_Green_and_Blue, \n",
    "               Green - Red_and_Green - Blue_and_Green + Red_and_Green_and_Blue, \n",
    "               Red_and_Green - Red_and_Green_and_Blue, \n",
    "               Blue - Red_and_Blue - Blue_and_Green + Red_and_Green_and_Blue, \n",
    "               Red_and_Blue - Red_and_Green_and_Blue, \n",
    "               Blue_and_Green - Red_and_Green_and_Blue, \n",
    "               Red_and_Green_and_Blue]\n",
    "\n",
    "plt.figure(figsize=(9,9))\n",
    "v=venn3(subsets=search_sets, set_labels=('Red', 'Green', 'Blue'))\n",
    "\n",
    "for text in v.set_labels:\n",
    "    text.set_fontsize(15)\n",
    "for text in v.subset_labels:\n",
    "    text.set_fontsize(16)\n",
    "    \n",
    "plt.show()"
   ]
  },
  {
   "cell_type": "code",
   "execution_count": 85,
   "metadata": {},
   "outputs": [
    {
     "name": "stdout",
     "output_type": "stream",
     "text": [
      "\n",
      " Answer: 7\n"
     ]
    }
   ],
   "source": [
    "answer_dictionary[17] = str(Red_and_Blue)\n",
    "print(\"\\n\",\"Answer:\", answer_dictionary[17])"
   ]
  },
  {
   "cell_type": "markdown",
   "metadata": {},
   "source": [
    "<div style=\"width: 800px; height: 140px; overflow:auto;\">\n",
    "    <img src=\"it_images/2017_09_18.png\" width=\"800\" height=\"140\"/>\n",
    "</div>"
   ]
  },
  {
   "cell_type": "markdown",
   "metadata": {},
   "source": [
    "Обозначим через $ДЕЛ(n, m)$ утверждение «натуральное число $n$ делится без остатка на натуральное число $m$».\n",
    "\n",
    "Для какого наибольшего натурального числа $A$ формула  \n",
    "\n",
    "$\\neg ДЕЛ(x, A) \\to (ДЕЛ(x, 6) \\to \\neg ДЕЛ(x, 8))$\n",
    "\n",
    "тождественно истинна (то есть принимает значение $1$ при любом натуральном значении переменной $x$)?\n",
    "\n",
    "---\n",
    "\n",
    "Let's denote by $ДЕЛ(n, m)$ the statement \"a natural number $n$ is divisible without remainder by a natural number $m$\".\n",
    "\n",
    "What is the largest natural number $A$, for which the formula\n",
    "\n",
    "$\\neg ДЕЛ(x, A) \\to (ДЕЛ(x, 6) \\to \\neg ДЕЛ(x, 8))$\n",
    "\n",
    "is identically true (that is, it takes the value $1$ for any natural value of the variable $x$)?"
   ]
  },
  {
   "cell_type": "code",
   "execution_count": 86,
   "metadata": {},
   "outputs": [
    {
     "data": {
      "text/latex": [
       "$\\neg ДЕЛ(x, A) \\to (ДЕЛ(x, 6) \\to \\neg ДЕЛ(x, 8)) \\iff \n",
       "\\neg \\neg ДЕЛ(x, A) \\lor (ДЕЛ(x, 6) \\to \\neg ДЕЛ(x, 8)) \\iff \\\\\n",
       "ДЕЛ(x, A) \\lor (\\neg ДЕЛ(x, 6) \\lor \\neg ДЕЛ(x, 8)) \\iff\n",
       "ДЕЛ(x, A) \\lor \\neg (ДЕЛ(x, 6) \\land ДЕЛ(x, 8)) \\iff \\\\\n",
       "ДЕЛ(x, A) \\lor \\neg ДЕЛ(x, 24) \\ (*)$"
      ],
      "text/plain": [
       "<IPython.core.display.Latex object>"
      ]
     },
     "metadata": {},
     "output_type": "display_data"
    }
   ],
   "source": [
    "%%latex\n",
    "$\\neg ДЕЛ(x, A) \\to (ДЕЛ(x, 6) \\to \\neg ДЕЛ(x, 8)) \\iff \n",
    "\\neg \\neg ДЕЛ(x, A) \\lor (ДЕЛ(x, 6) \\to \\neg ДЕЛ(x, 8)) \\iff \\\\\n",
    "ДЕЛ(x, A) \\lor (\\neg ДЕЛ(x, 6) \\lor \\neg ДЕЛ(x, 8)) \\iff\n",
    "ДЕЛ(x, A) \\lor \\neg (ДЕЛ(x, 6) \\land ДЕЛ(x, 8)) \\iff \\\\\n",
    "ДЕЛ(x, A) \\lor \\neg ДЕЛ(x, 24) \\ (*)$"
   ]
  },
  {
   "cell_type": "code",
   "execution_count": 87,
   "metadata": {},
   "outputs": [
    {
     "data": {
      "text/latex": [
       "$ (*) \\equiv TRUE \\iff ДЕЛ(x, A) \\equiv ДЕЛ(x, 24)$"
      ],
      "text/plain": [
       "<IPython.core.display.Latex object>"
      ]
     },
     "metadata": {},
     "output_type": "display_data"
    }
   ],
   "source": [
    "%%latex\n",
    "$ (*) \\equiv TRUE \\iff ДЕЛ(x, A) \\equiv ДЕЛ(x, 24)$"
   ]
  },
  {
   "cell_type": "code",
   "execution_count": 88,
   "metadata": {},
   "outputs": [
    {
     "name": "stdout",
     "output_type": "stream",
     "text": [
      "\n",
      " Answer: 24\n"
     ]
    }
   ],
   "source": [
    "answer_dictionary[18] = str(2 * 3 * 4)\n",
    "print(\"\\n\",\"Answer:\", answer_dictionary[18])"
   ]
  },
  {
   "cell_type": "markdown",
   "metadata": {},
   "source": [
    "<div style=\"width: 800px; height: 430px; overflow:auto;\">\n",
    "    <img src=\"it_images/2017_09_19.png\" width=\"800\" height=\"430\"/>\n",
    "</div>"
   ]
  },
  {
   "cell_type": "markdown",
   "metadata": {},
   "source": [
    "В программе используется целочисленный массив $A$ с индексами от $0$ до $9$. \n",
    "\n",
    "Значения элементов массива равны $6; 5; 4; 7; 10; 6; 9; 11; 7; 8$ соответственно, т.е. $А[0] = 6; А[1] = 5$ и т.д.\n",
    "\n",
    "Определите значение переменной $k$ после выполнения следующего фрагмента программы, записанной ниже на разных языках программирования.\n",
    "\n",
    "---\n",
    "\n",
    "The program uses an integer array $A$ with indices from $0$ to $9$.\n",
    "\n",
    "The values of the array elements are $6, 5, 4, 7, 10, 6, 9, 11, 7, 8$ respectively, i.e. $A[0] = 6$; $A[1] = 5$, etc.\n",
    "\n",
    "Determine the value of the variable $k$ after the execution of the next program fragment, written down below in different programming languages."
   ]
  },
  {
   "cell_type": "code",
   "execution_count": 48,
   "metadata": {},
   "outputs": [
    {
     "name": "stdout",
     "output_type": "stream",
     "text": [
      "\n",
      " Answer: 8\n"
     ]
    }
   ],
   "source": [
    "A = numpy.array([6,5,4,7,10,6,9,11,7,8])\n",
    "k = 0\n",
    "for i in range(10): \n",
    "    if A[i] % 2 > 0:\n",
    "        k = i\n",
    "        \n",
    "answer_dictionary[19]=str(k)\n",
    "print(\"\\n\",\"Answer:\", answer_dictionary[19])"
   ]
  },
  {
   "cell_type": "markdown",
   "metadata": {},
   "source": [
    "<div style=\"width: 800px; height: 1100px; overflow:auto;\">\n",
    "    <img src=\"it_images/2017_09_20_1.png\" width=\"800\" height=\"500\"/>\n",
    "    <img src=\"it_images/2017_09_20_2.png\" width=\"800\" height=\"500\"/>\n",
    "</div>"
   ]
  },
  {
   "cell_type": "markdown",
   "metadata": {},
   "source": [
    "Ниже на четырёх языках записан алгоритм. \n",
    "\n",
    "Получив на вход число $х$, этот алгоритм печатает три числа $K$, $M$ и $L$. \n",
    "\n",
    "Укажите наименьшее число $х$, при вводе которого алгоритм печатает сначала $3$, потом $2$, потом ещё $2$.\n",
    "\n",
    "---\n",
    "\n",
    "Below, in four languages, the algorithm is written.\n",
    "\n",
    "After receiving the number $x$ on the input, this algorithm prints three numbers $K$, $M$ and $L$.\n",
    "\n",
    "Specify the smallest number $x$, for which the algorithm prints at first $3$, and then $2$, and $2$ else."
   ]
  },
  {
   "cell_type": "code",
   "execution_count": 49,
   "metadata": {},
   "outputs": [
    {
     "name": "stdout",
     "output_type": "stream",
     "text": [
      "90 2 2 1\n",
      "91 2 1 0\n",
      "92 2 1 0\n",
      "93 2 2 0\n",
      "94 2 1 0\n",
      "95 2 1 1\n",
      "96 2 2 0\n",
      "97 2 1 0\n",
      "98 2 1 0\n",
      "99 2 2 0\n",
      "100 3 2 2\n",
      "101 3 1 1\n",
      "102 3 1 1\n",
      "103 3 2 1\n",
      "104 3 1 1\n",
      "105 3 1 2\n",
      "106 3 2 1\n",
      "107 3 1 1\n",
      "108 3 1 1\n",
      "109 3 2 1\n"
     ]
    }
   ],
   "source": [
    "for x in range(90,110):\n",
    "    K, L, M, t = 0, 0, 0, x\n",
    "    while x > 0:\n",
    "        y = x % 10\n",
    "        K += 1\n",
    "        if y % 3 == 0:\n",
    "            L += 1\n",
    "        if y % 5 == 0:\n",
    "            M += 1            \n",
    "        x = x // 10\n",
    "    print(t, K, L, M)\n",
    "    if K == 3 and L == 2 and M == 2:\n",
    "        answer_dictionary[20]=str(t)"
   ]
  },
  {
   "cell_type": "code",
   "execution_count": 50,
   "metadata": {},
   "outputs": [
    {
     "name": "stdout",
     "output_type": "stream",
     "text": [
      "\n",
      " Answer: 100\n"
     ]
    }
   ],
   "source": [
    "print(\"\\n\",\"Answer:\", answer_dictionary[20])"
   ]
  },
  {
   "cell_type": "markdown",
   "metadata": {},
   "source": [
    "<div style=\"width: 800px; height: 950px; overflow:auto;\">\n",
    "    <img src=\"it_images/2017_09_21_1.png\" width=\"800\" height=\"450\"/>\n",
    "    <img src=\"it_images/2017_09_21_2.png\" width=\"800\" height=\"450\"/>    \n",
    "</div>"
   ]
  },
  {
   "cell_type": "markdown",
   "metadata": {},
   "source": [
    "Ниже на четырёх языках представлен алгоритм. \n",
    "\n",
    "Определите, при скольких значениях $b$ на экран будет выведено такое же число, как и при $b = 200$ (включая $b = 200$).\n",
    "\n",
    "---\n",
    "\n",
    "The algorithm is presented in four languages below. \n",
    "\n",
    "Determine for how many values of b the same number will be displayed on the screen as for b = 200 (including b = 200)."
   ]
  },
  {
   "cell_type": "code",
   "execution_count": 51,
   "metadata": {},
   "outputs": [
    {
     "name": "stdout",
     "output_type": "stream",
     "text": [
      "Pairs [b,a]: \n",
      " [[128, 8], [129, 8], [130, 8], [131, 8], [132, 8], [133, 8], [134, 8], [135, 8], [136, 8], [137, 8], [138, 8], [139, 8], [140, 8], [141, 8], [142, 8], [143, 8], [144, 8], [145, 8], [146, 8], [147, 8], [148, 8], [149, 8], [150, 8], [151, 8], [152, 8], [153, 8], [154, 8], [155, 8], [156, 8], [157, 8], [158, 8], [159, 8], [160, 8], [161, 8], [162, 8], [163, 8], [164, 8], [165, 8], [166, 8], [167, 8], [168, 8], [169, 8], [170, 8], [171, 8], [172, 8], [173, 8], [174, 8], [175, 8], [176, 8], [177, 8], [178, 8], [179, 8], [180, 8], [181, 8], [182, 8], [183, 8], [184, 8], [185, 8], [186, 8], [187, 8], [188, 8], [189, 8], [190, 8], [191, 8], [192, 8], [193, 8], [194, 8], [195, 8], [196, 8], [197, 8], [198, 8], [199, 8], [200, 8], [201, 8], [202, 8], [203, 8], [204, 8], [205, 8], [206, 8], [207, 8], [208, 8], [209, 8], [210, 8], [211, 8], [212, 8], [213, 8], [214, 8], [215, 8], [216, 8], [217, 8], [218, 8], [219, 8], [220, 8], [221, 8], [222, 8], [223, 8], [224, 8], [225, 8], [226, 8], [227, 8], [228, 8], [229, 8], [230, 8], [231, 8], [232, 8], [233, 8], [234, 8], [235, 8], [236, 8], [237, 8], [238, 8], [239, 8], [240, 8], [241, 8], [242, 8], [243, 8], [244, 8], [245, 8], [246, 8], [247, 8], [248, 8], [249, 8], [250, 8], [251, 8], [252, 8], [253, 8], [254, 8], [255, 8]]\n"
     ]
    }
   ],
   "source": [
    "def F(x):\n",
    "    if x == 0:\n",
    "        return 0\n",
    "    else:\n",
    "        return F(x // 2) + 1\n",
    "\n",
    "A = []\n",
    "for b in range(0,300):\n",
    "    a = 0\n",
    "    while a < F(b):\n",
    "        a += 1\n",
    "    if a == 8:\n",
    "        A.append([b,a])\n",
    "\n",
    "print('Pairs [b,a]: \\n',A)    "
   ]
  },
  {
   "cell_type": "markdown",
   "metadata": {},
   "source": [
    "Переменная $a$ равна количеству разрядов в бинарной записи числа $b$. Для $b = 200$ переменная $a = 8$. Такое же значение параметр $a$ будет принимать для всех натуральных $b: 127 < b < 256$. Количество таких чисел равно $128$.\n",
    "\n",
    "---\n",
    "\n",
    "The variable $a$ is equal to the number of digits in the binary form of $b$. For $b = 200$, the variable $a = 8$. The same value of the parameter $a$ will be taken for all natural numbers $b: 127 < b < 256$. The quantity of this type of numbers is $128$."
   ]
  },
  {
   "cell_type": "code",
   "execution_count": 52,
   "metadata": {},
   "outputs": [
    {
     "name": "stdout",
     "output_type": "stream",
     "text": [
      "\n",
      " Answer: 128\n"
     ]
    }
   ],
   "source": [
    "answer_dictionary[21]=str(len(A))\n",
    "print(\"\\n\",\"Answer:\", answer_dictionary[21])"
   ]
  },
  {
   "cell_type": "markdown",
   "metadata": {},
   "source": [
    "<div style=\"width: 800px; height: 180px; overflow:auto;\">\n",
    "    <img src=\"it_images/2017_09_22.png\" width=\"800\" height=\"180\"/>\n",
    "</div>"
   ]
  },
  {
   "cell_type": "markdown",
   "metadata": {},
   "source": [
    "У исполнителя <i style=\"color:royalblue;\" class=\"font-effect-3d\">Прибавлятель</i> три команды, которым присвоены номера:\n",
    "\n",
    "1. <i style=\"color:royalblue;\" class=\"font-effect-3d\">прибавь 1</i>,\n",
    "\n",
    "\n",
    "2. <i style=\"color:royalblue;\" class=\"font-effect-3d\">прибавь 2</i>,\n",
    "\n",
    "\n",
    "3. <i style=\"color:royalblue;\" class=\"font-effect-3d\">прибавь 5</i>.\n",
    "\n",
    "Первая из них увеличивает число на экране на $1$, вторая — на $2$, третья — на $5$. \n",
    "\n",
    "Программа для <i style=\"color:royalblue;\" class=\"font-effect-3d\">Прибавлятель</i> — это последовательность команд.\n",
    "\n",
    "Сколько есть программ, которые число $2$ преобразуют в число $10$?\n",
    "\n",
    "---\n",
    "\n",
    "The performer <i style=\"color:royalblue;\" class=\"font-effect-3d\">Adder</i> has three enumerated commands:\n",
    "\n",
    "1. <i style=\"color:royalblue;\" class=\"font-effect-3d\">add 1</i>,\n",
    "\n",
    "\n",
    "2. <i style=\"color:royalblue;\" class=\"font-effect-3d\">add 2</i>,\n",
    "\n",
    "\n",
    "3. <i style=\"color:royalblue;\" class=\"font-effect-3d\">add 5</i>.\n",
    "\n",
    "The first of them increases the number on the screen by $1$, the second - by $2$, the third - by $5$.\n",
    "\n",
    "The program for <i style=\"color:royalblue;\" class=\"font-effect-3d\">Adder</i> is a sequence of commands.\n",
    "\n",
    "How many programs are there that convert $2$ to $10$?"
   ]
  },
  {
   "cell_type": "markdown",
   "metadata": {},
   "source": [
    "| Начальное число → Конечное число | Количество программ | Примечание |\n",
    "|:-|:-|:-|\n",
    "| Start → End | Number of Programs | Notes |\n",
    "| 2 → 3 | 1 | `2+1` |\n",
    "| 2 → 4 | 2 | `2+1`, `2+2` |\n",
    "| 2 → 5 | 3 | = 2 → 3 + 2 → 4 |\n",
    "| 2 → 6 | 5 | = 2 → 4 + 2 → 5 |\n",
    "| 2 → 7 | 9 | = 2 → 5 + 2 → 6 + 1 (`2+5`) |\n",
    "| 2 → 8 | 15 | = 2 → 6 + 2 → 7 + 2 → 3 |\n",
    "| 2 → 9 | 26 | = 2 → 7 + 2 → 8 + 2 → 4 |\n",
    "| 2 → 10 | 44 | = 2 → 8 + 2 → 9 + 2 → 5 |"
   ]
  },
  {
   "cell_type": "code",
   "execution_count": 53,
   "metadata": {},
   "outputs": [
    {
     "name": "stdout",
     "output_type": "stream",
     "text": [
      "Length of x: 29524\n",
      "\n",
      " Answer: 44\n"
     ]
    }
   ],
   "source": [
    "x = [2]\n",
    "for i in range(9):\n",
    "    n=int(len(x)-3**i)\n",
    "    y1=[el+1 for el in x[n:]]\n",
    "    y2=[el+2 for el in x[n:]]\n",
    "    y3=[el+5 for el in x[n:]]\n",
    "    x=x+y1+y2+y3\n",
    "\n",
    "print('Length of x:', len(x))\n",
    "answer_dictionary[22]=str(x.count(10))\n",
    "print(\"\\n\",\"Answer:\", answer_dictionary[22])"
   ]
  },
  {
   "cell_type": "markdown",
   "metadata": {},
   "source": [
    "<div style=\"width: 800px; height: 250px; overflow:auto;\">\n",
    "    <img src=\"it_images/2017_09_23.png\" width=\"800\" height=\"250\"/>\n",
    "</div>"
   ]
  },
  {
   "cell_type": "markdown",
   "metadata": {},
   "source": [
    "Сколько существует различных наборов значений логических переменных $x_1, х_2, ... х_7, x_8$, которые удовлетворяют всем перечисленным ниже условиям? \n",
    "\n",
    "В ответе не нужно перечислять все различные наборы значений $x_1, х_2, ... х_7, x_8$, при которых выполнена данная система равенств. В качестве ответа вам нужно указать количество таких наборов.\n",
    "\n",
    "---\n",
    "\n",
    "How many different sets of values of logical variables $x_1, х_2, ... х_7, x_8$ exist that satisfy all the conditions listed below?\n",
    "\n",
    "In the answer it is not necessary to list all the different sets of values $x_1, х_2, ... х_7, x_8$ for which the given system of equations is satisfied. As an answer, you need to specify only the number of such sets.\n",
    "\n",
    "- $ (x_1 \\land x_2) \\lor (x_2 \\land x_3) = 0 $  ***(1)***\n",
    "- $ (x_2 \\land x_3) \\lor (x_3 \\land x_4) = 0 $  ***(2)***\n",
    "- $ (x_3 \\land x_4) \\lor (x_4 \\land x_5) = 0 $  ***(3)***\n",
    "- $ (x_4 \\land x_5) \\lor (x_5 \\land x_6) = 0 $  ***(4)***\n",
    "- $ (x_5 \\land x_6) \\lor (x_6 \\land x_7) = 0 $  ***(5)***\n",
    "- $ (x_6 \\land x_7) \\lor (x_7 \\land x_8) = 0 $  ***(6)***"
   ]
  },
  {
   "cell_type": "code",
   "execution_count": 54,
   "metadata": {},
   "outputs": [
    {
     "data": {
      "text/latex": [
       "$ \\begin{cases}\n",
       "(x_1 \\land x_2) \\lor (x_2 \\land x_3) = 0 \\\\\n",
       "(x_2 \\land x_3) \\lor (x_3 \\land x_4) = 0 \\\\\n",
       "(x_3 \\land x_4) \\lor (x_4 \\land x_5) = 0 \\\\\n",
       "(x_4 \\land x_5) \\lor (x_5 \\land x_6) = 0 \\\\\n",
       "(x_5 \\land x_6) \\lor (x_6 \\land x_7) = 0 \\\\\n",
       "(x_6 \\land x_7) \\lor (x_7 \\land x_8) = 0 \n",
       "\\end{cases} \\iff\n",
       "\n",
       "\\begin{cases}\n",
       "x_2 \\land (x_1 \\lor x_3) = 0 \\ (1*) \\\\\n",
       "x_3 \\land (x_2 \\lor x_4) = 0 \\ (2*) \\\\\n",
       "x_4 \\land (x_3 \\lor x_5) = 0 \\ (3*) \\\\\n",
       "x_5 \\land (x_4 \\lor x_6) = 0 \\ (4*) \\\\\n",
       "x_6 \\land (x_5 \\lor x_7) = 0 \\ (5*) \\\\\n",
       "x_7 \\land (x_6 \\lor x_8) = 0 \\ (6*) \n",
       "\\end{cases}\n",
       "$ "
      ],
      "text/plain": [
       "<IPython.core.display.Latex object>"
      ]
     },
     "metadata": {},
     "output_type": "display_data"
    }
   ],
   "source": [
    "%%latex\n",
    "$ \\begin{cases}\n",
    "(x_1 \\land x_2) \\lor (x_2 \\land x_3) = 0 \\\\\n",
    "(x_2 \\land x_3) \\lor (x_3 \\land x_4) = 0 \\\\\n",
    "(x_3 \\land x_4) \\lor (x_4 \\land x_5) = 0 \\\\\n",
    "(x_4 \\land x_5) \\lor (x_5 \\land x_6) = 0 \\\\\n",
    "(x_5 \\land x_6) \\lor (x_6 \\land x_7) = 0 \\\\\n",
    "(x_6 \\land x_7) \\lor (x_7 \\land x_8) = 0 \n",
    "\\end{cases} \\iff\n",
    "\n",
    "\\begin{cases}\n",
    "x_2 \\land (x_1 \\lor x_3) = 0 \\ (1*) \\\\\n",
    "x_3 \\land (x_2 \\lor x_4) = 0 \\ (2*) \\\\\n",
    "x_4 \\land (x_3 \\lor x_5) = 0 \\ (3*) \\\\\n",
    "x_5 \\land (x_4 \\lor x_6) = 0 \\ (4*) \\\\\n",
    "x_6 \\land (x_5 \\lor x_7) = 0 \\ (5*) \\\\\n",
    "x_7 \\land (x_6 \\lor x_8) = 0 \\ (6*) \n",
    "\\end{cases}\n",
    "$ "
   ]
  },
  {
   "cell_type": "markdown",
   "metadata": {},
   "source": [
    "1) Тождество $(1*)$ выполнется только для 5 наборов переменных $(x_1,x_2,x_3)$ из 8 возможных: (0,0,0), (0,1,0), (1,0,0), (1,0,1), (0,0,1).\n",
    "\n",
    "2) Эти наборы $(x_1,x_2,x_3)$ должны пересекаться со множеством решений тождества $(2*)$ для переменных $(x_2,x_3,x_4)$. Два набора $(x_1,x_2,x_3)$ (1,0,1), (0,0,1) могут быть решениями $(2*)$ только, если $(x_1,x_2,x_3,x_4)$ равны (1,0,1,0) или (0,0,1,0) соответственно. Для остальных 3 наборов $(x_1,x_2,x_3)$ переменная $x_4$ может принимать любые значения. Все решениями системы уравнений $(1∗)$ и $(2∗)$ являются  2 + 3 ∗ 2 = 8  наборов переменных $(x_1,x_2,x_3,x_4)$.\n",
    "\n",
    "3) Рассуждая аналогично, получим:\n",
    "\n",
    "- $3 + 5 ∗ 2 = 13$ наборов $(x_1,x_2,x_3,x_4,x_5)$, являющихся решениями системы $(1∗), (2∗), (3∗)$;\n",
    "\n",
    "- $5 + 8 ∗ 2 = 21$ набор $(x_1,x_2,x_3,x_4,x_5,x_6)$, являющихся решениями системы $(1∗), (2∗), (3∗), (4*)$;\n",
    "\n",
    "- $8 + 13 ∗ 2 = 34$ набора $(x_1,x_2,x_3,x_4,x_5,x_6,x_7)$, являющихся решениями системы $(1∗), (2∗), (3∗), (4*), (5*)$;\n",
    "\n",
    "- $13 + 21 ∗ 2 = 55$ наборов $(x_1,x_2,x_3,x_4,x_5,x_6,x_7,x_8)$, являющихся решениями системы $(1∗), (2∗), (3∗), (4*), (5*), (6*)$.\n",
    "\n",
    "---\n",
    "\n",
    "1) The identity $(1*)$ is fulfilled only for 5 sets of variables $(x_1,x_2,x_3)$ from 8 possible ones: (0,0,0), (0,1,0), (1,0,0), (1,0,1), (0,0,1).\n",
    "\n",
    "2) These sets $(x_1, x_2, x_3)$ must intersect the set of solutions of the identity $(2*)$ for the variables $(x_2, x_3, x_4)$. Two sets $(x_1, x_2, x_3)$ ((1,0,1), (0,0,1) can be solutions of $(2 *)$ only if $(x_1, x_2, x_3, x_4)$ are equal to (1,0,1,0) or (0,0,1,0) respectively. For the remaining 3 sets $(x_1, x_2, x_3)$, the variable $x_4$ can take any values. All solutions of the system of equations $(1 *)$ and $(2 *)$ are $2 + 3 * 2 = 8$ sets of variables $(x_1, x_2, x_3, x_4)$.\n",
    "\n",
    "3) Arguing similarly, we get:\n",
    "\n",
    "- $3 + 5 ∗ 2 = 13$ sets $(x_1,x_2,x_3,x_4,x_5)$ are solutions of the system $(1*), (2*), (3*)$;\n",
    "\n",
    "- $5 + 8 ∗ 2 = 21$ sets $(x_1,x_2,x_3,x_4,x_5,x_6)$ are solutions of the system $(1∗), (2∗), (3∗), (4*)$;\n",
    "   \n",
    "- $8 + 13 ∗ 2 = 34$ sets $(x_1,x_2,x_3,x_4,x_5,x_6,x_7)$ are solutions of the system $(1*), (2*), (3*), (4*), (5*)$;\n",
    "\n",
    "- $13 + 21 ∗ 2 = 55$ sets $(x_1,x_2,x_3,x_4,x_5,x_6,x_7,x_8)$ are solutions of the system $(1*), (2*), (3*), (4*), (5*), (6*)$."
   ]
  },
  {
   "cell_type": "code",
   "execution_count": 55,
   "metadata": {},
   "outputs": [
    {
     "name": "stdout",
     "output_type": "stream",
     "text": [
      "\n",
      " Answer: 55\n"
     ]
    }
   ],
   "source": [
    "# check the decision method\n",
    "import itertools\n",
    "\n",
    "n = 8\n",
    "binary_combinations = numpy.array(list(itertools.product([0, 1], repeat=n)))\n",
    "result = []\n",
    "\n",
    "def logical_function(k,l,m):\n",
    "    return (k and l) or (l and m)\n",
    "\n",
    "for el in binary_combinations:\n",
    "    e1 = logical_function(el[0],el[1],el[2])\n",
    "    e2 = logical_function(el[1],el[2],el[3])\n",
    "    e3 = logical_function(el[2],el[3],el[4])\n",
    "    e4 = logical_function(el[3],el[4],el[5])\n",
    "    e5 = logical_function(el[4],el[5],el[6])\n",
    "    e6 = logical_function(el[5],el[6],el[7])   \n",
    "    \n",
    "    result.append(e1 == 0 and e2 == 0 and e3 == 0 and e4 == 0 and e5 == 0 and e6 == 0)\n",
    "\n",
    "answer_dictionary[23]=str(sum(result))\n",
    "print(\"\\n\",\"Answer:\", answer_dictionary[23])"
   ]
  },
  {
   "cell_type": "markdown",
   "metadata": {},
   "source": [
    "## Часть 2 &nbsp; &nbsp; &nbsp; Part 2"
   ]
  },
  {
   "cell_type": "markdown",
   "metadata": {},
   "source": [
    "<div style=\"width: 800px; height: 780px; overflow:auto;\">\n",
    "    <img src=\"it_images/2017_09_24_1.png\" width=\"800\" height=\"430\"/>\n",
    "    <img src=\"it_images/2017_09_24_2.png\" width=\"800\" height=\"250\"/>    \n",
    "</div>"
   ]
  },
  {
   "cell_type": "markdown",
   "metadata": {},
   "source": [
    "Требовалось написать программу, которая вводит с клавиатуры последовательность из n целых чисел (n = 4), и выводит на экран сумму отрицательных чисел среди этой последовательности. Если в последовательности нет отрицательных чисел, программа должна вывести 0. Известно, что вводимые числа не превышают по модулю 1000. \n",
    "\n",
    "Программист торопился и написал программу неправильно.\n",
    "\n",
    "Выполните следующие действия:\n",
    "\n",
    "1. Напишите, что выведет программа при вводе чисел -1 1 3 -5.\n",
    "\n",
    "2. Приведите пример такой входной последовательности, при которой программа работает верно.\n",
    "\n",
    "3. Укажите все ошибки в программе и исправьте их. Для этого для каждой ошибки: выпишите строку, которая написана неправильно и приведите правильный вариант строки.\n",
    "\n",
    "---\n",
    "\n",
    "It was required to write a program that enters from the keyboard a sequence of n integers (n = 4) and displays the sum of the negative numbers among this sequence. If there are no negative numbers in the sequence, the program should output 0. It is known that the entered numbers do not exceed 1000 by the absolute value.\n",
    "\n",
    "The programmer was in a hurry and wrote the program incorrectly.\n",
    "\n",
    "Do the following:\n",
    "\n",
    "1. Write what the program will output when you enter numbers -1 1 3 -5.\n",
    "\n",
    "2. Give an example of such an input sequence, for which the program works correctly.\n",
    "\n",
    "3. Indicate any errors in the program and correct them. To do this, for each error: write out the line that was written incorrectly and give the correct version of this line."
   ]
  },
  {
   "cell_type": "code",
   "execution_count": 237,
   "metadata": {},
   "outputs": [
    {
     "name": "stdout",
     "output_type": "stream",
     "text": [
      "-1\n",
      "1\n",
      "3\n",
      "-5\n",
      "-5\n"
     ]
    }
   ],
   "source": [
    "# the wrong program, the wrong result\n",
    "N, SUM = 4, 0\n",
    "for I in range(N):\n",
    "    A = int(input())\n",
    "    if A < 0:\n",
    "        SUM = A    \n",
    "print(A)"
   ]
  },
  {
   "cell_type": "code",
   "execution_count": 238,
   "metadata": {},
   "outputs": [
    {
     "name": "stdout",
     "output_type": "stream",
     "text": [
      "1\n",
      "2\n",
      "3\n",
      "-4\n",
      "-4\n"
     ]
    }
   ],
   "source": [
    "# the wrong program, the right result\n",
    "N, SUM = 4, 0\n",
    "for I in range(N):\n",
    "    A = int(input())\n",
    "    if A < 0:\n",
    "        SUM = A    \n",
    "print(A)"
   ]
  },
  {
   "cell_type": "code",
   "execution_count": 239,
   "metadata": {},
   "outputs": [
    {
     "name": "stdout",
     "output_type": "stream",
     "text": [
      "-1\n",
      "1\n",
      "3\n",
      "-5\n",
      "-6\n"
     ]
    }
   ],
   "source": [
    "# the right program, the right result\n",
    "N, SUM = 4, 0\n",
    "for I in range(N):\n",
    "    A = int(input())\n",
    "    if A < 0:\n",
    "        SUM += A    \n",
    "print(SUM)"
   ]
  },
  {
   "cell_type": "code",
   "execution_count": 56,
   "metadata": {},
   "outputs": [
    {
     "name": "stdout",
     "output_type": "stream",
     "text": [
      "\n",
      " Answer: ['1. -5', '2. 1 2 3 -4', '3. \"SUM = A\" -> \"SUM = +A\"; \"print(A)\" -> \"print(SUM)\"']\n"
     ]
    }
   ],
   "source": [
    "answer_dictionary[24]=['1. -5', '2. 1 2 3 -4', \n",
    "                       '3. \"SUM = A\" -> \"SUM = +A\"; \"print(A)\" -> \"print(SUM)\"']\n",
    "print(\"\\n\",\"Answer:\", answer_dictionary[24])"
   ]
  },
  {
   "cell_type": "markdown",
   "metadata": {},
   "source": [
    "<div style=\"width: 800px; height: 810px; overflow:auto;\">\n",
    "    <img src=\"it_images/2017_09_25.png\" width=\"800\" height=\"810\"/>   \n",
    "</div>"
   ]
  },
  {
   "cell_type": "markdown",
   "metadata": {},
   "source": [
    "Дан целочисленный массив из 40 элементов. Элементы массива могут принимать значения от `-10000` до `10000`. Опишите на русском языке или на одном из языков программирования алгоритм, который проверяет, все ли значения элементов массива чётные и положительные. Если да, программа должна вывести `«YES»`, в противном случае — `«NO»`.\n",
    "\n",
    "Исходные данные объявлены так, как показано ниже. Запрещается использовать переменные, не описанные ниже, но разрешается не использовать часть из них.\n",
    "\n",
    "- Объявляем массив A из 40 элементов.\n",
    "\n",
    "- Объявляем целочисленные переменные I, J, K.\n",
    "\n",
    "- В цикле от 1 до 40 вводим элементы массива A с 1-го по 40-й.\n",
    "\n",
    "- …\n",
    "\n",
    "В качестве ответа вам необходимо привести фрагмент программы (или описание алгоритма на естественном языке), который должен находиться на месте многоточия. Вы можете записать решение также на другом языке программирования (укажите название и используемую версию языка программирования, например `Borland Pascal 7.0`) или в виде блок-схемы. В этом случае вы должны использовать те же самые исходные данные и переменные, какие были предложены в условии (например, в образце, записанном на естественном языке).\n",
    "\n",
    "---\n",
    "\n",
    "An integer array of 40 elements is given. Elements of the array can take values from `-10000` to `10000`. Describe in Russian or in one of the programming languages an algorithm that checks whether all the values of array elements are even and positive. If yes, the program should output `\"YES\"`, otherwise `\"NO\"`.\n",
    "\n",
    "The original data is declared as shown below. It is forbidden to use variables not described below, but it is allowed not to use part of them.\n",
    "\n",
    "- Declare an array A of 40 elements.\n",
    "\n",
    "- Declare the integer variables I, J, K.\n",
    "\n",
    "- In the cycle from 1 to 40, we introduce the elements of array A from the 1st to the 40th.\n",
    "\n",
    "- ...\n",
    "\n",
    "As an answer, you need to bring the program fragment (or description of the algorithm in the natural language), which should be in place of the ellipsis. You can also write the solution in another programming language (specify the name and the version of the programming language used, for example, `Borland Pascal 7.0`) or as a flowchart. In this case, you must use the same source data and variables that were proposed in the condition (for example, in a sample written in the natural language)."
   ]
  },
  {
   "cell_type": "code",
   "execution_count": 241,
   "metadata": {},
   "outputs": [
    {
     "name": "stdout",
     "output_type": "stream",
     "text": [
      "Create an array of 40 integer numbers from [-10000, 10000].\n",
      " 2\n",
      " 4\n",
      " 6\n",
      " 8\n",
      " 10\n",
      " 12\n",
      " 14\n",
      " 16\n",
      " 18\n",
      " 20\n",
      " 22\n",
      " 24\n",
      " 26\n",
      " 28\n",
      " 30\n",
      " 32\n",
      " 34\n",
      " 36\n",
      " 38\n",
      " 40\n",
      " 42\n",
      " 44\n",
      " 46\n",
      " 48\n",
      " 50\n",
      " 52\n",
      " 54\n",
      " 500\n",
      " 502\n",
      " 504\n",
      " 600\n",
      " 610\n",
      " 620\n",
      " 630\n",
      " 640\n",
      " 650\n",
      " 660\n",
      " 670\n",
      " 680\n",
      " 690\n",
      "YES\n"
     ]
    }
   ],
   "source": [
    "print(\"Create an array of 40 integer numbers from [-10000, 10000].\")\n",
    "A = numpy.zeros(40)\n",
    "K = 0\n",
    "for I in range(40):\n",
    "    A[I] = int(input(\" \"))\n",
    "    if (A[I] % 2 != 0) or (A[I] <= 0): \n",
    "        K +=1\n",
    "if K == 0:\n",
    "    print('YES')\n",
    "else:\n",
    "    print('NO')"
   ]
  },
  {
   "cell_type": "code",
   "execution_count": 57,
   "metadata": {},
   "outputs": [],
   "source": [
    "import sys\n",
    "version = 'python '+str(sys.version_info[0])+'.'+str(sys.version_info[1])"
   ]
  },
  {
   "cell_type": "code",
   "execution_count": 58,
   "metadata": {},
   "outputs": [],
   "source": [
    "program_fragment = \\\n",
    "\"\"\"\n",
    "print(\"Create an array of 40 integer numbers from [-10000, 10000].\")\n",
    "A = numpy.zeros(40)\n",
    "K = 0\n",
    "for I in range(40):\n",
    "    A[I] = int(input(\" \"))\n",
    "    if (A[I] % 2 != 0) or (A[I] <= 0): \n",
    "        K +=1\n",
    "if K == 0:\n",
    "    print('YES')\n",
    "else:\n",
    "    print('NO')\n",
    "\"\"\""
   ]
  },
  {
   "cell_type": "code",
   "execution_count": 59,
   "metadata": {},
   "outputs": [
    {
     "name": "stdout",
     "output_type": "stream",
     "text": [
      "Answer: ['python 3.6', '\\nprint(\"Create an array of 40 integer numbers from [-10000, 10000].\")\\nA = numpy.zeros(40)\\nK = 0\\nfor I in range(40):\\n    A[I] = int(input(\" \"))\\n    if (A[I] % 2 != 0) or (A[I] <= 0): \\n        K +=1\\nif K == 0:\\n    print(\\'YES\\')\\nelse:\\n    print(\\'NO\\')\\n']\n"
     ]
    }
   ],
   "source": [
    "answer_dictionary[25]=[version, program_fragment]\n",
    "print(\"Answer:\", answer_dictionary[25])"
   ]
  },
  {
   "cell_type": "markdown",
   "metadata": {},
   "source": [
    "<div style=\"width: 800px; height: 700px; overflow:auto;\">\n",
    "    <img src=\"it_images/2017_09_26.png\" width=\"800\" height=\"700\"/>\n",
    "</div>"
   ]
  },
  {
   "cell_type": "markdown",
   "metadata": {},
   "source": [
    "Два игрока, Петя и Ваня, играют в следующую игру. Перед игроками лежит две кучи камней. Игроки ходят по очереди, первый ход делает Петя. Назовём позицией игры указание количества камней в обеих кучах. Например, позиция (15,20) означает, что в первой куче 15 камней, а во второй — 20. За один ход игрок может добавить в одну из куч один камень или увеличить количество камней в одной из куч в два раза. Например, имея количество камней в кучах (15,20), за один ход можно получить положение (16,20), (30,20), (15,21) и (15,40). У каждого игрока, чтобы делать ходы, есть неограниченное количество камней.\n",
    "\n",
    "Игра завершается в тот момент, когда количество камней в обеих кучах (сумма) становится не менее 46. Победителем считается игрок, сделавший последний ход, то есть первым получивший положение, в котором сумма камней в кучах будет 46 или больше камней.\n",
    "\n",
    "Говорят, что игрок имеет выигрышную стратегию, если он может выиграть при любых ходах противника. Описать стратегию игрока - значит описать, какой ход он должен сделать в любой ситуации, которая ему может встретиться при различной игре противника. Например, при начальных позициях (6,20), (5,21), (8,19) выигрышная стратегия есть у Пети. Чтобы выиграть, ему достаточно удвоить количество камней во второй куче.\n",
    "\n",
    "Выполните следующие задания. Во всех случаях обосновывайте свой ответ.\n",
    "\n",
    "1. Для исходных позиций (5,20) и (7,19) укажите, кто из игроков выигрывает. Сколько ходов необходимо для выигрыша? Опишите выигрышную стратегию. Обоснуйте ответ.\n",
    "\n",
    "2. Для исходных позиций (5,19), (6,19) и (7,18) укажите, кто из игроков выигрывает. Сколько ходов необходимо для выигрыша? Опишите выигрышную стратегию. Обоснуйте ответ.\n",
    "\n",
    "3. Для исходной позиции (6,18) укажите, кто из игроков выигрывает. Сколько ходов необходимо для выигрыша? Опишите выигрышную стратегию. Приведите дерево игры. Обоснуйте ответ. На рёбрах дерева указывайте, кто делает ход, в узлах — позицию игры.\n",
    "\n",
    "---\n",
    "\n",
    "Two players, Petya and Vanya, play the next game. There are two heaps of stones in front of the players. Players move by turns, the first step is made by Petya. Let's call the position of the game the indication of the number of stones in both heaps. For example, position (15,20) means that there are 15 stones in the first heap, and 20 in the second one. In one move, a player can add one stone to one of the heaps or double the number of stones in one of the heaps. For example, having the number of stones in heaps (15,20), in one move you can get the position (16,20), (30,20), (15,21) and (15,40). Each player to make moves, there is an unlimited number of stones.\n",
    "\n",
    "The game ends when the number of stones in both heaps (amount) becomes at least 46. The winner is the player who made the last move, that is, the first to receive the position, in which the number of stones in the heaps will be 46 or more stones.\n",
    "\n",
    "It is said that a player has a winning strategy if he can win with any moves of the opponent. To describe a player's strategy is to describe what course he should take in any situation that he can meet in a different game of the opponent. For example, with the starting positions (6,20), (5,21), (8,19) winning strategy is in Petya. To win, it is enough for him to double the number of stones in the second heap.\n",
    "\n",
    "Complete the following tasks. In all cases, justify your answer.\n",
    "\n",
    "1. For starting positions (5,20) and (7,19), indicate which player wins. How many moves do you need to win? Describe a winning strategy. Justify the answer.\n",
    "\n",
    "2. For starting positions (5,19), (6,19) and (7,18), indicate which player wins. How many moves do you need to win? Describe a winning strategy. Justify the answer.\n",
    "\n",
    "3. For the starting position (6,18), indicate which player wins. How many moves do you need to win? Describe a winning strategy. Draw the tree of the game. Justify the answer. On the edges of the tree indicate who is making the move, in the nodes - the position of the game."
   ]
  },
  {
   "cell_type": "markdown",
   "metadata": {},
   "source": [
    "### Решение\n",
    "### 1.\n",
    "Первый ход делает Петя.\n",
    "\n",
    "а) Из позиции (5,20) он может получить одну из позиций {(6,20), (10,20), (5,21), (5,40)}. В любой из них сумма камней меньше 46. => Ни одна не является выигрышной.\n",
    "\n",
    "б) Из позиции (7,19) он может получить одну из позиций {(8,19), (14,19), (7,20), (7,38)}. В любой из них сумма камней меньше 46. => Ни одна не является выигрышной.\n",
    "\n",
    "Следующий ход делает Ваня.\n",
    "\n",
    "а) Для любой из позиций после хода Пети Ваня выигрывает: {(6,20)-> (6,40), (10,20)->(10,40), (5,21)->(5,42), (5,40)->(5,80)}. Ему достаточно удвоить количество камней в одной из куч, сумма камней становится >= 46.\n",
    "\n",
    "б) Аналогично: {(8,19)-> (8,38), (14,19)->(14,38), (7,20)->(7,40), (7,38)->(7,76)}.\n",
    "\n",
    "Значит, у Вани имеется выигрышная стратегия. Он побеждает при любой из двух начальных позиций, какой бы ход ни выбрал Петя.\n",
    "\n",
    "### 2.\n",
    "При стартовых позициях (5,19), (6,19), (7,18) у Пети имеется выигрышная стратегия.\n",
    "\n",
    "Первый ход делает Петя, добавляя один камень: (5,19) -> (5,20), (6,19) -> (7,19), (7,18) -> (7,19).\n",
    "\n",
    "Следующий ход делает Ваня: (5,20) -> {(6,20), (10,20), (5,21), (5,40)}; (7,19) -> {(8,19), (14,19), (7,20), (7,38)}. Все позиции проигрышные.\n",
    "\n",
    "Петя при любом из выбранных Ваней вариантов выигрывает, удваивая количество камней: {(6,20) -> (6,40), (10,20) -> (10,40), (5,21) -> (5,42), (5,40) -> (5,80), (8,19) -> (8,38), (14,19) -> (14,38), (7,20) -> (7,40), (7,38) -> (7,76)}.\n",
    "\n",
    "### 3.\n",
    "При стартовой позиции (6,18) у Вани имеется выигрышная стратегия:\n",
    "\n",
    "Первые ходы игроков:\n",
    "\n",
    "Если Петя удваивает количество камней и получает (12,18) или (6,36), то Ване достаточно также удвоить их при следующем ходе и получить (12,36) или (6,72). Ваня побеждает.\n",
    "\n",
    "Если Петя добавляет один камень и получает (7,18) или (6,19), то Ваня пока победить не может. Однако он не должен допустить победы соперника. Ваня может добавить один камень в любой из этих позиций и перейти в (7,19).\n",
    "\n",
    "Вторые ходы игроков:\n",
    "\n",
    "Какой бы ход не сделал Петя (8,19), (14,19), (7,20) или (7,38), он выиграть не сможет. А Ване достаточно удвоить количество камней при следующем ходе и получить (8,38), (14,38), (7,40) или (7,76). Ваня побеждает."
   ]
  },
  {
   "cell_type": "markdown",
   "metadata": {},
   "source": [
    "### Decision\n",
    "### 1.\n",
    "The first move is made by Petya.\n",
    "\n",
    "   - a) From the position (5,20) he can get one of the positions {(6,20), (10,20), (5,21), (5,40)}. In any of them the sum of the stones is less than 46. => None is winning.    \n",
    "   \n",
    "   - b) From the position (7,19) he can obtain one of the positions {(8,19), (14,19), (7,20), (7,38)}. In any of them the sum of the stones is less than 46. => None is winning.     \n",
    "   \n",
    "The next move is made by Vanya.\n",
    "\n",
    "   - a) For any of the positions after Petya's move, Vanya wins:     {(6,20)-> (6,40), (10,20)->(10,40), (5,21)->(5,42), (5,40)->(5,80)}. It is enough for him to double the number of stones in one of the piles, the amount of stones becomes >= 46.    \n",
    "   \n",
    "   - b) Similarly: {(8,19)-> (8,38), (14,19)->(14,38), (7,20)->(7,40), (7,38)->(7,76)}.       \n",
    "   \n",
    "Hence, Vanya has a winning strategy. He wins at any of two initial positions, no matter what decision Petya has made.\n",
    "\n",
    "### 2.\n",
    "With starting positions (5,19), (6,19), (7,18) Petya has a winning strategy.\n",
    "\n",
    "Petya makes the first move, adding one stone: (5,19) -> (5,20), (6,19) -> (7,19), (7,18) -> (7,19).\n",
    "\n",
    "The next move is made Vanya: (5,20) -> {(6,20), (10,20), (5,21), (5,40)}; (7,19) -> {(8,19), (14,19), (7,20), (7,38)}. All positions are losing.\n",
    "\n",
    "Petya wins for any of the chosen Vanya variants, doubling the number of stones: {(6,20) -> (6,40), (10,20) -> (10,40), (5,21) -> (5,42), (5,40) -> (5,80), (8,19) -> (8,38), (14,19) -> (14,38), (7,20) -> (7,40), (7,38) -> (7,76)}.\n",
    "\n",
    "### 3.\n",
    "With the starting position (6,18), Vanya has a winning strategy:\n",
    "\n",
    "The first moves of players:\n",
    "\n",
    "If Petya doubles the number of stones and gets (12,18) or (6,36), then it's enough for Vanya to double them in the next move and get (12,36) or (6,72). Vanya wins.\n",
    "\n",
    "If Petya adds one stone and receives (7,18) or (6,19), then Vanya cannot win yet. However, he should not allow the opponent to win. Vanya can add one stone to any of these positions and go to (7,19).\n",
    "\n",
    "The second moves of the players:\n",
    "\n",
    "Whichever move Petya (8,19), (14,19), (7,20) or (7,38) does, he cannot win. And it's enough for Vanya to double the number of stones at the next step and get (8,38), (14,38), (7,40) or (7,76). Vanya wins."
   ]
  },
  {
   "cell_type": "code",
   "execution_count": 64,
   "metadata": {},
   "outputs": [
    {
     "data": {
      "image/png": "[encoded data removed]",
      "text/plain": [
       "<matplotlib.figure.Figure at 0x10b4597f0>"
      ]
     },
     "metadata": {},
     "output_type": "display_data"
    }
   ],
   "source": [
    "import pydot\n",
    "from networkx.drawing.nx_pydot import graphviz_layout\n",
    "\n",
    "plt.figure(figsize=(18,12))\n",
    "\n",
    "G4 = nx.MultiDiGraph()\n",
    "\n",
    "G4.add_edges_from([('6|18','7|18'),('6|18','12|18'),('6|18','6|19'),('6|18','6|36')])\n",
    "G4.add_edges_from([('7|18','7|19')])\n",
    "G4.add_edges_from([('12|18','12|36')])\n",
    "G4.add_edges_from([('6|19','7|19')])\n",
    "G4.add_edges_from([('6|36','6|72')])\n",
    "G4.add_edges_from([('7|19','8|19'),('7|19','14|19'),('7|19','7|20'),('7|19','7|38')])\n",
    "G4.add_edges_from([('8|19','8|38')])\n",
    "G4.add_edges_from([('14|19','14|38')])\n",
    "G4.add_edges_from([('7|20','7|40')])\n",
    "G4.add_edges_from([('7|38','7|76')])\n",
    "\n",
    "pos = graphviz_layout(G4, prog='dot')\n",
    "\n",
    "edge_labels={('6|18','7|18'):'P +1', ('6|18','12|18'):'P *2', \n",
    "             ('6|18','6|19'):'P +1', ('6|18','6|36'):'P *2', \n",
    "             ('7|18','7|19'):'V +1', ('12|18','12|36'):'V *2',\n",
    "             ('6|19','7|19'):'V +1', ('6|36','6|72'):'V *2',\n",
    "             ('7|19','8|19'):'P +1', ('7|19','14|19'):'P *2', \n",
    "             ('7|19','7|20'):'P +1', ('7|19','7|38'):'P *2',\n",
    "             ('8|19','8|38'):'V *2', ('14|19','14|38'):'V *2',\n",
    "             ('7|20','7|40'):'V *2', ('7|38','7|76'):'V *2'}\n",
    "\n",
    "node_colors=['coral','lightsteelblue','lightsteelblue','lightsteelblue','lightsteelblue',\n",
    "             'lightsteelblue','lightgreen','lightgreen','lightsteelblue','lightsteelblue',\n",
    "             'lightsteelblue','lightsteelblue','lightgreen','lightgreen','lightgreen','lightgreen']\n",
    "\n",
    "\n",
    "nx.draw_networkx_edges(G4, pos, width=3, alpha=0.5, edge_color='slategray',\n",
    "                       arrowsize=30, arrowstyle='-|>')\n",
    "nx.draw_networkx_nodes(G4, pos, node_size=2000, node_shape='h', node_color=node_colors)\n",
    "\n",
    "nx.draw_networkx_edge_labels(G4, pos, edge_labels, label_pos=0.4,\n",
    "                             font_size=20, font_weight='bold')\n",
    "nx.draw_networkx_labels(G4, pos, font_size=15, font_weight='bold')\n",
    "\n",
    "plt.axis('off')            \n",
    "plt.show()"
   ]
  },
  {
   "cell_type": "code",
   "execution_count": 65,
   "metadata": {},
   "outputs": [
    {
     "name": "stdout",
     "output_type": "stream",
     "text": [
      "Answer: ['1. Vanya wins at his first step', '2. Petya wins at his second step', '3. Vanya wins at his first or second step']\n"
     ]
    }
   ],
   "source": [
    "answer_dictionary[26]=['1. Vanya wins at his first step', \n",
    "                       '2. Petya wins at his second step', \n",
    "                       '3. Vanya wins at his first or second step']\n",
    "print(\"Answer:\", answer_dictionary[26])"
   ]
  },
  {
   "cell_type": "markdown",
   "metadata": {},
   "source": [
    "<div style=\"width: 800px; height: 400px; overflow:auto;\">\n",
    "    <img src=\"it_images/2017_09_27.png\" width=\"800\" height=\"400\"/>\n",
    "</div>"
   ]
  },
  {
   "cell_type": "markdown",
   "metadata": {},
   "source": [
    "На вход программе подаётся: в первой строке — число $N \\ (5 < N < 10^9)$.\n",
    "\n",
    "В каждой из последующих N строк — по одному элементу последовательности — натуральные числа, не превышающее $10^9$.\n",
    "\n",
    "Напишите эффективную, в том числе и по используемой памяти, программу (укажите используемую версию языка программирования, например, `Borland Pascal 7.0`), которая выводит на экран максимальную сумму двух элементов этой последовательности, номера которых различаются не меньше чем на 5.\n",
    "\n",
    "Пример входных данных:\n",
    "\n",
    "8\n",
    "\n",
    "3\n",
    "\n",
    "4\n",
    "\n",
    "5\n",
    "\n",
    "7\n",
    "\n",
    "8\n",
    "\n",
    "3\n",
    "\n",
    "2\n",
    "\n",
    "9\n",
    "\n",
    "Пример выходных данных:\n",
    "\n",
    "14\n",
    "\n",
    "---\n",
    "\n",
    "The input is given to the program: the first line contains the number $N \\ (5 <N <10^9)$.\n",
    "\n",
    "In each of the next N lines - one element of the sequence - natural numbers not exceeding $10^9$.\n",
    "\n",
    "Write an effective program (including the version of the programming language used, for example, `Borland Pascal 7.0`), which displays the maximum sum of two elements of this sequence, the numbers of which differ by no less than 5.\n",
    "\n",
    "Example of an input:\n",
    "\n",
    "8\n",
    "\n",
    "3\n",
    "\n",
    "4\n",
    "\n",
    "5\n",
    "\n",
    "7\n",
    "\n",
    "8\n",
    "\n",
    "3\n",
    "\n",
    "2\n",
    "\n",
    "9\n",
    "\n",
    "Example of an output:\n",
    "\n",
    "14"
   ]
  },
  {
   "cell_type": "code",
   "execution_count": 258,
   "metadata": {},
   "outputs": [
    {
     "name": "stdout",
     "output_type": "stream",
     "text": [
      "-=-=-=-=-=-=-=-=-=-=-=-=-=-=-=-=-=-=-=-=-=-=-=-=-=-=-=-=-=-=-=-=-=-=-=-=-=-=-=-=-=-=-=-=-= \n",
      "\n",
      "Количество чисел последовательности: \n",
      "20\n",
      "-=-=-=-=-=-=-=-=-=-=-=-=-=-=-=-=-=-=-=-=-=-=-=-=-=-=-=-=-=-=-=-=-=-=-=-=-=-=-=-=-=-=-=-=-= \n",
      "\n",
      "Последовательность натуральных чисел:\n",
      " 2\n",
      " 4\n",
      " 6\n",
      " 8\n",
      " 10\n",
      " 20\n",
      " 30\n",
      " 40\n",
      " 50\n",
      " 60\n",
      " 70\n",
      " 80\n",
      " 90\n",
      " 3\n",
      " 5\n",
      " 7\n",
      " 9\n",
      " 11\n",
      " 13\n",
      " 15\n",
      "-=-=-=-=-=-=-=-=-=-=-=-=-=-=-=-=-=-=-=-=-=-=-=-=-=-=-=-=-=-=-=-=-=-=-=-=-=-=-=-=-=-=-=-=-= \n",
      "\n",
      "Максимальная сумма двух элементов, номера которых различаются не меньше чем на 5: \n",
      "130\n"
     ]
    }
   ],
   "source": [
    "line = 45*'-='\n",
    "print(line,'\\n')\n",
    "N = int(input('Количество чисел последовательности: \\n'))\n",
    "print(line,'\\n')\n",
    "print('Последовательность натуральных чисел:')\n",
    "\n",
    "A = numpy.zeros(N)\n",
    "MAX = 0\n",
    "\n",
    "for I in range(5):\n",
    "    A[I] = int(input(\" \"))\n",
    "    \n",
    "for K in range(5, N):\n",
    "    A[K] = int(input(\" \"))\n",
    "    if MAX < A[K] + A[K-5]:\n",
    "        MAX = A[K] + A[K-5]\n",
    "        \n",
    "print(line,'\\n')\n",
    "print('Максимальная сумма двух элементов, номера которых различаются не меньше чем на 5: \\n'+str(int(MAX)))"
   ]
  },
  {
   "cell_type": "code",
   "execution_count": 66,
   "metadata": {},
   "outputs": [],
   "source": [
    "program=\\\n",
    "\"\"\"\n",
    "line = 45*'-='\n",
    "print(line,'\\n')\n",
    "N = int(input('Количество чисел последовательности: \\n'))\n",
    "print(line,'\\n')\n",
    "print('Последовательность натуральных чисел:')\n",
    "\n",
    "A = numpy.zeros(N)\n",
    "MAX = 0\n",
    "\n",
    "for I in range(5):\n",
    "    A[I] = int(input(\" \"))\n",
    "    \n",
    "for K in range(5, N):\n",
    "    A[K] = int(input(\" \"))\n",
    "    if MAX < A[K] + A[K-5]:\n",
    "        MAX = A[K] + A[K-5]\n",
    "        \n",
    "print(line,'\\n')\n",
    "print('Максимальная сумма двух элементов, номера которых различаются не меньше чем на 5: \\n'+str(int(MAX)))\n",
    "\"\"\""
   ]
  },
  {
   "cell_type": "code",
   "execution_count": 67,
   "metadata": {},
   "outputs": [
    {
     "name": "stdout",
     "output_type": "stream",
     "text": [
      "Answer: ['python 3.6', '\\nline = 45*\\'-=\\'\\nprint(line,\\'\\n\\')\\nN = int(input(\\'Количество чисел последовательности: \\n\\'))\\nprint(line,\\'\\n\\')\\nprint(\\'Последовательность натуральных чисел:\\')\\n\\nA = numpy.zeros(N)\\nMAX = 0\\n\\nfor I in range(5):\\n    A[I] = int(input(\" \"))\\n    \\nfor K in range(5, N):\\n    A[K] = int(input(\" \"))\\n    if MAX < A[K] + A[K-5]:\\n        MAX = A[K] + A[K-5]\\n        \\nprint(line,\\'\\n\\')\\nprint(\\'Максимальная сумма двух элементов, номера которых различаются не меньше чем на 5: \\n\\'+str(int(MAX)))\\n']\n"
     ]
    }
   ],
   "source": [
    "answer_dictionary[27]=[version, program]\n",
    "print(\"Answer:\", answer_dictionary[27])"
   ]
  },
  {
   "cell_type": "markdown",
   "metadata": {},
   "source": [
    "## Ответы &nbsp; Answers"
   ]
  },
  {
   "cell_type": "code",
   "execution_count": 68,
   "metadata": {},
   "outputs": [
    {
     "data": {
      "text/plain": [
       "{1: '900',\n",
       " 2: '13',\n",
       " 3: '13',\n",
       " 4: '12',\n",
       " 5: 'ABCA',\n",
       " 6: 38,\n",
       " 7: '1',\n",
       " 8: '33',\n",
       " 9: '10',\n",
       " 10: '1200',\n",
       " 11: '25',\n",
       " 12: '240',\n",
       " 13: '1000',\n",
       " 14: '22',\n",
       " 15: '18',\n",
       " 16: '333',\n",
       " 17: '7',\n",
       " 18: '24',\n",
       " 19: '8',\n",
       " 20: '100',\n",
       " 21: '128',\n",
       " 22: '44',\n",
       " 23: '55',\n",
       " 24: ['1. -5',\n",
       "  '2. 1 2 3 -4',\n",
       "  '3. \"SUM = A\" -> \"SUM = +A\"; \"print(A)\" -> \"print(SUM)\"'],\n",
       " 25: ['python 3.6',\n",
       "  '\\nprint(\"Create an array of 40 integer numbers from [-10000, 10000].\")\\nA = numpy.zeros(40)\\nK = 0\\nfor I in range(40):\\n    A[I] = int(input(\" \"))\\n    if (A[I] % 2 != 0) or (A[I] <= 0): \\n        K +=1\\nif K == 0:\\n    print(\\'YES\\')\\nelse:\\n    print(\\'NO\\')\\n'],\n",
       " 26: ['1. Vanya wins at his first step',\n",
       "  '2. Petya wins at his second step',\n",
       "  '3. Vanya wins at his first or second step'],\n",
       " 27: ['python 3.6',\n",
       "  '\\nline = 45*\\'-=\\'\\nprint(line,\\'\\n\\')\\nN = int(input(\\'Количество чисел последовательности: \\n\\'))\\nprint(line,\\'\\n\\')\\nprint(\\'Последовательность натуральных чисел:\\')\\n\\nA = numpy.zeros(N)\\nMAX = 0\\n\\nfor I in range(5):\\n    A[I] = int(input(\" \"))\\n    \\nfor K in range(5, N):\\n    A[K] = int(input(\" \"))\\n    if MAX < A[K] + A[K-5]:\\n        MAX = A[K] + A[K-5]\\n        \\nprint(line,\\'\\n\\')\\nprint(\\'Максимальная сумма двух элементов, номера которых различаются не меньше чем на 5: \\n\\'+str(int(MAX)))\\n']}"
      ]
     },
     "execution_count": 68,
     "metadata": {},
     "output_type": "execute_result"
    }
   ],
   "source": [
    "answer_dictionary"
   ]
  }
 ],
 "metadata": {
  "kernelspec": {
   "display_name": "Python 3",
   "language": "python",
   "name": "python3"
  },
  "language_info": {
   "codemirror_mode": {
    "name": "ipython",
    "version": 3
   },
   "file_extension": ".py",
   "mimetype": "text/x-python",
   "name": "python",
   "nbconvert_exporter": "python",
   "pygments_lexer": "ipython3",
   "version": "3.6.4"
  }
 },
 "nbformat": 4,
 "nbformat_minor": 2
}
