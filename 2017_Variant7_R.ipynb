{
 "cells": [
  {
   "cell_type": "markdown",
   "metadata": {},
   "source": [
    "# ЕГЭ 2017 Вариант 7 &nbsp; &nbsp; &nbsp; EGE 2017 Variant 7\n",
    "[ЕГЭ-2017. Информатика.10 тренировочных вариантов. Ушаков Д.М.](https://drive.google.com/file/d/0B6696ckkWj_zS2ptblAxNERHZzQ/view)\n",
    "\n",
    "[Basic Regular Expressions in R Cheatsheet](https://www.rstudio.com/wp-content/uploads/2016/09/RegExCheatsheet.pdf)\n",
    "\n",
    "[DataFlair: R Tutorials](https://data-flair.training/blogs/category/r/)\n",
    "\n",
    "[Алгоритм Шеннона — Фано](https://ru.wikipedia.org/wiki/%D0%90%D0%BB%D0%B3%D0%BE%D1%80%D0%B8%D1%82%D0%BC_%D0%A8%D0%B5%D0%BD%D0%BD%D0%BE%D0%BD%D0%B0_%E2%80%94_%D0%A4%D0%B0%D0%BD%D0%BE)\n",
    "\n",
    "[IPv4 - Address Classes](https://www.tutorialspoint.com/ipv4/ipv4_address_classes.htm)\n",
    "\n",
    "[Basic and advanced network visualization with R](http://www.kateto.net/wp-content/uploads/2016/04/Sunbelt%202016%20R%20Network%20Visualization%20Handout.pdf)\n",
    "\n",
    "[What is a Subnet Mask?](https://www.iplocation.net/subnet-mask)\n",
    "\n",
    "[Network Engineering Stack Exchange](https://networkengineering.stackexchange.com/questions/7106/how-do-you-calculate-the-prefix-network-subnet-and-host-numbers)"
   ]
  },
  {
   "cell_type": "code",
   "execution_count": 112,
   "metadata": {},
   "outputs": [],
   "source": [
    "library(IRdisplay)\n",
    "library(repr)\n",
    "library(hash)\n",
    "library(numbers)\n",
    "library(e1071)\n",
    "library(igraph)\n",
    "library(VennDiagram)"
   ]
  },
  {
   "cell_type": "code",
   "execution_count": 113,
   "metadata": {},
   "outputs": [],
   "source": [
    "# install.packages(\"\")"
   ]
  },
  {
   "cell_type": "code",
   "execution_count": 114,
   "metadata": {},
   "outputs": [],
   "source": [
    "answer_dictionary <- hash()"
   ]
  },
  {
   "cell_type": "code",
   "execution_count": 115,
   "metadata": {},
   "outputs": [
    {
     "data": {
      "text/html": [
       "<style>\n",
       "@import url('https://fonts.googleapis.com/css?family=Roboto&effect=3d|fire-animation|canvas-print|brick-sign');\n",
       "body {background-color: aliceblue;} \n",
       "a {color: #4876ff; font-family: 'Roboto';} \n",
       "h1 {color: #348ABD; font-family: 'Roboto'; text-shadow: 4px 4px 4px #aaa;} \n",
       "h2, h3 {color: gray; font-family: 'Roboto'; text-shadow: 4px 4px 4px #aaa;}\n",
       "h4 {color: #348ABD; font-family: 'Roboto';}\n",
       "span {text-shadow: 4px 4px 4px #aaa;}\n",
       "div.output_prompt, div.output_area pre, div.output_subarea {color: gray;}\n",
       "div.input_prompt {color: #4876ff;}      \n",
       "div.output_stderr pre {background-color: aliceblue;}  \n",
       "div.output_stderr {background-color: gray;}                        \n",
       "</style>"
      ]
     },
     "metadata": {},
     "output_type": "display_data"
    }
   ],
   "source": [
    "display_html(\"<style>\n",
    "@import url('https://fonts.googleapis.com/css?family=Roboto&effect=3d|fire-animation|canvas-print|brick-sign');\n",
    "body {background-color: aliceblue;} \n",
    "a {color: #4876ff; font-family: 'Roboto';} \n",
    "h1 {color: #348ABD; font-family: 'Roboto'; text-shadow: 4px 4px 4px #aaa;} \n",
    "h2, h3 {color: gray; font-family: 'Roboto'; text-shadow: 4px 4px 4px #aaa;}\n",
    "h4 {color: #348ABD; font-family: 'Roboto';}\n",
    "span {text-shadow: 4px 4px 4px #aaa;}\n",
    "div.output_prompt, div.output_area pre, div.output_subarea {color: gray;}\n",
    "div.input_prompt {color: #4876ff;}      \n",
    "div.output_stderr pre {background-color: aliceblue;}  \n",
    "div.output_stderr {background-color: gray;}                        \n",
    "</style>\")"
   ]
  },
  {
   "cell_type": "markdown",
   "metadata": {},
   "source": [
    "## Часть 1 &nbsp; &nbsp; &nbsp; Part 1\n",
    "## 1.\n",
    "Число Х в шестнадцатеричной системе счисления оканчивается на 9<sub>16</sub>, \n",
    "\n",
    "а в восьмеричной системе счисления - трехзначное и начинается на 23<sub>8</sub>. \n",
    "\n",
    "Укажите это число в десятичной системе.\n",
    "\n",
    "---\n",
    "\n",
    "The number X in the hexadecimal notation system ends at 9<sub>16</sub>, \n",
    "\n",
    "and in the octal system - three-digit and starts at 23<sub>8</sub>. \n",
    "\n",
    "Specify this number in the decimal system."
   ]
  },
  {
   "cell_type": "code",
   "execution_count": 116,
   "metadata": {},
   "outputs": [],
   "source": [
    "options(scipen = 999)\n",
    "oct2dec <- function(n) {\n",
    "  return(sapply(strsplit(as.character(n),split=\"\"), \n",
    "                function(x) sum(as.numeric(x) * 8 ** (rev(seq_along(x) - 1)))))\n",
    "}"
   ]
  },
  {
   "cell_type": "code",
   "execution_count": 117,
   "metadata": {},
   "outputs": [
    {
     "data": {
      "text/html": [
       "9"
      ],
      "text/latex": [
       "9"
      ],
      "text/markdown": [
       "9"
      ],
      "text/plain": [
       "[1] 9"
      ]
     },
     "metadata": {},
     "output_type": "display_data"
    }
   ],
   "source": [
    "# 9_16 = 0x9\n",
    "# from hexadecimal to decimal\n",
    "# should be the same for hexadecimal numbers < 10\n",
    "as.integer(sprintf(\"%d\", 0x9))"
   ]
  },
  {
   "cell_type": "code",
   "execution_count": 118,
   "metadata": {},
   "outputs": [
    {
     "data": {
      "text/html": [
       "'11'"
      ],
      "text/latex": [
       "'11'"
      ],
      "text/markdown": [
       "'11'"
      ],
      "text/plain": [
       "[1] \"11\""
      ]
     },
     "metadata": {},
     "output_type": "display_data"
    }
   ],
   "source": [
    "# from decimal to octal\n",
    "# 9 = 1 * 8^1 + 1 * 8^0\n",
    "format(as.octmode(9))"
   ]
  },
  {
   "cell_type": "code",
   "execution_count": 119,
   "metadata": {},
   "outputs": [
    {
     "data": {
      "text/html": [
       "153"
      ],
      "text/latex": [
       "153"
      ],
      "text/markdown": [
       "153"
      ],
      "text/plain": [
       "[1] 153"
      ]
     },
     "metadata": {},
     "output_type": "display_data"
    }
   ],
   "source": [
    "# the last figure = 1 => '231' in the octal system\n",
    "# from octal to decimal\n",
    "# 153 = 2 * 8^2 + 3 * 8^1 + 1 * 8^0\n",
    "oct2dec('231')"
   ]
  },
  {
   "cell_type": "code",
   "execution_count": 120,
   "metadata": {},
   "outputs": [],
   "source": [
    "answer_dictionary[1] <- toString(oct2dec('231'))"
   ]
  },
  {
   "cell_type": "markdown",
   "metadata": {},
   "source": [
    "## 2.\n",
    "Логическая функция F задается задается выражением $(z \\land x) \\lor ((\\neg x) \\land \\neg y)$.\n",
    "\n",
    "Определите, какому столбцу таблицы истинности функции F соответствует каждая из переменных $x, y, z$.\n",
    "\n",
    "The logical function F is given by the expression $(z \\land x) \\lor ((\\neg x) \\land \\neg y)$.\n",
    "\n",
    "Determine which column of the truth table of the function F corresponds to each of the variables $x, y, z$. \n",
    "\n",
    "| Перем. 1 | Перем. 2 | Перем. 3 | Функция |\n",
    "| - | - | - | - |\n",
    "| Variable 1| Variable 2 | Variable 3 | Function |\n",
    "| ??? | ??? | ??? | F|\n",
    "| 0 | 0 | 0 | 1 |\n",
    "| 0 | 0 | 1 | 0 |\n",
    "| 0 | 1 | 0 | 0 |\n",
    "| 0 | 1 | 1 | 0 |\n",
    "| 1 | 0 | 0 | 1 |\n",
    "| 1 | 0 | 1 | 0 |\n",
    "| 1 | 1 | 0 | 1 |\n",
    "| 1 | 1 | 1 | 1 |\n",
    "\n",
    "В ответе напишите буквы $x, y, z$ в том порядке, в котором идут соответствующие им столбцы \n",
    "\n",
    "(сначала — буква, соответствующая 1-му столбцу; затем — буква, соответствующая 2-му столбцу; затем — буква, соответствующая 3-му столбцу). \n",
    "\n",
    "Букве в ответе пишите подряд, никаких разделителей между буквами ставить не нужно.\n",
    "\n",
    "In the answer, write the letters $x, y, z$ in the order in which the corresponding columns go \n",
    "\n",
    "(at first, the letter corresponding to the 1st column, then the letter corresponding to the 2nd column, then the letter corresponding to the 3rd column). \n",
    "\n",
    "Write an answer in a row, delimiters between the letters are not necessary.\n",
    "\n",
    "_Пример_\n",
    "\n",
    "Пусть задано выражение $x \\to y$, зависящее от двух переменных $x$ и $y$, и таблица истинности:\n",
    "\n",
    "_Example_\n",
    "\n",
    "The expression $x \\to y$ is given. It depends on two variables $x$ and $y$, and the truth table is:\n",
    "\n",
    "| Перем. 1 | Перем. 2 | Функция |\n",
    "| - | - | - |\n",
    "| Variable 1| Variable 2 | Function |\n",
    "| ??? | ??? | F |\n",
    "| 0 | 0 | 1 | \n",
    "| 1 | 0 | 1 |\n",
    "| 0 | 1 | 0 |\n",
    "| 1 | 1 | 1 |\n",
    "\n",
    "Тогда 1-му столбцу соответствует переменная $y$, а 2-му столбцу соответствует переменная $x$. В ответе нужно написать: $yx$.\n",
    "\n",
    "---\n",
    "\n",
    "Then the first column corresponds to the variable $y$, and the second column corresponds to the variable $x$. The answer is $yx$."
   ]
  },
  {
   "cell_type": "code",
   "execution_count": 121,
   "metadata": {},
   "outputs": [
    {
     "data": {
      "text/html": [
       "<table>\n",
       "<tbody>\n",
       "\t<tr><td>0</td><td>0</td><td>0</td></tr>\n",
       "\t<tr><td>0</td><td>0</td><td>1</td></tr>\n",
       "\t<tr><td>0</td><td>1</td><td>0</td></tr>\n",
       "\t<tr><td>0</td><td>1</td><td>1</td></tr>\n",
       "\t<tr><td>1</td><td>0</td><td>0</td></tr>\n",
       "\t<tr><td>1</td><td>0</td><td>1</td></tr>\n",
       "\t<tr><td>1</td><td>1</td><td>0</td></tr>\n",
       "\t<tr><td>1</td><td>1</td><td>1</td></tr>\n",
       "</tbody>\n",
       "</table>\n"
      ],
      "text/latex": [
       "\\begin{tabular}{lll}\n",
       "\t 0 & 0 & 0\\\\\n",
       "\t 0 & 0 & 1\\\\\n",
       "\t 0 & 1 & 0\\\\\n",
       "\t 0 & 1 & 1\\\\\n",
       "\t 1 & 0 & 0\\\\\n",
       "\t 1 & 0 & 1\\\\\n",
       "\t 1 & 1 & 0\\\\\n",
       "\t 1 & 1 & 1\\\\\n",
       "\\end{tabular}\n"
      ],
      "text/markdown": [
       "\n",
       "| 0 | 0 | 0 | \n",
       "| 0 | 0 | 1 | \n",
       "| 0 | 1 | 0 | \n",
       "| 0 | 1 | 1 | \n",
       "| 1 | 0 | 0 | \n",
       "| 1 | 0 | 1 | \n",
       "| 1 | 1 | 0 | \n",
       "| 1 | 1 | 1 | \n",
       "\n",
       "\n"
      ],
      "text/plain": [
       "     [,1] [,2] [,3]\n",
       "[1,] 0    0    0   \n",
       "[2,] 0    0    1   \n",
       "[3,] 0    1    0   \n",
       "[4,] 0    1    1   \n",
       "[5,] 1    0    0   \n",
       "[6,] 1    0    1   \n",
       "[7,] 1    1    0   \n",
       "[8,] 1    1    1   "
      ]
     },
     "metadata": {},
     "output_type": "display_data"
    }
   ],
   "source": [
    "bc <- bincombinations(3)\n",
    "bc"
   ]
  },
  {
   "cell_type": "code",
   "execution_count": 122,
   "metadata": {},
   "outputs": [],
   "source": [
    "F_values <- c(1,0,0,0,1,0,1,1)\n",
    "F <- function(x, y, z) {\n",
    "    return((z & x) | ((!x) & !y)) \n",
    "}"
   ]
  },
  {
   "cell_type": "code",
   "execution_count": 123,
   "metadata": {},
   "outputs": [
    {
     "data": {
      "text/html": [
       "<ol class=list-inline>\n",
       "\t<li>TRUE</li>\n",
       "\t<li>FALSE</li>\n",
       "\t<li>TRUE</li>\n",
       "\t<li>TRUE</li>\n",
       "\t<li>FALSE</li>\n",
       "\t<li>FALSE</li>\n",
       "\t<li>FALSE</li>\n",
       "\t<li>TRUE</li>\n",
       "</ol>\n"
      ],
      "text/latex": [
       "\\begin{enumerate*}\n",
       "\\item TRUE\n",
       "\\item FALSE\n",
       "\\item TRUE\n",
       "\\item TRUE\n",
       "\\item FALSE\n",
       "\\item FALSE\n",
       "\\item FALSE\n",
       "\\item TRUE\n",
       "\\end{enumerate*}\n"
      ],
      "text/markdown": [
       "1. TRUE\n",
       "2. FALSE\n",
       "3. TRUE\n",
       "4. TRUE\n",
       "5. FALSE\n",
       "6. FALSE\n",
       "7. FALSE\n",
       "8. TRUE\n",
       "\n",
       "\n"
      ],
      "text/plain": [
       "[1]  TRUE FALSE  TRUE  TRUE FALSE FALSE FALSE  TRUE"
      ]
     },
     "metadata": {},
     "output_type": "display_data"
    }
   ],
   "source": [
    "# xyz\n",
    "result_xyz <- vector(length=8)\n",
    "for (j in 1:8) {\n",
    "    result_xyz[j] <- F(bc[j,1],bc[j,2],bc[j,3])\n",
    "}\n",
    "result_xyz == F_values"
   ]
  },
  {
   "cell_type": "code",
   "execution_count": 124,
   "metadata": {},
   "outputs": [
    {
     "data": {
      "text/html": [
       "<ol class=list-inline>\n",
       "\t<li>TRUE</li>\n",
       "\t<li>TRUE</li>\n",
       "\t<li>FALSE</li>\n",
       "\t<li>TRUE</li>\n",
       "\t<li>FALSE</li>\n",
       "\t<li>TRUE</li>\n",
       "\t<li>TRUE</li>\n",
       "\t<li>TRUE</li>\n",
       "</ol>\n"
      ],
      "text/latex": [
       "\\begin{enumerate*}\n",
       "\\item TRUE\n",
       "\\item TRUE\n",
       "\\item FALSE\n",
       "\\item TRUE\n",
       "\\item FALSE\n",
       "\\item TRUE\n",
       "\\item TRUE\n",
       "\\item TRUE\n",
       "\\end{enumerate*}\n"
      ],
      "text/markdown": [
       "1. TRUE\n",
       "2. TRUE\n",
       "3. FALSE\n",
       "4. TRUE\n",
       "5. FALSE\n",
       "6. TRUE\n",
       "7. TRUE\n",
       "8. TRUE\n",
       "\n",
       "\n"
      ],
      "text/plain": [
       "[1]  TRUE  TRUE FALSE  TRUE FALSE  TRUE  TRUE  TRUE"
      ]
     },
     "metadata": {},
     "output_type": "display_data"
    }
   ],
   "source": [
    "# xzy\n",
    "result_xzy <- vector(length=8)\n",
    "for (j in 1:8) {\n",
    "    result_xzy[j] <- F(bc[j,1],bc[j,3],bc[j,2])\n",
    "}\n",
    "result_xzy == F_values"
   ]
  },
  {
   "cell_type": "code",
   "execution_count": 125,
   "metadata": {},
   "outputs": [
    {
     "data": {
      "text/html": [
       "<ol class=list-inline>\n",
       "\t<li>TRUE</li>\n",
       "\t<li>FALSE</li>\n",
       "\t<li>TRUE</li>\n",
       "\t<li>FALSE</li>\n",
       "\t<li>FALSE</li>\n",
       "\t<li>TRUE</li>\n",
       "\t<li>FALSE</li>\n",
       "\t<li>TRUE</li>\n",
       "</ol>\n"
      ],
      "text/latex": [
       "\\begin{enumerate*}\n",
       "\\item TRUE\n",
       "\\item FALSE\n",
       "\\item TRUE\n",
       "\\item FALSE\n",
       "\\item FALSE\n",
       "\\item TRUE\n",
       "\\item FALSE\n",
       "\\item TRUE\n",
       "\\end{enumerate*}\n"
      ],
      "text/markdown": [
       "1. TRUE\n",
       "2. FALSE\n",
       "3. TRUE\n",
       "4. FALSE\n",
       "5. FALSE\n",
       "6. TRUE\n",
       "7. FALSE\n",
       "8. TRUE\n",
       "\n",
       "\n"
      ],
      "text/plain": [
       "[1]  TRUE FALSE  TRUE FALSE FALSE  TRUE FALSE  TRUE"
      ]
     },
     "metadata": {},
     "output_type": "display_data"
    }
   ],
   "source": [
    "# yxz\n",
    "result_yxz <- vector(length=8)\n",
    "for (j in 1:8) {\n",
    "    result_yxz[j] <- F(bc[j,2],bc[j,1],bc[j,3])\n",
    "}\n",
    "result_yxz == F_values"
   ]
  },
  {
   "cell_type": "code",
   "execution_count": 126,
   "metadata": {},
   "outputs": [
    {
     "data": {
      "text/html": [
       "<ol class=list-inline>\n",
       "\t<li>TRUE</li>\n",
       "\t<li>TRUE</li>\n",
       "\t<li>FALSE</li>\n",
       "\t<li>FALSE</li>\n",
       "\t<li>FALSE</li>\n",
       "\t<li>TRUE</li>\n",
       "\t<li>FALSE</li>\n",
       "\t<li>TRUE</li>\n",
       "</ol>\n"
      ],
      "text/latex": [
       "\\begin{enumerate*}\n",
       "\\item TRUE\n",
       "\\item TRUE\n",
       "\\item FALSE\n",
       "\\item FALSE\n",
       "\\item FALSE\n",
       "\\item TRUE\n",
       "\\item FALSE\n",
       "\\item TRUE\n",
       "\\end{enumerate*}\n"
      ],
      "text/markdown": [
       "1. TRUE\n",
       "2. TRUE\n",
       "3. FALSE\n",
       "4. FALSE\n",
       "5. FALSE\n",
       "6. TRUE\n",
       "7. FALSE\n",
       "8. TRUE\n",
       "\n",
       "\n"
      ],
      "text/plain": [
       "[1]  TRUE  TRUE FALSE FALSE FALSE  TRUE FALSE  TRUE"
      ]
     },
     "metadata": {},
     "output_type": "display_data"
    }
   ],
   "source": [
    "# yzx\n",
    "result_yzx <- vector(length=8)\n",
    "for (j in 1:8) {\n",
    "    result_yzx[j] <- F(bc[j,3],bc[j,1],bc[j,2])\n",
    "}\n",
    "result_yzx == F_values"
   ]
  },
  {
   "cell_type": "code",
   "execution_count": 127,
   "metadata": {},
   "outputs": [
    {
     "data": {
      "text/html": [
       "<ol class=list-inline>\n",
       "\t<li>TRUE</li>\n",
       "\t<li>TRUE</li>\n",
       "\t<li>TRUE</li>\n",
       "\t<li>TRUE</li>\n",
       "\t<li>TRUE</li>\n",
       "\t<li>TRUE</li>\n",
       "\t<li>TRUE</li>\n",
       "\t<li>TRUE</li>\n",
       "</ol>\n"
      ],
      "text/latex": [
       "\\begin{enumerate*}\n",
       "\\item TRUE\n",
       "\\item TRUE\n",
       "\\item TRUE\n",
       "\\item TRUE\n",
       "\\item TRUE\n",
       "\\item TRUE\n",
       "\\item TRUE\n",
       "\\item TRUE\n",
       "\\end{enumerate*}\n"
      ],
      "text/markdown": [
       "1. TRUE\n",
       "2. TRUE\n",
       "3. TRUE\n",
       "4. TRUE\n",
       "5. TRUE\n",
       "6. TRUE\n",
       "7. TRUE\n",
       "8. TRUE\n",
       "\n",
       "\n"
      ],
      "text/plain": [
       "[1] TRUE TRUE TRUE TRUE TRUE TRUE TRUE TRUE"
      ]
     },
     "metadata": {},
     "output_type": "display_data"
    }
   ],
   "source": [
    "# zxy\n",
    "result_zxy <- vector(length=8)\n",
    "for (j in 1:8) {\n",
    "    result_zxy[j] <- F(bc[j,2],bc[j,3],bc[j,1])\n",
    "}\n",
    "result_zxy == F_values"
   ]
  },
  {
   "cell_type": "code",
   "execution_count": 128,
   "metadata": {},
   "outputs": [
    {
     "data": {
      "text/html": [
       "<ol class=list-inline>\n",
       "\t<li>TRUE</li>\n",
       "\t<li>TRUE</li>\n",
       "\t<li>TRUE</li>\n",
       "\t<li>TRUE</li>\n",
       "\t<li>TRUE</li>\n",
       "\t<li>FALSE</li>\n",
       "\t<li>FALSE</li>\n",
       "\t<li>TRUE</li>\n",
       "</ol>\n"
      ],
      "text/latex": [
       "\\begin{enumerate*}\n",
       "\\item TRUE\n",
       "\\item TRUE\n",
       "\\item TRUE\n",
       "\\item TRUE\n",
       "\\item TRUE\n",
       "\\item FALSE\n",
       "\\item FALSE\n",
       "\\item TRUE\n",
       "\\end{enumerate*}\n"
      ],
      "text/markdown": [
       "1. TRUE\n",
       "2. TRUE\n",
       "3. TRUE\n",
       "4. TRUE\n",
       "5. TRUE\n",
       "6. FALSE\n",
       "7. FALSE\n",
       "8. TRUE\n",
       "\n",
       "\n"
      ],
      "text/plain": [
       "[1]  TRUE  TRUE  TRUE  TRUE  TRUE FALSE FALSE  TRUE"
      ]
     },
     "metadata": {},
     "output_type": "display_data"
    }
   ],
   "source": [
    "# zyx\n",
    "result_zyx <- vector(length=8)\n",
    "for (j in 1:8) {\n",
    "    result_zyx[j] <- F(bc[j,3],bc[j,2],bc[j,1])\n",
    "}\n",
    "result_zyx == F_values"
   ]
  },
  {
   "cell_type": "code",
   "execution_count": 129,
   "metadata": {},
   "outputs": [],
   "source": [
    "# x=0,y=0,z=1 ; F=1 => z - первая переменная / the first variable\n",
    "# x=1,y=0,z=1 ; F=1 => x - вторая переменная / the second variable\n",
    "answer_dictionary[2] <- 'zxy'"
   ]
  },
  {
   "cell_type": "markdown",
   "metadata": {},
   "source": [
    "## 3.\n",
    "Между населенными пунктами A,B,C,D,E,F построены дороги, протяженность которых приведена в таблице. \n",
    "\n",
    "(Отсутствие числа в таблице означает, что прямой дороги между пунктами нет.) \n",
    "\n",
    "Определите длину кратчайшего пути между пунктами A и F \n",
    "\n",
    "(при условии, что передвигаться можно только по построенным дорогам).\n",
    "\n",
    "---\n",
    "\n",
    "Between the settlements A, B, C, D, E, F roads are constructed, the lengths of which are given in the table. \n",
    "\n",
    "(The absence of a number in the table means that there is no direct road between the points.) \n",
    "\n",
    "Determine the length of the shortest path between points A and F \n",
    "\n",
    "(assuming that it is possible to move only along the constructed roads).\n",
    "\n",
    "| &#x123CF; | A | B | C | D | E | F |\n",
    "|:-:|:-:|:-:|:-:|:-:|:-:|:-:|\n",
    "| **A** | &#x123CF; | 3 | 8 |   |  4 |   |\n",
    "| **B** | 3 | &#x123CF; | 5 | 9 | 2 | 13 |\n",
    "| **C** | 8 | 5 | &#x123CF; | 4 | 3 |   |\n",
    "| **D** |   | 9 | 4 | &#x123CF; |  | 3 |\n",
    "| **E** |  4 | 2 | 3 |  | &#x123CF; | 11 |\n",
    "| **F** |   | 13 |   | 3 | 11 | &#x123CF; |"
   ]
  },
  {
   "cell_type": "code",
   "execution_count": 130,
   "metadata": {},
   "outputs": [],
   "source": [
    "edges <- c('A','B', 'A','C', 'A','E', 'B','C', 'B','D', 'B','E', 'B','F',\n",
    "           'C','D', 'C','E', 'D','F', 'E','F')\n",
    "weights <- c(3,8,4,5,9,2,13,4,3,3,11)\n",
    "g <- graph(edges, directed=FALSE)%>%\n",
    "    set_edge_attr(\"weight\", value=weights)\n",
    "\n",
    "shortest_path <- get.shortest.paths(g,'A','F')"
   ]
  },
  {
   "cell_type": "code",
   "execution_count": 131,
   "metadata": {},
   "outputs": [
    {
     "data": {
      "text/html": [
       "<table>\n",
       "<thead><tr><th></th><th scope=col>A</th><th scope=col>B</th><th scope=col>C</th><th scope=col>D</th><th scope=col>E</th><th scope=col>F</th></tr></thead>\n",
       "<tbody>\n",
       "\t<tr><th scope=row>A</th><td>0 </td><td> 3</td><td>8 </td><td>0 </td><td> 4</td><td> 0</td></tr>\n",
       "\t<tr><th scope=row>B</th><td>3 </td><td> 0</td><td>5 </td><td>9 </td><td> 2</td><td>13</td></tr>\n",
       "\t<tr><th scope=row>C</th><td>8 </td><td> 5</td><td>0 </td><td>4 </td><td> 3</td><td> 0</td></tr>\n",
       "\t<tr><th scope=row>D</th><td>0 </td><td> 9</td><td>4 </td><td>0 </td><td> 0</td><td> 3</td></tr>\n",
       "\t<tr><th scope=row>E</th><td>4 </td><td> 2</td><td>3 </td><td>0 </td><td> 0</td><td>11</td></tr>\n",
       "\t<tr><th scope=row>F</th><td>0 </td><td>13</td><td>0 </td><td>3 </td><td>11</td><td> 0</td></tr>\n",
       "</tbody>\n",
       "</table>\n"
      ],
      "text/latex": [
       "\\begin{tabular}{r|llllll}\n",
       "  & A & B & C & D & E & F\\\\\n",
       "\\hline\n",
       "\tA & 0  &  3 & 8  & 0  &  4 &  0\\\\\n",
       "\tB & 3  &  0 & 5  & 9  &  2 & 13\\\\\n",
       "\tC & 8  &  5 & 0  & 4  &  3 &  0\\\\\n",
       "\tD & 0  &  9 & 4  & 0  &  0 &  3\\\\\n",
       "\tE & 4  &  2 & 3  & 0  &  0 & 11\\\\\n",
       "\tF & 0  & 13 & 0  & 3  & 11 &  0\\\\\n",
       "\\end{tabular}\n"
      ],
      "text/markdown": [
       "\n",
       "| <!--/--> | A | B | C | D | E | F | \n",
       "|---|---|---|---|---|---|\n",
       "| A | 0  |  3 | 8  | 0  |  4 |  0 | \n",
       "| B | 3  |  0 | 5  | 9  |  2 | 13 | \n",
       "| C | 8  |  5 | 0  | 4  |  3 |  0 | \n",
       "| D | 0  |  9 | 4  | 0  |  0 |  3 | \n",
       "| E | 4  |  2 | 3  | 0  |  0 | 11 | \n",
       "| F | 0  | 13 | 0  | 3  | 11 |  0 | \n",
       "\n",
       "\n"
      ],
      "text/plain": [
       "  A B  C D E  F \n",
       "A 0  3 8 0  4  0\n",
       "B 3  0 5 9  2 13\n",
       "C 8  5 0 4  3  0\n",
       "D 0  9 4 0  0  3\n",
       "E 4  2 3 0  0 11\n",
       "F 0 13 0 3 11  0"
      ]
     },
     "metadata": {},
     "output_type": "display_data"
    }
   ],
   "source": [
    "adjm <- get.adjacency(g, attr=\"weight\",sparse=FALSE)\n",
    "adjm[sort(rownames(adjm)),sort(colnames(adjm))]"
   ]
  },
  {
   "cell_type": "code",
   "execution_count": 132,
   "metadata": {},
   "outputs": [
    {
     "data": {
      "image/png": "[encoded data removed]",
      "text/plain": [
       "Plot with title “”"
      ]
     },
     "metadata": {},
     "output_type": "display_data"
    }
   ],
   "source": [
    "options(repr.plot.width=6,repr.plot.height=6)\n",
    "\n",
    "E(g)$color <- \"gray\"\n",
    "E(g, path=unlist(shortest_path$vpath))$color <- \"darkred\"\n",
    "\n",
    "plot(g, layout=layout_nicely(g),\n",
    "     vertex.color=\"steelblue\",vertex.size=30,vertex.frame.color=\"gray\",\n",
    "     edge.label=E(g)$weight,edge.label.cex=1.5,edge.width=E(g)$weight)"
   ]
  },
  {
   "cell_type": "code",
   "execution_count": 133,
   "metadata": {},
   "outputs": [
    {
     "data": {
      "text/plain": [
       "+ 5/6 vertices, named, from 548cf65:\n",
       "[1] A E C D F"
      ]
     },
     "metadata": {},
     "output_type": "display_data"
    }
   ],
   "source": [
    "shortest_path$vpath[[1]]"
   ]
  },
  {
   "cell_type": "code",
   "execution_count": 134,
   "metadata": {},
   "outputs": [
    {
     "data": {
      "text/html": [
       "<table>\n",
       "<thead><tr><th></th><th scope=col>A</th><th scope=col>B</th><th scope=col>C</th><th scope=col>E</th><th scope=col>D</th><th scope=col>F</th></tr></thead>\n",
       "<tbody>\n",
       "\t<tr><th scope=row>A</th><td> 0</td><td> 3</td><td>7 </td><td> 4</td><td>11</td><td>14</td></tr>\n",
       "\t<tr><th scope=row>B</th><td> 3</td><td> 0</td><td>5 </td><td> 2</td><td> 9</td><td>12</td></tr>\n",
       "\t<tr><th scope=row>C</th><td> 7</td><td> 5</td><td>0 </td><td> 3</td><td> 4</td><td> 7</td></tr>\n",
       "\t<tr><th scope=row>E</th><td> 4</td><td> 2</td><td>3 </td><td> 0</td><td> 7</td><td>10</td></tr>\n",
       "\t<tr><th scope=row>D</th><td>11</td><td> 9</td><td>4 </td><td> 7</td><td> 0</td><td> 3</td></tr>\n",
       "\t<tr><th scope=row>F</th><td>14</td><td>12</td><td>7 </td><td>10</td><td> 3</td><td> 0</td></tr>\n",
       "</tbody>\n",
       "</table>\n"
      ],
      "text/latex": [
       "\\begin{tabular}{r|llllll}\n",
       "  & A & B & C & E & D & F\\\\\n",
       "\\hline\n",
       "\tA &  0 &  3 & 7  &  4 & 11 & 14\\\\\n",
       "\tB &  3 &  0 & 5  &  2 &  9 & 12\\\\\n",
       "\tC &  7 &  5 & 0  &  3 &  4 &  7\\\\\n",
       "\tE &  4 &  2 & 3  &  0 &  7 & 10\\\\\n",
       "\tD & 11 &  9 & 4  &  7 &  0 &  3\\\\\n",
       "\tF & 14 & 12 & 7  & 10 &  3 &  0\\\\\n",
       "\\end{tabular}\n"
      ],
      "text/markdown": [
       "\n",
       "| <!--/--> | A | B | C | E | D | F | \n",
       "|---|---|---|---|---|---|\n",
       "| A |  0 |  3 | 7  |  4 | 11 | 14 | \n",
       "| B |  3 |  0 | 5  |  2 |  9 | 12 | \n",
       "| C |  7 |  5 | 0  |  3 |  4 |  7 | \n",
       "| E |  4 |  2 | 3  |  0 |  7 | 10 | \n",
       "| D | 11 |  9 | 4  |  7 |  0 |  3 | \n",
       "| F | 14 | 12 | 7  | 10 |  3 |  0 | \n",
       "\n",
       "\n"
      ],
      "text/plain": [
       "  A  B  C E  D  F \n",
       "A  0  3 7  4 11 14\n",
       "B  3  0 5  2  9 12\n",
       "C  7  5 0  3  4  7\n",
       "E  4  2 3  0  7 10\n",
       "D 11  9 4  7  0  3\n",
       "F 14 12 7 10  3  0"
      ]
     },
     "metadata": {},
     "output_type": "display_data"
    }
   ],
   "source": [
    "distances(g)"
   ]
  },
  {
   "cell_type": "code",
   "execution_count": 135,
   "metadata": {},
   "outputs": [],
   "source": [
    "answer_dictionary[3] <- distances(g,'A','F')"
   ]
  },
  {
   "cell_type": "markdown",
   "metadata": {},
   "source": [
    "## 4.\n",
    "Для групповых операций с файлами используются **маски имён файлов**.\n",
    "\n",
    "Маска представляет собой последовательность букв, цифр и прочих допустимых в именах файлов символов, в которой также могут встречаться следующие символы.\n",
    "\n",
    "Символ `«?»` (вопросительный знак) означает ровно один произвольный символ.\n",
    "\n",
    "Символ `«*»` (звёздочка) означает любую последовательность символов произвольной длины, в том числе `«*»` может задавать и пустую последовательность.\n",
    "\n",
    "Определите, какие из указанных имен файлов удовлетворяют маске `?si*?.??*`.\n",
    "\n",
    "1) `Osina.com`, 2) `psycho.txt`, 3) `Osip.doc`, 4) `asis.c`.\n",
    "\n",
    "В ответе перечислите номера файлов в порядке возрастания без пробелов и знаков препинания.\n",
    "\n",
    "---\n",
    "\n",
    "For group operations with files, **masks of file names** are used.\n",
    "\n",
    "A mask is a sequence of letters, numbers and other permissible characters in file names, in which the following symbols can also occur.\n",
    "\n",
    "The symbol `\"?\"` (question mark) means exactly one arbitrary character.\n",
    "\n",
    "The symbol `\"*\"` (asterisk) means any sequence of characters of arbitrary length, including the case when `\"*\"` can specify an empty sequence.\n",
    "\n",
    "Determine which of the specified file names satisfy the mask `?si*?.??*`.\n",
    "\n",
    "1) `Osina.com`, 2) `psycho.txt`, 3) `Osip.doc`, 4) `asis.c`.\n",
    "\n",
    "In the answer, list file numbers in ascending order without spaces and punctuation marks."
   ]
  },
  {
   "cell_type": "code",
   "execution_count": 136,
   "metadata": {},
   "outputs": [],
   "source": [
    "file_list <- c('Osina.com', 'psycho.txt', 'Osip.doc', 'asis.c')"
   ]
  },
  {
   "cell_type": "code",
   "execution_count": 137,
   "metadata": {},
   "outputs": [
    {
     "data": {
      "text/html": [
       "<ol class=list-inline>\n",
       "\t<li>TRUE</li>\n",
       "\t<li>FALSE</li>\n",
       "\t<li>TRUE</li>\n",
       "\t<li>FALSE</li>\n",
       "</ol>\n"
      ],
      "text/latex": [
       "\\begin{enumerate*}\n",
       "\\item TRUE\n",
       "\\item FALSE\n",
       "\\item TRUE\n",
       "\\item FALSE\n",
       "\\end{enumerate*}\n"
      ],
      "text/markdown": [
       "1. TRUE\n",
       "2. FALSE\n",
       "3. TRUE\n",
       "4. FALSE\n",
       "\n",
       "\n"
      ],
      "text/plain": [
       "[1]  TRUE FALSE  TRUE FALSE"
      ]
     },
     "metadata": {},
     "output_type": "display_data"
    }
   ],
   "source": [
    "mask_files <- grepl(\"^.si.*.\\\\....*$\", file_list)\n",
    "mask_files"
   ]
  },
  {
   "cell_type": "code",
   "execution_count": 138,
   "metadata": {},
   "outputs": [
    {
     "data": {
      "text/html": [
       "'13'"
      ],
      "text/latex": [
       "'13'"
      ],
      "text/markdown": [
       "'13'"
      ],
      "text/plain": [
       "[1] \"13\""
      ]
     },
     "metadata": {},
     "output_type": "display_data"
    }
   ],
   "source": [
    "result <- ''\n",
    "\n",
    "for (i in 1:4) {\n",
    "    if (mask_files[i] == TRUE) {\n",
    "        result <- paste(result,toString(i),sep='')\n",
    "    }\n",
    "}\n",
    "\n",
    "result"
   ]
  },
  {
   "cell_type": "code",
   "execution_count": 139,
   "metadata": {},
   "outputs": [],
   "source": [
    "answer_dictionary[4] <- result"
   ]
  },
  {
   "cell_type": "markdown",
   "metadata": {},
   "source": [
    "## 5.\n",
    "Для кодирования некоторой последовательности, состоящей из букв `A`, `B`, `C`, `D` и `E`, используется неравномерный двоичный код, \n",
    "\n",
    "позволяющий однозначно декодировать полученную двоичную последовательность.\n",
    "\n",
    "Вот этот код: <i style=\"font-size:130%;\" class=\"font-effect-brick-sign\">`A-011, B-000, C-10, D-010, E-001`</i>.\n",
    "\n",
    "Можно ли сократить для одной из букв длину кодового слова так, чтобы код по-прежнему можно было декодировать однозначно? \n",
    "\n",
    "Коды остальных букв меняться не должны. \n",
    "\n",
    "Запишите ответ в виде: буква, кодовое слово. \n",
    "\n",
    "Например, если бы ответ был «Для буквы `F` новый код будет `110`», ответ нужно записать как: <i style=\"font-size:130%;\" class=\"font-effect-brick-sign\">`F110`</i>. \n",
    "\n",
    "Если невозможно ничего сократить, запишите в ответе просто цифру `0`.\n",
    "\n",
    "---\n",
    "\n",
    "To encode a sequence consisting of the letters `A`, `B`, `C`, `D` and `E`, an unequal binary code is used, \n",
    "\n",
    "which uniquely decodes the resulting binary sequence.\n",
    "\n",
    "Here is the code: <i style=\"font-size:130%;\" class=\"font-effect-brick-sign\">`A-011, B-000, C-10, D-010, E-001`</i>.\n",
    "\n",
    "Is it possible to shorten the length of a codeword for one of the letters so that the code can still be decoded uniquely? \n",
    "\n",
    "Codes of other letters should not be changed. \n",
    "\n",
    "Write down the answer in the form: a letter, a code word. \n",
    "\n",
    "For example, if the answer was \"For the letter `F`, the new code will be `110`\", it should be written as <i style=\"font-size:130%;\" class=\"font-effect-brick-sign\">`F110`</i>. \n",
    "\n",
    "If it is impossible to shorten anything, write down in the answer just the number `0`."
   ]
  },
  {
   "cell_type": "markdown",
   "metadata": {},
   "source": [
    "В решении использован Алгоритм Шеннона — Фано.\n",
    "\n",
    "С `1` начинается только одно кодовое слово последовательности <i style=\"font-size:130%;\" class=\"font-effect-brick-sign\">`C-10`</i>. \n",
    "\n",
    "После сокращения на один символ эта буква будет кодироваться <i style=\"font-size:130%;\" class=\"font-effect-brick-sign\">`C-1`</i>, а вся последовательность по-прежнему декодируется однозначно. \n",
    "\n",
    "---\n",
    "\n",
    "The solution uses the Shannon-Fano Algorithm.\n",
    "\n",
    "In the sequence, only one codeword <i style=\"font-size:130%;\" class=\"font-effect-brick-sign\">`C-10`</i> begins with `1`.\n",
    "\n",
    "After a reduction of one symbol, this letter will be encoded <i style=\"font-size:130%;\" class=\"font-effect-brick-sign\">`C-1`</i>, and the whole sequence is still possible to decode uniquely."
   ]
  },
  {
   "cell_type": "code",
   "execution_count": 140,
   "metadata": {},
   "outputs": [],
   "source": [
    "answer_dictionary[5] <- 'C1'"
   ]
  },
  {
   "cell_type": "markdown",
   "metadata": {},
   "source": [
    "## 6.\n",
    "Автомат получает на вход два однозначных шестнадцатеричных числа. \n",
    "\n",
    "Каждое из этих чисел не превосходит 5 (если число больше 5, автомат отказывается работать). \n",
    "\n",
    "По этим двум числам вычисляется новое шестнадцатеричное число как произведение полученных чисел.\n",
    "\n",
    "Ученик проанализировал алгоритм и выписал все шестнадцатеричные числа, которые могут быть получены в результате работы алгоритма.\n",
    "\n",
    "Определите, сколько чисел он выписал лишних.\n",
    "    \n",
    "---\n",
    "\n",
    "The machine receives two single-digit hexadecimal numbers. \n",
    "\n",
    "Each of these numbers does not exceed 5 (if the number is greater than 5, the machine refuses to work). \n",
    "\n",
    "For these two numbers, the new hexadecimal number is calculated as a product of the obtained numbers.\n",
    "\n",
    "The student analyzed the algorithm and wrote out all the hexadecimal numbers that can be obtained as a result of the algorithm.\n",
    "\n",
    "Determine how many numbers he has written out incorrectly.\n",
    "\n",
    "$1, 2, 3, 4, 5, 6, 8, 9, A, C, E, F, 10, 12, 14, 18, 19$"
   ]
  },
  {
   "cell_type": "code",
   "execution_count": 141,
   "metadata": {},
   "outputs": [],
   "source": [
    "written_list <- c(0x1,0x2,0x3,0x4,0x5,0x6,0x8,0x9,\n",
    "                0xa,0xc,0xe,0xf,0x10,0x12,0x14,0x18,0x19)"
   ]
  },
  {
   "cell_type": "code",
   "execution_count": 142,
   "metadata": {},
   "outputs": [
    {
     "data": {
      "text/html": [
       "<ol class=list-inline>\n",
       "\t<li>1</li>\n",
       "\t<li>2</li>\n",
       "\t<li>3</li>\n",
       "\t<li>4</li>\n",
       "\t<li>5</li>\n",
       "\t<li>6</li>\n",
       "\t<li>8</li>\n",
       "\t<li>9</li>\n",
       "\t<li>10</li>\n",
       "\t<li>12</li>\n",
       "\t<li>14</li>\n",
       "\t<li>15</li>\n",
       "\t<li>16</li>\n",
       "\t<li>18</li>\n",
       "\t<li>20</li>\n",
       "\t<li>24</li>\n",
       "\t<li>25</li>\n",
       "</ol>\n"
      ],
      "text/latex": [
       "\\begin{enumerate*}\n",
       "\\item 1\n",
       "\\item 2\n",
       "\\item 3\n",
       "\\item 4\n",
       "\\item 5\n",
       "\\item 6\n",
       "\\item 8\n",
       "\\item 9\n",
       "\\item 10\n",
       "\\item 12\n",
       "\\item 14\n",
       "\\item 15\n",
       "\\item 16\n",
       "\\item 18\n",
       "\\item 20\n",
       "\\item 24\n",
       "\\item 25\n",
       "\\end{enumerate*}\n"
      ],
      "text/markdown": [
       "1. 1\n",
       "2. 2\n",
       "3. 3\n",
       "4. 4\n",
       "5. 5\n",
       "6. 6\n",
       "7. 8\n",
       "8. 9\n",
       "9. 10\n",
       "10. 12\n",
       "11. 14\n",
       "12. 15\n",
       "13. 16\n",
       "14. 18\n",
       "15. 20\n",
       "16. 24\n",
       "17. 25\n",
       "\n",
       "\n"
      ],
      "text/plain": [
       " [1]  1  2  3  4  5  6  8  9 10 12 14 15 16 18 20 24 25"
      ]
     },
     "metadata": {},
     "output_type": "display_data"
    }
   ],
   "source": [
    "dec_written_list <- as.integer(sprintf(\"%d\", written_list))\n",
    "dec_written_list"
   ]
  },
  {
   "cell_type": "code",
   "execution_count": 143,
   "metadata": {},
   "outputs": [
    {
     "data": {
      "text/html": [
       "<ol class=list-inline>\n",
       "\t<li>1</li>\n",
       "\t<li>2</li>\n",
       "\t<li>3</li>\n",
       "\t<li>4</li>\n",
       "\t<li>5</li>\n",
       "\t<li>6</li>\n",
       "\t<li>8</li>\n",
       "\t<li>9</li>\n",
       "\t<li>10</li>\n",
       "\t<li>12</li>\n",
       "\t<li>15</li>\n",
       "\t<li>16</li>\n",
       "\t<li>20</li>\n",
       "\t<li>25</li>\n",
       "</ol>\n"
      ],
      "text/latex": [
       "\\begin{enumerate*}\n",
       "\\item 1\n",
       "\\item 2\n",
       "\\item 3\n",
       "\\item 4\n",
       "\\item 5\n",
       "\\item 6\n",
       "\\item 8\n",
       "\\item 9\n",
       "\\item 10\n",
       "\\item 12\n",
       "\\item 15\n",
       "\\item 16\n",
       "\\item 20\n",
       "\\item 25\n",
       "\\end{enumerate*}\n"
      ],
      "text/markdown": [
       "1. 1\n",
       "2. 2\n",
       "3. 3\n",
       "4. 4\n",
       "5. 5\n",
       "6. 6\n",
       "7. 8\n",
       "8. 9\n",
       "9. 10\n",
       "10. 12\n",
       "11. 15\n",
       "12. 16\n",
       "13. 20\n",
       "14. 25\n",
       "\n",
       "\n"
      ],
      "text/plain": [
       " [1]  1  2  3  4  5  6  8  9 10 12 15 16 20 25"
      ]
     },
     "metadata": {},
     "output_type": "display_data"
    }
   ],
   "source": [
    "right_list <- sort(unique(as.vector(c(1:5) %o% c(1:5))))\n",
    "right_list"
   ]
  },
  {
   "cell_type": "code",
   "execution_count": 144,
   "metadata": {},
   "outputs": [
    {
     "data": {
      "text/html": [
       "<ol class=list-inline>\n",
       "\t<li>1</li>\n",
       "\t<li>2</li>\n",
       "\t<li>3</li>\n",
       "\t<li>4</li>\n",
       "\t<li>5</li>\n",
       "\t<li>6</li>\n",
       "\t<li>7</li>\n",
       "\t<li>8</li>\n",
       "\t<li>9</li>\n",
       "\t<li>10</li>\n",
       "\t<li>&lt;NA&gt;</li>\n",
       "\t<li>11</li>\n",
       "\t<li>12</li>\n",
       "\t<li>&lt;NA&gt;</li>\n",
       "\t<li>13</li>\n",
       "\t<li>&lt;NA&gt;</li>\n",
       "\t<li>14</li>\n",
       "</ol>\n"
      ],
      "text/latex": [
       "\\begin{enumerate*}\n",
       "\\item 1\n",
       "\\item 2\n",
       "\\item 3\n",
       "\\item 4\n",
       "\\item 5\n",
       "\\item 6\n",
       "\\item 7\n",
       "\\item 8\n",
       "\\item 9\n",
       "\\item 10\n",
       "\\item <NA>\n",
       "\\item 11\n",
       "\\item 12\n",
       "\\item <NA>\n",
       "\\item 13\n",
       "\\item <NA>\n",
       "\\item 14\n",
       "\\end{enumerate*}\n"
      ],
      "text/markdown": [
       "1. 1\n",
       "2. 2\n",
       "3. 3\n",
       "4. 4\n",
       "5. 5\n",
       "6. 6\n",
       "7. 7\n",
       "8. 8\n",
       "9. 9\n",
       "10. 10\n",
       "11. &lt;NA&gt;\n",
       "12. 11\n",
       "13. 12\n",
       "14. &lt;NA&gt;\n",
       "15. 13\n",
       "16. &lt;NA&gt;\n",
       "17. 14\n",
       "\n",
       "\n"
      ],
      "text/plain": [
       " [1]  1  2  3  4  5  6  7  8  9 10 NA 11 12 NA 13 NA 14"
      ]
     },
     "metadata": {},
     "output_type": "display_data"
    }
   ],
   "source": [
    "match(dec_written_list, right_list)"
   ]
  },
  {
   "cell_type": "code",
   "execution_count": 145,
   "metadata": {},
   "outputs": [
    {
     "data": {
      "text/html": [
       "3"
      ],
      "text/latex": [
       "3"
      ],
      "text/markdown": [
       "3"
      ],
      "text/plain": [
       "[1] 3"
      ]
     },
     "metadata": {},
     "output_type": "display_data"
    }
   ],
   "source": [
    "n <- sum(is.na(match(dec_written_list, right_list)))\n",
    "n"
   ]
  },
  {
   "cell_type": "code",
   "execution_count": 146,
   "metadata": {},
   "outputs": [],
   "source": [
    "answer_dictionary[6] <- toString(n)"
   ]
  },
  {
   "cell_type": "markdown",
   "metadata": {},
   "source": [
    "## 7.\n",
    "Дан фрагмент электронной таблицы.\n",
    "\n",
    "The fragment of the spreadsheet is given.\n",
    "\n",
    "| | A | B | C | D |\n",
    "|:-:|:-:|:-:|:-:|:-:|\n",
    "| 1 |  | 3 | 5 | 4 |\n",
    "| 2 |  | `=D1+B1` | 1 | 2 |\n",
    "| 3 |  | `=C$2+$C3`  | 6 | 7 |\n",
    "\n",
    "Чему станет равным значение ячейки `A2`, если в неё скопировать формулу из ячейки `B3`?\n",
    "\n",
    "Примечание: знак `$` обозначает абсолютную адресацию.\n",
    "\n",
    "What will the value of the cell `A2` become equal if you copy the formula from the cell `B3` into it?\n",
    "\n",
    "Note: The `$` sign denotes absolute addressing.\n",
    "\n",
    "[Google Sheets](https://drive.google.com/open?id=1nacMqZqKrCbUsVqxPYYnazmLvkjcK7hLwGhrUkv4G-c)\n",
    "\n",
    "Результат копирования ячейки.\n",
    "\n",
    "The result of copying the cell.\n",
    "\n",
    "<div style=\"width: 700px; height: 240px; overflow:auto;\">\n",
    "    <img src=\"it_images/2017_07_07a.png\" width=\"800\" height=\"240\"/>\n",
    "</div>"
   ]
  },
  {
   "cell_type": "code",
   "execution_count": 147,
   "metadata": {},
   "outputs": [],
   "source": [
    "answer_dictionary[7] <- toString(7 + 1)"
   ]
  },
  {
   "cell_type": "markdown",
   "metadata": {},
   "source": [
    "## 8.\n",
    "Определите, что будет напечатано в результате выполнения следующего фрагмента программы.\n",
    "\n",
    "Determine what will be printed as a result of the execution of the next program fragment.\n",
    "<table style=\"width:95%;\">\n",
    "  <tr style=\"color:slategray;font-size:120%;font-family:'Roboto';\">\n",
    "    <th style=\"text-align:center;\">Python</th> \n",
    "    <th style=\"text-align:center;\">R</th>          \n",
    "  </tr>\n",
    "  <tr>\n",
    "    <td style=\"font-weight:bold;text-align:left;\"><pre><code class='python'>\n",
    "\n",
    "k, s = 3, 4\n",
    "\n",
    "while s < 34:\n",
    "    s += 5\n",
    "    k &#42;= 2\n",
    "\n",
    "print (k)\n",
    "    </code></pre></td> \n",
    "    <td style=\"font-weight:bold;text-align:left;\"><pre><code class='r'> \n",
    "    \n",
    "k <- 3; s <- 4\n",
    "\n",
    "while (s < 34) {\n",
    "    s <- s + 5\n",
    "    k <- k &#42; 2\n",
    "}\n",
    "\n",
    "print(k)\n",
    "    </code></pre></td>\n",
    "  </tr>\n",
    "</table>"
   ]
  },
  {
   "cell_type": "code",
   "execution_count": 148,
   "metadata": {},
   "outputs": [
    {
     "name": "stdout",
     "output_type": "stream",
     "text": [
      "[1] 192\n"
     ]
    }
   ],
   "source": [
    "k <- 3; s <- 4\n",
    "\n",
    "while (s < 34) {\n",
    "    s <- s + 5\n",
    "    k <- k * 2\n",
    "}\n",
    "\n",
    "print(k)"
   ]
  },
  {
   "cell_type": "code",
   "execution_count": 149,
   "metadata": {},
   "outputs": [],
   "source": [
    "answer_dictionary[8] <- toString(k)"
   ]
  },
  {
   "cell_type": "markdown",
   "metadata": {},
   "source": [
    "## 9.\n",
    "Музыкальный фрагмент был записан в формате 7.1 (восьмиканальная запись), \n",
    "\n",
    "оцифрован и сохранён в виде файла без использования сжатия данных. \n",
    "\n",
    "Размер полученного файла — 48 Мбайт. \n",
    "\n",
    "Затем тот же музыкальный фрагмент был оцифрован повторно в формате стерео (двухканальная запись) и оцифрован \n",
    "\n",
    "- с разрешением в 1,5 раза меньше и \n",
    "- частотой дискретизации в 2 раза больше, чем в первый раз. \n",
    "\n",
    "Сжатие данных не производилось. \n",
    "\n",
    "Укажите размер файла в Мбайт, полученного при повторной записи. \n",
    "\n",
    "В ответе запишите только целое число, единицу измерения писать не нужно.\n",
    "\n",
    "---\n",
    "\n",
    "The musical fragment was recorded in 7.1 (eight-channel recording) format, \n",
    "\n",
    "digitized and saved as a file without using data compression. \n",
    "\n",
    "The size of the received file is 48 MB. \n",
    "\n",
    "Then the same musical fragment was digitized again in stereo format (two-channel recording) \n",
    "\n",
    "- with a resolution of 1.5 times smaller and \n",
    "- a sampling frequency 2 times greater than the first time. \n",
    "\n",
    "Data compression was not performed. \n",
    "\n",
    "Specify the size of the file in MB, obtained when you re-record. \n",
    "\n",
    "In the answer write down only an integer, you do not need to write a unit of measurement. "
   ]
  },
  {
   "cell_type": "markdown",
   "metadata": {},
   "source": [
    "| Показатели | Изменение объема информации |\n",
    "|:-:|:-:|\n",
    "| частота дискретизации | в 2 раза больше |\n",
    "| разрешение | в 1,5 раза меньше |\n",
    "| время записи | одинаковое (тот же музыкальный фрагмент) |\n",
    "| стерео (двухканальная запись) | в 4 раза меньше, чем при восьмиканальной записи |\n",
    "\n",
    "Размер полученного файла: $48 \\ * \\ 2 \\ / \\ 1.5 \\ / \\ 4 \\ = \\ 16$ Мбайт.\n",
    "\n",
    "---\n",
    "\n",
    "| Indicators | Changing the volume of information |\n",
    "|:-:|:-:|\n",
    "| sampling frequency | 2 times higher |\n",
    "| resolution | 1.5 times less |\n",
    "| recording time | equal (the same musical fragment) |\n",
    "| two-channel (stereo) | 4 times less than during eight-channel recording |\n",
    "\n",
    "The size of the resulting file: $48 \\ * \\ 2 \\ / \\ 1.5 \\ / \\ 4 \\ = \\ 16$ MB."
   ]
  },
  {
   "cell_type": "code",
   "execution_count": 150,
   "metadata": {},
   "outputs": [
    {
     "data": {
      "text/html": [
       "16"
      ],
      "text/latex": [
       "16"
      ],
      "text/markdown": [
       "16"
      ],
      "text/plain": [
       "[1] 16"
      ]
     },
     "metadata": {},
     "output_type": "display_data"
    }
   ],
   "source": [
    "size <- 48 * 2 / 1.5 / 4\n",
    "size"
   ]
  },
  {
   "cell_type": "code",
   "execution_count": 151,
   "metadata": {},
   "outputs": [],
   "source": [
    "answer_dictionary[9] <- toString(size)"
   ]
  },
  {
   "cell_type": "markdown",
   "metadata": {},
   "source": [
    "## 10. \n",
    "Для записи результатов соревнований используется таблица, в которой для каждой из 20-ти команд по каждому из 10-ти видов состязаний \n",
    "\n",
    "записано 1, 2 или 3 (если команда заняла соответствующее место в этом состязании) или прочерк (если не заняла призовое место или не участвовала). \n",
    "\n",
    "Какое количество информации (бит) содержит таблица?\n",
    "\n",
    "---\n",
    "\n",
    "To record the results of the competition, a table is used, for each of the 20 teams for each of the 10 types of competitions there are \n",
    "\n",
    "1, 2 or 3 (if the team took the appropriate place in this match) or a dash (if it did not win the prize or did not participate). \n",
    "\n",
    "How much information (bits) does the table contain? "
   ]
  },
  {
   "cell_type": "code",
   "execution_count": 152,
   "metadata": {},
   "outputs": [
    {
     "data": {
      "text/html": [
       "'400'"
      ],
      "text/latex": [
       "'400'"
      ],
      "text/markdown": [
       "'400'"
      ],
      "text/plain": [
       "[1] \"400\""
      ]
     },
     "metadata": {},
     "output_type": "display_data"
    }
   ],
   "source": [
    "# team results - 20 * 10\n",
    "# 4 symbols {'1','2','3','-'} - 2 bits for each {'00','01','10','11'}\n",
    "\n",
    "result <- toString(20 * 10 * log2(4))\n",
    "result"
   ]
  },
  {
   "cell_type": "code",
   "execution_count": 153,
   "metadata": {},
   "outputs": [],
   "source": [
    "answer_dictionary[10] <- result"
   ]
  },
  {
   "cell_type": "markdown",
   "metadata": {},
   "source": [
    "## 11.\n",
    "Определите, сколько звёздочек будет напечатано в результате вызова F(5) приведённой подпрограммы:\n",
    "\n",
    "Determine how many asterisks will be printed as a result of calling F(5) from this program fragment:\n",
    "\n",
    "<table style=\"width:95%;\">\n",
    "  <tr style=\"color:slategray;font-size:120%;font-family:'Roboto';\">\n",
    "    <th style=\"text-align:center;\">Python</th> \n",
    "    <th style=\"text-align:center;\">R</th>          \n",
    "  </tr>\n",
    "  <tr>\n",
    "    <td style=\"font-weight:bold;text-align:left;\"><pre><code class='python'>\n",
    "\n",
    "def F(n):\n",
    "    if n > 1:\n",
    "        print('&#42;')\n",
    "        F(n - 1)\n",
    "        F(int(n / 2))\n",
    "    </code></pre></td> \n",
    "    <td style=\"font-weight:bold;text-align:left;\"><pre><code class='r'> \n",
    "    \n",
    "F <- function(n) {\n",
    "    if (n > 1) {\n",
    "        print('&#42;')\n",
    "        F(n - 1)\n",
    "        F(as.integer(n / 2))\n",
    "    }\n",
    "}\n",
    "    </code></pre></td>     \n",
    "  </tr> \n",
    "  <tr style=\"color:slategray;font-size:120%;font-family:'Roboto';\">\n",
    "    <th style=\"text-align:center;\">BASIC</th> \n",
    "    <th style=\"text-align:center;\">Pascal</th>          \n",
    "  </tr>\n",
    "  <tr>\n",
    "    <td style=\"font-weight:bold;text-align:left;\"><pre><code class='basic'>\n",
    "\n",
    "SUB F(n)\n",
    "    IF n > 1 THEN\n",
    "        PRINT \"&#42;\";\n",
    "        F(n - 1)\n",
    "        F(n / 2)\n",
    "    END IF\n",
    "END SUB\n",
    "    </code></pre></td> \n",
    "    <td style=\"font-weight:bold;text-align:left;\"><pre><code class='pascal'> \n",
    "    \n",
    "procedure F(n : integer);\n",
    "begin\n",
    "    if n > 1 then\n",
    "        write('&#42;');\n",
    "        F(n - 1);\n",
    "        F(n div 2);\n",
    "    end;\n",
    "\n",
    "end\n",
    "    </code></pre></td>     \n",
    "  </tr>    \n",
    "  <tr style=\"color:slategray;font-size:120%;font-family:'Roboto';\">\n",
    "    <th style=\"text-align:center;\">C</th> \n",
    "    <th style=\"text-align:center;\">Natural Language Programming</th>          \n",
    "  </tr>\n",
    "  <tr>\n",
    "    <td style=\"font-weight:bold;text-align:left;\"><pre><code class='c'>\n",
    "\n",
    "void F(int n)\n",
    "{\n",
    "    if (n > 1)\n",
    "    {\n",
    "        printf(\"&#42;\");\n",
    "        F(n - 1);\n",
    "        F(n / 2);\n",
    "    }\n",
    "}   \n",
    "    </code></pre></td> \n",
    "    <td style=\"font-weight:bold;text-align:left;\"><pre><code class='nlp'> \n",
    "    \n",
    "алг F(цел n)\n",
    "нач\n",
    "    если n > 1 то\n",
    "        вывод \"&#42;\"\n",
    "        F(n - 1)\n",
    "        F(div(n, 2))\n",
    "    все\n",
    "кон\n",
    "    </code></pre></td>     \n",
    "  </tr>      \n",
    "</table>"
   ]
  },
  {
   "cell_type": "code",
   "execution_count": 154,
   "metadata": {},
   "outputs": [
    {
     "name": "stdout",
     "output_type": "stream",
     "text": [
      "[1] \"* 1\"\n",
      "[1] \"* 2\"\n",
      "[1] \"* 3\"\n",
      "[1] \"* 4\"\n",
      "[1] \"* 5\"\n",
      "[1] \"* 6\"\n",
      "[1] \"* 7\"\n",
      "[1] \"* 8\"\n",
      "[1] \"* 9\"\n",
      "[1] \"* 10\"\n",
      "[1] \"* 11\"\n",
      "[1] \"* 12\"\n"
     ]
    }
   ],
   "source": [
    "# расширенная версия программы\n",
    "c <- 0\n",
    "\n",
    "F <- function(n) {\n",
    "    if (n > 1) {\n",
    "        c <<- c + 1\n",
    "        print(paste('*',toString(c),sep=' '))\n",
    "        F(n - 1)\n",
    "        F(as.integer(n / 2))\n",
    "    }\n",
    "}\n",
    "\n",
    "F(7)"
   ]
  },
  {
   "cell_type": "code",
   "execution_count": 155,
   "metadata": {},
   "outputs": [],
   "source": [
    "answer_dictionary[11] <- toString(c)"
   ]
  },
  {
   "cell_type": "markdown",
   "metadata": {},
   "source": [
    "## 12.\n",
    "В терминологии сетей TCP/IP маской сети называется двоичное число, определяющее, какая часть IP-адреса узла сети относится к адресу сети, а какая — к адресу самого узла в этой сети.\n",
    "\n",
    "Обычно маска записывается по тем же правилам, что и IP-адрес, — в виде четырёх байтов, причём каждый байт записывается в виде десятичного числа. При этом в маске сначала (в старших разрядах) стоят единицы, а затем с некоторого разряда — нули.\n",
    "\n",
    "Адрес сети получается в результате применения поразрядной конъюнкции к заданному IP-адресу узла и маске.\n",
    "\n",
    "Например, если IP-адрес узла равен `231.32.255.131`, а маска равна `255.255.240.0`, то адрес сети равен `231.32.240.0`.\n",
    "\n",
    "Для узла с IP-адресом `83.242.102.102` адрес сети равен `83.242.96.0`. \n",
    "\n",
    "Чему равно наименьшее возможное значение третьего слева байта маски? Ответ запишите в виде десятичного числа.\n",
    "\n",
    "---\n",
    "\n",
    "In the terminology of TCP / IP networks, a network mask is a binary number that specifies what part of the IP address of the node refers to the network address, and which one to the host address in that network.\n",
    "\n",
    "Usually, the mask is written according to the same rules as the IP address, in the form of four bytes, and each byte is written as a decimal number. At the same time, in the mask in the binary form, first (in the higher order digits) there are 1, and then, from a certain level, zeros.\n",
    "\n",
    "The network address is obtained as a result of applying the bitwise conjunction to the specified node IP address and the mask.\n",
    "\n",
    "For example, if the host's IP address is `231.32.255.131`, and the mask is `255.255.240.0`, then the network address is `231.32.240.0`.\n",
    "\n",
    "For the node with the IP address of `83.242.102.102`, the network address is `83.242.96.0`. \n",
    "\n",
    "What is the smallest possible value of the third left of the mask byte? \n",
    "\n",
    "Write the answer in the form of a decimal number."
   ]
  },
  {
   "cell_type": "code",
   "execution_count": 156,
   "metadata": {},
   "outputs": [],
   "source": [
    "options(scipen = 999)\n",
    "\n",
    "dec2bin <- function(n) {\n",
    "  if (n == 0) {\n",
    "      bv <- '0'\n",
    "  } else {\n",
    "      bv <- rep(0, 1 + floor(log(n, 2)))\n",
    "      while (n >= 2) {\n",
    "          pow <- floor(log(n, 2))\n",
    "          bv[1 + pow] <- 1\n",
    "          n <- n - 2^pow\n",
    "      }\n",
    "      bv[1] <- n %% 2\n",
    "      paste(rev(bv), collapse = \"\")\n",
    "  }\n",
    "}\n",
    "bin2dec <- function(n) {\n",
    "  return(sapply(strsplit(as.character(n),split=\"\"), \n",
    "                function(x) sum(as.numeric(x) * 2 ** (rev(seq_along(x) - 1)))))\n",
    "}"
   ]
  },
  {
   "cell_type": "code",
   "execution_count": 157,
   "metadata": {},
   "outputs": [],
   "source": [
    "ip <- unlist(strsplit('83.242.102.102','[.]'))\n",
    "net <- unlist(strsplit('83.242.96.0','[.]'))\n",
    "\n",
    "ip_bin <- ''\n",
    "net_bin <- '' \n",
    "\n",
    "for (i in 1:4) {\n",
    "    ip_bin_cur <- dec2bin(as.integer(ip[i]))\n",
    "    if (nchar(ip_bin_cur) < 8) {\n",
    "        for (k in 1:(8 - nchar(ip_bin_cur))) {\n",
    "           ip_bin_cur <- paste('0',ip_bin_cur,sep='') \n",
    "        }\n",
    "    }\n",
    "\n",
    "    net_bin_cur <- dec2bin(as.integer(net[i]))\n",
    "    if (nchar(net_bin_cur) < 8) {\n",
    "        for (k in 1:(8 - nchar(net_bin_cur))) {\n",
    "           net_bin_cur <- paste('0',net_bin_cur,sep='') \n",
    "        }\n",
    "    }\n",
    "    \n",
    "    ip_bin <- paste(ip_bin,ip_bin_cur,sep='.')\n",
    "    net_bin <- paste(net_bin,net_bin_cur,sep='.')\n",
    "\n",
    "}\n",
    "\n",
    "ip_bin <- substr(ip_bin,2,nchar(ip_bin))\n",
    "net_bin <- substr(net_bin,2,nchar(net_bin))"
   ]
  },
  {
   "cell_type": "code",
   "execution_count": 158,
   "metadata": {},
   "outputs": [
    {
     "data": {
      "text/html": [
       "'01010011.11110010.01100110.01100110'"
      ],
      "text/latex": [
       "'01010011.11110010.01100110.01100110'"
      ],
      "text/markdown": [
       "'01010011.11110010.01100110.01100110'"
      ],
      "text/plain": [
       "[1] \"01010011.11110010.01100110.01100110\""
      ]
     },
     "metadata": {},
     "output_type": "display_data"
    }
   ],
   "source": [
    "ip_bin"
   ]
  },
  {
   "cell_type": "code",
   "execution_count": 159,
   "metadata": {},
   "outputs": [
    {
     "data": {
      "text/html": [
       "'01010011.11110010.01100000.00000000'"
      ],
      "text/latex": [
       "'01010011.11110010.01100000.00000000'"
      ],
      "text/markdown": [
       "'01010011.11110010.01100000.00000000'"
      ],
      "text/plain": [
       "[1] \"01010011.11110010.01100000.00000000\""
      ]
     },
     "metadata": {},
     "output_type": "display_data"
    }
   ],
   "source": [
    "net_bin"
   ]
  },
  {
   "cell_type": "code",
   "execution_count": 160,
   "metadata": {},
   "outputs": [
    {
     "data": {
      "text/html": [
       "'01100110'"
      ],
      "text/latex": [
       "'01100110'"
      ],
      "text/markdown": [
       "'01100110'"
      ],
      "text/plain": [
       "[1] \"01100110\""
      ]
     },
     "metadata": {},
     "output_type": "display_data"
    },
    {
     "data": {
      "text/html": [
       "'01100000'"
      ],
      "text/latex": [
       "'01100000'"
      ],
      "text/markdown": [
       "'01100000'"
      ],
      "text/plain": [
       "[1] \"01100000\""
      ]
     },
     "metadata": {},
     "output_type": "display_data"
    },
    {
     "data": {
      "text/html": [
       "<ol class=list-inline>\n",
       "\t<li>96</li>\n",
       "\t<li>97</li>\n",
       "\t<li>104</li>\n",
       "\t<li>105</li>\n",
       "\t<li>112</li>\n",
       "\t<li>113</li>\n",
       "\t<li>120</li>\n",
       "\t<li>121</li>\n",
       "\t<li>224</li>\n",
       "\t<li>225</li>\n",
       "\t<li>232</li>\n",
       "\t<li>233</li>\n",
       "\t<li>240</li>\n",
       "\t<li>241</li>\n",
       "\t<li>248</li>\n",
       "\t<li>249</li>\n",
       "</ol>\n"
      ],
      "text/latex": [
       "\\begin{enumerate*}\n",
       "\\item 96\n",
       "\\item 97\n",
       "\\item 104\n",
       "\\item 105\n",
       "\\item 112\n",
       "\\item 113\n",
       "\\item 120\n",
       "\\item 121\n",
       "\\item 224\n",
       "\\item 225\n",
       "\\item 232\n",
       "\\item 233\n",
       "\\item 240\n",
       "\\item 241\n",
       "\\item 248\n",
       "\\item 249\n",
       "\\end{enumerate*}\n"
      ],
      "text/markdown": [
       "1. 96\n",
       "2. 97\n",
       "3. 104\n",
       "4. 105\n",
       "5. 112\n",
       "6. 113\n",
       "7. 120\n",
       "8. 121\n",
       "9. 224\n",
       "10. 225\n",
       "11. 232\n",
       "12. 233\n",
       "13. 240\n",
       "14. 241\n",
       "15. 248\n",
       "16. 249\n",
       "\n",
       "\n"
      ],
      "text/plain": [
       " [1]  96  97 104 105 112 113 120 121 224 225 232 233 240 241 248 249"
      ]
     },
     "metadata": {},
     "output_type": "display_data"
    }
   ],
   "source": [
    "bc8 <- bincombinations(8)\n",
    "mask3 <- c()\n",
    "ip_bin3 <- substr(ip_bin,19,26)\n",
    "net_bin3 <- substr(net_bin,19,26)\n",
    "ip_bin3; net_bin3 \n",
    "\n",
    "ip_bin3 <- unlist(strsplit(ip_bin3,NULL))\n",
    "net_bin3 <- unlist(strsplit(net_bin3,NULL))\n",
    "\n",
    "for (j in 1:256){\n",
    "    c <- 0\n",
    "    for (i in 1:8) {\n",
    "        if (as.integer(as.integer(ip_bin3[i]) & bc8[j,i])== as.integer(net_bin3[i])) {\n",
    "            c <- c + 1\n",
    "        }\n",
    "    }\n",
    "    if (c == 8) {\n",
    "        mask3 <- append(mask3,j-1)\n",
    "    }\n",
    "} \n",
    "\n",
    "mask3"
   ]
  },
  {
   "cell_type": "code",
   "execution_count": 161,
   "metadata": {},
   "outputs": [
    {
     "data": {
      "text/html": [
       "<ol class=list-inline>\n",
       "\t<li>0</li>\n",
       "\t<li>128</li>\n",
       "\t<li>192</li>\n",
       "\t<li>224</li>\n",
       "\t<li>240</li>\n",
       "\t<li>248</li>\n",
       "\t<li>252</li>\n",
       "\t<li>254</li>\n",
       "\t<li>255</li>\n",
       "\t<li>255</li>\n",
       "\t<li>255</li>\n",
       "\t<li>255</li>\n",
       "\t<li>255</li>\n",
       "\t<li>255</li>\n",
       "\t<li>255</li>\n",
       "</ol>\n"
      ],
      "text/latex": [
       "\\begin{enumerate*}\n",
       "\\item 0\n",
       "\\item 128\n",
       "\\item 192\n",
       "\\item 224\n",
       "\\item 240\n",
       "\\item 248\n",
       "\\item 252\n",
       "\\item 254\n",
       "\\item 255\n",
       "\\item 255\n",
       "\\item 255\n",
       "\\item 255\n",
       "\\item 255\n",
       "\\item 255\n",
       "\\item 255\n",
       "\\end{enumerate*}\n"
      ],
      "text/markdown": [
       "1. 0\n",
       "2. 128\n",
       "3. 192\n",
       "4. 224\n",
       "5. 240\n",
       "6. 248\n",
       "7. 252\n",
       "8. 254\n",
       "9. 255\n",
       "10. 255\n",
       "11. 255\n",
       "12. 255\n",
       "13. 255\n",
       "14. 255\n",
       "15. 255\n",
       "\n",
       "\n"
      ],
      "text/plain": [
       " [1]   0 128 192 224 240 248 252 254 255 255 255 255 255 255 255"
      ]
     },
     "metadata": {},
     "output_type": "display_data"
    }
   ],
   "source": [
    "mask_list <- c('240.0.0.0','248.0.0.0','252.0.0.0','254.0.0.0','255.0.0.0',\n",
    "               '255.128.0.0','255.192.0.0','255.224.0.0','255.240.0.0','255.248.0.0', \n",
    "               '255.252.0.0','255.254.0.0','255.255.0.0','255.255.128.0','255.255.192.0',\n",
    "               '255.255.224.0','255.255.240.0','255.255.248.0','255.255.252.0','255.255.254.0',\n",
    "               '255.255.255.0','255.255.255.128','255.255.255.192','255.255.255.224','255.255.255.240',\n",
    "               '255.255.255.248','255.255.255.252')\n",
    "mask3_list <- c()\n",
    "\n",
    "for (i in 1:length(mask_list)) {\n",
    "    if (substr(mask_list[i],1,8) == '255.255.') {\n",
    "        c <- substr(mask_list[i],9,nchar(mask_list[i]))        \n",
    "        c <- as.integer(sub('\\\\..*', '', c))\n",
    "        mask3_list <- append(mask3_list,c)\n",
    "    }\n",
    "}\n",
    "mask3_list"
   ]
  },
  {
   "cell_type": "code",
   "execution_count": 162,
   "metadata": {},
   "outputs": [
    {
     "data": {
      "text/html": [
       "<ol class=list-inline>\n",
       "\t<li>224</li>\n",
       "\t<li>240</li>\n",
       "\t<li>248</li>\n",
       "</ol>\n"
      ],
      "text/latex": [
       "\\begin{enumerate*}\n",
       "\\item 224\n",
       "\\item 240\n",
       "\\item 248\n",
       "\\end{enumerate*}\n"
      ],
      "text/markdown": [
       "1. 224\n",
       "2. 240\n",
       "3. 248\n",
       "\n",
       "\n"
      ],
      "text/plain": [
       "[1] 224 240 248"
      ]
     },
     "metadata": {},
     "output_type": "display_data"
    }
   ],
   "source": [
    "intersect(mask3,mask3_list)"
   ]
  },
  {
   "cell_type": "code",
   "execution_count": 163,
   "metadata": {},
   "outputs": [],
   "source": [
    "answer_dictionary[12] <- min(intersect(mask3,mask3_list))"
   ]
  },
  {
   "cell_type": "markdown",
   "metadata": {},
   "source": [
    "## 13.\n",
    "В некоторой стране автомобильный номер состоит из 7 символов: сначала 2 буквы, затем 3 цифры, затем ещё 2 буквы. \n",
    "\n",
    "При этом буквы могут быть выбраны только из 12 строчных букв местного алфавита. \n",
    "\n",
    "Среди цифр не используются цифры 6 и 9. \n",
    "\n",
    "Автоматизированная система хранит номера автомобилей следующим образом. \n",
    "\n",
    "Используется посимвольное кодирование и в памяти системы для кодирования каждого символа используется минимально возможное и одинаково целое количество бит. \n",
    "\n",
    "А для хранения всего номера используется минимально возможное целое количество байт. \n",
    "\n",
    "Какое количество информации (в байтах) требуется для хранения номеров 160 автомобилей?\n",
    "\n",
    "---\n",
    "\n",
    "In some country, the car number consists of 7 symbols: first 2 letters, then 3 digits, then 2 more letters. \n",
    "\n",
    "Letters can be chosen only from 12 lowercase letters of the local alphabet. \n",
    "\n",
    "Among the digits, figures 6 and 9 are not used. \n",
    "\n",
    "The automated system stores car numbers by following rules. \n",
    "\n",
    "Symbol encoding is used and in the system memory, the minimum possible and equally integer number of bits is used to encode each character. \n",
    "\n",
    "And to store the entire car number, it is used the minimum possible integer number of bytes. \n",
    "\n",
    "How much information (in bytes) is required to store 160 cars?"
   ]
  },
  {
   "cell_type": "code",
   "execution_count": 164,
   "metadata": {},
   "outputs": [
    {
     "data": {
      "text/html": [
       "640"
      ],
      "text/latex": [
       "640"
      ],
      "text/markdown": [
       "640"
      ],
      "text/plain": [
       "[1] 640"
      ]
     },
     "metadata": {},
     "output_type": "display_data"
    }
   ],
   "source": [
    "# for example, a -'0000', b - '0001', etc.\n",
    "bits_for_letter <- ceiling(log2(12))\n",
    "# for example, 1 -'000', 1 - '001', etc.\n",
    "bits_for_digit <- ceiling(log2(8))\n",
    "# for one car number: 4 * letter bis + 3 * digit bits\n",
    "bits_for_number <- 4 * bits_for_letter + 3 * bits_for_digit\n",
    "# 1 byte = 8 bits\n",
    "bytes_for_number <- ceiling(bits_for_number / 8)\n",
    "# 160 cars\n",
    "bytes_for_160cars <- 160 * bytes_for_number\n",
    "bytes_for_160cars"
   ]
  },
  {
   "cell_type": "code",
   "execution_count": 165,
   "metadata": {},
   "outputs": [],
   "source": [
    "answer_dictionary[13] <- toString(bytes_for_160cars)"
   ]
  },
  {
   "cell_type": "markdown",
   "metadata": {},
   "source": [
    "## 14.\n",
    "Исполнитель $Редактор$ получает на вход строку цифр и преобразовывает её. \n",
    "\n",
    "$Редактор$ может выполнять две команды, в обеих командах `v` и `w` обозначают цепочки цифр:\n",
    "\n",
    "- `заменить (v, w)`\n",
    "\n",
    "Эта команда заменяет в строке первое слева вхождение цепочки `v` на цепочку `w`. Например, выполнение команды `заменить (222, 34)` преобразует строку `77222277` в строку `7734277`. Если в строке нет вхождений цепочки `v`, то выполнение команды `заменить (v, w)` не меняет эту строку.\n",
    "\n",
    "- `нашлось (v)` \n",
    "\n",
    "Эта команда проверяет, встречается ли цепочка `v` в строке исполнителя $Редактор$. Если она встречается, то команда возвращает логическое значение `«истина»`, в противном случае возвращает значение `«ложь»`. Строка при этом не изменяется исполнителем.\n",
    "\n",
    "---\n",
    "\n",
    "The performer $Editor$ receives a string of numbers and converts it. \n",
    "\n",
    "$Editor$ can execute two commands, in both commands, `v` and `w` denote a chain of numbers.\n",
    "\n",
    "- `replace (v, w)`\n",
    "\n",
    "This command replaces the first occurrence of the chain `v` from the left by the chain `w`. For example, the execution of the command `replace (222, 34)` converts the line `77222277` to the line `7734277`. If there are no occurrences of the string `v` in the line, then the execution of the command to `replace (v, w)` does not change this line. \n",
    "\n",
    "- `found (v)`\n",
    "\n",
    "This command checks if the string `v` is found in the line. If it occurs, the command returns a logical value of `\"true\"`, otherwise it returns `\"false\"`. The string is not changed by the performer in this case."
   ]
  },
  {
   "cell_type": "markdown",
   "metadata": {},
   "source": [
    "Цикл \n",
    "\n",
    "`ПОКА` $<условие>$\n",
    "\n",
    "- $ последовательность \\; команд $\n",
    "    \n",
    "`КОНЕЦ ПОКА`\n",
    "\n",
    "выполняется, пока условие истинно.\n",
    "\n",
    "В конструкции \n",
    "\n",
    "`ЕСЛИ` $<условие>$\n",
    "\n",
    "- `ТО` $команда \\; 1$\n",
    "\n",
    "- `ИНАЧЕ` $команда \\; 2$\n",
    "    \n",
    "`КОНЕЦ ЕСЛИ`\n",
    "\n",
    "выполняется `команда 1` (если условие истинно) или `команда 2` (если условие ложно).\n",
    "\n",
    "Какая строка получится в результате применения приведённой ниже программы к строке, состоящей из 69 идущих подряд цифр 7? \n",
    "\n",
    "В ответе запишите полученную строку.\n",
    "\n",
    "`НАЧАЛО`\n",
    "\n",
    "`ПОКА` $<нашлось \\; (7777)>$ `ИЛИ` $<нашлось\\; (8888)>$\n",
    "  \n",
    "- `ЕСЛИ` $<нашлось \\; (7777)>$ \n",
    "  \n",
    "  - `ТО` $заменить \\; (7777, 8)$\n",
    "    \n",
    "  - `ИНАЧЕ` $заменить \\; (8888, 7)$\n",
    "\n",
    "- `КОНЕЦ ЕСЛИ`  \n",
    "\n",
    "`КОНЕЦ ПОКА`\n",
    "\n",
    "`КОНЕЦ`\n",
    "\n",
    "---\n",
    "\n",
    "The cycle\n",
    "\n",
    "`WHILE` $<condition>$\n",
    "\n",
    "- $command \\; sequence$\n",
    "\n",
    "`END while`\n",
    "\n",
    "is executed until the condition is true.\n",
    "\n",
    "\n",
    "In the construction\n",
    "\n",
    "`IF` $<condition>$\n",
    "\n",
    "- `THEN` $command \\; 1$\n",
    "\n",
    "- `ELSE` $command \\; 2$\n",
    "\n",
    "`END IF`\n",
    "\n",
    "the `command 1` is executed (if the condition is true) or the `command 2` is executed (if the condition is false).\n",
    "\n",
    "Which line will be the result from applying for the program below to the line consisting of 69 consecutive digits 7? \n",
    "\n",
    "In the answer write down the received line.\n",
    "\n",
    "`START`\n",
    "\n",
    "`WHILE` $<found \\; (7777)>$ `OR` $<found \\; (8888)>$\n",
    "  \n",
    "- `IF` $<found \\; (7777)>$ \n",
    "  \n",
    "  - `THEN` $replace \\; (7777, 8)$\n",
    "    \n",
    "  - `ELSE` $replace \\; (8888, 7)$\n",
    "\n",
    "- `END IF` \n",
    "\n",
    "`END WHILE`\n",
    "\n",
    "`END`"
   ]
  },
  {
   "cell_type": "code",
   "execution_count": 166,
   "metadata": {},
   "outputs": [
    {
     "data": {
      "text/html": [
       "'777777777777777777777777777777777777777777777777777777777777777777777'"
      ],
      "text/latex": [
       "'777777777777777777777777777777777777777777777777777777777777777777777'"
      ],
      "text/markdown": [
       "'777777777777777777777777777777777777777777777777777777777777777777777'"
      ],
      "text/plain": [
       "[1] \"777777777777777777777777777777777777777777777777777777777777777777777\""
      ]
     },
     "metadata": {},
     "output_type": "display_data"
    }
   ],
   "source": [
    "string <- paste(replicate(69, \"7\"), collapse = \"\")\n",
    "string"
   ]
  },
  {
   "cell_type": "code",
   "execution_count": 167,
   "metadata": {},
   "outputs": [
    {
     "data": {
      "text/html": [
       "TRUE"
      ],
      "text/latex": [
       "TRUE"
      ],
      "text/markdown": [
       "TRUE"
      ],
      "text/plain": [
       "[1] TRUE"
      ]
     },
     "metadata": {},
     "output_type": "display_data"
    },
    {
     "data": {
      "text/html": [
       "FALSE"
      ],
      "text/latex": [
       "FALSE"
      ],
      "text/markdown": [
       "FALSE"
      ],
      "text/plain": [
       "[1] FALSE"
      ]
     },
     "metadata": {},
     "output_type": "display_data"
    }
   ],
   "source": [
    "grepl(\"7777\",string); grepl(\"8888\",string)"
   ]
  },
  {
   "cell_type": "code",
   "execution_count": 168,
   "metadata": {},
   "outputs": [
    {
     "name": "stdout",
     "output_type": "stream",
     "text": [
      "[1] \"877777777777777777777777777777777777777777777777777777777777777777\"\n",
      "[1] \"887777777777777777777777777777777777777777777777777777777777777\"\n",
      "[1] \"888777777777777777777777777777777777777777777777777777777777\"\n",
      "[1] \"888877777777777777777777777777777777777777777777777777777\"\n",
      "[1] \"888887777777777777777777777777777777777777777777777777\"\n",
      "[1] \"888888777777777777777777777777777777777777777777777\"\n",
      "[1] \"888888877777777777777777777777777777777777777777\"\n",
      "[1] \"888888887777777777777777777777777777777777777\"\n",
      "[1] \"888888888777777777777777777777777777777777\"\n",
      "[1] \"888888888877777777777777777777777777777\"\n",
      "[1] \"888888888887777777777777777777777777\"\n",
      "[1] \"888888888888777777777777777777777\"\n",
      "[1] \"888888888888877777777777777777\"\n",
      "[1] \"888888888888887777777777777\"\n",
      "[1] \"888888888888888777777777\"\n",
      "[1] \"888888888888888877777\"\n",
      "[1] \"888888888888888887\"\n",
      "[1] \"788888888888887\"\n",
      "[1] \"778888888887\"\n",
      "[1] \"777888887\"\n",
      "[1] \"777787\"\n",
      "[1] \"887\"\n"
     ]
    }
   ],
   "source": [
    "string_function <- function(w) {\n",
    "    while (grepl(\"7777\",w) | grepl(\"8888\",w)) {\n",
    "        \n",
    "        if (grepl(\"7777\",w)) { \n",
    "            w <- sub('7777','8',w)\n",
    "            print(w)\n",
    "        } else {\n",
    "            w <- sub('8888','7',w)\n",
    "            print(w)\n",
    "        }\n",
    "    }\n",
    "    \n",
    "    return(w)\n",
    "}\n",
    "\n",
    "result <- string_function(string)"
   ]
  },
  {
   "cell_type": "code",
   "execution_count": 169,
   "metadata": {},
   "outputs": [],
   "source": [
    "answer_dictionary[14] <- result"
   ]
  },
  {
   "cell_type": "markdown",
   "metadata": {},
   "source": [
    "## 15. \n",
    "На рисунке — схема дорог, связывающих города А, Б, В, Г, Д, Е, Ж, 3, И, К. \n",
    "\n",
    "По каждой дороге можно двигаться только в одном направлении, указанном стрелкой. \n",
    "\n",
    "Сколько существует различных путей из города А в город К?\n",
    "\n",
    "---\n",
    "\n",
    "In the figure there is a road scheme connecting the cities А, Б, В, Г, Д, Е, Ж, 3, И, К. \n",
    "\n",
    "For each road, it is possible to move only in one direction, indicated by an arrow. \n",
    "\n",
    "How many different paths exist from the city А to the city К?"
   ]
  },
  {
   "cell_type": "code",
   "execution_count": 170,
   "metadata": {},
   "outputs": [
    {
     "data": {
      "image/png": "[encoded data removed]",
      "text/plain": [
       "Plot with title “”"
      ]
     },
     "metadata": {},
     "output_type": "display_data"
    }
   ],
   "source": [
    "options(warn = -1,repr.plot.width=5,repr.plot.height=5)\n",
    "edges <- c('А','Б', 'А','В', 'А','Г', 'А','Д', 'Б','Д',\n",
    "           'В','И', 'В','Ж', 'В','Е', 'Г','В', 'Г','Е',\n",
    "           'Д','И', 'Д','Ж', 'Е','Ж', 'Е','З',\n",
    "           'Ж','З', 'З','И', 'З','К', 'И','К')\n",
    "g2 <- graph(edges)\n",
    "plot(g2, \n",
    "     vertex.color=\"steelblue\",vertex.size=15,\n",
    "     vertex.frame.color=\"gray\",vertex.shape='square')"
   ]
  },
  {
   "cell_type": "code",
   "execution_count": 171,
   "metadata": {},
   "outputs": [
    {
     "data": {
      "text/html": [
       "<ol>\n",
       "\t<li><ol class=list-inline>\n",
       "\t<li>'А'</li>\n",
       "\t<li>'Б'</li>\n",
       "\t<li>'Д'</li>\n",
       "\t<li>'И'</li>\n",
       "\t<li>'К'</li>\n",
       "</ol>\n",
       "</li>\n",
       "\t<li><ol class=list-inline>\n",
       "\t<li>'А'</li>\n",
       "\t<li>'Б'</li>\n",
       "\t<li>'Д'</li>\n",
       "\t<li>'Ж'</li>\n",
       "\t<li>'З'</li>\n",
       "\t<li>'И'</li>\n",
       "\t<li>'К'</li>\n",
       "</ol>\n",
       "</li>\n",
       "\t<li><ol class=list-inline>\n",
       "\t<li>'А'</li>\n",
       "\t<li>'Б'</li>\n",
       "\t<li>'Д'</li>\n",
       "\t<li>'Ж'</li>\n",
       "\t<li>'З'</li>\n",
       "\t<li>'К'</li>\n",
       "</ol>\n",
       "</li>\n",
       "\t<li><ol class=list-inline>\n",
       "\t<li>'А'</li>\n",
       "\t<li>'В'</li>\n",
       "\t<li>'И'</li>\n",
       "\t<li>'К'</li>\n",
       "</ol>\n",
       "</li>\n",
       "\t<li><ol class=list-inline>\n",
       "\t<li>'А'</li>\n",
       "\t<li>'В'</li>\n",
       "\t<li>'Ж'</li>\n",
       "\t<li>'З'</li>\n",
       "\t<li>'И'</li>\n",
       "\t<li>'К'</li>\n",
       "</ol>\n",
       "</li>\n",
       "\t<li><ol class=list-inline>\n",
       "\t<li>'А'</li>\n",
       "\t<li>'В'</li>\n",
       "\t<li>'Ж'</li>\n",
       "\t<li>'З'</li>\n",
       "\t<li>'К'</li>\n",
       "</ol>\n",
       "</li>\n",
       "\t<li><ol class=list-inline>\n",
       "\t<li>'А'</li>\n",
       "\t<li>'В'</li>\n",
       "\t<li>'Е'</li>\n",
       "\t<li>'Ж'</li>\n",
       "\t<li>'З'</li>\n",
       "\t<li>'И'</li>\n",
       "\t<li>'К'</li>\n",
       "</ol>\n",
       "</li>\n",
       "\t<li><ol class=list-inline>\n",
       "\t<li>'А'</li>\n",
       "\t<li>'В'</li>\n",
       "\t<li>'Е'</li>\n",
       "\t<li>'Ж'</li>\n",
       "\t<li>'З'</li>\n",
       "\t<li>'К'</li>\n",
       "</ol>\n",
       "</li>\n",
       "\t<li><ol class=list-inline>\n",
       "\t<li>'А'</li>\n",
       "\t<li>'В'</li>\n",
       "\t<li>'Е'</li>\n",
       "\t<li>'З'</li>\n",
       "\t<li>'И'</li>\n",
       "\t<li>'К'</li>\n",
       "</ol>\n",
       "</li>\n",
       "\t<li><ol class=list-inline>\n",
       "\t<li>'А'</li>\n",
       "\t<li>'В'</li>\n",
       "\t<li>'Е'</li>\n",
       "\t<li>'З'</li>\n",
       "\t<li>'К'</li>\n",
       "</ol>\n",
       "</li>\n",
       "\t<li><ol class=list-inline>\n",
       "\t<li>'А'</li>\n",
       "\t<li>'Г'</li>\n",
       "\t<li>'В'</li>\n",
       "\t<li>'И'</li>\n",
       "\t<li>'К'</li>\n",
       "</ol>\n",
       "</li>\n",
       "\t<li><ol class=list-inline>\n",
       "\t<li>'А'</li>\n",
       "\t<li>'Г'</li>\n",
       "\t<li>'В'</li>\n",
       "\t<li>'Ж'</li>\n",
       "\t<li>'З'</li>\n",
       "\t<li>'И'</li>\n",
       "\t<li>'К'</li>\n",
       "</ol>\n",
       "</li>\n",
       "\t<li><ol class=list-inline>\n",
       "\t<li>'А'</li>\n",
       "\t<li>'Г'</li>\n",
       "\t<li>'В'</li>\n",
       "\t<li>'Ж'</li>\n",
       "\t<li>'З'</li>\n",
       "\t<li>'К'</li>\n",
       "</ol>\n",
       "</li>\n",
       "\t<li><ol class=list-inline>\n",
       "\t<li>'А'</li>\n",
       "\t<li>'Г'</li>\n",
       "\t<li>'В'</li>\n",
       "\t<li>'Е'</li>\n",
       "\t<li>'Ж'</li>\n",
       "\t<li>'З'</li>\n",
       "\t<li>'И'</li>\n",
       "\t<li>'К'</li>\n",
       "</ol>\n",
       "</li>\n",
       "\t<li><ol class=list-inline>\n",
       "\t<li>'А'</li>\n",
       "\t<li>'Г'</li>\n",
       "\t<li>'В'</li>\n",
       "\t<li>'Е'</li>\n",
       "\t<li>'Ж'</li>\n",
       "\t<li>'З'</li>\n",
       "\t<li>'К'</li>\n",
       "</ol>\n",
       "</li>\n",
       "\t<li><ol class=list-inline>\n",
       "\t<li>'А'</li>\n",
       "\t<li>'Г'</li>\n",
       "\t<li>'В'</li>\n",
       "\t<li>'Е'</li>\n",
       "\t<li>'З'</li>\n",
       "\t<li>'И'</li>\n",
       "\t<li>'К'</li>\n",
       "</ol>\n",
       "</li>\n",
       "\t<li><ol class=list-inline>\n",
       "\t<li>'А'</li>\n",
       "\t<li>'Г'</li>\n",
       "\t<li>'В'</li>\n",
       "\t<li>'Е'</li>\n",
       "\t<li>'З'</li>\n",
       "\t<li>'К'</li>\n",
       "</ol>\n",
       "</li>\n",
       "\t<li><ol class=list-inline>\n",
       "\t<li>'А'</li>\n",
       "\t<li>'Г'</li>\n",
       "\t<li>'Е'</li>\n",
       "\t<li>'Ж'</li>\n",
       "\t<li>'З'</li>\n",
       "\t<li>'И'</li>\n",
       "\t<li>'К'</li>\n",
       "</ol>\n",
       "</li>\n",
       "\t<li><ol class=list-inline>\n",
       "\t<li>'А'</li>\n",
       "\t<li>'Г'</li>\n",
       "\t<li>'Е'</li>\n",
       "\t<li>'Ж'</li>\n",
       "\t<li>'З'</li>\n",
       "\t<li>'К'</li>\n",
       "</ol>\n",
       "</li>\n",
       "\t<li><ol class=list-inline>\n",
       "\t<li>'А'</li>\n",
       "\t<li>'Г'</li>\n",
       "\t<li>'Е'</li>\n",
       "\t<li>'З'</li>\n",
       "\t<li>'И'</li>\n",
       "\t<li>'К'</li>\n",
       "</ol>\n",
       "</li>\n",
       "\t<li><ol class=list-inline>\n",
       "\t<li>'А'</li>\n",
       "\t<li>'Г'</li>\n",
       "\t<li>'Е'</li>\n",
       "\t<li>'З'</li>\n",
       "\t<li>'К'</li>\n",
       "</ol>\n",
       "</li>\n",
       "\t<li><ol class=list-inline>\n",
       "\t<li>'А'</li>\n",
       "\t<li>'Д'</li>\n",
       "\t<li>'И'</li>\n",
       "\t<li>'К'</li>\n",
       "</ol>\n",
       "</li>\n",
       "\t<li><ol class=list-inline>\n",
       "\t<li>'А'</li>\n",
       "\t<li>'Д'</li>\n",
       "\t<li>'Ж'</li>\n",
       "\t<li>'З'</li>\n",
       "\t<li>'И'</li>\n",
       "\t<li>'К'</li>\n",
       "</ol>\n",
       "</li>\n",
       "\t<li><ol class=list-inline>\n",
       "\t<li>'А'</li>\n",
       "\t<li>'Д'</li>\n",
       "\t<li>'Ж'</li>\n",
       "\t<li>'З'</li>\n",
       "\t<li>'К'</li>\n",
       "</ol>\n",
       "</li>\n",
       "</ol>\n"
      ],
      "text/latex": [
       "\\begin{enumerate}\n",
       "\\item \\begin{enumerate*}\n",
       "\\item 'А'\n",
       "\\item 'Б'\n",
       "\\item 'Д'\n",
       "\\item 'И'\n",
       "\\item 'К'\n",
       "\\end{enumerate*}\n",
       "\n",
       "\\item \\begin{enumerate*}\n",
       "\\item 'А'\n",
       "\\item 'Б'\n",
       "\\item 'Д'\n",
       "\\item 'Ж'\n",
       "\\item 'З'\n",
       "\\item 'И'\n",
       "\\item 'К'\n",
       "\\end{enumerate*}\n",
       "\n",
       "\\item \\begin{enumerate*}\n",
       "\\item 'А'\n",
       "\\item 'Б'\n",
       "\\item 'Д'\n",
       "\\item 'Ж'\n",
       "\\item 'З'\n",
       "\\item 'К'\n",
       "\\end{enumerate*}\n",
       "\n",
       "\\item \\begin{enumerate*}\n",
       "\\item 'А'\n",
       "\\item 'В'\n",
       "\\item 'И'\n",
       "\\item 'К'\n",
       "\\end{enumerate*}\n",
       "\n",
       "\\item \\begin{enumerate*}\n",
       "\\item 'А'\n",
       "\\item 'В'\n",
       "\\item 'Ж'\n",
       "\\item 'З'\n",
       "\\item 'И'\n",
       "\\item 'К'\n",
       "\\end{enumerate*}\n",
       "\n",
       "\\item \\begin{enumerate*}\n",
       "\\item 'А'\n",
       "\\item 'В'\n",
       "\\item 'Ж'\n",
       "\\item 'З'\n",
       "\\item 'К'\n",
       "\\end{enumerate*}\n",
       "\n",
       "\\item \\begin{enumerate*}\n",
       "\\item 'А'\n",
       "\\item 'В'\n",
       "\\item 'Е'\n",
       "\\item 'Ж'\n",
       "\\item 'З'\n",
       "\\item 'И'\n",
       "\\item 'К'\n",
       "\\end{enumerate*}\n",
       "\n",
       "\\item \\begin{enumerate*}\n",
       "\\item 'А'\n",
       "\\item 'В'\n",
       "\\item 'Е'\n",
       "\\item 'Ж'\n",
       "\\item 'З'\n",
       "\\item 'К'\n",
       "\\end{enumerate*}\n",
       "\n",
       "\\item \\begin{enumerate*}\n",
       "\\item 'А'\n",
       "\\item 'В'\n",
       "\\item 'Е'\n",
       "\\item 'З'\n",
       "\\item 'И'\n",
       "\\item 'К'\n",
       "\\end{enumerate*}\n",
       "\n",
       "\\item \\begin{enumerate*}\n",
       "\\item 'А'\n",
       "\\item 'В'\n",
       "\\item 'Е'\n",
       "\\item 'З'\n",
       "\\item 'К'\n",
       "\\end{enumerate*}\n",
       "\n",
       "\\item \\begin{enumerate*}\n",
       "\\item 'А'\n",
       "\\item 'Г'\n",
       "\\item 'В'\n",
       "\\item 'И'\n",
       "\\item 'К'\n",
       "\\end{enumerate*}\n",
       "\n",
       "\\item \\begin{enumerate*}\n",
       "\\item 'А'\n",
       "\\item 'Г'\n",
       "\\item 'В'\n",
       "\\item 'Ж'\n",
       "\\item 'З'\n",
       "\\item 'И'\n",
       "\\item 'К'\n",
       "\\end{enumerate*}\n",
       "\n",
       "\\item \\begin{enumerate*}\n",
       "\\item 'А'\n",
       "\\item 'Г'\n",
       "\\item 'В'\n",
       "\\item 'Ж'\n",
       "\\item 'З'\n",
       "\\item 'К'\n",
       "\\end{enumerate*}\n",
       "\n",
       "\\item \\begin{enumerate*}\n",
       "\\item 'А'\n",
       "\\item 'Г'\n",
       "\\item 'В'\n",
       "\\item 'Е'\n",
       "\\item 'Ж'\n",
       "\\item 'З'\n",
       "\\item 'И'\n",
       "\\item 'К'\n",
       "\\end{enumerate*}\n",
       "\n",
       "\\item \\begin{enumerate*}\n",
       "\\item 'А'\n",
       "\\item 'Г'\n",
       "\\item 'В'\n",
       "\\item 'Е'\n",
       "\\item 'Ж'\n",
       "\\item 'З'\n",
       "\\item 'К'\n",
       "\\end{enumerate*}\n",
       "\n",
       "\\item \\begin{enumerate*}\n",
       "\\item 'А'\n",
       "\\item 'Г'\n",
       "\\item 'В'\n",
       "\\item 'Е'\n",
       "\\item 'З'\n",
       "\\item 'И'\n",
       "\\item 'К'\n",
       "\\end{enumerate*}\n",
       "\n",
       "\\item \\begin{enumerate*}\n",
       "\\item 'А'\n",
       "\\item 'Г'\n",
       "\\item 'В'\n",
       "\\item 'Е'\n",
       "\\item 'З'\n",
       "\\item 'К'\n",
       "\\end{enumerate*}\n",
       "\n",
       "\\item \\begin{enumerate*}\n",
       "\\item 'А'\n",
       "\\item 'Г'\n",
       "\\item 'Е'\n",
       "\\item 'Ж'\n",
       "\\item 'З'\n",
       "\\item 'И'\n",
       "\\item 'К'\n",
       "\\end{enumerate*}\n",
       "\n",
       "\\item \\begin{enumerate*}\n",
       "\\item 'А'\n",
       "\\item 'Г'\n",
       "\\item 'Е'\n",
       "\\item 'Ж'\n",
       "\\item 'З'\n",
       "\\item 'К'\n",
       "\\end{enumerate*}\n",
       "\n",
       "\\item \\begin{enumerate*}\n",
       "\\item 'А'\n",
       "\\item 'Г'\n",
       "\\item 'Е'\n",
       "\\item 'З'\n",
       "\\item 'И'\n",
       "\\item 'К'\n",
       "\\end{enumerate*}\n",
       "\n",
       "\\item \\begin{enumerate*}\n",
       "\\item 'А'\n",
       "\\item 'Г'\n",
       "\\item 'Е'\n",
       "\\item 'З'\n",
       "\\item 'К'\n",
       "\\end{enumerate*}\n",
       "\n",
       "\\item \\begin{enumerate*}\n",
       "\\item 'А'\n",
       "\\item 'Д'\n",
       "\\item 'И'\n",
       "\\item 'К'\n",
       "\\end{enumerate*}\n",
       "\n",
       "\\item \\begin{enumerate*}\n",
       "\\item 'А'\n",
       "\\item 'Д'\n",
       "\\item 'Ж'\n",
       "\\item 'З'\n",
       "\\item 'И'\n",
       "\\item 'К'\n",
       "\\end{enumerate*}\n",
       "\n",
       "\\item \\begin{enumerate*}\n",
       "\\item 'А'\n",
       "\\item 'Д'\n",
       "\\item 'Ж'\n",
       "\\item 'З'\n",
       "\\item 'К'\n",
       "\\end{enumerate*}\n",
       "\n",
       "\\end{enumerate}\n"
      ],
      "text/markdown": [
       "1. 1. 'А'\n",
       "2. 'Б'\n",
       "3. 'Д'\n",
       "4. 'И'\n",
       "5. 'К'\n",
       "\n",
       "\n",
       "\n",
       "2. 1. 'А'\n",
       "2. 'Б'\n",
       "3. 'Д'\n",
       "4. 'Ж'\n",
       "5. 'З'\n",
       "6. 'И'\n",
       "7. 'К'\n",
       "\n",
       "\n",
       "\n",
       "3. 1. 'А'\n",
       "2. 'Б'\n",
       "3. 'Д'\n",
       "4. 'Ж'\n",
       "5. 'З'\n",
       "6. 'К'\n",
       "\n",
       "\n",
       "\n",
       "4. 1. 'А'\n",
       "2. 'В'\n",
       "3. 'И'\n",
       "4. 'К'\n",
       "\n",
       "\n",
       "\n",
       "5. 1. 'А'\n",
       "2. 'В'\n",
       "3. 'Ж'\n",
       "4. 'З'\n",
       "5. 'И'\n",
       "6. 'К'\n",
       "\n",
       "\n",
       "\n",
       "6. 1. 'А'\n",
       "2. 'В'\n",
       "3. 'Ж'\n",
       "4. 'З'\n",
       "5. 'К'\n",
       "\n",
       "\n",
       "\n",
       "7. 1. 'А'\n",
       "2. 'В'\n",
       "3. 'Е'\n",
       "4. 'Ж'\n",
       "5. 'З'\n",
       "6. 'И'\n",
       "7. 'К'\n",
       "\n",
       "\n",
       "\n",
       "8. 1. 'А'\n",
       "2. 'В'\n",
       "3. 'Е'\n",
       "4. 'Ж'\n",
       "5. 'З'\n",
       "6. 'К'\n",
       "\n",
       "\n",
       "\n",
       "9. 1. 'А'\n",
       "2. 'В'\n",
       "3. 'Е'\n",
       "4. 'З'\n",
       "5. 'И'\n",
       "6. 'К'\n",
       "\n",
       "\n",
       "\n",
       "10. 1. 'А'\n",
       "2. 'В'\n",
       "3. 'Е'\n",
       "4. 'З'\n",
       "5. 'К'\n",
       "\n",
       "\n",
       "\n",
       "11. 1. 'А'\n",
       "2. 'Г'\n",
       "3. 'В'\n",
       "4. 'И'\n",
       "5. 'К'\n",
       "\n",
       "\n",
       "\n",
       "12. 1. 'А'\n",
       "2. 'Г'\n",
       "3. 'В'\n",
       "4. 'Ж'\n",
       "5. 'З'\n",
       "6. 'И'\n",
       "7. 'К'\n",
       "\n",
       "\n",
       "\n",
       "13. 1. 'А'\n",
       "2. 'Г'\n",
       "3. 'В'\n",
       "4. 'Ж'\n",
       "5. 'З'\n",
       "6. 'К'\n",
       "\n",
       "\n",
       "\n",
       "14. 1. 'А'\n",
       "2. 'Г'\n",
       "3. 'В'\n",
       "4. 'Е'\n",
       "5. 'Ж'\n",
       "6. 'З'\n",
       "7. 'И'\n",
       "8. 'К'\n",
       "\n",
       "\n",
       "\n",
       "15. 1. 'А'\n",
       "2. 'Г'\n",
       "3. 'В'\n",
       "4. 'Е'\n",
       "5. 'Ж'\n",
       "6. 'З'\n",
       "7. 'К'\n",
       "\n",
       "\n",
       "\n",
       "16. 1. 'А'\n",
       "2. 'Г'\n",
       "3. 'В'\n",
       "4. 'Е'\n",
       "5. 'З'\n",
       "6. 'И'\n",
       "7. 'К'\n",
       "\n",
       "\n",
       "\n",
       "17. 1. 'А'\n",
       "2. 'Г'\n",
       "3. 'В'\n",
       "4. 'Е'\n",
       "5. 'З'\n",
       "6. 'К'\n",
       "\n",
       "\n",
       "\n",
       "18. 1. 'А'\n",
       "2. 'Г'\n",
       "3. 'Е'\n",
       "4. 'Ж'\n",
       "5. 'З'\n",
       "6. 'И'\n",
       "7. 'К'\n",
       "\n",
       "\n",
       "\n",
       "19. 1. 'А'\n",
       "2. 'Г'\n",
       "3. 'Е'\n",
       "4. 'Ж'\n",
       "5. 'З'\n",
       "6. 'К'\n",
       "\n",
       "\n",
       "\n",
       "20. 1. 'А'\n",
       "2. 'Г'\n",
       "3. 'Е'\n",
       "4. 'З'\n",
       "5. 'И'\n",
       "6. 'К'\n",
       "\n",
       "\n",
       "\n",
       "21. 1. 'А'\n",
       "2. 'Г'\n",
       "3. 'Е'\n",
       "4. 'З'\n",
       "5. 'К'\n",
       "\n",
       "\n",
       "\n",
       "22. 1. 'А'\n",
       "2. 'Д'\n",
       "3. 'И'\n",
       "4. 'К'\n",
       "\n",
       "\n",
       "\n",
       "23. 1. 'А'\n",
       "2. 'Д'\n",
       "3. 'Ж'\n",
       "4. 'З'\n",
       "5. 'И'\n",
       "6. 'К'\n",
       "\n",
       "\n",
       "\n",
       "24. 1. 'А'\n",
       "2. 'Д'\n",
       "3. 'Ж'\n",
       "4. 'З'\n",
       "5. 'К'\n",
       "\n",
       "\n",
       "\n",
       "\n",
       "\n"
      ],
      "text/plain": [
       "[[1]]\n",
       "[1] \"А\" \"Б\" \"Д\" \"И\" \"К\"\n",
       "\n",
       "[[2]]\n",
       "[1] \"А\" \"Б\" \"Д\" \"Ж\" \"З\" \"И\" \"К\"\n",
       "\n",
       "[[3]]\n",
       "[1] \"А\" \"Б\" \"Д\" \"Ж\" \"З\" \"К\"\n",
       "\n",
       "[[4]]\n",
       "[1] \"А\" \"В\" \"И\" \"К\"\n",
       "\n",
       "[[5]]\n",
       "[1] \"А\" \"В\" \"Ж\" \"З\" \"И\" \"К\"\n",
       "\n",
       "[[6]]\n",
       "[1] \"А\" \"В\" \"Ж\" \"З\" \"К\"\n",
       "\n",
       "[[7]]\n",
       "[1] \"А\" \"В\" \"Е\" \"Ж\" \"З\" \"И\" \"К\"\n",
       "\n",
       "[[8]]\n",
       "[1] \"А\" \"В\" \"Е\" \"Ж\" \"З\" \"К\"\n",
       "\n",
       "[[9]]\n",
       "[1] \"А\" \"В\" \"Е\" \"З\" \"И\" \"К\"\n",
       "\n",
       "[[10]]\n",
       "[1] \"А\" \"В\" \"Е\" \"З\" \"К\"\n",
       "\n",
       "[[11]]\n",
       "[1] \"А\" \"Г\" \"В\" \"И\" \"К\"\n",
       "\n",
       "[[12]]\n",
       "[1] \"А\" \"Г\" \"В\" \"Ж\" \"З\" \"И\" \"К\"\n",
       "\n",
       "[[13]]\n",
       "[1] \"А\" \"Г\" \"В\" \"Ж\" \"З\" \"К\"\n",
       "\n",
       "[[14]]\n",
       "[1] \"А\" \"Г\" \"В\" \"Е\" \"Ж\" \"З\" \"И\" \"К\"\n",
       "\n",
       "[[15]]\n",
       "[1] \"А\" \"Г\" \"В\" \"Е\" \"Ж\" \"З\" \"К\"\n",
       "\n",
       "[[16]]\n",
       "[1] \"А\" \"Г\" \"В\" \"Е\" \"З\" \"И\" \"К\"\n",
       "\n",
       "[[17]]\n",
       "[1] \"А\" \"Г\" \"В\" \"Е\" \"З\" \"К\"\n",
       "\n",
       "[[18]]\n",
       "[1] \"А\" \"Г\" \"Е\" \"Ж\" \"З\" \"И\" \"К\"\n",
       "\n",
       "[[19]]\n",
       "[1] \"А\" \"Г\" \"Е\" \"Ж\" \"З\" \"К\"\n",
       "\n",
       "[[20]]\n",
       "[1] \"А\" \"Г\" \"Е\" \"З\" \"И\" \"К\"\n",
       "\n",
       "[[21]]\n",
       "[1] \"А\" \"Г\" \"Е\" \"З\" \"К\"\n",
       "\n",
       "[[22]]\n",
       "[1] \"А\" \"Д\" \"И\" \"К\"\n",
       "\n",
       "[[23]]\n",
       "[1] \"А\" \"Д\" \"Ж\" \"З\" \"И\" \"К\"\n",
       "\n",
       "[[24]]\n",
       "[1] \"А\" \"Д\" \"Ж\" \"З\" \"К\"\n"
      ]
     },
     "metadata": {},
     "output_type": "display_data"
    }
   ],
   "source": [
    "paths <- all_simple_paths(g2,'А','К')\n",
    "paths <- lapply(1:length(paths), function(x) as_ids(paths[[x]]))\n",
    "paths"
   ]
  },
  {
   "cell_type": "code",
   "execution_count": 172,
   "metadata": {},
   "outputs": [],
   "source": [
    "answer_dictionary[15] <- toString(length(paths))"
   ]
  },
  {
   "cell_type": "markdown",
   "metadata": {},
   "source": [
    "## 16.\n",
    "Запись числа $46_{10}$ в системе счисления с основанием N оканчивается на 1 и содержит 3 цифры. \n",
    "\n",
    "Чему равно основание этой системы счисления N?\n",
    "\n",
    "---\n",
    "\n",
    "The number $46_{10}$ in the number system with the base N ends in 1 and contains 3 digits. \n",
    "\n",
    "What is the basis of this number system N?"
   ]
  },
  {
   "cell_type": "code",
   "execution_count": 173,
   "metadata": {},
   "outputs": [
    {
     "name": "stdout",
     "output_type": "stream",
     "text": [
      "[1] 5\n"
     ]
    }
   ],
   "source": [
    "# in the decimal notation system - a two-digit number \n",
    "# in the N-based notation system - a three-digit number\n",
    "# => N < 10 \n",
    "for (i in 1:9) {\n",
    "    if (6 %% i == 1) {\n",
    "        print(i)\n",
    "    }\n",
    "}"
   ]
  },
  {
   "cell_type": "code",
   "execution_count": 174,
   "metadata": {},
   "outputs": [],
   "source": [
    "answer_dictionary[16] <- '5'"
   ]
  },
  {
   "cell_type": "code",
   "execution_count": 175,
   "metadata": {},
   "outputs": [
    {
     "data": {
      "text/html": [
       "'141'"
      ],
      "text/latex": [
       "'141'"
      ],
      "text/markdown": [
       "'141'"
      ],
      "text/plain": [
       "[1] \"141\""
      ]
     },
     "metadata": {},
     "output_type": "display_data"
    }
   ],
   "source": [
    "# the division remainder = 1 for i = 5 => N = 5\n",
    "# in the 5-based system 46 is equal: 1 * 5^2 + 4 * 5^1 + 1 * 5^0\n",
    "number <- toString(c(46 %/% 5 ** 2, 46 %% 5 ** 2 %/% 5, 46 %% 5))\n",
    "number <- gsub(', ','',number)\n",
    "number"
   ]
  },
  {
   "cell_type": "markdown",
   "metadata": {},
   "source": [
    "## 17.\n",
    "В языке запросов к поисковому серверу \n",
    "\n",
    "- для обозначения логической операции `«ИЛИ»` используется символ `|`, \n",
    "- а для логической операции `«И»` — `&`. \n",
    "\n",
    "В таблице приведено количество страниц, которое находит поисковая система по каждому запросу.\n",
    "\n",
    "---\n",
    "\n",
    "In the query language to the search server, \n",
    "- the symbol `\"|\"` is used to indicate the logical operation `\"OR\"`, \n",
    "- and for the logical operation `\"AND\"` - `\"&\"`. \n",
    "\n",
    "The table shows the number of pages that the search engine finds for each query.\n",
    "\n",
    "| Запрос | Количество найденных страниц (в тысячах) |\n",
    "|:-:|:-:|\n",
    "| Query | Number of pages found |\n",
    "| $Стекло$ | 26 |\n",
    "| $Бетон$ | 25 |\n",
    "| $Кирпич$ | 31 |\n",
    "| $Стекло \\ \\& \\ Бетон$ | 10 |\n",
    "| $Стекло \\ \\& \\ Кирпич$ | 16 |\n",
    "| $Бетон \\ \\& \\ Кирпич$ | 12 |\n",
    "| $Стекло \\ \\& \\ Бетон \\ \\& \\ Кирпич$ | 3 |\n",
    "\n",
    "Какое количество страниц (в тысячах) будет найдено этой поисковой системой по запросу $Стекло \\mid Бетон \\mid Кирпич$?\n",
    "\n",
    "---\n",
    "\n",
    "How many pages (in thousands) will be found on the query $Стекло \\mid Бетон \\mid Кирпич$?"
   ]
  },
  {
   "cell_type": "markdown",
   "metadata": {},
   "source": [
    "`Стекло ∣ Бетон ∣ Кирпич` = `Стекло` + `Бетон` + `Кирпич` - `Стекло & Бетон` - `Стекло & Кирпич` - `Бетон & Кирпич` + `Стекло & Бетон & Кирпич`"
   ]
  },
  {
   "cell_type": "code",
   "execution_count": 176,
   "metadata": {},
   "outputs": [],
   "source": [
    "answer_dictionary[17] <- toString(26 + 25 + 31 - 10 - 16 - 12 + 3)"
   ]
  },
  {
   "cell_type": "code",
   "execution_count": 177,
   "metadata": {},
   "outputs": [
    {
     "data": {
      "image/png": "[encoded data removed]",
      "text/plain": [
       "plot without title"
      ]
     },
     "metadata": {},
     "output_type": "display_data"
    }
   ],
   "source": [
    "options(repr.plot.width=5,repr.plot.height=5)\n",
    "venn.plot <- draw.triple.venn(\n",
    "    area1 = 26, area2 = 25, area3 = 31,\n",
    "    n12 = 10, n23 = 12, n13 = 16,\n",
    "    n123 = 3,\n",
    "    category = c(\"Glass\", \"Concrete\", \"Brick\"),\n",
    "    fill = c(\"steelblue\", \"coral\", \"lightgreen\"),\n",
    "    lty = \"blank\",\n",
    "    cex = 2, cat.cex = 2, \n",
    "    cat.dist = c(0.1, 0.1, -0.5), cat.pos = c(-5, 5, 0),\n",
    "    cat.col = c(\"steelblue\", \"coral\", \"lightgreen\")\n",
    ");\n",
    "grid.draw(venn.plot);\n",
    "grid.newpage();"
   ]
  },
  {
   "cell_type": "markdown",
   "metadata": {},
   "source": [
    "## 18.\n",
    "На числовой прямой даны отрезки Р = [5, 13] и Q = [8, 19]. \n",
    "\n",
    "Укажите наименьшую возможную длину такого отрезка А, что формула \n",
    "\n",
    "$(x \\in P) \\to \\neg ( \\neg (x \\in A) \\land \\neg (x \\in Q))$ верна при любых значениях х.\n",
    "\n",
    "On the number line, the segments P = [5, 13] and Q = [8, 19] are given. \n",
    "\n",
    "Indicate the smallest possible length of the segment A, that the formula \n",
    "\n",
    "$(x \\in P) \\to \\neg ( \\neg (x \\in A) \\land \\neg (x \\in Q))$ is true for any values of x."
   ]
  },
  {
   "cell_type": "markdown",
   "metadata": {},
   "source": [
    "$(x \\in P) \\to \\neg ( \\neg (x \\in A) \\land \\neg (x \\in Q)) \\iff$ **(De Morgan's laws)**\n",
    "\n",
    "$\\iff (x \\in P) \\to \\neg \\neg ((x \\in A) \\lor (x \\in Q)) \\iff$ **(double negation)**\n",
    "\n",
    "$\\iff (x \\in P) \\to ((x \\in A) \\lor (x \\in Q))$ "
   ]
  },
  {
   "cell_type": "markdown",
   "metadata": {},
   "source": [
    "Геометрический смысл данной импликации: \n",
    "\n",
    "любая точка интервала P должна принадлежать объединению интервалов A и Q. \n",
    "\n",
    "Это верно только в случае, если A не меньше отрезка [5, 8].\n",
    "\n",
    "---\n",
    "\n",
    "The geometric meaning of this implication is:\n",
    "\n",
    "any point of the interval P must belong to the union of the intervals A and Q.\n",
    "\n",
    "This is true only if A is not smaller than the interval [5, 8]."
   ]
  },
  {
   "cell_type": "code",
   "execution_count": 178,
   "metadata": {},
   "outputs": [
    {
     "data": {
      "image/png": "[encoded data removed]",
      "text/plain": [
       "plot without title"
      ]
     },
     "metadata": {},
     "output_type": "display_data"
    }
   ],
   "source": [
    "options(repr.plot.width=9,repr.plot.height=3)\n",
    "par(mar=c(2,2,2,2))\n",
    "\n",
    "plot(c(5,8,8,19,5,13),c(0,0,1,1,-1,-1),col=c(4,4,2,2,6,6),\n",
    "     pch=20,cex=2,xaxt='n',yaxt='n',xlim=c(4,20),ylim=c(-2.5,2.5))\n",
    "\n",
    "segments(c(5,8,5),c(0,1,-1),c(8,19,13),c(0,1,-1),col=c(4,2,6),lw=2)\n",
    "text(c(6.5,13.5,9),c(0.5,1.5,-0.5),c('A','Q','P'),col=c(4,2,6),cex=1.5)\n",
    "\n",
    "axis(1,pos=-1.5,at=5:19)"
   ]
  },
  {
   "cell_type": "code",
   "execution_count": 179,
   "metadata": {},
   "outputs": [],
   "source": [
    "answer_dictionary[18] <- toString(8 - 5)"
   ]
  },
  {
   "cell_type": "markdown",
   "metadata": {},
   "source": [
    "## 19.\n",
    "В программе используется целочисленный массив А с индексами от 0 до 9. \n",
    "\n",
    "Значения элементов массива равны $6; 5; 4; 7; 10; 6; 9; 11; 7; 8$ соответственно, т.е. $А[0] = 6; А[1] = 5$ и т.д.\n",
    "\n",
    "Определите значение переменной $k$ после выполнения следующего фрагмента программы, \n",
    "\n",
    "записанной ниже на разных языках программирования.\n",
    "\n",
    "---\n",
    "\n",
    "The program uses an integer array A with indices from 0 to 9. \n",
    "\n",
    "The values of the elements of the array are $6; 5; 4; 7; 10; 6; 9; 11; 7; 8$ respectively, i.e. $A [0] = 6; A [1] = 5$, and so on.\n",
    "\n",
    "Determine the value of the variable $k$ after the execution of the next program fragment, \n",
    "\n",
    "recorded below in different programming languages.\n",
    "\n",
    "<table style=\"width:95%;\">\n",
    "  <tr style=\"color:slategray;font-size:120%;font-family:'Roboto';\">\n",
    "    <th style=\"text-align:center;\">Python</th> \n",
    "    <th style=\"text-align:center;\">R</th>          \n",
    "  </tr>\n",
    "  <tr>\n",
    "    <td style=\"font-weight:bold;text-align:left;\"><pre><code class='python'>\n",
    "\n",
    "A = [6,5,4,7,10,6,9,11,7,8]\n",
    "k = 0\n",
    "m = A[0]\n",
    "for i in range(1,10): \n",
    "    if A[i] > m:\n",
    "        k = i\n",
    "    </code></pre></td> \n",
    "    <td style=\"font-weight:bold;text-align:left;\"><pre><code class='r'> \n",
    "    \n",
    "A <- c(6,5,4,7,10,6,9,11,7,8)\n",
    "k <- 1\n",
    "m <- A[1]\n",
    "for (i in 2:10) {\n",
    "    if (A[i] > m){\n",
    "        k <- i-1\n",
    "    }\n",
    "}      \n",
    "    </code></pre></td>     \n",
    "  </tr> \n",
    "</table>  "
   ]
  },
  {
   "cell_type": "code",
   "execution_count": 180,
   "metadata": {},
   "outputs": [
    {
     "data": {
      "text/html": [
       "9"
      ],
      "text/latex": [
       "9"
      ],
      "text/markdown": [
       "9"
      ],
      "text/plain": [
       "[1] 9"
      ]
     },
     "metadata": {},
     "output_type": "display_data"
    }
   ],
   "source": [
    "A <- c(6,5,4,7,10,6,9,11,7,8)\n",
    "k <- 1\n",
    "m <- A[1]\n",
    "for (i in 2:10) {\n",
    "    if (A[i] > m){\n",
    "        k <- i-1\n",
    "    }\n",
    "}  \n",
    "\n",
    "k"
   ]
  },
  {
   "cell_type": "code",
   "execution_count": 181,
   "metadata": {},
   "outputs": [],
   "source": [
    "answer_dictionary[19] <- toString(k)"
   ]
  },
  {
   "cell_type": "markdown",
   "metadata": {},
   "source": [
    "## 20.\n",
    "Получив на вход число х, алгоритм печатает число М. \n",
    "\n",
    "Укажите наибольшее число х, при вводе которого алгоритм печатает 7.\n",
    "\n",
    "Having received the input number x, the algorithm prints the number M. \n",
    "\n",
    "Specify the largest number of x, when the algorithm prints out 7.\n",
    "<table style=\"width:95%;\">\n",
    "  <tr style=\"color:slategray;font-size:120%;font-family:'Roboto';\">\n",
    "    <th style=\"text-align:center;\">Python</th> \n",
    "    <th style=\"text-align:center;\">R</th>          \n",
    "  </tr>\n",
    "  <tr>\n",
    "    <td style=\"font-weight:bold;text-align:left;\"><pre><code class='python'>\n",
    "    \n",
    "x = int(input())\n",
    "M = 0\n",
    "\n",
    "while x > 0:\n",
    "    M += 1\n",
    "    if x % 2 != 0:\n",
    "        x -= 1\n",
    "    x = x / 2\n",
    "\n",
    "print(M)\n",
    "    </code></pre></td> \n",
    "    <td style=\"font-weight:bold;text-align:left;\"><pre><code class='r'> \n",
    "    \n",
    "x <- as.integer(readline())\n",
    "M <- 0\n",
    "\n",
    "while (x > 0){\n",
    "    M <- M + 1\n",
    "    if (x %% 2 != 0) {\n",
    "        x <- x - 1\n",
    "    }\n",
    "    x <- x / 2\n",
    "}\n",
    "\n",
    "print(M)        \n",
    "    </code></pre></td>     \n",
    "  </tr> \n",
    "</table>  "
   ]
  },
  {
   "cell_type": "code",
   "execution_count": 72,
   "metadata": {},
   "outputs": [
    {
     "name": "stdout",
     "output_type": "stream",
     "text": [
      "127\n",
      "[1] 7\n"
     ]
    }
   ],
   "source": [
    "x <- as.integer(readline())\n",
    "M <- 0\n",
    "\n",
    "while (x > 0){\n",
    "    M <- M + 1\n",
    "    if (x %% 2 != 0) {\n",
    "        x <- x - 1\n",
    "    }\n",
    "    x <- x / 2\n",
    "}\n",
    "\n",
    "print(M)"
   ]
  },
  {
   "cell_type": "code",
   "execution_count": 182,
   "metadata": {},
   "outputs": [
    {
     "name": "stdout",
     "output_type": "stream",
     "text": [
      " [1]  64  65  66  67  68  69  70  71  72  73  74  75  76  77  78  79  80  81  82\n",
      "[20]  83  84  85  86  87  88  89  90  91  92  93  94  95  96  97  98  99 100 101\n",
      "[39] 102 103 104 105 106 107 108 109 110 111 112 113 114 115 116 117 118 119 120\n",
      "[58] 121 122 123 124 125 126 127\n",
      "[1] 127\n"
     ]
    }
   ],
   "source": [
    "# расширенная версия программы\n",
    "x_M7 <- c()\n",
    "for (x in 1:200) {\n",
    "    y <- x; M <- 0\n",
    "    \n",
    "    while (x > 0 & M < 8) {\n",
    "        M <- M + 1\n",
    "        if (x %% 2 != 0) {\n",
    "            x <- x - 1\n",
    "        }\n",
    "        x = x / 2\n",
    "    }\n",
    "    \n",
    "    if (M == 7) {\n",
    "        x_M7 <- append(x_M7,y)\n",
    "    }\n",
    "}\n",
    "\n",
    "print(x_M7)\n",
    "print(max(x_M7))"
   ]
  },
  {
   "cell_type": "code",
   "execution_count": 183,
   "metadata": {},
   "outputs": [],
   "source": [
    "answer_dictionary[20] <- toString(max(x_M7))"
   ]
  },
  {
   "cell_type": "markdown",
   "metadata": {},
   "source": [
    "## 21.\n",
    "Определите, при скольких значениях $b$ на экран будет выведено такое же число, как и при $b = 100$ (включая $b = 100$).\n",
    "\n",
    "---\n",
    "\n",
    "Determine for how many values of $b$ the same number will be displayed on the screen as for $b = 100$ (including $b = 100$).\n",
    "\n",
    "<table style=\"width:95%;\">\n",
    "  <tr style=\"color:slategray;font-size:120%;font-family:'Roboto';\">\n",
    "    <th style=\"text-align:center;\">Python</th> \n",
    "    <th style=\"text-align:center;\">R</th>          \n",
    "  </tr>\n",
    "  <tr>\n",
    "    <td style=\"font-weight:bold;text-align:left;\"><pre><code class='python'>\n",
    "    \n",
    "def F(x):\n",
    "    if x == 0: \n",
    "        return 1\n",
    "    else: \n",
    "        return 2 &#42; F(x - 1)\n",
    "    \n",
    "b = int(input())\n",
    "a = 0\n",
    "\n",
    "while F(a) < b:\n",
    "    a += 1\n",
    "    \n",
    "print(a)\n",
    "    </code></pre></td> \n",
    "    <td style=\"font-weight:bold;text-align:left;\"><pre><code class='r'> \n",
    "\n",
    "F <- function(x) {\n",
    "    if (x == 0) {\n",
    "        return(1)\n",
    "    } else {\n",
    "        return(2 &#42; F(x - 1))\n",
    "    }\n",
    "}\n",
    "\n",
    "b <- as.integer(readline())\n",
    "a <- 0\n",
    "\n",
    "while (F(a) < b){\n",
    "    a <- a + 1\n",
    "}\n",
    "\n",
    "print(a)        \n",
    "    </code></pre></td>     \n",
    "  </tr> \n",
    "</table>  "
   ]
  },
  {
   "cell_type": "code",
   "execution_count": 197,
   "metadata": {},
   "outputs": [
    {
     "name": "stdout",
     "output_type": "stream",
     "text": [
      "100\n",
      "[1] 7\n"
     ]
    }
   ],
   "source": [
    "F <- function(x) {\n",
    "    if (x == 0) {\n",
    "        return(1)\n",
    "    } else {\n",
    "        return(2 * F(x - 1))\n",
    "    }\n",
    "}\n",
    "\n",
    "b <- as.integer(readline())\n",
    "a <- 0\n",
    "\n",
    "while (F(a) < b){\n",
    "    a <- a + 1\n",
    "}\n",
    "\n",
    "print(a)   "
   ]
  },
  {
   "cell_type": "code",
   "execution_count": 184,
   "metadata": {},
   "outputs": [
    {
     "name": "stdout",
     "output_type": "stream",
     "text": [
      "[1] \"Pairs [b,a]:\"\n",
      "     [,1] [,2] [,3] [,4] [,5] [,6] [,7] [,8] [,9] [,10] [,11] [,12] [,13] [,14]\n",
      "[1,]  200  199  198  197  196  195  194  193  192   191   190   189   188   187\n",
      "[2,]    8    8    8    8    8    8    8    8    8     8     8     8     8     8\n",
      "     [,15] [,16] [,17] [,18] [,19] [,20] [,21] [,22] [,23] [,24] [,25] [,26]\n",
      "[1,]   186   185   184   183   182   181   180   179   178   177   176   175\n",
      "[2,]     8     8     8     8     8     8     8     8     8     8     8     8\n",
      "     [,27] [,28] [,29] [,30] [,31] [,32] [,33] [,34] [,35] [,36] [,37] [,38]\n",
      "[1,]   174   173   172   171   170   169   168   167   166   165   164   163\n",
      "[2,]     8     8     8     8     8     8     8     8     8     8     8     8\n",
      "     [,39] [,40] [,41] [,42] [,43] [,44] [,45] [,46] [,47] [,48] [,49] [,50]\n",
      "[1,]   162   161   160   159   158   157   156   155   154   153   152   151\n",
      "[2,]     8     8     8     8     8     8     8     8     8     8     8     8\n",
      "     [,51] [,52] [,53] [,54] [,55] [,56] [,57] [,58] [,59] [,60] [,61] [,62]\n",
      "[1,]   150   149   148   147   146   145   144   143   142   141   140   139\n",
      "[2,]     8     8     8     8     8     8     8     8     8     8     8     8\n",
      "     [,63] [,64] [,65] [,66] [,67] [,68] [,69] [,70] [,71] [,72] [,73] [,74]\n",
      "[1,]   138   137   136   135   134   133   132   131   130   129   128   127\n",
      "[2,]     8     8     8     8     8     8     8     8     8     8     7     7\n",
      "     [,75] [,76] [,77] [,78] [,79] [,80] [,81] [,82] [,83] [,84] [,85] [,86]\n",
      "[1,]   126   125   124   123   122   121   120   119   118   117   116   115\n",
      "[2,]     7     7     7     7     7     7     7     7     7     7     7     7\n",
      "     [,87] [,88] [,89] [,90] [,91] [,92] [,93] [,94] [,95] [,96] [,97] [,98]\n",
      "[1,]   114   113   112   111   110   109   108   107   106   105   104   103\n",
      "[2,]     7     7     7     7     7     7     7     7     7     7     7     7\n",
      "     [,99] [,100] [,101] [,102] [,103] [,104] [,105] [,106] [,107] [,108]\n",
      "[1,]   102    101    100     99     98     97     96     95     94     93\n",
      "[2,]     7      7      7      7      7      7      7      7      7      7\n",
      "     [,109] [,110] [,111] [,112] [,113] [,114] [,115] [,116] [,117] [,118]\n",
      "[1,]     92     91     90     89     88     87     86     85     84     83\n",
      "[2,]      7      7      7      7      7      7      7      7      7      7\n",
      "     [,119] [,120] [,121] [,122] [,123] [,124] [,125] [,126] [,127] [,128]\n",
      "[1,]     82     81     80     79     78     77     76     75     74     73\n",
      "[2,]      7      7      7      7      7      7      7      7      7      7\n",
      "     [,129] [,130] [,131] [,132] [,133] [,134] [,135] [,136] [,137] [,138]\n",
      "[1,]     72     71     70     69     68     67     66     65     64     63\n",
      "[2,]      7      7      7      7      7      7      7      7      6      6\n",
      "     [,139] [,140] [,141] [,142] [,143] [,144] [,145] [,146] [,147] [,148]\n",
      "[1,]     62     61     60     59     58     57     56     55     54     53\n",
      "[2,]      6      6      6      6      6      6      6      6      6      6\n",
      "     [,149] [,150] [,151] [,152] [,153] [,154] [,155] [,156] [,157] [,158]\n",
      "[1,]     52     51     50     49     48     47     46     45     44     43\n",
      "[2,]      6      6      6      6      6      6      6      6      6      6\n",
      "     [,159] [,160] [,161] [,162] [,163] [,164] [,165] [,166] [,167] [,168]\n",
      "[1,]     42     41     40     39     38     37     36     35     34     33\n",
      "[2,]      6      6      6      6      6      6      6      6      6      6\n",
      "     [,169] [,170] [,171] [,172] [,173] [,174] [,175] [,176] [,177] [,178]\n",
      "[1,]     32     31     30     29     28     27     26     25     24     23\n",
      "[2,]      5      5      5      5      5      5      5      5      5      5\n",
      "     [,179] [,180] [,181] [,182] [,183] [,184] [,185] [,186] [,187] [,188]\n",
      "[1,]     22     21     20     19     18     17     16     15     14     13\n",
      "[2,]      5      5      5      5      5      5      4      4      4      4\n",
      "     [,189] [,190] [,191] [,192] [,193] [,194] [,195] [,196] [,197] [,198]\n",
      "[1,]     12     11     10      9      8      7      6      5      4      3\n",
      "[2,]      4      4      4      4      3      3      3      3      2      2\n",
      "     [,199] [,200]\n",
      "[1,]      2      1\n",
      "[2,]      1      0\n"
     ]
    }
   ],
   "source": [
    "# расширенная версия программы\n",
    "F <- function(x) {\n",
    "    if (x == 0) {\n",
    "        return(1)\n",
    "    } else {\n",
    "        return(2 * F(x - 1))\n",
    "    }\n",
    "}\n",
    "\n",
    "A <- matrix(nrow=2, ncol=200) \n",
    "\n",
    "for (b in 200:1) {\n",
    "    a <- 0\n",
    "    while (F(a) < b) {\n",
    "        a <- a + 1\n",
    "    }\n",
    "    \n",
    "    A[1,201-b] <- b\n",
    "    A[2,201-b] <- a\n",
    "}\n",
    "\n",
    "print(\"Pairs [b,a]:\")\n",
    "print(A)"
   ]
  },
  {
   "cell_type": "code",
   "execution_count": 185,
   "metadata": {},
   "outputs": [
    {
     "data": {
      "text/plain": [
       "\n",
       " 0  1  2  3  4  5  6  7  8 \n",
       " 1  1  2  4  8 16 32 64 72 "
      ]
     },
     "metadata": {},
     "output_type": "display_data"
    }
   ],
   "source": [
    "nt <- table(A[2,1:200])\n",
    "nt"
   ]
  },
  {
   "cell_type": "code",
   "execution_count": 186,
   "metadata": {},
   "outputs": [],
   "source": [
    "answer_dictionary[21] <- toString(nt[names(nt) == 7])"
   ]
  },
  {
   "cell_type": "markdown",
   "metadata": {},
   "source": [
    "## 22.\n",
    "Исполнитель `Июнь15` преобразует число на экране. \n",
    "\n",
    "У исполнителя есть две команды, которым присвоены номера:\n",
    "\n",
    "1. `Прибавить 1`\n",
    "\n",
    "2. `Умножить на 2`\n",
    "\n",
    "Первая команда увеличивает число на экране на 1, вторая умножает его на 2. \n",
    "\n",
    "Программа для исполнителя `Июнь15` — это последовательность команд.\n",
    "\n",
    "Сколько существует программ, для которых \n",
    "\n",
    "- при исходном числе 1 результатом является число 45 и при этом \n",
    "- траектория вычислений содержит число 18?\n",
    "\n",
    "Траектория вычислений программы — это последовательность результатов выполнения всех команд программы. \n",
    "\n",
    "Например, для программы 121 при исходном числе 7 траектория будет состоять из чисел 8, 16, 17.\n",
    "\n",
    "---\n",
    "\n",
    "The robot `June-15` converts the number on the screen. \n",
    "\n",
    "The robot has two enumerated commands:\n",
    "\n",
    "1. `Add 1`\n",
    "\n",
    "2. `Multiply by 2`\n",
    "\n",
    "The first command increases the number on the screen by 1, the second one multiplies it by 2. \n",
    "\n",
    "The program for the performer `June-15` is a sequence of commands.\n",
    "\n",
    "How many programs exist for which \n",
    "\n",
    "- the original number 1 results in the number of 45 and \n",
    "- the calculation path contains the number 18?"
   ]
  },
  {
   "cell_type": "markdown",
   "metadata": {},
   "source": [
    "$1 -> 2: 1 \\; tracks - 2 \\; ways$\n",
    "\n",
    "1 + 1 = 2 or 1 * 2 = 2\n",
    "\n",
    "1) [1,2] - [1]\n",
    "\n",
    "2) [1,2] - [2]\n",
    "\n",
    "$2 -> 18: 23 \\; tracks - 23 \\; ways$\n",
    "\n",
    "1) [2,3,4,5,6,7,8,9,10,11,12,13,14,15,16,17,18] - [1, 1, 1, 1, 1, 1, 1, 1, 1, 1, 1, 1, 1, 1, 1, 1]\n",
    "\n",
    "2) [2,3,4,5,6,7,8,9,18] - [1, 1, 1, 1, 1, 1, 1, 2]\n",
    "\n",
    "3) [2,3,4,5,6,7,8,16,17,18] - [1, 1, 1, 1, 1, 1, 2, 1, 1]\n",
    "\n",
    "4) [2,3,4,5,6,7,14,15,16,17,18] - [1, 1, 1, 1, 1, 2, 1, 1, 1, 1]\n",
    "\n",
    "5) [2,3,4,5,6,12,13,14,15,16,17,18] - [1, 1, 1, 1, 2, 1, 1, 1, 1, 1, 1]\n",
    "\n",
    "6) [2,3,4,5,10,11,12,13,14,15,16,17,18] - [1, 1, 1, 2, 1, 1, 1, 1, 1, 1, 1, 1]\n",
    "\n",
    "7) [2,3,4,8,9,10,11,12,13,14,15,16,17,18] - [1, 1, 2, 1, 1, 1, 1, 1, 1, 1, 1, 1, 1]\n",
    "\n",
    "8) [2,3,6,7,8,9,10,11,12,13,14,15,16,17,18] - [1, 2, 1, 1, 1, 1, 1, 1, 1, 1, 1, 1, 1, 1]\n",
    "\n",
    "9) [2,3,4,8,9,18] - [1, 1, 2, 1, 2]\n",
    "\n",
    "10) [2,3,4,8,16,17,18] - [1, 1, 2, 2, 1, 1]\n",
    "\n",
    "11) [2,3,6,7,8,9,18] - [1, 2, 1, 1, 1, 2]\n",
    "\n",
    "12) [2,3,6,7,8,16,17,18] - [1, 2, 1, 1, 2, 1, 1]\n",
    "\n",
    "13) [2,3,6,7,14,15,16,17,18] - [1, 2, 1, 2, 1, 1, 1, 1]\n",
    "\n",
    "14) [2,3,6,12,13,14,15,16,17,18] - [1, 2, 2, 1, 1, 1, 1, 1, 1]\n",
    "\n",
    "15) [2,4,5,6,7,8,9,10,11,12,13,14,15,16,17,18] - [2, 1, 1, 1, 1, 1, 1, 1, 1, 1, 1, 1, 1, 1, 1]\n",
    "\n",
    "16) [2,4,5,6,7,8,9,18] - [2, 1, 1, 1, 1, 1, 2]\n",
    "\n",
    "17) [2,4,5,6,7,8,16,17,18] - [2, 1, 1, 1, 1, 2, 1, 1]\n",
    "\n",
    "18) [2,4,5,6,7,14,15,16,17,18] - [2, 1, 1, 1, 2, 1, 1, 1, 1]\n",
    "\n",
    "19) [2,4,5,6,12,13,14,15,16,17,18] - [2, 1, 1, 2, 1, 1, 1, 1, 1, 1]\n",
    "\n",
    "20) [2,4,5,10,11,12,13,14,15,16,17,18] - [2, 1, 2, 1, 1, 1, 1, 1, 1, 1, 1]\n",
    "\n",
    "21) [2,4,8,9,10,11,12,13,14,15,16,17,18] - [2, 2, 1, 1, 1, 1, 1, 1, 1, 1, 1, 1]\n",
    "\n",
    "22) [2,4,8,9,18] - [2, 2, 1, 2]\n",
    "\n",
    "23) [2,4,8,16,17,18] - [2, 2, 2, 1, 1]\n",
    "\n",
    "$18 -> 45: 6 \\; tracks - 6 \\; ways$\n",
    "\n",
    "1) [18, 19, ..., 45] - [1, 1, ..., 1]\n",
    "\n",
    "2) [18, 36, 37, 38, 39, 40, 41, 42, 43, 44, 45] - [2, 1, 1, 1, 1, 1, 1, 1, 1, 1]\n",
    "\n",
    "3) [18, 19, 38, 39, 40, 41, 42, 43, 44, 45] - [1, 2, 1, 1, 1, 1, 1, 1, 1]\n",
    "\n",
    "4) [18, 19, 20, 40, 41, 42, 43, 44, 45] - [1, 1, 2, 1, 1, 1, 1, 1]\n",
    "\n",
    "5) [18, 19, 20, 21, 42, 43, 44, 45] - [1, 1, 1, 2, 1, 1, 1]\n",
    "\n",
    "6) [18, 19, 20, 21, 22, 44, 45] - [1, 1, 1, 1, 2, 1]"
   ]
  },
  {
   "cell_type": "markdown",
   "metadata": {},
   "source": [
    "$2 \\; tracks * 23 \\; tracks * 6 \\; tracks = 276 \\; programs$\n",
    "\n",
    "_For example_:\n",
    "\n",
    "[1,2,4,8,9,18,19,20,21,22,44,45] - [2,2,2,1,2,1,1,1,1,2,1]"
   ]
  },
  {
   "cell_type": "code",
   "execution_count": 187,
   "metadata": {},
   "outputs": [],
   "source": [
    "answer_dictionary[22] <- toString(2 * 23 * 6)"
   ]
  },
  {
   "cell_type": "markdown",
   "metadata": {},
   "source": [
    "## 23.\n",
    "Сколько существует различных наборов значений логических переменных $x_1, x_2, ... x_{11}, x_{12}$, \n",
    "\n",
    "которые удовлетворяют всем перечисленным ниже условиям?\n",
    "\n",
    "How many different sets of values of logical variables $x_1, x_2, ... x_{11}, x_{12}$ exist \n",
    "\n",
    "that satisfy all the conditions listed below?\n",
    "\n",
    "- $(x_1 \\lor x_2) \\land ((\\neg x_1 \\lor \\neg x_2) \\to (\\neg x_3 \\lor \\neg x_4)) = 1 \\; (1)$ \n",
    "- $(x_3 \\lor x_4) \\land ((\\neg x_3 \\lor \\neg x_4) \\to (\\neg x_5 \\lor \\neg x_6)) = 1 \\; (2)$ \n",
    "- $(x_5 \\lor x_6) \\land ((\\neg x_5 \\lor \\neg x_6) \\to (\\neg x_7 \\lor \\neg x_8)) = 1 \\; (3)$ \n",
    "- $(x_7 \\lor x_8) \\land ((\\neg x_7 \\lor \\neg x_8) \\to (\\neg x_9 \\lor \\neg x_{10})) = 1 \\; (4)$ \n",
    "- $(x_9 \\lor x_{10}) \\land ((\\neg x_9 \\lor \\neg x_{10}) \\to (\\neg x_{11} \\lor \\neg x_{12})) = 1 \\; (5)$ \n",
    "- $(x_{11} \\lor x_{12}) = 1 \\; (6)$\n",
    "\n",
    "В ответе не нужно перечислять все различные наборы значений $x_1, х_2, ... x_{11}, х_{12}$, \n",
    "\n",
    "при которых выполнена данная система равенств. \n",
    "\n",
    "В качестве ответа вам нужно указать количество таких наборов.\n",
    "\n",
    "In the answer it is not necessary to list all the different sets of values $x_1, х_2, ... x_{11}, х_{12}$\n",
    "\n",
    "for which the given system of equations is satisfied. \n",
    "\n",
    "As an answer, you need to specify only the number of such sets."
   ]
  },
  {
   "cell_type": "code",
   "execution_count": 188,
   "metadata": {},
   "outputs": [
    {
     "data": {
      "text/html": [
       "127"
      ],
      "text/latex": [
       "127"
      ],
      "text/markdown": [
       "127"
      ],
      "text/plain": [
       "[1] 127"
      ]
     },
     "metadata": {},
     "output_type": "display_data"
    }
   ],
   "source": [
    "# check the decision method\n",
    "bc <- bincombinations(12)\n",
    "c <- 0\n",
    "n <- length(bc)/12\n",
    "\n",
    "x_implies_y <- function(x,y) {!x | y}\n",
    "logical_function <- function(k,l,m,n) {\n",
    "    return((k | l) & x_implies_y((!k | !l),(!m | !n)))\n",
    "}\n",
    "\n",
    "for (i in 1:n){\n",
    "    el <- bc[i,]\n",
    "    e1 <- logical_function(el[1],el[2],el[3],el[4])\n",
    "    e2 <- logical_function(el[3],el[4],el[5],el[6])\n",
    "    e3 <- logical_function(el[5],el[6],el[7],el[8])\n",
    "    e4 <- logical_function(el[7],el[8],el[9],el[10])\n",
    "    e5 <- logical_function(el[9],el[10],el[11],el[12])\n",
    "    e6 <- el[11] | el[12]\n",
    "    \n",
    "    result <- (e1 == 1) & (e2 == 1) & (e3 == 1) & (e4 == 1) & (e5 == 1) & (e6 == 1)\n",
    "    \n",
    "    if (result == 1) {\n",
    "        c <- c + 1\n",
    "    }\n",
    "}\n",
    "c"
   ]
  },
  {
   "cell_type": "markdown",
   "metadata": {},
   "source": [
    "1) \n",
    "\n",
    "Упростим систему логических уравнений / Let's simplify the logical equations.\n",
    "\n",
    "$(x_1 \\lor x_2) \\land ((\\neg x_1 \\lor \\neg x_2) \\to (\\neg x_3 \\lor \\neg x_4)) \\iff$ (De Morgan's laws)\n",
    "\n",
    "$(x_1 \\lor x_2) \\land (\\neg (x_1 \\land x_2) \\to \\neg (x_3 \\land x_4)) \\iff $  (conditional disjunction)\n",
    "\n",
    "$(x_1 \\lor x_2) \\land (\\neg \\neg (x_1 \\land x_2) \\lor \\neg (x_3 \\land x_4)) \\iff $ (double negation)\n",
    "\n",
    "$(x_1 \\lor x_2) \\land ((x_1 \\land x_2) \\lor \\neg (x_3 \\land x_4))$\n",
    "\n",
    "Аналогичные преобразования можно выполнить для равенств (2)-(5).\n",
    "\n",
    "Similar transformations can be made for the equalities (2) - (5)."
   ]
  },
  {
   "cell_type": "markdown",
   "metadata": {},
   "source": [
    "2)\n",
    "\n",
    "Из 1) $\\implies$ равенство (1) не выполняется \n",
    "\n",
    "- при $(x_1,x_2) = (0,0); \\; (x_3,x_4) = (0,0),(0,1),(1,0),(1,1)$; \n",
    "- при $(x_1,x_2) = (0,1),(1,0); \\; (x_3,x_4) = (1,1)$.\n",
    "\n",
    "(1) выполняется только для `16 - 6 = 10` наборов переменных $(x_1,x_2,x_3,x_4)$.\n",
    "\n",
    "From 1) $\\implies$, the equality (1) is not satisfied\n",
    "\n",
    "- for $(x_1, x_2) = (0,0); \\; (x_3, x_4) = (0,0), (0,1), (1,0), (1,1)$; \n",
    "- for $(x_1, x_2) = (0,1), (1,0); \\; (x_3, x_4) = (1,1)$.\n",
    "\n",
    "(1) is satisfied only for `16 - 6 = 10` sets of variables $(x_1, x_2, x_3, x_4)$.\n",
    "\n",
    "3) \n",
    "\n",
    "Из 10 наборов пункта 2) равенство (2) не выполняется для $(x_1,x_2,x_3,x_4) = (0,1,0,0),(1,0,0,0),(1,1,0,0)$.\n",
    "\n",
    "При $(x_1,x_2,x_3,x_4) = (1,1,1,1)$ равенство (2) выполняется для любых $(x_5,x_6) = (0,0),(0,1),(1,0),(1,1)$.\n",
    "\n",
    "Остальные 6 наборов $(x_1,x_2,x_3,x_4)$ не нарушают равенство (2) только для $(x_5,x_6) = (0,0),(0,1),(1,0)$.\n",
    "\n",
    "Всего (1),(2) имеют `1 * 4 + (10 - 3 - 1) * 3 = 22` решения $(x_1,x_2,x_3,x_4,x_5,x_6)$.\n",
    "\n",
    "For 10 sets from the point 2), the equality (2) is not satisfied for $(x_1, x_2, x_3, x_4) = (0,1,0,0), (1,0,0,0), (1,1,0,0)$.\n",
    "\n",
    "For $(x_1, x_2, x_3, x_4) = (1,1,1,1)$, the equality (2) is true for any $(x_5, x_6) = (0,0), (0,1), (1,0), (1,1)$.\n",
    "\n",
    "The remaining 6 sets $(x_1, x_2, x_3, x_4)$ do not violate the equality (2) only for $(x_5, x_6) = (0,0), (0,1), (1,0)$.\n",
    "\n",
    "In total, (1), (2) have `1 * 4 + (10 - 3 - 1) * 3 = 22` solutions $(x_1, x_2, x_3, x_4, x_5, x_6)$.\n",
    "\n",
    "4)\n",
    "\n",
    "Из 22 наборов пункта 3) равенство (3) не выполняется для 7 наборов $(x_1,x_2,x_3,x_4,x_5,x_6)$, где $(x_5,x_6) = (0,0)$.\n",
    "\n",
    "При $(x_1,x_2,x_3,x_4,x_5,x_6) = (1,1,1,1,1,1)$ равенство (3) выполняется для любых $(x_7,x_8) = (0,0),(0,1),(1,0),(1,1)$.\n",
    "\n",
    "Остальные 14 наборов $(x_1,x_2,x_3,x_4,x_5,x_6)$ не нарушают равенство (3) только для $(x_7,x_8) = (0,0),(0,1),(1,0)$.\n",
    "\n",
    "Всего (1),(2),(3) имеют `1 * 4 + (22 - 7 - 1) * 3 = 46` решений $(x_1,x_2,x_3,x_4,x_5,x_6,x_7,x_8)$.\n",
    "\n",
    "For 22 sets from the point 3), the equality (3) is not satisfied for 7 sets $(x_1, x_2, x_3, x_4, x_5, x_6)$, where $(x_5, x_6) = (0,0)$.\n",
    "\n",
    "For $(x_1, x_2, x_3, x_4, x_5, x_6) = (1,1,1,1,1,1)$, the equality (3) is true for any $(x_7, x_8) = (0,0), (0,1), (1,0), (1,1)$.\n",
    "\n",
    "The remaining 14 sets $(x_1, x_2, x_3, x_4, x_5, x_6)$ do not violate the equality (3) only for $(x_7, x_8) = (0,0), (0,1), (1,0)$.\n",
    "\n",
    "In total, (1),(2),(3) have `1 * 4 + (22 - 7 - 1) * 3 = 46` solutions of $(x_1, x_2, x_3, x_4, x_5, x_6, x_7, x_8)$.\n",
    "\n",
    "5) \n",
    "\n",
    "Аналогично, \n",
    "\n",
    "- (1),(2),(3),(4) имеют `1 * 4 + (46 - 15 - 1) * 3 = 94` решения $(x_1,x_2,x_3,x_4,x_5,x_6,x_7,x_8,x_9,x_{10})$.\n",
    "\n",
    "- (1),(2),(3),(4),(5) имеют `1 * 4 + (94 - 31 - 1) * 3 = 190` решений $(x_1,x_2,x_3,x_4,x_5,x_6,x_7,x_8,x_9,x_{10},x_{11},x_{12})$.\n",
    "\n",
    "\n",
    "Similarly,\n",
    "\n",
    "- (1), (2), (3), (4) have `1 * 4 + (46 - 15 - 1) * 3 = 94` solutions $(x_1,x_2,x_3,x_4,x_5,x_6,x_7 x_8,x_9,x_{10})$.\n",
    "\n",
    "- (1), (2), (3), (4), (5) have `1 * 4 + (94 - 31 - 1) * 3 = 190` solutions $(x_1,x_2,x_3,x_4,x_5,x_6,x_7,x_8,x_9,x_{10},x_{11},x_{12})$.\n",
    "\n",
    "6) \n",
    "\n",
    "Для выполнения равенства (6) из полученного множества решений (1),(2),(3),(4),(5) необходимо исключить наборы, \n",
    "\n",
    "где $(x_{11},x_{12}) = (0,0)$: `190 - 63 = 127`.\n",
    "\n",
    "To satisfy the equality (6) from the set of solutions (1),(2),(3),(4),(5) it needs to exclude the sets \n",
    "\n",
    "where $(x_{11},x_{12}) = (0,0)$: `190 - 63 = 127`."
   ]
  },
  {
   "cell_type": "code",
   "execution_count": 189,
   "metadata": {},
   "outputs": [],
   "source": [
    "answer_dictionary[23] <- toString(c)"
   ]
  },
  {
   "cell_type": "markdown",
   "metadata": {},
   "source": [
    "## Часть 2 &nbsp; &nbsp; &nbsp; Part 2\n",
    "## 24.\n",
    "Требовалось написать программу, которая \n",
    "\n",
    "- вводит с клавиатуры последовательность натуральных чисел, оканчивающихся нулем, \n",
    "- и выводит на экран сумму чётных чисел среди этой последовательности. \n",
    "\n",
    "Известно, что в последовательность не пуста и в ней есть чётные числа. \n",
    "\n",
    "Программист торопился и написал программу неправильно.\n",
    "\n",
    "Выполните следующие действия:\n",
    "\n",
    "1. Напишите, что выведет программа при вводе чисел 50 2 14 0.\n",
    "\n",
    "2. Приведите пример такой входной последовательности, при которой программа работает верно.\n",
    "\n",
    "3. Укажите все ошибки в программе и исправьте их. \n",
    "\n",
    "Для этого для каждой ошибки: выпишите строку, которая написана неправильно и приведите правильный вариант строки.\n",
    "\n",
    "---\n",
    "\n",
    "It is required to write a program that \n",
    "\n",
    "- enters from the keyboard a sequence of natural numbers ending in zero \n",
    "- and displays it on the screen. \n",
    "\n",
    "It is known that the sequence is not empty and there are even numbers in it. \n",
    "\n",
    "The programmer was in a hurry and wrote the program incorrectly. \n",
    "\n",
    "Perform the following steps:\n",
    "\n",
    "1. Write what the program will output when you enter numbers 50 2 14 0.\n",
    "\n",
    "2. Give an example of such an input sequence, in which the program works correctly.\n",
    "\n",
    "3. Specify all errors in the program and correct them. \n",
    "\n",
    "To do this, for each error: write out the line that was written incorrectly and give the correct version of the line.\n",
    "<table style=\"width:95%;\">\n",
    "  <tr style=\"color:slategray;font-size:120%;font-family:'Roboto';\">\n",
    "    <th style=\"text-align:center;\">Python</th> \n",
    "    <th style=\"text-align:center;\">R</th>          \n",
    "  </tr>\n",
    "  <tr>\n",
    "    <td style=\"font-weight:bold;text-align:left;\"><pre><code class='python'>\n",
    "    \n",
    "a = int(input())\n",
    "s = 0\n",
    "\n",
    "while a > 0:\n",
    "    a = int(input())\n",
    "    if a % 2 == 0:\n",
    "        s = s + a\n",
    "        \n",
    "print(s)\n",
    "    </code></pre></td> \n",
    "    <td style=\"font-weight:bold;text-align:left;\"><pre><code class='r'> \n",
    "    \n",
    "a <- as.integer(readline())\n",
    "s <- 0\n",
    "\n",
    "while (a > 0){\n",
    "    a <- as.integer(readline())\n",
    "    if (a %% 2 == 0) {\n",
    "        s <- s + a\n",
    "    }\n",
    "}\n",
    "\n",
    "print(s)   \n",
    "    </code></pre></td>     \n",
    "  </tr> \n",
    "</table>  "
   ]
  },
  {
   "cell_type": "code",
   "execution_count": 190,
   "metadata": {},
   "outputs": [
    {
     "name": "stdout",
     "output_type": "stream",
     "text": [
      "50\n",
      "2\n",
      "14\n",
      "0\n",
      "[1] 16\n"
     ]
    }
   ],
   "source": [
    "# The wrong variant - the wrong answer\n",
    "a <- as.integer(readline())\n",
    "s <- 0\n",
    "\n",
    "while (a > 0){\n",
    "    a <- as.integer(readline())\n",
    "    if (a %% 2 == 0) {\n",
    "        s <- s + a\n",
    "    }\n",
    "}\n",
    "\n",
    "print(s) "
   ]
  },
  {
   "cell_type": "code",
   "execution_count": 83,
   "metadata": {},
   "outputs": [
    {
     "name": "stdout",
     "output_type": "stream",
     "text": [
      "1\n",
      "2\n",
      "3\n",
      "4\n",
      "0\n",
      "[1] \"6; 1, 2, 3, 4, 0\"\n"
     ]
    }
   ],
   "source": [
    "# The wrong variant - the right answer\n",
    "a <- as.integer(readline())\n",
    "s <- 0\n",
    "A <- c(a)\n",
    "\n",
    "while (a > 0){\n",
    "    a <- as.integer(readline())\n",
    "    A <- c(A,a)\n",
    "    if (a %% 2 == 0) {\n",
    "        s <- s + a\n",
    "    }\n",
    "}\n",
    "\n",
    "print(paste(toString(s),toString(A),sep='; '))"
   ]
  },
  {
   "cell_type": "code",
   "execution_count": 86,
   "metadata": {},
   "outputs": [
    {
     "name": "stdout",
     "output_type": "stream",
     "text": [
      "50\n",
      "2\n",
      "14\n",
      "0\n",
      "[1] 66\n"
     ]
    }
   ],
   "source": [
    "# The right variant - the right answer\n",
    "a <- as.integer(readline())\n",
    "if (a %% 2 == 0) {s <- a} else {s <- 0}\n",
    "\n",
    "while (a > 0){\n",
    "    a <- as.integer(readline())\n",
    "    if (a %% 2 == 0) {\n",
    "        s <- s + a\n",
    "    }\n",
    "}\n",
    "\n",
    "print(s) "
   ]
  },
  {
   "cell_type": "code",
   "execution_count": 191,
   "metadata": {},
   "outputs": [],
   "source": [
    "answer_dictionary[24] <- '1)16; 2)1, 2, 3, 4, 0; 3)\"s <- 0\" -> \"if (a %% 2 == 0) {s <- a} else {s <- 0}\"'"
   ]
  },
  {
   "cell_type": "markdown",
   "metadata": {},
   "source": [
    "## 25.\n",
    "Дан целочисленный массив из 40 элементов. Элементы массива могут принимать значения от -10000 до 10000. \n",
    "\n",
    "Опишите на русском языке или на одном из языков программирования алгоритм, \n",
    "\n",
    "который находит и выводит пару с наименьшей суммой среди непересекающихся пар соседних элементов. \n",
    "\n",
    "То есть, первая пара — 1-й и 2-й элементы, вторая пара — 3-й и 4-й элементы, и т.д. \n",
    "\n",
    "На языке Си, соответственно, первая пара — 0-й и 1-й элементы, 2-я пара — 2-й и 3-й элементы, и т.д.\n",
    "\n",
    "Исходные данные объявлены так, как показано ниже. \n",
    "\n",
    "Запрещается использовать переменные, не описанные ниже, но разрешается не использовать часть из них.\n",
    "\n",
    "- Объявляем массив А из 40 элементов.\n",
    "\n",
    "- Объявляем целочисленные переменные I, J, MIN.\n",
    "\n",
    "- В цикле от 1 до 40 вводим элементы массива А с 1-го по 40-й.\n",
    "\n",
    "- ...\n",
    "\n",
    "В качестве ответа вам необходимо привести фрагмент программы (или описание алгоритма на естественном языке), который должен находиться на месте многоточия. \n",
    "\n",
    "Вы можете записать решение также на другом языке программирования (укажите название и используемую версию языка программирования, например `Borland Pascal 7.0`) или в виде блок-схемы. \n",
    "\n",
    "В этом случае вы должны использовать те же самые исходные данные и переменные, какие были предложены в условии (например, в образце, записанном на естественном языке).\n",
    "\n",
    "---\n",
    "\n",
    "An integer array of 40 elements is given. Elements of the array can take values from -10000 to 10000. \n",
    "\n",
    "Describe in Russian / English or in one of the programming languages an algorithm \n",
    "\n",
    "that finds and outputs the pair with the smallest sum among disjoint pairs of neighboring elements. \n",
    "\n",
    "That is, the first pair is the **1st** and **2nd** elements, the second pair is the **3rd** and **4th** elements, etc. \n",
    "\n",
    "In C, respectively, the first pair is the **0th** and **1st** elements, the second pair is the **2nd** and **3rd** elements, and so on.\n",
    "\n",
    "The original data is declared as it is shown below. \n",
    "\n",
    "It is forbidden to use variables not described below, but it is allowed not to use part of them.\n",
    "\n",
    "- Declare an array A of 40 elements.\n",
    "\n",
    "- Declare the integer variables I, J, MIN.\n",
    "\n",
    "- In the cycle from 1 to 40, the elements of array A from the 1st to the 40th are entered.\n",
    "\n",
    "- ...\n",
    "\n",
    "As an answer, you need to bring the program fragment (or description of the algorithm in natural language), which should be in place of the ellipsis. \n",
    "\n",
    "You can also write the solution in another programming language (specify the name and the version of the programming language used, for example `Borland Pascal 7.0`) or as a flowchart. \n",
    "\n",
    "In this case, you must use the same source data and variables that were proposed in the condition (for example, in a sample written in the natural language).\n",
    "<table style=\"width:95%;\">\n",
    "  <tr style=\"color:slategray;font-size:120%;font-family:'Roboto';\">\n",
    "    <th style=\"text-align:center;\">Python</th> \n",
    "    <th style=\"text-align:center;\">R</th>          \n",
    "  </tr>\n",
    "  <tr>\n",
    "    <td style=\"font-weight:bold;text-align:left;\"><pre><code class='python'>\n",
    "    \n",
    "N = 40\n",
    "A = []\n",
    "\n",
    "#use integer variables I, J, MIN\n",
    "\n",
    "for I in range(N):\n",
    "    A.append(int(input()))\n",
    "    </code></pre></td> \n",
    "    <td style=\"font-weight:bold;text-align:left;\"><pre><code class='r'> \n",
    "    \n",
    "N <- 40\n",
    "A <- vector(length=N)\n",
    "#use integer variables I, J, MIN\n",
    "\n",
    "for (I in 1:N){\n",
    "    A[I] <- as.integer(readline())\n",
    "...\n",
    "}     \n",
    "    </code></pre></td>     \n",
    "  </tr> \n",
    "</table>  "
   ]
  },
  {
   "cell_type": "code",
   "execution_count": 203,
   "metadata": {},
   "outputs": [],
   "source": [
    "version <- R.version.string"
   ]
  },
  {
   "cell_type": "code",
   "execution_count": 204,
   "metadata": {},
   "outputs": [
    {
     "data": {
      "text/html": [
       "'R version 3.5.0 (2018-04-23)'"
      ],
      "text/latex": [
       "'R version 3.5.0 (2018-04-23)'"
      ],
      "text/markdown": [
       "'R version 3.5.0 (2018-04-23)'"
      ],
      "text/plain": [
       "[1] \"R version 3.5.0 (2018-04-23)\""
      ]
     },
     "metadata": {},
     "output_type": "display_data"
    }
   ],
   "source": [
    "version"
   ]
  },
  {
   "cell_type": "code",
   "execution_count": 94,
   "metadata": {},
   "outputs": [
    {
     "name": "stdout",
     "output_type": "stream",
     "text": [
      "1\n",
      "2\n",
      "3\n",
      "4\n",
      "5\n",
      "6\n",
      "7\n",
      "8\n",
      "9\n",
      "10\n",
      "-1\n",
      "-2\n",
      "-3\n",
      "-4\n",
      "-5\n",
      "-6\n",
      "-7\n",
      "-8\n",
      "-9\n",
      "-10\n",
      "11\n",
      "12\n",
      "13\n",
      "14\n",
      "15\n",
      "16\n",
      "17\n",
      "18\n",
      "19\n",
      "-19\n",
      "-18\n",
      "-17\n",
      "-16\n",
      "-15\n",
      "-14\n",
      "-13\n",
      "-12\n",
      "-11\n",
      "100\n",
      "200\n",
      "[1] -18 -17\n"
     ]
    }
   ],
   "source": [
    "N <- 40\n",
    "A <- vector(length=N)\n",
    "MIN <- 20001\n",
    "\n",
    "for (I in 1:N){\n",
    "    A[I] <- as.integer(readline())\n",
    "    # The fragment instead of the ellipsis\n",
    "    if (I %% 2 == 0) {\n",
    "        if (A[I-1] + A[I] < MIN) { \n",
    "            MIN <- A[I-1] + A[I]\n",
    "            J <- I\n",
    "        }\n",
    "    }\n",
    "}\n",
    "\n",
    "print(c(A[J-1],A[J]))"
   ]
  },
  {
   "cell_type": "code",
   "execution_count": 205,
   "metadata": {},
   "outputs": [],
   "source": [
    "program_fragment <- \"\n",
    "N <- 40\n",
    "A <- vector(length=N)\n",
    "MIN <- 20001\n",
    "\n",
    "for (I in 1:N){\n",
    "    A[I] <- as.integer(readline())\n",
    "    # The fragment instead of the ellipsis\n",
    "    if (I %% 2 == 0) {\n",
    "        if (A[I-1] + A[I] < MIN) { \n",
    "            MIN <- A[I-1] + A[I]\n",
    "            J <- I\n",
    "        }\n",
    "    }\n",
    "}\n",
    "\n",
    "print(c(A[J-1],A[J]))\""
   ]
  },
  {
   "cell_type": "code",
   "execution_count": 206,
   "metadata": {},
   "outputs": [],
   "source": [
    "answer_dictionary[25] <- paste(version, program_fragment, sep=\";\")"
   ]
  },
  {
   "cell_type": "markdown",
   "metadata": {},
   "source": [
    "## 26.\n",
    "Два игрока, Петя и Ваня, играют в следующую игру. Перед игроками лежит куча камней. Игроки ходят по очереди, первый ход делает Петя. \n",
    "\n",
    "За один ход игрок может добавить в кучу **два** или **три** камня или увеличить количество камней в куче в **два** раза. \n",
    "\n",
    "Например, имея кучу из 15 камней, за один ход можно получить кучу из 17, 18 или 30 камней. \n",
    "\n",
    "У каждого игрока, чтобы делать ходы, есть неограниченное количество камней.\n",
    "\n",
    "Игра завершается в тот момент, когда количество камней в куче становится **не менее 40**. \n",
    "\n",
    "Победителем считается игрок, сделавший последний ход, то есть первым получивший кучу, в которой будет 40 или больше камней.\n",
    "\n",
    "В начальный момент в куче было $S$ камней, $1 ≤ S ≤ 39$.\n",
    "\n",
    "Говорят, что игрок имеет выигрышную стратегию, если он может выиграть при любых ходах противника. \n",
    "\n",
    "Описать стратегию игрока — значит описать, какой ход он должен сделать в любой ситуации, которая ему может встретиться при различной игре противника.\n",
    "\n",
    "Выполните следующие задания. Во всех случаях обосновывайте свой ответ.\n",
    "\n",
    "$1.$ \n",
    "\n",
    "- а) Укажите все такие значения числа $S$, при которых Петя может выиграть в один ход. \n",
    "\n",
    "Обоснуйте, что найдены все нужные значения $S$, и укажите выигрывающий ход для каждого указанного значения $S$.\n",
    "\n",
    "- б) Укажите такое значение $S$, при котором Петя не может выиграть за один ход, \n",
    "\n",
    "но при любом ходе Пети Ваня может выиграть своим первым ходом. Опишите выигрышную стратегию Вани.\n",
    "\n",
    "$2.$ Укажите два значения $S$, при которых у Пети есть выигрышная стратегия, причём \n",
    "\n",
    "- а) Петя не может выиграть за один ход и \n",
    "\n",
    "- б) Петя может выиграть своим вторым ходом независимо от того, как будет ходить Ваня. \n",
    "\n",
    "Для каждого указанного значения $S$ опишите выигрышную стратегию Пети.\n",
    "\n",
    "$3.$ Укажите такое значение $S$, при котором:\n",
    "\n",
    "- a) у Вани есть выигрышная стратегия, позволяющая ему выиграть первым или вторым ходом при любой игре Пети, и\n",
    "\n",
    "- б) у Вани нет стратегии, которая позволит ему гарантированно выиграть первым ходом. \n",
    "   \n",
    " Для указанного значения $S$ опишите выигрышную стратегию Вани. \n",
    " \n",
    " Постройте дерево всех партий, возможных при этой выигрышной стратегии Вани (в виде рисунка или таблицы). \n",
    " \n",
    " На рёбрах дерева указывайте, кто делает ход, в узлах — количество камней в куче.\n",
    "\n",
    "---\n",
    "\n",
    "Two players, Petya and Vanya, play the next game. There is a bunch of stones in front of the players. Players walk by turns, the first move is made by Petya. \n",
    "\n",
    "In one move, a player can add **two** or **three** stones to the pile or increase the number of stones in the heap **twice**. \n",
    "\n",
    "For example, having a heap of 15 stones, you can get a bunch of 17, 18 or 30 stones in one move.\n",
    "\n",
    "Each player to make moves, there is an unlimited number of stones.\n",
    "\n",
    "The game ends at the moment when the amount of stones in the heap becomes **at least 40**. \n",
    "\n",
    "The winner is the player who made the last move, that is, the first who receives a pile, which will have 40 or more stones.\n",
    "\n",
    "At the initial moment, the heap had $S$ stones, $1 ≤ S ≤ 39$.\n",
    "\n",
    "It is said that a player has a winning strategy if he can win for any variants of moves of the opponent. \n",
    "\n",
    "To describe a player's strategy is to describe what course he should take in any situation that he can meet in a different game of the opponent.\n",
    "\n",
    "Complete the following tasks. In all cases, justify your answer.\n",
    "\n",
    "$1.$\n",
    "\n",
    "- a) Indicate all such values of the number $S$ at which Petya can win in one turn. \n",
    "\n",
    "Justify that you have found all the required values of $S$, and indicate the winning move for each specified value of $S$.\n",
    "\n",
    "- b) Specify a value $S $for which Petya cannot win in one turn, but \n",
    "\n",
    "at any Petya's turn, Vanya can win with his first move. Describe the winning strategy of Vani.\n",
    "\n",
    "$2.$ Specify two values of $S$ for which Petya has a winning strategy, and \n",
    "\n",
    "- a) Petya cannot win in one move and \n",
    "\n",
    "- b) Petya can win with his second move regardless of how Vanya will walk. \n",
    "\n",
    "For each specified value of $S$, describe the winning strategy of Petya.\n",
    "\n",
    "$3.$ Specify an $S$ value such that:\n",
    "\n",
    "- a) Vanya has a winning strategy, which allows him to win first or second move with any Petit game, and\n",
    "\n",
    "- b) Vanya does not have a strategy that will allow him to win by the first step with a guarantee. \n",
    "   \n",
    "For the specified value of $S$, describe the winning strategy of Vanya. \n",
    "\n",
    "Build a tree of all the batches possible with this winning Vanya's strategy (in the form of a picture or a table). \n",
    "\n",
    "On the edges of the tree indicate who is making the move, in the nodes - the number of stones in the heap."
   ]
  },
  {
   "cell_type": "markdown",
   "metadata": {},
   "source": [
    "$1$.\n",
    "- a. `20≤S≤39`, $S \\in \\{20,...,39\\}$. Петя выигрывает одним ходом - удваивая количество камней: `40≤2*S≤78`, $2∗S \\in \\{40,...,78\\}$. При `1≤S≤19`, $S \\in \\{1,...,19\\}$ невозможно выиграть одним ходом: `3≤S+2≤21` $S+2 \\in \\{3,...,21\\}$; `4≤S+3≤22`, $S+3 \\in \\{4,...,22\\}$; `2≤2*S≤38`, $2*S \\in \\{2,...,38\\}$.\n",
    "\n",
    "- б. `S=18, S=19`. При любом следующем шаге `18 -> 20 (P +2)`, `18 -> 21 (P +3)`,`18 -> 36 (P *2)`, `19 -> 21 (P +2)`, `19 -> 22 (P +3)`,`19 -> 38 (P *2)` Петя выиграть не сможет, а Ваня гарантированно победит, удвоив результат на следующем этапе: `20 -> 40 (V *2)`, `21 -> 42 (V *2)`, `22 -> 44 (V *2)`, `36 -> 72 (V *2)`, `38 -> 76 (V *2)`.\n",
    "\n",
    "---\n",
    "\n",
    "- a. `20≤S≤39`, $S \\in \\{20,...,39\\}$. Petya wins by one step - doubling the number of stones: `40≤2*S≤78`, $2∗S \\in \\{40,...,78\\}$. At `1≤S≤19`, $S \\in \\{1,...,19\\}$ it is not possible to win by one move: `3≤S+2≤21` $S+2 \\in \\{3,...,21\\}$; `4≤S+3≤22`, $S+3 \\in \\{4,...,22\\}$; `2≤2*S≤38`, $2*S \\in \\{2,...,38\\}$.\n",
    "\n",
    "- b. `S=18, S=19`. In this case, at any next step, `18 -> 20 (P +2)`, `18 -> 21 (P +3)`, `18 -> 36 (P *2)`, `19 -> 21 (P +2)`, `19 -> 22 (P +3)`,`19 -> 38 (P *2)` Petya will not be able to win, and Vanya will win by doubling the result in the next stage: `20 -> 40 (V *2)`, `21 -> 42 (V *2)`, `22 -> 44 (V *2)`, `36 -> 72 (V *2)`, `38 -> 76 (V *2)`."
   ]
  },
  {
   "cell_type": "markdown",
   "metadata": {},
   "source": [
    "$2$.\n",
    "\n",
    "`S=9, S=15, S=16, S=17`. Петя должен выбрать тогда ход `9 -> 18 (P *2)`, `15 -> 18 (P +3)`, `16 -> 19 (P +3)`, `17 -> 19 (P +2)`. При любом следующем шаге `18 -> 20 (V +2)`, `18 -> 21 (V +3)`, `18 -> 36 (V *2)`, `19 -> 21 (V +2)`, `19 -> 22 (V +3)`,`19 -> 38 (V *2)`  Ваня выиграть не сможет, а Петя победит, удвоив результат на следующем этапе: `20 -> 40 (P *2)`, `21 -> 42 (P *2)`, `22 -> 44 (P *2)`, `36 -> 72 (P *2)`, `38 -> 76 (P *2)`.\n",
    "\n",
    "---\n",
    "\n",
    "`S=9, S=15, S=16, S=17`. Petya should choose the step `9 -> 18 (P *2)`, `15 -> 18 (P +3)`, `16 -> 19 (P +3)`, `17 -> 19 (P +2)`. At any next step, `18 -> 20 (V +2)`, `18 -> 21 (V +3)`, `18 -> 36 (V *2)`, `19 -> 21 (V +2)`, `19 -> 22 (V +3)`,`19 -> 38 (V *2)`  Vanya cannot win, but Petya wins by doubling the result in the next stage `20 -> 40 (P *2)`, `21 -> 42 (P *2)`, `22 -> 44 (P *2)`, `36 -> 72 (P *2)`, `38 -> 76 (P *2)`."
   ]
  },
  {
   "cell_type": "markdown",
   "metadata": {},
   "source": [
    "$3.$\n",
    "\n",
    "Обозначим: Р - ход Пети, V - Вани. / Let's denote: Р - Petya's step, V - Vanya's step.\n",
    "\n",
    "`S = 13`. Варианты игры: / Game variants:\n",
    "\n",
    "- $\\{ P: 13 \\to 15, V: 15 \\to 18, P: 18 \\to 20, V: 20 \\to 40\\}$\n",
    "- $\\{ P: 13 \\to 15, V: 15 \\to 18, P: 18 \\to 21, V: 21 \\to 42\\}$\n",
    "- $\\{ P: 13 \\to 15, V: 15 \\to 18, P: 18 \\to 36, V: 36 \\to 72\\}$\n",
    "- $\\{ P: 13 \\to 16, V: 16 \\to 18, P: 18 \\to 20, V: 20 \\to 40\\}$\n",
    "- $\\{ P: 13 \\to 16, V: 16 \\to 18, P: 18 \\to 21, V: 21 \\to 42\\}$\n",
    "- $\\{ P: 13 \\to 16, V: 16 \\to 18, P: 18 \\to 36, V: 36 \\to 72\\}$\n",
    "- $\\{ P: 13 \\to 26, V: 26 \\to 52 \\}$\n",
    "\n",
    "`S = 14`. Варианты игры: / Game variants:\n",
    "\n",
    "- $\\{ P: 14 \\to 16, V: 16 \\to 19, P: 19 \\to 21, V: 21 \\to 42\\}$\n",
    "- $\\{ P: 14 \\to 16, V: 16 \\to 19, P: 19 \\to 22, V: 22 \\to 44\\}$\n",
    "- $\\{ P: 14 \\to 16, V: 16 \\to 19, P: 19 \\to 38, V: 38 \\to 76\\}$\n",
    "- $\\{ P: 14 \\to 17, V: 17 \\to 19, P: 19 \\to 21, V: 21 \\to 42\\}$\n",
    "- $\\{ P: 14 \\to 17, V: 17 \\to 19, P: 19 \\to 22, V: 22 \\to 44\\}$\n",
    "- $\\{ P: 14 \\to 17, V: 17 \\to 19, P: 19 \\to 38, V: 38 \\to 76\\}$\n",
    "- $\\{ P: 14 \\to 28, V: 28 \\to 56 \\}$"
   ]
  },
  {
   "cell_type": "code",
   "execution_count": 194,
   "metadata": {},
   "outputs": [
    {
     "data": {
      "image/png": "[encoded data removed]",
      "text/plain": [
       "Plot with title “”"
      ]
     },
     "metadata": {},
     "output_type": "display_data"
    }
   ],
   "source": [
    "# S = 13\n",
    "options(repr.plot.width=11,repr.plot.height=11)\n",
    "edges3 <- c('13','15', '13','16', '13','26', '15','18', '16','18', '26','52',\n",
    "            '18','20', '18','21', '18','36', '20','40', '21','42', '36','72')\n",
    "colors3 <- c('coral','lightsteelblue','lightsteelblue','lightsteelblue',\n",
    "             'lightsteelblue','lightgreen','lightsteelblue','lightsteelblue',\n",
    "             'lightsteelblue','lightgreen','lightgreen','lightgreen')\n",
    "labels3 <- c('P +2','P +3','P *2','V +3','V +2','V *2',\n",
    "             'P +2','P +3','P *2','V *2','V *2','V *2')\n",
    "\n",
    "g3 <- graph(edges3)\n",
    "\n",
    "plot(g3,layout=layout_as_tree,edge.label=labels3,edge.label.cex=1.2,\n",
    "     vertex.color=colors3,vertex.size=18,vertex.label.cex=1.8,\n",
    "     vertex.frame.color=\"gray\",vertex.shape='rectangle');"
   ]
  },
  {
   "cell_type": "code",
   "execution_count": 195,
   "metadata": {},
   "outputs": [
    {
     "data": {
      "image/png": "[encoded data removed]",
      "text/plain": [
       "Plot with title “”"
      ]
     },
     "metadata": {},
     "output_type": "display_data"
    }
   ],
   "source": [
    "# S = 14\n",
    "options(repr.plot.width=11,repr.plot.height=11)\n",
    "edges3 <- c('14','16', '14','17', '14','28', '16','19', '17','19', '28','56',\n",
    "            '19','21', '19','22', '19','38', '21','42', '22','44', '38','76')\n",
    "colors3 <- c('coral','lightsteelblue','lightsteelblue','lightsteelblue',\n",
    "             'lightsteelblue','lightgreen','lightsteelblue','lightsteelblue',\n",
    "             'lightsteelblue','lightgreen','lightgreen','lightgreen')\n",
    "labels3 <- c('P +2','P +3','P *2','V +3','V +2','V *2',\n",
    "             'P +2','P +3','P *2','V *2','V *2','V *2')\n",
    "\n",
    "g3 <- graph(edges3)\n",
    "\n",
    "plot(g3,layout=layout_as_tree,edge.label=labels3,edge.label.cex=1.2,\n",
    "     vertex.color=colors3,vertex.size=18,vertex.label.cex=1.8,\n",
    "     vertex.frame.color=\"gray\",vertex.shape='rectangle');"
   ]
  },
  {
   "cell_type": "code",
   "execution_count": 196,
   "metadata": {},
   "outputs": [],
   "source": [
    "answer_dictionary[26] <- '\n",
    "1.\n",
    "a.\n",
    "P*2:20≤S≤39→20≤2*S≤78\n",
    "b.\n",
    "S=18 ∨ S=19\n",
    "P+2:18→20 ∨ P+3:18→21 ∨ P*2:18→36 ∨ P+2:19→21 ∨ P+3:19→22 ∨ P*2:19→38\n",
    "V*2:20→40 ∨ V*2:21→42 ∨ V*2:22→44 ∨ V*2:36→72 ∨ V*2:38→76\n",
    "2.\n",
    "S=9 ∨ S=15 ∨ S=16 ∨ S=17\n",
    "P*2:9→18 ∨ P+3:15→18 ∨ P+3:16→19 ∨ P+2:17→19\n",
    "V+2:18→20 ∨ V+3:18→21 ∨ V*2:18→36 ∨ V+2:19→21 ∨ V+3:19→22 ∨ V*2:19→38\n",
    "P*2:20→40 ∨ P*2:21→42 ∨ P*2:22→44 ∨ P*2:36→72 ∨ P*2:38→76\n",
    "3.\n",
    "S=13 ∨ S=14\n",
    "P+2:13→15 ∨ P+3:13→16 ∨ P*2:13→26 ∨ P+2:14→16 ∨ P+3:14→17 ∨ P*2:14→28\n",
    "V+3:15→18 ∨ V+2:16→18 ∨ V*2:26→52 ∨ V+3:16→19 ∨ V+2:17→19 ∨ V*2:28→56\n",
    "P+2:18→20 ∨ P+3:18→21 ∨ P*2:18→36 ∨ P+2:19→21 ∨ P+3:19→22 ∨ P*2:19→38\n",
    "V*2:20→40 ∨ V*2:21→42 ∨ V*2:22→44 ∨ V*2:36→72 ∨ V*2:38→76\n",
    "'"
   ]
  },
  {
   "cell_type": "markdown",
   "metadata": {},
   "source": [
    "## 27.\n",
    "На вход программе подаются сведения о работе железнодорожной сортировочной станции, за каждый год в отдельности. \n",
    "\n",
    "В первой строке сообщается количество строк (`N`), которые будут поданы на вход программы.\n",
    "\n",
    "В каждой из последующих `N` строк: \n",
    "\n",
    "информация о тоннаже и количестве железнодорожных вагонов, \n",
    "\n",
    "обработанных сортировочной станцией в течение нескольких лет (не раньше 1980 года).\n",
    "\n",
    "В формате:\n",
    "\n",
    "`mm.уууу tttt kkk`\n",
    "\n",
    "`mm` — номер месяца, `уууу` — год, \n",
    "\n",
    "`tttt` — тоннаж, \n",
    "\n",
    "`kkk` — количество обработанных вагонов (число положительное, если вагоны прибывающие, отрицательное — если убывающие).\n",
    "\n",
    "Пример: `11.2001 45322 -8657`\n",
    "\n",
    "Необходимо вывести на экран номера лет, в которые \n",
    "\n",
    "**наибольший тоннаж одного прибывшего вагона** превышает **наименьший тоннаж одного убывшего**.\n",
    "\n",
    "---\n",
    "\n",
    "The entrance to the program is given information about the work of the railway marshalling yard, for each year separately. \n",
    "\n",
    "The first line reports the number of lines (`N`) that will be submitted to the program's input.\n",
    "\n",
    "In each of the following `N` lines: \n",
    "\n",
    "information about the tonnage and the number of railway wagons \n",
    "\n",
    "handled by the marshalling yard for several years (not earlier than 1980).\n",
    "\n",
    "In the format:\n",
    "\n",
    "`mm.yyyy tttt kkk`\n",
    "\n",
    "`mm` is the number of the month, `yyyy` is the year, \n",
    "\n",
    "`tttt` is tonnage, `kkk` is the number of wagons processed (the number is positive if the wagons are arriving, negative is if the wagons are departing).\n",
    "\n",
    "Example: `11.2001 45322 -8657`\n",
    "\n",
    "It is necessary to display the numbers of the years in which \n",
    "\n",
    "the **largest tonnage of one arrived wagon** exceeds the **smallest tonnage of one departed wagon**."
   ]
  },
  {
   "cell_type": "code",
   "execution_count": 90,
   "metadata": {},
   "outputs": [],
   "source": [
    "N <- 12\n",
    "R <- c('09.1981 55322 -9657', \n",
    "       '10.1989 41247 8356',\n",
    "       '11.1997 45322 -8657', \n",
    "       '12.1998 55227 9356', \n",
    "       '01.2002 38742 -7891', \n",
    "       '02.2002 54742 9482',\n",
    "       '09.2001 55322 -9657', \n",
    "       '10.2001 41247 8356',\n",
    "       '11.2001 45322 -8657', \n",
    "       '12.2001 55227 9356', \n",
    "       '01.2002 38742 -7891', \n",
    "       '02.2002 54742 9482') "
   ]
  },
  {
   "cell_type": "code",
   "execution_count": 108,
   "metadata": {},
   "outputs": [
    {
     "name": "stdout",
     "output_type": "stream",
     "text": [
      "Количество строк: 12\n",
      "<месяц(mm)><.><год(yyyy)><пробел><тоннаж><пробел><количество вагонов>\n",
      "=-= =-= =-= =-= =-= =-= =-= =-= =-= =-= =-= =-= =-= =-= =-= =-= =-= =-=\n",
      "1 строка 09.1981 55322 -9657\n",
      "2 строка 10.1989 41247 8356\n",
      "3 строка 11.1997 45322 -8657\n",
      "4 строка 12.1998 55227 9356\n",
      "5 строка 01.2002 38742 -7891\n",
      "6 строка 02.2002 54742 9482\n",
      "7 строка 09.2001 55322 -9657\n",
      "8 строка 10.2001 41247 8356\n",
      "9 строка 11.2001 45322 -8657\n",
      "10 строка 12.2001 55227 9356\n",
      "11 строка 01.2002 38742 -7891\n",
      "12 строка 02.2002 54742 9482\n",
      "=-= =-= =-= =-= =-= =-= =-= =-= =-= =-= =-= =-= =-= =-= =-= =-= =-= =-=\n",
      "1989 1998 2001 2002"
     ]
    }
   ],
   "source": [
    "I <- 2017 - 1979\n",
    "arrived_max <- integer(I); departed_min <- integer(I)\n",
    "\n",
    "N <- as.integer(readline(\"Количество строк: \"))\n",
    "\n",
    "cat(\"<месяц(mm)><.><год(yyyy)><пробел><тоннаж><пробел><количество вагонов>\")\n",
    "cat(\"\\n\")\n",
    "cat(replicate(18,\"=-=\"))\n",
    "cat(\"\\n\")\n",
    "\n",
    "for (i in 1:N){\n",
    "    string <- unlist(strsplit(readline(paste(toString(i),\"строка \",sep=\" \")),\"[ ]\"))\n",
    "    \n",
    "    year <- as.integer(substr(string[1],4,8))\n",
    "    avg <- abs(as.integer(string[2])/as.integer(string[3]))\n",
    "    \n",
    "    if (as.integer(string[3]) >= 0) {\n",
    "        if (arrived_max[year-1979] < avg) {\n",
    "            arrived_max[year-1979] <- avg\n",
    "        }\n",
    "    } else {\n",
    "        if (departed_min[year-1979] < avg) { \n",
    "            departed_min[year-1979] <- avg\n",
    "        }\n",
    "    }\n",
    "}\n",
    "\n",
    "cat(replicate(18,\"=-=\"))\n",
    "cat(\"\\n\")\n",
    "\n",
    "result = \"\"\n",
    "for (i in 1:I) {\n",
    "    if (arrived_max[i] > departed_min[i]){\n",
    "        result <- paste(result,toString(i+1979),sep=\" \")\n",
    "    }\n",
    "}\n",
    "\n",
    "cat(substring(result,2))"
   ]
  },
  {
   "cell_type": "code",
   "execution_count": 207,
   "metadata": {},
   "outputs": [],
   "source": [
    "program <- '\n",
    "I <- 2017 - 1979\n",
    "arrived_max <- integer(I); departed_min <- integer(I)\n",
    "\n",
    "N <- as.integer(readline(\"Количество строк: \"))\n",
    "\n",
    "cat(\"<месяц(mm)><.><год(yyyy)><пробел><тоннаж><пробел><количество вагонов>\")\n",
    "cat(\"\\n\")\n",
    "cat(replicate(18,\"=-=\"))\n",
    "cat(\"\\n\")\n",
    "\n",
    "for (i in 1:N){\n",
    "    string <- unlist(strsplit(readline(paste(toString(i),\"строка \",sep=\" \")),\"[ ]\"))\n",
    "    \n",
    "    year <- as.integer(substr(string[1],4,8))\n",
    "    avg <- abs(as.integer(string[2])/as.integer(string[3]))\n",
    "    \n",
    "    if (as.integer(string[3]) >= 0) {\n",
    "        if (arrived_max[year-1979] < avg) {\n",
    "            arrived_max[year-1979] <- avg\n",
    "        }\n",
    "    } else {\n",
    "        if (departed_min[year-1979] < avg) { \n",
    "            departed_min[year-1979] <- avg\n",
    "        }\n",
    "    }\n",
    "}\n",
    "\n",
    "cat(replicate(18,\"=-=\"))\n",
    "cat(\"\\n\")\n",
    "\n",
    "result = \"\"\n",
    "for (i in 1:I) {\n",
    "    if (arrived_max[i] > departed_min[i]){\n",
    "        result <- paste(result,toString(i+1979),sep=\" \")\n",
    "    }\n",
    "}\n",
    "\n",
    "cat(substring(result,2))\n",
    "'"
   ]
  },
  {
   "cell_type": "code",
   "execution_count": 208,
   "metadata": {},
   "outputs": [],
   "source": [
    "answer_dictionary[27] <- paste(version, program, sep=\"\\n\")"
   ]
  },
  {
   "cell_type": "markdown",
   "metadata": {},
   "source": [
    "## Ответы &nbsp; &nbsp; &nbsp; Answers"
   ]
  },
  {
   "cell_type": "code",
   "execution_count": 209,
   "metadata": {
    "scrolled": false
   },
   "outputs": [
    {
     "data": {
      "text/plain": [
       "<hash> containing 27 key-value pair(s).\n",
       "  1 : 153\n",
       "  10 : 400\n",
       "  11 : 12\n",
       "  12 : 224\n",
       "  13 : 640\n",
       "  14 : 887\n",
       "  15 : 24\n",
       "  16 : 5\n",
       "  17 : 47\n",
       "  18 : 3\n",
       "  19 : 9\n",
       "  2 : zxy\n",
       "  20 : 127\n",
       "  21 : 64\n",
       "  22 : 276\n",
       "  23 : 127\n",
       "  24 : 1)16; 2)1, 2, 3, 4, 0; 3)\"s <- 0\" -> \"if (a %% 2 == 0) {s <- a} else {s <- 0}\"\n",
       "  25 : R version 3.5.0 (2018-04-23);\n",
       "N <- 40\n",
       "A <- vector(length=N)\n",
       "MIN <- 20001\n",
       "for (I in 1:N){\n",
       "    A[I] <- as.integer(readline())\n",
       "    # The fragment instead of the ellipsis\n",
       "    if (I %% 2 == 0) {\n",
       "        if (A[I-1] + A[I] < MIN) { \n",
       "            MIN <- A[I-1] + A[I]\n",
       "            J <- I\n",
       "        }\n",
       "    }\n",
       "}\n",
       "print(c(A[J-1],A[J]))\n",
       "  26 : \n",
       "1.\n",
       "a.\n",
       "P*2:20≤S≤39→20≤2*S≤78\n",
       "b.\n",
       "S=18 ∨ S=19\n",
       "P+2:18→20 ∨ P+3:18→21 ∨ P*2:18→36 ∨ P+2:19→21 ∨ P+3:19→22 ∨ P*2:19→38\n",
       "V*2:20→40 ∨ V*2:21→42 ∨ V*2:22→44 ∨ V*2:36→72 ∨ V*2:38→76\n",
       "2.\n",
       "S=9 ∨ S=15 ∨ S=16 ∨ S=17\n",
       "P*2:9→18 ∨ P+3:15→18 ∨ P+3:16→19 ∨ P+2:17→19\n",
       "V+2:18→20 ∨ V+3:18→21 ∨ V*2:18→36 ∨ V+2:19→21 ∨ V+3:19→22 ∨ V*2:19→38\n",
       "P*2:20→40 ∨ P*2:21→42 ∨ P*2:22→44 ∨ P*2:36→72 ∨ P*2:38→76\n",
       "3.\n",
       "S=13 ∨ S=14\n",
       "P+2:13→15 ∨ P+3:13→16 ∨ P*2:13→26 ∨ P+2:14→16 ∨ P+3:14→17 ∨ P*2:14→28\n",
       "V+3:15→18 ∨ V+2:16→18 ∨ V*2:26→52 ∨ V+3:16→19 ∨ V+2:17→19 ∨ V*2:28→56\n",
       "P+2:18→20 ∨ P+3:18→21 ∨ P*2:18→36 ∨ P+2:19→21 ∨ P+3:19→22 ∨ P*2:19→38\n",
       "V*2:20→40 ∨ V*2:21→42 ∨ V*2:22→44 ∨ V*2:36→72 ∨ V*2:38→76\n",
       "  27 : R version 3.5.0 (2018-04-23)\n",
       "I <- 2017 - 1979\n",
       "arrived_max <- integer(I); departed_min <- integer(I)\n",
       "N <- as.integer(readline(\"Количество строк: \"))\n",
       "cat(\"<месяц(mm)><.><год(yyyy)><пробел><тоннаж><пробел><количество вагонов>\")\n",
       "cat(\"\n",
       "\")\n",
       "cat(replicate(18,\"=-=\"))\n",
       "cat(\"\n",
       "\")\n",
       "for (i in 1:N){\n",
       "    string <- unlist(strsplit(readline(paste(toString(i),\"строка \",sep=\" \")),\"[ ]\"))\n",
       "    \n",
       "    year <- as.integer(substr(string[1],4,8))\n",
       "    avg <- abs(as.integer(string[2])/as.integer(string[3]))\n",
       "    \n",
       "    if (as.integer(string[3]) >= 0) {\n",
       "        if (arrived_max[year-1979] < avg) {\n",
       "            arrived_max[year-1979] <- avg\n",
       "        }\n",
       "    } else {\n",
       "        if (departed_min[year-1979] < avg) { \n",
       "            departed_min[year-1979] <- avg\n",
       "        }\n",
       "    }\n",
       "}\n",
       "cat(replicate(18,\"=-=\"))\n",
       "cat(\"\n",
       "\")\n",
       "result = \"\"\n",
       "for (i in 1:I) {\n",
       "    if (arrived_max[i] > departed_min[i]){\n",
       "        result <- paste(result,toString(i+1979),sep=\" \")\n",
       "    }\n",
       "}\n",
       "cat(substring(result,2))\n",
       "  3 : 14\n",
       "  4 : 13\n",
       "  5 : C1\n",
       "  6 : 3\n",
       "  7 : 8\n",
       "  8 : 192\n",
       "  9 : 16"
      ]
     },
     "metadata": {},
     "output_type": "display_data"
    }
   ],
   "source": [
    "answer_dictionary"
   ]
  }
 ],
 "metadata": {
  "kernelspec": {
   "display_name": "R",
   "language": "R",
   "name": "ir"
  },
  "language_info": {
   "codemirror_mode": "r",
   "file_extension": ".r",
   "mimetype": "text/x-r-source",
   "name": "R",
   "pygments_lexer": "r",
   "version": "3.5.0"
  }
 },
 "nbformat": 4,
 "nbformat_minor": 2
}
