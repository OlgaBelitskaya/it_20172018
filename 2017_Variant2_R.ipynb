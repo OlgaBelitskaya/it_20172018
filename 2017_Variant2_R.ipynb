{
 "cells": [
  {
   "cell_type": "markdown",
   "metadata": {},
   "source": [
    "# ЕГЭ 2017 Вариант 2 &nbsp; &nbsp; &nbsp; EGE 2017 Variant 2\n",
    "[ЕГЭ-2017. Информатика.10 тренировочных вариантов. Ушаков Д.М.](https://drive.google.com/file/d/0B6696ckkWj_zS2ptblAxNERHZzQ/view)\n",
    "\n",
    "[Basic Regular Expressions in R Cheatsheet](https://www.rstudio.com/wp-content/uploads/2016/09/RegExCheatsheet.pdf)\n",
    "\n",
    "[DataFlair: R Tutorials](https://data-flair.training/blogs/category/r/)\n",
    "\n",
    "[Алгоритм Шеннона — Фано](https://ru.wikipedia.org/wiki/%D0%90%D0%BB%D0%B3%D0%BE%D1%80%D0%B8%D1%82%D0%BC_%D0%A8%D0%B5%D0%BD%D0%BD%D0%BE%D0%BD%D0%B0_%E2%80%94_%D0%A4%D0%B0%D0%BD%D0%BE)"
   ]
  },
  {
   "cell_type": "code",
   "execution_count": 5,
   "metadata": {},
   "outputs": [],
   "source": [
    "library(IRdisplay)\n",
    "library(repr)\n",
    "library(hash)\n",
    "library(numbers)\n",
    "library(e1071)\n",
    "library(igraph)\n",
    "library(VennDiagram)"
   ]
  },
  {
   "cell_type": "code",
   "execution_count": 6,
   "metadata": {},
   "outputs": [],
   "source": [
    "# install.packages('')"
   ]
  },
  {
   "cell_type": "code",
   "execution_count": 7,
   "metadata": {},
   "outputs": [],
   "source": [
    "answer_dictionary <- hash()"
   ]
  },
  {
   "cell_type": "code",
   "execution_count": 8,
   "metadata": {},
   "outputs": [
    {
     "data": {
      "text/html": [
       "<style>\n",
       "@import url('https://fonts.googleapis.com/css?family=Roboto');\n",
       "body {background-color: aliceblue;} \n",
       "a {color: #4876ff; font-family: 'Roboto';} \n",
       "h1 {color: #348ABD; font-family: 'Roboto'; text-shadow: 4px 4px 4px #aaa;} \n",
       "h2, h3 {color: gray; font-family: 'Roboto'; text-shadow: 4px 4px 4px #aaa;}\n",
       "h4 {color: #348ABD; font-family: 'Roboto';}\n",
       "span {text-shadow: 4px 4px 4px #aaa;}\n",
       "div.output_prompt, div.output_area pre, div.output_subarea {color: gray;}\n",
       "div.input_prompt {color: #4876ff;}      \n",
       "div.output_stderr pre {background-color: aliceblue;}  \n",
       "div.output_stderr {background-color: gray;}                        \n",
       "</style>"
      ]
     },
     "metadata": {},
     "output_type": "display_data"
    }
   ],
   "source": [
    "display_html(\"<style>\n",
    "@import url('https://fonts.googleapis.com/css?family=Roboto');\n",
    "body {background-color: aliceblue;} \n",
    "a {color: #4876ff; font-family: 'Roboto';} \n",
    "h1 {color: #348ABD; font-family: 'Roboto'; text-shadow: 4px 4px 4px #aaa;} \n",
    "h2, h3 {color: gray; font-family: 'Roboto'; text-shadow: 4px 4px 4px #aaa;}\n",
    "h4 {color: #348ABD; font-family: 'Roboto';}\n",
    "span {text-shadow: 4px 4px 4px #aaa;}\n",
    "div.output_prompt, div.output_area pre, div.output_subarea {color: gray;}\n",
    "div.input_prompt {color: #4876ff;}      \n",
    "div.output_stderr pre {background-color: aliceblue;}  \n",
    "div.output_stderr {background-color: gray;}                        \n",
    "</style>\")   "
   ]
  },
  {
   "cell_type": "markdown",
   "metadata": {},
   "source": [
    "## Часть 1 &nbsp; &nbsp; &nbsp; Part 1\n",
    "\n",
    "## 1.\n",
    "\n",
    "Дано $A = 325_8$, $B = {D7}_{16}$. \n",
    "\n",
    "Укажите число С, записанное в двоичной системе счисления, которое отвечает условию А < С < В. \n",
    "\n",
    "Основание системы счисления указывать не нужно. \n",
    "\n",
    "(Например, если ответ должен быть $1100_2$, в ответе нужно записать $1100$.)\n",
    "\n",
    "--- \n",
    "\n",
    "$ A = 325_8 $, $ B = {D7}_{16} $ are given. \n",
    "\n",
    "Specify the number C, written in the binary system, which corresponds to the condition A < C < B. \n",
    "\n",
    "The base of the number system should not be indicated. \n",
    "\n",
    "(For example, if the answer is $ 1100_2 $, you need to write $ 1100 $ in the answer.)"
   ]
  },
  {
   "cell_type": "code",
   "execution_count": 12,
   "metadata": {},
   "outputs": [],
   "source": [
    "options(scipen = 999)\n",
    "dec2bin <- function(n) {\n",
    "  bv <- rep(0, 1 + floor(log(n, 2)))\n",
    "  while (n >= 2) {\n",
    "    pow <- floor(log(n, 2))\n",
    "    bv[1 + pow] <- 1\n",
    "    n <- n - 2^pow\n",
    "  }\n",
    "  bv[1] <- n %% 2\n",
    "  paste(rev(bv), collapse = \"\")\n",
    "}"
   ]
  },
  {
   "cell_type": "code",
   "execution_count": 13,
   "metadata": {},
   "outputs": [
    {
     "data": {
      "text/html": [
       "213"
      ],
      "text/latex": [
       "213"
      ],
      "text/markdown": [
       "213"
      ],
      "text/plain": [
       "[1] 213"
      ]
     },
     "metadata": {},
     "output_type": "display_data"
    }
   ],
   "source": [
    "# (325 _8)\n",
    "A <- 3 * 8**2 + 2 * 8 ** 1 + 5 * 8 ** 0\n",
    "A"
   ]
  },
  {
   "cell_type": "code",
   "execution_count": 14,
   "metadata": {},
   "outputs": [
    {
     "data": {
      "text/html": [
       "215"
      ],
      "text/latex": [
       "215"
      ],
      "text/markdown": [
       "215"
      ],
      "text/plain": [
       "[1] 215"
      ]
     },
     "metadata": {},
     "output_type": "display_data"
    }
   ],
   "source": [
    "# (D7 _16)\n",
    "B <- 13 * 16**1 + 7 * 16 ** 0\n",
    "B"
   ]
  },
  {
   "cell_type": "code",
   "execution_count": 16,
   "metadata": {},
   "outputs": [
    {
     "data": {
      "text/html": [
       "'11010110'"
      ],
      "text/latex": [
       "'11010110'"
      ],
      "text/markdown": [
       "'11010110'"
      ],
      "text/plain": [
       "[1] \"11010110\""
      ]
     },
     "metadata": {},
     "output_type": "display_data"
    }
   ],
   "source": [
    "dec2bin((A + B) / 2)"
   ]
  },
  {
   "cell_type": "code",
   "execution_count": 56,
   "metadata": {},
   "outputs": [],
   "source": [
    "answer_dictionary[1] <- dec2bin((A + B) / 2)"
   ]
  },
  {
   "cell_type": "markdown",
   "metadata": {},
   "source": [
    "## 2.\n",
    "Дан фрагмент таблицы истинности выражения F, зависящего от трёх аргументов X, Y, Z.\n",
    "\n",
    "Перечислите в порядке возрастания без запятых и пробелов номера логических выражений, которые соответствуют F.\n",
    "\n",
    "---\n",
    "\n",
    "A fragment of the truth table of the expression F, depending on three arguments X, Y, Z, is given.\n",
    "\n",
    "List in ascending order without commas and spaces the numbers of logical expressions that correspond to F.\n",
    "\n",
    "| $X$ | $Y$ | $Z$ | $F$ |\n",
    "|:-:|:-:|:-:|:-:|\n",
    "| 0 | 1 | 1 | 1 |\n",
    "| 1 | 0 | 1 | 0 |\n",
    "| 1 | 1 | 0 | 1 |\n",
    "\n",
    "$1) \\ \\neg X \\lor Y \\land Z \\\\ \n",
    "2) \\ \\neg X \\land Y \\land Z \\\\ \n",
    "3) \\ \\neg X \\lor Y \\land \\neg Z \\\\ \n",
    "4) \\ \\neg X \\land Y \\lor \\neg Z \\\\ \n",
    "5) \\ X \\lor Y \\lor \\neg Z$"
   ]
  },
  {
   "cell_type": "code",
   "execution_count": 45,
   "metadata": {},
   "outputs": [],
   "source": [
    "bc <- matrix(c(0,1,1, 1,0,1, 1,1,0), nrow=3, ncol=3, byrow = TRUE)\n",
    "\n",
    "F <- function(X, Y, Z, I) {\n",
    "    if (I == 1) {return(!X | Y & Z)}\n",
    "    if (I == 2) {return(!X & Y & Z)}\n",
    "    if (I == 3) {return(!X | Y & !Z)}\n",
    "    if (I == 4) {return(!X & Y | !Z)}    \n",
    "    if (I == 5) {return(X | Y | !Z)}    \n",
    "} "
   ]
  },
  {
   "cell_type": "code",
   "execution_count": 53,
   "metadata": {},
   "outputs": [
    {
     "name": "stdout",
     "output_type": "stream",
     "text": [
      "[1] 3\n",
      "[1] 4\n"
     ]
    }
   ],
   "source": [
    "for (i in 1:5){\n",
    "    result = vector(length=3)\n",
    "    for (j in 1:3) {result[j] = F(bc[j,1],bc[j,2],bc[j,3],i)}\n",
    "    if (all(result == c(TRUE,FALSE,TRUE))){print(i)}\n",
    "}"
   ]
  },
  {
   "cell_type": "code",
   "execution_count": 57,
   "metadata": {},
   "outputs": [],
   "source": [
    "answer_dictionary[2] <- '34'"
   ]
  },
  {
   "cell_type": "markdown",
   "metadata": {},
   "source": [
    "## 3.\n",
    "В таблице приведена стоимость перевозок между соседними железнодорожными станциями. \n",
    "\n",
    "Перечислите в порядке возрастания, без пробелов и запятых, номера таблиц, соответствующих схеме.\n",
    "\n",
    "---\n",
    "\n",
    "The table shows the cost of transportation between neighboring railway stations. \n",
    "\n",
    "List in ascending order, without spaces or commas, the numbers of tables that are corresponding to the scheme.\n",
    "\n",
    "\n",
    "| $1) $ | &#x123CF; | A | B | C | D | E | F |||$2)$ | &#x123CF; | A | B | C | D | E | F |\n",
    "|:-:|:-:|:-:|:-:|:-:|:-:|:-:|:-:|:-:|:-:|:-:|:-:|:-:|:-:|:-:|:-:|:-:|:-:|\n",
    "| | **A** | &#x123CF; | 3 |  |  |  | 2 ||| | **A** | &#x123CF; | 3 |  |  |  | 2 |\n",
    "| | **B** | 3 | &#x123CF; | 3 | 5 |  | 4 ||| | **B** | 3 | &#x123CF; | 3 | 5 |  | 4 |\n",
    "| | **C** |  | 3 | &#x123CF; | 3 | 5 |  ||| | **C** |  | 3 | &#x123CF; | 2 | 5 |  |\n",
    "| | **D** |  |  | 3 | &#x123CF; | 2 |  ||| | **D** |  |  | 2 | &#x123CF; | 3 |  |\n",
    "| | **E** |  | 5 | 5 | 2 | &#x123CF; |  ||| | **E** |  | 5 | 5 | 3 | &#x123CF; |  |\n",
    "| | **F** | 2 | 4 |  |  |  | &#x123CF; ||| | **F** | 2 | 4 |  |  |  | &#x123CF; |\n",
    "\n",
    "| $3) $ | &#x123CF; | A | B | C | D | E | F |||$4)$ | &#x123CF; | A | B | C | D | E | F |\n",
    "|:-:|:-:|:-:|:-:|:-:|:-:|:-:|:-:|:-:|:-:|:-:|:-:|:-:|:-:|:-:|:-:|:-:|:-:|\n",
    "| | **A** | &#x123CF; | 3 |  |  |  | 2 ||| | **A** | &#x123CF; | 3 |  |  |  | 2 |\n",
    "| | **B** | 3 | &#x123CF; | 3 | 5 |  | 4 ||| | **B** | 3 | &#x123CF; | 3 | 5 |  | 4 |\n",
    "| | **C** |  | 3 | &#x123CF; | 2 | 5 |  ||| | **C** |  | 3 | &#x123CF; | 2 | 3 |  |\n",
    "| | **D** |  |  | 2 | &#x123CF; |  |  ||| | **D** |  |  | 2 | &#x123CF; | 5 |  |\n",
    "| | **E** |  | 5 | 5 |  | &#x123CF; | 3 ||| | **E** |  | 5 | 3 | 5 | &#x123CF; |  |\n",
    "| | **F** | 2 | 4 |  |  | 3 | &#x123CF; ||| | **F** | 2 | 4 |  |  |  | &#x123CF; |"
   ]
  },
  {
   "cell_type": "code",
   "execution_count": 92,
   "metadata": {},
   "outputs": [
    {
     "data": {
      "image/png": "[encoded data removed]",
      "text/plain": [
       "Plot with title “”"
      ]
     },
     "metadata": {},
     "output_type": "display_data"
    }
   ],
   "source": [
    "options(repr.plot.width=4,repr.plot.height=4)\n",
    "edges <- c('A','B','A','F','B','C','B','E','B','F',\n",
    "           'C','D','C','E','D','E')\n",
    "weights <- c(3,2,3,5,4,2,5,3)\n",
    "g <- graph(edges, directed=FALSE)%>%\n",
    "    set_edge_attr(\"weight\", value=weights)\n",
    "plot(g, layout=layout_in_circle(g),\n",
    "     vertex.color=\"steelblue\",vertex.size=30,vertex.frame.color=\"gray\",\n",
    "     edge.label=E(g)$weight,edge.width=E(g)$weight/2)"
   ]
  },
  {
   "cell_type": "code",
   "execution_count": 93,
   "metadata": {},
   "outputs": [
    {
     "data": {
      "text/html": [
       "<table>\n",
       "<thead><tr><th></th><th scope=col>A</th><th scope=col>B</th><th scope=col>C</th><th scope=col>D</th><th scope=col>E</th><th scope=col>F</th></tr></thead>\n",
       "<tbody>\n",
       "\t<tr><th scope=row>A</th><td>0</td><td>3</td><td>0</td><td>0</td><td>0</td><td>2</td></tr>\n",
       "\t<tr><th scope=row>B</th><td>3</td><td>0</td><td>3</td><td>0</td><td>5</td><td>4</td></tr>\n",
       "\t<tr><th scope=row>C</th><td>0</td><td>3</td><td>0</td><td>2</td><td>5</td><td>0</td></tr>\n",
       "\t<tr><th scope=row>D</th><td>0</td><td>0</td><td>2</td><td>0</td><td>3</td><td>0</td></tr>\n",
       "\t<tr><th scope=row>E</th><td>0</td><td>5</td><td>5</td><td>3</td><td>0</td><td>0</td></tr>\n",
       "\t<tr><th scope=row>F</th><td>2</td><td>4</td><td>0</td><td>0</td><td>0</td><td>0</td></tr>\n",
       "</tbody>\n",
       "</table>\n"
      ],
      "text/latex": [
       "\\begin{tabular}{r|llllll}\n",
       "  & A & B & C & D & E & F\\\\\n",
       "\\hline\n",
       "\tA & 0 & 3 & 0 & 0 & 0 & 2\\\\\n",
       "\tB & 3 & 0 & 3 & 0 & 5 & 4\\\\\n",
       "\tC & 0 & 3 & 0 & 2 & 5 & 0\\\\\n",
       "\tD & 0 & 0 & 2 & 0 & 3 & 0\\\\\n",
       "\tE & 0 & 5 & 5 & 3 & 0 & 0\\\\\n",
       "\tF & 2 & 4 & 0 & 0 & 0 & 0\\\\\n",
       "\\end{tabular}\n"
      ],
      "text/markdown": [
       "\n",
       "| <!--/--> | A | B | C | D | E | F | \n",
       "|---|---|---|---|---|---|\n",
       "| A | 0 | 3 | 0 | 0 | 0 | 2 | \n",
       "| B | 3 | 0 | 3 | 0 | 5 | 4 | \n",
       "| C | 0 | 3 | 0 | 2 | 5 | 0 | \n",
       "| D | 0 | 0 | 2 | 0 | 3 | 0 | \n",
       "| E | 0 | 5 | 5 | 3 | 0 | 0 | \n",
       "| F | 2 | 4 | 0 | 0 | 0 | 0 | \n",
       "\n",
       "\n"
      ],
      "text/plain": [
       "  A B C D E F\n",
       "A 0 3 0 0 0 2\n",
       "B 3 0 3 0 5 4\n",
       "C 0 3 0 2 5 0\n",
       "D 0 0 2 0 3 0\n",
       "E 0 5 5 3 0 0\n",
       "F 2 4 0 0 0 0"
      ]
     },
     "metadata": {},
     "output_type": "display_data"
    }
   ],
   "source": [
    "adjm <- get.adjacency(g, attr=\"weight\",sparse=FALSE)\n",
    "adjm[sort(rownames(adjm)),sort(colnames(adjm))]"
   ]
  },
  {
   "cell_type": "code",
   "execution_count": 94,
   "metadata": {},
   "outputs": [],
   "source": [
    "answer_dictionary[3] <- '2'"
   ]
  },
  {
   "cell_type": "markdown",
   "metadata": {},
   "source": [
    "## 4.\n",
    "В каталоге находятся шесть файлов. / There are six files in the directory.\n",
    "\n",
    "| 1 | 2 | 3 | 4 | 5 | 6 |\n",
    "|:-:|:-:|:-:|:-:|:-:|:-:|\n",
    "| ask.c | kasko.cpp | kraska.doc | nebraska.docx | mask.pic | laska.dpr |\n",
    "\n",
    "Ниже представлено восемь масок. / Bellow, you can see eight masks.\n",
    "\n",
    "|  |  |  |  |\n",
    "|:-:|:-:|:-:|:-:|\n",
    "| `?ask*.???*` | `*ask*.*c*` | `*as??.*c*` | `*ask*.???` |\n",
    "| `*a*a*.*d*` | `*aska*.?*?` | `?????*.???` | `?s*k?.*` |\n",
    "Сколько из них таких, которым соответствует ровно три файла из данного каталога?\n",
    "\n",
    "How many of them are those to which exactly three files from this catalog correspond?"
   ]
  },
  {
   "cell_type": "code",
   "execution_count": null,
   "metadata": {},
   "outputs": [],
   "source": []
  },
  {
   "cell_type": "markdown",
   "metadata": {},
   "source": [
    "## 5.\n",
    "Для 5 букв латинского алфавита заданы их двоичные коды. Эти коды представлены в таблице. \n",
    "\n",
    "For 5 letters of the Latin alphabet their binary codes are given. These codes are presented in the table.\n",
    "\n",
    "| A | B | C | D | E |\n",
    "|:-:|:-:|:-:|:-:|:-:|\n",
    "| `00` | `100` | `110` | `01` | `101` |\n",
    "\n",
    "Определите, какой набор букв закодирован двоичной последовательностью `110011000011010101`. \n",
    "\n",
    "В ответе запишите последовательность букв без запятых.\n",
    "\n",
    "Determine which set of letters is encoded with the binary sequence `110011000011010101`. \n",
    "\n",
    "In the answer, write down the sequence of letters without commas."
   ]
  },
  {
   "cell_type": "code",
   "execution_count": 106,
   "metadata": {},
   "outputs": [
    {
     "data": {
      "text/html": [
       "'CDBACED'"
      ],
      "text/latex": [
       "'CDBACED'"
      ],
      "text/markdown": [
       "'CDBACED'"
      ],
      "text/plain": [
       "[1] \"CDBACED\""
      ]
     },
     "metadata": {},
     "output_type": "display_data"
    }
   ],
   "source": [
    "string <- '110011000011010101'\n",
    "fragments <- c('00','100','110','01','101')\n",
    "letters <- c('A','B','C','D','E')\n",
    "result <- ''\n",
    "\n",
    "while (string !='') {\n",
    "    for (i in 1:5){\n",
    "        if (substr(string,1,2) == fragments[i]) {\n",
    "            result <- paste(result,letters[i],sep=\"\")\n",
    "            string <- substring(string,first=3,last=nchar(string))\n",
    "        }\n",
    "        if (substr(string,1,3) == fragments[i]) {\n",
    "            result <- paste(result,letters[i],sep=\"\")\n",
    "            string <- substring(string,first=4,last=nchar(string))\n",
    "        }\n",
    "    }\n",
    "}\n",
    "\n",
    "result"
   ]
  },
  {
   "cell_type": "code",
   "execution_count": 107,
   "metadata": {},
   "outputs": [],
   "source": [
    "answer_dictionary[5] <- result"
   ]
  },
  {
   "cell_type": "markdown",
   "metadata": {},
   "source": [
    "## 6.\n",
    "Автомат получает на вход два двузначных шестнадцатеричных числа. \n",
    "\n",
    "В этих числах все цифры не превосходят цифру 6 (если в числе есть цифра больше 6, автомат отказывается работать). \n",
    "\n",
    "По этим числам строится новое шестнадцатеричное число по следующим правилам.\n",
    "\n",
    "1. Вычисляются два шестнадцатеричных числа — сумма старших разрядов полученных чисел и сумма младших разрядов этих чисел.\n",
    "\n",
    "2. Полученные два шестнадцатеричных числа записываются друг за другом в порядке убывания (без разделителей).\n",
    "\n",
    "_Пример._ Исходные числа: 25, 66. Поразрядные суммы: 8, В. Результат: В8. \n",
    "\n",
    "Какие из предложенных чисел могут быть результатом работы автомата?\n",
    "\n",
    "Перечислите в алфавитном порядке буквы, соответствующие этим числам, без пробелов и знаков препинания.\n",
    "\n",
    "**A) 127 B) C6 C) BA D) E3 E) D1 **\n",
    "\n",
    "---\n",
    "\n",
    "The machine receives two two-digit hexadecimal numbers. \n",
    "\n",
    "In these numbers, all figures do not exceed 6 (if the number is greater than 6, the machine refuses to work). \n",
    "\n",
    "For these numbers, a new hexadecimal number is constructed according to the following rules.\n",
    "\n",
    "1. Two hexadecimal numbers are calculated - the sum of the highest digits of the obtained numbers and the sum of the lowest digits of these numbers.\n",
    "\n",
    "2. The received two hexadecimal numbers are written one after the other in descending order (without separators).\n",
    "\n",
    "_Example._ Initial numbers: 25, 66. Bitwise sums: 8, B. Result: B8. \n",
    "\n",
    "Which of the suggested numbers can be the result of the operation of the machine?\n",
    "\n",
    "List in alphabetical order the letters corresponding to these numbers, without spaces and punctuation marks.\n",
    "\n",
    "**A) 127 B) C6 C) BA D) E3 E) D1**"
   ]
  },
  {
   "cell_type": "markdown",
   "metadata": {},
   "source": [
    "Рассмотрим предложенные варианты:\n",
    "\n",
    "- A) **127**\n",
    "   - Цифры складываемых чисел не превышают $6_{10} \\ ( 6_{16})$ => их поразрядные суммы не превышают $6_{10} + 6_{10} = 12_{10} \\ ( 6_{16} + 6_{16} = C_{16} )$ => результат не может быть трехзначным в шестнадцатеричной системе.\n",
    "   \n",
    "- B) **C6** \n",
    "   - Возможный вариант сложения и перестановки цифр: $26_{16}$ и  $46_{16}$ поразрядно суммируются и получается пара $6_{16}, C_{16}$, затем цифры переставляются $C6_{16}$.\n",
    "   \n",
    "- C) **BA**  \n",
    "   - Возможный вариант сложения и перестановки цифр: $55_{16}$ и  $56_{16}$ поразрядно суммируются и получается пара $A_{16}, B_{16}$, затем цифры переставляются $BA_{16}$.\n",
    "   \n",
    "- D) **E3**\n",
    "  - $14_{10} \\ ( E_{16})$ не может быть получена сложением двух цифр, не превышающих $6_{10} \\ ( 6_{16})$.\n",
    "  \n",
    "- E) **D1**\n",
    "  - $13_{10} \\ ( D_{16})$ не может быть получена сложением двух цифр, не превышающих $6_{10} \\ ( 6_{16})$.\n",
    "  \n",
    "---\n",
    "\n",
    "Let's consider the offered variants:\n",
    "\n",
    "- A) ** 127 **\n",
    "    - The digits do not exceed $6_{10} \\ (6_{16})$ => their bitwise sums do not exceed $6_{10} + 6_{10} = 12_{10} \\ (6_{16} + 6_{ 16} = C_{16})$ => the result cannot be a three-digit number in the hexadecimal system.\n",
    "    \n",
    "- B) ** C6 **\n",
    "    - A possible variant of adding and rearranging the numbers: $26_{16}$ and $46_{16}$ are digitally summed and the pair $6_{16}, C_{16}$ is obtained, then the digits are rearranged $C6_{16}$.\n",
    "   \n",
    "- C) ** BA **\n",
    "    - A possible variant of adding and rearranging numbers: $55_{16}$ and $56_{16}$ are digitally summed and the pair $A_{16}, B_{16}$ is obtained, then the digits are rearranged $BA_{16}$.\n",
    "    \n",
    "- D) ** E3 **\n",
    "   - $14_{10} \\ (E_{16})$ cannot be obtained by adding two digits not exceeding $6_{10} \\ (6_{16})$.\n",
    "  \n",
    "- E) **D1**\n",
    "   - $13_{10} \\ (D_{16})$ cannot be obtained by adding two digits not exceeding $6_{10} \\ (6_{16})$."
   ]
  },
  {
   "cell_type": "code",
   "execution_count": 109,
   "metadata": {},
   "outputs": [],
   "source": [
    "answer_dictionary[6] <- 'BC'"
   ]
  },
  {
   "cell_type": "markdown",
   "metadata": {},
   "source": [
    "## 7.\n",
    "При работе с электронной таблицей в ячейку С3 записана формула: `=$B3+C$2`. \n",
    "\n",
    "Какой вид приобретёт формула, после того как ячейку С3 скопируют в ячейку D2?\n",
    "\n",
    "---\n",
    "\n",
    "When working with a spreadsheet, the following formula is written to cell C3: `=$B3+C$2`. \n",
    "\n",
    "What view will the formula get after the cell C3 is copied into the cell D2?"
   ]
  },
  {
   "cell_type": "markdown",
   "metadata": {},
   "source": [
    "<div style=\"width: 800px; height: 300px; overflow:auto;\">\n",
    "    <img src=\"it_images/2017_02_07a.png\" width=\"800\" height=\"300\"/>\n",
    "</div>\n",
    "[Google Sheet](https://drive.google.com/open?id=15cVwTSZcQXGLU83RAiDptIFrWVRgaBsS5YZ39uj8jwc)"
   ]
  },
  {
   "cell_type": "code",
   "execution_count": 111,
   "metadata": {},
   "outputs": [],
   "source": [
    "answer_dictionary[7] <- '=$B2+D$2'"
   ]
  },
  {
   "cell_type": "markdown",
   "metadata": {},
   "source": [
    "## 8."
   ]
  },
  {
   "cell_type": "code",
   "execution_count": null,
   "metadata": {},
   "outputs": [],
   "source": []
  },
  {
   "cell_type": "markdown",
   "metadata": {},
   "source": [
    "## 9."
   ]
  },
  {
   "cell_type": "code",
   "execution_count": null,
   "metadata": {},
   "outputs": [],
   "source": []
  },
  {
   "cell_type": "markdown",
   "metadata": {},
   "source": [
    "## 10."
   ]
  },
  {
   "cell_type": "code",
   "execution_count": null,
   "metadata": {},
   "outputs": [],
   "source": []
  },
  {
   "cell_type": "markdown",
   "metadata": {},
   "source": [
    "## 11."
   ]
  },
  {
   "cell_type": "code",
   "execution_count": null,
   "metadata": {},
   "outputs": [],
   "source": []
  },
  {
   "cell_type": "markdown",
   "metadata": {},
   "source": [
    "## 12."
   ]
  },
  {
   "cell_type": "code",
   "execution_count": null,
   "metadata": {},
   "outputs": [],
   "source": []
  },
  {
   "cell_type": "markdown",
   "metadata": {},
   "source": [
    "## 13."
   ]
  },
  {
   "cell_type": "code",
   "execution_count": null,
   "metadata": {},
   "outputs": [],
   "source": []
  },
  {
   "cell_type": "markdown",
   "metadata": {},
   "source": [
    "## 14."
   ]
  },
  {
   "cell_type": "code",
   "execution_count": null,
   "metadata": {},
   "outputs": [],
   "source": []
  },
  {
   "cell_type": "markdown",
   "metadata": {},
   "source": [
    "## 15."
   ]
  },
  {
   "cell_type": "code",
   "execution_count": null,
   "metadata": {},
   "outputs": [],
   "source": []
  },
  {
   "cell_type": "markdown",
   "metadata": {},
   "source": [
    "## 16."
   ]
  },
  {
   "cell_type": "code",
   "execution_count": null,
   "metadata": {},
   "outputs": [],
   "source": []
  },
  {
   "cell_type": "markdown",
   "metadata": {},
   "source": [
    "## 17."
   ]
  },
  {
   "cell_type": "code",
   "execution_count": null,
   "metadata": {},
   "outputs": [],
   "source": []
  },
  {
   "cell_type": "markdown",
   "metadata": {},
   "source": [
    "## 18."
   ]
  },
  {
   "cell_type": "code",
   "execution_count": null,
   "metadata": {},
   "outputs": [],
   "source": []
  },
  {
   "cell_type": "markdown",
   "metadata": {},
   "source": [
    "## 19."
   ]
  },
  {
   "cell_type": "code",
   "execution_count": null,
   "metadata": {},
   "outputs": [],
   "source": []
  },
  {
   "cell_type": "markdown",
   "metadata": {},
   "source": [
    "## 20."
   ]
  },
  {
   "cell_type": "code",
   "execution_count": null,
   "metadata": {},
   "outputs": [],
   "source": []
  },
  {
   "cell_type": "markdown",
   "metadata": {},
   "source": [
    "## 21."
   ]
  },
  {
   "cell_type": "code",
   "execution_count": null,
   "metadata": {},
   "outputs": [],
   "source": []
  },
  {
   "cell_type": "markdown",
   "metadata": {},
   "source": [
    "## 22."
   ]
  },
  {
   "cell_type": "code",
   "execution_count": null,
   "metadata": {},
   "outputs": [],
   "source": []
  },
  {
   "cell_type": "markdown",
   "metadata": {},
   "source": [
    "## 23."
   ]
  },
  {
   "cell_type": "code",
   "execution_count": null,
   "metadata": {},
   "outputs": [],
   "source": []
  },
  {
   "cell_type": "markdown",
   "metadata": {},
   "source": [
    "## Часть 2 &nbsp; &nbsp; &nbsp; Part 2\n",
    "\n",
    "## 24."
   ]
  },
  {
   "cell_type": "code",
   "execution_count": null,
   "metadata": {},
   "outputs": [],
   "source": []
  },
  {
   "cell_type": "markdown",
   "metadata": {},
   "source": [
    "## 25."
   ]
  },
  {
   "cell_type": "code",
   "execution_count": null,
   "metadata": {},
   "outputs": [],
   "source": []
  },
  {
   "cell_type": "markdown",
   "metadata": {},
   "source": [
    "## 26."
   ]
  },
  {
   "cell_type": "code",
   "execution_count": null,
   "metadata": {},
   "outputs": [],
   "source": []
  },
  {
   "cell_type": "markdown",
   "metadata": {},
   "source": [
    "## 27."
   ]
  },
  {
   "cell_type": "code",
   "execution_count": null,
   "metadata": {},
   "outputs": [],
   "source": []
  },
  {
   "cell_type": "markdown",
   "metadata": {},
   "source": [
    "## Ответы &nbsp; &nbsp; &nbsp; Answers"
   ]
  },
  {
   "cell_type": "code",
   "execution_count": 112,
   "metadata": {},
   "outputs": [
    {
     "data": {
      "text/plain": [
       "<hash> containing 6 key-value pair(s).\n",
       "  1 : 11010110\n",
       "  2 : 34\n",
       "  3 : 2\n",
       "  5 : CDBACED\n",
       "  6 : BC\n",
       "  7 : =$B2+D$2"
      ]
     },
     "metadata": {},
     "output_type": "display_data"
    }
   ],
   "source": [
    "answer_dictionary"
   ]
  },
  {
   "cell_type": "code",
   "execution_count": null,
   "metadata": {},
   "outputs": [],
   "source": []
  }
 ],
 "metadata": {
  "kernelspec": {
   "display_name": "R 3.4",
   "language": "R",
   "name": "ir34"
  },
  "language_info": {
   "codemirror_mode": "r",
   "file_extension": ".r",
   "mimetype": "text/x-r-source",
   "name": "R",
   "pygments_lexer": "r",
   "version": "3.4.1"
  }
 },
 "nbformat": 4,
 "nbformat_minor": 2
}
