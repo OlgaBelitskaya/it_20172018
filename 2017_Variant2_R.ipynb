{
 "cells": [
  {
   "cell_type": "markdown",
   "metadata": {},
   "source": [
    "# ЕГЭ 2017 Вариант 2 &nbsp; &nbsp; &nbsp; EGE 2017 Variant 2\n",
    "[ЕГЭ-2017. Информатика.10 тренировочных вариантов. Ушаков Д.М.](https://drive.google.com/file/d/0B6696ckkWj_zS2ptblAxNERHZzQ/view)\n",
    "\n",
    "[Basic Regular Expressions in R Cheatsheet](https://www.rstudio.com/wp-content/uploads/2016/09/RegExCheatsheet.pdf)\n",
    "\n",
    "[DataFlair: R Tutorials](https://data-flair.training/blogs/category/r/)\n",
    "\n",
    "[Алгоритм Шеннона — Фано](https://ru.wikipedia.org/wiki/%D0%90%D0%BB%D0%B3%D0%BE%D1%80%D0%B8%D1%82%D0%BC_%D0%A8%D0%B5%D0%BD%D0%BD%D0%BE%D0%BD%D0%B0_%E2%80%94_%D0%A4%D0%B0%D0%BD%D0%BE)"
   ]
  },
  {
   "cell_type": "code",
   "execution_count": 3,
   "metadata": {},
   "outputs": [],
   "source": [
    "library(IRdisplay)\n",
    "library(repr)\n",
    "library(hash)\n",
    "library(numbers)\n",
    "library(e1071)\n",
    "library(igraph)\n",
    "library(VennDiagram)"
   ]
  },
  {
   "cell_type": "code",
   "execution_count": 4,
   "metadata": {},
   "outputs": [],
   "source": [
    "# install.packages('')"
   ]
  },
  {
   "cell_type": "code",
   "execution_count": 5,
   "metadata": {},
   "outputs": [],
   "source": [
    "answer_dictionary <- hash()"
   ]
  },
  {
   "cell_type": "code",
   "execution_count": 6,
   "metadata": {},
   "outputs": [
    {
     "data": {
      "text/html": [
       "<style>\n",
       "@import url('https://fonts.googleapis.com/css?family=Roboto');\n",
       "body {background-color: aliceblue;} \n",
       "a {color: #4876ff; font-family: 'Roboto';} \n",
       "h1 {color: #348ABD; font-family: 'Roboto'; text-shadow: 4px 4px 4px #aaa;} \n",
       "h2, h3 {color: gray; font-family: 'Roboto'; text-shadow: 4px 4px 4px #aaa;}\n",
       "h4 {color: #348ABD; font-family: 'Roboto';}\n",
       "span {text-shadow: 4px 4px 4px #aaa;}\n",
       "div.output_prompt, div.output_area pre, div.output_subarea {color: gray;}\n",
       "div.input_prompt {color: #4876ff;}      \n",
       "div.output_stderr pre {background-color: aliceblue;}  \n",
       "div.output_stderr {background-color: gray;}                        \n",
       "</style>"
      ]
     },
     "metadata": {},
     "output_type": "display_data"
    }
   ],
   "source": [
    "display_html(\"<style>\n",
    "@import url('https://fonts.googleapis.com/css?family=Roboto');\n",
    "body {background-color: aliceblue;} \n",
    "a {color: #4876ff; font-family: 'Roboto';} \n",
    "h1 {color: #348ABD; font-family: 'Roboto'; text-shadow: 4px 4px 4px #aaa;} \n",
    "h2, h3 {color: gray; font-family: 'Roboto'; text-shadow: 4px 4px 4px #aaa;}\n",
    "h4 {color: #348ABD; font-family: 'Roboto';}\n",
    "span {text-shadow: 4px 4px 4px #aaa;}\n",
    "div.output_prompt, div.output_area pre, div.output_subarea {color: gray;}\n",
    "div.input_prompt {color: #4876ff;}      \n",
    "div.output_stderr pre {background-color: aliceblue;}  \n",
    "div.output_stderr {background-color: gray;}                        \n",
    "</style>\")   "
   ]
  },
  {
   "cell_type": "markdown",
   "metadata": {},
   "source": [
    "## Часть 1 &nbsp; &nbsp; &nbsp; Part 1\n",
    "\n",
    "## 1.\n",
    "\n",
    "Дано $A = 325_8$, $B = {D7}_{16}$. \n",
    "\n",
    "Укажите число С, записанное в двоичной системе счисления, которое отвечает условию А < С < В. \n",
    "\n",
    "Основание системы счисления указывать не нужно. \n",
    "\n",
    "(Например, если ответ должен быть $1100_2$, в ответе нужно записать $1100$.)\n",
    "\n",
    "--- \n",
    "\n",
    "$ A = 325_8 $, $ B = {D7}_{16} $ are given. \n",
    "\n",
    "Specify the number C, written in the binary system, which corresponds to the condition A < C < B. \n",
    "\n",
    "The base of the number system should not be indicated. \n",
    "\n",
    "(For example, if the answer is $ 1100_2 $, you need to write $ 1100 $ in the answer.)"
   ]
  },
  {
   "cell_type": "code",
   "execution_count": 7,
   "metadata": {},
   "outputs": [],
   "source": [
    "options(scipen = 999)\n",
    "dec2bin <- function(n) {\n",
    "  bv <- rep(0, 1 + floor(log(n, 2)))\n",
    "  while (n >= 2) {\n",
    "    pow <- floor(log(n, 2))\n",
    "    bv[1 + pow] <- 1\n",
    "    n <- n - 2^pow\n",
    "  }\n",
    "  bv[1] <- n %% 2\n",
    "  paste(rev(bv), collapse = \"\")\n",
    "}"
   ]
  },
  {
   "cell_type": "code",
   "execution_count": 8,
   "metadata": {},
   "outputs": [
    {
     "data": {
      "text/html": [
       "213"
      ],
      "text/latex": [
       "213"
      ],
      "text/markdown": [
       "213"
      ],
      "text/plain": [
       "[1] 213"
      ]
     },
     "metadata": {},
     "output_type": "display_data"
    }
   ],
   "source": [
    "# (325 _8)\n",
    "A <- 3 * 8**2 + 2 * 8 ** 1 + 5 * 8 ** 0\n",
    "A"
   ]
  },
  {
   "cell_type": "code",
   "execution_count": 9,
   "metadata": {},
   "outputs": [
    {
     "data": {
      "text/html": [
       "215"
      ],
      "text/latex": [
       "215"
      ],
      "text/markdown": [
       "215"
      ],
      "text/plain": [
       "[1] 215"
      ]
     },
     "metadata": {},
     "output_type": "display_data"
    }
   ],
   "source": [
    "# (D7 _16)\n",
    "B <- 13 * 16**1 + 7 * 16 ** 0\n",
    "B"
   ]
  },
  {
   "cell_type": "code",
   "execution_count": 10,
   "metadata": {},
   "outputs": [
    {
     "data": {
      "text/html": [
       "'11010110'"
      ],
      "text/latex": [
       "'11010110'"
      ],
      "text/markdown": [
       "'11010110'"
      ],
      "text/plain": [
       "[1] \"11010110\""
      ]
     },
     "metadata": {},
     "output_type": "display_data"
    }
   ],
   "source": [
    "dec2bin((A + B) / 2)"
   ]
  },
  {
   "cell_type": "code",
   "execution_count": 11,
   "metadata": {},
   "outputs": [],
   "source": [
    "answer_dictionary[1] <- dec2bin((A + B) / 2)"
   ]
  },
  {
   "cell_type": "markdown",
   "metadata": {},
   "source": [
    "## 2.\n",
    "Дан фрагмент таблицы истинности выражения F, зависящего от трёх аргументов X, Y, Z.\n",
    "\n",
    "Перечислите в порядке возрастания без запятых и пробелов номера логических выражений, которые соответствуют F.\n",
    "\n",
    "---\n",
    "\n",
    "A fragment of the truth table of the expression F, depending on three arguments X, Y, Z, is given.\n",
    "\n",
    "List in ascending order without commas and spaces the numbers of logical expressions that correspond to F.\n",
    "\n",
    "| $X$ | $Y$ | $Z$ | $F$ |\n",
    "|:-:|:-:|:-:|:-:|\n",
    "| 0 | 1 | 1 | 1 |\n",
    "| 1 | 0 | 1 | 0 |\n",
    "| 1 | 1 | 0 | 1 |\n",
    "\n",
    "$1) \\ \\neg X \\lor Y \\land Z \\\\ \n",
    "2) \\ \\neg X \\land Y \\land Z \\\\ \n",
    "3) \\ \\neg X \\lor Y \\land \\neg Z \\\\ \n",
    "4) \\ \\neg X \\land Y \\lor \\neg Z \\\\ \n",
    "5) \\ X \\lor Y \\lor \\neg Z$"
   ]
  },
  {
   "cell_type": "code",
   "execution_count": 12,
   "metadata": {},
   "outputs": [],
   "source": [
    "bc <- matrix(c(0,1,1, 1,0,1, 1,1,0), nrow=3, ncol=3, byrow = TRUE)\n",
    "\n",
    "F <- function(X, Y, Z, I) {\n",
    "    if (I == 1) {return(!X | Y & Z)}\n",
    "    if (I == 2) {return(!X & Y & Z)}\n",
    "    if (I == 3) {return(!X | Y & !Z)}\n",
    "    if (I == 4) {return(!X & Y | !Z)}    \n",
    "    if (I == 5) {return(X | Y | !Z)}    \n",
    "} "
   ]
  },
  {
   "cell_type": "code",
   "execution_count": 13,
   "metadata": {},
   "outputs": [
    {
     "name": "stdout",
     "output_type": "stream",
     "text": [
      "[1] 3\n",
      "[1] 4\n"
     ]
    }
   ],
   "source": [
    "for (i in 1:5){\n",
    "    result = vector(length=3)\n",
    "    for (j in 1:3) {result[j] = F(bc[j,1],bc[j,2],bc[j,3],i)}\n",
    "    if (all(result == c(TRUE,FALSE,TRUE))){print(i)}\n",
    "}"
   ]
  },
  {
   "cell_type": "code",
   "execution_count": 14,
   "metadata": {},
   "outputs": [],
   "source": [
    "answer_dictionary[2] <- '34'"
   ]
  },
  {
   "cell_type": "markdown",
   "metadata": {},
   "source": [
    "## 3.\n",
    "В таблице приведена стоимость перевозок между соседними железнодорожными станциями. \n",
    "\n",
    "Перечислите в порядке возрастания, без пробелов и запятых, номера таблиц, соответствующих схеме.\n",
    "\n",
    "---\n",
    "\n",
    "The table shows the cost of transportation between neighboring railway stations. \n",
    "\n",
    "List in ascending order, without spaces or commas, the numbers of tables that are corresponding to the scheme.\n",
    "\n",
    "\n",
    "| $1) $ | &#x123CF; | A | B | C | D | E | F |||$2)$ | &#x123CF; | A | B | C | D | E | F |\n",
    "|:-:|:-:|:-:|:-:|:-:|:-:|:-:|:-:|:-:|:-:|:-:|:-:|:-:|:-:|:-:|:-:|:-:|:-:|\n",
    "| | **A** | &#x123CF; | 3 |  |  |  | 2 ||| | **A** | &#x123CF; | 3 |  |  |  | 2 |\n",
    "| | **B** | 3 | &#x123CF; | 3 | 5 |  | 4 ||| | **B** | 3 | &#x123CF; | 3 | 5 |  | 4 |\n",
    "| | **C** |  | 3 | &#x123CF; | 3 | 5 |  ||| | **C** |  | 3 | &#x123CF; | 2 | 5 |  |\n",
    "| | **D** |  |  | 3 | &#x123CF; | 2 |  ||| | **D** |  |  | 2 | &#x123CF; | 3 |  |\n",
    "| | **E** |  | 5 | 5 | 2 | &#x123CF; |  ||| | **E** |  | 5 | 5 | 3 | &#x123CF; |  |\n",
    "| | **F** | 2 | 4 |  |  |  | &#x123CF; ||| | **F** | 2 | 4 |  |  |  | &#x123CF; |\n",
    "\n",
    "| $3) $ | &#x123CF; | A | B | C | D | E | F |||$4)$ | &#x123CF; | A | B | C | D | E | F |\n",
    "|:-:|:-:|:-:|:-:|:-:|:-:|:-:|:-:|:-:|:-:|:-:|:-:|:-:|:-:|:-:|:-:|:-:|:-:|\n",
    "| | **A** | &#x123CF; | 3 |  |  |  | 2 ||| | **A** | &#x123CF; | 3 |  |  |  | 2 |\n",
    "| | **B** | 3 | &#x123CF; | 3 | 5 |  | 4 ||| | **B** | 3 | &#x123CF; | 3 | 5 |  | 4 |\n",
    "| | **C** |  | 3 | &#x123CF; | 2 | 5 |  ||| | **C** |  | 3 | &#x123CF; | 2 | 3 |  |\n",
    "| | **D** |  |  | 2 | &#x123CF; |  |  ||| | **D** |  |  | 2 | &#x123CF; | 5 |  |\n",
    "| | **E** |  | 5 | 5 |  | &#x123CF; | 3 ||| | **E** |  | 5 | 3 | 5 | &#x123CF; |  |\n",
    "| | **F** | 2 | 4 |  |  | 3 | &#x123CF; ||| | **F** | 2 | 4 |  |  |  | &#x123CF; |"
   ]
  },
  {
   "cell_type": "code",
   "execution_count": 15,
   "metadata": {},
   "outputs": [
    {
     "data": {
      "image/png": "[encoded data removed]",
      "text/plain": [
       "Plot with title “”"
      ]
     },
     "metadata": {},
     "output_type": "display_data"
    }
   ],
   "source": [
    "options(repr.plot.width=4,repr.plot.height=4)\n",
    "edges <- c('A','B','A','F','B','C','B','E','B','F',\n",
    "           'C','D','C','E','D','E')\n",
    "weights <- c(3,2,3,5,4,2,5,3)\n",
    "g <- graph(edges, directed=FALSE)%>%\n",
    "    set_edge_attr(\"weight\", value=weights)\n",
    "plot(g, layout=layout_in_circle(g),\n",
    "     vertex.color=\"steelblue\",vertex.size=30,vertex.frame.color=\"gray\",\n",
    "     edge.label=E(g)$weight,edge.width=E(g)$weight/2)"
   ]
  },
  {
   "cell_type": "code",
   "execution_count": 16,
   "metadata": {},
   "outputs": [
    {
     "data": {
      "text/html": [
       "<table>\n",
       "<thead><tr><th></th><th scope=col>A</th><th scope=col>B</th><th scope=col>C</th><th scope=col>D</th><th scope=col>E</th><th scope=col>F</th></tr></thead>\n",
       "<tbody>\n",
       "\t<tr><th scope=row>A</th><td>0</td><td>3</td><td>0</td><td>0</td><td>0</td><td>2</td></tr>\n",
       "\t<tr><th scope=row>B</th><td>3</td><td>0</td><td>3</td><td>0</td><td>5</td><td>4</td></tr>\n",
       "\t<tr><th scope=row>C</th><td>0</td><td>3</td><td>0</td><td>2</td><td>5</td><td>0</td></tr>\n",
       "\t<tr><th scope=row>D</th><td>0</td><td>0</td><td>2</td><td>0</td><td>3</td><td>0</td></tr>\n",
       "\t<tr><th scope=row>E</th><td>0</td><td>5</td><td>5</td><td>3</td><td>0</td><td>0</td></tr>\n",
       "\t<tr><th scope=row>F</th><td>2</td><td>4</td><td>0</td><td>0</td><td>0</td><td>0</td></tr>\n",
       "</tbody>\n",
       "</table>\n"
      ],
      "text/latex": [
       "\\begin{tabular}{r|llllll}\n",
       "  & A & B & C & D & E & F\\\\\n",
       "\\hline\n",
       "\tA & 0 & 3 & 0 & 0 & 0 & 2\\\\\n",
       "\tB & 3 & 0 & 3 & 0 & 5 & 4\\\\\n",
       "\tC & 0 & 3 & 0 & 2 & 5 & 0\\\\\n",
       "\tD & 0 & 0 & 2 & 0 & 3 & 0\\\\\n",
       "\tE & 0 & 5 & 5 & 3 & 0 & 0\\\\\n",
       "\tF & 2 & 4 & 0 & 0 & 0 & 0\\\\\n",
       "\\end{tabular}\n"
      ],
      "text/markdown": [
       "\n",
       "| <!--/--> | A | B | C | D | E | F | \n",
       "|---|---|---|---|---|---|\n",
       "| A | 0 | 3 | 0 | 0 | 0 | 2 | \n",
       "| B | 3 | 0 | 3 | 0 | 5 | 4 | \n",
       "| C | 0 | 3 | 0 | 2 | 5 | 0 | \n",
       "| D | 0 | 0 | 2 | 0 | 3 | 0 | \n",
       "| E | 0 | 5 | 5 | 3 | 0 | 0 | \n",
       "| F | 2 | 4 | 0 | 0 | 0 | 0 | \n",
       "\n",
       "\n"
      ],
      "text/plain": [
       "  A B C D E F\n",
       "A 0 3 0 0 0 2\n",
       "B 3 0 3 0 5 4\n",
       "C 0 3 0 2 5 0\n",
       "D 0 0 2 0 3 0\n",
       "E 0 5 5 3 0 0\n",
       "F 2 4 0 0 0 0"
      ]
     },
     "metadata": {},
     "output_type": "display_data"
    }
   ],
   "source": [
    "adjm <- get.adjacency(g, attr=\"weight\",sparse=FALSE)\n",
    "adjm[sort(rownames(adjm)),sort(colnames(adjm))]"
   ]
  },
  {
   "cell_type": "code",
   "execution_count": 17,
   "metadata": {},
   "outputs": [],
   "source": [
    "answer_dictionary[3] <- '2'"
   ]
  },
  {
   "cell_type": "markdown",
   "metadata": {},
   "source": [
    "## 4.\n",
    "В каталоге находятся шесть файлов. / There are six files in the directory.\n",
    "\n",
    "| 1 | 2 | 3 | 4 | 5 | 6 |\n",
    "|:-:|:-:|:-:|:-:|:-:|:-:|\n",
    "| ask.c | kasko.cpp | kraska.doc | nebraska.docx | mask.pic | laska.dpr |\n",
    "\n",
    "Ниже представлено восемь масок. / Bellow, you can see eight masks.\n",
    "\n",
    "|  |  |  |  |\n",
    "|:-:|:-:|:-:|:-:|\n",
    "| `?ask*.???*` | `*ask*.*c*` | `*as??.*c*` | `*ask*.???` |\n",
    "| `*a*a*.*d*` | `*aska*.?*?` | `?????*.???` | `?s*k?.*` |\n",
    "Сколько из них таких, которым соответствует ровно три файла из данного каталога?\n",
    "\n",
    "How many of them are those to which exactly three files from this catalog correspond?"
   ]
  },
  {
   "cell_type": "code",
   "execution_count": 41,
   "metadata": {},
   "outputs": [
    {
     "data": {
      "text/html": [
       "<table>\n",
       "<thead><tr><th scope=col>file_list</th><th scope=col>mask_1</th><th scope=col>mask_2</th><th scope=col>mask_3</th><th scope=col>mask_4</th><th scope=col>mask_5</th><th scope=col>mask_6</th><th scope=col>mask_7</th><th scope=col>mask_8</th></tr></thead>\n",
       "<tbody>\n",
       "\t<tr><td>ask.c        </td><td>FALSE        </td><td> TRUE        </td><td>FALSE        </td><td>FALSE        </td><td>FALSE        </td><td>FALSE        </td><td>FALSE        </td><td>FALSE        </td></tr>\n",
       "\t<tr><td>kasko.cpp    </td><td> TRUE        </td><td> TRUE        </td><td> TRUE        </td><td> TRUE        </td><td>FALSE        </td><td>FALSE        </td><td> TRUE        </td><td>FALSE        </td></tr>\n",
       "\t<tr><td>kraska.doc   </td><td>FALSE        </td><td> TRUE        </td><td> TRUE        </td><td> TRUE        </td><td> TRUE        </td><td> TRUE        </td><td> TRUE        </td><td>FALSE        </td></tr>\n",
       "\t<tr><td>nebraska.docx</td><td>FALSE        </td><td> TRUE        </td><td> TRUE        </td><td>FALSE        </td><td> TRUE        </td><td> TRUE        </td><td>FALSE        </td><td>FALSE        </td></tr>\n",
       "\t<tr><td>mask.pic     </td><td> TRUE        </td><td> TRUE        </td><td>FALSE        </td><td> TRUE        </td><td>FALSE        </td><td>FALSE        </td><td>FALSE        </td><td>FALSE        </td></tr>\n",
       "\t<tr><td>laska.dpr    </td><td> TRUE        </td><td>FALSE        </td><td>FALSE        </td><td> TRUE        </td><td> TRUE        </td><td> TRUE        </td><td> TRUE        </td><td>FALSE        </td></tr>\n",
       "</tbody>\n",
       "</table>\n"
      ],
      "text/latex": [
       "\\begin{tabular}{r|lllllllll}\n",
       " file\\_list & mask\\_1 & mask\\_2 & mask\\_3 & mask\\_4 & mask\\_5 & mask\\_6 & mask\\_7 & mask\\_8\\\\\n",
       "\\hline\n",
       "\t ask.c         & FALSE         &  TRUE         & FALSE         & FALSE         & FALSE         & FALSE         & FALSE         & FALSE        \\\\\n",
       "\t kasko.cpp     &  TRUE         &  TRUE         &  TRUE         &  TRUE         & FALSE         & FALSE         &  TRUE         & FALSE        \\\\\n",
       "\t kraska.doc    & FALSE         &  TRUE         &  TRUE         &  TRUE         &  TRUE         &  TRUE         &  TRUE         & FALSE        \\\\\n",
       "\t nebraska.docx & FALSE         &  TRUE         &  TRUE         & FALSE         &  TRUE         &  TRUE         & FALSE         & FALSE        \\\\\n",
       "\t mask.pic      &  TRUE         &  TRUE         & FALSE         &  TRUE         & FALSE         & FALSE         & FALSE         & FALSE        \\\\\n",
       "\t laska.dpr     &  TRUE         & FALSE         & FALSE         &  TRUE         &  TRUE         &  TRUE         &  TRUE         & FALSE        \\\\\n",
       "\\end{tabular}\n"
      ],
      "text/markdown": [
       "\n",
       "file_list | mask_1 | mask_2 | mask_3 | mask_4 | mask_5 | mask_6 | mask_7 | mask_8 | \n",
       "|---|---|---|---|---|---|\n",
       "| ask.c         | FALSE         |  TRUE         | FALSE         | FALSE         | FALSE         | FALSE         | FALSE         | FALSE         | \n",
       "| kasko.cpp     |  TRUE         |  TRUE         |  TRUE         |  TRUE         | FALSE         | FALSE         |  TRUE         | FALSE         | \n",
       "| kraska.doc    | FALSE         |  TRUE         |  TRUE         |  TRUE         |  TRUE         |  TRUE         |  TRUE         | FALSE         | \n",
       "| nebraska.docx | FALSE         |  TRUE         |  TRUE         | FALSE         |  TRUE         |  TRUE         | FALSE         | FALSE         | \n",
       "| mask.pic      |  TRUE         |  TRUE         | FALSE         |  TRUE         | FALSE         | FALSE         | FALSE         | FALSE         | \n",
       "| laska.dpr     |  TRUE         | FALSE         | FALSE         |  TRUE         |  TRUE         |  TRUE         |  TRUE         | FALSE         | \n",
       "\n",
       "\n"
      ],
      "text/plain": [
       "  file_list     mask_1 mask_2 mask_3 mask_4 mask_5 mask_6 mask_7 mask_8\n",
       "1 ask.c         FALSE   TRUE  FALSE  FALSE  FALSE  FALSE  FALSE  FALSE \n",
       "2 kasko.cpp      TRUE   TRUE   TRUE   TRUE  FALSE  FALSE   TRUE  FALSE \n",
       "3 kraska.doc    FALSE   TRUE   TRUE   TRUE   TRUE   TRUE   TRUE  FALSE \n",
       "4 nebraska.docx FALSE   TRUE   TRUE  FALSE   TRUE   TRUE  FALSE  FALSE \n",
       "5 mask.pic       TRUE   TRUE  FALSE   TRUE  FALSE  FALSE  FALSE  FALSE \n",
       "6 laska.dpr      TRUE  FALSE  FALSE   TRUE   TRUE   TRUE   TRUE  FALSE "
      ]
     },
     "metadata": {},
     "output_type": "display_data"
    }
   ],
   "source": [
    "file_list <- c('ask.c', 'kasko.cpp', 'kraska.doc', \n",
    "               'nebraska.docx', 'mask.pic', 'laska.dpr')\n",
    "mask_list <- c('?ask*.???*', '*ask*.*c*', '*as??.*c*', '*ask*.???',\n",
    "               '*a*a*.*d*', '*aska*.?*?', '?????*.???', '?s*k?.*')\n",
    "\n",
    "df <- data.frame(file_list=file_list,\n",
    "                 mask_1=grepl(\"^.ask.*\\\\.....*$\",file_list), \n",
    "                 mask_2=grepl(\"^.*ask.*\\\\..*c.*$\", file_list), \n",
    "                 mask_3=grepl(\"^.*as..\\\\..*c.*$\", file_list), \n",
    "                 mask_4=grepl(\"^.*ask.*\\\\....$\", file_list),\n",
    "                 mask_5=grepl(\"^.*a.*a.*\\\\..*d.*$\",file_list), \n",
    "                 mask_6=grepl(\"^.*aska.*\\\\...*.$\", file_list), \n",
    "                 mask_7=grepl(\"^......*\\\\....$\", file_list), \n",
    "                 mask_8=grepl(\"^.s.*k.\\\\..*$\", file_list))\n",
    "df "
   ]
  },
  {
   "cell_type": "code",
   "execution_count": 44,
   "metadata": {},
   "outputs": [
    {
     "name": "stdout",
     "output_type": "stream",
     "text": [
      "[1] \"?ask*.???*\"\n",
      "[1] 3\n",
      "[1] \"*ask*.*c*\"\n",
      "[1] 5\n",
      "[1] \"*as??.*c*\"\n",
      "[1] 3\n",
      "[1] \"*ask*.???\"\n",
      "[1] 4\n",
      "[1] \"*a*a*.*d*\"\n",
      "[1] 3\n",
      "[1] \"*aska*.?*?\"\n",
      "[1] 3\n",
      "[1] \"?????*.???\"\n",
      "[1] 3\n",
      "[1] \"?s*k?.*\"\n",
      "[1] 0\n"
     ]
    },
    {
     "data": {
      "text/html": [
       "5"
      ],
      "text/latex": [
       "5"
      ],
      "text/markdown": [
       "5"
      ],
      "text/plain": [
       "[1] 5"
      ]
     },
     "metadata": {},
     "output_type": "display_data"
    }
   ],
   "source": [
    "c <- 0\n",
    "for (i in 2:9) {\n",
    "    print(mask_list[i-1]); \n",
    "    print(length(df[1:6,i][df[1:6,i]==TRUE]))\n",
    "    if (length(df[1:6,i][df[1:6,i]==TRUE]) == 3) {c <- c + 1}\n",
    "}\n",
    "\n",
    "c"
   ]
  },
  {
   "cell_type": "code",
   "execution_count": 45,
   "metadata": {},
   "outputs": [],
   "source": [
    "answer_dictionary[4] <- toString(c)"
   ]
  },
  {
   "cell_type": "markdown",
   "metadata": {},
   "source": [
    "## 5.\n",
    "Для 5 букв латинского алфавита заданы их двоичные коды. Эти коды представлены в таблице. \n",
    "\n",
    "For 5 letters of the Latin alphabet their binary codes are given. These codes are presented in the table.\n",
    "\n",
    "| A | B | C | D | E |\n",
    "|:-:|:-:|:-:|:-:|:-:|\n",
    "| `00` | `100` | `110` | `01` | `101` |\n",
    "\n",
    "Определите, какой набор букв закодирован двоичной последовательностью `110011000011010101`. \n",
    "\n",
    "В ответе запишите последовательность букв без запятых.\n",
    "\n",
    "Determine which set of letters is encoded with the binary sequence `110011000011010101`. \n",
    "\n",
    "In the answer, write down the sequence of letters without commas."
   ]
  },
  {
   "cell_type": "code",
   "execution_count": 47,
   "metadata": {},
   "outputs": [
    {
     "data": {
      "text/html": [
       "'CDBACED'"
      ],
      "text/latex": [
       "'CDBACED'"
      ],
      "text/markdown": [
       "'CDBACED'"
      ],
      "text/plain": [
       "[1] \"CDBACED\""
      ]
     },
     "metadata": {},
     "output_type": "display_data"
    }
   ],
   "source": [
    "string <- '110011000011010101'\n",
    "fragments <- c('00','100','110','01','101')\n",
    "letters <- c('A','B','C','D','E')\n",
    "result <- ''\n",
    "\n",
    "while (string !='') {\n",
    "    for (i in 1:5){\n",
    "        if (substr(string,1,2) == fragments[i]) {\n",
    "            result <- paste(result,letters[i],sep=\"\")\n",
    "            string <- substring(string,first=3,last=nchar(string))\n",
    "        }\n",
    "        if (substr(string,1,3) == fragments[i]) {\n",
    "            result <- paste(result,letters[i],sep=\"\")\n",
    "            string <- substring(string,first=4,last=nchar(string))\n",
    "        }\n",
    "    }\n",
    "}\n",
    "\n",
    "result"
   ]
  },
  {
   "cell_type": "code",
   "execution_count": 48,
   "metadata": {},
   "outputs": [],
   "source": [
    "answer_dictionary[5] <- result"
   ]
  },
  {
   "cell_type": "markdown",
   "metadata": {},
   "source": [
    "## 6.\n",
    "Автомат получает на вход два двузначных шестнадцатеричных числа. \n",
    "\n",
    "В этих числах все цифры не превосходят цифру 6 (если в числе есть цифра больше 6, автомат отказывается работать). \n",
    "\n",
    "По этим числам строится новое шестнадцатеричное число по следующим правилам.\n",
    "\n",
    "1. Вычисляются два шестнадцатеричных числа — сумма старших разрядов полученных чисел и сумма младших разрядов этих чисел.\n",
    "\n",
    "2. Полученные два шестнадцатеричных числа записываются друг за другом в порядке убывания (без разделителей).\n",
    "\n",
    "_Пример._ Исходные числа: 25, 66. Поразрядные суммы: 8, В. Результат: В8. \n",
    "\n",
    "Какие из предложенных чисел могут быть результатом работы автомата?\n",
    "\n",
    "Перечислите в алфавитном порядке буквы, соответствующие этим числам, без пробелов и знаков препинания.\n",
    "\n",
    "**A) 127 B) C6 C) BA D) E3 E) D1 **\n",
    "\n",
    "---\n",
    "\n",
    "The machine receives two two-digit hexadecimal numbers. \n",
    "\n",
    "In these numbers, all figures do not exceed 6 (if the number is greater than 6, the machine refuses to work). \n",
    "\n",
    "For these numbers, a new hexadecimal number is constructed according to the following rules.\n",
    "\n",
    "1. Two hexadecimal numbers are calculated - the sum of the highest digits of the obtained numbers and the sum of the lowest digits of these numbers.\n",
    "\n",
    "2. The received two hexadecimal numbers are written one after the other in descending order (without separators).\n",
    "\n",
    "_Example._ Initial numbers: 25, 66. Bitwise sums: 8, B. Result: B8. \n",
    "\n",
    "Which of the suggested numbers can be the result of the operation of the machine?\n",
    "\n",
    "List in alphabetical order the letters corresponding to these numbers, without spaces and punctuation marks.\n",
    "\n",
    "**A) 127 B) C6 C) BA D) E3 E) D1**"
   ]
  },
  {
   "cell_type": "markdown",
   "metadata": {},
   "source": [
    "Рассмотрим предложенные варианты:\n",
    "\n",
    "- A) **127**\n",
    "   - Цифры складываемых чисел не превышают $6_{10} \\ ( 6_{16})$ => их поразрядные суммы не превышают $6_{10} + 6_{10} = 12_{10} \\ ( 6_{16} + 6_{16} = C_{16} )$ => результат не может быть трехзначным в шестнадцатеричной системе.\n",
    "   \n",
    "- B) **C6** \n",
    "   - Возможный вариант сложения и перестановки цифр: $26_{16}$ и  $46_{16}$ поразрядно суммируются и получается пара $6_{16}, C_{16}$, затем цифры переставляются $C6_{16}$.\n",
    "   \n",
    "- C) **BA**  \n",
    "   - Возможный вариант сложения и перестановки цифр: $55_{16}$ и  $56_{16}$ поразрядно суммируются и получается пара $A_{16}, B_{16}$, затем цифры переставляются $BA_{16}$.\n",
    "   \n",
    "- D) **E3**\n",
    "  - $14_{10} \\ ( E_{16})$ не может быть получена сложением двух цифр, не превышающих $6_{10} \\ ( 6_{16})$.\n",
    "  \n",
    "- E) **D1**\n",
    "  - $13_{10} \\ ( D_{16})$ не может быть получена сложением двух цифр, не превышающих $6_{10} \\ ( 6_{16})$.\n",
    "  \n",
    "---\n",
    "\n",
    "Let's consider the offered variants:\n",
    "\n",
    "- A) ** 127 **\n",
    "    - The digits do not exceed $6_{10} \\ (6_{16})$ => their bitwise sums do not exceed $6_{10} + 6_{10} = 12_{10} \\ (6_{16} + 6_{ 16} = C_{16})$ => the result cannot be a three-digit number in the hexadecimal system.\n",
    "    \n",
    "- B) ** C6 **\n",
    "    - A possible variant of adding and rearranging the numbers: $26_{16}$ and $46_{16}$ are digitally summed and the pair $6_{16}, C_{16}$ is obtained, then the digits are rearranged $C6_{16}$.\n",
    "   \n",
    "- C) ** BA **\n",
    "    - A possible variant of adding and rearranging numbers: $55_{16}$ and $56_{16}$ are digitally summed and the pair $A_{16}, B_{16}$ is obtained, then the digits are rearranged $BA_{16}$.\n",
    "    \n",
    "- D) ** E3 **\n",
    "   - $14_{10} \\ (E_{16})$ cannot be obtained by adding two digits not exceeding $6_{10} \\ (6_{16})$.\n",
    "  \n",
    "- E) **D1**\n",
    "   - $13_{10} \\ (D_{16})$ cannot be obtained by adding two digits not exceeding $6_{10} \\ (6_{16})$."
   ]
  },
  {
   "cell_type": "code",
   "execution_count": 49,
   "metadata": {},
   "outputs": [],
   "source": [
    "answer_dictionary[6] <- 'BC'"
   ]
  },
  {
   "cell_type": "markdown",
   "metadata": {},
   "source": [
    "## 7.\n",
    "При работе с электронной таблицей в ячейку С3 записана формула: `=$B3+C$2`. \n",
    "\n",
    "Какой вид приобретёт формула, после того как ячейку С3 скопируют в ячейку D2?\n",
    "\n",
    "---\n",
    "\n",
    "When working with a spreadsheet, the following formula is written to cell C3: `=$B3+C$2`. \n",
    "\n",
    "What view will the formula get after the cell C3 is copied into the cell D2?"
   ]
  },
  {
   "cell_type": "markdown",
   "metadata": {},
   "source": [
    "<div style=\"width: 800px; height: 300px; overflow:auto;\">\n",
    "    <img src=\"it_images/2017_02_07a.png\" width=\"800\" height=\"300\"/>\n",
    "</div>\n",
    "[Google Sheet](https://drive.google.com/open?id=15cVwTSZcQXGLU83RAiDptIFrWVRgaBsS5YZ39uj8jwc)"
   ]
  },
  {
   "cell_type": "code",
   "execution_count": 50,
   "metadata": {},
   "outputs": [],
   "source": [
    "answer_dictionary[7] <- '=$B2+D$2'"
   ]
  },
  {
   "cell_type": "markdown",
   "metadata": {},
   "source": [
    "## 8.\n",
    "Определите, что будет напечатано в результате выполнения следующего фрагмента программы.\n",
    "\n",
    "<table style=\"width:95%;\">\n",
    "  <tr style=\"color:slategray;font-size:120%;font-family:'Roboto';\">\n",
    "    <th style=\"text-align:center;\">Python</th> \n",
    "    <th style=\"text-align:center;\">R</th>          \n",
    "  </tr>\n",
    "  <tr>\n",
    "    <td style=\"font-weight:bold;text-align:left;\"><pre><code class='python'>\n",
    "k, s = 2, 8\n",
    "\n",
    "while s < 500:\n",
    "    s += 20\n",
    "    k += 5\n",
    "    \n",
    "print(k)\n",
    "    </code></pre></td> \n",
    "    <td style=\"font-weight:bold;text-align:left;\"><pre><code class='r'> \n",
    "\n",
    "k <- 2\n",
    "s <- 8\n",
    "\n",
    "while (s < 500) {\n",
    "    s <- s + 20 \n",
    "    k <- k + 5 \n",
    "}\n",
    "\n",
    "print(k)\n",
    "    </code></pre></td>     \n",
    "  </tr>    \n",
    "</table>\n",
    "\n",
    "Determine what will be printed as a result of the next program fragment."
   ]
  },
  {
   "cell_type": "code",
   "execution_count": 51,
   "metadata": {},
   "outputs": [
    {
     "name": "stdout",
     "output_type": "stream",
     "text": [
      "[1] 127\n"
     ]
    }
   ],
   "source": [
    "k <- 2\n",
    "s <- 8\n",
    "\n",
    "while (s < 500) {\n",
    "    s <- s + 20 \n",
    "    k <- k + 5 \n",
    "}\n",
    "\n",
    "print(k)"
   ]
  },
  {
   "cell_type": "code",
   "execution_count": 52,
   "metadata": {},
   "outputs": [],
   "source": [
    "answer_dictionary[8] <- toString(k)"
   ]
  },
  {
   "cell_type": "markdown",
   "metadata": {},
   "source": [
    "## 9.\n",
    "Какой объём на диске (в Мбайт) будет занимать неупакованное $16$-цветное изображение, \n",
    "\n",
    "содержащее изображение размером $2048*1024$ пикселей? \n",
    "\n",
    "В ответе запишите только целое число, единицу измерения писать не нужно.\n",
    "\n",
    "---\n",
    "\n",
    "What volume on the disk (in Mbytes) will be occupied by the unpacked $16$-color image \n",
    "\n",
    "with the size of $2048 * 1024$ pixels? \n",
    "\n",
    "In the answer, write down only an integer, you do not need to write a unit of measurement."
   ]
  },
  {
   "cell_type": "markdown",
   "metadata": {},
   "source": [
    "1) $\\log_{2}{16} = 4$ (бита) - необходимо для кодирования одного пикселя 16-цветного изображения.\n",
    "\n",
    "2) $2048 * 1024 * 4 = 2^{11} * 2^{10} * 2^2 = 2^{23}$ (бита) - необходимо для кодирования изображения размером 2048 * 1024 пикселей.\n",
    "\n",
    "3) $2^{23} \\ / \\ 2^{3} = 2^{20}$ (байта) - необходимо для кодирования изображения размером 2048 * 1024 пикселей.\n",
    "\n",
    "4) $2^{20} \\ / \\ 2^{20} = 1$ (Mбайт) - необходимо для кодирования изображения размером 2048 * 1024 пикселей.\n",
    "\n",
    "---\n",
    "\n",
    "1) $\\log_{2} {16} = 4$ (bit) - necessary to encode one pixel of the 16-color image.\n",
    "\n",
    "2) $2048 * 1024 * 4 = 2^{11} * 2^{10} * 2^2 = 2^{23}$ (bit) - needed to encode an image with the size of 2048 * 1024 pixels.\n",
    "\n",
    "3) $2^{23} \\ / \\ 2^{3} = 2^{20}$ (byte) - needed to encode an image with the size of 2048 * 1024 pixels.\n",
    "\n",
    "4) $2^{20} \\ / \\ 2^{20} = 1$ (Mbytes) - needed to encode an image with the size of 2048 * 1024 pixels."
   ]
  },
  {
   "cell_type": "code",
   "execution_count": 53,
   "metadata": {},
   "outputs": [
    {
     "data": {
      "text/html": [
       "4"
      ],
      "text/latex": [
       "4"
      ],
      "text/markdown": [
       "4"
      ],
      "text/plain": [
       "[1] 4"
      ]
     },
     "metadata": {},
     "output_type": "display_data"
    },
    {
     "data": {
      "text/html": [
       "8388608"
      ],
      "text/latex": [
       "8388608"
      ],
      "text/markdown": [
       "8388608"
      ],
      "text/plain": [
       "[1] 8388608"
      ]
     },
     "metadata": {},
     "output_type": "display_data"
    },
    {
     "data": {
      "text/html": [
       "1048576"
      ],
      "text/latex": [
       "1048576"
      ],
      "text/markdown": [
       "1048576"
      ],
      "text/plain": [
       "[1] 1048576"
      ]
     },
     "metadata": {},
     "output_type": "display_data"
    },
    {
     "data": {
      "text/html": [
       "1"
      ],
      "text/latex": [
       "1"
      ],
      "text/markdown": [
       "1"
      ],
      "text/plain": [
       "[1] 1"
      ]
     },
     "metadata": {},
     "output_type": "display_data"
    }
   ],
   "source": [
    "bits_for_one_pixel_16_colors <- log2(16)\n",
    "\n",
    "bits_for_image_2048_1024 <- 2048 * 1024 * bits_for_one_pixel_16_colors\n",
    "\n",
    "bytes_for_image_2048_1024 <- bits_for_image_2048_1024 / 2**3\n",
    "\n",
    "Mbytes_for_image_2048_1024 <- bytes_for_image_2048_1024 / 2**20\n",
    "\n",
    "bits_for_one_pixel_16_colors; bits_for_image_2048_1024\n",
    "\n",
    "bytes_for_image_2048_1024; Mbytes_for_image_2048_1024"
   ]
  },
  {
   "cell_type": "code",
   "execution_count": 54,
   "metadata": {},
   "outputs": [],
   "source": [
    "answer_dictionary[9] <- toString(Mbytes_for_image_2048_1024)"
   ]
  },
  {
   "cell_type": "markdown",
   "metadata": {},
   "source": [
    "## 10.\n",
    "Петя и Вася передают друг другу сообщения, используя трёхцветный фонарик. \n",
    "\n",
    "На фонарике имеется три кнопки, соответствующие цвету, \n",
    "\n",
    "которым будет светить фонарик (<i style=\"color:red;\">красный</i>, <i style=\"color:green;\">зелёный</i> и <i style=\"color:blue;\">синий</i>). \n",
    "    \n",
    "Две кнопки одновременно нажать нельзя. \n",
    "\n",
    "Для передачи сообщения мальчики последовательно нажимают одну из этих кнопок пять раз. \n",
    "\n",
    "Сколько различных сообщений могут передать мальчики?\n",
    "\n",
    "---\n",
    "\n",
    "Petya and Vasya transmit messages to each other using a tri-color flashlight. \n",
    "\n",
    "On the flashlight there are three buttons corresponding to the color \n",
    "\n",
    "that the flashlight will shine (<i style=\"color:red;\">red</i>, <i style=\"color:green;\">green</i> and <i style=\"color:blue;\">blue</i>). \n",
    "\n",
    "Two buttons cannot be pressed simultaneously. \n",
    "\n",
    "To transmit the message, the boys consistently press one of these buttons five times. \n",
    "\n",
    "How many different messages can the boys transmit?"
   ]
  },
  {
   "cell_type": "markdown",
   "metadata": {},
   "source": [
    "Каждый из 5 последовательных сигналов может принимать \n",
    "\n",
    "3 различных значения (<i style=\"color:red;\">красный</i>, <i style=\"color:green;\">зелёный</i> и <i style=\"color:blue;\">синий</i>), независимо от других сигналов.\n",
    "\n",
    "Значит, количество вариантов сообщений будет равно $3 * 3 * 3 * 3 * 3 = 3^{5} = 243$\n",
    "\n",
    "---\n",
    "\n",
    "Each of 5 consecutive signals can take \n",
    "\n",
    "3 different values (<i style=\"color:red;\">red</i>, <i style=\"color:green;\">green</i> and <i style=\"color:blue;\">blue</i>), regardless of other signals.\n",
    "\n",
    "Hence, the number of message variants will be equal to $3 * 3 * 3 * 3 * 3 = 3^{5} = 243$"
   ]
  },
  {
   "cell_type": "code",
   "execution_count": 55,
   "metadata": {},
   "outputs": [],
   "source": [
    "answer_dictionary[10] <- toString(3 ** 5)"
   ]
  },
  {
   "cell_type": "markdown",
   "metadata": {},
   "source": [
    "## 11.\n",
    "Алгоритм вычисления значения функции `F(n)`, где `n` — натуральное число, задан следующими соотношениями:\n",
    "\n",
    "- `F(n) = F(n - 1) + F(n - 2), при n > 2`\n",
    "\n",
    "- `F(1) = F(2) = 1`\n",
    "\n",
    "Чему равно значение функции `F(8)`?\n",
    "\n",
    "(В ответе запишите только натуральное число.)\n",
    "\n",
    "---\n",
    "\n",
    "The algorithm for calculating the value of the function `F(n)`, where `n` is a natural number, is given by the following relations:\n",
    "\n",
    "- `F(n) = F(n - 1) + F(n - 2), for n > 2`\n",
    "\n",
    "- `F(1) = F(2) = 1`\n",
    "\n",
    "What is the value of the function `F(8)`?\n",
    "\n",
    "(In the answer write down only a positive integer number.)"
   ]
  },
  {
   "cell_type": "code",
   "execution_count": 56,
   "metadata": {},
   "outputs": [
    {
     "data": {
      "text/html": [
       "21"
      ],
      "text/latex": [
       "21"
      ],
      "text/markdown": [
       "21"
      ],
      "text/plain": [
       "[1] 21"
      ]
     },
     "metadata": {},
     "output_type": "display_data"
    }
   ],
   "source": [
    "F <- function(n) {\n",
    "    if (n == 1 | n == 2) {return (1)}\n",
    "    if (n > 2) {return (F(n - 1) + F(n - 2))}\n",
    "}\n",
    "\n",
    "F(8)"
   ]
  },
  {
   "cell_type": "code",
   "execution_count": 57,
   "metadata": {},
   "outputs": [],
   "source": [
    "answer_dictionary[11] <- toString(F(8))"
   ]
  },
  {
   "cell_type": "markdown",
   "metadata": {},
   "source": [
    "## 12.\n",
    "Доступ к файлу `www.com`, находящемуся на сервере `http.txt`, осуществляется по протоколу `ftp`. \n",
    "\n",
    "В таблице фрагменты адреса файла закодированы буквами от А до G. \n",
    "\n",
    "Запишите последовательность этих букв, кодирующую адрес указанного файла.\n",
    "\n",
    "| A | B | C | D | E | F | G |\n",
    "|:-:|:-:|:-:|:-:|:-:|:-:|:-:|:-:|\n",
    "| `://` | `www` | `.txt` | `http` | `ftp` | `.com` | `/` |\n",
    "\n",
    "Access to the file `www.com`, located on the server `http.txt`, is performed using the `ftp` protocol. \n",
    "\n",
    "In the table, fragments of the file address are encoded with letters from A to G. \n",
    "\n",
    "Write down the sequence of these letters coding the address of the specified file."
   ]
  },
  {
   "cell_type": "code",
   "execution_count": 60,
   "metadata": {},
   "outputs": [
    {
     "data": {
      "text/html": [
       "'EADCGBF'"
      ],
      "text/latex": [
       "'EADCGBF'"
      ],
      "text/markdown": [
       "'EADCGBF'"
      ],
      "text/plain": [
       "[1] \"EADCGBF\""
      ]
     },
     "metadata": {},
     "output_type": "display_data"
    }
   ],
   "source": [
    "address = 'ftp://http.txt/www.com'\n",
    "\n",
    "fragments <- c('://','www','.txt','http','ftp','.com','/')\n",
    "letters <- c('A','B','C','D','E','F','G')\n",
    "\n",
    "for (i in 1:7){\n",
    "    address <- gsub(fragments[i],letters[i],address)\n",
    "}\n",
    "\n",
    "address"
   ]
  },
  {
   "cell_type": "code",
   "execution_count": 61,
   "metadata": {},
   "outputs": [],
   "source": [
    "answer_dictionary[12] <- address"
   ]
  },
  {
   "cell_type": "markdown",
   "metadata": {},
   "source": [
    "## 13.\n",
    "В велокроссе участвует 60 спортсменов. \n",
    "\n",
    "Автоматическое устройство кодирует номер каждого спортсмена минимально возможным и одинаково целым количеством бит. \n",
    "\n",
    "Финишировали 30 спортсменов. \n",
    "\n",
    "Определите информационный объём (в битах), отводимой памятью устройства для записи результатов всех финишировавших спортсменов.\n",
    "\n",
    "---\n",
    "\n",
    "In the bicycle marathon, 60 athletes participate. \n",
    "\n",
    "The automatic device encodes the number of each athlete with the minimum possible and equally integer number of bits.\n",
    "\n",
    "30 athletes have reached the finish. \n",
    "\n",
    "Determine the information capacity (in bits) allocated by the device's memory to record the results of all athletes who have completed the marathon."
   ]
  },
  {
   "cell_type": "markdown",
   "metadata": {},
   "source": [
    "1) $5 < \\log_{2}{60} < 6 \\implies $  6 (бит) - необходимо для кодирования номера одного из 60 спортсменов.\n",
    "\n",
    "Количество возможных вариантов кодировки ($2^6$) не должно быть меньше количества имеющейся информации ($60$ номеров), \n",
    "\n",
    "округление в данном случае - всегда в большую сторону.\n",
    "\n",
    "2) $6 * 30 = 180$ (бит) - необходимо для кодирования номеров 30 спортсменов.\n",
    "\n",
    "---\n",
    "\n",
    "1) $5 < \\log_{2}{60} < 6 \\implies $ 6 (bit) - necessary to encode the number of one of 60 athletes.\n",
    "\n",
    "The number of possible encoding options ($2^6$) should not be less than the amount of information available ($60$ numbers), \n",
    "\n",
    "rounding, in this case, is always on the larger side.\n",
    "\n",
    "2) $6 * 30 = 180$ (bit) - necessary for encoding the numbers of 30 athletes."
   ]
  },
  {
   "cell_type": "code",
   "execution_count": 68,
   "metadata": {},
   "outputs": [
    {
     "data": {
      "text/html": [
       "5.90689059560852"
      ],
      "text/latex": [
       "5.90689059560852"
      ],
      "text/markdown": [
       "5.90689059560852"
      ],
      "text/plain": [
       "[1] 5.906891"
      ]
     },
     "metadata": {},
     "output_type": "display_data"
    },
    {
     "data": {
      "text/html": [
       "6"
      ],
      "text/latex": [
       "6"
      ],
      "text/markdown": [
       "6"
      ],
      "text/plain": [
       "[1] 6"
      ]
     },
     "metadata": {},
     "output_type": "display_data"
    },
    {
     "data": {
      "text/html": [
       "180"
      ],
      "text/latex": [
       "180"
      ],
      "text/markdown": [
       "180"
      ],
      "text/plain": [
       "[1] 180"
      ]
     },
     "metadata": {},
     "output_type": "display_data"
    }
   ],
   "source": [
    "log2(60); ceiling(log2(60)); ceiling(log2(60)) * 30"
   ]
  },
  {
   "cell_type": "code",
   "execution_count": 65,
   "metadata": {},
   "outputs": [],
   "source": [
    "answer_dictionary[13] <- toString(ceiling(log2(60)) * 30)"
   ]
  },
  {
   "cell_type": "markdown",
   "metadata": {},
   "source": [
    "## 14.\n",
    "Система команд исполнителя РОБОТ, «живущего» в прямоугольном лабиринте на клетчатой плоскости:\n",
    "\n",
    "The command system of the performer ROBOT, \"living\" in a rectangular labyrinth on the grid plane:\n",
    "\n",
    "<body>\n",
    "<table border=4>\n",
    "    <tr>\n",
    "        <td colspan=4 style=\"text-align:center; color:red; font-size:120%;\">вверх</td>\n",
    "        <td colspan=4 style=\"text-align:center; color:green; font-size:120%;\">вниз</td>\n",
    "        <td colspan=4 style=\"text-align:center; color:red; font-size:120%;\">влево</td>\n",
    "        <td colspan=4 style=\"text-align:center; color:green; font-size:120%;\">вправо</td>\n",
    "    </tr>\n",
    "    <tr>\n",
    "        <td colspan=4 style=\"text-align:center; color:red; font-size:120%;\">up</td>\n",
    "        <td colspan=4 style=\"text-align:center; color:green; font-size:120%;\">down</td>\n",
    "        <td colspan=4 style=\"text-align:center; color:red; font-size:120%;\">left</td>\n",
    "        <td colspan=4 style=\"text-align:center; color:green; font-size:120%;\">right</td>\n",
    "    </tr>\n",
    "</table >    \n",
    "<p>При выполнении этих команд РОБОТ перемещается на одну клетку соответственно:</p>\n",
    "<p>When these commands are executed, the ROBOT moves one cell accordingly:</p>\n",
    "<table border=4>\n",
    "    <tr>\n",
    "        <td colspan=4 style=\"text-align:center; color:red; font-size:120%;\">вверх ↑</td>\n",
    "        <td colspan=4 style=\"text-align:center; color:green; font-size:120%;\">вниз ↓</td>\n",
    "        <td colspan=4 style=\"text-align:center; color:red; font-size:120%;\">влево ←</td>\n",
    "        <td colspan=4 style=\"text-align:center; color:green; font-size:120%;\">вправо →</td>\n",
    "    </tr>\n",
    "    <tr>\n",
    "        <td colspan=4 style=\"text-align:center; color:red; font-size:120%;\">up ↑</td>\n",
    "        <td colspan=4 style=\"text-align:center; color:green; font-size:120%;\">down ↓</td>\n",
    "        <td colspan=4 style=\"text-align:center; color:red; font-size:120%;\">left ←</td>\n",
    "        <td colspan=4 style=\"text-align:center; color:green; font-size:120%;\">right →</td>\n",
    "    </tr>    \n",
    "</table >    \n",
    "<p>Четыре команды проверяют истинность условия отсутствия стены у той клетки, где находится РОБОТ:</p>\n",
    "<p>Four commands verify the truth of the condition of the absence of the wall near the cell where the ROBOT is located:</p>\n",
    "<table border=4>\n",
    "    <tr>\n",
    "        <td colspan=4 style=\"text-align:center; color:red; font-size:120%;\">сверху свободно</td>\n",
    "        <td colspan=4 style=\"text-align:center; color:green; font-size:120%;\">снизу свободно</td>\n",
    "        <td colspan=4 style=\"text-align:center; color:red; font-size:120%;\">слева свободно</td>\n",
    "        <td colspan=4 style=\"text-align:center; color:green; font-size:120%;\">справа свободно</td>\n",
    "    </tr>\n",
    "    <tr>\n",
    "        <td colspan=4 style=\"text-align:center; color:red; font-size:120%;\">up free</td>\n",
    "        <td colspan=4 style=\"text-align:center; color:green; font-size:120%;\">down free</td>\n",
    "        <td colspan=4 style=\"text-align:center; color:red; font-size:120%;\">left free</td>\n",
    "        <td colspan=4 style=\"text-align:center; color:green; font-size:120%;\">right free</td>\n",
    "    </tr>    \n",
    "</table ></body>\n",
    "\n",
    "Цикл выполняется, пока условие истинно, иначе происходит переход на следующую строку.\n",
    "\n",
    "The loop is executed as long as the condition is true, otherwise it will jump to the next line.\n",
    "\n",
    "---\n",
    "\n",
    "Сколько клеток приведённого лабиринта соответствует требованию, что, выполнив предложенную ниже программу, РОБОТ остановится в той же клетке, с которой он начал движение?\n",
    "\n",
    "How many cells of the given labyrinth correspond to the requirement that, after completing the program below, ROBOT will stop in the same cell with which it started moving?"
   ]
  },
  {
   "cell_type": "markdown",
   "metadata": {},
   "source": [
    "- НАЧАЛО\n",
    "\n",
    "  - ПОКА `< сверху свободно >` вправо\n",
    "\n",
    "  - ПОКА `< справа свободно >` вниз\n",
    "\n",
    "  - ПОКА `< снизу свободно >` влево\n",
    "\n",
    "  - ПОКА `< слева свободно >` вверх\n",
    "\n",
    "- КОНЕЦ\n",
    "\n",
    "---\n",
    "\n",
    "- START\n",
    "\n",
    "  - WHILE `< up free >` right\n",
    "\n",
    "  - WHILE `< right free >` down\n",
    "\n",
    "  - WHILE `< down free >` left\n",
    "\n",
    "  - WHILE `< left free >` up \n",
    "\n",
    "- END"
   ]
  },
  {
   "cell_type": "code",
   "execution_count": null,
   "metadata": {},
   "outputs": [],
   "source": []
  },
  {
   "cell_type": "code",
   "execution_count": null,
   "metadata": {},
   "outputs": [],
   "source": []
  },
  {
   "cell_type": "markdown",
   "metadata": {},
   "source": [
    "## 15.\n",
    "На рисунке — схема дорог, связывающих города А, Б, В, Г, Д, Е, Ж, И, К. \n",
    "\n",
    "По каждой дороге можно двигаться только в одном направлении, указанном стрелкой. \n",
    "\n",
    "Сколько существует различных путей из города А в город К?\n",
    "\n",
    "---\n",
    "\n",
    "In the figure, there is a scheme of roads connecting the cities А, Б, В, Г, Д, Е, Ж, И, К. \n",
    "\n",
    "For each road, it is possible to move only in one direction, indicated by the arrow. \n",
    "\n",
    "How many different paths exist from the city А to the city К?"
   ]
  },
  {
   "cell_type": "code",
   "execution_count": 69,
   "metadata": {},
   "outputs": [
    {
     "data": {
      "image/png": "[encoded data removed]",
      "text/plain": [
       "Plot with title “”"
      ]
     },
     "metadata": {},
     "output_type": "display_data"
    }
   ],
   "source": [
    "options(warn = -1,repr.plot.width=5,repr.plot.height=5)\n",
    "edges <- c('А','Б','А','В','А','Г','Б','В','Б','Д',\n",
    "           'В','Д','В','Е','В','Ж','Г','В','Г','Е',\n",
    "           'Д','И','Д','Ж','Е','Ж','Е','К',\n",
    "           'Ж','И','Ж','К','И','К')\n",
    "g2 <- graph(edges)\n",
    "plot(g2,\n",
    "     vertex.color=\"steelblue\",vertex.size=15,\n",
    "     vertex.frame.color=\"gray\",vertex.shape='square')"
   ]
  },
  {
   "cell_type": "code",
   "execution_count": 70,
   "metadata": {},
   "outputs": [
    {
     "data": {
      "text/html": [
       "<ol>\n",
       "\t<li><ol class=list-inline>\n",
       "\t<li>'А'</li>\n",
       "\t<li>'Б'</li>\n",
       "\t<li>'В'</li>\n",
       "\t<li>'Д'</li>\n",
       "\t<li>'Ж'</li>\n",
       "\t<li>'И'</li>\n",
       "\t<li>'К'</li>\n",
       "</ol>\n",
       "</li>\n",
       "\t<li><ol class=list-inline>\n",
       "\t<li>'А'</li>\n",
       "\t<li>'Б'</li>\n",
       "\t<li>'В'</li>\n",
       "\t<li>'Д'</li>\n",
       "\t<li>'Ж'</li>\n",
       "\t<li>'К'</li>\n",
       "</ol>\n",
       "</li>\n",
       "\t<li><ol class=list-inline>\n",
       "\t<li>'А'</li>\n",
       "\t<li>'Б'</li>\n",
       "\t<li>'В'</li>\n",
       "\t<li>'Д'</li>\n",
       "\t<li>'И'</li>\n",
       "\t<li>'К'</li>\n",
       "</ol>\n",
       "</li>\n",
       "\t<li><ol class=list-inline>\n",
       "\t<li>'А'</li>\n",
       "\t<li>'Б'</li>\n",
       "\t<li>'В'</li>\n",
       "\t<li>'Е'</li>\n",
       "\t<li>'Ж'</li>\n",
       "\t<li>'И'</li>\n",
       "\t<li>'К'</li>\n",
       "</ol>\n",
       "</li>\n",
       "\t<li><ol class=list-inline>\n",
       "\t<li>'А'</li>\n",
       "\t<li>'Б'</li>\n",
       "\t<li>'В'</li>\n",
       "\t<li>'Е'</li>\n",
       "\t<li>'Ж'</li>\n",
       "\t<li>'К'</li>\n",
       "</ol>\n",
       "</li>\n",
       "\t<li><ol class=list-inline>\n",
       "\t<li>'А'</li>\n",
       "\t<li>'Б'</li>\n",
       "\t<li>'В'</li>\n",
       "\t<li>'Е'</li>\n",
       "\t<li>'К'</li>\n",
       "</ol>\n",
       "</li>\n",
       "\t<li><ol class=list-inline>\n",
       "\t<li>'А'</li>\n",
       "\t<li>'Б'</li>\n",
       "\t<li>'В'</li>\n",
       "\t<li>'Ж'</li>\n",
       "\t<li>'И'</li>\n",
       "\t<li>'К'</li>\n",
       "</ol>\n",
       "</li>\n",
       "\t<li><ol class=list-inline>\n",
       "\t<li>'А'</li>\n",
       "\t<li>'Б'</li>\n",
       "\t<li>'В'</li>\n",
       "\t<li>'Ж'</li>\n",
       "\t<li>'К'</li>\n",
       "</ol>\n",
       "</li>\n",
       "\t<li><ol class=list-inline>\n",
       "\t<li>'А'</li>\n",
       "\t<li>'Б'</li>\n",
       "\t<li>'Д'</li>\n",
       "\t<li>'Ж'</li>\n",
       "\t<li>'И'</li>\n",
       "\t<li>'К'</li>\n",
       "</ol>\n",
       "</li>\n",
       "\t<li><ol class=list-inline>\n",
       "\t<li>'А'</li>\n",
       "\t<li>'Б'</li>\n",
       "\t<li>'Д'</li>\n",
       "\t<li>'Ж'</li>\n",
       "\t<li>'К'</li>\n",
       "</ol>\n",
       "</li>\n",
       "\t<li><ol class=list-inline>\n",
       "\t<li>'А'</li>\n",
       "\t<li>'Б'</li>\n",
       "\t<li>'Д'</li>\n",
       "\t<li>'И'</li>\n",
       "\t<li>'К'</li>\n",
       "</ol>\n",
       "</li>\n",
       "\t<li><ol class=list-inline>\n",
       "\t<li>'А'</li>\n",
       "\t<li>'В'</li>\n",
       "\t<li>'Д'</li>\n",
       "\t<li>'Ж'</li>\n",
       "\t<li>'И'</li>\n",
       "\t<li>'К'</li>\n",
       "</ol>\n",
       "</li>\n",
       "\t<li><ol class=list-inline>\n",
       "\t<li>'А'</li>\n",
       "\t<li>'В'</li>\n",
       "\t<li>'Д'</li>\n",
       "\t<li>'Ж'</li>\n",
       "\t<li>'К'</li>\n",
       "</ol>\n",
       "</li>\n",
       "\t<li><ol class=list-inline>\n",
       "\t<li>'А'</li>\n",
       "\t<li>'В'</li>\n",
       "\t<li>'Д'</li>\n",
       "\t<li>'И'</li>\n",
       "\t<li>'К'</li>\n",
       "</ol>\n",
       "</li>\n",
       "\t<li><ol class=list-inline>\n",
       "\t<li>'А'</li>\n",
       "\t<li>'В'</li>\n",
       "\t<li>'Е'</li>\n",
       "\t<li>'Ж'</li>\n",
       "\t<li>'И'</li>\n",
       "\t<li>'К'</li>\n",
       "</ol>\n",
       "</li>\n",
       "\t<li><ol class=list-inline>\n",
       "\t<li>'А'</li>\n",
       "\t<li>'В'</li>\n",
       "\t<li>'Е'</li>\n",
       "\t<li>'Ж'</li>\n",
       "\t<li>'К'</li>\n",
       "</ol>\n",
       "</li>\n",
       "\t<li><ol class=list-inline>\n",
       "\t<li>'А'</li>\n",
       "\t<li>'В'</li>\n",
       "\t<li>'Е'</li>\n",
       "\t<li>'К'</li>\n",
       "</ol>\n",
       "</li>\n",
       "\t<li><ol class=list-inline>\n",
       "\t<li>'А'</li>\n",
       "\t<li>'В'</li>\n",
       "\t<li>'Ж'</li>\n",
       "\t<li>'И'</li>\n",
       "\t<li>'К'</li>\n",
       "</ol>\n",
       "</li>\n",
       "\t<li><ol class=list-inline>\n",
       "\t<li>'А'</li>\n",
       "\t<li>'В'</li>\n",
       "\t<li>'Ж'</li>\n",
       "\t<li>'К'</li>\n",
       "</ol>\n",
       "</li>\n",
       "\t<li><ol class=list-inline>\n",
       "\t<li>'А'</li>\n",
       "\t<li>'Г'</li>\n",
       "\t<li>'В'</li>\n",
       "\t<li>'Д'</li>\n",
       "\t<li>'Ж'</li>\n",
       "\t<li>'И'</li>\n",
       "\t<li>'К'</li>\n",
       "</ol>\n",
       "</li>\n",
       "\t<li><ol class=list-inline>\n",
       "\t<li>'А'</li>\n",
       "\t<li>'Г'</li>\n",
       "\t<li>'В'</li>\n",
       "\t<li>'Д'</li>\n",
       "\t<li>'Ж'</li>\n",
       "\t<li>'К'</li>\n",
       "</ol>\n",
       "</li>\n",
       "\t<li><ol class=list-inline>\n",
       "\t<li>'А'</li>\n",
       "\t<li>'Г'</li>\n",
       "\t<li>'В'</li>\n",
       "\t<li>'Д'</li>\n",
       "\t<li>'И'</li>\n",
       "\t<li>'К'</li>\n",
       "</ol>\n",
       "</li>\n",
       "\t<li><ol class=list-inline>\n",
       "\t<li>'А'</li>\n",
       "\t<li>'Г'</li>\n",
       "\t<li>'В'</li>\n",
       "\t<li>'Е'</li>\n",
       "\t<li>'Ж'</li>\n",
       "\t<li>'И'</li>\n",
       "\t<li>'К'</li>\n",
       "</ol>\n",
       "</li>\n",
       "\t<li><ol class=list-inline>\n",
       "\t<li>'А'</li>\n",
       "\t<li>'Г'</li>\n",
       "\t<li>'В'</li>\n",
       "\t<li>'Е'</li>\n",
       "\t<li>'Ж'</li>\n",
       "\t<li>'К'</li>\n",
       "</ol>\n",
       "</li>\n",
       "\t<li><ol class=list-inline>\n",
       "\t<li>'А'</li>\n",
       "\t<li>'Г'</li>\n",
       "\t<li>'В'</li>\n",
       "\t<li>'Е'</li>\n",
       "\t<li>'К'</li>\n",
       "</ol>\n",
       "</li>\n",
       "\t<li><ol class=list-inline>\n",
       "\t<li>'А'</li>\n",
       "\t<li>'Г'</li>\n",
       "\t<li>'В'</li>\n",
       "\t<li>'Ж'</li>\n",
       "\t<li>'И'</li>\n",
       "\t<li>'К'</li>\n",
       "</ol>\n",
       "</li>\n",
       "\t<li><ol class=list-inline>\n",
       "\t<li>'А'</li>\n",
       "\t<li>'Г'</li>\n",
       "\t<li>'В'</li>\n",
       "\t<li>'Ж'</li>\n",
       "\t<li>'К'</li>\n",
       "</ol>\n",
       "</li>\n",
       "\t<li><ol class=list-inline>\n",
       "\t<li>'А'</li>\n",
       "\t<li>'Г'</li>\n",
       "\t<li>'Е'</li>\n",
       "\t<li>'Ж'</li>\n",
       "\t<li>'И'</li>\n",
       "\t<li>'К'</li>\n",
       "</ol>\n",
       "</li>\n",
       "\t<li><ol class=list-inline>\n",
       "\t<li>'А'</li>\n",
       "\t<li>'Г'</li>\n",
       "\t<li>'Е'</li>\n",
       "\t<li>'Ж'</li>\n",
       "\t<li>'К'</li>\n",
       "</ol>\n",
       "</li>\n",
       "\t<li><ol class=list-inline>\n",
       "\t<li>'А'</li>\n",
       "\t<li>'Г'</li>\n",
       "\t<li>'Е'</li>\n",
       "\t<li>'К'</li>\n",
       "</ol>\n",
       "</li>\n",
       "</ol>\n"
      ],
      "text/latex": [
       "\\begin{enumerate}\n",
       "\\item \\begin{enumerate*}\n",
       "\\item 'А'\n",
       "\\item 'Б'\n",
       "\\item 'В'\n",
       "\\item 'Д'\n",
       "\\item 'Ж'\n",
       "\\item 'И'\n",
       "\\item 'К'\n",
       "\\end{enumerate*}\n",
       "\n",
       "\\item \\begin{enumerate*}\n",
       "\\item 'А'\n",
       "\\item 'Б'\n",
       "\\item 'В'\n",
       "\\item 'Д'\n",
       "\\item 'Ж'\n",
       "\\item 'К'\n",
       "\\end{enumerate*}\n",
       "\n",
       "\\item \\begin{enumerate*}\n",
       "\\item 'А'\n",
       "\\item 'Б'\n",
       "\\item 'В'\n",
       "\\item 'Д'\n",
       "\\item 'И'\n",
       "\\item 'К'\n",
       "\\end{enumerate*}\n",
       "\n",
       "\\item \\begin{enumerate*}\n",
       "\\item 'А'\n",
       "\\item 'Б'\n",
       "\\item 'В'\n",
       "\\item 'Е'\n",
       "\\item 'Ж'\n",
       "\\item 'И'\n",
       "\\item 'К'\n",
       "\\end{enumerate*}\n",
       "\n",
       "\\item \\begin{enumerate*}\n",
       "\\item 'А'\n",
       "\\item 'Б'\n",
       "\\item 'В'\n",
       "\\item 'Е'\n",
       "\\item 'Ж'\n",
       "\\item 'К'\n",
       "\\end{enumerate*}\n",
       "\n",
       "\\item \\begin{enumerate*}\n",
       "\\item 'А'\n",
       "\\item 'Б'\n",
       "\\item 'В'\n",
       "\\item 'Е'\n",
       "\\item 'К'\n",
       "\\end{enumerate*}\n",
       "\n",
       "\\item \\begin{enumerate*}\n",
       "\\item 'А'\n",
       "\\item 'Б'\n",
       "\\item 'В'\n",
       "\\item 'Ж'\n",
       "\\item 'И'\n",
       "\\item 'К'\n",
       "\\end{enumerate*}\n",
       "\n",
       "\\item \\begin{enumerate*}\n",
       "\\item 'А'\n",
       "\\item 'Б'\n",
       "\\item 'В'\n",
       "\\item 'Ж'\n",
       "\\item 'К'\n",
       "\\end{enumerate*}\n",
       "\n",
       "\\item \\begin{enumerate*}\n",
       "\\item 'А'\n",
       "\\item 'Б'\n",
       "\\item 'Д'\n",
       "\\item 'Ж'\n",
       "\\item 'И'\n",
       "\\item 'К'\n",
       "\\end{enumerate*}\n",
       "\n",
       "\\item \\begin{enumerate*}\n",
       "\\item 'А'\n",
       "\\item 'Б'\n",
       "\\item 'Д'\n",
       "\\item 'Ж'\n",
       "\\item 'К'\n",
       "\\end{enumerate*}\n",
       "\n",
       "\\item \\begin{enumerate*}\n",
       "\\item 'А'\n",
       "\\item 'Б'\n",
       "\\item 'Д'\n",
       "\\item 'И'\n",
       "\\item 'К'\n",
       "\\end{enumerate*}\n",
       "\n",
       "\\item \\begin{enumerate*}\n",
       "\\item 'А'\n",
       "\\item 'В'\n",
       "\\item 'Д'\n",
       "\\item 'Ж'\n",
       "\\item 'И'\n",
       "\\item 'К'\n",
       "\\end{enumerate*}\n",
       "\n",
       "\\item \\begin{enumerate*}\n",
       "\\item 'А'\n",
       "\\item 'В'\n",
       "\\item 'Д'\n",
       "\\item 'Ж'\n",
       "\\item 'К'\n",
       "\\end{enumerate*}\n",
       "\n",
       "\\item \\begin{enumerate*}\n",
       "\\item 'А'\n",
       "\\item 'В'\n",
       "\\item 'Д'\n",
       "\\item 'И'\n",
       "\\item 'К'\n",
       "\\end{enumerate*}\n",
       "\n",
       "\\item \\begin{enumerate*}\n",
       "\\item 'А'\n",
       "\\item 'В'\n",
       "\\item 'Е'\n",
       "\\item 'Ж'\n",
       "\\item 'И'\n",
       "\\item 'К'\n",
       "\\end{enumerate*}\n",
       "\n",
       "\\item \\begin{enumerate*}\n",
       "\\item 'А'\n",
       "\\item 'В'\n",
       "\\item 'Е'\n",
       "\\item 'Ж'\n",
       "\\item 'К'\n",
       "\\end{enumerate*}\n",
       "\n",
       "\\item \\begin{enumerate*}\n",
       "\\item 'А'\n",
       "\\item 'В'\n",
       "\\item 'Е'\n",
       "\\item 'К'\n",
       "\\end{enumerate*}\n",
       "\n",
       "\\item \\begin{enumerate*}\n",
       "\\item 'А'\n",
       "\\item 'В'\n",
       "\\item 'Ж'\n",
       "\\item 'И'\n",
       "\\item 'К'\n",
       "\\end{enumerate*}\n",
       "\n",
       "\\item \\begin{enumerate*}\n",
       "\\item 'А'\n",
       "\\item 'В'\n",
       "\\item 'Ж'\n",
       "\\item 'К'\n",
       "\\end{enumerate*}\n",
       "\n",
       "\\item \\begin{enumerate*}\n",
       "\\item 'А'\n",
       "\\item 'Г'\n",
       "\\item 'В'\n",
       "\\item 'Д'\n",
       "\\item 'Ж'\n",
       "\\item 'И'\n",
       "\\item 'К'\n",
       "\\end{enumerate*}\n",
       "\n",
       "\\item \\begin{enumerate*}\n",
       "\\item 'А'\n",
       "\\item 'Г'\n",
       "\\item 'В'\n",
       "\\item 'Д'\n",
       "\\item 'Ж'\n",
       "\\item 'К'\n",
       "\\end{enumerate*}\n",
       "\n",
       "\\item \\begin{enumerate*}\n",
       "\\item 'А'\n",
       "\\item 'Г'\n",
       "\\item 'В'\n",
       "\\item 'Д'\n",
       "\\item 'И'\n",
       "\\item 'К'\n",
       "\\end{enumerate*}\n",
       "\n",
       "\\item \\begin{enumerate*}\n",
       "\\item 'А'\n",
       "\\item 'Г'\n",
       "\\item 'В'\n",
       "\\item 'Е'\n",
       "\\item 'Ж'\n",
       "\\item 'И'\n",
       "\\item 'К'\n",
       "\\end{enumerate*}\n",
       "\n",
       "\\item \\begin{enumerate*}\n",
       "\\item 'А'\n",
       "\\item 'Г'\n",
       "\\item 'В'\n",
       "\\item 'Е'\n",
       "\\item 'Ж'\n",
       "\\item 'К'\n",
       "\\end{enumerate*}\n",
       "\n",
       "\\item \\begin{enumerate*}\n",
       "\\item 'А'\n",
       "\\item 'Г'\n",
       "\\item 'В'\n",
       "\\item 'Е'\n",
       "\\item 'К'\n",
       "\\end{enumerate*}\n",
       "\n",
       "\\item \\begin{enumerate*}\n",
       "\\item 'А'\n",
       "\\item 'Г'\n",
       "\\item 'В'\n",
       "\\item 'Ж'\n",
       "\\item 'И'\n",
       "\\item 'К'\n",
       "\\end{enumerate*}\n",
       "\n",
       "\\item \\begin{enumerate*}\n",
       "\\item 'А'\n",
       "\\item 'Г'\n",
       "\\item 'В'\n",
       "\\item 'Ж'\n",
       "\\item 'К'\n",
       "\\end{enumerate*}\n",
       "\n",
       "\\item \\begin{enumerate*}\n",
       "\\item 'А'\n",
       "\\item 'Г'\n",
       "\\item 'Е'\n",
       "\\item 'Ж'\n",
       "\\item 'И'\n",
       "\\item 'К'\n",
       "\\end{enumerate*}\n",
       "\n",
       "\\item \\begin{enumerate*}\n",
       "\\item 'А'\n",
       "\\item 'Г'\n",
       "\\item 'Е'\n",
       "\\item 'Ж'\n",
       "\\item 'К'\n",
       "\\end{enumerate*}\n",
       "\n",
       "\\item \\begin{enumerate*}\n",
       "\\item 'А'\n",
       "\\item 'Г'\n",
       "\\item 'Е'\n",
       "\\item 'К'\n",
       "\\end{enumerate*}\n",
       "\n",
       "\\end{enumerate}\n"
      ],
      "text/markdown": [
       "1. 1. 'А'\n",
       "2. 'Б'\n",
       "3. 'В'\n",
       "4. 'Д'\n",
       "5. 'Ж'\n",
       "6. 'И'\n",
       "7. 'К'\n",
       "\n",
       "\n",
       "\n",
       "2. 1. 'А'\n",
       "2. 'Б'\n",
       "3. 'В'\n",
       "4. 'Д'\n",
       "5. 'Ж'\n",
       "6. 'К'\n",
       "\n",
       "\n",
       "\n",
       "3. 1. 'А'\n",
       "2. 'Б'\n",
       "3. 'В'\n",
       "4. 'Д'\n",
       "5. 'И'\n",
       "6. 'К'\n",
       "\n",
       "\n",
       "\n",
       "4. 1. 'А'\n",
       "2. 'Б'\n",
       "3. 'В'\n",
       "4. 'Е'\n",
       "5. 'Ж'\n",
       "6. 'И'\n",
       "7. 'К'\n",
       "\n",
       "\n",
       "\n",
       "5. 1. 'А'\n",
       "2. 'Б'\n",
       "3. 'В'\n",
       "4. 'Е'\n",
       "5. 'Ж'\n",
       "6. 'К'\n",
       "\n",
       "\n",
       "\n",
       "6. 1. 'А'\n",
       "2. 'Б'\n",
       "3. 'В'\n",
       "4. 'Е'\n",
       "5. 'К'\n",
       "\n",
       "\n",
       "\n",
       "7. 1. 'А'\n",
       "2. 'Б'\n",
       "3. 'В'\n",
       "4. 'Ж'\n",
       "5. 'И'\n",
       "6. 'К'\n",
       "\n",
       "\n",
       "\n",
       "8. 1. 'А'\n",
       "2. 'Б'\n",
       "3. 'В'\n",
       "4. 'Ж'\n",
       "5. 'К'\n",
       "\n",
       "\n",
       "\n",
       "9. 1. 'А'\n",
       "2. 'Б'\n",
       "3. 'Д'\n",
       "4. 'Ж'\n",
       "5. 'И'\n",
       "6. 'К'\n",
       "\n",
       "\n",
       "\n",
       "10. 1. 'А'\n",
       "2. 'Б'\n",
       "3. 'Д'\n",
       "4. 'Ж'\n",
       "5. 'К'\n",
       "\n",
       "\n",
       "\n",
       "11. 1. 'А'\n",
       "2. 'Б'\n",
       "3. 'Д'\n",
       "4. 'И'\n",
       "5. 'К'\n",
       "\n",
       "\n",
       "\n",
       "12. 1. 'А'\n",
       "2. 'В'\n",
       "3. 'Д'\n",
       "4. 'Ж'\n",
       "5. 'И'\n",
       "6. 'К'\n",
       "\n",
       "\n",
       "\n",
       "13. 1. 'А'\n",
       "2. 'В'\n",
       "3. 'Д'\n",
       "4. 'Ж'\n",
       "5. 'К'\n",
       "\n",
       "\n",
       "\n",
       "14. 1. 'А'\n",
       "2. 'В'\n",
       "3. 'Д'\n",
       "4. 'И'\n",
       "5. 'К'\n",
       "\n",
       "\n",
       "\n",
       "15. 1. 'А'\n",
       "2. 'В'\n",
       "3. 'Е'\n",
       "4. 'Ж'\n",
       "5. 'И'\n",
       "6. 'К'\n",
       "\n",
       "\n",
       "\n",
       "16. 1. 'А'\n",
       "2. 'В'\n",
       "3. 'Е'\n",
       "4. 'Ж'\n",
       "5. 'К'\n",
       "\n",
       "\n",
       "\n",
       "17. 1. 'А'\n",
       "2. 'В'\n",
       "3. 'Е'\n",
       "4. 'К'\n",
       "\n",
       "\n",
       "\n",
       "18. 1. 'А'\n",
       "2. 'В'\n",
       "3. 'Ж'\n",
       "4. 'И'\n",
       "5. 'К'\n",
       "\n",
       "\n",
       "\n",
       "19. 1. 'А'\n",
       "2. 'В'\n",
       "3. 'Ж'\n",
       "4. 'К'\n",
       "\n",
       "\n",
       "\n",
       "20. 1. 'А'\n",
       "2. 'Г'\n",
       "3. 'В'\n",
       "4. 'Д'\n",
       "5. 'Ж'\n",
       "6. 'И'\n",
       "7. 'К'\n",
       "\n",
       "\n",
       "\n",
       "21. 1. 'А'\n",
       "2. 'Г'\n",
       "3. 'В'\n",
       "4. 'Д'\n",
       "5. 'Ж'\n",
       "6. 'К'\n",
       "\n",
       "\n",
       "\n",
       "22. 1. 'А'\n",
       "2. 'Г'\n",
       "3. 'В'\n",
       "4. 'Д'\n",
       "5. 'И'\n",
       "6. 'К'\n",
       "\n",
       "\n",
       "\n",
       "23. 1. 'А'\n",
       "2. 'Г'\n",
       "3. 'В'\n",
       "4. 'Е'\n",
       "5. 'Ж'\n",
       "6. 'И'\n",
       "7. 'К'\n",
       "\n",
       "\n",
       "\n",
       "24. 1. 'А'\n",
       "2. 'Г'\n",
       "3. 'В'\n",
       "4. 'Е'\n",
       "5. 'Ж'\n",
       "6. 'К'\n",
       "\n",
       "\n",
       "\n",
       "25. 1. 'А'\n",
       "2. 'Г'\n",
       "3. 'В'\n",
       "4. 'Е'\n",
       "5. 'К'\n",
       "\n",
       "\n",
       "\n",
       "26. 1. 'А'\n",
       "2. 'Г'\n",
       "3. 'В'\n",
       "4. 'Ж'\n",
       "5. 'И'\n",
       "6. 'К'\n",
       "\n",
       "\n",
       "\n",
       "27. 1. 'А'\n",
       "2. 'Г'\n",
       "3. 'В'\n",
       "4. 'Ж'\n",
       "5. 'К'\n",
       "\n",
       "\n",
       "\n",
       "28. 1. 'А'\n",
       "2. 'Г'\n",
       "3. 'Е'\n",
       "4. 'Ж'\n",
       "5. 'И'\n",
       "6. 'К'\n",
       "\n",
       "\n",
       "\n",
       "29. 1. 'А'\n",
       "2. 'Г'\n",
       "3. 'Е'\n",
       "4. 'Ж'\n",
       "5. 'К'\n",
       "\n",
       "\n",
       "\n",
       "30. 1. 'А'\n",
       "2. 'Г'\n",
       "3. 'Е'\n",
       "4. 'К'\n",
       "\n",
       "\n",
       "\n",
       "\n",
       "\n"
      ],
      "text/plain": [
       "[[1]]\n",
       "[1] \"А\" \"Б\" \"В\" \"Д\" \"Ж\" \"И\" \"К\"\n",
       "\n",
       "[[2]]\n",
       "[1] \"А\" \"Б\" \"В\" \"Д\" \"Ж\" \"К\"\n",
       "\n",
       "[[3]]\n",
       "[1] \"А\" \"Б\" \"В\" \"Д\" \"И\" \"К\"\n",
       "\n",
       "[[4]]\n",
       "[1] \"А\" \"Б\" \"В\" \"Е\" \"Ж\" \"И\" \"К\"\n",
       "\n",
       "[[5]]\n",
       "[1] \"А\" \"Б\" \"В\" \"Е\" \"Ж\" \"К\"\n",
       "\n",
       "[[6]]\n",
       "[1] \"А\" \"Б\" \"В\" \"Е\" \"К\"\n",
       "\n",
       "[[7]]\n",
       "[1] \"А\" \"Б\" \"В\" \"Ж\" \"И\" \"К\"\n",
       "\n",
       "[[8]]\n",
       "[1] \"А\" \"Б\" \"В\" \"Ж\" \"К\"\n",
       "\n",
       "[[9]]\n",
       "[1] \"А\" \"Б\" \"Д\" \"Ж\" \"И\" \"К\"\n",
       "\n",
       "[[10]]\n",
       "[1] \"А\" \"Б\" \"Д\" \"Ж\" \"К\"\n",
       "\n",
       "[[11]]\n",
       "[1] \"А\" \"Б\" \"Д\" \"И\" \"К\"\n",
       "\n",
       "[[12]]\n",
       "[1] \"А\" \"В\" \"Д\" \"Ж\" \"И\" \"К\"\n",
       "\n",
       "[[13]]\n",
       "[1] \"А\" \"В\" \"Д\" \"Ж\" \"К\"\n",
       "\n",
       "[[14]]\n",
       "[1] \"А\" \"В\" \"Д\" \"И\" \"К\"\n",
       "\n",
       "[[15]]\n",
       "[1] \"А\" \"В\" \"Е\" \"Ж\" \"И\" \"К\"\n",
       "\n",
       "[[16]]\n",
       "[1] \"А\" \"В\" \"Е\" \"Ж\" \"К\"\n",
       "\n",
       "[[17]]\n",
       "[1] \"А\" \"В\" \"Е\" \"К\"\n",
       "\n",
       "[[18]]\n",
       "[1] \"А\" \"В\" \"Ж\" \"И\" \"К\"\n",
       "\n",
       "[[19]]\n",
       "[1] \"А\" \"В\" \"Ж\" \"К\"\n",
       "\n",
       "[[20]]\n",
       "[1] \"А\" \"Г\" \"В\" \"Д\" \"Ж\" \"И\" \"К\"\n",
       "\n",
       "[[21]]\n",
       "[1] \"А\" \"Г\" \"В\" \"Д\" \"Ж\" \"К\"\n",
       "\n",
       "[[22]]\n",
       "[1] \"А\" \"Г\" \"В\" \"Д\" \"И\" \"К\"\n",
       "\n",
       "[[23]]\n",
       "[1] \"А\" \"Г\" \"В\" \"Е\" \"Ж\" \"И\" \"К\"\n",
       "\n",
       "[[24]]\n",
       "[1] \"А\" \"Г\" \"В\" \"Е\" \"Ж\" \"К\"\n",
       "\n",
       "[[25]]\n",
       "[1] \"А\" \"Г\" \"В\" \"Е\" \"К\"\n",
       "\n",
       "[[26]]\n",
       "[1] \"А\" \"Г\" \"В\" \"Ж\" \"И\" \"К\"\n",
       "\n",
       "[[27]]\n",
       "[1] \"А\" \"Г\" \"В\" \"Ж\" \"К\"\n",
       "\n",
       "[[28]]\n",
       "[1] \"А\" \"Г\" \"Е\" \"Ж\" \"И\" \"К\"\n",
       "\n",
       "[[29]]\n",
       "[1] \"А\" \"Г\" \"Е\" \"Ж\" \"К\"\n",
       "\n",
       "[[30]]\n",
       "[1] \"А\" \"Г\" \"Е\" \"К\"\n"
      ]
     },
     "metadata": {},
     "output_type": "display_data"
    }
   ],
   "source": [
    "paths <- all_simple_paths(g2,'А','К')\n",
    "paths <- lapply(1:length(paths), function(x) as_ids(paths[[x]]))\n",
    "paths"
   ]
  },
  {
   "cell_type": "code",
   "execution_count": 71,
   "metadata": {},
   "outputs": [],
   "source": [
    "answer_dictionary[15] <- toString(length(paths))"
   ]
  },
  {
   "cell_type": "markdown",
   "metadata": {},
   "source": [
    "## 16.\n",
    "Укажите через запятую в порядке возрастания все основания систем счисления, \n",
    "\n",
    "в которых запись числа 32 оканчивается на 4.\n",
    "\n",
    "Indicate with separating by commas in ascending order all the bases of number systems, \n",
    "\n",
    "in which the record of the number 32 ends with 4.\n",
    "\n",
    "---\n",
    "\n",
    "По условию, основания системы счисления должны быть:\n",
    " - больше 4,\n",
    " - множителями числа 32 - 4 = 28. \n",
    "\n",
    "According to the task conditions, the bases of the number systems should be:\n",
    "  - more than 4,\n",
    "  - multipliers of the number 32 - 4 = 28. "
   ]
  },
  {
   "cell_type": "code",
   "execution_count": 87,
   "metadata": {},
   "outputs": [
    {
     "data": {
      "text/html": [
       "'7,14,28'"
      ],
      "text/latex": [
       "'7,14,28'"
      ],
      "text/markdown": [
       "'7,14,28'"
      ],
      "text/plain": [
       "[1] \"7,14,28\""
      ]
     },
     "metadata": {},
     "output_type": "display_data"
    }
   ],
   "source": [
    "result <- ''\n",
    "for (i in seq(from=10, to=1, by=-1)){\n",
    "    n <- (32 - 4) / i\n",
    "    if (as.integer(n) == n & n > 4){\n",
    "        result <- paste(result,toString(n),sep=\",\")\n",
    "    }\n",
    "}\n",
    "\n",
    "result <- substr(result,2,nchar(result))\n",
    "result"
   ]
  },
  {
   "cell_type": "code",
   "execution_count": 88,
   "metadata": {},
   "outputs": [],
   "source": [
    "answer_dictionary[16] <- toString(result)"
   ]
  },
  {
   "cell_type": "markdown",
   "metadata": {},
   "source": [
    "## 17.\n",
    "В языке запросов к поисковому серверу для обозначения \n",
    "- логической операции $«ИЛИ»$ используется символ $\\large{\\mid}$, \n",
    "- а для логической операции $«И»$ — $\\&$. \n",
    "\n",
    "В таблице приведено количество страниц, которое находит поисковая система по каждому запросу.\n",
    "\n",
    "|$\\textbf {Запрос}$|$\\textbf {Количество найденных страниц}$|\n",
    "|-:|-:|\n",
    "|$\\textbf {Яблоки}$|$\\textbf {7300}$|\n",
    "|$\\textbf {Яблоки} \\mid \\textbf {Сливы}$|$\\textbf {14800}$|\n",
    "|$\\textbf {Яблоки & Сливы}$|$\\textbf {1400}$|\n",
    "\n",
    "Какое количество страниц будет найдено по запросу: $\\textbf {Сливы}$?\n",
    "\n",
    "Считается, что все запросы выполнялись практически одновременно, \n",
    "\n",
    "так что набор страниц, содержащих все искомые слова, не изменялся за время выполнения запросов.\n",
    "\n",
    "---\n",
    "\n",
    "In the query language to the search server, \n",
    "- the symbol $\\large{\\mid}$ is used to indicate the logical operation $OR$, \n",
    "- and for the logical operation $AND$ - $\\&$. \n",
    "\n",
    "The table shows the number of pages that the search engine finds for each query.\n",
    "\n",
    "| $\\textbf {Request}$ | $\\textbf {Number of pages found}$ |\n",
    "|-:|-:|\n",
    "| $\\textbf {Apples}$| $\\textbf {7300}$|\n",
    "| $\\textbf{Apples} \\mid \\textbf{Plums}$ |$\\textbf {14800}$|\n",
    "| $\\textbf {Apples & Plums}$ |$\\textbf {1400}$|\n",
    "\n",
    "How many pages will be found on the query: $\\textbf {Plums}$?\n",
    "\n",
    "It is assumed that all queries were executed almost simultaneously \n",
    "\n",
    "so that the set of pages containing all the searched words did not change during the execution of queries."
   ]
  },
  {
   "cell_type": "code",
   "execution_count": 94,
   "metadata": {},
   "outputs": [
    {
     "data": {
      "image/png": "[encoded data removed]",
      "text/plain": [
       "plot without title"
      ]
     },
     "metadata": {},
     "output_type": "display_data"
    }
   ],
   "source": [
    "# яблоки + сливы = яблоки_или_сливы + яблоки_и_сливы\n",
    "# apples + plums = apples_or_plums + apples_and_plums\n",
    "\n",
    "apples <- 7300; apples_and_plums <- 1400; apples_or_plums <- 14800\n",
    "plums <- apples_or_plums + apples_and_plums - apples\n",
    "\n",
    "options(repr.plot.width=4,repr.plot.height=4)\n",
    "venn.plot <- draw.pairwise.venn(\n",
    "    area1 = apples, area2 = plums, cross.area = apples_and_plums,\n",
    "    category = c(\"Apples\", \"Plums\"),\n",
    "    fill = c(\"steelblue\", \"coral\"),\n",
    "    lty = \"blank\",\n",
    "    cex = 1.5, cat.cex = 2, \n",
    "    cat.dist = c(0.1, 0.1), cat.pos = c(-10, 10),\n",
    "    cat.col = c(\"steelblue\", \"coral\")\n",
    ");\n",
    "grid.draw(venn.plot)\n",
    "grid.newpage();"
   ]
  },
  {
   "cell_type": "code",
   "execution_count": 95,
   "metadata": {},
   "outputs": [],
   "source": [
    "answer_dictionary[17] <- toString(plums)"
   ]
  },
  {
   "cell_type": "markdown",
   "metadata": {},
   "source": [
    "## 18.\n",
    "Для какого целого числа X __ложно__ высказывание:\n",
    "\n",
    "For what integer X it is a __false__ statement: \n",
    "\n",
    "$((X > 1) \\to (X > 3)) \\lor (X = 3)$?"
   ]
  },
  {
   "cell_type": "markdown",
   "metadata": {},
   "source": [
    "$(((X > 1) \\to (X > 3)) \\lor (X = 3)) \\equiv FALSE \\iff\n",
    "(((X > 1) \\to (X > 3)) \\equiv FALSE) \\land ((X = 3) \\equiv FALSE) ) \\iff$\n",
    "\n",
    "$\\iff ((X > 1) \\equiv TRUE) \\land ((X > 3) \\equiv FALSE) \\land ((X = 3) \\equiv FALSE) \\iff$\n",
    "\n",
    "$\\iff ((X > 1) \\equiv TRUE) \\land ((X < 3) \\equiv TRUE) \\iff (X = 2) \\equiv TRUE$"
   ]
  },
  {
   "cell_type": "code",
   "execution_count": 97,
   "metadata": {},
   "outputs": [],
   "source": [
    "answer_dictionary[18] <- '2'"
   ]
  },
  {
   "cell_type": "markdown",
   "metadata": {},
   "source": [
    "## 19.\n",
    "В программе используется целочисленный массив А с индексами от 0 до 9. \n",
    "\n",
    "Значения элементов массива равны $4; 5; 4; 7; 6; 3; 9; 11; 7; 8$ соответственно, т.е. $А [0] = 4; А [1] = 5$ и т.д.\n",
    "\n",
    "Определите значение переменной k после выполнения следующего фрагмента программы, \n",
    "\n",
    "записанной ниже на разных языках программирования.\n",
    "\n",
    "---\n",
    "\n",
    "The program uses an integer array A with indices from 0 to 9. \n",
    "\n",
    "The values of the array elements are $4; 5; 4; 7; 6; 3; 9; 11; 7; 8$ respectively; $A [0] = 4; A [1] = 5$, and so on.\n",
    "\n",
    "Determine the value of the variable $k$ after the execution of the next program fragment, \n",
    "\n",
    "recorded below in different programming languages.\n",
    "\n",
    "<table style=\"width:95%;\">\n",
    "  <tr style=\"color:slategray;font-size:120%;font-family:'Roboto';\">\n",
    "    <th style=\"text-align:center;\">Python</th> \n",
    "    <th style=\"text-align:center;\">R</th>          \n",
    "  </tr>\n",
    "  <tr>\n",
    "    <td style=\"font-weight:bold;text-align:left;\"><pre><code class='python'>\n",
    "A = [4,5,4,7,6,3,9,11,7,8]\n",
    "k = 0\n",
    "\n",
    "for i in range(10): \n",
    "    if A[0] < A[i]:\n",
    "        k += 1\n",
    "        t = A[i]\n",
    "        A[i] = A[0]\n",
    "        A[0] = t   \n",
    "      \n",
    "    </code></pre></td> \n",
    "    <td style=\"font-weight:bold;text-align:left;\"><pre><code class='r'>\n",
    "    \n",
    "A <- c(4,5,4,7,6,3,9,11,7,8)\n",
    "k <- 0\n",
    "\n",
    "for (i in 0:9) {\n",
    "    if (A[1] < A[i+1]){\n",
    "        k <- k + 1\n",
    "        t <- A[i+1]\n",
    "        A[i+1] <- A[1]\n",
    "        A[1] <- t\n",
    "    }\n",
    "}\n",
    "    </code></pre></td>     \n",
    "  </tr>    \n",
    "</table>"
   ]
  },
  {
   "cell_type": "code",
   "execution_count": 99,
   "metadata": {},
   "outputs": [
    {
     "data": {
      "text/html": [
       "4"
      ],
      "text/latex": [
       "4"
      ],
      "text/markdown": [
       "4"
      ],
      "text/plain": [
       "[1] 4"
      ]
     },
     "metadata": {},
     "output_type": "display_data"
    }
   ],
   "source": [
    "A <- c(4,5,4,7,6,3,9,11,7,8)\n",
    "k <- 0\n",
    "\n",
    "for (i in 0:9) {\n",
    "    if (A[1] < A[i+1]){\n",
    "        k <- k + 1\n",
    "        t <- A[i+1]\n",
    "        A[i+1] <- A[1]\n",
    "        A[1] <- t\n",
    "    }\n",
    "}\n",
    "\n",
    "k"
   ]
  },
  {
   "cell_type": "code",
   "execution_count": 100,
   "metadata": {},
   "outputs": [],
   "source": [
    "answer_dictionary[19] <- toString(k)"
   ]
  },
  {
   "cell_type": "markdown",
   "metadata": {},
   "source": [
    "## 20.\n",
    "Ниже на четырёх языках записан алгоритм. \n",
    "\n",
    "Получив на вход число х, этот алгоритм печатает число М. \n",
    "\n",
    "Укажите число х, при вводе которого алгоритм печатает 126.\n",
    "\n",
    "---\n",
    "\n",
    "Below, in four languages, an algorithm is written. \n",
    "\n",
    "After receiving the number x on the input, this algorithm prints the number M. \n",
    "\n",
    "Specify the number of x, at input of which the algorithm prints 126.\n",
    "\n",
    "<table style=\"width:95%;\">\n",
    "  <tr style=\"color:slategray;font-size:120%;font-family:'Roboto';\">\n",
    "    <th style=\"text-align:center;\">Python</th> \n",
    "    <th style=\"text-align:center;\">R</th>          \n",
    "  </tr>\n",
    "  <tr>\n",
    "    <td style=\"font-weight:bold;text-align:left;\"><pre><code class='python'>\n",
    "x = int(input())\n",
    "L, M, y = 0, 0, 7\n",
    "\n",
    "if x % 2 == 0: \n",
    "    y = 9\n",
    "    \n",
    "while L < x:\n",
    "    M += y\n",
    "    L += 1\n",
    "\n",
    "print(M)     \n",
    "    </code></pre></td> \n",
    "    <td style=\"font-weight:bold;text-align:left;\"><pre><code class='r'>\n",
    "    \n",
    "x <- as.integer(readline())\n",
    "L <- 0; M <- 0; y <- 7\n",
    "\n",
    "if (x %% 2 == 0){\n",
    "    y <- 9\n",
    "}\n",
    "    \n",
    "while (L < x){\n",
    "    M <- M + y\n",
    "    L <- L + 1\n",
    "}\n",
    "\n",
    "print(M)    \n",
    "    </code></pre></td>     \n",
    "  </tr>    \n",
    "</table>"
   ]
  },
  {
   "cell_type": "code",
   "execution_count": 102,
   "metadata": {},
   "outputs": [
    {
     "name": "stdout",
     "output_type": "stream",
     "text": [
      "14\n",
      "[1] 126\n"
     ]
    }
   ],
   "source": [
    "x <- as.integer(readline())\n",
    "L <- 0; M <- 0; y <- 7\n",
    "\n",
    "if (x %% 2 == 0){\n",
    "    y <- 9\n",
    "}\n",
    "    \n",
    "while (L < x){\n",
    "    M <- M + y\n",
    "    L <- L + 1\n",
    "}\n",
    "\n",
    "print(M)"
   ]
  },
  {
   "cell_type": "code",
   "execution_count": 106,
   "metadata": {},
   "outputs": [
    {
     "name": "stdout",
     "output_type": "stream",
     "text": [
      "[1] \"x = 1; M = 7\"\n",
      "[1] \"x = 2; M = 18\"\n",
      "[1] \"x = 3; M = 21\"\n",
      "[1] \"x = 4; M = 36\"\n",
      "[1] \"x = 5; M = 35\"\n",
      "[1] \"x = 6; M = 54\"\n",
      "[1] \"x = 7; M = 49\"\n",
      "[1] \"x = 8; M = 72\"\n",
      "[1] \"x = 9; M = 63\"\n",
      "[1] \"x = 10; M = 90\"\n",
      "[1] \"x = 11; M = 77\"\n",
      "[1] \"x = 12; M = 108\"\n",
      "[1] \"x = 13; M = 91\"\n",
      "[1] \"x = 14; M = 126\"\n",
      "[1] \"x = 15; M = 105\"\n",
      "[1] \"x = 16; M = 144\"\n",
      "[1] \"x = 17; M = 119\"\n",
      "[1] \"x = 18; M = 162\"\n",
      "[1] \"x = 19; M = 133\"\n",
      "[1] \"x = 20; M = 180\"\n"
     ]
    }
   ],
   "source": [
    "# расширенная версия программы\n",
    "\n",
    "for (x in 1:20){\n",
    "    L <- 0; M <- 0; y <- 7\n",
    "    \n",
    "    if (x %% 2 == 0){\n",
    "        y <- 9\n",
    "    }\n",
    "    \n",
    "    while (L < x){\n",
    "        M <- M + y\n",
    "        L <- L + 1\n",
    "    }\n",
    "    print(sprintf(\"x = %i; M = %i\",x,M))\n",
    "}"
   ]
  },
  {
   "cell_type": "code",
   "execution_count": 107,
   "metadata": {},
   "outputs": [],
   "source": [
    "answer_dictionary[20] <- '14'"
   ]
  },
  {
   "cell_type": "markdown",
   "metadata": {},
   "source": [
    "## 21.\n",
    "Определите, при каком наименьшем значении b в результате выполнения следующего алгоритма будет напечатано число 100 \n",
    "\n",
    "(для Вашего удобства алгоритм представлен на нескольких языках).\n",
    "\n",
    "---\n",
    "\n",
    "Determine at what the smallest value of b as a result of the following algorithm will be printed the number 100 \n",
    "\n",
    "(for your convenience, the algorithm is presented in several languages).\n",
    "\n",
    "<table style=\"width:95%;\">\n",
    "  <tr style=\"color:slategray;font-size:120%;font-family:'Roboto';\">\n",
    "    <th style=\"text-align:center;\">Python</th> \n",
    "    <th style=\"text-align:center;\">R</th>          \n",
    "  </tr>\n",
    "  <tr>\n",
    "    <td style=\"font-weight:bold;text-align:left;\"><pre><code class='python'>\n",
    "def F(x):\n",
    "    if x % 2 == 0: \n",
    "        return 1\n",
    "    else: \n",
    "        return 0\n",
    "    \n",
    "a = 100\n",
    "b = int(input())\n",
    "k = 0\n",
    "\n",
    "for t in range(a, b + 1):\n",
    "    k += F(t)\n",
    "    \n",
    "print(k)\n",
    "    </code></pre></td> \n",
    "    <td style=\"font-weight:bold;text-align:left;\"><pre><code class='r'>\n",
    "    \n",
    "F <- function(x) {\n",
    "    if (x %% 2 == 0){\n",
    "        return(1)\n",
    "    } else {\n",
    "        return(0)\n",
    "    }\n",
    "}\n",
    "    \n",
    "a <- 100\n",
    "b <- as.integer(readline())\n",
    "k <- 0\n",
    "\n",
    "for (t in a:b) {\n",
    "    k <- k + F(t)\n",
    "}\n",
    "    \n",
    "print(k)      \n",
    "    </code></pre></td>     \n",
    "  </tr>    \n",
    "</table>"
   ]
  },
  {
   "cell_type": "code",
   "execution_count": 110,
   "metadata": {},
   "outputs": [
    {
     "name": "stdout",
     "output_type": "stream",
     "text": [
      "298\n",
      "[1] 100\n"
     ]
    }
   ],
   "source": [
    "F <- function(x) {\n",
    "    if (x %% 2 == 0){\n",
    "        return(1)\n",
    "    } else {\n",
    "        return(0)\n",
    "    }\n",
    "}\n",
    "    \n",
    "a <- 100\n",
    "b <- as.integer(readline())\n",
    "k <- 0\n",
    "\n",
    "for (t in a:b) {\n",
    "    k <- k + F(t)\n",
    "}\n",
    "    \n",
    "print(k)"
   ]
  },
  {
   "cell_type": "code",
   "execution_count": 109,
   "metadata": {},
   "outputs": [
    {
     "name": "stdout",
     "output_type": "stream",
     "text": [
      "[1] \"b = 290; k = 96\"\n",
      "[1] \"b = 291; k = 96\"\n",
      "[1] \"b = 292; k = 97\"\n",
      "[1] \"b = 293; k = 97\"\n",
      "[1] \"b = 294; k = 98\"\n",
      "[1] \"b = 295; k = 98\"\n",
      "[1] \"b = 296; k = 99\"\n",
      "[1] \"b = 297; k = 99\"\n",
      "[1] \"b = 298; k = 100\"\n",
      "[1] \"b = 299; k = 100\"\n",
      "[1] \"b = 300; k = 101\"\n",
      "[1] \"b = 301; k = 101\"\n",
      "[1] \"b = 302; k = 102\"\n",
      "[1] \"b = 303; k = 102\"\n",
      "[1] \"b = 304; k = 103\"\n",
      "[1] \"b = 305; k = 103\"\n",
      "[1] \"b = 306; k = 104\"\n",
      "[1] \"b = 307; k = 104\"\n",
      "[1] \"b = 308; k = 105\"\n",
      "[1] \"b = 309; k = 105\"\n",
      "[1] \"b = 310; k = 106\"\n"
     ]
    }
   ],
   "source": [
    "# расширенная версия программы\n",
    "F <- function(x) {\n",
    "    if (x %% 2 == 0){\n",
    "        return(1)\n",
    "    } else {\n",
    "        return(0)\n",
    "    }\n",
    "}\n",
    "\n",
    "for (b in 290:310) {\n",
    "    a <- 100\n",
    "    k <- 0\n",
    "\n",
    "    for (t in a:b) {\n",
    "        k <- k + F(t)\n",
    "    }\n",
    "    print(sprintf(\"b = %i; k = %i\", b, k))    \n",
    "}"
   ]
  },
  {
   "cell_type": "markdown",
   "metadata": {},
   "source": [
    "Программа подсчитывает количество четных чисел $\\geq 100$. Таких чисел будет ровно 100 при $b=298$:\n",
    "\n",
    "$(298 - 100) / 2 + 1$.\n",
    "\n",
    "При $b=299$ количество найденных четных чисел также будет равно 100, но $b=299$ не является наименьшим.\n",
    "\n",
    "---\n",
    "\n",
    "The program calculates the amount of even numbers $\\geq 100$. This amount will be exactly 100 at $b = 298$:\n",
    "\n",
    "$(298 - 100) / 2 + 1$.\n",
    "\n",
    "At $b = 299$, the amount of even numbers is also 100, but $b = 299$ is not the smallest."
   ]
  },
  {
   "cell_type": "code",
   "execution_count": 111,
   "metadata": {},
   "outputs": [],
   "source": [
    "answer_dictionary[21] <- '298'"
   ]
  },
  {
   "cell_type": "markdown",
   "metadata": {},
   "source": [
    "## 22.\n",
    "У исполнителя `Кузнечик` две команды:\n",
    "\n",
    "1. `прибавь 6`,\n",
    "\n",
    "2. `прибавь 3`.\n",
    "\n",
    "Первая из них увеличивает число на экране на 6, вторая — увеличивает его на 3. \n",
    "\n",
    "Программа для `Кузнечика` — это последовательность команд. \n",
    "\n",
    "Сколько различных чисел можно получить из числа 0 с помощью программы, которая содержит не более 8 команд?\n",
    "\n",
    "---\n",
    "\n",
    "The performer `Grasshopper` has two commands:\n",
    "\n",
    "1. `add 6`,\n",
    "\n",
    "2. `add 3`.\n",
    "\n",
    "The first of them increases the number on the screen by 6, the second increases it by 3. \n",
    "\n",
    "The program for `Grasshopper` is a sequence of commands. \n",
    "\n",
    "How many different numbers can be obtained from the number 0 using a program that contains no more than 8 commands?"
   ]
  },
  {
   "cell_type": "code",
   "execution_count": 117,
   "metadata": {},
   "outputs": [
    {
     "data": {
      "image/png": "[encoded data removed]",
      "text/plain": [
       "Plot with title “”"
      ]
     },
     "metadata": {},
     "output_type": "display_data"
    }
   ],
   "source": [
    "options(repr.plot.width=6,repr.plot.height=6)\n",
    "edges1 <- c('0','3', '0','6', '3','6', '3','9', '6','9', '6','12',\n",
    "            '9','12', '9','15', '12','15', '12','18', \n",
    "            '15','18', '15','21', '18','21', '18','24')\n",
    "\n",
    "elabels <- c('+3','+6', '+3','+6', '+3','+6', '+3','+6',\n",
    "             '+3','+6', '+3','+6', '+3','+6')\n",
    "\n",
    "g1 <- graph(edges1)\n",
    "\n",
    "plot(g1,layout=layout_as_tree(g1,circular=TRUE),\n",
    "     edge.label=elabels,vertex.color=\"steelblue\",\n",
    "     vertex.size=20,vertex.label.cex=1.5,\n",
    "     vertex.frame.color=\"gray\",vertex.shape='square')"
   ]
  },
  {
   "cell_type": "markdown",
   "metadata": {},
   "source": [
    "6 кратно 3, поэтому на каждом этапе программы исполнитель может получить только два числа, \n",
    "\n",
    "отличающихся от полученных на предыдущих этапах:\n",
    "\n",
    "- Первая команда: 0 + 3 = 3; 0 + 6 = 6\n",
    "- Вторая команда: 0 + 3 + 3 = 6; 0 + 3 + 6 = 9; 0 + 6 + 3 = 9; 0 + 6 + 6 = 12\n",
    "- Третья команда:  ...\n",
    "\n",
    "Учитывая стартовое число 0, за 8 этапов можно получить \n",
    "\n",
    "1 + 8 * 2 = 17 различных чисел в зависимости от выбора команды на каждом шаге.\n",
    "\n",
    "---\n",
    "\n",
    "3 is a multiplier of 6, therefore at each stage of the program the performer can get only two numbers \n",
    "\n",
    "that differ from those obtained in the previous stages:\n",
    "\n",
    "- The first command: 0 + 3 = 3; 0 + 6 = 6\n",
    "- The second command: 0 + 3 + 3 = 6; 0 + 3 + 6 = 9; 0 + 6 + 3 = 9; 0 + 6 + 6 = 12\n",
    "- The third command: ...\n",
    "\n",
    "From the starting number 0, with 8 commands it is possible to get 1 + 8 * 2 = 17 different numbers, \n",
    "\n",
    "depending on the choice of the command on each step."
   ]
  },
  {
   "cell_type": "code",
   "execution_count": 113,
   "metadata": {},
   "outputs": [],
   "source": [
    "answer_dictionary[22] <- toString(1 + 8 * 2)"
   ]
  },
  {
   "cell_type": "markdown",
   "metadata": {},
   "source": [
    "## 23.\n",
    "Сколько существует различных наборов значений логических переменных $x_1, х_2, ... x_9, х_{10}$, \n",
    "\n",
    "которые удовлетворяют всем перечисленным ниже условиям?\n",
    "\n",
    "How many different sets of Boolean variables $x_1, х_2, ... x_9, х_{10}$ exist \n",
    "\n",
    "that satisfy all of the following conditions?\n",
    "\n",
    "$(\\neg x_1 \\equiv \\neg x_2) \\lor (\\neg x_3 \\equiv \\neg x_4) = 1$\n",
    "\n",
    "$(\\neg x_3 \\equiv \\neg x_4) \\lor (\\neg x_5 \\equiv \\neg x_6) = 1$\n",
    "\n",
    "$(\\neg x_5 \\equiv \\neg x_6) \\lor (\\neg x_7 \\equiv \\neg x_8) = 1$\n",
    "\n",
    "$(\\neg x_7 \\equiv \\neg x_8) \\lor (\\neg x_9 \\equiv \\neg x_{10}) = 1$\n",
    "\n",
    "\n",
    "В ответе __не нужно__ перечислять все различные наборы значений $x_1, х_2, ... x_9, х_{10}$, при которых выполнена данная система равенств.\n",
    "\n",
    "В качестве ответа вам нужно указать количество таких наборов.\n",
    "\n",
    "The answer __does not need__ to list all the different sets of values $x_1, х_2, ... x_9, х_{10}$ under which this system of equations is satisfied. \n",
    "\n",
    "As an answer, you need to specify only the number of such sets."
   ]
  },
  {
   "cell_type": "markdown",
   "metadata": {},
   "source": [
    "1) \n",
    "\n",
    "Упростим систему логических уравнений. / Let's simplify the logical equations.\n",
    "\n",
    "$( \\ (\\neg x_1 \\equiv \\neg x_2) \\lor (\\neg x_3 \\equiv \\neg x_4) = 1 \\ )  \\iff\n",
    "( \\ (x_1 \\equiv x_2) \\lor (x_3 \\equiv x_4) = 1 \\ \\iff\n",
    "\\neg ( x_1 \\equiv x_2) \\land \\neg (x_3 \\equiv x_4) = 0$\n",
    "\n",
    "2) \n",
    "\n",
    "Система будет иметь вид: / The system of equations will be:\n",
    "\n",
    "$ \\neg ( x_1 \\equiv x_2) \\land \\neg (x_3 \\equiv x_4) = 0$  **(1)**\n",
    "\n",
    "$ \\neg ( x_3 \\equiv x_4) \\land \\neg (x_5 \\equiv x_6) = 0$  **(2)**\n",
    "\n",
    "$ \\neg ( x_5 \\equiv x_6) \\land \\neg (x_7 \\equiv x_8) = 0$  **(3)**\n",
    "\n",
    "$ \\neg ( x_7 \\equiv x_8) \\land \\neg (x_8 \\equiv x_{10}) = 0$  **(4)**\n",
    "\n",
    "\n",
    "3) Количество бинарных комбинаций из 10 цифр: / The number of binary combinations from 10 digits:\n",
    "\n",
    "$2^{10}=1024$\n",
    "\n",
    "4) \n",
    "\n",
    "Тождество $(1)$ нарушается, только если $x_1 \\neq x_2$ и $x_3 \\neq x_4$ одновременно, \n",
    "\n",
    "то есть необходимо исключить 4 набора переменных, в которых $(x_1, x_2, x_3, x_4)$ имеют вид (0,1,0,1), (0,1,1,0), (1,0,0,1), (1,0,1,0). \n",
    "\n",
    "Таких наборов (с учетом комбинаций остальных 6 переменных) будет: $4*2^{6}$. \n",
    "\n",
    "При этом возможных наборов сочетаний $(x_1, x_2, x_3, x_4)$ остается только 16 - 4 = 12: (0,0,0,1), (1,1,0,1), и т.д.\n",
    "\n",
    "The identity $(1)$ is violated only if $x_1 \\neq x_2$ and $x_3 \\neq x_4$ simultaneously, \n",
    "\n",
    "so it is necessary to exclude 4 sets of variables in which $(x_1, x_2, x_3, x_4)$ have the form (0,1,0,1), (0,1,1,0), (1,0,0,1), (1,0,1,0). \n",
    "\n",
    "This kind of sets (taking into account combinations of the remaining 6 variables) will be $4 * 2 ^ {6}$. \n",
    "\n",
    "In this case, we have less possible combinations $(x_1, x_2, x_3, x_4)$ - only 16 - 4 = 12: (0,0,0,1), (1,1,0,1), etc."
   ]
  },
  {
   "cell_type": "markdown",
   "metadata": {},
   "source": [
    "5) \n",
    "\n",
    "Тождество $(2)$ нарушается, только если $x_3 \\neq x_4$ и $x_5 \\neq x_6$ одновременно, \n",
    "\n",
    "то есть необходимо исключить 4 набора переменных, в которых $(x_3, x_4, x_5, x_6)$ имеют вид (0,1,0,1), (0,1,1,0), (1,0,0,1), (1,0,1,0). \n",
    "\n",
    "$(x_7, x_8, x_9, x_{10})$ принимают любые значения (количество их комбинаций равно $2^4$), \n",
    "\n",
    "а $(x_1, x_2)$ может иметь только 2 варианта (0,0) и (1,1), учитывая пункт 4). \n",
    "\n",
    "Всего тождество $(2)$ могут нарушить: $2 * 4 * 2^{4}$ набора.\n",
    "\n",
    "The identity $(2)$ is violated only if $x_3 \\neq x_4$ and $x_5 \\neq x_6$ simultaneously, \n",
    "\n",
    "so it is necessary to exclude 4 sets of variables in which $(x_3, x_4, x_5, x_6)$ have the form (0,1,0,1), (0,1,1,0), (1,0,0,1), (1,0,1,0). \n",
    "\n",
    "$(x_7, x_8, x_9, x_{10})$ takes any values (the number of their combinations is $2 ^ 4$), \n",
    "\n",
    "and $(x_1, x_2)$ can have only 2 combinations (0,0) and (1,1), taking into account point 4). \n",
    "\n",
    "In total, the identity $ (2) $ can be violated by: $2 * 4 * 2^{4}$ sets.\n",
    "\n",
    "6) \n",
    "\n",
    "Тождество $(3)$ нарушается, только если $x_5 \\neq x_6$ и $x_7 \\neq x_8$ одновременно, \n",
    "\n",
    "то есть необходимо исключить 4 набора переменных, в которых $(x_5, x_6, x_7, x_8)$ имеют вид (0,1,0,1), (0,1,1,0), (1,0,0,1), (1,0,1,0). \n",
    "\n",
    "$(x_3, x_4)$ может иметь только 2 варианта (0,0) и (1,1), учитывая пункт 5). \n",
    "\n",
    "При этом переменные $(x_1, x_2)$ могут иметь все 4 возможных варианта сочетаний и переменные $(x_9, x_{10})$ аналогично. \n",
    "\n",
    "Всего тождество $(3)$ могут нарушить: $4 * 2 * 4 * 4$ набора.\n",
    "\n",
    "The identity $(3)$ is violated only if $ x_5 \\neq x_6 $ and $ x_7 \\neq x_8 $ simultaneously, \n",
    "\n",
    "so it is necessary to exclude 4 sets of variables in which $(x_5, x_6, x_7, x_8)$ have the form (0,1,0,1), (0,1,1,0), (1,0,0,1), (1,0,1,0). \n",
    "\n",
    "$(x_3, x_4)$ can have only 2 variants (0,0) and (1,1), taking into account point 5). \n",
    "\n",
    "In this case, the variables $(x_1, x_2)$ can have all 4 possible variants of combinations and the variables $(x_9, x_{10})$ are similar. \n",
    "\n",
    "In total, the identity $(3)$ can be violated by: $4 * 2 * 4 * 4$ sets.\n",
    "\n",
    "7) \n",
    "\n",
    "Тождество $(4)$ нарушается, только если $x_7 \\neq x_8$ и $x_9 \\neq x_{10}$ одновременно, \n",
    "\n",
    "то есть необходимо исключить 4 набора переменных, в которых $(x_7, x_8, x_9, x_{10})$ имеют вид (0,1,0,1), (0,1,1,0), (1,0,0,1), (1,0,1,0). \n",
    "\n",
    "$(x_5, x_6)$ = (0,0) или (1,1), учитывая пункт 6). \n",
    "\n",
    "При этом переменные $(x_1, x_2, x_3, x_4)$ имеют только 12 вариантов изменений, учитывая пункт 4). \n",
    "\n",
    "Всего тождество $(4)$ могут нарушить: $12 * 2 * 4$ набора.\n",
    "\n",
    "The identity $(4)$ is violated only if $x_7 \\neq x_8 $ and $ x_9 \\neq x_{10}$ simultaneously, \n",
    "\n",
    "so you need to exclude 4 sets of variables in which $(x_7, x_8, x_9, x_{10})$ have the form (0,1,0,1), (0,1,1,0), (1,0,0,1), (1,0,1,0). \n",
    "\n",
    "$(x_5, x_6)$ = (0,0) or (1,1), taking into account point 6). \n",
    "\n",
    "In this case, the variables $(x_1, x_2, x_3, x_4)$ have only 12 variants of changes, taking into account point 4). \n",
    "\n",
    "In total, the identity $(4)$ can be violated by $12 * 2 * 4$ sets."
   ]
  },
  {
   "cell_type": "code",
   "execution_count": 122,
   "metadata": {},
   "outputs": [
    {
     "data": {
      "text/html": [
       "416"
      ],
      "text/latex": [
       "416"
      ],
      "text/markdown": [
       "416"
      ],
      "text/plain": [
       "[1] 416"
      ]
     },
     "metadata": {},
     "output_type": "display_data"
    }
   ],
   "source": [
    "2 ** 10 - 4 * 2 ** 6 - 2 * 4 * 2 ** 4 - 4 * 2 * 4 * 4 - 12 * 2 * 4"
   ]
  },
  {
   "cell_type": "code",
   "execution_count": 121,
   "metadata": {},
   "outputs": [
    {
     "data": {
      "text/html": [
       "416"
      ],
      "text/latex": [
       "416"
      ],
      "text/markdown": [
       "416"
      ],
      "text/plain": [
       "[1] 416"
      ]
     },
     "metadata": {},
     "output_type": "display_data"
    }
   ],
   "source": [
    "# check the decision method\n",
    "bc <- bincombinations(10)\n",
    "c <- 0\n",
    "n <- length(bc)/10\n",
    "for (i in 1:n){\n",
    "    el <- bc[i,]\n",
    "    e1 <- (!el[1] == !el[2]) | ( !el[3] == !el[4])\n",
    "    e2 <- (!el[3] == !el[4]) | ( !el[5] == !el[6])\n",
    "    e3 <- (!el[5] == !el[6]) | ( !el[7] == !el[8])\n",
    "    e4 <- (!el[7] == !el[8]) | ( !el[9] == !el[10])\n",
    "    result <- (e1 == 1) & (e2 == 1) & (e3 == 1) & (e4 == 1)\n",
    "    if (result == 1) {c = c + 1}\n",
    "}\n",
    "c"
   ]
  },
  {
   "cell_type": "code",
   "execution_count": 119,
   "metadata": {},
   "outputs": [],
   "source": [
    "answer_dictionary[23] <- toString(c)"
   ]
  },
  {
   "cell_type": "markdown",
   "metadata": {},
   "source": [
    "## Часть 2 &nbsp; &nbsp; &nbsp; Part 2\n",
    "\n",
    "## 24.\n",
    "<div style=\"width: 800px; height: 920px; overflow:auto;\">\n",
    "    <img src=\"it_images/2017_02_24.png\" width=\"800\" height=\"920\"/>\n",
    "</div>\n",
    "Требовалось написать программу, которая вводит с клавиатуры координаты точки на плоскости (х, у — действительные числа) \n",
    "\n",
    "и определяет принадлежность точки заштрихованной области. \n",
    "\n",
    "Программист торопился и написал программу неправильно.\n",
    "\n",
    "Последовательно выполните следующее:\n",
    "\n",
    "1. Приведите пример таких чисел х, у при которых программа работает неправильно.\n",
    "\n",
    "2. Укажите, как нужно доработать программу, чтобы не было случаев её неправильной работы. \n",
    "\n",
    "(Это можно сделать несколькими способами, поэтому можно указать любой способ доработки исходной программы).\n",
    "\n",
    "---\n",
    "\n",
    "It was required to write a program that enters from the keyboard the coordinates of the point on the plane (x, y are real numbers) \n",
    "\n",
    "and determines the belonging of the point to the shaded region. \n",
    "\n",
    "The programmer was in a hurry and wrote the program incorrectly.\n",
    "\n",
    "Do the following sequentially:\n",
    "\n",
    "1. Give an example of such numbers x, y for which the program does not work correctly.\n",
    "\n",
    "2. Indicate how you need to refine the program so that there are no cases of its improper operation. \n",
    "\n",
    "(This can be done in several ways, so you can specify any way to refine the source program).\n",
    "\n",
    "**Note**: `принадлежит`=`belongs`; `не принадлежит`=`does not belong`."
   ]
  },
  {
   "cell_type": "markdown",
   "metadata": {},
   "source": [
    "<table style=\"width:95%;\">\n",
    "  <tr style=\"color:slategray;font-size:120%;font-family:'Roboto';\">\n",
    "    <th style=\"text-align:center;\">Python</th> \n",
    "    <th style=\"text-align:center;\">R</th>          \n",
    "  </tr>\n",
    "  <tr>\n",
    "    <td style=\"font-weight:bold;text-align:left;\"><pre><code class='python'>\n",
    "    \n",
    "x = float(input(\"x \"))\n",
    "y = float(input(\"y \"))\n",
    "\n",
    "if y <= -x &#42; x:\n",
    "    if y <= 0:\n",
    "        if y >= -x - 2:\n",
    "            print('принадлежит')\n",
    "        else:\n",
    "            print('не принадлежит')\n",
    "            \n",
    "    </code></pre></td> \n",
    "    <td style=\"font-weight:bold;text-align:left;\"><pre><code class='r'>\n",
    "    \n",
    "x <- as.numeric(readline(\"x \"))\n",
    "y <- as.numeric(readline(\"y \"))\n",
    "\n",
    "if (y <= -x &#42; x) {\n",
    "    if (y <= 0) {\n",
    "        if (y >= -x - 2){\n",
    "            print('принадлежит')\n",
    "        } else {\n",
    "            print('не принадлежит')\n",
    "        }\n",
    "    }\n",
    "}\n",
    "    </code></pre></td>     \n",
    "  </tr>    \n",
    "</table>"
   ]
  },
  {
   "cell_type": "markdown",
   "metadata": {},
   "source": [
    "Работает некорректно, если не выполнены условия $y \\leq -x*x$ или $y \\leq 0$. \n",
    "\n",
    "&#9881; Например, для (-2,-3).\n",
    "\n",
    "It works incorrectly if the conditions $y \\leq -x * x$ or $y \\leq 0$ are not satisfied. \n",
    "\n",
    "&#9881; For example, for (-2, -3)."
   ]
  },
  {
   "cell_type": "code",
   "execution_count": 124,
   "metadata": {},
   "outputs": [
    {
     "name": "stdout",
     "output_type": "stream",
     "text": [
      "x -2\n",
      "y -3\n"
     ]
    }
   ],
   "source": [
    "# the wrong variant, the wrong answer\n",
    "x <- as.numeric(readline(\"x \"))\n",
    "y <- as.numeric(readline(\"y \"))\n",
    "\n",
    "if (y <= -x * x) {\n",
    "    if (y <= 0) {\n",
    "        if (y >= -x - 2){\n",
    "            print('принадлежит')\n",
    "        } else {\n",
    "            print('не принадлежит')\n",
    "        }\n",
    "    }\n",
    "}"
   ]
  },
  {
   "cell_type": "code",
   "execution_count": 125,
   "metadata": {},
   "outputs": [
    {
     "name": "stdout",
     "output_type": "stream",
     "text": [
      "x -2\n",
      "y -3\n",
      "[1] \"не принадлежит\"\n"
     ]
    }
   ],
   "source": [
    "# the right variant, the right answer\n",
    "x <- as.numeric(readline(\"x \"))\n",
    "y <- as.numeric(readline(\"y \"))\n",
    "\n",
    "if (((y <= -x * x) | ((y <= 0) & (y > -x * x))) & (y >= -x - 2)) {\n",
    "    print('принадлежит')\n",
    "} else {\n",
    "    print('не принадлежит')\n",
    "}"
   ]
  },
  {
   "cell_type": "code",
   "execution_count": 126,
   "metadata": {},
   "outputs": [],
   "source": [
    "answer_dictionary[24] <-'1.(-2,-3); 2. if (((y <= -x * x) | ((y <= 0) & (y > -x * x))) & (y >= -x - 2))'"
   ]
  },
  {
   "cell_type": "markdown",
   "metadata": {},
   "source": [
    "## 25."
   ]
  },
  {
   "cell_type": "code",
   "execution_count": null,
   "metadata": {},
   "outputs": [],
   "source": []
  },
  {
   "cell_type": "markdown",
   "metadata": {},
   "source": [
    "## 26."
   ]
  },
  {
   "cell_type": "code",
   "execution_count": null,
   "metadata": {},
   "outputs": [],
   "source": []
  },
  {
   "cell_type": "markdown",
   "metadata": {},
   "source": [
    "## 27."
   ]
  },
  {
   "cell_type": "code",
   "execution_count": null,
   "metadata": {},
   "outputs": [],
   "source": []
  },
  {
   "cell_type": "markdown",
   "metadata": {},
   "source": [
    "## Ответы &nbsp; &nbsp; &nbsp; Answers"
   ]
  },
  {
   "cell_type": "code",
   "execution_count": 127,
   "metadata": {},
   "outputs": [
    {
     "data": {
      "text/plain": [
       "<hash> containing 23 key-value pair(s).\n",
       "  1 : 11010110\n",
       "  10 : 243\n",
       "  11 : 21\n",
       "  12 : EADCGBF\n",
       "  13 : 180\n",
       "  15 : 30\n",
       "  16 : 7,14,28\n",
       "  17 : 8900\n",
       "  18 : 2\n",
       "  19 : 4\n",
       "  2 : 34\n",
       "  20 : 14\n",
       "  21 : 298\n",
       "  22 : 17\n",
       "  23 : 416\n",
       "  24 : 1.(-2,-3); 2. if (((y <= -x * x) | ((y <= 0) & (y > -x * x))) & (y >= -x - 2))\n",
       "  3 : 2\n",
       "  4 : 5\n",
       "  5 : CDBACED\n",
       "  6 : BC\n",
       "  7 : =$B2+D$2\n",
       "  8 : 127\n",
       "  9 : 1"
      ]
     },
     "metadata": {},
     "output_type": "display_data"
    }
   ],
   "source": [
    "answer_dictionary"
   ]
  },
  {
   "cell_type": "code",
   "execution_count": null,
   "metadata": {},
   "outputs": [],
   "source": []
  }
 ],
 "metadata": {
  "kernelspec": {
   "display_name": "R 3.4",
   "language": "R",
   "name": "ir34"
  },
  "language_info": {
   "codemirror_mode": "r",
   "file_extension": ".r",
   "mimetype": "text/x-r-source",
   "name": "R",
   "pygments_lexer": "r",
   "version": "3.4.1"
  }
 },
 "nbformat": 4,
 "nbformat_minor": 2
}
