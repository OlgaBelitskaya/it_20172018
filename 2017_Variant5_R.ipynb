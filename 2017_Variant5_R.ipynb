{
 "cells": [
  {
   "cell_type": "markdown",
   "metadata": {},
   "source": [
    "# ЕГЭ 2017 Вариант 5 &nbsp; &nbsp; &nbsp; EGE 2017 Variant 5\n",
    "[ЕГЭ-2017. Информатика.10 тренировочных вариантов. Ушаков Д.М.](https://drive.google.com/file/d/0B6696ckkWj_zS2ptblAxNERHZzQ/view)\n",
    "\n",
    "[Basic Regular Expressions in R Cheatsheet](https://www.rstudio.com/wp-content/uploads/2016/09/RegExCheatsheet.pdf)\n",
    "\n",
    "[DataFlair: R Tutorials](https://data-flair.training/blogs/category/r/)\n",
    "\n",
    "[Алгоритм Шеннона — Фано](https://ru.wikipedia.org/wiki/%D0%90%D0%BB%D0%B3%D0%BE%D1%80%D0%B8%D1%82%D0%BC_%D0%A8%D0%B5%D0%BD%D0%BD%D0%BE%D0%BD%D0%B0_%E2%80%94_%D0%A4%D0%B0%D0%BD%D0%BE)\n",
    "\n",
    "[IPv4 - Address Classes](https://www.tutorialspoint.com/ipv4/ipv4_address_classes.htm)\n",
    "\n",
    "[Basic and advanced network visualization with R](http://www.kateto.net/wp-content/uploads/2016/04/Sunbelt%202016%20R%20Network%20Visualization%20Handout.pdf)"
   ]
  },
  {
   "cell_type": "code",
   "execution_count": 2,
   "metadata": {},
   "outputs": [],
   "source": [
    "library(IRdisplay)\n",
    "library(repr)\n",
    "library(hash)\n",
    "library(numbers)\n",
    "library(e1071)\n",
    "library(igraph)\n",
    "library(VennDiagram)"
   ]
  },
  {
   "cell_type": "code",
   "execution_count": 3,
   "metadata": {},
   "outputs": [],
   "source": [
    "# install.packages(\"\")"
   ]
  },
  {
   "cell_type": "code",
   "execution_count": 4,
   "metadata": {},
   "outputs": [],
   "source": [
    "answer_dictionary <- hash()"
   ]
  },
  {
   "cell_type": "code",
   "execution_count": 5,
   "metadata": {},
   "outputs": [
    {
     "data": {
      "text/html": [
       "<style>\n",
       "@import url('https://fonts.googleapis.com/css?family=Roboto&effect=3d|fire-animation|scuffed-steel|brick-sign');\n",
       "body {background-color: aliceblue;} \n",
       "a {color: #4876ff; font-family: 'Roboto';} \n",
       "h1 {color: #348ABD; font-family: 'Roboto'; text-shadow: 4px 4px 4px #aaa;} \n",
       "h2, h3 {color: gray; font-family: 'Roboto'; text-shadow: 4px 4px 4px #aaa;}\n",
       "h4 {color: #348ABD; font-family: 'Roboto';}\n",
       "span {text-shadow: 4px 4px 4px #aaa;}\n",
       "div.output_prompt, div.output_area pre, div.output_subarea {color: gray;}\n",
       "div.input_prompt {color: #4876ff;}      \n",
       "div.output_stderr pre {background-color: aliceblue;}  \n",
       "div.output_stderr {background-color: gray;}                        \n",
       "</style>"
      ]
     },
     "metadata": {},
     "output_type": "display_data"
    }
   ],
   "source": [
    "display_html(\"<style>\n",
    "@import url('https://fonts.googleapis.com/css?family=Roboto&effect=3d|fire-animation|scuffed-steel|brick-sign');\n",
    "body {background-color: aliceblue;} \n",
    "a {color: #4876ff; font-family: 'Roboto';} \n",
    "h1 {color: #348ABD; font-family: 'Roboto'; text-shadow: 4px 4px 4px #aaa;} \n",
    "h2, h3 {color: gray; font-family: 'Roboto'; text-shadow: 4px 4px 4px #aaa;}\n",
    "h4 {color: #348ABD; font-family: 'Roboto';}\n",
    "span {text-shadow: 4px 4px 4px #aaa;}\n",
    "div.output_prompt, div.output_area pre, div.output_subarea {color: gray;}\n",
    "div.input_prompt {color: #4876ff;}      \n",
    "div.output_stderr pre {background-color: aliceblue;}  \n",
    "div.output_stderr {background-color: gray;}                        \n",
    "</style>\")"
   ]
  },
  {
   "cell_type": "markdown",
   "metadata": {},
   "source": [
    "## Часть 1 &nbsp; &nbsp; &nbsp; Part 1\n",
    "## 1.\n",
    "Даны 4 целых числа, записанных в шестнадцатеричной системе счисления: $A5_{16}, 9F_{16}, AC_{16}, C1_{16}$. \n",
    "\n",
    "Сколько среди них чисел, которые меньше чем $265_8$?\n",
    "\n",
    "There are 4 integers written in hexadecimal notation: $A5_{16}, 9F_{16}, AC_{16}, C1_{16}$.\n",
    "\n",
    "How many of them are numbers that less than $265_8$?"
   ]
  },
  {
   "cell_type": "code",
   "execution_count": 10,
   "metadata": {},
   "outputs": [],
   "source": [
    "options(scipen = 999)\n",
    "oct2dec <- function(n) {\n",
    "  return(sapply(strsplit(as.character(n),split=\"\"), \n",
    "                function(x) sum(as.numeric(x) * 8 ** (rev(seq_along(x) - 1)))))\n",
    "}"
   ]
  },
  {
   "cell_type": "code",
   "execution_count": 17,
   "metadata": {},
   "outputs": [
    {
     "data": {
      "text/html": [
       "<ol class=list-inline>\n",
       "\t<li>165</li>\n",
       "\t<li>159</li>\n",
       "\t<li>172</li>\n",
       "\t<li>193</li>\n",
       "</ol>\n"
      ],
      "text/latex": [
       "\\begin{enumerate*}\n",
       "\\item 165\n",
       "\\item 159\n",
       "\\item 172\n",
       "\\item 193\n",
       "\\end{enumerate*}\n"
      ],
      "text/markdown": [
       "1. 165\n",
       "2. 159\n",
       "3. 172\n",
       "4. 193\n",
       "\n",
       "\n"
      ],
      "text/plain": [
       "[1] 165 159 172 193"
      ]
     },
     "metadata": {},
     "output_type": "display_data"
    }
   ],
   "source": [
    "# A5_16 = 10*16+5, 9F_16 = 9*16+15, AC_16 = 10*16+12, C1_16 = 12*16+1\n",
    "hex_numbers <- c(0xa5, 0x9f, 0xac, 0xc1)\n",
    "hex_numbers <- as.integer(sprintf(\"%d\", hex_numbers))\n",
    "hex_numbers"
   ]
  },
  {
   "cell_type": "code",
   "execution_count": 18,
   "metadata": {},
   "outputs": [
    {
     "data": {
      "text/html": [
       "181"
      ],
      "text/latex": [
       "181"
      ],
      "text/markdown": [
       "181"
      ],
      "text/plain": [
       "[1] 181"
      ]
     },
     "metadata": {},
     "output_type": "display_data"
    }
   ],
   "source": [
    "# 265_8 = 2*8^2+6*8+5\n",
    "oct_number <- oct2dec('265')\n",
    "oct_number"
   ]
  },
  {
   "cell_type": "code",
   "execution_count": 20,
   "metadata": {},
   "outputs": [
    {
     "data": {
      "text/html": [
       "3"
      ],
      "text/latex": [
       "3"
      ],
      "text/markdown": [
       "3"
      ],
      "text/plain": [
       "[1] 3"
      ]
     },
     "metadata": {},
     "output_type": "display_data"
    }
   ],
   "source": [
    "sum(hex_numbers < oct_number)"
   ]
  },
  {
   "cell_type": "code",
   "execution_count": 53,
   "metadata": {},
   "outputs": [],
   "source": [
    "answer_dictionary[1] <- toString(sum(hex_numbers < oct_number))"
   ]
  },
  {
   "cell_type": "markdown",
   "metadata": {},
   "source": [
    "## 2.\n",
    "Логическая функция $F$ задаётся выражением $(\\neg x) \\land ((\\neg y) \\lor z)$. \n",
    "\n",
    "Определите, какому столбцу таблицы истинности функции $F$ соответствует каждая из переменных $x, y, z$.\n",
    "\n",
    "The logical function $F$ is given by the expression $(\\neg x) \\land ((\\neg y) \\lor z)$. \n",
    "\n",
    "Determine which column of the truth table of $F$ corresponds to each of the variables $x, y, z$.\n",
    "\n",
    "| Перем. 1 | Перем. 2 | Перем. 3 | Функция |\n",
    "| - | - | - | - |\n",
    "| Variable 1| Variable 2 | Variable 3 | Function |\n",
    "| ??? | ??? | ??? | F|\n",
    "| 0 | 0 | 0 | 1 |\n",
    "| 0 | 0 | 1 | 1 |\n",
    "| 0 | 1 | 0 | 0 |\n",
    "| 0 | 1 | 1 | 0 |\n",
    "| 1 | 0 | 0 | 0 |\n",
    "| 1 | 0 | 1 | 1 |\n",
    "| 1 | 1 | 0 | 0 |\n",
    "| 1 | 1 | 1 | 0 |\n",
    "\n",
    "В ответе напишите буквы $x, y, z$ в том порядке, в котором идут соответствующие им столбцы \n",
    "\n",
    "(сначала — буква, соответствующая 1-му столбцу; затем — буква, соответствующая 2-му столбцу; затем — буква, соответствующая 3-му столбцу). \n",
    "\n",
    "Букве в ответе пишите подряд, никаких разделителей между буквами ставить не нужно.\n",
    "\n",
    "In the answer, write the letters $x, y, z$ in the order in which the corresponding columns go \n",
    "\n",
    "(at first, the letter corresponding to the 1st column, then the letter corresponding to the 2nd column, then the letter corresponding to the 3rd column). \n",
    "\n",
    "Write an answer in a row, delimiters between the letters are not necessary.\n",
    "\n",
    "_Пример_\n",
    "\n",
    "Пусть задано выражение $x \\to y$, зависящее от двух переменных $x$ и $y$, и таблица истинности:\n",
    "\n",
    "_Example_\n",
    "\n",
    "The expression $x \\to y$ is given. It depends on two variables $x$ and $y$, and the truth table is:\n",
    "\n",
    "| Перем. 1 | Перем. 2 | Функция |\n",
    "| - | - | - |\n",
    "| Variable 1| Variable 2 | Function |\n",
    "| ??? | ??? | F |\n",
    "| 0 | 0 | 1 | \n",
    "| 1 | 0 | 1 |\n",
    "| 0 | 1 | 0 |\n",
    "| 1 | 1 | 1 |\n",
    "\n",
    "Тогда 1-му столбцу соответствует переменная $y$, а 2-му столбцу соответствует переменная $x$. В ответе нужно написать: $yx$.\n",
    "\n",
    "---\n",
    "\n",
    "Then the first column corresponds to the variable $y$, and the second column corresponds to the variable $x$. The answer is $yx$."
   ]
  },
  {
   "cell_type": "markdown",
   "metadata": {},
   "source": [
    "Значение логической функции $F = 0$ при $\\neg x = 0 \\iff x = 1$. \n",
    "\n",
    "Это верно только переменной 2 в данной таблице истинности => $х == Перем.2$\n",
    "\n",
    "Кроме того, $F = 0$  при $(\\neg y) \\lor z = 0 \\iff (y,z) = (1,0)$. \n",
    "\n",
    "Это условие выполняется только при $y == Перем.1; z == Перем.3$ \n",
    "\n",
    "---\n",
    "\n",
    "The value of the logical function $F = 0$ for $\\neg x = 0 \\iff x = 1$. \n",
    "\n",
    "This is right only for the variable 2 in this truth table => $x == Перем.2$\n",
    "\n",
    "In addition, $F = 0$ for $(\\neg y) \\lor z = 0 \\iff (y, z) = (1,0)$. \n",
    "\n",
    "This condition is met only when $y == Перем.1; z == Перем.3 $"
   ]
  },
  {
   "cell_type": "code",
   "execution_count": 24,
   "metadata": {},
   "outputs": [
    {
     "data": {
      "text/html": [
       "<table>\n",
       "<tbody>\n",
       "\t<tr><td>0</td><td>0</td><td>0</td></tr>\n",
       "\t<tr><td>0</td><td>0</td><td>1</td></tr>\n",
       "\t<tr><td>0</td><td>1</td><td>0</td></tr>\n",
       "\t<tr><td>0</td><td>1</td><td>1</td></tr>\n",
       "\t<tr><td>1</td><td>0</td><td>0</td></tr>\n",
       "\t<tr><td>1</td><td>0</td><td>1</td></tr>\n",
       "\t<tr><td>1</td><td>1</td><td>0</td></tr>\n",
       "\t<tr><td>1</td><td>1</td><td>1</td></tr>\n",
       "</tbody>\n",
       "</table>\n"
      ],
      "text/latex": [
       "\\begin{tabular}{lll}\n",
       "\t 0 & 0 & 0\\\\\n",
       "\t 0 & 0 & 1\\\\\n",
       "\t 0 & 1 & 0\\\\\n",
       "\t 0 & 1 & 1\\\\\n",
       "\t 1 & 0 & 0\\\\\n",
       "\t 1 & 0 & 1\\\\\n",
       "\t 1 & 1 & 0\\\\\n",
       "\t 1 & 1 & 1\\\\\n",
       "\\end{tabular}\n"
      ],
      "text/markdown": [
       "\n",
       "| 0 | 0 | 0 | \n",
       "| 0 | 0 | 1 | \n",
       "| 0 | 1 | 0 | \n",
       "| 0 | 1 | 1 | \n",
       "| 1 | 0 | 0 | \n",
       "| 1 | 0 | 1 | \n",
       "| 1 | 1 | 0 | \n",
       "| 1 | 1 | 1 | \n",
       "\n",
       "\n"
      ],
      "text/plain": [
       "     [,1] [,2] [,3]\n",
       "[1,] 0    0    0   \n",
       "[2,] 0    0    1   \n",
       "[3,] 0    1    0   \n",
       "[4,] 0    1    1   \n",
       "[5,] 1    0    0   \n",
       "[6,] 1    0    1   \n",
       "[7,] 1    1    0   \n",
       "[8,] 1    1    1   "
      ]
     },
     "metadata": {},
     "output_type": "display_data"
    }
   ],
   "source": [
    "bc <- bincombinations(3)\n",
    "bc "
   ]
  },
  {
   "cell_type": "code",
   "execution_count": 44,
   "metadata": {},
   "outputs": [],
   "source": [
    "F_values <- c(1,1,0,0,0,1,0,0)\n",
    "F <- function(x, y, z) {\n",
    "    return((!x) & ((!y) | z)) \n",
    "}"
   ]
  },
  {
   "cell_type": "code",
   "execution_count": 45,
   "metadata": {},
   "outputs": [
    {
     "data": {
      "text/html": [
       "<ol class=list-inline>\n",
       "\t<li>TRUE</li>\n",
       "\t<li>TRUE</li>\n",
       "\t<li>TRUE</li>\n",
       "\t<li>FALSE</li>\n",
       "\t<li>TRUE</li>\n",
       "\t<li>FALSE</li>\n",
       "\t<li>TRUE</li>\n",
       "\t<li>TRUE</li>\n",
       "</ol>\n"
      ],
      "text/latex": [
       "\\begin{enumerate*}\n",
       "\\item TRUE\n",
       "\\item TRUE\n",
       "\\item TRUE\n",
       "\\item FALSE\n",
       "\\item TRUE\n",
       "\\item FALSE\n",
       "\\item TRUE\n",
       "\\item TRUE\n",
       "\\end{enumerate*}\n"
      ],
      "text/markdown": [
       "1. TRUE\n",
       "2. TRUE\n",
       "3. TRUE\n",
       "4. FALSE\n",
       "5. TRUE\n",
       "6. FALSE\n",
       "7. TRUE\n",
       "8. TRUE\n",
       "\n",
       "\n"
      ],
      "text/plain": [
       "[1]  TRUE  TRUE  TRUE FALSE  TRUE FALSE  TRUE  TRUE"
      ]
     },
     "metadata": {},
     "output_type": "display_data"
    }
   ],
   "source": [
    "# xyz\n",
    "result_xyz <- vector(length=8)\n",
    "for (j in 1:8) {\n",
    "    result_xyz[j] <- F(bc[j,1],bc[j,2],bc[j,3])\n",
    "}\n",
    "result_xyz == F_values"
   ]
  },
  {
   "cell_type": "code",
   "execution_count": 46,
   "metadata": {},
   "outputs": [
    {
     "data": {
      "text/html": [
       "<ol class=list-inline>\n",
       "\t<li>TRUE</li>\n",
       "\t<li>FALSE</li>\n",
       "\t<li>FALSE</li>\n",
       "\t<li>FALSE</li>\n",
       "\t<li>TRUE</li>\n",
       "\t<li>FALSE</li>\n",
       "\t<li>TRUE</li>\n",
       "\t<li>TRUE</li>\n",
       "</ol>\n"
      ],
      "text/latex": [
       "\\begin{enumerate*}\n",
       "\\item TRUE\n",
       "\\item FALSE\n",
       "\\item FALSE\n",
       "\\item FALSE\n",
       "\\item TRUE\n",
       "\\item FALSE\n",
       "\\item TRUE\n",
       "\\item TRUE\n",
       "\\end{enumerate*}\n"
      ],
      "text/markdown": [
       "1. TRUE\n",
       "2. FALSE\n",
       "3. FALSE\n",
       "4. FALSE\n",
       "5. TRUE\n",
       "6. FALSE\n",
       "7. TRUE\n",
       "8. TRUE\n",
       "\n",
       "\n"
      ],
      "text/plain": [
       "[1]  TRUE FALSE FALSE FALSE  TRUE FALSE  TRUE  TRUE"
      ]
     },
     "metadata": {},
     "output_type": "display_data"
    }
   ],
   "source": [
    "# xzy\n",
    "result_xzy <- vector(length=8)\n",
    "for (j in 1:8) {\n",
    "    result_xzy[j] <- F(bc[j,1],bc[j,3],bc[j,2])\n",
    "}\n",
    "result_xzy == F_values"
   ]
  },
  {
   "cell_type": "code",
   "execution_count": 47,
   "metadata": {},
   "outputs": [
    {
     "data": {
      "text/html": [
       "<ol class=list-inline>\n",
       "\t<li>TRUE</li>\n",
       "\t<li>TRUE</li>\n",
       "\t<li>TRUE</li>\n",
       "\t<li>TRUE</li>\n",
       "\t<li>TRUE</li>\n",
       "\t<li>TRUE</li>\n",
       "\t<li>TRUE</li>\n",
       "\t<li>TRUE</li>\n",
       "</ol>\n"
      ],
      "text/latex": [
       "\\begin{enumerate*}\n",
       "\\item TRUE\n",
       "\\item TRUE\n",
       "\\item TRUE\n",
       "\\item TRUE\n",
       "\\item TRUE\n",
       "\\item TRUE\n",
       "\\item TRUE\n",
       "\\item TRUE\n",
       "\\end{enumerate*}\n"
      ],
      "text/markdown": [
       "1. TRUE\n",
       "2. TRUE\n",
       "3. TRUE\n",
       "4. TRUE\n",
       "5. TRUE\n",
       "6. TRUE\n",
       "7. TRUE\n",
       "8. TRUE\n",
       "\n",
       "\n"
      ],
      "text/plain": [
       "[1] TRUE TRUE TRUE TRUE TRUE TRUE TRUE TRUE"
      ]
     },
     "metadata": {},
     "output_type": "display_data"
    }
   ],
   "source": [
    "# yxz\n",
    "result_yxz <- vector(length=8)\n",
    "for (j in 1:8) {\n",
    "    result_yxz[j] <- F(bc[j,2],bc[j,1],bc[j,3])\n",
    "}\n",
    "result_yxz == F_values"
   ]
  },
  {
   "cell_type": "code",
   "execution_count": 48,
   "metadata": {},
   "outputs": [
    {
     "data": {
      "text/html": [
       "<ol class=list-inline>\n",
       "\t<li>TRUE</li>\n",
       "\t<li>FALSE</li>\n",
       "\t<li>TRUE</li>\n",
       "\t<li>TRUE</li>\n",
       "\t<li>FALSE</li>\n",
       "\t<li>TRUE</li>\n",
       "\t<li>TRUE</li>\n",
       "\t<li>TRUE</li>\n",
       "</ol>\n"
      ],
      "text/latex": [
       "\\begin{enumerate*}\n",
       "\\item TRUE\n",
       "\\item FALSE\n",
       "\\item TRUE\n",
       "\\item TRUE\n",
       "\\item FALSE\n",
       "\\item TRUE\n",
       "\\item TRUE\n",
       "\\item TRUE\n",
       "\\end{enumerate*}\n"
      ],
      "text/markdown": [
       "1. TRUE\n",
       "2. FALSE\n",
       "3. TRUE\n",
       "4. TRUE\n",
       "5. FALSE\n",
       "6. TRUE\n",
       "7. TRUE\n",
       "8. TRUE\n",
       "\n",
       "\n"
      ],
      "text/plain": [
       "[1]  TRUE FALSE  TRUE  TRUE FALSE  TRUE  TRUE  TRUE"
      ]
     },
     "metadata": {},
     "output_type": "display_data"
    }
   ],
   "source": [
    "# yzx\n",
    "result_yzx <- vector(length=8)\n",
    "for (j in 1:8) {\n",
    "    result_yzx[j] <- F(bc[j,2],bc[j,3],bc[j,1])\n",
    "}\n",
    "result_yzx == F_values"
   ]
  },
  {
   "cell_type": "code",
   "execution_count": 49,
   "metadata": {},
   "outputs": [
    {
     "data": {
      "text/html": [
       "<ol class=list-inline>\n",
       "\t<li>TRUE</li>\n",
       "\t<li>FALSE</li>\n",
       "\t<li>FALSE</li>\n",
       "\t<li>TRUE</li>\n",
       "\t<li>TRUE</li>\n",
       "\t<li>FALSE</li>\n",
       "\t<li>FALSE</li>\n",
       "\t<li>TRUE</li>\n",
       "</ol>\n"
      ],
      "text/latex": [
       "\\begin{enumerate*}\n",
       "\\item TRUE\n",
       "\\item FALSE\n",
       "\\item FALSE\n",
       "\\item TRUE\n",
       "\\item TRUE\n",
       "\\item FALSE\n",
       "\\item FALSE\n",
       "\\item TRUE\n",
       "\\end{enumerate*}\n"
      ],
      "text/markdown": [
       "1. TRUE\n",
       "2. FALSE\n",
       "3. FALSE\n",
       "4. TRUE\n",
       "5. TRUE\n",
       "6. FALSE\n",
       "7. FALSE\n",
       "8. TRUE\n",
       "\n",
       "\n"
      ],
      "text/plain": [
       "[1]  TRUE FALSE FALSE  TRUE  TRUE FALSE FALSE  TRUE"
      ]
     },
     "metadata": {},
     "output_type": "display_data"
    }
   ],
   "source": [
    "# zxy\n",
    "result_zxy <- vector(length=8)\n",
    "for (j in 1:8) {\n",
    "    result_zxy[j] <- F(bc[j,3],bc[j,1],bc[j,2])\n",
    "}\n",
    "result_zxy == F_values"
   ]
  },
  {
   "cell_type": "code",
   "execution_count": 50,
   "metadata": {},
   "outputs": [
    {
     "data": {
      "text/html": [
       "<ol class=list-inline>\n",
       "\t<li>TRUE</li>\n",
       "\t<li>FALSE</li>\n",
       "\t<li>TRUE</li>\n",
       "\t<li>TRUE</li>\n",
       "\t<li>FALSE</li>\n",
       "\t<li>FALSE</li>\n",
       "\t<li>FALSE</li>\n",
       "\t<li>TRUE</li>\n",
       "</ol>\n"
      ],
      "text/latex": [
       "\\begin{enumerate*}\n",
       "\\item TRUE\n",
       "\\item FALSE\n",
       "\\item TRUE\n",
       "\\item TRUE\n",
       "\\item FALSE\n",
       "\\item FALSE\n",
       "\\item FALSE\n",
       "\\item TRUE\n",
       "\\end{enumerate*}\n"
      ],
      "text/markdown": [
       "1. TRUE\n",
       "2. FALSE\n",
       "3. TRUE\n",
       "4. TRUE\n",
       "5. FALSE\n",
       "6. FALSE\n",
       "7. FALSE\n",
       "8. TRUE\n",
       "\n",
       "\n"
      ],
      "text/plain": [
       "[1]  TRUE FALSE  TRUE  TRUE FALSE FALSE FALSE  TRUE"
      ]
     },
     "metadata": {},
     "output_type": "display_data"
    }
   ],
   "source": [
    "# zyx\n",
    "result_zyx <- vector(length=8)\n",
    "for (j in 1:8) {\n",
    "    result_zyx[j] <- F(bc[j,3],bc[j,2],bc[j,1])\n",
    "}\n",
    "result_zyx == F_values"
   ]
  },
  {
   "cell_type": "code",
   "execution_count": 51,
   "metadata": {},
   "outputs": [],
   "source": [
    "answer_dictionary[2] <- 'yxz'"
   ]
  },
  {
   "cell_type": "markdown",
   "metadata": {},
   "source": [
    "## 3.\n",
    "Между четырьмя местными аэропортами: `ЛЕСНОЙ`, `КРАЙ`, `ЗИМА` и `ПОЛЯНА` ежедневно выполняются авиарейсы. \n",
    "\n",
    "Приведён фрагмент расписания перелётов между ними.\n",
    "\n",
    "---\n",
    "\n",
    "Between the four local airports: `ЛЕСНОЙ`, `КРАЙ`, `ЗИМА` and `ПОЛЯНА`, flights are performed daily.\n",
    "\n",
    "A fragment of the flight schedule between them is given.\n",
    "\n",
    "| Аэропорт вылета | Аэропорт прилёта | Время вылета | Время прилёта |\n",
    "|-|-|-|-|\n",
    "| ЛЕСНОЙ | ПОЛЯНА | 13:10 | 17:15 | \n",
    "| ЗИМА | КРАЙ | 13:00 | 14:30 |\n",
    "| ЗИМА | ЛЕСНОЙ | 12:10 | 14:20 |\n",
    "| ПОЛЯНА | ЗИМА | 11:15 | 15:30 |\n",
    "| ЛЕСНОЙ | ЗИМА | 12:35 | 14:50 |\n",
    "| КРАЙ | ЗИМА | 12:30 | 14:20 |\n",
    "| ЛЕСНОЙ | КРАЙ | 10:30 | 12:15 |\n",
    "| КРАЙ | ПОЛЯНА | 14:40 | 16:45 |\n",
    "| ПОЛЯНА | КРАЙ | 15:15 | 17:20 |\n",
    "| ЗИМА | ПОЛЯНА | 14:30 | 16:20 |\n",
    "\n",
    "Путешественник оказался в аэропорту `ЛЕСНОЙ` в полночь (0:00). \n",
    "\n",
    "Определите самое раннее время, когда он может попасть в аэропорт `ПОЛЯНА`.\n",
    "\n",
    "---\n",
    "\n",
    "The traveler was at the airport `ЛЕСНОЙ` at midnight (0:00).\n",
    "\n",
    "Determine the earliest time when he can get to the airport `ПОЛЯНА`."
   ]
  },
  {
   "cell_type": "code",
   "execution_count": 55,
   "metadata": {},
   "outputs": [
    {
     "data": {
      "text/html": [
       "<table>\n",
       "<thead><tr><th scope=col>Аэропорт.вылета</th><th scope=col>Аэропорт.прилета</th><th scope=col>Время.вылета</th><th scope=col>Время.прилета</th></tr></thead>\n",
       "<tbody>\n",
       "\t<tr><td>ЛЕСНОЙ</td><td>ПОЛЯНА</td><td>13:10 </td><td>17:15 </td></tr>\n",
       "\t<tr><td>ЗИМА  </td><td>КРАЙ  </td><td>13:00 </td><td>14:30 </td></tr>\n",
       "\t<tr><td>ЗИМА  </td><td>ЛЕСНОЙ</td><td>12:10 </td><td>14:20 </td></tr>\n",
       "\t<tr><td>ПОЛЯНА</td><td>ЗИМА  </td><td>11:15 </td><td>15:30 </td></tr>\n",
       "\t<tr><td>ЛЕСНОЙ</td><td>ЗИМА  </td><td>12:35 </td><td>14:50 </td></tr>\n",
       "\t<tr><td>КРАЙ  </td><td>ЗИМА  </td><td>12:30 </td><td>14:20 </td></tr>\n",
       "\t<tr><td>ЛЕСНОЙ</td><td>КРАЙ  </td><td>10:30 </td><td>12:15 </td></tr>\n",
       "\t<tr><td>КРАЙ  </td><td>ПОЛЯНА</td><td>14:40 </td><td>16:45 </td></tr>\n",
       "\t<tr><td>ПОЛЯНА</td><td>КРАЙ  </td><td>15:15 </td><td>17:20 </td></tr>\n",
       "\t<tr><td>ЗИМА  </td><td>ПОЛЯНА</td><td>14:30 </td><td>16:20 </td></tr>\n",
       "</tbody>\n",
       "</table>\n"
      ],
      "text/latex": [
       "\\begin{tabular}{r|llll}\n",
       " Аэропорт.вылета & Аэропорт.прилета & Время.вылета & Время.прилета\\\\\n",
       "\\hline\n",
       "\t ЛЕСНОЙ & ПОЛЯНА & 13:10  & 17:15 \\\\\n",
       "\t ЗИМА   & КРАЙ   & 13:00  & 14:30 \\\\\n",
       "\t ЗИМА   & ЛЕСНОЙ & 12:10  & 14:20 \\\\\n",
       "\t ПОЛЯНА & ЗИМА   & 11:15  & 15:30 \\\\\n",
       "\t ЛЕСНОЙ & ЗИМА   & 12:35  & 14:50 \\\\\n",
       "\t КРАЙ   & ЗИМА   & 12:30  & 14:20 \\\\\n",
       "\t ЛЕСНОЙ & КРАЙ   & 10:30  & 12:15 \\\\\n",
       "\t КРАЙ   & ПОЛЯНА & 14:40  & 16:45 \\\\\n",
       "\t ПОЛЯНА & КРАЙ   & 15:15  & 17:20 \\\\\n",
       "\t ЗИМА   & ПОЛЯНА & 14:30  & 16:20 \\\\\n",
       "\\end{tabular}\n"
      ],
      "text/markdown": [
       "\n",
       "Аэропорт.вылета | Аэропорт.прилета | Время.вылета | Время.прилета | \n",
       "|---|---|---|---|---|---|---|---|---|---|\n",
       "| ЛЕСНОЙ | ПОЛЯНА | 13:10  | 17:15  | \n",
       "| ЗИМА   | КРАЙ   | 13:00  | 14:30  | \n",
       "| ЗИМА   | ЛЕСНОЙ | 12:10  | 14:20  | \n",
       "| ПОЛЯНА | ЗИМА   | 11:15  | 15:30  | \n",
       "| ЛЕСНОЙ | ЗИМА   | 12:35  | 14:50  | \n",
       "| КРАЙ   | ЗИМА   | 12:30  | 14:20  | \n",
       "| ЛЕСНОЙ | КРАЙ   | 10:30  | 12:15  | \n",
       "| КРАЙ   | ПОЛЯНА | 14:40  | 16:45  | \n",
       "| ПОЛЯНА | КРАЙ   | 15:15  | 17:20  | \n",
       "| ЗИМА   | ПОЛЯНА | 14:30  | 16:20  | \n",
       "\n",
       "\n"
      ],
      "text/plain": [
       "   Аэропорт.вылета Аэропорт.прилета Время.вылета Время.прилета\n",
       "1  ЛЕСНОЙ          ПОЛЯНА           13:10        17:15        \n",
       "2  ЗИМА            КРАЙ             13:00        14:30        \n",
       "3  ЗИМА            ЛЕСНОЙ           12:10        14:20        \n",
       "4  ПОЛЯНА          ЗИМА             11:15        15:30        \n",
       "5  ЛЕСНОЙ          ЗИМА             12:35        14:50        \n",
       "6  КРАЙ            ЗИМА             12:30        14:20        \n",
       "7  ЛЕСНОЙ          КРАЙ             10:30        12:15        \n",
       "8  КРАЙ            ПОЛЯНА           14:40        16:45        \n",
       "9  ПОЛЯНА          КРАЙ             15:15        17:20        \n",
       "10 ЗИМА            ПОЛЯНА           14:30        16:20        "
      ]
     },
     "metadata": {},
     "output_type": "display_data"
    }
   ],
   "source": [
    "time_out <- c('13:10', '13:00', '12:10', '11:15', '12:35',\n",
    "              '12:30', '10:30', '14:40', '15:15', '14:30')\n",
    "\n",
    "time_in <- c('17:15', '14:30', '14:20', '15:30', '14:50',\n",
    "             '14:20', '12:15', '16:45', '17:20', '16:20')\n",
    "\n",
    "schedule <- data.frame(\n",
    "    'Аэропорт вылета' = c('ЛЕСНОЙ', 'ЗИМА', 'ЗИМА', 'ПОЛЯНА', 'ЛЕСНОЙ',\n",
    "                        'КРАЙ', 'ЛЕСНОЙ', 'КРАЙ', 'ПОЛЯНА', 'ЗИМА'), \n",
    "    'Аэропорт прилета' = c('ПОЛЯНА', 'КРАЙ', 'ЛЕСНОЙ', 'ЗИМА', 'ЗИМА',\n",
    "                        'ЗИМА', 'КРАЙ', 'ПОЛЯНА', 'КРАЙ', 'ПОЛЯНА'), \n",
    "    'Время вылета' = format(strptime(time_out, format='%H:%M'), '%H:%M'),\n",
    "    'Время прилета' = format(strptime(time_in, format='%H:%M'), '%H:%M'))\n",
    "\n",
    "schedule"
   ]
  },
  {
   "cell_type": "code",
   "execution_count": 79,
   "metadata": {},
   "outputs": [
    {
     "data": {
      "image/png": "[encoded data removed]",
      "text/plain": [
       "Plot with title “”"
      ]
     },
     "metadata": {},
     "output_type": "display_data"
    }
   ],
   "source": [
    "options(warn = -1,repr.plot.width=8,repr.plot.height=8)\n",
    "edges <- data.frame(from=schedule[1],to=schedule[2])\n",
    "t <- c(length=10)\n",
    "for (i in 1:10) {\n",
    "    t[i] <- paste(time_out[i],time_in[i],sep='->')\n",
    "}\n",
    "\n",
    "g <- graph_from_data_frame(edges, directed=TRUE)\n",
    "plot(g,\n",
    "     vertex.color=\"steelblue\",vertex.size=30,\n",
    "     edge.color=\"slategray\",edge.label=t,edge.width=2,\n",
    "     edge.curved=0.2,edge.label.cex=1.1)"
   ]
  },
  {
   "cell_type": "code",
   "execution_count": 82,
   "metadata": {},
   "outputs": [
    {
     "data": {
      "text/html": [
       "<ol>\n",
       "\t<li><ol class=list-inline>\n",
       "\t<li>'ЛЕСНОЙ'</li>\n",
       "\t<li>'ЗИМА'</li>\n",
       "\t<li>'ПОЛЯНА'</li>\n",
       "</ol>\n",
       "</li>\n",
       "\t<li><ol class=list-inline>\n",
       "\t<li>'ЛЕСНОЙ'</li>\n",
       "\t<li>'ЗИМА'</li>\n",
       "\t<li>'КРАЙ'</li>\n",
       "\t<li>'ПОЛЯНА'</li>\n",
       "</ol>\n",
       "</li>\n",
       "\t<li><ol class=list-inline>\n",
       "\t<li>'ЛЕСНОЙ'</li>\n",
       "\t<li>'ПОЛЯНА'</li>\n",
       "</ol>\n",
       "</li>\n",
       "\t<li><ol class=list-inline>\n",
       "\t<li>'ЛЕСНОЙ'</li>\n",
       "\t<li>'КРАЙ'</li>\n",
       "\t<li>'ЗИМА'</li>\n",
       "\t<li>'ПОЛЯНА'</li>\n",
       "</ol>\n",
       "</li>\n",
       "\t<li><ol class=list-inline>\n",
       "\t<li>'ЛЕСНОЙ'</li>\n",
       "\t<li>'КРАЙ'</li>\n",
       "\t<li>'ПОЛЯНА'</li>\n",
       "</ol>\n",
       "</li>\n",
       "</ol>\n"
      ],
      "text/latex": [
       "\\begin{enumerate}\n",
       "\\item \\begin{enumerate*}\n",
       "\\item 'ЛЕСНОЙ'\n",
       "\\item 'ЗИМА'\n",
       "\\item 'ПОЛЯНА'\n",
       "\\end{enumerate*}\n",
       "\n",
       "\\item \\begin{enumerate*}\n",
       "\\item 'ЛЕСНОЙ'\n",
       "\\item 'ЗИМА'\n",
       "\\item 'КРАЙ'\n",
       "\\item 'ПОЛЯНА'\n",
       "\\end{enumerate*}\n",
       "\n",
       "\\item \\begin{enumerate*}\n",
       "\\item 'ЛЕСНОЙ'\n",
       "\\item 'ПОЛЯНА'\n",
       "\\end{enumerate*}\n",
       "\n",
       "\\item \\begin{enumerate*}\n",
       "\\item 'ЛЕСНОЙ'\n",
       "\\item 'КРАЙ'\n",
       "\\item 'ЗИМА'\n",
       "\\item 'ПОЛЯНА'\n",
       "\\end{enumerate*}\n",
       "\n",
       "\\item \\begin{enumerate*}\n",
       "\\item 'ЛЕСНОЙ'\n",
       "\\item 'КРАЙ'\n",
       "\\item 'ПОЛЯНА'\n",
       "\\end{enumerate*}\n",
       "\n",
       "\\end{enumerate}\n"
      ],
      "text/markdown": [
       "1. 1. 'ЛЕСНОЙ'\n",
       "2. 'ЗИМА'\n",
       "3. 'ПОЛЯНА'\n",
       "\n",
       "\n",
       "\n",
       "2. 1. 'ЛЕСНОЙ'\n",
       "2. 'ЗИМА'\n",
       "3. 'КРАЙ'\n",
       "4. 'ПОЛЯНА'\n",
       "\n",
       "\n",
       "\n",
       "3. 1. 'ЛЕСНОЙ'\n",
       "2. 'ПОЛЯНА'\n",
       "\n",
       "\n",
       "\n",
       "4. 1. 'ЛЕСНОЙ'\n",
       "2. 'КРАЙ'\n",
       "3. 'ЗИМА'\n",
       "4. 'ПОЛЯНА'\n",
       "\n",
       "\n",
       "\n",
       "5. 1. 'ЛЕСНОЙ'\n",
       "2. 'КРАЙ'\n",
       "3. 'ПОЛЯНА'\n",
       "\n",
       "\n",
       "\n",
       "\n",
       "\n"
      ],
      "text/plain": [
       "[[1]]\n",
       "[1] \"ЛЕСНОЙ\" \"ЗИМА\"   \"ПОЛЯНА\"\n",
       "\n",
       "[[2]]\n",
       "[1] \"ЛЕСНОЙ\" \"ЗИМА\"   \"КРАЙ\"   \"ПОЛЯНА\"\n",
       "\n",
       "[[3]]\n",
       "[1] \"ЛЕСНОЙ\" \"ПОЛЯНА\"\n",
       "\n",
       "[[4]]\n",
       "[1] \"ЛЕСНОЙ\" \"КРАЙ\"   \"ЗИМА\"   \"ПОЛЯНА\"\n",
       "\n",
       "[[5]]\n",
       "[1] \"ЛЕСНОЙ\" \"КРАЙ\"   \"ПОЛЯНА\"\n"
      ]
     },
     "metadata": {},
     "output_type": "display_data"
    }
   ],
   "source": [
    "paths <- all_simple_paths(g,'ЛЕСНОЙ','ПОЛЯНА')\n",
    "paths <- lapply(1:length(paths), function(x) as_ids(paths[[x]]))\n",
    "paths"
   ]
  },
  {
   "cell_type": "code",
   "execution_count": 83,
   "metadata": {},
   "outputs": [],
   "source": [
    "# ['ЛЕСНОЙ', 'КРАЙ', 'ЗИМА', 'ПОЛЯНА'] -> ['10:30-12:15', '12:30-14:20', '14:30-16:20']\n",
    "answer_dictionary[3] <-'16:20'"
   ]
  },
  {
   "cell_type": "markdown",
   "metadata": {},
   "source": [
    "## 4.\n",
    "В папке `С: \\Documents\\May` находятся следующие файлы и только они:\n",
    "\n",
    "- `taram.doc, panam.docx, am.dat, gam.doc, gram.docx`.\n",
    "\n",
    "К этим файлам применили следующую операцию: \n",
    "\n",
    "файлы, имена которых удовлетворяют маске `?*am.do?` переместили в папку `« . . »` относительно текущей. \n",
    "\n",
    "Сколько файлов останется в исходной папке?\n",
    "\n",
    "---\n",
    "\n",
    "In the folder `C:\\Documents\\May` there are the following files and only these:\n",
    "\n",
    "- `taram.doc, panam.docx, am.dat, gam.doc, gram.docx`.\n",
    "\n",
    "The following operation was applied to them: \n",
    "\n",
    "the files with names satisfying the mask `?*am.do?` were moved to the `« . . »` relatively to the current folder.\n",
    "\n",
    "How many files will remain in the source folder?"
   ]
  },
  {
   "cell_type": "code",
   "execution_count": 92,
   "metadata": {},
   "outputs": [],
   "source": [
    "file_list <- c('taram.doc', 'panam.docx', 'am.dat', 'gam.doc', 'gram.docx')"
   ]
  },
  {
   "cell_type": "code",
   "execution_count": 93,
   "metadata": {},
   "outputs": [
    {
     "data": {
      "text/html": [
       "<ol class=list-inline>\n",
       "\t<li>TRUE</li>\n",
       "\t<li>FALSE</li>\n",
       "\t<li>FALSE</li>\n",
       "\t<li>TRUE</li>\n",
       "\t<li>FALSE</li>\n",
       "</ol>\n"
      ],
      "text/latex": [
       "\\begin{enumerate*}\n",
       "\\item TRUE\n",
       "\\item FALSE\n",
       "\\item FALSE\n",
       "\\item TRUE\n",
       "\\item FALSE\n",
       "\\end{enumerate*}\n"
      ],
      "text/markdown": [
       "1. TRUE\n",
       "2. FALSE\n",
       "3. FALSE\n",
       "4. TRUE\n",
       "5. FALSE\n",
       "\n",
       "\n"
      ],
      "text/plain": [
       "[1]  TRUE FALSE FALSE  TRUE FALSE"
      ]
     },
     "metadata": {},
     "output_type": "display_data"
    }
   ],
   "source": [
    "moved_files <- grepl(\"^..*am\\\\.do.$\", file_list)\n",
    "moved_files"
   ]
  },
  {
   "cell_type": "code",
   "execution_count": 94,
   "metadata": {},
   "outputs": [
    {
     "data": {
      "text/html": [
       "3"
      ],
      "text/latex": [
       "3"
      ],
      "text/markdown": [
       "3"
      ],
      "text/plain": [
       "[1] 3"
      ]
     },
     "metadata": {},
     "output_type": "display_data"
    }
   ],
   "source": [
    "c <- length(file_list) - sum(moved_files)\n",
    "c"
   ]
  },
  {
   "cell_type": "code",
   "execution_count": 95,
   "metadata": {},
   "outputs": [],
   "source": [
    "answer_dictionary[4] <- toString(c)"
   ]
  },
  {
   "cell_type": "markdown",
   "metadata": {},
   "source": [
    "## 5.\n",
    "Для кодирования некоторой последовательности, состоящей из букв `A`, `B`, `C`, `D`, и `E`, \n",
    "\n",
    "используется неравномерный двоичный код, позволяющий однозначно декодировать полученную двоичную последовательность. \n",
    "\n",
    "Вот этот код:\n",
    "\n",
    "`A-110`, `B-10`, `C-01`, `D-00`, `E-111`. \n",
    "\n",
    "Можно ли сократить для одной из букв длину кодового слова так, чтобы код по-прежнему можно было декодировать однозначно? \n",
    "\n",
    "Коды остальных букв меняться не должны.\n",
    "\n",
    "Запишите ответ в виде: буква, кодовое слово. \n",
    "\n",
    "Например, если бы ответ был «Для буквы `F` новый код будет `110`», ответ нужно записать как: `F110`. \n",
    "\n",
    "Если невозможно ничего сократить, запишите в ответе просто цифру `0`.\n",
    "\n",
    "---\n",
    "\n",
    "To encode a sequence consisting of the letters `A`, `B`, `C`, `D`, and `E`, \n",
    "\n",
    "an unequal binary code is used that uniquely decodes the resulting binary sequence. \n",
    "\n",
    "Here's the code:\n",
    "\n",
    "`A-110`, `B-10`, `C-01`, `D-00`, `E-111`.\n",
    "\n",
    "Is it possible to shorten the length of a codeword for one of the letters so that the code can still be decoded uniquely? \n",
    "\n",
    "Codes of other letters should not be changed.\n",
    "\n",
    "Write down the answer in the form: a letter, a code word. \n",
    "\n",
    "For example, if the answer was \"for the letter `F` the new code will be `110`\", the answer should be written as: `F110`. \n",
    "\n",
    "If it is impossible to shorten anything, write down the answer as the number `0`."
   ]
  },
  {
   "cell_type": "markdown",
   "metadata": {},
   "source": [
    "В решении использован Алгоритм Шеннона — Фано.\n",
    "\n",
    "1) Самые короткие коды `0` и `1` не могут быть использованы в качестве кодовых слов: \n",
    "\n",
    "с каждого из этих символов уже начинается не одно кодовое слово. \n",
    "\n",
    "Значит, `01`, `10`, `00` невозможно сократить.\n",
    "\n",
    "2) `110` и `111` нельзя сократить до `11`, поскольку `11` встречается в начале двух этих слов. \n",
    "\n",
    "`110` нельзя сократить и до `10`, т.к. такой набор символов уже использован для кодирования `B`.\n",
    "\n",
    "---\n",
    "\n",
    "The solution uses the Shannon-Fano Algorithm.\n",
    "\n",
    "1) The shortest codes `0` and `1` cannot be used as code words: \n",
    "\n",
    "more than one codeword has already begun with each of these symbols. \n",
    "\n",
    "Hence, `01`,` 10`, `00` cannot be shortened.\n",
    "\n",
    "2) `110` and `111` also cannot be cut to `11`, since `11` occurs at the beginning of these two words. \n",
    "\n",
    "`110` cannot be shortened to `10` because this set of symbols has already been used to encode `B`."
   ]
  },
  {
   "cell_type": "code",
   "execution_count": 85,
   "metadata": {},
   "outputs": [],
   "source": [
    "answer_dictionary[5] <- '0'"
   ]
  },
  {
   "cell_type": "markdown",
   "metadata": {},
   "source": [
    "## 6.\n",
    "В некоторой информационной системе информация кодируется двоичными шестиразрядными словами. \n",
    "\n",
    "При передаче данных возможны их искажения, поэтому в конец каждого слова добавляется седьмой (контрольный) разряд таким образом, \n",
    "\n",
    "чтобы сумма разрядов нового слова, считая контрольный, была `чётной`. \n",
    "\n",
    "Например, к слову `101101` справа будет добавлен `0`, а к слову `010110` — `1`.\n",
    "\n",
    "После приёма слова производится его обработка. При этом проверяется сумма его разрядов, включая контрольный. \n",
    "\n",
    "Если она нечётна, это означает, что при передаче этого слова произошёл сбой, и оно автоматически заменяется на зарезервированное слово `0000000`. \n",
    "\n",
    "Если она чётна, это означает, что сбоя не было или сбоёв было больше одного. В этом случае принятое слово не изменяется.\n",
    "\n",
    "Приведём фрагмент кодовой таблицы, используемый в данной задаче:\n",
    "\n",
    "---\n",
    "\n",
    "In some information system, information is encoded in binary six-digit words. \n",
    "\n",
    "During transmitting the data, their distortions are possible, so at the end of each word the seventh (control) symbol is added so \n",
    "\n",
    "that the sum of the digits of the new word, assuming the control symbol, is `even`. \n",
    "\n",
    "For example, to the word `101101` on the right will be added `0`, and to the word `010110` - `1`.\n",
    "\n",
    "After receiving the word, it is processed. This checks the sum of its digits, including the control ones. \n",
    "\n",
    "If it is odd, this means that when the word was transmitted, a failure occurred, and it is automatically replaced by the word `0000000`. \n",
    "\n",
    "If it is even, it means there was no malfunction or there was more than one malfunction. In this case, the received word does not change.\n",
    "\n",
    "Here is the fragment of the code table used in this task:\n",
    "\n",
    "| Буква | Кодовое слово | Примечание |\n",
    "|-|-|-|\n",
    "| Letter | Code Word | Note |\n",
    "| x | 000000 | сбой / fail |\n",
    "| A | 101011 | - |\n",
    "| B | 011001 | - |\n",
    "| C | 110111 | - |\n",
    "| D | 110110 | - |\n",
    "\n",
    "Исходное сообщение АВС было передано в виде: `1010110 0110011 1101111`. \n",
    "\n",
    "И затем было принято в виде: `1110110 0110001 1101100`.\n",
    "\n",
    "Как будет выглядеть принятое сообщение после обработки? В ответе запишите последовательность букв без пробелов и знаков препинания.\n",
    "\n",
    "---\n",
    "\n",
    "The original ABC message was sent as: `1010110 0110011 1101111`.\n",
    "\n",
    "And then it was accepted in the form: `1110110 0110001 1101100`.\n",
    "\n",
    "How will the received message look after processing? In the answer, write down the sequence of letters without spaces or punctuation."
   ]
  },
  {
   "cell_type": "code",
   "execution_count": 97,
   "metadata": {},
   "outputs": [
    {
     "data": {
      "text/html": [
       "'xxD'"
      ],
      "text/latex": [
       "'xxD'"
      ],
      "text/markdown": [
       "'xxD'"
      ],
      "text/plain": [
       "[1] \"xxD\""
      ]
     },
     "metadata": {},
     "output_type": "display_data"
    }
   ],
   "source": [
    "string <- unlist(strsplit('1110110 0110001 1101100','[ ]'))\n",
    "codes <- c('101011', '011001', '110111', '110110')\n",
    "symbols <- c('A', 'B', 'C', 'D')\n",
    "result <- ''\n",
    "\n",
    "for (el in string) {\n",
    "    if (nchar(gsub(\"0\",\"\",el)) %% 2 == 1) {\n",
    "        result <- paste(result,'x',sep='')\n",
    "    } else {\n",
    "        for (i in 1:4){\n",
    "            if (substr(el,1,6) == codes[i]) {\n",
    "                result <- paste(result,symbols[i],sep='')\n",
    "            }\n",
    "        }\n",
    "    }\n",
    "}\n",
    "\n",
    "result"
   ]
  },
  {
   "cell_type": "code",
   "execution_count": 98,
   "metadata": {},
   "outputs": [],
   "source": [
    "answer_dictionary[6] <- result"
   ]
  },
  {
   "cell_type": "markdown",
   "metadata": {},
   "source": [
    "## 7.\n",
    "Дан фрагмент электронной таблицы.\n",
    "\n",
    "---\n",
    "\n",
    "The fragment of the spreadsheet is given.\n",
    "\n",
    "| | A | B | C | D |\n",
    "|-|-|-|-|-|\n",
    "| 1 | 4 | 5 |`=$А2+В$1` |  |\n",
    "| 2 | 2 | 1 |`=А1+В2` |  |\n",
    "| 3 | 7 | 6 | 3 | . |\n",
    "\n",
    "Чему станет равным значение ячейки `D2`, если в неё скопировать формулу из ячейки `C1`?\n",
    "\n",
    "Примечание: знак `$` обозначает абсолютную адресацию.\n",
    "\n",
    "---\n",
    "\n",
    "What will the value of the cell `D2` become equal if you copy the formula from the cell `C1` into it?\n",
    "\n",
    "Note: The `$` sign denotes absolute addressing."
   ]
  },
  {
   "cell_type": "markdown",
   "metadata": {},
   "source": [
    "Скопирована формула. The formula has been copied.\n",
    "<div style=\"width: 800px; height: 300px; overflow:auto;\">\n",
    "    <img src=\"it_images/2017_05_07a.png\" width=\"800\" height=\"300\"/>\n",
    "</div> "
   ]
  },
  {
   "cell_type": "markdown",
   "metadata": {},
   "source": [
    "Скопирована ячейка. The cell has been copied.\n",
    "<div style=\"width: 800px; height: 300px; overflow:auto;\">\n",
    "    <img src=\"it_images/2017_05_07b.png\" width=\"800\" height=\"300\"/> \n",
    "</div>"
   ]
  },
  {
   "cell_type": "markdown",
   "metadata": {},
   "source": [
    "В пособии в качестве правильного ответа указан случай, когда копируется ячейка.\n",
    "\n",
    "In the textbook, the correct answer is the case when the cell is copied.\n",
    "<div style=\"width: 800px; height: 480px; overflow:auto;\">\n",
    "    <img src=\"it_images/2017_05_07c.png\" width=\"800\" height=\"480\"/>\n",
    "</div>\n",
    "\n",
    "[Googel Sheet](https://drive.google.com/open?id=1PGGsrGCN9T_qA0_gitS1iEDdCNSSej0OqPs1unxIBS4)"
   ]
  },
  {
   "cell_type": "code",
   "execution_count": 101,
   "metadata": {},
   "outputs": [],
   "source": [
    "answer_dictionary[7] <- '14'"
   ]
  },
  {
   "cell_type": "markdown",
   "metadata": {},
   "source": [
    "## 8.\n",
    "Определите, что будет напечатано в результате выполнения следующего фрагмента программы:\n",
    "\n",
    "Determine what will be printed as a result of execution of the following program fragment:\n",
    "<table style=\"width:95%;\">\n",
    "  <tr style=\"color:slategray;font-size:120%;font-family:'Roboto';\">\n",
    "    <th style=\"text-align:center;\">Python</th> \n",
    "    <th style=\"text-align:center;\">R</th>          \n",
    "  </tr>\n",
    "  <tr>\n",
    "    <td style=\"font-weight:bold;text-align:left;\"><pre><code class='python'>\n",
    "\n",
    "k,s = 0,1\n",
    "while s < 1000:\n",
    "    s &#42;= 2\n",
    "    k += 5\n",
    "\n",
    "print (k)\n",
    "    </code></pre></td> \n",
    "    <td style=\"font-weight:bold;text-align:left;\"><pre><code class='r'> \n",
    "    \n",
    "k <- 0; s <- 1\n",
    "\n",
    "while (s < 1000) {\n",
    "    s <- s &#42; 2\n",
    "    k <- k + 5\n",
    "}\n",
    "\n",
    "print(k)\n",
    "    </code></pre></td>     \n",
    "  </tr> \n",
    "  <tr style=\"color:slategray;font-size:120%;font-family:'Roboto';\">\n",
    "    <th style=\"text-align:center;\">BASIC</th> \n",
    "    <th style=\"text-align:center;\">Pascal</th>          \n",
    "  </tr>\n",
    "  <tr>\n",
    "    <td style=\"font-weight:bold;text-align:left;\"><pre><code class='basic'>\n",
    "\n",
    "DIM k, s AS INTEGER\n",
    "k = 0\n",
    "s = 1\n",
    "WHILE s < 1000\n",
    "    s = s &#42; 2\n",
    "    k = k + 5\n",
    "WEND\n",
    "PRINT k\n",
    "    </code></pre></td> \n",
    "    <td style=\"font-weight:bold;text-align:left;\"><pre><code class='pascal'> \n",
    "    \n",
    "var k, s : integer;\n",
    "begin\n",
    "    k := 0;\n",
    "    s := 1;\n",
    "    while s < 1000 do\n",
    "        s := s &#42; 2;\n",
    "        k := k + 5;\n",
    "    end;\n",
    "    write(k);\n",
    "end.\n",
    "    </code></pre></td>     \n",
    "  </tr>    \n",
    "  <tr style=\"color:slategray;font-size:120%;font-family:'Roboto';\">\n",
    "    <th style=\"text-align:center;\">C</th> \n",
    "    <th style=\"text-align:center;\">Natural Language Programming</th>          \n",
    "  </tr>\n",
    "  <tr>\n",
    "    <td style=\"font-weight:bold;text-align:left;\"><pre><code class='c'>\n",
    "\n",
    "{\n",
    "    int k, s;\n",
    "    k = 0;\n",
    "    s = 1;\n",
    "    while (s < 1000)\n",
    "    {\n",
    "        s = s &#42; 2;\n",
    "        k = k + 5;\n",
    "    } \n",
    "    printf(\"%d\", k);\n",
    "}\n",
    "    </code></pre></td> \n",
    "    <td style=\"font-weight:bold;text-align:left;\"><pre><code class='nlp'> \n",
    "    \n",
    "нач\n",
    "    цел k, s\n",
    "    k := 0\n",
    "    s := 1\n",
    "    нц пока s < 1000\n",
    "        s := s &#42; 2\n",
    "        k := k + 5\n",
    "    кц\n",
    "    вывод k\n",
    "кон\n",
    "    </code></pre></td>     \n",
    "  </tr>      \n",
    "</table>"
   ]
  },
  {
   "cell_type": "code",
   "execution_count": 103,
   "metadata": {},
   "outputs": [
    {
     "name": "stdout",
     "output_type": "stream",
     "text": [
      "[1] 50\n"
     ]
    }
   ],
   "source": [
    "k <- 0; s <- 1\n",
    "\n",
    "while (s < 1000) {\n",
    "    s <- s * 2\n",
    "    k <- k + 5\n",
    "}\n",
    "\n",
    "print(k)"
   ]
  },
  {
   "cell_type": "code",
   "execution_count": 104,
   "metadata": {},
   "outputs": [],
   "source": [
    "answer_dictionary[8] <- toString(k)"
   ]
  },
  {
   "cell_type": "markdown",
   "metadata": {},
   "source": [
    "## 9."
   ]
  },
  {
   "cell_type": "code",
   "execution_count": null,
   "metadata": {},
   "outputs": [],
   "source": []
  },
  {
   "cell_type": "markdown",
   "metadata": {},
   "source": [
    "## 10."
   ]
  },
  {
   "cell_type": "code",
   "execution_count": null,
   "metadata": {},
   "outputs": [],
   "source": []
  },
  {
   "cell_type": "markdown",
   "metadata": {},
   "source": [
    "## 11."
   ]
  },
  {
   "cell_type": "code",
   "execution_count": null,
   "metadata": {},
   "outputs": [],
   "source": []
  },
  {
   "cell_type": "markdown",
   "metadata": {},
   "source": [
    "## 12."
   ]
  },
  {
   "cell_type": "code",
   "execution_count": null,
   "metadata": {},
   "outputs": [],
   "source": []
  },
  {
   "cell_type": "markdown",
   "metadata": {},
   "source": [
    "## 13."
   ]
  },
  {
   "cell_type": "code",
   "execution_count": null,
   "metadata": {},
   "outputs": [],
   "source": []
  },
  {
   "cell_type": "markdown",
   "metadata": {},
   "source": [
    "## 14."
   ]
  },
  {
   "cell_type": "code",
   "execution_count": null,
   "metadata": {},
   "outputs": [],
   "source": []
  },
  {
   "cell_type": "markdown",
   "metadata": {},
   "source": [
    "## 15."
   ]
  },
  {
   "cell_type": "code",
   "execution_count": null,
   "metadata": {},
   "outputs": [],
   "source": []
  },
  {
   "cell_type": "markdown",
   "metadata": {},
   "source": [
    "## 16."
   ]
  },
  {
   "cell_type": "code",
   "execution_count": null,
   "metadata": {},
   "outputs": [],
   "source": []
  },
  {
   "cell_type": "markdown",
   "metadata": {},
   "source": [
    "## 17."
   ]
  },
  {
   "cell_type": "code",
   "execution_count": null,
   "metadata": {},
   "outputs": [],
   "source": []
  },
  {
   "cell_type": "markdown",
   "metadata": {},
   "source": [
    "## 18."
   ]
  },
  {
   "cell_type": "code",
   "execution_count": null,
   "metadata": {},
   "outputs": [],
   "source": []
  },
  {
   "cell_type": "markdown",
   "metadata": {},
   "source": [
    "## 19."
   ]
  },
  {
   "cell_type": "code",
   "execution_count": null,
   "metadata": {},
   "outputs": [],
   "source": []
  },
  {
   "cell_type": "markdown",
   "metadata": {},
   "source": [
    "## 20."
   ]
  },
  {
   "cell_type": "code",
   "execution_count": null,
   "metadata": {},
   "outputs": [],
   "source": []
  },
  {
   "cell_type": "markdown",
   "metadata": {},
   "source": [
    "## 21."
   ]
  },
  {
   "cell_type": "code",
   "execution_count": null,
   "metadata": {},
   "outputs": [],
   "source": []
  },
  {
   "cell_type": "markdown",
   "metadata": {},
   "source": [
    "## 22."
   ]
  },
  {
   "cell_type": "code",
   "execution_count": null,
   "metadata": {},
   "outputs": [],
   "source": []
  },
  {
   "cell_type": "markdown",
   "metadata": {},
   "source": [
    "## 23."
   ]
  },
  {
   "cell_type": "code",
   "execution_count": null,
   "metadata": {},
   "outputs": [],
   "source": []
  },
  {
   "cell_type": "markdown",
   "metadata": {},
   "source": [
    "## Часть 2 &nbsp; &nbsp; &nbsp;​ Part 2\n",
    "## 24."
   ]
  },
  {
   "cell_type": "code",
   "execution_count": null,
   "metadata": {},
   "outputs": [],
   "source": []
  },
  {
   "cell_type": "markdown",
   "metadata": {},
   "source": [
    "## 25."
   ]
  },
  {
   "cell_type": "code",
   "execution_count": null,
   "metadata": {},
   "outputs": [],
   "source": []
  },
  {
   "cell_type": "markdown",
   "metadata": {},
   "source": [
    "## 26."
   ]
  },
  {
   "cell_type": "code",
   "execution_count": null,
   "metadata": {},
   "outputs": [],
   "source": []
  },
  {
   "cell_type": "markdown",
   "metadata": {},
   "source": [
    "## 27."
   ]
  },
  {
   "cell_type": "code",
   "execution_count": null,
   "metadata": {},
   "outputs": [],
   "source": []
  },
  {
   "cell_type": "markdown",
   "metadata": {},
   "source": [
    "## Ответы &nbsp; &nbsp; &nbsp; Answers"
   ]
  },
  {
   "cell_type": "code",
   "execution_count": 105,
   "metadata": {},
   "outputs": [
    {
     "data": {
      "text/plain": [
       "<hash> containing 8 key-value pair(s).\n",
       "  1 : 3\n",
       "  2 : yxz\n",
       "  3 : 16:20\n",
       "  4 : 3\n",
       "  5 : 0\n",
       "  6 : xxD\n",
       "  7 : 14\n",
       "  8 : 50"
      ]
     },
     "metadata": {},
     "output_type": "display_data"
    }
   ],
   "source": [
    "answer_dictionary"
   ]
  },
  {
   "cell_type": "code",
   "execution_count": null,
   "metadata": {},
   "outputs": [],
   "source": []
  }
 ],
 "metadata": {
  "kernelspec": {
   "display_name": "R",
   "language": "R",
   "name": "ir"
  },
  "language_info": {
   "codemirror_mode": "r",
   "file_extension": ".r",
   "mimetype": "text/x-r-source",
   "name": "R",
   "pygments_lexer": "r",
   "version": "3.5.0"
  }
 },
 "nbformat": 4,
 "nbformat_minor": 2
}
