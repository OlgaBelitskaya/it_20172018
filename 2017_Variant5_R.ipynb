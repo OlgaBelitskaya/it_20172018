{
 "cells": [
  {
   "cell_type": "markdown",
   "metadata": {},
   "source": [
    "# ЕГЭ 2017 Вариант 5 &nbsp; &nbsp; &nbsp; EGE 2017 Variant 5\n",
    "[ЕГЭ-2017. Информатика.10 тренировочных вариантов. Ушаков Д.М.](https://drive.google.com/file/d/0B6696ckkWj_zS2ptblAxNERHZzQ/view)\n",
    "\n",
    "[Basic Regular Expressions in R Cheatsheet](https://www.rstudio.com/wp-content/uploads/2016/09/RegExCheatsheet.pdf)\n",
    "\n",
    "[DataFlair: R Tutorials](https://data-flair.training/blogs/category/r/)\n",
    "\n",
    "[Алгоритм Шеннона — Фано](https://ru.wikipedia.org/wiki/%D0%90%D0%BB%D0%B3%D0%BE%D1%80%D0%B8%D1%82%D0%BC_%D0%A8%D0%B5%D0%BD%D0%BD%D0%BE%D0%BD%D0%B0_%E2%80%94_%D0%A4%D0%B0%D0%BD%D0%BE)\n",
    "\n",
    "[IPv4 - Address Classes](https://www.tutorialspoint.com/ipv4/ipv4_address_classes.htm)\n",
    "\n",
    "[Basic and advanced network visualization with R](http://www.kateto.net/wp-content/uploads/2016/04/Sunbelt%202016%20R%20Network%20Visualization%20Handout.pdf)"
   ]
  },
  {
   "cell_type": "code",
   "execution_count": 2,
   "metadata": {},
   "outputs": [],
   "source": [
    "library(IRdisplay)\n",
    "library(repr)\n",
    "library(hash)\n",
    "library(numbers)\n",
    "library(e1071)\n",
    "library(igraph)\n",
    "library(VennDiagram)"
   ]
  },
  {
   "cell_type": "code",
   "execution_count": 3,
   "metadata": {},
   "outputs": [],
   "source": [
    "# install.packages(\"\")"
   ]
  },
  {
   "cell_type": "code",
   "execution_count": 4,
   "metadata": {},
   "outputs": [],
   "source": [
    "answer_dictionary <- hash()"
   ]
  },
  {
   "cell_type": "code",
   "execution_count": 5,
   "metadata": {},
   "outputs": [
    {
     "data": {
      "text/html": [
       "<style>\n",
       "@import url('https://fonts.googleapis.com/css?family=Roboto&effect=3d|fire-animation|scuffed-steel|brick-sign');\n",
       "body {background-color: aliceblue;} \n",
       "a {color: #4876ff; font-family: 'Roboto';} \n",
       "h1 {color: #348ABD; font-family: 'Roboto'; text-shadow: 4px 4px 4px #aaa;} \n",
       "h2, h3 {color: gray; font-family: 'Roboto'; text-shadow: 4px 4px 4px #aaa;}\n",
       "h4 {color: #348ABD; font-family: 'Roboto';}\n",
       "span {text-shadow: 4px 4px 4px #aaa;}\n",
       "div.output_prompt, div.output_area pre, div.output_subarea {color: gray;}\n",
       "div.input_prompt {color: #4876ff;}      \n",
       "div.output_stderr pre {background-color: aliceblue;}  \n",
       "div.output_stderr {background-color: gray;}                        \n",
       "</style>"
      ]
     },
     "metadata": {},
     "output_type": "display_data"
    }
   ],
   "source": [
    "display_html(\"<style>\n",
    "@import url('https://fonts.googleapis.com/css?family=Roboto&effect=3d|fire-animation|scuffed-steel|brick-sign');\n",
    "body {background-color: aliceblue;} \n",
    "a {color: #4876ff; font-family: 'Roboto';} \n",
    "h1 {color: #348ABD; font-family: 'Roboto'; text-shadow: 4px 4px 4px #aaa;} \n",
    "h2, h3 {color: gray; font-family: 'Roboto'; text-shadow: 4px 4px 4px #aaa;}\n",
    "h4 {color: #348ABD; font-family: 'Roboto';}\n",
    "span {text-shadow: 4px 4px 4px #aaa;}\n",
    "div.output_prompt, div.output_area pre, div.output_subarea {color: gray;}\n",
    "div.input_prompt {color: #4876ff;}      \n",
    "div.output_stderr pre {background-color: aliceblue;}  \n",
    "div.output_stderr {background-color: gray;}                        \n",
    "</style>\")"
   ]
  },
  {
   "cell_type": "markdown",
   "metadata": {},
   "source": [
    "## Часть 1 &nbsp; &nbsp; &nbsp; Part 1\n",
    "## 1.\n",
    "Даны 4 целых числа, записанных в шестнадцатеричной системе счисления: $A5_{16}, 9F_{16}, AC_{16}, C1_{16}$. \n",
    "\n",
    "Сколько среди них чисел, которые меньше чем $265_8$?\n",
    "\n",
    "There are 4 integers written in hexadecimal notation: $A5_{16}, 9F_{16}, AC_{16}, C1_{16}$.\n",
    "\n",
    "How many of them are numbers that less than $265_8$?"
   ]
  },
  {
   "cell_type": "code",
   "execution_count": 5,
   "metadata": {},
   "outputs": [],
   "source": [
    "options(scipen = 999)\n",
    "oct2dec <- function(n) {\n",
    "  return(sapply(strsplit(as.character(n),split=\"\"), \n",
    "                function(x) sum(as.numeric(x) * 8 ** (rev(seq_along(x) - 1)))))\n",
    "}"
   ]
  },
  {
   "cell_type": "code",
   "execution_count": 6,
   "metadata": {},
   "outputs": [
    {
     "data": {
      "text/html": [
       "<ol class=list-inline>\n",
       "\t<li>165</li>\n",
       "\t<li>159</li>\n",
       "\t<li>172</li>\n",
       "\t<li>193</li>\n",
       "</ol>\n"
      ],
      "text/latex": [
       "\\begin{enumerate*}\n",
       "\\item 165\n",
       "\\item 159\n",
       "\\item 172\n",
       "\\item 193\n",
       "\\end{enumerate*}\n"
      ],
      "text/markdown": [
       "1. 165\n",
       "2. 159\n",
       "3. 172\n",
       "4. 193\n",
       "\n",
       "\n"
      ],
      "text/plain": [
       "[1] 165 159 172 193"
      ]
     },
     "metadata": {},
     "output_type": "display_data"
    }
   ],
   "source": [
    "# A5_16 = 10*16+5, 9F_16 = 9*16+15, AC_16 = 10*16+12, C1_16 = 12*16+1\n",
    "hex_numbers <- c(0xa5, 0x9f, 0xac, 0xc1)\n",
    "hex_numbers <- as.integer(sprintf(\"%d\", hex_numbers))\n",
    "hex_numbers"
   ]
  },
  {
   "cell_type": "code",
   "execution_count": 7,
   "metadata": {},
   "outputs": [
    {
     "data": {
      "text/html": [
       "181"
      ],
      "text/latex": [
       "181"
      ],
      "text/markdown": [
       "181"
      ],
      "text/plain": [
       "[1] 181"
      ]
     },
     "metadata": {},
     "output_type": "display_data"
    }
   ],
   "source": [
    "# 265_8 = 2*8^2+6*8+5\n",
    "oct_number <- oct2dec('265')\n",
    "oct_number"
   ]
  },
  {
   "cell_type": "code",
   "execution_count": 8,
   "metadata": {},
   "outputs": [
    {
     "data": {
      "text/html": [
       "3"
      ],
      "text/latex": [
       "3"
      ],
      "text/markdown": [
       "3"
      ],
      "text/plain": [
       "[1] 3"
      ]
     },
     "metadata": {},
     "output_type": "display_data"
    }
   ],
   "source": [
    "sum(hex_numbers < oct_number)"
   ]
  },
  {
   "cell_type": "code",
   "execution_count": 9,
   "metadata": {},
   "outputs": [],
   "source": [
    "answer_dictionary[1] <- toString(sum(hex_numbers < oct_number))"
   ]
  },
  {
   "cell_type": "markdown",
   "metadata": {},
   "source": [
    "## 2.\n",
    "Логическая функция $F$ задаётся выражением $(\\neg x) \\land ((\\neg y) \\lor z)$. \n",
    "\n",
    "Определите, какому столбцу таблицы истинности функции $F$ соответствует каждая из переменных $x, y, z$.\n",
    "\n",
    "The logical function $F$ is given by the expression $(\\neg x) \\land ((\\neg y) \\lor z)$. \n",
    "\n",
    "Determine which column of the truth table of $F$ corresponds to each of the variables $x, y, z$.\n",
    "\n",
    "| Перем. 1 | Перем. 2 | Перем. 3 | Функция |\n",
    "| - | - | - | - |\n",
    "| Variable 1| Variable 2 | Variable 3 | Function |\n",
    "| ??? | ??? | ??? | F|\n",
    "| 0 | 0 | 0 | 1 |\n",
    "| 0 | 0 | 1 | 1 |\n",
    "| 0 | 1 | 0 | 0 |\n",
    "| 0 | 1 | 1 | 0 |\n",
    "| 1 | 0 | 0 | 0 |\n",
    "| 1 | 0 | 1 | 1 |\n",
    "| 1 | 1 | 0 | 0 |\n",
    "| 1 | 1 | 1 | 0 |\n",
    "\n",
    "В ответе напишите буквы $x, y, z$ в том порядке, в котором идут соответствующие им столбцы \n",
    "\n",
    "(сначала — буква, соответствующая 1-му столбцу; затем — буква, соответствующая 2-му столбцу; затем — буква, соответствующая 3-му столбцу). \n",
    "\n",
    "Букве в ответе пишите подряд, никаких разделителей между буквами ставить не нужно.\n",
    "\n",
    "In the answer, write the letters $x, y, z$ in the order in which the corresponding columns go \n",
    "\n",
    "(at first, the letter corresponding to the 1st column, then the letter corresponding to the 2nd column, then the letter corresponding to the 3rd column). \n",
    "\n",
    "Write an answer in a row, delimiters between the letters are not necessary.\n",
    "\n",
    "_Пример_\n",
    "\n",
    "Пусть задано выражение $x \\to y$, зависящее от двух переменных $x$ и $y$, и таблица истинности:\n",
    "\n",
    "_Example_\n",
    "\n",
    "The expression $x \\to y$ is given. It depends on two variables $x$ and $y$, and the truth table is:\n",
    "\n",
    "| Перем. 1 | Перем. 2 | Функция |\n",
    "| - | - | - |\n",
    "| Variable 1| Variable 2 | Function |\n",
    "| ??? | ??? | F |\n",
    "| 0 | 0 | 1 | \n",
    "| 1 | 0 | 1 |\n",
    "| 0 | 1 | 0 |\n",
    "| 1 | 1 | 1 |\n",
    "\n",
    "Тогда 1-му столбцу соответствует переменная $y$, а 2-му столбцу соответствует переменная $x$. В ответе нужно написать: $yx$.\n",
    "\n",
    "---\n",
    "\n",
    "Then the first column corresponds to the variable $y$, and the second column corresponds to the variable $x$. The answer is $yx$."
   ]
  },
  {
   "cell_type": "markdown",
   "metadata": {},
   "source": [
    "Значение логической функции $F = 0$ при $\\neg x = 0 \\iff x = 1$. \n",
    "\n",
    "Это верно только переменной 2 в данной таблице истинности => $х == Перем.2$\n",
    "\n",
    "Кроме того, $F = 0$  при $(\\neg y) \\lor z = 0 \\iff (y,z) = (1,0)$. \n",
    "\n",
    "Это условие выполняется только при $y == Перем.1; z == Перем.3$ \n",
    "\n",
    "---\n",
    "\n",
    "The value of the logical function $F = 0$ for $\\neg x = 0 \\iff x = 1$. \n",
    "\n",
    "This is right only for the variable 2 in this truth table => $x == Перем.2$\n",
    "\n",
    "In addition, $F = 0$ for $(\\neg y) \\lor z = 0 \\iff (y, z) = (1,0)$. \n",
    "\n",
    "This condition is met only when $y == Перем.1; z == Перем.3 $"
   ]
  },
  {
   "cell_type": "code",
   "execution_count": 10,
   "metadata": {},
   "outputs": [
    {
     "data": {
      "text/html": [
       "<table>\n",
       "<tbody>\n",
       "\t<tr><td>0</td><td>0</td><td>0</td></tr>\n",
       "\t<tr><td>0</td><td>0</td><td>1</td></tr>\n",
       "\t<tr><td>0</td><td>1</td><td>0</td></tr>\n",
       "\t<tr><td>0</td><td>1</td><td>1</td></tr>\n",
       "\t<tr><td>1</td><td>0</td><td>0</td></tr>\n",
       "\t<tr><td>1</td><td>0</td><td>1</td></tr>\n",
       "\t<tr><td>1</td><td>1</td><td>0</td></tr>\n",
       "\t<tr><td>1</td><td>1</td><td>1</td></tr>\n",
       "</tbody>\n",
       "</table>\n"
      ],
      "text/latex": [
       "\\begin{tabular}{lll}\n",
       "\t 0 & 0 & 0\\\\\n",
       "\t 0 & 0 & 1\\\\\n",
       "\t 0 & 1 & 0\\\\\n",
       "\t 0 & 1 & 1\\\\\n",
       "\t 1 & 0 & 0\\\\\n",
       "\t 1 & 0 & 1\\\\\n",
       "\t 1 & 1 & 0\\\\\n",
       "\t 1 & 1 & 1\\\\\n",
       "\\end{tabular}\n"
      ],
      "text/markdown": [
       "\n",
       "| 0 | 0 | 0 | \n",
       "| 0 | 0 | 1 | \n",
       "| 0 | 1 | 0 | \n",
       "| 0 | 1 | 1 | \n",
       "| 1 | 0 | 0 | \n",
       "| 1 | 0 | 1 | \n",
       "| 1 | 1 | 0 | \n",
       "| 1 | 1 | 1 | \n",
       "\n",
       "\n"
      ],
      "text/plain": [
       "     [,1] [,2] [,3]\n",
       "[1,] 0    0    0   \n",
       "[2,] 0    0    1   \n",
       "[3,] 0    1    0   \n",
       "[4,] 0    1    1   \n",
       "[5,] 1    0    0   \n",
       "[6,] 1    0    1   \n",
       "[7,] 1    1    0   \n",
       "[8,] 1    1    1   "
      ]
     },
     "metadata": {},
     "output_type": "display_data"
    }
   ],
   "source": [
    "bc <- bincombinations(3)\n",
    "bc "
   ]
  },
  {
   "cell_type": "code",
   "execution_count": 11,
   "metadata": {},
   "outputs": [],
   "source": [
    "F_values <- c(1,1,0,0,0,1,0,0)\n",
    "F <- function(x, y, z) {\n",
    "    return((!x) & ((!y) | z)) \n",
    "}"
   ]
  },
  {
   "cell_type": "code",
   "execution_count": 12,
   "metadata": {},
   "outputs": [
    {
     "data": {
      "text/html": [
       "<ol class=list-inline>\n",
       "\t<li>TRUE</li>\n",
       "\t<li>TRUE</li>\n",
       "\t<li>TRUE</li>\n",
       "\t<li>FALSE</li>\n",
       "\t<li>TRUE</li>\n",
       "\t<li>FALSE</li>\n",
       "\t<li>TRUE</li>\n",
       "\t<li>TRUE</li>\n",
       "</ol>\n"
      ],
      "text/latex": [
       "\\begin{enumerate*}\n",
       "\\item TRUE\n",
       "\\item TRUE\n",
       "\\item TRUE\n",
       "\\item FALSE\n",
       "\\item TRUE\n",
       "\\item FALSE\n",
       "\\item TRUE\n",
       "\\item TRUE\n",
       "\\end{enumerate*}\n"
      ],
      "text/markdown": [
       "1. TRUE\n",
       "2. TRUE\n",
       "3. TRUE\n",
       "4. FALSE\n",
       "5. TRUE\n",
       "6. FALSE\n",
       "7. TRUE\n",
       "8. TRUE\n",
       "\n",
       "\n"
      ],
      "text/plain": [
       "[1]  TRUE  TRUE  TRUE FALSE  TRUE FALSE  TRUE  TRUE"
      ]
     },
     "metadata": {},
     "output_type": "display_data"
    }
   ],
   "source": [
    "# xyz\n",
    "result_xyz <- vector(length=8)\n",
    "for (j in 1:8) {\n",
    "    result_xyz[j] <- F(bc[j,1],bc[j,2],bc[j,3])\n",
    "}\n",
    "result_xyz == F_values"
   ]
  },
  {
   "cell_type": "code",
   "execution_count": 13,
   "metadata": {},
   "outputs": [
    {
     "data": {
      "text/html": [
       "<ol class=list-inline>\n",
       "\t<li>TRUE</li>\n",
       "\t<li>FALSE</li>\n",
       "\t<li>FALSE</li>\n",
       "\t<li>FALSE</li>\n",
       "\t<li>TRUE</li>\n",
       "\t<li>FALSE</li>\n",
       "\t<li>TRUE</li>\n",
       "\t<li>TRUE</li>\n",
       "</ol>\n"
      ],
      "text/latex": [
       "\\begin{enumerate*}\n",
       "\\item TRUE\n",
       "\\item FALSE\n",
       "\\item FALSE\n",
       "\\item FALSE\n",
       "\\item TRUE\n",
       "\\item FALSE\n",
       "\\item TRUE\n",
       "\\item TRUE\n",
       "\\end{enumerate*}\n"
      ],
      "text/markdown": [
       "1. TRUE\n",
       "2. FALSE\n",
       "3. FALSE\n",
       "4. FALSE\n",
       "5. TRUE\n",
       "6. FALSE\n",
       "7. TRUE\n",
       "8. TRUE\n",
       "\n",
       "\n"
      ],
      "text/plain": [
       "[1]  TRUE FALSE FALSE FALSE  TRUE FALSE  TRUE  TRUE"
      ]
     },
     "metadata": {},
     "output_type": "display_data"
    }
   ],
   "source": [
    "# xzy\n",
    "result_xzy <- vector(length=8)\n",
    "for (j in 1:8) {\n",
    "    result_xzy[j] <- F(bc[j,1],bc[j,3],bc[j,2])\n",
    "}\n",
    "result_xzy == F_values"
   ]
  },
  {
   "cell_type": "code",
   "execution_count": 14,
   "metadata": {},
   "outputs": [
    {
     "data": {
      "text/html": [
       "<ol class=list-inline>\n",
       "\t<li>TRUE</li>\n",
       "\t<li>TRUE</li>\n",
       "\t<li>TRUE</li>\n",
       "\t<li>TRUE</li>\n",
       "\t<li>TRUE</li>\n",
       "\t<li>TRUE</li>\n",
       "\t<li>TRUE</li>\n",
       "\t<li>TRUE</li>\n",
       "</ol>\n"
      ],
      "text/latex": [
       "\\begin{enumerate*}\n",
       "\\item TRUE\n",
       "\\item TRUE\n",
       "\\item TRUE\n",
       "\\item TRUE\n",
       "\\item TRUE\n",
       "\\item TRUE\n",
       "\\item TRUE\n",
       "\\item TRUE\n",
       "\\end{enumerate*}\n"
      ],
      "text/markdown": [
       "1. TRUE\n",
       "2. TRUE\n",
       "3. TRUE\n",
       "4. TRUE\n",
       "5. TRUE\n",
       "6. TRUE\n",
       "7. TRUE\n",
       "8. TRUE\n",
       "\n",
       "\n"
      ],
      "text/plain": [
       "[1] TRUE TRUE TRUE TRUE TRUE TRUE TRUE TRUE"
      ]
     },
     "metadata": {},
     "output_type": "display_data"
    }
   ],
   "source": [
    "# yxz\n",
    "result_yxz <- vector(length=8)\n",
    "for (j in 1:8) {\n",
    "    result_yxz[j] <- F(bc[j,2],bc[j,1],bc[j,3])\n",
    "}\n",
    "result_yxz == F_values"
   ]
  },
  {
   "cell_type": "code",
   "execution_count": 15,
   "metadata": {},
   "outputs": [
    {
     "data": {
      "text/html": [
       "<ol class=list-inline>\n",
       "\t<li>TRUE</li>\n",
       "\t<li>FALSE</li>\n",
       "\t<li>TRUE</li>\n",
       "\t<li>TRUE</li>\n",
       "\t<li>FALSE</li>\n",
       "\t<li>TRUE</li>\n",
       "\t<li>TRUE</li>\n",
       "\t<li>TRUE</li>\n",
       "</ol>\n"
      ],
      "text/latex": [
       "\\begin{enumerate*}\n",
       "\\item TRUE\n",
       "\\item FALSE\n",
       "\\item TRUE\n",
       "\\item TRUE\n",
       "\\item FALSE\n",
       "\\item TRUE\n",
       "\\item TRUE\n",
       "\\item TRUE\n",
       "\\end{enumerate*}\n"
      ],
      "text/markdown": [
       "1. TRUE\n",
       "2. FALSE\n",
       "3. TRUE\n",
       "4. TRUE\n",
       "5. FALSE\n",
       "6. TRUE\n",
       "7. TRUE\n",
       "8. TRUE\n",
       "\n",
       "\n"
      ],
      "text/plain": [
       "[1]  TRUE FALSE  TRUE  TRUE FALSE  TRUE  TRUE  TRUE"
      ]
     },
     "metadata": {},
     "output_type": "display_data"
    }
   ],
   "source": [
    "# yzx\n",
    "result_yzx <- vector(length=8)\n",
    "for (j in 1:8) {\n",
    "    result_yzx[j] <- F(bc[j,2],bc[j,3],bc[j,1])\n",
    "}\n",
    "result_yzx == F_values"
   ]
  },
  {
   "cell_type": "code",
   "execution_count": 16,
   "metadata": {},
   "outputs": [
    {
     "data": {
      "text/html": [
       "<ol class=list-inline>\n",
       "\t<li>TRUE</li>\n",
       "\t<li>FALSE</li>\n",
       "\t<li>FALSE</li>\n",
       "\t<li>TRUE</li>\n",
       "\t<li>TRUE</li>\n",
       "\t<li>FALSE</li>\n",
       "\t<li>FALSE</li>\n",
       "\t<li>TRUE</li>\n",
       "</ol>\n"
      ],
      "text/latex": [
       "\\begin{enumerate*}\n",
       "\\item TRUE\n",
       "\\item FALSE\n",
       "\\item FALSE\n",
       "\\item TRUE\n",
       "\\item TRUE\n",
       "\\item FALSE\n",
       "\\item FALSE\n",
       "\\item TRUE\n",
       "\\end{enumerate*}\n"
      ],
      "text/markdown": [
       "1. TRUE\n",
       "2. FALSE\n",
       "3. FALSE\n",
       "4. TRUE\n",
       "5. TRUE\n",
       "6. FALSE\n",
       "7. FALSE\n",
       "8. TRUE\n",
       "\n",
       "\n"
      ],
      "text/plain": [
       "[1]  TRUE FALSE FALSE  TRUE  TRUE FALSE FALSE  TRUE"
      ]
     },
     "metadata": {},
     "output_type": "display_data"
    }
   ],
   "source": [
    "# zxy\n",
    "result_zxy <- vector(length=8)\n",
    "for (j in 1:8) {\n",
    "    result_zxy[j] <- F(bc[j,3],bc[j,1],bc[j,2])\n",
    "}\n",
    "result_zxy == F_values"
   ]
  },
  {
   "cell_type": "code",
   "execution_count": 17,
   "metadata": {},
   "outputs": [
    {
     "data": {
      "text/html": [
       "<ol class=list-inline>\n",
       "\t<li>TRUE</li>\n",
       "\t<li>FALSE</li>\n",
       "\t<li>TRUE</li>\n",
       "\t<li>TRUE</li>\n",
       "\t<li>FALSE</li>\n",
       "\t<li>FALSE</li>\n",
       "\t<li>FALSE</li>\n",
       "\t<li>TRUE</li>\n",
       "</ol>\n"
      ],
      "text/latex": [
       "\\begin{enumerate*}\n",
       "\\item TRUE\n",
       "\\item FALSE\n",
       "\\item TRUE\n",
       "\\item TRUE\n",
       "\\item FALSE\n",
       "\\item FALSE\n",
       "\\item FALSE\n",
       "\\item TRUE\n",
       "\\end{enumerate*}\n"
      ],
      "text/markdown": [
       "1. TRUE\n",
       "2. FALSE\n",
       "3. TRUE\n",
       "4. TRUE\n",
       "5. FALSE\n",
       "6. FALSE\n",
       "7. FALSE\n",
       "8. TRUE\n",
       "\n",
       "\n"
      ],
      "text/plain": [
       "[1]  TRUE FALSE  TRUE  TRUE FALSE FALSE FALSE  TRUE"
      ]
     },
     "metadata": {},
     "output_type": "display_data"
    }
   ],
   "source": [
    "# zyx\n",
    "result_zyx <- vector(length=8)\n",
    "for (j in 1:8) {\n",
    "    result_zyx[j] <- F(bc[j,3],bc[j,2],bc[j,1])\n",
    "}\n",
    "result_zyx == F_values"
   ]
  },
  {
   "cell_type": "code",
   "execution_count": 18,
   "metadata": {},
   "outputs": [],
   "source": [
    "answer_dictionary[2] <- 'yxz'"
   ]
  },
  {
   "cell_type": "markdown",
   "metadata": {},
   "source": [
    "## 3.\n",
    "Между четырьмя местными аэропортами: `ЛЕСНОЙ`, `КРАЙ`, `ЗИМА` и `ПОЛЯНА` ежедневно выполняются авиарейсы. \n",
    "\n",
    "Приведён фрагмент расписания перелётов между ними.\n",
    "\n",
    "---\n",
    "\n",
    "Between the four local airports: `ЛЕСНОЙ`, `КРАЙ`, `ЗИМА` and `ПОЛЯНА`, flights are performed daily.\n",
    "\n",
    "A fragment of the flight schedule between them is given.\n",
    "\n",
    "| Аэропорт вылета | Аэропорт прилёта | Время вылета | Время прилёта |\n",
    "|-|-|-|-|\n",
    "| ЛЕСНОЙ | ПОЛЯНА | 13:10 | 17:15 | \n",
    "| ЗИМА | КРАЙ | 13:00 | 14:30 |\n",
    "| ЗИМА | ЛЕСНОЙ | 12:10 | 14:20 |\n",
    "| ПОЛЯНА | ЗИМА | 11:15 | 15:30 |\n",
    "| ЛЕСНОЙ | ЗИМА | 12:35 | 14:50 |\n",
    "| КРАЙ | ЗИМА | 12:30 | 14:20 |\n",
    "| ЛЕСНОЙ | КРАЙ | 10:30 | 12:15 |\n",
    "| КРАЙ | ПОЛЯНА | 14:40 | 16:45 |\n",
    "| ПОЛЯНА | КРАЙ | 15:15 | 17:20 |\n",
    "| ЗИМА | ПОЛЯНА | 14:30 | 16:20 |\n",
    "\n",
    "Путешественник оказался в аэропорту `ЛЕСНОЙ` в полночь (0:00). \n",
    "\n",
    "Определите самое раннее время, когда он может попасть в аэропорт `ПОЛЯНА`.\n",
    "\n",
    "---\n",
    "\n",
    "The traveler was at the airport `ЛЕСНОЙ` at midnight (0:00).\n",
    "\n",
    "Determine the earliest time when he can get to the airport `ПОЛЯНА`."
   ]
  },
  {
   "cell_type": "code",
   "execution_count": 19,
   "metadata": {},
   "outputs": [
    {
     "data": {
      "text/html": [
       "<table>\n",
       "<thead><tr><th scope=col>Аэропорт.вылета</th><th scope=col>Аэропорт.прилета</th><th scope=col>Время.вылета</th><th scope=col>Время.прилета</th></tr></thead>\n",
       "<tbody>\n",
       "\t<tr><td>ЛЕСНОЙ</td><td>ПОЛЯНА</td><td>13:10 </td><td>17:15 </td></tr>\n",
       "\t<tr><td>ЗИМА  </td><td>КРАЙ  </td><td>13:00 </td><td>14:30 </td></tr>\n",
       "\t<tr><td>ЗИМА  </td><td>ЛЕСНОЙ</td><td>12:10 </td><td>14:20 </td></tr>\n",
       "\t<tr><td>ПОЛЯНА</td><td>ЗИМА  </td><td>11:15 </td><td>15:30 </td></tr>\n",
       "\t<tr><td>ЛЕСНОЙ</td><td>ЗИМА  </td><td>12:35 </td><td>14:50 </td></tr>\n",
       "\t<tr><td>КРАЙ  </td><td>ЗИМА  </td><td>12:30 </td><td>14:20 </td></tr>\n",
       "\t<tr><td>ЛЕСНОЙ</td><td>КРАЙ  </td><td>10:30 </td><td>12:15 </td></tr>\n",
       "\t<tr><td>КРАЙ  </td><td>ПОЛЯНА</td><td>14:40 </td><td>16:45 </td></tr>\n",
       "\t<tr><td>ПОЛЯНА</td><td>КРАЙ  </td><td>15:15 </td><td>17:20 </td></tr>\n",
       "\t<tr><td>ЗИМА  </td><td>ПОЛЯНА</td><td>14:30 </td><td>16:20 </td></tr>\n",
       "</tbody>\n",
       "</table>\n"
      ],
      "text/latex": [
       "\\begin{tabular}{r|llll}\n",
       " Аэропорт.вылета & Аэропорт.прилета & Время.вылета & Время.прилета\\\\\n",
       "\\hline\n",
       "\t ЛЕСНОЙ & ПОЛЯНА & 13:10  & 17:15 \\\\\n",
       "\t ЗИМА   & КРАЙ   & 13:00  & 14:30 \\\\\n",
       "\t ЗИМА   & ЛЕСНОЙ & 12:10  & 14:20 \\\\\n",
       "\t ПОЛЯНА & ЗИМА   & 11:15  & 15:30 \\\\\n",
       "\t ЛЕСНОЙ & ЗИМА   & 12:35  & 14:50 \\\\\n",
       "\t КРАЙ   & ЗИМА   & 12:30  & 14:20 \\\\\n",
       "\t ЛЕСНОЙ & КРАЙ   & 10:30  & 12:15 \\\\\n",
       "\t КРАЙ   & ПОЛЯНА & 14:40  & 16:45 \\\\\n",
       "\t ПОЛЯНА & КРАЙ   & 15:15  & 17:20 \\\\\n",
       "\t ЗИМА   & ПОЛЯНА & 14:30  & 16:20 \\\\\n",
       "\\end{tabular}\n"
      ],
      "text/markdown": [
       "\n",
       "Аэропорт.вылета | Аэропорт.прилета | Время.вылета | Время.прилета | \n",
       "|---|---|---|---|---|---|---|---|---|---|\n",
       "| ЛЕСНОЙ | ПОЛЯНА | 13:10  | 17:15  | \n",
       "| ЗИМА   | КРАЙ   | 13:00  | 14:30  | \n",
       "| ЗИМА   | ЛЕСНОЙ | 12:10  | 14:20  | \n",
       "| ПОЛЯНА | ЗИМА   | 11:15  | 15:30  | \n",
       "| ЛЕСНОЙ | ЗИМА   | 12:35  | 14:50  | \n",
       "| КРАЙ   | ЗИМА   | 12:30  | 14:20  | \n",
       "| ЛЕСНОЙ | КРАЙ   | 10:30  | 12:15  | \n",
       "| КРАЙ   | ПОЛЯНА | 14:40  | 16:45  | \n",
       "| ПОЛЯНА | КРАЙ   | 15:15  | 17:20  | \n",
       "| ЗИМА   | ПОЛЯНА | 14:30  | 16:20  | \n",
       "\n",
       "\n"
      ],
      "text/plain": [
       "   Аэропорт.вылета Аэропорт.прилета Время.вылета Время.прилета\n",
       "1  ЛЕСНОЙ          ПОЛЯНА           13:10        17:15        \n",
       "2  ЗИМА            КРАЙ             13:00        14:30        \n",
       "3  ЗИМА            ЛЕСНОЙ           12:10        14:20        \n",
       "4  ПОЛЯНА          ЗИМА             11:15        15:30        \n",
       "5  ЛЕСНОЙ          ЗИМА             12:35        14:50        \n",
       "6  КРАЙ            ЗИМА             12:30        14:20        \n",
       "7  ЛЕСНОЙ          КРАЙ             10:30        12:15        \n",
       "8  КРАЙ            ПОЛЯНА           14:40        16:45        \n",
       "9  ПОЛЯНА          КРАЙ             15:15        17:20        \n",
       "10 ЗИМА            ПОЛЯНА           14:30        16:20        "
      ]
     },
     "metadata": {},
     "output_type": "display_data"
    }
   ],
   "source": [
    "time_out <- c('13:10', '13:00', '12:10', '11:15', '12:35',\n",
    "              '12:30', '10:30', '14:40', '15:15', '14:30')\n",
    "\n",
    "time_in <- c('17:15', '14:30', '14:20', '15:30', '14:50',\n",
    "             '14:20', '12:15', '16:45', '17:20', '16:20')\n",
    "\n",
    "schedule <- data.frame(\n",
    "    'Аэропорт вылета' = c('ЛЕСНОЙ', 'ЗИМА', 'ЗИМА', 'ПОЛЯНА', 'ЛЕСНОЙ',\n",
    "                        'КРАЙ', 'ЛЕСНОЙ', 'КРАЙ', 'ПОЛЯНА', 'ЗИМА'), \n",
    "    'Аэропорт прилета' = c('ПОЛЯНА', 'КРАЙ', 'ЛЕСНОЙ', 'ЗИМА', 'ЗИМА',\n",
    "                        'ЗИМА', 'КРАЙ', 'ПОЛЯНА', 'КРАЙ', 'ПОЛЯНА'), \n",
    "    'Время вылета' = format(strptime(time_out, format='%H:%M'), '%H:%M'),\n",
    "    'Время прилета' = format(strptime(time_in, format='%H:%M'), '%H:%M'))\n",
    "\n",
    "schedule"
   ]
  },
  {
   "cell_type": "code",
   "execution_count": 20,
   "metadata": {},
   "outputs": [
    {
     "data": {
      "image/png": "[encoded data removed]",
      "text/plain": [
       "Plot with title “”"
      ]
     },
     "metadata": {},
     "output_type": "display_data"
    }
   ],
   "source": [
    "options(warn = -1,repr.plot.width=8,repr.plot.height=8)\n",
    "edges <- data.frame(from=schedule[1],to=schedule[2])\n",
    "t <- c(length=10)\n",
    "for (i in 1:10) {\n",
    "    t[i] <- paste(time_out[i],time_in[i],sep='->')\n",
    "}\n",
    "\n",
    "g <- graph_from_data_frame(edges, directed=TRUE)\n",
    "plot(g,\n",
    "     vertex.color=\"steelblue\",vertex.size=30,\n",
    "     edge.color=\"slategray\",edge.label=t,edge.width=2,\n",
    "     edge.curved=0.2,edge.label.cex=1.1)"
   ]
  },
  {
   "cell_type": "code",
   "execution_count": 21,
   "metadata": {},
   "outputs": [
    {
     "data": {
      "text/html": [
       "<ol>\n",
       "\t<li><ol class=list-inline>\n",
       "\t<li>'ЛЕСНОЙ'</li>\n",
       "\t<li>'ЗИМА'</li>\n",
       "\t<li>'ПОЛЯНА'</li>\n",
       "</ol>\n",
       "</li>\n",
       "\t<li><ol class=list-inline>\n",
       "\t<li>'ЛЕСНОЙ'</li>\n",
       "\t<li>'ЗИМА'</li>\n",
       "\t<li>'КРАЙ'</li>\n",
       "\t<li>'ПОЛЯНА'</li>\n",
       "</ol>\n",
       "</li>\n",
       "\t<li><ol class=list-inline>\n",
       "\t<li>'ЛЕСНОЙ'</li>\n",
       "\t<li>'ПОЛЯНА'</li>\n",
       "</ol>\n",
       "</li>\n",
       "\t<li><ol class=list-inline>\n",
       "\t<li>'ЛЕСНОЙ'</li>\n",
       "\t<li>'КРАЙ'</li>\n",
       "\t<li>'ЗИМА'</li>\n",
       "\t<li>'ПОЛЯНА'</li>\n",
       "</ol>\n",
       "</li>\n",
       "\t<li><ol class=list-inline>\n",
       "\t<li>'ЛЕСНОЙ'</li>\n",
       "\t<li>'КРАЙ'</li>\n",
       "\t<li>'ПОЛЯНА'</li>\n",
       "</ol>\n",
       "</li>\n",
       "</ol>\n"
      ],
      "text/latex": [
       "\\begin{enumerate}\n",
       "\\item \\begin{enumerate*}\n",
       "\\item 'ЛЕСНОЙ'\n",
       "\\item 'ЗИМА'\n",
       "\\item 'ПОЛЯНА'\n",
       "\\end{enumerate*}\n",
       "\n",
       "\\item \\begin{enumerate*}\n",
       "\\item 'ЛЕСНОЙ'\n",
       "\\item 'ЗИМА'\n",
       "\\item 'КРАЙ'\n",
       "\\item 'ПОЛЯНА'\n",
       "\\end{enumerate*}\n",
       "\n",
       "\\item \\begin{enumerate*}\n",
       "\\item 'ЛЕСНОЙ'\n",
       "\\item 'ПОЛЯНА'\n",
       "\\end{enumerate*}\n",
       "\n",
       "\\item \\begin{enumerate*}\n",
       "\\item 'ЛЕСНОЙ'\n",
       "\\item 'КРАЙ'\n",
       "\\item 'ЗИМА'\n",
       "\\item 'ПОЛЯНА'\n",
       "\\end{enumerate*}\n",
       "\n",
       "\\item \\begin{enumerate*}\n",
       "\\item 'ЛЕСНОЙ'\n",
       "\\item 'КРАЙ'\n",
       "\\item 'ПОЛЯНА'\n",
       "\\end{enumerate*}\n",
       "\n",
       "\\end{enumerate}\n"
      ],
      "text/markdown": [
       "1. 1. 'ЛЕСНОЙ'\n",
       "2. 'ЗИМА'\n",
       "3. 'ПОЛЯНА'\n",
       "\n",
       "\n",
       "\n",
       "2. 1. 'ЛЕСНОЙ'\n",
       "2. 'ЗИМА'\n",
       "3. 'КРАЙ'\n",
       "4. 'ПОЛЯНА'\n",
       "\n",
       "\n",
       "\n",
       "3. 1. 'ЛЕСНОЙ'\n",
       "2. 'ПОЛЯНА'\n",
       "\n",
       "\n",
       "\n",
       "4. 1. 'ЛЕСНОЙ'\n",
       "2. 'КРАЙ'\n",
       "3. 'ЗИМА'\n",
       "4. 'ПОЛЯНА'\n",
       "\n",
       "\n",
       "\n",
       "5. 1. 'ЛЕСНОЙ'\n",
       "2. 'КРАЙ'\n",
       "3. 'ПОЛЯНА'\n",
       "\n",
       "\n",
       "\n",
       "\n",
       "\n"
      ],
      "text/plain": [
       "[[1]]\n",
       "[1] \"ЛЕСНОЙ\" \"ЗИМА\"   \"ПОЛЯНА\"\n",
       "\n",
       "[[2]]\n",
       "[1] \"ЛЕСНОЙ\" \"ЗИМА\"   \"КРАЙ\"   \"ПОЛЯНА\"\n",
       "\n",
       "[[3]]\n",
       "[1] \"ЛЕСНОЙ\" \"ПОЛЯНА\"\n",
       "\n",
       "[[4]]\n",
       "[1] \"ЛЕСНОЙ\" \"КРАЙ\"   \"ЗИМА\"   \"ПОЛЯНА\"\n",
       "\n",
       "[[5]]\n",
       "[1] \"ЛЕСНОЙ\" \"КРАЙ\"   \"ПОЛЯНА\"\n"
      ]
     },
     "metadata": {},
     "output_type": "display_data"
    }
   ],
   "source": [
    "paths <- all_simple_paths(g,'ЛЕСНОЙ','ПОЛЯНА')\n",
    "paths <- lapply(1:length(paths), function(x) as_ids(paths[[x]]))\n",
    "paths"
   ]
  },
  {
   "cell_type": "code",
   "execution_count": 22,
   "metadata": {},
   "outputs": [],
   "source": [
    "# ['ЛЕСНОЙ', 'КРАЙ', 'ЗИМА', 'ПОЛЯНА'] -> ['10:30-12:15', '12:30-14:20', '14:30-16:20']\n",
    "answer_dictionary[3] <-'16:20'"
   ]
  },
  {
   "cell_type": "markdown",
   "metadata": {},
   "source": [
    "## 4.\n",
    "В папке `С: \\Documents\\May` находятся следующие файлы и только они:\n",
    "\n",
    "- `taram.doc, panam.docx, am.dat, gam.doc, gram.docx`.\n",
    "\n",
    "К этим файлам применили следующую операцию: \n",
    "\n",
    "файлы, имена которых удовлетворяют маске `?*am.do?` переместили в папку `« . . »` относительно текущей. \n",
    "\n",
    "Сколько файлов останется в исходной папке?\n",
    "\n",
    "---\n",
    "\n",
    "In the folder `C:\\Documents\\May` there are the following files and only these:\n",
    "\n",
    "- `taram.doc, panam.docx, am.dat, gam.doc, gram.docx`.\n",
    "\n",
    "The following operation was applied to them: \n",
    "\n",
    "the files with names satisfying the mask `?*am.do?` were moved to the `« . . »` relatively to the current folder.\n",
    "\n",
    "How many files will remain in the source folder?"
   ]
  },
  {
   "cell_type": "code",
   "execution_count": 23,
   "metadata": {},
   "outputs": [],
   "source": [
    "file_list <- c('taram.doc', 'panam.docx', 'am.dat', 'gam.doc', 'gram.docx')"
   ]
  },
  {
   "cell_type": "code",
   "execution_count": 24,
   "metadata": {},
   "outputs": [
    {
     "data": {
      "text/html": [
       "<ol class=list-inline>\n",
       "\t<li>TRUE</li>\n",
       "\t<li>FALSE</li>\n",
       "\t<li>FALSE</li>\n",
       "\t<li>TRUE</li>\n",
       "\t<li>FALSE</li>\n",
       "</ol>\n"
      ],
      "text/latex": [
       "\\begin{enumerate*}\n",
       "\\item TRUE\n",
       "\\item FALSE\n",
       "\\item FALSE\n",
       "\\item TRUE\n",
       "\\item FALSE\n",
       "\\end{enumerate*}\n"
      ],
      "text/markdown": [
       "1. TRUE\n",
       "2. FALSE\n",
       "3. FALSE\n",
       "4. TRUE\n",
       "5. FALSE\n",
       "\n",
       "\n"
      ],
      "text/plain": [
       "[1]  TRUE FALSE FALSE  TRUE FALSE"
      ]
     },
     "metadata": {},
     "output_type": "display_data"
    }
   ],
   "source": [
    "moved_files <- grepl(\"^..*am\\\\.do.$\", file_list)\n",
    "moved_files"
   ]
  },
  {
   "cell_type": "code",
   "execution_count": 25,
   "metadata": {},
   "outputs": [
    {
     "data": {
      "text/html": [
       "3"
      ],
      "text/latex": [
       "3"
      ],
      "text/markdown": [
       "3"
      ],
      "text/plain": [
       "[1] 3"
      ]
     },
     "metadata": {},
     "output_type": "display_data"
    }
   ],
   "source": [
    "c <- length(file_list) - sum(moved_files)\n",
    "c"
   ]
  },
  {
   "cell_type": "code",
   "execution_count": 26,
   "metadata": {},
   "outputs": [],
   "source": [
    "answer_dictionary[4] <- toString(c)"
   ]
  },
  {
   "cell_type": "markdown",
   "metadata": {},
   "source": [
    "## 5.\n",
    "Для кодирования некоторой последовательности, состоящей из букв `A`, `B`, `C`, `D`, и `E`, \n",
    "\n",
    "используется неравномерный двоичный код, позволяющий однозначно декодировать полученную двоичную последовательность. \n",
    "\n",
    "Вот этот код:\n",
    "\n",
    "`A-110`, `B-10`, `C-01`, `D-00`, `E-111`. \n",
    "\n",
    "Можно ли сократить для одной из букв длину кодового слова так, чтобы код по-прежнему можно было декодировать однозначно? \n",
    "\n",
    "Коды остальных букв меняться не должны.\n",
    "\n",
    "Запишите ответ в виде: буква, кодовое слово. \n",
    "\n",
    "Например, если бы ответ был «Для буквы `F` новый код будет `110`», ответ нужно записать как: `F110`. \n",
    "\n",
    "Если невозможно ничего сократить, запишите в ответе просто цифру `0`.\n",
    "\n",
    "---\n",
    "\n",
    "To encode a sequence consisting of the letters `A`, `B`, `C`, `D`, and `E`, \n",
    "\n",
    "an unequal binary code is used that uniquely decodes the resulting binary sequence. \n",
    "\n",
    "Here's the code:\n",
    "\n",
    "`A-110`, `B-10`, `C-01`, `D-00`, `E-111`.\n",
    "\n",
    "Is it possible to shorten the length of a codeword for one of the letters so that the code can still be decoded uniquely? \n",
    "\n",
    "Codes of other letters should not be changed.\n",
    "\n",
    "Write down the answer in the form: a letter, a code word. \n",
    "\n",
    "For example, if the answer was \"for the letter `F` the new code will be `110`\", the answer should be written as: `F110`. \n",
    "\n",
    "If it is impossible to shorten anything, write down the answer as the number `0`."
   ]
  },
  {
   "cell_type": "markdown",
   "metadata": {},
   "source": [
    "В решении использован Алгоритм Шеннона — Фано.\n",
    "\n",
    "1) Самые короткие коды `0` и `1` не могут быть использованы в качестве кодовых слов: \n",
    "\n",
    "с каждого из этих символов уже начинается не одно кодовое слово. \n",
    "\n",
    "Значит, `01`, `10`, `00` невозможно сократить.\n",
    "\n",
    "2) `110` и `111` нельзя сократить до `11`, поскольку `11` встречается в начале двух этих слов. \n",
    "\n",
    "`110` нельзя сократить и до `10`, т.к. такой набор символов уже использован для кодирования `B`.\n",
    "\n",
    "---\n",
    "\n",
    "The solution uses the Shannon-Fano Algorithm.\n",
    "\n",
    "1) The shortest codes `0` and `1` cannot be used as code words: \n",
    "\n",
    "more than one codeword has already begun with each of these symbols. \n",
    "\n",
    "Hence, `01`,` 10`, `00` cannot be shortened.\n",
    "\n",
    "2) `110` and `111` also cannot be cut to `11`, since `11` occurs at the beginning of these two words. \n",
    "\n",
    "`110` cannot be shortened to `10` because this set of symbols has already been used to encode `B`."
   ]
  },
  {
   "cell_type": "code",
   "execution_count": 85,
   "metadata": {},
   "outputs": [],
   "source": [
    "answer_dictionary[5] <- '0'"
   ]
  },
  {
   "cell_type": "markdown",
   "metadata": {},
   "source": [
    "## 6.\n",
    "В некоторой информационной системе информация кодируется двоичными шестиразрядными словами. \n",
    "\n",
    "При передаче данных возможны их искажения, поэтому в конец каждого слова добавляется седьмой (контрольный) разряд таким образом, \n",
    "\n",
    "чтобы сумма разрядов нового слова, считая контрольный, была `чётной`. \n",
    "\n",
    "Например, к слову `101101` справа будет добавлен `0`, а к слову `010110` — `1`.\n",
    "\n",
    "После приёма слова производится его обработка. При этом проверяется сумма его разрядов, включая контрольный. \n",
    "\n",
    "Если она нечётна, это означает, что при передаче этого слова произошёл сбой, и оно автоматически заменяется на зарезервированное слово `0000000`. \n",
    "\n",
    "Если она чётна, это означает, что сбоя не было или сбоёв было больше одного. В этом случае принятое слово не изменяется.\n",
    "\n",
    "Приведём фрагмент кодовой таблицы, используемый в данной задаче:\n",
    "\n",
    "---\n",
    "\n",
    "In some information system, information is encoded in binary six-digit words. \n",
    "\n",
    "During transmitting the data, their distortions are possible, so at the end of each word the seventh (control) symbol is added so \n",
    "\n",
    "that the sum of the digits of the new word, assuming the control symbol, is `even`. \n",
    "\n",
    "For example, to the word `101101` on the right will be added `0`, and to the word `010110` - `1`.\n",
    "\n",
    "After receiving the word, it is processed. This checks the sum of its digits, including the control ones. \n",
    "\n",
    "If it is odd, this means that when the word was transmitted, a failure occurred, and it is automatically replaced by the word `0000000`. \n",
    "\n",
    "If it is even, it means there was no malfunction or there was more than one malfunction. In this case, the received word does not change.\n",
    "\n",
    "Here is the fragment of the code table used in this task:\n",
    "\n",
    "| Буква | Кодовое слово | Примечание |\n",
    "|-|-|-|\n",
    "| Letter | Code Word | Note |\n",
    "| x | 000000 | сбой / fail |\n",
    "| A | 101011 | - |\n",
    "| B | 011001 | - |\n",
    "| C | 110111 | - |\n",
    "| D | 110110 | - |\n",
    "\n",
    "Исходное сообщение АВС было передано в виде: `1010110 0110011 1101111`. \n",
    "\n",
    "И затем было принято в виде: `1110110 0110001 1101100`.\n",
    "\n",
    "Как будет выглядеть принятое сообщение после обработки? В ответе запишите последовательность букв без пробелов и знаков препинания.\n",
    "\n",
    "---\n",
    "\n",
    "The original ABC message was sent as: `1010110 0110011 1101111`.\n",
    "\n",
    "And then it was accepted in the form: `1110110 0110001 1101100`.\n",
    "\n",
    "How will the received message look after processing? In the answer, write down the sequence of letters without spaces or punctuation."
   ]
  },
  {
   "cell_type": "code",
   "execution_count": 27,
   "metadata": {},
   "outputs": [
    {
     "data": {
      "text/html": [
       "'xxD'"
      ],
      "text/latex": [
       "'xxD'"
      ],
      "text/markdown": [
       "'xxD'"
      ],
      "text/plain": [
       "[1] \"xxD\""
      ]
     },
     "metadata": {},
     "output_type": "display_data"
    }
   ],
   "source": [
    "string <- unlist(strsplit('1110110 0110001 1101100','[ ]'))\n",
    "codes <- c('101011', '011001', '110111', '110110')\n",
    "symbols <- c('A', 'B', 'C', 'D')\n",
    "result <- ''\n",
    "\n",
    "for (el in string) {\n",
    "    if (nchar(gsub(\"0\",\"\",el)) %% 2 == 1) {\n",
    "        result <- paste(result,'x',sep='')\n",
    "    } else {\n",
    "        for (i in 1:4){\n",
    "            if (substr(el,1,6) == codes[i]) {\n",
    "                result <- paste(result,symbols[i],sep='')\n",
    "            }\n",
    "        }\n",
    "    }\n",
    "}\n",
    "\n",
    "result"
   ]
  },
  {
   "cell_type": "code",
   "execution_count": 28,
   "metadata": {},
   "outputs": [],
   "source": [
    "answer_dictionary[6] <- result"
   ]
  },
  {
   "cell_type": "markdown",
   "metadata": {},
   "source": [
    "## 7.\n",
    "Дан фрагмент электронной таблицы.\n",
    "\n",
    "---\n",
    "\n",
    "The fragment of the spreadsheet is given.\n",
    "\n",
    "| | A | B | C | D |\n",
    "|-|-|-|-|-|\n",
    "| 1 | 4 | 5 |`=$А2+В$1` |  |\n",
    "| 2 | 2 | 1 |`=А1+В2` |  |\n",
    "| 3 | 7 | 6 | 3 | . |\n",
    "\n",
    "Чему станет равным значение ячейки `D2`, если в неё скопировать формулу из ячейки `C1`?\n",
    "\n",
    "Примечание: знак `$` обозначает абсолютную адресацию.\n",
    "\n",
    "---\n",
    "\n",
    "What will the value of the cell `D2` become equal if you copy the formula from the cell `C1` into it?\n",
    "\n",
    "Note: The `$` sign denotes absolute addressing."
   ]
  },
  {
   "cell_type": "markdown",
   "metadata": {},
   "source": [
    "Скопирована формула. The formula has been copied.\n",
    "<div style=\"width: 800px; height: 300px; overflow:auto;\">\n",
    "    <img src=\"it_images/2017_05_07a.png\" width=\"800\" height=\"300\"/>\n",
    "</div> "
   ]
  },
  {
   "cell_type": "markdown",
   "metadata": {},
   "source": [
    "Скопирована ячейка. The cell has been copied.\n",
    "<div style=\"width: 800px; height: 300px; overflow:auto;\">\n",
    "    <img src=\"it_images/2017_05_07b.png\" width=\"800\" height=\"300\"/> \n",
    "</div>"
   ]
  },
  {
   "cell_type": "markdown",
   "metadata": {},
   "source": [
    "В пособии в качестве правильного ответа указан случай, когда копируется ячейка.\n",
    "\n",
    "In the textbook, the correct answer is the case when the cell is copied.\n",
    "<div style=\"width: 800px; height: 480px; overflow:auto;\">\n",
    "    <img src=\"it_images/2017_05_07c.png\" width=\"800\" height=\"480\"/>\n",
    "</div>\n",
    "\n",
    "[Googel Sheet](https://drive.google.com/open?id=1PGGsrGCN9T_qA0_gitS1iEDdCNSSej0OqPs1unxIBS4)"
   ]
  },
  {
   "cell_type": "code",
   "execution_count": 29,
   "metadata": {},
   "outputs": [],
   "source": [
    "answer_dictionary[7] <- '14'"
   ]
  },
  {
   "cell_type": "markdown",
   "metadata": {},
   "source": [
    "## 8.\n",
    "Определите, что будет напечатано в результате выполнения следующего фрагмента программы:\n",
    "\n",
    "Determine what will be printed as a result of execution of the following program fragment:\n",
    "<table style=\"width:95%;\">\n",
    "  <tr style=\"color:slategray;font-size:120%;font-family:'Roboto';\">\n",
    "    <th style=\"text-align:center;\">Python</th> \n",
    "    <th style=\"text-align:center;\">R</th>          \n",
    "  </tr>\n",
    "  <tr>\n",
    "    <td style=\"font-weight:bold;text-align:left;\"><pre><code class='python'>\n",
    "\n",
    "k,s = 0,1\n",
    "while s < 1000:\n",
    "    s &#42;= 2\n",
    "    k += 5\n",
    "\n",
    "print (k)\n",
    "    </code></pre></td> \n",
    "    <td style=\"font-weight:bold;text-align:left;\"><pre><code class='r'> \n",
    "    \n",
    "k <- 0; s <- 1\n",
    "\n",
    "while (s < 1000) {\n",
    "    s <- s &#42; 2\n",
    "    k <- k + 5\n",
    "}\n",
    "\n",
    "print(k)\n",
    "    </code></pre></td>     \n",
    "  </tr> \n",
    "  <tr style=\"color:slategray;font-size:120%;font-family:'Roboto';\">\n",
    "    <th style=\"text-align:center;\">BASIC</th> \n",
    "    <th style=\"text-align:center;\">Pascal</th>          \n",
    "  </tr>\n",
    "  <tr>\n",
    "    <td style=\"font-weight:bold;text-align:left;\"><pre><code class='basic'>\n",
    "\n",
    "DIM k, s AS INTEGER\n",
    "k = 0\n",
    "s = 1\n",
    "WHILE s < 1000\n",
    "    s = s &#42; 2\n",
    "    k = k + 5\n",
    "WEND\n",
    "PRINT k\n",
    "    </code></pre></td> \n",
    "    <td style=\"font-weight:bold;text-align:left;\"><pre><code class='pascal'> \n",
    "    \n",
    "var k, s : integer;\n",
    "begin\n",
    "    k := 0;\n",
    "    s := 1;\n",
    "    while s < 1000 do\n",
    "        s := s &#42; 2;\n",
    "        k := k + 5;\n",
    "    end;\n",
    "    write(k);\n",
    "end.\n",
    "    </code></pre></td>     \n",
    "  </tr>    \n",
    "  <tr style=\"color:slategray;font-size:120%;font-family:'Roboto';\">\n",
    "    <th style=\"text-align:center;\">C</th> \n",
    "    <th style=\"text-align:center;\">Natural Language Programming</th>          \n",
    "  </tr>\n",
    "  <tr>\n",
    "    <td style=\"font-weight:bold;text-align:left;\"><pre><code class='c'>\n",
    "\n",
    "{\n",
    "    int k, s;\n",
    "    k = 0;\n",
    "    s = 1;\n",
    "    while (s < 1000)\n",
    "    {\n",
    "        s = s &#42; 2;\n",
    "        k = k + 5;\n",
    "    } \n",
    "    printf(\"%d\", k);\n",
    "}\n",
    "    </code></pre></td> \n",
    "    <td style=\"font-weight:bold;text-align:left;\"><pre><code class='nlp'> \n",
    "    \n",
    "нач\n",
    "    цел k, s\n",
    "    k := 0\n",
    "    s := 1\n",
    "    нц пока s < 1000\n",
    "        s := s &#42; 2\n",
    "        k := k + 5\n",
    "    кц\n",
    "    вывод k\n",
    "кон\n",
    "    </code></pre></td>     \n",
    "  </tr>      \n",
    "</table>"
   ]
  },
  {
   "cell_type": "code",
   "execution_count": 30,
   "metadata": {},
   "outputs": [
    {
     "name": "stdout",
     "output_type": "stream",
     "text": [
      "[1] 50\n"
     ]
    }
   ],
   "source": [
    "k <- 0; s <- 1\n",
    "\n",
    "while (s < 1000) {\n",
    "    s <- s * 2\n",
    "    k <- k + 5\n",
    "}\n",
    "\n",
    "print(k)"
   ]
  },
  {
   "cell_type": "code",
   "execution_count": 31,
   "metadata": {},
   "outputs": [],
   "source": [
    "answer_dictionary[8] <- toString(k)"
   ]
  },
  {
   "cell_type": "markdown",
   "metadata": {},
   "source": [
    "## 9.\n",
    "Производится двухканальная (стерео) звукозапись с частотой дискретизации 16 кГц и 4-битным разрешением. \n",
    "\n",
    "Запись длится одну минуту, её результаты записываются в файл, сжатие данных не производится. \n",
    "\n",
    "Укажите размер полученного файла (в Мбайт) с точностью 1 Мбайт. \n",
    "\n",
    "В ответе запишите только целое число, единицу измерения писать не нужно.\n",
    "\n",
    "---\n",
    "\n",
    "A two-channel (stereo) sound recording with a sampling frequency of 16 kHz and a 4-bit resolution is produced. \n",
    "\n",
    "The recording lasts one minute, its results are written to a file, data compression is not performed. \n",
    "\n",
    "Specify the size of the received file (in MB) with an accuracy of 1 MB. \n",
    "\n",
    "In the answer, write down only an integer, you do not need to write a unit of measurement."
   ]
  },
  {
   "cell_type": "markdown",
   "metadata": {},
   "source": [
    "Показатели, позволяющие определить объем информации.\n",
    "\n",
    "- Частота дискретизации: 16 кГц, за одну секунду запоминается 16000 значений сигнала.\n",
    "- Разрешение: 4 бита.\n",
    "- Время записи: 1 минута = 60 секунд.\n",
    "- Запись двухканальная (стерео):  объём памяти для хранения данных одного канала умножается на 2.\n",
    "\n",
    "Размер полученного файла: \n",
    "\n",
    "$16000 * 4 * 60 * 2 = 7680000$ бит или $7680000 \\ / \\ 2^3 \\ / \\ 2^{20} \\approx 1$ Мбайт.\n",
    "\n",
    "---\n",
    "\n",
    "Indicators to determine the amount of information.\n",
    "\n",
    "- Sampling frequency: 16 kHz, 16000 signal values are memorized in one second.\n",
    "- Resolution: 4 bits.\n",
    "- Recording time: 1 minute = 60 seconds.\n",
    "- Two-channel recording (stereo): the amount of memory for data storage of one channel is multiplied by 2.\n",
    "\n",
    "The size of the received file:\n",
    "\n",
    "$16000 * 4 * 60 * 2 = 7680000$ bits or $7680000 \\ / \\ 2^3 \\ / \\ 2^{20} \\approx 1$ MB."
   ]
  },
  {
   "cell_type": "code",
   "execution_count": 32,
   "metadata": {},
   "outputs": [
    {
     "data": {
      "text/html": [
       "0.91552734375"
      ],
      "text/latex": [
       "0.91552734375"
      ],
      "text/markdown": [
       "0.91552734375"
      ],
      "text/plain": [
       "[1] 0.9155273"
      ]
     },
     "metadata": {},
     "output_type": "display_data"
    }
   ],
   "source": [
    "size <- 16000 * 4 * 60 * 2 / 2**3 / 2**20\n",
    "size"
   ]
  },
  {
   "cell_type": "code",
   "execution_count": 33,
   "metadata": {},
   "outputs": [],
   "source": [
    "answer_dictionary[9] <- toString(round(size))"
   ]
  },
  {
   "cell_type": "markdown",
   "metadata": {},
   "source": [
    "## 10.\n",
    "Для кодирования 500 различных сообщений используют 4 последовательных цветовых вспышки. \n",
    "\n",
    "Лампочки скольких различных цветов должны использоваться при передаче?\n",
    "\n",
    "---\n",
    "\n",
    "Four consecutive color flashes are used to encode 500 different messages. \n",
    "\n",
    "Lamps of how many different colors should be used for encoding?"
   ]
  },
  {
   "cell_type": "code",
   "execution_count": 34,
   "metadata": {},
   "outputs": [
    {
     "data": {
      "text/html": [
       "5"
      ],
      "text/latex": [
       "5"
      ],
      "text/markdown": [
       "5"
      ],
      "text/plain": [
       "[1] 5"
      ]
     },
     "metadata": {},
     "output_type": "display_data"
    }
   ],
   "source": [
    "colors <- ceiling(log(500,4))\n",
    "colors"
   ]
  },
  {
   "cell_type": "code",
   "execution_count": 35,
   "metadata": {},
   "outputs": [],
   "source": [
    "answer_dictionary[10] <- toString(colors)"
   ]
  },
  {
   "cell_type": "markdown",
   "metadata": {},
   "source": [
    "## 11.\n",
    "Дан рекурсивный алгоритм $F$. \n",
    "\n",
    "Приведите последовательность чисел (без пробелов), напечатанных на экране при выполнении вызова $F(9, 0)$?\n",
    "\n",
    "---\n",
    "\n",
    "Here is the recursive algorithm $F$. \n",
    "\n",
    "Give a sequence of numbers (without spaces) printed on the screen with calling $F (9, 0)$?"
   ]
  },
  {
   "cell_type": "markdown",
   "metadata": {},
   "source": [
    "<table style=\"width:95%;\">\n",
    "  <tr style=\"color:slategray;font-size:120%;font-family:'Roboto';\">\n",
    "    <th style=\"text-align:center;\">Python</th> \n",
    "    <th style=\"text-align:center;\">R</th>          \n",
    "  </tr>\n",
    "  <tr>\n",
    "    <td style=\"font-weight:bold;text-align:left;\"><pre><code class='python'>\n",
    "\n",
    "def F(n, k):\n",
    "    if k == 2: \n",
    "        print (n)\n",
    "    else:\n",
    "        F(int(n / 2), k + 1)\n",
    "        F(n - 3, k + 1)\n",
    "    </code></pre></td> \n",
    "    <td style=\"font-weight:bold;text-align:left;\"><pre><code class='r'> \n",
    "    \n",
    "F <- function(n, k) {\n",
    "    if (k == 2) { \n",
    "        print (n)\n",
    "    } else {\n",
    "        F(as.integer(n / 2), k + 1)\n",
    "        F(n - 3, k + 1)\n",
    "    }\n",
    "}    \n",
    "    </code></pre></td>     \n",
    "</table>"
   ]
  },
  {
   "cell_type": "code",
   "execution_count": 36,
   "metadata": {},
   "outputs": [
    {
     "name": "stdout",
     "output_type": "stream",
     "text": [
      "[1] 2\n",
      "[1] 1\n",
      "[1] 3\n",
      "[1] 3\n"
     ]
    }
   ],
   "source": [
    "F <- function(n, k) {\n",
    "    if (k == 2) { \n",
    "        print (n)\n",
    "    } else {\n",
    "        F(as.integer(n / 2), k + 1)\n",
    "        F(n - 3, k + 1)\n",
    "    }\n",
    "}\n",
    "\n",
    "F(9, 0)"
   ]
  },
  {
   "cell_type": "code",
   "execution_count": 37,
   "metadata": {},
   "outputs": [
    {
     "name": "stdout",
     "output_type": "stream",
     "text": [
      "[1] 2\n",
      "[1] 1\n",
      "[1] 3\n",
      "[1] 3\n"
     ]
    }
   ],
   "source": [
    "# расширенная версия программы\n",
    "result <- ''\n",
    "F <- function(n, k) {\n",
    "    if (k == 2) { \n",
    "        print (n)\n",
    "        result <<- paste(result,toString(n),sep='')\n",
    "    } else {\n",
    "        F(as.integer(n / 2), k + 1)\n",
    "        F(n - 3, k + 1)\n",
    "    }\n",
    "}\n",
    "\n",
    "F(9, 0)"
   ]
  },
  {
   "cell_type": "code",
   "execution_count": 38,
   "metadata": {},
   "outputs": [],
   "source": [
    "answer_dictionary[11] <- result"
   ]
  },
  {
   "cell_type": "markdown",
   "metadata": {},
   "source": [
    "## 12.\n",
    "В терминологии сетей TCP/IP маской сети называется двоичное число, определяющее, \n",
    "\n",
    "- какая часть IP-адреса узла сети относится к адресу сети, \n",
    "- а какая — к адресу самого узла в этой сети. \n",
    "\n",
    "Обычно маска записывается по тем же правилам, что и IP-адрес. \n",
    "\n",
    "Адрес сети получается в результате применения поразрядной конъюнкции к заданному IP-адресу узла и маске.\n",
    "\n",
    "По заданным IP-адресу узла и маске определите адрес сети.\n",
    "\n",
    "IP-адрес узла: `153.236.189.51`\n",
    "\n",
    "Маска: `255.255.224.0`\n",
    "\n",
    "При записи ответа выберите из приведённых в таблице чисел четыре элемента IP-адреса и \n",
    "\n",
    "запишите в нужном порядке соответствующие им буквы. Точки писать не нужно.\n",
    "\n",
    "---\n",
    "\n",
    "In the terminology of TCP / IP networks, a network mask is a binary number that specifies \n",
    "\n",
    "- what part of the IP address of the network node refers to the network address, \n",
    "- and which one to the host address in that network. \n",
    "\n",
    "Usually, the mask is written using the same rules as the IP address. \n",
    "\n",
    "The network address is obtained as a result of applying the bitwise conjunction to the specified IP address of the node and the mask.\n",
    "\n",
    "From the given IP-address of the node and the mask, determine the network address.\n",
    "\n",
    "The IP address is `153.236.189.51`\n",
    "\n",
    "The mask is: `255.255.224.0`\n",
    "\n",
    "For recording an answer, select from the numbers in the table four IP address elements and \n",
    "\n",
    "write down the corresponding letters in the desired order. Points `.` do not need to be written.\n",
    "\n",
    "| A | B | C | D | E | F | G | H |\n",
    "|-|-|-|-|-|-|-|-|\n",
    "| 0 | 51 | 153 | 160 | 189 | 224 | 236 | 255 |\n",
    "\n",
    "_Пример._\n",
    "\n",
    "Пусть искомый IP-адрес `192.168.128.0`, и дана таблица\n",
    "\n",
    "---\n",
    "\n",
    "_Example._\n",
    "\n",
    "The desired IP-address is `192.168.128.0`, and the table is given:\n",
    "\n",
    "| A | B | C | D | E | F | G | H |\n",
    "|-|-|-|-|-|-|-|-|\n",
    "| 128 | 168 | 255 | 8 | 127 | 0 | 17 | 192 |\n",
    "\n",
    "В этом случае правильный ответ будет записан в виде: `HBAF`.\n",
    "\n",
    "---\n",
    "\n",
    "In this case, the correct answer will be written in the form: `HBAF`."
   ]
  },
  {
   "cell_type": "code",
   "execution_count": 39,
   "metadata": {},
   "outputs": [],
   "source": [
    "options(scipen = 999)\n",
    "dec2bin <- function(n) {\n",
    "  if (n == 0) {\n",
    "      bv <- '0'\n",
    "  } else {\n",
    "      bv <- rep(0, 1 + floor(log(n, 2)))\n",
    "      while (n >= 2) {\n",
    "          pow <- floor(log(n, 2))\n",
    "          bv[1 + pow] <- 1\n",
    "          n <- n - 2^pow\n",
    "      }\n",
    "      bv[1] <- n %% 2\n",
    "      paste(rev(bv), collapse = \"\")\n",
    "  }\n",
    "}"
   ]
  },
  {
   "cell_type": "code",
   "execution_count": 40,
   "metadata": {},
   "outputs": [],
   "source": [
    "bin2dec <- function(n) {\n",
    "  return(sapply(strsplit(as.character(n),split=\"\"), \n",
    "                function(x) sum(as.numeric(x) * 2 ** (rev(seq_along(x) - 1)))))\n",
    "}"
   ]
  },
  {
   "cell_type": "markdown",
   "metadata": {},
   "source": [
    "Переведем IP-адрес узла и маску в бинарную форму.\n",
    "\n",
    "Let's write the IP-address of the node and the mask into a binary form."
   ]
  },
  {
   "cell_type": "code",
   "execution_count": 41,
   "metadata": {},
   "outputs": [],
   "source": [
    "ip <- unlist(strsplit('153.236.189.51','[.]'))\n",
    "mask <- unlist(strsplit('255.255.224.0','[.]'))\n",
    "\n",
    "ip_bin <- ''\n",
    "mask_bin <- '' \n",
    "\n",
    "for (i in 1:4) {\n",
    "    ip_bin_cur <- dec2bin(as.integer(ip[i]))\n",
    "    if (nchar(ip_bin_cur) < 8) {\n",
    "        for (k in 1:(8 - nchar(ip_bin_cur))) {\n",
    "           ip_bin_cur <- paste('0',ip_bin_cur,sep='') \n",
    "        }\n",
    "    }\n",
    "\n",
    "    mask_bin_cur <- dec2bin(as.integer(mask[i]))\n",
    "    if (nchar(mask_bin_cur) < 8) {\n",
    "        for (k in 1:(8 - nchar(mask_bin_cur))) {\n",
    "           mask_bin_cur <- paste('0',mask_bin_cur,sep='') \n",
    "        }\n",
    "    }\n",
    "    \n",
    "    ip_bin <- paste(ip_bin,ip_bin_cur,sep='.')\n",
    "    mask_bin <- paste(mask_bin,mask_bin_cur,sep='.')\n",
    "\n",
    "}\n",
    "\n",
    "ip_bin <- substr(ip_bin,2,nchar(ip_bin))\n",
    "mask_bin <- substr(mask_bin,2,nchar(mask_bin))"
   ]
  },
  {
   "cell_type": "code",
   "execution_count": 42,
   "metadata": {},
   "outputs": [
    {
     "data": {
      "text/html": [
       "'10011001.11101100.10111101.00110011'"
      ],
      "text/latex": [
       "'10011001.11101100.10111101.00110011'"
      ],
      "text/markdown": [
       "'10011001.11101100.10111101.00110011'"
      ],
      "text/plain": [
       "[1] \"10011001.11101100.10111101.00110011\""
      ]
     },
     "metadata": {},
     "output_type": "display_data"
    },
    {
     "data": {
      "text/html": [
       "'11111111.11111111.11100000.00000000'"
      ],
      "text/latex": [
       "'11111111.11111111.11100000.00000000'"
      ],
      "text/markdown": [
       "'11111111.11111111.11100000.00000000'"
      ],
      "text/plain": [
       "[1] \"11111111.11111111.11100000.00000000\""
      ]
     },
     "metadata": {},
     "output_type": "display_data"
    }
   ],
   "source": [
    "ip_bin; mask_bin"
   ]
  },
  {
   "cell_type": "markdown",
   "metadata": {},
   "source": [
    "Теперь можно применить поразрядную коньюнкцию.\n",
    "\n",
    "Now it is possible to apply bitwise conjunctions."
   ]
  },
  {
   "cell_type": "code",
   "execution_count": 43,
   "metadata": {},
   "outputs": [
    {
     "data": {
      "text/html": [
       "'10011001.11101100.10100000.00000000'"
      ],
      "text/latex": [
       "'10011001.11101100.10100000.00000000'"
      ],
      "text/markdown": [
       "'10011001.11101100.10100000.00000000'"
      ],
      "text/plain": [
       "[1] \"10011001.11101100.10100000.00000000\""
      ]
     },
     "metadata": {},
     "output_type": "display_data"
    }
   ],
   "source": [
    "ip_bin <- unlist(strsplit(ip_bin,''))\n",
    "mask_bin <- unlist(strsplit(mask_bin,''))\n",
    "\n",
    "net_bin <-''\n",
    "for (i in 1:35){\n",
    "    if (mask_bin[i] == '.'){\n",
    "        net_bin <- paste(net_bin,'.',sep='')\n",
    "    } else {\n",
    "        symbol <- toString(as.integer(as.integer(mask_bin[i]) & as.integer(ip_bin[i])))\n",
    "        net_bin <- paste(net_bin,symbol,sep='')\n",
    "    }\n",
    "}\n",
    "\n",
    "net_bin"
   ]
  },
  {
   "cell_type": "code",
   "execution_count": 44,
   "metadata": {},
   "outputs": [
    {
     "data": {
      "text/html": [
       "'153.236.160.0'"
      ],
      "text/latex": [
       "'153.236.160.0'"
      ],
      "text/markdown": [
       "'153.236.160.0'"
      ],
      "text/plain": [
       "[1] \"153.236.160.0\""
      ]
     },
     "metadata": {},
     "output_type": "display_data"
    }
   ],
   "source": [
    "net <- ''\n",
    "for (el in unlist(strsplit(net_bin,'[.]'))) {\n",
    "    net <- paste(net,toString(bin2dec(el)),sep='.')\n",
    "}\n",
    "net <- substr(net,2,nchar(net))\n",
    "\n",
    "net"
   ]
  },
  {
   "cell_type": "markdown",
   "metadata": {},
   "source": [
    "При замене на буквенные обозначения получается:\n",
    "\n",
    "When replacing address parts with the letters we get:"
   ]
  },
  {
   "cell_type": "code",
   "execution_count": 45,
   "metadata": {},
   "outputs": [
    {
     "data": {
      "text/html": [
       "'CGDA'"
      ],
      "text/latex": [
       "'CGDA'"
      ],
      "text/markdown": [
       "'CGDA'"
      ],
      "text/plain": [
       "[1] \"CGDA\""
      ]
     },
     "metadata": {},
     "output_type": "display_data"
    }
   ],
   "source": [
    "string <- unlist(strsplit(net,'[.]'))\n",
    "codes <- c('0','51','153','160','189','224','236','255')\n",
    "symbols <- c('A','B','C','D','E','F','G','H')\n",
    "result <- ''\n",
    "\n",
    "for (el in string) {\n",
    "    for (i in 1:8) {\n",
    "        if (el == codes[i]) {\n",
    "            result <- paste(result,symbols[i],sep='')\n",
    "        }\n",
    "    }\n",
    "}\n",
    "\n",
    "result"
   ]
  },
  {
   "cell_type": "code",
   "execution_count": 46,
   "metadata": {},
   "outputs": [],
   "source": [
    "answer_dictionary[12] <- result"
   ]
  },
  {
   "cell_type": "markdown",
   "metadata": {},
   "source": [
    "## 13.\n",
    "При регистрации в компьютерной системе каждому пользователю выдаётся пароль, \n",
    "\n",
    "- состоящий из 10 символов \n",
    "- и содержащий только символы из 17-символьного набора: A, B, C, D, E, F, G, H, K, L, M, N, P, Q, R, S, T. \n",
    "\n",
    "В базе данных для хранения сведений о каждом пользователе отведено одинаковое и минимально возможное целое число байт. \n",
    "\n",
    "При этом используют посимвольное кодирование паролей, все символы кодируют одинаковым и минимально возможным количеством бит. \n",
    "\n",
    "Кроме собственно пароля, для каждого пользователя в системе хранятся дополнительные сведения, \n",
    "\n",
    "для чего отведено целое число байт, одинаковое для всех пользователей.\n",
    "\n",
    "Для хранения сведений о 40 пользователях потребовалось 600 байт. \n",
    "\n",
    "Сколько байт выделено для хранения дополнительных сведений об одном пользователе? \n",
    "\n",
    "В ответе запишите только целое число — количество байт.\n",
    "\n",
    "---\n",
    "\n",
    "With registering in a computer system, for each user it is given a password \n",
    "\n",
    "- consisting of 10 characters \n",
    "- and containing only characters from the 17-character set: A, B, C, D, E, F, G, H, K, L, M, N, P, Q, R, S, T. \n",
    "\n",
    "The database for storing information about each user has the same and minimum possible integer number of bytes. \n",
    "\n",
    "In this case, the character-by-symbol encoding of passwords is used, all symbols are encoded with the same and the minimum possible number of bits. \n",
    "\n",
    "In addition to the password itself, another information is stored for each user in the system. \n",
    "\n",
    "For this information, an entire number of bytes is assigned and it is the same for all users.\n",
    "\n",
    "To store information about 40 users it took 600 bytes. \n",
    "\n",
    "How many bytes are allocated for storing additional information about one user? \n",
    "\n",
    "In the answer write down only the integer - the number of bytes."
   ]
  },
  {
   "cell_type": "markdown",
   "metadata": {},
   "source": [
    "1) $4 < \\log_{2}{17} < 5$ => 5 (бит) - необходимо для кодирования одной из 17 букв латинского алфавита.\n",
    "\n",
    "Количество возможных вариантов кодировки ($2^5$) не должно быть меньше количества имеющейся информации ($17$ символов), \n",
    "\n",
    "округление в данном случае - всегда в большую сторону.\n",
    "\n",
    "2) $5 * 10 = 50$ (бит) - необходимо для кодирования 10 символов пароля.\n",
    "\n",
    "3) $50 \\ / \\ 8 = 6.25 \\approx 7$ (байт) - необходимо для кодирования 10 символов пароля.\n",
    "\n",
    "Количество байт - целое число, и округление опять должно быть только в большую сторону.\n",
    "\n",
    "4) $40 * 7 = 280$ (байт) - необходимо для кодирования паролей 40 пользователей.\n",
    "\n",
    "5) $(600 - 280)\\ / \\ 40 = 8$ (байт) - выделено для хранения дополнительных сведений об одном пользователе.\n",
    "\n",
    "---\n",
    "\n",
    "1) $4 < \\log_{2}{17} < 5$ => 5 (bits) - necessary for encoding one of the 17 Latin letters.\n",
    "\n",
    "The number of possible encoding options ($2^5$) should not be less than the amount of available information($17$  symbols), \n",
    "\n",
    "rounding in this case - always on the larger side.\n",
    "\n",
    "2) $5 * 10 = 50$ (bits) - necessary for encoding 10 password symbols.\n",
    "\n",
    "3) $50 \\ / \\ 8 = 6.25 \\approx 7$ (bytes) - necessary to encode 10 characters of the password.\n",
    "\n",
    "The number of bytes is an integer, and rounding should only be on the larger side again.\n",
    "\n",
    "4) $40 * 7 = 280$ (bytes) - necessary to encode passwords of 40 users.\n",
    "\n",
    "5) $(600 - 280)\\ / \\ 40 = 8$ (bytes) - allocated to store additional information about one user."
   ]
  },
  {
   "cell_type": "code",
   "execution_count": 47,
   "metadata": {},
   "outputs": [
    {
     "data": {
      "text/html": [
       "8"
      ],
      "text/latex": [
       "8"
      ],
      "text/markdown": [
       "8"
      ],
      "text/plain": [
       "[1] 8"
      ]
     },
     "metadata": {},
     "output_type": "display_data"
    }
   ],
   "source": [
    "bits_for_one_symbol_from_17 <- ceiling(log2(17))\n",
    "bits_for_10_symbol_from_17 <- 10 * bits_for_one_symbol_from_17\n",
    "\n",
    "bytes_for_10_symbol_from_17 <- ceiling(bits_for_10_symbol_from_17 / 8)\n",
    "bytes_for_40_passwords <- 40 * bytes_for_10_symbol_from_17\n",
    "\n",
    "bytes_for_add_information <- as.integer((600 - bytes_for_40_passwords) / 40)\n",
    "bytes_for_add_information"
   ]
  },
  {
   "cell_type": "code",
   "execution_count": 48,
   "metadata": {},
   "outputs": [],
   "source": [
    "answer_dictionary[13] <- toString(bytes_for_add_information)"
   ]
  },
  {
   "cell_type": "markdown",
   "metadata": {},
   "source": [
    "## 14.\n",
    "Исполнитель `Редактор` получает на вход строку цифр и преобразовывает её. \n",
    "\n",
    "`Редактор` может выполнять две команды, в обеих командах `v` и `w` обозначают цепочки цифр.\n",
    "\n",
    "$А)$ `заменить (v, w)`.\n",
    "\n",
    "Эта команда заменяет в строке первое слева вхождение цепочки `v` на цепочку `w`. Например, выполнение команды `заменить (222, 34)` преобразует строку `77222277` в строку `7734277`. Если в строке нет вхождений цепочки `v`, то выполнение команды `заменить (v, w)` не меняет эту строку.\n",
    "\n",
    "$Б)$ `нашлось (v)`.\n",
    "\n",
    "Эта команда проверяет, встречается ли цепочка `v` в строке исполнителя `Редактор`. Если она встречается, то команда возвращает логическое значение `«истина»`, в противном случае возвращает значение `«ложь»`. Строка исполнителя при этом не изменяется.\n",
    "\n",
    "Цикл \n",
    "\n",
    "`ПОКА` $<условие>$\n",
    "\n",
    "- $ последовательность \\ команд $\n",
    "    \n",
    "`КОНЕЦ ПОКА`\n",
    "\n",
    "выполняется, пока условие истинно.\n",
    "\n",
    "В конструкции \n",
    "\n",
    "`ЕСЛИ` $<условие>$\n",
    "\n",
    "- `ТО` $команда \\ 1$\n",
    "\n",
    "- `ИНАЧЕ` $команда \\ 2$\n",
    "    \n",
    "`КОНЕЦ ЕСЛИ`\n",
    "\n",
    "выполняется `команда 1` (если условие истинно) или `команда 2` (если условие ложно).\n",
    "\n",
    "Какая строка получится в результате применения приведённой ниже программы к строке, состоящей из 65 идущих подряд цифр 4? \n",
    "\n",
    "В ответе запишите полученную строку.\n",
    "\n",
    "`НАЧАЛО`\n",
    "\n",
    "`ПОКА` $ <нашлось \\ (444)> $ `ИЛИ` $ <нашлось \\ (555)> $\n",
    "\n",
    "- `ЕСЛИ` $ <нашлось \\ (444)> $\n",
    "\n",
    "    - `ТО` $ заменить \\ (444, 5) $\n",
    "\n",
    "    - `ИНАЧЕ` $ заменить \\ (555, 4) $\n",
    "\n",
    "- `КОНЕЦ ЕСЛИ`\n",
    "\n",
    "`КОНЕЦ ПОКА`\n",
    "\n",
    "`КОНЕЦ`\n",
    "\n",
    "---\n",
    "\n",
    "The performer `Editor` receives a string of numbers as an input and converts it.\n",
    "\n",
    "`Editor` can execute two commands, in both commands, `v` and `w` denote a chain of numbers.\n",
    "\n",
    "$A)$ `replace (v, w)`.\n",
    "\n",
    "This command replaces the first from the left occurrence of the chain `v` on the chain` w`. For example, executing the command `replace (222, 34)` converts the line `77222277` to the line `7734277`. If there are no occurrences of `v` in the string, then the command to `replace (v, w)` does not change this line.\n",
    "\n",
    "$B)$ `found (v)`.\n",
    "\n",
    "This command checks if the string `v` is found in the line. If it occurs, the command returns a logical value of `\"true\"`, otherwise it returns `\"false\"`. The string is not changed by this command.\n",
    "\n",
    "The cycle\n",
    "\n",
    "`WHILE` $<condition>$\n",
    "\n",
    "- $command \\ sequence$\n",
    "\n",
    "`END while`\n",
    "\n",
    "is executed until the condition is true.\n",
    "\n",
    "\n",
    "In the construction\n",
    "\n",
    "`IF` $<condition>$\n",
    "\n",
    "- `THEN` $command \\ 1$\n",
    "\n",
    "- `ELSE` $command \\ 2$\n",
    "\n",
    "`END IF`\n",
    "\n",
    "the `command 1` is executed (if the condition is true) or `command 2` is executed (if the condition is false).\n",
    "\n",
    "What string will be an output of the following program if the input is a line consisting of 65 consecutive digits 4? \n",
    "\n",
    "In the answer write down the received line.\n",
    "\n",
    "`BEGIN`\n",
    "\n",
    "`WHILE` $<found \\ (444)>$ `OR` $<found \\ (555)>$\n",
    "\n",
    "- `IF` $<found \\ (444)>$\n",
    "\n",
    "    - `THEN` $replace \\ (444, 5)$\n",
    "\n",
    "    - `ELSE` $replace \\ (555, 4)$\n",
    "\n",
    "- `END IF`\n",
    "\n",
    "`END WHILE`\n",
    "\n",
    "`END`"
   ]
  },
  {
   "cell_type": "code",
   "execution_count": 49,
   "metadata": {},
   "outputs": [
    {
     "data": {
      "text/html": [
       "'44444444444444444444444444444444444444444444444444444444444444444'"
      ],
      "text/latex": [
       "'44444444444444444444444444444444444444444444444444444444444444444'"
      ],
      "text/markdown": [
       "'44444444444444444444444444444444444444444444444444444444444444444'"
      ],
      "text/plain": [
       "[1] \"44444444444444444444444444444444444444444444444444444444444444444\""
      ]
     },
     "metadata": {},
     "output_type": "display_data"
    }
   ],
   "source": [
    "string <- paste(replicate(65, \"4\"), collapse = \"\")\n",
    "string"
   ]
  },
  {
   "cell_type": "code",
   "execution_count": 50,
   "metadata": {},
   "outputs": [
    {
     "data": {
      "text/html": [
       "TRUE"
      ],
      "text/latex": [
       "TRUE"
      ],
      "text/markdown": [
       "TRUE"
      ],
      "text/plain": [
       "[1] TRUE"
      ]
     },
     "metadata": {},
     "output_type": "display_data"
    },
    {
     "data": {
      "text/html": [
       "FALSE"
      ],
      "text/latex": [
       "FALSE"
      ],
      "text/markdown": [
       "FALSE"
      ],
      "text/plain": [
       "[1] FALSE"
      ]
     },
     "metadata": {},
     "output_type": "display_data"
    }
   ],
   "source": [
    "grepl(\"444\",string); grepl(\"555\",string)"
   ]
  },
  {
   "cell_type": "code",
   "execution_count": 51,
   "metadata": {},
   "outputs": [],
   "source": [
    "string_function <- function(w) {\n",
    "    while (grepl(\"444\",w) | grepl(\"555\",w)) {\n",
    "        \n",
    "        if (grepl(\"444\",w)) { \n",
    "            w <- sub('444','5',w)\n",
    "            print(w)\n",
    "        } else {\n",
    "            w <- sub('555','4',w)\n",
    "            print(w)\n",
    "        }\n",
    "    }\n",
    "    \n",
    "    return(w)\n",
    "}"
   ]
  },
  {
   "cell_type": "code",
   "execution_count": 52,
   "metadata": {},
   "outputs": [
    {
     "name": "stdout",
     "output_type": "stream",
     "text": [
      "[1] \"544444444444444444444444444444444444444444444444444444444444444\"\n",
      "[1] \"5544444444444444444444444444444444444444444444444444444444444\"\n",
      "[1] \"55544444444444444444444444444444444444444444444444444444444\"\n",
      "[1] \"555544444444444444444444444444444444444444444444444444444\"\n",
      "[1] \"5555544444444444444444444444444444444444444444444444444\"\n",
      "[1] \"55555544444444444444444444444444444444444444444444444\"\n",
      "[1] \"555555544444444444444444444444444444444444444444444\"\n",
      "[1] \"5555555544444444444444444444444444444444444444444\"\n",
      "[1] \"55555555544444444444444444444444444444444444444\"\n",
      "[1] \"555555555544444444444444444444444444444444444\"\n",
      "[1] \"5555555555544444444444444444444444444444444\"\n",
      "[1] \"55555555555544444444444444444444444444444\"\n",
      "[1] \"555555555555544444444444444444444444444\"\n",
      "[1] \"5555555555555544444444444444444444444\"\n",
      "[1] \"55555555555555544444444444444444444\"\n",
      "[1] \"555555555555555544444444444444444\"\n",
      "[1] \"5555555555555555544444444444444\"\n",
      "[1] \"55555555555555555544444444444\"\n",
      "[1] \"555555555555555555544444444\"\n",
      "[1] \"5555555555555555555544444\"\n",
      "[1] \"55555555555555555555544\"\n",
      "[1] \"455555555555555555544\"\n",
      "[1] \"4455555555555555544\"\n",
      "[1] \"44455555555555544\"\n",
      "[1] \"555555555555544\"\n",
      "[1] \"4555555555544\"\n",
      "[1] \"44555555544\"\n",
      "[1] \"444555544\"\n",
      "[1] \"5555544\"\n",
      "[1] \"45544\"\n"
     ]
    }
   ],
   "source": [
    "result <- string_function(string)"
   ]
  },
  {
   "cell_type": "code",
   "execution_count": 53,
   "metadata": {},
   "outputs": [],
   "source": [
    "answer_dictionary[14] <- result"
   ]
  },
  {
   "cell_type": "markdown",
   "metadata": {},
   "source": [
    "## 15.\n",
    "На рисунке — схема дорог, связывающих города $А, Б, В, Г, Д, Е, Ж, 3, И, К$. \n",
    "\n",
    "По каждой дороге можно двигаться только в одном направлении, указанном стрелкой. \n",
    "\n",
    "Сколько существует различных путей из города $А$ в город $К$?\n",
    "\n",
    "---\n",
    "\n",
    "In the figure - the scheme of roads is connecting the cities $А, Б, В, Г, Д, Е, Ж, 3, И, К$. \n",
    "\n",
    "For each road, it is possible to move only in one direction, indicated by an arrow. \n",
    "\n",
    "How many different paths exist from the city $А$ to the city $К$?"
   ]
  },
  {
   "cell_type": "code",
   "execution_count": 54,
   "metadata": {},
   "outputs": [
    {
     "data": {
      "image/png": "[encoded data removed]",
      "text/plain": [
       "Plot with title “”"
      ]
     },
     "metadata": {},
     "output_type": "display_data"
    }
   ],
   "source": [
    "options(warn = -1,repr.plot.width=5,repr.plot.height=5)\n",
    "edges <- c('А','Б', 'А','В', 'А','Г', 'А','Д', 'Б','Д',\n",
    "           'В','Д', 'В','И', 'В','Ж', 'Г','В', 'Г','Е', 'Г','Ж',\n",
    "           'Д','И', 'Е','Ж', 'Е','З', 'Е','К',\n",
    "           'Ж','И', 'Ж','К', 'З','К', 'И','К')\n",
    "g2 <- graph(edges)\n",
    "plot(g2,\n",
    "     vertex.color=\"steelblue\",vertex.size=15,\n",
    "     vertex.frame.color=\"gray\",vertex.shape='square')"
   ]
  },
  {
   "cell_type": "code",
   "execution_count": 55,
   "metadata": {},
   "outputs": [
    {
     "data": {
      "text/html": [
       "<ol>\n",
       "\t<li><ol class=list-inline>\n",
       "\t<li>'А'</li>\n",
       "\t<li>'Б'</li>\n",
       "\t<li>'Д'</li>\n",
       "\t<li>'И'</li>\n",
       "\t<li>'К'</li>\n",
       "</ol>\n",
       "</li>\n",
       "\t<li><ol class=list-inline>\n",
       "\t<li>'А'</li>\n",
       "\t<li>'В'</li>\n",
       "\t<li>'Д'</li>\n",
       "\t<li>'И'</li>\n",
       "\t<li>'К'</li>\n",
       "</ol>\n",
       "</li>\n",
       "\t<li><ol class=list-inline>\n",
       "\t<li>'А'</li>\n",
       "\t<li>'В'</li>\n",
       "\t<li>'И'</li>\n",
       "\t<li>'К'</li>\n",
       "</ol>\n",
       "</li>\n",
       "\t<li><ol class=list-inline>\n",
       "\t<li>'А'</li>\n",
       "\t<li>'В'</li>\n",
       "\t<li>'Ж'</li>\n",
       "\t<li>'И'</li>\n",
       "\t<li>'К'</li>\n",
       "</ol>\n",
       "</li>\n",
       "\t<li><ol class=list-inline>\n",
       "\t<li>'А'</li>\n",
       "\t<li>'В'</li>\n",
       "\t<li>'Ж'</li>\n",
       "\t<li>'К'</li>\n",
       "</ol>\n",
       "</li>\n",
       "\t<li><ol class=list-inline>\n",
       "\t<li>'А'</li>\n",
       "\t<li>'Г'</li>\n",
       "\t<li>'В'</li>\n",
       "\t<li>'Д'</li>\n",
       "\t<li>'И'</li>\n",
       "\t<li>'К'</li>\n",
       "</ol>\n",
       "</li>\n",
       "\t<li><ol class=list-inline>\n",
       "\t<li>'А'</li>\n",
       "\t<li>'Г'</li>\n",
       "\t<li>'В'</li>\n",
       "\t<li>'И'</li>\n",
       "\t<li>'К'</li>\n",
       "</ol>\n",
       "</li>\n",
       "\t<li><ol class=list-inline>\n",
       "\t<li>'А'</li>\n",
       "\t<li>'Г'</li>\n",
       "\t<li>'В'</li>\n",
       "\t<li>'Ж'</li>\n",
       "\t<li>'И'</li>\n",
       "\t<li>'К'</li>\n",
       "</ol>\n",
       "</li>\n",
       "\t<li><ol class=list-inline>\n",
       "\t<li>'А'</li>\n",
       "\t<li>'Г'</li>\n",
       "\t<li>'В'</li>\n",
       "\t<li>'Ж'</li>\n",
       "\t<li>'К'</li>\n",
       "</ol>\n",
       "</li>\n",
       "\t<li><ol class=list-inline>\n",
       "\t<li>'А'</li>\n",
       "\t<li>'Г'</li>\n",
       "\t<li>'Ж'</li>\n",
       "\t<li>'И'</li>\n",
       "\t<li>'К'</li>\n",
       "</ol>\n",
       "</li>\n",
       "\t<li><ol class=list-inline>\n",
       "\t<li>'А'</li>\n",
       "\t<li>'Г'</li>\n",
       "\t<li>'Ж'</li>\n",
       "\t<li>'К'</li>\n",
       "</ol>\n",
       "</li>\n",
       "\t<li><ol class=list-inline>\n",
       "\t<li>'А'</li>\n",
       "\t<li>'Г'</li>\n",
       "\t<li>'Е'</li>\n",
       "\t<li>'Ж'</li>\n",
       "\t<li>'И'</li>\n",
       "\t<li>'К'</li>\n",
       "</ol>\n",
       "</li>\n",
       "\t<li><ol class=list-inline>\n",
       "\t<li>'А'</li>\n",
       "\t<li>'Г'</li>\n",
       "\t<li>'Е'</li>\n",
       "\t<li>'Ж'</li>\n",
       "\t<li>'К'</li>\n",
       "</ol>\n",
       "</li>\n",
       "\t<li><ol class=list-inline>\n",
       "\t<li>'А'</li>\n",
       "\t<li>'Г'</li>\n",
       "\t<li>'Е'</li>\n",
       "\t<li>'З'</li>\n",
       "\t<li>'К'</li>\n",
       "</ol>\n",
       "</li>\n",
       "\t<li><ol class=list-inline>\n",
       "\t<li>'А'</li>\n",
       "\t<li>'Г'</li>\n",
       "\t<li>'Е'</li>\n",
       "\t<li>'К'</li>\n",
       "</ol>\n",
       "</li>\n",
       "\t<li><ol class=list-inline>\n",
       "\t<li>'А'</li>\n",
       "\t<li>'Д'</li>\n",
       "\t<li>'И'</li>\n",
       "\t<li>'К'</li>\n",
       "</ol>\n",
       "</li>\n",
       "</ol>\n"
      ],
      "text/latex": [
       "\\begin{enumerate}\n",
       "\\item \\begin{enumerate*}\n",
       "\\item 'А'\n",
       "\\item 'Б'\n",
       "\\item 'Д'\n",
       "\\item 'И'\n",
       "\\item 'К'\n",
       "\\end{enumerate*}\n",
       "\n",
       "\\item \\begin{enumerate*}\n",
       "\\item 'А'\n",
       "\\item 'В'\n",
       "\\item 'Д'\n",
       "\\item 'И'\n",
       "\\item 'К'\n",
       "\\end{enumerate*}\n",
       "\n",
       "\\item \\begin{enumerate*}\n",
       "\\item 'А'\n",
       "\\item 'В'\n",
       "\\item 'И'\n",
       "\\item 'К'\n",
       "\\end{enumerate*}\n",
       "\n",
       "\\item \\begin{enumerate*}\n",
       "\\item 'А'\n",
       "\\item 'В'\n",
       "\\item 'Ж'\n",
       "\\item 'И'\n",
       "\\item 'К'\n",
       "\\end{enumerate*}\n",
       "\n",
       "\\item \\begin{enumerate*}\n",
       "\\item 'А'\n",
       "\\item 'В'\n",
       "\\item 'Ж'\n",
       "\\item 'К'\n",
       "\\end{enumerate*}\n",
       "\n",
       "\\item \\begin{enumerate*}\n",
       "\\item 'А'\n",
       "\\item 'Г'\n",
       "\\item 'В'\n",
       "\\item 'Д'\n",
       "\\item 'И'\n",
       "\\item 'К'\n",
       "\\end{enumerate*}\n",
       "\n",
       "\\item \\begin{enumerate*}\n",
       "\\item 'А'\n",
       "\\item 'Г'\n",
       "\\item 'В'\n",
       "\\item 'И'\n",
       "\\item 'К'\n",
       "\\end{enumerate*}\n",
       "\n",
       "\\item \\begin{enumerate*}\n",
       "\\item 'А'\n",
       "\\item 'Г'\n",
       "\\item 'В'\n",
       "\\item 'Ж'\n",
       "\\item 'И'\n",
       "\\item 'К'\n",
       "\\end{enumerate*}\n",
       "\n",
       "\\item \\begin{enumerate*}\n",
       "\\item 'А'\n",
       "\\item 'Г'\n",
       "\\item 'В'\n",
       "\\item 'Ж'\n",
       "\\item 'К'\n",
       "\\end{enumerate*}\n",
       "\n",
       "\\item \\begin{enumerate*}\n",
       "\\item 'А'\n",
       "\\item 'Г'\n",
       "\\item 'Ж'\n",
       "\\item 'И'\n",
       "\\item 'К'\n",
       "\\end{enumerate*}\n",
       "\n",
       "\\item \\begin{enumerate*}\n",
       "\\item 'А'\n",
       "\\item 'Г'\n",
       "\\item 'Ж'\n",
       "\\item 'К'\n",
       "\\end{enumerate*}\n",
       "\n",
       "\\item \\begin{enumerate*}\n",
       "\\item 'А'\n",
       "\\item 'Г'\n",
       "\\item 'Е'\n",
       "\\item 'Ж'\n",
       "\\item 'И'\n",
       "\\item 'К'\n",
       "\\end{enumerate*}\n",
       "\n",
       "\\item \\begin{enumerate*}\n",
       "\\item 'А'\n",
       "\\item 'Г'\n",
       "\\item 'Е'\n",
       "\\item 'Ж'\n",
       "\\item 'К'\n",
       "\\end{enumerate*}\n",
       "\n",
       "\\item \\begin{enumerate*}\n",
       "\\item 'А'\n",
       "\\item 'Г'\n",
       "\\item 'Е'\n",
       "\\item 'З'\n",
       "\\item 'К'\n",
       "\\end{enumerate*}\n",
       "\n",
       "\\item \\begin{enumerate*}\n",
       "\\item 'А'\n",
       "\\item 'Г'\n",
       "\\item 'Е'\n",
       "\\item 'К'\n",
       "\\end{enumerate*}\n",
       "\n",
       "\\item \\begin{enumerate*}\n",
       "\\item 'А'\n",
       "\\item 'Д'\n",
       "\\item 'И'\n",
       "\\item 'К'\n",
       "\\end{enumerate*}\n",
       "\n",
       "\\end{enumerate}\n"
      ],
      "text/markdown": [
       "1. 1. 'А'\n",
       "2. 'Б'\n",
       "3. 'Д'\n",
       "4. 'И'\n",
       "5. 'К'\n",
       "\n",
       "\n",
       "\n",
       "2. 1. 'А'\n",
       "2. 'В'\n",
       "3. 'Д'\n",
       "4. 'И'\n",
       "5. 'К'\n",
       "\n",
       "\n",
       "\n",
       "3. 1. 'А'\n",
       "2. 'В'\n",
       "3. 'И'\n",
       "4. 'К'\n",
       "\n",
       "\n",
       "\n",
       "4. 1. 'А'\n",
       "2. 'В'\n",
       "3. 'Ж'\n",
       "4. 'И'\n",
       "5. 'К'\n",
       "\n",
       "\n",
       "\n",
       "5. 1. 'А'\n",
       "2. 'В'\n",
       "3. 'Ж'\n",
       "4. 'К'\n",
       "\n",
       "\n",
       "\n",
       "6. 1. 'А'\n",
       "2. 'Г'\n",
       "3. 'В'\n",
       "4. 'Д'\n",
       "5. 'И'\n",
       "6. 'К'\n",
       "\n",
       "\n",
       "\n",
       "7. 1. 'А'\n",
       "2. 'Г'\n",
       "3. 'В'\n",
       "4. 'И'\n",
       "5. 'К'\n",
       "\n",
       "\n",
       "\n",
       "8. 1. 'А'\n",
       "2. 'Г'\n",
       "3. 'В'\n",
       "4. 'Ж'\n",
       "5. 'И'\n",
       "6. 'К'\n",
       "\n",
       "\n",
       "\n",
       "9. 1. 'А'\n",
       "2. 'Г'\n",
       "3. 'В'\n",
       "4. 'Ж'\n",
       "5. 'К'\n",
       "\n",
       "\n",
       "\n",
       "10. 1. 'А'\n",
       "2. 'Г'\n",
       "3. 'Ж'\n",
       "4. 'И'\n",
       "5. 'К'\n",
       "\n",
       "\n",
       "\n",
       "11. 1. 'А'\n",
       "2. 'Г'\n",
       "3. 'Ж'\n",
       "4. 'К'\n",
       "\n",
       "\n",
       "\n",
       "12. 1. 'А'\n",
       "2. 'Г'\n",
       "3. 'Е'\n",
       "4. 'Ж'\n",
       "5. 'И'\n",
       "6. 'К'\n",
       "\n",
       "\n",
       "\n",
       "13. 1. 'А'\n",
       "2. 'Г'\n",
       "3. 'Е'\n",
       "4. 'Ж'\n",
       "5. 'К'\n",
       "\n",
       "\n",
       "\n",
       "14. 1. 'А'\n",
       "2. 'Г'\n",
       "3. 'Е'\n",
       "4. 'З'\n",
       "5. 'К'\n",
       "\n",
       "\n",
       "\n",
       "15. 1. 'А'\n",
       "2. 'Г'\n",
       "3. 'Е'\n",
       "4. 'К'\n",
       "\n",
       "\n",
       "\n",
       "16. 1. 'А'\n",
       "2. 'Д'\n",
       "3. 'И'\n",
       "4. 'К'\n",
       "\n",
       "\n",
       "\n",
       "\n",
       "\n"
      ],
      "text/plain": [
       "[[1]]\n",
       "[1] \"А\" \"Б\" \"Д\" \"И\" \"К\"\n",
       "\n",
       "[[2]]\n",
       "[1] \"А\" \"В\" \"Д\" \"И\" \"К\"\n",
       "\n",
       "[[3]]\n",
       "[1] \"А\" \"В\" \"И\" \"К\"\n",
       "\n",
       "[[4]]\n",
       "[1] \"А\" \"В\" \"Ж\" \"И\" \"К\"\n",
       "\n",
       "[[5]]\n",
       "[1] \"А\" \"В\" \"Ж\" \"К\"\n",
       "\n",
       "[[6]]\n",
       "[1] \"А\" \"Г\" \"В\" \"Д\" \"И\" \"К\"\n",
       "\n",
       "[[7]]\n",
       "[1] \"А\" \"Г\" \"В\" \"И\" \"К\"\n",
       "\n",
       "[[8]]\n",
       "[1] \"А\" \"Г\" \"В\" \"Ж\" \"И\" \"К\"\n",
       "\n",
       "[[9]]\n",
       "[1] \"А\" \"Г\" \"В\" \"Ж\" \"К\"\n",
       "\n",
       "[[10]]\n",
       "[1] \"А\" \"Г\" \"Ж\" \"И\" \"К\"\n",
       "\n",
       "[[11]]\n",
       "[1] \"А\" \"Г\" \"Ж\" \"К\"\n",
       "\n",
       "[[12]]\n",
       "[1] \"А\" \"Г\" \"Е\" \"Ж\" \"И\" \"К\"\n",
       "\n",
       "[[13]]\n",
       "[1] \"А\" \"Г\" \"Е\" \"Ж\" \"К\"\n",
       "\n",
       "[[14]]\n",
       "[1] \"А\" \"Г\" \"Е\" \"З\" \"К\"\n",
       "\n",
       "[[15]]\n",
       "[1] \"А\" \"Г\" \"Е\" \"К\"\n",
       "\n",
       "[[16]]\n",
       "[1] \"А\" \"Д\" \"И\" \"К\"\n"
      ]
     },
     "metadata": {},
     "output_type": "display_data"
    }
   ],
   "source": [
    "paths <- all_simple_paths(g2,'А','К')\n",
    "paths <- lapply(1:length(paths), function(x) as_ids(paths[[x]]))\n",
    "paths"
   ]
  },
  {
   "cell_type": "code",
   "execution_count": 56,
   "metadata": {},
   "outputs": [],
   "source": [
    "answer_dictionary[15] <- toString(length(paths))"
   ]
  },
  {
   "cell_type": "markdown",
   "metadata": {},
   "source": [
    "## 16.\n",
    "Значение арифметического выражения: $\\mathbf{9^{200} + 3^{100} - 7}$ — записали в системе счисления с основанием $\\mathbf{3}$. \n",
    "\n",
    "Сколько цифр $\\mathbf{2}$ содержится в этой записи?\n",
    "\n",
    "---\n",
    "\n",
    "The value of the arithmetic expression: $\\mathbf{9^{200} + 3^{100} - 7}$ — was written in the number system with base $\\mathbf {3}$.\n",
    "\n",
    "How many digits $\\mathbf {2}$ are contained in this record?"
   ]
  },
  {
   "cell_type": "markdown",
   "metadata": {},
   "source": [
    "$\\mathbf{9^{200} + 3^{100} - 7 = 3^{400} + 3^{100} - (2 * 3^1 + 1 * 3^0)} \\iff \n",
    "\\mathbf{{1000...0001000...000}_3 - {21}_3 = {1000...000022...202}_3}$"
   ]
  },
  {
   "cell_type": "markdown",
   "metadata": {},
   "source": [
    "Значение арифметического выражения $\\mathbf{9^{200} + 3^{100}}$ в системе счисления с основанием 3 представляет собой запись, \n",
    "\n",
    "состоящую из единицы, 299 нулей, единицы и 100 нулей ${1000...0001000...000}_3$. \n",
    "\n",
    "При вычитании ${21}_3$ получается число, \n",
    "\n",
    "состоящее из единицы, 300 нулей, 98 двоек, нуля и двойки ${1000...000022...202}_3$.\n",
    "\n",
    "---\n",
    "\n",
    "The value of the arithmetic expression $\\mathbf {9^{200} + 3^{100}}$ in the number system with base 3 is a record \n",
    "\n",
    "consisting of one, 299 zeros, one and 100 zeros ${1000...0001000...000}_3$. \n",
    "\n",
    "With subtracting ${21}_3$, we get a number \n",
    "\n",
    "consisting of one, 300 zeros, 98 twos, zero and two ${1000...000022...202}_3$."
   ]
  },
  {
   "cell_type": "code",
   "execution_count": 57,
   "metadata": {},
   "outputs": [],
   "source": [
    "answer_dictionary[16] <- '99'"
   ]
  },
  {
   "cell_type": "markdown",
   "metadata": {},
   "source": [
    "## 17.\n",
    "В языке запросов к поисковому серверу для обозначения \n",
    "\n",
    "- логической операции $«ИЛИ»$ используется символ $\\mid$, \n",
    "- а для логической операции $«И»$ — $\\&$. \n",
    "\n",
    "В таблице приведено количество страниц, которое находит поисковая система по каждому запросу.\n",
    "\n",
    "- `Запрос` -> `Количество найденных страниц`\n",
    "\n",
    "- `Колбаса & Молоко` -> `15100`\n",
    "\n",
    "- `Сыр & Молоко` -> `8900`\n",
    "\n",
    "- `Колбаса & Сыр & Молоко` -> `7500`\n",
    "\n",
    "Какое количество страниц будет найдено по запросу:  `(Колбаса | Сыр) & Молоко`?\n",
    "\n",
    "Считается, что все запросы выполнялись практически одновременно, \n",
    "\n",
    "так что набор страниц, содержащих все искомые слова, не изменялся за время выполнения запросов.\n",
    "\n",
    "---\n",
    "\n",
    "In the query language to the search server, \n",
    "\n",
    "- the symbol $\\mid$ is used to indicate the logical operation $\"OR\"$, \n",
    "- and for the logical operation $\"AND\"$ - $\\&$. \n",
    "\n",
    "The table shows the number of pages that the search engine finds for each query.\n",
    "\n",
    "- `Query` -> `Number of pages found`\n",
    "\n",
    "- `Sausage & Milk` -> `15100`\n",
    "\n",
    "- `Cheese & Milk` -> `8900`\n",
    "\n",
    "- `Sausage & Cheese & Milk` -> `7500`\n",
    "\n",
    "How many pages will be found on:  `(Sausage | Cheese) & Milk`?\n",
    "\n",
    "It is assumed that all queries were executed almost simultaneously so \n",
    "\n",
    "that the set of pages containing all the searched words did not change during the execution of queries."
   ]
  },
  {
   "cell_type": "markdown",
   "metadata": {},
   "source": [
    "`(Колбаса | Сыр) & Молоко` = `Колбаса & Молоко` | `Сыр & Молоко` =\n",
    "\n",
    "= `Колбаса & Молоко` + `Сыр & Молоко` - `Колбаса & Сыр & Молоко` \n",
    "\n",
    "---\n",
    "\n",
    "`(Sausage | Cheese) & Milk` = `Sausage & Milk` | `Cheese & Milk` =\n",
    "\n",
    "= `Sausage & Milk` + `Cheese & Milk` - `Sausage & Cheese & Milk`"
   ]
  },
  {
   "cell_type": "code",
   "execution_count": 58,
   "metadata": {},
   "outputs": [],
   "source": [
    "Sausage_and_Milk <- 15100\n",
    "Cheese_and_Milk <- 8900\n",
    "Sausage_and_Cheese_and_Milk <- 7500"
   ]
  },
  {
   "cell_type": "code",
   "execution_count": 59,
   "metadata": {},
   "outputs": [
    {
     "data": {
      "image/png": "[encoded data removed]",
      "text/plain": [
       "plot without title"
      ]
     },
     "metadata": {},
     "output_type": "display_data"
    }
   ],
   "source": [
    "options(repr.plot.width=4,repr.plot.height=4)\n",
    "venn.plot <- draw.pairwise.venn(\n",
    "    area1 = Sausage_and_Milk, area2 = Cheese_and_Milk, \n",
    "    cross.area = Sausage_and_Cheese_and_Milk,\n",
    "    category = c(\"Sausage & Milk\", \"Cheese & Milk\"),\n",
    "    fill = c(\"steelblue\", \"coral\"),\n",
    "    lty = \"blank\",\n",
    "    cex = 1.2, cat.cex = 1.5, \n",
    "    cat.dist = c(0.11,0.1), cat.pos = c(-5,15),\n",
    "    cat.col = c(\"steelblue\", \"coral\")\n",
    ");\n",
    "grid.draw(venn.plot);"
   ]
  },
  {
   "cell_type": "code",
   "execution_count": 60,
   "metadata": {},
   "outputs": [],
   "source": [
    "answer_dictionary[17] <- toString(Sausage_and_Milk + Cheese_and_Milk - \n",
    "                                  Sausage_and_Cheese_and_Milk)"
   ]
  },
  {
   "cell_type": "markdown",
   "metadata": {},
   "source": [
    "## 18.\n",
    "На числовой прямой даны отрезки $P = [5, 13]$ и $Q = [8, 19]$. \n",
    "\n",
    "Укажите наименьшую возможную длину такого отрезка $A$, что формула\n",
    "\n",
    "$(\\neg (x \\in P) \\to (x \\in Q)) \\to (x \\in A)$ \n",
    "\n",
    "верна при любых значениях х.\n",
    "\n",
    "---\n",
    "\n",
    "On the number line, the segments $P = [5, 13]$ and $Q = [8, 19]$ are given. \n",
    "\n",
    "Indicate the smallest possible length of such a segment $A$, that the formula \n",
    "\n",
    "$(\\neg (x \\in P) \\to (x \\in Q)) \\to (x \\in A)$ \n",
    "\n",
    "is true for any values of x."
   ]
  },
  {
   "cell_type": "markdown",
   "metadata": {},
   "source": [
    "$(\\neg (x \\in P) \\to (x \\in Q)) \\to (x \\in A) \\iff \\\\\n",
    "(\\neg \\neg (x \\in P) \\lor (x \\in Q)) \\to (x \\in A) \\iff \\\\\n",
    "((x \\in P) \\lor (x \\in Q)) \\to (x \\in A) \\iff \\\\\n",
    "\\neg ((x \\in P) \\lor (x \\in Q)) \\lor (x \\in A) \\iff \\\\\n",
    "(\\neg (x \\in P) \\land \\neg (x \\in Q)) \\lor (x \\in A)$"
   ]
  },
  {
   "cell_type": "markdown",
   "metadata": {},
   "source": [
    "$( \\ (\\neg (5 \\leq x \\leq 13)) \\land (\\neg (8 \\leq x \\leq 19)) \\ ) \\lor (x \\in A) \\iff \\\\\n",
    "( \\ (x < 5 \\lor x > 13) \\land (x < 8 \\lor x > 19) \\ ) \\lor (x \\in A) \\iff \\\\\n",
    "x < 5 \\lor x > 19 \\lor (x \\in A)$"
   ]
  },
  {
   "cell_type": "markdown",
   "metadata": {},
   "source": [
    "$\\forall x: \\ (x < 5 \\lor x > 19 \\lor (x \\in A)) \\equiv True \\iff \\\\\n",
    "(x \\in A) \\equiv (5 \\leq x \\leq 19)$"
   ]
  },
  {
   "cell_type": "code",
   "execution_count": 61,
   "metadata": {},
   "outputs": [],
   "source": [
    "answer_dictionary[18] <- toString(19 - 5)"
   ]
  },
  {
   "cell_type": "markdown",
   "metadata": {},
   "source": [
    "## 19.\n",
    "В программе используется целочисленный массив `A` с индексами от `0` до `9`. \n",
    "\n",
    "Значения элементов массива равны $4; 5; 4; 7; 10; 8; 9; 11; 7; 8$ соответственно, т.е. $A[0] = 4$; $A[1] = 5$ и т.д.\n",
    "\n",
    "Определите значение переменной `k` после выполнения следующего фрагмента программы, \n",
    "\n",
    "записанной ниже на разных языках программирования.\n",
    "\n",
    "---\n",
    "\n",
    "The program uses an integer array `A` with indices from `0` to `9`.\n",
    "\n",
    "Values of array elements are equal to $4; 5; 4; 7; 10; 8; 9; 11; 7; 8$ respectively, i.e. $A[0] = 4$; $A[1] = 5$, etc.\n",
    "\n",
    "Determine the value of the variable `k` after the execution of the next program fragment, \n",
    "\n",
    "recorded below in different programming languages.\n",
    "<table style=\"width:95%;\">\n",
    "  <tr style=\"color:slategray;font-size:120%;font-family:'Roboto';\">\n",
    "    <th style=\"text-align:center;\">Python</th> \n",
    "    <th style=\"text-align:center;\">R</th>          \n",
    "  </tr>\n",
    "  <tr>\n",
    "    <td style=\"font-weight:bold;text-align:left;\"><pre><code class='python'>\n",
    "A = [4,5,4,7,10,8,9,11,7,8]\n",
    "k = 0\n",
    "\n",
    "for i in range(8): \n",
    "    if A[i] < A[i+2]:\n",
    "        k += 1\n",
    "        t = A[i]\n",
    "        A[i] = A[i+2]\n",
    "        A[i+2] = t   \n",
    "    </code></pre></td> \n",
    "    <td style=\"font-weight:bold;text-align:left;\"><pre><code class='r'>\n",
    "    \n",
    "A <- c(4,5,4,7,10,8,9,11,7,8)\n",
    "k <- 0\n",
    "\n",
    "for (i in 0:7) { \n",
    "    if (A[i+1] < A[i+3]) {\n",
    "        k <- k + 1\n",
    "        t <- A[i+1]\n",
    "        A[i+1] <- A[i+3]\n",
    "        A[i+3] <- t\n",
    "    }\n",
    "}\n",
    "    </code></pre></td>     \n",
    "  </tr>    \n",
    "</table>"
   ]
  },
  {
   "cell_type": "code",
   "execution_count": 62,
   "metadata": {},
   "outputs": [
    {
     "data": {
      "text/html": [
       "7"
      ],
      "text/latex": [
       "7"
      ],
      "text/markdown": [
       "7"
      ],
      "text/plain": [
       "[1] 7"
      ]
     },
     "metadata": {},
     "output_type": "display_data"
    }
   ],
   "source": [
    "A <- c(4,5,4,7,10,8,9,11,7,8)\n",
    "k <- 0\n",
    "\n",
    "for (i in 0:7) { \n",
    "    if (A[i+1] < A[i+3]) {\n",
    "        k <- k + 1\n",
    "        t <- A[i+1]\n",
    "        A[i+1] <- A[i+3]\n",
    "        A[i+3] <- t\n",
    "    }\n",
    "}\n",
    "\n",
    "k"
   ]
  },
  {
   "cell_type": "code",
   "execution_count": 63,
   "metadata": {},
   "outputs": [
    {
     "name": "stdout",
     "output_type": "stream",
     "text": [
      " [1]  4  7  4  5 10  8  9 11  7  8\n",
      " [1]  4  7 10  5  4  8  9 11  7  8\n",
      " [1]  4  7 10  8  4  5  9 11  7  8\n",
      " [1]  4  7 10  8  9  5  4 11  7  8\n",
      " [1]  4  7 10  8  9 11  4  5  7  8\n",
      " [1]  4  7 10  8  9 11  7  5  4  8\n",
      " [1]  4  7 10  8  9 11  7  8  4  5\n"
     ]
    },
    {
     "data": {
      "text/html": [
       "7"
      ],
      "text/latex": [
       "7"
      ],
      "text/markdown": [
       "7"
      ],
      "text/plain": [
       "[1] 7"
      ]
     },
     "metadata": {},
     "output_type": "display_data"
    }
   ],
   "source": [
    "# расширенная версия программы\n",
    "A <- c(4,5,4,7,10,8,9,11,7,8)\n",
    "k <- 0\n",
    "\n",
    "for (i in 0:7) { \n",
    "    if (A[i+1] < A[i+3]) {\n",
    "        k <- k + 1\n",
    "        t <- A[i+1]\n",
    "        A[i+1] <- A[i+3]\n",
    "        A[i+3] <- t\n",
    "        print(A)\n",
    "    }\n",
    "}\n",
    "\n",
    "k"
   ]
  },
  {
   "cell_type": "code",
   "execution_count": 64,
   "metadata": {},
   "outputs": [],
   "source": [
    "answer_dictionary[19] <- toString(k)"
   ]
  },
  {
   "cell_type": "markdown",
   "metadata": {},
   "source": [
    "## 20.\n",
    "Ниже на нескольких языках записан алгоритм. \n",
    "\n",
    "Получив на вход число `х`, этот алгоритм печатает два числа: `L` и `М`. \n",
    "\n",
    "Укажите наименьшее из таких чисел `х`, при вводе которых алгоритм печатает сначала `0`, а потом `24`.\n",
    "\n",
    "---\n",
    "\n",
    "Below, in several languages, the algorithm has been written. \n",
    "\n",
    "Having received the input variable `x`, this algorithm prints two numbers: `L` and `M`. \n",
    "\n",
    "Specify the smallest number `x` for which the program prints first `0`, and then `24`.\n",
    "\n",
    "<table style=\"width:95%;\">\n",
    "  <tr style=\"color:slategray;font-size:120%;font-family:'Roboto';\">\n",
    "    <th style=\"text-align:center;\">Python</th> \n",
    "    <th style=\"text-align:center;\">R</th>          \n",
    "  </tr>\n",
    "  <tr>\n",
    "    <td style=\"font-weight:bold;text-align:left;\"><pre><code class='python'>\n",
    "x = int(input())\n",
    "L, M = 0, 1\n",
    "\n",
    "while x > 0:\n",
    "    M = M &#42; (x % 10)\n",
    "    if x % 10 > 5:\n",
    "        L += 1\n",
    "    x = int(x / 10)\n",
    "\n",
    "print(L, M)  \n",
    "    </code></pre></td> \n",
    "    <td style=\"font-weight:bold;text-align:left;\"><pre><code class='r'>\n",
    "    \n",
    "x <- as.integer(readline())\n",
    "L <- 0; M <- 1\n",
    "\n",
    "while (x > 0) {\n",
    "    M <- M &#42; (x %% 10)\n",
    "    if (x %% 10 > 5) {\n",
    "        L <- L + 1\n",
    "    }\n",
    "    x <- as.integer(x / 10)\n",
    "}\n",
    "\n",
    "print(paste(L, M, sep=\" \"))\n",
    "    </code></pre></td>     \n",
    "  </tr>    \n",
    "</table>"
   ]
  },
  {
   "cell_type": "code",
   "execution_count": 177,
   "metadata": {},
   "outputs": [
    {
     "name": "stdout",
     "output_type": "stream",
     "text": [
      "234\n",
      "[1] \"0 24\"\n"
     ]
    }
   ],
   "source": [
    "x <- as.integer(readline())\n",
    "L <- 0; M <- 1\n",
    "\n",
    "while (x > 0) {\n",
    "    M <- M * (x %% 10)\n",
    "    if (x %% 10 > 5) {\n",
    "        L <- L + 1\n",
    "    }\n",
    "    x <- as.integer(x / 10)\n",
    "}\n",
    "\n",
    "print(paste(L, M, sep=\" \"))"
   ]
  },
  {
   "cell_type": "code",
   "execution_count": 65,
   "metadata": {},
   "outputs": [
    {
     "name": "stdout",
     "output_type": "stream",
     "text": [
      "[1] 230\n",
      "[1] 231\n",
      "[1] 232\n",
      "[1] 233\n",
      "[1] 234\n",
      "[1] 235\n",
      "[1] 236\n",
      "[1] 237\n",
      "[1] 238\n",
      "[1] 239\n",
      "[1] 240\n"
     ]
    },
    {
     "data": {
      "text/html": [
       "234"
      ],
      "text/latex": [
       "234"
      ],
      "text/markdown": [
       "234"
      ],
      "text/plain": [
       "[1] 234"
      ]
     },
     "metadata": {},
     "output_type": "display_data"
    }
   ],
   "source": [
    "# расширенная версия программы\n",
    "MIN <- 1000\n",
    "\n",
    "for (x in 230:240) {  \n",
    "    L <- 0; M <- 1\n",
    "    t <- x\n",
    "    while (x > 0) {\n",
    "        M <- M * (x %% 10)\n",
    "        if (x %% 10 > 5) {\n",
    "            L <- L + 1\n",
    "        }    \n",
    "        if (L == 0 & M == 24 & MIN > t) {\n",
    "            MIN <- t\n",
    "        }\n",
    "        \n",
    "        x <- as.integer(x / 10)\n",
    "    }\n",
    "    print(t, L, M)\n",
    "}\n",
    "\n",
    "MIN"
   ]
  },
  {
   "cell_type": "code",
   "execution_count": 66,
   "metadata": {},
   "outputs": [],
   "source": [
    "answer_dictionary[20] <- toString(MIN)"
   ]
  },
  {
   "cell_type": "markdown",
   "metadata": {},
   "source": [
    "## 21.\n",
    "Определите, при каком наименьшем значении `b` в результате выполнения следующего алгоритма будет напечатано число `100` \n",
    "\n",
    "(для Вашего удобства алгоритм представлен на нескольких языках).\n",
    "\n",
    "---\n",
    "\n",
    "Determine at what the smallest value of `b` as a result of the following algorithm will be printed the number `100` \n",
    "\n",
    "(for your convenience, the algorithm is presented in several languages).\n",
    "<table style=\"width:95%;\">\n",
    "  <tr style=\"color:slategray;font-size:120%;font-family:'Roboto';\">\n",
    "    <th style=\"text-align:center;\">Python</th> \n",
    "    <th style=\"text-align:center;\">R</th>          \n",
    "  </tr>\n",
    "  <tr>\n",
    "    <td style=\"font-weight:bold;text-align:left;\"><pre><code class='python'>\n",
    "    \n",
    "def F(x):\n",
    "    s, i = 0, 1\n",
    "    while i <= x:\n",
    "        s += 5\n",
    "        i += 1\n",
    "    return s\n",
    "\n",
    "b = int(input())\n",
    "a = 0\n",
    "\n",
    "while F(a) < b:\n",
    "    a += 1\n",
    "\n",
    "print(a)  \n",
    "    </code></pre></td> \n",
    "    <td style=\"font-weight:bold;text-align:left;\"><pre><code class='r'>\n",
    "    \n",
    "F <- function(x) {\n",
    "    s <- 0; i <- 1\n",
    "    while (i <= x) {\n",
    "        s <- s + 5\n",
    "        i <- i + 1\n",
    "    }\n",
    "    return(s)\n",
    "}\n",
    "\n",
    "b <- as.integer(readline())\n",
    "a <- 0\n",
    "\n",
    "while (F(a) < b) {\n",
    "    a <- a + 1\n",
    "}\n",
    "\n",
    "print(a)\n",
    "    </code></pre></td>     \n",
    "  </tr>    \n",
    "</table>"
   ]
  },
  {
   "cell_type": "code",
   "execution_count": 185,
   "metadata": {},
   "outputs": [
    {
     "name": "stdout",
     "output_type": "stream",
     "text": [
      "496\n",
      "[1] 100\n"
     ]
    }
   ],
   "source": [
    "F <- function(x) {\n",
    "    s <- 0; i <- 1\n",
    "    while (i <= x) {\n",
    "        s <- s + 5\n",
    "        i <- i + 1\n",
    "    }\n",
    "    return(s)\n",
    "}\n",
    "\n",
    "b <- as.integer(readline())\n",
    "a <- 0\n",
    "\n",
    "while (F(a) < b) {\n",
    "    a <- a + 1\n",
    "}\n",
    "\n",
    "print(a)"
   ]
  },
  {
   "cell_type": "code",
   "execution_count": 67,
   "metadata": {},
   "outputs": [
    {
     "name": "stdout",
     "output_type": "stream",
     "text": [
      "[1] \"Pairs [b,a]:\"\n",
      "     [,1] [,2] [,3] [,4] [,5] [,6] [,7] [,8] [,9] [,10] [,11] [,12] [,13] [,14]\n",
      "[1,]  480  481  482  483  484  485  486  487  488   489   490   491   492   493\n",
      "[2,]   96   97   97   97   97   97   98   98   98    98    98    99    99    99\n",
      "     [,15] [,16] [,17] [,18] [,19] [,20] [,21] [,22] [,23] [,24] [,25] [,26]\n",
      "[1,]   494   495   496   497   498   499   500   501   502   503   504   505\n",
      "[2,]    99    99   100   100   100   100   100   101   101   101   101   101\n",
      "     [,27] [,28] [,29] [,30] [,31]\n",
      "[1,]   506   507   508   509   510\n",
      "[2,]   102   102   102   102   102\n"
     ]
    }
   ],
   "source": [
    "# расширенная версия программы\n",
    "F <- function(x) {\n",
    "    s <- 0; i <- 1\n",
    "    while (i <= x) {\n",
    "        s <- s + 5\n",
    "        i <- i + 1\n",
    "    }\n",
    "    return(s)\n",
    "}\n",
    "\n",
    "A <- matrix(nrow=2, ncol=510-479)\n",
    "\n",
    "for (b in 480:510) {\n",
    "    a <- 0\n",
    "    \n",
    "    while (F(a) < b) {\n",
    "        a <- a + 1\n",
    "    }\n",
    "    \n",
    "    A[1,b-479] <- b\n",
    "    A[2,b-479] <- a    \n",
    "}\n",
    "\n",
    "print(\"Pairs [b,a]:\")\n",
    "print(A)"
   ]
  },
  {
   "cell_type": "code",
   "execution_count": 68,
   "metadata": {},
   "outputs": [],
   "source": [
    "answer_dictionary[21] <- '496'"
   ]
  },
  {
   "cell_type": "markdown",
   "metadata": {},
   "source": [
    "## 22.\n",
    "У исполнителя `Утроитель` две команды, которым присвоены номера:\n",
    "\n",
    "$1$. `прибавь 2,`\n",
    "\n",
    "$2$. `умножь на 3`.\n",
    "\n",
    "Первая из них увеличивает число на экране на 2, вторая утраивает его. \n",
    "\n",
    "Программа для `Утроителя` — это последовательность команд.\n",
    "\n",
    "Сколько есть программ, которые число 2 преобразуют в число 28?\n",
    "\n",
    "---\n",
    "\n",
    "The performer `Tripler` can execute two enumerated commands:\n",
    "\n",
    "$1$. `add 2,`\n",
    "\n",
    "$2$. `multiply by 3`.\n",
    "\n",
    "The first of them increases the number on the screen by 2, the second one triples it.\n",
    "\n",
    "The program for `Tripler` is a sequence of commands.\n",
    "\n",
    "How many programs convert the number 2 to the number 28?"
   ]
  },
  {
   "cell_type": "code",
   "execution_count": 69,
   "metadata": {},
   "outputs": [
    {
     "data": {
      "image/png": "[encoded data removed]",
      "text/plain": [
       "Plot with title “”"
      ]
     },
     "metadata": {},
     "output_type": "display_data"
    }
   ],
   "source": [
    "options(repr.plot.width=9,repr.plot.height=9)\n",
    "edges1 <- c('2','4', '2','6', '4','6 ', '4','12', '6','8', '6','18',\n",
    "            '6 ','8 ', '6 ','18 ', '12','14', '12','36', \n",
    "            '8','10 ', '8','24 ', '18','20 ', '18','54')\n",
    "\n",
    "elabels <- c('+2','*3', '+2','*3', '+2','*3', '+2','*3',\n",
    "             '+2','*3', '+2','*3', '+2','*3', '+2','*3')\n",
    "\n",
    "g1 <- graph(edges1)\n",
    "\n",
    "plot(g1,layout=layout_as_tree(g1,circular=TRUE),\n",
    "     edge.label=elabels,vertex.color=\"steelblue\",\n",
    "     vertex.size=15,vertex.label.cex=1.5,\n",
    "     vertex.frame.color=\"gray\",vertex.shape='square')"
   ]
  },
  {
   "cell_type": "markdown",
   "metadata": {},
   "source": [
    "|Порядковый номер / Serial Number | Последовательность чисел / Sequence of Numbers | Программа / Program |\n",
    "|:-|:-|:-|\n",
    "| 1 | 2,4,6,8,10,12,14,16,18,20,22,24,26,28 | `1111111111111` |\n",
    "| 2 | 2,4,12,14,16,18,20,22,24,26,28 | `1211111111` |\n",
    "| 3 | 2,4,6,18,20,22,24,26,28 | `11211111` |\n",
    "| 4 | 2,4,6,8,24,26,28 | `111211` |\n",
    "| 5 | 2,6,8,10,12,14,16,18,20,22,24,26,28 | `211111111111` |\n",
    "| 6 | 2,6,8,24,26,28 | `21211` |\n",
    "| 7 | 2,6,18,20,22,24,26,28 | `2211111` |"
   ]
  },
  {
   "cell_type": "code",
   "execution_count": 70,
   "metadata": {},
   "outputs": [
    {
     "name": "stdout",
     "output_type": "stream",
     "text": [
      "[1] 1\n",
      "[1] 2\n",
      "[1] 4\n",
      "[1] 8\n",
      "[1] 16\n",
      "[1] 32\n",
      "[1] 64\n",
      "[1] 128\n",
      "[1] 256\n",
      "[1] 512\n",
      "[1] 1024\n",
      "[1] 2048\n",
      "[1] 4096\n",
      "[1] 8192\n"
     ]
    },
    {
     "data": {
      "text/html": [
       "32767"
      ],
      "text/latex": [
       "32767"
      ],
      "text/markdown": [
       "32767"
      ],
      "text/plain": [
       "[1] 32767"
      ]
     },
     "metadata": {},
     "output_type": "display_data"
    }
   ],
   "source": [
    "x <- c(2)\n",
    "\n",
    "for (i in 0:13) {    \n",
    "    n <- as.integer(length(x) - 2 ** i + 1)\n",
    "    print(n)\n",
    "    y <- c(); z <- c()\n",
    "    \n",
    "    for (j in n:length(x)) {\n",
    "        y <- c(y, x[j] + 2) \n",
    "        z <- c(z, x[j] * 3)\n",
    "    }\n",
    "    \n",
    "    x <- c(x, y, z)\n",
    "}\n",
    "\n",
    "length(x)"
   ]
  },
  {
   "cell_type": "code",
   "execution_count": 71,
   "metadata": {},
   "outputs": [
    {
     "data": {
      "text/plain": [
       "x\n",
       "  2   4   6   8  10  12  14  16  18  20  22  24  26  28  30  32  34  36  38  40 \n",
       "  1   1   2   2   2   3   3   3   5   5   5   7   7   7   9   8   7  10   9   9 \n",
       " 42  44  46  48  50  52  54  56  58  60  62  64  66  68  70  72  74  76  78  80 \n",
       " 11  10   9  11  10   9  13  12  11  14  13  11  15  13  12  17  16  13  18  15 \n",
       " 82  84  86  88  90  92  94  96  98 100 102 104 \n",
       " 13  17  15  12  19  15  13  17  15  12  17  14 "
      ]
     },
     "metadata": {},
     "output_type": "display_data"
    }
   ],
   "source": [
    "nt <- table(x)\n",
    "nt[1:52]"
   ]
  },
  {
   "cell_type": "code",
   "execution_count": 72,
   "metadata": {},
   "outputs": [],
   "source": [
    "answer_dictionary[22] <- toString(nt[names(nt) == 28])"
   ]
  },
  {
   "cell_type": "markdown",
   "metadata": {},
   "source": [
    "## 23.\n",
    "Сколько существует различных наборов значений логических переменных $x_1, х_2, ... х_7, x_{8}$, \n",
    "\n",
    "которые удовлетворяют всем перечисленным ниже условиям? \n",
    "\n",
    "В ответе не нужно перечислять все различные наборы значений $x_1, х_2, ... х_7, x_{8}$, \n",
    "\n",
    "при которых выполнена данная система равенств. \n",
    "\n",
    "В качестве ответа вам нужно указать количество таких наборов.\n",
    "\n",
    "---\n",
    "\n",
    "How many different sets of values of logical variables $x_1, х_2, ... х_7, x_{8}$ exist \n",
    "\n",
    "that satisfy all the conditions listed below?\n",
    "\n",
    "In the answer it is not necessary to list all the different sets of values $x_1, х_2, ... х_7, x_{8}$ \n",
    "\n",
    "for which the given system of equations is satisfied. \n",
    "\n",
    "As an answer, you need to specify only the number of such sets.\n",
    "\n",
    "- $ (x_1 \\equiv x_2) \\lor (x_1 \\land x_3) \\lor (\\neg x_1 \\land \\neg x_3) = 1 $  **(1)**\n",
    "- $ (x_2 \\equiv x_3) \\lor (x_2 \\land x_4) \\lor (\\neg x_2 \\land \\neg x_4) = 1 $  **(2)**\n",
    "- $ (x_3 \\equiv x_4) \\lor (x_3 \\land x_5) \\lor (\\neg x_3 \\land \\neg x_5) = 1 $  **(3)**\n",
    "- $ (x_4 \\equiv x_5) \\lor (x_4 \\land x_6) \\lor (\\neg x_4 \\land \\neg x_6) = 1 $  **(4)**\n",
    "- $ (x_5 \\equiv x_6) \\lor (x_5 \\land x_7) \\lor (\\neg x_5 \\land \\neg x_7) = 1 $  **(5)**\n",
    "- $ (x_6 \\equiv x_7) \\lor (x_6 \\land x_8) \\lor (\\neg x_6 \\land \\neg x_8) = 1 $  **(6)**"
   ]
  },
  {
   "cell_type": "markdown",
   "metadata": {},
   "source": [
    "$ \\begin{cases}\n",
    "(x_1 \\equiv x_2) \\lor (x_1 \\land x_3) \\lor (\\neg x_1 \\land \\neg x_3) = 1 \\\\\n",
    "(x_2 \\equiv x_3) \\lor (x_2 \\land x_4) \\lor (\\neg x_2 \\land \\neg x_4) = 1 \\\\\n",
    "(x_3 \\equiv x_4) \\lor (x_3 \\land x_5) \\lor (\\neg x_3 \\land \\neg x_5) = 1 \\\\\n",
    "(x_4 \\equiv x_5) \\lor (x_4 \\land x_6) \\lor (\\neg x_4 \\land \\neg x_6) = 1 \\\\\n",
    "(x_5 \\equiv x_6) \\lor (x_5 \\land x_7) \\lor (\\neg x_5 \\land \\neg x_7) = 1 \\\\\n",
    "(x_6 \\equiv x_7) \\lor (x_6 \\land x_8) \\lor (\\neg x_6 \\land \\neg x_8) = 1 \n",
    "\\end{cases} \\iff \\begin{cases}\n",
    "(x_1 \\equiv x_2) \\lor (x_1 \\equiv x_3) = 1 \\ (1*)\\\\\n",
    "(x_2 \\equiv x_3) \\lor (x_2 \\equiv x_4) = 1 \\ (2*)\\\\\n",
    "(x_3 \\equiv x_4) \\lor (x_3 \\equiv x_5) = 1 \\ (3*)\\\\\n",
    "(x_4 \\equiv x_5) \\lor (x_4 \\equiv x_6) = 1 \\ (4*)\\\\\n",
    "(x_5 \\equiv x_6) \\lor (x_5 \\equiv x_7) = 1 \\ (5*)\\\\\n",
    "(x_6 \\equiv x_7) \\lor (x_6 \\equiv x_8) = 1 \\ (6*)\n",
    "\\end{cases}$"
   ]
  },
  {
   "cell_type": "markdown",
   "metadata": {},
   "source": [
    "1) \n",
    "\n",
    "Тождество $(1*)$ выполнется только для `6` наборов переменных $(x_1,x_2,x_3)$ из 8 возможных:\n",
    "\n",
    "The identity $(1*)$ is fulfilled only for `6` sets of variables $(x_1,x_2,x_3)$ from 8 possible ones: \n",
    "\n",
    "(0,0,0), (0,0,1), (0,1,0), (1,1,1), (1,1,0), (1,0,1). \n",
    "\n",
    "2) \n",
    "\n",
    "Эти наборы $(x_1,x_2,x_3)$ должны пересекаться со множеством решений тождества $(2*)$ для переменных $(x_2,x_3,x_4)$. \n",
    "\n",
    "Два варианта из пункта 1) с $(x_1,x_2,x_3)$ = (0,0,0), (1,1,1) являются решениями для $(2*)$ при любых значениях $(x_4)$.\n",
    "\n",
    "Получается `2 * 2 = 4` возможных сочетания $(x_1,x_2,x_3,x_4)$. \n",
    "\n",
    "Остальные четыре варианта из пункта 1) с $(x_1,x_2,x_3)$ = (0,0,1), (0,1,0), (1,1,0), (1,0,1) не нарушают $(2*)$ \n",
    "\n",
    "только в случае $x_4 \\equiv x_2$: (0,0,1,0), (0,1,0,1), (1,1,0,1), (1,0,1,0). \n",
    "\n",
    "Всего тождествам $(1*)$ и $(2*)$ соответствуют `4 + 4 = 8` наборов переменных $(x_1,x_2,x_3,x_4)$. \n",
    "\n",
    "These sets $(x_1,x_2,x_3)$ must intersect the set of solutions of the identity $(2*)$ for the variables   $(x_2,x_3,x_4)$. \n",
    "\n",
    "Two variants from the point 1) with $(x_1,x_2,x_3)$ = (0,0,0), (1,1,1) are solutions of $(2*)$ for any values of $(x_4)$. \n",
    "\n",
    "It turns out `2 * 2 = 4` possible combinations $(x_1,x_2,x_3,x_4)$. \n",
    "\n",
    "Other four variants from the point 1) with $(x_1,x_2,x_3)$ = (0,0,1), (0,1,0), (1,1,0), (1,0,1) do not violate $(2*)$ \n",
    "\n",
    "only in the case $x_4 \\equiv x_2$: (0,0,1,0), (0,1,0,1), (1,1,0,1), (1,0,1,0). \n",
    "\n",
    "In total, identities $(1*)$ and $(2*)$ correspond to `4 + 4 = 8` sets of variables $(x_1,x_2,x_3,x_4)$.\n",
    "\n",
    "3) \n",
    "\n",
    "Аналогично рассматриваются тождества $(3*), (4*), (5*), (6*)$. \n",
    "\n",
    "При каждом увеличении количества переменных добавляется всего два новых набора. \n",
    "\n",
    "В итоге получится `6 + 5 * 2 = 16`.\n",
    "\n",
    "The identities $(3*), (4*), (5*), (6*)$ are treated similarly. \n",
    "\n",
    "With each increase in the number of variables, only two new sets are added. \n",
    "\n",
    "As a result, we get `6 + 5 * 2 = 16`."
   ]
  },
  {
   "cell_type": "code",
   "execution_count": 73,
   "metadata": {},
   "outputs": [
    {
     "data": {
      "text/html": [
       "16"
      ],
      "text/latex": [
       "16"
      ],
      "text/markdown": [
       "16"
      ],
      "text/plain": [
       "[1] 16"
      ]
     },
     "metadata": {},
     "output_type": "display_data"
    }
   ],
   "source": [
    "# check the decision method\n",
    "bc <- bincombinations(8)\n",
    "c <- 0\n",
    "n <- length(bc)/8\n",
    "\n",
    "logical_function <- function(k,l,m) {\n",
    "    (k == l) | (k & m) | (!k & !m)\n",
    "}\n",
    "\n",
    "for (i in 1:n){\n",
    "    el <- bc[i,]\n",
    "    e1 <- logical_function(el[1],el[2],el[3])\n",
    "    e2 <- logical_function(el[2],el[3],el[4])\n",
    "    e3 <- logical_function(el[3],el[4],el[5])\n",
    "    e4 <- logical_function(el[4],el[5],el[6])\n",
    "    e5 <- logical_function(el[5],el[6],el[7])\n",
    "    e6 <- logical_function(el[6],el[7],el[8])\n",
    "    \n",
    "    result <- (e1 == 1) & (e2 == 1) & (e3 == 1) & (e4 == 1) & (e5 == 1) & (e6 == 1)\n",
    "    \n",
    "    if (result == 1) {\n",
    "        c <- c + 1\n",
    "    }\n",
    "}\n",
    "c"
   ]
  },
  {
   "cell_type": "code",
   "execution_count": 74,
   "metadata": {},
   "outputs": [],
   "source": [
    "answer_dictionary[23] <- toString(c)"
   ]
  },
  {
   "cell_type": "markdown",
   "metadata": {},
   "source": [
    "## Часть 2 &nbsp; &nbsp; &nbsp;​ Part 2\n",
    "## 24.\n",
    "Требовалось написать программу, при выполнении которой \n",
    "\n",
    "- с клавиатуры считывается координата точки на прямой (х — действительное число) и \n",
    "- определяется принадлежность этой точки одному из выделенных отрезков В и D (включая границы). \n",
    "\n",
    "Программист торопился и написал программу неправильно.\n",
    "\n",
    "---\n",
    "\n",
    "It was required to write a program which \n",
    "\n",
    "- reads from the keyboard the coordinate of a point on a line (x is a real number) and \n",
    "- determines whether this point belongs to one of the selected segments B and D (including boundaries).\n",
    "\n",
    "The programmer was in a hurry and wrote the program incorrectly.\n",
    "\n",
    "<table style=\"width:95%;\">\n",
    "  <tr style=\"color:slategray;font-size:120%;font-family:'Roboto';\">\n",
    "    <th style=\"text-align:center;\">Python</th> \n",
    "    <th style=\"text-align:center;\">R</th>          \n",
    "  </tr>\n",
    "  <tr>\n",
    "    <td style=\"font-weight:bold;text-align:left;\"><pre><code class='python'>\n",
    "\n",
    "x = float(input('x = '))\n",
    "if x <= 11:\n",
    "    if x >= -1:\n",
    "        if x < 7:\n",
    "             print('принадлежит')\n",
    "        else:\n",
    "             print('не принадлежит') \n",
    "    </code></pre></td> \n",
    "    <td style=\"font-weight:bold;text-align:left;\"><pre><code class='r'>\n",
    "\n",
    "x <- as.numeric(readline('x = '))\n",
    "if (x <= 11) {\n",
    "    if (x >= -1) {\n",
    "        if (x < 7) {\n",
    "             print('принадлежит')\n",
    "        } else {\n",
    "             print('не принадлежит') \n",
    "        }\n",
    "    }\n",
    "}    \n",
    "    </code></pre></td>     \n",
    "  </tr>    \n",
    "</table>"
   ]
  },
  {
   "cell_type": "code",
   "execution_count": 75,
   "metadata": {},
   "outputs": [
    {
     "data": {
      "image/png": "[encoded data removed]",
      "text/plain": [
       "plot without title"
      ]
     },
     "metadata": {},
     "output_type": "display_data"
    }
   ],
   "source": [
    "options(repr.plot.width=6,repr.plot.height=3)\n",
    "par(mar=c(2,2,2,2))\n",
    "\n",
    "plot(c(-1,3,7,11),c(0,0,0,0),col='steelblue',pch=20,cex=2,\n",
    "     xaxt='n',yaxt='n',xlim=c(-2,12),ylim=c(-0.5,0.5))\n",
    "\n",
    "polygon(c(-1,3,3,-1),c(0,0,0.05,0.05),\n",
    "        col='steelblue',density=c(10),border=NA)\n",
    "polygon(c(7,11,11,7),c(0,0,0.05,0.05),\n",
    "        col='steelblue',density=c(10),border=NA)\n",
    "\n",
    "axis(1,pos=0,at=-2:12)\n",
    "axis(3,pos=0,tck=0,col.axis='steelblue',cex.axis=1.5,\n",
    "     at=c(-1.5,1,5,9,11.5),labels=c('A','B','C','D','E'))\n",
    "text(12.25,0.1,\"x\")\n",
    "arrows(12,0,12.45,0,angle=40,length=0.15)"
   ]
  },
  {
   "cell_type": "markdown",
   "metadata": {},
   "source": [
    "Последовательно выполните следующее: / Do the following sequentially:\n",
    "\n",
    "$1$. \n",
    "\n",
    "Перерисуйте и заполните таблицу, которая показывает, как работает программа \n",
    "\n",
    "при аргументах, принадлежащих различным областям (A, B, C, D и E). \n",
    "\n",
    "Границы (точки -1, 3, 7 и 11) принадлежат заштрихованным областям (B и D соответственно).\n",
    "\n",
    "В столбцах условий укажите «да», если условие выполнится, «нет», если условие не выполнится, «—» (прочерк), если условие не будет проверяться, «не изв.», если программа ведёт себя по-разному для разных значений, принадлежащих данной области. В столбце «Программа выведет» укажите, что программа выведет на экран. Если программа ничего не выводит, напишите «—» (прочерк). Если для разных значений, принадлежащих области, будут выведены разные тексты, напишите «не изв.». В последнем столбце укажите «Да» или «Нет».\n",
    "\n",
    "Redraw and fill in the table, which shows how the program works \n",
    "\n",
    "with arguments belonging to different areas (A, B, C, D and E). \n",
    "\n",
    "The boundaries (points -1, 3, 7 and 11) belong to the shaded regions (B and D, respectively).\n",
    "\n",
    "In the condition columns, specify \"yes\" if the condition is fulfilled, \"no\" if the condition fails, \"-\" (dash), if the condition is not checked, \"unknown\" if the program behaves differently for different values, belonging to the given area. In the \"Program Output\" column, specify what the program will display. If the program does not print anything, write \"-\" (dash). If different texts are output for different values belonging to the region, write \"unknown\". In the last column, indicate \"Yes\" or \"No\".\n",
    "\n",
    "| Область | Условие 1 | Условие 2 | Условие 3 | Программа выведет | Область обрабатывается верно |\n",
    "|-:|-:|-:|-:|-:|-:|\n",
    "| Area | Condition 1 | Condition 2 | Condition 3 | Program Outputs | The Area Is Processed Correctly |\n",
    "|   | `x  ≤ 11` | `x ≥ -1` | `x < 7` |  |  |\n",
    "| A |  |  |  |  |  |\n",
    "| B |  |  |  |  |  |\n",
    "| C |  |  |  |  |  |\n",
    "| D |  |  |  |  |  |\n",
    "| E |  |  |  |  | .|\n",
    "\n",
    "$2$. \n",
    "\n",
    "Укажите, как нужно доработать программу, чтобы не было случаев её неправильной работы. \n",
    "\n",
    "(Это можно сделать несколькими способами, поэтому можно указать любой способ доработки исходной программы.)\n",
    "\n",
    "Specify, how it is necessary to finish the program, that there are no cases of its wrong work. \n",
    "\n",
    "(You can do this in several ways, just specify any way to modify the source program.)"
   ]
  },
  {
   "cell_type": "code",
   "execution_count": 203,
   "metadata": {},
   "outputs": [
    {
     "name": "stdout",
     "output_type": "stream",
     "text": [
      "x = 5.5\n",
      "[1] \"принадлежит\"\n"
     ]
    }
   ],
   "source": [
    "# the wrong variant\n",
    "x <- as.numeric(readline('x = '))\n",
    "if (x <= 11) {\n",
    "    if (x >= -1) {\n",
    "        if (x < 7) {\n",
    "             print('принадлежит')\n",
    "        } else {\n",
    "             print('не принадлежит') \n",
    "        }\n",
    "    }\n",
    "}"
   ]
  },
  {
   "cell_type": "markdown",
   "metadata": {},
   "source": [
    "1.\n",
    "\n",
    "| Область | Условие 1 | Условие 2 | Условие 3 | Программа выведет | Область обрабатывается верно |\n",
    "|-:|-:|-:|-:|-:|-:|\n",
    "| Area | Condition 1 | Condition 2 | Condition 3 | Program Outputs | The Area Is Processed Correctly |\n",
    "|   | `x  ≤ 11` | `x ≥ -1` | `x < 7` |  |  |\n",
    "| A | Да / yes | Нет / no | - | - | Нет / no |\n",
    "| B | Да / yes | Да / yes | Да / yes | принадлежит / belongs | Да / yes |\n",
    "| C | Да / yes | Да / yes | Да / yes | принадлежит/ belongs | Нет / no |\n",
    "| D | Да / yes | Да / yes | Нет / no | не принадлежит/ does not belong | Нет / no |\n",
    "| E | Нет / no | - | - | - | Нет / no |\n",
    "\n",
    "2."
   ]
  },
  {
   "cell_type": "code",
   "execution_count": 204,
   "metadata": {},
   "outputs": [
    {
     "name": "stdout",
     "output_type": "stream",
     "text": [
      "x = 5.5\n",
      "[1] \"не принадлежит\"\n"
     ]
    }
   ],
   "source": [
    "# the right variant\n",
    "x <- as.numeric(readline('x = '))\n",
    "if (((x >= -1) & (x <= 3)) | ((x >= 7) & (x <= 11))) {\n",
    "    print('принадлежит')\n",
    "} else {\n",
    "    print('не принадлежит')\n",
    "}"
   ]
  },
  {
   "cell_type": "code",
   "execution_count": 76,
   "metadata": {},
   "outputs": [],
   "source": [
    "answer_dictionary[24] <- \"\n",
    "1.\n",
    "| Область | Условие 1 | Условие 2 | Условие 3 | Программа выведет | Область обрабатывается верно |\n",
    "|-:|-:|-:|-:|-:|-:|\n",
    "| Area | Condition 1 | Condition 2 | Condition 3 | Program Outputs | The Area Is Processed Correctly |\n",
    "|   | `x  ≤ 11` | `x ≥ -1` | `x < 7` |  |  |\n",
    "| A | Да / yes | Нет / no | - | - | Нет / no |\n",
    "| B | Да / yes | Да / yes | Да / yes | принадлежит / belongs | Да / yes |\n",
    "| C | Да / yes | Да / yes | Да / yes | принадлежит/ belongs | Нет / no |\n",
    "| D | Да / yes | Да / yes | Нет / no | не принадлежит/ does not belong | Нет / no |\n",
    "| E | Нет / no | - | - | - | Нет / no |\n",
    "2.\n",
    "if (x <= 11) {\n",
    "    if (x >= -1) {\n",
    "        if (x < 7) {\n",
    "⟹\n",
    "if (((x >= -1) & (x <= 3)) | ((x >= 7) & (x <= 11))) {\n",
    "\""
   ]
  },
  {
   "cell_type": "markdown",
   "metadata": {},
   "source": [
    "## 25.\n",
    "Дан целочисленный массив из 40 элементов. Элементы массива могут принимать произвольные значения. \n",
    "\n",
    "Опишите на русском языке или на одном из языков программирования алгоритм, \n",
    "\n",
    "который находит и выводит номера двух элементов массива, сумма которых минимальна.\n",
    "\n",
    "Исходные данные объявлены так, как показано ниже. \n",
    "\n",
    "Запрещается использовать переменные, не описанные ниже, но разрешается не использовать часть из них.\n",
    "\n",
    "- Объявляем массив A из 40 элементов.\n",
    "\n",
    "- Объявляем целочисленные переменные I, J, MIN, MIN2, S.\n",
    "\n",
    "- В цикле от 1 до 40 вводим элементы массива A с 1-го по 40-й.\n",
    "\n",
    "- ...\n",
    "\n",
    "В качестве ответа вам необходимо привести фрагмент программы (или описание алгоритма на естественном языке), который должен находиться на месте многоточия. \n",
    "\n",
    "Вы можете записать решение также на другом языке программирования (укажите название и используемую версию языка программирования, например `Borland Pascal 7.0`) или в виде блок-схемы. \n",
    "\n",
    "В этом случае вы должны использовать те же самые исходные данные и переменные, какие были предложены в условии (например, в образце, записанном на естественном языке).\n",
    "\n",
    "---\n",
    "\n",
    "An integer array of 40 elements is given. Array elements can take arbitrary values. \n",
    "\n",
    "Describe in Russian / English or in one of the programming languages an algorithm \n",
    "\n",
    "that finds and displays the numbers of two elements of the array, the sum of which is minimal.\n",
    "\n",
    "The original data is declared as shown below. \n",
    "\n",
    "It is forbidden to use variables not described below, but it is allowed not to use a part of them.\n",
    "\n",
    "- Declare an array A of 40 elements.\n",
    "\n",
    "- Declare the integer variables I, J, MIN, MIN2, S.\n",
    "\n",
    "- In the cycle from 1 to 40, the elements of array A from the 1st to the 40th are entered.\n",
    "\n",
    "- ...\n",
    "\n",
    "As an answer, you need to bring the program fragment (or description of the algorithm in natural language), which should be in place of the ellipsis. \n",
    "\n",
    "You can also write the solution in another programming language (specify the name and the version of the programming language used, for example, `Borland Pascal 7.0`) or as a flowchart. \n",
    "\n",
    "In this case, you must use the same source data and variables that were proposed in the condition (for example, in a sample written in the natural language).\n",
    "<table style=\"width:95%;\">\n",
    "  <tr style=\"color:slategray;font-size:120%;font-family:'Roboto';\">\n",
    "    <th style=\"text-align:center;\">Python</th> \n",
    "    <th style=\"text-align:center;\">R</th>          \n",
    "  </tr>\n",
    "  <tr>\n",
    "    <td style=\"font-weight:bold;text-align:left;\"><pre><code class='python'>\n",
    "    \n",
    "N = 40\n",
    "A = []\n",
    "\n",
    "#use integer variables I, J, MIN, MIN2, S\n",
    "\n",
    "for S in range(N):\n",
    "    A.append(int(input()))       \n",
    "    </code></pre></td> \n",
    "    <td style=\"font-weight:bold;text-align:left;\"><pre><code class='r'>\n",
    "    \n",
    "N <- 40\n",
    "A <- vector(length=N)\n",
    "#use integer variables I, J, MIN, MIN2, S\n",
    "\n",
    "for (S in 1:N){\n",
    "    A[S] <- as.integer(readline())\n",
    "...\n",
    "}   \n",
    "    </code></pre></td>     \n",
    "  </tr>    \n",
    "</table>"
   ]
  },
  {
   "cell_type": "code",
   "execution_count": 77,
   "metadata": {},
   "outputs": [],
   "source": [
    "version <- R.version.string"
   ]
  },
  {
   "cell_type": "code",
   "execution_count": 82,
   "metadata": {},
   "outputs": [
    {
     "name": "stdout",
     "output_type": "stream",
     "text": [
      "10\n",
      "20\n",
      "30\n",
      "40\n",
      "50\n",
      "60\n",
      "70\n",
      "80\n",
      "90\n",
      "-100000\n",
      "-10\n",
      "-20\n",
      "-30\n",
      "-40\n",
      "-50\n",
      "-60\n",
      "-70\n",
      "-80\n",
      "-90\n",
      "-20000000\n",
      "100\n",
      "200\n",
      "300\n",
      "400\n",
      "500\n",
      "600\n",
      "700\n",
      "800\n",
      "900\n",
      "-100\n",
      "-200\n",
      "-300\n",
      "-400\n",
      "-500\n",
      "-600\n",
      "-700\n",
      "-800\n",
      "-900\n",
      "10000000\n",
      "2000000\n"
     ]
    },
    {
     "data": {
      "text/html": [
       "<ol class=list-inline>\n",
       "\t<li>10</li>\n",
       "\t<li>20</li>\n",
       "</ol>\n"
      ],
      "text/latex": [
       "\\begin{enumerate*}\n",
       "\\item 10\n",
       "\\item 20\n",
       "\\end{enumerate*}\n"
      ],
      "text/markdown": [
       "1. 10\n",
       "2. 20\n",
       "\n",
       "\n"
      ],
      "text/plain": [
       "[1] 10 20"
      ]
     },
     "metadata": {},
     "output_type": "display_data"
    }
   ],
   "source": [
    "N <- 40\n",
    "A <- vector(length=N)\n",
    "S <- 0; MIN <- 10**12; MIN2 <- 10**12\n",
    "I <- 0; J <- 0\n",
    "\n",
    "for (S in 1:N) {\n",
    "    A[S] <- as.integer(readline())\n",
    "# The fragment instead of the ellipsis    \n",
    "    if (A[S] <= MIN) {\n",
    "        MIN2 <- MIN; J <- I\n",
    "        MIN <- A[S]; I <- S\n",
    "    } else if (A[S] <= MIN2) {\n",
    "        MIN2 <- A[S]; J <- S\n",
    "    }\n",
    "} \n",
    "\n",
    "sort(c(I, J))  "
   ]
  },
  {
   "cell_type": "code",
   "execution_count": 83,
   "metadata": {},
   "outputs": [],
   "source": [
    "program_fragment <- \"\n",
    "N <- 40\n",
    "A <- vector(length=N)\n",
    "S <- 0; MIN <- 10**12; MIN2 <- 10**12\n",
    "I <- 0; J <- 0\n",
    "\n",
    "for (S in 1:N) {\n",
    "    A[S] <- as.integer(readline())\n",
    "# The fragment instead of the ellipsis    \n",
    "    if (A[S] <= MIN) {\n",
    "        MIN2 <- MIN; J <- I\n",
    "        MIN <- A[S]; I <- S\n",
    "    } else if (A[S] <= MIN2) {\n",
    "        MIN2 <- A[S]; J <- S\n",
    "    }\n",
    "} \n",
    "\n",
    "sort(c(I, J))    \n",
    "\""
   ]
  },
  {
   "cell_type": "code",
   "execution_count": 84,
   "metadata": {},
   "outputs": [],
   "source": [
    "answer_dictionary[25] <- paste(version, program_fragment, sep=\";\")"
   ]
  },
  {
   "cell_type": "markdown",
   "metadata": {},
   "source": [
    "## 26."
   ]
  },
  {
   "cell_type": "code",
   "execution_count": null,
   "metadata": {},
   "outputs": [],
   "source": []
  },
  {
   "cell_type": "markdown",
   "metadata": {},
   "source": [
    "## 27."
   ]
  },
  {
   "cell_type": "code",
   "execution_count": null,
   "metadata": {},
   "outputs": [],
   "source": []
  },
  {
   "cell_type": "markdown",
   "metadata": {},
   "source": [
    "## Ответы &nbsp; &nbsp; &nbsp; Answers"
   ]
  },
  {
   "cell_type": "code",
   "execution_count": 85,
   "metadata": {},
   "outputs": [
    {
     "data": {
      "text/plain": [
       "<hash> containing 24 key-value pair(s).\n",
       "  1 : 3\n",
       "  10 : 5\n",
       "  11 : 2133\n",
       "  12 : CGDA\n",
       "  13 : 8\n",
       "  14 : 45544\n",
       "  15 : 16\n",
       "  16 : 99\n",
       "  17 : 16500\n",
       "  18 : 14\n",
       "  19 : 7\n",
       "  2 : yxz\n",
       "  20 : 234\n",
       "  21 : 496\n",
       "  22 : 7\n",
       "  23 : 16\n",
       "  24 : \n",
       "1.\n",
       "| Область | Условие 1 | Условие 2 | Условие 3 | Программа выведет | Область обрабатывается верно |\n",
       "|-:|-:|-:|-:|-:|-:|\n",
       "| Area | Condition 1 | Condition 2 | Condition 3 | Program Outputs | The Area Is Processed Correctly |\n",
       "|   | `x  ≤ 11` | `x ≥ -1` | `x < 7` |  |  |\n",
       "| A | Да / yes | Нет / no | - | - | Нет / no |\n",
       "| B | Да / yes | Да / yes | Да / yes | принадлежит / belongs | Да / yes |\n",
       "| C | Да / yes | Да / yes | Да / yes | принадлежит/ belongs | Нет / no |\n",
       "| D | Да / yes | Да / yes | Нет / no | не принадлежит/ does not belong | Нет / no |\n",
       "| E | Нет / no | - | - | - | Нет / no |\n",
       "2.\n",
       "if (x <= 11) {\n",
       "    if (x >= -1) {\n",
       "        if (x < 7) {\n",
       "⟹\n",
       "if (((x >= -1) & (x <= 3)) | ((x >= 7) & (x <= 11))) {\n",
       "  25 : R version 3.5.0 (2018-04-23);\n",
       "N <- 40\n",
       "A <- vector(length=N)\n",
       "S <- 0; MIN <- 10**12; MIN2 <- 10**12\n",
       "I <- 0; J <- 0\n",
       "for (S in 1:N) {\n",
       "    A[S] <- as.integer(readline())\n",
       "# The fragment instead of the ellipsis    \n",
       "    if (A[S] <= MIN) {\n",
       "        MIN2 <- MIN; J <- I\n",
       "        MIN <- A[S]; I <- S\n",
       "    } else if (A[S] <= MIN2) {\n",
       "        MIN2 <- A[S]; J <- S\n",
       "    }\n",
       "} \n",
       "sort(c(I, J))    \n",
       "  3 : 16:20\n",
       "  4 : 3\n",
       "  6 : xxD\n",
       "  7 : 14\n",
       "  8 : 50\n",
       "  9 : 1"
      ]
     },
     "metadata": {},
     "output_type": "display_data"
    }
   ],
   "source": [
    "answer_dictionary"
   ]
  }
 ],
 "metadata": {
  "kernelspec": {
   "display_name": "R",
   "language": "R",
   "name": "ir"
  },
  "language_info": {
   "codemirror_mode": "r",
   "file_extension": ".r",
   "mimetype": "text/x-r-source",
   "name": "R",
   "pygments_lexer": "r",
   "version": "3.5.0"
  }
 },
 "nbformat": 4,
 "nbformat_minor": 2
}
