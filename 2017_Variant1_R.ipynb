{
 "cells": [
  {
   "cell_type": "markdown",
   "metadata": {},
   "source": [
    "# ЕГЭ 2017 Вариант 1 &nbsp; &nbsp; &nbsp; EGE 2017 Variant 1\n",
    "[ЕГЭ-2017. Информатика.10 тренировочных вариантов. Ушаков Д.М.](https://drive.google.com/file/d/0B6696ckkWj_zS2ptblAxNERHZzQ/view)\n",
    "## Часть 1 &nbsp; &nbsp; &nbsp; Part 1"
   ]
  },
  {
   "cell_type": "code",
   "execution_count": null,
   "metadata": {},
   "outputs": [],
   "source": []
  },
  {
   "cell_type": "markdown",
   "metadata": {},
   "source": [
    "1.\n",
    "\n",
    "Во сколько раз $34_8$ меньше чем $3400_8$? В ответе запишите только число в десятичной системе счисления.\n",
    "\n",
    "---\n",
    "\n",
    "How many times is $34_8$ less than $3400_8$? In the answer, write down only the number in the decimal number system."
   ]
  },
  {
   "cell_type": "code",
   "execution_count": null,
   "metadata": {},
   "outputs": [],
   "source": []
  },
  {
   "cell_type": "markdown",
   "metadata": {},
   "source": [
    "2.\n",
    "\n",
    "Дан фрагмент таблицы истинности выражения F. Значения в пустых клетках таблицы неизвестны и могут быть любыми из возможных.\n",
    "\n",
    "The fragment of the truth table of the expression F is given. Values in empty table cells are unknown and can be any of the possible ones.\n",
    "\n",
    "| $x_1$ | $x_2$ | $x_3$ | $F$ |\n",
    "|:-:|:-:|:-:|:-:|\n",
    "| | | | 0 |\n",
    "| 0 | 1 | 0 | 0 |\n",
    "\n",
    "Перечислите в порядке возрастания без запятых и пробелов номера логических выражений, которые могут соответствовать F.\n",
    "\n",
    "List in ascending order without commas and spaces the numbers of logical expressions that can correspond to F.\n",
    "\n",
    "1) $\\neg x_1 \\land x_2 \\land \\neg x_3$\n",
    "\n",
    "2) $x_1 \\lor \\neg x_2 \\lor \\neg x_3$\n",
    "\n",
    "3) $x_1 \\land \\neg x_2 \\land \\neg x_3$\n",
    "\n",
    "4) $\\neg x_1 \\land \\neg x_2 \\land x_3$\n",
    "\n",
    "5) $x_1 \\lor \\neg x_2 \\lor x_3$"
   ]
  },
  {
   "cell_type": "code",
   "execution_count": null,
   "metadata": {},
   "outputs": [],
   "source": []
  },
  {
   "cell_type": "markdown",
   "metadata": {},
   "source": [
    "3.\n",
    "\n",
    "На рисунке схема дорог Н-ского района изображена в виде графа, в таблице содержатся сведения о длинах этих дорог (в километрах).\n",
    "\n",
    "Так как таблицу и схему рисовали независимо друг от друга, то нумерация населённых пунктов в таблице никак не связана с буквенными обозначениями на графе. \n",
    "\n",
    "Определите, какова длина дороги из пункта Д в пункт К. В ответе запишите целое число — так, как оно указано в таблице.\n",
    "\n",
    "---\n",
    "\n",
    "In the figure, the road scheme of the N-region is drawn in the form of a graph, the table contains information on the lengths of these roads (in kilometers).\n",
    "\n",
    "Since the table and the diagram were drawn independently of each other, the numbering of settlements in the table is not connected with the letter symbols on the graph. \n",
    "\n",
    "Determine the length of the road from the point Д to the point К. In the answer, write down the integer number - as it is indicated in the table.\n",
    "\n",
    "| &#x123CF; | П1 | П2 | П3 | П4 | П5 | П6 | П7 |\n",
    "|:-:|:-:|:-:|:-:|:-:|:-:|:-:|:-:|\n",
    "| **П1** | &#x123CF; |  |  | 60 |  |  | 45 |\n",
    "| **П2** |  | &#x123CF; | 50 | 20 | 10 |  |  |\n",
    "| **П3** |  | 50 | &#x123CF; | 40 |  | 30 | 25 |\n",
    "| **П4** | 60 | 20 | 40 | &#x123CF; | 15 |  | 55 |\n",
    "| **П5** |  | 10 |  | 15 | &#x123CF; |  |  |\n",
    "| **П6** |  |  | 30 |  |  | &#x123CF; | 35 |\n",
    "| **П7** | 45 |  | 25 | 55 |  | 35 | &#x123CF; |"
   ]
  },
  {
   "cell_type": "code",
   "execution_count": null,
   "metadata": {},
   "outputs": [],
   "source": []
  }
 ],
 "metadata": {
  "kernelspec": {
   "display_name": "R 3.4",
   "language": "R",
   "name": "ir34"
  },
  "language_info": {
   "codemirror_mode": "r",
   "file_extension": ".r",
   "mimetype": "text/x-r-source",
   "name": "R",
   "pygments_lexer": "r",
   "version": "3.4.1"
  }
 },
 "nbformat": 4,
 "nbformat_minor": 2
}
