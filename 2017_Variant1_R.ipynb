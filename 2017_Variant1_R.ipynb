{
 "cells": [
  {
   "cell_type": "markdown",
   "metadata": {},
   "source": [
    "# ЕГЭ 2017 Вариант 1 &nbsp; &nbsp; &nbsp; EGE 2017 Variant 1\n",
    "[ЕГЭ-2017. Информатика.10 тренировочных вариантов. Ушаков Д.М.](https://drive.google.com/file/d/0B6696ckkWj_zS2ptblAxNERHZzQ/view)\n",
    "\n",
    "[Basic Regular Expressions in R Cheatsheet](https://www.rstudio.com/wp-content/uploads/2016/09/RegExCheatsheet.pdf)\n",
    "\n",
    "[Алгоритм Шеннона — Фано](https://ru.wikipedia.org/wiki/%D0%90%D0%BB%D0%B3%D0%BE%D1%80%D0%B8%D1%82%D0%BC_%D0%A8%D0%B5%D0%BD%D0%BD%D0%BE%D0%BD%D0%B0_%E2%80%94_%D0%A4%D0%B0%D0%BD%D0%BE)\n",
    "## Часть 1 &nbsp; &nbsp; &nbsp; Part 1"
   ]
  },
  {
   "cell_type": "code",
   "execution_count": 2,
   "metadata": {},
   "outputs": [],
   "source": [
    "library(IRdisplay)\n",
    "library(repr)\n",
    "library(hash)\n",
    "library(numbers)\n",
    "library(e1071)\n",
    "library(igraph)"
   ]
  },
  {
   "cell_type": "code",
   "execution_count": 3,
   "metadata": {},
   "outputs": [],
   "source": [
    "# install.packages('')"
   ]
  },
  {
   "cell_type": "code",
   "execution_count": 4,
   "metadata": {},
   "outputs": [
    {
     "data": {
      "text/html": [
       "<style>\n",
       "@import url('https://fonts.googleapis.com/css?family=Roboto');\n",
       "body {background-color: aliceblue;} \n",
       "a {color: #4876ff; font-family: 'Roboto';} \n",
       "h1 {color: #348ABD; font-family: 'Roboto'; text-shadow: 4px 4px 4px #aaa;} \n",
       "h2, h3 {color: gray; font-family: 'Roboto'; text-shadow: 4px 4px 4px #aaa;}\n",
       "h4 {color: #348ABD; font-family: 'Roboto';}\n",
       "span {text-shadow: 4px 4px 4px #aaa;}\n",
       "div.output_prompt, div.output_area pre, div.output_subarea {color: gray;}\n",
       "div.input_prompt {color: #4876ff;}      \n",
       "div.output_stderr pre {background-color: aliceblue;}  \n",
       "div.output_stderr {background-color: gray;}                        \n",
       "</style>"
      ]
     },
     "metadata": {},
     "output_type": "display_data"
    }
   ],
   "source": [
    "display_html(\"<style>\n",
    "@import url('https://fonts.googleapis.com/css?family=Roboto');\n",
    "body {background-color: aliceblue;} \n",
    "a {color: #4876ff; font-family: 'Roboto';} \n",
    "h1 {color: #348ABD; font-family: 'Roboto'; text-shadow: 4px 4px 4px #aaa;} \n",
    "h2, h3 {color: gray; font-family: 'Roboto'; text-shadow: 4px 4px 4px #aaa;}\n",
    "h4 {color: #348ABD; font-family: 'Roboto';}\n",
    "span {text-shadow: 4px 4px 4px #aaa;}\n",
    "div.output_prompt, div.output_area pre, div.output_subarea {color: gray;}\n",
    "div.input_prompt {color: #4876ff;}      \n",
    "div.output_stderr pre {background-color: aliceblue;}  \n",
    "div.output_stderr {background-color: gray;}                        \n",
    "</style>\")   "
   ]
  },
  {
   "cell_type": "code",
   "execution_count": 5,
   "metadata": {},
   "outputs": [],
   "source": [
    "answer_dictionary <- hash() "
   ]
  },
  {
   "cell_type": "markdown",
   "metadata": {},
   "source": [
    "## 1.\n",
    "\n",
    "Во сколько раз $34_8$ меньше чем $3400_8$? В ответе запишите только число в десятичной системе счисления.\n",
    "\n",
    "---\n",
    "\n",
    "How many times is $34_8$ less than $3400_8$? In the answer, write down only the number in the decimal number system."
   ]
  },
  {
   "cell_type": "code",
   "execution_count": 6,
   "metadata": {},
   "outputs": [
    {
     "data": {
      "text/html": [
       "64"
      ],
      "text/latex": [
       "64"
      ],
      "text/markdown": [
       "64"
      ],
      "text/plain": [
       "[1] 64"
      ]
     },
     "metadata": {},
     "output_type": "display_data"
    }
   ],
   "source": [
    "(3 * 8**3 + 4 * 8**2)/(3 * 8**1 + 4 * 8**0)"
   ]
  },
  {
   "cell_type": "code",
   "execution_count": 7,
   "metadata": {},
   "outputs": [],
   "source": [
    "answer_dictionary[1] <- '64'"
   ]
  },
  {
   "cell_type": "markdown",
   "metadata": {},
   "source": [
    "## 2.\n",
    "\n",
    "Дан фрагмент таблицы истинности выражения F. Значения в пустых клетках таблицы неизвестны и могут быть любыми из возможных.\n",
    "\n",
    "The fragment of the truth table of the expression F is given. Values in empty table cells are unknown and can be any of the possible ones.\n",
    "\n",
    "| $x_1$ | $x_2$ | $x_3$ | $F$ |\n",
    "|:-:|:-:|:-:|:-:|\n",
    "| | | | 0 |\n",
    "| 0 | 1 | 0 | 0 |\n",
    "\n",
    "Перечислите в порядке возрастания без запятых и пробелов номера логических выражений, которые могут соответствовать F.\n",
    "\n",
    "List in ascending order without commas and spaces the numbers of logical expressions that can correspond to F.\n",
    "\n",
    "1) $\\neg x_1 \\land x_2 \\land \\neg x_3$\n",
    "\n",
    "2) $x_1 \\lor \\neg x_2 \\lor \\neg x_3$\n",
    "\n",
    "3) $x_1 \\land \\neg x_2 \\land \\neg x_3$\n",
    "\n",
    "4) $\\neg x_1 \\land \\neg x_2 \\land x_3$\n",
    "\n",
    "5) $x_1 \\lor \\neg x_2 \\lor x_3$"
   ]
  },
  {
   "cell_type": "code",
   "execution_count": 8,
   "metadata": {},
   "outputs": [],
   "source": [
    "# Step 1. F(0,1,0)=0?\n",
    "f1 <- function(x1, x2, x3){return(!x1 & x2 & !x3)}\n",
    "f2 <- function(x1, x2, x3){return(x1 | !x2 | !x3)}\n",
    "f3 <- function(x1, x2, x3){return(x1 & !x2 & !x3)}\n",
    "f4 <- function(x1, x2, x3){return(!x1 & !x2 & x3)}\n",
    "f5 <- function(x1, x2, x3){return(x1 | !x2 | x3)}"
   ]
  },
  {
   "cell_type": "code",
   "execution_count": 9,
   "metadata": {},
   "outputs": [
    {
     "data": {
      "text/html": [
       "TRUE"
      ],
      "text/latex": [
       "TRUE"
      ],
      "text/markdown": [
       "TRUE"
      ],
      "text/plain": [
       "[1] TRUE"
      ]
     },
     "metadata": {},
     "output_type": "display_data"
    },
    {
     "data": {
      "text/html": [
       "TRUE"
      ],
      "text/latex": [
       "TRUE"
      ],
      "text/markdown": [
       "TRUE"
      ],
      "text/plain": [
       "[1] TRUE"
      ]
     },
     "metadata": {},
     "output_type": "display_data"
    },
    {
     "data": {
      "text/html": [
       "FALSE"
      ],
      "text/latex": [
       "FALSE"
      ],
      "text/markdown": [
       "FALSE"
      ],
      "text/plain": [
       "[1] FALSE"
      ]
     },
     "metadata": {},
     "output_type": "display_data"
    },
    {
     "data": {
      "text/html": [
       "FALSE"
      ],
      "text/latex": [
       "FALSE"
      ],
      "text/markdown": [
       "FALSE"
      ],
      "text/plain": [
       "[1] FALSE"
      ]
     },
     "metadata": {},
     "output_type": "display_data"
    },
    {
     "data": {
      "text/html": [
       "FALSE"
      ],
      "text/latex": [
       "FALSE"
      ],
      "text/markdown": [
       "FALSE"
      ],
      "text/plain": [
       "[1] FALSE"
      ]
     },
     "metadata": {},
     "output_type": "display_data"
    }
   ],
   "source": [
    "f1(0,1,0);f2(0,1,0);f3(0,1,0);f4(0,1,0);f5(0,1,0)"
   ]
  },
  {
   "cell_type": "code",
   "execution_count": 10,
   "metadata": {},
   "outputs": [
    {
     "data": {
      "text/html": [
       "<table>\n",
       "<tbody>\n",
       "\t<tr><td>0</td><td>0</td><td>0</td></tr>\n",
       "\t<tr><td>0</td><td>0</td><td>1</td></tr>\n",
       "\t<tr><td>0</td><td>1</td><td>0</td></tr>\n",
       "\t<tr><td>0</td><td>1</td><td>1</td></tr>\n",
       "\t<tr><td>1</td><td>0</td><td>0</td></tr>\n",
       "\t<tr><td>1</td><td>0</td><td>1</td></tr>\n",
       "\t<tr><td>1</td><td>1</td><td>0</td></tr>\n",
       "\t<tr><td>1</td><td>1</td><td>1</td></tr>\n",
       "</tbody>\n",
       "</table>\n"
      ],
      "text/latex": [
       "\\begin{tabular}{lll}\n",
       "\t 0 & 0 & 0\\\\\n",
       "\t 0 & 0 & 1\\\\\n",
       "\t 0 & 1 & 0\\\\\n",
       "\t 0 & 1 & 1\\\\\n",
       "\t 1 & 0 & 0\\\\\n",
       "\t 1 & 0 & 1\\\\\n",
       "\t 1 & 1 & 0\\\\\n",
       "\t 1 & 1 & 1\\\\\n",
       "\\end{tabular}\n"
      ],
      "text/markdown": [
       "\n",
       "| 0 | 0 | 0 | \n",
       "| 0 | 0 | 1 | \n",
       "| 0 | 1 | 0 | \n",
       "| 0 | 1 | 1 | \n",
       "| 1 | 0 | 0 | \n",
       "| 1 | 0 | 1 | \n",
       "| 1 | 1 | 0 | \n",
       "| 1 | 1 | 1 | \n",
       "\n",
       "\n"
      ],
      "text/plain": [
       "     [,1] [,2] [,3]\n",
       "[1,] 0    0    0   \n",
       "[2,] 0    0    1   \n",
       "[3,] 0    1    0   \n",
       "[4,] 0    1    1   \n",
       "[5,] 1    0    0   \n",
       "[6,] 1    0    1   \n",
       "[7,] 1    1    0   \n",
       "[8,] 1    1    1   "
      ]
     },
     "metadata": {},
     "output_type": "display_data"
    }
   ],
   "source": [
    "# Step 2. F(x1,x2,x3)=0 & (x1,x2,x3)!=(0,1,0)?\n",
    "bc <- bincombinations(3)\n",
    "bc"
   ]
  },
  {
   "cell_type": "code",
   "execution_count": 11,
   "metadata": {},
   "outputs": [
    {
     "name": "stdout",
     "output_type": "stream",
     "text": [
      "[1] FALSE\n",
      "[1] FALSE\n",
      "[1] FALSE\n",
      "[1] FALSE\n",
      "[1] TRUE\n",
      "[1] FALSE\n",
      "[1] FALSE\n",
      "[1] FALSE\n"
     ]
    }
   ],
   "source": [
    "for (i in 1:8) {print(f3(bc[i,1],bc[i,2],bc[i,3]))}"
   ]
  },
  {
   "cell_type": "code",
   "execution_count": 12,
   "metadata": {},
   "outputs": [
    {
     "name": "stdout",
     "output_type": "stream",
     "text": [
      "[1] FALSE\n",
      "[1] TRUE\n",
      "[1] FALSE\n",
      "[1] FALSE\n",
      "[1] FALSE\n",
      "[1] FALSE\n",
      "[1] FALSE\n",
      "[1] FALSE\n"
     ]
    }
   ],
   "source": [
    "for (i in 1:8) {print(f4(bc[i,1],bc[i,2],bc[i,3]))}"
   ]
  },
  {
   "cell_type": "code",
   "execution_count": 13,
   "metadata": {},
   "outputs": [
    {
     "name": "stdout",
     "output_type": "stream",
     "text": [
      "[1] TRUE\n",
      "[1] TRUE\n",
      "[1] FALSE\n",
      "[1] TRUE\n",
      "[1] TRUE\n",
      "[1] TRUE\n",
      "[1] TRUE\n",
      "[1] TRUE\n"
     ]
    }
   ],
   "source": [
    "for (i in 1:8) {print(f5(bc[i,1],bc[i,2],bc[i,3]))}"
   ]
  },
  {
   "cell_type": "markdown",
   "metadata": {},
   "source": [
    "Для функции 5) существует только одно нулевое значение, а F должно иметь не менее 2 нулевых значений.\n",
    "\n",
    "There is only one zero value for the function 5), but F should have at least 2 zero values."
   ]
  },
  {
   "cell_type": "code",
   "execution_count": 14,
   "metadata": {},
   "outputs": [],
   "source": [
    "answer_dictionary[2] <- '34'"
   ]
  },
  {
   "cell_type": "markdown",
   "metadata": {},
   "source": [
    "## 3.\n",
    "\n",
    "На рисунке схема дорог Н-ского района изображена в виде графа, в таблице содержатся сведения о длинах этих дорог (в километрах).\n",
    "\n",
    "Так как таблицу и схему рисовали независимо друг от друга, то нумерация населённых пунктов в таблице никак не связана с буквенными обозначениями на графе. \n",
    "\n",
    "Определите, какова длина дороги из пункта Д в пункт К. В ответе запишите целое число — так, как оно указано в таблице.\n",
    "\n",
    "---\n",
    "\n",
    "In the figure, the road scheme of the N-region is drawn in the form of a graph, the table contains information on the lengths of these roads (in kilometers).\n",
    "\n",
    "Since the table and the diagram were drawn independently of each other, the numbering of settlements in the table is not connected with the letter symbols on the graph. \n",
    "\n",
    "Determine the length of the road from the point Д to the point К. In the answer, write down the integer number - as it is indicated in the table.\n",
    "\n",
    "| &#x123CF; | П1 | П2 | П3 | П4 | П5 | П6 | П7 |\n",
    "|:-:|:-:|:-:|:-:|:-:|:-:|:-:|:-:|\n",
    "| **П1** | &#x123CF; |  |  | 60 |  |  | 45 |\n",
    "| **П2** |  | &#x123CF; | 50 | 20 | 10 |  |  |\n",
    "| **П3** |  | 50 | &#x123CF; | 40 |  | 30 | 25 |\n",
    "| **П4** | 60 | 20 | 40 | &#x123CF; | 15 |  | 55 |\n",
    "| **П5** |  | 10 |  | 15 | &#x123CF; |  |  |\n",
    "| **П6** |  |  | 30 |  |  | &#x123CF; | 35 |\n",
    "| **П7** | 45 |  | 25 | 55 |  | 35 | &#x123CF; |"
   ]
  },
  {
   "cell_type": "code",
   "execution_count": 15,
   "metadata": {},
   "outputs": [
    {
     "data": {
      "image/png": "[encoded data removed]",
      "text/plain": [
       "Plot with title “”"
      ]
     },
     "metadata": {},
     "output_type": "display_data"
    }
   ],
   "source": [
    "options(warn = -1,repr.plot.width=5,repr.plot.height=5)\n",
    "edges <- c('А','В','А','Г','Б','Г','Б','К','В','Г','В','Д','В','К','Г','К','Д','Е','Д','К','Е','К')\n",
    "g <- graph(edges, directed=F)\n",
    "plot(g,vertex.color=\"steelblue\", vertex.size=30, vertex.frame.color=\"gray\")"
   ]
  },
  {
   "cell_type": "markdown",
   "metadata": {},
   "source": [
    "- Только один узел имеет 5 ребер => К == П4.\n",
    "- Только один узел имеет 3 ребра => Д == П2.\n",
    "- Е <-> К, Е <-> Д => Е == П5.\n",
    "- Д <-> В (оставшаяся связь для Д) => В == П3\n",
    "- А <-> В и имеет 2 связи => А == П6\n",
    "- Б имеет 2 ребра => Б == П1\n",
    "- Γ = Π7\n",
    "\n",
    "---\n",
    "\n",
    "- Only one node has 5 edges => K == П4.\n",
    "- Only one node has 3 edges => Д == П2.\n",
    "- Е <-> К, Е <-> Д => Е == П5.\n",
    "- Д <-> В (the least edge for Д) => В == П3\n",
    "- А <-> В and has 2 edges => А == П6\n",
    "- Б has 2 edges => Б == П1\n",
    "- Г == П7\n",
    "           \n",
    "| &#x123CF; | П1=Б | П2=Д | П3=В | П4=К | П5=Е | П6=А | П7=Г |\n",
    "|:-:|:-:|:-:|:-:|:-:|:-:|:-:|:-:|\n",
    "| **П1=Б** | &#x123CF; |  |  | 60 |  |  | 45 |\n",
    "| **П2=Д** |  | &#x123CF; | 50 | 20 | 10 |  |  |\n",
    "| **П3=В** |  | 50 | &#x123CF; | 40 |  | 30 | 25 |\n",
    "| **П4=К** | 60 | 20 | 40 | &#x123CF; | 15 |  | 55 |\n",
    "| **П5=Е** |  | 10 |  | 15 | &#x123CF; |  |  |\n",
    "| **П6=А** |  |  | 30 |  |  | &#x123CF; | 35 |\n",
    "| **П7=Г** | 45 |  | 25 | 55 |  | 35 | &#x123CF; |           "
   ]
  },
  {
   "cell_type": "code",
   "execution_count": 16,
   "metadata": {},
   "outputs": [
    {
     "data": {
      "image/png": "[encoded data removed]",
      "text/plain": [
       "Plot with title “”"
      ]
     },
     "metadata": {},
     "output_type": "display_data"
    }
   ],
   "source": [
    "options(warn = -1,repr.plot.width=6,repr.plot.height=6)\n",
    "edges <- c('П6=А','П3=В','П6=А','П7=Г','П1=Б','П7=Г','П1=Б','П4=К','П3=В','П7=Г','П3=В',\n",
    "           'П2=Д','П3=В','П4=К','П7=Г','П4=К','П2=Д','П5=Е','П2=Д','П4=К','П5=Е','П4=К')\n",
    "weights <- c(30,35,45,60,25,50,40,55,10,20,15)\n",
    "g <- graph(edges, directed=F)%>%\n",
    "    set_edge_attr(\"weight\", value=weights)\n",
    "plot(g,\n",
    "     vertex.color=\"steelblue\",vertex.size=30,vertex.frame.color=\"gray\",\n",
    "     edge.label=E(g)$weight,edge.width=E(g)$weight/10)"
   ]
  },
  {
   "cell_type": "code",
   "execution_count": 17,
   "metadata": {},
   "outputs": [
    {
     "data": {
      "text/html": [
       "<strong>П4=К:</strong> 20"
      ],
      "text/latex": [
       "\\textbf{П4=К:} 20"
      ],
      "text/markdown": [
       "**П4=К:** 20"
      ],
      "text/plain": [
       "П4=К \n",
       "  20 "
      ]
     },
     "metadata": {},
     "output_type": "display_data"
    }
   ],
   "source": [
    "g['П2=Д']['П4=К']"
   ]
  },
  {
   "cell_type": "code",
   "execution_count": 18,
   "metadata": {},
   "outputs": [],
   "source": [
    "answer_dictionary[3] <- toString(g['П2=Д']['П4=К'])"
   ]
  },
  {
   "cell_type": "markdown",
   "metadata": {},
   "source": [
    "## 4.\n",
    "\n",
    "Для групповых операций с файлами используются маски имён файлов. \n",
    "\n",
    "Маска представляет собой последовательность букв, цифр и прочих допустимых в именах файлов символов, в которых также могут встречаться следующие символы.\n",
    "\n",
    "Символ `«?»` (вопросительный знак) означает ровно один произвольный символ.\n",
    "\n",
    "Символ `«*»` (звёздочка) означает любую последовательность символов произвольной длины, в том числе `«*»` может задавать и пустую последовательность.\n",
    "\n",
    "Имеется список из нескольких масок:\n",
    "\n",
    "`go*?.?*?`,\n",
    "\n",
    "`?o*a.t*t`,\n",
    "\n",
    "`??d?*.*t*`, \n",
    "\n",
    "`*od*.*`.\n",
    "\n",
    "Определите, какие из указанных файлов будут отобраны по ровно трём из приведённых масок. \n",
    "\n",
    "1) `godovaya.tt`, 2) `goroda.txt`, 3) `goda.ttf`, 4) `godat.xt`.\n",
    "\n",
    "В ответе перечислите номера файлов в порядке возрастания без пробелов и знаков препинания.\n",
    "\n",
    "---\n",
    "\n",
    "For group operations with files, masks of file names are used.\n",
    "\n",
    "A mask is a sequence of letters, numbers and other permissible characters in file names, in which the following characters can also occur.\n",
    "\n",
    "The symbol `«?»` (question mark) means exactly one arbitrary character.\n",
    "\n",
    "The symbol `«*»` (asterisk) stands for any sequence of characters of arbitrary length, including `«*»`, which can also specify an empty sequence.\n",
    "\n",
    "There is a list of several masks:\n",
    "\n",
    "`go*?.?*?`,\n",
    "\n",
    "`?o*a.t*t`,\n",
    "\n",
    "`??d?*.*t*`, \n",
    "\n",
    "`*od*.*`.\n",
    "\n",
    "Determine which of these files will be selected on exactly three of the given masks. \n",
    "\n",
    "1) `godovaya.tt`, 2) `goroda.txt`, 3) `goda.ttf`, 4) `godat.xt`.\n",
    "\n",
    "In the answer, list file numbers in ascending order without spaces and punctuation marks."
   ]
  },
  {
   "cell_type": "code",
   "execution_count": 31,
   "metadata": {},
   "outputs": [
    {
     "data": {
      "text/html": [
       "<table>\n",
       "<thead><tr><th scope=col>file_list</th><th scope=col>mask_1</th><th scope=col>mask_2</th><th scope=col>mask_3</th><th scope=col>mask_4</th></tr></thead>\n",
       "<tbody>\n",
       "\t<tr><td>godovaya.tt</td><td>TRUE       </td><td> TRUE      </td><td> TRUE      </td><td>TRUE       </td></tr>\n",
       "\t<tr><td>goroda.txt </td><td>TRUE       </td><td> TRUE      </td><td>FALSE      </td><td>TRUE       </td></tr>\n",
       "\t<tr><td>goda.ttf   </td><td>TRUE       </td><td>FALSE      </td><td> TRUE      </td><td>TRUE       </td></tr>\n",
       "\t<tr><td>godat.xt   </td><td>TRUE       </td><td>FALSE      </td><td> TRUE      </td><td>TRUE       </td></tr>\n",
       "</tbody>\n",
       "</table>\n"
      ],
      "text/latex": [
       "\\begin{tabular}{r|lllll}\n",
       " file\\_list & mask\\_1 & mask\\_2 & mask\\_3 & mask\\_4\\\\\n",
       "\\hline\n",
       "\t godovaya.tt & TRUE        &  TRUE       &  TRUE       & TRUE       \\\\\n",
       "\t goroda.txt  & TRUE        &  TRUE       & FALSE       & TRUE       \\\\\n",
       "\t goda.ttf    & TRUE        & FALSE       &  TRUE       & TRUE       \\\\\n",
       "\t godat.xt    & TRUE        & FALSE       &  TRUE       & TRUE       \\\\\n",
       "\\end{tabular}\n"
      ],
      "text/markdown": [
       "\n",
       "file_list | mask_1 | mask_2 | mask_3 | mask_4 | \n",
       "|---|---|---|---|\n",
       "| godovaya.tt | TRUE        |  TRUE       |  TRUE       | TRUE        | \n",
       "| goroda.txt  | TRUE        |  TRUE       | FALSE       | TRUE        | \n",
       "| goda.ttf    | TRUE        | FALSE       |  TRUE       | TRUE        | \n",
       "| godat.xt    | TRUE        | FALSE       |  TRUE       | TRUE        | \n",
       "\n",
       "\n"
      ],
      "text/plain": [
       "  file_list   mask_1 mask_2 mask_3 mask_4\n",
       "1 godovaya.tt TRUE    TRUE   TRUE  TRUE  \n",
       "2 goroda.txt  TRUE    TRUE  FALSE  TRUE  \n",
       "3 goda.ttf    TRUE   FALSE   TRUE  TRUE  \n",
       "4 godat.xt    TRUE   FALSE   TRUE  TRUE  "
      ]
     },
     "metadata": {},
     "output_type": "display_data"
    }
   ],
   "source": [
    "file_list=c('godovaya.tt','goroda.txt', 'goda.ttf', 'godat.xt')\n",
    "\n",
    "df = data.frame(file_list=file_list,\n",
    "                mask_1=grepl(\"^go.*.\\\\...*.$\",file_list), \n",
    "                mask_2=grepl(\"^.o.*a\\\\.t.*t$\", file_list), \n",
    "                mask_3=grepl(\"^..d..*\\\\..*t.*$\", file_list), \n",
    "                mask_4=grepl(\"^.*od.*\\\\..*$\", file_list))\n",
    "df"
   ]
  },
  {
   "cell_type": "code",
   "execution_count": 32,
   "metadata": {},
   "outputs": [
    {
     "name": "stdout",
     "output_type": "stream",
     "text": [
      "[1] godovaya.tt\n",
      "Levels: goda.ttf godat.xt godovaya.tt goroda.txt\n",
      "[1] 4\n",
      "[1] goroda.txt\n",
      "Levels: goda.ttf godat.xt godovaya.tt goroda.txt\n",
      "[1] 3\n",
      "[1] goda.ttf\n",
      "Levels: goda.ttf godat.xt godovaya.tt goroda.txt\n",
      "[1] 3\n",
      "[1] godat.xt\n",
      "Levels: goda.ttf godat.xt godovaya.tt goroda.txt\n",
      "[1] 3\n"
     ]
    }
   ],
   "source": [
    "for (i in 1:4) {\n",
    "    print(df[i,1]); \n",
    "    print(length(df[i,2:5][df[i,2:5]==TRUE]))\n",
    "}"
   ]
  },
  {
   "cell_type": "code",
   "execution_count": 33,
   "metadata": {},
   "outputs": [],
   "source": [
    "answer_dictionary[4] <- '234'"
   ]
  },
  {
   "cell_type": "markdown",
   "metadata": {},
   "source": [
    "## 5. \n",
    "\n",
    "По каналу связи передаются сообщения, каждое из которых содержит: 8 букв А, 8 букв Б, 16 букв В и 32 буквы Г \n",
    "\n",
    "(других букв в сообщениях нет). \n",
    "\n",
    "Каждую букву кодируют двоичной последовательностью. \n",
    "\n",
    "При выборе кода учитывались два требования:\n",
    "\n",
    "а) ни одно кодовое слово не является началом другого (это нужно, чтобы код допускал однозначное декодирование);\n",
    "\n",
    "б) общая длина закодированного сообщения должна быть как можно меньше.\n",
    "\n",
    "Какова суммарная длина всех четырёх кодовых букв?\n",
    "\n",
    "---\n",
    "\n",
    "Messages are sent on the communication channel, each of which contains: 8 letters А, 8 letters Б, 16 letters В and 32 letters Г \n",
    "\n",
    "(in messages there are no other letters).\n",
    "\n",
    "Each letter is encoded in a binary sequence. \n",
    "\n",
    "When choosing a code, two requirements were taken into account:\n",
    "\n",
    "a) no codeword is the beginning of the other (this is necessary for the code to allow unambiguous decoding);\n",
    "\n",
    "b) the total length of the encoded message should be as small as possible.\n",
    "\n",
    "What is the total length of all four code letters?"
   ]
  },
  {
   "cell_type": "markdown",
   "metadata": {},
   "source": [
    "В решении использован Алгоритм Шеннона — Фано.\n",
    "\n",
    "1) В сообщениях используются 4 символа с вероятностями:\n",
    "   - Г: 32/(8+8+16+32)=0.5\n",
    "   - В: 16/(8+8+16+32)=0.25\n",
    "   - А и Б: 8/(8+8+16+32)=0.125\n",
    "   \n",
    "2) Присвоим коды, используя принцип: чем чаще встречается символ, тем короче код.\n",
    "   - Г:0, В:11, А:100, Б:101 или\n",
    "   - Г:0, В:10, А:110, Б:111 или\n",
    "   - Г:1, В:00, А:010, Б:011 или\n",
    "   - Г:1, В:01, А:110, Б:111 \n",
    "   \n",
    "3) Вычислим длину одного сообщения, состоящего из всех четырех символов:\n",
    "\n",
    "$1 + 2 + 3*2 = 9$\n",
    "\n",
    "---\n",
    "\n",
    "The solution uses the Shannon-Fano Algorithm.\n",
    "\n",
    "1) Messages use 4 symbols with probabilities:\n",
    "\n",
    "   - Г: 32 / (8 + 8 + 16 + 32) = 0.5\n",
    "   - В: 16 / (8 + 8 + 16 + 32) = 0.25\n",
    "   - А and Б: 8 / (8 + 8 + 16 + 32) = 0.125\n",
    "\n",
    "2) Assign codes using the principle: the more common the symbol, the shorter its code.\n",
    "\n",
    "   - Г:0, В:11, А:100, Б:101 or\n",
    "   - Г:0, В:10, А:110, Б:111 or\n",
    "   - Г:1, В:00, А:010, Б:011 or\n",
    "   - Г:1, В:01, А:110, Б:111\n",
    "\n",
    "3) Let's calculate the length of one message consisting of all four symbols:\n",
    "\n",
    "$1 + 2 + 3*2 = 9$"
   ]
  },
  {
   "cell_type": "code",
   "execution_count": 34,
   "metadata": {},
   "outputs": [],
   "source": [
    "answer_dictionary[5] <- toString(1+2+3*2)"
   ]
  },
  {
   "cell_type": "markdown",
   "metadata": {},
   "source": [
    "## 6.\n",
    "\n",
    "В некоторой информационной системе информация кодируется двоичными числами, имеющими ровно 4 значащих разряда. \n",
    "\n",
    "При передаче данных возможны их искажения, поэтому в конец каждого числа дописывается ещё один (контрольный) разряд таким образом, чтобы сумма разрядов нового числа, считая контрольный, была чётной. \n",
    "\n",
    "Например, к слову $1011$ справа будет добавлена $1$, а к слову $1010$ — $0$.\n",
    "\n",
    "После этого, для увеличения надежности кодирования, к полученному двоичному числу дописывается сумма его разрядов в двоичном виде. \n",
    "\n",
    "Например, исходное слово $0010$ превратится в $0010110$.\n",
    "\n",
    "Какое наименьшее число, большее 50 число может быть получено в результате этого алгоритма? Ответ запишите в десятичном виде.\n",
    "\n",
    "---\n",
    "\n",
    "In some information system, the information is encoded by binary numbers having exactly 4 significant digits. \n",
    "\n",
    "During transmitting data, their distortions are possible, so at the end of each number one more (control) digit is added so that the sum of the digits of the new number, assuming the control digit, is even. \n",
    "\n",
    "For example, to the word $1011$ will be added $1$ to the right, and to word $1010$ - $0$.\n",
    "\n",
    "After this, to increase the reliability of the encoding, the sum of its significant digits in binary form is added to the received binary number. \n",
    "\n",
    "For example, the original word $0010$ will turn into $0010110$.\n",
    "\n",
    "What is the smallest number, greater the 50, can be obtained as a result of this algorithm? Write your answer in the decimal form."
   ]
  },
  {
   "cell_type": "code",
   "execution_count": 35,
   "metadata": {},
   "outputs": [
    {
     "data": {
      "text/html": [
       "<table>\n",
       "<tbody>\n",
       "\t<tr><td>0</td><td>0</td><td>0</td><td>0</td><td>0</td></tr>\n",
       "\t<tr><td>0</td><td>0</td><td>0</td><td>1</td><td>1</td></tr>\n",
       "\t<tr><td>0</td><td>0</td><td>1</td><td>0</td><td>1</td></tr>\n",
       "\t<tr><td>0</td><td>0</td><td>1</td><td>1</td><td>0</td></tr>\n",
       "\t<tr><td>0</td><td>1</td><td>0</td><td>0</td><td>1</td></tr>\n",
       "\t<tr><td>0</td><td>1</td><td>0</td><td>1</td><td>0</td></tr>\n",
       "\t<tr><td>0</td><td>1</td><td>1</td><td>0</td><td>0</td></tr>\n",
       "\t<tr><td>0</td><td>1</td><td>1</td><td>1</td><td>1</td></tr>\n",
       "\t<tr><td>1</td><td>0</td><td>0</td><td>0</td><td>1</td></tr>\n",
       "\t<tr><td>1</td><td>0</td><td>0</td><td>1</td><td>0</td></tr>\n",
       "\t<tr><td>1</td><td>0</td><td>1</td><td>0</td><td>0</td></tr>\n",
       "\t<tr><td>1</td><td>0</td><td>1</td><td>1</td><td>1</td></tr>\n",
       "\t<tr><td>1</td><td>1</td><td>0</td><td>0</td><td>0</td></tr>\n",
       "\t<tr><td>1</td><td>1</td><td>0</td><td>1</td><td>1</td></tr>\n",
       "\t<tr><td>1</td><td>1</td><td>1</td><td>0</td><td>1</td></tr>\n",
       "\t<tr><td>1</td><td>1</td><td>1</td><td>1</td><td>0</td></tr>\n",
       "</tbody>\n",
       "</table>\n"
      ],
      "text/latex": [
       "\\begin{tabular}{lllll}\n",
       "\t 0 & 0 & 0 & 0 & 0\\\\\n",
       "\t 0 & 0 & 0 & 1 & 1\\\\\n",
       "\t 0 & 0 & 1 & 0 & 1\\\\\n",
       "\t 0 & 0 & 1 & 1 & 0\\\\\n",
       "\t 0 & 1 & 0 & 0 & 1\\\\\n",
       "\t 0 & 1 & 0 & 1 & 0\\\\\n",
       "\t 0 & 1 & 1 & 0 & 0\\\\\n",
       "\t 0 & 1 & 1 & 1 & 1\\\\\n",
       "\t 1 & 0 & 0 & 0 & 1\\\\\n",
       "\t 1 & 0 & 0 & 1 & 0\\\\\n",
       "\t 1 & 0 & 1 & 0 & 0\\\\\n",
       "\t 1 & 0 & 1 & 1 & 1\\\\\n",
       "\t 1 & 1 & 0 & 0 & 0\\\\\n",
       "\t 1 & 1 & 0 & 1 & 1\\\\\n",
       "\t 1 & 1 & 1 & 0 & 1\\\\\n",
       "\t 1 & 1 & 1 & 1 & 0\\\\\n",
       "\\end{tabular}\n"
      ],
      "text/markdown": [
       "\n",
       "| 0 | 0 | 0 | 0 | 0 | \n",
       "| 0 | 0 | 0 | 1 | 1 | \n",
       "| 0 | 0 | 1 | 0 | 1 | \n",
       "| 0 | 0 | 1 | 1 | 0 | \n",
       "| 0 | 1 | 0 | 0 | 1 | \n",
       "| 0 | 1 | 0 | 1 | 0 | \n",
       "| 0 | 1 | 1 | 0 | 0 | \n",
       "| 0 | 1 | 1 | 1 | 1 | \n",
       "| 1 | 0 | 0 | 0 | 1 | \n",
       "| 1 | 0 | 0 | 1 | 0 | \n",
       "| 1 | 0 | 1 | 0 | 0 | \n",
       "| 1 | 0 | 1 | 1 | 1 | \n",
       "| 1 | 1 | 0 | 0 | 0 | \n",
       "| 1 | 1 | 0 | 1 | 1 | \n",
       "| 1 | 1 | 1 | 0 | 1 | \n",
       "| 1 | 1 | 1 | 1 | 0 | \n",
       "\n",
       "\n"
      ],
      "text/plain": [
       "      [,1] [,2] [,3] [,4] [,5]\n",
       " [1,] 0    0    0    0    0   \n",
       " [2,] 0    0    0    1    1   \n",
       " [3,] 0    0    1    0    1   \n",
       " [4,] 0    0    1    1    0   \n",
       " [5,] 0    1    0    0    1   \n",
       " [6,] 0    1    0    1    0   \n",
       " [7,] 0    1    1    0    0   \n",
       " [8,] 0    1    1    1    1   \n",
       " [9,] 1    0    0    0    1   \n",
       "[10,] 1    0    0    1    0   \n",
       "[11,] 1    0    1    0    0   \n",
       "[12,] 1    0    1    1    1   \n",
       "[13,] 1    1    0    0    0   \n",
       "[14,] 1    1    0    1    1   \n",
       "[15,] 1    1    1    0    1   \n",
       "[16,] 1    1    1    1    0   "
      ]
     },
     "metadata": {},
     "output_type": "display_data"
    }
   ],
   "source": [
    "bc <- bincombinations(4)\n",
    "bc <- cbind(bc,matrix(0,16,1))\n",
    "for (i in 1:16) {if (sum(bc[i,])%% 2 == 1) {bc[i,5]=1}}\n",
    "bc"
   ]
  },
  {
   "cell_type": "code",
   "execution_count": 36,
   "metadata": {},
   "outputs": [
    {
     "data": {
      "text/html": [
       "<table>\n",
       "<tbody>\n",
       "\t<tr><td>0  </td><td>14 </td><td>22 </td><td>26 </td><td>38 </td><td>42 </td><td>50 </td><td>124</td><td>70 </td><td>74 </td><td>82 </td><td>188</td><td>98 </td><td>220</td><td>236</td><td>244</td></tr>\n",
       "</tbody>\n",
       "</table>\n"
      ],
      "text/latex": [
       "\\begin{tabular}{llllllllllllllll}\n",
       "\t 0   & 14  & 22  & 26  & 38  & 42  & 50  & 124 & 70  & 74  & 82  & 188 & 98  & 220 & 236 & 244\\\\\n",
       "\\end{tabular}\n"
      ],
      "text/markdown": [
       "\n",
       "| 0   | 14  | 22  | 26  | 38  | 42  | 50  | 124 | 70  | 74  | 82  | 188 | 98  | 220 | 236 | 244 | \n",
       "\n",
       "\n"
      ],
      "text/plain": [
       "     [,1] [,2] [,3] [,4] [,5] [,6] [,7] [,8] [,9] [,10] [,11] [,12] [,13] [,14]\n",
       "[1,] 0    14   22   26   38   42   50   124  70   74    82    188   98    220  \n",
       "     [,15] [,16]\n",
       "[1,] 236   244  "
      ]
     },
     "metadata": {},
     "output_type": "display_data"
    }
   ],
   "source": [
    "numbers <- matrix(0,1,16)\n",
    "for (i in 1:16) {\n",
    "    s <- bc[i,]\n",
    "    if (sum(s) == 0) {s <- append(s,0)}\n",
    "    else if (sum(s) == 2) {s <- append(s,c(1,0))}\n",
    "    else {s <- append(s,c(1,0,0))}\n",
    "    numbers[i] <- Reduce(function(x,y) x*2+y, s)\n",
    "}\n",
    "numbers"
   ]
  },
  {
   "cell_type": "code",
   "execution_count": 37,
   "metadata": {},
   "outputs": [
    {
     "data": {
      "text/html": [
       "70"
      ],
      "text/latex": [
       "70"
      ],
      "text/markdown": [
       "70"
      ],
      "text/plain": [
       "[1] 70"
      ]
     },
     "metadata": {},
     "output_type": "display_data"
    }
   ],
   "source": [
    "min(numbers[numbers > 50])"
   ]
  },
  {
   "cell_type": "code",
   "execution_count": 38,
   "metadata": {},
   "outputs": [],
   "source": [
    "answer_dictionary[6] <- toString(min(numbers[numbers > 50]))"
   ]
  },
  {
   "cell_type": "markdown",
   "metadata": {},
   "source": [
    "## 7.\n",
    "\n",
    "В электронной таблице в ячейке С5 записана формула, которая вычисляет результат сложения значения ячейки Е4 со значением ячейки D3. \n",
    "\n",
    "Формулу из ячейки С5 скопировали в ячейку В6. \n",
    "\n",
    "Какое количество следующих утверждений не противоречит условию?\n",
    "\n",
    "1) В ячейке В6 вычисляется результат сложения значения ячейки D5 со значением ячейки С4.\n",
    "\n",
    "2) В ячейке В6 вычисляется результат сложения значения ячейки D5 со значением ячейки D3.\n",
    "\n",
    "3) В ячейке В6 вычисляется результат удвоения значения ячейки D4.\n",
    "\n",
    "4) В ячейке В6 вычисляется результат сложения значения ячейки Е4 со значением ячейки D3.\n",
    "\n",
    "---\n",
    "\n",
    "In the spreadsheet, a formula is written in cell C5, which calculates the result of adding the value of cell E4 with the value of cell D3. \n",
    "\n",
    "The formula from cell C5 was copied into cell B6. \n",
    "\n",
    "How many of the following statements do not contradict the condition?\n",
    "\n",
    "1) In cell B6, the result of adding the value of cell D5 with cell value C4 is calculated.\n",
    "\n",
    "2) Cell B6 calculates the result of adding the value of cell D5 with the value of cell D3.\n",
    "\n",
    "3) Cell B6 calculates the result of doubling the value of cell D4.\n",
    "\n",
    "4) In cell B6, the result of the addition of the cell value E4 with the cell value D3 is calculated."
   ]
  },
  {
   "cell_type": "markdown",
   "metadata": {},
   "source": [
    "[Google Sheet](https://drive.google.com/open?id=1A87X6IMO9XJRyDSlCt6je4ALy2P1mFGeIoZoYf3vwzo)\n",
    "\n",
    "Копируется не сама **ячейка**, а **формула** `=E4+D3` в ней."
   ]
  },
  {
   "cell_type": "code",
   "execution_count": 39,
   "metadata": {},
   "outputs": [],
   "source": [
    "answer_dictionary[7] <- '4'"
   ]
  },
  {
   "cell_type": "markdown",
   "metadata": {},
   "source": [
    "## 8.\n",
    "\n",
    "Определите, что будет напечатано в результате выполнения следующего фрагмента программы.\n",
    "\n",
    "---\n",
    "\n",
    "Determine what will be printed as a result of the next program fragment.\n",
    "\n",
    "| Python | R |        \n",
    "|:-|:-|\n",
    "|k, s = 1024, 50|k <- 1024|\n",
    "|while s > 30:|s <- 50|\n",
    "|`    `s-=4|while (s > 30) {|\n",
    "|`    `k/=2|`    `s <- s - 4|\n",
    "|`    `k, s = int(k), int(s)|`    `k <- k / 2\n",
    "|print(k)|}|\n",
    "| |print(k)|"
   ]
  },
  {
   "cell_type": "code",
   "execution_count": 40,
   "metadata": {},
   "outputs": [
    {
     "name": "stdout",
     "output_type": "stream",
     "text": [
      "[1] 32\n"
     ]
    }
   ],
   "source": [
    "k <- 1024\n",
    "s <- 50\n",
    "while (s > 30) {\n",
    "    s <- s - 4 \n",
    "    k <- k / 2 \n",
    "}\n",
    "print(k)"
   ]
  },
  {
   "cell_type": "code",
   "execution_count": 41,
   "metadata": {},
   "outputs": [],
   "source": [
    "answer_dictionary[8] <- toString(k)"
   ]
  },
  {
   "cell_type": "markdown",
   "metadata": {},
   "source": [
    "## 9.\n",
    "\n",
    "Музыкальный фрагмент был оцифрован и записан в виде файла без использования сжатия данных. \n",
    "\n",
    "Получившийся файл был передан в город А по каналу связи за 90 секунд. \n",
    "\n",
    "Затем тот же музыкальный фрагмент был оцифрован повторно с разрешением в 2 раза меньше и частотой дискретизации в 1,5 раза меньше, чем в первый раз. \n",
    "\n",
    "Сжатие данных не производилось. \n",
    "\n",
    "Полученный файл был передан в город Б; пропускная способность канала связи с городом Б в 3 раза ниже, чем канала связи с городом А. \n",
    "\n",
    "Сколько секунд длилась передача файла в город Б?\n",
    "\n",
    "В ответе запишите только целое число, единицу измерения писать не нужно.\n",
    "\n",
    "---\n",
    "\n",
    "The musical fragment was digitized and recorded as a file without using data compression. \n",
    "\n",
    "The resulting file was transferred to the city A via the communication channel in 90 seconds. \n",
    "\n",
    "Then the same musical fragment was digitized again with a resolution of 2 times smaller and a sampling rate of 1.5 times smaller than the first time. \n",
    "\n",
    "Data compression was not performed. \n",
    "\n",
    "The resulting file was transferred to the city B; the capacity of the communication channel with the city of B is 3 times lower than the communication channel with the city of A. \n",
    "\n",
    "How many seconds did the file transfer to the city B last?\n",
    "\n",
    "In the answer, write down only an integer, you do not need to write a unit of measurement."
   ]
  },
  {
   "cell_type": "markdown",
   "metadata": {},
   "source": [
    "1) Второй музыкальный фрагмент имеет в 3 раза меньший размер, чем первый ( $2*1.5=3$: разрешение в 2 раза меньше и частота дискретизации в 1,5 раза меньше). Следовательно, по каналу связи с городом А второй файл передавался бы в 3 раза быстрее.\n",
    "\n",
    "2) Пропускная способность канала связи с городом Б в 3 раза ниже, а значит время передачи файлов возрастает в 3 раза по сравнению с каналом с городом А.\n",
    "\n",
    "3) Учитывая пункты 1) и 2), меньший файл по каналу с меньшей пропускной способностью будет передан за: $90 \\ / \\ 3 * 3 = 90$ секунд.\n",
    "\n",
    "---\n",
    "\n",
    "1) The second musical fragment is 3 times smaller than the first one ( $2 * 1.5 = 3$: the resolution is 2 times smaller and the sampling rate is 1.5 times smaller). Therefore, on the communication channel with the city А, the second file would be transmitted 3 times faster.\n",
    "\n",
    "2) The capacity of the communication channel with the city Б is 3 times lower, which means that the file transfer time is 3 times higher than the channel with the city А.\n",
    "\n",
    "3) Given points 1) and 2), the smaller file on the channel with the lower communication capacity will be transmitted for: $90 \\ / \\ 3 * 3 = 90$ seconds."
   ]
  },
  {
   "cell_type": "code",
   "execution_count": 42,
   "metadata": {},
   "outputs": [],
   "source": [
    "answer_dictionary[9] <- '90'"
   ]
  },
  {
   "cell_type": "markdown",
   "metadata": {},
   "source": [
    "## 10.\n",
    "\n",
    "Вася составляет 4-буквенные слова, в которых есть только буквы С, Т, Е, П, А, причём буква Е используется в каждом слове ровно 1 раз.\n",
    "\n",
    "Каждая из других допустимых букв может встречаться в слове любое количество раз или не встречаться совсем. \n",
    "\n",
    "Словом считается любая допустимая последовательность букв, не обязательно осмысленная. \n",
    "\n",
    "Сколько существует таких слов, которые может написать Вася?\n",
    "\n",
    "---\n",
    "\n",
    "Vasya composes 4-letter words in which there are only letters С, Т, Е, П, А, and the letter Е is used in each word exactly 1 time. \n",
    "\n",
    "Each of the other valid letters can occur in the word any number of times or not occur at all. \n",
    "\n",
    "A word is any valid sequence of letters, not necessarily meaningful. \n",
    "\n",
    "How many such words can Vasya write?"
   ]
  },
  {
   "cell_type": "markdown",
   "metadata": {},
   "source": [
    "1) `Е` занимает $4$ возможных положения в словах: `Е***`, `*Е**`, `**Е*`, `***Е`.\n",
    "\n",
    "2) Рассмотрим одну из этих позиций: другие буквы `С, Т, П, А` могут находиться в любом из оставшихся трех мест. Таким образом, количество слов для одной позиции `Е` будет равно $4 * 4 * 4$.\n",
    "\n",
    "3) Число всех возможных слов равно $4 * 4 * 4 * 4 = 4^4 = 256$.\n",
    "\n",
    "---\n",
    "\n",
    "1) `Е` has $4$ possible positions in the words: `Е***`, `*Е**`, `**Е*`, `***Е`.\n",
    "\n",
    "2) Let's have a look at one of these positions: other letters `С, Т, П, А` can be in any of the remained three places. Thus, the number of words for one position of `Е` will be equal $4 * 4 * 4$.\n",
    "\n",
    "3) The number of all possible words is equal $4 * 4 * 4 * 4 = 4^4 = 256$."
   ]
  },
  {
   "cell_type": "code",
   "execution_count": 43,
   "metadata": {},
   "outputs": [],
   "source": [
    "answer_dictionary[10] <- toString(4**4)"
   ]
  },
  {
   "cell_type": "markdown",
   "metadata": {},
   "source": [
    "## 11.\n",
    "\n",
    "Даны рекурсивные алгоритмы F и G. Чему равна сумма всех чисел, напечатанных на экране при выполнении вызова F(15)?\n",
    "\n",
    "---\n",
    "\n",
    "The recursive algorithms F and G age given. What is the sum of all numbers printed on the screen when the call F (15) is executed?\n",
    "\n",
    "| Python | R |        \n",
    "|:-|:-|\n",
    "|def F(n):|F <- function(n){|\n",
    "|`    `n = int(n)|`    `if (n > 0){G(n - 2)}|\n",
    "|`    `if n > 0:|}|\n",
    "|`        `G(n - 2)|G <- function(n){|\n",
    "|def G(n):|`    `print(n)|\n",
    "|`    `n = int(n)|`    `if (n > 1){F(n - 1)}|\n",
    "|`    `print(n)|}|\n",
    "|`    `if n > 1:||\n",
    "|`        `F(n - 1)||"
   ]
  },
  {
   "cell_type": "code",
   "execution_count": 44,
   "metadata": {},
   "outputs": [],
   "source": [
    "F <- function(n){\n",
    "    if (n > 0){G(n - 2)}\n",
    "}\n",
    "G <- function(n){\n",
    "    print(n)\n",
    "    sum_n <<- sum_n + n\n",
    "    if (n > 1){F(n - 1)}\n",
    "}"
   ]
  },
  {
   "cell_type": "code",
   "execution_count": 45,
   "metadata": {},
   "outputs": [
    {
     "name": "stdout",
     "output_type": "stream",
     "text": [
      "[1] 13\n",
      "[1] 10\n",
      "[1] 7\n",
      "[1] 4\n",
      "[1] 1\n"
     ]
    },
    {
     "data": {
      "text/html": [
       "35"
      ],
      "text/latex": [
       "35"
      ],
      "text/markdown": [
       "35"
      ],
      "text/plain": [
       "[1] 35"
      ]
     },
     "metadata": {},
     "output_type": "display_data"
    }
   ],
   "source": [
    "sum_n <- 0\n",
    "F(15); sum_n"
   ]
  },
  {
   "cell_type": "code",
   "execution_count": 46,
   "metadata": {},
   "outputs": [],
   "source": [
    "answer_dictionary[11] <- toString(sum_n)"
   ]
  },
  {
   "cell_type": "markdown",
   "metadata": {},
   "source": [
    "## 12.\n",
    "\n",
    "В терминологии сетей TCP/IP маской сети называется двоичное число, определяющее, какая часть IP-адреса узла сети относится к адресу сети, а какая — к адресу самого узла в этой сети. \n",
    "\n",
    "Обычно маска записывается по тем же правилам, что и IP-адрес. \n",
    "\n",
    "Адрес сети получается в результате применения поразрядной конъюнкции к заданному IP-адресу узла и маске. \n",
    "\n",
    "При этом адрес узла в сети (часть IP-адреса, задающего адрес самого узла в сети) не может состоять из одних нулей или из одних единиц. \n",
    "\n",
    "Сколько компьютеров может быть в сети с маской:\n",
    "\n",
    "- $255.255.255.192$?\n",
    "\n",
    "---\n",
    "\n",
    "In the terminology of TCP / IP networks, a network mask is a binary number that specifies what part of the IP address of the host belongs to the network address, and which one to the address of the node in that network. \n",
    "\n",
    "Usually, the mask is written using the same rules as the IP address. \n",
    "\n",
    "The network address is obtained as a result of applying the bitwise conjunction to the specified IP address of the node and to the mask. \n",
    "\n",
    "The node address in the network (a part of the IP address specifying the address of the node in the network) cannot consist of only zeros or only units. \n",
    "\n",
    "How many computers can be on the network with a mask:\n",
    "\n",
    "- $255.255.255.192$?"
   ]
  },
  {
   "cell_type": "markdown",
   "metadata": {},
   "source": [
    "**Замечание: два адреса не используются (адрес сети и [широковещательный адрес](https://ru.wikipedia.org/wiki/%D0%A8%D0%B8%D1%80%D0%BE%D0%BA%D0%BE%D0%B2%D0%B5%D1%89%D0%B0%D1%82%D0%B5%D0%BB%D1%8C%D0%BD%D1%8B%D0%B9_%D0%B0%D0%B4%D1%80%D0%B5%D1%81)).**\n",
    "\n",
    "1) Первые три десятичных числа маски равны $255$, из запись состоит из $24$ единиц в двоичной системе счисления. Они определяют адрес сети.\n",
    "\n",
    "2) Число $192$ в двоичной системе счисления равно `11000000`. В записи есть шесть разрядов со значением $0$. Они могут быть использованы для записи адресов компьютеров. Количество возможных бинарных комбинаций для записи адреса при этом равно $2^6$.\n",
    "\n",
    "3) Два адреса не используются, поэтому количество компьютеров равно: $2^6 - 2 = 62$.\n",
    "\n",
    "---\n",
    "\n",
    "** Note: two addresses are not used (the network address and the [broadcast address](https://en.wikipedia.org/wiki/Broadcast_address)).**\n",
    "\n",
    "1) The first three decimal numbers of the mask are $255$, their record consists of $24$ units in the binary number system. They determine the network address.\n",
    "\n",
    "2) The number $192$ in the binary system is equal to `11000000`. There are six digits in the record with a value of $0$. They can be used to record computer addresses. The number of possible binary combinations for writing an address is $2^6$.\n",
    "\n",
    "3) Two addresses are not used, therefore the number of computers is equal to: $2^6 - 2 = 62$."
   ]
  },
  {
   "cell_type": "code",
   "execution_count": 48,
   "metadata": {},
   "outputs": [],
   "source": [
    "answer_dictionary[12] <- toString(2**6-2)"
   ]
  },
  {
   "cell_type": "markdown",
   "metadata": {},
   "source": [
    "## 13.\n",
    "\n",
    "Кабельная сеть проводит голосование среди зрителей о том, какой из четырёх фильмов они хотели бы посмотреть вечером. \n",
    "\n",
    "Кабельной сетью пользуются 2000 человек. В голосовании участвовало 1200 человек. \n",
    "\n",
    "Каков объём информации (в байтах), записанный автоматизированной системой голосования?\n",
    "\n",
    "---\n",
    "\n",
    "The cable network conducts a vote among viewers about which of the four films they would like to watch in the evening. \n",
    "\n",
    "Cable network is used by 2000 people. In the voting participated 1200 people. \n",
    "\n",
    "What is the amount of information (in bytes) recorded by an automated voting system?"
   ]
  },
  {
   "cell_type": "markdown",
   "metadata": {},
   "source": [
    "1) Для кодирования номера фильма (и, следовательно, для записи результата голосования одного человека) достаточно 2 бит информации:\n",
    "\n",
    "   - $4 = 2^2$ : фильм №1, фильм №2, фильм №3, фильм №4 - `00`, `01`,`10`,`11`.\n",
    "\n",
    "2) Для 1200 человек необходимо $1200 * 2 = 2400$ бит. Это равно $2400 / 8 = 300$ байт.\n",
    "\n",
    "---\n",
    "\n",
    "1) To encode the movie number (and, therefore, to record the result of voting by one person), 2 bits of information are sufficient:\n",
    "\n",
    "- $4 = 2^2$: film number 1, film number 2, film number 3, film number 4 - `00`,` 01`, `10`,` 11`.\n",
    "\n",
    "2) For 1200 people you need $1200 * 2 = 2400$ bits. This is $2400 / 8 = 300$ bytes."
   ]
  },
  {
   "cell_type": "code",
   "execution_count": 50,
   "metadata": {},
   "outputs": [],
   "source": [
    "answer_dictionary[13] <- toString(1200*2/2**3)"
   ]
  },
  {
   "cell_type": "code",
   "execution_count": null,
   "metadata": {},
   "outputs": [],
   "source": []
  },
  {
   "cell_type": "code",
   "execution_count": null,
   "metadata": {},
   "outputs": [],
   "source": []
  },
  {
   "cell_type": "markdown",
   "metadata": {},
   "source": [
    "## Ответы &nbsp; &nbsp; &nbsp; Answers"
   ]
  },
  {
   "cell_type": "code",
   "execution_count": 51,
   "metadata": {},
   "outputs": [
    {
     "data": {
      "text/plain": [
       "<hash> containing 13 key-value pair(s).\n",
       "  1 : 64\n",
       "  10 : 256\n",
       "  11 : 35\n",
       "  12 : 62\n",
       "  13 : 300\n",
       "  2 : 34\n",
       "  3 : 20\n",
       "  4 : 234\n",
       "  5 : 9\n",
       "  6 : 70\n",
       "  7 : 4\n",
       "  8 : 32\n",
       "  9 : 90"
      ]
     },
     "metadata": {},
     "output_type": "display_data"
    }
   ],
   "source": [
    "answer_dictionary"
   ]
  },
  {
   "cell_type": "code",
   "execution_count": null,
   "metadata": {},
   "outputs": [],
   "source": []
  }
 ],
 "metadata": {
  "kernelspec": {
   "display_name": "R 3.4",
   "language": "R",
   "name": "ir34"
  },
  "language_info": {
   "codemirror_mode": "r",
   "file_extension": ".r",
   "mimetype": "text/x-r-source",
   "name": "R",
   "pygments_lexer": "r",
   "version": "3.4.1"
  }
 },
 "nbformat": 4,
 "nbformat_minor": 2
}
