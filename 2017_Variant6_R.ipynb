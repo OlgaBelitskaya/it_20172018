{
 "cells": [
  {
   "cell_type": "markdown",
   "metadata": {},
   "source": [
    "# ЕГЭ 2017 Вариант 6 &nbsp; &nbsp; &nbsp; EGE 2017 Variant 6\n",
    "[ЕГЭ-2017. Информатика.10 тренировочных вариантов. Ушаков Д.М.](https://drive.google.com/file/d/0B6696ckkWj_zS2ptblAxNERHZzQ/view)\n",
    "\n",
    "[Basic Regular Expressions in R Cheatsheet](https://www.rstudio.com/wp-content/uploads/2016/09/RegExCheatsheet.pdf)\n",
    "\n",
    "[DataFlair: R Tutorials](https://data-flair.training/blogs/category/r/)\n",
    "\n",
    "[Алгоритм Шеннона — Фано](https://ru.wikipedia.org/wiki/%D0%90%D0%BB%D0%B3%D0%BE%D1%80%D0%B8%D1%82%D0%BC_%D0%A8%D0%B5%D0%BD%D0%BD%D0%BE%D0%BD%D0%B0_%E2%80%94_%D0%A4%D0%B0%D0%BD%D0%BE)\n",
    "\n",
    "[IPv4 - Address Classes](https://www.tutorialspoint.com/ipv4/ipv4_address_classes.htm)\n",
    "\n",
    "[Basic and advanced network visualization with R](http://www.kateto.net/wp-content/uploads/2016/04/Sunbelt%202016%20R%20Network%20Visualization%20Handout.pdf)"
   ]
  },
  {
   "cell_type": "code",
   "execution_count": 5,
   "metadata": {},
   "outputs": [],
   "source": [
    "library(IRdisplay)\n",
    "library(repr)\n",
    "library(hash)\n",
    "library(numbers)\n",
    "library(e1071)\n",
    "library(igraph)\n",
    "library(VennDiagram)"
   ]
  },
  {
   "cell_type": "code",
   "execution_count": 2,
   "metadata": {},
   "outputs": [],
   "source": [
    "# install.packages(\"\")"
   ]
  },
  {
   "cell_type": "code",
   "execution_count": 3,
   "metadata": {},
   "outputs": [],
   "source": [
    "answer_dictionary <- hash()"
   ]
  },
  {
   "cell_type": "code",
   "execution_count": 4,
   "metadata": {},
   "outputs": [
    {
     "data": {
      "text/html": [
       "<style>\n",
       "@import url('https://fonts.googleapis.com/css?family=Roboto&effect=3d|fire-animation|canvas-print|brick-sign');\n",
       "body {background-color: aliceblue;} \n",
       "a {color: #4876ff; font-family: 'Roboto';} \n",
       "h1 {color: #348ABD; font-family: 'Roboto'; text-shadow: 4px 4px 4px #aaa;} \n",
       "h2, h3 {color: gray; font-family: 'Roboto'; text-shadow: 4px 4px 4px #aaa;}\n",
       "h4 {color: #348ABD; font-family: 'Roboto';}\n",
       "span {text-shadow: 4px 4px 4px #aaa;}\n",
       "div.output_prompt, div.output_area pre, div.output_subarea {color: gray;}\n",
       "div.input_prompt {color: #4876ff;}      \n",
       "div.output_stderr pre {background-color: aliceblue;}  \n",
       "div.output_stderr {background-color: gray;}                        \n",
       "</style>"
      ]
     },
     "metadata": {},
     "output_type": "display_data"
    }
   ],
   "source": [
    "display_html(\"<style>\n",
    "@import url('https://fonts.googleapis.com/css?family=Roboto&effect=3d|fire-animation|canvas-print|brick-sign');\n",
    "body {background-color: aliceblue;} \n",
    "a {color: #4876ff; font-family: 'Roboto';} \n",
    "h1 {color: #348ABD; font-family: 'Roboto'; text-shadow: 4px 4px 4px #aaa;} \n",
    "h2, h3 {color: gray; font-family: 'Roboto'; text-shadow: 4px 4px 4px #aaa;}\n",
    "h4 {color: #348ABD; font-family: 'Roboto';}\n",
    "span {text-shadow: 4px 4px 4px #aaa;}\n",
    "div.output_prompt, div.output_area pre, div.output_subarea {color: gray;}\n",
    "div.input_prompt {color: #4876ff;}      \n",
    "div.output_stderr pre {background-color: aliceblue;}  \n",
    "div.output_stderr {background-color: gray;}                        \n",
    "</style>\")"
   ]
  },
  {
   "cell_type": "markdown",
   "metadata": {},
   "source": [
    "## Часть 1 &nbsp; &nbsp; &nbsp; Part 1\n",
    "## 1.\n",
    "Даны 4 целых числа, записанных различных системах счисления: $9F_{16}$, $10110110_2$, $274_8$, $CE_{16}$. \n",
    "\n",
    "Сколько среди них чисел, значение которых лежит между $A5_{16}$ и $CD_{16}$?\n",
    "\n",
    "---\n",
    "\n",
    "There are four integers written in different number systems: $9F_{16}$, $10110110_2$, $274_8$, $CE_{16}$.\n",
    "\n",
    "How many of them have the value between $A5_{16}$ and $CD_{16}$?"
   ]
  },
  {
   "cell_type": "code",
   "execution_count": 6,
   "metadata": {},
   "outputs": [],
   "source": [
    "options(scipen = 999)\n",
    "oct2dec <- function(n) {\n",
    "  return(sapply(strsplit(as.character(n),split=\"\"), \n",
    "                function(x) sum(as.numeric(x) * 8 ** (rev(seq_along(x) - 1)))))\n",
    "}\n",
    "bin2dec <- function(n) {\n",
    "  return(sapply(strsplit(as.character(n),split=\"\"), \n",
    "                function(x) sum(as.numeric(x) * 2 ** (rev(seq_along(x) - 1)))))\n",
    "}                "
   ]
  },
  {
   "cell_type": "code",
   "execution_count": 7,
   "metadata": {},
   "outputs": [
    {
     "data": {
      "text/html": [
       "<ol class=list-inline>\n",
       "\t<li>165</li>\n",
       "\t<li>205</li>\n",
       "</ol>\n"
      ],
      "text/latex": [
       "\\begin{enumerate*}\n",
       "\\item 165\n",
       "\\item 205\n",
       "\\end{enumerate*}\n"
      ],
      "text/markdown": [
       "1. 165\n",
       "2. 205\n",
       "\n",
       "\n"
      ],
      "text/plain": [
       "[1] 165 205"
      ]
     },
     "metadata": {},
     "output_type": "display_data"
    }
   ],
   "source": [
    "# A5_16 = 0xa5; CD_16 = 0xcd\n",
    "borders <- as.integer(sprintf(\"%d\", c(0xa5, 0xcd)))\n",
    "borders"
   ]
  },
  {
   "cell_type": "code",
   "execution_count": 8,
   "metadata": {},
   "outputs": [
    {
     "data": {
      "text/html": [
       "<ol class=list-inline>\n",
       "\t<li>159</li>\n",
       "\t<li>182</li>\n",
       "\t<li>188</li>\n",
       "\t<li>206</li>\n",
       "</ol>\n"
      ],
      "text/latex": [
       "\\begin{enumerate*}\n",
       "\\item 159\n",
       "\\item 182\n",
       "\\item 188\n",
       "\\item 206\n",
       "\\end{enumerate*}\n"
      ],
      "text/markdown": [
       "1. 159\n",
       "2. 182\n",
       "3. 188\n",
       "4. 206\n",
       "\n",
       "\n"
      ],
      "text/plain": [
       "[1] 159 182 188 206"
      ]
     },
     "metadata": {},
     "output_type": "display_data"
    }
   ],
   "source": [
    "# 9F_16 = 0x9f; 10110110_2; 274_8; CE_16 = 0xce\n",
    "numbers <- c(as.integer(sprintf(\"%d\", 0x9f)), bin2dec('10110110'), \n",
    "             oct2dec('274'), as.integer(sprintf(\"%d\", 0xce)))\n",
    "numbers"
   ]
  },
  {
   "cell_type": "code",
   "execution_count": 9,
   "metadata": {},
   "outputs": [
    {
     "data": {
      "text/html": [
       "<ol class=list-inline>\n",
       "\t<li>FALSE</li>\n",
       "\t<li>TRUE</li>\n",
       "\t<li>TRUE</li>\n",
       "\t<li>FALSE</li>\n",
       "</ol>\n"
      ],
      "text/latex": [
       "\\begin{enumerate*}\n",
       "\\item FALSE\n",
       "\\item TRUE\n",
       "\\item TRUE\n",
       "\\item FALSE\n",
       "\\end{enumerate*}\n"
      ],
      "text/markdown": [
       "1. FALSE\n",
       "2. TRUE\n",
       "3. TRUE\n",
       "4. FALSE\n",
       "\n",
       "\n"
      ],
      "text/plain": [
       "[1] FALSE  TRUE  TRUE FALSE"
      ]
     },
     "metadata": {},
     "output_type": "display_data"
    }
   ],
   "source": [
    "(numbers > borders[1]) & (numbers < borders[2])"
   ]
  },
  {
   "cell_type": "code",
   "execution_count": 10,
   "metadata": {},
   "outputs": [],
   "source": [
    "answer_dictionary[1] <- toString(sum((numbers > borders[1]) & (numbers < borders[2])))"
   ]
  },
  {
   "cell_type": "markdown",
   "metadata": {},
   "source": [
    "## 2.\n",
    "Дан фрагмент таблицы истинности выражения $F$. Значения в пустых клетках таблицы неизвестны и могут быть любыми из возможных.\n",
    "\n",
    "---\n",
    "\n",
    "A fragment of the truth table of the expression $ F $ is given. Values in blank cells are unknown and can be any of the possible ones.\n",
    "\n",
    "| $x_1$ | $x_2$ | $x_3$ | $F$ |\n",
    "|:-:|:-:|:-:|:-:|\n",
    "|   | 1 | 1 | 1 |\n",
    "| 0 |   | 0 | 0 |\n",
    "| 1 | 1 |   | 1 |\n",
    "\n",
    "Перечислите в порядке возрастания без запятых и пробелов номера логических выражений, которые могут соответствовать $F$:\n",
    "\n",
    "---\n",
    "\n",
    "List the numbers of logical expressions that can correspond to $ F $ in ascending order without commas and spaces:\n",
    "\n",
    "1) $\\neg x_1 \\lor x_2 \\lor \\neg x_3$\n",
    "\n",
    "2) $x_1 \\land x_2 \\land x_3$\n",
    "\n",
    "3) $x_1 \\land x_2 \\land \\neg x_3$\n",
    "\n",
    "4) $x_1 \\lor x_2 \\lor x_3$\n",
    "\n",
    "5) $x_1 \\land x_2 \\lor x_3$"
   ]
  },
  {
   "cell_type": "code",
   "execution_count": 11,
   "metadata": {},
   "outputs": [],
   "source": [
    "F1 <- function(x1,x2,x3) {return (!x1 | x2 | !x3)}\n",
    "F2 <- function(x1,x2,x3) {return (x1 & x2 & x3)}\n",
    "F3 <- function(x1,x2,x3) {return (x1 & x2 & !x3)}\n",
    "F4 <- function(x1,x2,x3) {return (x1 | x2 | x3)}\n",
    "F5 <- function(x1,x2,x3) {return (x1 & x2 | x3)}"
   ]
  },
  {
   "cell_type": "code",
   "execution_count": 12,
   "metadata": {},
   "outputs": [],
   "source": [
    "find_logic_exp <- function(f) {\n",
    "    c <- 0\n",
    "    \n",
    "    if (f(1,1,1) == 1 | f(0,1,1) == 1) {\n",
    "        c <- c + 1\n",
    "    }\n",
    "    if (f(0,1,0) == 0 | f(0,0,0) == 0) {\n",
    "        c <- c + 1\n",
    "    }\n",
    "    if (f(1,1,0) == 1 | f(1,1,1) == 1) {\n",
    "        c <- c + 1\n",
    "    }\n",
    "\n",
    "    if (c == 3) {\n",
    "        return(TRUE)\n",
    "    } else {\n",
    "        return(FALSE)\n",
    "    }\n",
    "}"
   ]
  },
  {
   "cell_type": "code",
   "execution_count": 13,
   "metadata": {},
   "outputs": [
    {
     "data": {
      "text/html": [
       "'245'"
      ],
      "text/latex": [
       "'245'"
      ],
      "text/markdown": [
       "'245'"
      ],
      "text/plain": [
       "[1] \"245\""
      ]
     },
     "metadata": {},
     "output_type": "display_data"
    }
   ],
   "source": [
    "c <- 0\n",
    "result <- ''\n",
    "\n",
    "for (f in c(F1,F2,F3,F4,F5)) {\n",
    "    c <- c + 1\n",
    "    if (find_logic_exp(f) == TRUE) {\n",
    "        result <- paste(result,toString(c),sep='')\n",
    "    }\n",
    "}\n",
    "result"
   ]
  },
  {
   "cell_type": "code",
   "execution_count": 14,
   "metadata": {},
   "outputs": [],
   "source": [
    "answer_dictionary[2] <- result"
   ]
  },
  {
   "cell_type": "markdown",
   "metadata": {},
   "source": [
    "## 3.\n",
    "Между населёнными пунктами A, B, C, D, E, F построены дороги, протяжённость которых приведена в таблице. \n",
    "\n",
    "(Отсутствие числа в таблице означает, что прямой дороги между пунктами нет.)\n",
    "\n",
    "Определите длину кратчайшего пути между пунктами А и F \n",
    "\n",
    "(при условии, что передвигаться можно только по построенным дорогам).\n",
    "\n",
    "---\n",
    "\n",
    "Between the settlements A, B, C, D, E, F roads are constructed, the length of them is given in the table. \n",
    "\n",
    "(The absence of a number in the table means that there is no direct road between these points.)\n",
    "\n",
    "Determine the length of the shortest path between points A and F \n",
    "\n",
    "(on the condition that it is possible to move only along the constructed roads).\n",
    "\n",
    "| &#x123CF; | A | B | C | D | E | F |\n",
    "|:-:|:-:|:-:|:-:|:-:|:-:|:-:|\n",
    "| **A** | &#x123CF; | 7 | 2 |   |   |   |\n",
    "| **B** | 7 | &#x123CF; | 4 | 2 | 2 | 4 |\n",
    "| **C** | 2 | 4 | &#x123CF; | 5 | 1 |   |\n",
    "| **D** |   | 2 | 5 | &#x123CF; | 4 | 3 |\n",
    "| **E** |   | 2 | 1 | 4 | &#x123CF; | 8 |\n",
    "| **F** |   | 4 |   | 3 | 8 | &#x123CF; |"
   ]
  },
  {
   "cell_type": "code",
   "execution_count": 15,
   "metadata": {},
   "outputs": [],
   "source": [
    "edges <- c('A','B', 'A','C', 'B','C', 'B','D', 'B','E', 'B','F',\n",
    "           'C','D', 'C','E', 'D','E', 'D','F', 'E','F')\n",
    "weights <- c(7,2,4,2,2,4,5,1,4,3,8)\n",
    "g <- graph(edges, directed=FALSE)%>%\n",
    "    set_edge_attr(\"weight\", value=weights)\n",
    "\n",
    "shortest_path <- get.shortest.paths(g,'A','F')"
   ]
  },
  {
   "cell_type": "code",
   "execution_count": 16,
   "metadata": {},
   "outputs": [
    {
     "data": {
      "text/html": [
       "<table>\n",
       "<thead><tr><th></th><th scope=col>A</th><th scope=col>B</th><th scope=col>C</th><th scope=col>D</th><th scope=col>E</th><th scope=col>F</th></tr></thead>\n",
       "<tbody>\n",
       "\t<tr><th scope=row>A</th><td>0</td><td>7</td><td>2</td><td>0</td><td>0</td><td>0</td></tr>\n",
       "\t<tr><th scope=row>B</th><td>7</td><td>0</td><td>4</td><td>2</td><td>2</td><td>4</td></tr>\n",
       "\t<tr><th scope=row>C</th><td>2</td><td>4</td><td>0</td><td>5</td><td>1</td><td>0</td></tr>\n",
       "\t<tr><th scope=row>D</th><td>0</td><td>2</td><td>5</td><td>0</td><td>4</td><td>3</td></tr>\n",
       "\t<tr><th scope=row>E</th><td>0</td><td>2</td><td>1</td><td>4</td><td>0</td><td>8</td></tr>\n",
       "\t<tr><th scope=row>F</th><td>0</td><td>4</td><td>0</td><td>3</td><td>8</td><td>0</td></tr>\n",
       "</tbody>\n",
       "</table>\n"
      ],
      "text/latex": [
       "\\begin{tabular}{r|llllll}\n",
       "  & A & B & C & D & E & F\\\\\n",
       "\\hline\n",
       "\tA & 0 & 7 & 2 & 0 & 0 & 0\\\\\n",
       "\tB & 7 & 0 & 4 & 2 & 2 & 4\\\\\n",
       "\tC & 2 & 4 & 0 & 5 & 1 & 0\\\\\n",
       "\tD & 0 & 2 & 5 & 0 & 4 & 3\\\\\n",
       "\tE & 0 & 2 & 1 & 4 & 0 & 8\\\\\n",
       "\tF & 0 & 4 & 0 & 3 & 8 & 0\\\\\n",
       "\\end{tabular}\n"
      ],
      "text/markdown": [
       "\n",
       "| <!--/--> | A | B | C | D | E | F | \n",
       "|---|---|---|---|---|---|\n",
       "| A | 0 | 7 | 2 | 0 | 0 | 0 | \n",
       "| B | 7 | 0 | 4 | 2 | 2 | 4 | \n",
       "| C | 2 | 4 | 0 | 5 | 1 | 0 | \n",
       "| D | 0 | 2 | 5 | 0 | 4 | 3 | \n",
       "| E | 0 | 2 | 1 | 4 | 0 | 8 | \n",
       "| F | 0 | 4 | 0 | 3 | 8 | 0 | \n",
       "\n",
       "\n"
      ],
      "text/plain": [
       "  A B C D E F\n",
       "A 0 7 2 0 0 0\n",
       "B 7 0 4 2 2 4\n",
       "C 2 4 0 5 1 0\n",
       "D 0 2 5 0 4 3\n",
       "E 0 2 1 4 0 8\n",
       "F 0 4 0 3 8 0"
      ]
     },
     "metadata": {},
     "output_type": "display_data"
    }
   ],
   "source": [
    "adjm <- get.adjacency(g, attr=\"weight\",sparse=FALSE)\n",
    "adjm[sort(rownames(adjm)),sort(colnames(adjm))]"
   ]
  },
  {
   "cell_type": "code",
   "execution_count": 17,
   "metadata": {},
   "outputs": [
    {
     "data": {
      "image/png": "[encoded data removed]",
      "text/plain": [
       "Plot with title “”"
      ]
     },
     "metadata": {},
     "output_type": "display_data"
    }
   ],
   "source": [
    "options(repr.plot.width=6,repr.plot.height=6)\n",
    "\n",
    "E(g)$color <- \"gray\"\n",
    "E(g, path=unlist(shortest_path$vpath))$color <- \"darkred\"\n",
    "\n",
    "plot(g, layout=layout_nicely(g),\n",
    "     vertex.color=\"steelblue\",vertex.size=30,vertex.frame.color=\"gray\",\n",
    "     edge.label=E(g)$weight,edge.label.cex=1.5,edge.width=E(g)$weight)"
   ]
  },
  {
   "cell_type": "code",
   "execution_count": 18,
   "metadata": {},
   "outputs": [
    {
     "data": {
      "text/plain": [
       "+ 5/6 vertices, named, from d15a376:\n",
       "[1] A C E B F"
      ]
     },
     "metadata": {},
     "output_type": "display_data"
    }
   ],
   "source": [
    "shortest_path$vpath[[1]]"
   ]
  },
  {
   "cell_type": "code",
   "execution_count": 19,
   "metadata": {},
   "outputs": [
    {
     "data": {
      "text/html": [
       "<table>\n",
       "<thead><tr><th></th><th scope=col>A</th><th scope=col>B</th><th scope=col>C</th><th scope=col>D</th><th scope=col>E</th><th scope=col>F</th></tr></thead>\n",
       "<tbody>\n",
       "\t<tr><th scope=row>A</th><td>0</td><td>5</td><td>2</td><td>7</td><td>3</td><td>9</td></tr>\n",
       "\t<tr><th scope=row>B</th><td>5</td><td>0</td><td>3</td><td>2</td><td>2</td><td>4</td></tr>\n",
       "\t<tr><th scope=row>C</th><td>2</td><td>3</td><td>0</td><td>5</td><td>1</td><td>7</td></tr>\n",
       "\t<tr><th scope=row>D</th><td>7</td><td>2</td><td>5</td><td>0</td><td>4</td><td>3</td></tr>\n",
       "\t<tr><th scope=row>E</th><td>3</td><td>2</td><td>1</td><td>4</td><td>0</td><td>6</td></tr>\n",
       "\t<tr><th scope=row>F</th><td>9</td><td>4</td><td>7</td><td>3</td><td>6</td><td>0</td></tr>\n",
       "</tbody>\n",
       "</table>\n"
      ],
      "text/latex": [
       "\\begin{tabular}{r|llllll}\n",
       "  & A & B & C & D & E & F\\\\\n",
       "\\hline\n",
       "\tA & 0 & 5 & 2 & 7 & 3 & 9\\\\\n",
       "\tB & 5 & 0 & 3 & 2 & 2 & 4\\\\\n",
       "\tC & 2 & 3 & 0 & 5 & 1 & 7\\\\\n",
       "\tD & 7 & 2 & 5 & 0 & 4 & 3\\\\\n",
       "\tE & 3 & 2 & 1 & 4 & 0 & 6\\\\\n",
       "\tF & 9 & 4 & 7 & 3 & 6 & 0\\\\\n",
       "\\end{tabular}\n"
      ],
      "text/markdown": [
       "\n",
       "| <!--/--> | A | B | C | D | E | F | \n",
       "|---|---|---|---|---|---|\n",
       "| A | 0 | 5 | 2 | 7 | 3 | 9 | \n",
       "| B | 5 | 0 | 3 | 2 | 2 | 4 | \n",
       "| C | 2 | 3 | 0 | 5 | 1 | 7 | \n",
       "| D | 7 | 2 | 5 | 0 | 4 | 3 | \n",
       "| E | 3 | 2 | 1 | 4 | 0 | 6 | \n",
       "| F | 9 | 4 | 7 | 3 | 6 | 0 | \n",
       "\n",
       "\n"
      ],
      "text/plain": [
       "  A B C D E F\n",
       "A 0 5 2 7 3 9\n",
       "B 5 0 3 2 2 4\n",
       "C 2 3 0 5 1 7\n",
       "D 7 2 5 0 4 3\n",
       "E 3 2 1 4 0 6\n",
       "F 9 4 7 3 6 0"
      ]
     },
     "metadata": {},
     "output_type": "display_data"
    }
   ],
   "source": [
    "distances(g)"
   ]
  },
  {
   "cell_type": "code",
   "execution_count": 20,
   "metadata": {},
   "outputs": [],
   "source": [
    "answer_dictionary[3] <- distances(g,'A','F')"
   ]
  },
  {
   "cell_type": "markdown",
   "metadata": {},
   "source": [
    "## 4.\n",
    "В папке `D:\\Pictures\\School` находятся следующие файлы и только они:\n",
    "\n",
    "`kino.gif`\n",
    "\n",
    "`vano.jpg`\n",
    "\n",
    "`ono.jpg`\n",
    "\n",
    "`domino.gif`\n",
    "\n",
    "`no.jpg`\n",
    "\n",
    "К этим файлам применили следующую операцию: \n",
    "\n",
    "файлы, имена которых удовлетворяют маске `*?no.*g*` переместили в папку `\"..\"` относительно текущей. \n",
    "\n",
    "Сколько файлов останется в исходной папке?\n",
    "\n",
    "---\n",
    "\n",
    "In the folder `D:\\Pictures\\School` there are only the following files:\n",
    "\n",
    "`kino.gif`\n",
    "\n",
    "`vano.jpg`\n",
    "\n",
    "`ono.jpg`\n",
    "\n",
    "`domino.gif`\n",
    "\n",
    "`no.jpg`\n",
    "\n",
    "The operation was applied to them: \n",
    "\n",
    "files which names satisfy the mask `*?no.*g*` were moved to the folder `\"..\"` relatively to the current one.\n",
    "\n",
    "How many files will remain in the source folder?"
   ]
  },
  {
   "cell_type": "code",
   "execution_count": 21,
   "metadata": {},
   "outputs": [],
   "source": [
    "file_list <- c('kino.gif', 'vano.jpg', 'ono.jpg', 'domino.gif', 'no.jpg')"
   ]
  },
  {
   "cell_type": "code",
   "execution_count": 22,
   "metadata": {},
   "outputs": [
    {
     "data": {
      "text/html": [
       "<ol class=list-inline>\n",
       "\t<li>TRUE</li>\n",
       "\t<li>TRUE</li>\n",
       "\t<li>TRUE</li>\n",
       "\t<li>TRUE</li>\n",
       "\t<li>FALSE</li>\n",
       "</ol>\n"
      ],
      "text/latex": [
       "\\begin{enumerate*}\n",
       "\\item TRUE\n",
       "\\item TRUE\n",
       "\\item TRUE\n",
       "\\item TRUE\n",
       "\\item FALSE\n",
       "\\end{enumerate*}\n"
      ],
      "text/markdown": [
       "1. TRUE\n",
       "2. TRUE\n",
       "3. TRUE\n",
       "4. TRUE\n",
       "5. FALSE\n",
       "\n",
       "\n"
      ],
      "text/plain": [
       "[1]  TRUE  TRUE  TRUE  TRUE FALSE"
      ]
     },
     "metadata": {},
     "output_type": "display_data"
    }
   ],
   "source": [
    "moved_files <- grepl(\"^.*.no\\\\..*g.*$\", file_list)\n",
    "moved_files"
   ]
  },
  {
   "cell_type": "code",
   "execution_count": 23,
   "metadata": {},
   "outputs": [
    {
     "data": {
      "text/html": [
       "1"
      ],
      "text/latex": [
       "1"
      ],
      "text/markdown": [
       "1"
      ],
      "text/plain": [
       "[1] 1"
      ]
     },
     "metadata": {},
     "output_type": "display_data"
    }
   ],
   "source": [
    "c <- length(file_list) - sum(moved_files)\n",
    "c"
   ]
  },
  {
   "cell_type": "code",
   "execution_count": 24,
   "metadata": {},
   "outputs": [],
   "source": [
    "answer_dictionary[4] <- toString(c)"
   ]
  },
  {
   "cell_type": "markdown",
   "metadata": {},
   "source": [
    "## 5.\n",
    "Для кодирования некоторой последовательности, состоящей из букв `A`, `B`, `C`, `D` и `E`, используется неравномерный двоичный код, позволяющий однозначно декодировать полученную двоичную последовательность. \n",
    "\n",
    "Вот этот код: <i style=\"font-size:130%;\" class=\"font-effect-brick-sign\">`A-111`, `B-101`, `C-100`, `D-01`, `E-110`</i>. \n",
    "\n",
    "Можно ли сократить для одной или нескольких букв длину кодового слова, удалив в нём один или несколько последних символов, чтобы код по-прежнему можно было декодировать однозначно?\n",
    "\n",
    "Запишите ответ в виде: буква, кодовое слово. Например, если бы ответ был «Для буквы `F` новый код будет `110`», ответ нужно записать как: <i style=\"font-size:130%;\" class=\"font-effect-brick-sign\">`F110`</i>. Если невозможно ничего сократить, запишите в ответе просто цифру `0`.\n",
    "\n",
    "---\n",
    "\n",
    "To encode some sequence consisting of the letters `A`, ` B`,  `C`, ` D` and `E`, an unequal binary code is used, which uniquely decodes the resulting binary sequence.\n",
    "\n",
    "Here is the code:  <i style=\"font-size:130%;\" class=\"font-effect-brick-sign\">`A-111`, `B-101`, `C-100`, `D-01`, `E-110`</i>.\n",
    "\n",
    "Is it possible to shorten the length of a codeword for one or more letters by deleting one or more of the last characters in it so that the code can still be decoded uniquely?\n",
    "\n",
    "Write down the answer in the form: a letter, a code word. For example, if the answer was \"For the letter `F`, the new code will be `110`\", it should be written as <i style=\"font-size:130%;\" class=\"font-effect-brick-sign\">`F110`</i>. If it is impossible to shorten anything, write down in the answer just the number `0`."
   ]
  },
  {
   "cell_type": "markdown",
   "metadata": {},
   "source": [
    "В решении использован Алгоритм Шеннона — Фано.\n",
    "\n",
    "С `0` начинается только одно кодовое слово последовательности <i style=\"font-size:130%;\" class=\"font-effect-brick-sign\">`D-01`</i>. \n",
    "\n",
    "После сокращения на единицу эта буква будет кодироваться <i style=\"font-size:130%;\" class=\"font-effect-brick-sign\">`D-0`</i>, а вся последовательность по-прежнему декодируется однозначно. \n",
    "\n",
    "---\n",
    "\n",
    "The solution uses the Shannon-Fano Algorithm.\n",
    "\n",
    "In the sequence, only one codeword <i style=\"font-size:130%;\" class=\"font-effect-brick-sign\">`D-01`</i> begins with `0`.\n",
    "\n",
    "After a reduction of one, this letter will be encoded <i style=\"font-size:130%;\" class=\"font-effect-brick-sign\">`D-0`</i>, and the entire sequence is still possible to decode uniquely."
   ]
  },
  {
   "cell_type": "code",
   "execution_count": 25,
   "metadata": {},
   "outputs": [],
   "source": [
    "answer_dictionary[5] <- 'D0'"
   ]
  },
  {
   "cell_type": "markdown",
   "metadata": {},
   "source": [
    "## 6.\n",
    "Автомат получает на вход два двузначных шестнадцатеричных числа. В этих числах все цифры не превосходят цифру 5 (если в числе есть цифра больше 5, автомат отказывается работать). По этим числам строится новое шестнадцатеричное число по следующим правилам.\n",
    "\n",
    "$1.$ Вычисляются два шестнадцатеричных числа — произведение старших разрядов полученных чисел и произведение младших разрядов этих чисел.\n",
    "\n",
    "$2.$ Полученные два шестнадцатеричных числа записываются друг за другом в порядке возрастания (без разделителей).\n",
    "\n",
    "Пример: \n",
    "\n",
    "| Исходные числа | Цифры в разрядах | Поразрядные произведения | Результат |\n",
    "|:-:|:-:|:-:|:-:|\n",
    "| $52_{16}, 44_{16}$ | $5_{16}, 4_{16} = 5_{10}, 4_{10}$ <br> $2_{16}, 4_{16} = 2_{10}, 4_{10}$ |$20_{10} = 14_{16}$ <br> $8_{10} = 8_{16}$ | $814_{16}$ |\n",
    "\n",
    "Какие из предложенных чисел могут быть результатом работы автомата?\n",
    "\n",
    "Перечислите в алфавитном порядке буквы, соответствующие этим числам, без пробелов и знаков препинания.\n",
    "\n",
    "---\n",
    "\n",
    "The automatic system receives two two-digit hexadecimal numbers. In these numbers, all digits do not exceed 5 (if a digit is more than 5, the system refuses to work). For these numbers, a new hexadecimal number is constructed according to the following rules.\n",
    "\n",
    "$1.$ Two hexadecimal numbers are computed - the product of the highest digits of the obtained numbers and the product of the lowest digits of these numbers.\n",
    "\n",
    "$2.$ The resulting two hexadecimal numbers are written consecutively in ascending order (no delimiters).\n",
    "\n",
    "Example: \n",
    "\n",
    "| Initial numbers | Highest and Lowest Digits in Numbers | Bitwise products | Result |\n",
    "|:-:|:-:|:-:|:-:|\n",
    "| $52_{16}, 44_{16}$ | $5_{16}, 4_{16} = 5_{10}, 4_{10}$ <br> $2_{16}, 4_{16} = 2_{10}, 4_{10}$ |$20_{10} = 14_{16}$ <br> $8_{10} = 8_{16}$ | $814_{16}$ |\n",
    "\n",
    "Which of the suggested numbers can be the operation result of the automatic system?\n",
    "\n",
    "List in alphabetical order the letters corresponding to these numbers, without spaces and punctuation marks.\n",
    "\n",
    "$A) \\ 4B_{16}$\n",
    "\n",
    "$B) \\ AB_{16}$\n",
    "\n",
    "$C) \\ CA_{16}$\n",
    "\n",
    "$D) \\ 9C_{16}$\n",
    "\n",
    "$E) \\ 616_{16}$"
   ]
  },
  {
   "cell_type": "markdown",
   "metadata": {},
   "source": [
    "Обратные преобразования чисел / Inverse transformation of numbers:\n",
    "\n",
    "$A) \\ 4B_{16} \\to 4_{10} = 4_{10} ; B_{16} = 11_{10}$ - простое число 11 не может быть результатом умножения двух чисел, не превышающих 5 / 11 cannot be the result of multiplying two numbers not exceeding 5.\n",
    "\n",
    "$B) \\ AB_{16} \\to A_{16} = 10_{10} ; B_{16} = 11_{10}$ - простое число 11 не может быть результатом умножения двух чисел, не превышающих 5 / 11 cannot be the result of multiplying two numbers not exceeding 5.\n",
    "\n",
    "$C) \\ CA_{16}$ - цифры не записаны в порядке возрастания / digits are not written in ascending order.\n",
    "\n",
    "$D) \\ 9C_{16}  \\to 9_{10} ; 12_{10} \\to 3_{10}, 3_{10}; 3_{10}, 4_{10} \\to 3_{16}, 3_{16}; 3_{16}, 4_{16} \\to 33_{16}; 34_{16}$\n",
    "\n",
    "$E) \\ 616_{16}$ \n",
    "\n",
    "- $61_{16} = 97_{10}; 6_{16} = 6_{10}$ -  произведения не записаны в порядке возрастания / products are not written in ascending order; \n",
    "\n",
    "- $616_{16} \\to 6_{16} = 6_{10}; 16_{16} = 22_{10}$ - число 22 не может быть результатом умножения двух чисел, не превышающих 5 / 22 cannot be the result of multiplying two numbers not exceeding 5."
   ]
  },
  {
   "cell_type": "code",
   "execution_count": 26,
   "metadata": {},
   "outputs": [],
   "source": [
    "answer_dictionary[6] <- 'D'"
   ]
  },
  {
   "cell_type": "markdown",
   "metadata": {},
   "source": [
    "## 7.\n",
    "Дан фрагмент электронной таблицы.\n",
    "\n",
    "The fragment of the spreadsheet is given.\n",
    "\n",
    "| | A | B | C | D |\n",
    "|:-:|:-:|:-:|:-:|:-:|\n",
    "| 1 | 4 | 5 | 3 |  |\n",
    "| 2 | 2 | 1 | =A1+B2 |  |\n",
    "| 3 | 6 | 7 | =A&#36;2+B3 | . |\n",
    "\n",
    "Чему станет равным значение ячейки `D2`, если в неё скопировать формулу из ячейки `C3`?\n",
    "\n",
    "Примечание: знак &#36; обозначает абсолютную адресацию.\n",
    "\n",
    "What will the value of the cell `D2` become equal if you copy the formula from the cell `C3` into it?\n",
    "\n",
    "Note: The &#36; sign denotes absolute addressing.\n",
    "\n",
    "[Google Sheet](https://drive.google.com/open?id=1QzIl60h-gMt-Ksd8SWi-_eU-I-Hxh8piHdn6ueiMSdM)\n",
    "\n",
    "Результат копирования ячейки.\n",
    "\n",
    "The result of copying the cell.\n",
    "\n",
    "<div style=\"width: 800px; height: 320px; overflow:auto;\">\n",
    "    <img src=\"it_images/2017_06_07a.png\" width=\"800\" height=\"320\"/>\n",
    "</div>"
   ]
  },
  {
   "cell_type": "code",
   "execution_count": 27,
   "metadata": {},
   "outputs": [],
   "source": [
    "answer_dictionary[7] <- '6'"
   ]
  },
  {
   "cell_type": "markdown",
   "metadata": {},
   "source": [
    "## 8.\n",
    "Определите, что будет напечатано в результате выполнения следующего фрагмента программы:\n",
    "\n",
    "Determine what will be printed as a result of the following program fragment:\n",
    "<table style=\"width:95%;\">\n",
    "  <tr style=\"color:slategray;font-size:120%;font-family:'Roboto';\">\n",
    "    <th style=\"text-align:center;\">Python</th> \n",
    "    <th style=\"text-align:center;\">R</th>          \n",
    "  </tr>\n",
    "  <tr>\n",
    "    <td style=\"font-weight:bold;text-align:left;\"><pre><code class='python'>\n",
    "\n",
    "k,s = 50,1024\n",
    "\n",
    "while s > 0:\n",
    "    s = int(s / 2)\n",
    "    k -= 3\n",
    "\n",
    "print (k)\n",
    "    </code></pre></td> \n",
    "    <td style=\"font-weight:bold;text-align:left;\"><pre><code class='r'> \n",
    "    \n",
    "k <- 50; s <- 1024\n",
    "\n",
    "while (s > 0) {\n",
    "    s <- as.integer(s / 2)\n",
    "    k <- k - 3\n",
    "}\n",
    "\n",
    "print(k)\n",
    "    </code></pre></td>     \n",
    "  </tr> \n",
    "  <tr style=\"color:slategray;font-size:120%;font-family:'Roboto';\">\n",
    "    <th style=\"text-align:center;\">BASIC</th> \n",
    "    <th style=\"text-align:center;\">Pascal</th>          \n",
    "  </tr>\n",
    "  <tr>\n",
    "    <td style=\"font-weight:bold;text-align:left;\"><pre><code class='basic'>\n",
    "\n",
    "DIM k, s AS INTEGER\n",
    "k = 50\n",
    "s = 1024\n",
    "WHILE s > 0\n",
    "    s = s / 2\n",
    "    k = k - 3\n",
    "WEND\n",
    "PRINT k\n",
    "    </code></pre></td> \n",
    "    <td style=\"font-weight:bold;text-align:left;\"><pre><code class='pascal'> \n",
    "    \n",
    "var k, s : integer;\n",
    "begin\n",
    "    k := 50;\n",
    "    s := 1024;\n",
    "    while s > 0 do\n",
    "        s := s / 2;\n",
    "        k := k - 3;\n",
    "    end;\n",
    "    write(k);\n",
    "end.\n",
    "    </code></pre></td>     \n",
    "  </tr>    \n",
    "  <tr style=\"color:slategray;font-size:120%;font-family:'Roboto';\">\n",
    "    <th style=\"text-align:center;\">C</th> \n",
    "    <th style=\"text-align:center;\">Natural Language Programming</th>          \n",
    "  </tr>\n",
    "  <tr>\n",
    "    <td style=\"font-weight:bold;text-align:left;\"><pre><code class='c'>\n",
    "\n",
    "{\n",
    "    int k, s;\n",
    "    k = 50;\n",
    "    s = 1024;\n",
    "    while (s > 0)\n",
    "    {\n",
    "        s = s / 2;\n",
    "        k = k - 3;\n",
    "    } \n",
    "    printf(\"%d\", k);\n",
    "}\n",
    "    </code></pre></td> \n",
    "    <td style=\"font-weight:bold;text-align:left;\"><pre><code class='nlp'> \n",
    "    \n",
    "нач\n",
    "    цел k, s\n",
    "    k := 50\n",
    "    s := 1024\n",
    "    нц пока s > 0\n",
    "        s := s / 2\n",
    "        k := k - 3\n",
    "    кц\n",
    "    вывод k\n",
    "кон\n",
    "    </code></pre></td>     \n",
    "  </tr>      \n",
    "</table>"
   ]
  },
  {
   "cell_type": "code",
   "execution_count": 28,
   "metadata": {},
   "outputs": [
    {
     "name": "stdout",
     "output_type": "stream",
     "text": [
      "[1] 17\n"
     ]
    }
   ],
   "source": [
    "k <- 50; s <- 1024\n",
    "\n",
    "while (s > 0) {\n",
    "    s <- as.integer(s / 2)\n",
    "    k <- k - 3\n",
    "}\n",
    "\n",
    "print(k)"
   ]
  },
  {
   "cell_type": "code",
   "execution_count": 29,
   "metadata": {},
   "outputs": [],
   "source": [
    "answer_dictionary[8] <- toString(k)"
   ]
  },
  {
   "cell_type": "markdown",
   "metadata": {},
   "source": [
    "## 9.\n",
    "Производится двухканальная (стерео) звукозапись с частотой дискретизации 16 кГц и количеством уровней квантования 65536. \n",
    "\n",
    "Запись длится 4 минуты, её результаты записываются в файл, сжатие данных не производится. \n",
    "\n",
    "Укажите размер полученного файла (в Мбайт) с точностью 5 Мбайт. \n",
    "\n",
    "В ответе запишите только целое число, единицу измерения писать не нужно.\n",
    "\n",
    "---\n",
    "\n",
    "A two-channel (stereo) sound recording with a sampling frequency of 16 kHz and a number of quantization levels of 65536 is produced. \n",
    "\n",
    "The recording lasts 4 minutes, its results are written to a file, data compression is not applied.\n",
    "\n",
    "Specify the size of the received file (in MB) with the accuracy of 5 MB. \n",
    "\n",
    "In the answer, write down only an integer, you do not need to write a unit of measurement."
   ]
  },
  {
   "cell_type": "markdown",
   "metadata": {},
   "source": [
    "Показатели, позволяющие определить объем информации.\n",
    "\n",
    "- Частота дискретизации: $16$ кГц, за одну секунду запоминается $16000$ значений сигнала.\n",
    "    \n",
    "- Уровни квантования (глубина дискретизации): $65536 = 2^{16}$ ($16$ бит).\n",
    "    \n",
    "- Время записи: $4$ минуты = $240$ секунд.\n",
    "    \n",
    "- Запись двухканальная (стерео): объём памяти для хранения данных одного канала умножается на $2$.\n",
    "   \n",
    "Размер полученного файла:\n",
    "\n",
    "$16000 ∗ \\log_2{65536} ∗ 240 ∗ 2 = 122880000$ бит или $122880000 \\ / \\ 2^3 \\ / \\ 2^{20} \\ \\approx \\ 15$ Мбайт.\n",
    "\n",
    "---\n",
    "\n",
    "Indicators to determine the amount of information.\n",
    "\n",
    "- Sampling frequency: $16$ kHz, for one second, $16,000$ of signal values is memorized.\n",
    "    \n",
    "- Quantization levels (sampling depth): $65536 = 2^{16}$ ($16$ bit).\n",
    "    \n",
    "- Recording time: $4$ minutes = $240$ seconds.\n",
    "    \n",
    "- Two-channel recording (stereo): the amount of memory for storing data of one channel is multiplied by $2$.\n",
    "   \n",
    "The size of the received file:\n",
    "\n",
    "$16000 ∗ \\log_2{65536} ∗ 240 ∗ 2 = 122880000$ bits or $122880000 \\ / \\ 2^3 \\ / \\ 2^{20} \\ \\approx \\ 15$ MB."
   ]
  },
  {
   "cell_type": "code",
   "execution_count": 30,
   "metadata": {},
   "outputs": [
    {
     "data": {
      "text/html": [
       "14.6484375"
      ],
      "text/latex": [
       "14.6484375"
      ],
      "text/markdown": [
       "14.6484375"
      ],
      "text/plain": [
       "[1] 14.64844"
      ]
     },
     "metadata": {},
     "output_type": "display_data"
    }
   ],
   "source": [
    "size <- 16000 * log2(65536) * 240 * 2 / 2**3 / 2**20\n",
    "size"
   ]
  },
  {
   "cell_type": "code",
   "execution_count": 31,
   "metadata": {},
   "outputs": [],
   "source": [
    "answer_dictionary[9] <- toString(round(size))"
   ]
  },
  {
   "cell_type": "markdown",
   "metadata": {},
   "source": [
    "## 10.\n",
    "Вася и Петя передают друг другу сообщения, используя флажки 6-ти цветов. \n",
    "\n",
    "Эти они делают, поднимая последовательно один из флажков, потом опускают его и поднимают ещё какой-то. \n",
    "\n",
    "Чтобы не путаться, ребята договорились, что флажки в одном сообщении не могут повторяться. \n",
    "\n",
    "Сколько различных сообщений могут передавать мальчики?\n",
    "\n",
    "---\n",
    "\n",
    "Vasya and Petya relay messages to each other using the flags of 6 different colors. \n",
    "\n",
    "They do this, uping one of the flags consistently, then lowering it and raising the next one. \n",
    "\n",
    "In order not to be confused, the guys agreed that the flags in one message can not be repeated.\n",
    "\n",
    "How many different messages can the boys transmit?"
   ]
  },
  {
   "cell_type": "markdown",
   "metadata": {},
   "source": [
    "1) \n",
    "\n",
    "В условии задачи недостаточно четко оговаривается количество сигналов в сообщении.\n",
    "\n",
    "Рассмотрим все возможные случаи.\n",
    "\n",
    "The task condition does not clearly specify the number of signals in one message.\n",
    "\n",
    "Let's consider all possible cases.\n",
    "\n",
    "| Длина сообщения |  Количество сообщений | \n",
    "|:-:|:-:|\n",
    "| Message Length | Message Number |\n",
    "| 1 | $6$ |\n",
    "| 2 | $6 * 5$ |\n",
    "| 3 | $6 * 5 * 4$ | \n",
    "| 4 | $6 * 5 * 4 * 3$ |\n",
    "| 5 | $6 * 5 * 4 * 3 * 2$ |\n",
    "| 6 | $6 * 5 * 4 * 3 * 2 * 1$ |\n",
    "\n",
    "\n",
    "Если в одном сообщении может быть только два сигнала, \n",
    "\n",
    "то количество способов выбрать первый флажок равно $6$, второй - $5$ (цвета не могут повторяться). \n",
    "\n",
    "Всего сообщений получится $6 * 5 = 30$. \n",
    "\n",
    "И т.д.\n",
    "\n",
    "\n",
    "If there are only two signals in the message, \n",
    "\n",
    "the number of ways to choose the first flag is $6$, the second one - $5$ (colors can not be repeated). \n",
    "\n",
    "The total number of possible messages will be $6 * 5 = 30$.\n",
    "\n",
    "Etc.\n",
    "\n",
    "2)\n",
    "\n",
    "Всего: / In total:\n",
    "\n",
    "$6 + 6 * 5 + 6 * 5 * 4 + 6 * 5 * 4 * 3 + 6 * 5 * 4 * 3 * 2 + 6 * 5 * 4 * 3 * 2 * 1 = 1956$"
   ]
  },
  {
   "cell_type": "code",
   "execution_count": 32,
   "metadata": {},
   "outputs": [],
   "source": [
    "answer_dictionary[10] <- toString(6 + 6 * 5 + 6 * 5 * 4 + 6 * 5 * 4 * 3 + 6 * 5 * 4 * 3 * 2 + 6 * 5 * 4 * 3 * 2 * 1)"
   ]
  },
  {
   "cell_type": "markdown",
   "metadata": {},
   "source": [
    "## 11.\n",
    "Определите, сколько звёздочек будет напечатано в результате вызова F(5) приведённой подпрограммы:\n",
    "\n",
    "Determine how many asterisks will be printed as a result of calling F(5) from this program fragment:\n",
    "\n",
    "<table style=\"width:95%;\">\n",
    "  <tr style=\"color:slategray;font-size:120%;font-family:'Roboto';\">\n",
    "    <th style=\"text-align:center;\">Python</th> \n",
    "    <th style=\"text-align:center;\">R</th>          \n",
    "  </tr>\n",
    "  <tr>\n",
    "    <td style=\"font-weight:bold;text-align:left;\"><pre><code class='python'>\n",
    "\n",
    "def F(n):\n",
    "    print('&#42;')\n",
    "    if n > 1:\n",
    "        F(int(n / 2))\n",
    "        F(n - 1)\n",
    "\n",
    "    </code></pre></td> \n",
    "    <td style=\"font-weight:bold;text-align:left;\"><pre><code class='r'> \n",
    "    \n",
    "F <- function(n) {\n",
    "    print('&#42;')\n",
    "    if (n > 1) {\n",
    "        F(as.integer(n / 2))\n",
    "        F(n - 1)\n",
    "    }\n",
    "}\n",
    "    </code></pre></td>     \n",
    "  </tr> \n",
    "  <tr style=\"color:slategray;font-size:120%;font-family:'Roboto';\">\n",
    "    <th style=\"text-align:center;\">BASIC</th> \n",
    "    <th style=\"text-align:center;\">Pascal</th>          \n",
    "  </tr>\n",
    "  <tr>\n",
    "    <td style=\"font-weight:bold;text-align:left;\"><pre><code class='basic'>\n",
    "\n",
    "SUB F(n)\n",
    "    PRINT \"&#42;\";\n",
    "    IF n > 1 THEN\n",
    "        F(n / 2)\n",
    "        F(n - 1)\n",
    "    END IF\n",
    "END SUB\n",
    "    </code></pre></td> \n",
    "    <td style=\"font-weight:bold;text-align:left;\"><pre><code class='pascal'> \n",
    "    \n",
    "procedure F(n : integer);\n",
    "begin\n",
    "    write('&#42;');\n",
    "    if n > 1 then\n",
    "        F(n div 2);\n",
    "        F(n - 1);\n",
    "    end;\n",
    "\n",
    "end\n",
    "    </code></pre></td>     \n",
    "  </tr>    \n",
    "  <tr style=\"color:slategray;font-size:120%;font-family:'Roboto';\">\n",
    "    <th style=\"text-align:center;\">C</th> \n",
    "    <th style=\"text-align:center;\">Natural Language Programming</th>          \n",
    "  </tr>\n",
    "  <tr>\n",
    "    <td style=\"font-weight:bold;text-align:left;\"><pre><code class='c'>\n",
    "\n",
    "void F(int n)\n",
    "{\n",
    "    printf(\"&#42;\");\n",
    "    if (n > 1)\n",
    "    {\n",
    "        F(n / 2);\n",
    "        F(n - 1);\n",
    "    }\n",
    "}   \n",
    "    </code></pre></td> \n",
    "    <td style=\"font-weight:bold;text-align:left;\"><pre><code class='nlp'> \n",
    "    \n",
    "алг F(цел n)\n",
    "нач\n",
    "    вывод \"&#42;\"\n",
    "    если n > 1 то\n",
    "        F(div(n, 2))\n",
    "        F(n - 1)\n",
    "    все\n",
    "кон\n",
    "    </code></pre></td>     \n",
    "  </tr>      \n",
    "</table>"
   ]
  },
  {
   "cell_type": "code",
   "execution_count": 33,
   "metadata": {},
   "outputs": [
    {
     "name": "stdout",
     "output_type": "stream",
     "text": [
      "[1] \"* 1\"\n",
      "[1] \"* 2\"\n",
      "[1] \"* 3\"\n",
      "[1] \"* 4\"\n",
      "[1] \"* 5\"\n",
      "[1] \"* 6\"\n",
      "[1] \"* 7\"\n",
      "[1] \"* 8\"\n",
      "[1] \"* 9\"\n",
      "[1] \"* 10\"\n",
      "[1] \"* 11\"\n",
      "[1] \"* 12\"\n",
      "[1] \"* 13\"\n"
     ]
    }
   ],
   "source": [
    "# расширенная версия программы\n",
    "c <- 0\n",
    "\n",
    "F <- function(n) {\n",
    "    c <<- c + 1\n",
    "    print(paste('*',toString(c),sep=' '))\n",
    "\n",
    "    if (n > 1) {\n",
    "        F(as.integer(n / 2))\n",
    "        F(n - 1)\n",
    "    }\n",
    "}\n",
    "\n",
    "F(5)"
   ]
  },
  {
   "cell_type": "code",
   "execution_count": 34,
   "metadata": {},
   "outputs": [
    {
     "data": {
      "image/png": "[encoded data removed]",
      "text/plain": [
       "Plot with title “”"
      ]
     },
     "metadata": {},
     "output_type": "display_data"
    }
   ],
   "source": [
    "options(repr.plot.width=6,repr.plot.height=6)\n",
    "edges1 <- c('F(5)/1','F(2)/2', 'F(5)/1','F(4)/3', \n",
    "            'F(2)/2','F(1)/4', 'F(2)/2','F(1)/5',\n",
    "            'F(4)/3','F(2)/6', 'F(4)/3','F(3)/7',\n",
    "            'F(2)/6','F(1)/8', 'F(2)/6','F(1)/9',\n",
    "            'F(3)/7','F(1)/10', 'F(3)/7','F(2)/11',\n",
    "            'F(2)/11','F(1)/12', 'F(2)/11','F(1)/13')\n",
    "\n",
    "g1 <- graph(edges1)\n",
    "\n",
    "plot(g1,layout=layout_as_tree(g1),\n",
    "     vertex.color=\"lightsteelblue\",\n",
    "     vertex.size=35,vertex.label.cex=1.1,\n",
    "     vertex.frame.color=\"slategray\",vertex.shape='rectangle')"
   ]
  },
  {
   "cell_type": "code",
   "execution_count": 35,
   "metadata": {},
   "outputs": [],
   "source": [
    "answer_dictionary[11] <- toString(c)"
   ]
  },
  {
   "cell_type": "markdown",
   "metadata": {},
   "source": [
    "## 12.\n",
    "В терминологии сетей TCP/IP маской сети называется двоичное число, определяющее, \n",
    "\n",
    "- какая часть IP-адреса узла сети относится к адресу сети, \n",
    "- а какая — к адресу самого узла в этой сети. \n",
    "\n",
    "Обычно маска записывается по тем же правилам, что и IP-адрес. \n",
    "\n",
    "Адрес сети получается в результате применения поразрядной конъюнкции к заданному IP-адресу узла и маске.\n",
    "\n",
    "По заданным IP-адресу узла и маске определите адрес сети.\n",
    "\n",
    "IP-адрес узла: `251.137.219.94`\n",
    "\n",
    "Маска: `255.255.248.0`\n",
    "\n",
    "При записи ответа выберите из приведённых в таблице чисел четыре элемента IP-адреса и \n",
    "\n",
    "запишите в нужном порядке соответствующие им буквы. Точки `.` писать не нужно.\n",
    "\n",
    "---\n",
    "\n",
    "In the terminology of TCP / IP networks, a network mask is a binary number that \n",
    "\n",
    "- specifies what part of the IP address of the node refers to the network address, \n",
    "- and which one to the host address in that network.\n",
    "\n",
    "Usually, the mask is written using the same rules as the IP address. \n",
    "\n",
    "The network address is obtained as a result of applying the bitwise conjunction to the specified node IP address and the mask.\n",
    "\n",
    "From the given IP-address of the node and the mask, determine the network address.\n",
    "\n",
    "The IP address is `251.137.219.94`\n",
    "\n",
    "The mask is: `255.255.248.0`\n",
    "\n",
    "For recording an answer, select from the numbers in the table four IP address elements and \n",
    "\n",
    "write down the corresponding letters in the desired order. Points `.` do not need to be written.\n",
    "\n",
    "| A | B | C | D | E | F | G | H |\n",
    "|:-:|:-:|:-:|:-:|:-:|:-:|:-:|:-:|\n",
    "| 0 | 94 | 137 | 216 | 219 | 248 | 251 | 255 |\n",
    "\n",
    "_Пример_.\n",
    "\n",
    "Пусть искомый IP-адрес `192.168.128.0`, и дана таблица\n",
    "\n",
    "---\n",
    "\n",
    "_Example_. \n",
    "\n",
    "The desired IP-address is `192.168.128.0`, and the table is given:\n",
    "\n",
    "| A | B | C | D | E | F | G | H |\n",
    "|:-:|:-:|:-:|:-:|:-:|:-:|:-:|:-:|\n",
    "| 128 | 168 | 255 | 8 | 127 | 0 | 17 | 192 |\n",
    "\n",
    "В этом случае правильный ответ будет записан в виде: `HBAF`.\n",
    "\n",
    "---\n",
    "\n",
    "In this case, the correct answer will be written in the form: `HBAF`."
   ]
  },
  {
   "cell_type": "code",
   "execution_count": 36,
   "metadata": {},
   "outputs": [],
   "source": [
    "dec2bin <- function(n) {\n",
    "  if (n == 0) {\n",
    "      bv <- '0'\n",
    "  } else {\n",
    "      bv <- rep(0, 1 + floor(log(n, 2)))\n",
    "      while (n >= 2) {\n",
    "          pow <- floor(log(n, 2))\n",
    "          bv[1 + pow] <- 1\n",
    "          n <- n - 2^pow\n",
    "      }\n",
    "      bv[1] <- n %% 2\n",
    "      paste(rev(bv), collapse = \"\")\n",
    "  }\n",
    "}"
   ]
  },
  {
   "cell_type": "markdown",
   "metadata": {},
   "source": [
    "Переведем IP-адрес узла и маску в бинарную форму.\n",
    "\n",
    "Let's write the IP-address of the node and the mask into a binary form."
   ]
  },
  {
   "cell_type": "code",
   "execution_count": 37,
   "metadata": {},
   "outputs": [],
   "source": [
    "ip <- unlist(strsplit('251.137.219.94','[.]'))\n",
    "mask <- unlist(strsplit('255.255.248.0','[.]'))\n",
    "\n",
    "ip_bin <- ''\n",
    "mask_bin <- '' \n",
    "\n",
    "for (i in 1:4) {\n",
    "    ip_bin_cur <- dec2bin(as.integer(ip[i]))\n",
    "    if (nchar(ip_bin_cur) < 8) {\n",
    "        for (k in 1:(8 - nchar(ip_bin_cur))) {\n",
    "           ip_bin_cur <- paste('0',ip_bin_cur,sep='') \n",
    "        }\n",
    "    }\n",
    "\n",
    "    mask_bin_cur <- dec2bin(as.integer(mask[i]))\n",
    "    if (nchar(mask_bin_cur) < 8) {\n",
    "        for (k in 1:(8 - nchar(mask_bin_cur))) {\n",
    "           mask_bin_cur <- paste('0',mask_bin_cur,sep='') \n",
    "        }\n",
    "    }\n",
    "    \n",
    "    ip_bin <- paste(ip_bin,ip_bin_cur,sep='.')\n",
    "    mask_bin <- paste(mask_bin,mask_bin_cur,sep='.')\n",
    "\n",
    "}\n",
    "\n",
    "ip_bin <- substr(ip_bin,2,nchar(ip_bin))\n",
    "mask_bin <- substr(mask_bin,2,nchar(mask_bin))"
   ]
  },
  {
   "cell_type": "code",
   "execution_count": 38,
   "metadata": {},
   "outputs": [
    {
     "data": {
      "text/html": [
       "'11111011.10001001.11011011.01011110'"
      ],
      "text/latex": [
       "'11111011.10001001.11011011.01011110'"
      ],
      "text/markdown": [
       "'11111011.10001001.11011011.01011110'"
      ],
      "text/plain": [
       "[1] \"11111011.10001001.11011011.01011110\""
      ]
     },
     "metadata": {},
     "output_type": "display_data"
    },
    {
     "data": {
      "text/html": [
       "'11111111.11111111.11111000.00000000'"
      ],
      "text/latex": [
       "'11111111.11111111.11111000.00000000'"
      ],
      "text/markdown": [
       "'11111111.11111111.11111000.00000000'"
      ],
      "text/plain": [
       "[1] \"11111111.11111111.11111000.00000000\""
      ]
     },
     "metadata": {},
     "output_type": "display_data"
    }
   ],
   "source": [
    "ip_bin; mask_bin"
   ]
  },
  {
   "cell_type": "markdown",
   "metadata": {},
   "source": [
    "Теперь можно применить поразрядную коньюнкцию.\n",
    "\n",
    "Now it is possible to apply bitwise conjunctions."
   ]
  },
  {
   "cell_type": "code",
   "execution_count": 39,
   "metadata": {},
   "outputs": [
    {
     "data": {
      "text/html": [
       "'11111011.10001001.11011000.00000000'"
      ],
      "text/latex": [
       "'11111011.10001001.11011000.00000000'"
      ],
      "text/markdown": [
       "'11111011.10001001.11011000.00000000'"
      ],
      "text/plain": [
       "[1] \"11111011.10001001.11011000.00000000\""
      ]
     },
     "metadata": {},
     "output_type": "display_data"
    }
   ],
   "source": [
    "ip_bin <- unlist(strsplit(ip_bin,''))\n",
    "mask_bin <- unlist(strsplit(mask_bin,''))\n",
    "\n",
    "net_bin <-''\n",
    "for (i in 1:35){\n",
    "    if (mask_bin[i] == '.'){\n",
    "        net_bin <- paste(net_bin,'.',sep='')\n",
    "    } else {\n",
    "        symbol <- toString(as.integer(as.integer(mask_bin[i]) & as.integer(ip_bin[i])))\n",
    "        net_bin <- paste(net_bin,symbol,sep='')\n",
    "    }\n",
    "}\n",
    "\n",
    "net_bin"
   ]
  },
  {
   "cell_type": "code",
   "execution_count": 40,
   "metadata": {},
   "outputs": [
    {
     "data": {
      "text/html": [
       "'251.137.216.0'"
      ],
      "text/latex": [
       "'251.137.216.0'"
      ],
      "text/markdown": [
       "'251.137.216.0'"
      ],
      "text/plain": [
       "[1] \"251.137.216.0\""
      ]
     },
     "metadata": {},
     "output_type": "display_data"
    }
   ],
   "source": [
    "net <- ''\n",
    "for (el in unlist(strsplit(net_bin,'[.]'))) {\n",
    "    net <- paste(net,toString(bin2dec(el)),sep='.')\n",
    "}\n",
    "net <- substr(net,2,nchar(net))\n",
    "\n",
    "net"
   ]
  },
  {
   "cell_type": "markdown",
   "metadata": {},
   "source": [
    "При замене на буквенные обозначения получается:\n",
    "\n",
    "With replacing the address parts by the letters we get:"
   ]
  },
  {
   "cell_type": "code",
   "execution_count": 41,
   "metadata": {},
   "outputs": [
    {
     "data": {
      "text/html": [
       "'GCDA'"
      ],
      "text/latex": [
       "'GCDA'"
      ],
      "text/markdown": [
       "'GCDA'"
      ],
      "text/plain": [
       "[1] \"GCDA\""
      ]
     },
     "metadata": {},
     "output_type": "display_data"
    }
   ],
   "source": [
    "string <- unlist(strsplit(net,'[.]'))\n",
    "codes <- c('0','94','137','216','219','248','251','255')\n",
    "symbols <- c('A','B','C','D','E','F','G','H')\n",
    "result <- ''\n",
    "\n",
    "for (el in string) {\n",
    "    for (i in 1:8) {\n",
    "        if (el == codes[i]) {\n",
    "            result <- paste(result,symbols[i],sep='')\n",
    "        }\n",
    "    }\n",
    "}\n",
    "\n",
    "result"
   ]
  },
  {
   "cell_type": "code",
   "execution_count": 42,
   "metadata": {},
   "outputs": [],
   "source": [
    "answer_dictionary[12] <- result"
   ]
  },
  {
   "cell_type": "markdown",
   "metadata": {},
   "source": [
    "## 13.\n",
    "При регистрации в компьютерной системе каждому пользователю выдается пароль, \n",
    "\n",
    "- состоящий из 15 символов и \n",
    "- содержащий только символы из 12-символьного набора: A, B, C, D, E, F, G, H, K, L, M, N. \n",
    "\n",
    "В базе данных для хранения сведений о каждом пользователе отведено одинаковое и минимально возможное целое число байт. \n",
    "\n",
    "При этом используют посимвольное кодирование паролей, все символы кодируют одинаковым и минимально возможным количеством бит. \n",
    "\n",
    "Кроме собственно пароля, для каждого пользователя в системе хранятся дополнительные сведения, \n",
    "\n",
    "для чего отведено 12 байт на одного пользователя.\n",
    "\n",
    "Определите объём памяти (в байтах), необходимый для хранения сведений о 30 пользователях. \n",
    "\n",
    "В ответе запишите только целое число — количество байт.\n",
    "\n",
    "---\n",
    "\n",
    "With registering in a computer system, each user is given a password \n",
    "\n",
    "- consisting of 15 characters and \n",
    "- containing only the characters from the 12-character set: A, B, C, D, E, F, G, H, K, L, M, N. \n",
    "\n",
    "In the database for storing information about each user it is allocated the same and the minimum possible integer number of bytes. \n",
    "\n",
    "In this case, the character-by-symbol encoding of passwords is used, all symbols are encoded with the same and the minimum possible number of bits. \n",
    "\n",
    "In addition to the password itself, another information is stored for each user in the system, \n",
    "\n",
    "and for that 12 bytes per user are allocated.\n",
    "\n",
    "Determine the amount of memory (in bytes) required to store information about 30 users. \n",
    "\n",
    "In the answer write down only the whole number - the number of bytes."
   ]
  },
  {
   "cell_type": "markdown",
   "metadata": {},
   "source": [
    ") $3 < log_2{12} < 4  => 4$ (бит) - необходимо для кодирования одной из 12 букв латинского алфавита.\n",
    "\n",
    "Количество возможных вариантов кодировки ($2^4$) не должно быть меньше количества имеющейся информации (12  символов), \n",
    "\n",
    "округление в данном случае - всегда в большую сторону.\n",
    "\n",
    "2) $4 ∗ 15 = 60$ (бит) - необходимо для кодирования 15 символов пароля.\n",
    "\n",
    "3) $60 / 8 = 7.5 \\approx 8$  (байт) - необходимо для кодирования 15 символов пароля.\n",
    "\n",
    "Количество байт - целое число, и округление опять должно быть только в большую сторону.\n",
    "\n",
    "4)  $8 + 12 = 20$ (байт) - выделено на одного пользователя для пароля и дополнительной информации.\n",
    "\n",
    "5)  $20 * 30 = 600$ (байт) - выделено для хранения сведений о 30 пользователях.\n",
    "\n",
    "---\n",
    "\n",
    "1) $3 < log_2{12} < 4  => 4$ (bits) - necessary for encoding one of the 12 Latin letters..\n",
    "\n",
    "The number of possible encoding options ($2^4$) should not be less than the amount of information available (12  сymbols), \n",
    "\n",
    "rounding in this case - always in the larger side.\n",
    "\n",
    "2) $4 ∗ 15 = 60$ (bits) - necessary for encoding 15 password symbols.\n",
    "\n",
    "3) $60 / 8 = 7.5 \\approx 8$  (bytes) - necessary for encoding 15 password symbols.\n",
    "\n",
    "The number of bytes is an integer, and rounding should only be in the larger side again.\n",
    "\n",
    "4)  $8 + 12 = 20$ (bytes) - allocated per user for password and additional information.\n",
    "\n",
    "5)  $20 * 30 = 600$ (bytes) - allocated for 30 users."
   ]
  },
  {
   "cell_type": "code",
   "execution_count": 43,
   "metadata": {},
   "outputs": [
    {
     "data": {
      "text/html": [
       "600"
      ],
      "text/latex": [
       "600"
      ],
      "text/markdown": [
       "600"
      ],
      "text/plain": [
       "[1] 600"
      ]
     },
     "metadata": {},
     "output_type": "display_data"
    }
   ],
   "source": [
    "bits_for_one_symbol_from_12 <- ceiling(log2(12))\n",
    "bits_for_15_symbol_from_12 <- 15 * bits_for_one_symbol_from_12\n",
    "\n",
    "bytes_for_15_symbol_from_12 <- ceiling(bits_for_15_symbol_from_12 / 8)\n",
    "bytes_per_user <- bytes_for_15_symbol_from_12 + 12\n",
    "\n",
    "bytes_for_30_users <- bytes_per_user * 30\n",
    "bytes_for_30_users"
   ]
  },
  {
   "cell_type": "code",
   "execution_count": 44,
   "metadata": {},
   "outputs": [],
   "source": [
    "answer_dictionary[13] <- toString(bytes_for_30_users)"
   ]
  },
  {
   "cell_type": "markdown",
   "metadata": {},
   "source": [
    "## 14.\n",
    "Исполнитель $Редактор$ получает на вход строку цифр и преобразовывает её. \n",
    "\n",
    "$Редактор$ может выполнять две команды, в обеих командах `v` и `w` обозначают цепочки цифр.\n",
    "\n",
    "А) `заменить (v, w)`.\n",
    "\n",
    "Эта команда заменяет в строке первое слева вхождение цепочки `v` на цепочку` w`. Например, выполнение команды `заменить (222, 34)` преобразует строку `77222277` в строку `7734277`. Если в строке нет вхождений цепочки `v`, то выполнение команды `заменить (v, w)` не меняет эту строку.\n",
    "\n",
    "Б) `нашлось (v)`.\n",
    "\n",
    "Эта команда проверяет, встречается ли цепочка `v` в строке исполнителя $Редактор$. Если она встречается, то команда возвращает логическое значение `«истина»`, в противном случае возвращает значение `«ложь»`. Строка при этом не изменяется исполнителем.\n",
    "\n",
    "Цикл \n",
    "\n",
    "`ПОКА` $<условие>$\n",
    "\n",
    "- $ последовательность \\; команд $\n",
    "    \n",
    "`КОНЕЦ ПОКА`\n",
    "\n",
    "выполняется, пока условие истинно.\n",
    "\n",
    "В конструкции \n",
    "\n",
    "`ЕСЛИ` $<условие>$\n",
    "\n",
    "- `ТО` $команда \\; 1$\n",
    "\n",
    "- `ИНАЧЕ` $команда \\; 2$\n",
    "    \n",
    "`КОНЕЦ ЕСЛИ`\n",
    "\n",
    "выполняется `команда 1` (если условие истинно) или `команда 2` (если условие ложно).\n",
    "\n",
    "Какая строка получится в результате применения приведённой ниже программы к строке, состоящей из 50 идущих подряд цифр 2? \n",
    "\n",
    "В ответе запишите полученную строку.\n",
    "\n",
    "`НАЧАЛО`\n",
    "\n",
    "`ПОКА` $<нашлось \\; (222)>$ `ИЛИ` $<нашлось\\; (333)>$\n",
    "  \n",
    "- `ЕСЛИ` $<нашлось \\; (222)>$ \n",
    "  \n",
    "  - `ТО` $заменить \\; (222, 3)$\n",
    "    \n",
    "  - `ИНАЧЕ` $заменить \\; (333, 2)$\n",
    "\n",
    "- `КОНЕЦ ЕСЛИ`  \n",
    "\n",
    "`КОНЕЦ ПОКА`\n",
    "\n",
    "`КОНЕЦ`\n",
    "\n",
    "---\n",
    "\n",
    "The performer $Editor$ receives a string of numbers and converts it. \n",
    "\n",
    "It can execute two commands, in both commands, `v` and `w` denote a chain of numbers.\n",
    "\n",
    "$A)$ `replace (v, w)`.\n",
    "\n",
    "This command replaces the first from the left with the occurrence of the chain `v` on the chain `w`. For example, executing the command to `replace (222, 34)` converts line `77222277` to line `7734277`. If there are no occurrences of the chain `v` in the string, then the execution of the command to `replace (v, w)` does not change this line.\n",
    "\n",
    "$B)$ `found (v)`.\n",
    "\n",
    "This command checks if the string `v` is found in the line. If it occurs, the command returns the logical value of `\"true\"`, otherwise it returns `\"false\"`. The string is not changed by the performer in this case.\n",
    "\n",
    "The cycle\n",
    "\n",
    "`WHILE` $<condition>$\n",
    "\n",
    "- $command \\; sequence$\n",
    "\n",
    "`END while`\n",
    "\n",
    "is executed until the condition is true.\n",
    "\n",
    "\n",
    "In the construction\n",
    "\n",
    "`IF` $<condition>$\n",
    "\n",
    "- `THEN` $command \\; 1$\n",
    "\n",
    "- `ELSE` $command \\; 2$\n",
    "\n",
    "`END IF`\n",
    "\n",
    "the `command 1` is executed (if the condition is true) or the `command 2` is executed (if the condition is false).\n",
    "\n",
    "Which line will be the result from applying for the program below to the line consisting of 50 consecutive digits 2? \n",
    "\n",
    "In the answer write down the received line.\n",
    "\n",
    "`START`\n",
    "\n",
    "`WHILE` $<found \\; (222)>$ `OR` $<found \\; (333)>$\n",
    "  \n",
    "- `IF` $<found \\; (222)>$ \n",
    "  \n",
    "  - `THEN` $replace \\; (222, 3)$\n",
    "    \n",
    "  - `ELSE` $replace \\; (333, 2)$\n",
    "\n",
    "- `END IF` \n",
    "\n",
    "`END WHILE`\n",
    "\n",
    "`END`"
   ]
  },
  {
   "cell_type": "code",
   "execution_count": 45,
   "metadata": {},
   "outputs": [
    {
     "data": {
      "text/html": [
       "'22222222222222222222222222222222222222222222222222'"
      ],
      "text/latex": [
       "'22222222222222222222222222222222222222222222222222'"
      ],
      "text/markdown": [
       "'22222222222222222222222222222222222222222222222222'"
      ],
      "text/plain": [
       "[1] \"22222222222222222222222222222222222222222222222222\""
      ]
     },
     "metadata": {},
     "output_type": "display_data"
    }
   ],
   "source": [
    "string <- paste(replicate(50, \"2\"), collapse = \"\")\n",
    "string"
   ]
  },
  {
   "cell_type": "code",
   "execution_count": 46,
   "metadata": {},
   "outputs": [
    {
     "data": {
      "text/html": [
       "TRUE"
      ],
      "text/latex": [
       "TRUE"
      ],
      "text/markdown": [
       "TRUE"
      ],
      "text/plain": [
       "[1] TRUE"
      ]
     },
     "metadata": {},
     "output_type": "display_data"
    },
    {
     "data": {
      "text/html": [
       "FALSE"
      ],
      "text/latex": [
       "FALSE"
      ],
      "text/markdown": [
       "FALSE"
      ],
      "text/plain": [
       "[1] FALSE"
      ]
     },
     "metadata": {},
     "output_type": "display_data"
    }
   ],
   "source": [
    "grepl(\"222\",string); grepl(\"333\",string)"
   ]
  },
  {
   "cell_type": "code",
   "execution_count": 47,
   "metadata": {},
   "outputs": [
    {
     "name": "stdout",
     "output_type": "stream",
     "text": [
      "[1] \"322222222222222222222222222222222222222222222222\"\n",
      "[1] \"3322222222222222222222222222222222222222222222\"\n",
      "[1] \"33322222222222222222222222222222222222222222\"\n",
      "[1] \"333322222222222222222222222222222222222222\"\n",
      "[1] \"3333322222222222222222222222222222222222\"\n",
      "[1] \"33333322222222222222222222222222222222\"\n",
      "[1] \"333333322222222222222222222222222222\"\n",
      "[1] \"3333333322222222222222222222222222\"\n",
      "[1] \"33333333322222222222222222222222\"\n",
      "[1] \"333333333322222222222222222222\"\n",
      "[1] \"3333333333322222222222222222\"\n",
      "[1] \"33333333333322222222222222\"\n",
      "[1] \"333333333333322222222222\"\n",
      "[1] \"3333333333333322222222\"\n",
      "[1] \"33333333333333322222\"\n",
      "[1] \"333333333333333322\"\n",
      "[1] \"2333333333333322\"\n",
      "[1] \"22333333333322\"\n",
      "[1] \"222333333322\"\n",
      "[1] \"3333333322\"\n",
      "[1] \"23333322\"\n",
      "[1] \"223322\"\n"
     ]
    }
   ],
   "source": [
    "string_function <- function(w) {\n",
    "    while (grepl(\"222\",w) | grepl(\"333\",w)) {\n",
    "        \n",
    "        if (grepl(\"222\",w)) { \n",
    "            w <- sub('222','3',w)\n",
    "            print(w)\n",
    "        } else {\n",
    "            w <- sub('333','2',w)\n",
    "            print(w)\n",
    "        }\n",
    "    }\n",
    "    \n",
    "    return(w)\n",
    "}\n",
    "\n",
    "result <- string_function(string)"
   ]
  },
  {
   "cell_type": "code",
   "execution_count": 48,
   "metadata": {},
   "outputs": [],
   "source": [
    "answer_dictionary[14] <- result"
   ]
  },
  {
   "cell_type": "markdown",
   "metadata": {},
   "source": [
    "## 15.\n",
    "На рисунке — схема дорог, связывающих города А, Б, В, Г, Д, Е, Ж, З, И, К. \n",
    "\n",
    "По каждой дороге можно двигаться только в одном направлении, указанном стрелкой. \n",
    "\n",
    "Сколько существует различных путей из города А в город К?\n",
    "\n",
    "---\n",
    "\n",
    "In the figure - the scheme of roads is connecting the cities А, Б, В, Г, Д, Е, Ж, З, И, К. \n",
    "\n",
    "For each road, it is possible to move only in one direction, indicated by an arrow. \n",
    "\n",
    "How many different paths exist from the city А to the city К?"
   ]
  },
  {
   "cell_type": "code",
   "execution_count": 49,
   "metadata": {},
   "outputs": [
    {
     "data": {
      "image/png": "[encoded data removed]",
      "text/plain": [
       "Plot with title “”"
      ]
     },
     "metadata": {},
     "output_type": "display_data"
    }
   ],
   "source": [
    "options(warn = -1,repr.plot.width=5,repr.plot.height=5)\n",
    "edges <- c('А','Б', 'А','В', 'А','Г', 'Б','Д', 'Б','Ж',\n",
    "           'В','Е', 'В','Ж', 'Г','В', 'Г','Е',\n",
    "           'Д','И', 'Д','Ж', 'Е','Ж', 'Е','З',\n",
    "           'Ж','З', 'Ж','И', 'Ж','К', 'З','К', 'И','К')\n",
    "g2 <- graph(edges)\n",
    "plot(g2,\n",
    "     vertex.color=\"steelblue\",vertex.size=15,\n",
    "     vertex.frame.color=\"gray\",vertex.shape='square')"
   ]
  },
  {
   "cell_type": "code",
   "execution_count": 50,
   "metadata": {},
   "outputs": [
    {
     "data": {
      "text/html": [
       "<ol>\n",
       "\t<li><ol class=list-inline>\n",
       "\t<li>'А'</li>\n",
       "\t<li>'Б'</li>\n",
       "\t<li>'Д'</li>\n",
       "\t<li>'Ж'</li>\n",
       "\t<li>'И'</li>\n",
       "\t<li>'К'</li>\n",
       "</ol>\n",
       "</li>\n",
       "\t<li><ol class=list-inline>\n",
       "\t<li>'А'</li>\n",
       "\t<li>'Б'</li>\n",
       "\t<li>'Д'</li>\n",
       "\t<li>'Ж'</li>\n",
       "\t<li>'З'</li>\n",
       "\t<li>'К'</li>\n",
       "</ol>\n",
       "</li>\n",
       "\t<li><ol class=list-inline>\n",
       "\t<li>'А'</li>\n",
       "\t<li>'Б'</li>\n",
       "\t<li>'Д'</li>\n",
       "\t<li>'Ж'</li>\n",
       "\t<li>'К'</li>\n",
       "</ol>\n",
       "</li>\n",
       "\t<li><ol class=list-inline>\n",
       "\t<li>'А'</li>\n",
       "\t<li>'Б'</li>\n",
       "\t<li>'Д'</li>\n",
       "\t<li>'И'</li>\n",
       "\t<li>'К'</li>\n",
       "</ol>\n",
       "</li>\n",
       "\t<li><ol class=list-inline>\n",
       "\t<li>'А'</li>\n",
       "\t<li>'Б'</li>\n",
       "\t<li>'Ж'</li>\n",
       "\t<li>'И'</li>\n",
       "\t<li>'К'</li>\n",
       "</ol>\n",
       "</li>\n",
       "\t<li><ol class=list-inline>\n",
       "\t<li>'А'</li>\n",
       "\t<li>'Б'</li>\n",
       "\t<li>'Ж'</li>\n",
       "\t<li>'З'</li>\n",
       "\t<li>'К'</li>\n",
       "</ol>\n",
       "</li>\n",
       "\t<li><ol class=list-inline>\n",
       "\t<li>'А'</li>\n",
       "\t<li>'Б'</li>\n",
       "\t<li>'Ж'</li>\n",
       "\t<li>'К'</li>\n",
       "</ol>\n",
       "</li>\n",
       "\t<li><ol class=list-inline>\n",
       "\t<li>'А'</li>\n",
       "\t<li>'В'</li>\n",
       "\t<li>'Ж'</li>\n",
       "\t<li>'И'</li>\n",
       "\t<li>'К'</li>\n",
       "</ol>\n",
       "</li>\n",
       "\t<li><ol class=list-inline>\n",
       "\t<li>'А'</li>\n",
       "\t<li>'В'</li>\n",
       "\t<li>'Ж'</li>\n",
       "\t<li>'З'</li>\n",
       "\t<li>'К'</li>\n",
       "</ol>\n",
       "</li>\n",
       "\t<li><ol class=list-inline>\n",
       "\t<li>'А'</li>\n",
       "\t<li>'В'</li>\n",
       "\t<li>'Ж'</li>\n",
       "\t<li>'К'</li>\n",
       "</ol>\n",
       "</li>\n",
       "\t<li><ol class=list-inline>\n",
       "\t<li>'А'</li>\n",
       "\t<li>'В'</li>\n",
       "\t<li>'Е'</li>\n",
       "\t<li>'Ж'</li>\n",
       "\t<li>'И'</li>\n",
       "\t<li>'К'</li>\n",
       "</ol>\n",
       "</li>\n",
       "\t<li><ol class=list-inline>\n",
       "\t<li>'А'</li>\n",
       "\t<li>'В'</li>\n",
       "\t<li>'Е'</li>\n",
       "\t<li>'Ж'</li>\n",
       "\t<li>'З'</li>\n",
       "\t<li>'К'</li>\n",
       "</ol>\n",
       "</li>\n",
       "\t<li><ol class=list-inline>\n",
       "\t<li>'А'</li>\n",
       "\t<li>'В'</li>\n",
       "\t<li>'Е'</li>\n",
       "\t<li>'Ж'</li>\n",
       "\t<li>'К'</li>\n",
       "</ol>\n",
       "</li>\n",
       "\t<li><ol class=list-inline>\n",
       "\t<li>'А'</li>\n",
       "\t<li>'В'</li>\n",
       "\t<li>'Е'</li>\n",
       "\t<li>'З'</li>\n",
       "\t<li>'К'</li>\n",
       "</ol>\n",
       "</li>\n",
       "\t<li><ol class=list-inline>\n",
       "\t<li>'А'</li>\n",
       "\t<li>'Г'</li>\n",
       "\t<li>'В'</li>\n",
       "\t<li>'Ж'</li>\n",
       "\t<li>'И'</li>\n",
       "\t<li>'К'</li>\n",
       "</ol>\n",
       "</li>\n",
       "\t<li><ol class=list-inline>\n",
       "\t<li>'А'</li>\n",
       "\t<li>'Г'</li>\n",
       "\t<li>'В'</li>\n",
       "\t<li>'Ж'</li>\n",
       "\t<li>'З'</li>\n",
       "\t<li>'К'</li>\n",
       "</ol>\n",
       "</li>\n",
       "\t<li><ol class=list-inline>\n",
       "\t<li>'А'</li>\n",
       "\t<li>'Г'</li>\n",
       "\t<li>'В'</li>\n",
       "\t<li>'Ж'</li>\n",
       "\t<li>'К'</li>\n",
       "</ol>\n",
       "</li>\n",
       "\t<li><ol class=list-inline>\n",
       "\t<li>'А'</li>\n",
       "\t<li>'Г'</li>\n",
       "\t<li>'В'</li>\n",
       "\t<li>'Е'</li>\n",
       "\t<li>'Ж'</li>\n",
       "\t<li>'И'</li>\n",
       "\t<li>'К'</li>\n",
       "</ol>\n",
       "</li>\n",
       "\t<li><ol class=list-inline>\n",
       "\t<li>'А'</li>\n",
       "\t<li>'Г'</li>\n",
       "\t<li>'В'</li>\n",
       "\t<li>'Е'</li>\n",
       "\t<li>'Ж'</li>\n",
       "\t<li>'З'</li>\n",
       "\t<li>'К'</li>\n",
       "</ol>\n",
       "</li>\n",
       "\t<li><ol class=list-inline>\n",
       "\t<li>'А'</li>\n",
       "\t<li>'Г'</li>\n",
       "\t<li>'В'</li>\n",
       "\t<li>'Е'</li>\n",
       "\t<li>'Ж'</li>\n",
       "\t<li>'К'</li>\n",
       "</ol>\n",
       "</li>\n",
       "\t<li><ol class=list-inline>\n",
       "\t<li>'А'</li>\n",
       "\t<li>'Г'</li>\n",
       "\t<li>'В'</li>\n",
       "\t<li>'Е'</li>\n",
       "\t<li>'З'</li>\n",
       "\t<li>'К'</li>\n",
       "</ol>\n",
       "</li>\n",
       "\t<li><ol class=list-inline>\n",
       "\t<li>'А'</li>\n",
       "\t<li>'Г'</li>\n",
       "\t<li>'Е'</li>\n",
       "\t<li>'Ж'</li>\n",
       "\t<li>'И'</li>\n",
       "\t<li>'К'</li>\n",
       "</ol>\n",
       "</li>\n",
       "\t<li><ol class=list-inline>\n",
       "\t<li>'А'</li>\n",
       "\t<li>'Г'</li>\n",
       "\t<li>'Е'</li>\n",
       "\t<li>'Ж'</li>\n",
       "\t<li>'З'</li>\n",
       "\t<li>'К'</li>\n",
       "</ol>\n",
       "</li>\n",
       "\t<li><ol class=list-inline>\n",
       "\t<li>'А'</li>\n",
       "\t<li>'Г'</li>\n",
       "\t<li>'Е'</li>\n",
       "\t<li>'Ж'</li>\n",
       "\t<li>'К'</li>\n",
       "</ol>\n",
       "</li>\n",
       "\t<li><ol class=list-inline>\n",
       "\t<li>'А'</li>\n",
       "\t<li>'Г'</li>\n",
       "\t<li>'Е'</li>\n",
       "\t<li>'З'</li>\n",
       "\t<li>'К'</li>\n",
       "</ol>\n",
       "</li>\n",
       "</ol>\n"
      ],
      "text/latex": [
       "\\begin{enumerate}\n",
       "\\item \\begin{enumerate*}\n",
       "\\item 'А'\n",
       "\\item 'Б'\n",
       "\\item 'Д'\n",
       "\\item 'Ж'\n",
       "\\item 'И'\n",
       "\\item 'К'\n",
       "\\end{enumerate*}\n",
       "\n",
       "\\item \\begin{enumerate*}\n",
       "\\item 'А'\n",
       "\\item 'Б'\n",
       "\\item 'Д'\n",
       "\\item 'Ж'\n",
       "\\item 'З'\n",
       "\\item 'К'\n",
       "\\end{enumerate*}\n",
       "\n",
       "\\item \\begin{enumerate*}\n",
       "\\item 'А'\n",
       "\\item 'Б'\n",
       "\\item 'Д'\n",
       "\\item 'Ж'\n",
       "\\item 'К'\n",
       "\\end{enumerate*}\n",
       "\n",
       "\\item \\begin{enumerate*}\n",
       "\\item 'А'\n",
       "\\item 'Б'\n",
       "\\item 'Д'\n",
       "\\item 'И'\n",
       "\\item 'К'\n",
       "\\end{enumerate*}\n",
       "\n",
       "\\item \\begin{enumerate*}\n",
       "\\item 'А'\n",
       "\\item 'Б'\n",
       "\\item 'Ж'\n",
       "\\item 'И'\n",
       "\\item 'К'\n",
       "\\end{enumerate*}\n",
       "\n",
       "\\item \\begin{enumerate*}\n",
       "\\item 'А'\n",
       "\\item 'Б'\n",
       "\\item 'Ж'\n",
       "\\item 'З'\n",
       "\\item 'К'\n",
       "\\end{enumerate*}\n",
       "\n",
       "\\item \\begin{enumerate*}\n",
       "\\item 'А'\n",
       "\\item 'Б'\n",
       "\\item 'Ж'\n",
       "\\item 'К'\n",
       "\\end{enumerate*}\n",
       "\n",
       "\\item \\begin{enumerate*}\n",
       "\\item 'А'\n",
       "\\item 'В'\n",
       "\\item 'Ж'\n",
       "\\item 'И'\n",
       "\\item 'К'\n",
       "\\end{enumerate*}\n",
       "\n",
       "\\item \\begin{enumerate*}\n",
       "\\item 'А'\n",
       "\\item 'В'\n",
       "\\item 'Ж'\n",
       "\\item 'З'\n",
       "\\item 'К'\n",
       "\\end{enumerate*}\n",
       "\n",
       "\\item \\begin{enumerate*}\n",
       "\\item 'А'\n",
       "\\item 'В'\n",
       "\\item 'Ж'\n",
       "\\item 'К'\n",
       "\\end{enumerate*}\n",
       "\n",
       "\\item \\begin{enumerate*}\n",
       "\\item 'А'\n",
       "\\item 'В'\n",
       "\\item 'Е'\n",
       "\\item 'Ж'\n",
       "\\item 'И'\n",
       "\\item 'К'\n",
       "\\end{enumerate*}\n",
       "\n",
       "\\item \\begin{enumerate*}\n",
       "\\item 'А'\n",
       "\\item 'В'\n",
       "\\item 'Е'\n",
       "\\item 'Ж'\n",
       "\\item 'З'\n",
       "\\item 'К'\n",
       "\\end{enumerate*}\n",
       "\n",
       "\\item \\begin{enumerate*}\n",
       "\\item 'А'\n",
       "\\item 'В'\n",
       "\\item 'Е'\n",
       "\\item 'Ж'\n",
       "\\item 'К'\n",
       "\\end{enumerate*}\n",
       "\n",
       "\\item \\begin{enumerate*}\n",
       "\\item 'А'\n",
       "\\item 'В'\n",
       "\\item 'Е'\n",
       "\\item 'З'\n",
       "\\item 'К'\n",
       "\\end{enumerate*}\n",
       "\n",
       "\\item \\begin{enumerate*}\n",
       "\\item 'А'\n",
       "\\item 'Г'\n",
       "\\item 'В'\n",
       "\\item 'Ж'\n",
       "\\item 'И'\n",
       "\\item 'К'\n",
       "\\end{enumerate*}\n",
       "\n",
       "\\item \\begin{enumerate*}\n",
       "\\item 'А'\n",
       "\\item 'Г'\n",
       "\\item 'В'\n",
       "\\item 'Ж'\n",
       "\\item 'З'\n",
       "\\item 'К'\n",
       "\\end{enumerate*}\n",
       "\n",
       "\\item \\begin{enumerate*}\n",
       "\\item 'А'\n",
       "\\item 'Г'\n",
       "\\item 'В'\n",
       "\\item 'Ж'\n",
       "\\item 'К'\n",
       "\\end{enumerate*}\n",
       "\n",
       "\\item \\begin{enumerate*}\n",
       "\\item 'А'\n",
       "\\item 'Г'\n",
       "\\item 'В'\n",
       "\\item 'Е'\n",
       "\\item 'Ж'\n",
       "\\item 'И'\n",
       "\\item 'К'\n",
       "\\end{enumerate*}\n",
       "\n",
       "\\item \\begin{enumerate*}\n",
       "\\item 'А'\n",
       "\\item 'Г'\n",
       "\\item 'В'\n",
       "\\item 'Е'\n",
       "\\item 'Ж'\n",
       "\\item 'З'\n",
       "\\item 'К'\n",
       "\\end{enumerate*}\n",
       "\n",
       "\\item \\begin{enumerate*}\n",
       "\\item 'А'\n",
       "\\item 'Г'\n",
       "\\item 'В'\n",
       "\\item 'Е'\n",
       "\\item 'Ж'\n",
       "\\item 'К'\n",
       "\\end{enumerate*}\n",
       "\n",
       "\\item \\begin{enumerate*}\n",
       "\\item 'А'\n",
       "\\item 'Г'\n",
       "\\item 'В'\n",
       "\\item 'Е'\n",
       "\\item 'З'\n",
       "\\item 'К'\n",
       "\\end{enumerate*}\n",
       "\n",
       "\\item \\begin{enumerate*}\n",
       "\\item 'А'\n",
       "\\item 'Г'\n",
       "\\item 'Е'\n",
       "\\item 'Ж'\n",
       "\\item 'И'\n",
       "\\item 'К'\n",
       "\\end{enumerate*}\n",
       "\n",
       "\\item \\begin{enumerate*}\n",
       "\\item 'А'\n",
       "\\item 'Г'\n",
       "\\item 'Е'\n",
       "\\item 'Ж'\n",
       "\\item 'З'\n",
       "\\item 'К'\n",
       "\\end{enumerate*}\n",
       "\n",
       "\\item \\begin{enumerate*}\n",
       "\\item 'А'\n",
       "\\item 'Г'\n",
       "\\item 'Е'\n",
       "\\item 'Ж'\n",
       "\\item 'К'\n",
       "\\end{enumerate*}\n",
       "\n",
       "\\item \\begin{enumerate*}\n",
       "\\item 'А'\n",
       "\\item 'Г'\n",
       "\\item 'Е'\n",
       "\\item 'З'\n",
       "\\item 'К'\n",
       "\\end{enumerate*}\n",
       "\n",
       "\\end{enumerate}\n"
      ],
      "text/markdown": [
       "1. 1. 'А'\n",
       "2. 'Б'\n",
       "3. 'Д'\n",
       "4. 'Ж'\n",
       "5. 'И'\n",
       "6. 'К'\n",
       "\n",
       "\n",
       "\n",
       "2. 1. 'А'\n",
       "2. 'Б'\n",
       "3. 'Д'\n",
       "4. 'Ж'\n",
       "5. 'З'\n",
       "6. 'К'\n",
       "\n",
       "\n",
       "\n",
       "3. 1. 'А'\n",
       "2. 'Б'\n",
       "3. 'Д'\n",
       "4. 'Ж'\n",
       "5. 'К'\n",
       "\n",
       "\n",
       "\n",
       "4. 1. 'А'\n",
       "2. 'Б'\n",
       "3. 'Д'\n",
       "4. 'И'\n",
       "5. 'К'\n",
       "\n",
       "\n",
       "\n",
       "5. 1. 'А'\n",
       "2. 'Б'\n",
       "3. 'Ж'\n",
       "4. 'И'\n",
       "5. 'К'\n",
       "\n",
       "\n",
       "\n",
       "6. 1. 'А'\n",
       "2. 'Б'\n",
       "3. 'Ж'\n",
       "4. 'З'\n",
       "5. 'К'\n",
       "\n",
       "\n",
       "\n",
       "7. 1. 'А'\n",
       "2. 'Б'\n",
       "3. 'Ж'\n",
       "4. 'К'\n",
       "\n",
       "\n",
       "\n",
       "8. 1. 'А'\n",
       "2. 'В'\n",
       "3. 'Ж'\n",
       "4. 'И'\n",
       "5. 'К'\n",
       "\n",
       "\n",
       "\n",
       "9. 1. 'А'\n",
       "2. 'В'\n",
       "3. 'Ж'\n",
       "4. 'З'\n",
       "5. 'К'\n",
       "\n",
       "\n",
       "\n",
       "10. 1. 'А'\n",
       "2. 'В'\n",
       "3. 'Ж'\n",
       "4. 'К'\n",
       "\n",
       "\n",
       "\n",
       "11. 1. 'А'\n",
       "2. 'В'\n",
       "3. 'Е'\n",
       "4. 'Ж'\n",
       "5. 'И'\n",
       "6. 'К'\n",
       "\n",
       "\n",
       "\n",
       "12. 1. 'А'\n",
       "2. 'В'\n",
       "3. 'Е'\n",
       "4. 'Ж'\n",
       "5. 'З'\n",
       "6. 'К'\n",
       "\n",
       "\n",
       "\n",
       "13. 1. 'А'\n",
       "2. 'В'\n",
       "3. 'Е'\n",
       "4. 'Ж'\n",
       "5. 'К'\n",
       "\n",
       "\n",
       "\n",
       "14. 1. 'А'\n",
       "2. 'В'\n",
       "3. 'Е'\n",
       "4. 'З'\n",
       "5. 'К'\n",
       "\n",
       "\n",
       "\n",
       "15. 1. 'А'\n",
       "2. 'Г'\n",
       "3. 'В'\n",
       "4. 'Ж'\n",
       "5. 'И'\n",
       "6. 'К'\n",
       "\n",
       "\n",
       "\n",
       "16. 1. 'А'\n",
       "2. 'Г'\n",
       "3. 'В'\n",
       "4. 'Ж'\n",
       "5. 'З'\n",
       "6. 'К'\n",
       "\n",
       "\n",
       "\n",
       "17. 1. 'А'\n",
       "2. 'Г'\n",
       "3. 'В'\n",
       "4. 'Ж'\n",
       "5. 'К'\n",
       "\n",
       "\n",
       "\n",
       "18. 1. 'А'\n",
       "2. 'Г'\n",
       "3. 'В'\n",
       "4. 'Е'\n",
       "5. 'Ж'\n",
       "6. 'И'\n",
       "7. 'К'\n",
       "\n",
       "\n",
       "\n",
       "19. 1. 'А'\n",
       "2. 'Г'\n",
       "3. 'В'\n",
       "4. 'Е'\n",
       "5. 'Ж'\n",
       "6. 'З'\n",
       "7. 'К'\n",
       "\n",
       "\n",
       "\n",
       "20. 1. 'А'\n",
       "2. 'Г'\n",
       "3. 'В'\n",
       "4. 'Е'\n",
       "5. 'Ж'\n",
       "6. 'К'\n",
       "\n",
       "\n",
       "\n",
       "21. 1. 'А'\n",
       "2. 'Г'\n",
       "3. 'В'\n",
       "4. 'Е'\n",
       "5. 'З'\n",
       "6. 'К'\n",
       "\n",
       "\n",
       "\n",
       "22. 1. 'А'\n",
       "2. 'Г'\n",
       "3. 'Е'\n",
       "4. 'Ж'\n",
       "5. 'И'\n",
       "6. 'К'\n",
       "\n",
       "\n",
       "\n",
       "23. 1. 'А'\n",
       "2. 'Г'\n",
       "3. 'Е'\n",
       "4. 'Ж'\n",
       "5. 'З'\n",
       "6. 'К'\n",
       "\n",
       "\n",
       "\n",
       "24. 1. 'А'\n",
       "2. 'Г'\n",
       "3. 'Е'\n",
       "4. 'Ж'\n",
       "5. 'К'\n",
       "\n",
       "\n",
       "\n",
       "25. 1. 'А'\n",
       "2. 'Г'\n",
       "3. 'Е'\n",
       "4. 'З'\n",
       "5. 'К'\n",
       "\n",
       "\n",
       "\n",
       "\n",
       "\n"
      ],
      "text/plain": [
       "[[1]]\n",
       "[1] \"А\" \"Б\" \"Д\" \"Ж\" \"И\" \"К\"\n",
       "\n",
       "[[2]]\n",
       "[1] \"А\" \"Б\" \"Д\" \"Ж\" \"З\" \"К\"\n",
       "\n",
       "[[3]]\n",
       "[1] \"А\" \"Б\" \"Д\" \"Ж\" \"К\"\n",
       "\n",
       "[[4]]\n",
       "[1] \"А\" \"Б\" \"Д\" \"И\" \"К\"\n",
       "\n",
       "[[5]]\n",
       "[1] \"А\" \"Б\" \"Ж\" \"И\" \"К\"\n",
       "\n",
       "[[6]]\n",
       "[1] \"А\" \"Б\" \"Ж\" \"З\" \"К\"\n",
       "\n",
       "[[7]]\n",
       "[1] \"А\" \"Б\" \"Ж\" \"К\"\n",
       "\n",
       "[[8]]\n",
       "[1] \"А\" \"В\" \"Ж\" \"И\" \"К\"\n",
       "\n",
       "[[9]]\n",
       "[1] \"А\" \"В\" \"Ж\" \"З\" \"К\"\n",
       "\n",
       "[[10]]\n",
       "[1] \"А\" \"В\" \"Ж\" \"К\"\n",
       "\n",
       "[[11]]\n",
       "[1] \"А\" \"В\" \"Е\" \"Ж\" \"И\" \"К\"\n",
       "\n",
       "[[12]]\n",
       "[1] \"А\" \"В\" \"Е\" \"Ж\" \"З\" \"К\"\n",
       "\n",
       "[[13]]\n",
       "[1] \"А\" \"В\" \"Е\" \"Ж\" \"К\"\n",
       "\n",
       "[[14]]\n",
       "[1] \"А\" \"В\" \"Е\" \"З\" \"К\"\n",
       "\n",
       "[[15]]\n",
       "[1] \"А\" \"Г\" \"В\" \"Ж\" \"И\" \"К\"\n",
       "\n",
       "[[16]]\n",
       "[1] \"А\" \"Г\" \"В\" \"Ж\" \"З\" \"К\"\n",
       "\n",
       "[[17]]\n",
       "[1] \"А\" \"Г\" \"В\" \"Ж\" \"К\"\n",
       "\n",
       "[[18]]\n",
       "[1] \"А\" \"Г\" \"В\" \"Е\" \"Ж\" \"И\" \"К\"\n",
       "\n",
       "[[19]]\n",
       "[1] \"А\" \"Г\" \"В\" \"Е\" \"Ж\" \"З\" \"К\"\n",
       "\n",
       "[[20]]\n",
       "[1] \"А\" \"Г\" \"В\" \"Е\" \"Ж\" \"К\"\n",
       "\n",
       "[[21]]\n",
       "[1] \"А\" \"Г\" \"В\" \"Е\" \"З\" \"К\"\n",
       "\n",
       "[[22]]\n",
       "[1] \"А\" \"Г\" \"Е\" \"Ж\" \"И\" \"К\"\n",
       "\n",
       "[[23]]\n",
       "[1] \"А\" \"Г\" \"Е\" \"Ж\" \"З\" \"К\"\n",
       "\n",
       "[[24]]\n",
       "[1] \"А\" \"Г\" \"Е\" \"Ж\" \"К\"\n",
       "\n",
       "[[25]]\n",
       "[1] \"А\" \"Г\" \"Е\" \"З\" \"К\"\n"
      ]
     },
     "metadata": {},
     "output_type": "display_data"
    }
   ],
   "source": [
    "paths <- all_simple_paths(g2,'А','К')\n",
    "paths <- lapply(1:length(paths), function(x) as_ids(paths[[x]]))\n",
    "paths"
   ]
  },
  {
   "cell_type": "code",
   "execution_count": 51,
   "metadata": {},
   "outputs": [],
   "source": [
    "answer_dictionary[15] <- toString(length(paths))"
   ]
  },
  {
   "cell_type": "markdown",
   "metadata": {},
   "source": [
    "## 16.\n",
    "Запись десятичного числа в системах счисления с основаниями 4 и 7 в обоих случаях имеет последней цифрой 0. \n",
    "\n",
    "Какое минимальное натуральное десятичное число удовлетворяет этому требованию?\n",
    "\n",
    "---\n",
    "\n",
    "Recording a decimal number in the number systems with bases 4 and 7 in both cases has the last digit 0.\n",
    "\n",
    "What is the minimum natural decimal number that satisfies this requirement?"
   ]
  },
  {
   "cell_type": "markdown",
   "metadata": {},
   "source": [
    "Последняя цифра 0 означает, что исходное десятичное число делится на 4 и на 7 без остатка.\n",
    "\n",
    "Поскольку у 4 и 7 нет общих множителей, искомым минимальным числом является их произведение.\n",
    "\n",
    "---\n",
    "\n",
    "The last digit 0 means that the original decimal number is divided by 4 and by 7 without residue.\n",
    "\n",
    "Since 4 and 7 do not have common multipliers the desired minimum number is their product."
   ]
  },
  {
   "cell_type": "code",
   "execution_count": 52,
   "metadata": {},
   "outputs": [],
   "source": [
    "answer_dictionary[16] <- toString(4 * 7)"
   ]
  },
  {
   "cell_type": "markdown",
   "metadata": {},
   "source": [
    "## 17.\n",
    "В языке запросов к поисковому серверу \n",
    "\n",
    "- для обозначения логической операции `«ИЛИ»` используется символ `|`, \n",
    "- а для логической операции `«И»` — `&`. \n",
    "\n",
    "В таблице приведено количество страниц, которое находит поисковая система по каждому запросу.\n",
    "\n",
    "---\n",
    "\n",
    "In the query language to the search server, \n",
    "- the symbol `\"|\"` is used to indicate the logical operation `\"OR\"`, \n",
    "- and for the logical operation `\"AND\"` - `\"&\"`. \n",
    "\n",
    "The table shows the number of pages that the search engine finds for each query.\n",
    "\n",
    "| Запрос | Количество найденных страниц (в тысячах) |\n",
    "|:-:|:-:|\n",
    "| Query | Number of pages found |\n",
    "| $Колбаса \\ \\mid \\ Сыр \\ \\mid \\ Паштет$ | 26 |\n",
    "| $Паштет$ | 13 |\n",
    "| $Сыр$ | 8 |\n",
    "| $Колбаса \\ \\& \\ Паштет$ | 3 |\n",
    "| $Сыр \\ \\& \\ Паштет$ | 2 |\n",
    "| $Колбаса \\ \\& \\ Сыр$ | 2 |\n",
    "| $Колбаса \\ \\& \\ Сыр \\ \\& \\ Паштет$ | 1 |\n",
    "\n",
    "Какое количество страниц (в тысячах) будет найдено этой поисковой системой по запросу $Колбаса$?\n",
    "\n",
    "---\n",
    "\n",
    "How many pages (in thousands) will be found on the query  $Колбаса$?"
   ]
  },
  {
   "cell_type": "markdown",
   "metadata": {},
   "source": [
    "`Колбаса ∣ Сыр ∣ Паштет` = `Колбаса` + `Сыр` + `Паштет` - `Колбаса & Паштет` - `Сыр & Паштет` - `Колбаса & Сыр` + `Колбаса & Сыр & Паштет` \n",
    "\n",
    "`Колбаса` = `Колбаса ∣ Сыр ∣ Паштет` + `Колбаса & Паштет` + `Сыр & Паштет` + `Колбаса & Сыр` - `Колбаса & Сыр & Паштет` - `Сыр` - `Паштет`"
   ]
  },
  {
   "cell_type": "code",
   "execution_count": 53,
   "metadata": {},
   "outputs": [
    {
     "data": {
      "text/html": [
       "11"
      ],
      "text/latex": [
       "11"
      ],
      "text/markdown": [
       "11"
      ],
      "text/plain": [
       "[1] 11"
      ]
     },
     "metadata": {},
     "output_type": "display_data"
    }
   ],
   "source": [
    "Sausage_or_Cheese_or_Pate <- 26\n",
    "Pate <- 13\n",
    "Cheese <- 8\n",
    "Sausage_and_Pate <- 3\n",
    "Cheese_and_Pate <- 2\n",
    "Sausage_and_Cheese <- 2\n",
    "Sausage_and_Cheese_and_Pate <- 1\n",
    "\n",
    "Sausage = Sausage_or_Cheese_or_Pate + \n",
    "          Sausage_and_Pate + Sausage_and_Cheese + Cheese_and_Pate - \n",
    "          Sausage_and_Cheese_and_Pate - Cheese - Pate\n",
    "Sausage"
   ]
  },
  {
   "cell_type": "code",
   "execution_count": 54,
   "metadata": {},
   "outputs": [],
   "source": [
    "answer_dictionary[17] <- toString(Sausage)"
   ]
  },
  {
   "cell_type": "code",
   "execution_count": 55,
   "metadata": {},
   "outputs": [
    {
     "data": {
      "image/png": "[encoded data removed]",
      "text/plain": [
       "plot without title"
      ]
     },
     "metadata": {},
     "output_type": "display_data"
    }
   ],
   "source": [
    "options(repr.plot.width=5,repr.plot.height=5)\n",
    "venn.plot <- draw.triple.venn(\n",
    "    area1 = Sausage, area2 = Pate, area3 = Cheese,\n",
    "    n12 = Sausage_and_Pate, n23 = Cheese_and_Pate, n13 = Sausage_and_Cheese,\n",
    "    n123 = Sausage_and_Cheese_and_Pate,\n",
    "    category = c(\"Sausage\", \"Pate\", \"Cheese\"),\n",
    "    fill = c(\"steelblue\", \"coral\", \"lightgreen\"),\n",
    "    lty = \"blank\",\n",
    "    cex = 2, cat.cex = 2, \n",
    "    cat.dist = c(0.1, 0.1, -0.5), cat.pos = c(-5, 5, 0),\n",
    "    cat.col = c(\"steelblue\", \"coral\", \"lightgreen\")\n",
    ");\n",
    "grid.draw(venn.plot);\n",
    "grid.newpage();"
   ]
  },
  {
   "cell_type": "markdown",
   "metadata": {},
   "source": [
    "## 18.\n",
    "На числовой прямой даны отрезки $Р = [5, 13]$ и $Q = [8, 19]$. \n",
    "\n",
    "Укажите наибольшую возможную длину такого отрезка $A$, что формула  \n",
    "\n",
    "$\\neg ( (x \\in P) \\to \\neg (x \\in Q)) \\lor \\neg (x \\in A)$\n",
    "\n",
    "верна при любых значениях $х$.\n",
    "\n",
    "---\n",
    "\n",
    "On the number line are given the segments $Р = [5, 13]$ and $Q = [8, 19]$.\n",
    "\n",
    "Indicate the largest possible length of such a segment $A$ that formula\n",
    "\n",
    "$\\neg ( (x \\in P) \\to \\neg (x \\in Q)) \\lor \\neg (x \\in A)$\n",
    "\n",
    "is true for any values of $x$."
   ]
  },
  {
   "cell_type": "markdown",
   "metadata": {},
   "source": [
    "$\\neg ( (x \\in P) \\to \\neg (x \\in Q)) \\lor \\neg (x \\in A) \\iff \\\\\n",
    "\\neg (\\neg (x \\in P) \\lor \\neg (x \\in Q)) \\lor \\neg (x \\in A) \\iff \\\\\n",
    "\\iff \\neg \\neg ((x \\in P) \\land (x \\in Q)) \\lor \\neg (x \\in A) \\iff \\\\\n",
    "((x \\in P) \\land (x \\in Q)) \\lor \\neg (x \\in A) \\ (*)$\n",
    "\n",
    "$ (*) \\iff (((5 \\leq \\ x \\ \\leq 13) \\land (8 \\leq \\ x \\ \\leq 19)) \\lor \\neg (x \\in A)) \\ \\equiv \\ TRUE \\iff \\\\\n",
    "\\iff (8 \\leq \\ x \\ \\leq 13) \\lor \\neg (x \\in A)) \\ \\equiv \\ TRUE \\iff (x \\in A) \\ \\equiv (8 \\leq \\ x \\ \\leq 13)$"
   ]
  },
  {
   "cell_type": "code",
   "execution_count": 56,
   "metadata": {},
   "outputs": [],
   "source": [
    "answer_dictionary[18] <- toString(13 - 8)"
   ]
  },
  {
   "cell_type": "markdown",
   "metadata": {},
   "source": [
    "## 19.\n",
    "В программе используется целочисленный массив $A$ с индексами от 0 до 9. \n",
    "\n",
    "Значения элементов массива равны $4; 5; 4; 7; 10; 8; 9; 11; 7; 6$ соответственно, т.е. $A[0] = 4$; $A[1] = 5$ и т.д.\n",
    "\n",
    "Определите значение переменной $max$ после выполнения следующего фрагмента программы, \n",
    "\n",
    "записанной ниже на разных языках программирования.\n",
    "\n",
    "---\n",
    "\n",
    "The program uses an integer array $A$ with indices from 0 to 9. \n",
    "\n",
    "The values of the array elements are $4; 5; 4; 7; 10; 8; 9; 11; 7; 6$ respectively, i.e.  $A[0] = 4$; $A[1] = 5$, etc.\n",
    "\n",
    "Determine the value of the variable $max$ after executing the next program fragment, \n",
    "\n",
    "written down below in different programming languages.\n",
    "<table style=\"width:95%;\">\n",
    "  <tr style=\"color:slategray;font-size:120%;font-family:'Roboto';\">\n",
    "    <th style=\"text-align:center;\">Python</th> \n",
    "    <th style=\"text-align:center;\">R</th>          \n",
    "  </tr>\n",
    "  <tr>\n",
    "    <td style=\"font-weight:bold;text-align:left;\"><pre><code class='python'>\n",
    "\n",
    "A = [4,5,4,7,10,8,9,11,7,6]\n",
    "k = 0\n",
    "max = A[0]\n",
    "\n",
    "for i in range(1,10): \n",
    "    if A[i] >= A[k]:\n",
    "        max = A[i]\n",
    "    </code></pre></td> \n",
    "    <td style=\"font-weight:bold;text-align:left;\"><pre><code class='r'> \n",
    "    \n",
    "A <- c(4,5,4,7,10,8,9,11,7,6)\n",
    "k <- 1\n",
    "max <- A[1]\n",
    "\n",
    "for (i in 2:10) {\n",
    "    if (A[i] >= A[k]){\n",
    "        max <- A[i]\n",
    "    }\n",
    "}      \n",
    "    </code></pre></td>     \n",
    "  </tr> \n",
    "</table>  "
   ]
  },
  {
   "cell_type": "code",
   "execution_count": 57,
   "metadata": {},
   "outputs": [
    {
     "data": {
      "text/html": [
       "6"
      ],
      "text/latex": [
       "6"
      ],
      "text/markdown": [
       "6"
      ],
      "text/plain": [
       "[1] 6"
      ]
     },
     "metadata": {},
     "output_type": "display_data"
    }
   ],
   "source": [
    "A <- c(4,5,4,7,10,8,9,11,7,6)\n",
    "k <- 1\n",
    "max_ <- A[1]\n",
    "for (i in 2:10) {\n",
    "    if (A[i] >= A[k]){\n",
    "        max_ <- A[i]\n",
    "    }\n",
    "}  \n",
    "\n",
    "max_"
   ]
  },
  {
   "cell_type": "code",
   "execution_count": 58,
   "metadata": {},
   "outputs": [],
   "source": [
    "answer_dictionary[19] <- toString(max_)"
   ]
  },
  {
   "cell_type": "markdown",
   "metadata": {},
   "source": [
    "## 20. \n",
    "Ниже на нескольких языках записан алгоритм. Получив на вход число $х$, этот алгоритм печатает два числа $L$ и $М$. \n",
    "\n",
    "Укажите наибольшее из таких чисел $х$, при вводе которых алгоритм печатает сначала 3, а потом 7.\n",
    "\n",
    "Below, in several languages, the algorithm is written. Having received the input number $х$, this algorithm prints two numbers $L$ and $М$.\n",
    "\n",
    "Specify the largest numbers $х$, for which the algorithm prints at first 3, and then 7.\n",
    "<table style=\"width:95%;\">\n",
    "  <tr style=\"color:slategray;font-size:120%;font-family:'Roboto';\">\n",
    "    <th style=\"text-align:center;\">Python</th> \n",
    "    <th style=\"text-align:center;\">R</th>          \n",
    "  </tr>\n",
    "  <tr>\n",
    "    <td style=\"font-weight:bold;text-align:left;\"><pre><code class='python'>\n",
    "    \n",
    "x = int(input())\n",
    "L, M = 0, 9\n",
    "\n",
    "while x > 0:\n",
    "    L += 1\n",
    "    if M > x % 10:\n",
    "        M = x % 10\n",
    "    x = int(x / 10)\n",
    "\n",
    "print(L, M)\n",
    "    </code></pre></td> \n",
    "    <td style=\"font-weight:bold;text-align:left;\"><pre><code class='r'> \n",
    "    \n",
    "x <- as.integer(readline())\n",
    "L <- 0; M <- 9\n",
    "\n",
    "while (x > 0){\n",
    "    L <- L + 1\n",
    "    if (M > x %% 10) {\n",
    "        M <- x %% 10\n",
    "    }\n",
    "    x <- as.integer(x / 10)\n",
    "}\n",
    "\n",
    "print(paste(L, M, sep=\" \"))   \n",
    "    </code></pre></td>     \n",
    "  </tr> \n",
    "</table>  "
   ]
  },
  {
   "cell_type": "code",
   "execution_count": 84,
   "metadata": {},
   "outputs": [
    {
     "name": "stdout",
     "output_type": "stream",
     "text": [
      "997\n",
      "[1] \"3 7\"\n"
     ]
    }
   ],
   "source": [
    "x <- as.integer(readline())\n",
    "L <- 0; M <- 9\n",
    "\n",
    "while (x > 0){\n",
    "    L <- L + 1\n",
    "    if (M > x %% 10) {\n",
    "        M <- x %% 10\n",
    "    }\n",
    "    x <- as.integer(x / 10)\n",
    "}\n",
    "\n",
    "print(paste(L, M, sep=\" \")) "
   ]
  },
  {
   "cell_type": "code",
   "execution_count": 59,
   "metadata": {},
   "outputs": [
    {
     "name": "stdout",
     "output_type": "stream",
     "text": [
      "[1] \"981 3 1\"\n",
      "[1] \"982 3 2\"\n",
      "[1] \"983 3 3\"\n",
      "[1] \"984 3 4\"\n",
      "[1] \"985 3 5\"\n",
      "[1] \"986 3 6\"\n",
      "[1] \"987 3 7\"\n",
      "[1] \"988 3 8\"\n",
      "[1] \"989 3 8\"\n",
      "[1] \"990 3 0\"\n",
      "[1] \"991 3 1\"\n",
      "[1] \"992 3 2\"\n",
      "[1] \"993 3 3\"\n",
      "[1] \"994 3 4\"\n",
      "[1] \"995 3 5\"\n",
      "[1] \"996 3 6\"\n",
      "[1] \"997 3 7\"\n",
      "[1] \"998 3 8\"\n",
      "[1] \"999 3 9\"\n",
      "[1] \"1000 4 0\"\n"
     ]
    }
   ],
   "source": [
    "# расширенная версия программы\n",
    "MAX <- 0\n",
    "for (x in 981:1000) {  \n",
    "    L <- 0; M <- 9\n",
    "    t <- x\n",
    "    \n",
    "    while (x > 0){\n",
    "        L <- L + 1\n",
    "        if (M > x %% 10) {\n",
    "            M <- x %% 10\n",
    "        }\n",
    "        if (L == 3 & M == 7 & MAX < t) {\n",
    "            MAX <- t\n",
    "        }\n",
    "        x <- as.integer(x / 10)\n",
    "    }    \n",
    "    print(sprintf(\"%i %i %i\", t, L, M))\n",
    "}"
   ]
  },
  {
   "cell_type": "markdown",
   "metadata": {},
   "source": [
    "Алгоритм вычисляет количество цифр в исходном числе (L) и определяет минимальную цифру среди них (M). \n",
    "\n",
    "L=3, M=7 печатается для трехзначного числа с минимальной цифрой 7. \n",
    "\n",
    "Максимальным среди чисел такого вида будет 997.\n",
    "\n",
    "---\n",
    "\n",
    "The algorithm calculates the number of digits in the original number (L) and determines the minimum digit among them (M). \n",
    "\n",
    "L = 3, M = 7 is printed for a three-digit number with a minimum digit 7. \n",
    "\n",
    "The maximum among the numbers of this kind will be 997."
   ]
  },
  {
   "cell_type": "code",
   "execution_count": 60,
   "metadata": {},
   "outputs": [],
   "source": [
    "answer_dictionary[20] <- toString(MAX)"
   ]
  },
  {
   "cell_type": "markdown",
   "metadata": {},
   "source": [
    "## 21.\n",
    "Определите, при каком наименьшем значении $b$ в результате выполнения следующего алгоритма будет напечатано число 20 \n",
    "\n",
    "(для Вашего удобства алгоритм представлен на нескольких языках):\n",
    "\n",
    "---\n",
    "\n",
    "Determine at what the smallest value of $b$ as a result of the following algorithm will be printed the number 20 \n",
    "\n",
    "(for your convenience, the algorithm is presented in several languages):\n",
    "<table style=\"width:95%;\">\n",
    "  <tr style=\"color:slategray;font-size:120%;font-family:'Roboto';\">\n",
    "    <th style=\"text-align:center;\">Python</th> \n",
    "    <th style=\"text-align:center;\">R</th>          \n",
    "  </tr>\n",
    "  <tr>\n",
    "    <td style=\"font-weight:bold;text-align:left;\"><pre><code class='python'>\n",
    "    \n",
    "def F(x):\n",
    "    if x == 0: \n",
    "        return 0\n",
    "    else: \n",
    "        return 7 + F(x - 1)\n",
    "    \n",
    "b = int(input())\n",
    "a = 0\n",
    "\n",
    "while F(a) < b:\n",
    "    a += 1\n",
    "\n",
    "print(a)\n",
    "    </code></pre></td> \n",
    "    <td style=\"font-weight:bold;text-align:left;\"><pre><code class='r'> \n",
    "    \n",
    "F <- function(x) {\n",
    "    if (x == 0) {\n",
    "        return (0)\n",
    "    } else {\n",
    "        return(7 + F(x - 1))\n",
    "    }\n",
    "} \n",
    "\n",
    "b <- as.integer(readline())\n",
    "a <- 0\n",
    "\n",
    "while (F(a) < b) {\n",
    "    a <- a + 1\n",
    "}\n",
    "\n",
    "print(a)\n",
    "    </code></pre></td>     \n",
    "  </tr> \n",
    "</table>  "
   ]
  },
  {
   "cell_type": "code",
   "execution_count": 90,
   "metadata": {},
   "outputs": [
    {
     "name": "stdout",
     "output_type": "stream",
     "text": [
      "134\n",
      "[1] 20\n"
     ]
    }
   ],
   "source": [
    "F <- function(x) {\n",
    "    if (x == 0) {\n",
    "        return (0)\n",
    "    } else {\n",
    "        return(7 + F(x - 1))\n",
    "    }\n",
    "} \n",
    "\n",
    "b <- as.integer(readline())\n",
    "a <- 0\n",
    "\n",
    "while (F(a) < b) {\n",
    "    a <- a + 1\n",
    "}\n",
    "\n",
    "print(a)"
   ]
  },
  {
   "cell_type": "code",
   "execution_count": 61,
   "metadata": {},
   "outputs": [
    {
     "name": "stdout",
     "output_type": "stream",
     "text": [
      "[1] \"Pairs [b,a]:\"\n",
      "     [,1] [,2] [,3] [,4] [,5] [,6] [,7] [,8] [,9] [,10] [,11] [,12] [,13] [,14]\n",
      "[1,]  100  101  102  103  104  105  106  107  108   109   110   111   112   113\n",
      "[2,]   15   15   15   15   15   15   16   16   16    16    16    16    16    17\n",
      "     [,15] [,16] [,17] [,18] [,19] [,20] [,21] [,22] [,23] [,24] [,25] [,26]\n",
      "[1,]   114   115   116   117   118   119   120   121   122   123   124   125\n",
      "[2,]    17    17    17    17    17    17    18    18    18    18    18    18\n",
      "     [,27] [,28] [,29] [,30] [,31] [,32] [,33] [,34] [,35] [,36] [,37] [,38]\n",
      "[1,]   126   127   128   129   130   131   132   133   134   135   136   137\n",
      "[2,]    18    19    19    19    19    19    19    19    20    20    20    20\n",
      "     [,39] [,40] [,41] [,42] [,43] [,44] [,45] [,46] [,47] [,48] [,49] [,50]\n",
      "[1,]   138   139   140   141   142   143   144   145   146   147   148   149\n",
      "[2,]    20    20    20    21    21    21    21    21    21    21    22    22\n",
      "     [,51] [,52] [,53] [,54] [,55] [,56] [,57] [,58] [,59] [,60] [,61] [,62]\n",
      "[1,]   150   151   152   153   154   155   156   157   158   159   160   161\n",
      "[2,]    22    22    22    22    22    23    23    23    23    23    23    23\n",
      "     [,63] [,64] [,65] [,66] [,67] [,68] [,69] [,70] [,71] [,72] [,73] [,74]\n",
      "[1,]   162   163   164   165   166   167   168   169   170   171   172   173\n",
      "[2,]    24    24    24    24    24    24    24    25    25    25    25    25\n",
      "     [,75] [,76] [,77] [,78] [,79] [,80] [,81] [,82] [,83] [,84] [,85] [,86]\n",
      "[1,]   174   175   176   177   178   179   180   181   182   183   184   185\n",
      "[2,]    25    25    26    26    26    26    26    26    26    27    27    27\n",
      "     [,87] [,88] [,89] [,90] [,91] [,92] [,93] [,94] [,95] [,96] [,97] [,98]\n",
      "[1,]   186   187   188   189   190   191   192   193   194   195   196   197\n",
      "[2,]    27    27    27    27    28    28    28    28    28    28    28    29\n",
      "     [,99] [,100] [,101]\n",
      "[1,]   198    199    200\n",
      "[2,]    29     29     29\n"
     ]
    }
   ],
   "source": [
    "# расширенная версия программы\n",
    "F <- function(x) {\n",
    "    if (x == 0) {\n",
    "        return (0)\n",
    "    } else {\n",
    "        return(7 + F(x - 1))\n",
    "    }\n",
    "} \n",
    "\n",
    "A <- matrix(nrow=2, ncol=200-99)\n",
    "\n",
    "for (b in 100:200) {\n",
    "    a <- 0\n",
    "    \n",
    "    while (F(a) < b) {\n",
    "        a <- a + 1\n",
    "    }\n",
    "    \n",
    "    A[1,b-99] <- b\n",
    "    A[2,b-99] <- a    \n",
    "}\n",
    "\n",
    "print(\"Pairs [b,a]:\")\n",
    "print(A)"
   ]
  },
  {
   "cell_type": "markdown",
   "metadata": {},
   "source": [
    "Алгоритм вычисляет количество целых неотрицательных чисел, кратных 7 и меньших параметра $b$. \n",
    "\n",
    "При $b \\leq 133$ таких чисел будет меньше 20. При $b = 134$ их станет 20: $\\{0, 7, 14, ..., 133\\}$.\n",
    "\n",
    "The algorithm calculates the number of non-negative integers that are multiples of 7 and smaller than the parameter $b$.\n",
    "\n",
    "For $b \\leq 133$ the quantity of these numbers will be less than 20. For $b = 134$, it will be 20: $\\{0, 7, 14, ..., 133 \\}$."
   ]
  },
  {
   "cell_type": "code",
   "execution_count": 62,
   "metadata": {},
   "outputs": [],
   "source": [
    "answer_dictionary[21] <- '134'"
   ]
  },
  {
   "cell_type": "markdown",
   "metadata": {},
   "source": [
    "## 22.\n",
    "У исполнителя `Удвоитель` две команды, которым присвоены номера:\n",
    "\n",
    "$1$. `прибавь 1`,\n",
    "\n",
    "$2$. `умножь на 2`.\n",
    "\n",
    "Первая из них увеличивает число на экране на 1, вторая удваивает его. \n",
    "\n",
    "Программа для `Удвоителя` — это последовательность команд.\n",
    "\n",
    "Сколько есть программ, которые число 2 преобразуют в число 25?\n",
    "\n",
    "---\n",
    "\n",
    "The performer `Doubler` has two enumerated commands:\n",
    "\n",
    "$1$. `add 1`,\n",
    "\n",
    "$2$. `multiply by 2`.\n",
    "\n",
    "The first of them increases the number on the screen by 1, the second doubles it.\n",
    "\n",
    "The program for `Doubler` is a sequence of commands.\n",
    "\n",
    "How many programs are there, which number 2 is converted to 25?"
   ]
  },
  {
   "cell_type": "code",
   "execution_count": 63,
   "metadata": {},
   "outputs": [
    {
     "data": {
      "image/png": "[encoded data removed]",
      "text/plain": [
       "Plot with title “”"
      ]
     },
     "metadata": {},
     "output_type": "display_data"
    }
   ],
   "source": [
    "options(repr.plot.width=9,repr.plot.height=9)\n",
    "edges1 <- c('2','3', '2','4', '3','4 ', '3','6', '4','5', '4','8',\n",
    "            '4 ','5 ', '4 ','8 ', '6','7', '6','12', \n",
    "            '5','6 ', '5','10', '8','9', '8','16')\n",
    "\n",
    "elabels <- c('+1','*2', '+1','*2', '+1','*2', '+1','*2',\n",
    "             '+1','*2', '+1','*2', '+1','*2', '+1','*2')\n",
    "\n",
    "g1 <- graph(edges1)\n",
    "\n",
    "plot(g1,layout=layout_as_tree(g1,circular=TRUE),\n",
    "     edge.label=elabels,vertex.color=\"steelblue\",\n",
    "     vertex.size=15,vertex.label.cex=1.5,\n",
    "     vertex.frame.color=\"gray\",vertex.shape='square')"
   ]
  },
  {
   "cell_type": "markdown",
   "metadata": {},
   "source": [
    "| Начальное число → Конечное число | Количество программ | Примечание |\n",
    "|:-|:-|:-|\n",
    "| Start → End | Number of Programs | Notes |\n",
    "| 2 → 3 | 1 | `2+1` |\n",
    "| 2 → 4 | 2 | `2+1+1`, `2*2` |\n",
    "| 2 → 5 | 2 | `2+1+1+1`, `2*2+1` |\n",
    "| 2 → 6 | 3 | = 2 → 3 + 2 → 4 |\n",
    "| 2 → 7 | 3 | = 2 → 6 |\n",
    "| 2 → 8 | 5 | 2 → 4 + 2 → 6 |\n",
    "| 2 → 9 | 5 | = 2 → 8 |\n",
    "| 2 → 10 | 7 | = 2 → 5 + 2 → 8 |\n",
    "| 2 → 11 | 7 | = 2 → 10 |\n",
    "| 2 → 12 | 10 | = 2 → 6 + 2 → 10 |\n",
    "| 2 → 13 | 10 | = 2 → 12 |\n",
    "| 2 → 14 | 13 | = 2 → 7 + 2 → 12 |\n",
    "| 2 → 15 | 13 | = 2 → 14 |\n",
    "| 2 → 16 | 18 | = 2 → 8 + 2 → 14 |\n",
    "| 2 → 17 | 18 | = 2 → 16 |\n",
    "| 2 → 18 | 23 | = 2 → 9 + 2 → 16 |\n",
    "| 2 → 19 | 23 | = 2 → 18 |\n",
    "| 2 → 20 | 30 | = 2 → 10 + 2 → 18 |\n",
    "| 2 → 21 | 30 | = 2 → 20 |\n",
    "| 2 → 22 | 37 | = 2 → 11 + 2 → 20 |\n",
    "| 2 → 23 | 37 | = 2 → 22 |\n",
    "| 2 → 24 | 47 | = 2 → 12 + 2 → 22 |\n",
    "| 2 → 25 | 47 | = 2 → 24 |"
   ]
  },
  {
   "cell_type": "code",
   "execution_count": 79,
   "metadata": {},
   "outputs": [
    {
     "data": {
      "text/html": [
       "131071"
      ],
      "text/latex": [
       "131071"
      ],
      "text/markdown": [
       "131071"
      ],
      "text/plain": [
       "[1] 131071"
      ]
     },
     "metadata": {},
     "output_type": "display_data"
    }
   ],
   "source": [
    "# пример вариантов программы указанного вида\n",
    "x <- c(2)\n",
    "\n",
    "for (i in 0:15) {    \n",
    "    n <- as.integer(length(x) - 2 ** i + 1)\n",
    "    y <- c(); z <- c()\n",
    "    \n",
    "    for (j in n:length(x)) {\n",
    "        y <- c(y, x[j] + 1) \n",
    "        z <- c(z, x[j] * 2)\n",
    "    }\n",
    "    \n",
    "    x <- c(x, y, z)\n",
    "}\n",
    "\n",
    "length(x)"
   ]
  },
  {
   "cell_type": "code",
   "execution_count": 80,
   "metadata": {},
   "outputs": [
    {
     "data": {
      "text/plain": [
       "x\n",
       "  2   3   4   5   6   7   8   9  10  11  12  13  14  15  16  17  18  19  20  21 \n",
       "  1   1   2   2   3   3   5   5   7   7  10  10  13  13  18  18  23  22  28  27 \n",
       " 22  23  24  25  26  27  28  29  30  31  32  33  34  35  36  37  38  39  40  41 \n",
       " 33  31  39  37  44  41  51  47  55  50  62  55  66  58  72  63  75  65  82  71 \n",
       " 42  43  44  45  46  47  48  49  50  51  52  53 \n",
       " 86  74  93  79  95  80 102  86 105  87 111  92 "
      ]
     },
     "metadata": {},
     "output_type": "display_data"
    }
   ],
   "source": [
    "nt <- table(x)\n",
    "nt[1:52]"
   ]
  },
  {
   "cell_type": "code",
   "execution_count": 81,
   "metadata": {},
   "outputs": [],
   "source": [
    "rm(x)"
   ]
  },
  {
   "cell_type": "code",
   "execution_count": 82,
   "metadata": {},
   "outputs": [
    {
     "data": {
      "text/html": [
       "<strong>25:</strong> 37"
      ],
      "text/latex": [
       "\\textbf{25:} 37"
      ],
      "text/markdown": [
       "**25:** 37"
      ],
      "text/plain": [
       "25 \n",
       "37 "
      ]
     },
     "metadata": {},
     "output_type": "display_data"
    }
   ],
   "source": [
    "nt[names(nt) == 25]"
   ]
  },
  {
   "cell_type": "code",
   "execution_count": 83,
   "metadata": {},
   "outputs": [],
   "source": [
    "answer_dictionary[22] <- '47'"
   ]
  },
  {
   "cell_type": "markdown",
   "metadata": {},
   "source": [
    "## 23.\n",
    "Сколько существует различных наборов значений логических переменных $x_1, х_2, ... х_7 $, \n",
    "\n",
    "которые удовлетворяют всем перечисленным ниже условиям? \n",
    "\n",
    "В ответе не нужно перечислять все различные наборы значений $x_1, х_2, ... х_7$, \n",
    "\n",
    "при которых выполнена данная система равенств. \n",
    "\n",
    "В качестве ответа вам нужно указать количество таких наборов.\n",
    "\n",
    "---\n",
    "\n",
    "How many different sets of values of logical variables $x_1, х_2, ... х_7$ exist \n",
    "\n",
    "that satisfy all the conditions listed below?\n",
    "\n",
    "In the answer it is not necessary to list all the different sets of values $x_1, х_2, ... х_7$ \n",
    "\n",
    "for which the given system of equations is satisfied. \n",
    "\n",
    "As an answer, you need to specify only the number of such sets.\n",
    "\n",
    "- $ (x_1 \\equiv \\neg x_2) \\lor (x_1 \\land \\neg x_3) \\lor (\\neg x_1 \\land x_3) = 1 $  **(1)**\n",
    "- $ (x_2 \\equiv \\neg x_3) \\lor (x_2 \\land \\neg x_4) \\lor (\\neg x_2 \\land x_4) = 1 $  **(2)**\n",
    "- $ (x_3 \\equiv \\neg x_4) \\lor (x_3 \\land \\neg x_5) \\lor (\\neg x_3 \\land x_5) = 1 $  **(3)**\n",
    "- $ (x_4 \\equiv \\neg x_5) \\lor (x_4 \\land \\neg x_6) \\lor (\\neg x_4 \\land x_6) = 1 $  **(4)**\n",
    "- $ (x_5 \\equiv \\neg x_6) \\lor (x_5 \\land \\neg x_7) \\lor (\\neg x_5 \\land x_7) = 1 $  **(5)**"
   ]
  },
  {
   "cell_type": "markdown",
   "metadata": {},
   "source": [
    "| $x_1$ | $x_3$ | $(x_1 \\land \\neg x_3) \\lor (\\neg x_1 \\land x_3)$ | $x_1 \\equiv \\neg x_3$ |\n",
    "|:-:|:-:|:-:|:-:|\n",
    "| 0 | 0 | 0 | 0 |\n",
    "| 0 | 1 | 1 | 1 |\n",
    "| 1 | 0 | 1 | 1 |\n",
    "| 1 | 1 | 0 | 0 |\n",
    "\n",
    "Согласно приведенной таблице истинности:\n",
    "\n",
    "According to the truth table:\n",
    "\n",
    " $((x_1 \\land \\neg x_3) \\lor (\\neg x_1 \\land x_3)) \\equiv (x_1 \\equiv \\neg x_3)$\n",
    " \n",
    "Исходная система уравнений будет равносильна:\n",
    "\n",
    "The initial system of equations is equivalent to:\n",
    "\n",
    "- $ (x_1 \\equiv \\neg x_2) \\lor (x_1 \\equiv \\neg x_3) = 1 \\ (1*)$  \n",
    "- $ (x_2 \\equiv \\neg x_3) \\lor (x_2 \\equiv \\neg x_4) = 1 \\ (2*)$  \n",
    "- $ (x_3 \\equiv \\neg x_4) \\lor (x_3 \\equiv \\neg x_5) = 1 \\ (3*)$  \n",
    "- $ (x_4 \\equiv \\neg x_5) \\lor (x_4 \\equiv \\neg x_6) = 1 \\ (4*)$  \n",
    "- $ (x_5 \\equiv \\neg x_6) \\lor (x_5 \\equiv \\neg x_7) = 1 \\ (5*)$ "
   ]
  },
  {
   "cell_type": "markdown",
   "metadata": {},
   "source": [
    "1) \n",
    "\n",
    "Тождество $(1*)$ выполнется только для 6 наборов переменных $(x_1,x_2,x_3)$ из 8 возможных: \n",
    "\n",
    "The identity $(1*)$ is satisfied only for 6 sets of variables $(x_1,x_2,x_3)$ from 8 possible ones: \n",
    "\n",
    "(0,0,1), (0,1,0), (1,0,0), (1,1,0), (0,1,1), (1,0,1).\n",
    "\n",
    "2) \n",
    "\n",
    "Эти решения $(x_1,x_2,x_3)$ должны пересекаться со множеством решений тождества $(2*)$ для переменных $(x_2,x_3,x_4)$. \n",
    "\n",
    "Два набора $(x_1,x_2,x_3)$ (1,0,0) или (0,1,1) могут быть решениями $(2*)$ только, если $(x_1,x_2,x_3,x_4)$ равны (1,0,0,1) или (0,1,1,0) соответственно. \n",
    "\n",
    "Для остальных 4 наборов $(x_1,x_2,x_3)$ переменная $x_4$ может принимать любые значения. \n",
    "\n",
    "Все решениями системы уравнений $(1*)$ и $(2*)$ являются $2 + 4 * 2 = 10$ наборов переменных $(x_1,x_2,x_3,x_4)$.\n",
    "\n",
    "These sets $(x_1, x_2, x_3)$ must intersect the set of solutions of the identity $(2*)$ for the variables $(x_2, x_3, x_4)$. \n",
    "\n",
    "Two sets $(x_1, x_2, x_3)$ (1,0,0) or (0,1,1) can be solutions of $(2 *)$ only if $(x_1, x_2, x_3, x_4)$ are equal to (1,0,0,1) or (0,1,1,0) respectively. \n",
    "\n",
    "For the remaining 4 sets $(x_1, x_2, x_3)$, the variable $x_4$ can take any values. \n",
    "\n",
    "All solutions of the system of equations $(1 *)$ and $(2 *)$ are $2 + 4 * 2 = 10$ sets of variables $(x_1, x_2, x_3, x_4)$.\n",
    "\n",
    "3) \n",
    "\n",
    "Рассуждая аналогично: \n",
    "\n",
    "   - решениями тождеств $(1*)$, $(2*)$, $(3*)$ будут $4 + 6 * 2 = 16$ наборов переменных; \n",
    "   \n",
    "   - решениями тождеств $(1*)$, $(2*)$, $(3*)$ , $(4*)$  будут $6 + 10 * 2 = 26$ наборов переменных;\n",
    "   \n",
    "   - решениями тождеств $(1*)$, $(2*)$, $(3*)$ , $(4*)$, $(5*)$  будут $10 + 16 * 2 = 42$ набора переменных.\n",
    "   \n",
    "Arguing similarly, we get:\n",
    "\n",
    "   - $4 + 6 * 2 = 16$ sets $(x_1, x_2, x_3, x_4, x_5)$ are solutions of the system $(1 *)$, $(2*)$, $(3*)$;\n",
    "\n",
    "   - $6 + 10 * 2 = 26$ sets $(x_1, x_2, x_3, x_4, x_5, x_6)$ are solutions of the system $(1*), (2*), (3*), (4*)$;\n",
    "   \n",
    "   - $10 + 16 * 2 = 42$ sets $(x_1, x_2, x_3, x_4, x_5, x_6, x_7)$ are solutions of the system $(1*), (2*), (3*), (4*), (5*)$."
   ]
  },
  {
   "cell_type": "code",
   "execution_count": 77,
   "metadata": {},
   "outputs": [
    {
     "data": {
      "text/html": [
       "42"
      ],
      "text/latex": [
       "42"
      ],
      "text/markdown": [
       "42"
      ],
      "text/plain": [
       "[1] 42"
      ]
     },
     "metadata": {},
     "output_type": "display_data"
    }
   ],
   "source": [
    "# check the decision method\n",
    "bc <- bincombinations(7)\n",
    "c <- 0\n",
    "n <- length(bc)/7\n",
    "\n",
    "logical_function <- function(k,l,m) {\n",
    "    (k == !l) | (k == !m)\n",
    "}\n",
    "\n",
    "for (i in 1:n){\n",
    "    el <- bc[i,]\n",
    "    e1 <- logical_function(el[1],el[2],el[3])\n",
    "    e2 <- logical_function(el[2],el[3],el[4])\n",
    "    e3 <- logical_function(el[3],el[4],el[5])\n",
    "    e4 <- logical_function(el[4],el[5],el[6])\n",
    "    e5 <- logical_function(el[5],el[6],el[7])\n",
    "    \n",
    "    result <- (e1 == 1) & (e2 == 1) & (e3 == 1) & (e4 == 1) & (e5 == 1)\n",
    "    \n",
    "    if (result == 1) {\n",
    "        c <- c + 1\n",
    "    }\n",
    "}\n",
    "\n",
    "c"
   ]
  },
  {
   "cell_type": "code",
   "execution_count": 78,
   "metadata": {},
   "outputs": [],
   "source": [
    "answer_dictionary[23] <- toString(c)"
   ]
  },
  {
   "cell_type": "markdown",
   "metadata": {},
   "source": [
    "## Часть 2 &nbsp; &nbsp; &nbsp; Part 2\n",
    "## 24.\n",
    "Требовалось написать программу, которая \n",
    "\n",
    "- вводит с клавиатуры натуральное число  $N \\; (N<109)$  \n",
    "- и выводит на экран наибольшую цифру числа.\n",
    "\n",
    "Программист торопился и написал программу неправильно.\n",
    "\n",
    "Выполните следующие действия:\n",
    "\n",
    "$1$. Напишите, что выведет программа при вводе числа 527.\n",
    "\n",
    "$2$. Приведите пример такого числа, при котором программа работает верно.\n",
    "\n",
    "$3$. Укажите все ошибки в программе и исправьте их.\n",
    "\n",
    "Для этого для каждой ошибки: выпишите строку, которая написана неправильно и приведите правильный вариант строки.\n",
    "\n",
    "It was required to write a program that \n",
    "\n",
    "- enters from the keyboard a natural number  $N \\; (N<109)$  \n",
    "- and displays the largest digit of this number on the screen.\n",
    "\n",
    "The programmer was in a hurry and wrote the program incorrectly.\n",
    "\n",
    "Do the following:\n",
    "\n",
    "$1$. Write what the program will output when you enter the number 527.\n",
    "\n",
    "$2$. Give an example of a number, for which the program works correctly.\n",
    "\n",
    "$3$. Specify all errors in the program and correct them.\n",
    "\n",
    "To do this, for each error: write out the line that was written incorrectly and give the correct version of the line.\n",
    "<table style=\"width:95%;\">\n",
    "  <tr style=\"color:slategray;font-size:120%;font-family:'Roboto';\">\n",
    "    <th style=\"text-align:center;\">Python</th> \n",
    "    <th style=\"text-align:center;\">R</th>          \n",
    "  </tr>\n",
    "  <tr>\n",
    "    <td style=\"font-weight:bold;text-align:left;\"><pre><code class='python'>\n",
    "    \n",
    "N = int(input())\n",
    "k = 10\n",
    "\n",
    "while N > 0:\n",
    "    if N % 10 < k:\n",
    "        k = N % 10\n",
    "    N = int(N / 10)\n",
    "\n",
    "print(k)\n",
    "    </code></pre></td> \n",
    "    <td style=\"font-weight:bold;text-align:left;\"><pre><code class='r'> \n",
    "    \n",
    "N <- as.integer(readline())\n",
    "k <- 10\n",
    "\n",
    "while (N > 0){\n",
    "    if (N %% 10 < k) {\n",
    "        k <- N %% 10\n",
    "    }\n",
    "    N <- as.integer(N / 10)\n",
    "}\n",
    "\n",
    "print(k)   \n",
    "    </code></pre></td>     \n",
    "  </tr> \n",
    "</table>  "
   ]
  },
  {
   "cell_type": "code",
   "execution_count": 120,
   "metadata": {},
   "outputs": [
    {
     "name": "stdout",
     "output_type": "stream",
     "text": [
      "527\n",
      "[1] 2\n"
     ]
    }
   ],
   "source": [
    "# the wrong program, the wrong result\n",
    "N <- as.integer(readline())\n",
    "k <- 10\n",
    "\n",
    "while (N > 0){\n",
    "    if (N %% 10 < k) {\n",
    "        k <- N %% 10\n",
    "    }\n",
    "    N <- as.integer(N / 10)\n",
    "}\n",
    "\n",
    "print(k)"
   ]
  },
  {
   "cell_type": "code",
   "execution_count": 121,
   "metadata": {},
   "outputs": [
    {
     "name": "stdout",
     "output_type": "stream",
     "text": [
      "111\n",
      "[1] 1\n"
     ]
    }
   ],
   "source": [
    "# the wrong program, the right result\n",
    "N <- as.integer(readline())\n",
    "k <- 10\n",
    "\n",
    "while (N > 0){\n",
    "    if (N %% 10 < k) {\n",
    "        k <- N %% 10\n",
    "    }\n",
    "    N <- as.integer(N / 10)\n",
    "}\n",
    "\n",
    "print(k)"
   ]
  },
  {
   "cell_type": "code",
   "execution_count": 122,
   "metadata": {},
   "outputs": [
    {
     "name": "stdout",
     "output_type": "stream",
     "text": [
      "527\n",
      "[1] 7\n"
     ]
    }
   ],
   "source": [
    "# the right program, the right result\n",
    "N <- as.integer(readline())\n",
    "k <- 0\n",
    "\n",
    "while (N > 0){\n",
    "    if (N %% 10 > k) {\n",
    "        k <- N %% 10\n",
    "    }\n",
    "    N <- as.integer(N / 10)\n",
    "}\n",
    "\n",
    "print(k)"
   ]
  },
  {
   "cell_type": "code",
   "execution_count": 84,
   "metadata": {},
   "outputs": [],
   "source": [
    "answer_dictionary[24] <- '1)2; 2)111; 3)\"k = 10\"->\"k = 0\"; \"if N %% 10 < k\"->\"if N %% 10 > k\"'"
   ]
  },
  {
   "cell_type": "markdown",
   "metadata": {},
   "source": [
    "## 25.\n",
    "Дан целочисленный массив из 40 элементов. Элементы массива могут принимать значения от -10000 до 10000. \n",
    "\n",
    "Опишите на русском языке или на одном из языков программирования алгоритм, который \n",
    "\n",
    "находит и выводит наибольшую сумму двух соседних элементов, которая не кратна 3-м. \n",
    "\n",
    "Если таких пар нет, вывести на экран 0.\n",
    "\n",
    "Исходные данные объявлены так, как показано ниже. \n",
    "\n",
    "Запрещается использовать переменные, не описанные ниже, но разрешается не использовать часть из них.\n",
    "\n",
    "- Объявляем массив `A` из 40 элементов.\n",
    "\n",
    "- Объявляем целочисленные переменные `I, K, SUM, MAX`.\n",
    "\n",
    "- В цикле от 1 до 40 вводим элементы массива `A` с 1-го по 40-й.\n",
    "\n",
    "- ...\n",
    "\n",
    "В качестве ответа вам необходимо привести фрагмент программы (или описание алгоритма на естественном языке), который должен находиться на месте многоточия. \n",
    "\n",
    "Вы можете записать решение также на другом языке программирования (укажите название и используемую версию языка программирования, например `Borland Pascal 7.0`) или в виде блок-схемы. \n",
    "\n",
    "В этом случае вы должны использовать те же самые исходные данные и переменные, какие были предложены в условии (например, в образце, записанном на естественном языке).\n",
    "\n",
    "---\n",
    "\n",
    "An integer array of 40 elements is given. Elements of the array can take values from -10000 to 10000. \n",
    "\n",
    "Describe in Russian / English or in one of the programming languages an algorithm that \n",
    "\n",
    "finds and displays the largest sum of two neighboring elements, which has not the multiplier 3. \n",
    "\n",
    "If there are no such pairs, display 0.\n",
    "\n",
    "The original data is declared as shown below. \n",
    "\n",
    "It is forbidden to use variables not described below, but it is allowed not to use part of them.\n",
    "\n",
    "- Declare an array `A` of 40 elements.\n",
    "\n",
    "- Declare the integer variables `I, K, SUM, MAX`.\n",
    "\n",
    "- In the cycle from 1 to 40, we introduce the elements of array `A` from the 1st to the 40th.\n",
    "\n",
    "- ...\n",
    "\n",
    "As an answer, you need to bring the program fragment (or description of the algorithm in natural language), which should be in place of the ellipsis. \n",
    "\n",
    "You can also write the solution in another programming language (specify the name and the version of the programming language used, for example `Borland Pascal 7.0`) or as a flowchart. \n",
    "\n",
    "In this case, you must use the same source data and variables that were proposed in the condition (for example, in a sample written in the natural language).\n",
    "<table style=\"width:95%;\">\n",
    "  <tr style=\"color:slategray;font-size:120%;font-family:'Roboto';\">\n",
    "    <th style=\"text-align:center;\">Python</th> \n",
    "    <th style=\"text-align:center;\">R</th>          \n",
    "  </tr>\n",
    "  <tr>\n",
    "    <td style=\"font-weight:bold;text-align:left;\"><pre><code class='python'>\n",
    "    \n",
    "N = 40\n",
    "A = []\n",
    "\n",
    "#use integer variables I, K, SUM, MAX\n",
    "\n",
    "for I in range(N):\n",
    "    A.append(int(input()))\n",
    "    </code></pre></td> \n",
    "    <td style=\"font-weight:bold;text-align:left;\"><pre><code class='r'> \n",
    "    \n",
    "N <- 40\n",
    "A <- vector(length=N)\n",
    "#use integer variables I, K, SUM, MAX\n",
    "\n",
    "for (I in 1:N){\n",
    "    A[I] <- as.integer(readline())\n",
    "...\n",
    "}     \n",
    "    </code></pre></td>     \n",
    "  </tr> \n",
    "</table>  "
   ]
  },
  {
   "cell_type": "code",
   "execution_count": 86,
   "metadata": {},
   "outputs": [],
   "source": [
    "version <- R.version.string"
   ]
  },
  {
   "cell_type": "code",
   "execution_count": 87,
   "metadata": {},
   "outputs": [
    {
     "name": "stdout",
     "output_type": "stream",
     "text": [
      "3\n",
      "6\n",
      "9\n",
      "12\n",
      "15\n",
      "18\n",
      "21\n",
      "24\n",
      "27\n",
      "30\n",
      "33\n",
      "36\n",
      "39\n",
      "42\n",
      "45\n",
      "48\n",
      "51\n",
      "54\n",
      "57\n",
      "60\n",
      "90\n",
      "120\n",
      "150\n",
      "180\n",
      "63\n",
      "66\n",
      "69\n",
      "72\n",
      "75\n",
      "78\n",
      "81\n",
      "84\n",
      "87\n",
      "300\n",
      "600\n",
      "900\n",
      "3000\n",
      "6000\n",
      "9000\n",
      "303\n",
      "[1] 0\n"
     ]
    }
   ],
   "source": [
    "N <- 40\n",
    "A <- vector(length=N)\n",
    "MAX <- -20001\n",
    "\n",
    "for (I in 1:N){\n",
    "    A[I] <- as.integer(readline())\n",
    "# The fragment instead of the ellipsis \n",
    "    if (I > 1) {\n",
    "        if (((A[I-1] + A[I]) %% 3 != 0) & (A[I-1] + A[I] > MAX)) {\n",
    "            MAX <- A[I-1] + A[I]\n",
    "        }\n",
    "    }\n",
    "    if (MAX == -20001) {\n",
    "        MAX <- 0\n",
    "    }\n",
    "    \n",
    "}\n",
    "\n",
    "print(MAX)"
   ]
  },
  {
   "cell_type": "code",
   "execution_count": 88,
   "metadata": {},
   "outputs": [],
   "source": [
    "program_fragment <- \"\n",
    "N <- 40\n",
    "A <- vector(length=N)\n",
    "MAX <- -20001\n",
    "\n",
    "for (I in 1:N){\n",
    "    A[I] <- as.integer(readline())\n",
    "# The fragment instead of the ellipsis \n",
    "    if (I > 1) {\n",
    "        if (((A[I-1] + A[I]) %% 3 != 0) & (A[I-1] + A[I] > MAX)) {\n",
    "            MAX <- A[I-1] + A[I]\n",
    "        }\n",
    "    }\n",
    "    if (MAX == -20001) {\n",
    "        MAX <- 0\n",
    "    }\n",
    "    \n",
    "}\n",
    "\n",
    "print(MAX)\""
   ]
  },
  {
   "cell_type": "code",
   "execution_count": 89,
   "metadata": {},
   "outputs": [],
   "source": [
    "answer_dictionary[25] <- paste(version, program_fragment, sep=\";\")"
   ]
  },
  {
   "cell_type": "markdown",
   "metadata": {},
   "source": [
    "## 26.\n",
    "Два игрока, Петя и Ваня, играют в следующую игру. Перед игроками лежит куча камней. Игроки ходят по очереди, первый ход делает Петя. \n",
    "\n",
    "За один ход игрок может добавить в кучу **один** или **два** камня или увеличить количество камней в куче в **три** раза. \n",
    "\n",
    "Например, имея кучу из 15 камней, за один ход можно получить кучу из 16, 17 или 45 камней. \n",
    "\n",
    "У каждого игрока, чтобы делать ходы, есть неограниченное количество камней.\n",
    "\n",
    "Игра завершается в тот момент, когда количество камней в куче становится **не менее 30**. \n",
    "\n",
    "Победителем считается игрок, сделавший последний ход, то есть первым получивший кучу, в которой будет 30 или больше камней.\n",
    "\n",
    "В начальный момент в куче было $S$ камней, $1 ≤ S ≤ 29$.\n",
    "\n",
    "Говорят, что игрок имеет выигрышную стратегию, если он может выиграть при любых ходах противника. \n",
    "\n",
    "Описать стратегию игрока — значит описать, какой ход он должен сделать в любой ситуации, которая ему может встретиться при различной игре противника.\n",
    "\n",
    "Выполните следующие задания. Во всех случаях обосновывайте свой ответ.\n",
    "\n",
    "$1$. \n",
    "\n",
    "- $а)$ Укажите все такие значения числа $S$, при которых Петя может выиграть в один ход. \n",
    "\n",
    "Обоснуйте, что найдены все нужные значения $S$, и укажите выигрывающий ход для каждого указанного значения $S$.\n",
    "\n",
    "- $б)$ Укажите такое значение $S$, при котором Петя не может выиграть за один ход, \n",
    "\n",
    "но при любом ходе Пети Ваня может выиграть своим первым ходом. Опишите выигрышную стратегию Вани.\n",
    "\n",
    "$2$. Укажите два значения $S$, при которых у Пети есть выигрышная стратегия, причем \n",
    "\n",
    "- $а)$ Петя не может выиграть за один ход и \n",
    "\n",
    "- $б)$ Петя может выиграть своим вторым ходом независимо от того, как будет ходить Ваня. \n",
    "\n",
    "Для каждого указанного значения $S$ опишите выигрышную стратегию Пети.\n",
    "\n",
    "$3$. Укажите такое значение $S$, при котором:\n",
    "\n",
    "- $а)$ у Вани есть выигрышная стратегия, позволяющая ему выиграть первым или вторым ходом при любой игре Пети, и\n",
    "\n",
    "- $б)$ у Вани нет стратегии, которая позволит ему гарантированно выиграть первым ходом. \n",
    "\n",
    "Для указанного значения $S$ опишите выигрышную стратегию Вани. \n",
    "\n",
    "Постройте дерево всех партий, возможных при этой выигрышной стратегии Вани (в виде рисунка или таблицы). \n",
    "\n",
    "На рёбрах дерева указывайте, кто делает ход, в узлах — количество камней в куче.\n",
    "\n",
    "---\n",
    "\n",
    "Two players, Petya and Vanya, play the next game. There is a bunch of stones in front of them. Players move by turns, the first step is made by Petya. \n",
    "\n",
    "In one move, a player can add **one** or **two** stones to the pile or increase the number of stones in the heap by **three** times. \n",
    "\n",
    "For example, having a bunch of 15 stones, you can get a heap of 16, 17 or 45 stones by one step. \n",
    "\n",
    "Each player has an unlimited number of stones for playing.\n",
    "\n",
    "The game ends at the moment when the number of stones in the heap becomes **at least 30**. \n",
    "\n",
    "The winner is the player who made the last step, that is, the first to receive a pile, in which there will be 30 or more stones.\n",
    "\n",
    "At the initial moment, the heap had $S$ stones, $1 ≤ S ≤ 29$.\n",
    "\n",
    "It is said that a player has a winning strategy if he can win at any moves of the opponent. \n",
    "\n",
    "To describe a player's strategy is to describe what course he should take in any situation that he can meet in a different game of the opponent.\n",
    "\n",
    "Complete the following tasks. In all cases, justify your answer.\n",
    "\n",
    "$1$.\n",
    "\n",
    "- $a)$ Indicate all such values of the number $S$ at which Petya can win in one turn. \n",
    "\n",
    "Justify that you have found all the required values of $S$, and indicate the winning move for each specified value of $S$.\n",
    "\n",
    "- $b)$ Specify a value $S$ for which Petya cannot win in one move, \n",
    "\n",
    "but at any his step Vanya can win with his first move. Describe the Vanya's winning strategy.\n",
    "\n",
    "$2$. Specify two values of $S$ for which Petya has a winning strategy, and two conditions are satisfied:\n",
    "\n",
    "- $a)$ Petya cannot win in one move;\n",
    "    \n",
    "- $b)$ Petya can win with his second move regardless of how Vanya will walk. \n",
    "\n",
    "For each specified value of $S$, describe the Petya's winning strategy.\n",
    "\n",
    "$3$. Specify an $S$ value such that both points are true:\n",
    "\n",
    "- $a)$ Vanya has a winning strategy that allows him to win by the first or second move with any Petya's game;\n",
    "\n",
    "- $b)$ Vanya does not have a strategy that will allow him to win by the first step with a guarantee. \n",
    "\n",
    "For the specified value of $S$, describe the Vanya's winning strategy. \n",
    "\n",
    "Build a tree of all the possible batches with this winning strategy of Vanya (in the form of a picture or a table). \n",
    "\n",
    "On the edges of the tree indicate who is making the move, in the nodes - the number of stones in the heap."
   ]
  },
  {
   "cell_type": "markdown",
   "metadata": {},
   "source": [
    "$1$.\n",
    "- a. `10≤S≤29`, $S \\in \\{10,...,29\\}$. Петя выигрывает одним ходом - утраивая количество камней: `30≤3*S≤87`, $3∗S \\in \\{30,...,87\\}$. При `1≤S≤9`, $S \\in \\{1,...,9\\}$ невозможно выиграть одним ходом: `2≤S+1≤10` $S+1 \\in \\{2,...,10\\}$; `3≤S+2≤11`, $S+2 \\in \\{3,...,11\\}$; `3≤3*S≤27`, $3*S \\in \\{3,...,27\\}$.\n",
    "\n",
    "- б. `S=9`. При любом следующем шаге `9 -> 10 (P +1)`, `9 -> 11 (P +2)`,`9 -> 27 (P *3)` Петя выиграть не сможет, а Ваня гарантированно победит, утроив результат на следующем этапе: `10 -> 30 (V *3)`, `11 -> 33 (V *3)`,`27 -> 81 (V *3)`.\n",
    "\n",
    "---\n",
    "\n",
    "- a. `10≤S≤29`, $S \\in \\{10,...,29\\}$. Petya wins by one step - tripling the number of stones: `30≤3*S≤87`, $3∗S \\in \\{30,...,87\\}$. At `1≤S≤9`, $S \\in \\{1,...,9\\}$ it is not possible to win by one move: `2≤S+1≤10` $S+1 \\in \\{2,...,10\\}$; `3≤S+2≤11`, $S+2 \\in \\{3,...,11\\}$; `3≤3*S≤27`, $3*S \\in \\{3,...,27\\}$.\n",
    "\n",
    "- b. `S=9`. In this case, at any next step, `9 -> 10 (P +1)`, `9 -> 11 (P +2)`, `9 -> 27 (P *3)` Petya will not be able to win, and Vanya will win by tripling the result in the next stage: `10 -> 30 (V *3)`, `11 -> 33 (V *3)`,`27 -> 81 (V *3)`."
   ]
  },
  {
   "cell_type": "markdown",
   "metadata": {},
   "source": [
    "$2$.\n",
    "\n",
    "`S=3, S=7, S=8`. Петя должен выбрать тогда ход `3 -> 9 (P *3)`, `7 -> 9 (P +2)`, `8 -> 9 (P +1)`. При любом следующем шаге `9 -> 10 (V +1)`, `9 -> 11 (V +2)`, `9 -> 27 (V *3)` Ваня выиграть не сможет, а Петя победит, утроив результат на следующем этапе: `10 -> 30 (P *3)`, `11 -> 33 (P *3)`, `27 -> 81 (P *3)`.\n",
    "\n",
    "---\n",
    "\n",
    "`S=3, S=7, S=8`. Petya should choose the step `3 -> 9 (P *3)`, `7 -> 9 (P +2)`, `8 -> 9 (P +1)`. At any next step, `9 -> 10 (V +1)`, `9 -> 11 (V +2)`, `9 -> 27 (V *3)` Vanya cannot win, but Petya wins by tripling the result in the next stage `10 -> 30 (P *3)`, `11 -> 33 (P *3)`, `27 -> 81 (P *3)`."
   ]
  },
  {
   "cell_type": "markdown",
   "metadata": {},
   "source": [
    "$3$. \n",
    "\n",
    "`S=6`. Выигрышная стратегия Вани:\n",
    "\n",
    "- Если первый ход Пети `6 -> 7 (P +1)`, `6 -> 8 (P +2)`, то Ваня должен выбрать ход `7 -> 9 (V +2)`, `8 -> 9 (V +1)`. В этом случае при любом следующем шаге `9 -> 10 (P +1)`, `9 -> 11 (P +2)`, `9 -> 27 (P *3)` Петя выиграть не сможет, а Ваня гарантированно победит, утроив результат на следующем этапе: `10 -> 30 (V *3)`, `11 -> 33 (V *3)`, `27 -> 81 (V *3)`.\n",
    "- Если первый ход Пети `6 -> 18 (P *3)`, то Ваня выигрывает первым своим ходом, утроив количество камней: `18 -> 54 (V *3)`.\n",
    "\n",
    "Ваня не сможет гарантированно победить первым же ходом при такой стартовой позиции.\n",
    "\n",
    "---\n",
    "\n",
    "`S=6`. Vanya's winning strategy:\n",
    "\n",
    "- If the first move of Petya `6 -> 7 (P +1)`, `6 -> 8 (P +2)`, then Vanya should choose the course `7 -> 9 (V +2)`, `8 -> 9 (V +1)`. In this case, at any next step, `9 -> 10 (P +1)`, `9 -> 11 (P +2)`, `9 -> 27 (P *3)` Petya will not be able to win, and Vanya will win by tripling the result in the next stage: `10 -> 30 (V *3)`, `11 -> 33 (V *3)`, `27 -> 81 (V *3)`.\n",
    "- If the first move of Petya `6 -> 18 (P *3)`, then Vanya wins by his first move, tripling the number of stones: `18 -> 54 (V *3)`.\n",
    "\n",
    "It is not possible for Vanya to win by the first move with a guarantee with this start position."
   ]
  },
  {
   "cell_type": "code",
   "execution_count": 92,
   "metadata": {},
   "outputs": [
    {
     "data": {
      "image/png": "[encoded data removed]",
      "text/plain": [
       "Plot with title “”"
      ]
     },
     "metadata": {},
     "output_type": "display_data"
    }
   ],
   "source": [
    "options(repr.plot.width=11,repr.plot.height=11)\n",
    "edges3 <- c('6','7', '6','8', '6','18', '7','9', '8','9', '18','54',\n",
    "            '9','10', '9','11', '9','27', '10','30', '11','33', '27','81')\n",
    "colors3 <- c('coral','lightsteelblue','lightsteelblue','lightsteelblue',\n",
    "             'lightsteelblue','lightgreen','lightsteelblue','lightsteelblue',\n",
    "             'lightsteelblue','lightgreen','lightgreen','lightgreen')\n",
    "labels3 <- c('P +1','P +2','P *3','V +2','V +1','V *3',\n",
    "             'P +1','P +2','P *3','V *3','V *3','V *3')\n",
    "\n",
    "g3 <- graph(edges3)\n",
    "\n",
    "plot(g3,layout=layout_as_tree,edge.label=labels3,edge.label.cex=1.2,\n",
    "     vertex.color=colors3,vertex.size=18,vertex.label.cex=1.8,\n",
    "     vertex.frame.color=\"gray\",vertex.shape='rectangle');"
   ]
  },
  {
   "cell_type": "code",
   "execution_count": 93,
   "metadata": {},
   "outputs": [],
   "source": [
    "answer_dictionary[26] <- '\n",
    "1.\n",
    "a.\n",
    "P*3:10≤S≤29→30≤3*S≤87\n",
    "b.\n",
    "S=9\n",
    "P+1:9→10 ∨ P+2:9→11 ∨ P*3:9→27\n",
    "V*3:10→30 ∨ V*3:11→33 ∨ V*3:27→81\n",
    "2.\n",
    "S=3 ∨ S=7 ∨ S=8\n",
    "P*3:3→9 ∨ P+2:7→9 ∨ P+1:8→9\n",
    "V+1:9→10 ∨ V+2:9→11 ∨ V*3:9→27\n",
    "P*3:10→30 ∨ P*3:11→33 ∨ P*3:27→81\n",
    "3.\n",
    "S=6\n",
    "P+1:6→7 ∨ P+2:6→8 ∨ P*3:6→18\n",
    "V+2:7→9 ∨ V+1:8→9 ∨ V*3:18→54\n",
    "P+1:9→10 ∨ P+2:9→11 ∨ P*3:9→27\n",
    "V*3:10→30 ∨ V*3:11→33 ∨ V*3:27→81\n",
    "'"
   ]
  },
  {
   "cell_type": "markdown",
   "metadata": {},
   "source": [
    "## 27."
   ]
  },
  {
   "cell_type": "code",
   "execution_count": null,
   "metadata": {},
   "outputs": [],
   "source": []
  },
  {
   "cell_type": "markdown",
   "metadata": {},
   "source": [
    "## Ответы &nbsp; &nbsp; &nbsp; Answers"
   ]
  },
  {
   "cell_type": "code",
   "execution_count": 94,
   "metadata": {},
   "outputs": [
    {
     "data": {
      "text/plain": [
       "<hash> containing 26 key-value pair(s).\n",
       "  1 : 2\n",
       "  10 : 1956\n",
       "  11 : 13\n",
       "  12 : GCDA\n",
       "  13 : 600\n",
       "  14 : 223322\n",
       "  15 : 25\n",
       "  16 : 28\n",
       "  17 : 11\n",
       "  18 : 5\n",
       "  19 : 6\n",
       "  2 : 245\n",
       "  20 : 997\n",
       "  21 : 134\n",
       "  22 : 47\n",
       "  23 : 42\n",
       "  24 : 1)2; 2)111; 3)\"k = 10\"->\"k = 0\"; \"if N %% 10 < k\"->\"if N %% 10 > k\"\n",
       "  25 : R version 3.5.0 (2018-04-23); \n",
       "N <- 40\n",
       "A <- vector(length=N)\n",
       "MAX <- -20001\n",
       "for (I in 1:N){\n",
       "    A[I] <- as.integer(readline())\n",
       "# The fragment instead of the ellipsis \n",
       "    if (I > 1) {\n",
       "        if (((A[I-1] + A[I]) %% 3 != 0) & (A[I-1] + A[I] > MAX)) {\n",
       "            MAX <- A[I-1] + A[I]\n",
       "        }\n",
       "    }\n",
       "    if (MAX == -20001) {\n",
       "        MAX <- 0\n",
       "    }\n",
       "    \n",
       "}\n",
       "print(MAX)\n",
       "  26 : \n",
       "1.\n",
       "a.\n",
       "P*3:10≤S≤29→30≤3*S≤87\n",
       "b.\n",
       "S=9\n",
       "P+1:9→10 ∨ P+2:9→11 ∨ P*3:9→27\n",
       "V*3:10→30 ∨ V*3:11→33 ∨ V*3:27→81\n",
       "2.\n",
       "S=3 ∨ S=7 ∨ S=8\n",
       "P*3:3→9 ∨ P+2:7→9 ∨ P+1:8→9\n",
       "V+1:9→10 ∨ V+2:9→11 ∨ V*3:9→27\n",
       "P*3:10→30 ∨ P*3:11→33 ∨ P*3:27→81\n",
       "3.\n",
       "S=6\n",
       "P+1:6→7 ∨ P+2:6→8 ∨ P*3:6→18\n",
       "V+2:7→9 ∨ V+1:8→9 ∨ V*3:18→54\n",
       "P+1:9→10 ∨ P+2:9→11 ∨ P*3:9→27\n",
       "V*3:10→30 ∨ V*3:11→33 ∨ V*3:27→81\n",
       "  3 : 9\n",
       "  4 : 1\n",
       "  5 : D0\n",
       "  6 : D\n",
       "  7 : 6\n",
       "  8 : 17\n",
       "  9 : 15"
      ]
     },
     "metadata": {},
     "output_type": "display_data"
    }
   ],
   "source": [
    "answer_dictionary"
   ]
  }
 ],
 "metadata": {
  "kernelspec": {
   "display_name": "R",
   "language": "R",
   "name": "ir"
  },
  "language_info": {
   "codemirror_mode": "r",
   "file_extension": ".r",
   "mimetype": "text/x-r-source",
   "name": "R",
   "pygments_lexer": "r",
   "version": "3.5.0"
  }
 },
 "nbformat": 4,
 "nbformat_minor": 2
}
