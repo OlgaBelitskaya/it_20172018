{
 "cells": [
  {
   "cell_type": "markdown",
   "metadata": {},
   "source": [
    "# ЕГЭ 2017 Вариант 6 &nbsp; &nbsp; &nbsp; EGE 2017 Variant 6\n",
    "[ЕГЭ-2017. Информатика.10 тренировочных вариантов. Ушаков Д.М.](https://drive.google.com/file/d/0B6696ckkWj_zS2ptblAxNERHZzQ/view)\n",
    "\n",
    "[Basic Regular Expressions in R Cheatsheet](https://www.rstudio.com/wp-content/uploads/2016/09/RegExCheatsheet.pdf)\n",
    "\n",
    "[DataFlair: R Tutorials](https://data-flair.training/blogs/category/r/)\n",
    "\n",
    "[Алгоритм Шеннона — Фано](https://ru.wikipedia.org/wiki/%D0%90%D0%BB%D0%B3%D0%BE%D1%80%D0%B8%D1%82%D0%BC_%D0%A8%D0%B5%D0%BD%D0%BD%D0%BE%D0%BD%D0%B0_%E2%80%94_%D0%A4%D0%B0%D0%BD%D0%BE)\n",
    "\n",
    "[IPv4 - Address Classes](https://www.tutorialspoint.com/ipv4/ipv4_address_classes.htm)\n",
    "\n",
    "[Basic and advanced network visualization with R](http://www.kateto.net/wp-content/uploads/2016/04/Sunbelt%202016%20R%20Network%20Visualization%20Handout.pdf)"
   ]
  },
  {
   "cell_type": "code",
   "execution_count": 5,
   "metadata": {},
   "outputs": [],
   "source": [
    "library(IRdisplay)\n",
    "library(repr)\n",
    "library(hash)\n",
    "library(numbers)\n",
    "library(e1071)\n",
    "library(igraph)\n",
    "library(VennDiagram)"
   ]
  },
  {
   "cell_type": "code",
   "execution_count": 2,
   "metadata": {},
   "outputs": [],
   "source": [
    "# install.packages(\"\")"
   ]
  },
  {
   "cell_type": "code",
   "execution_count": 3,
   "metadata": {},
   "outputs": [],
   "source": [
    "answer_dictionary <- hash()"
   ]
  },
  {
   "cell_type": "code",
   "execution_count": 4,
   "metadata": {},
   "outputs": [
    {
     "data": {
      "text/html": [
       "<style>\n",
       "@import url('https://fonts.googleapis.com/css?family=Roboto&effect=3d|fire-animation|canvas-print|brick-sign');\n",
       "body {background-color: aliceblue;} \n",
       "a {color: #4876ff; font-family: 'Roboto';} \n",
       "h1 {color: #348ABD; font-family: 'Roboto'; text-shadow: 4px 4px 4px #aaa;} \n",
       "h2, h3 {color: gray; font-family: 'Roboto'; text-shadow: 4px 4px 4px #aaa;}\n",
       "h4 {color: #348ABD; font-family: 'Roboto';}\n",
       "span {text-shadow: 4px 4px 4px #aaa;}\n",
       "div.output_prompt, div.output_area pre, div.output_subarea {color: gray;}\n",
       "div.input_prompt {color: #4876ff;}      \n",
       "div.output_stderr pre {background-color: aliceblue;}  \n",
       "div.output_stderr {background-color: gray;}                        \n",
       "</style>"
      ]
     },
     "metadata": {},
     "output_type": "display_data"
    }
   ],
   "source": [
    "display_html(\"<style>\n",
    "@import url('https://fonts.googleapis.com/css?family=Roboto&effect=3d|fire-animation|canvas-print|brick-sign');\n",
    "body {background-color: aliceblue;} \n",
    "a {color: #4876ff; font-family: 'Roboto';} \n",
    "h1 {color: #348ABD; font-family: 'Roboto'; text-shadow: 4px 4px 4px #aaa;} \n",
    "h2, h3 {color: gray; font-family: 'Roboto'; text-shadow: 4px 4px 4px #aaa;}\n",
    "h4 {color: #348ABD; font-family: 'Roboto';}\n",
    "span {text-shadow: 4px 4px 4px #aaa;}\n",
    "div.output_prompt, div.output_area pre, div.output_subarea {color: gray;}\n",
    "div.input_prompt {color: #4876ff;}      \n",
    "div.output_stderr pre {background-color: aliceblue;}  \n",
    "div.output_stderr {background-color: gray;}                        \n",
    "</style>\")"
   ]
  },
  {
   "cell_type": "markdown",
   "metadata": {},
   "source": [
    "## Часть 1 &nbsp; &nbsp; &nbsp; Part 1\n",
    "## 1.\n",
    "Даны 4 целых числа, записанных различных системах счисления: $9F_{16}$, $10110110_2$, $274_8$, $CE_{16}$. \n",
    "\n",
    "Сколько среди них чисел, значение которых лежит между $A5_{16}$ и $CD_{16}$?\n",
    "\n",
    "---\n",
    "\n",
    "There are four integers written in different number systems: $9F_{16}$, $10110110_2$, $274_8$, $CE_{16}$.\n",
    "\n",
    "How many of them have the value between $A5_{16}$ and $CD_{16}$?"
   ]
  },
  {
   "cell_type": "code",
   "execution_count": 6,
   "metadata": {},
   "outputs": [],
   "source": [
    "options(scipen = 999)\n",
    "oct2dec <- function(n) {\n",
    "  return(sapply(strsplit(as.character(n),split=\"\"), \n",
    "                function(x) sum(as.numeric(x) * 8 ** (rev(seq_along(x) - 1)))))\n",
    "}\n",
    "bin2dec <- function(n) {\n",
    "  return(sapply(strsplit(as.character(n),split=\"\"), \n",
    "                function(x) sum(as.numeric(x) * 2 ** (rev(seq_along(x) - 1)))))\n",
    "}                "
   ]
  },
  {
   "cell_type": "code",
   "execution_count": 7,
   "metadata": {},
   "outputs": [
    {
     "data": {
      "text/html": [
       "<ol class=list-inline>\n",
       "\t<li>165</li>\n",
       "\t<li>205</li>\n",
       "</ol>\n"
      ],
      "text/latex": [
       "\\begin{enumerate*}\n",
       "\\item 165\n",
       "\\item 205\n",
       "\\end{enumerate*}\n"
      ],
      "text/markdown": [
       "1. 165\n",
       "2. 205\n",
       "\n",
       "\n"
      ],
      "text/plain": [
       "[1] 165 205"
      ]
     },
     "metadata": {},
     "output_type": "display_data"
    }
   ],
   "source": [
    "# A5_16 = 0xa5; CD_16 = 0xcd\n",
    "borders <- as.integer(sprintf(\"%d\", c(0xa5, 0xcd)))\n",
    "borders"
   ]
  },
  {
   "cell_type": "code",
   "execution_count": 8,
   "metadata": {},
   "outputs": [
    {
     "data": {
      "text/html": [
       "<ol class=list-inline>\n",
       "\t<li>159</li>\n",
       "\t<li>182</li>\n",
       "\t<li>188</li>\n",
       "\t<li>206</li>\n",
       "</ol>\n"
      ],
      "text/latex": [
       "\\begin{enumerate*}\n",
       "\\item 159\n",
       "\\item 182\n",
       "\\item 188\n",
       "\\item 206\n",
       "\\end{enumerate*}\n"
      ],
      "text/markdown": [
       "1. 159\n",
       "2. 182\n",
       "3. 188\n",
       "4. 206\n",
       "\n",
       "\n"
      ],
      "text/plain": [
       "[1] 159 182 188 206"
      ]
     },
     "metadata": {},
     "output_type": "display_data"
    }
   ],
   "source": [
    "# 9F_16 = 0x9f; 10110110_2; 274_8; CE_16 = 0xce\n",
    "numbers <- c(as.integer(sprintf(\"%d\", 0x9f)), bin2dec('10110110'), \n",
    "             oct2dec('274'), as.integer(sprintf(\"%d\", 0xce)))\n",
    "numbers"
   ]
  },
  {
   "cell_type": "code",
   "execution_count": 9,
   "metadata": {},
   "outputs": [
    {
     "data": {
      "text/html": [
       "<ol class=list-inline>\n",
       "\t<li>FALSE</li>\n",
       "\t<li>TRUE</li>\n",
       "\t<li>TRUE</li>\n",
       "\t<li>FALSE</li>\n",
       "</ol>\n"
      ],
      "text/latex": [
       "\\begin{enumerate*}\n",
       "\\item FALSE\n",
       "\\item TRUE\n",
       "\\item TRUE\n",
       "\\item FALSE\n",
       "\\end{enumerate*}\n"
      ],
      "text/markdown": [
       "1. FALSE\n",
       "2. TRUE\n",
       "3. TRUE\n",
       "4. FALSE\n",
       "\n",
       "\n"
      ],
      "text/plain": [
       "[1] FALSE  TRUE  TRUE FALSE"
      ]
     },
     "metadata": {},
     "output_type": "display_data"
    }
   ],
   "source": [
    "(numbers > borders[1]) & (numbers < borders[2])"
   ]
  },
  {
   "cell_type": "code",
   "execution_count": 10,
   "metadata": {},
   "outputs": [],
   "source": [
    "answer_dictionary[1] <- toString(sum((numbers > borders[1]) & (numbers < borders[2])))"
   ]
  },
  {
   "cell_type": "markdown",
   "metadata": {},
   "source": [
    "## 2.\n",
    "Дан фрагмент таблицы истинности выражения $F$. Значения в пустых клетках таблицы неизвестны и могут быть любыми из возможных.\n",
    "\n",
    "---\n",
    "\n",
    "A fragment of the truth table of the expression $ F $ is given. Values in blank cells are unknown and can be any of the possible ones.\n",
    "\n",
    "| $x_1$ | $x_2$ | $x_3$ | $F$ |\n",
    "|:-:|:-:|:-:|:-:|\n",
    "|   | 1 | 1 | 1 |\n",
    "| 0 |   | 0 | 0 |\n",
    "| 1 | 1 |   | 1 |\n",
    "\n",
    "Перечислите в порядке возрастания без запятых и пробелов номера логических выражений, которые могут соответствовать $F$:\n",
    "\n",
    "---\n",
    "\n",
    "List the numbers of logical expressions that can correspond to $ F $ in ascending order without commas and spaces:\n",
    "\n",
    "1) $\\neg x_1 \\lor x_2 \\lor \\neg x_3$\n",
    "\n",
    "2) $x_1 \\land x_2 \\land x_3$\n",
    "\n",
    "3) $x_1 \\land x_2 \\land \\neg x_3$\n",
    "\n",
    "4) $x_1 \\lor x_2 \\lor x_3$\n",
    "\n",
    "5) $x_1 \\land x_2 \\lor x_3$"
   ]
  },
  {
   "cell_type": "code",
   "execution_count": 11,
   "metadata": {},
   "outputs": [],
   "source": [
    "F1 <- function(x1,x2,x3) {return (!x1 | x2 | !x3)}\n",
    "F2 <- function(x1,x2,x3) {return (x1 & x2 & x3)}\n",
    "F3 <- function(x1,x2,x3) {return (x1 & x2 & !x3)}\n",
    "F4 <- function(x1,x2,x3) {return (x1 | x2 | x3)}\n",
    "F5 <- function(x1,x2,x3) {return (x1 & x2 | x3)}"
   ]
  },
  {
   "cell_type": "code",
   "execution_count": 12,
   "metadata": {},
   "outputs": [],
   "source": [
    "find_logic_exp <- function(f) {\n",
    "    c <- 0\n",
    "    \n",
    "    if (f(1,1,1) == 1 | f(0,1,1) == 1) {\n",
    "        c <- c + 1\n",
    "    }\n",
    "    if (f(0,1,0) == 0 | f(0,0,0) == 0) {\n",
    "        c <- c + 1\n",
    "    }\n",
    "    if (f(1,1,0) == 1 | f(1,1,1) == 1) {\n",
    "        c <- c + 1\n",
    "    }\n",
    "\n",
    "    if (c == 3) {\n",
    "        return(TRUE)\n",
    "    } else {\n",
    "        return(FALSE)\n",
    "    }\n",
    "}"
   ]
  },
  {
   "cell_type": "code",
   "execution_count": 13,
   "metadata": {},
   "outputs": [
    {
     "data": {
      "text/html": [
       "'245'"
      ],
      "text/latex": [
       "'245'"
      ],
      "text/markdown": [
       "'245'"
      ],
      "text/plain": [
       "[1] \"245\""
      ]
     },
     "metadata": {},
     "output_type": "display_data"
    }
   ],
   "source": [
    "c <- 0\n",
    "result <- ''\n",
    "\n",
    "for (f in c(F1,F2,F3,F4,F5)) {\n",
    "    c <- c + 1\n",
    "    if (find_logic_exp(f) == TRUE) {\n",
    "        result <- paste(result,toString(c),sep='')\n",
    "    }\n",
    "}\n",
    "result"
   ]
  },
  {
   "cell_type": "code",
   "execution_count": 14,
   "metadata": {},
   "outputs": [],
   "source": [
    "answer_dictionary[2] <- result"
   ]
  },
  {
   "cell_type": "markdown",
   "metadata": {},
   "source": [
    "## 3.\n",
    "Между населёнными пунктами A, B, C, D, E, F построены дороги, протяжённость которых приведена в таблице. \n",
    "\n",
    "(Отсутствие числа в таблице означает, что прямой дороги между пунктами нет.)\n",
    "\n",
    "Определите длину кратчайшего пути между пунктами А и F \n",
    "\n",
    "(при условии, что передвигаться можно только по построенным дорогам).\n",
    "\n",
    "---\n",
    "\n",
    "Between the settlements A, B, C, D, E, F roads are constructed, the length of them is given in the table. \n",
    "\n",
    "(The absence of a number in the table means that there is no direct road between these points.)\n",
    "\n",
    "Determine the length of the shortest path between points A and F \n",
    "\n",
    "(on the condition that it is possible to move only along the constructed roads).\n",
    "\n",
    "| &#x123CF; | A | B | C | D | E | F |\n",
    "|:-:|:-:|:-:|:-:|:-:|:-:|:-:|\n",
    "| **A** | &#x123CF; | 7 | 2 |   |   |   |\n",
    "| **B** | 7 | &#x123CF; | 4 | 2 | 2 | 4 |\n",
    "| **C** | 2 | 4 | &#x123CF; | 5 | 1 |   |\n",
    "| **D** |   | 2 | 5 | &#x123CF; | 4 | 3 |\n",
    "| **E** |   | 2 | 1 | 4 | &#x123CF; | 8 |\n",
    "| **F** |   | 4 |   | 3 | 8 | &#x123CF; |"
   ]
  },
  {
   "cell_type": "code",
   "execution_count": 15,
   "metadata": {},
   "outputs": [],
   "source": [
    "edges <- c('A','B', 'A','C', 'B','C', 'B','D', 'B','E', 'B','F',\n",
    "           'C','D', 'C','E', 'D','E', 'D','F', 'E','F')\n",
    "weights <- c(7,2,4,2,2,4,5,1,4,3,8)\n",
    "g <- graph(edges, directed=FALSE)%>%\n",
    "    set_edge_attr(\"weight\", value=weights)\n",
    "\n",
    "shortest_path <- get.shortest.paths(g,'A','F')"
   ]
  },
  {
   "cell_type": "code",
   "execution_count": 16,
   "metadata": {},
   "outputs": [
    {
     "data": {
      "text/html": [
       "<table>\n",
       "<thead><tr><th></th><th scope=col>A</th><th scope=col>B</th><th scope=col>C</th><th scope=col>D</th><th scope=col>E</th><th scope=col>F</th></tr></thead>\n",
       "<tbody>\n",
       "\t<tr><th scope=row>A</th><td>0</td><td>7</td><td>2</td><td>0</td><td>0</td><td>0</td></tr>\n",
       "\t<tr><th scope=row>B</th><td>7</td><td>0</td><td>4</td><td>2</td><td>2</td><td>4</td></tr>\n",
       "\t<tr><th scope=row>C</th><td>2</td><td>4</td><td>0</td><td>5</td><td>1</td><td>0</td></tr>\n",
       "\t<tr><th scope=row>D</th><td>0</td><td>2</td><td>5</td><td>0</td><td>4</td><td>3</td></tr>\n",
       "\t<tr><th scope=row>E</th><td>0</td><td>2</td><td>1</td><td>4</td><td>0</td><td>8</td></tr>\n",
       "\t<tr><th scope=row>F</th><td>0</td><td>4</td><td>0</td><td>3</td><td>8</td><td>0</td></tr>\n",
       "</tbody>\n",
       "</table>\n"
      ],
      "text/latex": [
       "\\begin{tabular}{r|llllll}\n",
       "  & A & B & C & D & E & F\\\\\n",
       "\\hline\n",
       "\tA & 0 & 7 & 2 & 0 & 0 & 0\\\\\n",
       "\tB & 7 & 0 & 4 & 2 & 2 & 4\\\\\n",
       "\tC & 2 & 4 & 0 & 5 & 1 & 0\\\\\n",
       "\tD & 0 & 2 & 5 & 0 & 4 & 3\\\\\n",
       "\tE & 0 & 2 & 1 & 4 & 0 & 8\\\\\n",
       "\tF & 0 & 4 & 0 & 3 & 8 & 0\\\\\n",
       "\\end{tabular}\n"
      ],
      "text/markdown": [
       "\n",
       "| <!--/--> | A | B | C | D | E | F | \n",
       "|---|---|---|---|---|---|\n",
       "| A | 0 | 7 | 2 | 0 | 0 | 0 | \n",
       "| B | 7 | 0 | 4 | 2 | 2 | 4 | \n",
       "| C | 2 | 4 | 0 | 5 | 1 | 0 | \n",
       "| D | 0 | 2 | 5 | 0 | 4 | 3 | \n",
       "| E | 0 | 2 | 1 | 4 | 0 | 8 | \n",
       "| F | 0 | 4 | 0 | 3 | 8 | 0 | \n",
       "\n",
       "\n"
      ],
      "text/plain": [
       "  A B C D E F\n",
       "A 0 7 2 0 0 0\n",
       "B 7 0 4 2 2 4\n",
       "C 2 4 0 5 1 0\n",
       "D 0 2 5 0 4 3\n",
       "E 0 2 1 4 0 8\n",
       "F 0 4 0 3 8 0"
      ]
     },
     "metadata": {},
     "output_type": "display_data"
    }
   ],
   "source": [
    "adjm <- get.adjacency(g, attr=\"weight\",sparse=FALSE)\n",
    "adjm[sort(rownames(adjm)),sort(colnames(adjm))]"
   ]
  },
  {
   "cell_type": "code",
   "execution_count": 17,
   "metadata": {},
   "outputs": [
    {
     "data": {
      "image/png": "[encoded data removed]",
      "text/plain": [
       "Plot with title “”"
      ]
     },
     "metadata": {},
     "output_type": "display_data"
    }
   ],
   "source": [
    "options(repr.plot.width=6,repr.plot.height=6)\n",
    "\n",
    "E(g)$color <- \"gray\"\n",
    "E(g, path=unlist(shortest_path$vpath))$color <- \"darkred\"\n",
    "\n",
    "plot(g, layout=layout_nicely(g),\n",
    "     vertex.color=\"steelblue\",vertex.size=30,vertex.frame.color=\"gray\",\n",
    "     edge.label=E(g)$weight,edge.label.cex=1.5,edge.width=E(g)$weight)"
   ]
  },
  {
   "cell_type": "code",
   "execution_count": 18,
   "metadata": {},
   "outputs": [
    {
     "data": {
      "text/plain": [
       "+ 5/6 vertices, named, from 3e69894:\n",
       "[1] A C E B F"
      ]
     },
     "metadata": {},
     "output_type": "display_data"
    }
   ],
   "source": [
    "shortest_path$vpath[[1]]"
   ]
  },
  {
   "cell_type": "code",
   "execution_count": 19,
   "metadata": {},
   "outputs": [
    {
     "data": {
      "text/html": [
       "<table>\n",
       "<thead><tr><th></th><th scope=col>A</th><th scope=col>B</th><th scope=col>C</th><th scope=col>D</th><th scope=col>E</th><th scope=col>F</th></tr></thead>\n",
       "<tbody>\n",
       "\t<tr><th scope=row>A</th><td>0</td><td>5</td><td>2</td><td>7</td><td>3</td><td>9</td></tr>\n",
       "\t<tr><th scope=row>B</th><td>5</td><td>0</td><td>3</td><td>2</td><td>2</td><td>4</td></tr>\n",
       "\t<tr><th scope=row>C</th><td>2</td><td>3</td><td>0</td><td>5</td><td>1</td><td>7</td></tr>\n",
       "\t<tr><th scope=row>D</th><td>7</td><td>2</td><td>5</td><td>0</td><td>4</td><td>3</td></tr>\n",
       "\t<tr><th scope=row>E</th><td>3</td><td>2</td><td>1</td><td>4</td><td>0</td><td>6</td></tr>\n",
       "\t<tr><th scope=row>F</th><td>9</td><td>4</td><td>7</td><td>3</td><td>6</td><td>0</td></tr>\n",
       "</tbody>\n",
       "</table>\n"
      ],
      "text/latex": [
       "\\begin{tabular}{r|llllll}\n",
       "  & A & B & C & D & E & F\\\\\n",
       "\\hline\n",
       "\tA & 0 & 5 & 2 & 7 & 3 & 9\\\\\n",
       "\tB & 5 & 0 & 3 & 2 & 2 & 4\\\\\n",
       "\tC & 2 & 3 & 0 & 5 & 1 & 7\\\\\n",
       "\tD & 7 & 2 & 5 & 0 & 4 & 3\\\\\n",
       "\tE & 3 & 2 & 1 & 4 & 0 & 6\\\\\n",
       "\tF & 9 & 4 & 7 & 3 & 6 & 0\\\\\n",
       "\\end{tabular}\n"
      ],
      "text/markdown": [
       "\n",
       "| <!--/--> | A | B | C | D | E | F | \n",
       "|---|---|---|---|---|---|\n",
       "| A | 0 | 5 | 2 | 7 | 3 | 9 | \n",
       "| B | 5 | 0 | 3 | 2 | 2 | 4 | \n",
       "| C | 2 | 3 | 0 | 5 | 1 | 7 | \n",
       "| D | 7 | 2 | 5 | 0 | 4 | 3 | \n",
       "| E | 3 | 2 | 1 | 4 | 0 | 6 | \n",
       "| F | 9 | 4 | 7 | 3 | 6 | 0 | \n",
       "\n",
       "\n"
      ],
      "text/plain": [
       "  A B C D E F\n",
       "A 0 5 2 7 3 9\n",
       "B 5 0 3 2 2 4\n",
       "C 2 3 0 5 1 7\n",
       "D 7 2 5 0 4 3\n",
       "E 3 2 1 4 0 6\n",
       "F 9 4 7 3 6 0"
      ]
     },
     "metadata": {},
     "output_type": "display_data"
    }
   ],
   "source": [
    "distances(g)"
   ]
  },
  {
   "cell_type": "code",
   "execution_count": 20,
   "metadata": {},
   "outputs": [],
   "source": [
    "answer_dictionary[3] <- distances(g,'A','F')"
   ]
  },
  {
   "cell_type": "markdown",
   "metadata": {},
   "source": [
    "## 4.\n",
    "В папке `D:\\Pictures\\School` находятся следующие файлы и только они:\n",
    "\n",
    "`kino.gif`\n",
    "\n",
    "`vano.jpg`\n",
    "\n",
    "`ono.jpg`\n",
    "\n",
    "`domino.gif`\n",
    "\n",
    "`no.jpg`\n",
    "\n",
    "К этим файлам применили следующую операцию: \n",
    "\n",
    "файлы, имена которых удовлетворяют маске `*?no.*g*` переместили в папку `\"..\"` относительно текущей. \n",
    "\n",
    "Сколько файлов останется в исходной папке?\n",
    "\n",
    "---\n",
    "\n",
    "In the folder `D:\\Pictures\\School` there are only the following files:\n",
    "\n",
    "`kino.gif`\n",
    "\n",
    "`vano.jpg`\n",
    "\n",
    "`ono.jpg`\n",
    "\n",
    "`domino.gif`\n",
    "\n",
    "`no.jpg`\n",
    "\n",
    "The operation was applied to them: \n",
    "\n",
    "files which names satisfy the mask `*?no.*g*` were moved to the folder `\"..\"` relatively to the current one.\n",
    "\n",
    "How many files will remain in the source folder?"
   ]
  },
  {
   "cell_type": "code",
   "execution_count": 21,
   "metadata": {},
   "outputs": [],
   "source": [
    "file_list <- c('kino.gif', 'vano.jpg', 'ono.jpg', 'domino.gif', 'no.jpg')"
   ]
  },
  {
   "cell_type": "code",
   "execution_count": 22,
   "metadata": {},
   "outputs": [
    {
     "data": {
      "text/html": [
       "<ol class=list-inline>\n",
       "\t<li>TRUE</li>\n",
       "\t<li>TRUE</li>\n",
       "\t<li>TRUE</li>\n",
       "\t<li>TRUE</li>\n",
       "\t<li>FALSE</li>\n",
       "</ol>\n"
      ],
      "text/latex": [
       "\\begin{enumerate*}\n",
       "\\item TRUE\n",
       "\\item TRUE\n",
       "\\item TRUE\n",
       "\\item TRUE\n",
       "\\item FALSE\n",
       "\\end{enumerate*}\n"
      ],
      "text/markdown": [
       "1. TRUE\n",
       "2. TRUE\n",
       "3. TRUE\n",
       "4. TRUE\n",
       "5. FALSE\n",
       "\n",
       "\n"
      ],
      "text/plain": [
       "[1]  TRUE  TRUE  TRUE  TRUE FALSE"
      ]
     },
     "metadata": {},
     "output_type": "display_data"
    }
   ],
   "source": [
    "moved_files <- grepl(\"^.*.no\\\\..*g.*$\", file_list)\n",
    "moved_files"
   ]
  },
  {
   "cell_type": "code",
   "execution_count": 23,
   "metadata": {},
   "outputs": [
    {
     "data": {
      "text/html": [
       "1"
      ],
      "text/latex": [
       "1"
      ],
      "text/markdown": [
       "1"
      ],
      "text/plain": [
       "[1] 1"
      ]
     },
     "metadata": {},
     "output_type": "display_data"
    }
   ],
   "source": [
    "c <- length(file_list) - sum(moved_files)\n",
    "c"
   ]
  },
  {
   "cell_type": "code",
   "execution_count": 24,
   "metadata": {},
   "outputs": [],
   "source": [
    "answer_dictionary[4] <- toString(c)"
   ]
  },
  {
   "cell_type": "markdown",
   "metadata": {},
   "source": [
    "## 5.\n",
    "Для кодирования некоторой последовательности, состоящей из букв `A`, `B`, `C`, `D` и `E`, используется неравномерный двоичный код, позволяющий однозначно декодировать полученную двоичную последовательность. \n",
    "\n",
    "Вот этот код: <i style=\"font-size:130%;\" class=\"font-effect-brick-sign\">`A-111`, `B-101`, `C-100`, `D-01`, `E-110`</i>. \n",
    "\n",
    "Можно ли сократить для одной или нескольких букв длину кодового слова, удалив в нём один или несколько последних символов, чтобы код по-прежнему можно было декодировать однозначно?\n",
    "\n",
    "Запишите ответ в виде: буква, кодовое слово. Например, если бы ответ был «Для буквы `F` новый код будет `110`», ответ нужно записать как: <i style=\"font-size:130%;\" class=\"font-effect-brick-sign\">`F110`</i>. Если невозможно ничего сократить, запишите в ответе просто цифру `0`.\n",
    "\n",
    "---\n",
    "\n",
    "To encode some sequence consisting of the letters `A`, ` B`,  `C`, ` D` and `E`, an unequal binary code is used, which uniquely decodes the resulting binary sequence.\n",
    "\n",
    "Here is the code:  <i style=\"font-size:130%;\" class=\"font-effect-brick-sign\">`A-111`, `B-101`, `C-100`, `D-01`, `E-110`</i>.\n",
    "\n",
    "Is it possible to shorten the length of a codeword for one or more letters by deleting one or more of the last characters in it so that the code can still be decoded uniquely?\n",
    "\n",
    "Write down the answer in the form: a letter, a code word. For example, if the answer was \"For the letter `F`, the new code will be `110`\", it should be written as <i style=\"font-size:130%;\" class=\"font-effect-brick-sign\">`F110`</i>. If it is impossible to shorten anything, write down in the answer just the number `0`."
   ]
  },
  {
   "cell_type": "markdown",
   "metadata": {},
   "source": [
    "В решении использован Алгоритм Шеннона — Фано.\n",
    "\n",
    "С `0` начинается только одно кодовое слово последовательности <i style=\"font-size:130%;\" class=\"font-effect-brick-sign\">`D-01`</i>. \n",
    "\n",
    "После сокращения на единицу эта буква будет кодироваться <i style=\"font-size:130%;\" class=\"font-effect-brick-sign\">`D-0`</i>, а вся последовательность по-прежнему декодируется однозначно. \n",
    "\n",
    "---\n",
    "\n",
    "The solution uses the Shannon-Fano Algorithm.\n",
    "\n",
    "In the sequence, only one codeword <i style=\"font-size:130%;\" class=\"font-effect-brick-sign\">`D-01`</i> begins with `0`.\n",
    "\n",
    "After a reduction of one, this letter will be encoded <i style=\"font-size:130%;\" class=\"font-effect-brick-sign\">`D-0`</i>, and the entire sequence is still possible to decode uniquely."
   ]
  },
  {
   "cell_type": "code",
   "execution_count": 25,
   "metadata": {},
   "outputs": [],
   "source": [
    "answer_dictionary[5] <- 'D0'"
   ]
  },
  {
   "cell_type": "markdown",
   "metadata": {},
   "source": [
    "## 6.\n",
    "Автомат получает на вход два двузначных шестнадцатеричных числа. В этих числах все цифры не превосходят цифру 5 (если в числе есть цифра больше 5, автомат отказывается работать). По этим числам строится новое шестнадцатеричное число по следующим правилам.\n",
    "\n",
    "$1.$ Вычисляются два шестнадцатеричных числа — произведение старших разрядов полученных чисел и произведение младших разрядов этих чисел.\n",
    "\n",
    "$2.$ Полученные два шестнадцатеричных числа записываются друг за другом в порядке возрастания (без разделителей).\n",
    "\n",
    "Пример: \n",
    "\n",
    "| Исходные числа | Цифры в разрядах | Поразрядные произведения | Результат |\n",
    "|:-:|:-:|:-:|:-:|\n",
    "| $52_{16}, 44_{16}$ | $5_{16}, 4_{16} = 5_{10}, 4_{10}$ <br> $2_{16}, 4_{16} = 2_{10}, 4_{10}$ |$20_{10} = 14_{16}$ <br> $8_{10} = 8_{16}$ | $814_{16}$ |\n",
    "\n",
    "Какие из предложенных чисел могут быть результатом работы автомата?\n",
    "\n",
    "Перечислите в алфавитном порядке буквы, соответствующие этим числам, без пробелов и знаков препинания.\n",
    "\n",
    "---\n",
    "\n",
    "The automatic system receives two two-digit hexadecimal numbers. In these numbers, all digits do not exceed 5 (if a digit is more than 5, the system refuses to work). For these numbers, a new hexadecimal number is constructed according to the following rules.\n",
    "\n",
    "$1.$ Two hexadecimal numbers are computed - the product of the highest digits of the obtained numbers and the product of the lowest digits of these numbers.\n",
    "\n",
    "$2.$ The resulting two hexadecimal numbers are written consecutively in ascending order (no delimiters).\n",
    "\n",
    "Example: \n",
    "\n",
    "| Initial numbers | Highest and Lowest Digits in Numbers | Bitwise products | Result |\n",
    "|:-:|:-:|:-:|:-:|\n",
    "| $52_{16}, 44_{16}$ | $5_{16}, 4_{16} = 5_{10}, 4_{10}$ <br> $2_{16}, 4_{16} = 2_{10}, 4_{10}$ |$20_{10} = 14_{16}$ <br> $8_{10} = 8_{16}$ | $814_{16}$ |\n",
    "\n",
    "Which of the suggested numbers can be the operation result of the automatic system?\n",
    "\n",
    "List in alphabetical order the letters corresponding to these numbers, without spaces and punctuation marks.\n",
    "\n",
    "$A) \\ 4B_{16}$\n",
    "\n",
    "$B) \\ AB_{16}$\n",
    "\n",
    "$C) \\ CA_{16}$\n",
    "\n",
    "$D) \\ 9C_{16}$\n",
    "\n",
    "$E) \\ 616_{16}$"
   ]
  },
  {
   "cell_type": "markdown",
   "metadata": {},
   "source": [
    "Обратные преобразования чисел / Inverse transformation of numbers:\n",
    "\n",
    "$A) \\ 4B_{16} \\to 4_{10} = 4_{10} ; B_{16} = 11_{10}$ - простое число 11 не может быть результатом умножения двух чисел, не превышающих 5 / 11 cannot be the result of multiplying two numbers not exceeding 5.\n",
    "\n",
    "$B) \\ AB_{16} \\to A_{16} = 10_{10} ; B_{16} = 11_{10}$ - простое число 11 не может быть результатом умножения двух чисел, не превышающих 5 / 11 cannot be the result of multiplying two numbers not exceeding 5.\n",
    "\n",
    "$C) \\ CA_{16}$ - цифры не записаны в порядке возрастания / digits are not written in ascending order.\n",
    "\n",
    "$D) \\ 9C_{16}  \\to 9_{10} ; 12_{10} \\to 3_{10}, 3_{10}; 3_{10}, 4_{10} \\to 3_{16}, 3_{16}; 3_{16}, 4_{16} \\to 33_{16}; 34_{16}$\n",
    "\n",
    "$E) \\ 616_{16}$ \n",
    "\n",
    "- $61_{16} = 97_{10}; 6_{16} = 6_{10}$ -  произведения не записаны в порядке возрастания / products are not written in ascending order; \n",
    "\n",
    "- $616_{16} \\to 6_{16} = 6_{10}; 16_{16} = 22_{10}$ - число 22 не может быть результатом умножения двух чисел, не превышающих 5 / 22 cannot be the result of multiplying two numbers not exceeding 5."
   ]
  },
  {
   "cell_type": "code",
   "execution_count": 26,
   "metadata": {},
   "outputs": [],
   "source": [
    "answer_dictionary[6] <- 'D'"
   ]
  },
  {
   "cell_type": "markdown",
   "metadata": {},
   "source": [
    "## 7.\n",
    "Дан фрагмент электронной таблицы.\n",
    "\n",
    "The fragment of the spreadsheet is given.\n",
    "\n",
    "| | A | B | C | D |\n",
    "|:-:|:-:|:-:|:-:|:-:|\n",
    "| 1 | 4 | 5 | 3 |  |\n",
    "| 2 | 2 | 1 | =A1+B2 |  |\n",
    "| 3 | 6 | 7 | =A&#36;2+B3 | . |\n",
    "\n",
    "Чему станет равным значение ячейки `D2`, если в неё скопировать формулу из ячейки `C3`?\n",
    "\n",
    "Примечание: знак &#36; обозначает абсолютную адресацию.\n",
    "\n",
    "What will the value of the cell `D2` become equal if you copy the formula from the cell `C3` into it?\n",
    "\n",
    "Note: The &#36; sign denotes absolute addressing.\n",
    "\n",
    "[Google Sheet](https://drive.google.com/open?id=1QzIl60h-gMt-Ksd8SWi-_eU-I-Hxh8piHdn6ueiMSdM)\n",
    "\n",
    "Результат копирования ячейки.\n",
    "\n",
    "The result of copying the cell.\n",
    "\n",
    "<div style=\"width: 800px; height: 320px; overflow:auto;\">\n",
    "    <img src=\"it_images/2017_06_07a.png\" width=\"800\" height=\"320\"/>\n",
    "</div>"
   ]
  },
  {
   "cell_type": "code",
   "execution_count": 27,
   "metadata": {},
   "outputs": [],
   "source": [
    "answer_dictionary[7] <- '6'"
   ]
  },
  {
   "cell_type": "markdown",
   "metadata": {},
   "source": [
    "## 8.\n",
    "Определите, что будет напечатано в результате выполнения следующего фрагмента программы:\n",
    "\n",
    "Determine what will be printed as a result of the following program fragment:\n",
    "<table style=\"width:95%;\">\n",
    "  <tr style=\"color:slategray;font-size:120%;font-family:'Roboto';\">\n",
    "    <th style=\"text-align:center;\">Python</th> \n",
    "    <th style=\"text-align:center;\">R</th>          \n",
    "  </tr>\n",
    "  <tr>\n",
    "    <td style=\"font-weight:bold;text-align:left;\"><pre><code class='python'>\n",
    "\n",
    "k,s = 50,1024\n",
    "\n",
    "while s > 0:\n",
    "    s = int(s / 2)\n",
    "    k -= 3\n",
    "\n",
    "print (k)\n",
    "    </code></pre></td> \n",
    "    <td style=\"font-weight:bold;text-align:left;\"><pre><code class='r'> \n",
    "    \n",
    "k <- 50; s <- 1024\n",
    "\n",
    "while (s > 0) {\n",
    "    s <- as.integer(s / 2)\n",
    "    k <- k - 3\n",
    "}\n",
    "\n",
    "print(k)\n",
    "    </code></pre></td>     \n",
    "  </tr> \n",
    "  <tr style=\"color:slategray;font-size:120%;font-family:'Roboto';\">\n",
    "    <th style=\"text-align:center;\">BASIC</th> \n",
    "    <th style=\"text-align:center;\">Pascal</th>          \n",
    "  </tr>\n",
    "  <tr>\n",
    "    <td style=\"font-weight:bold;text-align:left;\"><pre><code class='basic'>\n",
    "\n",
    "DIM k, s AS INTEGER\n",
    "k = 50\n",
    "s = 1024\n",
    "WHILE s > 0\n",
    "    s = s / 2\n",
    "    k = k - 3\n",
    "WEND\n",
    "PRINT k\n",
    "    </code></pre></td> \n",
    "    <td style=\"font-weight:bold;text-align:left;\"><pre><code class='pascal'> \n",
    "    \n",
    "var k, s : integer;\n",
    "begin\n",
    "    k := 50;\n",
    "    s := 1024;\n",
    "    while s > 0 do\n",
    "        s := s / 2;\n",
    "        k := k - 3;\n",
    "    end;\n",
    "    write(k);\n",
    "end.\n",
    "    </code></pre></td>     \n",
    "  </tr>    \n",
    "  <tr style=\"color:slategray;font-size:120%;font-family:'Roboto';\">\n",
    "    <th style=\"text-align:center;\">C</th> \n",
    "    <th style=\"text-align:center;\">Natural Language Programming</th>          \n",
    "  </tr>\n",
    "  <tr>\n",
    "    <td style=\"font-weight:bold;text-align:left;\"><pre><code class='c'>\n",
    "\n",
    "{\n",
    "    int k, s;\n",
    "    k = 50;\n",
    "    s = 1024;\n",
    "    while (s > 0)\n",
    "    {\n",
    "        s = s / 2;\n",
    "        k = k - 3;\n",
    "    } \n",
    "    printf(\"%d\", k);\n",
    "}\n",
    "    </code></pre></td> \n",
    "    <td style=\"font-weight:bold;text-align:left;\"><pre><code class='nlp'> \n",
    "    \n",
    "нач\n",
    "    цел k, s\n",
    "    k := 50\n",
    "    s := 1024\n",
    "    нц пока s > 0\n",
    "        s := s / 2\n",
    "        k := k - 3\n",
    "    кц\n",
    "    вывод k\n",
    "кон\n",
    "    </code></pre></td>     \n",
    "  </tr>      \n",
    "</table>"
   ]
  },
  {
   "cell_type": "code",
   "execution_count": 28,
   "metadata": {},
   "outputs": [
    {
     "name": "stdout",
     "output_type": "stream",
     "text": [
      "[1] 17\n"
     ]
    }
   ],
   "source": [
    "k <- 50; s <- 1024\n",
    "\n",
    "while (s > 0) {\n",
    "    s <- as.integer(s / 2)\n",
    "    k <- k - 3\n",
    "}\n",
    "\n",
    "print(k)"
   ]
  },
  {
   "cell_type": "code",
   "execution_count": 29,
   "metadata": {},
   "outputs": [],
   "source": [
    "answer_dictionary[8] <- toString(k)"
   ]
  },
  {
   "cell_type": "markdown",
   "metadata": {},
   "source": [
    "## 9.\n",
    "Производится двухканальная (стерео) звукозапись с частотой дискретизации 16 кГц и количеством уровней квантования 65536. \n",
    "\n",
    "Запись длится 4 минуты, её результаты записываются в файл, сжатие данных не производится. \n",
    "\n",
    "Укажите размер полученного файла (в Мбайт) с точностью 5 Мбайт. \n",
    "\n",
    "В ответе запишите только целое число, единицу измерения писать не нужно.\n",
    "\n",
    "---\n",
    "\n",
    "A two-channel (stereo) sound recording with a sampling frequency of 16 kHz and a number of quantization levels of 65536 is produced. \n",
    "\n",
    "The recording lasts 4 minutes, its results are written to a file, data compression is not applied.\n",
    "\n",
    "Specify the size of the received file (in MB) with the accuracy of 5 MB. \n",
    "\n",
    "In the answer, write down only an integer, you do not need to write a unit of measurement."
   ]
  },
  {
   "cell_type": "markdown",
   "metadata": {},
   "source": [
    "Показатели, позволяющие определить объем информации.\n",
    "\n",
    "- Частота дискретизации: $16$ кГц, за одну секунду запоминается $16000$ значений сигнала.\n",
    "    \n",
    "- Уровни квантования (глубина дискретизации): $65536 = 2^{16}$ ($16$ бит).\n",
    "    \n",
    "- Время записи: $4$ минуты = $240$ секунд.\n",
    "    \n",
    "- Запись двухканальная (стерео): объём памяти для хранения данных одного канала умножается на $2$.\n",
    "   \n",
    "Размер полученного файла:\n",
    "\n",
    "$16000 ∗ \\log_2{65536} ∗ 240 ∗ 2 = 122880000$ бит или $122880000 \\ / \\ 2^3 \\ / \\ 2^{20} \\ \\approx \\ 15$ Мбайт.\n",
    "\n",
    "---\n",
    "\n",
    "Indicators to determine the amount of information.\n",
    "\n",
    "- Sampling frequency: $16$ kHz, for one second, $16,000$ of signal values is memorized.\n",
    "    \n",
    "- Quantization levels (sampling depth): $65536 = 2^{16}$ ($16$ bit).\n",
    "    \n",
    "- Recording time: $4$ minutes = $240$ seconds.\n",
    "    \n",
    "- Two-channel recording (stereo): the amount of memory for storing data of one channel is multiplied by $2$.\n",
    "   \n",
    "The size of the received file:\n",
    "\n",
    "$16000 ∗ \\log_2{65536} ∗ 240 ∗ 2 = 122880000$ bits or $122880000 \\ / \\ 2^3 \\ / \\ 2^{20} \\ \\approx \\ 15$ MB."
   ]
  },
  {
   "cell_type": "code",
   "execution_count": 30,
   "metadata": {},
   "outputs": [
    {
     "data": {
      "text/html": [
       "14.6484375"
      ],
      "text/latex": [
       "14.6484375"
      ],
      "text/markdown": [
       "14.6484375"
      ],
      "text/plain": [
       "[1] 14.64844"
      ]
     },
     "metadata": {},
     "output_type": "display_data"
    }
   ],
   "source": [
    "size <- 16000 * log2(65536) * 240 * 2 / 2**3 / 2**20\n",
    "size"
   ]
  },
  {
   "cell_type": "code",
   "execution_count": 31,
   "metadata": {},
   "outputs": [],
   "source": [
    "answer_dictionary[9] <- toString(round(size))"
   ]
  },
  {
   "cell_type": "markdown",
   "metadata": {},
   "source": [
    "## 10.\n",
    "Вася и Петя передают друг другу сообщения, используя флажки 6-ти цветов. \n",
    "\n",
    "Эти они делают, поднимая последовательно один из флажков, потом опускают его и поднимают ещё какой-то. \n",
    "\n",
    "Чтобы не путаться, ребята договорились, что флажки в одном сообщении не могут повторяться. \n",
    "\n",
    "Сколько различных сообщений могут передавать мальчики?\n",
    "\n",
    "---\n",
    "\n",
    "Vasya and Petya relay messages to each other using the flags of 6 different colors. \n",
    "\n",
    "They do this, uping one of the flags consistently, then lowering it and raising the next one. \n",
    "\n",
    "In order not to be confused, the guys agreed that the flags in one message can not be repeated.\n",
    "\n",
    "How many different messages can the boys transmit?"
   ]
  },
  {
   "cell_type": "markdown",
   "metadata": {},
   "source": [
    "1) \n",
    "\n",
    "В условии задачи недостаточно четко оговаривается количество сигналов в сообщении.\n",
    "\n",
    "Рассмотрим все возможные случаи.\n",
    "\n",
    "The task condition does not clearly specify the number of signals in one message.\n",
    "\n",
    "Let's consider all possible cases.\n",
    "\n",
    "| Длина сообщения |  Количество сообщений | \n",
    "|:-:|:-:|\n",
    "| Message Length | Message Number |\n",
    "| 1 | $6$ |\n",
    "| 2 | $6 * 5$ |\n",
    "| 3 | $6 * 5 * 4$ | \n",
    "| 4 | $6 * 5 * 4 * 3$ |\n",
    "| 5 | $6 * 5 * 4 * 3 * 2$ |\n",
    "| 6 | $6 * 5 * 4 * 3 * 2 * 1$ |\n",
    "\n",
    "\n",
    "Если в одном сообщении может быть только два сигнала, \n",
    "\n",
    "то количество способов выбрать первый флажок равно $6$, второй - $5$ (цвета не могут повторяться). \n",
    "\n",
    "Всего сообщений получится $6 * 5 = 30$. \n",
    "\n",
    "И т.д.\n",
    "\n",
    "\n",
    "If there are only two signals in the message, \n",
    "\n",
    "the number of ways to choose the first flag is $6$, the second one - $5$ (colors can not be repeated). \n",
    "\n",
    "The total number of possible messages will be $6 * 5 = 30$.\n",
    "\n",
    "Etc.\n",
    "\n",
    "2)\n",
    "\n",
    "Всего: / In total:\n",
    "\n",
    "$6 + 6 * 5 + 6 * 5 * 4 + 6 * 5 * 4 * 3 + 6 * 5 * 4 * 3 * 2 + 6 * 5 * 4 * 3 * 2 * 1 = 1956$"
   ]
  },
  {
   "cell_type": "code",
   "execution_count": 32,
   "metadata": {},
   "outputs": [],
   "source": [
    "answer_dictionary[10] <- toString(6 + 6 * 5 + 6 * 5 * 4 + 6 * 5 * 4 * 3 + 6 * 5 * 4 * 3 * 2 + 6 * 5 * 4 * 3 * 2 * 1)"
   ]
  },
  {
   "cell_type": "markdown",
   "metadata": {},
   "source": [
    "## 11.\n",
    "Определите, сколько звёздочек будет напечатано в результате вызова F(5) приведённой подпрограммы:\n",
    "\n",
    "Determine how many asterisks will be printed as a result of calling F(5) from this program fragment:\n",
    "\n",
    "<table style=\"width:95%;\">\n",
    "  <tr style=\"color:slategray;font-size:120%;font-family:'Roboto';\">\n",
    "    <th style=\"text-align:center;\">Python</th> \n",
    "    <th style=\"text-align:center;\">R</th>          \n",
    "  </tr>\n",
    "  <tr>\n",
    "    <td style=\"font-weight:bold;text-align:left;\"><pre><code class='python'>\n",
    "\n",
    "def F(n):\n",
    "    print('&#42;')\n",
    "    if n > 1:\n",
    "        F(int(n / 2))\n",
    "        F(n - 1)\n",
    "\n",
    "    </code></pre></td> \n",
    "    <td style=\"font-weight:bold;text-align:left;\"><pre><code class='r'> \n",
    "    \n",
    "F <- function(n) {\n",
    "    print('&#42;')\n",
    "    if (n > 1) {\n",
    "        F(as.integer(n / 2))\n",
    "        F(n - 1)\n",
    "    }\n",
    "}\n",
    "    </code></pre></td>     \n",
    "  </tr> \n",
    "  <tr style=\"color:slategray;font-size:120%;font-family:'Roboto';\">\n",
    "    <th style=\"text-align:center;\">BASIC</th> \n",
    "    <th style=\"text-align:center;\">Pascal</th>          \n",
    "  </tr>\n",
    "  <tr>\n",
    "    <td style=\"font-weight:bold;text-align:left;\"><pre><code class='basic'>\n",
    "\n",
    "SUB F(n)\n",
    "    PRINT \"&#42;\";\n",
    "    IF n > 1 THEN\n",
    "        F(n / 2)\n",
    "        F(n - 1)\n",
    "    END IF\n",
    "END SUB\n",
    "    </code></pre></td> \n",
    "    <td style=\"font-weight:bold;text-align:left;\"><pre><code class='pascal'> \n",
    "    \n",
    "procedure F(n : integer);\n",
    "begin\n",
    "    write('&#42;');\n",
    "    if n > 1 then\n",
    "        F(n div 2);\n",
    "        F(n - 1);\n",
    "    end;\n",
    "\n",
    "end\n",
    "    </code></pre></td>     \n",
    "  </tr>    \n",
    "  <tr style=\"color:slategray;font-size:120%;font-family:'Roboto';\">\n",
    "    <th style=\"text-align:center;\">C</th> \n",
    "    <th style=\"text-align:center;\">Natural Language Programming</th>          \n",
    "  </tr>\n",
    "  <tr>\n",
    "    <td style=\"font-weight:bold;text-align:left;\"><pre><code class='c'>\n",
    "\n",
    "void F(int n)\n",
    "{\n",
    "    printf(\"&#42;\");\n",
    "    if (n > 1)\n",
    "    {\n",
    "        F(n / 2);\n",
    "        F(n - 1);\n",
    "    }\n",
    "}   \n",
    "    </code></pre></td> \n",
    "    <td style=\"font-weight:bold;text-align:left;\"><pre><code class='nlp'> \n",
    "    \n",
    "алг F(цел n)\n",
    "нач\n",
    "    вывод \"&#42;\"\n",
    "    если n > 1 то\n",
    "        F(div(n, 2))\n",
    "        F(n - 1)\n",
    "    все\n",
    "кон\n",
    "    </code></pre></td>     \n",
    "  </tr>      \n",
    "</table>"
   ]
  },
  {
   "cell_type": "code",
   "execution_count": 33,
   "metadata": {},
   "outputs": [
    {
     "name": "stdout",
     "output_type": "stream",
     "text": [
      "[1] \"* 1\"\n",
      "[1] \"* 2\"\n",
      "[1] \"* 3\"\n",
      "[1] \"* 4\"\n",
      "[1] \"* 5\"\n",
      "[1] \"* 6\"\n",
      "[1] \"* 7\"\n",
      "[1] \"* 8\"\n",
      "[1] \"* 9\"\n",
      "[1] \"* 10\"\n",
      "[1] \"* 11\"\n",
      "[1] \"* 12\"\n",
      "[1] \"* 13\"\n"
     ]
    }
   ],
   "source": [
    "# расширенная версия программы\n",
    "c <- 0\n",
    "\n",
    "F <- function(n) {\n",
    "    c <<- c + 1\n",
    "    print(paste('*',toString(c),sep=' '))\n",
    "\n",
    "    if (n > 1) {\n",
    "        F(as.integer(n / 2))\n",
    "        F(n - 1)\n",
    "    }\n",
    "}\n",
    "\n",
    "F(5)"
   ]
  },
  {
   "cell_type": "code",
   "execution_count": 34,
   "metadata": {},
   "outputs": [
    {
     "data": {
      "image/png": "[encoded data removed]",
      "text/plain": [
       "Plot with title “”"
      ]
     },
     "metadata": {},
     "output_type": "display_data"
    }
   ],
   "source": [
    "options(repr.plot.width=6,repr.plot.height=6)\n",
    "edges1 <- c('F(5)/1','F(2)/2', 'F(5)/1','F(4)/3', \n",
    "            'F(2)/2','F(1)/4', 'F(2)/2','F(1)/5',\n",
    "            'F(4)/3','F(2)/6', 'F(4)/3','F(3)/7',\n",
    "            'F(2)/6','F(1)/8', 'F(2)/6','F(1)/9',\n",
    "            'F(3)/7','F(1)/10', 'F(3)/7','F(2)/11',\n",
    "            'F(2)/11','F(1)/12', 'F(2)/11','F(1)/13')\n",
    "\n",
    "g1 <- graph(edges1)\n",
    "\n",
    "plot(g1,layout=layout_as_tree(g1),\n",
    "     vertex.color=\"lightsteelblue\",\n",
    "     vertex.size=35,vertex.label.cex=1.1,\n",
    "     vertex.frame.color=\"slategray\",vertex.shape='rectangle')"
   ]
  },
  {
   "cell_type": "code",
   "execution_count": 35,
   "metadata": {},
   "outputs": [],
   "source": [
    "answer_dictionary[11] <- toString(c)"
   ]
  },
  {
   "cell_type": "markdown",
   "metadata": {},
   "source": [
    "## 12.\n",
    "В терминологии сетей TCP/IP маской сети называется двоичное число, определяющее, \n",
    "\n",
    "- какая часть IP-адреса узла сети относится к адресу сети, \n",
    "- а какая — к адресу самого узла в этой сети. \n",
    "\n",
    "Обычно маска записывается по тем же правилам, что и IP-адрес. \n",
    "\n",
    "Адрес сети получается в результате применения поразрядной конъюнкции к заданному IP-адресу узла и маске.\n",
    "\n",
    "По заданным IP-адресу узла и маске определите адрес сети.\n",
    "\n",
    "IP-адрес узла: `251.137.219.94`\n",
    "\n",
    "Маска: `255.255.248.0`\n",
    "\n",
    "При записи ответа выберите из приведённых в таблице чисел четыре элемента IP-адреса и \n",
    "\n",
    "запишите в нужном порядке соответствующие им буквы. Точки `.` писать не нужно.\n",
    "\n",
    "---\n",
    "\n",
    "In the terminology of TCP / IP networks, a network mask is a binary number that \n",
    "\n",
    "- specifies what part of the IP address of the node refers to the network address, \n",
    "- and which one to the host address in that network.\n",
    "\n",
    "Usually, the mask is written using the same rules as the IP address. \n",
    "\n",
    "The network address is obtained as a result of applying the bitwise conjunction to the specified node IP address and the mask.\n",
    "\n",
    "From the given IP-address of the node and the mask, determine the network address.\n",
    "\n",
    "The IP address is `251.137.219.94`\n",
    "\n",
    "The mask is: `255.255.248.0`\n",
    "\n",
    "For recording an answer, select from the numbers in the table four IP address elements and \n",
    "\n",
    "write down the corresponding letters in the desired order. Points `.` do not need to be written.\n",
    "\n",
    "| A | B | C | D | E | F | G | H |\n",
    "|:-:|:-:|:-:|:-:|:-:|:-:|:-:|:-:|\n",
    "| 0 | 94 | 137 | 216 | 219 | 248 | 251 | 255 |\n",
    "\n",
    "_Пример_.\n",
    "\n",
    "Пусть искомый IP-адрес `192.168.128.0`, и дана таблица\n",
    "\n",
    "---\n",
    "\n",
    "_Example_. \n",
    "\n",
    "The desired IP-address is `192.168.128.0`, and the table is given:\n",
    "\n",
    "| A | B | C | D | E | F | G | H |\n",
    "|:-:|:-:|:-:|:-:|:-:|:-:|:-:|:-:|\n",
    "| 128 | 168 | 255 | 8 | 127 | 0 | 17 | 192 |\n",
    "\n",
    "В этом случае правильный ответ будет записан в виде: `HBAF`.\n",
    "\n",
    "---\n",
    "\n",
    "In this case, the correct answer will be written in the form: `HBAF`."
   ]
  },
  {
   "cell_type": "code",
   "execution_count": 36,
   "metadata": {},
   "outputs": [],
   "source": [
    "dec2bin <- function(n) {\n",
    "  if (n == 0) {\n",
    "      bv <- '0'\n",
    "  } else {\n",
    "      bv <- rep(0, 1 + floor(log(n, 2)))\n",
    "      while (n >= 2) {\n",
    "          pow <- floor(log(n, 2))\n",
    "          bv[1 + pow] <- 1\n",
    "          n <- n - 2^pow\n",
    "      }\n",
    "      bv[1] <- n %% 2\n",
    "      paste(rev(bv), collapse = \"\")\n",
    "  }\n",
    "}"
   ]
  },
  {
   "cell_type": "markdown",
   "metadata": {},
   "source": [
    "Переведем IP-адрес узла и маску в бинарную форму.\n",
    "\n",
    "Let's write the IP-address of the node and the mask into a binary form."
   ]
  },
  {
   "cell_type": "code",
   "execution_count": 37,
   "metadata": {},
   "outputs": [],
   "source": [
    "ip <- unlist(strsplit('251.137.219.94','[.]'))\n",
    "mask <- unlist(strsplit('255.255.248.0','[.]'))\n",
    "\n",
    "ip_bin <- ''\n",
    "mask_bin <- '' \n",
    "\n",
    "for (i in 1:4) {\n",
    "    ip_bin_cur <- dec2bin(as.integer(ip[i]))\n",
    "    if (nchar(ip_bin_cur) < 8) {\n",
    "        for (k in 1:(8 - nchar(ip_bin_cur))) {\n",
    "           ip_bin_cur <- paste('0',ip_bin_cur,sep='') \n",
    "        }\n",
    "    }\n",
    "\n",
    "    mask_bin_cur <- dec2bin(as.integer(mask[i]))\n",
    "    if (nchar(mask_bin_cur) < 8) {\n",
    "        for (k in 1:(8 - nchar(mask_bin_cur))) {\n",
    "           mask_bin_cur <- paste('0',mask_bin_cur,sep='') \n",
    "        }\n",
    "    }\n",
    "    \n",
    "    ip_bin <- paste(ip_bin,ip_bin_cur,sep='.')\n",
    "    mask_bin <- paste(mask_bin,mask_bin_cur,sep='.')\n",
    "\n",
    "}\n",
    "\n",
    "ip_bin <- substr(ip_bin,2,nchar(ip_bin))\n",
    "mask_bin <- substr(mask_bin,2,nchar(mask_bin))"
   ]
  },
  {
   "cell_type": "code",
   "execution_count": 38,
   "metadata": {},
   "outputs": [
    {
     "data": {
      "text/html": [
       "'11111011.10001001.11011011.01011110'"
      ],
      "text/latex": [
       "'11111011.10001001.11011011.01011110'"
      ],
      "text/markdown": [
       "'11111011.10001001.11011011.01011110'"
      ],
      "text/plain": [
       "[1] \"11111011.10001001.11011011.01011110\""
      ]
     },
     "metadata": {},
     "output_type": "display_data"
    },
    {
     "data": {
      "text/html": [
       "'11111111.11111111.11111000.00000000'"
      ],
      "text/latex": [
       "'11111111.11111111.11111000.00000000'"
      ],
      "text/markdown": [
       "'11111111.11111111.11111000.00000000'"
      ],
      "text/plain": [
       "[1] \"11111111.11111111.11111000.00000000\""
      ]
     },
     "metadata": {},
     "output_type": "display_data"
    }
   ],
   "source": [
    "ip_bin; mask_bin"
   ]
  },
  {
   "cell_type": "markdown",
   "metadata": {},
   "source": [
    "Теперь можно применить поразрядную коньюнкцию.\n",
    "\n",
    "Now it is possible to apply bitwise conjunctions."
   ]
  },
  {
   "cell_type": "code",
   "execution_count": 39,
   "metadata": {},
   "outputs": [
    {
     "data": {
      "text/html": [
       "'11111011.10001001.11011000.00000000'"
      ],
      "text/latex": [
       "'11111011.10001001.11011000.00000000'"
      ],
      "text/markdown": [
       "'11111011.10001001.11011000.00000000'"
      ],
      "text/plain": [
       "[1] \"11111011.10001001.11011000.00000000\""
      ]
     },
     "metadata": {},
     "output_type": "display_data"
    }
   ],
   "source": [
    "ip_bin <- unlist(strsplit(ip_bin,''))\n",
    "mask_bin <- unlist(strsplit(mask_bin,''))\n",
    "\n",
    "net_bin <-''\n",
    "for (i in 1:35){\n",
    "    if (mask_bin[i] == '.'){\n",
    "        net_bin <- paste(net_bin,'.',sep='')\n",
    "    } else {\n",
    "        symbol <- toString(as.integer(as.integer(mask_bin[i]) & as.integer(ip_bin[i])))\n",
    "        net_bin <- paste(net_bin,symbol,sep='')\n",
    "    }\n",
    "}\n",
    "\n",
    "net_bin"
   ]
  },
  {
   "cell_type": "code",
   "execution_count": 40,
   "metadata": {},
   "outputs": [
    {
     "data": {
      "text/html": [
       "'251.137.216.0'"
      ],
      "text/latex": [
       "'251.137.216.0'"
      ],
      "text/markdown": [
       "'251.137.216.0'"
      ],
      "text/plain": [
       "[1] \"251.137.216.0\""
      ]
     },
     "metadata": {},
     "output_type": "display_data"
    }
   ],
   "source": [
    "net <- ''\n",
    "for (el in unlist(strsplit(net_bin,'[.]'))) {\n",
    "    net <- paste(net,toString(bin2dec(el)),sep='.')\n",
    "}\n",
    "net <- substr(net,2,nchar(net))\n",
    "\n",
    "net"
   ]
  },
  {
   "cell_type": "markdown",
   "metadata": {},
   "source": [
    "При замене на буквенные обозначения получается:\n",
    "\n",
    "With replacing the address parts by the letters we get:"
   ]
  },
  {
   "cell_type": "code",
   "execution_count": 41,
   "metadata": {},
   "outputs": [
    {
     "data": {
      "text/html": [
       "'GCDA'"
      ],
      "text/latex": [
       "'GCDA'"
      ],
      "text/markdown": [
       "'GCDA'"
      ],
      "text/plain": [
       "[1] \"GCDA\""
      ]
     },
     "metadata": {},
     "output_type": "display_data"
    }
   ],
   "source": [
    "string <- unlist(strsplit(net,'[.]'))\n",
    "codes <- c('0','94','137','216','219','248','251','255')\n",
    "symbols <- c('A','B','C','D','E','F','G','H')\n",
    "result <- ''\n",
    "\n",
    "for (el in string) {\n",
    "    for (i in 1:8) {\n",
    "        if (el == codes[i]) {\n",
    "            result <- paste(result,symbols[i],sep='')\n",
    "        }\n",
    "    }\n",
    "}\n",
    "\n",
    "result"
   ]
  },
  {
   "cell_type": "code",
   "execution_count": 42,
   "metadata": {},
   "outputs": [],
   "source": [
    "answer_dictionary[12] <- result"
   ]
  },
  {
   "cell_type": "markdown",
   "metadata": {},
   "source": [
    "## 13.\n",
    "При регистрации в компьютерной системе каждому пользователю выдается пароль, \n",
    "\n",
    "- состоящий из 15 символов и \n",
    "- содержащий только символы из 12-символьного набора: A, B, C, D, E, F, G, H, K, L, M, N. \n",
    "\n",
    "В базе данных для хранения сведений о каждом пользователе отведено одинаковое и минимально возможное целое число байт. \n",
    "\n",
    "При этом используют посимвольное кодирование паролей, все символы кодируют одинаковым и минимально возможным количеством бит. \n",
    "\n",
    "Кроме собственно пароля, для каждого пользователя в системе хранятся дополнительные сведения, \n",
    "\n",
    "для чего отведено 12 байт на одного пользователя.\n",
    "\n",
    "Определите объём памяти (в байтах), необходимый для хранения сведений о 30 пользователях. \n",
    "\n",
    "В ответе запишите только целое число — количество байт.\n",
    "\n",
    "---\n",
    "\n",
    "With registering in a computer system, each user is given a password \n",
    "\n",
    "- consisting of 15 characters and \n",
    "- containing only the characters from the 12-character set: A, B, C, D, E, F, G, H, K, L, M, N. \n",
    "\n",
    "In the database for storing information about each user it is allocated the same and the minimum possible integer number of bytes. \n",
    "\n",
    "In this case, the character-by-symbol encoding of passwords is used, all symbols are encoded with the same and the minimum possible number of bits. \n",
    "\n",
    "In addition to the password itself, another information is stored for each user in the system, \n",
    "\n",
    "and for that 12 bytes per user are allocated.\n",
    "\n",
    "Determine the amount of memory (in bytes) required to store information about 30 users. \n",
    "\n",
    "In the answer write down only the whole number - the number of bytes."
   ]
  },
  {
   "cell_type": "markdown",
   "metadata": {},
   "source": [
    ") $3 < log_2{12} < 4  => 4$ (бит) - необходимо для кодирования одной из 12 букв латинского алфавита.\n",
    "\n",
    "Количество возможных вариантов кодировки ($2^4$) не должно быть меньше количества имеющейся информации (12  символов), \n",
    "\n",
    "округление в данном случае - всегда в большую сторону.\n",
    "\n",
    "2) $4 ∗ 15 = 60$ (бит) - необходимо для кодирования 15 символов пароля.\n",
    "\n",
    "3) $60 / 8 = 7.5 \\approx 8$  (байт) - необходимо для кодирования 15 символов пароля.\n",
    "\n",
    "Количество байт - целое число, и округление опять должно быть только в большую сторону.\n",
    "\n",
    "4)  $8 + 12 = 20$ (байт) - выделено на одного пользователя для пароля и дополнительной информации.\n",
    "\n",
    "5)  $20 * 30 = 600$ (байт) - выделено для хранения сведений о 30 пользователях.\n",
    "\n",
    "---\n",
    "\n",
    "1) $3 < log_2{12} < 4  => 4$ (bits) - necessary for encoding one of the 12 Latin letters..\n",
    "\n",
    "The number of possible encoding options ($2^4$) should not be less than the amount of information available (12  сymbols), \n",
    "\n",
    "rounding in this case - always in the larger side.\n",
    "\n",
    "2) $4 ∗ 15 = 60$ (bits) - necessary for encoding 15 password symbols.\n",
    "\n",
    "3) $60 / 8 = 7.5 \\approx 8$  (bytes) - necessary for encoding 15 password symbols.\n",
    "\n",
    "The number of bytes is an integer, and rounding should only be in the larger side again.\n",
    "\n",
    "4)  $8 + 12 = 20$ (bytes) - allocated per user for password and additional information.\n",
    "\n",
    "5)  $20 * 30 = 600$ (bytes) - allocated for 30 users."
   ]
  },
  {
   "cell_type": "code",
   "execution_count": 44,
   "metadata": {},
   "outputs": [
    {
     "data": {
      "text/html": [
       "600"
      ],
      "text/latex": [
       "600"
      ],
      "text/markdown": [
       "600"
      ],
      "text/plain": [
       "[1] 600"
      ]
     },
     "metadata": {},
     "output_type": "display_data"
    }
   ],
   "source": [
    "bits_for_one_symbol_from_12 <- ceiling(log2(12))\n",
    "bits_for_15_symbol_from_12 <- 15 * bits_for_one_symbol_from_12\n",
    "\n",
    "bytes_for_15_symbol_from_12 <- ceiling(bits_for_15_symbol_from_12 / 8)\n",
    "bytes_per_user <- bytes_for_15_symbol_from_12 + 12\n",
    "\n",
    "bytes_for_30_users <- bytes_per_user * 30\n",
    "bytes_for_30_users"
   ]
  },
  {
   "cell_type": "code",
   "execution_count": 45,
   "metadata": {},
   "outputs": [],
   "source": [
    "answer_dictionary[13] <- toString(bytes_for_30_users)"
   ]
  },
  {
   "cell_type": "markdown",
   "metadata": {},
   "source": [
    "## 14."
   ]
  },
  {
   "cell_type": "code",
   "execution_count": null,
   "metadata": {},
   "outputs": [],
   "source": []
  },
  {
   "cell_type": "markdown",
   "metadata": {},
   "source": [
    "## 15.\n",
    "На рисунке — схема дорог, связывающих города А, Б, В, Г, Д, Е, Ж, З, И, К. \n",
    "\n",
    "По каждой дороге можно двигаться только в одном направлении, указанном стрелкой. \n",
    "\n",
    "Сколько существует различных путей из города А в город К?\n",
    "\n",
    "---\n",
    "\n",
    "In the figure - the scheme of roads is connecting the cities А, Б, В, Г, Д, Е, Ж, З, И, К. \n",
    "\n",
    "For each road, it is possible to move only in one direction, indicated by an arrow. \n",
    "\n",
    "How many different paths exist from the city А to the city К?"
   ]
  },
  {
   "cell_type": "code",
   "execution_count": null,
   "metadata": {},
   "outputs": [],
   "source": []
  },
  {
   "cell_type": "markdown",
   "metadata": {},
   "source": [
    "## 16.\n",
    "Запись десятичного числа в системах счисления с основаниями 4 и 7 в обоих случаях имеет последней цифрой 0. \n",
    "\n",
    "Какое минимальное натуральное десятичное число удовлетворяет этому требованию?\n",
    "\n",
    "---\n",
    "\n",
    "Recording a decimal number in the number systems with bases 4 and 7 in both cases has the last digit 0.\n",
    "\n",
    "What is the minimum natural decimal number that satisfies this requirement?"
   ]
  },
  {
   "cell_type": "markdown",
   "metadata": {},
   "source": [
    "Последняя цифра 0 означает, что исходное десятичное число делится на 4 и на 7 без остатка.\n",
    "\n",
    "Поскольку у 4 и 7 нет общих множителей, искомым минимальным числом является их произведение.\n",
    "\n",
    "---\n",
    "\n",
    "The last digit 0 means that the original decimal number is divided by 4 and by 7 without residue.\n",
    "\n",
    "Since 4 and 7 do not have common multipliers the desired minimum number is their product."
   ]
  },
  {
   "cell_type": "code",
   "execution_count": 47,
   "metadata": {},
   "outputs": [],
   "source": [
    "answer_dictionary[16] <- toString(4 * 7)"
   ]
  },
  {
   "cell_type": "markdown",
   "metadata": {},
   "source": [
    "## 17."
   ]
  },
  {
   "cell_type": "code",
   "execution_count": null,
   "metadata": {},
   "outputs": [],
   "source": []
  },
  {
   "cell_type": "markdown",
   "metadata": {},
   "source": [
    "## 18."
   ]
  },
  {
   "cell_type": "code",
   "execution_count": null,
   "metadata": {},
   "outputs": [],
   "source": []
  },
  {
   "cell_type": "markdown",
   "metadata": {},
   "source": [
    "## 19."
   ]
  },
  {
   "cell_type": "code",
   "execution_count": null,
   "metadata": {},
   "outputs": [],
   "source": []
  },
  {
   "cell_type": "markdown",
   "metadata": {},
   "source": [
    "## 20. "
   ]
  },
  {
   "cell_type": "code",
   "execution_count": null,
   "metadata": {},
   "outputs": [],
   "source": []
  },
  {
   "cell_type": "markdown",
   "metadata": {},
   "source": [
    "## 21."
   ]
  },
  {
   "cell_type": "code",
   "execution_count": null,
   "metadata": {},
   "outputs": [],
   "source": []
  },
  {
   "cell_type": "markdown",
   "metadata": {},
   "source": [
    "## 22."
   ]
  },
  {
   "cell_type": "code",
   "execution_count": null,
   "metadata": {},
   "outputs": [],
   "source": []
  },
  {
   "cell_type": "markdown",
   "metadata": {},
   "source": [
    "## 23."
   ]
  },
  {
   "cell_type": "code",
   "execution_count": null,
   "metadata": {},
   "outputs": [],
   "source": []
  },
  {
   "cell_type": "markdown",
   "metadata": {},
   "source": [
    "## Часть 2 &nbsp; &nbsp; &nbsp; Part 2\n",
    "## 24."
   ]
  },
  {
   "cell_type": "code",
   "execution_count": null,
   "metadata": {},
   "outputs": [],
   "source": []
  },
  {
   "cell_type": "markdown",
   "metadata": {},
   "source": [
    "## 25."
   ]
  },
  {
   "cell_type": "code",
   "execution_count": null,
   "metadata": {},
   "outputs": [],
   "source": []
  },
  {
   "cell_type": "markdown",
   "metadata": {},
   "source": [
    "## 26."
   ]
  },
  {
   "cell_type": "code",
   "execution_count": null,
   "metadata": {},
   "outputs": [],
   "source": []
  },
  {
   "cell_type": "markdown",
   "metadata": {},
   "source": [
    "## 27."
   ]
  },
  {
   "cell_type": "code",
   "execution_count": null,
   "metadata": {},
   "outputs": [],
   "source": []
  },
  {
   "cell_type": "markdown",
   "metadata": {},
   "source": [
    "## Ответы &nbsp; &nbsp; &nbsp; Answers"
   ]
  },
  {
   "cell_type": "code",
   "execution_count": 48,
   "metadata": {},
   "outputs": [
    {
     "data": {
      "text/plain": [
       "<hash> containing 14 key-value pair(s).\n",
       "  1 : 2\n",
       "  10 : 1956\n",
       "  11 : 13\n",
       "  12 : GCDA\n",
       "  13 : 600\n",
       "  16 : 28\n",
       "  2 : 245\n",
       "  3 : 9\n",
       "  4 : 1\n",
       "  5 : D0\n",
       "  6 : D\n",
       "  7 : 6\n",
       "  8 : 17\n",
       "  9 : 15"
      ]
     },
     "metadata": {},
     "output_type": "display_data"
    }
   ],
   "source": [
    "answer_dictionary"
   ]
  },
  {
   "cell_type": "code",
   "execution_count": null,
   "metadata": {},
   "outputs": [],
   "source": []
  }
 ],
 "metadata": {
  "kernelspec": {
   "display_name": "R",
   "language": "R",
   "name": "ir"
  },
  "language_info": {
   "codemirror_mode": "r",
   "file_extension": ".r",
   "mimetype": "text/x-r-source",
   "name": "R",
   "pygments_lexer": "r",
   "version": "3.5.0"
  }
 },
 "nbformat": 4,
 "nbformat_minor": 2
}
