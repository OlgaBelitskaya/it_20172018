{
 "cells": [
  {
   "cell_type": "markdown",
   "metadata": {},
   "source": [
    "# ЕГЭ 2017 Вариант 10 &nbsp; &nbsp; &nbsp; EGE 2017 Variant 10\n",
    "[ЕГЭ-2017. Информатика.10 тренировочных вариантов. Ушаков Д.М.](https://drive.google.com/file/d/0B6696ckkWj_zS2ptblAxNERHZzQ/view)\n",
    "\n",
    "[Basic Regular Expressions in R Cheatsheet](https://www.rstudio.com/wp-content/uploads/2016/09/RegExCheatsheet.pdf)\n",
    "\n",
    "[DataFlair: R Tutorials](https://data-flair.training/blogs/category/r/)\n",
    "\n",
    "[Алгоритм Шеннона — Фано](https://ru.wikipedia.org/wiki/%D0%90%D0%BB%D0%B3%D0%BE%D1%80%D0%B8%D1%82%D0%BC_%D0%A8%D0%B5%D0%BD%D0%BD%D0%BE%D0%BD%D0%B0_%E2%80%94_%D0%A4%D0%B0%D0%BD%D0%BE)\n",
    "\n",
    "[IPv4 - Address Classes](https://www.tutorialspoint.com/ipv4/ipv4_address_classes.htm)\n",
    "\n",
    "[Basic and advanced network visualization with R](http://www.kateto.net/wp-content/uploads/2016/04/Sunbelt%202016%20R%20Network%20Visualization%20Handout.pdf)"
   ]
  },
  {
   "cell_type": "code",
   "execution_count": null,
   "metadata": {},
   "outputs": [],
   "source": [
    "library(IRdisplay)\n",
    "library(repr)\n",
    "library(hash)\n",
    "library(numbers)\n",
    "library(e1071)\n",
    "library(igraph)\n",
    "library(VennDiagram)"
   ]
  },
  {
   "cell_type": "code",
   "execution_count": 2,
   "metadata": {},
   "outputs": [],
   "source": [
    "# install.packages(\"\")"
   ]
  },
  {
   "cell_type": "code",
   "execution_count": 3,
   "metadata": {},
   "outputs": [],
   "source": [
    "answer_dictionary <- hash()"
   ]
  },
  {
   "cell_type": "code",
   "execution_count": 4,
   "metadata": {},
   "outputs": [
    {
     "data": {
      "text/html": [
       "<style>\n",
       "@import url('https://fonts.googleapis.com/css?family=Roboto&effect=3d|fire-animation|canvas-print|brick-sign');\n",
       "body {background-color: aliceblue;} \n",
       "a {color: #4876ff; font-family: 'Roboto';} \n",
       "h1 {color: #348ABD; font-family: 'Roboto'; text-shadow: 4px 4px 4px #aaa;} \n",
       "h2, h3 {color: gray; font-family: 'Roboto'; text-shadow: 4px 4px 4px #aaa;}\n",
       "h4 {color: #348ABD; font-family: 'Roboto';}\n",
       "span {text-shadow: 4px 4px 4px #aaa;}\n",
       "div.output_prompt, div.output_area pre, div.output_subarea {color: gray;}\n",
       "div.input_prompt {color: #4876ff;}      \n",
       "div.output_stderr pre {background-color: aliceblue;}  \n",
       "div.output_stderr {background-color: gray;}                        \n",
       "</style>"
      ]
     },
     "metadata": {},
     "output_type": "display_data"
    }
   ],
   "source": [
    "display_html(\"<style>\n",
    "@import url('https://fonts.googleapis.com/css?family=Roboto&effect=3d|fire-animation|canvas-print|brick-sign');\n",
    "body {background-color: aliceblue;} \n",
    "a {color: #4876ff; font-family: 'Roboto';} \n",
    "h1 {color: #348ABD; font-family: 'Roboto'; text-shadow: 4px 4px 4px #aaa;} \n",
    "h2, h3 {color: gray; font-family: 'Roboto'; text-shadow: 4px 4px 4px #aaa;}\n",
    "h4 {color: #348ABD; font-family: 'Roboto';}\n",
    "span {text-shadow: 4px 4px 4px #aaa;}\n",
    "div.output_prompt, div.output_area pre, div.output_subarea {color: gray;}\n",
    "div.input_prompt {color: #4876ff;}      \n",
    "div.output_stderr pre {background-color: aliceblue;}  \n",
    "div.output_stderr {background-color: gray;}                        \n",
    "</style>\")"
   ]
  },
  {
   "cell_type": "markdown",
   "metadata": {},
   "source": [
    "## Часть 1 &nbsp; &nbsp; &nbsp; Part 1\n",
    "## 1.\n",
    "\n",
    "Сколько единиц в двоичной записи числа 197?\n",
    "\n",
    "How many units are in the binary record of the number 197?"
   ]
  },
  {
   "cell_type": "code",
   "execution_count": 5,
   "metadata": {},
   "outputs": [
    {
     "data": {
      "text/html": [
       "197"
      ],
      "text/latex": [
       "197"
      ],
      "text/markdown": [
       "197"
      ],
      "text/plain": [
       "[1] 197"
      ]
     },
     "metadata": {},
     "output_type": "display_data"
    }
   ],
   "source": [
    "2 ** 7 + 2 ** 6 + 2 ** 2 + 2 ** 0"
   ]
  },
  {
   "cell_type": "markdown",
   "metadata": {},
   "source": [
    "Всего 4 ненулевых коэффициента степеней числа 2 в бинарной форме числа 197.\n",
    "\n",
    "There are 4 nonzero coefficients of powers of 2 in the binary form of the number 197."
   ]
  },
  {
   "cell_type": "code",
   "execution_count": 6,
   "metadata": {},
   "outputs": [],
   "source": [
    "options(scipen = 999)\n",
    "dec2bin <- function(n) {\n",
    "  if (n == 0) {\n",
    "      bv <- '0'\n",
    "  } else {\n",
    "      bv <- rep(0, 1 + floor(log(n, 2)))\n",
    "      while (n >= 2) {\n",
    "          pow <- floor(log(n, 2))\n",
    "          bv[1 + pow] <- 1\n",
    "          n <- n - 2^pow\n",
    "      }\n",
    "      bv[1] <- n %% 2\n",
    "      paste(rev(bv), collapse = \"\")\n",
    "  }\n",
    "}"
   ]
  },
  {
   "cell_type": "code",
   "execution_count": 7,
   "metadata": {},
   "outputs": [
    {
     "data": {
      "text/html": [
       "'11000101'"
      ],
      "text/latex": [
       "'11000101'"
      ],
      "text/markdown": [
       "'11000101'"
      ],
      "text/plain": [
       "[1] \"11000101\""
      ]
     },
     "metadata": {},
     "output_type": "display_data"
    }
   ],
   "source": [
    "dec2bin(197)"
   ]
  },
  {
   "cell_type": "code",
   "execution_count": 8,
   "metadata": {},
   "outputs": [
    {
     "data": {
      "text/html": [
       "'1111'"
      ],
      "text/latex": [
       "'1111'"
      ],
      "text/markdown": [
       "'1111'"
      ],
      "text/plain": [
       "[1] \"1111\""
      ]
     },
     "metadata": {},
     "output_type": "display_data"
    }
   ],
   "source": [
    "gsub(\"0\",\"\",dec2bin(197))"
   ]
  },
  {
   "cell_type": "code",
   "execution_count": 9,
   "metadata": {},
   "outputs": [
    {
     "data": {
      "text/html": [
       "4"
      ],
      "text/latex": [
       "4"
      ],
      "text/markdown": [
       "4"
      ],
      "text/plain": [
       "[1] 4"
      ]
     },
     "metadata": {},
     "output_type": "display_data"
    }
   ],
   "source": [
    "n <- nchar(gsub(\"0\",\"\",dec2bin(197)))\n",
    "n"
   ]
  },
  {
   "cell_type": "code",
   "execution_count": 10,
   "metadata": {},
   "outputs": [],
   "source": [
    "answer_dictionary[1] <- toString(n)"
   ]
  },
  {
   "cell_type": "markdown",
   "metadata": {},
   "source": [
    "## 2.\n",
    "Дан фрагмент таблицы истинности выражения F, зависящего от трёх аргументов X, Y, Z:\n",
    "\n",
    "---\n",
    "\n",
    "A fragment of the truth table for the expression F, depending on the three arguments X, Y, Z, is given:\n",
    "\n",
    "| $X$ | $Y$ | $Z$ | $F$ |\n",
    "| :-: | :-: | :-: | :-: |\n",
    "| 0 | 0 | 1 | 0 |\n",
    "| 1 | 1 | 0 | 1 |\n",
    "| 0 | 1 | 1 | 0 |\n",
    "\n",
    "Перечислите в порядке возрастания без запятых и пробелов номера логических выражений, которые соответствуют F:\n",
    "\n",
    "---\n",
    "\n",
    "List in ascending order without commas and spaces the numbers of logical expressions that correspond to F:\n",
    "\n",
    "$ 1) \\ X \\land Y \\lor \\neg Z$\n",
    "\n",
    "$ 2) \\ \\neg X \\land \\neg Y \\land \\neg Z$\n",
    "\n",
    "$ 3) \\ X \\land Y \\land \\neg Z$\n",
    "\n",
    "$ 4) \\ X \\lor Y \\lor \\neg Z$\n",
    "\n",
    "$ 5) \\ X \\lor Y \\land \\neg Z$"
   ]
  },
  {
   "cell_type": "code",
   "execution_count": 11,
   "metadata": {},
   "outputs": [],
   "source": [
    "bc <- matrix(c(0,0,1, 1,1,0, 0,1,1), \n",
    "             nrow=3, ncol=3, byrow = TRUE)\n",
    "\n",
    "F <- function(X, Y, Z, I) {\n",
    "    if (I == 1) {return(X & Y | !Z)}\n",
    "    if (I == 2) {return(!X & !Y & !Z)}\n",
    "    if (I == 3) {return(X & Y & !Z)}\n",
    "    if (I == 4) {return(X | Y | !Z)}    \n",
    "    if (I == 5) {return(X | Y & !Z)}    \n",
    "}"
   ]
  },
  {
   "cell_type": "code",
   "execution_count": 12,
   "metadata": {},
   "outputs": [
    {
     "name": "stdout",
     "output_type": "stream",
     "text": [
      "[1] 1\n",
      "[1] 3\n",
      "[1] 5\n"
     ]
    }
   ],
   "source": [
    "for (i in 1:5){\n",
    "    result <- vector(length=3)\n",
    "    for (j in 1:3) {\n",
    "        result[j] <- F(bc[j,1],bc[j,2],bc[j,3],i)\n",
    "    }\n",
    "    if (all(result == c(FALSE,TRUE,FALSE))){\n",
    "        print(i)\n",
    "    }\n",
    "}"
   ]
  },
  {
   "cell_type": "code",
   "execution_count": 13,
   "metadata": {},
   "outputs": [],
   "source": [
    "answer_dictionary[2] <- '135'"
   ]
  },
  {
   "cell_type": "markdown",
   "metadata": {},
   "source": [
    "## 3.\n",
    "<div style=\"width: 800px; height: 450px; overflow:auto;\">\n",
    "    <img src=\"it_images/2017_10_03.png\" width=\"800\" height=\"450\"/>\n",
    "</div>"
   ]
  },
  {
   "cell_type": "markdown",
   "metadata": {},
   "source": [
    "В таблице приведена стоимость перевозок между соседними железнодорожными станциями. \n",
    "\n",
    "Перечислите в порядке возрастания, без пробелов и запятых, номера схем, соответствующих таблице.\n",
    "\n",
    "---\n",
    "\n",
    "The table shows the cost of transportation between neighboring railway stations. \n",
    "\n",
    "In ascending order, without spaces or commas, list the schema numbers corresponding to the table.\n",
    "\n",
    "| &#x123CF; | A | B | C | D | E |\n",
    "|:-:|:-:|:-:|:-:|:-:|:-:|:-:|\n",
    "| **A** | &#x123CF; | 2 |   |   |   |\n",
    "| **B** | 2 | &#x123CF; | 5 | 4 |   |\n",
    "| **C** |   | 5 | &#x123CF; | 7 | 3 |\n",
    "| **D** |   | 4 | 7  | &#x123CF; |   |\n",
    "| **E** |   |   | 3 |  | &#x123CF; |\n"
   ]
  },
  {
   "cell_type": "code",
   "execution_count": 14,
   "metadata": {},
   "outputs": [],
   "source": [
    "edges <- c('A','B', 'B','C', 'B','D',\n",
    "           'C','D', 'C','E')\n",
    "weights <- c(2,5,4,7,3)\n",
    "g <- graph(edges, directed=FALSE)%>%\n",
    "    set_edge_attr(\"weight\", value=weights)"
   ]
  },
  {
   "cell_type": "code",
   "execution_count": 15,
   "metadata": {},
   "outputs": [
    {
     "data": {
      "text/html": [
       "<table>\n",
       "<thead><tr><th></th><th scope=col>A</th><th scope=col>B</th><th scope=col>C</th><th scope=col>D</th><th scope=col>E</th></tr></thead>\n",
       "<tbody>\n",
       "\t<tr><th scope=row>A</th><td>0</td><td>2</td><td>0</td><td>0</td><td>0</td></tr>\n",
       "\t<tr><th scope=row>B</th><td>2</td><td>0</td><td>5</td><td>4</td><td>0</td></tr>\n",
       "\t<tr><th scope=row>C</th><td>0</td><td>5</td><td>0</td><td>7</td><td>3</td></tr>\n",
       "\t<tr><th scope=row>D</th><td>0</td><td>4</td><td>7</td><td>0</td><td>0</td></tr>\n",
       "\t<tr><th scope=row>E</th><td>0</td><td>0</td><td>3</td><td>0</td><td>0</td></tr>\n",
       "</tbody>\n",
       "</table>\n"
      ],
      "text/latex": [
       "\\begin{tabular}{r|lllll}\n",
       "  & A & B & C & D & E\\\\\n",
       "\\hline\n",
       "\tA & 0 & 2 & 0 & 0 & 0\\\\\n",
       "\tB & 2 & 0 & 5 & 4 & 0\\\\\n",
       "\tC & 0 & 5 & 0 & 7 & 3\\\\\n",
       "\tD & 0 & 4 & 7 & 0 & 0\\\\\n",
       "\tE & 0 & 0 & 3 & 0 & 0\\\\\n",
       "\\end{tabular}\n"
      ],
      "text/markdown": [
       "\n",
       "| <!--/--> | A | B | C | D | E | \n",
       "|---|---|---|---|---|\n",
       "| A | 0 | 2 | 0 | 0 | 0 | \n",
       "| B | 2 | 0 | 5 | 4 | 0 | \n",
       "| C | 0 | 5 | 0 | 7 | 3 | \n",
       "| D | 0 | 4 | 7 | 0 | 0 | \n",
       "| E | 0 | 0 | 3 | 0 | 0 | \n",
       "\n",
       "\n"
      ],
      "text/plain": [
       "  A B C D E\n",
       "A 0 2 0 0 0\n",
       "B 2 0 5 4 0\n",
       "C 0 5 0 7 3\n",
       "D 0 4 7 0 0\n",
       "E 0 0 3 0 0"
      ]
     },
     "metadata": {},
     "output_type": "display_data"
    }
   ],
   "source": [
    "adjm <- get.adjacency(g, attr=\"weight\",sparse=FALSE)\n",
    "adjm[sort(rownames(adjm)),sort(colnames(adjm))]"
   ]
  },
  {
   "cell_type": "code",
   "execution_count": 16,
   "metadata": {},
   "outputs": [
    {
     "data": {
      "image/png": "[encoded data removed]",
      "text/plain": [
       "Plot with title “”"
      ]
     },
     "metadata": {},
     "output_type": "display_data"
    }
   ],
   "source": [
    "options(repr.plot.width=4,repr.plot.height=4)\n",
    "\n",
    "plot(g, layout=layout_in_circle(g),\n",
    "     vertex.color=\"steelblue\",vertex.frame.color=\"gray\",vertex.size=7,\n",
    "     vertex.label.cex=1.2,vertex.label.dist=2,vertex.label.degree=c(0,4.8,3.8,2.2,1.2),\n",
    "     edge.color=\"gray\",edge.width=1.5,\n",
    "     edge.label=E(g)$weight,edge.label.cex=1.2)"
   ]
  },
  {
   "cell_type": "code",
   "execution_count": 17,
   "metadata": {},
   "outputs": [],
   "source": [
    "answer_dictionary[3] <- '4'"
   ]
  },
  {
   "cell_type": "markdown",
   "metadata": {},
   "source": [
    "## 4.\n",
    "Для групповых операций с файлами используются маски имён файлов. \n",
    "\n",
    "Маска представляет собой последовательность букв, цифр и прочих допустимых в именах файлов символов, \n",
    "\n",
    "в которой также могут встречаться следующие символы.\n",
    "\n",
    "Символ `«?»` (вопросительный знак) означает ровно один произвольный символ.\n",
    "\n",
    "Символ `«*»` (звёздочка) означает любую последовательность символов произвольной длины, в том числе `«*»` может задавать и пустую последовательность.\n",
    "\n",
    "В каталоге находятся шесть файлов:\n",
    "\n",
    "`boom.pas`, `bloom.ppt`, `loom.pas`, `bottom.pdf`, `bom.pps`, `boom.ppt`.\n",
    "\n",
    "Ниже представлено восемь масок. Сколько из них таких, которым соответствует ровно четыре файла из данного каталога?\n",
    "\n",
    "`?oo*m.p*`, `b*o*om.p??`, `*o*om.p*?`, `b*om.p?*`, `*.*p*`, `bo*m.???`, `*om.*p*`, `*o*o*.p*?`.\n",
    "\n",
    "---\n",
    "\n",
    "For group operations with files, masks of file names are used.\n",
    "\n",
    "A mask is a sequence of letters, numbers and other permissible characters in file names, \n",
    "\n",
    "in which the following characters can also occur.\n",
    "\n",
    "The symbol `«?»` (question mark) means exactly one arbitrary character.\n",
    "\n",
    "The symbol `«*»` (asterisk) stands for any sequence of characters of arbitrary length, including `«*»`, which can also specify an empty sequence.\n",
    "\n",
    "There are six files in the directory:\n",
    "\n",
    "`boom.pas`, `bloom.ppt`, `loom.pas`, `bottom.pdf`, `bom.pps`, `boom.ppt`.\n",
    "\n",
    "Here are eight masks. How many of them are those to which exactly four files from this catalog correspond?\n",
    "\n",
    "`?oo*m.p*`, `b*o*om.p??`, `*o*om.p*?`, `b*om.p?*`, `*.*p*`, `bo*m.???`, `*om.*p*`, `*o*o*.p*?`."
   ]
  },
  {
   "cell_type": "code",
   "execution_count": 18,
   "metadata": {},
   "outputs": [
    {
     "data": {
      "text/html": [
       "<table>\n",
       "<thead><tr><th scope=col>file_list</th><th scope=col>mask_1</th><th scope=col>mask_2</th><th scope=col>mask_3</th><th scope=col>mask_4</th><th scope=col>mask_5</th><th scope=col>mask_6</th><th scope=col>mask_7</th><th scope=col>mask_8</th></tr></thead>\n",
       "<tbody>\n",
       "\t<tr><td>boom.pas  </td><td> TRUE     </td><td> TRUE     </td><td> TRUE     </td><td> TRUE     </td><td>TRUE      </td><td> TRUE     </td><td>TRUE      </td><td> TRUE     </td></tr>\n",
       "\t<tr><td>bloom.ppt </td><td>FALSE     </td><td> TRUE     </td><td> TRUE     </td><td> TRUE     </td><td>TRUE      </td><td>FALSE     </td><td>TRUE      </td><td> TRUE     </td></tr>\n",
       "\t<tr><td>loom.pas  </td><td> TRUE     </td><td>FALSE     </td><td> TRUE     </td><td>FALSE     </td><td>TRUE      </td><td>FALSE     </td><td>TRUE      </td><td> TRUE     </td></tr>\n",
       "\t<tr><td>bottom.pdf</td><td>FALSE     </td><td> TRUE     </td><td> TRUE     </td><td> TRUE     </td><td>TRUE      </td><td> TRUE     </td><td>TRUE      </td><td> TRUE     </td></tr>\n",
       "\t<tr><td>bom.pps   </td><td>FALSE     </td><td>FALSE     </td><td>FALSE     </td><td> TRUE     </td><td>TRUE      </td><td> TRUE     </td><td>TRUE      </td><td>FALSE     </td></tr>\n",
       "\t<tr><td>boom.ppt  </td><td> TRUE     </td><td> TRUE     </td><td> TRUE     </td><td> TRUE     </td><td>TRUE      </td><td> TRUE     </td><td>TRUE      </td><td> TRUE     </td></tr>\n",
       "</tbody>\n",
       "</table>\n"
      ],
      "text/latex": [
       "\\begin{tabular}{r|lllllllll}\n",
       " file\\_list & mask\\_1 & mask\\_2 & mask\\_3 & mask\\_4 & mask\\_5 & mask\\_6 & mask\\_7 & mask\\_8\\\\\n",
       "\\hline\n",
       "\t boom.pas   &  TRUE      &  TRUE      &  TRUE      &  TRUE      & TRUE       &  TRUE      & TRUE       &  TRUE     \\\\\n",
       "\t bloom.ppt  & FALSE      &  TRUE      &  TRUE      &  TRUE      & TRUE       & FALSE      & TRUE       &  TRUE     \\\\\n",
       "\t loom.pas   &  TRUE      & FALSE      &  TRUE      & FALSE      & TRUE       & FALSE      & TRUE       &  TRUE     \\\\\n",
       "\t bottom.pdf & FALSE      &  TRUE      &  TRUE      &  TRUE      & TRUE       &  TRUE      & TRUE       &  TRUE     \\\\\n",
       "\t bom.pps    & FALSE      & FALSE      & FALSE      &  TRUE      & TRUE       &  TRUE      & TRUE       & FALSE     \\\\\n",
       "\t boom.ppt   &  TRUE      &  TRUE      &  TRUE      &  TRUE      & TRUE       &  TRUE      & TRUE       &  TRUE     \\\\\n",
       "\\end{tabular}\n"
      ],
      "text/markdown": [
       "\n",
       "file_list | mask_1 | mask_2 | mask_3 | mask_4 | mask_5 | mask_6 | mask_7 | mask_8 | \n",
       "|---|---|---|---|---|---|\n",
       "| boom.pas   |  TRUE      |  TRUE      |  TRUE      |  TRUE      | TRUE       |  TRUE      | TRUE       |  TRUE      | \n",
       "| bloom.ppt  | FALSE      |  TRUE      |  TRUE      |  TRUE      | TRUE       | FALSE      | TRUE       |  TRUE      | \n",
       "| loom.pas   |  TRUE      | FALSE      |  TRUE      | FALSE      | TRUE       | FALSE      | TRUE       |  TRUE      | \n",
       "| bottom.pdf | FALSE      |  TRUE      |  TRUE      |  TRUE      | TRUE       |  TRUE      | TRUE       |  TRUE      | \n",
       "| bom.pps    | FALSE      | FALSE      | FALSE      |  TRUE      | TRUE       |  TRUE      | TRUE       | FALSE      | \n",
       "| boom.ppt   |  TRUE      |  TRUE      |  TRUE      |  TRUE      | TRUE       |  TRUE      | TRUE       |  TRUE      | \n",
       "\n",
       "\n"
      ],
      "text/plain": [
       "  file_list  mask_1 mask_2 mask_3 mask_4 mask_5 mask_6 mask_7 mask_8\n",
       "1 boom.pas    TRUE   TRUE   TRUE   TRUE  TRUE    TRUE  TRUE    TRUE \n",
       "2 bloom.ppt  FALSE   TRUE   TRUE   TRUE  TRUE   FALSE  TRUE    TRUE \n",
       "3 loom.pas    TRUE  FALSE   TRUE  FALSE  TRUE   FALSE  TRUE    TRUE \n",
       "4 bottom.pdf FALSE   TRUE   TRUE   TRUE  TRUE    TRUE  TRUE    TRUE \n",
       "5 bom.pps    FALSE  FALSE  FALSE   TRUE  TRUE    TRUE  TRUE   FALSE \n",
       "6 boom.ppt    TRUE   TRUE   TRUE   TRUE  TRUE    TRUE  TRUE    TRUE "
      ]
     },
     "metadata": {},
     "output_type": "display_data"
    }
   ],
   "source": [
    "file_list <- c('boom.pas', 'bloom.ppt', 'loom.pas', \n",
    "               'bottom.pdf', 'bom.pps', 'boom.ppt')\n",
    "mask_list <- c('?oo*m.p*', 'b*o*om.p??', '*o*om.p*?', 'b*om.p?*',\n",
    "               '*.*p*', 'bo*m.???', '*om.*p*', '*o*o*.p*?')\n",
    "\n",
    "df <- data.frame(file_list=file_list,\n",
    "                 mask_1=grepl(\"^.oo.*m\\\\.p.*$\", file_list), \n",
    "                 mask_2=grepl(\"^b.*o.*om\\\\.p..$\", file_list), \n",
    "                 mask_3=grepl(\"^.*o.*om\\\\.p.*.$\", file_list), \n",
    "                 mask_4=grepl(\"^b.*om\\\\.p..*$\", file_list),\n",
    "                 mask_5=grepl(\"^.*\\\\..*p.*$\", file_list), \n",
    "                 mask_6=grepl(\"^bo.*m\\\\....$\", file_list), \n",
    "                 mask_7=grepl(\"^.*om\\\\..*p.*$\", file_list), \n",
    "                 mask_8=grepl(\"^.*o.*o.*\\\\.p.*.$\", file_list))\n",
    "df"
   ]
  },
  {
   "cell_type": "code",
   "execution_count": 19,
   "metadata": {},
   "outputs": [
    {
     "name": "stdout",
     "output_type": "stream",
     "text": [
      "[1] \"?oo*m.p*\"\n",
      "[1] 3\n",
      "[1] \"b*o*om.p??\"\n",
      "[1] 4\n",
      "[1] \"*o*om.p*?\"\n",
      "[1] 5\n",
      "[1] \"b*om.p?*\"\n",
      "[1] 5\n",
      "[1] \"*.*p*\"\n",
      "[1] 6\n",
      "[1] \"bo*m.???\"\n",
      "[1] 4\n",
      "[1] \"*om.*p*\"\n",
      "[1] 6\n",
      "[1] \"*o*o*.p*?\"\n",
      "[1] 5\n"
     ]
    },
    {
     "data": {
      "text/html": [
       "2"
      ],
      "text/latex": [
       "2"
      ],
      "text/markdown": [
       "2"
      ],
      "text/plain": [
       "[1] 2"
      ]
     },
     "metadata": {},
     "output_type": "display_data"
    }
   ],
   "source": [
    "c <- 0\n",
    "for (i in 2:9) {\n",
    "    print(mask_list[i-1]); \n",
    "    print(length(df[1:6,i][df[1:6,i]==TRUE]))\n",
    "    \n",
    "    if (length(df[1:6,i][df[1:6,i]==TRUE]) == 4) {\n",
    "        c <- c + 1\n",
    "    }\n",
    "}\n",
    "\n",
    "c"
   ]
  },
  {
   "cell_type": "code",
   "execution_count": 20,
   "metadata": {},
   "outputs": [],
   "source": [
    "answer_dictionary[4] <- toString(c)"
   ]
  },
  {
   "cell_type": "markdown",
   "metadata": {},
   "source": [
    "## 5.\n",
    "Через канал связи передаётся сообщение, состоящее только из символов А, Б, В и Г. \n",
    "\n",
    "Эти символы кодируются неравномерным (по длине) кодом: <i style=\"font-size:150%;color:#348ABD;\" class=\"font-effect-3d\">A-0, Б-10, В-110, Г-111</i>. \n",
    "\n",
    "Исходное сообщение: <i style=\"font-size:150%;color:#348ABD;\" class=\"font-effect-3d\">ВГВБАВА</i>. \n",
    "\n",
    "Закодируйте сообщение приведенным кодом. \n",
    "\n",
    "Полученную последовательность переведите в шестнадцатеричный вид. \n",
    "\n",
    "В ответе запишите последовательность шестнадцатеричных цифр без запятых.\n",
    "\n",
    "---\n",
    "\n",
    "A message is sent through the communication channel, it consists only of symbols А, Б, В and Г.\n",
    "\n",
    "These symbols are encoded unequally (along with the length) by code: <i style=\"font-size:150%;color:#348ABD;\" class=\"font-effect-3d\">A-0, Б-10, В-110, Г-111</i>.\n",
    "\n",
    "The initial message: <i style=\"font-size:150%;color:#348ABD;\" class=\"font-effect-3d\">ВГВБАВА</i>.\n",
    "\n",
    "Encode the message with this code. \n",
    "\n",
    "Obtain the resulting sequence in a hexadecimal form. \n",
    "\n",
    "In the answer, write down the sequence of hexadecimal digits without commas."
   ]
  },
  {
   "cell_type": "code",
   "execution_count": 21,
   "metadata": {},
   "outputs": [
    {
     "data": {
      "text/html": [
       "<ol class=list-inline>\n",
       "\t<li>'В'</li>\n",
       "\t<li>'Г'</li>\n",
       "\t<li>'В'</li>\n",
       "\t<li>'Б'</li>\n",
       "\t<li>'А'</li>\n",
       "\t<li>'В'</li>\n",
       "\t<li>'А'</li>\n",
       "</ol>\n"
      ],
      "text/latex": [
       "\\begin{enumerate*}\n",
       "\\item 'В'\n",
       "\\item 'Г'\n",
       "\\item 'В'\n",
       "\\item 'Б'\n",
       "\\item 'А'\n",
       "\\item 'В'\n",
       "\\item 'А'\n",
       "\\end{enumerate*}\n"
      ],
      "text/markdown": [
       "1. 'В'\n",
       "2. 'Г'\n",
       "3. 'В'\n",
       "4. 'Б'\n",
       "5. 'А'\n",
       "6. 'В'\n",
       "7. 'А'\n",
       "\n",
       "\n"
      ],
      "text/plain": [
       "[1] \"В\" \"Г\" \"В\" \"Б\" \"А\" \"В\" \"А\""
      ]
     },
     "metadata": {},
     "output_type": "display_data"
    }
   ],
   "source": [
    "string <- unlist(strsplit('ВГВБАВА',NULL))\n",
    "string"
   ]
  },
  {
   "cell_type": "code",
   "execution_count": 22,
   "metadata": {},
   "outputs": [
    {
     "data": {
      "text/html": [
       "'1101111101001100'"
      ],
      "text/latex": [
       "'1101111101001100'"
      ],
      "text/markdown": [
       "'1101111101001100'"
      ],
      "text/plain": [
       "[1] \"1101111101001100\""
      ]
     },
     "metadata": {},
     "output_type": "display_data"
    }
   ],
   "source": [
    "string <- unlist(strsplit('ВГВБАВА',NULL))\n",
    "codes <- c('0', '10', '110', '111')\n",
    "symbols <- c('А', 'Б', 'В', 'Г')\n",
    "result <- ''\n",
    "\n",
    "for (el in string) {\n",
    "    for (i in 1:4){\n",
    "        if (el == symbols[i]) {\n",
    "            result <- paste(result,codes[i],sep='')\n",
    "        }\n",
    "    }\n",
    "}\n",
    "\n",
    "result"
   ]
  },
  {
   "cell_type": "markdown",
   "metadata": {},
   "source": [
    "Четыре цифры в бинарной системе соответствуют одной цифре в шестнадцатеричной системе.\n",
    "\n",
    "The four digits in the binary system correspond to one digit in the hexadecimal system.\n",
    "\n",
    "$1101_2 = 2^3 + 2^2 + 2^0 = 13_{10} = D_{16}$\n",
    "\n",
    "$1111_2 = 2^3 + 2^2 + 2^1 + 2^0 = 15_{10} = F_{16}$\n",
    "\n",
    "$0100_2 = 2^2 = 4_{10} = 4_{16}$\n",
    "\n",
    "$1100_2 = 2^3 + 2^2 = 12_{10} = C_{16}$\n",
    "\n",
    "$1101111101001100_2 = DF4C_{16}$"
   ]
  },
  {
   "cell_type": "code",
   "execution_count": 23,
   "metadata": {},
   "outputs": [],
   "source": [
    "bin2dec <- function(n) {\n",
    "  return(sapply(strsplit(as.character(n),split=\"\"), \n",
    "                function(x) sum(as.numeric(x) * 2 ** (rev(seq_along(x) - 1)))))\n",
    "} "
   ]
  },
  {
   "cell_type": "code",
   "execution_count": 24,
   "metadata": {},
   "outputs": [
    {
     "data": {
      "text/html": [
       "57164"
      ],
      "text/latex": [
       "57164"
      ],
      "text/markdown": [
       "57164"
      ],
      "text/plain": [
       "[1] 57164"
      ]
     },
     "metadata": {},
     "output_type": "display_data"
    }
   ],
   "source": [
    "dec_result <- bin2dec(result)\n",
    "dec_result "
   ]
  },
  {
   "cell_type": "code",
   "execution_count": 25,
   "metadata": {},
   "outputs": [],
   "source": [
    "answer_dictionary[5] <- toupper(as.hexmode(dec_result))"
   ]
  },
  {
   "cell_type": "markdown",
   "metadata": {},
   "source": [
    "## 6.\n",
    "Предлагается некоторая операция над двумя произвольными трёхзначными десятичными числами:\n",
    "\n",
    "$1.$ Записывается результат сложения значений старших разрядов заданных чисел.\n",
    "\n",
    "$2.$ К нему дописывается результат сложения значений средних разрядов этих чисел по такому правилу: если он меньше первой суммы, то второе полученное число приписывается к первому слева, иначе — справа.\n",
    "\n",
    "$3.$ Итоговое число получают приписыванием справа к полученному после второго шага числу суммы значений младших разрядов исходных чисел.\n",
    "\n",
    "Какие из предложенных чисел могут быть результатом такой операции?\n",
    "\n",
    "Перечислите в алфавитном порядке буквы, соответствующие этим числам, без пробелов и знаков препинания.\n",
    "\n",
    "---\n",
    "\n",
    "The operation on two arbitrary three-digit decimal numbers is sopposed by this way:\n",
    "\n",
    "$1.$ The result of the addition of the highest digits in the given numbers is written down.\n",
    "\n",
    "$2.$ The result of the addition of the mean digits is written near to it by this rule: if it is less than the first sum, then the second obtained number is joined to the first from the left, otherwise - from the right.\n",
    "\n",
    "$3.$ The final number is obtained by joining from the right the sum of the lowest digits of the original numbers to the number written after the second step.\n",
    "\n",
    "Which of the suggested numbers can be the result of this operation?\n",
    "\n",
    "List in alphabetical order the letters corresponding to these numbers, without spaces and punctuation marks.\n",
    "\n",
    "$A) \\ 171412$\n",
    "\n",
    "$B) \\ 121419$\n",
    "\n",
    "$C) \\ 81714$\n",
    "\n",
    "$D) \\ 15117$\n",
    "\n",
    "$E) \\ 4809$"
   ]
  },
  {
   "cell_type": "markdown",
   "metadata": {},
   "source": [
    "$A) \\ 171412$\n",
    "\n",
    "Содержит 6 символов, значит результатом сложения каждой пары цифр было двузначное число (17, 14, 12). Но 17 больше 14, а первые две суммы должны быть в возрастающем порядке.\n",
    "\n",
    "---\n",
    "\n",
    "Contains 6 symbols, therefore the result of addition of each pair of digits was a two-digit number (17, 14, 12). But 17 is more than 14, and the first two sums should be in ascending order.\n",
    "\n",
    "$B) \\ 121419$\n",
    "\n",
    "Содержит 6 символов, значит результатом сложения каждой пары цифр было двузначное число (12, 14, 19). Но 19 не может быть получено путем сложения двух цифр.\n",
    "\n",
    "---\n",
    "\n",
    "Contains 6 symbols, therefore the result of addition of each pair of digits was a two-digit number (12, 14, 19). But 19 can not be obtained by adding two digits.\n",
    "\n",
    "$C) \\ 81714 \\to 8, 17, 14 \\to 497, 487$\n",
    "\n",
    "\n",
    "$D) \\ 15117$\n",
    "\n",
    "Содержит 5 символов, значит результатом сложения одной пары цифр было однозначное число 7 или 1 в середине. Но 15 больше 11 или 1, а первые две суммы должны быть в возрастающем порядке.\n",
    "\n",
    "---\n",
    "\n",
    "Contains 5 characters, so the result of adding one pair of digits was a single digit: 7 or 1 in the middle. But 15 is more than 11 or 1, and the first two sums should be in ascending order.\n",
    "\n",
    "$E) \\ 4809$\n",
    "\n",
    "Невозможно разбить на три суммы пар цифр: 4,8,09; 48,0,9; 4,80,9.\n",
    "\n",
    "---\n",
    "\n",
    "It is impossible to break down into sums of digit pairs: 4,8,09; 48,0,9; 4,80,9."
   ]
  },
  {
   "cell_type": "code",
   "execution_count": 26,
   "metadata": {},
   "outputs": [],
   "source": [
    "answer_dictionary[6] <- 'C'"
   ]
  },
  {
   "cell_type": "markdown",
   "metadata": {},
   "source": [
    "## 7.\n",
    "В электронной таблице значение формулы `=СРЗНАЧ(А3:D4)` равно 5. \n",
    "\n",
    "Чему равно значение формулы `=СРЗНАЧ(А3:С4)`, если значение формулы `=СУММ(D3:D4)` равно 4?\n",
    "\n",
    "---\n",
    "\n",
    "In the spreadsheet, the value of the formula `=AVERAGE(A3:D4)` is 5.\n",
    "\n",
    "What is the value of the formula `=AVERAGE(A3:C4)` if the value of the formula `=SUM(D3:D4)` is 4?\n",
    "\n",
    "[Google Sheet](https://drive.google.com/open?id=178gvK3PdsrJH7TTnXQKJrJxwXiG69NWkl0FSCU7NZSs)\n",
    "\n",
    "<div style=\"width: 800px; height: 250px; overflow:auto;\">\n",
    "    <img src=\"it_images/2017_10_07a.png\" width=\"800\" height=\"250\"/>\n",
    "</div>"
   ]
  },
  {
   "cell_type": "code",
   "execution_count": 27,
   "metadata": {},
   "outputs": [
    {
     "data": {
      "text/html": [
       "6"
      ],
      "text/latex": [
       "6"
      ],
      "text/markdown": [
       "6"
      ],
      "text/plain": [
       "[1] 6"
      ]
     },
     "metadata": {},
     "output_type": "display_data"
    }
   ],
   "source": [
    "AVERAGE_A3_D4 <- 5; SUM_D3_D4 <- 4\n",
    "AVERAGE_A3_C4 <- as.integer((8 * AVERAGE_A3_D4 - SUM_D3_D4) / 6)\n",
    "AVERAGE_A3_C4"
   ]
  },
  {
   "cell_type": "code",
   "execution_count": 28,
   "metadata": {},
   "outputs": [],
   "source": [
    "answer_dictionary[7] <- toString(AVERAGE_A3_C4)"
   ]
  },
  {
   "cell_type": "markdown",
   "metadata": {},
   "source": [
    "## 8.\n",
    "Определите, что будет напечатано в результате выполнения следующего фрагмента программы:\n",
    "\n",
    "Determine what will be printed as a result of execution of the following program fragment:\n",
    "<table style=\"width:95%;\">\n",
    "  <tr style=\"font-size:150%;color:#348ABD;\" class=\"font-effect-3d\">\n",
    "    <th style=\"text-align:center;\">Python</th> \n",
    "    <th style=\"text-align:center;\">R</th>          \n",
    "  </tr>\n",
    "  <tr>\n",
    "    <td style=\"font-weight:bold;text-align:left;\"><pre><code class='python'>\n",
    "\n",
    "k,s = 0,5\n",
    "while s < 205:\n",
    "    s += 10\n",
    "    k += 1\n",
    "\n",
    "print (k)\n",
    "    </code></pre></td> \n",
    "    <td style=\"font-weight:bold;text-align:left;\"><pre><code class='r'> \n",
    "    \n",
    "k <- 0; s <- 5\n",
    "\n",
    "while (s < 205) {\n",
    "    s <- s + 10\n",
    "    k <- k + 1\n",
    "}\n",
    "\n",
    "print(k)\n",
    "    </code></pre></td>     \n",
    "  </tr> \n",
    "  <tr style=\"font-size:150%;color:#348ABD;\" class=\"font-effect-3d\">\n",
    "    <th style=\"text-align:center;\">BASIC</th> \n",
    "    <th style=\"text-align:center;\">Pascal</th>          \n",
    "  </tr>\n",
    "  <tr>\n",
    "    <td style=\"font-weight:bold;text-align:left;\"><pre><code class='basic'>\n",
    "\n",
    "DIM k, s AS INTEGER\n",
    "k = 0\n",
    "s = 5\n",
    "WHILE s < 205\n",
    "    s = s + 10\n",
    "    k = k + 1\n",
    "WEND\n",
    "PRINT k\n",
    "    </code></pre></td> \n",
    "    <td style=\"font-weight:bold;text-align:left;\"><pre><code class='pascal'> \n",
    "    \n",
    "var k, s : integer;\n",
    "begin\n",
    "    k := 0;\n",
    "    s := 5;\n",
    "    while s < 205 do\n",
    "        s := s + 10;\n",
    "        k := k + 1;\n",
    "    end;\n",
    "    write(k);\n",
    "end.\n",
    "    </code></pre></td>     \n",
    "  </tr>    \n",
    "  <tr style=\"font-size:150%;color:#348ABD;\" class=\"font-effect-3d\">\n",
    "    <th style=\"text-align:center;\">C</th> \n",
    "    <th style=\"text-align:center;\">Natural Language Programming</th>          \n",
    "  </tr>\n",
    "  <tr>\n",
    "    <td style=\"font-weight:bold;text-align:left;\"><pre><code class='c'>\n",
    "\n",
    "{\n",
    "    int k, s;\n",
    "    k = 0;\n",
    "    s = 5;\n",
    "    while (s < 205)\n",
    "    {\n",
    "        s = s + 10;\n",
    "        k = k + 1;\n",
    "    } \n",
    "    printf(\"%d\", k);\n",
    "}\n",
    "    </code></pre></td> \n",
    "    <td style=\"font-weight:bold;text-align:left;\"><pre><code class='nlp'> \n",
    "    \n",
    "нач\n",
    "    цел k, s\n",
    "    k := 0\n",
    "    s := 5\n",
    "    нц пока s < 205\n",
    "        s := s + 10\n",
    "        k := k + 1\n",
    "    кц\n",
    "    вывод k\n",
    "кон\n",
    "    </code></pre></td>     \n",
    "  </tr>      \n",
    "</table>"
   ]
  },
  {
   "cell_type": "code",
   "execution_count": 29,
   "metadata": {},
   "outputs": [
    {
     "name": "stdout",
     "output_type": "stream",
     "text": [
      "[1] 20\n"
     ]
    }
   ],
   "source": [
    "k <- 0; s <- 5\n",
    "\n",
    "while (s < 205) {\n",
    "    s <- s + 10\n",
    "    k <- k + 1\n",
    "}\n",
    "\n",
    "print(k)"
   ]
  },
  {
   "cell_type": "code",
   "execution_count": 30,
   "metadata": {},
   "outputs": [],
   "source": [
    "answer_dictionary[8] <- toString(k)"
   ]
  },
  {
   "cell_type": "markdown",
   "metadata": {},
   "source": [
    "## 9.\n",
    "Скольких различных цветов (наибольшее количество) могут быть пиксели неупакованного растрового изображения, \n",
    "\n",
    "имеющего размер 1024X256 пикселей и занимающего на диске 160 килобайт?\n",
    "\n",
    "---\n",
    "\n",
    "How many different colors (the largest number) can be the pixels of the unpacked raster image, \n",
    "\n",
    "which has a size of 1024X256 pixels and occupies 160 KB on the disk?"
   ]
  },
  {
   "cell_type": "markdown",
   "metadata": {},
   "source": [
    "|||\n",
    "|:-:|:-:|\n",
    "| Размер изображения в битах / Image Size in Bits | $160 * 2^3 * 2^{10}$ |\n",
    "| Бит на один пиксель / Bits per Pixel | $160 * 2^3 * 2^{10} / (1024 * 256)$ |\n",
    "| Количество цветов / Number of Colors | $\\large{2^{(160 * 2^3 * 2^{10} / (1024 * 256))}}$ |"
   ]
  },
  {
   "cell_type": "code",
   "execution_count": 31,
   "metadata": {},
   "outputs": [
    {
     "data": {
      "text/html": [
       "32"
      ],
      "text/latex": [
       "32"
      ],
      "text/markdown": [
       "32"
      ],
      "text/plain": [
       "[1] 32"
      ]
     },
     "metadata": {},
     "output_type": "display_data"
    }
   ],
   "source": [
    "image_size_in_bits <- 160 * 2 ** 3 * 2 ** 10\n",
    "bits_per_pixel <- as.integer(image_size_in_bits / (1024 * 256))\n",
    "number_of_colors <- 2 ** (bits_per_pixel)\n",
    "number_of_colors"
   ]
  },
  {
   "cell_type": "code",
   "execution_count": 32,
   "metadata": {},
   "outputs": [],
   "source": [
    "answer_dictionary[9] <- toString(number_of_colors)"
   ]
  },
  {
   "cell_type": "markdown",
   "metadata": {},
   "source": [
    "## 10.\n",
    "Азбука Морзе позволяет кодировать символы для сообщений по радиосвязи, задавая комбинацию точек и тире. \n",
    "\n",
    "Сколько различных символов (цифр, букв, знаков пунктуации и т. д.) можно закодировать, \n",
    "\n",
    "используя код Морзе длиной не менее трёх и не более четырёх сигналов (точек и тире)?\n",
    "\n",
    "---\n",
    "\n",
    "The Morse code allows you to encode characters for messages on the radio by specifying a combination of dots and dashes.\n",
    "\n",
    "How many different characters (numbers, letters, punctuation marks, etc.) can be encoded \n",
    "\n",
    "using Morse code of at least three and not more than four signals (dots and dashes)?"
   ]
  },
  {
   "cell_type": "markdown",
   "metadata": {},
   "source": [
    "Сигнальная система Морзе - бинарная, состоит из двух символов: точка и тире. \n",
    "    \n",
    "Сообщений длиной 3 символа будет $2^3$, а длиной 4 символа - $2^4$.\n",
    "\n",
    "---\n",
    "\n",
    "The Morse signal system is binary, consists of two symbols: a dot and a dash.\n",
    "    \n",
    "Messages of 3 characters in length will be $2^3$, and 4 characters in length - $2^4$."
   ]
  },
  {
   "cell_type": "code",
   "execution_count": 33,
   "metadata": {},
   "outputs": [],
   "source": [
    "answer_dictionary[10] <- toString(2 ** 3 + 2 ** 4)"
   ]
  },
  {
   "cell_type": "markdown",
   "metadata": {},
   "source": [
    "## 11.\n",
    "Алгоритм вычисления значения функции $F(n)$, где $n$ — натуральное число, задан следующими соотношениями:\n",
    "\n",
    "$F(n) = F(n - 1) * n$, при $n > 1$\n",
    "\n",
    "$F(1) = 1$\n",
    "\n",
    "Чему равно значение функции $F(6)$?\n",
    "\n",
    "---\n",
    "\n",
    "The algorithm for calculating the value of the function $F(n)$, where $n$ is a natural number, is given by the following relations:\n",
    "\n",
    "$F(n) = F(n - 1) * n$, при $n > 1$\n",
    "\n",
    "$F(1) = 1$\n",
    "\n",
    "What is the value of the function $F(6)$?"
   ]
  },
  {
   "cell_type": "code",
   "execution_count": 34,
   "metadata": {},
   "outputs": [
    {
     "data": {
      "text/html": [
       "720"
      ],
      "text/latex": [
       "720"
      ],
      "text/markdown": [
       "720"
      ],
      "text/plain": [
       "[1] 720"
      ]
     },
     "metadata": {},
     "output_type": "display_data"
    }
   ],
   "source": [
    "F <- function(n) {\n",
    "    if (n == 1) { \n",
    "        return (1)\n",
    "    } else { \n",
    "        return (F(n - 1) * n)\n",
    "    }\n",
    "}\n",
    "\n",
    "F(6)"
   ]
  },
  {
   "cell_type": "code",
   "execution_count": 35,
   "metadata": {},
   "outputs": [],
   "source": [
    "answer_dictionary[11] <- toString(F(6))"
   ]
  },
  {
   "cell_type": "markdown",
   "metadata": {},
   "source": [
    "## 12.\n",
    "На месте преступления были обнаружены четыре обрывка бумаги. \n",
    "\n",
    "Следствие установило, что на них записаны фрагменты одного IP-адреса. \n",
    "\n",
    "Криминалисты обозначили эти фрагменты буквами A, B, C и D. \n",
    "\n",
    "Восстановите IP-адрес. \n",
    "\n",
    "В ответе укажите последовательность букв, обозначающих фрагменты, в порядке, соответствующем IP-адресу.\n",
    "\n",
    "---\n",
    "\n",
    "At the crime scene, four pieces of paper were found. \n",
    "\n",
    "The investigation found they were recorded fragments of one IP-address. \n",
    "\n",
    "The forensic scientists designated these fragments by the letters A, B, C, and D.\n",
    "\n",
    "Restore the IP address. \n",
    "\n",
    "In the answer, specify the sequence of letters indicating the fragments, in the order corresponding to the IP address.\n",
    "  \n",
    "| <i style=\"font-size:130%;color:#348ABD;\" class=\"font-effect-brick-sign\">.75 </i> | <i style=\"font-size:130%;color:#348ABD;\" class=\"font-effect-brick-sign\">5.106</i> | <i style=\"font-size:130%;color:#348ABD;\" class=\"font-effect-brick-sign\">21</i> | <i style=\"font-size:130%;color:#348ABD;\" class=\"font-effect-brick-sign\">1.24</i> |\n",
    "|:-:|:-:|:-:|:-:|\n",
    "| $\\large{A}$ | $\\large{B}$ | $\\large{C}$ | $\\large{D}$ |"
   ]
  },
  {
   "cell_type": "markdown",
   "metadata": {},
   "source": [
    "IP-адрес (IPv4) является 32-битовым (4-байтовым) числом, запись которого состоит из последовательности 4 десятичных чисел с максимальным значением 255. Например: <i style=\"font-size:130%;color:#348ABD;\" class=\"font-effect-brick-sign\">192.168.0.3</i>.\n",
    "\n",
    "Адрес в задаче содержит 14 символов: 11 цифр и три точки. \n",
    "\n",
    "Фрагмент $C$ - <i style=\"font-size:130%;color:#348ABD;\" class=\"font-effect-brick-sign\">21</i> начинается с двух цифр, но нет фрагментов, заканчивающихся точкой, которых можно было бы присоединить слева. Значит, $C$ и есть первая часть адреса.\n",
    "\n",
    "Фрагмент $A$ - <i style=\"font-size:130%;color:#348ABD;\" class=\"font-effect-brick-sign\">.75</i> может быть только последним по той же причине. Кроме того, этот байт содержит две цифры, иначе он превысит значение 255. \n",
    "\n",
    "Цифр всего 11, поэтому остальные байты должны быть трехзначными числами. Значит, перед $A$ может быть только $B$.\n",
    "\n",
    "Для $D$ остается только второе место в последовательности букв: $CDBA$.\n",
    "\n",
    "---\n",
    "\n",
    "The IP address (IPv4) is a 32-bit (4-byte) number whose record consists of a sequence of 4 decimal numbers with a maximum value of 255. For example: <i style=\"font-size:130%;color:#348ABD;\" class=\"font-effect-brick-sign\">192.168.0.3</i>.\n",
    "\n",
    "The address in the task contains 14 characters: 11 digits and 3 dots.\n",
    "\n",
    "Fragment $C$ - <i style=\"font-size:130%;color:#348ABD;\" class=\"font-effect-brick-sign\">21</i> starts with two digits, but there are no fragments ending with a dot that could be attached to the left. Hence, $ C $ is the first part of the address.\n",
    "\n",
    "Fragment $A$ - <i style=\"font-size:130%;color:#348ABD;\" class=\"font-effect-brick-sign\">.75</i> can only be the last one for the same reason. In addition, this byte contains two digits, otherwise it will exceed 255.\n",
    "\n",
    "The number of digits is 11, so the remaining bytes must be three-digit numbers. Hence, there can be only $B$ before $A$.\n",
    "\n",
    "For $D$, only the second place in the sequence of letters remains: $CDBA$."
   ]
  },
  {
   "cell_type": "code",
   "execution_count": 36,
   "metadata": {},
   "outputs": [],
   "source": [
    "answer_dictionary[12] <- 'CDBA'"
   ]
  },
  {
   "cell_type": "markdown",
   "metadata": {},
   "source": [
    "## 13.\n",
    "Репетиционный экзамен в школе сдают 105 человек. \n",
    "\n",
    "Каждому из них выделяют специальный номер, идентифицирующий его в автоматической системе проверки ответов. \n",
    "\n",
    "При регистрации участника для записи его номера система использует минимально возможное количество бит, одинаковое для каждого участника. \n",
    "\n",
    "Каков объём информации в битах, записанный устройством после регистрации 60 участников?\n",
    "\n",
    "---\n",
    "\n",
    "A rehearsal school exam is passed by 105 people. \n",
    "\n",
    "Each of them is allocated a special number that identifies it in an automatic system for verifying answers. \n",
    "\n",
    "For registering a participant to record its number, the system uses the minimum possible number of bits, the same for each participant.\n",
    "\n",
    "What is the amount of information in bits recorded by the device after registering 60 participants?"
   ]
  },
  {
   "cell_type": "code",
   "execution_count": 37,
   "metadata": {},
   "outputs": [],
   "source": [
    "bits_for_one_of_105_participants <- ceiling(log2(105))"
   ]
  },
  {
   "cell_type": "code",
   "execution_count": 38,
   "metadata": {},
   "outputs": [],
   "source": [
    "answer_dictionary[13] <- toString(60 * bits_for_one_of_105_participants)"
   ]
  },
  {
   "cell_type": "markdown",
   "metadata": {},
   "source": [
    "## 14.\n",
    "Система команд исполнителя РОБОТ, «живущего» в прямоугольном лабиринте на клетчатой плоскости включает \n",
    "\n",
    "4 команды-приказа и 4 команды проверки условия. Команды-приказы:\n",
    "\n",
    "---\n",
    "\n",
    "The command system of the ROBOT, \"living\" in a rectangular labyrinth on the grid plane, includes \n",
    "\n",
    "4 moving commands and 4 condition-checking ones. Moving commands:\n",
    "\n",
    "\n",
    "|<p style=\"text-align:center; color:red;\">вверх</p>|<p style=\"text-align:center; color:green;\">вниз</p>|<p style=\"text-align:center; color:red;\">влево</p>|<p style=\"text-align:center; color:green;\">вправо</p>|\n",
    "|-:|-:|-:|-:|\n",
    "|<p style=\"text-align:center; color:red;\">up</p>|<p style=\"text-align:center; color:green;\">down</p>|<p style=\"text-align:center; color:red;\">left</p>|<p style=\"text-align:center; color:green;\">right</p>|\n",
    "\n",
    "При выполнении этих команд РОБОТ перемещается на одну клетку соответственно: вверх ↑, вниз ↓, влево ←, вправо →.\n",
    "\n",
    "Если РОБОТ начнет движение в сторону находящейся рядом с ним стены, то он разрушится и программа прервётся.\n",
    "\n",
    "Другие четыре команды проверяют истинность условия отсутствия стены у каждой стороны той клетки, где находится РОБОТ:\n",
    "\n",
    "---\n",
    "\n",
    "When these commands are executed, ROBOT moves one cell accordingly: up ↑, down ↓, left ←, right →.\n",
    "\n",
    "If ROBOT starts moving towards the wall next to it, it will be destroyed and the program will be stopped.\n",
    "\n",
    "The other four commands verify the truth of the absence of the wall on each side of the cell where ROBOT is located:\n",
    "\n",
    "|<p style=\"text-align:center; color:red;\">сверху свободно</p>|<p style=\"text-align:center; color:green;\">снизу свободно</p>|<p style=\"text-align:center; color:red;\">слева свободно</p>|<p style=\"text-align:center; color:green;\">справа свободно</p>|\n",
    "|-:|-:|-:|-:|\n",
    "|<p style=\"text-align:center; color:red;\">up free</p>|<p style=\"text-align:center; color:green;\">down free</p>|<p style=\"text-align:center; color:red;\">left free</p>|<p style=\"text-align:center; color:green;\">right free</p>|\n",
    "\n",
    "Цикл \n",
    "\n",
    "`ПОКА` $<условие>$\n",
    "\n",
    "- $ команда $\n",
    "    \n",
    "`КОНЕЦ ПОКА`\n",
    "\n",
    "выполняется, пока условие истинно, иначе происходит переход на следующую строку.\n",
    "\n",
    "Сколько клеток приведённого лабиринта соответствует требованию, что, выполнив предложенную ниже программу, \n",
    "\n",
    "РОБОТ остановится в той же клетке, с которой он начал движение?\n",
    "\n",
    "---\n",
    "\n",
    "The cycle\n",
    "\n",
    "`WHILE` $<condition>$\n",
    "\n",
    "- $command \\ sequence$\n",
    "\n",
    "`END WHILE`\n",
    "\n",
    "is executed until the condition is true, otherwise, the next line will be executed.\n",
    "\n",
    "How many cells of the given labyrinth correspond to the requirement that, after completing the program below, \n",
    "\n",
    "ROBOT will stop in the same cell with which it started moving?"
   ]
  },
  {
   "cell_type": "markdown",
   "metadata": {},
   "source": [
    "`НАЧАЛО`\n",
    "\n",
    "`ПОКА` $<слева \\; свободно>$ $влево$\n",
    "  \n",
    "`ПОКА` $<сверху \\; свободно>$ $вверх$\n",
    "\n",
    "`ПОКА` $<справа \\; свободно>$ $вправо$\n",
    "  \n",
    "`ПОКА` $<снизу \\; свободно>$ $вниз$\n",
    "\n",
    "`КОНЕЦ`\n",
    "\n",
    "---\n",
    "\n",
    "`START`\n",
    "\n",
    "`WHILE` $<left \\; free>$ $left$\n",
    "\n",
    "`WHILE` $<up \\; free>$ $up$ \n",
    "\n",
    "`WHILE` $<right \\; free>$ $right$\n",
    "  \n",
    "`WHILE` $<down \\; free>$ $down$  \n",
    "\n",
    "`END`"
   ]
  },
  {
   "cell_type": "code",
   "execution_count": 96,
   "metadata": {},
   "outputs": [
    {
     "data": {
      "image/png": "[encoded data removed]",
      "text/plain": [
       "plot without title"
      ]
     },
     "metadata": {},
     "output_type": "display_data"
    }
   ],
   "source": [
    "options(warn = -1,repr.plot.width=3,repr.plot.height=3)\n",
    "par(mar=c(2,2,2,2))\n",
    "\n",
    "plot(c(4.5,5.5,5.5,2.5,3.5),\n",
    "     c(0.5,5.5,1.5,1.5,4.5),\n",
    "     col='forestgreen',\n",
    "     pch=20,cex=2,xaxt='n',yaxt='n',\n",
    "     xlim=c(0.2,5.8),ylim=c(0.2,5.8))\n",
    "\n",
    "axis(2,las=2,tck=0,col.axis='slategray',cex.axis=1.3,\n",
    "     at=c(0.5,1.5,2.5,3.5,4.5,5.5),labels=c('1','2','3','4','5','6'))\n",
    "axis(1,las=0,tck=0,col.axis='slategray',cex.axis=1.3,\n",
    "     at=c(0.5,1.5,2.5,3.5,4.5,5.5),labels=c('A','B','C','D','E','F'))\n",
    "\n",
    "points(5.48,0.5,pch=7,cex=4.2,col='coral')\n",
    "\n",
    "seg <- c(1,0,1,1, 2,1,3,1, 3,1,3,2,\n",
    "         5,1,6,1, 1,3,2,3, 5,2,5,3,\n",
    "         1,4,1,5, 1,5,2,5, 3,5,3,6,\n",
    "         3,4,4,4, 4,4,4,5, 5,5,5,6,\n",
    "         5,5,6,5)\n",
    "\n",
    "for (i in seq(from=1, to=52, by=4)) {\n",
    "     segments(seg[i],seg[i+1],seg[i+2],seg[i+3],\n",
    "              col='slategray',lw=4)\n",
    "}\n",
    "\n",
    "box(col=\"slategray\",lwd=5)\n",
    "grid(nx=6,ny=6,col=\"slategray\",lty=\"dotted\",equilogs = TRUE)"
   ]
  },
  {
   "cell_type": "code",
   "execution_count": 233,
   "metadata": {},
   "outputs": [],
   "source": [
    "answer_dictionary[14] <- '5'"
   ]
  },
  {
   "cell_type": "markdown",
   "metadata": {},
   "source": [
    "## 15.\n",
    "На карту нанесены 4 города (A, B, C и D).\n",
    "\n",
    "Известно, что:\n",
    "\n",
    "- между городами A и C — две дороги,\n",
    "\n",
    "- между городами A и B — три дороги,\n",
    "\n",
    "- между городами B и C — четыре дороги,\n",
    "\n",
    "- между городами C и D — три дороги,\n",
    "\n",
    "- между городами B и D — три дороги.\n",
    "\n",
    "По каждой из этих дорог можно ехать в обе стороны. \n",
    "\n",
    "Сколькими различными способами можно проехать из A в D, посещая каждый город не более одного раза?\n",
    "\n",
    "---\n",
    "\n",
    "The map shows 4 cities (A, B, C and D).\n",
    "\n",
    "It is known that:\n",
    "\n",
    "- between the cities A and C - two roads,\n",
    "\n",
    "- between the cities A and B - three roads,\n",
    "\n",
    "- between cities B and C - four roads,\n",
    "\n",
    "- between cities C and D - three roads,\n",
    "\n",
    "- between cities B and D - three roads.\n",
    "\n",
    "On each of these roads you can go in both directions. \n",
    "\n",
    "How many different ways can you travel from A to D, visiting each city no more than one time?"
   ]
  },
  {
   "cell_type": "code",
   "execution_count": 58,
   "metadata": {},
   "outputs": [
    {
     "data": {
      "image/png": "[encoded data removed]",
      "text/plain": [
       "Plot with title “”"
      ]
     },
     "metadata": {},
     "output_type": "display_data"
    }
   ],
   "source": [
    "options(warn = -1,repr.plot.width=4,repr.plot.height=4)\n",
    "edges <- c('A','B', 'A','C', 'B','C', 'B','D', 'C','D')\n",
    "weights <- c(3,2,4,3,3)\n",
    "\n",
    "g <- graph(edges)%>%\n",
    "     set_edge_attr(\"weight\", value=weights)\n",
    "plot(g,layout=layout_in_circle(g),\n",
    "     vertex.color=\"steelblue\",vertex.size=30,\n",
    "     vertex.frame.color=\"gray\",vertex.shape='square',\n",
    "     edge.label=E(g)$weight,edge.label.cex=1.5,\n",
    "     edge.width=E(g)$weight,edge.arrow.size=2)"
   ]
  },
  {
   "cell_type": "markdown",
   "metadata": {},
   "source": [
    "| $Пункты \\mid Points$ | $Количество \\ вариантов \\mid Number \\ of \\ Variants$ |\n",
    "|:-:|:-:|\n",
    "| $A \\implies B \\implies D$ | $3 * 3 = 9$ |\n",
    "| $A \\implies C \\implies D$ | $2 * 3 = 6$ |\n",
    "| $A \\implies B \\implies C \\implies D$ | $3 * 4 * 3 = 36$ |\n",
    "| $A \\implies C \\implies B \\implies D$ | $2 * 4 * 3 = 24$ |\n",
    "| $Итого \\mid In \\ Total$ | $9 + 6 + 36 + 24 = 75$ |"
   ]
  },
  {
   "cell_type": "code",
   "execution_count": 46,
   "metadata": {},
   "outputs": [],
   "source": [
    "answer_dictionary[15] <- toString(3 * 3 + 2 * 3 + 3 * 4 * 3 + 2 * 4 * 3)"
   ]
  },
  {
   "cell_type": "markdown",
   "metadata": {},
   "source": [
    "## 16.\n",
    "В системе счисления с некоторым основанием десятичное число 51 записывается в виде 102. Укажите это основание.\n",
    "\n",
    "---\n",
    "\n",
    "In the number system with a certain basis, the decimal number 51 is written in the form 102. Indicate this basis."
   ]
  },
  {
   "cell_type": "markdown",
   "metadata": {},
   "source": [
    "$1 * a^2 + 0 * a^1 + 2 * a^0 = 51 \\\\\n",
    "a^2 = 49, \\ a \\in \\mathbb{N} \\\\\n",
    "a = 7$"
   ]
  },
  {
   "cell_type": "code",
   "execution_count": 56,
   "metadata": {},
   "outputs": [],
   "source": [
    "answer_dictionary[16] <- '7'"
   ]
  },
  {
   "cell_type": "markdown",
   "metadata": {},
   "source": [
    "## 17. \n",
    "В таблице приведены запросы к поисковому серверу. \n",
    "\n",
    "Расположите номера запросов в порядке возрастания количества страниц, которые найдет поисковый сервер по каждому запросу. \n",
    "\n",
    "В ответе перечислите цифры без пробелов и знаков препинания.\n",
    "\n",
    "Для обозначения логической операции $«ИЛИ»$ в запросе используется символ $ \\mid $, а для логической операции $«И»$ — $\\&$.\n",
    "\n",
    "---\n",
    "\n",
    "The table lists the requests to the search server.\n",
    "\n",
    "Arrange the request numbers in ascending order of the number of pages that the search server will find for each request.\n",
    "\n",
    "In the answer, list the numbers without spaces and punctuation marks.\n",
    "\n",
    "To indicate the logical operation $ \"OR\" $, the query uses the symbol $ \\mid $, and for the logical operation $ \"AND\" $ - $ \\& $.\n",
    "\n",
    "| № | Запрос |\n",
    "|:-:|:-:|\n",
    "| $1$ |<i style=\"font-size:130%;color:#348ABD;\" class=\"font-effect-3d\">кролики &#124; лисицы</i>|\n",
    "| $2$ |<i style=\"font-size:130%;color:#348ABD;\" class=\"font-effect-3d\"> ( зайцы &#38; кролики ) &#124; ( лисицы &#38; волки )</i>|\n",
    "| $3$ |<i style=\"font-size:130%;color:#348ABD;\" class=\"font-effect-3d\">зайцы &#38; кролики &#38; лисицы &#38; волки</i>|\n",
    "| $4$ |<i style=\"font-size:130%;color:#348ABD;\" class=\"font-effect-3d\">зайцы &#38; кролики</i>|"
   ]
  },
  {
   "cell_type": "code",
   "execution_count": 148,
   "metadata": {},
   "outputs": [
    {
     "data": {
      "image/png": "[encoded data removed]",
      "text/plain": [
       "plot without title"
      ]
     },
     "metadata": {},
     "output_type": "display_data"
    }
   ],
   "source": [
    "options(repr.plot.width=4,repr.plot.height=4)\n",
    "venn.plot <- draw.pairwise.venn(\n",
    "    area1 = 6, area2 = 6, \n",
    "    cross.area = 3, \n",
    "    category = c(\"A = зайцы & кролики\", \"B = лисицы & волки\"),\n",
    "    fill = c(\"steelblue\", \"coral\"),\n",
    "    lty = \"blank\",\n",
    "    cex = 1.5, cat.cex = 1.5,\n",
    "    cat.dist = c(0.04, 0.1), cat.pos = c(-10, 10),\n",
    "    cat.col = c(\"steelblue\", \"coral\")\n",
    ");\n",
    "grid.draw(venn.plot);\n",
    "venn.plot[[5]]$label <- \"A  &¬B\"\n",
    "venn.plot[[6]]$label <- \"B  &¬A\"\n",
    "venn.plot[[7]]$label <- \"A & B\"\n",
    "\n",
    "grid.draw(venn.plot);"
   ]
  },
  {
   "cell_type": "code",
   "execution_count": 149,
   "metadata": {},
   "outputs": [],
   "source": [
    "answer_dictionary[17] <- '3421'"
   ]
  },
  {
   "cell_type": "markdown",
   "metadata": {},
   "source": [
    "## 18.\n",
    "Какие из приведённых имён удовлетворяют логическому условию \n",
    "\n",
    "$(последняя \\ буква \\ гласная \\to вторая \\ буква \\ согласная) \\land первая \\ буква \\ согласная \\ (*)$\n",
    "\n",
    "1) ВЛАДА\n",
    "\n",
    "2) АЛИСА\n",
    "\n",
    "3) МАРИЯ\n",
    "\n",
    "4) РУСТАМ\n",
    "\n",
    "5) АРТУР\n",
    "\n",
    "В ответе перечислите номера имён в порядке возрастания без пробелов и знаков препинания.\n",
    "\n",
    "---\n",
    "\n",
    "Which of the listed names satisfy the logical condition\n",
    "\n",
    "$(the \\ last \\ letter \\ is \\ a \\ vowel \\to the \\ second \\ letter \\ is \\ a \\ consonant) \\land the \\ first \\ letter \\ is \\ a \\ consonant \\ (*)$\n",
    "\n",
    "1) ВЛАДА\n",
    "\n",
    "2) АЛИСА\n",
    "\n",
    "3) МАРИЯ\n",
    "\n",
    "4) РУСТАМ\n",
    "\n",
    "5) АРТУР\n",
    "\n",
    "In the answer, list the names in ascending order without spaces and punctuation marks."
   ]
  },
  {
   "cell_type": "markdown",
   "metadata": {},
   "source": [
    "Обозначим  $v$ - гласные буквы, $c$ - согласные.\n",
    "\n",
    "---\n",
    "\n",
    "Let's denote $v$ - vowel letters, $c$ - consonants.\n",
    "\n",
    "| Имя | Гласные и согласные буквы | Последняя буква гласная | Вторая буква согласная | Первая буква согласная | $(*)$ |\n",
    "|:-:|:-:|:-:|:-:|:-:|:-:|\n",
    "| Name | Vowel and Consonant Letters | The Last Letter Is a Vowel | The Second Letter Is a Consonant | The First Letter Is a Consonant | $(*)$ |\n",
    "| $ВЛАДА$ | `ccvcv` | 1 | 1 | 1 | $(1 \\to 1) \\land 1 = 1$ |\n",
    "| $АЛИСА$ | `vcvcv` | 1 | 1 | 0 | $(1 \\to 1) \\land 0 = 0$ |\n",
    "| $МАРИЯ$ | `cvcvv` | 1 | 0 | 1 | $(1 \\to 0) \\land 1 = 0$ |\n",
    "| $РУСТАМ$ | `cvccvc` | 0 | 0 | 1 | $(0 \\to 0) \\land 1 = 1$ |\n",
    "| $АРТУР$ | `vccvc` | 0 | 1 | 0 | $(0 \\to 1) \\land 0 = 0$ |"
   ]
  },
  {
   "cell_type": "code",
   "execution_count": 153,
   "metadata": {},
   "outputs": [],
   "source": [
    "answer_dictionary[18] <- '14'"
   ]
  },
  {
   "cell_type": "markdown",
   "metadata": {},
   "source": [
    "## 19.\n",
    "В программе используется целочисленный массив $A$ с индексами от $0$ до $9$. \n",
    "\n",
    "Значения элементов массива равны $4; 7; 6; 4; 2; 3; 5; 10; 7; 8$ соответственно, т.е. $A[0] = 4; A[1] = 7$ и т.д.\n",
    "\n",
    "Определите значение переменной $с$ после выполнения следующего фрагмента программы, \n",
    "\n",
    "записанной ниже на разных языках программирования.\n",
    "\n",
    "---\n",
    "\n",
    "The program uses an integer array $A$ with indices from $0$ to $9$.\n",
    "\n",
    "The values of the array elements are $4; 7; 6; 4; 2; 3; 5; 10; 7; 8$ respectively, i.e. $A[0] = 4; A[1] = 7$, etc.\n",
    "\n",
    "Determine the value of the variable $c$ after the next program fragment, \n",
    "\n",
    "written down below in different programming languages, is executed.\n",
    "<table style=\"width:95%;\">\n",
    "  <tr style=\"color:slategray;font-size:120%;font-family:'Roboto';\">\n",
    "    <th style=\"text-align:center;\">Python</th> \n",
    "    <th style=\"text-align:center;\">R</th>          \n",
    "  </tr>\n",
    "  <tr>\n",
    "    <td style=\"font-weight:bold;text-align:left;\"><pre><code class='python'>\n",
    "\n",
    "A = [4,7,6,4,2,3,5,10,7,8]\n",
    "c = 0\n",
    "for i in range(5): \n",
    "    if A[i] < A[9-i]:\n",
    "        c += 1\n",
    "        k = A[i]\n",
    "        A[i] = A[9-i]\n",
    "        A[9-i] = k\n",
    "    </code></pre></td> \n",
    "    <td style=\"font-weight:bold;text-align:left;\"><pre><code class='r'> \n",
    "    \n",
    "A <- c(4,7,6,4,2,3,5,10,7,8)\n",
    "c <- 0\n",
    "\n",
    "for (i in 0:4) { \n",
    "    if (A[i+1] < A[10-i]) {\n",
    "        c <- c + 1\n",
    "        k <- A[i+1]\n",
    "        A[i+1] <- A[10-i]\n",
    "        A[10-i] <- k\n",
    "    }\n",
    "}\n",
    "    </code></pre></td>     \n",
    "  </tr> \n",
    "</table>"
   ]
  },
  {
   "cell_type": "code",
   "execution_count": 155,
   "metadata": {},
   "outputs": [
    {
     "data": {
      "text/html": [
       "4"
      ],
      "text/latex": [
       "4"
      ],
      "text/markdown": [
       "4"
      ],
      "text/plain": [
       "[1] 4"
      ]
     },
     "metadata": {},
     "output_type": "display_data"
    }
   ],
   "source": [
    "A <- c(4,7,6,4,2,3,5,10,7,8)\n",
    "c <- 0\n",
    "\n",
    "for (i in 0:4) { \n",
    "    if (A[i+1] < A[10-i]) {\n",
    "        c <- c + 1\n",
    "        k <- A[i+1]\n",
    "        A[i+1] <- A[10-i]\n",
    "        A[10-i] <- k\n",
    "    }\n",
    "}\n",
    "\n",
    "c"
   ]
  },
  {
   "cell_type": "code",
   "execution_count": 156,
   "metadata": {},
   "outputs": [],
   "source": [
    "answer_dictionary[19] <- toString(c)"
   ]
  },
  {
   "cell_type": "markdown",
   "metadata": {},
   "source": [
    "## 20.\n",
    "Ниже на нескольких языках записан алгоритм. Получив на вход число х, этот алгоритм печатает число М. \n",
    "\n",
    "Укажите наибольшее чётное число х, при вводе которого алгоритм печатает 256.\n",
    "\n",
    "---\n",
    "\n",
    "Below in several languages, an algorithm is written. After receiving the number x on the input, this algorithm prints the number M.\n",
    "\n",
    "Specify the largest even number x, when typing, the algorithm prints 256.\n",
    "<table style=\"width:95%;\">\n",
    "  <tr style=\"color:slategray;font-size:120%;font-family:'Roboto';\">\n",
    "    <th style=\"text-align:center;\">Python</th> \n",
    "    <th style=\"text-align:center;\">R</th>          \n",
    "  </tr>\n",
    "  <tr>\n",
    "    <td style=\"font-weight:bold;text-align:left;\"><pre><code class='python'>\n",
    "\n",
    "x = int(input())\n",
    "L, M = 0, 1\n",
    "y = x % 10\n",
    "\n",
    "while L < x // 10:\n",
    "    M &#42;= y\n",
    "    L += 1\n",
    "\n",
    "print(M)\n",
    "    </code></pre></td> \n",
    "    <td style=\"font-weight:bold;text-align:left;\"><pre><code class='r'> \n",
    "    \n",
    "x <- as.integer(readline())\n",
    "L <-0; M <- 1\n",
    "y <- x %% 10\n",
    "\n",
    "while (L < x %/% 10){\n",
    "    M <- M &#42; y\n",
    "    L <- L + 1\n",
    "}\n",
    "\n",
    "print(M)\n",
    "    </code></pre></td>     \n",
    "  </tr> \n",
    "</table>"
   ]
  },
  {
   "cell_type": "code",
   "execution_count": 158,
   "metadata": {},
   "outputs": [
    {
     "name": "stdout",
     "output_type": "stream",
     "text": [
      "82\n",
      "[1] 256\n"
     ]
    }
   ],
   "source": [
    "x <- as.integer(readline())\n",
    "L <-0; M <- 1\n",
    "y <- x %% 10\n",
    "\n",
    "while (L < x %/% 10){\n",
    "    M <- M * y\n",
    "    L <- L + 1\n",
    "}\n",
    "\n",
    "print(M)"
   ]
  },
  {
   "cell_type": "code",
   "execution_count": 159,
   "metadata": {},
   "outputs": [
    {
     "name": "stdout",
     "output_type": "stream",
     "text": [
      "[1] \"70 0\"\n",
      "[1] \"71 1\"\n",
      "[1] \"72 128\"\n",
      "[1] \"73 2187\"\n",
      "[1] \"74 16384\"\n",
      "[1] \"75 78125\"\n",
      "[1] \"76 279936\"\n",
      "[1] \"77 823543\"\n",
      "[1] \"78 2097152\"\n",
      "[1] \"79 4782969\"\n",
      "[1] \"80 0\"\n",
      "[1] \"81 1\"\n",
      "[1] \"82 256\"\n",
      "[1] \"83 6561\"\n",
      "[1] \"84 65536\"\n",
      "[1] \"85 390625\"\n",
      "[1] \"86 1679616\"\n",
      "[1] \"87 5764801\"\n",
      "[1] \"88 16777216\"\n",
      "[1] \"89 43046721\"\n",
      "[1] \"90 0\"\n"
     ]
    },
    {
     "data": {
      "text/html": [
       "82"
      ],
      "text/latex": [
       "82"
      ],
      "text/markdown": [
       "82"
      ],
      "text/plain": [
       "[1] 82"
      ]
     },
     "metadata": {},
     "output_type": "display_data"
    }
   ],
   "source": [
    "MAX <- 0\n",
    "for (x in 70:90) {\n",
    "    L <-0; M <- 1; \n",
    "    t <- x; y <- x %% 10\n",
    "    \n",
    "    while (L < x %/% 10){\n",
    "        M <- M * y\n",
    "        L <- L + 1\n",
    "    }\n",
    "    \n",
    "    if (M == 256 & MAX < t) {\n",
    "        MAX <- t\n",
    "    }\n",
    "    print(sprintf(\"%i %i\", t, M))\n",
    "}\n",
    "\n",
    "MAX"
   ]
  },
  {
   "cell_type": "code",
   "execution_count": 160,
   "metadata": {},
   "outputs": [],
   "source": [
    "answer_dictionary[20] <- toString(MAX)"
   ]
  },
  {
   "cell_type": "markdown",
   "metadata": {},
   "source": [
    "## 21.\n",
    "Определите, какое число будет напечатано в результате выполнения следующего алгоритма \n",
    "\n",
    "(для Вашего удобства алгоритм представлен на нескольких языках):\n",
    "\n",
    "---\n",
    "\n",
    "Determine which number will be printed as a result of the following algorithm \n",
    "\n",
    "(for your convenience, the algorithm is presented in several languages):\n",
    "<table style=\"width:95%;\">\n",
    "  <tr style=\"color:slategray;font-size:120%;font-family:'Roboto';\">\n",
    "    <th style=\"text-align:center;\">Python</th> \n",
    "    <th style=\"text-align:center;\">R</th>          \n",
    "  </tr>\n",
    "  <tr>\n",
    "    <td style=\"font-weight:bold;text-align:left;\"><pre><code class='python'>\n",
    "\n",
    "def F(x):\n",
    "    return int((x &#42; x - 9) &#42; (x &#42; x - 9) - 5)\n",
    "\n",
    "a, b = -25, 25\n",
    "M, R = a, F(a)\n",
    "\n",
    "for t in range(a, b+1):\n",
    "    if F(t) < R:\n",
    "        M, R = t, F(t)\n",
    "\n",
    "print(M + 9)\n",
    "    </code></pre></td> \n",
    "    <td style=\"font-weight:bold;text-align:left;\"><pre><code class='r'> \n",
    "    \n",
    "F <- function(x) {\n",
    "        return((x &#42; x - 9) &#42; (x &#42; x - 9) - 5)\n",
    "} \n",
    "\n",
    "a <- -25; b <- 25\n",
    "M <- a; R <- F(a)\n",
    "\n",
    "for (t in a:b) {\n",
    "    if (F(t) < R) {\n",
    "        M <- t; R <- F(t) \n",
    "    }\n",
    "}\n",
    "\n",
    "print(M + 9)\n",
    "    </code></pre></td>     \n",
    "  </tr> \n",
    "</table>"
   ]
  },
  {
   "cell_type": "code",
   "execution_count": 164,
   "metadata": {},
   "outputs": [
    {
     "name": "stdout",
     "output_type": "stream",
     "text": [
      "[1] 6\n"
     ]
    }
   ],
   "source": [
    "F <- function(x) {\n",
    "        return((x * x - 9) * (x * x - 9) - 5)\n",
    "} \n",
    "\n",
    "a <- -25; b <- 25\n",
    "M <- a; R <- F(a)\n",
    "\n",
    "for (t in a:b) {\n",
    "    if (F(t) < R) {\n",
    "        M <- t; R <- F(t) \n",
    "    }\n",
    "}\n",
    "\n",
    "print(M + 9)"
   ]
  },
  {
   "cell_type": "code",
   "execution_count": 165,
   "metadata": {},
   "outputs": [],
   "source": [
    "answer_dictionary[21] <- toString(M + 9)"
   ]
  },
  {
   "cell_type": "code",
   "execution_count": 218,
   "metadata": {},
   "outputs": [
    {
     "data": {
      "image/png": "[encoded data removed]",
      "text/plain": [
       "plot without title"
      ]
     },
     "metadata": {},
     "output_type": "display_data"
    }
   ],
   "source": [
    "options(repr.plot.width=9,repr.plot.height=6)\n",
    "curve(F(x),from=-5,to=5,xlab=\"x\",ylab=\"y\",ylim=c(-10,270),lwd=2,\n",
    "      col=\"#348ABD\",label=\"(x * x - 9) * (x * x - 9) - 5\")\n",
    "abline(v=c(-3,3),col=\"darkorange\",lty=\"dotted\",lw=2)\n",
    "legend(-2.85,260,c(\"F(x) = (x * x - 9) * (x * x - 9) - 5\",\"x = -3\", \"x = 3\"),\n",
    "       lty = c(1,2,2),col=c(\"#348ABD\",\"darkorange\",\"darkorange\"),lwd=2)\n",
    "grid(nx=50,ny=28,col=\"slategray\",lty=\"dotted\")"
   ]
  },
  {
   "cell_type": "markdown",
   "metadata": {},
   "source": [
    "## 22.\n",
    "У исполнителя <i style=\"font-size:130%;color:#348ABD;\" class=\"font-effect-3d\">Кузнечик</i> две команды:\n",
    "\n",
    "1. <i style=\"font-size:130%;color:#348ABD;\" class=\"font-effect-3d\">вычти 3</i>,\n",
    "\n",
    "2. <i style=\"font-size:130%;color:#348ABD;\" class=\"font-effect-3d\">прибавь 5</i>.\n",
    "\n",
    "Первая из них уменьшает число на экране на 3, вторая — увеличивает его на 5 (отрицательные числа допускаются).\n",
    "\n",
    "Программа для <i style=\"font-size:130%;color:#348ABD;\" class=\"font-effect-3d\">Кузнечика</i> — это последовательность команд. \n",
    "\n",
    "Сколько различных чисел можно получить из числа 1 с помощью программы, которая содержит ровно 6 команд?\n",
    "\n",
    "---\n",
    "\n",
    "The performer <i style=\"font-size:130%;color:#348ABD;\" class=\"font-effect-3d\">Grasshopper</i> has two commands:\n",
    "\n",
    "1. <i style=\"font-size:130%;color:#348ABD;\" class=\"font-effect-3d\">subtract 3</i>,\n",
    "\n",
    "2. <i style=\"font-size:130%;color:#348ABD;\" class=\"font-effect-3d\">add 5</i>.\n",
    "\n",
    "The first of them reduces the number on the screen by 3, the second - increases it by 5 (negative numbers are allowed).\n",
    "\n",
    "The program for <i style=\"font-size:130%;color:#348ABD;\" class=\"font-effect-3d\">Grasshopper</i> is a sequence of commands.\n",
    "\n",
    "How many different numbers can be obtained from the number 1 using a program that contains exactly 6 commands?"
   ]
  },
  {
   "cell_type": "markdown",
   "metadata": {},
   "source": [
    "| Номер команды | Начальные значения  | -3 | +5 | Количество различных значений |\n",
    "|:-:|:-:|:-:|:-:|:-:|\n",
    "| Steps | Initial Values | -3 | +5 | Number of Different Values |\n",
    "| 1 | 1 | -2 | 6 | 3 |\n",
    "| 2 | -2, 6 | -5, 3 | 3, 11 | 6 |\n",
    "| 3 | -5, 3, 11 | -8, 0, 8 | 0, 8, 16 | 10 |\n",
    "| 4 | -8, 0, 8, 16 | -11, -3, 5, 13 | -3, 5, 13, 21 | 15 |\n",
    "| 5 | -11, -3, 5, 13, 21 | -14, -6, 2, 10, 18 | -6, 2, 10, 18, 26 | 21 |\n",
    "| 6 | -14, -6, 2, 10, 18, 26 | -17, -9, -1, 7, 15, 20 | -9, -1, 7, 15, 20, 31 | 28 |"
   ]
  },
  {
   "cell_type": "code",
   "execution_count": 219,
   "metadata": {},
   "outputs": [
    {
     "data": {
      "text/html": [
       "127"
      ],
      "text/latex": [
       "127"
      ],
      "text/markdown": [
       "127"
      ],
      "text/plain": [
       "[1] 127"
      ]
     },
     "metadata": {},
     "output_type": "display_data"
    }
   ],
   "source": [
    "x <- c(1)\n",
    "\n",
    "for (i in 0:5) {    \n",
    "    n <- as.integer(length(x) - 2 ** i + 1)\n",
    "    y <- c(); z <- c()\n",
    "    \n",
    "    for (j in n:length(x)) {\n",
    "        y <- c(y, x[j] - 3) \n",
    "        z <- c(z, x[j] + 5)\n",
    "    }\n",
    "    \n",
    "    x <- c(x, y, z)\n",
    "}\n",
    "\n",
    "length(x)"
   ]
  },
  {
   "cell_type": "code",
   "execution_count": 223,
   "metadata": {},
   "outputs": [
    {
     "data": {
      "text/plain": [
       "x\n",
       "-17 -14 -11  -9  -8  -6  -5  -3  -2  -1   0   1   2   3   5   6   7   8  10  11 \n",
       "  1   1   1   6   1   5   1   4   1  15   3   1  10   2   6   1  20   3  10   1 \n",
       " 13  15  16  18  21  23  26  31 \n",
       "  4  15   1   5   1   6   1   1 "
      ]
     },
     "metadata": {},
     "output_type": "display_data"
    }
   ],
   "source": [
    "table(x)"
   ]
  },
  {
   "cell_type": "code",
   "execution_count": 224,
   "metadata": {},
   "outputs": [],
   "source": [
    "answer_dictionary[22] <- toString(length(table(x)))"
   ]
  },
  {
   "cell_type": "markdown",
   "metadata": {},
   "source": [
    "## 23.\n",
    "Сколько существует различных наборов значений логических переменных $x_1, х_2, ... х_9, x_{10}$, \n",
    "\n",
    "которые удовлетворяют всем перечисленным ниже условиям? \n",
    "\n",
    "В ответе не нужно перечислять все различные наборы значений $x_1, х_2, ... х_9, x_{10}$, \n",
    "\n",
    "при которых выполнена данная система равенств. В качестве ответа вам нужно указать количество таких наборов.\n",
    "\n",
    "---\n",
    "\n",
    "How many different sets of values of logical variables $x_1, х_2, ... х_9, x_{10}$ \n",
    "\n",
    "exist that satisfy all the conditions listed below?\n",
    "\n",
    "In the answer it is not necessary to list all the different sets of values $x_1, х_2, ... х_9, x_{10}$ \n",
    "\n",
    "for which the given system of equations is satisfied. As an answer, you need to specify only the number of such sets.\n",
    "\n",
    "- $(x_1 \\lor \\neg x_2) \\land (x_3 \\lor \\neg x_4) = 1$  **(1)**\n",
    "- $(x_3 \\lor \\neg x_4) \\land (x_5 \\lor \\neg x_6) = 1$  **(2)**\n",
    "- $(x_5 \\lor \\neg x_6) \\land (x_7 \\lor \\neg x_8) = 1$  **(3)**\n",
    "- $(x_7 \\lor \\neg x_8) \\land (x_9 \\lor \\neg x_{10}) = 1$  **(4)**"
   ]
  },
  {
   "cell_type": "markdown",
   "metadata": {},
   "source": [
    "1) Тождество $(1)$ выполняется только в случае, если пары переменных $(x_1,x_2), (x_3, x_4)$ равны $(0,0),(1,0)$ или $(1,1)$. \n",
    "\n",
    "Если хотя бы одна из пар $(x_1,x_2), (x_3, x_4)$ равна $(0,1)$ - тождество $(1)$ не выполняется. \n",
    "\n",
    "Всего получается $9$ наборов переменных $(x_1,x_2,x_3,x_4)$, удовлетворяющих $(1)$: каждой из $3$ пар $(x_1,x_2)$ могут соответствовать $3$ пары $(x_3,x_4)$.\n",
    "\n",
    "2) Тождество $(2)$ не нарушает ни один из 9 наборов переменных первого пункта, при этом $(x_5,x_6)$ должны быть равны $(0,0),(1,0)$ или $(1,1)$. \n",
    "\n",
    "Получится $9 * 3 = 27$ вариантов $(x_1,x_2,x_3,x_4,x_5,x_6)$.\n",
    "\n",
    "3) Рассуждая аналогично, легко видеть закономерность: добавление каждой пары переменных увеличивает количество вариантов в $3$ раза. \n",
    "\n",
    "$10$ переменных образуют $5$ пар. Значит, общее количество вариантов равно $3 * 3 * 3 * 3 * 3 = 3^5 = 243$.\n",
    "\n",
    "---\n",
    "\n",
    "1) The identity $(1)$ is satisfied only if the pairs of variables $(x_1,x_2), (x_3,x_4)$ are equal to $(0,0), (1,0)$ or $(1,1)$. \n",
    "\n",
    "If at least one of the pairs $(x_1,x_2), (x_3,x_4)$ is $(0,1)$ - the identity $(1)$ is not satisfied. \n",
    "\n",
    "In total, $9$ sets of variables $(x_1,x_2,x_3,x_4)$ satisfying $(1)$ are obtained: $3$ pairs $(x_3, x_4)$ can correspond to each of the $3$ pairs $(x_1,x_2)$.\n",
    "\n",
    "2) The identity $(2)$ does not violate any of $9$ sets of variables from the first step, with $(x_5,x_6)$ being equal to $(0,0), (1,0)$ or $(1,1)$. \n",
    "\n",
    "So we get $9 * 3 = 27$ variants of $(x_1,x_2,x_3,x_4,x_5,x_6)$.\n",
    "\n",
    "3) Arguing similarly, it is easy to see the regularity: adding each pair of variables increases the number of variants by $3$ times. \n",
    "\n",
    "$10$ variables form $5$ pairs. Hence, the total number of variants is $3 * 3 * 3 * 3 * 3 = 3 ^ 5 = 243$"
   ]
  },
  {
   "cell_type": "code",
   "execution_count": 226,
   "metadata": {},
   "outputs": [
    {
     "data": {
      "text/html": [
       "243"
      ],
      "text/latex": [
       "243"
      ],
      "text/markdown": [
       "243"
      ],
      "text/plain": [
       "[1] 243"
      ]
     },
     "metadata": {},
     "output_type": "display_data"
    }
   ],
   "source": [
    "# check the decision method\n",
    "bc <- bincombinations(10)\n",
    "c <- 0\n",
    "n <- length(bc)/10\n",
    "\n",
    "logical_function <- function(k,l,m,n) {\n",
    "    (k | !l) & (m | !n)\n",
    "}\n",
    "\n",
    "for (i in 1:n){\n",
    "    el <- bc[i,]\n",
    "    e1 <- logical_function(el[1],el[2],el[3],el[4])\n",
    "    e2 <- logical_function(el[3],el[4],el[5],el[6])\n",
    "    e3 <- logical_function(el[5],el[6],el[7],el[8])\n",
    "    e4 <- logical_function(el[7],el[8],el[9],el[10])\n",
    "    \n",
    "    result <- (e1 == 1) & (e2 == 1) & (e3 == 1) & (e4 == 1)\n",
    "    \n",
    "    if (result == 1) {\n",
    "        c <- c + 1\n",
    "    }\n",
    "}\n",
    "\n",
    "c"
   ]
  },
  {
   "cell_type": "code",
   "execution_count": 227,
   "metadata": {},
   "outputs": [],
   "source": [
    "answer_dictionary[23] <- toString(c)"
   ]
  },
  {
   "cell_type": "markdown",
   "metadata": {},
   "source": [
    "## Часть 2 &nbsp; &nbsp; &nbsp; Part 2\n",
    "## 24.\n",
    "Требовалось написать программу, которая \n",
    "\n",
    "- вводит с клавиатуры координаты точки на плоскости (x, у — действительные числа) \n",
    "- и определяет принадлежность точки заштрихованной области. \n",
    "\n",
    "Программист торопился и написал программу неправильно.\n",
    "\n",
    "Последовательно выполните следующее:\n",
    "\n",
    "1) Приведите пример таких чисел х, у при которых программа работает неправильно.\n",
    "\n",
    "2) Укажите, как нужно доработать программу, чтобы не было случаев её неправильной работы. \n",
    "\n",
    "(Это можно сделать несколькими способами, поэтому можно указать любой способ доработки исходной программы).\n",
    "\n",
    "---\n",
    "\n",
    "It was required to write a program that \n",
    "\n",
    "- enters from the keyboard the coordinates of the point on the plane (x, y are real numbers) \n",
    "- and determines the belonging of the point to the shaded area. \n",
    "\n",
    "The programmer was in a hurry and wrote the program incorrectly.\n",
    "\n",
    "Do the following sequentially:\n",
    "\n",
    "1) Give an example of such numbers x, y for which the program does not work correctly.\n",
    "\n",
    "2) Indicate how you need to refine the program so that there are no cases of its improper operation. \n",
    "\n",
    "(This can be done in several ways, so you can specify any way to refine the source program).\n",
    "<table style=\"width:95%;\">\n",
    "  <tr style=\"color:slategray;font-size:120%;font-family:'Roboto';\">\n",
    "    <th style=\"text-align:center;\">Python</th> \n",
    "    <th style=\"text-align:center;\">R</th>          \n",
    "  </tr>\n",
    "  <tr>\n",
    "    <td style=\"font-weight:bold;text-align:left;\"><pre><code class='python'>\n",
    "\n",
    "import math\n",
    "x,y = float(input(\"x = \")), float(input(\"y = \"))\n",
    "if y <= math.sin(x):\n",
    "    if y >= 1 - x:\n",
    "        if y >= 0:\n",
    "            print('принадлежит')\n",
    "        else:\n",
    "            print('не принадлежит')\n",
    "    </code></pre></td> \n",
    "    <td style=\"font-weight:bold;text-align:left;\"><pre><code class='r'> \n",
    "\n",
    "x <- as.numeric(readline(\"x = \")); y <- as.numeric(readline(\"y = \"))\n",
    "\n",
    "if (y <= sin(x)) {\n",
    "    if (y >= 1 - x) {\n",
    "        if (y >= 0) {\n",
    "            print('принадлежит')\n",
    "        } else {\n",
    "            print('не принадлежит')\n",
    "        }\n",
    "    }\n",
    "}\n",
    "    </code></pre></td>     \n",
    "  </tr> \n",
    "</table>"
   ]
  },
  {
   "cell_type": "code",
   "execution_count": 229,
   "metadata": {},
   "outputs": [
    {
     "name": "stdout",
     "output_type": "stream",
     "text": [
      "x = -6\n",
      "y = 0\n"
     ]
    }
   ],
   "source": [
    "# the wrong variant\n",
    "x <- as.numeric(readline(\"x = \")); y <- as.numeric(readline(\"y = \"))\n",
    "\n",
    "if (y <= sin(x)) {\n",
    "    if (y >= 1 - x) {\n",
    "        if (y >= 0) {\n",
    "            print('принадлежит')\n",
    "        } else {\n",
    "            print('не принадлежит')\n",
    "        }\n",
    "    }\n",
    "}"
   ]
  },
  {
   "cell_type": "code",
   "execution_count": 230,
   "metadata": {},
   "outputs": [
    {
     "name": "stdout",
     "output_type": "stream",
     "text": [
      "x = -6\n",
      "y = 0\n",
      "[1] \"не принадлежит\"\n"
     ]
    }
   ],
   "source": [
    "# the right variant\n",
    "x <- as.numeric(readline(\"x = \")); y <- as.numeric(readline(\"y = \"))\n",
    "\n",
    "if ((y <= sin(x)) & (y >= 1 - x) & (y >= 0)) {\n",
    "    print('принадлежит')\n",
    "} else {\n",
    "    print('не принадлежит')\n",
    "}"
   ]
  },
  {
   "cell_type": "code",
   "execution_count": 231,
   "metadata": {},
   "outputs": [],
   "source": [
    "answer_dictionary[24] <- \"\n",
    "1.\n",
    "(-6,0)\n",
    "2.\n",
    "if (y <= sin(x)) {\n",
    "    if (y >= 1 - x) {\n",
    "        if (y >= 0) {\n",
    "⟹\n",
    "if ((y <= sin(x)) & (y >= 1 - x) & (y >= 0)) {\n",
    "\""
   ]
  },
  {
   "cell_type": "markdown",
   "metadata": {},
   "source": [
    "## 25.\n",
    "Дан целочисленный массив из 28 элементов. \n",
    "\n",
    "Элементы массива могут принимать значения от 0 до 100 — процент выполнения учащимися домашних заданий по информатике. \n",
    "\n",
    "Для получения положительной оценки за год требовалось набрать не менее 40 баллов. \n",
    "\n",
    "Опишите на русском языке или на одном из языков программирования алгоритм, который \n",
    "\n",
    "находит и выводит минимальный балл среди учащихся, получивших за год положительную оценку. \n",
    "\n",
    "Гарантируется, что в классе хотя бы один учащийся получил за год положительную оценку.\n",
    "\n",
    "Исходные данные объявлены так, как показано ниже. \n",
    "\n",
    "Запрещается использовать переменные, не описанные ниже, но разрешается не использовать часть из них.\n",
    "\n",
    "- Объявляем массив А из 28 элементов.\n",
    "\n",
    "- Объявляем целочисленные переменные I, J, MIN.\n",
    "\n",
    "- В цикле от 1 до 28 вводим элементы массива А с 1-го по 28-й.\n",
    "\n",
    "- ...\n",
    "\n",
    "В качестве ответа вам необходимо привести фрагмент программы (или описание алгоритма на естественном языке), который должен находиться на месте многоточия. \n",
    "\n",
    "Вы можете записать решение также на другом языке программирования (укажите название и используемую версию языка программирования, например `Borland Pascal 7.0`) или в виде блок-схемы. \n",
    "\n",
    "В этом случае вы должны использовать те же самые исходные данные и переменные, какие были предложены в условии (например, в образце, записанном на естественном языке).\n",
    "\n",
    "---\n",
    "\n",
    "An integer array of 28 elements is given. \n",
    "\n",
    "Elements of the array can take values from 0 to 100 - the percentage of student performing of homeworks in Computer Science. \n",
    "\n",
    "To get a positive rating for the year it is required to score at least 40 points. \n",
    "\n",
    "Describe in Russian / English or in one of the programming languages an algorithm that \n",
    "\n",
    "finds and displays the minimum score among students who received a positive evaluation for the year. \n",
    "\n",
    "It is guaranteed that in the class at least one student received a positive evaluation for the year.\n",
    "\n",
    "The original data is declared as shown below. \n",
    "\n",
    "It is forbidden to use variables not described below, but it is allowed not to use part of them.\n",
    "\n",
    "- We declare array A of 28 elements.\n",
    "\n",
    "- Declare the integer variables I, J, MIN.\n",
    "\n",
    "- In the cycle from 1 to 28, we introduce the elements of array A from the 1st to the 28th.\n",
    "\n",
    "- ...\n",
    "\n",
    "As an answer, you need to bring the program fragment (or description of the algorithm in natural language), which should be in place of the ellipsis. \n",
    "\n",
    "You can also write the solution in another programming language (specify the name and the version of the programming language used, for example `Borland Pascal 7.0`) or as a flowchart. \n",
    "\n",
    "In this case, you must use the same source data and variables that were proposed in the condition (for example, in a sample written in natural language)."
   ]
  },
  {
   "cell_type": "code",
   "execution_count": null,
   "metadata": {},
   "outputs": [],
   "source": []
  },
  {
   "cell_type": "markdown",
   "metadata": {},
   "source": [
    "## 26.\n",
    "У исполнителя <i style=\"font-size:130%;color:#348ABD;\" class=\"font-effect-3d\">Калькулятор</i> две команды, которым присвоены номера:\n",
    "\n",
    "1. <i style=\"font-size:130%;color:#348ABD;\" class=\"font-effect-3d\">прибавь 3</i>,\n",
    "\n",
    "2. <i style=\"font-size:130%;color:#348ABD;\" class=\"font-effect-3d\">умножь на 3</i>.\n",
    "\n",
    "Первая из них увеличивает число на экране на 3, вторая — утраивает его. \n",
    "\n",
    "Программа для <i style=\"font-size:130%;color:#348ABD;\" class=\"font-effect-3d\">Калькулятора</i> — это последовательность команд.\n",
    "\n",
    "Сколько есть программ, которые число 3 преобразуют в число 93?\n",
    "\n",
    "Ответ обоснуйте.\n",
    "\n",
    "---\n",
    "\n",
    "The performer <i style=\"font-size:130%;color:#348ABD;\" class=\"font-effect-3d\">Calculator</i> has two enumerated commands:\n",
    "\n",
    "1. <i style=\"font-size:130%;color:#348ABD;\" class=\"font-effect-3d\">add 3</i>,\n",
    "\n",
    "2. <i style=\"font-size:130%;color:#348ABD;\" class=\"font-effect-3d\">multiply by 3</i>.\n",
    "\n",
    "The first of them increases the number on the screen by 3, the second one - triples it. \n",
    "\n",
    "The program for <i style=\"font-size:130%;color:#348ABD;\" class=\"font-effect-3d\">Calculator</i> is a sequence of commands.\n",
    "\n",
    "How many programs are there, which converts the number 3 to the number 93?\n",
    "\n",
    "Justify the answer."
   ]
  },
  {
   "cell_type": "code",
   "execution_count": null,
   "metadata": {},
   "outputs": [],
   "source": []
  },
  {
   "cell_type": "markdown",
   "metadata": {},
   "source": [
    "## 27."
   ]
  },
  {
   "cell_type": "code",
   "execution_count": null,
   "metadata": {},
   "outputs": [],
   "source": []
  },
  {
   "cell_type": "markdown",
   "metadata": {},
   "source": [
    "## Ответы &nbsp; &nbsp; &nbsp; Answers"
   ]
  },
  {
   "cell_type": "code",
   "execution_count": 234,
   "metadata": {},
   "outputs": [
    {
     "data": {
      "text/plain": [
       "<hash> containing 24 key-value pair(s).\n",
       "  1 : 4\n",
       "  10 : 24\n",
       "  11 : 720\n",
       "  12 : CDBA\n",
       "  13 : 420\n",
       "  14 : 5\n",
       "  15 : 75\n",
       "  16 : 7\n",
       "  17 : 3421\n",
       "  18 : 14\n",
       "  19 : 4\n",
       "  2 : 135\n",
       "  20 : 82\n",
       "  21 : 6\n",
       "  22 : 28\n",
       "  23 : 243\n",
       "  24 : \n",
       "1.\n",
       "(-6,0)\n",
       "2.\n",
       "if (y <= sin(x)) {\n",
       "    if (y >= 1 - x) {\n",
       "        if (y >= 0) {\n",
       "⟹\n",
       "if ((y <= sin(x)) & (y >= 1 - x) & (y >= 0)) {\n",
       "  3 : 4\n",
       "  4 : 2\n",
       "  5 : DF4C\n",
       "  6 : C\n",
       "  7 : 6\n",
       "  8 : 20\n",
       "  9 : 32"
      ]
     },
     "metadata": {},
     "output_type": "display_data"
    }
   ],
   "source": [
    "answer_dictionary"
   ]
  },
  {
   "cell_type": "code",
   "execution_count": null,
   "metadata": {},
   "outputs": [],
   "source": []
  }
 ],
 "metadata": {
  "kernelspec": {
   "display_name": "R",
   "language": "R",
   "name": "ir"
  },
  "language_info": {
   "codemirror_mode": "r",
   "file_extension": ".r",
   "mimetype": "text/x-r-source",
   "name": "R",
   "pygments_lexer": "r",
   "version": "3.5.0"
  }
 },
 "nbformat": 4,
 "nbformat_minor": 2
}
