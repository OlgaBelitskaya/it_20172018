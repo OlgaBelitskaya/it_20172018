{
 "cells": [
  {
   "cell_type": "markdown",
   "metadata": {},
   "source": [
    "# ЕГЭ 2017 Вариант 10 &nbsp; &nbsp; &nbsp; EGE 2017 Variant 10\n",
    "[ЕГЭ-2017. Информатика.10 тренировочных вариантов. Ушаков Д.М.](https://drive.google.com/file/d/0B6696ckkWj_zS2ptblAxNERHZzQ/view)\n",
    "\n",
    "[Basic Regular Expressions in R Cheatsheet](https://www.rstudio.com/wp-content/uploads/2016/09/RegExCheatsheet.pdf)\n",
    "\n",
    "[DataFlair: R Tutorials](https://data-flair.training/blogs/category/r/)\n",
    "\n",
    "[Алгоритм Шеннона — Фано](https://ru.wikipedia.org/wiki/%D0%90%D0%BB%D0%B3%D0%BE%D1%80%D0%B8%D1%82%D0%BC_%D0%A8%D0%B5%D0%BD%D0%BD%D0%BE%D0%BD%D0%B0_%E2%80%94_%D0%A4%D0%B0%D0%BD%D0%BE)\n",
    "\n",
    "[IPv4 - Address Classes](https://www.tutorialspoint.com/ipv4/ipv4_address_classes.htm)\n",
    "\n",
    "[Basic and advanced network visualization with R](http://www.kateto.net/wp-content/uploads/2016/04/Sunbelt%202016%20R%20Network%20Visualization%20Handout.pdf)"
   ]
  },
  {
   "cell_type": "code",
   "execution_count": 3,
   "metadata": {},
   "outputs": [],
   "source": [
    "library(IRdisplay)\n",
    "library(repr)\n",
    "library(hash)\n",
    "library(numbers)\n",
    "library(e1071)\n",
    "library(igraph)\n",
    "library(VennDiagram)"
   ]
  },
  {
   "cell_type": "code",
   "execution_count": 2,
   "metadata": {},
   "outputs": [],
   "source": [
    "# install.packages(\"\")"
   ]
  },
  {
   "cell_type": "code",
   "execution_count": 4,
   "metadata": {},
   "outputs": [],
   "source": [
    "answer_dictionary <- hash()"
   ]
  },
  {
   "cell_type": "code",
   "execution_count": 5,
   "metadata": {},
   "outputs": [
    {
     "data": {
      "text/html": [
       "<style>\n",
       "@import url('https://fonts.googleapis.com/css?family=Roboto&effect=3d|fire-animation|canvas-print|brick-sign');\n",
       "body {background-color: aliceblue;} \n",
       "a {color: #4876ff; font-family: 'Roboto';} \n",
       "h1 {color: #348ABD; font-family: 'Roboto'; text-shadow: 4px 4px 4px #aaa;} \n",
       "h2, h3 {color: gray; font-family: 'Roboto'; text-shadow: 4px 4px 4px #aaa;}\n",
       "h4 {color: #348ABD; font-family: 'Roboto';}\n",
       "span {text-shadow: 4px 4px 4px #aaa;}\n",
       "div.output_prompt, div.output_area pre, div.output_subarea {color: gray;}\n",
       "div.input_prompt {color: #4876ff;}      \n",
       "div.output_stderr pre {background-color: aliceblue;}  \n",
       "div.output_stderr {background-color: gray;}                        \n",
       "</style>"
      ]
     },
     "metadata": {},
     "output_type": "display_data"
    }
   ],
   "source": [
    "display_html(\"<style>\n",
    "@import url('https://fonts.googleapis.com/css?family=Roboto&effect=3d|fire-animation|canvas-print|brick-sign');\n",
    "body {background-color: aliceblue;} \n",
    "a {color: #4876ff; font-family: 'Roboto';} \n",
    "h1 {color: #348ABD; font-family: 'Roboto'; text-shadow: 4px 4px 4px #aaa;} \n",
    "h2, h3 {color: gray; font-family: 'Roboto'; text-shadow: 4px 4px 4px #aaa;}\n",
    "h4 {color: #348ABD; font-family: 'Roboto';}\n",
    "span {text-shadow: 4px 4px 4px #aaa;}\n",
    "div.output_prompt, div.output_area pre, div.output_subarea {color: gray;}\n",
    "div.input_prompt {color: #4876ff;}      \n",
    "div.output_stderr pre {background-color: aliceblue;}  \n",
    "div.output_stderr {background-color: gray;}                        \n",
    "</style>\")"
   ]
  },
  {
   "cell_type": "markdown",
   "metadata": {},
   "source": [
    "## Часть 1 &nbsp; &nbsp; &nbsp; Part 1\n",
    "## 1.\n",
    "\n",
    "Сколько единиц в двоичной записи числа 197?\n",
    "\n",
    "How many units are in the binary record of the number 197?"
   ]
  },
  {
   "cell_type": "code",
   "execution_count": 7,
   "metadata": {},
   "outputs": [
    {
     "data": {
      "text/html": [
       "197"
      ],
      "text/latex": [
       "197"
      ],
      "text/markdown": [
       "197"
      ],
      "text/plain": [
       "[1] 197"
      ]
     },
     "metadata": {},
     "output_type": "display_data"
    }
   ],
   "source": [
    "2 ** 7 + 2 ** 6 + 2 ** 2 + 2 ** 0"
   ]
  },
  {
   "cell_type": "markdown",
   "metadata": {},
   "source": [
    "Всего 4 ненулевых коэффициента степеней числа 2 в бинарной форме числа 197.\n",
    "\n",
    "There are 4 nonzero coefficients of powers of 2 in the binary form of the number 197."
   ]
  },
  {
   "cell_type": "code",
   "execution_count": 9,
   "metadata": {},
   "outputs": [],
   "source": [
    "options(scipen = 999)\n",
    "dec2bin <- function(n) {\n",
    "  if (n == 0) {\n",
    "      bv <- '0'\n",
    "  } else {\n",
    "      bv <- rep(0, 1 + floor(log(n, 2)))\n",
    "      while (n >= 2) {\n",
    "          pow <- floor(log(n, 2))\n",
    "          bv[1 + pow] <- 1\n",
    "          n <- n - 2^pow\n",
    "      }\n",
    "      bv[1] <- n %% 2\n",
    "      paste(rev(bv), collapse = \"\")\n",
    "  }\n",
    "}"
   ]
  },
  {
   "cell_type": "code",
   "execution_count": 10,
   "metadata": {},
   "outputs": [
    {
     "data": {
      "text/html": [
       "'11000101'"
      ],
      "text/latex": [
       "'11000101'"
      ],
      "text/markdown": [
       "'11000101'"
      ],
      "text/plain": [
       "[1] \"11000101\""
      ]
     },
     "metadata": {},
     "output_type": "display_data"
    }
   ],
   "source": [
    "dec2bin(197)"
   ]
  },
  {
   "cell_type": "code",
   "execution_count": 11,
   "metadata": {},
   "outputs": [
    {
     "data": {
      "text/html": [
       "'1111'"
      ],
      "text/latex": [
       "'1111'"
      ],
      "text/markdown": [
       "'1111'"
      ],
      "text/plain": [
       "[1] \"1111\""
      ]
     },
     "metadata": {},
     "output_type": "display_data"
    }
   ],
   "source": [
    "gsub(\"0\",\"\",dec2bin(197))"
   ]
  },
  {
   "cell_type": "code",
   "execution_count": 12,
   "metadata": {},
   "outputs": [
    {
     "data": {
      "text/html": [
       "4"
      ],
      "text/latex": [
       "4"
      ],
      "text/markdown": [
       "4"
      ],
      "text/plain": [
       "[1] 4"
      ]
     },
     "metadata": {},
     "output_type": "display_data"
    }
   ],
   "source": [
    "n <- nchar(gsub(\"0\",\"\",dec2bin(197)))\n",
    "n"
   ]
  },
  {
   "cell_type": "code",
   "execution_count": 13,
   "metadata": {},
   "outputs": [],
   "source": [
    "answer_dictionary[1] <- toString(n)"
   ]
  },
  {
   "cell_type": "markdown",
   "metadata": {},
   "source": [
    "## 2.\n",
    "Дан фрагмент таблицы истинности выражения F, зависящего от трёх аргументов X, Y, Z:\n",
    "\n",
    "---\n",
    "\n",
    "A fragment of the truth table for the expression F, depending on the three arguments X, Y, Z, is given:\n",
    "\n",
    "| $X$ | $Y$ | $Z$ | $F$ |\n",
    "| :-: | :-: | :-: | :-: |\n",
    "| 0 | 0 | 1 | 0 |\n",
    "| 1 | 1 | 0 | 1 |\n",
    "| 0 | 1 | 1 | 0 |\n",
    "\n",
    "Перечислите в порядке возрастания без запятых и пробелов номера логических выражений, которые соответствуют F:\n",
    "\n",
    "---\n",
    "\n",
    "List in ascending order without commas and spaces the numbers of logical expressions that correspond to F:\n",
    "\n",
    "$ 1) \\ X \\land Y \\lor \\neg Z$\n",
    "\n",
    "$ 2) \\ \\neg X \\land \\neg Y \\land \\neg Z$\n",
    "\n",
    "$ 3) \\ X \\land Y \\land \\neg Z$\n",
    "\n",
    "$ 4) \\ X \\lor Y \\lor \\neg Z$\n",
    "\n",
    "$ 5) \\ X \\lor Y \\land \\neg Z$"
   ]
  },
  {
   "cell_type": "code",
   "execution_count": 15,
   "metadata": {},
   "outputs": [],
   "source": [
    "bc <- matrix(c(0,0,1, 1,1,0, 0,1,1), \n",
    "             nrow=3, ncol=3, byrow = TRUE)\n",
    "\n",
    "F <- function(X, Y, Z, I) {\n",
    "    if (I == 1) {return(X & Y | !Z)}\n",
    "    if (I == 2) {return(!X & !Y & !Z)}\n",
    "    if (I == 3) {return(X & Y & !Z)}\n",
    "    if (I == 4) {return(X | Y | !Z)}    \n",
    "    if (I == 5) {return(X | Y & !Z)}    \n",
    "}"
   ]
  },
  {
   "cell_type": "code",
   "execution_count": 17,
   "metadata": {},
   "outputs": [
    {
     "name": "stdout",
     "output_type": "stream",
     "text": [
      "[1] 1\n",
      "[1] 3\n",
      "[1] 5\n"
     ]
    }
   ],
   "source": [
    "for (i in 1:5){\n",
    "    result <- vector(length=3)\n",
    "    for (j in 1:3) {\n",
    "        result[j] <- F(bc[j,1],bc[j,2],bc[j,3],i)\n",
    "    }\n",
    "    if (all(result == c(FALSE,TRUE,FALSE))){\n",
    "        print(i)\n",
    "    }\n",
    "}"
   ]
  },
  {
   "cell_type": "code",
   "execution_count": 18,
   "metadata": {},
   "outputs": [],
   "source": [
    "answer_dictionary[2] <- '135'"
   ]
  },
  {
   "cell_type": "markdown",
   "metadata": {},
   "source": [
    "## 3.\n",
    "<div style=\"width: 800px; height: 450px; overflow:auto;\">\n",
    "    <img src=\"it_images/2017_10_03.png\" width=\"800\" height=\"450\"/>\n",
    "</div>"
   ]
  },
  {
   "cell_type": "markdown",
   "metadata": {},
   "source": [
    "В таблице приведена стоимость перевозок между соседними железнодорожными станциями. \n",
    "\n",
    "Перечислите в порядке возрастания, без пробелов и запятых, номера схем, соответствующих таблице.\n",
    "\n",
    "---\n",
    "\n",
    "The table shows the cost of transportation between neighboring railway stations. \n",
    "\n",
    "In ascending order, without spaces or commas, list the schema numbers corresponding to the table.\n",
    "\n",
    "| &#x123CF; | A | B | C | D | E |\n",
    "|:-:|:-:|:-:|:-:|:-:|:-:|:-:|\n",
    "| **A** | &#x123CF; | 2 |   |   |   |\n",
    "| **B** | 2 | &#x123CF; | 5 | 4 |   |\n",
    "| **C** |   | 5 | &#x123CF; | 7 | 3 |\n",
    "| **D** |   | 4 | 7  | &#x123CF; |   |\n",
    "| **E** |   |   | 3 |  | &#x123CF; |\n"
   ]
  },
  {
   "cell_type": "code",
   "execution_count": 20,
   "metadata": {},
   "outputs": [],
   "source": [
    "edges <- c('A','B', 'B','C', 'B','D',\n",
    "           'C','D', 'C','E')\n",
    "weights <- c(2,5,4,7,3)\n",
    "g <- graph(edges, directed=FALSE)%>%\n",
    "    set_edge_attr(\"weight\", value=weights)"
   ]
  },
  {
   "cell_type": "code",
   "execution_count": 21,
   "metadata": {},
   "outputs": [
    {
     "data": {
      "text/html": [
       "<table>\n",
       "<thead><tr><th></th><th scope=col>A</th><th scope=col>B</th><th scope=col>C</th><th scope=col>D</th><th scope=col>E</th></tr></thead>\n",
       "<tbody>\n",
       "\t<tr><th scope=row>A</th><td>0</td><td>2</td><td>0</td><td>0</td><td>0</td></tr>\n",
       "\t<tr><th scope=row>B</th><td>2</td><td>0</td><td>5</td><td>4</td><td>0</td></tr>\n",
       "\t<tr><th scope=row>C</th><td>0</td><td>5</td><td>0</td><td>7</td><td>3</td></tr>\n",
       "\t<tr><th scope=row>D</th><td>0</td><td>4</td><td>7</td><td>0</td><td>0</td></tr>\n",
       "\t<tr><th scope=row>E</th><td>0</td><td>0</td><td>3</td><td>0</td><td>0</td></tr>\n",
       "</tbody>\n",
       "</table>\n"
      ],
      "text/latex": [
       "\\begin{tabular}{r|lllll}\n",
       "  & A & B & C & D & E\\\\\n",
       "\\hline\n",
       "\tA & 0 & 2 & 0 & 0 & 0\\\\\n",
       "\tB & 2 & 0 & 5 & 4 & 0\\\\\n",
       "\tC & 0 & 5 & 0 & 7 & 3\\\\\n",
       "\tD & 0 & 4 & 7 & 0 & 0\\\\\n",
       "\tE & 0 & 0 & 3 & 0 & 0\\\\\n",
       "\\end{tabular}\n"
      ],
      "text/markdown": [
       "\n",
       "| <!--/--> | A | B | C | D | E | \n",
       "|---|---|---|---|---|\n",
       "| A | 0 | 2 | 0 | 0 | 0 | \n",
       "| B | 2 | 0 | 5 | 4 | 0 | \n",
       "| C | 0 | 5 | 0 | 7 | 3 | \n",
       "| D | 0 | 4 | 7 | 0 | 0 | \n",
       "| E | 0 | 0 | 3 | 0 | 0 | \n",
       "\n",
       "\n"
      ],
      "text/plain": [
       "  A B C D E\n",
       "A 0 2 0 0 0\n",
       "B 2 0 5 4 0\n",
       "C 0 5 0 7 3\n",
       "D 0 4 7 0 0\n",
       "E 0 0 3 0 0"
      ]
     },
     "metadata": {},
     "output_type": "display_data"
    }
   ],
   "source": [
    "adjm <- get.adjacency(g, attr=\"weight\",sparse=FALSE)\n",
    "adjm[sort(rownames(adjm)),sort(colnames(adjm))]"
   ]
  },
  {
   "cell_type": "code",
   "execution_count": 76,
   "metadata": {},
   "outputs": [
    {
     "data": {
      "image/png": "[encoded data removed]",
      "text/plain": [
       "Plot with title “”"
      ]
     },
     "metadata": {},
     "output_type": "display_data"
    }
   ],
   "source": [
    "options(repr.plot.width=4,repr.plot.height=4)\n",
    "\n",
    "plot(g, layout=layout_in_circle(g),\n",
    "     vertex.color=\"steelblue\",vertex.frame.color=\"gray\",vertex.size=7,\n",
    "     vertex.label.cex=1.2,vertex.label.dist=2,vertex.label.degree=c(0,4.8,3.8,2.2,1.2),\n",
    "     edge.color=\"gray\",edge.width=1.5,\n",
    "     edge.label=E(g)$weight,edge.label.cex=1.2)"
   ]
  },
  {
   "cell_type": "code",
   "execution_count": 77,
   "metadata": {},
   "outputs": [],
   "source": [
    "answer_dictionary[3] <- '4'"
   ]
  },
  {
   "cell_type": "markdown",
   "metadata": {},
   "source": [
    "## 4.\n",
    "Для групповых операций с файлами используются маски имён файлов. \n",
    "\n",
    "Маска представляет собой последовательность букв, цифр и прочих допустимых в именах файлов символов, \n",
    "\n",
    "в которой также могут встречаться следующие символы.\n",
    "\n",
    "Символ `«?»` (вопросительный знак) означает ровно один произвольный символ.\n",
    "\n",
    "Символ `«*»` (звёздочка) означает любую последовательность символов произвольной длины, в том числе `«*»` может задавать и пустую последовательность.\n",
    "\n",
    "В каталоге находятся шесть файлов:\n",
    "\n",
    "`boom.pas`, `bloom.ppt`, `loom.pas`, `bottom.pdf`, `bom.pps`, `boom.ppt`.\n",
    "\n",
    "Ниже представлено восемь масок. Сколько из них таких, которым соответствует ровно четыре файла из данного каталога?\n",
    "\n",
    "`?oo*m.p*`, `b*o*om.p??`, `*o*om.p*?`, `b*om.p?*`, `*.*p*`, `bo*m.???`, `*om.*p*`, `*o*o*.p*?`.\n",
    "\n",
    "---\n",
    "\n",
    "For group operations with files, masks of file names are used.\n",
    "\n",
    "A mask is a sequence of letters, numbers and other permissible characters in file names, \n",
    "\n",
    "in which the following characters can also occur.\n",
    "\n",
    "The symbol `«?»` (question mark) means exactly one arbitrary character.\n",
    "\n",
    "The symbol `«*»` (asterisk) stands for any sequence of characters of arbitrary length, including `«*»`, which can also specify an empty sequence.\n",
    "\n",
    "There are six files in the directory:\n",
    "\n",
    "`boom.pas`, `bloom.ppt`, `loom.pas`, `bottom.pdf`, `bom.pps`, `boom.ppt`.\n",
    "\n",
    "Here are eight masks. How many of them are those to which exactly four files from this catalog correspond?\n",
    "\n",
    "`?oo*m.p*`, `b*o*om.p??`, `*o*om.p*?`, `b*om.p?*`, `*.*p*`, `bo*m.???`, `*om.*p*`, `*o*o*.p*?`."
   ]
  },
  {
   "cell_type": "code",
   "execution_count": 78,
   "metadata": {},
   "outputs": [
    {
     "data": {
      "text/html": [
       "<table>\n",
       "<thead><tr><th scope=col>file_list</th><th scope=col>mask_1</th><th scope=col>mask_2</th><th scope=col>mask_3</th><th scope=col>mask_4</th><th scope=col>mask_5</th><th scope=col>mask_6</th><th scope=col>mask_7</th><th scope=col>mask_8</th></tr></thead>\n",
       "<tbody>\n",
       "\t<tr><td>boom.pas  </td><td> TRUE     </td><td> TRUE     </td><td> TRUE     </td><td> TRUE     </td><td>TRUE      </td><td> TRUE     </td><td>TRUE      </td><td> TRUE     </td></tr>\n",
       "\t<tr><td>bloom.ppt </td><td>FALSE     </td><td> TRUE     </td><td> TRUE     </td><td> TRUE     </td><td>TRUE      </td><td>FALSE     </td><td>TRUE      </td><td> TRUE     </td></tr>\n",
       "\t<tr><td>loom.pas  </td><td> TRUE     </td><td>FALSE     </td><td> TRUE     </td><td>FALSE     </td><td>TRUE      </td><td>FALSE     </td><td>TRUE      </td><td> TRUE     </td></tr>\n",
       "\t<tr><td>bottom.pdf</td><td>FALSE     </td><td> TRUE     </td><td> TRUE     </td><td> TRUE     </td><td>TRUE      </td><td> TRUE     </td><td>TRUE      </td><td> TRUE     </td></tr>\n",
       "\t<tr><td>bom.pps   </td><td>FALSE     </td><td>FALSE     </td><td>FALSE     </td><td> TRUE     </td><td>TRUE      </td><td> TRUE     </td><td>TRUE      </td><td>FALSE     </td></tr>\n",
       "\t<tr><td>boom.ppt  </td><td> TRUE     </td><td> TRUE     </td><td> TRUE     </td><td> TRUE     </td><td>TRUE      </td><td> TRUE     </td><td>TRUE      </td><td> TRUE     </td></tr>\n",
       "</tbody>\n",
       "</table>\n"
      ],
      "text/latex": [
       "\\begin{tabular}{r|lllllllll}\n",
       " file\\_list & mask\\_1 & mask\\_2 & mask\\_3 & mask\\_4 & mask\\_5 & mask\\_6 & mask\\_7 & mask\\_8\\\\\n",
       "\\hline\n",
       "\t boom.pas   &  TRUE      &  TRUE      &  TRUE      &  TRUE      & TRUE       &  TRUE      & TRUE       &  TRUE     \\\\\n",
       "\t bloom.ppt  & FALSE      &  TRUE      &  TRUE      &  TRUE      & TRUE       & FALSE      & TRUE       &  TRUE     \\\\\n",
       "\t loom.pas   &  TRUE      & FALSE      &  TRUE      & FALSE      & TRUE       & FALSE      & TRUE       &  TRUE     \\\\\n",
       "\t bottom.pdf & FALSE      &  TRUE      &  TRUE      &  TRUE      & TRUE       &  TRUE      & TRUE       &  TRUE     \\\\\n",
       "\t bom.pps    & FALSE      & FALSE      & FALSE      &  TRUE      & TRUE       &  TRUE      & TRUE       & FALSE     \\\\\n",
       "\t boom.ppt   &  TRUE      &  TRUE      &  TRUE      &  TRUE      & TRUE       &  TRUE      & TRUE       &  TRUE     \\\\\n",
       "\\end{tabular}\n"
      ],
      "text/markdown": [
       "\n",
       "file_list | mask_1 | mask_2 | mask_3 | mask_4 | mask_5 | mask_6 | mask_7 | mask_8 | \n",
       "|---|---|---|---|---|---|\n",
       "| boom.pas   |  TRUE      |  TRUE      |  TRUE      |  TRUE      | TRUE       |  TRUE      | TRUE       |  TRUE      | \n",
       "| bloom.ppt  | FALSE      |  TRUE      |  TRUE      |  TRUE      | TRUE       | FALSE      | TRUE       |  TRUE      | \n",
       "| loom.pas   |  TRUE      | FALSE      |  TRUE      | FALSE      | TRUE       | FALSE      | TRUE       |  TRUE      | \n",
       "| bottom.pdf | FALSE      |  TRUE      |  TRUE      |  TRUE      | TRUE       |  TRUE      | TRUE       |  TRUE      | \n",
       "| bom.pps    | FALSE      | FALSE      | FALSE      |  TRUE      | TRUE       |  TRUE      | TRUE       | FALSE      | \n",
       "| boom.ppt   |  TRUE      |  TRUE      |  TRUE      |  TRUE      | TRUE       |  TRUE      | TRUE       |  TRUE      | \n",
       "\n",
       "\n"
      ],
      "text/plain": [
       "  file_list  mask_1 mask_2 mask_3 mask_4 mask_5 mask_6 mask_7 mask_8\n",
       "1 boom.pas    TRUE   TRUE   TRUE   TRUE  TRUE    TRUE  TRUE    TRUE \n",
       "2 bloom.ppt  FALSE   TRUE   TRUE   TRUE  TRUE   FALSE  TRUE    TRUE \n",
       "3 loom.pas    TRUE  FALSE   TRUE  FALSE  TRUE   FALSE  TRUE    TRUE \n",
       "4 bottom.pdf FALSE   TRUE   TRUE   TRUE  TRUE    TRUE  TRUE    TRUE \n",
       "5 bom.pps    FALSE  FALSE  FALSE   TRUE  TRUE    TRUE  TRUE   FALSE \n",
       "6 boom.ppt    TRUE   TRUE   TRUE   TRUE  TRUE    TRUE  TRUE    TRUE "
      ]
     },
     "metadata": {},
     "output_type": "display_data"
    }
   ],
   "source": [
    "file_list <- c('boom.pas', 'bloom.ppt', 'loom.pas', \n",
    "               'bottom.pdf', 'bom.pps', 'boom.ppt')\n",
    "mask_list <- c('?oo*m.p*', 'b*o*om.p??', '*o*om.p*?', 'b*om.p?*',\n",
    "               '*.*p*', 'bo*m.???', '*om.*p*', '*o*o*.p*?')\n",
    "\n",
    "df <- data.frame(file_list=file_list,\n",
    "                 mask_1=grepl(\"^.oo.*m\\\\.p.*$\", file_list), \n",
    "                 mask_2=grepl(\"^b.*o.*om\\\\.p..$\", file_list), \n",
    "                 mask_3=grepl(\"^.*o.*om\\\\.p.*.$\", file_list), \n",
    "                 mask_4=grepl(\"^b.*om\\\\.p..*$\", file_list),\n",
    "                 mask_5=grepl(\"^.*\\\\..*p.*$\", file_list), \n",
    "                 mask_6=grepl(\"^bo.*m\\\\....$\", file_list), \n",
    "                 mask_7=grepl(\"^.*om\\\\..*p.*$\", file_list), \n",
    "                 mask_8=grepl(\"^.*o.*o.*\\\\.p.*.$\", file_list))\n",
    "df"
   ]
  },
  {
   "cell_type": "code",
   "execution_count": 79,
   "metadata": {},
   "outputs": [
    {
     "name": "stdout",
     "output_type": "stream",
     "text": [
      "[1] \"?oo*m.p*\"\n",
      "[1] 3\n",
      "[1] \"b*o*om.p??\"\n",
      "[1] 4\n",
      "[1] \"*o*om.p*?\"\n",
      "[1] 5\n",
      "[1] \"b*om.p?*\"\n",
      "[1] 5\n",
      "[1] \"*.*p*\"\n",
      "[1] 6\n",
      "[1] \"bo*m.???\"\n",
      "[1] 4\n",
      "[1] \"*om.*p*\"\n",
      "[1] 6\n",
      "[1] \"*o*o*.p*?\"\n",
      "[1] 5\n"
     ]
    },
    {
     "data": {
      "text/html": [
       "2"
      ],
      "text/latex": [
       "2"
      ],
      "text/markdown": [
       "2"
      ],
      "text/plain": [
       "[1] 2"
      ]
     },
     "metadata": {},
     "output_type": "display_data"
    }
   ],
   "source": [
    "c <- 0\n",
    "for (i in 2:9) {\n",
    "    print(mask_list[i-1]); \n",
    "    print(length(df[1:6,i][df[1:6,i]==TRUE]))\n",
    "    \n",
    "    if (length(df[1:6,i][df[1:6,i]==TRUE]) == 4) {\n",
    "        c <- c + 1\n",
    "    }\n",
    "}\n",
    "\n",
    "c"
   ]
  },
  {
   "cell_type": "code",
   "execution_count": 80,
   "metadata": {},
   "outputs": [],
   "source": [
    "answer_dictionary[4] <- toString(c)"
   ]
  },
  {
   "cell_type": "markdown",
   "metadata": {},
   "source": [
    "## 5.\n",
    "Через канал связи передаётся сообщение, состоящее только из символов А, Б, В и Г. \n",
    "\n",
    "Эти символы кодируются неравномерным (по длине) кодом: <i style=\"font-size:150%;color:#348ABD;\" class=\"font-effect-3d\">A-0, Б-10, В-110, Г-111</i>. \n",
    "\n",
    "Исходное сообщение: <i style=\"font-size:150%;color:#348ABD;\" class=\"font-effect-3d\">ВГВБАВА</i>. \n",
    "\n",
    "Закодируйте сообщение приведенным кодом. \n",
    "\n",
    "Полученную последовательность переведите в шестнадцатеричный вид. \n",
    "\n",
    "В ответе запишите последовательность шестнадцатеричных цифр без запятых.\n",
    "\n",
    "---\n",
    "\n",
    "A message is sent through the communication channel, it consists only of symbols А, Б, В and Г.\n",
    "\n",
    "These symbols are encoded unequally (along with the length) by code: <i style=\"font-size:150%;color:#348ABD;\" class=\"font-effect-3d\">A-0, Б-10, В-110, Г-111</i>.\n",
    "\n",
    "The initial message: <i style=\"font-size:150%;color:#348ABD;\" class=\"font-effect-3d\">ВГВБАВА</i>.\n",
    "\n",
    "Encode the message with this code. \n",
    "\n",
    "Obtain the resulting sequence in a hexadecimal form. \n",
    "\n",
    "In the answer, write down the sequence of hexadecimal digits without commas."
   ]
  },
  {
   "cell_type": "code",
   "execution_count": 83,
   "metadata": {},
   "outputs": [
    {
     "data": {
      "text/html": [
       "<ol class=list-inline>\n",
       "\t<li>'В'</li>\n",
       "\t<li>'Г'</li>\n",
       "\t<li>'В'</li>\n",
       "\t<li>'Б'</li>\n",
       "\t<li>'А'</li>\n",
       "\t<li>'В'</li>\n",
       "\t<li>'А'</li>\n",
       "</ol>\n"
      ],
      "text/latex": [
       "\\begin{enumerate*}\n",
       "\\item 'В'\n",
       "\\item 'Г'\n",
       "\\item 'В'\n",
       "\\item 'Б'\n",
       "\\item 'А'\n",
       "\\item 'В'\n",
       "\\item 'А'\n",
       "\\end{enumerate*}\n"
      ],
      "text/markdown": [
       "1. 'В'\n",
       "2. 'Г'\n",
       "3. 'В'\n",
       "4. 'Б'\n",
       "5. 'А'\n",
       "6. 'В'\n",
       "7. 'А'\n",
       "\n",
       "\n"
      ],
      "text/plain": [
       "[1] \"В\" \"Г\" \"В\" \"Б\" \"А\" \"В\" \"А\""
      ]
     },
     "metadata": {},
     "output_type": "display_data"
    }
   ],
   "source": [
    "string <- unlist(strsplit('ВГВБАВА',NULL))\n",
    "string"
   ]
  },
  {
   "cell_type": "code",
   "execution_count": 100,
   "metadata": {},
   "outputs": [
    {
     "data": {
      "text/html": [
       "'1101111101001100'"
      ],
      "text/latex": [
       "'1101111101001100'"
      ],
      "text/markdown": [
       "'1101111101001100'"
      ],
      "text/plain": [
       "[1] \"1101111101001100\""
      ]
     },
     "metadata": {},
     "output_type": "display_data"
    }
   ],
   "source": [
    "string <- unlist(strsplit('ВГВБАВА',NULL))\n",
    "codes <- c('0', '10', '110', '111')\n",
    "symbols <- c('А', 'Б', 'В', 'Г')\n",
    "result <- ''\n",
    "\n",
    "for (el in string) {\n",
    "    for (i in 1:4){\n",
    "        if (el == symbols[i]) {\n",
    "            result <- paste(result,codes[i],sep='')\n",
    "        }\n",
    "    }\n",
    "}\n",
    "\n",
    "result"
   ]
  },
  {
   "cell_type": "markdown",
   "metadata": {},
   "source": [
    "Четыре цифры в бинарной системе соответствуют одной цифре в шестнадцатеричной системе.\n",
    "\n",
    "The four digits in the binary system correspond to one digit in the hexadecimal system.\n",
    "\n",
    "$1101_2 = 2^3 + 2^2 + 2^0 = 13_{10} = D_{16}$\n",
    "\n",
    "$1111_2 = 2^3 + 2^2 + 2^1 + 2^0 = 15_{10} = F_{16}$\n",
    "\n",
    "$0100_2 = 2^2 = 4_{10} = 4_{16}$\n",
    "\n",
    "$1100_2 = 2^3 + 2^2 = 12_{10} = C_{16}$\n",
    "\n",
    "$1101111101001100_2 = DF4C_{16}$"
   ]
  },
  {
   "cell_type": "code",
   "execution_count": 101,
   "metadata": {},
   "outputs": [],
   "source": [
    "bin2dec <- function(n) {\n",
    "  return(sapply(strsplit(as.character(n),split=\"\"), \n",
    "                function(x) sum(as.numeric(x) * 2 ** (rev(seq_along(x) - 1)))))\n",
    "} "
   ]
  },
  {
   "cell_type": "code",
   "execution_count": 102,
   "metadata": {},
   "outputs": [
    {
     "data": {
      "text/html": [
       "57164"
      ],
      "text/latex": [
       "57164"
      ],
      "text/markdown": [
       "57164"
      ],
      "text/plain": [
       "[1] 57164"
      ]
     },
     "metadata": {},
     "output_type": "display_data"
    }
   ],
   "source": [
    "dec_result <- bin2dec(result)\n",
    "dec_result "
   ]
  },
  {
   "cell_type": "code",
   "execution_count": 103,
   "metadata": {},
   "outputs": [],
   "source": [
    "answer_dictionary[5] <- toupper(as.hexmode(dec_result))"
   ]
  },
  {
   "cell_type": "markdown",
   "metadata": {},
   "source": [
    "## 6.\n",
    "Предлагается некоторая операция над двумя произвольными трёхзначными десятичными числами:\n",
    "\n",
    "$1.$ Записывается результат сложения значений старших разрядов заданных чисел.\n",
    "\n",
    "$2.$ К нему дописывается результат сложения значений средних разрядов этих чисел по такому правилу: если он меньше первой суммы, то второе полученное число приписывается к первому слева, иначе — справа.\n",
    "\n",
    "$3.$ Итоговое число получают приписыванием справа к полученному после второго шага числу суммы значений младших разрядов исходных чисел.\n",
    "\n",
    "Какие из предложенных чисел могут быть результатом такой операции?\n",
    "\n",
    "Перечислите в алфавитном порядке буквы, соответствующие этим числам, без пробелов и знаков препинания.\n",
    "\n",
    "---\n",
    "\n",
    "The operation on two arbitrary three-digit decimal numbers is sopposed by this way:\n",
    "\n",
    "$1.$ The result of the addition of the highest digits in the given numbers is written down.\n",
    "\n",
    "$2.$ The result of the addition of the mean digits is written near to it by this rule: if it is less than the first sum, then the second obtained number is joined to the first from the left, otherwise - from the right.\n",
    "\n",
    "$3.$ The final number is obtained by joining from the right the sum of the lowest digits of the original numbers to the number written after the second step.\n",
    "\n",
    "Which of the suggested numbers can be the result of this operation?\n",
    "\n",
    "List in alphabetical order the letters corresponding to these numbers, without spaces and punctuation marks.\n",
    "\n",
    "$A) \\ 171412$\n",
    "\n",
    "$B) \\ 121419$\n",
    "\n",
    "$C) \\ 81714$\n",
    "\n",
    "$D) \\ 15117$\n",
    "\n",
    "$E) \\ 4809$"
   ]
  },
  {
   "cell_type": "markdown",
   "metadata": {},
   "source": [
    "$A) \\ 171412$\n",
    "\n",
    "Содержит 6 символов, значит результатом сложения каждой пары цифр было двузначное число (17, 14, 12). Но 17 больше 14, а первые две суммы должны быть в возрастающем порядке.\n",
    "\n",
    "---\n",
    "\n",
    "Contains 6 symbols, therefore the result of addition of each pair of digits was a two-digit number (17, 14, 12). But 17 is more than 14, and the first two sums should be in ascending order.\n",
    "\n",
    "$B) \\ 121419$\n",
    "\n",
    "Содержит 6 символов, значит результатом сложения каждой пары цифр было двузначное число (12, 14, 19). Но 19 не может быть получено путем сложения двух цифр.\n",
    "\n",
    "---\n",
    "\n",
    "Contains 6 symbols, therefore the result of addition of each pair of digits was a two-digit number (12, 14, 19). But 19 can not be obtained by adding two digits.\n",
    "\n",
    "$C) \\ 81714 \\to 8, 17, 14 \\to 497, 487$\n",
    "\n",
    "\n",
    "$D) \\ 15117$\n",
    "\n",
    "Содержит 5 символов, значит результатом сложения одной пары цифр было однозначное число 7 или 1 в середине. Но 15 больше 11 или 1, а первые две суммы должны быть в возрастающем порядке.\n",
    "\n",
    "---\n",
    "\n",
    "Contains 5 characters, so the result of adding one pair of digits was a single digit: 7 or 1 in the middle. But 15 is more than 11 or 1, and the first two sums should be in ascending order.\n",
    "\n",
    "$E) \\ 4809$\n",
    "\n",
    "Невозможно разбить на три суммы пар цифр: 4,8,09; 48,0,9; 4,80,9.\n",
    "\n",
    "---\n",
    "\n",
    "It is impossible to break down into sums of digit pairs: 4,8,09; 48,0,9; 4,80,9."
   ]
  },
  {
   "cell_type": "code",
   "execution_count": 104,
   "metadata": {},
   "outputs": [],
   "source": [
    "answer_dictionary[6] <- 'C'"
   ]
  },
  {
   "cell_type": "markdown",
   "metadata": {},
   "source": [
    "## 7.\n",
    "В электронной таблице значение формулы `=СРЗНАЧ(А3:D4)` равно 5. \n",
    "\n",
    "Чему равно значение формулы `=СРЗНАЧ(А3:С4)`, если значение формулы `=СУММ(D3:D4)` равно 4?\n",
    "\n",
    "---\n",
    "\n",
    "In the spreadsheet, the value of the formula `=AVERAGE(A3:D4)` is 5.\n",
    "\n",
    "What is the value of the formula `=AVERAGE(A3:C4)` if the value of the formula `=SUM(D3:D4)` is 4?\n",
    "\n",
    "[Google Sheet](https://drive.google.com/open?id=178gvK3PdsrJH7TTnXQKJrJxwXiG69NWkl0FSCU7NZSs)\n",
    "\n",
    "<div style=\"width: 800px; height: 250px; overflow:auto;\">\n",
    "    <img src=\"it_images/2017_10_07a.png\" width=\"800\" height=\"250\"/>\n",
    "</div>"
   ]
  },
  {
   "cell_type": "code",
   "execution_count": 106,
   "metadata": {},
   "outputs": [
    {
     "data": {
      "text/html": [
       "6"
      ],
      "text/latex": [
       "6"
      ],
      "text/markdown": [
       "6"
      ],
      "text/plain": [
       "[1] 6"
      ]
     },
     "metadata": {},
     "output_type": "display_data"
    }
   ],
   "source": [
    "AVERAGE_A3_D4 <- 5; SUM_D3_D4 <- 4\n",
    "AVERAGE_A3_C4 <- as.integer((8 * AVERAGE_A3_D4 - SUM_D3_D4) / 6)\n",
    "AVERAGE_A3_C4"
   ]
  },
  {
   "cell_type": "code",
   "execution_count": 107,
   "metadata": {},
   "outputs": [],
   "source": [
    "answer_dictionary[7] <- toString(AVERAGE_A3_C4)"
   ]
  },
  {
   "cell_type": "markdown",
   "metadata": {},
   "source": [
    "## 8.\n",
    "Определите, что будет напечатано в результате выполнения следующего фрагмента программы:\n",
    "\n",
    "Determine what will be printed as a result of execution of the following program fragment:\n",
    "<table style=\"width:95%;\">\n",
    "  <tr style=\"font-size:150%;color:#348ABD;\" class=\"font-effect-3d\">\n",
    "    <th style=\"text-align:center;\">Python</th> \n",
    "    <th style=\"text-align:center;\">R</th>          \n",
    "  </tr>\n",
    "  <tr>\n",
    "    <td style=\"font-weight:bold;text-align:left;\"><pre><code class='python'>\n",
    "\n",
    "k,s = 0,5\n",
    "while s < 205:\n",
    "    s += 10\n",
    "    k += 1\n",
    "\n",
    "print (k)\n",
    "    </code></pre></td> \n",
    "    <td style=\"font-weight:bold;text-align:left;\"><pre><code class='r'> \n",
    "    \n",
    "k <- 0; s <- 5\n",
    "\n",
    "while (s < 205) {\n",
    "    s <- s + 10\n",
    "    k <- k + 1\n",
    "}\n",
    "\n",
    "print(k)\n",
    "    </code></pre></td>     \n",
    "  </tr> \n",
    "  <tr style=\"font-size:150%;color:#348ABD;\" class=\"font-effect-3d\">\n",
    "    <th style=\"text-align:center;\">BASIC</th> \n",
    "    <th style=\"text-align:center;\">Pascal</th>          \n",
    "  </tr>\n",
    "  <tr>\n",
    "    <td style=\"font-weight:bold;text-align:left;\"><pre><code class='basic'>\n",
    "\n",
    "DIM k, s AS INTEGER\n",
    "k = 0\n",
    "s = 5\n",
    "WHILE s < 205\n",
    "    s = s + 10\n",
    "    k = k + 1\n",
    "WEND\n",
    "PRINT k\n",
    "    </code></pre></td> \n",
    "    <td style=\"font-weight:bold;text-align:left;\"><pre><code class='pascal'> \n",
    "    \n",
    "var k, s : integer;\n",
    "begin\n",
    "    k := 0;\n",
    "    s := 5;\n",
    "    while s < 205 do\n",
    "        s := s + 10;\n",
    "        k := k + 1;\n",
    "    end;\n",
    "    write(k);\n",
    "end.\n",
    "    </code></pre></td>     \n",
    "  </tr>    \n",
    "  <tr style=\"font-size:150%;color:#348ABD;\" class=\"font-effect-3d\">\n",
    "    <th style=\"text-align:center;\">C</th> \n",
    "    <th style=\"text-align:center;\">Natural Language Programming</th>          \n",
    "  </tr>\n",
    "  <tr>\n",
    "    <td style=\"font-weight:bold;text-align:left;\"><pre><code class='c'>\n",
    "\n",
    "{\n",
    "    int k, s;\n",
    "    k = 0;\n",
    "    s = 5;\n",
    "    while (s < 205)\n",
    "    {\n",
    "        s = s + 10;\n",
    "        k = k + 1;\n",
    "    } \n",
    "    printf(\"%d\", k);\n",
    "}\n",
    "    </code></pre></td> \n",
    "    <td style=\"font-weight:bold;text-align:left;\"><pre><code class='nlp'> \n",
    "    \n",
    "нач\n",
    "    цел k, s\n",
    "    k := 0\n",
    "    s := 5\n",
    "    нц пока s < 205\n",
    "        s := s + 10\n",
    "        k := k + 1\n",
    "    кц\n",
    "    вывод k\n",
    "кон\n",
    "    </code></pre></td>     \n",
    "  </tr>      \n",
    "</table>"
   ]
  },
  {
   "cell_type": "code",
   "execution_count": 109,
   "metadata": {},
   "outputs": [
    {
     "name": "stdout",
     "output_type": "stream",
     "text": [
      "[1] 20\n"
     ]
    }
   ],
   "source": [
    "k <- 0; s <- 5\n",
    "\n",
    "while (s < 205) {\n",
    "    s <- s + 10\n",
    "    k <- k + 1\n",
    "}\n",
    "\n",
    "print(k)"
   ]
  },
  {
   "cell_type": "code",
   "execution_count": 110,
   "metadata": {},
   "outputs": [],
   "source": [
    "answer_dictionary[8] <- toString(k)"
   ]
  },
  {
   "cell_type": "markdown",
   "metadata": {},
   "source": [
    "## 9.\n",
    "Скольких различных цветов (наибольшее количество) могут быть пиксели неупакованного растрового изображения, \n",
    "\n",
    "имеющего размер 1024X256 пикселей и занимающего на диске 160 килобайт?\n",
    "\n",
    "---\n",
    "\n",
    "How many different colors (the largest number) can be the pixels of the unpacked raster image, \n",
    "\n",
    "which has a size of 1024X256 pixels and occupies 160 KB on the disk?"
   ]
  },
  {
   "cell_type": "code",
   "execution_count": null,
   "metadata": {},
   "outputs": [],
   "source": []
  },
  {
   "cell_type": "code",
   "execution_count": null,
   "metadata": {},
   "outputs": [],
   "source": []
  },
  {
   "cell_type": "code",
   "execution_count": null,
   "metadata": {},
   "outputs": [],
   "source": []
  },
  {
   "cell_type": "markdown",
   "metadata": {},
   "source": [
    "## Ответы &nbsp; &nbsp; &nbsp; Answers"
   ]
  },
  {
   "cell_type": "code",
   "execution_count": 112,
   "metadata": {},
   "outputs": [
    {
     "data": {
      "text/plain": [
       "<hash> containing 8 key-value pair(s).\n",
       "  1 : 4\n",
       "  2 : 135\n",
       "  3 : 4\n",
       "  4 : 2\n",
       "  5 : DF4C\n",
       "  6 : C\n",
       "  7 : 6\n",
       "  8 : 20"
      ]
     },
     "metadata": {},
     "output_type": "display_data"
    }
   ],
   "source": [
    "answer_dictionary"
   ]
  },
  {
   "cell_type": "code",
   "execution_count": null,
   "metadata": {},
   "outputs": [],
   "source": []
  }
 ],
 "metadata": {
  "kernelspec": {
   "display_name": "R",
   "language": "R",
   "name": "ir"
  },
  "language_info": {
   "codemirror_mode": "r",
   "file_extension": ".r",
   "mimetype": "text/x-r-source",
   "name": "R",
   "pygments_lexer": "r",
   "version": "3.5.0"
  }
 },
 "nbformat": 4,
 "nbformat_minor": 2
}
