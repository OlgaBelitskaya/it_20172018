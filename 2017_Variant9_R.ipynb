{
 "cells": [
  {
   "cell_type": "markdown",
   "metadata": {},
   "source": [
    "# ЕГЭ 2017 Вариант 9 &nbsp; &nbsp; &nbsp; EGE 2017 Variant 9\n",
    "[ЕГЭ-2017. Информатика.10 тренировочных вариантов. Ушаков Д.М.](https://drive.google.com/file/d/0B6696ckkWj_zS2ptblAxNERHZzQ/view)\n",
    "\n",
    "[Basic Regular Expressions in R Cheatsheet](https://www.rstudio.com/wp-content/uploads/2016/09/RegExCheatsheet.pdf)\n",
    "\n",
    "[DataFlair: R Tutorials](https://data-flair.training/blogs/category/r/)\n",
    "\n",
    "[Алгоритм Шеннона — Фано](https://ru.wikipedia.org/wiki/%D0%90%D0%BB%D0%B3%D0%BE%D1%80%D0%B8%D1%82%D0%BC_%D0%A8%D0%B5%D0%BD%D0%BD%D0%BE%D0%BD%D0%B0_%E2%80%94_%D0%A4%D0%B0%D0%BD%D0%BE)\n",
    "\n",
    "[IPv4 - Address Classes](https://www.tutorialspoint.com/ipv4/ipv4_address_classes.htm)\n",
    "\n",
    "[Basic and advanced network visualization with R](http://www.kateto.net/wp-content/uploads/2016/04/Sunbelt%202016%20R%20Network%20Visualization%20Handout.pdf)"
   ]
  },
  {
   "cell_type": "code",
   "execution_count": 2,
   "metadata": {},
   "outputs": [],
   "source": [
    "library(IRdisplay)\n",
    "library(repr)\n",
    "library(hash)\n",
    "library(numbers)\n",
    "library(e1071)\n",
    "library(igraph)\n",
    "library(VennDiagram)"
   ]
  },
  {
   "cell_type": "code",
   "execution_count": 3,
   "metadata": {},
   "outputs": [],
   "source": [
    "# install.packages(\"\")"
   ]
  },
  {
   "cell_type": "code",
   "execution_count": 4,
   "metadata": {},
   "outputs": [],
   "source": [
    "answer_dictionary <- hash()"
   ]
  },
  {
   "cell_type": "code",
   "execution_count": 41,
   "metadata": {},
   "outputs": [
    {
     "data": {
      "text/html": [
       "<style>\n",
       "@import url('https://fonts.googleapis.com/css?family=Roboto&effect=3d|fire-animation|canvas-print|brick-sign');\n",
       "body {background-color: aliceblue;} \n",
       "a {color: #4876ff; font-family: 'Roboto';} \n",
       "h1 {color: #348ABD; font-family: 'Roboto'; text-shadow: 4px 4px 4px #aaa;} \n",
       "h2, h3 {color: gray; font-family: 'Roboto'; text-shadow: 4px 4px 4px #aaa;}\n",
       "h4 {color: #348ABD; font-family: 'Roboto';}\n",
       "span {text-shadow: 4px 4px 4px #aaa;}\n",
       "div.output_prompt, div.output_area pre, div.output_subarea {color: gray;}\n",
       "div.input_prompt {color: #4876ff;}      \n",
       "div.output_stderr pre {background-color: aliceblue;}  \n",
       "div.output_stderr {background-color: gray;}                        \n",
       "</style>"
      ]
     },
     "metadata": {},
     "output_type": "display_data"
    }
   ],
   "source": [
    "display_html(\"<style>\n",
    "@import url('https://fonts.googleapis.com/css?family=Roboto&effect=3d|fire-animation|canvas-print|brick-sign');\n",
    "body {background-color: aliceblue;} \n",
    "a {color: #4876ff; font-family: 'Roboto';} \n",
    "h1 {color: #348ABD; font-family: 'Roboto'; text-shadow: 4px 4px 4px #aaa;} \n",
    "h2, h3 {color: gray; font-family: 'Roboto'; text-shadow: 4px 4px 4px #aaa;}\n",
    "h4 {color: #348ABD; font-family: 'Roboto';}\n",
    "span {text-shadow: 4px 4px 4px #aaa;}\n",
    "div.output_prompt, div.output_area pre, div.output_subarea {color: gray;}\n",
    "div.input_prompt {color: #4876ff;}      \n",
    "div.output_stderr pre {background-color: aliceblue;}  \n",
    "div.output_stderr {background-color: gray;}                        \n",
    "</style>\")"
   ]
  },
  {
   "cell_type": "markdown",
   "metadata": {},
   "source": [
    "## Часть 1 &nbsp; &nbsp; &nbsp; Part 1\n",
    "## 1.\n",
    "Сколько существует различных 3-значных чисел в десятичной системе счисления?\n",
    "\n",
    "How many different 3-digit numbers exist in the decimal system?"
   ]
  },
  {
   "cell_type": "code",
   "execution_count": 6,
   "metadata": {},
   "outputs": [],
   "source": [
    "answer_dictionary[1] <- toString(1000 - 100)"
   ]
  },
  {
   "cell_type": "markdown",
   "metadata": {},
   "source": [
    "## 2.\n",
    "Дан фрагмент таблицы истинности выражения $F$, зависящего от трёх логических переменных $x_1, x_2, x_3$. \n",
    "\n",
    "Значения в пустых клетках таблицы неизвестны и могут быть любыми из возможных.\n",
    "\n",
    "---\n",
    "\n",
    "A fragment of the truth table of the expression $F$, depending on three logical variables $x_1, x_2, x_3$, is given.\n",
    "\n",
    "Values in blank cells are unknown and can be any of the possible ones.\n",
    "\n",
    "| $x_1$ | $x_2$ | $x_3$ | F |\n",
    "| :-: | :-: | :-: | :-: |\n",
    "| 0 |   |   | 0 |\n",
    "| 1 | 1 | 0 | 0 |\n",
    "\n",
    "Перечислите в порядке возрастания без запятых и пробелов номера логических выражений, которые могут соответствовать F:\n",
    "\n",
    "---\n",
    "\n",
    "List in ascending order without commas and spaces the numbers of logical expressions that can correspond to F:\n",
    "\n",
    "1) $\\neg x_1 \\land \\neg x_2 \\land x_3$\n",
    "\n",
    "2) $x_1 \\lor \\neg x_2 \\lor x_3$\n",
    "\n",
    "3) $\\neg x_1 \\land x_2 \\land x_3$\n",
    "\n",
    "4) $\\neg x_1 \\lor \\neg x_2 \\lor x_3$\n",
    "\n",
    "5) $x_1 \\land x_2 \\land \\neg x_3$"
   ]
  },
  {
   "cell_type": "code",
   "execution_count": 22,
   "metadata": {},
   "outputs": [],
   "source": [
    "F1 <- function(x1,x2,x3) {return (!x1 & !x2 & x3)}\n",
    "F2 <- function(x1,x2,x3) {return (x1 | !x2 | x3)}\n",
    "F3 <- function(x1,x2,x3) {return (!x1 & x2 & x3)}\n",
    "F4 <- function(x1,x2,x3) {return (!x1 | !x2 | x3)}\n",
    "F5 <- function(x1,x2,x3) {return (x1 & x2 & !x3)}"
   ]
  },
  {
   "cell_type": "code",
   "execution_count": 23,
   "metadata": {},
   "outputs": [],
   "source": [
    "find_logic_exp <- function(f) {\n",
    "    c <- 0\n",
    "    \n",
    "    if (f(0,0,0) == 0 | f(0,0,1) == 0 | f(0,1,0) == 0 | f(0,1,1) == 0) {\n",
    "        c <- c + 1\n",
    "    }\n",
    "    if (f(1,1,0) == 0) {\n",
    "        c <- c + 1\n",
    "    }\n",
    "\n",
    "    if (c == 2) {\n",
    "        return(TRUE)\n",
    "    } else {\n",
    "        return(FALSE)\n",
    "    }\n",
    "}"
   ]
  },
  {
   "cell_type": "code",
   "execution_count": 24,
   "metadata": {},
   "outputs": [
    {
     "data": {
      "text/html": [
       "'13'"
      ],
      "text/latex": [
       "'13'"
      ],
      "text/markdown": [
       "'13'"
      ],
      "text/plain": [
       "[1] \"13\""
      ]
     },
     "metadata": {},
     "output_type": "display_data"
    }
   ],
   "source": [
    "c <- 0\n",
    "result <- ''\n",
    "\n",
    "for (f in c(F1,F2,F3,F4,F5)) {\n",
    "    c <- c + 1\n",
    "    if (find_logic_exp(f) == TRUE) {\n",
    "        result <- paste(result,toString(c),sep='')\n",
    "    }\n",
    "}\n",
    "result"
   ]
  },
  {
   "cell_type": "code",
   "execution_count": 25,
   "metadata": {},
   "outputs": [],
   "source": [
    "answer_dictionary[2] <- result"
   ]
  },
  {
   "cell_type": "markdown",
   "metadata": {},
   "source": [
    "## 3.\n",
    "Между населёнными пунктами $A, B, C, D, E, F$ построены дороги, протяжённость которых приведена в таблице. \n",
    "\n",
    "(Отсутствие числа в таблице означает, что прямой дороги между пунктами нет.)\n",
    "\n",
    "Определите длину кратчайшего пути между пунктами $A$ и $F$ (при условии, что передвигаться можно только по построенным дорогам).\n",
    "\n",
    "---\n",
    "\n",
    "Between the settlements $A, B, C, D, E, F$ roads are constructed, the lengths of which are given in the table.\n",
    "\n",
    "(The absence of a number in the table means that there is no direct road between points.)\n",
    "\n",
    "Determine the length of the shortest path between points $A$ and $F$ (provided that you can only move along the constructed roads).\n",
    "\n",
    "| &#x123CF; | A | B | C | D | E | F |\n",
    "|:-:|:-:|:-:|:-:|:-:|:-:|:-:|\n",
    "| **A** | &#x123CF; | 3 | 8 |   |   | 16 |\n",
    "| **B** | 3 | &#x123CF; | 4 | 7 |   |   |\n",
    "| **C** | 8 | 4 | &#x123CF; | 2 | 6 |   |\n",
    "| **D** |   | 7 | 2 | &#x123CF; | 5 | 4 |\n",
    "| **E** |   |   | 6 | 5 | &#x123CF; | 2 |\n",
    "| **F** | 16 |   |   | 4 | 2 | &#x123CF; |"
   ]
  },
  {
   "cell_type": "code",
   "execution_count": 26,
   "metadata": {},
   "outputs": [],
   "source": [
    "edges <- c('A','B', 'A','C', 'A','F', 'B','C', 'B','D',\n",
    "           'C','D', 'C','E', 'D','E', 'D','F', 'E','F')\n",
    "weights <- c(3,8,16,4,7,2,6,5,4,2)\n",
    "g <- graph(edges, directed=FALSE)%>%\n",
    "    set_edge_attr(\"weight\", value=weights)\n",
    "\n",
    "shortest_path <- get.shortest.paths(g,'A','F')"
   ]
  },
  {
   "cell_type": "code",
   "execution_count": 27,
   "metadata": {},
   "outputs": [
    {
     "data": {
      "text/html": [
       "<table>\n",
       "<thead><tr><th></th><th scope=col>A</th><th scope=col>B</th><th scope=col>C</th><th scope=col>D</th><th scope=col>E</th><th scope=col>F</th></tr></thead>\n",
       "<tbody>\n",
       "\t<tr><th scope=row>A</th><td> 0</td><td>3 </td><td>8 </td><td>0 </td><td>0 </td><td>16</td></tr>\n",
       "\t<tr><th scope=row>B</th><td> 3</td><td>0 </td><td>4 </td><td>7 </td><td>0 </td><td> 0</td></tr>\n",
       "\t<tr><th scope=row>C</th><td> 8</td><td>4 </td><td>0 </td><td>2 </td><td>6 </td><td> 0</td></tr>\n",
       "\t<tr><th scope=row>D</th><td> 0</td><td>7 </td><td>2 </td><td>0 </td><td>5 </td><td> 4</td></tr>\n",
       "\t<tr><th scope=row>E</th><td> 0</td><td>0 </td><td>6 </td><td>5 </td><td>0 </td><td> 2</td></tr>\n",
       "\t<tr><th scope=row>F</th><td>16</td><td>0 </td><td>0 </td><td>4 </td><td>2 </td><td> 0</td></tr>\n",
       "</tbody>\n",
       "</table>\n"
      ],
      "text/latex": [
       "\\begin{tabular}{r|llllll}\n",
       "  & A & B & C & D & E & F\\\\\n",
       "\\hline\n",
       "\tA &  0 & 3  & 8  & 0  & 0  & 16\\\\\n",
       "\tB &  3 & 0  & 4  & 7  & 0  &  0\\\\\n",
       "\tC &  8 & 4  & 0  & 2  & 6  &  0\\\\\n",
       "\tD &  0 & 7  & 2  & 0  & 5  &  4\\\\\n",
       "\tE &  0 & 0  & 6  & 5  & 0  &  2\\\\\n",
       "\tF & 16 & 0  & 0  & 4  & 2  &  0\\\\\n",
       "\\end{tabular}\n"
      ],
      "text/markdown": [
       "\n",
       "| <!--/--> | A | B | C | D | E | F | \n",
       "|---|---|---|---|---|---|\n",
       "| A |  0 | 3  | 8  | 0  | 0  | 16 | \n",
       "| B |  3 | 0  | 4  | 7  | 0  |  0 | \n",
       "| C |  8 | 4  | 0  | 2  | 6  |  0 | \n",
       "| D |  0 | 7  | 2  | 0  | 5  |  4 | \n",
       "| E |  0 | 0  | 6  | 5  | 0  |  2 | \n",
       "| F | 16 | 0  | 0  | 4  | 2  |  0 | \n",
       "\n",
       "\n"
      ],
      "text/plain": [
       "  A  B C D E F \n",
       "A  0 3 8 0 0 16\n",
       "B  3 0 4 7 0  0\n",
       "C  8 4 0 2 6  0\n",
       "D  0 7 2 0 5  4\n",
       "E  0 0 6 5 0  2\n",
       "F 16 0 0 4 2  0"
      ]
     },
     "metadata": {},
     "output_type": "display_data"
    }
   ],
   "source": [
    "adjm <- get.adjacency(g, attr=\"weight\",sparse=FALSE)\n",
    "adjm[sort(rownames(adjm)),sort(colnames(adjm))]"
   ]
  },
  {
   "cell_type": "code",
   "execution_count": 111,
   "metadata": {},
   "outputs": [
    {
     "data": {
      "image/png": "[encoded data removed]",
      "text/plain": [
       "Plot with title “”"
      ]
     },
     "metadata": {},
     "output_type": "display_data"
    }
   ],
   "source": [
    "options(repr.plot.width=7,repr.plot.height=7)\n",
    "\n",
    "E(g)$color <- \"gray\"\n",
    "E(g, path=unlist(shortest_path$vpath))$color <- \"darkorange\"\n",
    "\n",
    "plot(g, layout=layout_nicely(g),\n",
    "     vertex.color=\"steelblue\",vertex.size=30,vertex.frame.color=\"gray\",\n",
    "     edge.label=E(g)$weight,edge.label.cex=1.5,edge.width=E(g)$weight)"
   ]
  },
  {
   "cell_type": "code",
   "execution_count": 29,
   "metadata": {},
   "outputs": [
    {
     "data": {
      "text/plain": [
       "+ 5/6 vertices, named, from 6bba7a8:\n",
       "[1] A B C D F"
      ]
     },
     "metadata": {},
     "output_type": "display_data"
    }
   ],
   "source": [
    "shortest_path$vpath[[1]]"
   ]
  },
  {
   "cell_type": "code",
   "execution_count": 35,
   "metadata": {},
   "outputs": [
    {
     "data": {
      "text/html": [
       "<table>\n",
       "<thead><tr><th></th><th scope=col>A</th><th scope=col>B</th><th scope=col>C</th><th scope=col>D</th><th scope=col>E</th><th scope=col>F</th></tr></thead>\n",
       "<tbody>\n",
       "\t<tr><th scope=row>A</th><td> 0</td><td> 3</td><td>7 </td><td>9 </td><td>13</td><td>13</td></tr>\n",
       "\t<tr><th scope=row>B</th><td> 3</td><td> 0</td><td>4 </td><td>6 </td><td>10</td><td>10</td></tr>\n",
       "\t<tr><th scope=row>C</th><td> 7</td><td> 4</td><td>0 </td><td>2 </td><td> 6</td><td> 6</td></tr>\n",
       "\t<tr><th scope=row>D</th><td> 9</td><td> 6</td><td>2 </td><td>0 </td><td> 5</td><td> 4</td></tr>\n",
       "\t<tr><th scope=row>E</th><td>13</td><td>10</td><td>6 </td><td>5 </td><td> 0</td><td> 2</td></tr>\n",
       "\t<tr><th scope=row>F</th><td>13</td><td>10</td><td>6 </td><td>4 </td><td> 2</td><td> 0</td></tr>\n",
       "</tbody>\n",
       "</table>\n"
      ],
      "text/latex": [
       "\\begin{tabular}{r|llllll}\n",
       "  & A & B & C & D & E & F\\\\\n",
       "\\hline\n",
       "\tA &  0 &  3 & 7  & 9  & 13 & 13\\\\\n",
       "\tB &  3 &  0 & 4  & 6  & 10 & 10\\\\\n",
       "\tC &  7 &  4 & 0  & 2  &  6 &  6\\\\\n",
       "\tD &  9 &  6 & 2  & 0  &  5 &  4\\\\\n",
       "\tE & 13 & 10 & 6  & 5  &  0 &  2\\\\\n",
       "\tF & 13 & 10 & 6  & 4  &  2 &  0\\\\\n",
       "\\end{tabular}\n"
      ],
      "text/markdown": [
       "\n",
       "| <!--/--> | A | B | C | D | E | F | \n",
       "|---|---|---|---|---|---|\n",
       "| A |  0 |  3 | 7  | 9  | 13 | 13 | \n",
       "| B |  3 |  0 | 4  | 6  | 10 | 10 | \n",
       "| C |  7 |  4 | 0  | 2  |  6 |  6 | \n",
       "| D |  9 |  6 | 2  | 0  |  5 |  4 | \n",
       "| E | 13 | 10 | 6  | 5  |  0 |  2 | \n",
       "| F | 13 | 10 | 6  | 4  |  2 |  0 | \n",
       "\n",
       "\n"
      ],
      "text/plain": [
       "  A  B  C D E  F \n",
       "A  0  3 7 9 13 13\n",
       "B  3  0 4 6 10 10\n",
       "C  7  4 0 2  6  6\n",
       "D  9  6 2 0  5  4\n",
       "E 13 10 6 5  0  2\n",
       "F 13 10 6 4  2  0"
      ]
     },
     "metadata": {},
     "output_type": "display_data"
    }
   ],
   "source": [
    "d <- distances(g)\n",
    "d[sort(rownames(d)),sort(colnames(d))]"
   ]
  },
  {
   "cell_type": "code",
   "execution_count": 31,
   "metadata": {},
   "outputs": [],
   "source": [
    "answer_dictionary[3] <- distances(g,'A','F')"
   ]
  },
  {
   "cell_type": "markdown",
   "metadata": {},
   "source": [
    "## 4.\n",
    "Для групповых операций с файлами используются маски имён файлов. \n",
    "\n",
    "Маска представляет собой последовательность букв, цифр и прочих допустимых в именах файлов символов, в которой также могут встречаться следующие символы.\n",
    "\n",
    "Символ <i style=\"font-size:170%;\" class=\"font-effect-fire-animation\">«?»</i> &nbsp; (вопросительный знак) означает ровно один произвольный символ.\n",
    "\n",
    "Символ <i style=\"font-size:170%;\" class=\"font-effect-fire-animation\">«&#42;»</i> &nbsp; (звёздочка) означает любую последовательность символов произвольной длины, в том числе <i style=\"font-size:170%;\" class=\"font-effect-fire-animation\">«&#42;»</i> &nbsp; может задавать и пустую последовательность.\n",
    "\n",
    "Имеется список из нескольких масок:\n",
    "    \n",
    "`*to*.?*a*`, `*sto??.*`, `?*to*.???`, `a*to*m.*?a`.\n",
    "\n",
    "Определите, какие из указанных файлов будут отобраны по ровно трём из приведённых масок:\n",
    "\n",
    "1) `astorm.aa`, 2) `anastom.bra`, 3) `apostorm.mka`, 4) `abrasto2m.abc`.\n",
    "\n",
    "В ответе перечислите номера файлов в порядке возрастания без пробелов и знаков препинания.\n",
    "\n",
    "---\n",
    "\n",
    "For group operations with files, masks of file names are used. \n",
    "\n",
    "A mask is a sequence of letters, numbers and other permissible characters in file names, in which the following characters can also occur.\n",
    "\n",
    "The symbol <i style=\"font-size:170%;\" class=\"font-effect-fire-animation\">«?»</i> &nbsp; (question mark) means exactly one arbitrary symbol.\n",
    "\n",
    "The symbol <i style=\"font-size:170%;\" class=\"font-effect-fire-animation\">«&#42;»</i> &nbsp; (asterisk) means any character sequence of an arbitrary length, including the case when <i style=\"font-size:170%;\" class=\"font-effect-fire-animation\">«&#42;»</i> &nbsp; can specify an empty sequence.\n",
    "\n",
    "There is a list of several masks:\n",
    "\n",
    "`*to*.?*a*`, `*sto??.*`, `?*to*.???`, `a*to*m.*?a`.\n",
    "\n",
    "Determine which of the specified files will be selected on exactly three of the given masks:\n",
    "\n",
    "1) `astorm.aa`, 2) `anastom.bra`, 3) `apostorm.mka`, 4) `abrasto2m.abc`.\n",
    "\n",
    "In the answer, list file numbers in ascending order without spaces and punctuation marks."
   ]
  },
  {
   "cell_type": "code",
   "execution_count": 47,
   "metadata": {},
   "outputs": [
    {
     "data": {
      "text/html": [
       "<table>\n",
       "<thead><tr><th scope=col>file_list</th><th scope=col>mask_1</th><th scope=col>mask_2</th><th scope=col>mask_3</th><th scope=col>mask_4</th></tr></thead>\n",
       "<tbody>\n",
       "\t<tr><td>astorm.aa    </td><td> TRUE        </td><td> TRUE        </td><td>FALSE        </td><td> TRUE        </td></tr>\n",
       "\t<tr><td>anastom.bra  </td><td> TRUE        </td><td>FALSE        </td><td> TRUE        </td><td> TRUE        </td></tr>\n",
       "\t<tr><td>apostorm.mka </td><td> TRUE        </td><td> TRUE        </td><td> TRUE        </td><td> TRUE        </td></tr>\n",
       "\t<tr><td>abrasto2m.abc</td><td>FALSE        </td><td> TRUE        </td><td> TRUE        </td><td>FALSE        </td></tr>\n",
       "</tbody>\n",
       "</table>\n"
      ],
      "text/latex": [
       "\\begin{tabular}{r|lllll}\n",
       " file\\_list & mask\\_1 & mask\\_2 & mask\\_3 & mask\\_4\\\\\n",
       "\\hline\n",
       "\t astorm.aa     &  TRUE         &  TRUE         & FALSE         &  TRUE        \\\\\n",
       "\t anastom.bra   &  TRUE         & FALSE         &  TRUE         &  TRUE        \\\\\n",
       "\t apostorm.mka  &  TRUE         &  TRUE         &  TRUE         &  TRUE        \\\\\n",
       "\t abrasto2m.abc & FALSE         &  TRUE         &  TRUE         & FALSE        \\\\\n",
       "\\end{tabular}\n"
      ],
      "text/markdown": [
       "\n",
       "file_list | mask_1 | mask_2 | mask_3 | mask_4 | \n",
       "|---|---|---|---|\n",
       "| astorm.aa     |  TRUE         |  TRUE         | FALSE         |  TRUE         | \n",
       "| anastom.bra   |  TRUE         | FALSE         |  TRUE         |  TRUE         | \n",
       "| apostorm.mka  |  TRUE         |  TRUE         |  TRUE         |  TRUE         | \n",
       "| abrasto2m.abc | FALSE         |  TRUE         |  TRUE         | FALSE         | \n",
       "\n",
       "\n"
      ],
      "text/plain": [
       "  file_list     mask_1 mask_2 mask_3 mask_4\n",
       "1 astorm.aa      TRUE   TRUE  FALSE   TRUE \n",
       "2 anastom.bra    TRUE  FALSE   TRUE   TRUE \n",
       "3 apostorm.mka   TRUE   TRUE   TRUE   TRUE \n",
       "4 abrasto2m.abc FALSE   TRUE   TRUE  FALSE "
      ]
     },
     "metadata": {},
     "output_type": "display_data"
    }
   ],
   "source": [
    "file_list <- c('astorm.aa', 'anastom.bra', 'apostorm.mka', 'abrasto2m.abc')\n",
    "mask_list <- c('*to*.?*a*', '*sto??.*', '?*to*.???', 'a*to*m.*?a')\n",
    "\n",
    "df <- data.frame(file_list=file_list,\n",
    "                 mask_1=grepl(\"^.*to.*\\\\...*a.*$\", file_list), \n",
    "                 mask_2=grepl(\"^.*sto..\\\\..*$\", file_list), \n",
    "                 mask_3=grepl(\"^..*to.*\\\\....$\", file_list), \n",
    "                 mask_4=grepl(\"^a.*to.*m\\\\..*.a$\", file_list))\n",
    "df"
   ]
  },
  {
   "cell_type": "code",
   "execution_count": 49,
   "metadata": {},
   "outputs": [
    {
     "name": "stdout",
     "output_type": "stream",
     "text": [
      "[1] \"astorm.aa\"\n",
      "[1] 3\n",
      "[1] \"anastom.bra\"\n",
      "[1] 3\n",
      "[1] \"apostorm.mka\"\n",
      "[1] 4\n",
      "[1] \"abrasto2m.abc\"\n",
      "[1] 2\n"
     ]
    },
    {
     "data": {
      "text/html": [
       "'12'"
      ],
      "text/latex": [
       "'12'"
      ],
      "text/markdown": [
       "'12'"
      ],
      "text/plain": [
       "[1] \"12\""
      ]
     },
     "metadata": {},
     "output_type": "display_data"
    }
   ],
   "source": [
    "c <- ''\n",
    "for (i in 1:4) {\n",
    "    print(file_list[i]); \n",
    "    print(length(df[i,2:5][df[i,2:5]==TRUE]))\n",
    "    \n",
    "    if (length(df[i,2:5][df[i,2:5]==TRUE]) == 3) {\n",
    "        c <- paste(c,toString(i),sep='')\n",
    "    }\n",
    "}\n",
    "\n",
    "c"
   ]
  },
  {
   "cell_type": "code",
   "execution_count": 51,
   "metadata": {},
   "outputs": [],
   "source": [
    "answer_dictionary[4] <- c"
   ]
  },
  {
   "cell_type": "markdown",
   "metadata": {},
   "source": [
    "## 5.\n",
    "Для передачи информации по каналу связи с помехами используется 5-битовый код. \n",
    "\n",
    "Сообщение содержит только буквы A, B и C, которые кодируются следующими кодовыми словами:\n",
    "\n",
    "<i style=\"font-size:150%;color:#348ABD;\" class=\"font-effect-3d\">A-10101, B-10010, C-01110</i>.\n",
    "\n",
    "Любые два из этих трёх кодовых слов отличаются не менее чем в трёх позициях. Поэтому, если принятое кодовое слово отличается от допустимого не более чем в одной позиции, можно однозначно определить, какая буква передавалась (говорят, что «код исправляет одну ошибку»). Так, получив кодовое слово 10000, можно догадаться, что передавалась буква B (отличие от кодового слова для B только в одной позиции, для остальных кодовых слов отличий больше). Если принятое кодовое слово отличается от всех допустимых кодовых слов более, чем в одной позиции, считается, что произошла ошибка (она обозначается «х»).\n",
    "\n",
    "Получено сообщение: <i style=\"font-size:150%;color:#348ABD;\" class=\"font-effect-3d\">00101 11010 11110 10111</i>. \n",
    "\n",
    "Декодируйте это сообщение. В ответе укажите четыре символа без пробелов и запятых.\n",
    "\n",
    "---\n",
    "\n",
    "To transmit information over a communication channel with interference, a 5-bit code is used. \n",
    "\n",
    "The message contains only the letters A, B and C, which are encoded by the following code words:\n",
    "\n",
    "<i style=\"font-size:150%;color:#348ABD;\" class=\"font-effect-3d\">A-10101, B-10010, C-01110</i>.\n",
    "\n",
    "Any two of these three codewords differ in at least three positions. Therefore, if the received codeword differs from permissible in not more than one position, it is possible to unambiguously determine which letter was transmitted (say that \"decoding corrects one error\"). So, having received the code word 10000, you can guess that the letter B was transmitted (unlike the codeword for B in only one position, for the other codewords there are more differences). If the received codeword differs from all valid codewords in more than one position, it is considered that an error has occurred (it is denoted by \"x\").\n",
    "\n",
    "The received message: <i style=\"font-size:150%;color:#348ABD;\" class=\"font-effect-3d\">00101 11010 11110 10111</i>.\n",
    "\n",
    "Decode this message. In the answer, specify four characters without spaces or commas."
   ]
  },
  {
   "cell_type": "code",
   "execution_count": 68,
   "metadata": {},
   "outputs": [
    {
     "data": {
      "text/html": [
       "<table>\n",
       "<tbody>\n",
       "\t<tr><td>1</td></tr>\n",
       "</tbody>\n",
       "</table>\n"
      ],
      "text/latex": [
       "\\begin{tabular}{l}\n",
       "\t 1\\\\\n",
       "\\end{tabular}\n"
      ],
      "text/markdown": [
       "\n",
       "| 1 | \n",
       "\n",
       "\n"
      ],
      "text/plain": [
       "     [,1]\n",
       "[1,] 1   "
      ]
     },
     "metadata": {},
     "output_type": "display_data"
    },
    {
     "data": {
      "text/html": [
       "<table>\n",
       "<tbody>\n",
       "\t<tr><td>2</td></tr>\n",
       "</tbody>\n",
       "</table>\n"
      ],
      "text/latex": [
       "\\begin{tabular}{l}\n",
       "\t 2\\\\\n",
       "\\end{tabular}\n"
      ],
      "text/markdown": [
       "\n",
       "| 2 | \n",
       "\n",
       "\n"
      ],
      "text/plain": [
       "     [,1]\n",
       "[1,] 2   "
      ]
     },
     "metadata": {},
     "output_type": "display_data"
    },
    {
     "data": {
      "text/html": [
       "<table>\n",
       "<tbody>\n",
       "\t<tr><td>3</td></tr>\n",
       "</tbody>\n",
       "</table>\n"
      ],
      "text/latex": [
       "\\begin{tabular}{l}\n",
       "\t 3\\\\\n",
       "\\end{tabular}\n"
      ],
      "text/markdown": [
       "\n",
       "| 3 | \n",
       "\n",
       "\n"
      ],
      "text/plain": [
       "     [,1]\n",
       "[1,] 3   "
      ]
     },
     "metadata": {},
     "output_type": "display_data"
    }
   ],
   "source": [
    "adist('10101', '00101'); adist('10010', '00101'); adist('01110', '00101')"
   ]
  },
  {
   "cell_type": "code",
   "execution_count": 69,
   "metadata": {},
   "outputs": [
    {
     "data": {
      "text/html": [
       "'ABCA'"
      ],
      "text/latex": [
       "'ABCA'"
      ],
      "text/markdown": [
       "'ABCA'"
      ],
      "text/plain": [
       "[1] \"ABCA\""
      ]
     },
     "metadata": {},
     "output_type": "display_data"
    }
   ],
   "source": [
    "codes <- c('10101','10010','01110') \n",
    "letters <- c('A','B','C')\n",
    "string <- unlist(strsplit('00101 11010 11110 10111', '[ ]'))\n",
    "result <- ''\n",
    "\n",
    "for (el in string) {\n",
    "    for (i in 1:3) {\n",
    "        if (adist(el,codes[i]) < 2) {\n",
    "            result <- paste(result,letters[i],sep='')\n",
    "        }\n",
    "    }\n",
    "}\n",
    "\n",
    "result"
   ]
  },
  {
   "cell_type": "code",
   "execution_count": 70,
   "metadata": {},
   "outputs": [],
   "source": [
    "answer_dictionary[5] <- result"
   ]
  },
  {
   "cell_type": "markdown",
   "metadata": {},
   "source": [
    "## 6.\n",
    "В некоторой информационной системе информация кодируется двоичными четырёхразрядными словами. \n",
    "\n",
    "При передаче данных возможны их искажения, поэтому в конец каждого слова добавляется еще один (контрольный) разряд таким образом, \n",
    "\n",
    "чтобы сумма разрядов нового слова, считая контрольный, была чётной. \n",
    "\n",
    "Например, к слову `1011` справа будет добавлена `1`, а к слову `1010` — `0`.\n",
    "\n",
    "После этого, для увеличения надежности кодирования, к полученному слову добавляется сумма его разрядов в двоичном виде. \n",
    "\n",
    "Например, исходное слово `1000` превратится в `1000110`.\n",
    "\n",
    "Какое наименьшее число, большее 30 число может быть получено в результате этого алгоритма? \n",
    "\n",
    "Ответ запишите в десятичном виде.\n",
    "\n",
    "---\n",
    "\n",
    "In some information system, information is encoded in binary four-digit words. \n",
    "\n",
    "With transmitting data, their distortions are possible, so at the end of each word one more (control) symbol is added \n",
    "\n",
    "so that the sum of the bits of the new word, assuming the control word, is even. \n",
    "\n",
    "For example, to the word `1011` will be added `1` from the right, and to the word `1010` - `0`.\n",
    "\n",
    "After that, for increasing the reliability of encoding, to the resulting word the sum of its digit bits in the binary form is added. \n",
    "\n",
    "For example, the original word `1000` will turn into `1000110`.\n",
    "\n",
    "What is the smallest number, greater than 30, can be obtained as a result of this algorithm? \n",
    "\n",
    "Write the answer in decimal form."
   ]
  },
  {
   "cell_type": "code",
   "execution_count": 92,
   "metadata": {},
   "outputs": [
    {
     "data": {
      "text/html": [
       "<table>\n",
       "<tbody>\n",
       "\t<tr><td>0</td><td>0</td><td>0</td><td>0</td></tr>\n",
       "\t<tr><td>0</td><td>0</td><td>0</td><td>1</td></tr>\n",
       "\t<tr><td>0</td><td>0</td><td>1</td><td>0</td></tr>\n",
       "\t<tr><td>0</td><td>0</td><td>1</td><td>1</td></tr>\n",
       "\t<tr><td>0</td><td>1</td><td>0</td><td>0</td></tr>\n",
       "\t<tr><td>0</td><td>1</td><td>0</td><td>1</td></tr>\n",
       "\t<tr><td>0</td><td>1</td><td>1</td><td>0</td></tr>\n",
       "</tbody>\n",
       "</table>\n"
      ],
      "text/latex": [
       "\\begin{tabular}{llll}\n",
       "\t 0 & 0 & 0 & 0\\\\\n",
       "\t 0 & 0 & 0 & 1\\\\\n",
       "\t 0 & 0 & 1 & 0\\\\\n",
       "\t 0 & 0 & 1 & 1\\\\\n",
       "\t 0 & 1 & 0 & 0\\\\\n",
       "\t 0 & 1 & 0 & 1\\\\\n",
       "\t 0 & 1 & 1 & 0\\\\\n",
       "\\end{tabular}\n"
      ],
      "text/markdown": [
       "\n",
       "| 0 | 0 | 0 | 0 | \n",
       "| 0 | 0 | 0 | 1 | \n",
       "| 0 | 0 | 1 | 0 | \n",
       "| 0 | 0 | 1 | 1 | \n",
       "| 0 | 1 | 0 | 0 | \n",
       "| 0 | 1 | 0 | 1 | \n",
       "| 0 | 1 | 1 | 0 | \n",
       "\n",
       "\n"
      ],
      "text/plain": [
       "     [,1] [,2] [,3] [,4]\n",
       "[1,] 0    0    0    0   \n",
       "[2,] 0    0    0    1   \n",
       "[3,] 0    0    1    0   \n",
       "[4,] 0    0    1    1   \n",
       "[5,] 0    1    0    0   \n",
       "[6,] 0    1    0    1   \n",
       "[7,] 0    1    1    0   "
      ]
     },
     "metadata": {},
     "output_type": "display_data"
    }
   ],
   "source": [
    "bc <- bincombinations(4)\n",
    "result <- integer(16)\n",
    "bc[1:7,1:4]"
   ]
  },
  {
   "cell_type": "code",
   "execution_count": 103,
   "metadata": {},
   "outputs": [],
   "source": [
    "options(scipen = 999)\n",
    "\n",
    "dec2bin <- function(n) {\n",
    "  if (n == 0) {\n",
    "      bv <- '0'\n",
    "  } else {\n",
    "      bv <- rep(0, 1 + floor(log(n, 2)))\n",
    "      while (n >= 2) {\n",
    "          pow <- floor(log(n, 2))\n",
    "          bv[1 + pow] <- 1\n",
    "          n <- n - 2^pow\n",
    "      }\n",
    "      bv[1] <- n %% 2\n",
    "      paste(rev(bv), collapse = \"\")\n",
    "  }\n",
    "}\n",
    "\n",
    "bin2dec <- function(n) {\n",
    "  return(sapply(strsplit(as.character(n),split=\"\"), \n",
    "                function(x) sum(as.numeric(x) * 2 ** (rev(seq_along(x) - 1)))))\n",
    "} "
   ]
  },
  {
   "cell_type": "code",
   "execution_count": 104,
   "metadata": {},
   "outputs": [
    {
     "name": "stdout",
     "output_type": "stream",
     "text": [
      "[1] \"000000\"\n",
      "[1] \"0001110\"\n",
      "[1] \"0010110\"\n",
      "[1] \"0011010\"\n",
      "[1] \"0100110\"\n",
      "[1] \"0101010\"\n",
      "[1] \"0110010\"\n",
      "[1] \"01111100\"\n",
      "[1] \"1000110\"\n",
      "[1] \"1001010\"\n",
      "[1] \"1010010\"\n",
      "[1] \"10111100\"\n",
      "[1] \"1100010\"\n",
      "[1] \"11011100\"\n",
      "[1] \"11101100\"\n",
      "[1] \"11110100\"\n"
     ]
    }
   ],
   "source": [
    "for (i in 1:16) {\n",
    "    el <- paste0(bc[i,1:4],collapse=\"\")\n",
    "    s <- sum(bc[i,1:4])\n",
    "    if (s %% 2 == 0) {\n",
    "        el <- paste(el,'0',sep='')\n",
    "    } else {\n",
    "        el <- paste(el,'1',sep='')\n",
    "        s <- s + 1\n",
    "    }\n",
    "    el <- paste(el,dec2bin(s),sep='')\n",
    "    print(el)\n",
    "    result[i] <- bin2dec(el)\n",
    "}"
   ]
  },
  {
   "cell_type": "code",
   "execution_count": 105,
   "metadata": {},
   "outputs": [
    {
     "data": {
      "text/html": [
       "<ol class=list-inline>\n",
       "\t<li>0</li>\n",
       "\t<li>14</li>\n",
       "\t<li>22</li>\n",
       "\t<li>26</li>\n",
       "\t<li>38</li>\n",
       "\t<li>42</li>\n",
       "\t<li>50</li>\n",
       "\t<li>124</li>\n",
       "\t<li>70</li>\n",
       "\t<li>74</li>\n",
       "\t<li>82</li>\n",
       "\t<li>188</li>\n",
       "\t<li>98</li>\n",
       "\t<li>220</li>\n",
       "\t<li>236</li>\n",
       "\t<li>244</li>\n",
       "</ol>\n"
      ],
      "text/latex": [
       "\\begin{enumerate*}\n",
       "\\item 0\n",
       "\\item 14\n",
       "\\item 22\n",
       "\\item 26\n",
       "\\item 38\n",
       "\\item 42\n",
       "\\item 50\n",
       "\\item 124\n",
       "\\item 70\n",
       "\\item 74\n",
       "\\item 82\n",
       "\\item 188\n",
       "\\item 98\n",
       "\\item 220\n",
       "\\item 236\n",
       "\\item 244\n",
       "\\end{enumerate*}\n"
      ],
      "text/markdown": [
       "1. 0\n",
       "2. 14\n",
       "3. 22\n",
       "4. 26\n",
       "5. 38\n",
       "6. 42\n",
       "7. 50\n",
       "8. 124\n",
       "9. 70\n",
       "10. 74\n",
       "11. 82\n",
       "12. 188\n",
       "13. 98\n",
       "14. 220\n",
       "15. 236\n",
       "16. 244\n",
       "\n",
       "\n"
      ],
      "text/plain": [
       " [1]   0  14  22  26  38  42  50 124  70  74  82 188  98 220 236 244"
      ]
     },
     "metadata": {},
     "output_type": "display_data"
    }
   ],
   "source": [
    "result"
   ]
  },
  {
   "cell_type": "code",
   "execution_count": 107,
   "metadata": {},
   "outputs": [
    {
     "data": {
      "text/html": [
       "38"
      ],
      "text/latex": [
       "38"
      ],
      "text/markdown": [
       "38"
      ],
      "text/plain": [
       "[1] 38"
      ]
     },
     "metadata": {},
     "output_type": "display_data"
    }
   ],
   "source": [
    "n <- min(result[result > 30])\n",
    "n"
   ]
  },
  {
   "cell_type": "code",
   "execution_count": 108,
   "metadata": {},
   "outputs": [],
   "source": [
    "answer_dictionary[6] <- toString(n)"
   ]
  },
  {
   "cell_type": "markdown",
   "metadata": {},
   "source": [
    "## 7.\n",
    "В электронной таблице в ячейке D4 записана формула, которая вычисляет результат умножения значения ячейки С3 на 2. \n",
    "\n",
    "Формулу из ячейки D4 скопировали в ячейку Е3. \n",
    "\n",
    "Какое количество следующих утверждений не противоречит условию?\n",
    "\n",
    "1) В ячейке Е3 вычисляется результат удвоения значения ячейки D2.\n",
    "\n",
    "2) В ячейке Е3 вычисляется результат удвоения значения ячейки C2.\n",
    "\n",
    "3) В ячейке Е3 вычисляется результат удвоения значения ячейки D3.\n",
    "\n",
    "---\n",
    "\n",
    "In the spreadsheet, a formula is written in the cell D4, it calculates the result of multiplying the value of the cell C3 by 2. \n",
    "\n",
    "The formula from the cell D4 was copied into the cell E3. \n",
    "\n",
    "How many of the following statements do not contradict the condition?\n",
    "\n",
    "1) In the cell E3, the result of doubling the value of the cell D2 is calculated.\n",
    "\n",
    "2) In the cell E3, the result of doubling the value of the cell C2 is calculated.\n",
    "\n",
    "3) In the cell E3, the result of doubling the value of the cell D3 is calculated."
   ]
  },
  {
   "cell_type": "markdown",
   "metadata": {},
   "source": [
    "[Google Sheet](https://drive.google.com/open?id=1bSJxuKBzEWbI6X9i7vSgCiClX-KSe2-OiytCqRVkhR4)\n",
    "\n",
    "Результат копирования ячейки.\n",
    "\n",
    "The result of copying the cell.\n",
    "\n",
    "<div style=\"width:800px;height:300px;overflow:auto;\">\n",
    "    <img src=\"it_images/2017_09_07a.png\" width=\"800\" height=\"300\"/>\n",
    "</div>"
   ]
  },
  {
   "cell_type": "code",
   "execution_count": 112,
   "metadata": {},
   "outputs": [],
   "source": [
    "answer_dictionary[7] <- '1'"
   ]
  },
  {
   "cell_type": "markdown",
   "metadata": {},
   "source": [
    "## 8.\n",
    "Определите, что будет напечатано в результате выполнения следующего фрагмента программы:\n",
    "\n",
    "Determine what will be printed as a result of execution of the following program fragment:\n",
    "<table style=\"width:95%;\">\n",
    "  <tr style=\"font-size:150%;color:#348ABD;\" class=\"font-effect-3d\">\n",
    "    <th style=\"text-align:center;\">Python</th> \n",
    "    <th style=\"text-align:center;\">R</th>          \n",
    "  </tr>\n",
    "  <tr>\n",
    "    <td style=\"font-weight:bold;text-align:left;\"><pre><code class='python'>\n",
    "\n",
    "k, s = 5, 512\n",
    "while s > 5:\n",
    "    s = s // 2\n",
    "    k += 4\n",
    "\n",
    "print (k)\n",
    "    </code></pre></td> \n",
    "    <td style=\"font-weight:bold;text-align:left;\"><pre><code class='r'> \n",
    "    \n",
    "k <- 5; s <- 512\n",
    "\n",
    "while (s > 5) {\n",
    "    s <- s %/% 2\n",
    "    k <- k + 4\n",
    "}\n",
    "\n",
    "print(k)\n",
    "    </code></pre></td>     \n",
    "  </tr> \n",
    "  <tr style=\"font-size:150%;color:#348ABD;\" class=\"font-effect-3d\">\n",
    "    <th style=\"text-align:center;\">BASIC</th> \n",
    "    <th style=\"text-align:center;\">Pascal</th>          \n",
    "  </tr>\n",
    "  <tr>\n",
    "    <td style=\"font-weight:bold;text-align:left;\"><pre><code class='basic'>\n",
    "\n",
    "DIM k, s AS INTEGER\n",
    "k = 5\n",
    "s = 512\n",
    "WHILE s > 5\n",
    "    s = s \\ 2\n",
    "    k = k + 4\n",
    "WEND\n",
    "PRINT k\n",
    "    </code></pre></td> \n",
    "    <td style=\"font-weight:bold;text-align:left;\"><pre><code class='pascal'> \n",
    "    \n",
    "var k, s : integer;\n",
    "begin\n",
    "    k := 5;\n",
    "    s := 512;\n",
    "    while s > 5 do\n",
    "        s := s div 2;\n",
    "        k := k + 4;\n",
    "    end;\n",
    "    write(k);\n",
    "end.\n",
    "    </code></pre></td>     \n",
    "  </tr>    \n",
    "  <tr style=\"font-size:150%;color:#348ABD;\" class=\"font-effect-3d\">\n",
    "    <th style=\"text-align:center;\">C</th> \n",
    "    <th style=\"text-align:center;\">Natural Language Programming</th>          \n",
    "  </tr>\n",
    "  <tr>\n",
    "    <td style=\"font-weight:bold;text-align:left;\"><pre><code class='c'>\n",
    "\n",
    "{\n",
    "    int k, s;\n",
    "    k = 5;\n",
    "    s = 512;\n",
    "    while (s > 5)\n",
    "    {\n",
    "        s = s / 2;\n",
    "        k = k + 4;\n",
    "    } \n",
    "    printf(\"%d\", k);\n",
    "}\n",
    "    </code></pre></td> \n",
    "    <td style=\"font-weight:bold;text-align:left;\"><pre><code class='nlp'> \n",
    "    \n",
    "нач\n",
    "    цел k, s\n",
    "    k := 5\n",
    "    s := 512\n",
    "    нц пока s > 5\n",
    "        s := div(s,2)\n",
    "        k := k + 4\n",
    "    кц\n",
    "    вывод k\n",
    "кон\n",
    "    </code></pre></td>     \n",
    "  </tr>      \n",
    "</table>"
   ]
  },
  {
   "cell_type": "code",
   "execution_count": 116,
   "metadata": {},
   "outputs": [
    {
     "name": "stdout",
     "output_type": "stream",
     "text": [
      "[1] 33\n"
     ]
    }
   ],
   "source": [
    "k <- 5; s <- 512\n",
    "\n",
    "while (s > 5) {\n",
    "    s <- s %/% 2\n",
    "    k <- k + 4\n",
    "}\n",
    "\n",
    "print(k)"
   ]
  },
  {
   "cell_type": "code",
   "execution_count": 117,
   "metadata": {},
   "outputs": [],
   "source": [
    "answer_dictionary[8] <- toString(k)"
   ]
  },
  {
   "cell_type": "markdown",
   "metadata": {},
   "source": [
    "## 9.\n",
    "Музыкальный фрагмент был оцифрован и записан в виде файла без использования сжатия данных. \n",
    "\n",
    "Получившийся файл был передан в город А по каналу связи за 40 секунд. \n",
    "\n",
    "Затем тот же музыкальный фрагмент был оцифрован повторно \n",
    "\n",
    "- с разрешением в 2 раза меньше и \n",
    "- частотой дискретизации в 1,5 раза больше, чем в первый раз. \n",
    "\n",
    "Сжатие данных не производилось. \n",
    "\n",
    "Полученный файл был передан в город Б; \n",
    "\n",
    "пропускная способность канала связи с городом Б в 3 раза выше, чем канала связи с городом А. \n",
    "\n",
    "Сколько секунд длилась передача файла в город Б? \n",
    "\n",
    "В ответе запишите только целое число, единицу измерения писать не нужно.\n",
    "\n",
    "---\n",
    "\n",
    "The musical fragment was digitized and recorded as a file without using data compression. \n",
    "\n",
    "The resulting file was transferred to the city A via the communication channel in 40 seconds. \n",
    "\n",
    "Then the same musical fragment was digitized again with \n",
    "\n",
    "- a resolution of 2 times smaller and \n",
    "- a sampling frequency 1.5 times greater than the first time. \n",
    "\n",
    "Data compression was not performed. \n",
    "\n",
    "The resulting file was transferred to the city B; \n",
    "\n",
    "the capacity for the communication channel with the city B is 3 times higher than for the communication channel with the city A.\n",
    "\n",
    "How many seconds did the file transfer to the city B? \n",
    "\n",
    "In the answer, write down only an integer, you do not need to write a unit of measurement."
   ]
  },
  {
   "cell_type": "markdown",
   "metadata": {},
   "source": [
    "1) Второй музыкальный фрагмент имеет меньший размер, чем первый (разрешение в 2 раза меньше, частота дискретизации в 1,5 раза больше). \n",
    "\n",
    "2) Пропускная способность канала связи с городом Б в 3 раза выше, а значит время передачи файлов уменьшается в 3 раза по сравнению с каналом с городом А.\n",
    "\n",
    "3) Учитывая пункты 1) и 2), меньший файл по каналу с большей пропускной способностью будет передан за: $40 / 2 * 1.5 / 3 = 10$ секунд.\n",
    "\n",
    "---\n",
    "\n",
    "1) The second musical fragment has a smaller size than the first one (resolution is 2 times smaller, the sampling rate is 1.5 times larger).\n",
    "\n",
    "2) The capacity of the communication channel with the city B is 3 times higher, it means that the time of file transfer is reduced by 3 times in comparison with the channel with the city A.\n",
    "\n",
    "3) According to the points 1) and 2), a smaller file on a channel with a higher bandwidth will be transferred for: $40/2 * 1.5 / 3 = 10$ seconds."
   ]
  },
  {
   "cell_type": "code",
   "execution_count": 120,
   "metadata": {},
   "outputs": [],
   "source": [
    "answer_dictionary[9] <- toString(as.integer(40 / 2 * 1.5 / 3))"
   ]
  },
  {
   "cell_type": "markdown",
   "metadata": {},
   "source": [
    "## 10.\n",
    "При сборе статистики о посетителях гипермаркета маркетолог записывает про каждого вошедшего: \n",
    "\n",
    "пол (м/ж), один или нет, возрастную категорию (ребёнок/подросток/взрослый/ пожилой). \n",
    "\n",
    "При этом за час зарегистрировано 300 посетителей. \n",
    "\n",
    "Какое количество информации (число бит) получил маркетолог?\n",
    "\n",
    "---\n",
    "\n",
    "With collecting statistics about visitors of a hypermarket, the marketer writes information about each person who entered: \n",
    "\n",
    "sex (m / f), one or not, the age category (child / adolescent / adult / elderly). \n",
    "\n",
    "During the experiment, 300 visitors were registered per hour.\n",
    "\n",
    "How much information (number of bits) has a marketer got?"
   ]
  },
  {
   "cell_type": "markdown",
   "metadata": {},
   "source": [
    "| Виды информации | Пол | Один или нет | Возрастная категория | Количество посетителей |\n",
    "|:-:|:-:|:-:|:-:|:-:|\n",
    "| Варианты | м/ж | да/нет | ребёнок/подросток/взрослый/пожилой | 300 |\n",
    "| Кодировка | 1/0 | 1/0 | 00/01/10/11 | - |\n",
    "| В битах | 1 | 1 | 2 | $(1 + 1 + 2 ) * 300 = 1200$ | \n",
    "\n",
    "---\n",
    "\n",
    "| Kinds of Information | Gender | Alone or not | Age | Visitor Quantity |\n",
    "|:-:|:-:|:-:|:-:|:-:|\n",
    "| Options | m/f | yes/no | child/adolescent/adult/elderly | 300 |\n",
    "| Encoding | 1/0 | 1/0 | 00/01/10/11 | - |\n",
    "| In bits | 1 | 1 | 2 | $(1 + 1 + 2 ) * 300 = 1200$ | "
   ]
  },
  {
   "cell_type": "code",
   "execution_count": 122,
   "metadata": {},
   "outputs": [],
   "source": [
    "answer_dictionary[10] <- toString(300 * 4)"
   ]
  },
  {
   "cell_type": "markdown",
   "metadata": {},
   "source": [
    "## 11.\n",
    "Определите, сколько звёздочек будет напечатано в результате вызова F(5) приведённой подпрограммы:\n",
    "\n",
    "Determine how many asterisks will be printed as a result of calling F(5) from this program fragment:\n",
    "<table style=\"width:95%;\">\n",
    "  <tr style=\"font-size:150%;color:#348ABD;\" class=\"font-effect-3d\">\n",
    "    <th style=\"text-align:center;\">Python</th> \n",
    "    <th style=\"text-align:center;\">R</th>          \n",
    "  </tr>\n",
    "  <tr>\n",
    "    <td style=\"font-weight:bold;text-align:left;\"><pre><code class='python'>\n",
    "\n",
    "def F(n):\n",
    "    print('*')    \n",
    "    if n > 0:\n",
    "        F(n - 3)\n",
    "        F(n - 1)\n",
    "        print('*')\n",
    "\n",
    "    </code></pre></td> \n",
    "    <td style=\"font-weight:bold;text-align:left;\"><pre><code class='r'> \n",
    "    \n",
    "F <- function(n) {\n",
    "    print('*')    \n",
    "    if (n > 0) {\n",
    "        F(n - 3)\n",
    "        F(n - 1)\n",
    "        print('*')\n",
    "    }\n",
    "}\n",
    "    </code></pre></td>     \n",
    "  </tr> \n",
    "  <tr style=\"font-size:150%;color:#348ABD;\" class=\"font-effect-3d\">\n",
    "    <th style=\"text-align:center;\">BASIC</th> \n",
    "    <th style=\"text-align:center;\">Pascal</th>          \n",
    "  </tr>\n",
    "  <tr>\n",
    "    <td style=\"font-weight:bold;text-align:left;\"><pre><code class='basic'>\n",
    "\n",
    "SUB F(n)\n",
    "    PRINT \"&#42;\";\n",
    "    IF n > 0 THEN\n",
    "        F(n - 2)\n",
    "        F(n - 1)\n",
    "        PRINT \"&#42;\";\n",
    "    END IF\n",
    "END SUB\n",
    "    </code></pre></td> \n",
    "    <td style=\"font-weight:bold;text-align:left;\"><pre><code class='pascal'> \n",
    "    \n",
    "procedure F(n : integer);\n",
    "begin\n",
    "    write('&#42;');\n",
    "    if n > 0 then\n",
    "        F(n - 3);\n",
    "        F(n - 1);\n",
    "        write('&#42;');\n",
    "    end;\n",
    "\n",
    "end.\n",
    "    </code></pre></td>     \n",
    "  </tr>    \n",
    "  <tr style=\"font-size:150%;color:#348ABD;\" class=\"font-effect-3d\">\n",
    "    <th style=\"text-align:center;\">C</th> \n",
    "    <th style=\"text-align:center;\">Natural Language Programming</th>          \n",
    "  </tr>\n",
    "  <tr>\n",
    "    <td style=\"font-weight:bold;text-align:left;\"><pre><code class='c'>\n",
    "\n",
    "void F(int n)\n",
    "{\n",
    "    printf(\"&#42;\");\n",
    "    if (n > 0)\n",
    "    {\n",
    "        F(n - 3);\n",
    "        F(n - 1); \n",
    "        printf(\"&#42;\");\n",
    "    }\n",
    "}\n",
    "    </code></pre></td> \n",
    "    <td style=\"font-weight:bold;text-align:left;\"><pre><code class='nlp'> \n",
    "    \n",
    "алг F(цел n)\n",
    "нач\n",
    "    вывод \"&#42;\"\n",
    "    если n > 0 то\n",
    "        F(n - 3)\n",
    "        F(n - 1)\n",
    "        вывод \"&#42;\"\n",
    "    все\n",
    "кон\n",
    "    </code></pre></td>     \n",
    "  </tr>      \n",
    "</table>"
   ]
  },
  {
   "cell_type": "code",
   "execution_count": 126,
   "metadata": {},
   "outputs": [
    {
     "name": "stdout",
     "output_type": "stream",
     "text": [
      "[1] \"* 1\"\n",
      "[1] \"* 2\"\n",
      "[1] \"* 3\"\n",
      "[1] \"* 4\"\n",
      "[1] \"* 5\"\n",
      "[1] \"* 6\"\n",
      "[1] \"* 7\"\n",
      "[1] \"* 8\"\n",
      "[1] \"* 9\"\n",
      "[1] \"* 10\"\n",
      "[1] \"* 11\"\n",
      "[1] \"* 12\"\n",
      "[1] \"* 13\"\n",
      "[1] \"* 14\"\n",
      "[1] \"* 15\"\n",
      "[1] \"* 16\"\n",
      "[1] \"* 17\"\n",
      "[1] \"* 18\"\n",
      "[1] \"* 19\"\n",
      "[1] \"* 20\"\n",
      "[1] \"* 21\"\n",
      "[1] \"* 22\"\n",
      "[1] \"* 23\"\n",
      "[1] \"* 24\"\n",
      "[1] \"* 25\"\n"
     ]
    }
   ],
   "source": [
    "# расширенная версия программы\n",
    "c <- 0\n",
    "\n",
    "F <- function(n) {\n",
    "    c <<- c + 1\n",
    "    print(paste('*',toString(c),sep=' '))    \n",
    "    if (n > 0) {\n",
    "        F(n - 3)\n",
    "        F(n - 1)\n",
    "        c <<- c + 1\n",
    "        print(paste('*',toString(c),sep=' '))\n",
    "    }\n",
    "}\n",
    "\n",
    "F(5)"
   ]
  },
  {
   "cell_type": "code",
   "execution_count": 127,
   "metadata": {},
   "outputs": [],
   "source": [
    "answer_dictionary[11] <- toString(c)"
   ]
  },
  {
   "cell_type": "code",
   "execution_count": null,
   "metadata": {},
   "outputs": [],
   "source": []
  },
  {
   "cell_type": "code",
   "execution_count": null,
   "metadata": {},
   "outputs": [],
   "source": []
  },
  {
   "cell_type": "markdown",
   "metadata": {},
   "source": [
    "## Ответы &nbsp; &nbsp; &nbsp; Answers"
   ]
  },
  {
   "cell_type": "code",
   "execution_count": 128,
   "metadata": {},
   "outputs": [
    {
     "data": {
      "text/plain": [
       "<hash> containing 11 key-value pair(s).\n",
       "  1 : 900\n",
       "  10 : 1200\n",
       "  11 : 25\n",
       "  2 : 13\n",
       "  3 : 13\n",
       "  4 : 12\n",
       "  5 : ABCA\n",
       "  6 : 38\n",
       "  7 : 1\n",
       "  8 : 33\n",
       "  9 : 10"
      ]
     },
     "metadata": {},
     "output_type": "display_data"
    }
   ],
   "source": [
    "answer_dictionary"
   ]
  },
  {
   "cell_type": "code",
   "execution_count": null,
   "metadata": {},
   "outputs": [],
   "source": []
  }
 ],
 "metadata": {
  "kernelspec": {
   "display_name": "R",
   "language": "R",
   "name": "ir"
  },
  "language_info": {
   "codemirror_mode": "r",
   "file_extension": ".r",
   "mimetype": "text/x-r-source",
   "name": "R",
   "pygments_lexer": "r",
   "version": "3.5.0"
  }
 },
 "nbformat": 4,
 "nbformat_minor": 2
}
