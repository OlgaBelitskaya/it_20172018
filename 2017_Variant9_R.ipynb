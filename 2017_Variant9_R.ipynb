{
 "cells": [
  {
   "cell_type": "markdown",
   "metadata": {},
   "source": [
    "# ЕГЭ 2017 Вариант 9 &nbsp; &nbsp; &nbsp; EGE 2017 Variant 9\n",
    "[ЕГЭ-2017. Информатика.10 тренировочных вариантов. Ушаков Д.М.](https://drive.google.com/file/d/0B6696ckkWj_zS2ptblAxNERHZzQ/view)\n",
    "\n",
    "[Basic Regular Expressions in R Cheatsheet](https://www.rstudio.com/wp-content/uploads/2016/09/RegExCheatsheet.pdf)\n",
    "\n",
    "[DataFlair: R Tutorials](https://data-flair.training/blogs/category/r/)\n",
    "\n",
    "[Алгоритм Шеннона — Фано](https://ru.wikipedia.org/wiki/%D0%90%D0%BB%D0%B3%D0%BE%D1%80%D0%B8%D1%82%D0%BC_%D0%A8%D0%B5%D0%BD%D0%BD%D0%BE%D0%BD%D0%B0_%E2%80%94_%D0%A4%D0%B0%D0%BD%D0%BE)\n",
    "\n",
    "[IPv4 - Address Classes](https://www.tutorialspoint.com/ipv4/ipv4_address_classes.htm)\n",
    "\n",
    "[Basic and advanced network visualization with R](http://www.kateto.net/wp-content/uploads/2016/04/Sunbelt%202016%20R%20Network%20Visualization%20Handout.pdf)"
   ]
  },
  {
   "cell_type": "code",
   "execution_count": 2,
   "metadata": {},
   "outputs": [],
   "source": [
    "library(IRdisplay)\n",
    "library(repr)\n",
    "library(hash)\n",
    "library(numbers)\n",
    "library(e1071)\n",
    "library(igraph)\n",
    "library(VennDiagram)"
   ]
  },
  {
   "cell_type": "code",
   "execution_count": 3,
   "metadata": {},
   "outputs": [],
   "source": [
    "# install.packages(\"\")"
   ]
  },
  {
   "cell_type": "code",
   "execution_count": 4,
   "metadata": {},
   "outputs": [],
   "source": [
    "answer_dictionary <- hash()"
   ]
  },
  {
   "cell_type": "code",
   "execution_count": 5,
   "metadata": {},
   "outputs": [
    {
     "data": {
      "text/html": [
       "<style>\n",
       "@import url('https://fonts.googleapis.com/css?family=Roboto&effect=3d|fire-animation|canvas-print|brick-sign');\n",
       "body {background-color: aliceblue;} \n",
       "a {color: #4876ff; font-family: 'Roboto';} \n",
       "h1 {color: #348ABD; font-family: 'Roboto'; text-shadow: 4px 4px 4px #aaa;} \n",
       "h2, h3 {color: gray; font-family: 'Roboto'; text-shadow: 4px 4px 4px #aaa;}\n",
       "h4 {color: #348ABD; font-family: 'Roboto';}\n",
       "span {text-shadow: 4px 4px 4px #aaa;}\n",
       "div.output_prompt, div.output_area pre, div.output_subarea {color: gray;}\n",
       "div.input_prompt {color: #4876ff;}      \n",
       "div.output_stderr pre {background-color: aliceblue;}  \n",
       "div.output_stderr {background-color: gray;}                        \n",
       "</style>"
      ]
     },
     "metadata": {},
     "output_type": "display_data"
    }
   ],
   "source": [
    "display_html(\"<style>\n",
    "@import url('https://fonts.googleapis.com/css?family=Roboto&effect=3d|fire-animation|canvas-print|brick-sign');\n",
    "body {background-color: aliceblue;} \n",
    "a {color: #4876ff; font-family: 'Roboto';} \n",
    "h1 {color: #348ABD; font-family: 'Roboto'; text-shadow: 4px 4px 4px #aaa;} \n",
    "h2, h3 {color: gray; font-family: 'Roboto'; text-shadow: 4px 4px 4px #aaa;}\n",
    "h4 {color: #348ABD; font-family: 'Roboto';}\n",
    "span {text-shadow: 4px 4px 4px #aaa;}\n",
    "div.output_prompt, div.output_area pre, div.output_subarea {color: gray;}\n",
    "div.input_prompt {color: #4876ff;}      \n",
    "div.output_stderr pre {background-color: aliceblue;}  \n",
    "div.output_stderr {background-color: gray;}                        \n",
    "</style>\")"
   ]
  },
  {
   "cell_type": "markdown",
   "metadata": {},
   "source": [
    "## Часть 1 &nbsp; &nbsp; &nbsp; Part 1\n",
    "## 1.\n",
    "Сколько существует различных 3-значных чисел в десятичной системе счисления?\n",
    "\n",
    "How many different 3-digit numbers exist in the decimal system?"
   ]
  },
  {
   "cell_type": "code",
   "execution_count": 6,
   "metadata": {},
   "outputs": [],
   "source": [
    "answer_dictionary[1] <- toString(1000 - 100)"
   ]
  },
  {
   "cell_type": "markdown",
   "metadata": {},
   "source": [
    "## 2.\n",
    "Дан фрагмент таблицы истинности выражения $F$, зависящего от трёх логических переменных $x_1, x_2, x_3$. \n",
    "\n",
    "Значения в пустых клетках таблицы неизвестны и могут быть любыми из возможных.\n",
    "\n",
    "---\n",
    "\n",
    "A fragment of the truth table of the expression $F$, depending on three logical variables $x_1, x_2, x_3$, is given.\n",
    "\n",
    "Values in blank cells are unknown and can be any of the possible ones.\n",
    "\n",
    "| $x_1$ | $x_2$ | $x_3$ | F |\n",
    "| :-: | :-: | :-: | :-: |\n",
    "| 0 |   |   | 0 |\n",
    "| 1 | 1 | 0 | 0 |\n",
    "\n",
    "Перечислите в порядке возрастания без запятых и пробелов номера логических выражений, которые могут соответствовать F:\n",
    "\n",
    "---\n",
    "\n",
    "List in ascending order without commas and spaces the numbers of logical expressions that can correspond to F:\n",
    "\n",
    "1) $\\neg x_1 \\land \\neg x_2 \\land x_3$\n",
    "\n",
    "2) $x_1 \\lor \\neg x_2 \\lor x_3$\n",
    "\n",
    "3) $\\neg x_1 \\land x_2 \\land x_3$\n",
    "\n",
    "4) $\\neg x_1 \\lor \\neg x_2 \\lor x_3$\n",
    "\n",
    "5) $x_1 \\land x_2 \\land \\neg x_3$"
   ]
  },
  {
   "cell_type": "code",
   "execution_count": 7,
   "metadata": {},
   "outputs": [],
   "source": [
    "F1 <- function(x1,x2,x3) {return (!x1 & !x2 & x3)}\n",
    "F2 <- function(x1,x2,x3) {return (x1 | !x2 | x3)}\n",
    "F3 <- function(x1,x2,x3) {return (!x1 & x2 & x3)}\n",
    "F4 <- function(x1,x2,x3) {return (!x1 | !x2 | x3)}\n",
    "F5 <- function(x1,x2,x3) {return (x1 & x2 & !x3)}"
   ]
  },
  {
   "cell_type": "code",
   "execution_count": 8,
   "metadata": {},
   "outputs": [],
   "source": [
    "find_logic_exp <- function(f) {\n",
    "    c <- 0\n",
    "    \n",
    "    if (f(0,0,0) == 0 | f(0,0,1) == 0 | f(0,1,0) == 0 | f(0,1,1) == 0) {\n",
    "        c <- c + 1\n",
    "    }\n",
    "    if (f(1,1,0) == 0) {\n",
    "        c <- c + 1\n",
    "    }\n",
    "\n",
    "    if (c == 2) {\n",
    "        return(TRUE)\n",
    "    } else {\n",
    "        return(FALSE)\n",
    "    }\n",
    "}"
   ]
  },
  {
   "cell_type": "code",
   "execution_count": 9,
   "metadata": {},
   "outputs": [
    {
     "data": {
      "text/html": [
       "'13'"
      ],
      "text/latex": [
       "'13'"
      ],
      "text/markdown": [
       "'13'"
      ],
      "text/plain": [
       "[1] \"13\""
      ]
     },
     "metadata": {},
     "output_type": "display_data"
    }
   ],
   "source": [
    "c <- 0\n",
    "result <- ''\n",
    "\n",
    "for (f in c(F1,F2,F3,F4,F5)) {\n",
    "    c <- c + 1\n",
    "    if (find_logic_exp(f) == TRUE) {\n",
    "        result <- paste(result,toString(c),sep='')\n",
    "    }\n",
    "}\n",
    "result"
   ]
  },
  {
   "cell_type": "code",
   "execution_count": 10,
   "metadata": {},
   "outputs": [],
   "source": [
    "answer_dictionary[2] <- result"
   ]
  },
  {
   "cell_type": "markdown",
   "metadata": {},
   "source": [
    "## 3.\n",
    "Между населёнными пунктами $A, B, C, D, E, F$ построены дороги, протяжённость которых приведена в таблице. \n",
    "\n",
    "(Отсутствие числа в таблице означает, что прямой дороги между пунктами нет.)\n",
    "\n",
    "Определите длину кратчайшего пути между пунктами $A$ и $F$ (при условии, что передвигаться можно только по построенным дорогам).\n",
    "\n",
    "---\n",
    "\n",
    "Between the settlements $A, B, C, D, E, F$ roads are constructed, the lengths of which are given in the table.\n",
    "\n",
    "(The absence of a number in the table means that there is no direct road between points.)\n",
    "\n",
    "Determine the length of the shortest path between points $A$ and $F$ (provided that you can only move along the constructed roads).\n",
    "\n",
    "| &#x123CF; | A | B | C | D | E | F |\n",
    "|:-:|:-:|:-:|:-:|:-:|:-:|:-:|\n",
    "| **A** | &#x123CF; | 3 | 8 |   |   | 16 |\n",
    "| **B** | 3 | &#x123CF; | 4 | 7 |   |   |\n",
    "| **C** | 8 | 4 | &#x123CF; | 2 | 6 |   |\n",
    "| **D** |   | 7 | 2 | &#x123CF; | 5 | 4 |\n",
    "| **E** |   |   | 6 | 5 | &#x123CF; | 2 |\n",
    "| **F** | 16 |   |   | 4 | 2 | &#x123CF; |"
   ]
  },
  {
   "cell_type": "code",
   "execution_count": 11,
   "metadata": {},
   "outputs": [],
   "source": [
    "edges <- c('A','B', 'A','C', 'A','F', 'B','C', 'B','D',\n",
    "           'C','D', 'C','E', 'D','E', 'D','F', 'E','F')\n",
    "weights <- c(3,8,16,4,7,2,6,5,4,2)\n",
    "g <- graph(edges, directed=FALSE)%>%\n",
    "    set_edge_attr(\"weight\", value=weights)\n",
    "\n",
    "shortest_path <- get.shortest.paths(g,'A','F')"
   ]
  },
  {
   "cell_type": "code",
   "execution_count": 12,
   "metadata": {},
   "outputs": [
    {
     "data": {
      "text/html": [
       "<table>\n",
       "<thead><tr><th></th><th scope=col>A</th><th scope=col>B</th><th scope=col>C</th><th scope=col>D</th><th scope=col>E</th><th scope=col>F</th></tr></thead>\n",
       "<tbody>\n",
       "\t<tr><th scope=row>A</th><td> 0</td><td>3 </td><td>8 </td><td>0 </td><td>0 </td><td>16</td></tr>\n",
       "\t<tr><th scope=row>B</th><td> 3</td><td>0 </td><td>4 </td><td>7 </td><td>0 </td><td> 0</td></tr>\n",
       "\t<tr><th scope=row>C</th><td> 8</td><td>4 </td><td>0 </td><td>2 </td><td>6 </td><td> 0</td></tr>\n",
       "\t<tr><th scope=row>D</th><td> 0</td><td>7 </td><td>2 </td><td>0 </td><td>5 </td><td> 4</td></tr>\n",
       "\t<tr><th scope=row>E</th><td> 0</td><td>0 </td><td>6 </td><td>5 </td><td>0 </td><td> 2</td></tr>\n",
       "\t<tr><th scope=row>F</th><td>16</td><td>0 </td><td>0 </td><td>4 </td><td>2 </td><td> 0</td></tr>\n",
       "</tbody>\n",
       "</table>\n"
      ],
      "text/latex": [
       "\\begin{tabular}{r|llllll}\n",
       "  & A & B & C & D & E & F\\\\\n",
       "\\hline\n",
       "\tA &  0 & 3  & 8  & 0  & 0  & 16\\\\\n",
       "\tB &  3 & 0  & 4  & 7  & 0  &  0\\\\\n",
       "\tC &  8 & 4  & 0  & 2  & 6  &  0\\\\\n",
       "\tD &  0 & 7  & 2  & 0  & 5  &  4\\\\\n",
       "\tE &  0 & 0  & 6  & 5  & 0  &  2\\\\\n",
       "\tF & 16 & 0  & 0  & 4  & 2  &  0\\\\\n",
       "\\end{tabular}\n"
      ],
      "text/markdown": [
       "\n",
       "| <!--/--> | A | B | C | D | E | F | \n",
       "|---|---|---|---|---|---|\n",
       "| A |  0 | 3  | 8  | 0  | 0  | 16 | \n",
       "| B |  3 | 0  | 4  | 7  | 0  |  0 | \n",
       "| C |  8 | 4  | 0  | 2  | 6  |  0 | \n",
       "| D |  0 | 7  | 2  | 0  | 5  |  4 | \n",
       "| E |  0 | 0  | 6  | 5  | 0  |  2 | \n",
       "| F | 16 | 0  | 0  | 4  | 2  |  0 | \n",
       "\n",
       "\n"
      ],
      "text/plain": [
       "  A  B C D E F \n",
       "A  0 3 8 0 0 16\n",
       "B  3 0 4 7 0  0\n",
       "C  8 4 0 2 6  0\n",
       "D  0 7 2 0 5  4\n",
       "E  0 0 6 5 0  2\n",
       "F 16 0 0 4 2  0"
      ]
     },
     "metadata": {},
     "output_type": "display_data"
    }
   ],
   "source": [
    "adjm <- get.adjacency(g, attr=\"weight\",sparse=FALSE)\n",
    "adjm[sort(rownames(adjm)),sort(colnames(adjm))]"
   ]
  },
  {
   "cell_type": "code",
   "execution_count": 13,
   "metadata": {},
   "outputs": [
    {
     "data": {
      "image/png": "[encoded data removed]",
      "text/plain": [
       "Plot with title “”"
      ]
     },
     "metadata": {},
     "output_type": "display_data"
    }
   ],
   "source": [
    "options(repr.plot.width=7,repr.plot.height=7)\n",
    "\n",
    "E(g)$color <- \"gray\"\n",
    "E(g, path=unlist(shortest_path$vpath))$color <- \"darkorange\"\n",
    "\n",
    "plot(g, layout=layout_nicely(g),\n",
    "     vertex.color=\"steelblue\",vertex.size=30,vertex.frame.color=\"gray\",\n",
    "     edge.label=E(g)$weight,edge.label.cex=1.5,edge.width=E(g)$weight)"
   ]
  },
  {
   "cell_type": "code",
   "execution_count": 14,
   "metadata": {},
   "outputs": [
    {
     "data": {
      "text/plain": [
       "+ 5/6 vertices, named, from bfa2454:\n",
       "[1] A B C D F"
      ]
     },
     "metadata": {},
     "output_type": "display_data"
    }
   ],
   "source": [
    "shortest_path$vpath[[1]]"
   ]
  },
  {
   "cell_type": "code",
   "execution_count": 15,
   "metadata": {},
   "outputs": [
    {
     "data": {
      "text/html": [
       "<table>\n",
       "<thead><tr><th></th><th scope=col>A</th><th scope=col>B</th><th scope=col>C</th><th scope=col>D</th><th scope=col>E</th><th scope=col>F</th></tr></thead>\n",
       "<tbody>\n",
       "\t<tr><th scope=row>A</th><td> 0</td><td> 3</td><td>7 </td><td>9 </td><td>13</td><td>13</td></tr>\n",
       "\t<tr><th scope=row>B</th><td> 3</td><td> 0</td><td>4 </td><td>6 </td><td>10</td><td>10</td></tr>\n",
       "\t<tr><th scope=row>C</th><td> 7</td><td> 4</td><td>0 </td><td>2 </td><td> 6</td><td> 6</td></tr>\n",
       "\t<tr><th scope=row>D</th><td> 9</td><td> 6</td><td>2 </td><td>0 </td><td> 5</td><td> 4</td></tr>\n",
       "\t<tr><th scope=row>E</th><td>13</td><td>10</td><td>6 </td><td>5 </td><td> 0</td><td> 2</td></tr>\n",
       "\t<tr><th scope=row>F</th><td>13</td><td>10</td><td>6 </td><td>4 </td><td> 2</td><td> 0</td></tr>\n",
       "</tbody>\n",
       "</table>\n"
      ],
      "text/latex": [
       "\\begin{tabular}{r|llllll}\n",
       "  & A & B & C & D & E & F\\\\\n",
       "\\hline\n",
       "\tA &  0 &  3 & 7  & 9  & 13 & 13\\\\\n",
       "\tB &  3 &  0 & 4  & 6  & 10 & 10\\\\\n",
       "\tC &  7 &  4 & 0  & 2  &  6 &  6\\\\\n",
       "\tD &  9 &  6 & 2  & 0  &  5 &  4\\\\\n",
       "\tE & 13 & 10 & 6  & 5  &  0 &  2\\\\\n",
       "\tF & 13 & 10 & 6  & 4  &  2 &  0\\\\\n",
       "\\end{tabular}\n"
      ],
      "text/markdown": [
       "\n",
       "| <!--/--> | A | B | C | D | E | F | \n",
       "|---|---|---|---|---|---|\n",
       "| A |  0 |  3 | 7  | 9  | 13 | 13 | \n",
       "| B |  3 |  0 | 4  | 6  | 10 | 10 | \n",
       "| C |  7 |  4 | 0  | 2  |  6 |  6 | \n",
       "| D |  9 |  6 | 2  | 0  |  5 |  4 | \n",
       "| E | 13 | 10 | 6  | 5  |  0 |  2 | \n",
       "| F | 13 | 10 | 6  | 4  |  2 |  0 | \n",
       "\n",
       "\n"
      ],
      "text/plain": [
       "  A  B  C D E  F \n",
       "A  0  3 7 9 13 13\n",
       "B  3  0 4 6 10 10\n",
       "C  7  4 0 2  6  6\n",
       "D  9  6 2 0  5  4\n",
       "E 13 10 6 5  0  2\n",
       "F 13 10 6 4  2  0"
      ]
     },
     "metadata": {},
     "output_type": "display_data"
    }
   ],
   "source": [
    "d <- distances(g)\n",
    "d[sort(rownames(d)),sort(colnames(d))]"
   ]
  },
  {
   "cell_type": "code",
   "execution_count": 16,
   "metadata": {},
   "outputs": [],
   "source": [
    "answer_dictionary[3] <- distances(g,'A','F')"
   ]
  },
  {
   "cell_type": "markdown",
   "metadata": {},
   "source": [
    "## 4.\n",
    "Для групповых операций с файлами используются маски имён файлов. \n",
    "\n",
    "Маска представляет собой последовательность букв, цифр и прочих допустимых в именах файлов символов, в которой также могут встречаться следующие символы.\n",
    "\n",
    "Символ <i style=\"font-size:170%;\" class=\"font-effect-fire-animation\">«?»</i> &nbsp; (вопросительный знак) означает ровно один произвольный символ.\n",
    "\n",
    "Символ <i style=\"font-size:170%;\" class=\"font-effect-fire-animation\">«&#42;»</i> &nbsp; (звёздочка) означает любую последовательность символов произвольной длины, в том числе <i style=\"font-size:170%;\" class=\"font-effect-fire-animation\">«&#42;»</i> &nbsp; может задавать и пустую последовательность.\n",
    "\n",
    "Имеется список из нескольких масок:\n",
    "    \n",
    "`*to*.?*a*`, `*sto??.*`, `?*to*.???`, `a*to*m.*?a`.\n",
    "\n",
    "Определите, какие из указанных файлов будут отобраны по ровно трём из приведённых масок:\n",
    "\n",
    "1) `astorm.aa`, 2) `anastom.bra`, 3) `apostorm.mka`, 4) `abrasto2m.abc`.\n",
    "\n",
    "В ответе перечислите номера файлов в порядке возрастания без пробелов и знаков препинания.\n",
    "\n",
    "---\n",
    "\n",
    "For group operations with files, masks of file names are used. \n",
    "\n",
    "A mask is a sequence of letters, numbers and other permissible characters in file names, in which the following characters can also occur.\n",
    "\n",
    "The symbol <i style=\"font-size:170%;\" class=\"font-effect-fire-animation\">«?»</i> &nbsp; (question mark) means exactly one arbitrary symbol.\n",
    "\n",
    "The symbol <i style=\"font-size:170%;\" class=\"font-effect-fire-animation\">«&#42;»</i> &nbsp; (asterisk) means any character sequence of an arbitrary length, including the case when <i style=\"font-size:170%;\" class=\"font-effect-fire-animation\">«&#42;»</i> &nbsp; can specify an empty sequence.\n",
    "\n",
    "There is a list of several masks:\n",
    "\n",
    "`*to*.?*a*`, `*sto??.*`, `?*to*.???`, `a*to*m.*?a`.\n",
    "\n",
    "Determine which of the specified files will be selected on exactly three of the given masks:\n",
    "\n",
    "1) `astorm.aa`, 2) `anastom.bra`, 3) `apostorm.mka`, 4) `abrasto2m.abc`.\n",
    "\n",
    "In the answer, list file numbers in ascending order without spaces and punctuation marks."
   ]
  },
  {
   "cell_type": "code",
   "execution_count": 17,
   "metadata": {},
   "outputs": [
    {
     "data": {
      "text/html": [
       "<table>\n",
       "<thead><tr><th scope=col>file_list</th><th scope=col>mask_1</th><th scope=col>mask_2</th><th scope=col>mask_3</th><th scope=col>mask_4</th></tr></thead>\n",
       "<tbody>\n",
       "\t<tr><td>astorm.aa    </td><td> TRUE        </td><td> TRUE        </td><td>FALSE        </td><td> TRUE        </td></tr>\n",
       "\t<tr><td>anastom.bra  </td><td> TRUE        </td><td>FALSE        </td><td> TRUE        </td><td> TRUE        </td></tr>\n",
       "\t<tr><td>apostorm.mka </td><td> TRUE        </td><td> TRUE        </td><td> TRUE        </td><td> TRUE        </td></tr>\n",
       "\t<tr><td>abrasto2m.abc</td><td>FALSE        </td><td> TRUE        </td><td> TRUE        </td><td>FALSE        </td></tr>\n",
       "</tbody>\n",
       "</table>\n"
      ],
      "text/latex": [
       "\\begin{tabular}{r|lllll}\n",
       " file\\_list & mask\\_1 & mask\\_2 & mask\\_3 & mask\\_4\\\\\n",
       "\\hline\n",
       "\t astorm.aa     &  TRUE         &  TRUE         & FALSE         &  TRUE        \\\\\n",
       "\t anastom.bra   &  TRUE         & FALSE         &  TRUE         &  TRUE        \\\\\n",
       "\t apostorm.mka  &  TRUE         &  TRUE         &  TRUE         &  TRUE        \\\\\n",
       "\t abrasto2m.abc & FALSE         &  TRUE         &  TRUE         & FALSE        \\\\\n",
       "\\end{tabular}\n"
      ],
      "text/markdown": [
       "\n",
       "file_list | mask_1 | mask_2 | mask_3 | mask_4 | \n",
       "|---|---|---|---|\n",
       "| astorm.aa     |  TRUE         |  TRUE         | FALSE         |  TRUE         | \n",
       "| anastom.bra   |  TRUE         | FALSE         |  TRUE         |  TRUE         | \n",
       "| apostorm.mka  |  TRUE         |  TRUE         |  TRUE         |  TRUE         | \n",
       "| abrasto2m.abc | FALSE         |  TRUE         |  TRUE         | FALSE         | \n",
       "\n",
       "\n"
      ],
      "text/plain": [
       "  file_list     mask_1 mask_2 mask_3 mask_4\n",
       "1 astorm.aa      TRUE   TRUE  FALSE   TRUE \n",
       "2 anastom.bra    TRUE  FALSE   TRUE   TRUE \n",
       "3 apostorm.mka   TRUE   TRUE   TRUE   TRUE \n",
       "4 abrasto2m.abc FALSE   TRUE   TRUE  FALSE "
      ]
     },
     "metadata": {},
     "output_type": "display_data"
    }
   ],
   "source": [
    "file_list <- c('astorm.aa', 'anastom.bra', 'apostorm.mka', 'abrasto2m.abc')\n",
    "mask_list <- c('*to*.?*a*', '*sto??.*', '?*to*.???', 'a*to*m.*?a')\n",
    "\n",
    "df <- data.frame(file_list=file_list,\n",
    "                 mask_1=grepl(\"^.*to.*\\\\...*a.*$\", file_list), \n",
    "                 mask_2=grepl(\"^.*sto..\\\\..*$\", file_list), \n",
    "                 mask_3=grepl(\"^..*to.*\\\\....$\", file_list), \n",
    "                 mask_4=grepl(\"^a.*to.*m\\\\..*.a$\", file_list))\n",
    "df"
   ]
  },
  {
   "cell_type": "code",
   "execution_count": 18,
   "metadata": {},
   "outputs": [
    {
     "name": "stdout",
     "output_type": "stream",
     "text": [
      "[1] \"astorm.aa\"\n",
      "[1] 3\n",
      "[1] \"anastom.bra\"\n",
      "[1] 3\n",
      "[1] \"apostorm.mka\"\n",
      "[1] 4\n",
      "[1] \"abrasto2m.abc\"\n",
      "[1] 2\n"
     ]
    },
    {
     "data": {
      "text/html": [
       "'12'"
      ],
      "text/latex": [
       "'12'"
      ],
      "text/markdown": [
       "'12'"
      ],
      "text/plain": [
       "[1] \"12\""
      ]
     },
     "metadata": {},
     "output_type": "display_data"
    }
   ],
   "source": [
    "c <- ''\n",
    "for (i in 1:4) {\n",
    "    print(file_list[i]); \n",
    "    print(length(df[i,2:5][df[i,2:5]==TRUE]))\n",
    "    \n",
    "    if (length(df[i,2:5][df[i,2:5]==TRUE]) == 3) {\n",
    "        c <- paste(c,toString(i),sep='')\n",
    "    }\n",
    "}\n",
    "\n",
    "c"
   ]
  },
  {
   "cell_type": "code",
   "execution_count": 19,
   "metadata": {},
   "outputs": [],
   "source": [
    "answer_dictionary[4] <- c"
   ]
  },
  {
   "cell_type": "markdown",
   "metadata": {},
   "source": [
    "## 5.\n",
    "Для передачи информации по каналу связи с помехами используется 5-битовый код. \n",
    "\n",
    "Сообщение содержит только буквы A, B и C, которые кодируются следующими кодовыми словами:\n",
    "\n",
    "<i style=\"font-size:130%;color:#348ABD;\" class=\"font-effect-3d\">A-10101, B-10010, C-01110</i>.\n",
    "\n",
    "Любые два из этих трёх кодовых слов отличаются не менее чем в трёх позициях. Поэтому, если принятое кодовое слово отличается от допустимого не более чем в одной позиции, можно однозначно определить, какая буква передавалась (говорят, что «код исправляет одну ошибку»). Так, получив кодовое слово 10000, можно догадаться, что передавалась буква B (отличие от кодового слова для B только в одной позиции, для остальных кодовых слов отличий больше). Если принятое кодовое слово отличается от всех допустимых кодовых слов более, чем в одной позиции, считается, что произошла ошибка (она обозначается «х»).\n",
    "\n",
    "Получено сообщение: <i style=\"font-size:130%;color:#348ABD;\" class=\"font-effect-3d\">00101 11010 11110 10111</i>. \n",
    "\n",
    "Декодируйте это сообщение. В ответе укажите четыре символа без пробелов и запятых.\n",
    "\n",
    "---\n",
    "\n",
    "To transmit information over a communication channel with interference, a 5-bit code is used. \n",
    "\n",
    "The message contains only the letters A, B and C, which are encoded by the following code words:\n",
    "\n",
    "<i style=\"font-size:130%;color:#348ABD;\" class=\"font-effect-3d\">A-10101, B-10010, C-01110</i>.\n",
    "\n",
    "Any two of these three codewords differ in at least three positions. Therefore, if the received codeword differs from permissible in not more than one position, it is possible to unambiguously determine which letter was transmitted (say that \"decoding corrects one error\"). So, having received the code word 10000, you can guess that the letter B was transmitted (unlike the codeword for B in only one position, for the other codewords there are more differences). If the received codeword differs from all valid codewords in more than one position, it is considered that an error has occurred (it is denoted by \"x\").\n",
    "\n",
    "The received message: <i style=\"font-size:130%;color:#348ABD;\" class=\"font-effect-3d\">00101 11010 11110 10111</i>.\n",
    "\n",
    "Decode this message. In the answer, specify four characters without spaces or commas."
   ]
  },
  {
   "cell_type": "code",
   "execution_count": 20,
   "metadata": {},
   "outputs": [
    {
     "data": {
      "text/html": [
       "<table>\n",
       "<tbody>\n",
       "\t<tr><td>1</td></tr>\n",
       "</tbody>\n",
       "</table>\n"
      ],
      "text/latex": [
       "\\begin{tabular}{l}\n",
       "\t 1\\\\\n",
       "\\end{tabular}\n"
      ],
      "text/markdown": [
       "\n",
       "| 1 | \n",
       "\n",
       "\n"
      ],
      "text/plain": [
       "     [,1]\n",
       "[1,] 1   "
      ]
     },
     "metadata": {},
     "output_type": "display_data"
    },
    {
     "data": {
      "text/html": [
       "<table>\n",
       "<tbody>\n",
       "\t<tr><td>2</td></tr>\n",
       "</tbody>\n",
       "</table>\n"
      ],
      "text/latex": [
       "\\begin{tabular}{l}\n",
       "\t 2\\\\\n",
       "\\end{tabular}\n"
      ],
      "text/markdown": [
       "\n",
       "| 2 | \n",
       "\n",
       "\n"
      ],
      "text/plain": [
       "     [,1]\n",
       "[1,] 2   "
      ]
     },
     "metadata": {},
     "output_type": "display_data"
    },
    {
     "data": {
      "text/html": [
       "<table>\n",
       "<tbody>\n",
       "\t<tr><td>3</td></tr>\n",
       "</tbody>\n",
       "</table>\n"
      ],
      "text/latex": [
       "\\begin{tabular}{l}\n",
       "\t 3\\\\\n",
       "\\end{tabular}\n"
      ],
      "text/markdown": [
       "\n",
       "| 3 | \n",
       "\n",
       "\n"
      ],
      "text/plain": [
       "     [,1]\n",
       "[1,] 3   "
      ]
     },
     "metadata": {},
     "output_type": "display_data"
    }
   ],
   "source": [
    "adist('10101', '00101'); adist('10010', '00101'); adist('01110', '00101')"
   ]
  },
  {
   "cell_type": "code",
   "execution_count": 21,
   "metadata": {},
   "outputs": [
    {
     "data": {
      "text/html": [
       "'ABCA'"
      ],
      "text/latex": [
       "'ABCA'"
      ],
      "text/markdown": [
       "'ABCA'"
      ],
      "text/plain": [
       "[1] \"ABCA\""
      ]
     },
     "metadata": {},
     "output_type": "display_data"
    }
   ],
   "source": [
    "codes <- c('10101','10010','01110') \n",
    "letters <- c('A','B','C')\n",
    "string <- unlist(strsplit('00101 11010 11110 10111', '[ ]'))\n",
    "result <- ''\n",
    "\n",
    "for (el in string) {\n",
    "    for (i in 1:3) {\n",
    "        if (adist(el,codes[i]) < 2) {\n",
    "            result <- paste(result,letters[i],sep='')\n",
    "        }\n",
    "    }\n",
    "}\n",
    "\n",
    "result"
   ]
  },
  {
   "cell_type": "code",
   "execution_count": 22,
   "metadata": {},
   "outputs": [],
   "source": [
    "answer_dictionary[5] <- result"
   ]
  },
  {
   "cell_type": "markdown",
   "metadata": {},
   "source": [
    "## 6.\n",
    "В некоторой информационной системе информация кодируется двоичными четырёхразрядными словами. \n",
    "\n",
    "При передаче данных возможны их искажения, поэтому в конец каждого слова добавляется еще один (контрольный) разряд таким образом, \n",
    "\n",
    "чтобы сумма разрядов нового слова, считая контрольный, была чётной. \n",
    "\n",
    "Например, к слову `1011` справа будет добавлена `1`, а к слову `1010` — `0`.\n",
    "\n",
    "После этого, для увеличения надежности кодирования, к полученному слову добавляется сумма его разрядов в двоичном виде. \n",
    "\n",
    "Например, исходное слово `1000` превратится в `1000110`.\n",
    "\n",
    "Какое наименьшее число, большее 30 число может быть получено в результате этого алгоритма? \n",
    "\n",
    "Ответ запишите в десятичном виде.\n",
    "\n",
    "---\n",
    "\n",
    "In some information system, information is encoded in binary four-digit words. \n",
    "\n",
    "With transmitting data, their distortions are possible, so at the end of each word one more (control) symbol is added \n",
    "\n",
    "so that the sum of the bits of the new word, assuming the control word, is even. \n",
    "\n",
    "For example, to the word `1011` will be added `1` from the right, and to the word `1010` - `0`.\n",
    "\n",
    "After that, for increasing the reliability of encoding, to the resulting word the sum of its digit bits in the binary form is added. \n",
    "\n",
    "For example, the original word `1000` will turn into `1000110`.\n",
    "\n",
    "What is the smallest number, greater than 30, can be obtained as a result of this algorithm? \n",
    "\n",
    "Write the answer in decimal form."
   ]
  },
  {
   "cell_type": "code",
   "execution_count": 23,
   "metadata": {},
   "outputs": [
    {
     "data": {
      "text/html": [
       "<table>\n",
       "<tbody>\n",
       "\t<tr><td>0</td><td>0</td><td>0</td><td>0</td></tr>\n",
       "\t<tr><td>0</td><td>0</td><td>0</td><td>1</td></tr>\n",
       "\t<tr><td>0</td><td>0</td><td>1</td><td>0</td></tr>\n",
       "\t<tr><td>0</td><td>0</td><td>1</td><td>1</td></tr>\n",
       "\t<tr><td>0</td><td>1</td><td>0</td><td>0</td></tr>\n",
       "\t<tr><td>0</td><td>1</td><td>0</td><td>1</td></tr>\n",
       "\t<tr><td>0</td><td>1</td><td>1</td><td>0</td></tr>\n",
       "</tbody>\n",
       "</table>\n"
      ],
      "text/latex": [
       "\\begin{tabular}{llll}\n",
       "\t 0 & 0 & 0 & 0\\\\\n",
       "\t 0 & 0 & 0 & 1\\\\\n",
       "\t 0 & 0 & 1 & 0\\\\\n",
       "\t 0 & 0 & 1 & 1\\\\\n",
       "\t 0 & 1 & 0 & 0\\\\\n",
       "\t 0 & 1 & 0 & 1\\\\\n",
       "\t 0 & 1 & 1 & 0\\\\\n",
       "\\end{tabular}\n"
      ],
      "text/markdown": [
       "\n",
       "| 0 | 0 | 0 | 0 | \n",
       "| 0 | 0 | 0 | 1 | \n",
       "| 0 | 0 | 1 | 0 | \n",
       "| 0 | 0 | 1 | 1 | \n",
       "| 0 | 1 | 0 | 0 | \n",
       "| 0 | 1 | 0 | 1 | \n",
       "| 0 | 1 | 1 | 0 | \n",
       "\n",
       "\n"
      ],
      "text/plain": [
       "     [,1] [,2] [,3] [,4]\n",
       "[1,] 0    0    0    0   \n",
       "[2,] 0    0    0    1   \n",
       "[3,] 0    0    1    0   \n",
       "[4,] 0    0    1    1   \n",
       "[5,] 0    1    0    0   \n",
       "[6,] 0    1    0    1   \n",
       "[7,] 0    1    1    0   "
      ]
     },
     "metadata": {},
     "output_type": "display_data"
    }
   ],
   "source": [
    "bc <- bincombinations(4)\n",
    "result <- integer(16)\n",
    "bc[1:7,1:4]"
   ]
  },
  {
   "cell_type": "code",
   "execution_count": 24,
   "metadata": {},
   "outputs": [],
   "source": [
    "options(scipen = 999)\n",
    "\n",
    "dec2bin <- function(n) {\n",
    "  if (n == 0) {\n",
    "      bv <- '0'\n",
    "  } else {\n",
    "      bv <- rep(0, 1 + floor(log(n, 2)))\n",
    "      while (n >= 2) {\n",
    "          pow <- floor(log(n, 2))\n",
    "          bv[1 + pow] <- 1\n",
    "          n <- n - 2^pow\n",
    "      }\n",
    "      bv[1] <- n %% 2\n",
    "      paste(rev(bv), collapse = \"\")\n",
    "  }\n",
    "}\n",
    "\n",
    "bin2dec <- function(n) {\n",
    "  return(sapply(strsplit(as.character(n),split=\"\"), \n",
    "                function(x) sum(as.numeric(x) * 2 ** (rev(seq_along(x) - 1)))))\n",
    "} "
   ]
  },
  {
   "cell_type": "code",
   "execution_count": 25,
   "metadata": {},
   "outputs": [
    {
     "name": "stdout",
     "output_type": "stream",
     "text": [
      "[1] \"000000\"\n",
      "[1] \"0001110\"\n",
      "[1] \"0010110\"\n",
      "[1] \"0011010\"\n",
      "[1] \"0100110\"\n",
      "[1] \"0101010\"\n",
      "[1] \"0110010\"\n",
      "[1] \"01111100\"\n",
      "[1] \"1000110\"\n",
      "[1] \"1001010\"\n",
      "[1] \"1010010\"\n",
      "[1] \"10111100\"\n",
      "[1] \"1100010\"\n",
      "[1] \"11011100\"\n",
      "[1] \"11101100\"\n",
      "[1] \"11110100\"\n"
     ]
    }
   ],
   "source": [
    "for (i in 1:16) {\n",
    "    el <- paste0(bc[i,1:4],collapse=\"\")\n",
    "    s <- sum(bc[i,1:4])\n",
    "    if (s %% 2 == 0) {\n",
    "        el <- paste(el,'0',sep='')\n",
    "    } else {\n",
    "        el <- paste(el,'1',sep='')\n",
    "        s <- s + 1\n",
    "    }\n",
    "    el <- paste(el,dec2bin(s),sep='')\n",
    "    print(el)\n",
    "    result[i] <- bin2dec(el)\n",
    "}"
   ]
  },
  {
   "cell_type": "code",
   "execution_count": 26,
   "metadata": {},
   "outputs": [
    {
     "data": {
      "text/html": [
       "<ol class=list-inline>\n",
       "\t<li>0</li>\n",
       "\t<li>14</li>\n",
       "\t<li>22</li>\n",
       "\t<li>26</li>\n",
       "\t<li>38</li>\n",
       "\t<li>42</li>\n",
       "\t<li>50</li>\n",
       "\t<li>124</li>\n",
       "\t<li>70</li>\n",
       "\t<li>74</li>\n",
       "\t<li>82</li>\n",
       "\t<li>188</li>\n",
       "\t<li>98</li>\n",
       "\t<li>220</li>\n",
       "\t<li>236</li>\n",
       "\t<li>244</li>\n",
       "</ol>\n"
      ],
      "text/latex": [
       "\\begin{enumerate*}\n",
       "\\item 0\n",
       "\\item 14\n",
       "\\item 22\n",
       "\\item 26\n",
       "\\item 38\n",
       "\\item 42\n",
       "\\item 50\n",
       "\\item 124\n",
       "\\item 70\n",
       "\\item 74\n",
       "\\item 82\n",
       "\\item 188\n",
       "\\item 98\n",
       "\\item 220\n",
       "\\item 236\n",
       "\\item 244\n",
       "\\end{enumerate*}\n"
      ],
      "text/markdown": [
       "1. 0\n",
       "2. 14\n",
       "3. 22\n",
       "4. 26\n",
       "5. 38\n",
       "6. 42\n",
       "7. 50\n",
       "8. 124\n",
       "9. 70\n",
       "10. 74\n",
       "11. 82\n",
       "12. 188\n",
       "13. 98\n",
       "14. 220\n",
       "15. 236\n",
       "16. 244\n",
       "\n",
       "\n"
      ],
      "text/plain": [
       " [1]   0  14  22  26  38  42  50 124  70  74  82 188  98 220 236 244"
      ]
     },
     "metadata": {},
     "output_type": "display_data"
    }
   ],
   "source": [
    "result"
   ]
  },
  {
   "cell_type": "code",
   "execution_count": 27,
   "metadata": {},
   "outputs": [
    {
     "data": {
      "text/html": [
       "38"
      ],
      "text/latex": [
       "38"
      ],
      "text/markdown": [
       "38"
      ],
      "text/plain": [
       "[1] 38"
      ]
     },
     "metadata": {},
     "output_type": "display_data"
    }
   ],
   "source": [
    "n <- min(result[result > 30])\n",
    "n"
   ]
  },
  {
   "cell_type": "code",
   "execution_count": 28,
   "metadata": {},
   "outputs": [],
   "source": [
    "answer_dictionary[6] <- toString(n)"
   ]
  },
  {
   "cell_type": "markdown",
   "metadata": {},
   "source": [
    "## 7.\n",
    "В электронной таблице в ячейке D4 записана формула, которая вычисляет результат умножения значения ячейки С3 на 2. \n",
    "\n",
    "Формулу из ячейки D4 скопировали в ячейку Е3. \n",
    "\n",
    "Какое количество следующих утверждений не противоречит условию?\n",
    "\n",
    "1) В ячейке Е3 вычисляется результат удвоения значения ячейки D2.\n",
    "\n",
    "2) В ячейке Е3 вычисляется результат удвоения значения ячейки C2.\n",
    "\n",
    "3) В ячейке Е3 вычисляется результат удвоения значения ячейки D3.\n",
    "\n",
    "---\n",
    "\n",
    "In the spreadsheet, a formula is written in the cell D4, it calculates the result of multiplying the value of the cell C3 by 2. \n",
    "\n",
    "The formula from the cell D4 was copied into the cell E3. \n",
    "\n",
    "How many of the following statements do not contradict the condition?\n",
    "\n",
    "1) In the cell E3, the result of doubling the value of the cell D2 is calculated.\n",
    "\n",
    "2) In the cell E3, the result of doubling the value of the cell C2 is calculated.\n",
    "\n",
    "3) In the cell E3, the result of doubling the value of the cell D3 is calculated."
   ]
  },
  {
   "cell_type": "markdown",
   "metadata": {},
   "source": [
    "[Google Sheet](https://drive.google.com/open?id=1bSJxuKBzEWbI6X9i7vSgCiClX-KSe2-OiytCqRVkhR4)\n",
    "\n",
    "Результат копирования ячейки.\n",
    "\n",
    "The result of copying the cell.\n",
    "\n",
    "<div style=\"width:800px;height:300px;overflow:auto;\">\n",
    "    <img src=\"it_images/2017_09_07a.png\" width=\"800\" height=\"300\"/>\n",
    "</div>"
   ]
  },
  {
   "cell_type": "code",
   "execution_count": 29,
   "metadata": {},
   "outputs": [],
   "source": [
    "answer_dictionary[7] <- '1'"
   ]
  },
  {
   "cell_type": "markdown",
   "metadata": {},
   "source": [
    "## 8.\n",
    "Определите, что будет напечатано в результате выполнения следующего фрагмента программы:\n",
    "\n",
    "Determine what will be printed as a result of execution of the following program fragment:\n",
    "<table style=\"width:95%;\">\n",
    "  <tr style=\"font-size:150%;color:#348ABD;\" class=\"font-effect-3d\">\n",
    "    <th style=\"text-align:center;\">Python</th> \n",
    "    <th style=\"text-align:center;\">R</th>          \n",
    "  </tr>\n",
    "  <tr>\n",
    "    <td style=\"font-weight:bold;text-align:left;\"><pre><code class='python'>\n",
    "\n",
    "k, s = 5, 512\n",
    "while s > 5:\n",
    "    s = s // 2\n",
    "    k += 4\n",
    "\n",
    "print (k)\n",
    "    </code></pre></td> \n",
    "    <td style=\"font-weight:bold;text-align:left;\"><pre><code class='r'> \n",
    "    \n",
    "k <- 5; s <- 512\n",
    "\n",
    "while (s > 5) {\n",
    "    s <- s %/% 2\n",
    "    k <- k + 4\n",
    "}\n",
    "\n",
    "print(k)\n",
    "    </code></pre></td>     \n",
    "  </tr> \n",
    "  <tr style=\"font-size:150%;color:#348ABD;\" class=\"font-effect-3d\">\n",
    "    <th style=\"text-align:center;\">BASIC</th> \n",
    "    <th style=\"text-align:center;\">Pascal</th>          \n",
    "  </tr>\n",
    "  <tr>\n",
    "    <td style=\"font-weight:bold;text-align:left;\"><pre><code class='basic'>\n",
    "\n",
    "DIM k, s AS INTEGER\n",
    "k = 5\n",
    "s = 512\n",
    "WHILE s > 5\n",
    "    s = s \\ 2\n",
    "    k = k + 4\n",
    "WEND\n",
    "PRINT k\n",
    "    </code></pre></td> \n",
    "    <td style=\"font-weight:bold;text-align:left;\"><pre><code class='pascal'> \n",
    "    \n",
    "var k, s : integer;\n",
    "begin\n",
    "    k := 5;\n",
    "    s := 512;\n",
    "    while s > 5 do\n",
    "        s := s div 2;\n",
    "        k := k + 4;\n",
    "    end;\n",
    "    write(k);\n",
    "end.\n",
    "    </code></pre></td>     \n",
    "  </tr>    \n",
    "  <tr style=\"font-size:150%;color:#348ABD;\" class=\"font-effect-3d\">\n",
    "    <th style=\"text-align:center;\">C</th> \n",
    "    <th style=\"text-align:center;\">Natural Language Programming</th>          \n",
    "  </tr>\n",
    "  <tr>\n",
    "    <td style=\"font-weight:bold;text-align:left;\"><pre><code class='c'>\n",
    "\n",
    "{\n",
    "    int k, s;\n",
    "    k = 5;\n",
    "    s = 512;\n",
    "    while (s > 5)\n",
    "    {\n",
    "        s = s / 2;\n",
    "        k = k + 4;\n",
    "    } \n",
    "    printf(\"%d\", k);\n",
    "}\n",
    "    </code></pre></td> \n",
    "    <td style=\"font-weight:bold;text-align:left;\"><pre><code class='nlp'> \n",
    "    \n",
    "нач\n",
    "    цел k, s\n",
    "    k := 5\n",
    "    s := 512\n",
    "    нц пока s > 5\n",
    "        s := div(s,2)\n",
    "        k := k + 4\n",
    "    кц\n",
    "    вывод k\n",
    "кон\n",
    "    </code></pre></td>     \n",
    "  </tr>      \n",
    "</table>"
   ]
  },
  {
   "cell_type": "code",
   "execution_count": 30,
   "metadata": {},
   "outputs": [
    {
     "name": "stdout",
     "output_type": "stream",
     "text": [
      "[1] 33\n"
     ]
    }
   ],
   "source": [
    "k <- 5; s <- 512\n",
    "\n",
    "while (s > 5) {\n",
    "    s <- s %/% 2\n",
    "    k <- k + 4\n",
    "}\n",
    "\n",
    "print(k)"
   ]
  },
  {
   "cell_type": "code",
   "execution_count": 31,
   "metadata": {},
   "outputs": [],
   "source": [
    "answer_dictionary[8] <- toString(k)"
   ]
  },
  {
   "cell_type": "markdown",
   "metadata": {},
   "source": [
    "## 9.\n",
    "Музыкальный фрагмент был оцифрован и записан в виде файла без использования сжатия данных. \n",
    "\n",
    "Получившийся файл был передан в город А по каналу связи за 40 секунд. \n",
    "\n",
    "Затем тот же музыкальный фрагмент был оцифрован повторно \n",
    "\n",
    "- с разрешением в 2 раза меньше и \n",
    "- частотой дискретизации в 1,5 раза больше, чем в первый раз. \n",
    "\n",
    "Сжатие данных не производилось. \n",
    "\n",
    "Полученный файл был передан в город Б; \n",
    "\n",
    "пропускная способность канала связи с городом Б в 3 раза выше, чем канала связи с городом А. \n",
    "\n",
    "Сколько секунд длилась передача файла в город Б? \n",
    "\n",
    "В ответе запишите только целое число, единицу измерения писать не нужно.\n",
    "\n",
    "---\n",
    "\n",
    "The musical fragment was digitized and recorded as a file without using data compression. \n",
    "\n",
    "The resulting file was transferred to the city A via the communication channel in 40 seconds. \n",
    "\n",
    "Then the same musical fragment was digitized again with \n",
    "\n",
    "- a resolution of 2 times smaller and \n",
    "- a sampling frequency 1.5 times greater than the first time. \n",
    "\n",
    "Data compression was not performed. \n",
    "\n",
    "The resulting file was transferred to the city B; \n",
    "\n",
    "the capacity for the communication channel with the city B is 3 times higher than for the communication channel with the city A.\n",
    "\n",
    "How many seconds did the file transfer to the city B? \n",
    "\n",
    "In the answer, write down only an integer, you do not need to write a unit of measurement."
   ]
  },
  {
   "cell_type": "markdown",
   "metadata": {},
   "source": [
    "1) Второй музыкальный фрагмент имеет меньший размер, чем первый (разрешение в 2 раза меньше, частота дискретизации в 1,5 раза больше). \n",
    "\n",
    "2) Пропускная способность канала связи с городом Б в 3 раза выше, а значит время передачи файлов уменьшается в 3 раза по сравнению с каналом с городом А.\n",
    "\n",
    "3) Учитывая пункты 1) и 2), меньший файл по каналу с большей пропускной способностью будет передан за: $40 / 2 * 1.5 / 3 = 10$ секунд.\n",
    "\n",
    "---\n",
    "\n",
    "1) The second musical fragment has a smaller size than the first one (resolution is 2 times smaller, the sampling rate is 1.5 times larger).\n",
    "\n",
    "2) The capacity of the communication channel with the city B is 3 times higher, it means that the time of file transfer is reduced by 3 times in comparison with the channel with the city A.\n",
    "\n",
    "3) According to the points 1) and 2), a smaller file on a channel with a higher bandwidth will be transferred for: $40/2 * 1.5 / 3 = 10$ seconds."
   ]
  },
  {
   "cell_type": "code",
   "execution_count": 32,
   "metadata": {},
   "outputs": [],
   "source": [
    "answer_dictionary[9] <- toString(as.integer(40 / 2 * 1.5 / 3))"
   ]
  },
  {
   "cell_type": "markdown",
   "metadata": {},
   "source": [
    "## 10.\n",
    "При сборе статистики о посетителях гипермаркета маркетолог записывает про каждого вошедшего: \n",
    "\n",
    "пол (м/ж), один или нет, возрастную категорию (ребёнок/подросток/взрослый/ пожилой). \n",
    "\n",
    "При этом за час зарегистрировано 300 посетителей. \n",
    "\n",
    "Какое количество информации (число бит) получил маркетолог?\n",
    "\n",
    "---\n",
    "\n",
    "With collecting statistics about visitors of a hypermarket, the marketer writes information about each person who entered: \n",
    "\n",
    "sex (m / f), one or not, the age category (child / adolescent / adult / elderly). \n",
    "\n",
    "During the experiment, 300 visitors were registered per hour.\n",
    "\n",
    "How much information (number of bits) has a marketer got?"
   ]
  },
  {
   "cell_type": "markdown",
   "metadata": {},
   "source": [
    "| Виды информации | Пол | Один или нет | Возрастная категория | Количество посетителей |\n",
    "|:-:|:-:|:-:|:-:|:-:|\n",
    "| Варианты | м/ж | да/нет | ребёнок/подросток/взрослый/пожилой | 300 |\n",
    "| Кодировка | 1/0 | 1/0 | 00/01/10/11 | - |\n",
    "| В битах | 1 | 1 | 2 | $(1 + 1 + 2 ) * 300 = 1200$ | \n",
    "\n",
    "---\n",
    "\n",
    "| Kinds of Information | Gender | Alone or not | Age | Visitor Quantity |\n",
    "|:-:|:-:|:-:|:-:|:-:|\n",
    "| Options | m/f | yes/no | child/adolescent/adult/elderly | 300 |\n",
    "| Encoding | 1/0 | 1/0 | 00/01/10/11 | - |\n",
    "| In bits | 1 | 1 | 2 | $(1 + 1 + 2 ) * 300 = 1200$ | "
   ]
  },
  {
   "cell_type": "code",
   "execution_count": 33,
   "metadata": {},
   "outputs": [],
   "source": [
    "answer_dictionary[10] <- toString(300 * 4)"
   ]
  },
  {
   "cell_type": "markdown",
   "metadata": {},
   "source": [
    "## 11.\n",
    "Определите, сколько звёздочек будет напечатано в результате вызова F(5) приведённой подпрограммы:\n",
    "\n",
    "Determine how many asterisks will be printed as a result of calling F(5) from this program fragment:\n",
    "<table style=\"width:95%;\">\n",
    "  <tr style=\"font-size:150%;color:#348ABD;\" class=\"font-effect-3d\">\n",
    "    <th style=\"text-align:center;\">Python</th> \n",
    "    <th style=\"text-align:center;\">R</th>          \n",
    "  </tr>\n",
    "  <tr>\n",
    "    <td style=\"font-weight:bold;text-align:left;\"><pre><code class='python'>\n",
    "\n",
    "def F(n):\n",
    "    print('*')    \n",
    "    if n > 0:\n",
    "        F(n - 3)\n",
    "        F(n - 1)\n",
    "        print('*')\n",
    "\n",
    "    </code></pre></td> \n",
    "    <td style=\"font-weight:bold;text-align:left;\"><pre><code class='r'> \n",
    "    \n",
    "F <- function(n) {\n",
    "    print('*')    \n",
    "    if (n > 0) {\n",
    "        F(n - 3)\n",
    "        F(n - 1)\n",
    "        print('*')\n",
    "    }\n",
    "}\n",
    "    </code></pre></td>     \n",
    "  </tr> \n",
    "  <tr style=\"font-size:150%;color:#348ABD;\" class=\"font-effect-3d\">\n",
    "    <th style=\"text-align:center;\">BASIC</th> \n",
    "    <th style=\"text-align:center;\">Pascal</th>          \n",
    "  </tr>\n",
    "  <tr>\n",
    "    <td style=\"font-weight:bold;text-align:left;\"><pre><code class='basic'>\n",
    "\n",
    "SUB F(n)\n",
    "    PRINT \"&#42;\";\n",
    "    IF n > 0 THEN\n",
    "        F(n - 2)\n",
    "        F(n - 1)\n",
    "        PRINT \"&#42;\";\n",
    "    END IF\n",
    "END SUB\n",
    "    </code></pre></td> \n",
    "    <td style=\"font-weight:bold;text-align:left;\"><pre><code class='pascal'> \n",
    "    \n",
    "procedure F(n : integer);\n",
    "begin\n",
    "    write('&#42;');\n",
    "    if n > 0 then\n",
    "        F(n - 3);\n",
    "        F(n - 1);\n",
    "        write('&#42;');\n",
    "    end;\n",
    "\n",
    "end.\n",
    "    </code></pre></td>     \n",
    "  </tr>    \n",
    "  <tr style=\"font-size:150%;color:#348ABD;\" class=\"font-effect-3d\">\n",
    "    <th style=\"text-align:center;\">C</th> \n",
    "    <th style=\"text-align:center;\">Natural Language Programming</th>          \n",
    "  </tr>\n",
    "  <tr>\n",
    "    <td style=\"font-weight:bold;text-align:left;\"><pre><code class='c'>\n",
    "\n",
    "void F(int n)\n",
    "{\n",
    "    printf(\"&#42;\");\n",
    "    if (n > 0)\n",
    "    {\n",
    "        F(n - 3);\n",
    "        F(n - 1); \n",
    "        printf(\"&#42;\");\n",
    "    }\n",
    "}\n",
    "    </code></pre></td> \n",
    "    <td style=\"font-weight:bold;text-align:left;\"><pre><code class='nlp'> \n",
    "    \n",
    "алг F(цел n)\n",
    "нач\n",
    "    вывод \"&#42;\"\n",
    "    если n > 0 то\n",
    "        F(n - 3)\n",
    "        F(n - 1)\n",
    "        вывод \"&#42;\"\n",
    "    все\n",
    "кон\n",
    "    </code></pre></td>     \n",
    "  </tr>      \n",
    "</table>"
   ]
  },
  {
   "cell_type": "code",
   "execution_count": 34,
   "metadata": {},
   "outputs": [
    {
     "name": "stdout",
     "output_type": "stream",
     "text": [
      "[1] \"* 1\"\n",
      "[1] \"* 2\"\n",
      "[1] \"* 3\"\n",
      "[1] \"* 4\"\n",
      "[1] \"* 5\"\n",
      "[1] \"* 6\"\n",
      "[1] \"* 7\"\n",
      "[1] \"* 8\"\n",
      "[1] \"* 9\"\n",
      "[1] \"* 10\"\n",
      "[1] \"* 11\"\n",
      "[1] \"* 12\"\n",
      "[1] \"* 13\"\n",
      "[1] \"* 14\"\n",
      "[1] \"* 15\"\n",
      "[1] \"* 16\"\n",
      "[1] \"* 17\"\n",
      "[1] \"* 18\"\n",
      "[1] \"* 19\"\n",
      "[1] \"* 20\"\n",
      "[1] \"* 21\"\n",
      "[1] \"* 22\"\n",
      "[1] \"* 23\"\n",
      "[1] \"* 24\"\n",
      "[1] \"* 25\"\n"
     ]
    }
   ],
   "source": [
    "# расширенная версия программы\n",
    "c <- 0\n",
    "\n",
    "F <- function(n) {\n",
    "    c <<- c + 1\n",
    "    print(paste('*',toString(c),sep=' '))    \n",
    "    if (n > 0) {\n",
    "        F(n - 3)\n",
    "        F(n - 1)\n",
    "        c <<- c + 1\n",
    "        print(paste('*',toString(c),sep=' '))\n",
    "    }\n",
    "}\n",
    "\n",
    "F(5)"
   ]
  },
  {
   "cell_type": "code",
   "execution_count": 35,
   "metadata": {},
   "outputs": [],
   "source": [
    "answer_dictionary[11] <- toString(c)"
   ]
  },
  {
   "cell_type": "markdown",
   "metadata": {},
   "source": [
    "## 12.\n",
    "В терминологии сетей TCP/IP маской сети называется двоичное число, определяющее, \n",
    "\n",
    "- какая часть IP-адреса узла сети относится к адресу сети, \n",
    "- а какая — к адресу самого узла в этой сети. \n",
    "\n",
    "Обычно маска записывается по тем же правилам, что и IP-адрес, — в виде четырёх байтов, \n",
    "\n",
    "причём каждый байт записывается в виде десятичного числа. \n",
    "\n",
    "При этом в маске сначала (в старших разрядах) стоят единицы, а затем с некоторого разряда — нули.\n",
    "\n",
    "Адрес сети получается в результате применения поразрядной конъюнкции к заданному IP-адресу узла и маске.\n",
    "\n",
    "Например, если IP-адрес узла равен `231.32.255.131`, а маска равна `255.255.240.0`, то адрес сети равен `231.32.240.0`.\n",
    "\n",
    "Для узла с IP-адресом `153.214.91.37` адрес сети равен `153.214.80.0`. \n",
    "\n",
    "Чему равен третий слева байт маски? Ответ запишите в виде десятичного числа.\n",
    "\n",
    "---\n",
    "\n",
    "In the terminology of TCP / IP networks, a network mask is a binary number that specifies \n",
    "\n",
    "- which part of the IP address of the node refers to the network address, \n",
    "- and which one to the host address in that network.\n",
    "\n",
    "Usually, the mask is written according to the same rules as the IP address, in the form of four bytes, and each byte is written as a decimal number. \n",
    "\n",
    "At the same time, in the mask in the binary form, first (in the higher order digits) there are 1, and then from a certain level, zeros.\n",
    "\n",
    "The network address is obtained as a result of applying the bitwise conjunction to the specified node IP address and the mask.\n",
    "\n",
    "For example, if the host's IP address is `231.32.255.131`, and the mask is `255.255.240.0`, then the network address is `231.32.240.0`.\n",
    "\n",
    "For the node with the IP address of `153.214.91.37`, the network address is `153.214.80.0`.\n",
    "\n",
    "What is the value of the third byte from the left in the mask? Write the answer in the form of a decimal number."
   ]
  },
  {
   "cell_type": "markdown",
   "metadata": {},
   "source": [
    "1) В бинарной форме третий байт IP-адрес узла равен `01011011` ($91 = 1 * 2^6 + 1 * 2^4 + 1 * 2^3 + 1 * 2^1 + 1 * 2^0$).\n",
    "\n",
    "2) В бинарной форме третий байт адреса сети равен `01010000` ($80 = 1 * 2^6 + 1 * 2^4$).\n",
    "\n",
    "3) Значение третьего байта маски будет наибольшим при максимально возможном количестве единиц в бинарной форме этого числа.\n",
    "\n",
    "4) Третий байт маски `11110100` в десятичной форме равен: $1 * 2^7 + 1 * 2^6 + 1 * 2^5 + 1 * 2^4 = 240$.\n",
    "\n",
    "---\n",
    "\n",
    "1) In binary form, the third byte of the IP address is `01011011` ($91 = 1 * 2^6 + 1 * 2^4 + 1 * 2^3 + 1 * 2^1 + 1 * 2^0$).\n",
    "\n",
    "2) In binary form, the third byte of the network address is `01010000` ($80 = 1 * 2^6 + 1 * 2^4$).\n",
    "\n",
    "3) The value of the third byte of the mask will be the largest with the maximum possible number of units in the binary form of this number.\n",
    "\n",
    "4) The third byte of the mask `11110000` in decimal form is equal to: $1 * 2^7 + 1 * 2^6 + 1 * 2^5 + 1 * 2^4 = 240$.\n",
    "\n",
    "\n",
    "| Разряды третьего байта | IP-адрес узла | Маска | Адрес сети |\n",
    "|:-:|:-:|:-:|:-:|\n",
    "| Digits of the Third Byte | IP Address | Mask | Network Address |\n",
    "| 1 | 0 | 1 | 0 & 1 = 0 |\n",
    "| 2 | 1 | 1 | 1 & 1 = 1 |\n",
    "| 3 | 0 | 1 | 0 & 1 = 0 |\n",
    "| 4 | 1 | 1 | 1 & 1 = 1 |\n",
    "| 5 | 1 | 0 | 1 & 0 = 0 |\n",
    "| 6 | 0 | 0 | 0 & 0 = 0 |\n",
    "| 7 | 1 | 0 | 1 & 0 = 0 |\n",
    "| 8 | 1 | 0 | 1 & 0 = 0 |"
   ]
  },
  {
   "cell_type": "code",
   "execution_count": 36,
   "metadata": {},
   "outputs": [],
   "source": [
    "options(scipen = 999)\n",
    "\n",
    "dec2bin <- function(n) {\n",
    "  if (n == 0) {\n",
    "      bv <- '0'\n",
    "  } else {\n",
    "      bv <- rep(0, 1 + floor(log(n, 2)))\n",
    "      while (n >= 2) {\n",
    "          pow <- floor(log(n, 2))\n",
    "          bv[1 + pow] <- 1\n",
    "          n <- n - 2^pow\n",
    "      }\n",
    "      bv[1] <- n %% 2\n",
    "      paste(rev(bv), collapse = \"\")\n",
    "  }\n",
    "}\n",
    "bin2dec <- function(n) {\n",
    "  return(sapply(strsplit(as.character(n),split=\"\"), \n",
    "                function(x) sum(as.numeric(x) * 2 ** (rev(seq_along(x) - 1)))))\n",
    "}"
   ]
  },
  {
   "cell_type": "code",
   "execution_count": 37,
   "metadata": {},
   "outputs": [],
   "source": [
    "ip <- unlist(strsplit('153.214.91.37','[.]'))\n",
    "net <- unlist(strsplit('153.214.80.0','[.]'))\n",
    "\n",
    "ip_bin <- ''\n",
    "net_bin <- '' \n",
    "\n",
    "for (i in 1:4) {\n",
    "    ip_bin_cur <- dec2bin(as.integer(ip[i]))\n",
    "    if (nchar(ip_bin_cur) < 8) {\n",
    "        for (k in 1:(8 - nchar(ip_bin_cur))) {\n",
    "           ip_bin_cur <- paste('0',ip_bin_cur,sep='') \n",
    "        }\n",
    "    }\n",
    "\n",
    "    net_bin_cur <- dec2bin(as.integer(net[i]))\n",
    "    if (nchar(net_bin_cur) < 8) {\n",
    "        for (k in 1:(8 - nchar(net_bin_cur))) {\n",
    "           net_bin_cur <- paste('0',net_bin_cur,sep='') \n",
    "        }\n",
    "    }\n",
    "    \n",
    "    ip_bin <- paste(ip_bin,ip_bin_cur,sep='.')\n",
    "    net_bin <- paste(net_bin,net_bin_cur,sep='.')\n",
    "\n",
    "}\n",
    "\n",
    "ip_bin <- substr(ip_bin,2,nchar(ip_bin))\n",
    "net_bin <- substr(net_bin,2,nchar(net_bin))"
   ]
  },
  {
   "cell_type": "code",
   "execution_count": 38,
   "metadata": {},
   "outputs": [
    {
     "data": {
      "text/html": [
       "'10011001.11010110.01011011.00100101'"
      ],
      "text/latex": [
       "'10011001.11010110.01011011.00100101'"
      ],
      "text/markdown": [
       "'10011001.11010110.01011011.00100101'"
      ],
      "text/plain": [
       "[1] \"10011001.11010110.01011011.00100101\""
      ]
     },
     "metadata": {},
     "output_type": "display_data"
    },
    {
     "data": {
      "text/html": [
       "'10011001.11010110.01010000.00000000'"
      ],
      "text/latex": [
       "'10011001.11010110.01010000.00000000'"
      ],
      "text/markdown": [
       "'10011001.11010110.01010000.00000000'"
      ],
      "text/plain": [
       "[1] \"10011001.11010110.01010000.00000000\""
      ]
     },
     "metadata": {},
     "output_type": "display_data"
    }
   ],
   "source": [
    "ip_bin; net_bin"
   ]
  },
  {
   "cell_type": "code",
   "execution_count": 39,
   "metadata": {},
   "outputs": [
    {
     "data": {
      "text/html": [
       "'01011011'"
      ],
      "text/latex": [
       "'01011011'"
      ],
      "text/markdown": [
       "'01011011'"
      ],
      "text/plain": [
       "[1] \"01011011\""
      ]
     },
     "metadata": {},
     "output_type": "display_data"
    },
    {
     "data": {
      "text/html": [
       "'01010000'"
      ],
      "text/latex": [
       "'01010000'"
      ],
      "text/markdown": [
       "'01010000'"
      ],
      "text/plain": [
       "[1] \"01010000\""
      ]
     },
     "metadata": {},
     "output_type": "display_data"
    },
    {
     "data": {
      "text/html": [
       "<ol class=list-inline>\n",
       "\t<li>80</li>\n",
       "\t<li>84</li>\n",
       "\t<li>112</li>\n",
       "\t<li>116</li>\n",
       "\t<li>208</li>\n",
       "\t<li>212</li>\n",
       "\t<li>240</li>\n",
       "\t<li>244</li>\n",
       "</ol>\n"
      ],
      "text/latex": [
       "\\begin{enumerate*}\n",
       "\\item 80\n",
       "\\item 84\n",
       "\\item 112\n",
       "\\item 116\n",
       "\\item 208\n",
       "\\item 212\n",
       "\\item 240\n",
       "\\item 244\n",
       "\\end{enumerate*}\n"
      ],
      "text/markdown": [
       "1. 80\n",
       "2. 84\n",
       "3. 112\n",
       "4. 116\n",
       "5. 208\n",
       "6. 212\n",
       "7. 240\n",
       "8. 244\n",
       "\n",
       "\n"
      ],
      "text/plain": [
       "[1]  80  84 112 116 208 212 240 244"
      ]
     },
     "metadata": {},
     "output_type": "display_data"
    }
   ],
   "source": [
    "bc8 <- bincombinations(8)\n",
    "mask3 <- c()\n",
    "ip_bin3 <- substr(ip_bin,19,26)\n",
    "net_bin3 <- substr(net_bin,19,26)\n",
    "ip_bin3; net_bin3 \n",
    "\n",
    "ip_bin3 <- unlist(strsplit(ip_bin3,NULL))\n",
    "net_bin3 <- unlist(strsplit(net_bin3,NULL))\n",
    "\n",
    "for (j in 1:256){\n",
    "    c <- 0\n",
    "    for (i in 1:8) {\n",
    "        if (as.integer(as.integer(ip_bin3[i]) & bc8[j,i])== as.integer(net_bin3[i])) {\n",
    "            c <- c + 1\n",
    "        }\n",
    "    }\n",
    "    if (c == 8) {\n",
    "        mask3 <- append(mask3,j-1)\n",
    "    }\n",
    "} \n",
    "\n",
    "mask3"
   ]
  },
  {
   "cell_type": "code",
   "execution_count": 40,
   "metadata": {},
   "outputs": [
    {
     "data": {
      "text/html": [
       "<ol class=list-inline>\n",
       "\t<li>0</li>\n",
       "\t<li>128</li>\n",
       "\t<li>192</li>\n",
       "\t<li>224</li>\n",
       "\t<li>240</li>\n",
       "\t<li>248</li>\n",
       "\t<li>252</li>\n",
       "\t<li>254</li>\n",
       "\t<li>255</li>\n",
       "\t<li>255</li>\n",
       "\t<li>255</li>\n",
       "\t<li>255</li>\n",
       "\t<li>255</li>\n",
       "\t<li>255</li>\n",
       "\t<li>255</li>\n",
       "</ol>\n"
      ],
      "text/latex": [
       "\\begin{enumerate*}\n",
       "\\item 0\n",
       "\\item 128\n",
       "\\item 192\n",
       "\\item 224\n",
       "\\item 240\n",
       "\\item 248\n",
       "\\item 252\n",
       "\\item 254\n",
       "\\item 255\n",
       "\\item 255\n",
       "\\item 255\n",
       "\\item 255\n",
       "\\item 255\n",
       "\\item 255\n",
       "\\item 255\n",
       "\\end{enumerate*}\n"
      ],
      "text/markdown": [
       "1. 0\n",
       "2. 128\n",
       "3. 192\n",
       "4. 224\n",
       "5. 240\n",
       "6. 248\n",
       "7. 252\n",
       "8. 254\n",
       "9. 255\n",
       "10. 255\n",
       "11. 255\n",
       "12. 255\n",
       "13. 255\n",
       "14. 255\n",
       "15. 255\n",
       "\n",
       "\n"
      ],
      "text/plain": [
       " [1]   0 128 192 224 240 248 252 254 255 255 255 255 255 255 255"
      ]
     },
     "metadata": {},
     "output_type": "display_data"
    }
   ],
   "source": [
    "mask_list <- c('240.0.0.0','248.0.0.0','252.0.0.0','254.0.0.0','255.0.0.0',\n",
    "               '255.128.0.0','255.192.0.0','255.224.0.0','255.240.0.0','255.248.0.0', \n",
    "               '255.252.0.0','255.254.0.0','255.255.0.0','255.255.128.0','255.255.192.0',\n",
    "               '255.255.224.0','255.255.240.0','255.255.248.0','255.255.252.0','255.255.254.0',\n",
    "               '255.255.255.0','255.255.255.128','255.255.255.192','255.255.255.224','255.255.255.240',\n",
    "               '255.255.255.248','255.255.255.252')\n",
    "mask3_list <- c()\n",
    "\n",
    "for (i in 1:length(mask_list)) {\n",
    "    if (substr(mask_list[i],1,8) == '255.255.') {\n",
    "        c <- substr(mask_list[i],9,nchar(mask_list[i]))        \n",
    "        c <- as.integer(sub('\\\\..*', '', c))\n",
    "        mask3_list <- append(mask3_list,c)\n",
    "    }\n",
    "}\n",
    "mask3_list"
   ]
  },
  {
   "cell_type": "code",
   "execution_count": 41,
   "metadata": {},
   "outputs": [
    {
     "data": {
      "text/html": [
       "240"
      ],
      "text/latex": [
       "240"
      ],
      "text/markdown": [
       "240"
      ],
      "text/plain": [
       "[1] 240"
      ]
     },
     "metadata": {},
     "output_type": "display_data"
    }
   ],
   "source": [
    "intersect(mask3,mask3_list)"
   ]
  },
  {
   "cell_type": "code",
   "execution_count": 42,
   "metadata": {},
   "outputs": [],
   "source": [
    "answer_dictionary[12] <- intersect(mask3,mask3_list)"
   ]
  },
  {
   "cell_type": "markdown",
   "metadata": {},
   "source": [
    "## 13.\n",
    "При передаче сообщения используются только десятичные цифры и строчные буквы местного алфавита. \n",
    "\n",
    "В местном алфавите 15 букв. \n",
    "\n",
    "При этом используется посимвольное кодирование и каждый символ кодируется минимально возможным количеством бит. \n",
    "\n",
    "Каков объём информации (в байтах), записанный устройством после передачи 200 символов?\n",
    "\n",
    "---\n",
    "\n",
    "With sending a message, only the decimal digits and lowercase letters of the local alphabet are used. \n",
    "\n",
    "In the local alphabet are 15 letters. \n",
    "\n",
    "It is used character-by-symbol encoding and each character is encoded with the minimum possible number of bits.\n",
    "\n",
    "What is the amount of information (in bytes) recorded by the device after transmission of 200 characters?"
   ]
  },
  {
   "cell_type": "code",
   "execution_count": 43,
   "metadata": {},
   "outputs": [],
   "source": [
    "# 10 digits + 15 letters = 25 symbols\n",
    "bits_for_one_of_25_symbols <- ceiling(log2(25))"
   ]
  },
  {
   "cell_type": "code",
   "execution_count": 44,
   "metadata": {},
   "outputs": [],
   "source": [
    "answer_dictionary[13] <- toString(200 * bits_for_one_of_25_symbols)"
   ]
  },
  {
   "cell_type": "markdown",
   "metadata": {},
   "source": [
    "## 14.\n",
    "Система команд исполнителя РОБОТ, «живущего» в прямоугольном лабиринте на клетчатой плоскости включает \n",
    "\n",
    "4 команды-приказа и 4 команды проверки условия. Команды-приказы:\n",
    "\n",
    "---\n",
    "\n",
    "The command system of the ROBOT, \"living\" in a rectangular labyrinth on the grid plane, includes \n",
    "\n",
    "4 moving commands and 4 condition-checking ones. Moving commands:\n",
    "\n",
    "\n",
    "|<p style=\"text-align:center; color:red;\">вверх</p>|<p style=\"text-align:center; color:green;\">вниз</p>|<p style=\"text-align:center; color:red;\">влево</p>|<p style=\"text-align:center; color:green;\">вправо</p>|\n",
    "|-:|-:|-:|-:|\n",
    "|<p style=\"text-align:center; color:red;\">up</p>|<p style=\"text-align:center; color:green;\">down</p>|<p style=\"text-align:center; color:red;\">left</p>|<p style=\"text-align:center; color:green;\">right</p>|\n",
    "\n",
    "При выполнении этих команд РОБОТ перемещается на одну клетку соответственно: вверх ↑, вниз ↓, влево ←, вправо →.\n",
    "\n",
    "Если РОБОТ начнет движение в сторону находящейся рядом с ним стены, то он разрушится и программа прервётся.\n",
    "\n",
    "Другие четыре команды проверяют истинность условия отсутствия стены у каждой стороны той клетки, где находится РОБОТ:\n",
    "\n",
    "---\n",
    "\n",
    "When these commands are executed, ROBOT moves one cell accordingly: up ↑, down ↓, left ←, right →.\n",
    "\n",
    "If ROBOT starts moving towards the wall next to it, it will be destroyed and the program will be stopped.\n",
    "\n",
    "The other four commands verify the truth of the absence of the wall on each side of the cell where ROBOT is located:\n",
    "\n",
    "|<p style=\"text-align:center; color:red;\">сверху свободно</p>|<p style=\"text-align:center; color:green;\">снизу свободно</p>|<p style=\"text-align:center; color:red;\">слева свободно</p>|<p style=\"text-align:center; color:green;\">справа свободно</p>|\n",
    "|-:|-:|-:|-:|\n",
    "|<p style=\"text-align:center; color:red;\">up free</p>|<p style=\"text-align:center; color:green;\">down free</p>|<p style=\"text-align:center; color:red;\">left free</p>|<p style=\"text-align:center; color:green;\">right free</p>|\n",
    "\n",
    "Цикл \n",
    "\n",
    "`ПОКА` $<условие>$\n",
    "\n",
    "- $последовательность \\ команд$\n",
    "    \n",
    "`КОНЕЦ ПОКА`\n",
    "\n",
    "выполняется, пока условие истинно.\n",
    "\n",
    "В конструкции \n",
    "\n",
    "`ЕСЛИ` $<условие>$\n",
    "\n",
    "- `ТО` $команда \\ 1$\n",
    "\n",
    "- `ИНАЧЕ` $команда \\ 2$\n",
    "    \n",
    "`КОНЕЦ ЕСЛИ`\n",
    "\n",
    "выполняется `команда 1` (если условие истинно) или `команда 2` (если условие ложно).\n",
    "\n",
    "Сколько клеток лабиринта соответствует требованию, что, начав движение в ней и выполнив предложенную программу, \n",
    "\n",
    "РОБОТ уцелеет и остановится в закрашенной клетке (клетка `F6`)?\n",
    "\n",
    "---\n",
    "\n",
    "The cycle\n",
    "\n",
    "`WHILE` $<condition>$\n",
    "\n",
    "- $command \\ sequence$\n",
    "\n",
    "`END WHILE`\n",
    "\n",
    "is executed until the condition is true.\n",
    "\n",
    "\n",
    "In the construction\n",
    "\n",
    "`IF` $<condition>$\n",
    "\n",
    "- `THEN` $command \\ 1$\n",
    "\n",
    "- `ELSE` $command \\ 2$\n",
    "\n",
    "`END IF`\n",
    "\n",
    "the `command 1` is executed (if the condition is true) or the `command 2` is executed (if the condition is false).\n",
    "\n",
    "How many cells of the labyrinth correspond to the requirement that, after starting the movement in it and executing the proposed program, \n",
    "\n",
    "ROBOT will survive and stop in the shaded cell (`F6`)?"
   ]
  },
  {
   "cell_type": "markdown",
   "metadata": {},
   "source": [
    "`НАЧАЛО`\n",
    "\n",
    "`ПОКА` $<справа \\; свободно>$ `ИЛИ` $<снизу \\; свободно>$\n",
    "\n",
    "  - `ПОКА` $<справа \\; свободно>$ \n",
    "  \n",
    "    - $вправо$\n",
    "\n",
    "  - `КОНЕЦ ПОКА`\n",
    "  \n",
    "  - `ЕСЛИ` $<снизу \\; свободно>$ \n",
    "  \n",
    "    - `ТО` $вниз$\n",
    "    \n",
    "    - `ИНАЧЕ` $вверх$\n",
    "\n",
    "  - `КОНЕЦ ЕСЛИ`  \n",
    "\n",
    "`КОНЕЦ ПОКА`\n",
    "\n",
    "`КОНЕЦ`\n",
    "\n",
    "---\n",
    "\n",
    "`START`\n",
    "\n",
    "`WHILE` $<right \\; free>$ `OR` $<down \\; free>$\n",
    "\n",
    "  - `WHILE` $<right \\; free>$ \n",
    "  \n",
    "    - $right$\n",
    "  \n",
    "  - `END WHILE`\n",
    "  \n",
    "  - `IF` $<down \\; free>$ \n",
    "  \n",
    "    - `THEN` $down$\n",
    "    \n",
    "    - `ELSE` $up$\n",
    "  \n",
    "  - `END IF`  \n",
    "\n",
    "`END WHILE`  \n",
    "\n",
    "`END`"
   ]
  },
  {
   "cell_type": "code",
   "execution_count": 45,
   "metadata": {},
   "outputs": [
    {
     "data": {
      "image/png": "[encoded data removed]",
      "text/plain": [
       "plot without title"
      ]
     },
     "metadata": {},
     "output_type": "display_data"
    }
   ],
   "source": [
    "options(warn = -1,repr.plot.width=3,repr.plot.height=3)\n",
    "par(mar=c(2,2,2,2))\n",
    "\n",
    "plot(c(0.5,1.5,2.5,3.5,4.5,5.5,0.5,1.5,2.5,4.5,5.5,\n",
    "       2.5,3.5,4.5,5.5,3.5,4.5,5.5,4.5,5.5,4.5,5.5),\n",
    "     c(5.5,5.5,5.5,5.5,5.5,5.5,4.5,4.5,4.5,4.5,4.5,\n",
    "       3.5,3.5,3.5,3.5,2.5,2.5,2.5,1.5,1.5,0.5,0.5),\n",
    "     col='forestgreen',\n",
    "     pch=20,cex=2,xaxt='n',yaxt='n',\n",
    "     xlim=c(0.2,5.8),ylim=c(0.2,5.8))\n",
    "\n",
    "axis(2,las=2,tck=0,col.axis='slategray',cex.axis=1.3,\n",
    "     at=c(0.5,1.5,2.5,3.5,4.5,5.5),labels=c('1','2','3','4','5','6'))\n",
    "axis(1,las=0,tck=0,col.axis='slategray',cex.axis=1.3,\n",
    "     at=c(0.5,1.5,2.5,3.5,4.5,5.5),labels=c('A','B','C','D','E','F'))\n",
    "\n",
    "points(5.5,0.5,pch=7,cex=5,col='coral')\n",
    "\n",
    "seg <- c(2,2,2,4, 3,1,3,3, 4,0,4,2,\n",
    "         2,1,3,1, 3,4,4,4, 4,4,4,5, 3,5,3,6)\n",
    "\n",
    "for (i in seq(from=1, to=36, by=4)) {\n",
    "     segments(seg[i],seg[i+1],seg[i+2],seg[i+3],\n",
    "              col='slategray',lw=4)\n",
    "}\n",
    "\n",
    "box(col=\"slategray\",lwd=5)\n",
    "grid(nx=6,ny=6,col=\"slategray\",lty=\"dotted\",equilogs = TRUE)"
   ]
  },
  {
   "cell_type": "code",
   "execution_count": 46,
   "metadata": {},
   "outputs": [],
   "source": [
    "answer_dictionary[14] <- '22'"
   ]
  },
  {
   "cell_type": "markdown",
   "metadata": {},
   "source": [
    "## 15.\n",
    "На рисунке — схема дорог, связывающих города $А, Б, В, Г, Д, Е, Ж, 3, И, К$. \n",
    "\n",
    "По каждой дороге можно двигаться только в одном направлении, указанном стрелкой. \n",
    "\n",
    "Сколько существует различных путей из города $А$ в город $К$?\n",
    "\n",
    "---\n",
    "\n",
    "In the figure - the scheme of roads is connecting the cities $А, Б, В, Г, Д, Е, Ж, З, И, К$. \n",
    "\n",
    "For each road, it is possible to move only in one direction, indicated by an arrow. \n",
    "\n",
    "How many different paths exist from the city $А$ to the city $К$?"
   ]
  },
  {
   "cell_type": "code",
   "execution_count": 47,
   "metadata": {},
   "outputs": [
    {
     "data": {
      "image/png": "[encoded data removed]",
      "text/plain": [
       "Plot with title “”"
      ]
     },
     "metadata": {},
     "output_type": "display_data"
    }
   ],
   "source": [
    "options(warn = -1,repr.plot.width=5,repr.plot.height=5)\n",
    "edges <- c('А','Б', 'А','В', 'А','Г', 'А','Д', 'Б','Д',\n",
    "           'В','Д', 'В','Е', 'В','Ж', 'Г','В', 'Г','Е',\n",
    "           'Д','Ж', 'Е','Ж',\n",
    "           'Ж','И', 'Ж','З', 'З','К', 'И','К')\n",
    "g2 <- graph(edges)\n",
    "plot(g2,\n",
    "     vertex.color=\"steelblue\",vertex.size=15,\n",
    "     vertex.frame.color=\"gray\",vertex.shape='square')"
   ]
  },
  {
   "cell_type": "code",
   "execution_count": 48,
   "metadata": {},
   "outputs": [
    {
     "data": {
      "text/html": [
       "<ol>\n",
       "\t<li><ol class=list-inline>\n",
       "\t<li>'А'</li>\n",
       "\t<li>'Б'</li>\n",
       "\t<li>'Д'</li>\n",
       "\t<li>'Ж'</li>\n",
       "\t<li>'И'</li>\n",
       "\t<li>'К'</li>\n",
       "</ol>\n",
       "</li>\n",
       "\t<li><ol class=list-inline>\n",
       "\t<li>'А'</li>\n",
       "\t<li>'Б'</li>\n",
       "\t<li>'Д'</li>\n",
       "\t<li>'Ж'</li>\n",
       "\t<li>'З'</li>\n",
       "\t<li>'К'</li>\n",
       "</ol>\n",
       "</li>\n",
       "\t<li><ol class=list-inline>\n",
       "\t<li>'А'</li>\n",
       "\t<li>'В'</li>\n",
       "\t<li>'Д'</li>\n",
       "\t<li>'Ж'</li>\n",
       "\t<li>'И'</li>\n",
       "\t<li>'К'</li>\n",
       "</ol>\n",
       "</li>\n",
       "\t<li><ol class=list-inline>\n",
       "\t<li>'А'</li>\n",
       "\t<li>'В'</li>\n",
       "\t<li>'Д'</li>\n",
       "\t<li>'Ж'</li>\n",
       "\t<li>'З'</li>\n",
       "\t<li>'К'</li>\n",
       "</ol>\n",
       "</li>\n",
       "\t<li><ol class=list-inline>\n",
       "\t<li>'А'</li>\n",
       "\t<li>'В'</li>\n",
       "\t<li>'Е'</li>\n",
       "\t<li>'Ж'</li>\n",
       "\t<li>'И'</li>\n",
       "\t<li>'К'</li>\n",
       "</ol>\n",
       "</li>\n",
       "\t<li><ol class=list-inline>\n",
       "\t<li>'А'</li>\n",
       "\t<li>'В'</li>\n",
       "\t<li>'Е'</li>\n",
       "\t<li>'Ж'</li>\n",
       "\t<li>'З'</li>\n",
       "\t<li>'К'</li>\n",
       "</ol>\n",
       "</li>\n",
       "\t<li><ol class=list-inline>\n",
       "\t<li>'А'</li>\n",
       "\t<li>'В'</li>\n",
       "\t<li>'Ж'</li>\n",
       "\t<li>'И'</li>\n",
       "\t<li>'К'</li>\n",
       "</ol>\n",
       "</li>\n",
       "\t<li><ol class=list-inline>\n",
       "\t<li>'А'</li>\n",
       "\t<li>'В'</li>\n",
       "\t<li>'Ж'</li>\n",
       "\t<li>'З'</li>\n",
       "\t<li>'К'</li>\n",
       "</ol>\n",
       "</li>\n",
       "\t<li><ol class=list-inline>\n",
       "\t<li>'А'</li>\n",
       "\t<li>'Г'</li>\n",
       "\t<li>'В'</li>\n",
       "\t<li>'Д'</li>\n",
       "\t<li>'Ж'</li>\n",
       "\t<li>'И'</li>\n",
       "\t<li>'К'</li>\n",
       "</ol>\n",
       "</li>\n",
       "\t<li><ol class=list-inline>\n",
       "\t<li>'А'</li>\n",
       "\t<li>'Г'</li>\n",
       "\t<li>'В'</li>\n",
       "\t<li>'Д'</li>\n",
       "\t<li>'Ж'</li>\n",
       "\t<li>'З'</li>\n",
       "\t<li>'К'</li>\n",
       "</ol>\n",
       "</li>\n",
       "\t<li><ol class=list-inline>\n",
       "\t<li>'А'</li>\n",
       "\t<li>'Г'</li>\n",
       "\t<li>'В'</li>\n",
       "\t<li>'Е'</li>\n",
       "\t<li>'Ж'</li>\n",
       "\t<li>'И'</li>\n",
       "\t<li>'К'</li>\n",
       "</ol>\n",
       "</li>\n",
       "\t<li><ol class=list-inline>\n",
       "\t<li>'А'</li>\n",
       "\t<li>'Г'</li>\n",
       "\t<li>'В'</li>\n",
       "\t<li>'Е'</li>\n",
       "\t<li>'Ж'</li>\n",
       "\t<li>'З'</li>\n",
       "\t<li>'К'</li>\n",
       "</ol>\n",
       "</li>\n",
       "\t<li><ol class=list-inline>\n",
       "\t<li>'А'</li>\n",
       "\t<li>'Г'</li>\n",
       "\t<li>'В'</li>\n",
       "\t<li>'Ж'</li>\n",
       "\t<li>'И'</li>\n",
       "\t<li>'К'</li>\n",
       "</ol>\n",
       "</li>\n",
       "\t<li><ol class=list-inline>\n",
       "\t<li>'А'</li>\n",
       "\t<li>'Г'</li>\n",
       "\t<li>'В'</li>\n",
       "\t<li>'Ж'</li>\n",
       "\t<li>'З'</li>\n",
       "\t<li>'К'</li>\n",
       "</ol>\n",
       "</li>\n",
       "\t<li><ol class=list-inline>\n",
       "\t<li>'А'</li>\n",
       "\t<li>'Г'</li>\n",
       "\t<li>'Е'</li>\n",
       "\t<li>'Ж'</li>\n",
       "\t<li>'И'</li>\n",
       "\t<li>'К'</li>\n",
       "</ol>\n",
       "</li>\n",
       "\t<li><ol class=list-inline>\n",
       "\t<li>'А'</li>\n",
       "\t<li>'Г'</li>\n",
       "\t<li>'Е'</li>\n",
       "\t<li>'Ж'</li>\n",
       "\t<li>'З'</li>\n",
       "\t<li>'К'</li>\n",
       "</ol>\n",
       "</li>\n",
       "\t<li><ol class=list-inline>\n",
       "\t<li>'А'</li>\n",
       "\t<li>'Д'</li>\n",
       "\t<li>'Ж'</li>\n",
       "\t<li>'И'</li>\n",
       "\t<li>'К'</li>\n",
       "</ol>\n",
       "</li>\n",
       "\t<li><ol class=list-inline>\n",
       "\t<li>'А'</li>\n",
       "\t<li>'Д'</li>\n",
       "\t<li>'Ж'</li>\n",
       "\t<li>'З'</li>\n",
       "\t<li>'К'</li>\n",
       "</ol>\n",
       "</li>\n",
       "</ol>\n"
      ],
      "text/latex": [
       "\\begin{enumerate}\n",
       "\\item \\begin{enumerate*}\n",
       "\\item 'А'\n",
       "\\item 'Б'\n",
       "\\item 'Д'\n",
       "\\item 'Ж'\n",
       "\\item 'И'\n",
       "\\item 'К'\n",
       "\\end{enumerate*}\n",
       "\n",
       "\\item \\begin{enumerate*}\n",
       "\\item 'А'\n",
       "\\item 'Б'\n",
       "\\item 'Д'\n",
       "\\item 'Ж'\n",
       "\\item 'З'\n",
       "\\item 'К'\n",
       "\\end{enumerate*}\n",
       "\n",
       "\\item \\begin{enumerate*}\n",
       "\\item 'А'\n",
       "\\item 'В'\n",
       "\\item 'Д'\n",
       "\\item 'Ж'\n",
       "\\item 'И'\n",
       "\\item 'К'\n",
       "\\end{enumerate*}\n",
       "\n",
       "\\item \\begin{enumerate*}\n",
       "\\item 'А'\n",
       "\\item 'В'\n",
       "\\item 'Д'\n",
       "\\item 'Ж'\n",
       "\\item 'З'\n",
       "\\item 'К'\n",
       "\\end{enumerate*}\n",
       "\n",
       "\\item \\begin{enumerate*}\n",
       "\\item 'А'\n",
       "\\item 'В'\n",
       "\\item 'Е'\n",
       "\\item 'Ж'\n",
       "\\item 'И'\n",
       "\\item 'К'\n",
       "\\end{enumerate*}\n",
       "\n",
       "\\item \\begin{enumerate*}\n",
       "\\item 'А'\n",
       "\\item 'В'\n",
       "\\item 'Е'\n",
       "\\item 'Ж'\n",
       "\\item 'З'\n",
       "\\item 'К'\n",
       "\\end{enumerate*}\n",
       "\n",
       "\\item \\begin{enumerate*}\n",
       "\\item 'А'\n",
       "\\item 'В'\n",
       "\\item 'Ж'\n",
       "\\item 'И'\n",
       "\\item 'К'\n",
       "\\end{enumerate*}\n",
       "\n",
       "\\item \\begin{enumerate*}\n",
       "\\item 'А'\n",
       "\\item 'В'\n",
       "\\item 'Ж'\n",
       "\\item 'З'\n",
       "\\item 'К'\n",
       "\\end{enumerate*}\n",
       "\n",
       "\\item \\begin{enumerate*}\n",
       "\\item 'А'\n",
       "\\item 'Г'\n",
       "\\item 'В'\n",
       "\\item 'Д'\n",
       "\\item 'Ж'\n",
       "\\item 'И'\n",
       "\\item 'К'\n",
       "\\end{enumerate*}\n",
       "\n",
       "\\item \\begin{enumerate*}\n",
       "\\item 'А'\n",
       "\\item 'Г'\n",
       "\\item 'В'\n",
       "\\item 'Д'\n",
       "\\item 'Ж'\n",
       "\\item 'З'\n",
       "\\item 'К'\n",
       "\\end{enumerate*}\n",
       "\n",
       "\\item \\begin{enumerate*}\n",
       "\\item 'А'\n",
       "\\item 'Г'\n",
       "\\item 'В'\n",
       "\\item 'Е'\n",
       "\\item 'Ж'\n",
       "\\item 'И'\n",
       "\\item 'К'\n",
       "\\end{enumerate*}\n",
       "\n",
       "\\item \\begin{enumerate*}\n",
       "\\item 'А'\n",
       "\\item 'Г'\n",
       "\\item 'В'\n",
       "\\item 'Е'\n",
       "\\item 'Ж'\n",
       "\\item 'З'\n",
       "\\item 'К'\n",
       "\\end{enumerate*}\n",
       "\n",
       "\\item \\begin{enumerate*}\n",
       "\\item 'А'\n",
       "\\item 'Г'\n",
       "\\item 'В'\n",
       "\\item 'Ж'\n",
       "\\item 'И'\n",
       "\\item 'К'\n",
       "\\end{enumerate*}\n",
       "\n",
       "\\item \\begin{enumerate*}\n",
       "\\item 'А'\n",
       "\\item 'Г'\n",
       "\\item 'В'\n",
       "\\item 'Ж'\n",
       "\\item 'З'\n",
       "\\item 'К'\n",
       "\\end{enumerate*}\n",
       "\n",
       "\\item \\begin{enumerate*}\n",
       "\\item 'А'\n",
       "\\item 'Г'\n",
       "\\item 'Е'\n",
       "\\item 'Ж'\n",
       "\\item 'И'\n",
       "\\item 'К'\n",
       "\\end{enumerate*}\n",
       "\n",
       "\\item \\begin{enumerate*}\n",
       "\\item 'А'\n",
       "\\item 'Г'\n",
       "\\item 'Е'\n",
       "\\item 'Ж'\n",
       "\\item 'З'\n",
       "\\item 'К'\n",
       "\\end{enumerate*}\n",
       "\n",
       "\\item \\begin{enumerate*}\n",
       "\\item 'А'\n",
       "\\item 'Д'\n",
       "\\item 'Ж'\n",
       "\\item 'И'\n",
       "\\item 'К'\n",
       "\\end{enumerate*}\n",
       "\n",
       "\\item \\begin{enumerate*}\n",
       "\\item 'А'\n",
       "\\item 'Д'\n",
       "\\item 'Ж'\n",
       "\\item 'З'\n",
       "\\item 'К'\n",
       "\\end{enumerate*}\n",
       "\n",
       "\\end{enumerate}\n"
      ],
      "text/markdown": [
       "1. 1. 'А'\n",
       "2. 'Б'\n",
       "3. 'Д'\n",
       "4. 'Ж'\n",
       "5. 'И'\n",
       "6. 'К'\n",
       "\n",
       "\n",
       "\n",
       "2. 1. 'А'\n",
       "2. 'Б'\n",
       "3. 'Д'\n",
       "4. 'Ж'\n",
       "5. 'З'\n",
       "6. 'К'\n",
       "\n",
       "\n",
       "\n",
       "3. 1. 'А'\n",
       "2. 'В'\n",
       "3. 'Д'\n",
       "4. 'Ж'\n",
       "5. 'И'\n",
       "6. 'К'\n",
       "\n",
       "\n",
       "\n",
       "4. 1. 'А'\n",
       "2. 'В'\n",
       "3. 'Д'\n",
       "4. 'Ж'\n",
       "5. 'З'\n",
       "6. 'К'\n",
       "\n",
       "\n",
       "\n",
       "5. 1. 'А'\n",
       "2. 'В'\n",
       "3. 'Е'\n",
       "4. 'Ж'\n",
       "5. 'И'\n",
       "6. 'К'\n",
       "\n",
       "\n",
       "\n",
       "6. 1. 'А'\n",
       "2. 'В'\n",
       "3. 'Е'\n",
       "4. 'Ж'\n",
       "5. 'З'\n",
       "6. 'К'\n",
       "\n",
       "\n",
       "\n",
       "7. 1. 'А'\n",
       "2. 'В'\n",
       "3. 'Ж'\n",
       "4. 'И'\n",
       "5. 'К'\n",
       "\n",
       "\n",
       "\n",
       "8. 1. 'А'\n",
       "2. 'В'\n",
       "3. 'Ж'\n",
       "4. 'З'\n",
       "5. 'К'\n",
       "\n",
       "\n",
       "\n",
       "9. 1. 'А'\n",
       "2. 'Г'\n",
       "3. 'В'\n",
       "4. 'Д'\n",
       "5. 'Ж'\n",
       "6. 'И'\n",
       "7. 'К'\n",
       "\n",
       "\n",
       "\n",
       "10. 1. 'А'\n",
       "2. 'Г'\n",
       "3. 'В'\n",
       "4. 'Д'\n",
       "5. 'Ж'\n",
       "6. 'З'\n",
       "7. 'К'\n",
       "\n",
       "\n",
       "\n",
       "11. 1. 'А'\n",
       "2. 'Г'\n",
       "3. 'В'\n",
       "4. 'Е'\n",
       "5. 'Ж'\n",
       "6. 'И'\n",
       "7. 'К'\n",
       "\n",
       "\n",
       "\n",
       "12. 1. 'А'\n",
       "2. 'Г'\n",
       "3. 'В'\n",
       "4. 'Е'\n",
       "5. 'Ж'\n",
       "6. 'З'\n",
       "7. 'К'\n",
       "\n",
       "\n",
       "\n",
       "13. 1. 'А'\n",
       "2. 'Г'\n",
       "3. 'В'\n",
       "4. 'Ж'\n",
       "5. 'И'\n",
       "6. 'К'\n",
       "\n",
       "\n",
       "\n",
       "14. 1. 'А'\n",
       "2. 'Г'\n",
       "3. 'В'\n",
       "4. 'Ж'\n",
       "5. 'З'\n",
       "6. 'К'\n",
       "\n",
       "\n",
       "\n",
       "15. 1. 'А'\n",
       "2. 'Г'\n",
       "3. 'Е'\n",
       "4. 'Ж'\n",
       "5. 'И'\n",
       "6. 'К'\n",
       "\n",
       "\n",
       "\n",
       "16. 1. 'А'\n",
       "2. 'Г'\n",
       "3. 'Е'\n",
       "4. 'Ж'\n",
       "5. 'З'\n",
       "6. 'К'\n",
       "\n",
       "\n",
       "\n",
       "17. 1. 'А'\n",
       "2. 'Д'\n",
       "3. 'Ж'\n",
       "4. 'И'\n",
       "5. 'К'\n",
       "\n",
       "\n",
       "\n",
       "18. 1. 'А'\n",
       "2. 'Д'\n",
       "3. 'Ж'\n",
       "4. 'З'\n",
       "5. 'К'\n",
       "\n",
       "\n",
       "\n",
       "\n",
       "\n"
      ],
      "text/plain": [
       "[[1]]\n",
       "[1] \"А\" \"Б\" \"Д\" \"Ж\" \"И\" \"К\"\n",
       "\n",
       "[[2]]\n",
       "[1] \"А\" \"Б\" \"Д\" \"Ж\" \"З\" \"К\"\n",
       "\n",
       "[[3]]\n",
       "[1] \"А\" \"В\" \"Д\" \"Ж\" \"И\" \"К\"\n",
       "\n",
       "[[4]]\n",
       "[1] \"А\" \"В\" \"Д\" \"Ж\" \"З\" \"К\"\n",
       "\n",
       "[[5]]\n",
       "[1] \"А\" \"В\" \"Е\" \"Ж\" \"И\" \"К\"\n",
       "\n",
       "[[6]]\n",
       "[1] \"А\" \"В\" \"Е\" \"Ж\" \"З\" \"К\"\n",
       "\n",
       "[[7]]\n",
       "[1] \"А\" \"В\" \"Ж\" \"И\" \"К\"\n",
       "\n",
       "[[8]]\n",
       "[1] \"А\" \"В\" \"Ж\" \"З\" \"К\"\n",
       "\n",
       "[[9]]\n",
       "[1] \"А\" \"Г\" \"В\" \"Д\" \"Ж\" \"И\" \"К\"\n",
       "\n",
       "[[10]]\n",
       "[1] \"А\" \"Г\" \"В\" \"Д\" \"Ж\" \"З\" \"К\"\n",
       "\n",
       "[[11]]\n",
       "[1] \"А\" \"Г\" \"В\" \"Е\" \"Ж\" \"И\" \"К\"\n",
       "\n",
       "[[12]]\n",
       "[1] \"А\" \"Г\" \"В\" \"Е\" \"Ж\" \"З\" \"К\"\n",
       "\n",
       "[[13]]\n",
       "[1] \"А\" \"Г\" \"В\" \"Ж\" \"И\" \"К\"\n",
       "\n",
       "[[14]]\n",
       "[1] \"А\" \"Г\" \"В\" \"Ж\" \"З\" \"К\"\n",
       "\n",
       "[[15]]\n",
       "[1] \"А\" \"Г\" \"Е\" \"Ж\" \"И\" \"К\"\n",
       "\n",
       "[[16]]\n",
       "[1] \"А\" \"Г\" \"Е\" \"Ж\" \"З\" \"К\"\n",
       "\n",
       "[[17]]\n",
       "[1] \"А\" \"Д\" \"Ж\" \"И\" \"К\"\n",
       "\n",
       "[[18]]\n",
       "[1] \"А\" \"Д\" \"Ж\" \"З\" \"К\"\n"
      ]
     },
     "metadata": {},
     "output_type": "display_data"
    }
   ],
   "source": [
    "paths <- all_simple_paths(g2,'А','К')\n",
    "paths <- lapply(1:length(paths), function(x) as_ids(paths[[x]]))\n",
    "paths"
   ]
  },
  {
   "cell_type": "code",
   "execution_count": 49,
   "metadata": {},
   "outputs": [],
   "source": [
    "answer_dictionary[15] <- toString(length(paths))"
   ]
  },
  {
   "cell_type": "markdown",
   "metadata": {},
   "source": [
    "## 16.\n",
    "В системе счисления с основанием 7 записано трёхзначное число. Известно, что все цифры числа разные. \n",
    "\n",
    "Какое самое большое число удовлетворяет этому условию? Ответ запишите в десятичной системе счисления.\n",
    "\n",
    "---\n",
    "\n",
    "In the number system with base 7, a three-digit number is written. It is known that all figures of the number are different.\n",
    "\n",
    "What is the largest number that satisfies this condition? Write the answer in decimal notation."
   ]
  },
  {
   "cell_type": "code",
   "execution_count": 50,
   "metadata": {},
   "outputs": [
    {
     "data": {
      "text/html": [
       "333"
      ],
      "text/latex": [
       "333"
      ],
      "text/markdown": [
       "333"
      ],
      "text/plain": [
       "[1] 333"
      ]
     },
     "metadata": {},
     "output_type": "display_data"
    }
   ],
   "source": [
    "6 * 7 ** 2 + 5 * 7 ** 1 + 4 * 7 ** 0"
   ]
  },
  {
   "cell_type": "code",
   "execution_count": 51,
   "metadata": {},
   "outputs": [],
   "source": [
    "sep2dec <- function(n) {\n",
    "  return(sapply(strsplit(as.character(n),split=\"\"), \n",
    "                function(x) sum(as.numeric(x) * 7 ** (rev(seq_along(x) - 1)))))\n",
    "}"
   ]
  },
  {
   "cell_type": "code",
   "execution_count": 52,
   "metadata": {},
   "outputs": [],
   "source": [
    "answer_dictionary[16] <- toString(sep2dec('654'))"
   ]
  },
  {
   "cell_type": "markdown",
   "metadata": {},
   "source": [
    "## 17. \n",
    "В языке запросов к поисковому серверу для обозначения \n",
    "\n",
    "- логической операции $«ИЛИ»$ используется символ $\" \\mid \"$, \n",
    "\n",
    "- а для логической операции $«И»$ — $\" \\& \"$. \n",
    "\n",
    "В таблице приведено количество страниц, которое находит поисковая система по каждому запросу.\n",
    "\n",
    "---\n",
    "\n",
    "In the query language to the search server, \n",
    "\n",
    "- the symbol $\" \\mid \"$ is used to indicate the logical operation $\"OR\"$, \n",
    "\n",
    "- and for the logical operation $\"AND\"$ - $\" \\& \"$. \n",
    "\n",
    "The table shows the number of pages that the search engine finds for each query.\n",
    "\n",
    "| Запрос | Количество найденных страниц (в тысячах) |\n",
    "|:-:|:-:|\n",
    "| Query\t| Number of Found Pages |\n",
    "| <i style=\"color:red;\">Красный</i> | 21 |\n",
    "| <i style=\"color:blue;\">Синий</i> | 34 |\n",
    "| <i style=\"color:green;\">Зелёный</i> | 28 |\n",
    "| <i style=\"color:red;\">Красный</i> $\\&$ <i style=\"color:green;\">Зелёный</i> | 6 |\n",
    "| <i style=\"color:blue;\">Синий</i> $\\&$ <i style=\"color:green;\">Зелёный</i> | 11 |\n",
    "| <i style=\"color:red;\">Красный</i> $\\mid$ <i style=\"color:blue;\">Синий</i> $\\mid$ <i style=\"color:green;\">Зелёный</i> | 61 |\n",
    "| <i style=\"color:red;\">Красный</i> $\\&$ <i style=\"color:blue;\">Синий</i> $\\&$ <i style=\"color:green;\">Зелёный</i> | 2 |\n",
    "\n",
    "Какое количество страниц (в тысячах) будет найдено этой поисковой системой по запросу <i style=\"color:red;\">Красный</i> $\\&$ <i style=\"color:blue;\">Синий</i>?\n",
    "\n",
    "---\n",
    "\n",
    "How many pages (in thousands) will be found on the query <i style=\"color:red;\">Красный</i> $\\&$ <i style=\"color:blue;\">Синий</i>?"
   ]
  },
  {
   "cell_type": "markdown",
   "metadata": {},
   "source": [
    "<i style=\"color:red;\">Красный</i> $\\mid$ <i style=\"color:blue;\">Синий</i> $\\mid$ <i style=\"color:green;\">Зелёный</i> $=$\n",
    "\n",
    "\n",
    "$=$ <i style=\"color:red;\">Красный</i> $+$ <i style=\"color:green;\">Зелёный</i> $+$ <i style=\"color:blue;\">Синий</i> $-$ <i style=\"color:red;\">Красный</i> $\\&$ <i style=\"color:green;\">Зелёный</i> $-$ <i style=\"color:blue;\">Синий</i> $\\&$ <i style=\"color:green;\">Зелёный</i> $-$ <i style=\"color:red;\">Красный</i> $\\&$ <i style=\"color:blue;\">Синий</i> $+$  <i style=\"color:red;\">Красный</i> $\\&$ <i style=\"color:blue;\">Синий</i>  $\\&$ <i style=\"color:green;\">Зелёный</i>\n",
    "\n",
    "---\n",
    "\n",
    "<i style=\"color:red;\">Красный</i> $\\&$ <i style=\"color:blue;\">Синий</i> $=$\n",
    "\n",
    "\n",
    "$=$ <i style=\"color:red;\">Красный</i> $+$ <i style=\"color:green;\">Зелёный</i> $+$ <i style=\"color:blue;\">Синий</i> $-$ <i style=\"color:red;\">Красный</i> $\\&$ <i style=\"color:green;\">Зелёный</i> $-$ <i style=\"color:blue;\">Синий</i> $\\&$ <i style=\"color:green;\">Зелёный</i> $-$ <i style=\"color:red;\">Красный</i> $\\mid$ <i style=\"color:blue;\">Синий</i> $\\mid$ <i style=\"color:green;\">Зелёный</i> $+$  <i style=\"color:red;\">Красный</i> $\\&$ <i style=\"color:blue;\">Синий</i>  $\\&$ <i style=\"color:green;\">Зелёный</i>"
   ]
  },
  {
   "cell_type": "code",
   "execution_count": 53,
   "metadata": {},
   "outputs": [
    {
     "data": {
      "text/html": [
       "7"
      ],
      "text/latex": [
       "7"
      ],
      "text/markdown": [
       "7"
      ],
      "text/plain": [
       "[1] 7"
      ]
     },
     "metadata": {},
     "output_type": "display_data"
    }
   ],
   "source": [
    "Red <- 21; Green <- 28; Blue <- 34\n",
    "Red_and_Green <- 6\n",
    "Blue_and_Green <- 11\n",
    "Red_and_Green_and_Blue <- 2\n",
    "Red_or_Green_or_Blue <- 61\n",
    "\n",
    "Red_and_Blue <- Red + Green + Blue - \n",
    "                Red_and_Green - Blue_and_Green - Red_or_Green_or_Blue +\n",
    "                Red_and_Green_and_Blue\n",
    "Red_and_Blue"
   ]
  },
  {
   "cell_type": "code",
   "execution_count": 54,
   "metadata": {},
   "outputs": [
    {
     "data": {
      "image/png": "[encoded data removed]",
      "text/plain": [
       "plot without title"
      ]
     },
     "metadata": {},
     "output_type": "display_data"
    }
   ],
   "source": [
    "venn.plot <- draw.triple.venn(\n",
    "    area1 = Red, area2 = Blue, area3 = Green,\n",
    "    n12 = Red_and_Blue, n23 = Blue_and_Green, n13 = Red_and_Green,\n",
    "    n123 = Red_and_Green_and_Blue,\n",
    "    category = c(\"Red\", \"Blue\", \"Green\"),\n",
    "    fill = c(\"firebrick\", \"steelblue\", \"lightgreen\"),\n",
    "    lty = \"blank\",\n",
    "    cex = 2, cat.cex = 2, \n",
    "    cat.dist = c(0.1, 0.1, -0.5), cat.pos = c(-5, 5, 0),\n",
    "    cat.col = c(\"firebrick\", \"steelblue\", \"lightgreen\")\n",
    ");\n",
    "grid.draw(venn.plot);\n",
    "grid.newpage();"
   ]
  },
  {
   "cell_type": "code",
   "execution_count": 55,
   "metadata": {},
   "outputs": [],
   "source": [
    "answer_dictionary[17] <- toString(Red_and_Blue)"
   ]
  },
  {
   "cell_type": "markdown",
   "metadata": {},
   "source": [
    "## 18.\n",
    "Обозначим через $ДЕЛ(n, m)$ утверждение «натуральное число $n$ делится без остатка на натуральное число $m$».\n",
    "\n",
    "Для какого наибольшего натурального числа $A$ формула  \n",
    "\n",
    "$\\neg ДЕЛ(x, A) \\to (ДЕЛ(x, 6) \\to \\neg ДЕЛ(x, 8))$\n",
    "\n",
    "тождественно истинна (то есть принимает значение $1$ при любом натуральном значении переменной $x$)?\n",
    "\n",
    "---\n",
    "\n",
    "Let's denote by $ДЕЛ(n, m)$ the statement \"a natural number $n$ is divisible without remainder by a natural number $m$\".\n",
    "\n",
    "What is the largest natural number $A$, for which the formula\n",
    "\n",
    "$\\neg ДЕЛ(x, A) \\to (ДЕЛ(x, 6) \\to \\neg ДЕЛ(x, 8))$\n",
    "\n",
    "is identically true (that is, it takes the value $1$ for any natural value of the variable $x$)?"
   ]
  },
  {
   "cell_type": "markdown",
   "metadata": {},
   "source": [
    "$\\neg ДЕЛ(x, A) \\to (ДЕЛ(x, 6) \\to \\neg ДЕЛ(x, 8)) \\iff \\\\\n",
    "\\neg \\neg ДЕЛ(x, A) \\lor (ДЕЛ(x, 6) \\to \\neg ДЕЛ(x, 8)) \\iff \\\\\n",
    "ДЕЛ(x, A) \\lor (\\neg ДЕЛ(x, 6) \\lor \\neg ДЕЛ(x, 8)) \\iff \\\\\n",
    "ДЕЛ(x, A) \\lor \\neg (ДЕЛ(x, 6) \\land ДЕЛ(x, 8)) \\iff \\\\\n",
    "ДЕЛ(x, A) \\lor \\neg ДЕЛ(x, 24) \\ (*)$\n",
    "\n",
    "$(*) \\equiv TRUE \\iff ДЕЛ(x, A) \\equiv ДЕЛ(x, 24)$"
   ]
  },
  {
   "cell_type": "code",
   "execution_count": 56,
   "metadata": {},
   "outputs": [],
   "source": [
    "answer_dictionary[18] <- toString(2 * 3 * 4)"
   ]
  },
  {
   "cell_type": "markdown",
   "metadata": {},
   "source": [
    "## 19.\n",
    "В программе используется целочисленный массив $A$ с индексами от $0$ до $9$. \n",
    "\n",
    "Значения элементов массива равны $6; 5; 4; 7; 10; 6; 9; 11; 7; 8$ соответственно, т.е. $А[0] = 6; А[1] = 5$ и т.д.\n",
    "\n",
    "Определите значение переменной $k$ после выполнения следующего фрагмента программы, \n",
    "\n",
    "записанной ниже на разных языках программирования.\n",
    "\n",
    "---\n",
    "\n",
    "The program uses an integer array $A$ with indices from $0$ to $9$.\n",
    "\n",
    "The values of the array elements are $6, 5, 4, 7, 10, 6, 9, 11, 7, 8$ respectively, i.e. $A[0] = 6$; $A[1] = 5$, etc.\n",
    "\n",
    "Determine the value of the variable $k$ after the execution of the next program fragment, \n",
    "\n",
    "written down below in different programming languages.\n",
    "<table style=\"width:95%;\">\n",
    "  <tr style=\"color:slategray;font-size:120%;font-family:'Roboto';\">\n",
    "    <th style=\"text-align:center;\">Python</th> \n",
    "    <th style=\"text-align:center;\">R</th>          \n",
    "  </tr>\n",
    "  <tr>\n",
    "    <td style=\"font-weight:bold;text-align:left;\"><pre><code class='python'>\n",
    "\n",
    "A = [6,5,4,7,10,6,9,11,7,8]\n",
    "k = 0\n",
    "\n",
    "for i in range(10): \n",
    "    if A[i] % 2 > 0:\n",
    "        k = i\n",
    "    </code></pre></td> \n",
    "    <td style=\"font-weight:bold;text-align:left;\"><pre><code class='r'> \n",
    "    \n",
    "A <- c(6,5,4,7,10,6,9,11,7,8)\n",
    "k <- 0\n",
    "\n",
    "for (i in 1:10) { \n",
    "    if (A[i] %% 2 > 0) {\n",
    "        k <- i - 1\n",
    "    }\n",
    "}\n",
    "    </code></pre></td>     \n",
    "  </tr> \n",
    "</table>"
   ]
  },
  {
   "cell_type": "code",
   "execution_count": 57,
   "metadata": {},
   "outputs": [
    {
     "data": {
      "text/html": [
       "8"
      ],
      "text/latex": [
       "8"
      ],
      "text/markdown": [
       "8"
      ],
      "text/plain": [
       "[1] 8"
      ]
     },
     "metadata": {},
     "output_type": "display_data"
    }
   ],
   "source": [
    "A <- c(6,5,4,7,10,6,9,11,7,8)\n",
    "k <- 0\n",
    "\n",
    "for (i in 1:10) { \n",
    "    if (A[i] %% 2 > 0) {\n",
    "        k <- i-1\n",
    "    }\n",
    "}\n",
    "\n",
    "k"
   ]
  },
  {
   "cell_type": "code",
   "execution_count": 58,
   "metadata": {},
   "outputs": [],
   "source": [
    "answer_dictionary[19] <- toString(k)"
   ]
  },
  {
   "cell_type": "markdown",
   "metadata": {},
   "source": [
    "## 20.\n",
    "Ниже на нескольких языках записан алгоритм. \n",
    "\n",
    "Получив на вход число $х$, этот алгоритм печатает три числа $K$, $M$ и $L$. \n",
    "\n",
    "Укажите наименьшее число $х$, при вводе которого алгоритм печатает сначала $3$, потом $2$, потом ещё $2$.\n",
    "\n",
    "---\n",
    "\n",
    "Below, in several languages, the algorithm is written.\n",
    "\n",
    "After receiving the number $x$ on the input, this algorithm prints three numbers $K$, $M$ and $L$.\n",
    "\n",
    "Specify the smallest number $x$, for which the algorithm prints at first $3$, and then $2$, and $2$ else.\n",
    "<table style=\"width:95%;\">\n",
    "  <tr style=\"color:slategray;font-size:120%;font-family:'Roboto';\">\n",
    "    <th style=\"text-align:center;\">Python</th> \n",
    "    <th style=\"text-align:center;\">R</th>          \n",
    "  </tr>\n",
    "  <tr>\n",
    "    <td style=\"font-weight:bold;text-align:left;\"><pre><code class='python'>\n",
    "\n",
    "x = int(input())\n",
    "K, L, M = 0, 0, 0\n",
    "\n",
    "while x > 0:\n",
    "    y = x % 10\n",
    "    K += 1\n",
    "    if y % 3 == 0:\n",
    "        L += 1\n",
    "    if y % 5 == 0:\n",
    "        M += 1            \n",
    "    x = x // 10\n",
    "\n",
    "print(K, L, M)\n",
    "    </code></pre></td> \n",
    "    <td style=\"font-weight:bold;text-align:left;\"><pre><code class='r'> \n",
    "    \n",
    "x <- as.integer(readline())\n",
    "K <- 0; L <- 0; M <- 0\n",
    "\n",
    "while (x > 0) {\n",
    "    y <- x %% 10\n",
    "    K = K + 1\n",
    "    if (y %% 3 == 0) {\n",
    "        L <- L + 1\n",
    "    }\n",
    "    if (y %% 5 == 0) {\n",
    "        M <- M + 1 \n",
    "    }\n",
    "    x <- x %/% 10\n",
    "}\n",
    "\n",
    "print(sprintf(\"%i %i %i\", K, L, M))\n",
    "    </code></pre></td>     \n",
    "  </tr> \n",
    "</table>\n"
   ]
  },
  {
   "cell_type": "code",
   "execution_count": 59,
   "metadata": {},
   "outputs": [
    {
     "name": "stdout",
     "output_type": "stream",
     "text": [
      "100\n",
      "[1] \"3 2 2\"\n"
     ]
    }
   ],
   "source": [
    "x <- as.integer(readline())\n",
    "K <- 0; L <- 0; M <- 0\n",
    "\n",
    "while (x > 0) {\n",
    "    y <- x %% 10\n",
    "    K = K + 1\n",
    "    if (y %% 3 == 0) {\n",
    "        L <- L + 1\n",
    "    }\n",
    "    if (y %% 5 == 0) {\n",
    "        M <- M + 1 \n",
    "    }\n",
    "    x <- x %/% 10\n",
    "}\n",
    "\n",
    "print(sprintf(\"%i %i %i\", K, L, M))"
   ]
  },
  {
   "cell_type": "code",
   "execution_count": 60,
   "metadata": {},
   "outputs": [
    {
     "name": "stdout",
     "output_type": "stream",
     "text": [
      "[1] \"90 2 2 1\"\n",
      "[1] \"91 2 1 0\"\n",
      "[1] \"92 2 1 0\"\n",
      "[1] \"93 2 2 0\"\n",
      "[1] \"94 2 1 0\"\n",
      "[1] \"95 2 1 1\"\n",
      "[1] \"96 2 2 0\"\n",
      "[1] \"97 2 1 0\"\n",
      "[1] \"98 2 1 0\"\n",
      "[1] \"99 2 2 0\"\n",
      "[1] \"100 3 2 2\"\n",
      "[1] \"101 3 1 1\"\n",
      "[1] \"102 3 1 1\"\n",
      "[1] \"103 3 2 1\"\n",
      "[1] \"104 3 1 1\"\n",
      "[1] \"105 3 1 2\"\n",
      "[1] \"106 3 2 1\"\n",
      "[1] \"107 3 1 1\"\n",
      "[1] \"108 3 1 1\"\n",
      "[1] \"109 3 2 1\"\n",
      "[1] \"110 3 1 1\"\n"
     ]
    }
   ],
   "source": [
    "# расширенная версия программы\n",
    "for (x in 90:110) {\n",
    "    K <- 0; L <- 0; M <- 0; t <- x\n",
    "\n",
    "    while (x > 0) {\n",
    "        y <- x %% 10\n",
    "        K = K + 1\n",
    "        if (y %% 3 == 0) {\n",
    "            L <- L + 1\n",
    "        }\n",
    "        if (y %% 5 == 0) {\n",
    "            M <- M + 1 \n",
    "        }\n",
    "        x <- x %/% 10\n",
    "    }\n",
    "\n",
    "    print(sprintf(\"%i %i %i %i\", t, K, L, M))\n",
    "    \n",
    "    if (K == 3 & L == 2 & M == 2) {\n",
    "        answer <- toString(t)\n",
    "    }\n",
    "}"
   ]
  },
  {
   "cell_type": "code",
   "execution_count": 61,
   "metadata": {},
   "outputs": [],
   "source": [
    "answer_dictionary[20] <- answer"
   ]
  },
  {
   "cell_type": "markdown",
   "metadata": {},
   "source": [
    "## 21.\n",
    "Ниже на нескольких языках представлен алгоритм. \n",
    "\n",
    "Определите, при скольких значениях $b$ на экран будет выведено такое же число, как и при $b = 200$ (включая $b = 200$).\n",
    "\n",
    "---\n",
    "\n",
    "The algorithm is presented in several languages below. \n",
    "\n",
    "Determine for how many values of $b$ the same number will be displayed on the screen as for $b = 200$ (including $b = 200$).\n",
    "<table style=\"width:95%;\">\n",
    "  <tr style=\"color:slategray;font-size:120%;font-family:'Roboto';\">\n",
    "    <th style=\"text-align:center;\">Python</th> \n",
    "    <th style=\"text-align:center;\">R</th>          \n",
    "  </tr>\n",
    "  <tr>\n",
    "    <td style=\"font-weight:bold;text-align:left;\"><pre><code class='python'>\n",
    "\n",
    "def F(x):\n",
    "    if x == 0:\n",
    "        return 0\n",
    "    else:\n",
    "        return F(x // 2) + 1\n",
    "    \n",
    "b = int(input())   \n",
    "a = 0\n",
    "while a < F(b):\n",
    "    a += 1\n",
    "    \n",
    "print(a)\n",
    "    </code></pre></td> \n",
    "    <td style=\"font-weight:bold;text-align:left;\"><pre><code class='r'> \n",
    "    \n",
    "F <- function(x) {\n",
    "    if (x == 0) {\n",
    "        return (0)\n",
    "    } else {\n",
    "        return(F(x %/% 2) + 1)\n",
    "    }\n",
    "} \n",
    "\n",
    "b <- as.integer(readline())\n",
    "a <- 0\n",
    "\n",
    "while (a < F(b)) {\n",
    "    a <- a + 1\n",
    "}\n",
    "\n",
    "print(a)\n",
    "    </code></pre></td>     \n",
    "  </tr> \n",
    "</table>"
   ]
  },
  {
   "cell_type": "code",
   "execution_count": 62,
   "metadata": {},
   "outputs": [
    {
     "name": "stdout",
     "output_type": "stream",
     "text": [
      "200\n",
      "[1] 8\n"
     ]
    }
   ],
   "source": [
    "F <- function(x) {\n",
    "    if (x == 0) {\n",
    "        return (0)\n",
    "    } else {\n",
    "        return(F(x %/% 2) + 1)\n",
    "    }\n",
    "} \n",
    "\n",
    "b <- as.integer(readline())\n",
    "a <- 0\n",
    "\n",
    "while (a < F(b)) {\n",
    "    a <- a + 1\n",
    "}\n",
    "\n",
    "print(a)"
   ]
  },
  {
   "cell_type": "markdown",
   "metadata": {},
   "source": [
    "Переменная $a$ равна количеству разрядов в бинарной записи числа $b$. Для $b = 200$ переменная $a = 8$. \n",
    "\n",
    "Такое же значение параметр $a$ будет принимать для всех натуральных $b: 127 < b < 256$. \n",
    "\n",
    "Количество таких чисел равно $128$.\n",
    "\n",
    "---\n",
    "\n",
    "The variable $a$ is equal to the number of digits in the binary form of $b$. For $b = 200$, the variable $a = 8$. \n",
    "\n",
    "The same value of the parameter $a$ will be taken for all natural numbers $b: 127 < b < 256$. \n",
    "\n",
    "The quantity of this type of numbers is $128$."
   ]
  },
  {
   "cell_type": "code",
   "execution_count": 63,
   "metadata": {},
   "outputs": [
    {
     "name": "stdout",
     "output_type": "stream",
     "text": [
      "[1] \"Pairs [b,a]:\"\n",
      "     [,1] [,2] [,3] [,4] [,5] [,6] [,7] [,8] [,9] [,10] [,11] [,12] [,13] [,14]\n",
      "[1,]  100  101  102  103  104  105  106  107  108   109   110   111   112   113\n",
      "[2,]    7    7    7    7    7    7    7    7    7     7     7     7     7     7\n",
      "     [,15] [,16] [,17] [,18] [,19] [,20] [,21] [,22] [,23] [,24] [,25] [,26]\n",
      "[1,]   114   115   116   117   118   119   120   121   122   123   124   125\n",
      "[2,]     7     7     7     7     7     7     7     7     7     7     7     7\n",
      "     [,27] [,28] [,29] [,30] [,31] [,32] [,33] [,34] [,35] [,36] [,37] [,38]\n",
      "[1,]   126   127   128   129   130   131   132   133   134   135   136   137\n",
      "[2,]     7     7     8     8     8     8     8     8     8     8     8     8\n",
      "     [,39] [,40] [,41] [,42] [,43] [,44] [,45] [,46] [,47] [,48] [,49] [,50]\n",
      "[1,]   138   139   140   141   142   143   144   145   146   147   148   149\n",
      "[2,]     8     8     8     8     8     8     8     8     8     8     8     8\n",
      "     [,51] [,52] [,53] [,54] [,55] [,56] [,57] [,58] [,59] [,60] [,61] [,62]\n",
      "[1,]   150   151   152   153   154   155   156   157   158   159   160   161\n",
      "[2,]     8     8     8     8     8     8     8     8     8     8     8     8\n",
      "     [,63] [,64] [,65] [,66] [,67] [,68] [,69] [,70] [,71] [,72] [,73] [,74]\n",
      "[1,]   162   163   164   165   166   167   168   169   170   171   172   173\n",
      "[2,]     8     8     8     8     8     8     8     8     8     8     8     8\n",
      "     [,75] [,76] [,77] [,78] [,79] [,80] [,81] [,82] [,83] [,84] [,85] [,86]\n",
      "[1,]   174   175   176   177   178   179   180   181   182   183   184   185\n",
      "[2,]     8     8     8     8     8     8     8     8     8     8     8     8\n",
      "     [,87] [,88] [,89] [,90] [,91] [,92] [,93] [,94] [,95] [,96] [,97] [,98]\n",
      "[1,]   186   187   188   189   190   191   192   193   194   195   196   197\n",
      "[2,]     8     8     8     8     8     8     8     8     8     8     8     8\n",
      "     [,99] [,100] [,101] [,102] [,103] [,104] [,105] [,106] [,107] [,108]\n",
      "[1,]   198    199    200    201    202    203    204    205    206    207\n",
      "[2,]     8      8      8      8      8      8      8      8      8      8\n",
      "     [,109] [,110] [,111] [,112] [,113] [,114] [,115] [,116] [,117] [,118]\n",
      "[1,]    208    209    210    211    212    213    214    215    216    217\n",
      "[2,]      8      8      8      8      8      8      8      8      8      8\n",
      "     [,119] [,120] [,121] [,122] [,123] [,124] [,125] [,126] [,127] [,128]\n",
      "[1,]    218    219    220    221    222    223    224    225    226    227\n",
      "[2,]      8      8      8      8      8      8      8      8      8      8\n",
      "     [,129] [,130] [,131] [,132] [,133] [,134] [,135] [,136] [,137] [,138]\n",
      "[1,]    228    229    230    231    232    233    234    235    236    237\n",
      "[2,]      8      8      8      8      8      8      8      8      8      8\n",
      "     [,139] [,140] [,141] [,142] [,143] [,144] [,145] [,146] [,147] [,148]\n",
      "[1,]    238    239    240    241    242    243    244    245    246    247\n",
      "[2,]      8      8      8      8      8      8      8      8      8      8\n",
      "     [,149] [,150] [,151] [,152] [,153] [,154] [,155] [,156] [,157] [,158]\n",
      "[1,]    248    249    250    251    252    253    254    255    256    257\n",
      "[2,]      8      8      8      8      8      8      8      8      9      9\n",
      "     [,159] [,160]\n",
      "[1,]    258    259\n",
      "[2,]      9      9\n"
     ]
    }
   ],
   "source": [
    "# расширенная версия программы\n",
    "F <- function(x) {\n",
    "    if (x == 0) {\n",
    "        return (0)\n",
    "    } else {\n",
    "        return(F(x %/% 2) + 1)\n",
    "    }\n",
    "} \n",
    "\n",
    "A <- matrix(nrow=2, ncol=160)\n",
    "\n",
    "for (b in 100:259) {\n",
    "    a <- 0\n",
    "    \n",
    "    while (a < F(b)) {\n",
    "        a <- a + 1\n",
    "    }\n",
    "    \n",
    "    A[1,b-99] <- b\n",
    "    A[2,b-99] <- a    \n",
    "}\n",
    "\n",
    "print(\"Pairs [b,a]:\")\n",
    "print(A)    "
   ]
  },
  {
   "cell_type": "code",
   "execution_count": 64,
   "metadata": {},
   "outputs": [
    {
     "data": {
      "text/plain": [
       "\n",
       "  7   8   9 \n",
       " 28 128   4 "
      ]
     },
     "metadata": {},
     "output_type": "display_data"
    }
   ],
   "source": [
    "table(A[2,])"
   ]
  },
  {
   "cell_type": "code",
   "execution_count": 66,
   "metadata": {},
   "outputs": [],
   "source": [
    "answer_dictionary[21] <- toString(table(A[2,])[2])"
   ]
  },
  {
   "cell_type": "markdown",
   "metadata": {},
   "source": [
    "## 22.\n",
    "У исполнителя <i style=\"color:#348ABD;\" class=\"font-effect-3d\">Прибавлятель</i> три команды, которым присвоены номера:\n",
    "\n",
    "$1.$ <i style=\"color:#348ABD;\" class=\"font-effect-3d\">прибавь 1</i>,\n",
    "\n",
    "\n",
    "$2.$ <i style=\"color:#348ABD;\" class=\"font-effect-3d\">прибавь 2</i>,\n",
    "\n",
    "\n",
    "$3.$ <i style=\"color:#348ABD;\" class=\"font-effect-3d\">прибавь 5</i>.\n",
    "\n",
    "Первая из них увеличивает число на экране на $1$, вторая — на $2$, третья — на $5$. \n",
    "\n",
    "Программа для <i style=\"color:#348ABD;\" class=\"font-effect-3d\">Прибавлятель</i> — это последовательность команд.\n",
    "\n",
    "Сколько есть программ, которые число $2$ преобразуют в число $10$?\n",
    "\n",
    "---\n",
    "\n",
    "The performer <i style=\"color:#348ABD;\" class=\"font-effect-3d\">Adder</i> has three enumerated commands:\n",
    "\n",
    "$1.$ <i style=\"color:#348ABD;\" class=\"font-effect-3d\">add 1</i>,\n",
    "\n",
    "\n",
    "$2.$ <i style=\"color:#348ABD;\" class=\"font-effect-3d\">add 2</i>,\n",
    "\n",
    "\n",
    "$3.$ <i style=\"color:#348ABD;\" class=\"font-effect-3d\">add 5</i>.\n",
    "\n",
    "The first of them increases the number on the screen by $1$, the second - by $2$, the third - by $5$.\n",
    "\n",
    "The program for <i style=\"color:#348ABD;\" class=\"font-effect-3d\">Adder</i> is a sequence of commands.\n",
    "\n",
    "How many programs are there that convert $2$ to $10$?"
   ]
  },
  {
   "cell_type": "markdown",
   "metadata": {},
   "source": [
    "| Начальное число → Конечное число | Количество программ | Примечание |\n",
    "|:-|:-|:-|\n",
    "| Start → End | Number of Programs | Notes |\n",
    "| 2 → 3 | 1 | `2+1` |\n",
    "| 2 → 4 | 2 | `2+1`, `2+2` |\n",
    "| 2 → 5 | 3 | = 2 → 3 + 2 → 4 |\n",
    "| 2 → 6 | 5 | = 2 → 4 + 2 → 5 |\n",
    "| 2 → 7 | 9 | = 2 → 5 + 2 → 6 + 1 (`2+5`) |\n",
    "| 2 → 8 | 15 | = 2 → 6 + 2 → 7 + 2 → 3 |\n",
    "| 2 → 9 | 26 | = 2 → 7 + 2 → 8 + 2 → 4 |\n",
    "| 2 → 10 | 44 | = 2 → 8 + 2 → 9 + 2 → 5 |"
   ]
  },
  {
   "cell_type": "code",
   "execution_count": 67,
   "metadata": {},
   "outputs": [
    {
     "data": {
      "text/html": [
       "29524"
      ],
      "text/latex": [
       "29524"
      ],
      "text/markdown": [
       "29524"
      ],
      "text/plain": [
       "[1] 29524"
      ]
     },
     "metadata": {},
     "output_type": "display_data"
    }
   ],
   "source": [
    "# пример вариантов программы указанного вида\n",
    "x <- c(2)\n",
    "\n",
    "for (i in 0:8) {    \n",
    "    n <- as.integer(length(x) - 3 ** i + 1)\n",
    "    y1 <- c(); y2 <- c(); y3 <- c();\n",
    "    \n",
    "    for (j in n:length(x)) {\n",
    "        y1 <- c(y1, x[j] + 1) \n",
    "        y2 <- c(y2, x[j] + 2)\n",
    "        y3 <- c(y3, x[j] + 5)\n",
    "    }\n",
    "    \n",
    "    x <- c(x, y1, y2, y3)\n",
    "}\n",
    "\n",
    "length(x)"
   ]
  },
  {
   "cell_type": "code",
   "execution_count": 68,
   "metadata": {},
   "outputs": [
    {
     "data": {
      "text/plain": [
       "x\n",
       "   2    3    4    5    6    7    8    9   10   11   12   13   14   15   16   17 \n",
       "   1    1    2    3    5    9   15   26   44   75  127  207  315  446  616  847 \n",
       "  18   19   20   21   22   23   24   25   26   27   28   29   30   31   32   33 \n",
       "1100 1302 1498 1786 2030 2036 2008 2172 2186 1828 1595 1651 1428  945  799  819 \n",
       "  34   35   36   37   38   39   40   41   42   43   44   47 \n",
       " 539  266  280  253   92   44   72   36    1    9    9    1 "
      ]
     },
     "metadata": {},
     "output_type": "display_data"
    }
   ],
   "source": [
    "nt <- table(x)\n",
    "nt"
   ]
  },
  {
   "cell_type": "code",
   "execution_count": 69,
   "metadata": {},
   "outputs": [
    {
     "data": {
      "text/html": [
       "<strong>10:</strong> 44"
      ],
      "text/latex": [
       "\\textbf{10:} 44"
      ],
      "text/markdown": [
       "**10:** 44"
      ],
      "text/plain": [
       "10 \n",
       "44 "
      ]
     },
     "metadata": {},
     "output_type": "display_data"
    }
   ],
   "source": [
    "nt[names(nt) == 10]"
   ]
  },
  {
   "cell_type": "code",
   "execution_count": 70,
   "metadata": {},
   "outputs": [],
   "source": [
    "answer_dictionary[22] <- '44'"
   ]
  },
  {
   "cell_type": "markdown",
   "metadata": {},
   "source": [
    "## 23.\n",
    "Сколько существует различных наборов значений логических переменных $x_1, х_2, ... х_7, x_8$, \n",
    "\n",
    "которые удовлетворяют всем перечисленным ниже условиям? \n",
    "\n",
    "В ответе не нужно перечислять все различные наборы значений $x_1, х_2, ... х_7, x_8$, \n",
    "\n",
    "при которых выполнена данная система равенств. \n",
    "\n",
    "В качестве ответа вам нужно указать количество таких наборов.\n",
    "\n",
    "---\n",
    "\n",
    "How many different sets of values of logical variables $x_1, х_2, ... х_7, x_8$ exist \n",
    "\n",
    "that satisfy all the conditions listed below?\n",
    "\n",
    "In the answer it is not necessary to list all the different sets of values $x_1, х_2, ... х_7, x_8$ \n",
    "\n",
    "for which the given system of equations is satisfied. \n",
    "\n",
    "As an answer, you need to specify only the number of such sets.\n",
    "\n",
    "- $ (x_1 \\land x_2) \\lor (x_2 \\land x_3) = 0 $  **(1)**\n",
    "- $ (x_2 \\land x_3) \\lor (x_3 \\land x_4) = 0 $  **(2)**\n",
    "- $ (x_3 \\land x_4) \\lor (x_4 \\land x_5) = 0 $  **(3)**\n",
    "- $ (x_4 \\land x_5) \\lor (x_5 \\land x_6) = 0 $  **(4)**\n",
    "- $ (x_5 \\land x_6) \\lor (x_6 \\land x_7) = 0 $  **(5)**\n",
    "- $ (x_6 \\land x_7) \\lor (x_7 \\land x_8) = 0 $  **(6)**"
   ]
  },
  {
   "cell_type": "markdown",
   "metadata": {},
   "source": [
    "$ \\begin{cases}\n",
    "(x_1 \\land x_2) \\lor (x_2 \\land x_3) = 0 \\\\\n",
    "(x_2 \\land x_3) \\lor (x_3 \\land x_4) = 0 \\\\\n",
    "(x_3 \\land x_4) \\lor (x_4 \\land x_5) = 0 \\\\\n",
    "(x_4 \\land x_5) \\lor (x_5 \\land x_6) = 0 \\\\\n",
    "(x_5 \\land x_6) \\lor (x_6 \\land x_7) = 0 \\\\\n",
    "(x_6 \\land x_7) \\lor (x_7 \\land x_8) = 0 \n",
    "\\end{cases} \\iff \\begin{cases}\n",
    "x_2 \\land (x_1 \\lor x_3) = 0 \\ (1*) \\\\\n",
    "x_3 \\land (x_2 \\lor x_4) = 0 \\ (2*) \\\\\n",
    "x_4 \\land (x_3 \\lor x_5) = 0 \\ (3*) \\\\\n",
    "x_5 \\land (x_4 \\lor x_6) = 0 \\ (4*) \\\\\n",
    "x_6 \\land (x_5 \\lor x_7) = 0 \\ (5*) \\\\\n",
    "x_7 \\land (x_6 \\lor x_8) = 0 \\ (6*) \n",
    "\\end{cases}$ "
   ]
  },
  {
   "cell_type": "markdown",
   "metadata": {},
   "source": [
    "1) Тождество $(1*)$ выполнется только для 5 наборов переменных $(x_1,x_2,x_3)$ из 8 возможных: \n",
    "\n",
    "(0,0,0), (0,1,0), (1,0,0), (1,0,1), (0,0,1).\n",
    "\n",
    "2) Эти наборы $(x_1,x_2,x_3)$ должны пересекаться со множеством решений тождества $(2*)$ для переменных $(x_2,x_3,x_4)$. \n",
    "\n",
    "Два набора $(x_1,x_2,x_3)$ (1,0,1), (0,0,1) могут быть решениями $(2*)$ только, если $(x_1,x_2,x_3,x_4)$ равны (1,0,1,0) или (0,0,1,0) соответственно. \n",
    "\n",
    "Для остальных 3 наборов $(x_1,x_2,x_3)$ переменная $x_4$ может принимать любые значения. \n",
    "\n",
    "Всего решениями системы уравнений $(1∗)$ и $(2∗)$ являются  `2 + 3 ∗ 2 = 8`  наборов переменных $(x_1,x_2,x_3,x_4)$.\n",
    "\n",
    "3) Рассуждая аналогично, получим:\n",
    "\n",
    "- `3 + 5 ∗ 2 = 13` наборов $(x_1,x_2,x_3,x_4,x_5)$, являющихся решениями системы $(1∗), (2∗), (3∗)$;\n",
    "\n",
    "- `5 + 8 ∗ 2 = 21` набор $(x_1,x_2,x_3,x_4,x_5,x_6)$, являющихся решениями системы $(1∗), (2∗), (3∗), (4*)$;\n",
    "\n",
    "- `8 + 13 ∗ 2 = 34` набора $(x_1,x_2,x_3,x_4,x_5,x_6,x_7)$, являющихся решениями системы $(1∗), (2∗), (3∗), (4*), (5*)$;\n",
    "\n",
    "- `13 + 21 ∗ 2 = 55` наборов $(x_1,x_2,x_3,x_4,x_5,x_6,x_7,x_8)$, являющихся решениями системы $(1∗), (2∗), (3∗), (4*), (5*), (6*)$.\n",
    "\n",
    "---\n",
    "\n",
    "1) The identity $(1*)$ is fulfilled only for 5 sets of variables $(x_1,x_2,x_3)$ from 8 possible ones: \n",
    "\n",
    "(0,0,0), (0,1,0), (1,0,0), (1,0,1), (0,0,1).\n",
    "\n",
    "2) These sets $(x_1, x_2, x_3)$ must intersect the set of solutions of the identity $(2*)$ for the variables $(x_2, x_3, x_4)$. \n",
    "\n",
    "Two sets $(x_1, x_2, x_3)$ ((1,0,1), (0,0,1) can be solutions of $(2 *)$ only if $(x_1, x_2, x_3, x_4)$ are equal to (1,0,1,0) or (0,0,1,0) respectively. \n",
    "\n",
    "For the remaining 3 sets $(x_1, x_2, x_3)$, the variable $x_4$ can take any values. \n",
    "\n",
    "All solutions of the system of equations $(1 *)$ and $(2 *)$ are `2 + 3 * 2 = 8` sets of variables $(x_1, x_2, x_3, x_4)$.\n",
    "\n",
    "3) Arguing similarly, we get:\n",
    "\n",
    "- `3 + 5 ∗ 2 = 13` sets $(x_1,x_2,x_3,x_4,x_5)$ are solutions of the system $(1*), (2*), (3*)$;\n",
    "\n",
    "- `5 + 8 ∗ 2 = 21` sets $(x_1,x_2,x_3,x_4,x_5,x_6)$ are solutions of the system $(1∗), (2∗), (3∗), (4*)$;\n",
    "   \n",
    "- `8 + 13 ∗ 2 = 34` sets $(x_1,x_2,x_3,x_4,x_5,x_6,x_7)$ are solutions of the system $(1*), (2*), (3*), (4*), (5*)$;\n",
    "\n",
    "- `13 + 21 ∗ 2 = 55` sets $(x_1,x_2,x_3,x_4,x_5,x_6,x_7,x_8)$ are solutions of the system $(1*), (2*), (3*), (4*), (5*), (6*)$."
   ]
  },
  {
   "cell_type": "code",
   "execution_count": 71,
   "metadata": {},
   "outputs": [
    {
     "data": {
      "text/html": [
       "55"
      ],
      "text/latex": [
       "55"
      ],
      "text/markdown": [
       "55"
      ],
      "text/plain": [
       "[1] 55"
      ]
     },
     "metadata": {},
     "output_type": "display_data"
    }
   ],
   "source": [
    "# check the decision method\n",
    "bc <- bincombinations(8)\n",
    "c <- 0\n",
    "n <- length(bc)/8\n",
    "\n",
    "logical_function <- function(k,l,m) {\n",
    "    (k & l) | (l & m) \n",
    "}\n",
    "\n",
    "for (i in 1:n){\n",
    "    el <- bc[i,]\n",
    "    e1 <- logical_function(el[1],el[2],el[3])\n",
    "    e2 <- logical_function(el[2],el[3],el[4])\n",
    "    e3 <- logical_function(el[3],el[4],el[5])\n",
    "    e4 <- logical_function(el[4],el[5],el[6])\n",
    "    e5 <- logical_function(el[5],el[6],el[7])\n",
    "    e6 <- logical_function(el[6],el[7],el[8])\n",
    "    \n",
    "    result <- (e1 == 0) & (e2 == 0) & (e3 == 0) & (e4 == 0) & (e5 == 0) & (e6 == 0)\n",
    "    \n",
    "    if (result == 1) {\n",
    "        c <- c + 1\n",
    "    }\n",
    "}\n",
    "\n",
    "c"
   ]
  },
  {
   "cell_type": "code",
   "execution_count": 72,
   "metadata": {},
   "outputs": [],
   "source": [
    "answer_dictionary[23] <- toString(c)"
   ]
  },
  {
   "cell_type": "markdown",
   "metadata": {},
   "source": [
    "## Часть 2 &nbsp; &nbsp; &nbsp; Part 2\n",
    "## 24.\n",
    "Требовалось написать программу, которая \n",
    "\n",
    "- вводит с клавиатуры последовательность из n целых чисел (n = 4), \n",
    "- и выводит на экран сумму отрицательных чисел среди этой последовательности. \n",
    "\n",
    "Если в последовательности нет отрицательных чисел, программа должна вывести 0. \n",
    "\n",
    "Известно, что вводимые числа не превышают по модулю 1000. \n",
    "\n",
    "Программист торопился и написал программу неправильно.\n",
    "\n",
    "Выполните следующие действия:\n",
    "\n",
    "1. Напишите, что выведет программа при вводе чисел -1 1 3 -5.\n",
    "\n",
    "2. Приведите пример такой входной последовательности, при которой программа работает верно.\n",
    "\n",
    "3. Укажите все ошибки в программе и исправьте их. \n",
    "\n",
    "Для этого для каждой ошибки: выпишите строку, которая написана неправильно и приведите правильный вариант строки.\n",
    "\n",
    "---\n",
    "\n",
    "It was required to write a program that \n",
    "\n",
    "- enters from the keyboard a sequence of n integers (n = 4) \n",
    "- and displays the sum of the negative numbers among this sequence. \n",
    "\n",
    "If there are no negative numbers in the sequence, the program should output 0. \n",
    "\n",
    "It is known that the entered numbers do not exceed 1000 by the absolute value.\n",
    "\n",
    "The programmer was in a hurry and wrote the program incorrectly.\n",
    "\n",
    "Do the following:\n",
    "\n",
    "1. Write what the program will output when you enter numbers -1 1 3 -5.\n",
    "\n",
    "2. Give an example of such an input sequence, for which the program works correctly.\n",
    "\n",
    "3. Indicate any errors in the program and correct them. \n",
    "\n",
    "To do this, for each error: write out the line that was written incorrectly and give the correct version of this line.\n",
    "<table style=\"width:95%;\">\n",
    "  <tr style=\"color:slategray;font-size:120%;font-family:'Roboto';\">\n",
    "    <th style=\"text-align:center;\">Python</th> \n",
    "    <th style=\"text-align:center;\">R</th>          \n",
    "  </tr>\n",
    "  <tr>\n",
    "    <td style=\"font-weight:bold;text-align:left;\"><pre><code class='python'>\n",
    "\n",
    "N, SUM = 4, 0\n",
    "\n",
    "for I in range(N):\n",
    "    A = int(input())\n",
    "    if A < 0:\n",
    "        SUM = A   \n",
    "        \n",
    "print(A)\n",
    "    </code></pre></td> \n",
    "    <td style=\"font-weight:bold;text-align:left;\"><pre><code class='r'> \n",
    "    \n",
    "N <- 4; SUM <- 0\n",
    "\n",
    "for (I in 1:N) {\n",
    "    A <- as.integer(readline())\n",
    "    if (A < 0) {\n",
    "        SUM <- A \n",
    "    }\n",
    "}\n",
    "\n",
    "print(A)\n",
    "    </code></pre></td>     \n",
    "  </tr> \n",
    "</table>"
   ]
  },
  {
   "cell_type": "code",
   "execution_count": 73,
   "metadata": {},
   "outputs": [
    {
     "name": "stdout",
     "output_type": "stream",
     "text": [
      "-1\n",
      "1\n",
      "3\n",
      "-5\n",
      "[1] -5\n"
     ]
    }
   ],
   "source": [
    "# the wrong program, the wrong result\n",
    "N <- 4; SUM <- 0\n",
    "\n",
    "for (I in 1:N) {\n",
    "    A <- as.integer(readline())\n",
    "    if (A < 0) {\n",
    "        SUM <- A \n",
    "    }\n",
    "}\n",
    "\n",
    "print(A)"
   ]
  },
  {
   "cell_type": "code",
   "execution_count": 74,
   "metadata": {},
   "outputs": [
    {
     "name": "stdout",
     "output_type": "stream",
     "text": [
      "1\n",
      "2\n",
      "3\n",
      "-4\n",
      "[1] -4\n"
     ]
    }
   ],
   "source": [
    "# the wrong program, the right result\n",
    "N <- 4; SUM <- 0\n",
    "\n",
    "for (I in 1:N) {\n",
    "    A <- as.integer(readline())\n",
    "    if (A < 0) {\n",
    "        SUM <- A \n",
    "    }\n",
    "}\n",
    "\n",
    "print(A)"
   ]
  },
  {
   "cell_type": "code",
   "execution_count": 75,
   "metadata": {},
   "outputs": [
    {
     "name": "stdout",
     "output_type": "stream",
     "text": [
      "-1\n",
      "1\n",
      "3\n",
      "-5\n",
      "[1] -6\n"
     ]
    }
   ],
   "source": [
    "# the right program, the right result\n",
    "N <- 4; SUM <- 0\n",
    "\n",
    "for (I in 1:N) {\n",
    "    A <- as.integer(readline())\n",
    "    if (A < 0) {\n",
    "        SUM <- SUM + A \n",
    "    }\n",
    "}\n",
    "\n",
    "print(SUM)"
   ]
  },
  {
   "cell_type": "code",
   "execution_count": 76,
   "metadata": {},
   "outputs": [],
   "source": [
    "answer_dictionary[24] <- \"\n",
    "1. -5\n",
    "2. 1 2 3 -4\n",
    "3. 'SUM <- A' ⟹ 'SUM <- SUM + A'; 'print(A)' ⟹ 'print(SUM)'\n",
    "\""
   ]
  },
  {
   "cell_type": "markdown",
   "metadata": {},
   "source": [
    "## 25.\n",
    "Дан целочисленный массив из 40 элементов. Элементы массива могут принимать значения от `-10000` до `10000`. \n",
    "\n",
    "Опишите на русском языке или на одном из языков программирования алгоритм, который проверяет, \n",
    "\n",
    "все ли значения элементов массива чётные и положительные. \n",
    "\n",
    "Если да, программа должна вывести `«YES»`, в противном случае — `«NO»`.\n",
    "\n",
    "Исходные данные объявлены так, как показано ниже. \n",
    "\n",
    "Запрещается использовать переменные, не описанные ниже, но разрешается не использовать часть из них.\n",
    "\n",
    "- Объявляем массив A из 40 элементов.\n",
    "\n",
    "- Объявляем целочисленные переменные I, J, K.\n",
    "\n",
    "- В цикле от 1 до 40 вводим элементы массива A с 1-го по 40-й.\n",
    "\n",
    "- …\n",
    "\n",
    "В качестве ответа вам необходимо привести фрагмент программы (или описание алгоритма на естественном языке), который должен находиться на месте многоточия. \n",
    "\n",
    "Вы можете записать решение также на другом языке программирования (укажите название и используемую версию языка программирования, например `Borland Pascal 7.0`) или в виде блок-схемы. \n",
    "\n",
    "В этом случае вы должны использовать те же самые исходные данные и переменные, какие были предложены в условии (например, в образце, записанном на естественном языке).\n",
    "\n",
    "---\n",
    "\n",
    "An integer array of 40 elements is given. Elements of the array can take values from `-10000` to `10000`. \n",
    "\n",
    "Describe in Russian / English or in one of the programming languages an algorithm that checks whether all the values of array elements are even and positive. \n",
    "\n",
    "If yes, the program should output `\"YES\"`, otherwise `\"NO\"`.\n",
    "\n",
    "The original data is declared as shown below. \n",
    "\n",
    "It is forbidden to use variables not described below, but it is allowed not to use part of them.\n",
    "\n",
    "- Declare an array A of 40 elements.\n",
    "\n",
    "- Declare the integer variables I, J, K.\n",
    "\n",
    "- In the cycle from 1 to 40, we introduce the elements of array A from the 1st to the 40th.\n",
    "\n",
    "- ...\n",
    "\n",
    "As an answer, you need to bring the program fragment (or description of the algorithm in the natural language), which should be in place of the ellipsis. \n",
    "\n",
    "You can also write the solution in another programming language (specify the name and the version of the programming language used, for example, `Borland Pascal 7.0`) or as a flowchart. \n",
    "\n",
    "In this case, you must use the same source data and variables that were proposed in the condition (for example, in a sample written in the natural language).\n",
    "<table style=\"width:95%;\">\n",
    "  <tr style=\"color:slategray;font-size:120%;font-family:'Roboto';\">\n",
    "    <th style=\"text-align:center;\">Python</th> \n",
    "    <th style=\"text-align:center;\">R</th>          \n",
    "  </tr>\n",
    "  <tr>\n",
    "    <td style=\"font-weight:bold;text-align:left;\"><pre><code class='python'>\n",
    "\n",
    "N = 40\n",
    "A = []\n",
    "\n",
    "#use integer variables I, J, K\n",
    "\n",
    "for I in range(N):\n",
    "    A.append(int(input()))       \n",
    "    ...\n",
    "    </code></pre></td> \n",
    "    <td style=\"font-weight:bold;text-align:left;\"><pre><code class='r'> \n",
    "    \n",
    "N <- 40\n",
    "A <- vector(mode=\"integer\",length=N)\n",
    "\n",
    "#use integer variables I, J, K\n",
    "\n",
    "for (I in 1:N){\n",
    "    A[I] <- as.integer(readline())\n",
    "...\n",
    "}  \n",
    "    </code></pre></td>     \n",
    "  </tr> \n",
    "</table>"
   ]
  },
  {
   "cell_type": "code",
   "execution_count": 77,
   "metadata": {},
   "outputs": [],
   "source": [
    "version <- R.version.string"
   ]
  },
  {
   "cell_type": "code",
   "execution_count": 78,
   "metadata": {},
   "outputs": [
    {
     "name": "stdout",
     "output_type": "stream",
     "text": [
      "Create an integer array of numbers from the interval [-10000, 10000].\n",
      "2\n",
      "4\n",
      "6\n",
      "8\n",
      "10\n",
      "12\n",
      "14\n",
      "16\n",
      "18\n",
      "20\n",
      "22\n",
      "24\n",
      "26\n",
      "28\n",
      "30\n",
      "32\n",
      "34\n",
      "36\n",
      "38\n",
      "40\n",
      "42\n",
      "44\n",
      "46\n",
      "48\n",
      "50\n",
      "52\n",
      "54\n",
      "56\n",
      "58\n",
      "60\n",
      "100\n",
      "200\n",
      "300\n",
      "400\n",
      "500\n",
      "600\n",
      "700\n",
      "800\n",
      "900\n",
      "1000\n",
      "YES"
     ]
    }
   ],
   "source": [
    "cat('Create an integer array of numbers from the interval [-10000, 10000].\\n')\n",
    "N <- 40\n",
    "A <- vector(mode='integer',length=N)\n",
    "K <- 0\n",
    "\n",
    "for (I in 1:N){\n",
    "    A[I] <- as.integer(readline())\n",
    "    # The fragment instead of the ellipsis\n",
    "    if ((A[I] %% 2 != 0) | (A[I] <= 0)) { \n",
    "        K <- K + 1\n",
    "    }\n",
    "}\n",
    "\n",
    "if (K == 0) {\n",
    "    cat('YES')\n",
    "} else {\n",
    "    cat('NO')\n",
    "}"
   ]
  },
  {
   "cell_type": "code",
   "execution_count": 79,
   "metadata": {},
   "outputs": [],
   "source": [
    "program_fragment <- \"\n",
    "cat('Create an integer array of numbers from the interval [-10000, 10000].\\n')\n",
    "N <- 40\n",
    "A <- vector(mode='integer',length=N)\n",
    "K <- 0\n",
    "\n",
    "for (I in 1:N){\n",
    "    A[I] <- as.integer(readline())\n",
    "    # The fragment instead of the ellipsis\n",
    "    if ((A[I] %% 2 != 0) | (A[I] <= 0)) { \n",
    "        K <- K + 1\n",
    "    }\n",
    "}\n",
    "\n",
    "if (K == 0) {\n",
    "    cat('YES')\n",
    "} else {\n",
    "    cat('NO')\n",
    "}\n",
    "\""
   ]
  },
  {
   "cell_type": "code",
   "execution_count": 80,
   "metadata": {},
   "outputs": [],
   "source": [
    "answer_dictionary[25] <- paste(version, program_fragment, sep=\";\")"
   ]
  },
  {
   "cell_type": "markdown",
   "metadata": {},
   "source": [
    "## 26."
   ]
  },
  {
   "cell_type": "code",
   "execution_count": null,
   "metadata": {},
   "outputs": [],
   "source": []
  },
  {
   "cell_type": "markdown",
   "metadata": {},
   "source": [
    "## 27."
   ]
  },
  {
   "cell_type": "code",
   "execution_count": null,
   "metadata": {},
   "outputs": [],
   "source": []
  },
  {
   "cell_type": "markdown",
   "metadata": {},
   "source": [
    "## Ответы &nbsp; &nbsp; &nbsp; Answers"
   ]
  },
  {
   "cell_type": "code",
   "execution_count": 158,
   "metadata": {},
   "outputs": [
    {
     "data": {
      "text/plain": [
       "<hash> containing 22 key-value pair(s).\n",
       "  1 : 900\n",
       "  10 : 1200\n",
       "  11 : 25\n",
       "  12 : 240\n",
       "  13 : 1000\n",
       "  14 : 22\n",
       "  15 : 18\n",
       "  16 : 333\n",
       "  17 : 7\n",
       "  18 : 24\n",
       "  19 : 8\n",
       "  2 : 13\n",
       "  20 : 100\n",
       "  21 : 128\n",
       "  22 : 44\n",
       "  3 : 13\n",
       "  4 : 12\n",
       "  5 : ABCA\n",
       "  6 : 38\n",
       "  7 : 1\n",
       "  8 : 33\n",
       "  9 : 10"
      ]
     },
     "metadata": {},
     "output_type": "display_data"
    }
   ],
   "source": [
    "answer_dictionary"
   ]
  },
  {
   "cell_type": "code",
   "execution_count": null,
   "metadata": {},
   "outputs": [],
   "source": []
  }
 ],
 "metadata": {
  "kernelspec": {
   "display_name": "R",
   "language": "R",
   "name": "ir"
  },
  "language_info": {
   "codemirror_mode": "r",
   "file_extension": ".r",
   "mimetype": "text/x-r-source",
   "name": "R",
   "pygments_lexer": "r",
   "version": "3.5.0"
  }
 },
 "nbformat": 4,
 "nbformat_minor": 2
}
