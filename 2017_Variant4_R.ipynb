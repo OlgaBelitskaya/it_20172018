{
 "cells": [
  {
   "cell_type": "markdown",
   "metadata": {},
   "source": [
    "# ЕГЭ 2017 Вариант 4 &nbsp; &nbsp; &nbsp; EGE 2017 Variant 4\n",
    "[ЕГЭ-2017. Информатика.10 тренировочных вариантов. Ушаков Д.М.](https://drive.google.com/file/d/0B6696ckkWj_zS2ptblAxNERHZzQ/view)\n",
    "\n",
    "[Basic Regular Expressions in R Cheatsheet](https://www.rstudio.com/wp-content/uploads/2016/09/RegExCheatsheet.pdf)\n",
    "\n",
    "[DataFlair: R Tutorials](https://data-flair.training/blogs/category/r/)\n",
    "\n",
    "[Алгоритм Шеннона — Фано](https://ru.wikipedia.org/wiki/%D0%90%D0%BB%D0%B3%D0%BE%D1%80%D0%B8%D1%82%D0%BC_%D0%A8%D0%B5%D0%BD%D0%BD%D0%BE%D0%BD%D0%B0_%E2%80%94_%D0%A4%D0%B0%D0%BD%D0%BE)\n",
    "\n",
    "[IPv4 - Address Classes](https://www.tutorialspoint.com/ipv4/ipv4_address_classes.htm)\n",
    "\n",
    "[Basic and advanced network visualization with R](http://www.kateto.net/wp-content/uploads/2016/04/Sunbelt%202016%20R%20Network%20Visualization%20Handout.pdf)"
   ]
  },
  {
   "cell_type": "code",
   "execution_count": 10,
   "metadata": {},
   "outputs": [],
   "source": [
    "library(IRdisplay)\n",
    "library(repr)\n",
    "library(hash)\n",
    "library(numbers)\n",
    "library(e1071)\n",
    "library(igraph)\n",
    "library(VennDiagram)\n",
    "library(PythonInR)"
   ]
  },
  {
   "cell_type": "code",
   "execution_count": 2,
   "metadata": {},
   "outputs": [],
   "source": [
    "# install.packages(\"\")"
   ]
  },
  {
   "cell_type": "code",
   "execution_count": 3,
   "metadata": {},
   "outputs": [],
   "source": [
    "answer_dictionary <- hash()"
   ]
  },
  {
   "cell_type": "code",
   "execution_count": 4,
   "metadata": {},
   "outputs": [
    {
     "data": {
      "text/html": [
       "<style>\n",
       "@import url('https://fonts.googleapis.com/css?family=Roboto&effect=3d|fire-animation|scuffed-steel|brick-sign');\n",
       "body {background-color: aliceblue;} \n",
       "a {color: #4876ff; font-family: 'Roboto';} \n",
       "h1 {color: #348ABD; font-family: 'Roboto'; text-shadow: 4px 4px 4px #aaa;} \n",
       "h2, h3 {color: gray; font-family: 'Roboto'; text-shadow: 4px 4px 4px #aaa;}\n",
       "h4 {color: #348ABD; font-family: 'Roboto';}\n",
       "span {text-shadow: 4px 4px 4px #aaa;}\n",
       "div.output_prompt, div.output_area pre, div.output_subarea {color: gray;}\n",
       "div.input_prompt {color: #4876ff;}      \n",
       "div.output_stderr pre {background-color: aliceblue;}  \n",
       "div.output_stderr {background-color: gray;}                        \n",
       "</style>"
      ]
     },
     "metadata": {},
     "output_type": "display_data"
    }
   ],
   "source": [
    "display_html(\"<style>\n",
    "@import url('https://fonts.googleapis.com/css?family=Roboto&effect=3d|fire-animation|scuffed-steel|brick-sign');\n",
    "body {background-color: aliceblue;} \n",
    "a {color: #4876ff; font-family: 'Roboto';} \n",
    "h1 {color: #348ABD; font-family: 'Roboto'; text-shadow: 4px 4px 4px #aaa;} \n",
    "h2, h3 {color: gray; font-family: 'Roboto'; text-shadow: 4px 4px 4px #aaa;}\n",
    "h4 {color: #348ABD; font-family: 'Roboto';}\n",
    "span {text-shadow: 4px 4px 4px #aaa;}\n",
    "div.output_prompt, div.output_area pre, div.output_subarea {color: gray;}\n",
    "div.input_prompt {color: #4876ff;}      \n",
    "div.output_stderr pre {background-color: aliceblue;}  \n",
    "div.output_stderr {background-color: gray;}                        \n",
    "</style>\")"
   ]
  },
  {
   "cell_type": "markdown",
   "metadata": {},
   "source": [
    "## Часть 1 &nbsp; &nbsp; &nbsp; Part 1\n",
    "## 1.\n",
    "Сколько значащих нулей в двоичной записи числа 188?\n",
    "\n",
    "How many significant zeros in the binary number are 188?"
   ]
  },
  {
   "cell_type": "code",
   "execution_count": 5,
   "metadata": {},
   "outputs": [],
   "source": [
    "options(scipen = 999)\n",
    "dec2bin <- function(n) {\n",
    "  if (n == 0) {\n",
    "      bv <- '0'\n",
    "  } else {\n",
    "      bv <- rep(0, 1 + floor(log(n, 2)))\n",
    "      while (n >= 2) {\n",
    "          pow <- floor(log(n, 2))\n",
    "          bv[1 + pow] <- 1\n",
    "          n <- n - 2^pow\n",
    "      }\n",
    "      bv[1] <- n %% 2\n",
    "      paste(rev(bv), collapse = \"\")\n",
    "  }\n",
    "}"
   ]
  },
  {
   "cell_type": "code",
   "execution_count": 6,
   "metadata": {},
   "outputs": [
    {
     "data": {
      "text/html": [
       "'10111100'"
      ],
      "text/latex": [
       "'10111100'"
      ],
      "text/markdown": [
       "'10111100'"
      ],
      "text/plain": [
       "[1] \"10111100\""
      ]
     },
     "metadata": {},
     "output_type": "display_data"
    }
   ],
   "source": [
    "dec2bin(188)"
   ]
  },
  {
   "cell_type": "code",
   "execution_count": 7,
   "metadata": {},
   "outputs": [
    {
     "data": {
      "text/html": [
       "'000'"
      ],
      "text/latex": [
       "'000'"
      ],
      "text/markdown": [
       "'000'"
      ],
      "text/plain": [
       "[1] \"000\""
      ]
     },
     "metadata": {},
     "output_type": "display_data"
    }
   ],
   "source": [
    "gsub(\"1\",\"\",dec2bin(188))"
   ]
  },
  {
   "cell_type": "code",
   "execution_count": 8,
   "metadata": {},
   "outputs": [
    {
     "data": {
      "text/html": [
       "3"
      ],
      "text/latex": [
       "3"
      ],
      "text/markdown": [
       "3"
      ],
      "text/plain": [
       "[1] 3"
      ]
     },
     "metadata": {},
     "output_type": "display_data"
    }
   ],
   "source": [
    "nchar(gsub(\"1\",\"\",dec2bin(188)))"
   ]
  },
  {
   "cell_type": "code",
   "execution_count": 9,
   "metadata": {},
   "outputs": [
    {
     "data": {
      "text/html": [
       "188"
      ],
      "text/latex": [
       "188"
      ],
      "text/markdown": [
       "188"
      ],
      "text/plain": [
       "[1] 188"
      ]
     },
     "metadata": {},
     "output_type": "display_data"
    }
   ],
   "source": [
    "# 188 _10 = 10111100_2\n",
    "1 * 2 ** 7 + 1 * 2 ** 5 + 1 * 2 ** 4 + 1 * 2 ** 3 + 1 * 2 ** 2"
   ]
  },
  {
   "cell_type": "markdown",
   "metadata": {},
   "source": [
    "В составе числа $188_{10}$ 5 ненулевых коэффициентов различных степеней основания системы 2. \n",
    "\n",
    "Наибольшая степень - 7-ая, значит всего коэффициентов - 8.\n",
    "\n",
    "Количество значащих нулей в двоичной записи $188_{10}$ равно 8 - 5 = 3.\n",
    "\n",
    "---\n",
    "\n",
    "In the composition of the number $188_{10}$ there are 5 nonzero coefficients of different degrees of the binary basis 2.\n",
    "\n",
    "The highest degree is the 7th, which means there are 8 coefficients in the binary form of this number.\n",
    "\n",
    "So the number of significant zeros in the $188_{10}$ binary record is 8 - 5 = 3."
   ]
  },
  {
   "cell_type": "code",
   "execution_count": 11,
   "metadata": {},
   "outputs": [],
   "source": [
    "answer_dictionary[1] <- nchar(gsub(\"1\",\"\",dec2bin(188)))"
   ]
  },
  {
   "cell_type": "markdown",
   "metadata": {},
   "source": [
    "## 2.\n",
    "Дан фрагмент таблицы истинности выражения F, зависящего от трёх аргументов X, Y, Z.\n",
    "\n",
    "A fragment of the truth table of the expression F, depending on the three arguments X, Y, Z is given.\n",
    "\n",
    "\n",
    "| X | Y | Z | F |\n",
    "|-:|-:|-:|-:|\n",
    "| 0 | 0 | 0 | 0 |\n",
    "| 0 | 1 | 1 | 1 |\n",
    "| 1 | 0 | 0 | 1 |\n",
    "\n",
    "Перечислите в порядке возрастания без запятых и пробелов номера логических выражений, которые соответствуют F.\n",
    "\n",
    "List in ascending order without commas and spaces the numbers of logical expressions that correspond to F.\n",
    "\n",
    "$1) \\ (X \\lor \\neg Y) \\to Z \\\\    \n",
    "2) \\ (X \\lor Y) \\to \\neg Z \\\\\n",
    "3) \\ X \\lor (\\neg Y \\to Z) \\\\\n",
    "4) \\ X \\lor Y \\lor Z \\\\\n",
    "5) \\ X \\lor Y \\land \\neg Z$"
   ]
  },
  {
   "cell_type": "code",
   "execution_count": 12,
   "metadata": {},
   "outputs": [],
   "source": [
    "bc <- matrix(c(0,0,0, 0,1,1, 1,0,0), nrow=3, ncol=3, byrow = TRUE)\n",
    "x_implies_y <- function(x,y) {!x | y}\n",
    "\n",
    "F <- function(X, Y, Z, I) {\n",
    "    if (I == 1) {return(x_implies_y((X | !Y), Z))}\n",
    "    if (I == 2) {return(x_implies_y((X | Y), !Z))}\n",
    "    if (I == 3) {return(X | x_implies_y(!Y, Z))}\n",
    "    if (I == 4) {return(X | Y | Z)}    \n",
    "    if (I == 5) {return(X | Y & !Z)}    \n",
    "} "
   ]
  },
  {
   "cell_type": "code",
   "execution_count": 13,
   "metadata": {},
   "outputs": [
    {
     "name": "stdout",
     "output_type": "stream",
     "text": [
      "[1] 3\n",
      "[1] 4\n"
     ]
    }
   ],
   "source": [
    "for (i in 1:5){\n",
    "    result = vector(length=3)\n",
    "    for (j in 1:3) {result[j] = F(bc[j,1],bc[j,2],bc[j,3],i)}\n",
    "    if (all(result == c(FALSE,TRUE,TRUE))){print(i)}\n",
    "}"
   ]
  },
  {
   "cell_type": "code",
   "execution_count": 14,
   "metadata": {},
   "outputs": [],
   "source": [
    "answer_dictionary[2] <- '34'"
   ]
  },
  {
   "cell_type": "markdown",
   "metadata": {},
   "source": [
    "## 3.\n",
    "Между четырьмя местными аэропортами `ЛЕСНОЙ`, `ЗИМА`, `КРАЙ` и `ПОЛЯНА`, ежедневно выполняются авиарейсы. \n",
    "\n",
    "Приведён фрагмент расписания перелётов между ними. \n",
    "\n",
    "Путешественник оказался в аэропорту `ЛЕСНОЙ` в полночь (0:00). \n",
    "\n",
    "Определите самое раннее время, когда он может попасть в аэропорт `ПОЛЯНА`.\n",
    "\n",
    "| Аэропорт вылета | Аэропорт прилёта | Время вылета | Время прилёта |\n",
    "|-|-|-|-|\n",
    "| ПОЛЯНА | КРАЙ\t| 06:20 | 08:35 |\n",
    "| КРАЙ | ЛЕСНОЙ | 10:25 | 12:35 |\n",
    "| ЛЕСНОЙ | КРАЙ\t| 11:45\t| 13:30 |\n",
    "| ЗИМА | ПОЛЯНА | 12:15 | 14:25 |\n",
    "| ПОЛЯНА | ЛЕСНОЙ | 12:45 | 16:35 |\n",
    "| КРАЙ | ПОЛЯНА | 13:15 | 15:40 |\n",
    "| ЛЕСНОЙ | ПОЛЯНА | 13:40 | 17:25 |\n",
    "| ЛЕСНОЙ | ЗИМА | 15:30 | 17:15 |\n",
    "| ПОЛЯНА | ЗИМА | 17:35 | 19:30 |\n",
    "| ЗИМА | ЛЕСНОЙ | 19:40 | 21:55 |\n",
    "\n",
    "Between the four local airports of `ЛЕСНОЙ`, `ЗИМА`, `КРАЙ` and `ПОЛЯНА`, daily flights are carried out. \n",
    "\n",
    "A fragment of the flight schedule between them is given. \n",
    "\n",
    "The traveler was at the airport `ЛЕСНОЙ` at midnight (0:00). \n",
    "\n",
    "Determine the earliest time when he can arrive to the airport `ПОЛЯНА`."
   ]
  },
  {
   "cell_type": "code",
   "execution_count": 15,
   "metadata": {},
   "outputs": [
    {
     "data": {
      "text/html": [
       "<table>\n",
       "<thead><tr><th scope=col>Аэропорт.вылета</th><th scope=col>Аэропорт.прилета</th><th scope=col>Время.вылета</th><th scope=col>Время.прилета</th></tr></thead>\n",
       "<tbody>\n",
       "\t<tr><td>ПОЛЯНА</td><td>КРАЙ  </td><td>06:20 </td><td>08:35 </td></tr>\n",
       "\t<tr><td>КРАЙ  </td><td>ЛЕСНОЙ</td><td>10:25 </td><td>12:35 </td></tr>\n",
       "\t<tr><td>ЛЕСНОЙ</td><td>КРАЙ  </td><td>11:45 </td><td>13:30 </td></tr>\n",
       "\t<tr><td>ЗИМА  </td><td>ПОЛЯНА</td><td>12:15 </td><td>14:25 </td></tr>\n",
       "\t<tr><td>ПОЛЯНА</td><td>ЛЕСНОЙ</td><td>12:45 </td><td>16:35 </td></tr>\n",
       "\t<tr><td>КРАЙ  </td><td>ПОЛЯНА</td><td>13:15 </td><td>15:40 </td></tr>\n",
       "\t<tr><td>ЛЕСНОЙ</td><td>ПОЛЯНА</td><td>13:40 </td><td>17:25 </td></tr>\n",
       "\t<tr><td>ЛЕСНОЙ</td><td>ЗИМА  </td><td>15:30 </td><td>17:15 </td></tr>\n",
       "\t<tr><td>ПОЛЯНА</td><td>ЗИМА  </td><td>17:35 </td><td>19:30 </td></tr>\n",
       "\t<tr><td>ЗИМА  </td><td>ЛЕСНОЙ</td><td>19:40 </td><td>21:55 </td></tr>\n",
       "</tbody>\n",
       "</table>\n"
      ],
      "text/latex": [
       "\\begin{tabular}{r|llll}\n",
       " Аэропорт.вылета & Аэропорт.прилета & Время.вылета & Время.прилета\\\\\n",
       "\\hline\n",
       "\t ПОЛЯНА & КРАЙ   & 06:20  & 08:35 \\\\\n",
       "\t КРАЙ   & ЛЕСНОЙ & 10:25  & 12:35 \\\\\n",
       "\t ЛЕСНОЙ & КРАЙ   & 11:45  & 13:30 \\\\\n",
       "\t ЗИМА   & ПОЛЯНА & 12:15  & 14:25 \\\\\n",
       "\t ПОЛЯНА & ЛЕСНОЙ & 12:45  & 16:35 \\\\\n",
       "\t КРАЙ   & ПОЛЯНА & 13:15  & 15:40 \\\\\n",
       "\t ЛЕСНОЙ & ПОЛЯНА & 13:40  & 17:25 \\\\\n",
       "\t ЛЕСНОЙ & ЗИМА   & 15:30  & 17:15 \\\\\n",
       "\t ПОЛЯНА & ЗИМА   & 17:35  & 19:30 \\\\\n",
       "\t ЗИМА   & ЛЕСНОЙ & 19:40  & 21:55 \\\\\n",
       "\\end{tabular}\n"
      ],
      "text/markdown": [
       "\n",
       "Аэропорт.вылета | Аэропорт.прилета | Время.вылета | Время.прилета | \n",
       "|---|---|---|---|---|---|---|---|---|---|\n",
       "| ПОЛЯНА | КРАЙ   | 06:20  | 08:35  | \n",
       "| КРАЙ   | ЛЕСНОЙ | 10:25  | 12:35  | \n",
       "| ЛЕСНОЙ | КРАЙ   | 11:45  | 13:30  | \n",
       "| ЗИМА   | ПОЛЯНА | 12:15  | 14:25  | \n",
       "| ПОЛЯНА | ЛЕСНОЙ | 12:45  | 16:35  | \n",
       "| КРАЙ   | ПОЛЯНА | 13:15  | 15:40  | \n",
       "| ЛЕСНОЙ | ПОЛЯНА | 13:40  | 17:25  | \n",
       "| ЛЕСНОЙ | ЗИМА   | 15:30  | 17:15  | \n",
       "| ПОЛЯНА | ЗИМА   | 17:35  | 19:30  | \n",
       "| ЗИМА   | ЛЕСНОЙ | 19:40  | 21:55  | \n",
       "\n",
       "\n"
      ],
      "text/plain": [
       "   Аэропорт.вылета Аэропорт.прилета Время.вылета Время.прилета\n",
       "1  ПОЛЯНА          КРАЙ             06:20        08:35        \n",
       "2  КРАЙ            ЛЕСНОЙ           10:25        12:35        \n",
       "3  ЛЕСНОЙ          КРАЙ             11:45        13:30        \n",
       "4  ЗИМА            ПОЛЯНА           12:15        14:25        \n",
       "5  ПОЛЯНА          ЛЕСНОЙ           12:45        16:35        \n",
       "6  КРАЙ            ПОЛЯНА           13:15        15:40        \n",
       "7  ЛЕСНОЙ          ПОЛЯНА           13:40        17:25        \n",
       "8  ЛЕСНОЙ          ЗИМА             15:30        17:15        \n",
       "9  ПОЛЯНА          ЗИМА             17:35        19:30        \n",
       "10 ЗИМА            ЛЕСНОЙ           19:40        21:55        "
      ]
     },
     "metadata": {},
     "output_type": "display_data"
    }
   ],
   "source": [
    "time_out <- c('06:20', '10:25', '11:45', '12:15', '12:45',\n",
    "              '13:15', '13:40', '15:30', '17:35', '19:40')\n",
    "\n",
    "time_in <- c('08:35', '12:35', '13:30', '14:25', '16:35',\n",
    "             '15:40', '17:25', '17:15', '19:30', '21:55')\n",
    "\n",
    "schedule <- data.frame(\n",
    "    'Аэропорт вылета' = c('ПОЛЯНА', 'КРАЙ', 'ЛЕСНОЙ', 'ЗИМА', 'ПОЛЯНА',\n",
    "                        'КРАЙ', 'ЛЕСНОЙ', 'ЛЕСНОЙ', 'ПОЛЯНА', 'ЗИМА'), \n",
    "    'Аэропорт прилета' = c('КРАЙ', 'ЛЕСНОЙ', 'КРАЙ', 'ПОЛЯНА', 'ЛЕСНОЙ',\n",
    "                        'ПОЛЯНА', 'ПОЛЯНА', 'ЗИМА', 'ЗИМА', 'ЛЕСНОЙ'), \n",
    "    'Время вылета' = format(strptime(time_out, format='%H:%M'), '%H:%M'),\n",
    "    'Время прилета' = format(strptime(time_in, format='%H:%M'), '%H:%M'))\n",
    "\n",
    "schedule"
   ]
  },
  {
   "cell_type": "code",
   "execution_count": 16,
   "metadata": {},
   "outputs": [
    {
     "data": {
      "image/png": "[encoded data removed]",
      "text/plain": [
       "Plot with title “”"
      ]
     },
     "metadata": {},
     "output_type": "display_data"
    }
   ],
   "source": [
    "options(warn = -1,repr.plot.width=8,repr.plot.height=8)\n",
    "edges <- data.frame(from=schedule[1],to=schedule[2])\n",
    "t <- c(length=10)\n",
    "for (i in 1:10) {\n",
    "    t[i] <- paste(time_out[i],time_in[i],sep='->')\n",
    "}\n",
    "\n",
    "g <- graph_from_data_frame(edges, directed=TRUE)\n",
    "plot(g,\n",
    "     vertex.color=\"steelblue\",vertex.size=30,\n",
    "     edge.color=\"slategray\",edge.label=t,\n",
    "     edge.curved=0.4,edge.label.cex=1.1)"
   ]
  },
  {
   "cell_type": "code",
   "execution_count": 17,
   "metadata": {},
   "outputs": [
    {
     "data": {
      "text/html": [
       "<ol>\n",
       "\t<li><ol class=list-inline>\n",
       "\t<li>'ЛЕСНОЙ'</li>\n",
       "\t<li>'ПОЛЯНА'</li>\n",
       "</ol>\n",
       "</li>\n",
       "\t<li><ol class=list-inline>\n",
       "\t<li>'ЛЕСНОЙ'</li>\n",
       "\t<li>'КРАЙ'</li>\n",
       "\t<li>'ПОЛЯНА'</li>\n",
       "</ol>\n",
       "</li>\n",
       "\t<li><ol class=list-inline>\n",
       "\t<li>'ЛЕСНОЙ'</li>\n",
       "\t<li>'ЗИМА'</li>\n",
       "\t<li>'ПОЛЯНА'</li>\n",
       "</ol>\n",
       "</li>\n",
       "</ol>\n"
      ],
      "text/latex": [
       "\\begin{enumerate}\n",
       "\\item \\begin{enumerate*}\n",
       "\\item 'ЛЕСНОЙ'\n",
       "\\item 'ПОЛЯНА'\n",
       "\\end{enumerate*}\n",
       "\n",
       "\\item \\begin{enumerate*}\n",
       "\\item 'ЛЕСНОЙ'\n",
       "\\item 'КРАЙ'\n",
       "\\item 'ПОЛЯНА'\n",
       "\\end{enumerate*}\n",
       "\n",
       "\\item \\begin{enumerate*}\n",
       "\\item 'ЛЕСНОЙ'\n",
       "\\item 'ЗИМА'\n",
       "\\item 'ПОЛЯНА'\n",
       "\\end{enumerate*}\n",
       "\n",
       "\\end{enumerate}\n"
      ],
      "text/markdown": [
       "1. 1. 'ЛЕСНОЙ'\n",
       "2. 'ПОЛЯНА'\n",
       "\n",
       "\n",
       "\n",
       "2. 1. 'ЛЕСНОЙ'\n",
       "2. 'КРАЙ'\n",
       "3. 'ПОЛЯНА'\n",
       "\n",
       "\n",
       "\n",
       "3. 1. 'ЛЕСНОЙ'\n",
       "2. 'ЗИМА'\n",
       "3. 'ПОЛЯНА'\n",
       "\n",
       "\n",
       "\n",
       "\n",
       "\n"
      ],
      "text/plain": [
       "[[1]]\n",
       "[1] \"ЛЕСНОЙ\" \"ПОЛЯНА\"\n",
       "\n",
       "[[2]]\n",
       "[1] \"ЛЕСНОЙ\" \"КРАЙ\"   \"ПОЛЯНА\"\n",
       "\n",
       "[[3]]\n",
       "[1] \"ЛЕСНОЙ\" \"ЗИМА\"   \"ПОЛЯНА\"\n"
      ]
     },
     "metadata": {},
     "output_type": "display_data"
    }
   ],
   "source": [
    "paths <- all_simple_paths(g,'ЛЕСНОЙ','ПОЛЯНА')\n",
    "paths <- lapply(1:length(paths), function(x) as_ids(paths[[x]]))\n",
    "paths"
   ]
  },
  {
   "cell_type": "code",
   "execution_count": 18,
   "metadata": {},
   "outputs": [],
   "source": [
    "answer_dictionary[3] <-'17:25'"
   ]
  },
  {
   "cell_type": "markdown",
   "metadata": {},
   "source": [
    "## 4.\n",
    "Для групповых операций с файлами используются маски имён файлов. \n",
    "\n",
    "Маска представляет собой последовательность букв, цифр и прочих допустимых в именах файлов символов, в которой также могут встречаться следующие символы.\n",
    "\n",
    "Символ `«?»` (вопросительный знак) означает ровно один произвольный символ.\n",
    "\n",
    "Символ `«*»` (звёздочка) означает любую последовательность символов произвольной длины, в том числе `«*»` может задавать и пустую последовательность.\n",
    "\n",
    "В каталоге находятся пять файлов:\n",
    "\n",
    "`boom.pas`, `bloom.ppt`, `loom.pas`, `bottom.pdf`, `bom.pps`.\n",
    "\n",
    "Ниже представлено восемь масок. \n",
    "\n",
    "`b*om.???`, `bo*.??*`, `*oo*m.*p??`, `?o*m.p?s`, `?oo*m.p*`, `*lo*.p*`, `*om.*`, `b*o*m.??*`\n",
    "\n",
    "\n",
    "Сколько из них таких, которым соответствует ровно три файла из данного каталога?\n",
    "\n",
    "---\n",
    "\n",
    "For group operations with files, file name masks are used. \n",
    "\n",
    "A mask is a sequence of letters, numbers and other permissible characters in file names, in which the following symbols can also occur.\n",
    "\n",
    "The symbol `\"?\"` (question mark) means exactly one arbitrary character.\n",
    "\n",
    "The symbol `\"*\"` (asterisk) means any sequence of characters of arbitrary length, including the case when `\"*\"` can specify an empty sequence.\n",
    "\n",
    "There are five files in the directory:\n",
    "\n",
    "`boom.pas`, `bloom.ppt`, `loom.pas`, `bottom.pdf`, `bom.pps`.\n",
    "\n",
    "Here are eight masks. \n",
    "\n",
    "`b*om.???`, `bo*.??*`, `*oo*m.*p??`, `?o*m.p?s`, `?oo*m.p*`, `*lo*.p*`, `*om.*`, `b*o*m.??*`\n",
    "\n",
    "How many of them are those to which exactly three files from this catalog correspond?"
   ]
  },
  {
   "cell_type": "code",
   "execution_count": 19,
   "metadata": {},
   "outputs": [
    {
     "data": {
      "text/html": [
       "<table>\n",
       "<thead><tr><th scope=col>file_list</th><th scope=col>mask_1</th><th scope=col>mask_2</th><th scope=col>mask_3</th><th scope=col>mask_4</th><th scope=col>mask_5</th><th scope=col>mask_6</th><th scope=col>mask_7</th><th scope=col>mask_8</th></tr></thead>\n",
       "<tbody>\n",
       "\t<tr><td>boom.pas  </td><td> TRUE     </td><td> TRUE     </td><td> TRUE     </td><td> TRUE     </td><td> TRUE     </td><td>FALSE     </td><td>TRUE      </td><td> TRUE     </td></tr>\n",
       "\t<tr><td>bloom.ppt </td><td> TRUE     </td><td>FALSE     </td><td> TRUE     </td><td>FALSE     </td><td>FALSE     </td><td> TRUE     </td><td>TRUE      </td><td> TRUE     </td></tr>\n",
       "\t<tr><td>loom.pas  </td><td>FALSE     </td><td>FALSE     </td><td> TRUE     </td><td> TRUE     </td><td> TRUE     </td><td> TRUE     </td><td>TRUE      </td><td>FALSE     </td></tr>\n",
       "\t<tr><td>bottom.pdf</td><td> TRUE     </td><td> TRUE     </td><td>FALSE     </td><td>FALSE     </td><td>FALSE     </td><td>FALSE     </td><td>TRUE      </td><td> TRUE     </td></tr>\n",
       "\t<tr><td>bom.pps   </td><td> TRUE     </td><td> TRUE     </td><td>FALSE     </td><td> TRUE     </td><td>FALSE     </td><td>FALSE     </td><td>TRUE      </td><td> TRUE     </td></tr>\n",
       "</tbody>\n",
       "</table>\n"
      ],
      "text/latex": [
       "\\begin{tabular}{r|lllllllll}\n",
       " file\\_list & mask\\_1 & mask\\_2 & mask\\_3 & mask\\_4 & mask\\_5 & mask\\_6 & mask\\_7 & mask\\_8\\\\\n",
       "\\hline\n",
       "\t boom.pas   &  TRUE      &  TRUE      &  TRUE      &  TRUE      &  TRUE      & FALSE      & TRUE       &  TRUE     \\\\\n",
       "\t bloom.ppt  &  TRUE      & FALSE      &  TRUE      & FALSE      & FALSE      &  TRUE      & TRUE       &  TRUE     \\\\\n",
       "\t loom.pas   & FALSE      & FALSE      &  TRUE      &  TRUE      &  TRUE      &  TRUE      & TRUE       & FALSE     \\\\\n",
       "\t bottom.pdf &  TRUE      &  TRUE      & FALSE      & FALSE      & FALSE      & FALSE      & TRUE       &  TRUE     \\\\\n",
       "\t bom.pps    &  TRUE      &  TRUE      & FALSE      &  TRUE      & FALSE      & FALSE      & TRUE       &  TRUE     \\\\\n",
       "\\end{tabular}\n"
      ],
      "text/markdown": [
       "\n",
       "file_list | mask_1 | mask_2 | mask_3 | mask_4 | mask_5 | mask_6 | mask_7 | mask_8 | \n",
       "|---|---|---|---|---|\n",
       "| boom.pas   |  TRUE      |  TRUE      |  TRUE      |  TRUE      |  TRUE      | FALSE      | TRUE       |  TRUE      | \n",
       "| bloom.ppt  |  TRUE      | FALSE      |  TRUE      | FALSE      | FALSE      |  TRUE      | TRUE       |  TRUE      | \n",
       "| loom.pas   | FALSE      | FALSE      |  TRUE      |  TRUE      |  TRUE      |  TRUE      | TRUE       | FALSE      | \n",
       "| bottom.pdf |  TRUE      |  TRUE      | FALSE      | FALSE      | FALSE      | FALSE      | TRUE       |  TRUE      | \n",
       "| bom.pps    |  TRUE      |  TRUE      | FALSE      |  TRUE      | FALSE      | FALSE      | TRUE       |  TRUE      | \n",
       "\n",
       "\n"
      ],
      "text/plain": [
       "  file_list  mask_1 mask_2 mask_3 mask_4 mask_5 mask_6 mask_7 mask_8\n",
       "1 boom.pas    TRUE   TRUE   TRUE   TRUE   TRUE  FALSE  TRUE    TRUE \n",
       "2 bloom.ppt   TRUE  FALSE   TRUE  FALSE  FALSE   TRUE  TRUE    TRUE \n",
       "3 loom.pas   FALSE  FALSE   TRUE   TRUE   TRUE   TRUE  TRUE   FALSE \n",
       "4 bottom.pdf  TRUE   TRUE  FALSE  FALSE  FALSE  FALSE  TRUE    TRUE \n",
       "5 bom.pps     TRUE   TRUE  FALSE   TRUE  FALSE  FALSE  TRUE    TRUE "
      ]
     },
     "metadata": {},
     "output_type": "display_data"
    }
   ],
   "source": [
    "file_list <- c('boom.pas', 'bloom.ppt', 'loom.pas', \n",
    "               'bottom.pdf', 'bom.pps')\n",
    "mask_list <- c('b*om.???', 'bo*.??*', '*oo*m.*p??', '?o*m.p?s',\n",
    "               '?oo*m.p*', '*lo*.p*', '*om.*', 'b*o*m.??*')\n",
    "\n",
    "df <- data.frame(file_list=file_list,\n",
    "                 mask_1=grepl(\"^b.*om\\\\....$\", file_list), \n",
    "                 mask_2=grepl(\"^bo.*\\\\....*$\", file_list), \n",
    "                 mask_3=grepl(\"^.*oo.*m\\\\..*p..$\", file_list), \n",
    "                 mask_4=grepl(\"^.o.*m\\\\.p.s$\", file_list),\n",
    "                 mask_5=grepl(\"^.oo.*m\\\\.p.*$\", file_list), \n",
    "                 mask_6=grepl(\"^.*lo.*\\\\.p.*$\", file_list), \n",
    "                 mask_7=grepl(\"^.*om\\\\..*$\", file_list), \n",
    "                 mask_8=grepl(\"^b.*o.*m\\\\....*$\", file_list))\n",
    "df "
   ]
  },
  {
   "cell_type": "code",
   "execution_count": 20,
   "metadata": {},
   "outputs": [
    {
     "name": "stdout",
     "output_type": "stream",
     "text": [
      "[1] \"b*om.???\"\n",
      "[1] 4\n",
      "[1] \"bo*.??*\"\n",
      "[1] 3\n",
      "[1] \"*oo*m.*p??\"\n",
      "[1] 3\n",
      "[1] \"?o*m.p?s\"\n",
      "[1] 3\n",
      "[1] \"?oo*m.p*\"\n",
      "[1] 2\n",
      "[1] \"*lo*.p*\"\n",
      "[1] 2\n",
      "[1] \"*om.*\"\n",
      "[1] 5\n",
      "[1] \"b*o*m.??*\"\n",
      "[1] 4\n"
     ]
    },
    {
     "data": {
      "text/html": [
       "3"
      ],
      "text/latex": [
       "3"
      ],
      "text/markdown": [
       "3"
      ],
      "text/plain": [
       "[1] 3"
      ]
     },
     "metadata": {},
     "output_type": "display_data"
    }
   ],
   "source": [
    "c <- 0\n",
    "for (i in 2:9) {\n",
    "    print(mask_list[i-1]); \n",
    "    print(length(df[1:5,i][df[1:5,i]==TRUE]))\n",
    "    if (length(df[1:5,i][df[1:5,i]==TRUE]) == 3) {c <- c + 1}\n",
    "}\n",
    "\n",
    "c"
   ]
  },
  {
   "cell_type": "code",
   "execution_count": 21,
   "metadata": {},
   "outputs": [],
   "source": [
    "answer_dictionary[4] <- toString(c)"
   ]
  },
  {
   "cell_type": "markdown",
   "metadata": {},
   "source": [
    "## 5.\n",
    "Для кодирования некоторой последовательности, состоящей из букв А, Б, В, Г и Д, используется неравномерный двоичный код, \n",
    "\n",
    "позволяющий однозначно декодировать полученную двоичную последовательность. \n",
    "\n",
    "Вот этот код: `А-110`, `Б-0`, `В-111`, `Г-100`. \n",
    "\n",
    "Каким кодовым словом должна кодироваться буква Д? \n",
    "\n",
    "Если таких вариантов несколько, укажите самый короткий.\n",
    "\n",
    "---\n",
    "\n",
    "To encode a sequence consisting of the letters А, Б, В, Г and Д, an unequal binary code is used, \n",
    "\n",
    "which uniquely decodes the resulting binary sequence.\n",
    "\n",
    "Here is the code: `А-110`, `Б-0`, `В-111`, `Г-100`.\n",
    "\n",
    "What code word should be used for encoding the letter Д? \n",
    "\n",
    "If there are several such variants, specify the shortest one."
   ]
  },
  {
   "cell_type": "markdown",
   "metadata": {},
   "source": [
    "В решении использован Алгоритм Шеннона — Фано.\n",
    "\n",
    "1) Самые короткие коды 0 и 1 не могут быть использованы: 0 уже является одним из кодовых слов, с 1 начинаются другие слова.\n",
    "\n",
    "2) Следующая бинарная комбинация - из двух цифр. \n",
    "\n",
    "В начале кодовых слов уже есть сочетания 10 и 11. \n",
    "\n",
    "Сочетания 00 и 01 использовать нельзя: уже существует код, равный 0, и он не должен встречаться в начале других кодовых слов.\n",
    "\n",
    "3) Трехзначные сочетания могут начинаться только с 1 и среди них уже есть 100, 110, 111. \n",
    "\n",
    "Остается только один вариант самого короткого кодирования: `Д - 101`.\n",
    "\n",
    "---\n",
    "\n",
    "The solution uses the Shannon-Fano Algorithm.\n",
    "\n",
    "1) The shortest codes 0 and 1 can not be used: 0 is already one of the code words, with 1 other words begin.\n",
    "\n",
    "2) The next binary combination is two-digit. \n",
    "\n",
    "At the beginning of the code words, there are already used combinations of 10 and 11. \n",
    "\n",
    "The combinations 00 and 01 cannot be used: there is one code equal to 0, and it should not occur at the beginning of other codewords.\n",
    "\n",
    "3) Three-digit combinations can start only with 1 and there are already used 100, 110, 111 among them. \n",
    "\n",
    "The remaining variant for the shortest coding is only one: `Д - 101`."
   ]
  },
  {
   "cell_type": "code",
   "execution_count": 22,
   "metadata": {},
   "outputs": [],
   "source": [
    "answer_dictionary[5] <- '101'"
   ]
  },
  {
   "cell_type": "markdown",
   "metadata": {},
   "source": [
    "## 6.\n",
    "В некоторой информационной системе информация кодируется двоичными шестиразрядными словами. При передаче данных возможны их искажения, поэтому в конец каждого слова добавляется седьмой (контрольный) разряд таким образом, чтобы сумма разрядов нового слова, считая контрольный, была чётной. Например, к слову `101101` справа будет добавлен `0`, а к слову `010110` — `1`.\n",
    "\n",
    "После приёма слова производится его обработка. При этом проверяется сумма его разрядов, включая контрольный. Если она нечётна, это означает, что при передаче этого слова произошёл сбой, и оно автоматически заменяется на зарезервированное слово `0000000`. Если она чётна, это означает, что сбоя не было или сбоёв было больше одного. В этом случае принятое слово не изменяется.\n",
    "\n",
    "Приведём фрагмент кодовой таблицы, используемый в данной задаче:\n",
    "\n",
    "---\n",
    "\n",
    "In some information system, information is encoded in binary six-digit words. When transmitting data, their distortions are possible, so at the end of each word the seventh (control) symbol is added so that the sum of the bits of the new word, assuming the control digit, becomes even. For example, to the word `101101` on the right will be added `0`, and to the word `010110` - `1`.\n",
    "\n",
    "After receiving the word, it is processed. This program checks the sum of code digits, including the control ones. If it is odd, it means that when this word was transmitted, it crashed and it is automatically replaced with the reserved word `0000000`. If it is even, it means that there was no malfunction or there were more than one malfunction. In this case, the received word does not change.\n",
    "\n",
    "Here is the fragment of the code table used in this task:\n",
    "\n",
    "| Буква | Кодовое слово | Примечание |\n",
    "|-:|-:|-:|\n",
    "| Letter | Code Word | Note |\n",
    "| x | `000000` | сбой \\ malfunction |\n",
    "| A | `100001` | - |\n",
    "| B | `011010` | - |\n",
    "| C | `110010` | - |\n",
    "| D | `110011` | - |\n",
    "\n",
    "Исходное сообщение АВС было передано в виде:\n",
    "\n",
    "`1000010 0110101 1100101`.\n",
    "\n",
    "И затем было принято в виде:\n",
    "\n",
    "`1100110 0110101 1100100`.\n",
    "\n",
    "Как будет выглядеть принятое сообщение после обработки? \n",
    "\n",
    "В ответе запишите последовательность букв без пробелов и знаков препинания.\n",
    "\n",
    "---\n",
    "\n",
    "The original ABC message was sent as:\n",
    "\n",
    "`1000010 0110101 1100101`\n",
    "\n",
    "And then it was taken in the form:\n",
    "\n",
    "`1100110 0110101 1100100`.\n",
    "\n",
    "How will the received message look after processing? \n",
    "\n",
    "In the answer, write down a sequence of letters without spaces or punctuation."
   ]
  },
  {
   "cell_type": "code",
   "execution_count": 23,
   "metadata": {},
   "outputs": [
    {
     "data": {
      "text/html": [
       "'DBx'"
      ],
      "text/latex": [
       "'DBx'"
      ],
      "text/markdown": [
       "'DBx'"
      ],
      "text/plain": [
       "[1] \"DBx\""
      ]
     },
     "metadata": {},
     "output_type": "display_data"
    }
   ],
   "source": [
    "string <- unlist(strsplit('1100110 0110101 1100100','[ ]'))\n",
    "codes <- c('100001', '011010', '110010', '110011')\n",
    "symbols <- c('A', 'B', 'C', 'D')\n",
    "result <- ''\n",
    "\n",
    "for (el in string) {\n",
    "    if (nchar(gsub(\"0\",\"\",el)) %% 2 == 1) {\n",
    "        result <- paste(result,'x',sep='')\n",
    "    } else {\n",
    "        for (i in 1:4){\n",
    "            if (substr(el,1,6) == codes[i]) {\n",
    "                result <- paste(result,symbols[i],sep='')\n",
    "            }\n",
    "        }\n",
    "    }\n",
    "}\n",
    "\n",
    "result"
   ]
  },
  {
   "cell_type": "code",
   "execution_count": 24,
   "metadata": {},
   "outputs": [],
   "source": [
    "answer_dictionary[6] <- result"
   ]
  },
  {
   "cell_type": "markdown",
   "metadata": {},
   "source": [
    "## 7.\n",
    "<div style=\"width: 800px; height: 320px; overflow:auto;\">\n",
    "    <img src=\"it_images/2017_04_07.png\" width=\"800\" height=\"320\"/>\n",
    "</div>\n",
    "Дан фрагмент электронной таблицы:\n",
    "\n",
    "The fragment of the spreadsheet is given:\n",
    "\n",
    "| | `A` | `B`| `C` | `D` |\n",
    "|-:|-:|-:|-:|-:|\n",
    "| 1 | 3 |   | 5 |   |\n",
    "| 2 | `=(A1+C1)/4` | `=C1-1` | `=A2/2` | `=B1/2` |\n",
    "\n",
    "Какое число должно быть записано в ячейке `B1`, \n",
    "\n",
    "чтобы построенная после выполнения вычислений диаграмма по значениям диапазона ячеек `A2:D2` соответствовала рисунку?\n",
    "\n",
    "\n",
    "What number should be written in the cell `B1`, \n",
    "\n",
    "so that the constructed diagram after the calculation of the values in the range of cells `A2:D2` corresponds to the figure?"
   ]
  },
  {
   "cell_type": "markdown",
   "metadata": {},
   "source": [
    "<div style=\"width: 500px; height: 450px; overflow:auto;\">\n",
    "    <img src=\"it_images/2017_04_07a.png\" width=\"500\" height=\"450\"/>\n",
    "</div>\n",
    "[Google Sheet](https://drive.google.com/open?id=1TxgWmU-a_iQQOoPHSMSGv6Mdc_LSU1XPlkLMGHfdy7M)\n",
    "\n",
    "`(A1 + C1) / 4 = (3 + 5) / 4 = 2`\n",
    "\n",
    "`C1 - 1 = 5 - 1 = 4`\n",
    "\n",
    "`A2 / 2 = 2 / 2 = 1`\n",
    "\n",
    "`B1 / 2 = 1 ⟹ B1 = 2`"
   ]
  },
  {
   "cell_type": "code",
   "execution_count": 25,
   "metadata": {},
   "outputs": [],
   "source": [
    "answer_dictionary[7] <- '2'"
   ]
  },
  {
   "cell_type": "markdown",
   "metadata": {},
   "source": [
    "## 8.\n",
    "Определите, что будет напечатано в результате выполнения следующего фрагмента программы.\n",
    "\n",
    "<table style=\"width:95%;\">\n",
    "  <tr style=\"color:slategray;font-size:120%;font-family:'Roboto';\">\n",
    "    <th style=\"text-align:center;\">Python</th> \n",
    "    <th style=\"text-align:center;\">R</th>          \n",
    "  </tr>\n",
    "  <tr>\n",
    "    <td style=\"font-weight:bold;text-align:left;\"><pre><code class='python'>\n",
    "s = 0\n",
    "\n",
    "for k in range(3,9):\n",
    "    s += k\n",
    "    \n",
    "print(s)\n",
    "    </code></pre></td> \n",
    "    <td style=\"font-weight:bold;text-align:left;\"><pre><code class='r'> \n",
    "\n",
    "s <- 0\n",
    "\n",
    "for (k in 3:8) {\n",
    "    s <- s + k\n",
    "}\n",
    "\n",
    "print(s)\n",
    "    </code></pre></td>     \n",
    "  </tr>    \n",
    "</table>\n",
    "\n",
    "Determine what will be printed as a result of the next program fragment."
   ]
  },
  {
   "cell_type": "code",
   "execution_count": 26,
   "metadata": {},
   "outputs": [
    {
     "name": "stdout",
     "output_type": "stream",
     "text": [
      "[1] 33\n"
     ]
    }
   ],
   "source": [
    "s <- 0\n",
    "\n",
    "for (k in 3:8) {\n",
    "    s <- s + k\n",
    "}\n",
    "\n",
    "print(s)"
   ]
  },
  {
   "cell_type": "code",
   "execution_count": 27,
   "metadata": {},
   "outputs": [],
   "source": [
    "answer_dictionary[8] <- toString(s)"
   ]
  },
  {
   "cell_type": "markdown",
   "metadata": {},
   "source": [
    "## 9. \n",
    "Какова ширина (в пикселях) прямоугольного 64-цветного неупакованного растрового изображения, \n",
    "\n",
    "занимающего на диске 1,5 мегабайта, если его высота вдвое меньше ширины? \n",
    "\n",
    "В ответе запишите только целое число, единицу измерения писать не нужно.\n",
    "\n",
    "---\n",
    "\n",
    "What is the width (in pixels) of a rectangular 64-color unpacked image \n",
    "\n",
    "that occupies 1.5 megabytes on the disk, if its height is a half of the width? \n",
    "\n",
    "In the answer, write down only an integer, you do not need to write a unit of measurement."
   ]
  },
  {
   "cell_type": "code",
   "execution_count": 28,
   "metadata": {},
   "outputs": [
    {
     "data": {
      "text/html": [
       "2048"
      ],
      "text/latex": [
       "2048"
      ],
      "text/markdown": [
       "2048"
      ],
      "text/plain": [
       "[1] 2048"
      ]
     },
     "metadata": {},
     "output_type": "display_data"
    }
   ],
   "source": [
    "bytes_for_image <- 1.5 * 2 ** 20\n",
    "bits_for_image <- bytes_for_image * 2 ** 3\n",
    "bits_for_one_pixel_64_colors <- log2(64)\n",
    "\n",
    "image_size_in_pixel <- bits_for_image / bits_for_one_pixel_64_colors\n",
    "# width * height = size; 1/2 * width ** 2 = size; width = (2 * size) ** 0.5\n",
    "image_width_in_pixel <- (2 * image_size_in_pixel) ** 0.5\n",
    "image_width_in_pixel"
   ]
  },
  {
   "cell_type": "code",
   "execution_count": 29,
   "metadata": {},
   "outputs": [],
   "source": [
    "answer_dictionary[9] <- toString(image_width_in_pixel)"
   ]
  },
  {
   "cell_type": "markdown",
   "metadata": {},
   "source": [
    "## 10.\n",
    "Вася и Петя передают друг другу сообщения, используя <i style=\"color:blue;\">синий</i> и <i style=\"color:red;\">красный</i> фонарики. \n",
    "\n",
    "Эти они делают, включая фонарики последовательно на одинаково короткое время в некоторой комбинации. \n",
    "\n",
    "Количество вспышек в одном сообщении — от 1 до 5. \n",
    "\n",
    "Сколько различных сообщений могут передавать мальчики?\n",
    "\n",
    "---\n",
    "\n",
    "Vasya and Petya relay messages to each other, using <i style=\"color:blue;\">blue</i> and <i style=\"color:red;\">red</i> flashlights. \n",
    "\n",
    "They do this, turning on lanterns consecutively for an equally short time in some combination. \n",
    "\n",
    "The number of flashes in one message is from 1 to 5. \n",
    "\n",
    "How many different messages can the boys transmit?"
   ]
  },
  {
   "cell_type": "code",
   "execution_count": 30,
   "metadata": {},
   "outputs": [
    {
     "data": {
      "text/html": [
       "62"
      ],
      "text/latex": [
       "62"
      ],
      "text/markdown": [
       "62"
      ],
      "text/plain": [
       "[1] 62"
      ]
     },
     "metadata": {},
     "output_type": "display_data"
    }
   ],
   "source": [
    "sum_of_binary_combinations <- 2 + 2 ** 2 + 2 ** 3 + 2 ** 4 + 2 ** 5\n",
    "sum_of_binary_combinations"
   ]
  },
  {
   "cell_type": "code",
   "execution_count": 31,
   "metadata": {},
   "outputs": [],
   "source": [
    "answer_dictionary[10] <- toString(sum_of_binary_combinations)"
   ]
  },
  {
   "cell_type": "markdown",
   "metadata": {},
   "source": [
    "## 11.\n",
    "Алгоритм вычисления значения функции `F(n)`, где `n` — натуральное число, задан следующими соотношениями:\n",
    "\n",
    "`F(n) = F(n - 1) + F(n / 2)`, при `n > 1` и `n` кратно 2\n",
    "\n",
    "`F(n) = F(n - 1) + 1`, при `n > 1` и `n` не кратно 2\n",
    "\n",
    "`F(1) = 1`\n",
    "\n",
    "Чему равно значение функции `F(8)`?\n",
    "\n",
    "---\n",
    "\n",
    "The algorithm for calculating the value of the function `F(n)`, where `n` is a natural number, is given by the following relations:\n",
    "\n",
    "`F(n) = F(n - 1) + F(n / 2)`, for `n > 1` and `n` is a multiple of 2\n",
    "\n",
    "`F(n) = F(n - 1) + 1`, for `n > 1` and `n` is not a multiple of 2\n",
    "\n",
    "`F(1) = 1`\n",
    "\n",
    "What is the value of the function `F(8)`?"
   ]
  },
  {
   "cell_type": "code",
   "execution_count": 32,
   "metadata": {},
   "outputs": [
    {
     "data": {
      "text/html": [
       "15"
      ],
      "text/latex": [
       "15"
      ],
      "text/markdown": [
       "15"
      ],
      "text/plain": [
       "[1] 15"
      ]
     },
     "metadata": {},
     "output_type": "display_data"
    }
   ],
   "source": [
    "F <- function(n) {\n",
    "    if (n == 1){\n",
    "        return (1)\n",
    "    } else if (n > 1 & n %% 2 == 0) {\n",
    "        return (F(n - 1) + F(n / 2))\n",
    "    } else {\n",
    "        return (F(n - 1) + 1)\n",
    "    }\n",
    "}\n",
    "\n",
    "F(8)"
   ]
  },
  {
   "cell_type": "code",
   "execution_count": 33,
   "metadata": {},
   "outputs": [],
   "source": [
    "answer_dictionary[11] <- toString(F(8))"
   ]
  },
  {
   "cell_type": "markdown",
   "metadata": {},
   "source": [
    "## 12.\n",
    "В терминологии сетей TCP/IP маской сети называется двоичное число, \n",
    "\n",
    "определяющее, какая часть IP-адреса узла сети относится к адресу сети, \n",
    "\n",
    "а какая — к адресу самого узла в этой сети. \n",
    "\n",
    "Обычно маска записывается по тем же правилам, что и IP-адрес. \n",
    "\n",
    "Адрес сети получается в результате применения поразрядной конъюнкции к заданному IP-адресу узла и маске.\n",
    "\n",
    "По заданным IP-адресу узла и маске определите адрес сети.\n",
    "\n",
    "IP-адрес узла: `209.135.205.15`\n",
    "\n",
    "Маска: `255.255.248.0`\n",
    "\n",
    "При записи ответа выберите из приведённых в таблице чисел четыре элемента IP-адреса \n",
    "\n",
    "и запишите в нужном порядке соответствующие им буквы. Точки `.` писать не нужно.\n",
    "\n",
    "---\n",
    "\n",
    "In the terminology of TCP / IP networks, a network mask is a binary number \n",
    "\n",
    "that specifies what part of the IP address of the network node refers to the network address, \n",
    "\n",
    "and which one to the host address in that network. \n",
    "\n",
    "Usually, the mask is written using the same rules as the IP address. \n",
    "\n",
    "The network address is obtained as a result of applying the bitwise conjunction to the specified IP address of the node and the mask.\n",
    "\n",
    "From the given IP-address of the node and the mask, determine the network address.\n",
    "\n",
    "The IP address is `209.135.205.15`\n",
    "\n",
    "Mask: `255.255.248.0`\n",
    "\n",
    "For recording an answer, select from the numbers in the table four IP address elements \n",
    "\n",
    "and write down the corresponding letters in the desired order. Points `.` do not need to be written.\n",
    "\n",
    "| A | B | C | D | E | F | G | H |\n",
    "| -:|-:|-:|-:|-:|-:|-:|-:|\n",
    "| $ \\ \\ 0$ | $ \\ 15$ | $135$ | $200$ | $205$ | $209$ | $248$ | $255$ |\n",
    "\n",
    "*Пример*. Пусть искомый IP-адрес `192.168.128.0`, и дана таблица:\n",
    "\n",
    "---\n",
    "\n",
    "*Example*. The desired IP-address is 192.168.128.0, and the table is given:\n",
    "\n",
    "| A | B | C | D | E | F | G | H |\n",
    "| -:|-:|-:|-:|-:|-:|-:|-:|\n",
    "| $128$ | $168$ | $255$ | $ \\ \\ 8$ | $127$ | $ \\ \\ 0$ | $ \\ 17$ | $192$ |\n",
    "\n",
    "В этом случае правильный ответ будет записан в виде: `HBAF`.\n",
    "\n",
    "---\n",
    "\n",
    "In this case, the correct answer will be written in the form: `HBAF`."
   ]
  },
  {
   "cell_type": "markdown",
   "metadata": {},
   "source": [
    "Переведем адрес узла и маску в бинарный вид.\n",
    "\n",
    "Let's translate the address of the node and the mask into a binary form."
   ]
  },
  {
   "cell_type": "code",
   "execution_count": 34,
   "metadata": {},
   "outputs": [],
   "source": [
    "ip <- unlist(strsplit('209.135.205.15','[.]'))\n",
    "mask <- unlist(strsplit('255.255.248.0','[.]'))\n",
    "\n",
    "ip_bin <- ''\n",
    "mask_bin <- '' \n",
    "\n",
    "for (i in 1:4) {\n",
    "    ip_bin_cur <- dec2bin(as.integer(ip[i]))\n",
    "    if (nchar(ip_bin_cur) < 8) {\n",
    "        for (k in 1:(8 - nchar(ip_bin_cur))) {\n",
    "           ip_bin_cur <- paste('0',ip_bin_cur,sep='') \n",
    "        }\n",
    "    }\n",
    "\n",
    "    mask_bin_cur <- dec2bin(as.integer(mask[i]))\n",
    "    if (nchar(mask_bin_cur) < 8) {\n",
    "        for (k in 1:(8 - nchar(mask_bin_cur))) {\n",
    "           mask_bin_cur <- paste('0',mask_bin_cur,sep='') \n",
    "        }\n",
    "    }\n",
    "    \n",
    "    ip_bin <- paste(ip_bin,ip_bin_cur,sep='.')\n",
    "    mask_bin <- paste(mask_bin,mask_bin_cur,sep='.')\n",
    "\n",
    "}\n",
    "\n",
    "ip_bin <- substr(ip_bin,2,nchar(ip_bin))\n",
    "mask_bin <- substr(mask_bin,2,nchar(mask_bin))"
   ]
  },
  {
   "cell_type": "code",
   "execution_count": 35,
   "metadata": {},
   "outputs": [
    {
     "data": {
      "text/html": [
       "'11010001.10000111.11001101.00001111'"
      ],
      "text/latex": [
       "'11010001.10000111.11001101.00001111'"
      ],
      "text/markdown": [
       "'11010001.10000111.11001101.00001111'"
      ],
      "text/plain": [
       "[1] \"11010001.10000111.11001101.00001111\""
      ]
     },
     "metadata": {},
     "output_type": "display_data"
    }
   ],
   "source": [
    "ip_bin"
   ]
  },
  {
   "cell_type": "code",
   "execution_count": 36,
   "metadata": {},
   "outputs": [
    {
     "data": {
      "text/html": [
       "'11111111.11111111.11111000.00000000'"
      ],
      "text/latex": [
       "'11111111.11111111.11111000.00000000'"
      ],
      "text/markdown": [
       "'11111111.11111111.11111000.00000000'"
      ],
      "text/plain": [
       "[1] \"11111111.11111111.11111000.00000000\""
      ]
     },
     "metadata": {},
     "output_type": "display_data"
    }
   ],
   "source": [
    "mask_bin"
   ]
  },
  {
   "cell_type": "markdown",
   "metadata": {},
   "source": [
    "Теперь можно применить поразрядную коньюнкцию.\n",
    "\n",
    "Now it is possible to apply bitwise conjunctions."
   ]
  },
  {
   "cell_type": "code",
   "execution_count": 37,
   "metadata": {},
   "outputs": [],
   "source": [
    "bin2dec <- function(n) {\n",
    "  return(sapply(strsplit(as.character(n),split=\"\"), \n",
    "                function(x) sum(as.numeric(x) * 2 ** (rev(seq_along(x) - 1)))))\n",
    "}"
   ]
  },
  {
   "cell_type": "code",
   "execution_count": 38,
   "metadata": {},
   "outputs": [
    {
     "data": {
      "text/html": [
       "'11010001.10000111.11001000.00000000'"
      ],
      "text/latex": [
       "'11010001.10000111.11001000.00000000'"
      ],
      "text/markdown": [
       "'11010001.10000111.11001000.00000000'"
      ],
      "text/plain": [
       "[1] \"11010001.10000111.11001000.00000000\""
      ]
     },
     "metadata": {},
     "output_type": "display_data"
    }
   ],
   "source": [
    "ip_bin <- unlist(strsplit(ip_bin,''))\n",
    "mask_bin <- unlist(strsplit(mask_bin,''))\n",
    "\n",
    "net_bin <-''\n",
    "for (i in 1:35){\n",
    "    if (mask_bin[i] == '.'){\n",
    "        net_bin <- paste(net_bin,'.',sep='')\n",
    "    } else {\n",
    "        symbol <- toString(as.integer(as.integer(mask_bin[i]) & as.integer(ip_bin[i])))\n",
    "        net_bin <- paste(net_bin,symbol,sep='')\n",
    "    }\n",
    "}\n",
    "\n",
    "net_bin"
   ]
  },
  {
   "cell_type": "code",
   "execution_count": 39,
   "metadata": {},
   "outputs": [
    {
     "data": {
      "text/html": [
       "'209.135.200.0'"
      ],
      "text/latex": [
       "'209.135.200.0'"
      ],
      "text/markdown": [
       "'209.135.200.0'"
      ],
      "text/plain": [
       "[1] \"209.135.200.0\""
      ]
     },
     "metadata": {},
     "output_type": "display_data"
    }
   ],
   "source": [
    "net <- ''\n",
    "for (el in unlist(strsplit(net_bin,'[.]'))) {\n",
    "    net <- paste(net,toString(bin2dec(el)),sep='.')\n",
    "}\n",
    "net <- substr(net,2,nchar(net))\n",
    "\n",
    "net"
   ]
  },
  {
   "cell_type": "markdown",
   "metadata": {},
   "source": [
    "При замене на буквенные обозначения получается:\n",
    "\n",
    "When replacing address parts with the letters we get:"
   ]
  },
  {
   "cell_type": "code",
   "execution_count": 40,
   "metadata": {},
   "outputs": [
    {
     "data": {
      "text/html": [
       "'FCDA'"
      ],
      "text/latex": [
       "'FCDA'"
      ],
      "text/markdown": [
       "'FCDA'"
      ],
      "text/plain": [
       "[1] \"FCDA\""
      ]
     },
     "metadata": {},
     "output_type": "display_data"
    }
   ],
   "source": [
    "string <- unlist(strsplit(net,'[.]'))\n",
    "codes <- c('0','15','135','200','205','209','248','255')\n",
    "symbols <- c('A','B','C','D','E','F','G','H')\n",
    "result <- ''\n",
    "\n",
    "for (el in string) {\n",
    "    for (i in 1:8) {\n",
    "        if (el == codes[i]) {\n",
    "            result <- paste(result,symbols[i],sep='')\n",
    "        }\n",
    "    }\n",
    "}\n",
    "\n",
    "result"
   ]
  },
  {
   "cell_type": "code",
   "execution_count": 41,
   "metadata": {},
   "outputs": [],
   "source": [
    "answer_dictionary[12] <- result"
   ]
  },
  {
   "cell_type": "markdown",
   "metadata": {},
   "source": [
    "## 13.\n",
    "Для регистрации на сайте онлайн-магазина пользователю предлагается придумать пароль, состоящий из 6 символов. \n",
    "\n",
    "Правилами безопасности сайта разрешается использовать только символы латинского алфавита (строчные и прописные). \n",
    "\n",
    "При этом используется посимвольное кодирование и в памяти сервера для кодирования каждого символа используется \n",
    "\n",
    "**минимально возможное и одинаково целое** количество бит. \n",
    "\n",
    "А для хранения всего пароля используется **минимально возможное целое количество байт**. \n",
    "\n",
    "Какое количество информации (в байтах) требуется для хранения паролей 80 пользователей?\n",
    "\n",
    "---\n",
    "\n",
    "To register on the site of the online store, the user is asked to come up with a password consisting of 6 symbols. \n",
    "\n",
    "The site security rules allow only the Latin alphabet (lowercase and uppercase). \n",
    "\n",
    "In this case, symbol-by-symbol encoding is applied and in the server memory, \n",
    "\n",
    "**the minimum possible and equally integer number of bits** is used to encode each character. \n",
    "\n",
    "And to store the entire password, **the minimum possible integer number of bytes** is used. \n",
    "\n",
    "How much information (in bytes) is required to store passwords for 80 users?"
   ]
  },
  {
   "cell_type": "markdown",
   "metadata": {},
   "source": [
    "1) $5 < \\log_{2}{52} < 6$ => 6 (бит) - необходимо для кодирования одной из 52 строчных и прописных букв латинского алфавита.\n",
    "\n",
    "Количество возможных вариантов кодировки ($2^6$) не должно быть меньше количества имеющейся информации ($52$ символов), \n",
    "\n",
    "округление в данном случае - всегда в большую сторону.\n",
    "\n",
    "2) $6 * 6 = 36$ (бит) - необходимо для кодирования 6 символов пароля.\n",
    "\n",
    "3) $36 \\ / \\ 8 = 4.5 \\approx 5$ (байт) - необходимо для кодирования 6 символов пароля.\n",
    "\n",
    "Количество байт - целое число, и округление опять должно быть только в большую сторону.\n",
    "\n",
    "4) $80 * 5 = 400$ (байт) - необходимо для кодирования паролей 80 пользователей.\n",
    "\n",
    "---\n",
    "\n",
    "1) $5 < \\log_{2}{52} <6$ => 6 (bits) - necessary for encoding one of the 52 lowercase and uppercase Latin letters.\n",
    "\n",
    "The number of possible encoding options ($2 ^ 6$) should not be less than the amount of information available ($52$ symbols), \n",
    "\n",
    "rounding in this case - always in the larger side.\n",
    "\n",
    "2) $6 * 6 = 36$ (bits) - necessary for encoding 6 password symbols.\n",
    "\n",
    "3) $36 \\ / \\ 8 = 4.5 \\approx 5$ (bytes) - necessary to encode 6 characters of the password.\n",
    "\n",
    "The number of bytes is an integer, and rounding should only be in the larger side again.\n",
    "\n",
    "4) $80 * 5 = 400$ (byte) - necessary to encode passwords of 80 users."
   ]
  },
  {
   "cell_type": "code",
   "execution_count": 42,
   "metadata": {},
   "outputs": [
    {
     "data": {
      "text/html": [
       "400"
      ],
      "text/latex": [
       "400"
      ],
      "text/markdown": [
       "400"
      ],
      "text/plain": [
       "[1] 400"
      ]
     },
     "metadata": {},
     "output_type": "display_data"
    }
   ],
   "source": [
    "bits_for_one_symbol_from_52 <- ceiling(log2(52))\n",
    "bits_for_6_symbol_from_52 <- 6 * bits_for_one_symbol_from_52\n",
    "bytes_for_6_symbol_from_52 <- ceiling(bits_for_6_symbol_from_52 / 8)\n",
    "\n",
    "bytes_for_80_passwords <- 80 * bytes_for_6_symbol_from_52\n",
    "bytes_for_80_passwords "
   ]
  },
  {
   "cell_type": "code",
   "execution_count": 43,
   "metadata": {},
   "outputs": [],
   "source": [
    "answer_dictionary[13] <- toString(bytes_for_80_passwords)"
   ]
  },
  {
   "cell_type": "markdown",
   "metadata": {},
   "source": [
    "## 14.\n",
    "Система команд исполнителя РОБОТ, «живущего» в прямоугольном лабиринте на клетчатой плоскости включает \n",
    "\n",
    "4 команды-приказа и 4 команды проверки условия. \n",
    "\n",
    "The command system of the performer ROBOT, \"living\" in a rectangular labyrinth on a grid plane, \n",
    "\n",
    "includes 4 moving commands and 4 condition-checking ones. \n",
    "\n",
    "Команды-приказы: / Moving commands:\n",
    "\n",
    "|<p style=\"text-align:center; color:red;\">вверх</p>|<p style=\"text-align:center; color:green;\">вниз</p>|<p style=\"text-align:center; color:red;\">влево</p>|<p style=\"text-align:center; color:green;\">вправо</p>|\n",
    "|-:|-:|-:|-:|\n",
    "|<p style=\"text-align:center; color:red;\">up</p>|<p style=\"text-align:center; color:green;\">down</p>|<p style=\"text-align:center; color:red;\">left</p>|<p style=\"text-align:center; color:green;\">right</p>|\n",
    "\n",
    "При выполнении этих команд РОБОТ перемещается на одну клетку соответственно: вверх ↑, вниз ↓, влево ←, вправо →.\n",
    "\n",
    "Если РОБОТ начнет движение в сторону находящейся рядом с ним стены, то он разрушится и программа прервётся.\n",
    "\n",
    "Другие четыре команды проверяют истинность условия отсутствия стены у каждой стороны той клетки, где находится РОБОТ:\n",
    "\n",
    "When these commands are executed, ROBOT moves one cell accordingly: up ↑, down ↓, left ←, right →.\n",
    "\n",
    "If ROBOT starts moving towards the wall next to it, it is destroyed and the program is stopped.\n",
    "\n",
    "The other four commands verify the truth of the absence of the wall on each side of the cell where ROBOT is located:\n",
    "\n",
    "|<p style=\"text-align:center; color:red;\">сверху свободно</p>|<p style=\"text-align:center; color:green;\">снизу свободно</p>|<p style=\"text-align:center; color:red;\">слева свободно</p>|<p style=\"text-align:center; color:green;\">справа свободно</p>|\n",
    "|-:|-:|-:|-:|\n",
    "|<p style=\"text-align:center; color:red;\">up free</p>|<p style=\"text-align:center; color:green;\">down free</p>|<p style=\"text-align:center; color:red;\">left free</p>|<p style=\"text-align:center; color:green;\">right free</p>|"
   ]
  },
  {
   "cell_type": "markdown",
   "metadata": {},
   "source": [
    "Цикл\n",
    "\n",
    "`ПОКА` $<условие>$\n",
    "\n",
    "- $последовательность \\; команд$\n",
    "    \n",
    "`КОНЕЦ ПОКА`\n",
    "\n",
    "выполняется, пока условие истинно.  \n",
    "\n",
    "Если условие ложно, происходит переход к следующей команде.\n",
    "\n",
    "В конструкции\n",
    "\n",
    "`ЕСЛИ` $<условие> \\; команда $\n",
    "\n",
    "выполняется команда, если условие истинно. \n",
    "\n",
    "Если условие ложно, происходит переход к следующей команде.\n",
    "\n",
    "Cycle\n",
    "\n",
    "`WHILE` $<condition>$\n",
    "\n",
    "- $sequence \\; of \\; commands$\n",
    "    \n",
    "`END WHILE`\n",
    "\n",
    "executes until the condition is true. \n",
    "\n",
    "If the condition is false, the next command is executed.\n",
    "\n",
    "In the construction\n",
    "\n",
    "`IF` $<condition> \\; command$\n",
    "\n",
    "the command is executed if the condition is true. \n",
    "\n",
    "If the condition is false, the next command is executed.\n",
    "\n",
    "---\n",
    "\n",
    "Сколько клеток лабиринта соответствует требованию, что, начав движение в ней и выполнив предложенную программу, \n",
    "\n",
    "РОБОТ уцелеет и остановится в закрашенной клетке (клетка F6)?\n",
    "\n",
    "How many cells of the labyrinth correspond to the requirement that, after starting the movement in it and executing the proposed program, \n",
    "\n",
    "ROBOT is survived and stops in the shaded cell (F6)?"
   ]
  },
  {
   "cell_type": "markdown",
   "metadata": {},
   "source": [
    "`НАЧАЛО`\n",
    "\n",
    "- `ПОКА` $<справа \\; свободно>$ `ИЛИ` $<снизу \\; свободно>$\n",
    "\n",
    "  - `ЕСЛИ` $<справа \\; свободно>$ вправо\n",
    "\n",
    "  - вниз\n",
    "\n",
    "- `КОНЕЦ ПОКА`\n",
    "\n",
    "`КОНЕЦ`\n",
    "\n",
    "---\n",
    "\n",
    "`START`\n",
    "\n",
    "- `WHILE` $<right \\; free>$ `OR` $<down \\; free>$\n",
    "\n",
    "  - `IF` $<right \\; free>$ right\n",
    "  \n",
    "  - down\n",
    "\n",
    "- `END WHILE`  \n",
    "\n",
    "`END`"
   ]
  },
  {
   "cell_type": "code",
   "execution_count": null,
   "metadata": {},
   "outputs": [],
   "source": []
  },
  {
   "cell_type": "markdown",
   "metadata": {},
   "source": [
    "Траектории движения для всех случаев, когда робот уцелеет и остановится в закрашенной клетке:\n",
    "\n",
    "The trajectories for the cases when the robot has survived and stopped in the painted cell:\n",
    "\n",
    "1) `F6`;\n",
    "\n",
    "2) `F5->F6`;\n",
    "\n",
    "3) `F4->F5->F6`;\n",
    "\n",
    "4) `F3->F4->F5->F6`;\n",
    "\n",
    "5) `F2->F3->F4->F5->F6`;\n",
    "\n",
    "6) `F1->F2->F3->F4->F5->F6`;\n",
    "\n",
    "7) `E1->F1->F2->F3->F4->F5->F6`;\n",
    "\n",
    "8) `D1->E1->F1->F2->F3->F4->F5->F6`;\n",
    "\n",
    "9) `C1->D1->E1->F1->F2->F3->F4->F5->F6`;\n",
    "\n",
    "10) `D2->E2->F2->F3->F4->F5->F6`;\n",
    "\n",
    "11) `E2->F2->F3->F4->F5->F6`;\n",
    "\n",
    "12) `E3->F3->F4->F5->F6`;\n",
    "\n",
    "13) `E4->F4->F5->F6`."
   ]
  },
  {
   "cell_type": "code",
   "execution_count": null,
   "metadata": {},
   "outputs": [],
   "source": []
  },
  {
   "cell_type": "markdown",
   "metadata": {},
   "source": [
    "## 15.\n",
    "На рисунке — схема дорог, связывающих города $А, Б, В, Г, Д, Е, Ж, 3, И, К$. \n",
    "\n",
    "По каждой дороге можно двигаться только в одном направлении, указанном стрелкой. \n",
    "\n",
    "Сколько существует различных путей из города $А$ в город $К$?\n",
    "\n",
    "---\n",
    "\n",
    "In the figure - the scheme of roads is connecting the cities $А, Б, В, Г, Д, Е, Ж, 3, И, К$. \n",
    "\n",
    "For each road, it is possible to move only in one direction, indicated by an arrow. \n",
    "\n",
    "How many different paths exist from the city $А$ to the city $К$?"
   ]
  },
  {
   "cell_type": "code",
   "execution_count": 46,
   "metadata": {},
   "outputs": [
    {
     "data": {
      "image/png": "[encoded data removed]",
      "text/plain": [
       "Plot with title “”"
      ]
     },
     "metadata": {},
     "output_type": "display_data"
    }
   ],
   "source": [
    "options(warn = -1,repr.plot.width=5,repr.plot.height=5)\n",
    "edges <- c('А','Б', 'А','В', 'А','Г', 'Б','В', 'Б','Д',\n",
    "           'В','Д', 'В','Е', 'В','Ж', 'Г','В', 'Г','Е',\n",
    "           'Д','И', 'Д','Ж', 'Е','Ж', 'Е','З',\n",
    "           'Ж','И', 'Ж','З', 'Ж','К', 'З','К', 'И','К')\n",
    "g2 <- graph(edges)\n",
    "plot(g2,\n",
    "     vertex.color=\"steelblue\",vertex.size=15,\n",
    "     vertex.frame.color=\"gray\",vertex.shape='square')"
   ]
  },
  {
   "cell_type": "code",
   "execution_count": 47,
   "metadata": {},
   "outputs": [
    {
     "data": {
      "text/html": [
       "<ol>\n",
       "\t<li><ol class=list-inline>\n",
       "\t<li>'А'</li>\n",
       "\t<li>'Б'</li>\n",
       "\t<li>'В'</li>\n",
       "\t<li>'Д'</li>\n",
       "\t<li>'Ж'</li>\n",
       "\t<li>'И'</li>\n",
       "\t<li>'К'</li>\n",
       "</ol>\n",
       "</li>\n",
       "\t<li><ol class=list-inline>\n",
       "\t<li>'А'</li>\n",
       "\t<li>'Б'</li>\n",
       "\t<li>'В'</li>\n",
       "\t<li>'Д'</li>\n",
       "\t<li>'Ж'</li>\n",
       "\t<li>'З'</li>\n",
       "\t<li>'К'</li>\n",
       "</ol>\n",
       "</li>\n",
       "\t<li><ol class=list-inline>\n",
       "\t<li>'А'</li>\n",
       "\t<li>'Б'</li>\n",
       "\t<li>'В'</li>\n",
       "\t<li>'Д'</li>\n",
       "\t<li>'Ж'</li>\n",
       "\t<li>'К'</li>\n",
       "</ol>\n",
       "</li>\n",
       "\t<li><ol class=list-inline>\n",
       "\t<li>'А'</li>\n",
       "\t<li>'Б'</li>\n",
       "\t<li>'В'</li>\n",
       "\t<li>'Д'</li>\n",
       "\t<li>'И'</li>\n",
       "\t<li>'К'</li>\n",
       "</ol>\n",
       "</li>\n",
       "\t<li><ol class=list-inline>\n",
       "\t<li>'А'</li>\n",
       "\t<li>'Б'</li>\n",
       "\t<li>'В'</li>\n",
       "\t<li>'Е'</li>\n",
       "\t<li>'Ж'</li>\n",
       "\t<li>'И'</li>\n",
       "\t<li>'К'</li>\n",
       "</ol>\n",
       "</li>\n",
       "\t<li><ol class=list-inline>\n",
       "\t<li>'А'</li>\n",
       "\t<li>'Б'</li>\n",
       "\t<li>'В'</li>\n",
       "\t<li>'Е'</li>\n",
       "\t<li>'Ж'</li>\n",
       "\t<li>'З'</li>\n",
       "\t<li>'К'</li>\n",
       "</ol>\n",
       "</li>\n",
       "\t<li><ol class=list-inline>\n",
       "\t<li>'А'</li>\n",
       "\t<li>'Б'</li>\n",
       "\t<li>'В'</li>\n",
       "\t<li>'Е'</li>\n",
       "\t<li>'Ж'</li>\n",
       "\t<li>'К'</li>\n",
       "</ol>\n",
       "</li>\n",
       "\t<li><ol class=list-inline>\n",
       "\t<li>'А'</li>\n",
       "\t<li>'Б'</li>\n",
       "\t<li>'В'</li>\n",
       "\t<li>'Е'</li>\n",
       "\t<li>'З'</li>\n",
       "\t<li>'К'</li>\n",
       "</ol>\n",
       "</li>\n",
       "\t<li><ol class=list-inline>\n",
       "\t<li>'А'</li>\n",
       "\t<li>'Б'</li>\n",
       "\t<li>'В'</li>\n",
       "\t<li>'Ж'</li>\n",
       "\t<li>'И'</li>\n",
       "\t<li>'К'</li>\n",
       "</ol>\n",
       "</li>\n",
       "\t<li><ol class=list-inline>\n",
       "\t<li>'А'</li>\n",
       "\t<li>'Б'</li>\n",
       "\t<li>'В'</li>\n",
       "\t<li>'Ж'</li>\n",
       "\t<li>'З'</li>\n",
       "\t<li>'К'</li>\n",
       "</ol>\n",
       "</li>\n",
       "\t<li><ol class=list-inline>\n",
       "\t<li>'А'</li>\n",
       "\t<li>'Б'</li>\n",
       "\t<li>'В'</li>\n",
       "\t<li>'Ж'</li>\n",
       "\t<li>'К'</li>\n",
       "</ol>\n",
       "</li>\n",
       "\t<li><ol class=list-inline>\n",
       "\t<li>'А'</li>\n",
       "\t<li>'Б'</li>\n",
       "\t<li>'Д'</li>\n",
       "\t<li>'Ж'</li>\n",
       "\t<li>'И'</li>\n",
       "\t<li>'К'</li>\n",
       "</ol>\n",
       "</li>\n",
       "\t<li><ol class=list-inline>\n",
       "\t<li>'А'</li>\n",
       "\t<li>'Б'</li>\n",
       "\t<li>'Д'</li>\n",
       "\t<li>'Ж'</li>\n",
       "\t<li>'З'</li>\n",
       "\t<li>'К'</li>\n",
       "</ol>\n",
       "</li>\n",
       "\t<li><ol class=list-inline>\n",
       "\t<li>'А'</li>\n",
       "\t<li>'Б'</li>\n",
       "\t<li>'Д'</li>\n",
       "\t<li>'Ж'</li>\n",
       "\t<li>'К'</li>\n",
       "</ol>\n",
       "</li>\n",
       "\t<li><ol class=list-inline>\n",
       "\t<li>'А'</li>\n",
       "\t<li>'Б'</li>\n",
       "\t<li>'Д'</li>\n",
       "\t<li>'И'</li>\n",
       "\t<li>'К'</li>\n",
       "</ol>\n",
       "</li>\n",
       "\t<li><ol class=list-inline>\n",
       "\t<li>'А'</li>\n",
       "\t<li>'В'</li>\n",
       "\t<li>'Д'</li>\n",
       "\t<li>'Ж'</li>\n",
       "\t<li>'И'</li>\n",
       "\t<li>'К'</li>\n",
       "</ol>\n",
       "</li>\n",
       "\t<li><ol class=list-inline>\n",
       "\t<li>'А'</li>\n",
       "\t<li>'В'</li>\n",
       "\t<li>'Д'</li>\n",
       "\t<li>'Ж'</li>\n",
       "\t<li>'З'</li>\n",
       "\t<li>'К'</li>\n",
       "</ol>\n",
       "</li>\n",
       "\t<li><ol class=list-inline>\n",
       "\t<li>'А'</li>\n",
       "\t<li>'В'</li>\n",
       "\t<li>'Д'</li>\n",
       "\t<li>'Ж'</li>\n",
       "\t<li>'К'</li>\n",
       "</ol>\n",
       "</li>\n",
       "\t<li><ol class=list-inline>\n",
       "\t<li>'А'</li>\n",
       "\t<li>'В'</li>\n",
       "\t<li>'Д'</li>\n",
       "\t<li>'И'</li>\n",
       "\t<li>'К'</li>\n",
       "</ol>\n",
       "</li>\n",
       "\t<li><ol class=list-inline>\n",
       "\t<li>'А'</li>\n",
       "\t<li>'В'</li>\n",
       "\t<li>'Е'</li>\n",
       "\t<li>'Ж'</li>\n",
       "\t<li>'И'</li>\n",
       "\t<li>'К'</li>\n",
       "</ol>\n",
       "</li>\n",
       "\t<li><ol class=list-inline>\n",
       "\t<li>'А'</li>\n",
       "\t<li>'В'</li>\n",
       "\t<li>'Е'</li>\n",
       "\t<li>'Ж'</li>\n",
       "\t<li>'З'</li>\n",
       "\t<li>'К'</li>\n",
       "</ol>\n",
       "</li>\n",
       "\t<li><ol class=list-inline>\n",
       "\t<li>'А'</li>\n",
       "\t<li>'В'</li>\n",
       "\t<li>'Е'</li>\n",
       "\t<li>'Ж'</li>\n",
       "\t<li>'К'</li>\n",
       "</ol>\n",
       "</li>\n",
       "\t<li><ol class=list-inline>\n",
       "\t<li>'А'</li>\n",
       "\t<li>'В'</li>\n",
       "\t<li>'Е'</li>\n",
       "\t<li>'З'</li>\n",
       "\t<li>'К'</li>\n",
       "</ol>\n",
       "</li>\n",
       "\t<li><ol class=list-inline>\n",
       "\t<li>'А'</li>\n",
       "\t<li>'В'</li>\n",
       "\t<li>'Ж'</li>\n",
       "\t<li>'И'</li>\n",
       "\t<li>'К'</li>\n",
       "</ol>\n",
       "</li>\n",
       "\t<li><ol class=list-inline>\n",
       "\t<li>'А'</li>\n",
       "\t<li>'В'</li>\n",
       "\t<li>'Ж'</li>\n",
       "\t<li>'З'</li>\n",
       "\t<li>'К'</li>\n",
       "</ol>\n",
       "</li>\n",
       "\t<li><ol class=list-inline>\n",
       "\t<li>'А'</li>\n",
       "\t<li>'В'</li>\n",
       "\t<li>'Ж'</li>\n",
       "\t<li>'К'</li>\n",
       "</ol>\n",
       "</li>\n",
       "\t<li><ol class=list-inline>\n",
       "\t<li>'А'</li>\n",
       "\t<li>'Г'</li>\n",
       "\t<li>'В'</li>\n",
       "\t<li>'Д'</li>\n",
       "\t<li>'Ж'</li>\n",
       "\t<li>'И'</li>\n",
       "\t<li>'К'</li>\n",
       "</ol>\n",
       "</li>\n",
       "\t<li><ol class=list-inline>\n",
       "\t<li>'А'</li>\n",
       "\t<li>'Г'</li>\n",
       "\t<li>'В'</li>\n",
       "\t<li>'Д'</li>\n",
       "\t<li>'Ж'</li>\n",
       "\t<li>'З'</li>\n",
       "\t<li>'К'</li>\n",
       "</ol>\n",
       "</li>\n",
       "\t<li><ol class=list-inline>\n",
       "\t<li>'А'</li>\n",
       "\t<li>'Г'</li>\n",
       "\t<li>'В'</li>\n",
       "\t<li>'Д'</li>\n",
       "\t<li>'Ж'</li>\n",
       "\t<li>'К'</li>\n",
       "</ol>\n",
       "</li>\n",
       "\t<li><ol class=list-inline>\n",
       "\t<li>'А'</li>\n",
       "\t<li>'Г'</li>\n",
       "\t<li>'В'</li>\n",
       "\t<li>'Д'</li>\n",
       "\t<li>'И'</li>\n",
       "\t<li>'К'</li>\n",
       "</ol>\n",
       "</li>\n",
       "\t<li><ol class=list-inline>\n",
       "\t<li>'А'</li>\n",
       "\t<li>'Г'</li>\n",
       "\t<li>'В'</li>\n",
       "\t<li>'Е'</li>\n",
       "\t<li>'Ж'</li>\n",
       "\t<li>'И'</li>\n",
       "\t<li>'К'</li>\n",
       "</ol>\n",
       "</li>\n",
       "\t<li><ol class=list-inline>\n",
       "\t<li>'А'</li>\n",
       "\t<li>'Г'</li>\n",
       "\t<li>'В'</li>\n",
       "\t<li>'Е'</li>\n",
       "\t<li>'Ж'</li>\n",
       "\t<li>'З'</li>\n",
       "\t<li>'К'</li>\n",
       "</ol>\n",
       "</li>\n",
       "\t<li><ol class=list-inline>\n",
       "\t<li>'А'</li>\n",
       "\t<li>'Г'</li>\n",
       "\t<li>'В'</li>\n",
       "\t<li>'Е'</li>\n",
       "\t<li>'Ж'</li>\n",
       "\t<li>'К'</li>\n",
       "</ol>\n",
       "</li>\n",
       "\t<li><ol class=list-inline>\n",
       "\t<li>'А'</li>\n",
       "\t<li>'Г'</li>\n",
       "\t<li>'В'</li>\n",
       "\t<li>'Е'</li>\n",
       "\t<li>'З'</li>\n",
       "\t<li>'К'</li>\n",
       "</ol>\n",
       "</li>\n",
       "\t<li><ol class=list-inline>\n",
       "\t<li>'А'</li>\n",
       "\t<li>'Г'</li>\n",
       "\t<li>'В'</li>\n",
       "\t<li>'Ж'</li>\n",
       "\t<li>'И'</li>\n",
       "\t<li>'К'</li>\n",
       "</ol>\n",
       "</li>\n",
       "\t<li><ol class=list-inline>\n",
       "\t<li>'А'</li>\n",
       "\t<li>'Г'</li>\n",
       "\t<li>'В'</li>\n",
       "\t<li>'Ж'</li>\n",
       "\t<li>'З'</li>\n",
       "\t<li>'К'</li>\n",
       "</ol>\n",
       "</li>\n",
       "\t<li><ol class=list-inline>\n",
       "\t<li>'А'</li>\n",
       "\t<li>'Г'</li>\n",
       "\t<li>'В'</li>\n",
       "\t<li>'Ж'</li>\n",
       "\t<li>'К'</li>\n",
       "</ol>\n",
       "</li>\n",
       "\t<li><ol class=list-inline>\n",
       "\t<li>'А'</li>\n",
       "\t<li>'Г'</li>\n",
       "\t<li>'Е'</li>\n",
       "\t<li>'Ж'</li>\n",
       "\t<li>'И'</li>\n",
       "\t<li>'К'</li>\n",
       "</ol>\n",
       "</li>\n",
       "\t<li><ol class=list-inline>\n",
       "\t<li>'А'</li>\n",
       "\t<li>'Г'</li>\n",
       "\t<li>'Е'</li>\n",
       "\t<li>'Ж'</li>\n",
       "\t<li>'З'</li>\n",
       "\t<li>'К'</li>\n",
       "</ol>\n",
       "</li>\n",
       "\t<li><ol class=list-inline>\n",
       "\t<li>'А'</li>\n",
       "\t<li>'Г'</li>\n",
       "\t<li>'Е'</li>\n",
       "\t<li>'Ж'</li>\n",
       "\t<li>'К'</li>\n",
       "</ol>\n",
       "</li>\n",
       "\t<li><ol class=list-inline>\n",
       "\t<li>'А'</li>\n",
       "\t<li>'Г'</li>\n",
       "\t<li>'Е'</li>\n",
       "\t<li>'З'</li>\n",
       "\t<li>'К'</li>\n",
       "</ol>\n",
       "</li>\n",
       "</ol>\n"
      ],
      "text/latex": [
       "\\begin{enumerate}\n",
       "\\item \\begin{enumerate*}\n",
       "\\item 'А'\n",
       "\\item 'Б'\n",
       "\\item 'В'\n",
       "\\item 'Д'\n",
       "\\item 'Ж'\n",
       "\\item 'И'\n",
       "\\item 'К'\n",
       "\\end{enumerate*}\n",
       "\n",
       "\\item \\begin{enumerate*}\n",
       "\\item 'А'\n",
       "\\item 'Б'\n",
       "\\item 'В'\n",
       "\\item 'Д'\n",
       "\\item 'Ж'\n",
       "\\item 'З'\n",
       "\\item 'К'\n",
       "\\end{enumerate*}\n",
       "\n",
       "\\item \\begin{enumerate*}\n",
       "\\item 'А'\n",
       "\\item 'Б'\n",
       "\\item 'В'\n",
       "\\item 'Д'\n",
       "\\item 'Ж'\n",
       "\\item 'К'\n",
       "\\end{enumerate*}\n",
       "\n",
       "\\item \\begin{enumerate*}\n",
       "\\item 'А'\n",
       "\\item 'Б'\n",
       "\\item 'В'\n",
       "\\item 'Д'\n",
       "\\item 'И'\n",
       "\\item 'К'\n",
       "\\end{enumerate*}\n",
       "\n",
       "\\item \\begin{enumerate*}\n",
       "\\item 'А'\n",
       "\\item 'Б'\n",
       "\\item 'В'\n",
       "\\item 'Е'\n",
       "\\item 'Ж'\n",
       "\\item 'И'\n",
       "\\item 'К'\n",
       "\\end{enumerate*}\n",
       "\n",
       "\\item \\begin{enumerate*}\n",
       "\\item 'А'\n",
       "\\item 'Б'\n",
       "\\item 'В'\n",
       "\\item 'Е'\n",
       "\\item 'Ж'\n",
       "\\item 'З'\n",
       "\\item 'К'\n",
       "\\end{enumerate*}\n",
       "\n",
       "\\item \\begin{enumerate*}\n",
       "\\item 'А'\n",
       "\\item 'Б'\n",
       "\\item 'В'\n",
       "\\item 'Е'\n",
       "\\item 'Ж'\n",
       "\\item 'К'\n",
       "\\end{enumerate*}\n",
       "\n",
       "\\item \\begin{enumerate*}\n",
       "\\item 'А'\n",
       "\\item 'Б'\n",
       "\\item 'В'\n",
       "\\item 'Е'\n",
       "\\item 'З'\n",
       "\\item 'К'\n",
       "\\end{enumerate*}\n",
       "\n",
       "\\item \\begin{enumerate*}\n",
       "\\item 'А'\n",
       "\\item 'Б'\n",
       "\\item 'В'\n",
       "\\item 'Ж'\n",
       "\\item 'И'\n",
       "\\item 'К'\n",
       "\\end{enumerate*}\n",
       "\n",
       "\\item \\begin{enumerate*}\n",
       "\\item 'А'\n",
       "\\item 'Б'\n",
       "\\item 'В'\n",
       "\\item 'Ж'\n",
       "\\item 'З'\n",
       "\\item 'К'\n",
       "\\end{enumerate*}\n",
       "\n",
       "\\item \\begin{enumerate*}\n",
       "\\item 'А'\n",
       "\\item 'Б'\n",
       "\\item 'В'\n",
       "\\item 'Ж'\n",
       "\\item 'К'\n",
       "\\end{enumerate*}\n",
       "\n",
       "\\item \\begin{enumerate*}\n",
       "\\item 'А'\n",
       "\\item 'Б'\n",
       "\\item 'Д'\n",
       "\\item 'Ж'\n",
       "\\item 'И'\n",
       "\\item 'К'\n",
       "\\end{enumerate*}\n",
       "\n",
       "\\item \\begin{enumerate*}\n",
       "\\item 'А'\n",
       "\\item 'Б'\n",
       "\\item 'Д'\n",
       "\\item 'Ж'\n",
       "\\item 'З'\n",
       "\\item 'К'\n",
       "\\end{enumerate*}\n",
       "\n",
       "\\item \\begin{enumerate*}\n",
       "\\item 'А'\n",
       "\\item 'Б'\n",
       "\\item 'Д'\n",
       "\\item 'Ж'\n",
       "\\item 'К'\n",
       "\\end{enumerate*}\n",
       "\n",
       "\\item \\begin{enumerate*}\n",
       "\\item 'А'\n",
       "\\item 'Б'\n",
       "\\item 'Д'\n",
       "\\item 'И'\n",
       "\\item 'К'\n",
       "\\end{enumerate*}\n",
       "\n",
       "\\item \\begin{enumerate*}\n",
       "\\item 'А'\n",
       "\\item 'В'\n",
       "\\item 'Д'\n",
       "\\item 'Ж'\n",
       "\\item 'И'\n",
       "\\item 'К'\n",
       "\\end{enumerate*}\n",
       "\n",
       "\\item \\begin{enumerate*}\n",
       "\\item 'А'\n",
       "\\item 'В'\n",
       "\\item 'Д'\n",
       "\\item 'Ж'\n",
       "\\item 'З'\n",
       "\\item 'К'\n",
       "\\end{enumerate*}\n",
       "\n",
       "\\item \\begin{enumerate*}\n",
       "\\item 'А'\n",
       "\\item 'В'\n",
       "\\item 'Д'\n",
       "\\item 'Ж'\n",
       "\\item 'К'\n",
       "\\end{enumerate*}\n",
       "\n",
       "\\item \\begin{enumerate*}\n",
       "\\item 'А'\n",
       "\\item 'В'\n",
       "\\item 'Д'\n",
       "\\item 'И'\n",
       "\\item 'К'\n",
       "\\end{enumerate*}\n",
       "\n",
       "\\item \\begin{enumerate*}\n",
       "\\item 'А'\n",
       "\\item 'В'\n",
       "\\item 'Е'\n",
       "\\item 'Ж'\n",
       "\\item 'И'\n",
       "\\item 'К'\n",
       "\\end{enumerate*}\n",
       "\n",
       "\\item \\begin{enumerate*}\n",
       "\\item 'А'\n",
       "\\item 'В'\n",
       "\\item 'Е'\n",
       "\\item 'Ж'\n",
       "\\item 'З'\n",
       "\\item 'К'\n",
       "\\end{enumerate*}\n",
       "\n",
       "\\item \\begin{enumerate*}\n",
       "\\item 'А'\n",
       "\\item 'В'\n",
       "\\item 'Е'\n",
       "\\item 'Ж'\n",
       "\\item 'К'\n",
       "\\end{enumerate*}\n",
       "\n",
       "\\item \\begin{enumerate*}\n",
       "\\item 'А'\n",
       "\\item 'В'\n",
       "\\item 'Е'\n",
       "\\item 'З'\n",
       "\\item 'К'\n",
       "\\end{enumerate*}\n",
       "\n",
       "\\item \\begin{enumerate*}\n",
       "\\item 'А'\n",
       "\\item 'В'\n",
       "\\item 'Ж'\n",
       "\\item 'И'\n",
       "\\item 'К'\n",
       "\\end{enumerate*}\n",
       "\n",
       "\\item \\begin{enumerate*}\n",
       "\\item 'А'\n",
       "\\item 'В'\n",
       "\\item 'Ж'\n",
       "\\item 'З'\n",
       "\\item 'К'\n",
       "\\end{enumerate*}\n",
       "\n",
       "\\item \\begin{enumerate*}\n",
       "\\item 'А'\n",
       "\\item 'В'\n",
       "\\item 'Ж'\n",
       "\\item 'К'\n",
       "\\end{enumerate*}\n",
       "\n",
       "\\item \\begin{enumerate*}\n",
       "\\item 'А'\n",
       "\\item 'Г'\n",
       "\\item 'В'\n",
       "\\item 'Д'\n",
       "\\item 'Ж'\n",
       "\\item 'И'\n",
       "\\item 'К'\n",
       "\\end{enumerate*}\n",
       "\n",
       "\\item \\begin{enumerate*}\n",
       "\\item 'А'\n",
       "\\item 'Г'\n",
       "\\item 'В'\n",
       "\\item 'Д'\n",
       "\\item 'Ж'\n",
       "\\item 'З'\n",
       "\\item 'К'\n",
       "\\end{enumerate*}\n",
       "\n",
       "\\item \\begin{enumerate*}\n",
       "\\item 'А'\n",
       "\\item 'Г'\n",
       "\\item 'В'\n",
       "\\item 'Д'\n",
       "\\item 'Ж'\n",
       "\\item 'К'\n",
       "\\end{enumerate*}\n",
       "\n",
       "\\item \\begin{enumerate*}\n",
       "\\item 'А'\n",
       "\\item 'Г'\n",
       "\\item 'В'\n",
       "\\item 'Д'\n",
       "\\item 'И'\n",
       "\\item 'К'\n",
       "\\end{enumerate*}\n",
       "\n",
       "\\item \\begin{enumerate*}\n",
       "\\item 'А'\n",
       "\\item 'Г'\n",
       "\\item 'В'\n",
       "\\item 'Е'\n",
       "\\item 'Ж'\n",
       "\\item 'И'\n",
       "\\item 'К'\n",
       "\\end{enumerate*}\n",
       "\n",
       "\\item \\begin{enumerate*}\n",
       "\\item 'А'\n",
       "\\item 'Г'\n",
       "\\item 'В'\n",
       "\\item 'Е'\n",
       "\\item 'Ж'\n",
       "\\item 'З'\n",
       "\\item 'К'\n",
       "\\end{enumerate*}\n",
       "\n",
       "\\item \\begin{enumerate*}\n",
       "\\item 'А'\n",
       "\\item 'Г'\n",
       "\\item 'В'\n",
       "\\item 'Е'\n",
       "\\item 'Ж'\n",
       "\\item 'К'\n",
       "\\end{enumerate*}\n",
       "\n",
       "\\item \\begin{enumerate*}\n",
       "\\item 'А'\n",
       "\\item 'Г'\n",
       "\\item 'В'\n",
       "\\item 'Е'\n",
       "\\item 'З'\n",
       "\\item 'К'\n",
       "\\end{enumerate*}\n",
       "\n",
       "\\item \\begin{enumerate*}\n",
       "\\item 'А'\n",
       "\\item 'Г'\n",
       "\\item 'В'\n",
       "\\item 'Ж'\n",
       "\\item 'И'\n",
       "\\item 'К'\n",
       "\\end{enumerate*}\n",
       "\n",
       "\\item \\begin{enumerate*}\n",
       "\\item 'А'\n",
       "\\item 'Г'\n",
       "\\item 'В'\n",
       "\\item 'Ж'\n",
       "\\item 'З'\n",
       "\\item 'К'\n",
       "\\end{enumerate*}\n",
       "\n",
       "\\item \\begin{enumerate*}\n",
       "\\item 'А'\n",
       "\\item 'Г'\n",
       "\\item 'В'\n",
       "\\item 'Ж'\n",
       "\\item 'К'\n",
       "\\end{enumerate*}\n",
       "\n",
       "\\item \\begin{enumerate*}\n",
       "\\item 'А'\n",
       "\\item 'Г'\n",
       "\\item 'Е'\n",
       "\\item 'Ж'\n",
       "\\item 'И'\n",
       "\\item 'К'\n",
       "\\end{enumerate*}\n",
       "\n",
       "\\item \\begin{enumerate*}\n",
       "\\item 'А'\n",
       "\\item 'Г'\n",
       "\\item 'Е'\n",
       "\\item 'Ж'\n",
       "\\item 'З'\n",
       "\\item 'К'\n",
       "\\end{enumerate*}\n",
       "\n",
       "\\item \\begin{enumerate*}\n",
       "\\item 'А'\n",
       "\\item 'Г'\n",
       "\\item 'Е'\n",
       "\\item 'Ж'\n",
       "\\item 'К'\n",
       "\\end{enumerate*}\n",
       "\n",
       "\\item \\begin{enumerate*}\n",
       "\\item 'А'\n",
       "\\item 'Г'\n",
       "\\item 'Е'\n",
       "\\item 'З'\n",
       "\\item 'К'\n",
       "\\end{enumerate*}\n",
       "\n",
       "\\end{enumerate}\n"
      ],
      "text/markdown": [
       "1. 1. 'А'\n",
       "2. 'Б'\n",
       "3. 'В'\n",
       "4. 'Д'\n",
       "5. 'Ж'\n",
       "6. 'И'\n",
       "7. 'К'\n",
       "\n",
       "\n",
       "\n",
       "2. 1. 'А'\n",
       "2. 'Б'\n",
       "3. 'В'\n",
       "4. 'Д'\n",
       "5. 'Ж'\n",
       "6. 'З'\n",
       "7. 'К'\n",
       "\n",
       "\n",
       "\n",
       "3. 1. 'А'\n",
       "2. 'Б'\n",
       "3. 'В'\n",
       "4. 'Д'\n",
       "5. 'Ж'\n",
       "6. 'К'\n",
       "\n",
       "\n",
       "\n",
       "4. 1. 'А'\n",
       "2. 'Б'\n",
       "3. 'В'\n",
       "4. 'Д'\n",
       "5. 'И'\n",
       "6. 'К'\n",
       "\n",
       "\n",
       "\n",
       "5. 1. 'А'\n",
       "2. 'Б'\n",
       "3. 'В'\n",
       "4. 'Е'\n",
       "5. 'Ж'\n",
       "6. 'И'\n",
       "7. 'К'\n",
       "\n",
       "\n",
       "\n",
       "6. 1. 'А'\n",
       "2. 'Б'\n",
       "3. 'В'\n",
       "4. 'Е'\n",
       "5. 'Ж'\n",
       "6. 'З'\n",
       "7. 'К'\n",
       "\n",
       "\n",
       "\n",
       "7. 1. 'А'\n",
       "2. 'Б'\n",
       "3. 'В'\n",
       "4. 'Е'\n",
       "5. 'Ж'\n",
       "6. 'К'\n",
       "\n",
       "\n",
       "\n",
       "8. 1. 'А'\n",
       "2. 'Б'\n",
       "3. 'В'\n",
       "4. 'Е'\n",
       "5. 'З'\n",
       "6. 'К'\n",
       "\n",
       "\n",
       "\n",
       "9. 1. 'А'\n",
       "2. 'Б'\n",
       "3. 'В'\n",
       "4. 'Ж'\n",
       "5. 'И'\n",
       "6. 'К'\n",
       "\n",
       "\n",
       "\n",
       "10. 1. 'А'\n",
       "2. 'Б'\n",
       "3. 'В'\n",
       "4. 'Ж'\n",
       "5. 'З'\n",
       "6. 'К'\n",
       "\n",
       "\n",
       "\n",
       "11. 1. 'А'\n",
       "2. 'Б'\n",
       "3. 'В'\n",
       "4. 'Ж'\n",
       "5. 'К'\n",
       "\n",
       "\n",
       "\n",
       "12. 1. 'А'\n",
       "2. 'Б'\n",
       "3. 'Д'\n",
       "4. 'Ж'\n",
       "5. 'И'\n",
       "6. 'К'\n",
       "\n",
       "\n",
       "\n",
       "13. 1. 'А'\n",
       "2. 'Б'\n",
       "3. 'Д'\n",
       "4. 'Ж'\n",
       "5. 'З'\n",
       "6. 'К'\n",
       "\n",
       "\n",
       "\n",
       "14. 1. 'А'\n",
       "2. 'Б'\n",
       "3. 'Д'\n",
       "4. 'Ж'\n",
       "5. 'К'\n",
       "\n",
       "\n",
       "\n",
       "15. 1. 'А'\n",
       "2. 'Б'\n",
       "3. 'Д'\n",
       "4. 'И'\n",
       "5. 'К'\n",
       "\n",
       "\n",
       "\n",
       "16. 1. 'А'\n",
       "2. 'В'\n",
       "3. 'Д'\n",
       "4. 'Ж'\n",
       "5. 'И'\n",
       "6. 'К'\n",
       "\n",
       "\n",
       "\n",
       "17. 1. 'А'\n",
       "2. 'В'\n",
       "3. 'Д'\n",
       "4. 'Ж'\n",
       "5. 'З'\n",
       "6. 'К'\n",
       "\n",
       "\n",
       "\n",
       "18. 1. 'А'\n",
       "2. 'В'\n",
       "3. 'Д'\n",
       "4. 'Ж'\n",
       "5. 'К'\n",
       "\n",
       "\n",
       "\n",
       "19. 1. 'А'\n",
       "2. 'В'\n",
       "3. 'Д'\n",
       "4. 'И'\n",
       "5. 'К'\n",
       "\n",
       "\n",
       "\n",
       "20. 1. 'А'\n",
       "2. 'В'\n",
       "3. 'Е'\n",
       "4. 'Ж'\n",
       "5. 'И'\n",
       "6. 'К'\n",
       "\n",
       "\n",
       "\n",
       "21. 1. 'А'\n",
       "2. 'В'\n",
       "3. 'Е'\n",
       "4. 'Ж'\n",
       "5. 'З'\n",
       "6. 'К'\n",
       "\n",
       "\n",
       "\n",
       "22. 1. 'А'\n",
       "2. 'В'\n",
       "3. 'Е'\n",
       "4. 'Ж'\n",
       "5. 'К'\n",
       "\n",
       "\n",
       "\n",
       "23. 1. 'А'\n",
       "2. 'В'\n",
       "3. 'Е'\n",
       "4. 'З'\n",
       "5. 'К'\n",
       "\n",
       "\n",
       "\n",
       "24. 1. 'А'\n",
       "2. 'В'\n",
       "3. 'Ж'\n",
       "4. 'И'\n",
       "5. 'К'\n",
       "\n",
       "\n",
       "\n",
       "25. 1. 'А'\n",
       "2. 'В'\n",
       "3. 'Ж'\n",
       "4. 'З'\n",
       "5. 'К'\n",
       "\n",
       "\n",
       "\n",
       "26. 1. 'А'\n",
       "2. 'В'\n",
       "3. 'Ж'\n",
       "4. 'К'\n",
       "\n",
       "\n",
       "\n",
       "27. 1. 'А'\n",
       "2. 'Г'\n",
       "3. 'В'\n",
       "4. 'Д'\n",
       "5. 'Ж'\n",
       "6. 'И'\n",
       "7. 'К'\n",
       "\n",
       "\n",
       "\n",
       "28. 1. 'А'\n",
       "2. 'Г'\n",
       "3. 'В'\n",
       "4. 'Д'\n",
       "5. 'Ж'\n",
       "6. 'З'\n",
       "7. 'К'\n",
       "\n",
       "\n",
       "\n",
       "29. 1. 'А'\n",
       "2. 'Г'\n",
       "3. 'В'\n",
       "4. 'Д'\n",
       "5. 'Ж'\n",
       "6. 'К'\n",
       "\n",
       "\n",
       "\n",
       "30. 1. 'А'\n",
       "2. 'Г'\n",
       "3. 'В'\n",
       "4. 'Д'\n",
       "5. 'И'\n",
       "6. 'К'\n",
       "\n",
       "\n",
       "\n",
       "31. 1. 'А'\n",
       "2. 'Г'\n",
       "3. 'В'\n",
       "4. 'Е'\n",
       "5. 'Ж'\n",
       "6. 'И'\n",
       "7. 'К'\n",
       "\n",
       "\n",
       "\n",
       "32. 1. 'А'\n",
       "2. 'Г'\n",
       "3. 'В'\n",
       "4. 'Е'\n",
       "5. 'Ж'\n",
       "6. 'З'\n",
       "7. 'К'\n",
       "\n",
       "\n",
       "\n",
       "33. 1. 'А'\n",
       "2. 'Г'\n",
       "3. 'В'\n",
       "4. 'Е'\n",
       "5. 'Ж'\n",
       "6. 'К'\n",
       "\n",
       "\n",
       "\n",
       "34. 1. 'А'\n",
       "2. 'Г'\n",
       "3. 'В'\n",
       "4. 'Е'\n",
       "5. 'З'\n",
       "6. 'К'\n",
       "\n",
       "\n",
       "\n",
       "35. 1. 'А'\n",
       "2. 'Г'\n",
       "3. 'В'\n",
       "4. 'Ж'\n",
       "5. 'И'\n",
       "6. 'К'\n",
       "\n",
       "\n",
       "\n",
       "36. 1. 'А'\n",
       "2. 'Г'\n",
       "3. 'В'\n",
       "4. 'Ж'\n",
       "5. 'З'\n",
       "6. 'К'\n",
       "\n",
       "\n",
       "\n",
       "37. 1. 'А'\n",
       "2. 'Г'\n",
       "3. 'В'\n",
       "4. 'Ж'\n",
       "5. 'К'\n",
       "\n",
       "\n",
       "\n",
       "38. 1. 'А'\n",
       "2. 'Г'\n",
       "3. 'Е'\n",
       "4. 'Ж'\n",
       "5. 'И'\n",
       "6. 'К'\n",
       "\n",
       "\n",
       "\n",
       "39. 1. 'А'\n",
       "2. 'Г'\n",
       "3. 'Е'\n",
       "4. 'Ж'\n",
       "5. 'З'\n",
       "6. 'К'\n",
       "\n",
       "\n",
       "\n",
       "40. 1. 'А'\n",
       "2. 'Г'\n",
       "3. 'Е'\n",
       "4. 'Ж'\n",
       "5. 'К'\n",
       "\n",
       "\n",
       "\n",
       "41. 1. 'А'\n",
       "2. 'Г'\n",
       "3. 'Е'\n",
       "4. 'З'\n",
       "5. 'К'\n",
       "\n",
       "\n",
       "\n",
       "\n",
       "\n"
      ],
      "text/plain": [
       "[[1]]\n",
       "[1] \"А\" \"Б\" \"В\" \"Д\" \"Ж\" \"И\" \"К\"\n",
       "\n",
       "[[2]]\n",
       "[1] \"А\" \"Б\" \"В\" \"Д\" \"Ж\" \"З\" \"К\"\n",
       "\n",
       "[[3]]\n",
       "[1] \"А\" \"Б\" \"В\" \"Д\" \"Ж\" \"К\"\n",
       "\n",
       "[[4]]\n",
       "[1] \"А\" \"Б\" \"В\" \"Д\" \"И\" \"К\"\n",
       "\n",
       "[[5]]\n",
       "[1] \"А\" \"Б\" \"В\" \"Е\" \"Ж\" \"И\" \"К\"\n",
       "\n",
       "[[6]]\n",
       "[1] \"А\" \"Б\" \"В\" \"Е\" \"Ж\" \"З\" \"К\"\n",
       "\n",
       "[[7]]\n",
       "[1] \"А\" \"Б\" \"В\" \"Е\" \"Ж\" \"К\"\n",
       "\n",
       "[[8]]\n",
       "[1] \"А\" \"Б\" \"В\" \"Е\" \"З\" \"К\"\n",
       "\n",
       "[[9]]\n",
       "[1] \"А\" \"Б\" \"В\" \"Ж\" \"И\" \"К\"\n",
       "\n",
       "[[10]]\n",
       "[1] \"А\" \"Б\" \"В\" \"Ж\" \"З\" \"К\"\n",
       "\n",
       "[[11]]\n",
       "[1] \"А\" \"Б\" \"В\" \"Ж\" \"К\"\n",
       "\n",
       "[[12]]\n",
       "[1] \"А\" \"Б\" \"Д\" \"Ж\" \"И\" \"К\"\n",
       "\n",
       "[[13]]\n",
       "[1] \"А\" \"Б\" \"Д\" \"Ж\" \"З\" \"К\"\n",
       "\n",
       "[[14]]\n",
       "[1] \"А\" \"Б\" \"Д\" \"Ж\" \"К\"\n",
       "\n",
       "[[15]]\n",
       "[1] \"А\" \"Б\" \"Д\" \"И\" \"К\"\n",
       "\n",
       "[[16]]\n",
       "[1] \"А\" \"В\" \"Д\" \"Ж\" \"И\" \"К\"\n",
       "\n",
       "[[17]]\n",
       "[1] \"А\" \"В\" \"Д\" \"Ж\" \"З\" \"К\"\n",
       "\n",
       "[[18]]\n",
       "[1] \"А\" \"В\" \"Д\" \"Ж\" \"К\"\n",
       "\n",
       "[[19]]\n",
       "[1] \"А\" \"В\" \"Д\" \"И\" \"К\"\n",
       "\n",
       "[[20]]\n",
       "[1] \"А\" \"В\" \"Е\" \"Ж\" \"И\" \"К\"\n",
       "\n",
       "[[21]]\n",
       "[1] \"А\" \"В\" \"Е\" \"Ж\" \"З\" \"К\"\n",
       "\n",
       "[[22]]\n",
       "[1] \"А\" \"В\" \"Е\" \"Ж\" \"К\"\n",
       "\n",
       "[[23]]\n",
       "[1] \"А\" \"В\" \"Е\" \"З\" \"К\"\n",
       "\n",
       "[[24]]\n",
       "[1] \"А\" \"В\" \"Ж\" \"И\" \"К\"\n",
       "\n",
       "[[25]]\n",
       "[1] \"А\" \"В\" \"Ж\" \"З\" \"К\"\n",
       "\n",
       "[[26]]\n",
       "[1] \"А\" \"В\" \"Ж\" \"К\"\n",
       "\n",
       "[[27]]\n",
       "[1] \"А\" \"Г\" \"В\" \"Д\" \"Ж\" \"И\" \"К\"\n",
       "\n",
       "[[28]]\n",
       "[1] \"А\" \"Г\" \"В\" \"Д\" \"Ж\" \"З\" \"К\"\n",
       "\n",
       "[[29]]\n",
       "[1] \"А\" \"Г\" \"В\" \"Д\" \"Ж\" \"К\"\n",
       "\n",
       "[[30]]\n",
       "[1] \"А\" \"Г\" \"В\" \"Д\" \"И\" \"К\"\n",
       "\n",
       "[[31]]\n",
       "[1] \"А\" \"Г\" \"В\" \"Е\" \"Ж\" \"И\" \"К\"\n",
       "\n",
       "[[32]]\n",
       "[1] \"А\" \"Г\" \"В\" \"Е\" \"Ж\" \"З\" \"К\"\n",
       "\n",
       "[[33]]\n",
       "[1] \"А\" \"Г\" \"В\" \"Е\" \"Ж\" \"К\"\n",
       "\n",
       "[[34]]\n",
       "[1] \"А\" \"Г\" \"В\" \"Е\" \"З\" \"К\"\n",
       "\n",
       "[[35]]\n",
       "[1] \"А\" \"Г\" \"В\" \"Ж\" \"И\" \"К\"\n",
       "\n",
       "[[36]]\n",
       "[1] \"А\" \"Г\" \"В\" \"Ж\" \"З\" \"К\"\n",
       "\n",
       "[[37]]\n",
       "[1] \"А\" \"Г\" \"В\" \"Ж\" \"К\"\n",
       "\n",
       "[[38]]\n",
       "[1] \"А\" \"Г\" \"Е\" \"Ж\" \"И\" \"К\"\n",
       "\n",
       "[[39]]\n",
       "[1] \"А\" \"Г\" \"Е\" \"Ж\" \"З\" \"К\"\n",
       "\n",
       "[[40]]\n",
       "[1] \"А\" \"Г\" \"Е\" \"Ж\" \"К\"\n",
       "\n",
       "[[41]]\n",
       "[1] \"А\" \"Г\" \"Е\" \"З\" \"К\"\n"
      ]
     },
     "metadata": {},
     "output_type": "display_data"
    }
   ],
   "source": [
    "paths <- all_simple_paths(g2,'А','К')\n",
    "paths <- lapply(1:length(paths), function(x) as_ids(paths[[x]]))\n",
    "paths"
   ]
  },
  {
   "cell_type": "code",
   "execution_count": 48,
   "metadata": {},
   "outputs": [],
   "source": [
    "answer_dictionary[15] <- toString(length(paths))"
   ]
  },
  {
   "cell_type": "markdown",
   "metadata": {},
   "source": [
    "## 16.\n",
    "Укажите через запятую в порядке возрастания все десятичные числа, не превосходящие 23, \n",
    "\n",
    "запись которых в двоичной системе счисления оканчивается на 101.\n",
    "\n",
    "Indicate in descending order comma separated all decimal numbers not exceeding 23, \n",
    "\n",
    "the record of which in the binary system is ended with 101."
   ]
  },
  {
   "cell_type": "code",
   "execution_count": 50,
   "metadata": {},
   "outputs": [
    {
     "data": {
      "text/html": [
       "'10111'"
      ],
      "text/latex": [
       "'10111'"
      ],
      "text/markdown": [
       "'10111'"
      ],
      "text/plain": [
       "[1] \"10111\""
      ]
     },
     "metadata": {},
     "output_type": "display_data"
    }
   ],
   "source": [
    "# 23 в бинарной системе счисления\n",
    "# 23 from decimal to binary\n",
    "dec2bin(23)"
   ]
  },
  {
   "cell_type": "code",
   "execution_count": 57,
   "metadata": {},
   "outputs": [
    {
     "data": {
      "text/html": [
       "<ol class=list-inline>\n",
       "\t<li>5</li>\n",
       "\t<li>13</li>\n",
       "\t<li>21</li>\n",
       "</ol>\n"
      ],
      "text/latex": [
       "\\begin{enumerate*}\n",
       "\\item 5\n",
       "\\item 13\n",
       "\\item 21\n",
       "\\end{enumerate*}\n"
      ],
      "text/markdown": [
       "1. 5\n",
       "2. 13\n",
       "3. 21\n",
       "\n",
       "\n"
      ],
      "text/plain": [
       "[1]  5 13 21"
      ]
     },
     "metadata": {},
     "output_type": "display_data"
    }
   ],
   "source": [
    "# возможные бинарные сочетания (<= 23) оканчивающиеся на 101: 101, 1101, 10101\n",
    "# possible binary combinations (<= 23) ending with 101: 101, 1101, 10101\n",
    "result <- c(bin2dec('101'), bin2dec('1101'), bin2dec('10101'))\n",
    "result"
   ]
  },
  {
   "cell_type": "code",
   "execution_count": 58,
   "metadata": {},
   "outputs": [],
   "source": [
    "answer_dictionary[16] <- toString(result)"
   ]
  },
  {
   "cell_type": "markdown",
   "metadata": {},
   "source": [
    "## 17.\n",
    "В языке запросов к поисковому серверу для обозначения \n",
    "\n",
    "- логической операции $«ИЛИ»$ используется символ $\\mid$, \n",
    "- а для логической операции $«И»$ — $\\&$. \n",
    "\n",
    "В таблице приведено количество страниц, которое находит поисковая система по каждому запросу.\n",
    "\n",
    "- `Запрос` -> `Количество найденных страниц`\n",
    "\n",
    "- `(Клавиатура | Мышь) & Джойстик` -> `11700`\n",
    "\n",
    "- `Клавиатура & Джойстик` -> `7300`\n",
    "\n",
    "- `Мышь & Джойстик` -> `5900`\n",
    "\n",
    "Какое количество страниц будет найдено по запросу:  `Клавиатура & Мышь & Джойстик`?\n",
    "\n",
    "Считается, что все запросы выполнялись практически одновременно, \n",
    "\n",
    "так что набор страниц, содержащих все искомые слова, не изменялся за время выполнения запросов.\n",
    "\n",
    "---\n",
    "\n",
    "In the query language to the search server, \n",
    "\n",
    "- the symbol $\\mid$ is used to indicate the logical operation $\"OR\"$, \n",
    "- and for the logical operation $\"AND\"$ - $\\&$. \n",
    "\n",
    "The table shows the number of pages that the search engine finds for each query.\n",
    "\n",
    "- `Query` -> `Number of pages found`\n",
    "\n",
    "- `(Keyboard | Mouse) & Joystick` -> `11700`\n",
    "\n",
    "- `Keyboard & Joystick` -> `7300`\n",
    "\n",
    "- `Mouse & Joystick` -> `5900`\n",
    "\n",
    "How many pages will be found on:  `Keyboard & Mouse & Joystick`?\n",
    "\n",
    "It is assumed that all queries were executed almost simultaneously \n",
    "\n",
    "so that the set of pages containing all the searched words did not change during the execution of queries."
   ]
  },
  {
   "cell_type": "markdown",
   "metadata": {},
   "source": [
    "`(Клавиатура | Мышь) & Джойстик` = `Клавиатура & Джойстик` | `Мышь & Джойстик`\n",
    "\n",
    "`Клавиатура & Мышь & Джойстик` = `Клавиатура & Джойстик` + `Мышь & Джойстик` - (`Клавиатура & Джойстик` | `Мышь & Джойстик`)\n",
    "\n",
    "---\n",
    "\n",
    "`(Keyboard | Mouse) & Joystick` = `Keyboard & Joystick` | `Mouse & Joystick` \n",
    "\n",
    "`Keyboard & Mouse & Joystick` = `Keyboard & Joystick` + `Mouse & Joystick` - (`Keyboard & Joystick` | `Mouse & Joystick`)"
   ]
  },
  {
   "cell_type": "code",
   "execution_count": 60,
   "metadata": {},
   "outputs": [],
   "source": [
    "Keyboard_and_Joystick <- 7300\n",
    "Mouse_and_Joystick <- 5900\n",
    "Keyboard_or_Mouse_and_Joystick <- 11700\n",
    "\n",
    "Keyboard_and_Mouse_and_Joystick <- Keyboard_and_Joystick + \n",
    "Mouse_and_Joystick - Keyboard_or_Mouse_and_Joystick"
   ]
  },
  {
   "cell_type": "code",
   "execution_count": 66,
   "metadata": {},
   "outputs": [
    {
     "data": {
      "image/png": "[encoded data removed]",
      "text/plain": [
       "plot without title"
      ]
     },
     "metadata": {},
     "output_type": "display_data"
    }
   ],
   "source": [
    "options(repr.plot.width=4,repr.plot.height=4)\n",
    "venn.plot <- draw.pairwise.venn(\n",
    "    area1 = Keyboard_and_Joystick, area2 = Mouse_and_Joystick, \n",
    "    cross.area = Keyboard_and_Mouse_and_Joystick,\n",
    "    category = c(\"Keyboard & Joystick\", \"Mouse & Joystick\"),\n",
    "    fill = c(\"steelblue\", \"coral\"),\n",
    "    lty = \"blank\",\n",
    "    cex = 1.5, cat.cex = 1.5, \n",
    "    cat.dist = c(0.12, 0.1), cat.pos = c(0, 6),\n",
    "    cat.col = c(\"steelblue\", \"coral\")\n",
    ");\n",
    "grid.draw(venn.plot);"
   ]
  },
  {
   "cell_type": "code",
   "execution_count": 67,
   "metadata": {},
   "outputs": [],
   "source": [
    "answer_dictionary[17] <- toString(Keyboard_and_Mouse_and_Joystick)"
   ]
  },
  {
   "cell_type": "markdown",
   "metadata": {},
   "source": [
    "## 18.\n",
    "Какое наибольшее целое число удовлетворяет логическому условию: \n",
    "\n",
    "What is the largest integer that satisfies the logical condition:\n",
    "\n",
    "$\\neg ((X^2 < 100) \\land (X \\geq 6)) \\land \\neg (X \\geq 15))$?"
   ]
  },
  {
   "cell_type": "markdown",
   "metadata": {},
   "source": [
    "$\\neg ((X^2 < 100) \\land (X \\geq 6)) \\land \\neg (X \\geq 15)) \\iff \\\\ \n",
    "\\neg (6 \\leq X < 10) \\land \\neg (X \\geq 15) \\iff \\\\\n",
    "((X < 6) \\lor (X \\geq 10)) \\land (X < 15) \\iff \\\\\n",
    "(X < 6) \\lor (10 \\leq X < 15)$"
   ]
  },
  {
   "cell_type": "code",
   "execution_count": 69,
   "metadata": {},
   "outputs": [],
   "source": [
    "answer_dictionary[18] <- toString(14)"
   ]
  },
  {
   "cell_type": "markdown",
   "metadata": {},
   "source": [
    "## 19.\n",
    "В программе используется целочисленный массив `А` с индексами от `0` до `9`. \n",
    "\n",
    "Значения элементов массива равны $4; 5; 4; 7; 10; 8; 9; 11; 7; 8$ соответственно, т.е. $А[0] = 4; \\; А[1] = 5$ и т.д.\n",
    "\n",
    "Определите значение переменной `k` после выполнения следующего фрагмента программы, \n",
    "\n",
    "записанной ниже на разных языках программирования.\n",
    "\n",
    "---\n",
    "\n",
    "The program uses an integer array `A` with indices from `0` to `9`.\n",
    "\n",
    "Values of array elements are equal to $4; 5; 4; 7; 10; 8; 9; 11; 7; 8$ respectively, i.e. $А[0] = 4; \\; А[1] = 5$, etc.\n",
    "\n",
    "Determine the value of the variable `k` after the execution of the next program fragment, \n",
    "\n",
    "recorded below in different programming languages.\n",
    "\n",
    "<table style=\"width:95%;\">\n",
    "  <tr style=\"color:slategray;font-size:120%;font-family:'Roboto';\">\n",
    "    <th style=\"text-align:center;\">Python</th> \n",
    "    <th style=\"text-align:center;\">R</th>          \n",
    "  </tr>\n",
    "  <tr>\n",
    "    <td style=\"font-weight:bold;text-align:left;\"><pre><code class='python'>\n",
    "A = [4,5,4,7,10,8,9,11,7,8]\n",
    "k = 10\n",
    "\n",
    "for i in range(9): \n",
    "    if (A[9-i] > A[8-i]):\n",
    "        A[8-i] = A[9-i]\n",
    "        k -= 1    \n",
    "    </code></pre></td> \n",
    "    <td style=\"font-weight:bold;text-align:left;\"><pre><code class='r'>\n",
    "    \n",
    "A <- c(4,5,4,7,10,8,9,11,7,8)\n",
    "k <- 10\n",
    "\n",
    "for (i in 0:8) { \n",
    "    if (A[10-i] > A[9-i]) {\n",
    "        A[9-i] <- A[10-i]\n",
    "        k <- k - 1\n",
    "    }\n",
    "}\n",
    "    </code></pre></td>     \n",
    "  </tr>    \n",
    "</table>"
   ]
  },
  {
   "cell_type": "code",
   "execution_count": 71,
   "metadata": {},
   "outputs": [
    {
     "data": {
      "text/html": [
       "2"
      ],
      "text/latex": [
       "2"
      ],
      "text/markdown": [
       "2"
      ],
      "text/plain": [
       "[1] 2"
      ]
     },
     "metadata": {},
     "output_type": "display_data"
    }
   ],
   "source": [
    "A <- c(4,5,4,7,10,8,9,11,7,8)\n",
    "k <- 10\n",
    "\n",
    "for (i in 0:8) { \n",
    "    if (A[10-i] > A[9-i]) {\n",
    "        A[9-i] <- A[10-i]\n",
    "        k <- k - 1\n",
    "    }\n",
    "}\n",
    "\n",
    "k"
   ]
  },
  {
   "cell_type": "code",
   "execution_count": 72,
   "metadata": {},
   "outputs": [],
   "source": [
    "answer_dictionary[19] <- toString(k)"
   ]
  },
  {
   "cell_type": "markdown",
   "metadata": {},
   "source": [
    "## 20."
   ]
  },
  {
   "cell_type": "code",
   "execution_count": null,
   "metadata": {},
   "outputs": [],
   "source": []
  },
  {
   "cell_type": "markdown",
   "metadata": {},
   "source": [
    "## 21."
   ]
  },
  {
   "cell_type": "code",
   "execution_count": null,
   "metadata": {},
   "outputs": [],
   "source": []
  },
  {
   "cell_type": "markdown",
   "metadata": {},
   "source": [
    "## 22."
   ]
  },
  {
   "cell_type": "code",
   "execution_count": null,
   "metadata": {},
   "outputs": [],
   "source": []
  },
  {
   "cell_type": "markdown",
   "metadata": {},
   "source": [
    "## 23."
   ]
  },
  {
   "cell_type": "code",
   "execution_count": null,
   "metadata": {},
   "outputs": [],
   "source": []
  },
  {
   "cell_type": "markdown",
   "metadata": {},
   "source": [
    "## Часть 2 &nbsp; &nbsp; &nbsp;​ Part 2\n",
    "## 24."
   ]
  },
  {
   "cell_type": "code",
   "execution_count": null,
   "metadata": {},
   "outputs": [],
   "source": []
  },
  {
   "cell_type": "markdown",
   "metadata": {},
   "source": [
    "## 25."
   ]
  },
  {
   "cell_type": "code",
   "execution_count": null,
   "metadata": {},
   "outputs": [],
   "source": []
  },
  {
   "cell_type": "markdown",
   "metadata": {},
   "source": [
    "## 26."
   ]
  },
  {
   "cell_type": "code",
   "execution_count": null,
   "metadata": {},
   "outputs": [],
   "source": []
  },
  {
   "cell_type": "markdown",
   "metadata": {},
   "source": [
    "## 27."
   ]
  },
  {
   "cell_type": "markdown",
   "metadata": {},
   "source": [
    "## Ответы &nbsp; &nbsp; &nbsp; Answers"
   ]
  },
  {
   "cell_type": "code",
   "execution_count": 75,
   "metadata": {},
   "outputs": [
    {
     "data": {
      "text/plain": [
       "<hash> containing 18 key-value pair(s).\n",
       "  1 : 3\n",
       "  10 : 62\n",
       "  11 : 15\n",
       "  12 : FCDA\n",
       "  13 : 400\n",
       "  15 : 41\n",
       "  16 : 5, 13, 21\n",
       "  17 : 1500\n",
       "  18 : 14\n",
       "  19 : 2\n",
       "  2 : 34\n",
       "  3 : 17:25\n",
       "  4 : 3\n",
       "  5 : 101\n",
       "  6 : DBx\n",
       "  7 : 2\n",
       "  8 : 33\n",
       "  9 : 2048"
      ]
     },
     "metadata": {},
     "output_type": "display_data"
    }
   ],
   "source": [
    "answer_dictionary"
   ]
  },
  {
   "cell_type": "code",
   "execution_count": null,
   "metadata": {},
   "outputs": [],
   "source": []
  }
 ],
 "metadata": {
  "kernelspec": {
   "display_name": "R",
   "language": "R",
   "name": "ir"
  },
  "language_info": {
   "codemirror_mode": "r",
   "file_extension": ".r",
   "mimetype": "text/x-r-source",
   "name": "R",
   "pygments_lexer": "r",
   "version": "3.5.0"
  }
 },
 "nbformat": 4,
 "nbformat_minor": 2
}
