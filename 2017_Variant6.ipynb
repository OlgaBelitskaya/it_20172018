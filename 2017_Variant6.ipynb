{
 "cells": [
  {
   "cell_type": "markdown",
   "metadata": {},
   "source": [
    "# ЕГЭ 2017 Вариант 6 &nbsp; &nbsp; &nbsp; EGE 2017 Variant 6\n",
    "### The variant from the book was used: [ЕГЭ-2017. Информатика.10 тренировочных вариантов. Ушаков Д.М.](https://drive.google.com/file/d/0B6696ckkWj_zS2ptblAxNERHZzQ/view)\n",
    "## Часть 1 &nbsp; &nbsp; &nbsp; Part 1"
   ]
  },
  {
   "cell_type": "code",
   "execution_count": 1,
   "metadata": {},
   "outputs": [
    {
     "data": {
      "text/html": [
       "<style>\n",
       "@import url('https://fonts.googleapis.com/css?family=Roboto&effect=3d|3d-float|anaglyph|brick-sign|canvas-print|');\n",
       "body {background-color: aliceblue;} \n",
       "a {color: #4876ff; font-family: 'Roboto';} \n",
       "h1 {color: #348ABD; font-family: 'Roboto'; text-shadow: 4px 4px 4px #aaa;} \n",
       "h2, h3 {color: gray; font-family: 'Roboto'; text-shadow: 4px 4px 4px #aaa;}\n",
       "h4 {color: #348ABD; font-family: 'Roboto';}\n",
       "span {text-shadow: 4px 4px 4px #aaa;}\n",
       "div.output_prompt, div.output_area pre, div.output_subarea {color: gray;}\n",
       "div.input_prompt {color: #4876ff;}      \n",
       "div.output_stderr pre {background-color: aliceblue;}  \n",
       "div.output_stderr {background-color: gray;}                        \n",
       "</style>"
      ],
      "text/plain": [
       "<IPython.core.display.HTML object>"
      ]
     },
     "metadata": {},
     "output_type": "display_data"
    }
   ],
   "source": [
    "%%html\n",
    "<style>\n",
    "@import url('https://fonts.googleapis.com/css?family=Roboto&effect=3d|3d-float|anaglyph|brick-sign|canvas-print|');\n",
    "body {background-color: aliceblue;} \n",
    "a {color: #4876ff; font-family: 'Roboto';} \n",
    "h1 {color: #348ABD; font-family: 'Roboto'; text-shadow: 4px 4px 4px #aaa;} \n",
    "h2, h3 {color: gray; font-family: 'Roboto'; text-shadow: 4px 4px 4px #aaa;}\n",
    "h4 {color: #348ABD; font-family: 'Roboto';}\n",
    "span {text-shadow: 4px 4px 4px #aaa;}\n",
    "div.output_prompt, div.output_area pre, div.output_subarea {color: gray;}\n",
    "div.input_prompt {color: #4876ff;}      \n",
    "div.output_stderr pre {background-color: aliceblue;}  \n",
    "div.output_stderr {background-color: gray;}                        \n",
    "</style>"
   ]
  },
  {
   "cell_type": "code",
   "execution_count": 1,
   "metadata": {},
   "outputs": [],
   "source": [
    "answer_dictionary = dict()"
   ]
  },
  {
   "cell_type": "markdown",
   "metadata": {},
   "source": [
    "<div style=\"width: 800px; height: 90px; overflow:auto;\">\n",
    "    <img src=\"it_images/2017_06_01.png\" width=\"800\" height=\"90\"/>\n",
    "</div>"
   ]
  },
  {
   "cell_type": "markdown",
   "metadata": {},
   "source": [
    "Даны 4 целых числа, записанных различных системах счисления: $9F_{16}$, $10110110_2$, $274_8$, $CE_{16}$. \n",
    "\n",
    "Сколько среди них чисел, значение которых лежит между $A5_{16}$ и $CD_{16}$?\n",
    "\n",
    "---\n",
    "\n",
    "There are four integers written in different number systems: $9F_{16}$, $10110110_2$, $274_8$, $CE_{16}$.\n",
    "\n",
    "How many of them have the value between $A5_{16}$ and $CD_{16}$?"
   ]
  },
  {
   "cell_type": "code",
   "execution_count": 4,
   "metadata": {},
   "outputs": [
    {
     "data": {
      "text/plain": [
       "(159, 181, 188, 206)"
      ]
     },
     "execution_count": 4,
     "metadata": {},
     "output_type": "execute_result"
    }
   ],
   "source": [
    "int('9F', 16), int('10110101', 2), int('274', 8), int('CE', 16)"
   ]
  },
  {
   "cell_type": "code",
   "execution_count": 5,
   "metadata": {},
   "outputs": [
    {
     "data": {
      "text/plain": [
       "(165, 205)"
      ]
     },
     "execution_count": 5,
     "metadata": {},
     "output_type": "execute_result"
    }
   ],
   "source": [
    "int('A5', 16), int('CD', 16)"
   ]
  },
  {
   "cell_type": "code",
   "execution_count": 6,
   "metadata": {},
   "outputs": [
    {
     "name": "stdout",
     "output_type": "stream",
     "text": [
      "\n",
      " Answer: 2\n"
     ]
    }
   ],
   "source": [
    "c=0\n",
    "for el in [int('9F', 16), int('10110101', 2), int('274', 8), int('CE', 16)]:\n",
    "    if el > int('A5', 16) and el < int('CD', 16): c+=1\n",
    "        \n",
    "answer_dictionary[1]=str(c)\n",
    "print (\"\\n\",\"Answer:\",answer_dictionary[1]) "
   ]
  },
  {
   "cell_type": "markdown",
   "metadata": {},
   "source": [
    "<div style=\"width: 800px; height: 350px; overflow:auto;\">\n",
    "    <img src=\"it_images/2017_06_02.png\" width=\"800\" height=\"350\"/>\n",
    "</div>"
   ]
  },
  {
   "cell_type": "markdown",
   "metadata": {},
   "source": [
    "Дан фрагмент таблицы истинности выражения $F$. Значения в пустых клетках таблицы неизвестны и могут быть любыми из возможных.\n",
    "\n",
    "---\n",
    "\n",
    "A fragment of the truth table of the expression $ F $ is given. Values in blank cells are unknown and can be any of the possible ones.\n",
    "\n",
    "| $x_1$ | $x_2$ | $x_3$ | $F$ |\n",
    "|:-:|:-:|:-:|:-:|\n",
    "|   | 1 | 1 | 1 |\n",
    "| 0 |   | 0 | 0 |\n",
    "| 1 | 1 |   | 1 |\n",
    "\n",
    "Перечислите в порядке возрастания без запятых и пробелов номера логических выражений, которые могут соответствовать $F$:\n",
    "\n",
    "---\n",
    "\n",
    "List the numbers of logical expressions that can correspond to $ F $ in ascending order without commas and spaces:\n",
    "\n",
    "1) $\\neg x_1 \\lor x_2 \\lor \\neg x_3$\n",
    "\n",
    "2) $x_1 \\land x_2 \\land x_3$\n",
    "\n",
    "3) $x_1 \\land x_2 \\land \\neg x_3$\n",
    "\n",
    "4) $x_1 \\lor x_2 \\lor x_3$\n",
    "\n",
    "5) $x_1 \\land x_2 \\lor x_3$"
   ]
  },
  {
   "cell_type": "code",
   "execution_count": 16,
   "metadata": {},
   "outputs": [],
   "source": [
    "def f1(x1,x2,x3): return (not x1 or x2 or not x3)\n",
    "def f2(x1,x2,x3): return (x1 and x2 and x3)\n",
    "def f3(x1,x2,x3): return (x1 and x2 and not x3)\n",
    "def f4(x1,x2,x3): return (x1 or x2 or x3)\n",
    "def f5(x1,x2,x3): return (x1 and x2 or x3)\n",
    "\n",
    "def find_logic_exp(function):\n",
    "    c = 0\n",
    "    if function(1,1,1) == 1 and function(0,1,1) == 1:\n",
    "        c += 1\n",
    "    if function(0,1,0) == 0 and function(0,0,0) == 0:\n",
    "        c += 1\n",
    "    if function(1,1,0) == 1 and function(1,1,1) == 1:\n",
    "        c += 1\n",
    "    if c == 3:\n",
    "        return True\n",
    "    else:\n",
    "        return False\n",
    "\n",
    "result = ''\n",
    "for i, function in enumerate([f1, f2, f3, f4, f5]):\n",
    "    if find_logic_exp(function) == True:\n",
    "        result += str(i + 1)"
   ]
  },
  {
   "cell_type": "code",
   "execution_count": 17,
   "metadata": {},
   "outputs": [
    {
     "name": "stdout",
     "output_type": "stream",
     "text": [
      "\n",
      " Answer: 5\n"
     ]
    }
   ],
   "source": [
    "answer_dictionary[2] = result\n",
    "print (\"\\n\",\"Answer:\",answer_dictionary[2]) "
   ]
  },
  {
   "cell_type": "markdown",
   "metadata": {},
   "source": [
    "<div style=\"width: 800px; height: 370px; overflow:auto;\">\n",
    "    <img src=\"it_images/2017_06_03.png\" width=\"800\" height=\"370\"/>\n",
    "</div>"
   ]
  },
  {
   "cell_type": "markdown",
   "metadata": {},
   "source": [
    "Между населёнными пунктами A, B, C, D, E, F построены дороги, протяжённость которых приведена в таблице. \n",
    "\n",
    "(Отсутствие числа в таблице означает, что прямой дороги между пунктами нет.)\n",
    "\n",
    "Определите длину кратчайшего пути между пунктами А и F \n",
    "\n",
    "(при условии, что передвигаться можно только по построенным дорогам).\n",
    "\n",
    "---\n",
    "\n",
    "Between the settlements A, B, C, D, E, F roads are constructed, the length of them is given in the table. \n",
    "\n",
    "(The absence of a number in the table means that there is no direct road between these points.)\n",
    "\n",
    "Determine the length of the shortest path between points A and F \n",
    "\n",
    "(on the condition that it is possible move only along the constructed roads).\n",
    "\n",
    "| &#x123CF; | A | B | C | D | E | F |\n",
    "|:-:|:-:|:-:|:-:|:-:|:-:|:-:|\n",
    "| **A** | &#x123CF; | 7 | 2 |   |   |   |\n",
    "| **B** | 7 | &#x123CF; | 4 | 2 | 2 | 4 |\n",
    "| **C** | 2 | 4 | &#x123CF; | 5 | 1 |   |\n",
    "| **D** |   | 2 | 5 | &#x123CF; | 4 | 3 |\n",
    "| **E** |   | 2 | 1 | 4 | &#x123CF; | 8 |\n",
    "| **F** |   | 4 |   | 3 | 8 | &#x123CF; |"
   ]
  },
  {
   "cell_type": "code",
   "execution_count": 9,
   "metadata": {},
   "outputs": [
    {
     "data": {
      "text/html": [
       "<div>\n",
       "<style scoped>\n",
       "    .dataframe tbody tr th:only-of-type {\n",
       "        vertical-align: middle;\n",
       "    }\n",
       "\n",
       "    .dataframe tbody tr th {\n",
       "        vertical-align: top;\n",
       "    }\n",
       "\n",
       "    .dataframe thead th {\n",
       "        text-align: right;\n",
       "    }\n",
       "</style>\n",
       "<table border=\"1\" class=\"dataframe\">\n",
       "  <thead>\n",
       "    <tr style=\"text-align: right;\">\n",
       "      <th></th>\n",
       "      <th>A</th>\n",
       "      <th>B</th>\n",
       "      <th>C</th>\n",
       "      <th>D</th>\n",
       "      <th>E</th>\n",
       "      <th>F</th>\n",
       "    </tr>\n",
       "  </thead>\n",
       "  <tbody>\n",
       "    <tr>\n",
       "      <th>A</th>\n",
       "      <td>0</td>\n",
       "      <td>7</td>\n",
       "      <td>2</td>\n",
       "      <td>0</td>\n",
       "      <td>0</td>\n",
       "      <td>0</td>\n",
       "    </tr>\n",
       "    <tr>\n",
       "      <th>B</th>\n",
       "      <td>7</td>\n",
       "      <td>0</td>\n",
       "      <td>4</td>\n",
       "      <td>2</td>\n",
       "      <td>2</td>\n",
       "      <td>4</td>\n",
       "    </tr>\n",
       "    <tr>\n",
       "      <th>C</th>\n",
       "      <td>2</td>\n",
       "      <td>4</td>\n",
       "      <td>0</td>\n",
       "      <td>5</td>\n",
       "      <td>1</td>\n",
       "      <td>0</td>\n",
       "    </tr>\n",
       "    <tr>\n",
       "      <th>D</th>\n",
       "      <td>0</td>\n",
       "      <td>2</td>\n",
       "      <td>5</td>\n",
       "      <td>0</td>\n",
       "      <td>4</td>\n",
       "      <td>3</td>\n",
       "    </tr>\n",
       "    <tr>\n",
       "      <th>E</th>\n",
       "      <td>0</td>\n",
       "      <td>2</td>\n",
       "      <td>1</td>\n",
       "      <td>4</td>\n",
       "      <td>0</td>\n",
       "      <td>8</td>\n",
       "    </tr>\n",
       "    <tr>\n",
       "      <th>F</th>\n",
       "      <td>0</td>\n",
       "      <td>4</td>\n",
       "      <td>0</td>\n",
       "      <td>3</td>\n",
       "      <td>8</td>\n",
       "      <td>0</td>\n",
       "    </tr>\n",
       "  </tbody>\n",
       "</table>\n",
       "</div>"
      ],
      "text/plain": [
       "   A  B  C  D  E  F\n",
       "A  0  7  2  0  0  0\n",
       "B  7  0  4  2  2  4\n",
       "C  2  4  0  5  1  0\n",
       "D  0  2  5  0  4  3\n",
       "E  0  2  1  4  0  8\n",
       "F  0  4  0  3  8  0"
      ]
     },
     "execution_count": 9,
     "metadata": {},
     "output_type": "execute_result"
    }
   ],
   "source": [
    "import networkx as nx\n",
    "import pandas\n",
    "import matplotlib.pyplot as plt\n",
    "%matplotlib inline\n",
    "\n",
    "df = pandas.DataFrame(index=['A', 'B', 'C', 'D', 'E', 'F'], \n",
    "                      columns=['A', 'B', 'C', 'D', 'E', 'F'])\n",
    "df = df.fillna(0) \n",
    "df['A']['B'], df['A']['C'] = 7, 2\n",
    "df['B']['A'], df['B']['C'], df['B']['D'], df['B']['E'], df['B']['F'] = 7, 4, 2, 2, 4\n",
    "df['C']['A'], df['C']['B'], df['C']['D'], df['C']['E'] = 2, 4, 5, 1\n",
    "df['D']['B'], df['D']['C'], df['D']['E'], df['D']['F'] = 2, 5, 4, 3\n",
    "df['E']['B'], df['E']['C'], df['E']['D'], df['E']['F'] = 2, 1, 4, 8\n",
    "df['F']['B'], df['F']['D'], df['F']['E'] = 4, 3, 8\n",
    "df"
   ]
  },
  {
   "cell_type": "code",
   "execution_count": 10,
   "metadata": {},
   "outputs": [
    {
     "data": {
      "image/png": "[encoded data removed]",
      "text/plain": [
       "<matplotlib.figure.Figure at 0x104a8cc18>"
      ]
     },
     "metadata": {},
     "output_type": "display_data"
    }
   ],
   "source": [
    "plt.figure(figsize=(12,6))\n",
    "G=nx.from_pandas_adjacency(df)\n",
    "pos=nx.shell_layout(G) \n",
    "\n",
    "nx.draw_networkx_nodes(G,pos,node_size=1000,node_shape=\"h\",\n",
    "                       node_color='steelblue')\n",
    "nx.draw_networkx_labels(G,pos,font_size=20,font_weight='bold')\n",
    "nx.draw_networkx_edges(G,pos,width=3,alpha=0.7,\n",
    "                       edge_color='steelblue',style='dashed')\n",
    "edge_labels=\\\n",
    "dict([((u,v,),d['weight']) for u,v,d in G.edges(data=True)])\n",
    "nx.draw_networkx_edge_labels(G,pos,font_size=20,font_weight='bold', \n",
    "                             label_pos=0.2, edge_labels=edge_labels)\n",
    "\n",
    "path_edges = [('A','C'), ('C','E'), ('E','B'), ('B','F')]\n",
    "\n",
    "nx.draw_networkx_edges(G, pos, width=3, edgelist=path_edges,\n",
    "                        alpha=0.5, edge_color='darkred',\n",
    "                        arrowsize=70, arrowstyle='-|>')\n",
    "plt.axis('off');"
   ]
  },
  {
   "cell_type": "code",
   "execution_count": 11,
   "metadata": {},
   "outputs": [
    {
     "data": {
      "text/plain": [
       "['A', 'C', 'E', 'B', 'F']"
      ]
     },
     "execution_count": 11,
     "metadata": {},
     "output_type": "execute_result"
    }
   ],
   "source": [
    "# check the decision method\n",
    "nx.shortest_path(G,'A', 'F', weight='weight')"
   ]
  },
  {
   "cell_type": "code",
   "execution_count": 12,
   "metadata": {},
   "outputs": [
    {
     "name": "stdout",
     "output_type": "stream",
     "text": [
      "Answer: 9\n"
     ]
    }
   ],
   "source": [
    "length = G['A']['C']['weight'] + G['C']['E']['weight'] + \\\n",
    "         G['E']['B']['weight']+ G['B']['F']['weight']\n",
    "    \n",
    "answer_dictionary[3]=str(length)\n",
    "print(\"Answer:\", answer_dictionary[3])"
   ]
  },
  {
   "cell_type": "markdown",
   "metadata": {},
   "source": [
    "<div style=\"width: 800px; height: 200px; overflow:auto;\">\n",
    "    <img src=\"it_images/2017_06_04.png\" width=\"800\" height=\"200\"/>\n",
    "</div>"
   ]
  },
  {
   "cell_type": "markdown",
   "metadata": {},
   "source": [
    "В папке `D:\\Pictures\\School` находятся следующие файлы и только они:\n",
    "\n",
    "`kino.gif`\n",
    "\n",
    "`vano.jpg`\n",
    "\n",
    "`ono.jpg`\n",
    "\n",
    "`domino.gif`\n",
    "\n",
    "`no.jpg`\n",
    "\n",
    "К этим файлам применили следующую операцию: \n",
    "\n",
    "файлы, имена которых удовлетворяют маске `*?no.*g*` переместили в папку `\"..\"` относительно текущей. \n",
    "\n",
    "Сколько файлов останется в исходной папке?\n",
    "\n",
    "---\n",
    "\n",
    "In the folder `D:\\Pictures\\School` there are only the following files:\n",
    "\n",
    "`kino.gif`\n",
    "\n",
    "`vano.jpg`\n",
    "\n",
    "`ono.jpg`\n",
    "\n",
    "`domino.gif`\n",
    "\n",
    "`no.jpg`\n",
    "\n",
    "The operation was applied to them: \n",
    "\n",
    "files which names satisfy the mask `*?no.*g*` were moved to the folder `\"..\"` relatively to the current one.\n",
    "\n",
    "How many files will remain in the source folder?"
   ]
  },
  {
   "cell_type": "code",
   "execution_count": 14,
   "metadata": {},
   "outputs": [
    {
     "name": "stdout",
     "output_type": "stream",
     "text": [
      "\n",
      " Answer: 1\n"
     ]
    }
   ],
   "source": [
    "import fnmatch\n",
    "import os\n",
    "mask = '*?no.*g*'\n",
    "file_list = ['kino.gif', 'vano.jpg', 'ono.jpg', 'domino.gif', 'no.jpg']\n",
    "count = len(file_list)\n",
    "\n",
    "for file in file_list:\n",
    "    if fnmatch.fnmatch(file, mask): \n",
    "        count -= 1\n",
    "\n",
    "answer_dictionary[4] = str(count)       \n",
    "print(\"\\n\",\"Answer:\",answer_dictionary[4])"
   ]
  },
  {
   "cell_type": "code",
   "execution_count": 15,
   "metadata": {},
   "outputs": [
    {
     "name": "stdout",
     "output_type": "stream",
     "text": [
      "(?s:.*.no\\..*g.*)\\Z\n"
     ]
    }
   ],
   "source": [
    "print(fnmatch.translate(mask))"
   ]
  },
  {
   "cell_type": "markdown",
   "metadata": {},
   "source": [
    "<div style=\"width: 800px; height: 200px; overflow:auto;\">\n",
    "    <img src=\"it_images/2017_06_05.png\" width=\"800\" height=\"200\"/>\n",
    "</div>"
   ]
  },
  {
   "cell_type": "markdown",
   "metadata": {},
   "source": [
    "Для кодирования некоторой последовательности, состоящей из букв `A`, `B`, `C`, `D` и `E`, используется неравномерный двоичный код, позволяющий однозначно декодировать полученную двоичную последовательность. \n",
    "\n",
    "Вот этот код: <i style=\"font-size:120%;\" class=\"font-effect-canvas-print\">`A-111`, `B-101`, `C-100`, `D-01`, `E-110`</i>. \n",
    "\n",
    "Можно ли сократить для одной или нескольких букв длину кодового слова, удалив в нём один или несколько последних символов, чтобы код по-прежнему можно было декодировать однозначно?\n",
    "\n",
    "Запишите ответ в виде: буква, кодовое слово. Например, если бы ответ был «Для буквы `F` новый код будет `110`», ответ нужно записать как: <i style=\"font-size:120%;\" class=\"font-effect-canvas-print\">`F110`</i>. Если невозможно ничего сократить, запишите в ответе просто цифру `0`.\n",
    "\n",
    "---\n",
    "\n",
    "To encode some sequence consisting of the letters `A`, ` B`,  `C`, ` D` and `E`, an unequal binary code is used, which uniquely decodes the resulting binary sequence.\n",
    "\n",
    "Here is the code:  <i style=\"font-size:120%;\" class=\"font-effect-canvas-print\">`A-111`, `B-101`, `C-100`, `D-01`, `E-110`</i>.\n",
    "\n",
    "Is it possible to shorten the length of a codeword for one or more letters by deleting one or more of the last characters in it so that the code can still be decoded uniquely?\n",
    "\n",
    "Write down the answer in the form: a letter, a code word. For example, if the answer was \"For the letter F, the new code will be 110\", it should be written as <i style=\"font-size:120%;\" class=\"font-effect-canvas-print\">`F110`</i>. If it is impossible to shorten anything, write down in the answer just the number 0."
   ]
  },
  {
   "cell_type": "markdown",
   "metadata": {},
   "source": [
    "В решении использован Алгоритм Шеннона — Фано.\n",
    "\n",
    "С 0 начинается только одно кодовое слово последовательности <i style=\"font-size:120%;\" class=\"font-effect-canvas-print\">`D-01`</i>. \n",
    "\n",
    "После сокращения на единицу эта буква будет кодироваться <i style=\"font-size:120%;\" class=\"font-effect-canvas-print\">`D-0`</i>, а вся последовательность по-прежнему декодируется однозначно. \n",
    "\n",
    "---\n",
    "\n",
    "The solution uses the Shannon-Fano Algorithm.\n",
    "\n",
    "In the sequence, only one codeword <i style=\"font-size:120%;\" class=\"font-effect-canvas-print\">`D-01`</i> begins with 0.\n",
    "\n",
    "After a reduction of one, this letter will be encoded <i style=\"font-size:120%;\" class=\"font-effect-canvas-print\">`D-0`</i>, and the entire sequence is still possible to decode uniquely."
   ]
  },
  {
   "cell_type": "code",
   "execution_count": 18,
   "metadata": {},
   "outputs": [
    {
     "name": "stdout",
     "output_type": "stream",
     "text": [
      "\n",
      " Answer: D0\n"
     ]
    }
   ],
   "source": [
    "answer_dictionary[5]='D0'       \n",
    "print(\"\\n\",\"Answer:\",answer_dictionary[5])"
   ]
  },
  {
   "cell_type": "markdown",
   "metadata": {},
   "source": [
    "<div style=\"width: 800px; height: 330px; overflow:auto;\">\n",
    "    <img src=\"it_images/2017_06_06.png\" width=\"800\" height=\"330\"/>\n",
    "</div>"
   ]
  },
  {
   "cell_type": "markdown",
   "metadata": {},
   "source": [
    "Автомат получает на вход два двузначных шестнадцатеричных числа. В этих числах все цифры не превосходят цифру 5 (если в числе есть цифра больше 5, автомат отказывается работать). По этим числам строится новое шестнадцатеричное число по следующим правилам.\n",
    "\n",
    "$1.$ Вычисляются два шестнадцатеричных числа — произведение старших разрядов полученных чисел и произведение младших разрядов этих чисел.\n",
    "\n",
    "$2.$ Полученные два шестнадцатеричных числа записываются друг за другом в порядке возрастания (без разделителей).\n",
    "\n",
    "Пример: \n",
    "\n",
    "| Исходные числа | Цифры в разрядах | Поразрядные произведения | Результат |\n",
    "|:-:|:-:|:-:|:-:|\n",
    "| $52_{16}, 44_{16}$ | $5_{16}, 4_{16} = 5_{10}, 4_{10}$ <br> $2_{16}, 4_{16} = 2_{10}, 4_{10}$ |$20_{10} = 14_{16}$ <br> $8_{10} = 8_{16}$ | $814_{16}$ |\n",
    "\n",
    "Какие из предложенных чисел могут быть результатом работы автомата?\n",
    "\n",
    "Перечислите в алфавитном порядке буквы, соответствующие этим числам, без пробелов и знаков препинания.\n",
    "\n",
    "---\n",
    "\n",
    "The automatic system receives two two-digit hexadecimal numbers. In these numbers, all digits do not exceed 5 (if a digit is more than 5, the system refuses to work). For these numbers, a new hexadecimal number is constructed according to the following rules.\n",
    "\n",
    "$1.$ Two hexadecimal numbers are computed - the product of the highest digits of the obtained numbers and the product of the lowest digits of these numbers.\n",
    "\n",
    "$2.$ The resulting two hexadecimal numbers are written consecutively in ascending order (no delimiters).\n",
    "\n",
    "Example: \n",
    "\n",
    "| Initial numbers | Highest and Lowest Digits in Numbers | Bitwise products | Result |\n",
    "|:-:|:-:|:-:|:-:|\n",
    "| $52_{16}, 44_{16}$ | $5_{16}, 4_{16} = 5_{10}, 4_{10}$ <br> $2_{16}, 4_{16} = 2_{10}, 4_{10}$ |$20_{10} = 14_{16}$ <br> $8_{10} = 8_{16}$ | $814_{16}$ |\n",
    "\n",
    "Which of the suggested numbers can be the operation result of the automatic system?\n",
    "\n",
    "List in alphabetical order the letters corresponding to these numbers, without spaces and punctuation marks.\n",
    "\n",
    "$A) \\ 4B_{16}$\n",
    "\n",
    "$B) \\ AB_{16}$\n",
    "\n",
    "$C) \\ CA_{16}$\n",
    "\n",
    "$D) \\ 9C_{16}$\n",
    "\n",
    "$E) \\ 616_{16}$"
   ]
  },
  {
   "cell_type": "markdown",
   "metadata": {},
   "source": [
    "Обратные преобразования чисел / Inverse transformation of numbers:\n",
    "\n",
    "$A) \\ 4B_{16} \\to 4_{10} = 4_{10} ; B_{16} = 11_{10}$ - простое число 11 не может быть результатом умножения двух чисел, не превышающих 5 / 11 cannot be the result of multiplying two numbers not exceeding 5.\n",
    "\n",
    "$B) \\ AB_{16} \\to A_{16} = 10_{10} ; B_{16} = 11_{10}$ - простое число 11 не может быть результатом умножения двух чисел, не превышающих 5 / 11 cannot be the result of multiplying two numbers not exceeding 5.\n",
    "\n",
    "$C) \\ CA_{16}$ - цифры не записаны в порядке возрастания / digits are not written in ascending order.\n",
    "\n",
    "$D) \\ 9C_{16}  \\to 9_{10} ; 12_{10} \\to 3_{10}, 3_{10}; 3_{10}, 4_{10} \\to 3_{16}, 3_{16}; 3_{16}, 4_{16} \\to 33_{16}; 34_{16}$\n",
    "\n",
    "$E) \\ 616_{16}$ \n",
    "\n",
    "- $61_{16} = 97_{10}; 6_{16} = 6_{10}$ -  произведения не записаны в порядке возрастания / products are not written in ascending order; \n",
    "\n",
    "- $616_{16} \\to 6_{16} = 6_{10}; 16_{16} = 22_{10}$ - число 22 не может быть результатом умножения двух чисел, не превышающих 5 / 22 cannot be the result of multiplying two numbers not exceeding 5."
   ]
  },
  {
   "cell_type": "code",
   "execution_count": 19,
   "metadata": {},
   "outputs": [
    {
     "name": "stdout",
     "output_type": "stream",
     "text": [
      "\n",
      " Answer: D\n"
     ]
    }
   ],
   "source": [
    "answer_dictionary[6]='D'       \n",
    "print(\"\\n\",\"Answer:\",answer_dictionary[6])"
   ]
  },
  {
   "cell_type": "markdown",
   "metadata": {},
   "source": [
    "<div style=\"width: 800px; height: 220px; overflow:auto;\">\n",
    "    <img src=\"it_images/2017_06_07.png\" width=\"800\" height=\"220\"/>\n",
    "</div>"
   ]
  },
  {
   "cell_type": "markdown",
   "metadata": {},
   "source": [
    "Дан фрагмент электронной таблицы.\n",
    "\n",
    "---\n",
    "\n",
    "The fragment of the spreadsheet is given.\n",
    "\n",
    "| | A | B | C | D |\n",
    "|:-:|:-:|:-:|:-:|:-:|\n",
    "| 1 | 4 | 5 | 3 |  |\n",
    "| 2 | 2 | 1 | `=A1+B2` |  |\n",
    "| 3 | 6 | 7 | `=A$2+B3` | . |\n",
    "\n",
    "Чему станет равным значение ячейки `D2`, если в неё скопировать формулу из ячейки `C3`?\n",
    "\n",
    "Примечание: знак `$` обозначает абсолютную адресацию.\n",
    "\n",
    "---\n",
    "\n",
    "What will the value of the cell `D2` become equal if you copy the formula from the cell `C3` into it?\n",
    "\n",
    "Note: The `$` sign denotes absolute addressing.\n",
    "\n",
    "[Google Sheet](https://drive.google.com/open?id=1QzIl60h-gMt-Ksd8SWi-_eU-I-Hxh8piHdn6ueiMSdM)\n",
    "\n",
    "Результат копирования ячейки.\n",
    "\n",
    "---\n",
    "\n",
    "The result of copying the cell.\n",
    "\n",
    "<div style=\"width: 800px; height: 320px; overflow:auto;\">\n",
    "    <img src=\"it_images/2017_06_07a.png\" width=\"800\" height=\"320\"/>\n",
    "</div>"
   ]
  },
  {
   "cell_type": "code",
   "execution_count": 20,
   "metadata": {},
   "outputs": [
    {
     "name": "stdout",
     "output_type": "stream",
     "text": [
      "\n",
      " Answer: 6\n"
     ]
    }
   ],
   "source": [
    "answer_dictionary[7]='6'\n",
    "print(\"\\n\",\"Answer:\", answer_dictionary[7])"
   ]
  },
  {
   "cell_type": "markdown",
   "metadata": {},
   "source": [
    "<div style=\"width: 800px; height: 550px; overflow:auto;\">\n",
    "    <img src=\"it_images/2017_06_08.png\" width=\"800\" height=\"550\"/>\n",
    "</div>\n",
    "Определите, что будет напечатано в результате выполнения следующего фрагмента программы:\n",
    "\n",
    "---\n",
    "\n",
    "Determine what will be printed as a result of the following program fragment:"
   ]
  },
  {
   "cell_type": "markdown",
   "metadata": {},
   "source": [
    "<table style=\"width:95%;\">\n",
    "  <tr style=\"color:slategray;\">\n",
    "    <th style=\"text-align:center;\">Бейсик</th> \n",
    "    <th style=\"text-align:center;\">Паскаль</th>        \n",
    "    <th style=\"text-align:center;\">Си</th> \n",
    "    <th style=\"text-align:center;\">Алгоритмический язык</th>  \n",
    "  </tr>\n",
    "  <tr style=\"font-weight: bold;\">\n",
    "    <td><pre><code class='bash'>\n",
    "        \n",
    "DIM k, s AS INTEGER\n",
    "k = 50\n",
    "s = 1024\n",
    "WHILE s > 0\n",
    "    s = s / 2\n",
    "    k = k - 3\n",
    "WEND\n",
    "PRINT k\n",
    "    </code></pre></td>    \n",
    "    <td><pre><code class='bash'>\n",
    "        \n",
    "var k, s : integer;\n",
    "begin\n",
    "    k := 50;\n",
    "    s := 1024;\n",
    "    while s > 0 do\n",
    "        s := s / 2;\n",
    "        k := k - 3;\n",
    "    end;\n",
    "    write(k);\n",
    "end.\n",
    "    </code></pre></td> \n",
    "    <td><pre><code class='bash'>\n",
    "        \n",
    "{\n",
    "    int k, s;\n",
    "    k = 50;\n",
    "    s = 1024;\n",
    "    while (s > 0)\n",
    "    {\n",
    "        s = s / 2;\n",
    "        k = k - 3;\n",
    "    } \n",
    "    printf(\"%d\", k);\n",
    "}\n",
    "    </code></pre></td>    \n",
    "    <td><pre><code class='bash'>\n",
    "        \n",
    "нач\n",
    "    цел k, s\n",
    "    k := 50\n",
    "    s := 1024\n",
    "    нц пока s > 0\n",
    "        s := s / 2\n",
    "        k := k - 3\n",
    "    кц\n",
    "    вывод k\n",
    "кон\n",
    "    </code></pre></td>     \n",
    "  </tr>\n",
    "</table>"
   ]
  },
  {
   "cell_type": "code",
   "execution_count": 21,
   "metadata": {},
   "outputs": [
    {
     "name": "stdout",
     "output_type": "stream",
     "text": [
      "17\n"
     ]
    }
   ],
   "source": [
    "k,s = 50,1024\n",
    "while s > 0:\n",
    "    s=int(s/2)\n",
    "    k-=3\n",
    "\n",
    "print (k)"
   ]
  },
  {
   "cell_type": "code",
   "execution_count": 22,
   "metadata": {},
   "outputs": [
    {
     "name": "stdout",
     "output_type": "stream",
     "text": [
      "\n",
      " Answer: 17\n"
     ]
    }
   ],
   "source": [
    "answer_dictionary[8]=str(k)\n",
    "print(\"\\n\",\"Answer:\", answer_dictionary[8])"
   ]
  },
  {
   "cell_type": "markdown",
   "metadata": {},
   "source": [
    "<div style=\"width: 800px; height: 120px; overflow:auto;\">\n",
    "    <img src=\"it_images/2017_06_09.png\" width=\"800\" height=\"120\"/>\n",
    "</div>\n",
    "Производится двухканальная (стерео) звукозапись с частотой дискретизации 16 кГц и количеством уровней квантования 65536. Запись длится 4 минуты, её результаты записываются в файл, сжатие данных не производится. \n",
    "\n",
    "Укажите размер полученного файла (в Мбайт) с точностью 5 Мбайт. В ответе запишите только целое число, единицу измерения писать не нужно.\n",
    "\n",
    "---\n",
    "\n",
    "A two-channel (stereo) sound recording with a sampling frequency of 16 kHz and a number of quantization levels of 65536 is produced. The recording lasts 4 minutes, its results are written to a file, data compression is not applied.\n",
    "\n",
    "Specify the size of the received file (in MB) with an accuracy of 5 MB. In the answer, write down only an integer, you do not need to write a unit of measurement."
   ]
  },
  {
   "cell_type": "markdown",
   "metadata": {},
   "source": [
    "Показатели, позволяющие определить объем информации.\n",
    "\n",
    "- Частота дискретизации: $16$ кГц, за одну секунду запоминается $16000$ значений сигнала.\n",
    "    \n",
    "- Уровни квантования (глубина дискретизации): $65536 = 2^{16}$ ($16$ бит).\n",
    "    \n",
    "- Время записи: $4$ минуты = $240$ секунд.\n",
    "    \n",
    "- Запись двухканальная (стерео): объём памяти для хранения данных одного канала умножается на $2$.\n",
    "   \n",
    "Размер полученного файла:\n",
    "\n",
    "$16000 ∗ \\log_2{65536} ∗ 240 ∗ 2 = 122880000$ бит или $122880000 \\ / \\ 2^3 \\ / \\ 2^{20} \\ \\approx \\ 15$ Мбайт.\n",
    "\n",
    "---\n",
    "\n",
    "Indicators to determine the amount of information.\n",
    "\n",
    "- Sampling frequency: $16$ kHz, for one second, $16,000$ of signal values is memorized.\n",
    "    \n",
    "- Quantization levels (sampling depth): $65536 = 2^{16}$ ($16$ bit).\n",
    "    \n",
    "- Recording time: $4$ minutes = $240$ seconds.\n",
    "    \n",
    "- Two-channel recording (stereo): the amount of memory for storing data of one channel is multiplied by $2$.\n",
    "   \n",
    "The size of the received file:\n",
    "\n",
    "$16000 ∗ \\log_2{65536} ∗ 240 ∗ 2 = 122880000$ bits or $122880000 \\ / \\ 2^3 \\ / \\ 2^{20} \\ \\approx \\ 15$ MB."
   ]
  },
  {
   "cell_type": "code",
   "execution_count": 23,
   "metadata": {},
   "outputs": [
    {
     "name": "stdout",
     "output_type": "stream",
     "text": [
      "\n",
      " Answer: 15\n"
     ]
    }
   ],
   "source": [
    "import math\n",
    "answer_dictionary[9]=str(round(16000 * math.log(65536,2) * 240 * 2 / 2 ** 23))\n",
    "print (\"\\n\",\"Answer:\",answer_dictionary[9]) "
   ]
  },
  {
   "cell_type": "markdown",
   "metadata": {},
   "source": [
    "<div style=\"width: 800px; height: 120px; overflow:auto;\">\n",
    "    <img src=\"it_images/2017_06_10.png\" width=\"800\" height=\"120\"/>\n",
    "</div>\n",
    "Вася и Петя передают друг другу сообщения, используя флажки 6-ти цветов. Эти они делают, поднимая последовательно один из флажков, потом опускают его и поднимают ещё какой-то. Чтобы не путаться, ребята договорились, что флажки в одном сообщении не могут повторяться. \n",
    "\n",
    "Сколько различных сообщений могут передавать мальчики?\n",
    "\n",
    "---\n",
    "\n",
    "Vasya and Petya relay messages to each other using the flags of 6 different colors. They do this, lifting one of the flags consistently, then lower it and raise the next one. In order not to be confused, the guys agreed that the flags in one message can not be repeated.\n",
    "\n",
    "How many different messages can the boys transmit?"
   ]
  },
  {
   "cell_type": "markdown",
   "metadata": {},
   "source": [
    "В условии задачи недостаточно четко оговаривается количество сигналов в сообщении. \n",
    "\n",
    "Если в одном сообщении может быть только два сигнала, то количество способов выбрать первый флажок равно $6$, второй - $5$ (цвета не могут повторяться). Всего сообщений получится $6 * 5 = 30$. \n",
    "\n",
    "Аналогично, если сообщение состоит из $6$ сигналов, то количество возможных вариантов сообщений равно $6 * 5 * 4 * 3 * 2 * 1 = 720$.\n",
    "\n",
    "---\n",
    "\n",
    "The task condition does not clearly specify the number of signals in one message.\n",
    "\n",
    "If there are only two signals in the message, the number of ways to choose the first flag is $6$, the second one - $5$ (colors can not be repeated). The total number of possible messages will be $6 * 5 = 30$.\n",
    "\n",
    "Similarly, if the message consists of $6$ signals, then the number of possible messages is $6 * 5 * 4 * 3 * 2 * 1 = 720$."
   ]
  },
  {
   "cell_type": "code",
   "execution_count": 24,
   "metadata": {},
   "outputs": [
    {
     "name": "stdout",
     "output_type": "stream",
     "text": [
      "\n",
      " Answer: 720\n"
     ]
    }
   ],
   "source": [
    "answer_dictionary[10] = math.factorial(6)       \n",
    "print(\"\\n\",\"Answer:\",answer_dictionary[10])"
   ]
  },
  {
   "cell_type": "markdown",
   "metadata": {},
   "source": [
    "<div style=\"width: 800px; height: 650px; overflow:auto;\">\n",
    "    <img src=\"it_images/2017_06_11.png\" width=\"800\" height=\"650\"/>\n",
    "</div>\n",
    "Определите, сколько звёздочек будет напечатано в результате вызова F(5) приведённой подпрограммы:\n",
    "\n",
    "---\n",
    "\n",
    "Determine how many asterisks will be printed as a result of calling F(5) from this program fragment:"
   ]
  },
  {
   "cell_type": "markdown",
   "metadata": {},
   "source": [
    "<table style=\"width:100%;height:90%;\">\n",
    "  <tr style=\"color:slategray;\">\n",
    "    <th style=\"text-align:center;\">Бейсик</th> \n",
    "    <th style=\"text-align:center;\">Паскаль</th>        \n",
    "    <th style=\"text-align:center;\">Си</th> \n",
    "    <th style=\"text-align:center;\">Алгоритмический язык</th>  \n",
    "  </tr>\n",
    "  <tr style=\"font-weight: bold;\">\n",
    "    <td><pre><code class='bash'>\n",
    "        \n",
    "SUB F(n)\n",
    "    PRINT \"`*`\";\n",
    "    IF n > 1 THEN\n",
    "        F(n / 2)\n",
    "        F(n - 1)\n",
    "    END IF\n",
    "END SUB\n",
    "    </code></pre></td>    \n",
    "    <td><pre><code class='bash'>\n",
    "        \n",
    "procedure F(n : integer);\n",
    "begin\n",
    "    write('`*`');\n",
    "    if n > 1 then\n",
    "        F(n div 2);\n",
    "        F(n - 1);\n",
    "    end;\n",
    "\n",
    "end.\n",
    "    </code></pre></td> \n",
    "    <td><pre><code class='bash'>\n",
    "        \n",
    "void F(int n)\n",
    "{\n",
    "    printf(\"`*`\");\n",
    "    if (n > 1)\n",
    "    {\n",
    "        F(n / 2);\n",
    "        F(n - 1);    \n",
    "    }\n",
    "}\n",
    "    </code></pre></td>    \n",
    "    <td><pre><code class='bash'>\n",
    "        \n",
    "алг F(цел n)\n",
    "нач\n",
    "    вывод \"`*`\"\n",
    "    если n > 1 то\n",
    "        F(div(n, 2))\n",
    "        F(n - 1)\n",
    "    все\n",
    "кон\n",
    "    </code></pre></td>     \n",
    "  </tr>\n",
    "</table>"
   ]
  },
  {
   "cell_type": "code",
   "execution_count": 25,
   "metadata": {},
   "outputs": [
    {
     "name": "stdout",
     "output_type": "stream",
     "text": [
      "* 1\n",
      "* 2\n",
      "* 3\n",
      "* 4\n",
      "* 5\n",
      "* 6\n",
      "* 7\n",
      "* 8\n",
      "* 9\n",
      "* 10\n",
      "* 11\n",
      "* 12\n",
      "* 13\n"
     ]
    }
   ],
   "source": [
    "c = 0\n",
    "def F(n):\n",
    "    if n > 1:\n",
    "        F(int(n / 2))\n",
    "        F(n - 1)\n",
    "    global c\n",
    "    c+=1\n",
    "    print('*', c)\n",
    "F(5)"
   ]
  },
  {
   "cell_type": "code",
   "execution_count": 26,
   "metadata": {},
   "outputs": [
    {
     "data": {
      "image/png": "[encoded data removed]",
      "text/plain": [
       "<matplotlib.figure.Figure at 0x109bbde80>"
      ]
     },
     "metadata": {},
     "output_type": "display_data"
    }
   ],
   "source": [
    "import pydot\n",
    "from networkx.drawing.nx_pydot import graphviz_layout\n",
    "\n",
    "G2 = nx.MultiDiGraph()\n",
    "plt.figure(figsize=(18,9))\n",
    "\n",
    "G2.add_edges_from([('F(5)/1', 'F(2)/2'),('F(5)/1', 'F(4)/3')])\n",
    "G2.add_edges_from([('F(2)/2', 'F(1)/4'),('F(2)/2', 'F(1)/5')])\n",
    "G2.add_edges_from([('F(4)/3', 'F(2)/6'),('F(4)/3', 'F(3)/7')])\n",
    "G2.add_edges_from([('F(2)/6', 'F(1)/8'),('F(2)/6', 'F(1)/9')])\n",
    "G2.add_edges_from([('F(3)/7', 'F(1)/10'),('F(3)/7', 'F(2)/11')])\n",
    "G2.add_edges_from([('F(2)/11', 'F(1)/12'),('F(2)/11', 'F(1)/13')])\n",
    "\n",
    "pos = graphviz_layout(G2, prog='dot')\n",
    "\n",
    "nx.draw_networkx_edges(G2, pos, width=3, \n",
    "                       alpha=0.5, edge_color='slategray',\n",
    "                       arrowsize=70, arrowstyle='-|>')\n",
    "nx.draw_networkx_nodes(G2, pos, node_size=3500, alpha=0.8,\n",
    "                       node_shape='p', node_color='steelblue')\n",
    "nx.draw_networkx_labels(G2, pos, font_size=15, font_weight='bold')\n",
    "\n",
    "plt.axis('off')\n",
    "plt.show()"
   ]
  },
  {
   "cell_type": "code",
   "execution_count": 27,
   "metadata": {},
   "outputs": [
    {
     "name": "stdout",
     "output_type": "stream",
     "text": [
      "\n",
      " Answer: 13\n"
     ]
    }
   ],
   "source": [
    "answer_dictionary[11]=str(c)\n",
    "print(\"\\n\",\"Answer:\",answer_dictionary[11])"
   ]
  },
  {
   "cell_type": "markdown",
   "metadata": {},
   "source": [
    "<div style=\"width: 800px; height: 400px; overflow:auto;\">\n",
    "    <img src=\"it_images/2017_06_12.png\" width=\"800\" height=\"400\"/>\n",
    "</div>"
   ]
  },
  {
   "cell_type": "markdown",
   "metadata": {},
   "source": [
    "В терминологии сетей TCP/IP маской сети называется двоичное число, определяющее, какая часть IP-адреса узла сети относится к адресу сети, а какая — к адресу самого узла в этой сети. \n",
    "\n",
    "Обычно маска записывается по тем же правилам, что и IP-адрес. Адрес сети получается в результате применения поразрядной конъюнкции к заданному IP-адресу узла и маске.\n",
    "\n",
    "По заданным IP-адресу узла и маске определите адрес сети.\n",
    "\n",
    "IP-адрес узла: `251.137.219.94`\n",
    "\n",
    "Маска: `255.255.248.0`\n",
    "\n",
    "При записи ответа выберите из приведённых в таблице чисел четыре элемента IP-адреса и запишите в нужном порядке соответствующие им буквы. Точки `.` писать не нужно.\n",
    "\n",
    "---\n",
    "\n",
    "In the terminology of TCP / IP networks, a network mask is a binary number that specifies what part of the IP address of the node refers to the network address, and which one to the host address in that network.\n",
    "\n",
    "Usually, the mask is written using the same rules as the IP address. The network address is obtained as a result of applying the bitwise conjunction to the specified node IP address and the mask.\n",
    "\n",
    "From the given IP-address of the node and the mask, determine the network address.\n",
    "\n",
    "The IP address is `251.137.219.94`\n",
    "\n",
    "The mask is: `255.255.248.0`\n",
    "\n",
    "For recording an answer, select from the numbers in the table four IP address elements and write down the corresponding letters in the desired order. Points `.` do not need to be written.\n",
    "\n",
    "| A | B | C | D | E | F | G | H |\n",
    "|:-:|:-:|:-:|:-:|:-:|:-:|:-:|:-:|\n",
    "| 0 | 94 | 137 | 216 | 219 | 248 | 251 | 255 |\n",
    "\n",
    "Пример.\n",
    "\n",
    "Пусть искомый IP-адрес `192.168.128.0`, и дана таблица\n",
    "\n",
    "---\n",
    "\n",
    "Example. \n",
    "\n",
    "The desired IP-address is `192.168.128.0`, and the table is given:\n",
    "\n",
    "| A | B | C | D | E | F | G | H |\n",
    "|:-:|:-:|:-:|:-:|:-:|:-:|:-:|:-:|\n",
    "| 128 | 168 | 255 | 8 | 127 | 0 | 17 | 192 |\n",
    "\n",
    "В этом случае правильный ответ будет записан в виде: `HBAF`.\n",
    "\n",
    "---\n",
    "\n",
    "In this case, the correct answer will be written in the form: `HBAF`."
   ]
  },
  {
   "cell_type": "markdown",
   "metadata": {},
   "source": [
    "Переведем IP-адрес узла и маску в бинарную форму.\n",
    "\n",
    "---\n",
    "\n",
    "Let's write the IP-address of the node and the mask into a binary form."
   ]
  },
  {
   "cell_type": "code",
   "execution_count": 28,
   "metadata": {},
   "outputs": [
    {
     "name": "stdout",
     "output_type": "stream",
     "text": [
      "11111011.10001001.11011011.01011110\n"
     ]
    }
   ],
   "source": [
    "ip='251.137.219.94'\n",
    "ip_bin='.'.join([bin(int(x)+256)[3:] for x in ip.split('.')])\n",
    "print(ip_bin)"
   ]
  },
  {
   "cell_type": "code",
   "execution_count": 29,
   "metadata": {},
   "outputs": [
    {
     "name": "stdout",
     "output_type": "stream",
     "text": [
      "11111111.11111111.11111000.00000000\n"
     ]
    }
   ],
   "source": [
    "mask='255.255.248.0'\n",
    "mask_bin='.'.join([bin(int(x)+256)[3:] for x in mask.split('.')])\n",
    "print(mask_bin)"
   ]
  },
  {
   "cell_type": "markdown",
   "metadata": {},
   "source": [
    "Теперь можно применить поразрядную коньюнкцию.\n",
    "\n",
    "---\n",
    "\n",
    "Now it is possible to apply bitwise conjunctions."
   ]
  },
  {
   "cell_type": "code",
   "execution_count": 30,
   "metadata": {},
   "outputs": [
    {
     "data": {
      "text/plain": [
       "'251.137.216.0'"
      ]
     },
     "execution_count": 30,
     "metadata": {},
     "output_type": "execute_result"
    }
   ],
   "source": [
    "net_bin=''\n",
    "for i in range(35):\n",
    "    if mask_bin[i]=='.':\n",
    "        net_bin+='.'\n",
    "    else:\n",
    "        net_bin+=str(int(mask_bin[i]) and int(ip_bin[i]))\n",
    "\n",
    "net=''\n",
    "for el in net_bin.split('.'):\n",
    "    net+=str(int(el,2))+'.'\n",
    "net=net[:-1]\n",
    "net"
   ]
  },
  {
   "cell_type": "markdown",
   "metadata": {},
   "source": [
    "При замене на буквенные обозначения получается:\n",
    "\n",
    "---\n",
    "\n",
    "With replacing the address parts by the letters we get:"
   ]
  },
  {
   "cell_type": "code",
   "execution_count": 31,
   "metadata": {},
   "outputs": [
    {
     "name": "stdout",
     "output_type": "stream",
     "text": [
      "\n",
      " Answer: GCDA\n"
     ]
    }
   ],
   "source": [
    "import numpy\n",
    "replace = numpy.array([['0','94','137','216','219','248','251','255'],\n",
    "                       ['A','B','C','D','E','F','G','H']])\n",
    "result=''\n",
    "for el in net.split('.'):\n",
    "    index=numpy.where([el==replace[0][i] for i in range(8)])[0][0]\n",
    "    result+=replace[1][index]  \n",
    "\n",
    "answer_dictionary[12]=result\n",
    "print(\"\\n\",\"Answer:\",answer_dictionary[12])"
   ]
  },
  {
   "cell_type": "markdown",
   "metadata": {},
   "source": [
    "<div style=\"width: 800px; height: 210px; overflow:auto;\">\n",
    "    <img src=\"it_images/2017_06_13.png\" width=\"800\" height=\"210\"/>\n",
    "</div>"
   ]
  },
  {
   "cell_type": "markdown",
   "metadata": {},
   "source": [
    "При регистрации в компьютерной системе каждому пользователю выдается пароль, состоящий из 15 символов и содержащий только символы из 12-символьного набора: A, B, C, D, E, F, G, H, K, L, M, N. В базе данных для хранения сведений о каждом пользователе отведено одинаковое и минимально возможное целое число байт. При этом используют посимвольное кодирование паролей, все символы кодируют одинаковым и минимально возможным количеством бит. Кроме собственно пароля, для каждого пользователя в системе хранятся дополнительные сведения, для чего отведено 12 байт на одного пользователя.\n",
    "\n",
    "Определите объём памяти (в байтах), необходимый для хранения сведений о 30 пользователях. В ответе запишите только целое число — количество байт.\n",
    "\n",
    "---\n",
    "\n",
    "With registering in a computer system, each user is given a password consisting of 15 characters and containing only the characters from the 12-character set: A, B, C, D, E, F, G, H, K, L, M, N. In the database for storing information about each user it is allocated the same and the minimum possible integer number of bytes. In this case, the character-by-symbol encoding of passwords is used, all symbols are encoded with the same and the minimum possible number of bits. In addition to the password itself, another information is stored for each user in the system, and for that 12 bytes per user are allocated.\n",
    "\n",
    "Determine the amount of memory (in bytes) required to store information about 30 users. In the answer write down only the whole number - the number of bytes."
   ]
  },
  {
   "cell_type": "markdown",
   "metadata": {},
   "source": [
    "1) $3 < log_2{12} < 4  => 4$ (бит) - необходимо для кодирования одной из 12 букв латинского алфавита.\n",
    "\n",
    "Количество возможных вариантов кодировки ($2^4$) не должно быть меньше количества имеющейся информации (12  символов), округление в данном случае - всегда в большую сторону.\n",
    "\n",
    "2) $4 ∗ 15 = 60$ (бит) - необходимо для кодирования 15 символов пароля.\n",
    "\n",
    "3) $60 / 8 = 7.5 \\approx 8$  (байт) - необходимо для кодирования 15 символов пароля.\n",
    "\n",
    "Количество байт - целое число, и округление опять должно быть только в большую сторону.\n",
    "\n",
    "4)  $8 + 12 = 20$ (байт) - выделено на одного пользователя для пароля и дополнительной информации.\n",
    "\n",
    "5)  $20 * 30 = 600$ (байт) - выделено для хранения сведений о 30 пользователях.\n",
    "\n",
    "---\n",
    "\n",
    "1) $3 < log_2{12} < 4  => 4$ (bits) - necessary for encoding one of the 12 Latin letters..\n",
    "\n",
    "The number of possible encoding options ($2^4$) should not be less than the amount of information available (12  сymbols), rounding in this case - always in the larger side.\n",
    "\n",
    "2) $4 ∗ 15 = 60$ (bits) - necessary for encoding 15 password symbols.\n",
    "\n",
    "3) $60 / 8 = 7.5 \\approx 8$  (bytes) - necessary for encoding 15 password symbols.\n",
    "\n",
    "The number of bytes is an integer, and rounding should only be in the larger side again.\n",
    "\n",
    "4)  $8 + 12 = 20$ (bytes) - allocated per user for password and additional information.\n",
    "\n",
    "5)  $20 * 30 = 600$ (bytes) - allocated for 30 users."
   ]
  },
  {
   "cell_type": "code",
   "execution_count": 32,
   "metadata": {},
   "outputs": [
    {
     "name": "stdout",
     "output_type": "stream",
     "text": [
      "\n",
      " Answer: 600\n"
     ]
    }
   ],
   "source": [
    "bits_for_one_symbol_from_12 = math.ceil(math.log(12,2))\n",
    "bits_for_15_symbol_from_12 = 15 * bits_for_one_symbol_from_12\n",
    "\n",
    "bytes_for_15_symbol_from_12 = math.ceil(bits_for_15_symbol_from_12 / 8)\n",
    "bytes_per_user = bytes_for_15_symbol_from_12 + 12\n",
    "\n",
    "bytes_for_30_users = bytes_per_user * 30\n",
    "\n",
    "answer_dictionary[13]=str(bytes_for_30_users)\n",
    "print(\"\\n\",\"Answer:\",answer_dictionary[13])"
   ]
  },
  {
   "cell_type": "markdown",
   "metadata": {},
   "source": [
    "<div style=\"width: 800px; height: 800px; overflow:auto;\">\n",
    "    <img src=\"it_images/2017_06_14_1.png\" width=\"800\" height=\"200\"/>\n",
    "    <img src=\"it_images/2017_06_14_2.png\" width=\"800\" height=\"600\"/>\n",
    "</div>"
   ]
  },
  {
   "cell_type": "markdown",
   "metadata": {},
   "source": [
    "Исполнитель $Редактор$ получает на вход строку цифр и преобразовывает её. \n",
    "\n",
    "Редактор может выполнять две команды, в обеих командах `v` и `w` обозначают цепочки цифр.\n",
    "\n",
    "А) `заменить (v, w)`.\n",
    "\n",
    "Эта команда заменяет в строке первое слева вхождение цепочки `v` на цепочку` w`. Например, выполнение команды `заменить (222, 34)` преобразует строку `77222277` в строку `7734277`. Если в строке нет вхождений цепочки `v`, то выполнение команды `заменить (v, w)` не меняет эту строку.\n",
    "\n",
    "Б) `нашлось (v)`.\n",
    "\n",
    "Эта команда проверяет, встречается ли цепочка `v` в строке исполнителя $Редактор$. Если она встречается, то команда возвращает логическое значение `«истина»`, в противном случае возвращает значение `«ложь»`. Строка при этом не изменяется исполнителем.\n",
    "\n",
    "Цикл \n",
    "\n",
    "`ПОКА` $<условие>$\n",
    "\n",
    "- $ последовательность \\ команд $\n",
    "    \n",
    "`КОНЕЦ ПОКА`\n",
    "\n",
    "выполняется, пока условие истинно.\n",
    "\n",
    "В конструкции \n",
    "\n",
    "`ЕСЛИ` $<условие>$\n",
    "\n",
    "- `ТО` $команда \\ 1$\n",
    "\n",
    "- `ИНАЧЕ` $команда \\ 2$\n",
    "    \n",
    "`КОНЕЦ ЕСЛИ`\n",
    "\n",
    "выполняется `команда 1` (если условие истинно) или `команда 2` (если условие ложно).\n",
    "\n",
    "Какая строка получится в результате применения приведённой ниже программы к строке, состоящей из 50 идущих подряд цифр 2? В ответе запишите полученную строку.\n",
    "\n",
    "- НАЧАЛО\n",
    "\n",
    "- ПОКА `< нашлось (222) >` ИЛИ `< нашлось (333) >`\n",
    "  \n",
    "  - ЕСЛИ `< нашлось (222) >` \n",
    "  \n",
    "    - ТО `заменить (222, 3)`\n",
    "    \n",
    "    - ИНАЧЕ `заменить (333, 2)`\n",
    "\n",
    "  - КОНЕЦ ЕСЛИ  \n",
    "\n",
    "- КОНЕЦ ПОКА\n",
    "\n",
    "- КОНЕЦ\n",
    "\n",
    "---\n",
    "\n",
    "The performer $Editor$ receives a string of numbers and converts it. \n",
    "\n",
    "It can execute two commands, in both commands, `v` and `w` denote a chain of numbers.\n",
    "\n",
    "$A)$ `replace (v, w)`.\n",
    "\n",
    "This command replaces the first from the left with the occurrence of the chain `v` on the chain `w`. For example, executing the command to `replace (222, 34)` converts line `77222277` to line `7734277`. If there are no occurrences of a chain `v` in the string, then the execution of the command to `replace (v, w)` does not change this line.\n",
    "\n",
    "$B)$ `found (v)`.\n",
    "\n",
    "This command checks if the string `v` is found in the line. If it occurs, the command returns a logical value of `\"true\"`, otherwise it returns `\"false\"`. The string is not changed by the performer in this case.\n",
    "\n",
    "The cycle\n",
    "\n",
    "`WHILE` $<condition>$\n",
    "\n",
    "- $command \\ sequence$\n",
    "\n",
    "`END while`\n",
    "\n",
    "is executed until the condition is true.\n",
    "\n",
    "\n",
    "In the construction\n",
    "\n",
    "`IF` $<condition>$\n",
    "\n",
    "- `THEN` $command \\ 1$\n",
    "\n",
    "- `ELSE` $command \\ 2$\n",
    "\n",
    "`END IF`\n",
    "\n",
    "the command 1 is executed (if the condition is true) or command 2 is executed (if the condition is false).\n",
    "\n",
    "Which line will result from applying for the program below to the line consisting of 50 consecutive digits 2? In the answer write down the received line.\n",
    "\n",
    "- START\n",
    "\n",
    "- WHILE `< found (222) >` OR `< found (333) >`\n",
    "  \n",
    "  - IF `< found (222) >` \n",
    "  \n",
    "    - THEN `replace (222, 3)`\n",
    "    \n",
    "    - ELSE `replace (333, 2)`\n",
    "\n",
    "  - END IF  \n",
    "\n",
    "- END WHILE\n",
    "\n",
    "- END"
   ]
  },
  {
   "cell_type": "code",
   "execution_count": 33,
   "metadata": {},
   "outputs": [
    {
     "data": {
      "text/plain": [
       "'22222222222222222222222222222222222222222222222222'"
      ]
     },
     "execution_count": 33,
     "metadata": {},
     "output_type": "execute_result"
    }
   ],
   "source": [
    "string = 50*'2'\n",
    "string"
   ]
  },
  {
   "cell_type": "code",
   "execution_count": 34,
   "metadata": {},
   "outputs": [
    {
     "name": "stdout",
     "output_type": "stream",
     "text": [
      "333333333333333322\n",
      "22222322\n",
      "322322\n",
      "\n",
      " Answer: 322322\n"
     ]
    }
   ],
   "source": [
    "def string_function(w):\n",
    "    while ('222'in w) | ('333'in w):\n",
    "        if ('222'in w): \n",
    "            w = w.replace('222', '3')\n",
    "            print(w)\n",
    "        else:\n",
    "            w = w.replace('333', '2')\n",
    "            print(w)\n",
    "    return w\n",
    "\n",
    "answer_dictionary[14]=string_function(string) \n",
    "print(\"\\n\",\"Answer:\", answer_dictionary[14]) "
   ]
  },
  {
   "cell_type": "markdown",
   "metadata": {},
   "source": [
    "<div style=\"width: 800px; height: 280px; overflow:auto;\">\n",
    "    <img src=\"it_images/2017_06_15.png\" width=\"800\" height=\"280\"/>\n",
    "</div>\n",
    "На рисунке — схема дорог, связывающих города А, Б, В, Г, Д, Е, Ж, З, И, К. \n",
    "\n",
    "По каждой дороге можно двигаться только в одном направлении, указанном стрелкой. \n",
    "\n",
    "Сколько существует различных путей из города А в город К?\n",
    "\n",
    "---\n",
    "\n",
    "In the figure - the scheme of roads is connecting the cities А, Б, В, Г, Д, Е, Ж, З, И, К. \n",
    "\n",
    "For each road, it is possible to move only in one direction, indicated by an arrow. \n",
    "\n",
    "How many different paths exist from city А to city К?"
   ]
  },
  {
   "cell_type": "code",
   "execution_count": 35,
   "metadata": {},
   "outputs": [
    {
     "data": {
      "image/png": "[encoded data removed]",
      "text/plain": [
       "<matplotlib.figure.Figure at 0x10a34b748>"
      ]
     },
     "metadata": {},
     "output_type": "display_data"
    }
   ],
   "source": [
    "G3 = nx.MultiDiGraph()\n",
    "plt.figure(figsize=(9,9))\n",
    "\n",
    "G3.add_edges_from([('А', 'Б'),('А','В'),('А','Г')])\n",
    "G3.add_edges_from([('Б','Ж'),('Б','Д')])\n",
    "G3.add_edges_from([('В','Е'),('В','Ж')])\n",
    "G3.add_edges_from([('Г','В'),('Г','Е')])\n",
    "G3.add_edges_from([('Д','И'),('Д','Ж')])\n",
    "G3.add_edges_from([('Е','З'),('Е','Ж')])\n",
    "G3.add_edges_from([('Ж','И'),('Ж','К'),('Ж','З')])\n",
    "G3.add_edges_from([('З','К')])\n",
    "G3.add_edges_from([('И','К')])\n",
    "\n",
    "pos=nx.shell_layout(G3)\n",
    "\n",
    "nx.draw_networkx_edges(G3, pos, width=3, \n",
    "                       alpha=0.5, edge_color='slategray',\n",
    "                       arrowsize=50, arrowstyle='-|>')\n",
    "nx.draw_networkx_nodes(G3, pos, node_size=1500, alpha=0.7,\n",
    "                       node_shape='h', node_color='steelblue')\n",
    "nx.draw_networkx_labels(G3, pos, font_size=20, font_weight='bold')\n",
    "\n",
    "plt.axis('off')\n",
    "plt.show()"
   ]
  },
  {
   "cell_type": "code",
   "execution_count": 36,
   "metadata": {},
   "outputs": [
    {
     "name": "stdout",
     "output_type": "stream",
     "text": [
      "['А', 'Б', 'Ж', 'И', 'К']\n",
      "['А', 'Б', 'Ж', 'К']\n",
      "['А', 'Б', 'Ж', 'З', 'К']\n",
      "['А', 'Б', 'Д', 'И', 'К']\n",
      "['А', 'Б', 'Д', 'Ж', 'И', 'К']\n",
      "['А', 'Б', 'Д', 'Ж', 'К']\n",
      "['А', 'Б', 'Д', 'Ж', 'З', 'К']\n",
      "['А', 'В', 'Е', 'З', 'К']\n",
      "['А', 'В', 'Е', 'Ж', 'И', 'К']\n",
      "['А', 'В', 'Е', 'Ж', 'К']\n",
      "['А', 'В', 'Е', 'Ж', 'З', 'К']\n",
      "['А', 'В', 'Ж', 'И', 'К']\n",
      "['А', 'В', 'Ж', 'К']\n",
      "['А', 'В', 'Ж', 'З', 'К']\n",
      "['А', 'Г', 'В', 'Е', 'З', 'К']\n",
      "['А', 'Г', 'В', 'Е', 'Ж', 'И', 'К']\n",
      "['А', 'Г', 'В', 'Е', 'Ж', 'К']\n",
      "['А', 'Г', 'В', 'Е', 'Ж', 'З', 'К']\n",
      "['А', 'Г', 'В', 'Ж', 'И', 'К']\n",
      "['А', 'Г', 'В', 'Ж', 'К']\n",
      "['А', 'Г', 'В', 'Ж', 'З', 'К']\n",
      "['А', 'Г', 'Е', 'З', 'К']\n",
      "['А', 'Г', 'Е', 'Ж', 'И', 'К']\n",
      "['А', 'Г', 'Е', 'Ж', 'К']\n",
      "['А', 'Г', 'Е', 'Ж', 'З', 'К']\n"
     ]
    }
   ],
   "source": [
    "for path in nx.all_simple_paths(G3, 'А', 'К'): print (path)"
   ]
  },
  {
   "cell_type": "code",
   "execution_count": 37,
   "metadata": {},
   "outputs": [
    {
     "name": "stdout",
     "output_type": "stream",
     "text": [
      "\n",
      " Answer: 25\n"
     ]
    }
   ],
   "source": [
    "answer_dictionary[15]=str(len(list(nx.all_simple_paths(G3, 'А', 'К'))))\n",
    "print(\"\\n\",\"Answer:\", answer_dictionary[15])"
   ]
  },
  {
   "cell_type": "markdown",
   "metadata": {},
   "source": [
    "<div style=\"width: 800px; height: 100px; overflow:auto;\">\n",
    "    <img src=\"it_images/2017_06_16.png\" width=\"800\" height=\"100\"/>\n",
    "</div>"
   ]
  },
  {
   "cell_type": "markdown",
   "metadata": {},
   "source": [
    "Запись десятичного числа в системах счисления с основаниями 4 и 7 в обоих случаях имеет последней цифрой 0. \n",
    "\n",
    "Какое минимальное натуральное десятичное число удовлетворяет этому требованию?\n",
    "\n",
    "---\n",
    "\n",
    "Recording a decimal number in the number systems with bases 4 and 7 in both cases has the last digit 0.\n",
    "\n",
    "What is the minimum natural decimal number that satisfies this requirement?"
   ]
  },
  {
   "cell_type": "markdown",
   "metadata": {},
   "source": [
    "Последняя цифра 0 означает, что исходное десятичное число делится на 4 и на 7 без остатка.\n",
    "\n",
    "Поскольку у 4 и 7 нет общих множителей, искомым минимальным числом является их произведение.\n",
    "\n",
    "---\n",
    "\n",
    "The last digit 0 means that the original decimal number is divided by 4 and by 7 without residue.\n",
    "\n",
    "Since 4 and 7 do not have common multipliers the desired minimum number is their product."
   ]
  },
  {
   "cell_type": "code",
   "execution_count": 38,
   "metadata": {},
   "outputs": [
    {
     "name": "stdout",
     "output_type": "stream",
     "text": [
      "\n",
      " Answer: 28\n"
     ]
    }
   ],
   "source": [
    "answer_dictionary[16]=str(4*7)\n",
    "print(\"\\n\",\"Answer:\",answer_dictionary[16])"
   ]
  },
  {
   "cell_type": "markdown",
   "metadata": {},
   "source": [
    "<div style=\"width: 800px; height: 400px; overflow:auto;\">\n",
    "    <img src=\"it_images/2017_06_17.png\" width=\"800\" height=\"400\"/>\n",
    "</div>"
   ]
  },
  {
   "cell_type": "markdown",
   "metadata": {},
   "source": [
    "В языке запросов к поисковому серверу для обозначения логической операции `«ИЛИ»` используется символ `|`, а для логической операции `«И»` — `&`. В таблице приведено количество страниц, которое находит поисковая система по каждому запросу.\n",
    "\n",
    "---\n",
    "\n",
    "In the query language to the search server, the symbol `\"|\"` is used to indicate the logical operation `\"OR\"`, and for the logical operation `\"AND\"` - `\"&\"`. The table shows the number of pages that the search engine finds for each query.\n",
    "\n",
    "| Запрос | Количество найденных страниц (в тысячах) |\n",
    "|:-:|:-:|\n",
    "| Query | Number of pages found |\n",
    "| $Колбаса \\ \\mid \\ Сыр \\ \\mid \\ Паштет$ | 26 |\n",
    "| $Паштет$ | 13 |\n",
    "| $Сыр$ | 8 |\n",
    "| $Колбаса \\ \\& \\ Паштет$ | 3 |\n",
    "| $Сыр \\ \\& \\ Паштет$ | 2 |\n",
    "| $Колбаса \\ \\& \\ Сыр$ | 2 |\n",
    "| $Колбаса \\ \\& \\ Сыр \\ \\& \\ Паштет$ | 1 |\n",
    "\n",
    "Какое количество страниц (в тысячах) будет найдено этой поисковой системой по запросу $Колбаса$?\n",
    "\n",
    "---\n",
    "\n",
    "How many pages (in thousands) will be found on the query  $Колбаса$?"
   ]
  },
  {
   "cell_type": "markdown",
   "metadata": {},
   "source": [
    "`Колбаса ∣ Сыр ∣ Паштет` = `Колбаса` + `Сыр` + `Паштет` - `Колбаса & Паштет` - `Сыр & Паштет` - `Колбаса & Сыр` + `Колбаса & Сыр & Паштет` \n",
    "\n",
    "`Колбаса` = `Колбаса ∣ Сыр ∣ Паштет` + `Колбаса & Паштет` + `Сыр & Паштет` + `Колбаса & Сыр` - `Колбаса & Сыр & Паштет` - `Сыр` - `Паштет`"
   ]
  },
  {
   "cell_type": "code",
   "execution_count": 39,
   "metadata": {},
   "outputs": [
    {
     "data": {
      "text/plain": [
       "11"
      ]
     },
     "execution_count": 39,
     "metadata": {},
     "output_type": "execute_result"
    }
   ],
   "source": [
    "Sausage_or_Cheese_or_Pate = 26\n",
    "Pate = 13\n",
    "Cheese = 8\n",
    "Sausage_and_Pate = 3\n",
    "Cheese_and_Pate = 2\n",
    "Sausage_and_Cheese = 2\n",
    "Sausage_and_Cheese_and_Pate = 1\n",
    "\n",
    "Sausage = Sausage_or_Cheese_or_Pate + \\\n",
    "Sausage_and_Pate + Sausage_and_Cheese + Cheese_and_Pate - \\\n",
    "Sausage_and_Cheese_and_Pate - Cheese - Pate\n",
    "Sausage"
   ]
  },
  {
   "cell_type": "code",
   "execution_count": 40,
   "metadata": {},
   "outputs": [
    {
     "data": {
      "image/png": "[encoded data removed]",
      "text/plain": [
       "<matplotlib.figure.Figure at 0x10a6f5b38>"
      ]
     },
     "metadata": {},
     "output_type": "display_data"
    }
   ],
   "source": [
    "from matplotlib_venn import venn3\n",
    "\n",
    "search_sets =[Sausage - Sausage_and_Cheese - Sausage_and_Pate + Sausage_and_Cheese_and_Pate, \n",
    "              Cheese - Cheese_and_Pate - Sausage_and_Cheese + Sausage_and_Cheese_and_Pate, \n",
    "              Sausage_and_Cheese - Sausage_and_Cheese_and_Pate, \n",
    "              Pate - Cheese_and_Pate - Sausage_and_Pate + Sausage_and_Cheese_and_Pate, \n",
    "              Sausage_and_Pate - Sausage_and_Cheese_and_Pate, \n",
    "              Cheese_and_Pate - Sausage_and_Cheese_and_Pate, \n",
    "              Sausage_and_Cheese_and_Pate]\n",
    "\n",
    "plt.figure(figsize=(9,9))\n",
    "v=venn3(subsets=search_sets, set_labels=('Колбаса / Sausage', 'Сыр / Cheese', 'Паштет / Pate'))\n",
    "\n",
    "for text in v.set_labels:\n",
    "    text.set_fontsize(15)\n",
    "for text in v.subset_labels:\n",
    "    text.set_fontsize(16)\n",
    "    \n",
    "plt.show()"
   ]
  },
  {
   "cell_type": "code",
   "execution_count": 41,
   "metadata": {},
   "outputs": [
    {
     "name": "stdout",
     "output_type": "stream",
     "text": [
      "\n",
      " Answer: 11\n"
     ]
    }
   ],
   "source": [
    "answer_dictionary[17]=str(Sausage)\n",
    "print(\"\\n\",\"Answer:\", answer_dictionary[17])"
   ]
  },
  {
   "cell_type": "markdown",
   "metadata": {},
   "source": [
    "<div style=\"width: 800px; height: 100px; overflow:auto;\">\n",
    "    <img src=\"it_images/2017_06_18.png\" width=\"800\" height=\"100\"/>\n",
    "</div>"
   ]
  },
  {
   "cell_type": "markdown",
   "metadata": {},
   "source": [
    "На числовой прямой даны отрезки $Р = [5, 13]$ и $Q = [8, 19]$. \n",
    "\n",
    "Укажите наибольшую возможную длину такого отрезка $A$, что формула  \n",
    "\n",
    "$\\neg ( (x \\in P) \\to \\neg (x \\in Q)) \\lor \\neg (x \\in A)$\n",
    "\n",
    "верна при любых значениях $х$.\n",
    "\n",
    "---\n",
    "\n",
    "On the number line are given the segments $Р = [5, 13]$ and $Q = [8, 19]$.\n",
    "\n",
    "Indicate the largest possible length of such a segment $A$ that formula\n",
    "\n",
    "$\\neg ( (x \\in P) \\to \\neg (x \\in Q)) \\lor \\neg (x \\in A)$\n",
    "\n",
    "is true for any values of $x$."
   ]
  },
  {
   "cell_type": "code",
   "execution_count": 42,
   "metadata": {},
   "outputs": [
    {
     "data": {
      "text/latex": [
       "$\\neg ( (x \\in P) \\to \\neg (x \\in Q)) \\lor \\neg (x \\in A) \\iff \n",
       "\\neg (\\neg (x \\in P) \\lor \\neg (x \\in Q)) \\lor \\neg (x \\in A) \\iff \\\\\n",
       "\\iff \\neg \\neg ((x \\in P) \\land (x \\in Q)) \\lor \\neg (x \\in A) \\iff\n",
       "((x \\in P) \\land (x \\in Q)) \\lor \\neg (x \\in A) \\ (*)$"
      ],
      "text/plain": [
       "<IPython.core.display.Latex object>"
      ]
     },
     "metadata": {},
     "output_type": "display_data"
    }
   ],
   "source": [
    "%%latex\n",
    "$\\neg ( (x \\in P) \\to \\neg (x \\in Q)) \\lor \\neg (x \\in A) \\iff \n",
    "\\neg (\\neg (x \\in P) \\lor \\neg (x \\in Q)) \\lor \\neg (x \\in A) \\iff \\\\\n",
    "\\iff \\neg \\neg ((x \\in P) \\land (x \\in Q)) \\lor \\neg (x \\in A) \\iff\n",
    "((x \\in P) \\land (x \\in Q)) \\lor \\neg (x \\in A) \\ (*)$"
   ]
  },
  {
   "cell_type": "code",
   "execution_count": 43,
   "metadata": {},
   "outputs": [
    {
     "data": {
      "text/latex": [
       "$ (*) \\iff (((5 \\leq \\ x \\ \\leq 13) \\land (8 \\leq \\ x \\ \\leq 19)) \\lor \\neg (x \\in A)) \\ \\equiv \\ TRUE \\iff \\\\\n",
       "\\iff (8 \\leq \\ x \\ \\leq 13) \\lor \\neg (x \\in A)) \\ \\equiv \\ TRUE \\iff (x \\in A) \\ \\equiv (8 \\leq \\ x \\ \\leq 13)$"
      ],
      "text/plain": [
       "<IPython.core.display.Latex object>"
      ]
     },
     "metadata": {},
     "output_type": "display_data"
    }
   ],
   "source": [
    "%%latex\n",
    "$ (*) \\iff (((5 \\leq \\ x \\ \\leq 13) \\land (8 \\leq \\ x \\ \\leq 19)) \\lor \\neg (x \\in A)) \\ \\equiv \\ TRUE \\iff \\\\\n",
    "\\iff (8 \\leq \\ x \\ \\leq 13) \\lor \\neg (x \\in A)) \\ \\equiv \\ TRUE \\iff (x \\in A) \\ \\equiv (8 \\leq \\ x \\ \\leq 13)$"
   ]
  },
  {
   "cell_type": "code",
   "execution_count": 44,
   "metadata": {},
   "outputs": [
    {
     "name": "stdout",
     "output_type": "stream",
     "text": [
      "\n",
      " Answer: 5\n"
     ]
    }
   ],
   "source": [
    "answer_dictionary[18]=str(13-8)\n",
    "print(\"\\n\",\"Answer:\",answer_dictionary[18])"
   ]
  },
  {
   "cell_type": "markdown",
   "metadata": {},
   "source": [
    "<div style=\"width: 800px; height: 500px; overflow:auto;\">\n",
    "    <img src=\"it_images/2017_06_19.png\" width=\"800\" height=\"500\"/>\n",
    "</div>"
   ]
  },
  {
   "cell_type": "markdown",
   "metadata": {},
   "source": [
    "В программе используется целочисленный массив $A$ с индексами от 0 до 9. Значения элементов массива равны $4; 5; 4; 7; 10; 8; 9; 11; 7; 6$ соответственно, т.е. $A[0] = 4$; $A[1] = 5$ и т.д.\n",
    "\n",
    "Определите значение переменной $max$ после выполнения следующего фрагмента программы, записанной ниже на разных языках программирования.\n",
    "\n",
    "---\n",
    "\n",
    "The program uses an integer array $A$ with indices from 0 to 9. The values of the array elements are $4; 5; 4; 7; 10; 8; 9; 11; 7; 6$ respectively, i.e.  $A[0] = 4$; $A[1] = 5$, etc.\n",
    "\n",
    "Determine the value of the variable $max$ after executing the next program fragment, written down below in different programming languages."
   ]
  },
  {
   "cell_type": "code",
   "execution_count": 45,
   "metadata": {},
   "outputs": [
    {
     "name": "stdout",
     "output_type": "stream",
     "text": [
      "\n",
      " Answer: 6\n"
     ]
    }
   ],
   "source": [
    "A = numpy.array([4,5,4,7,10,8,9,11,7,6])\n",
    "k = 0\n",
    "max_ = A[0]\n",
    "for i in range(1,10): \n",
    "    if A[i] >= A[k]:\n",
    "        max_ = A[i]\n",
    "        \n",
    "answer_dictionary[19]=str(max_)\n",
    "print(\"\\n\",\"Answer:\", answer_dictionary[19])"
   ]
  },
  {
   "cell_type": "markdown",
   "metadata": {},
   "source": [
    "<div style=\"width: 800px; height: 650px; overflow:auto;\">\n",
    "    <img src=\"it_images/2017_06_20.png\" width=\"800\" height=\"650\"/>\n",
    "</div>"
   ]
  },
  {
   "cell_type": "markdown",
   "metadata": {},
   "source": [
    "Ниже на четырёх языках записан алгоритм. Получив на вход число $х$, этот алгоритм печатает два числа $L$ и $М$. \n",
    "\n",
    "Укажите наибольшее из таких чисел $х$, при вводе которых алгоритм печатает сначала 3, а потом 7.\n",
    "\n",
    "---\n",
    "\n",
    "Below, in four languages, the algorithm is written. Having received the input number $х$, this algorithm prints two numbers $L$ and $М$.\n",
    "\n",
    "Specify the largest numbers $х$, for which the algorithm prints at first 3, and then 7."
   ]
  },
  {
   "cell_type": "code",
   "execution_count": 46,
   "metadata": {},
   "outputs": [
    {
     "name": "stdout",
     "output_type": "stream",
     "text": [
      "991 3 1\n",
      "992 3 2\n",
      "993 3 3\n",
      "994 3 4\n",
      "995 3 5\n",
      "996 3 6\n",
      "997 3 7\n",
      "998 3 8\n",
      "999 3 9\n"
     ]
    }
   ],
   "source": [
    "for x in range(991,1000):\n",
    "    L, M, t = 0, 9, x\n",
    "    while x > 0:\n",
    "        L += 1\n",
    "        if M > x % 10:\n",
    "            M = x % 10\n",
    "        x = int(x/10)\n",
    "    print(t, L, M)\n",
    "    if L == 3 and M == 7:\n",
    "        answer_dictionary[20]=str(t)"
   ]
  },
  {
   "cell_type": "code",
   "execution_count": 47,
   "metadata": {},
   "outputs": [
    {
     "name": "stdout",
     "output_type": "stream",
     "text": [
      "\n",
      " Answer: 997\n"
     ]
    }
   ],
   "source": [
    "print(\"\\n\",\"Answer:\", answer_dictionary[20])"
   ]
  },
  {
   "cell_type": "markdown",
   "metadata": {},
   "source": [
    "Алгоритм вычисляет количество цифр в исходном числе (L) и определяет минимальную цифру среди них (M). L=3, M=7 печатается для трехзначного числа с минимальной цифрой 7. Максимальным среди чисел такого вида будет 997.\n",
    "\n",
    "---\n",
    "\n",
    "The algorithm calculates the number of digits in the original number (L) and determines the minimum digit among them (M). L = 3, M = 7 is printed for a three-digit number with a minimum digit 7. The maximum among the numbers of this kind will be 997."
   ]
  },
  {
   "cell_type": "markdown",
   "metadata": {},
   "source": [
    "<div style=\"width: 800px; height: 900px; overflow:auto;\">\n",
    "    <img src=\"it_images/2017_06_21_1.png\" width=\"800\" height=\"400\"/>\n",
    "    <img src=\"it_images/2017_06_21_2.png\" width=\"800\" height=\"500\"/>\n",
    "</div>"
   ]
  },
  {
   "cell_type": "markdown",
   "metadata": {},
   "source": [
    "Определите, при каком наименьшем значении b в результате выполнения следующего алгоритма будет напечатано число 20 (для Вашего удобства алгоритм представлен на четырёх языках):\n",
    "\n",
    "---\n",
    "\n",
    "Determine at what the smallest value of b as a result of the following algorithm will be printed the number 20 (for your convenience, the algorithm is presented in four languages):"
   ]
  },
  {
   "cell_type": "code",
   "execution_count": 48,
   "metadata": {},
   "outputs": [
    {
     "name": "stdout",
     "output_type": "stream",
     "text": [
      "Pairs [b,a]: \n",
      " [[100, 15], [101, 15], [102, 15], [103, 15], [104, 15], [105, 15], [106, 16], [107, 16], [108, 16], [109, 16], [110, 16], [111, 16], [112, 16], [113, 17], [114, 17], [115, 17], [116, 17], [117, 17], [118, 17], [119, 17], [120, 18], [121, 18], [122, 18], [123, 18], [124, 18], [125, 18], [126, 18], [127, 19], [128, 19], [129, 19], [130, 19], [131, 19], [132, 19], [133, 19], [134, 20], [135, 20], [136, 20], [137, 20], [138, 20], [139, 20], [140, 20], [141, 21], [142, 21], [143, 21], [144, 21], [145, 21], [146, 21], [147, 21], [148, 22], [149, 22], [150, 22], [151, 22], [152, 22], [153, 22], [154, 22], [155, 23], [156, 23], [157, 23], [158, 23], [159, 23], [160, 23], [161, 23], [162, 24], [163, 24], [164, 24], [165, 24], [166, 24], [167, 24], [168, 24], [169, 25], [170, 25], [171, 25], [172, 25], [173, 25], [174, 25], [175, 25], [176, 26], [177, 26], [178, 26], [179, 26], [180, 26], [181, 26], [182, 26], [183, 27], [184, 27], [185, 27], [186, 27], [187, 27], [188, 27], [189, 27], [190, 28], [191, 28], [192, 28], [193, 28], [194, 28], [195, 28], [196, 28], [197, 29], [198, 29], [199, 29], [200, 29]]\n"
     ]
    }
   ],
   "source": [
    "def F(x):\n",
    "    if x == 0: \n",
    "        return 0\n",
    "    else: \n",
    "        return 7 + F(x - 1)\n",
    "A = [] \n",
    "\n",
    "for b in range(100, 201):\n",
    "    a = 0\n",
    "    while F(a) < b:\n",
    "        a += 1\n",
    "        \n",
    "    A.append([b,a])\n",
    "\n",
    "print('Pairs [b,a]: \\n',A)"
   ]
  },
  {
   "cell_type": "code",
   "execution_count": 49,
   "metadata": {},
   "outputs": [
    {
     "name": "stdout",
     "output_type": "stream",
     "text": [
      "\n",
      " Answer: 134\n"
     ]
    }
   ],
   "source": [
    "A=numpy.array(A)\n",
    "answer_dictionary[21]=str(int(min(A[:,0][A[:,1]==20])))\n",
    "print(\"\\n\",\"Answer:\", answer_dictionary[21])"
   ]
  },
  {
   "cell_type": "markdown",
   "metadata": {},
   "source": [
    "Алгоритм вычисляет количество целых неотрицательных чисел, кратных 7 и меньших параметра b. \n",
    "\n",
    "При $b \\leq 133$ таких чисел будет меньше 20. При $b = 134$ их станет 20: $\\{0, 7, 14, ..., 133\\}$.\n",
    "\n",
    "---\n",
    "\n",
    "The algorithm calculates the number of non-negative integers that are multiples of 7 and smaller than the parameter b.\n",
    "\n",
    "For $b \\leq 133$ the quantity of these numbers will be less than 20. For $b = 134$, it will be 20: $\\{0, 7, 14, ..., 133 \\}$."
   ]
  },
  {
   "cell_type": "markdown",
   "metadata": {},
   "source": [
    "<div style=\"width: 800px; height: 180px; overflow:auto;\">\n",
    "    <img src=\"it_images/2017_06_22.png\" width=\"800\" height=\"180\"/>\n",
    "</div>"
   ]
  },
  {
   "cell_type": "markdown",
   "metadata": {},
   "source": [
    "У исполнителя `Удвоитель` две команды, которым присвоены номера:\n",
    "\n",
    "$1$. `прибавь 1`,\n",
    "\n",
    "$2$. `умножь на 2`.\n",
    "\n",
    "Первая из них увеличивает число на экране на 1, вторая удваивает его. \n",
    "\n",
    "Программа для `Удвоителя` — это последовательность команд.\n",
    "\n",
    "Сколько есть программ, которые число 2 преобразуют в число 25?\n",
    "\n",
    "---\n",
    "\n",
    "The performer `Doubler` has two enumerated commands:\n",
    "\n",
    "$1$. `add 1`,\n",
    "\n",
    "$2$. `multiply by 2`.\n",
    "\n",
    "The first of them increases the number on the screen by 1, the second doubles it.\n",
    "\n",
    "The program for `Doubler` is a sequence of commands.\n",
    "\n",
    "How many programs are there, which number 2 is converted to 25?"
   ]
  },
  {
   "cell_type": "code",
   "execution_count": 86,
   "metadata": {},
   "outputs": [
    {
     "data": {
      "image/png": "[encoded data removed]",
      "text/plain": [
       "<matplotlib.figure.Figure at 0x10a94c128>"
      ]
     },
     "metadata": {},
     "output_type": "display_data"
    }
   ],
   "source": [
    "G4 = nx.balanced_tree(2, 4)\n",
    "pos = graphviz_layout(G4, prog='twopi', args='')\n",
    "\n",
    "plt.figure(figsize=(18, 9))\n",
    "node_labels={0:2, 1:3, 2:4, 3:4, 4:6, 5:5, 6:8, 7:5, \n",
    "             8:8, 9:7, 10:12, 11:6, 12:10, 13:9, 14:16,\n",
    "             15:6, 16:10, 17:9, 18:16, 19:8, 20:14, 21:13, 22:24, \n",
    "             23:7, 24:12, 25:11, 26:20, 27:10, 28:18, 29:17, 30:32}\n",
    "edge_labels={(0,1):'+1', (0,2):'*2', (1,3):'+1', (1,4):'*2', (2,5):'+1', (2,6):'*2', \n",
    "             (3,7):'+1', (3,8):'*2', (4,9):'+1', (4,10):'*2', (5,11):'+1', (5,12):'*2', \n",
    "             (6,13):'+1', (6,14):'*2', (7,15):'+1', (7,16):'*2', (8,17):'+1', (8,18):'*2', \n",
    "             (9,19):'+1', (9,20):'*2', (10,21):'+1', (10,22):'*2', (11,23):'+1', (11,24):'*2', \n",
    "             (12,25):'+1', (12,26):'*2', (13,27):'+1', (13,28):'*2', (14,29):'+1', (14,30):'*2'}\n",
    "\n",
    "nx.draw(G4, pos, node_size=1800, alpha=0.7, node_color=\"lightsteelblue\")\n",
    "nx.draw_networkx_labels(G4, pos, node_labels, font_size=25, font_weight='bold')\n",
    "nx.draw_networkx_edge_labels(G4, pos, edge_labels, font_size=25, font_weight='bold')\n",
    "\n",
    "plt.axis('equal')\n",
    "plt.show()"
   ]
  },
  {
   "cell_type": "markdown",
   "metadata": {},
   "source": [
    "| Начальное число → Конечное число | Количество программ | Примечание |\n",
    "|:-|:-|:-|\n",
    "| Start → End | Number of Programs | Notes |\n",
    "| 2 → 3 | 1 | `2+1` |\n",
    "| 2 → 4 | 2 | `2+1+1`, `2*2` |\n",
    "| 2 → 5 | 2 | `2+1+1+1`, `2*2+1` |\n",
    "| 2 → 6 | 3 | = 2 → 3 + 2 → 4 |\n",
    "| 2 → 7 | 3 | = 2 → 6 |\n",
    "| 2 → 8 | 5 | 2 → 4 + 2 → 6 |\n",
    "| 2 → 9 | 5 | = 2 → 8 |\n",
    "| 2 → 10 | 7 | = 2 → 5 + 2 → 8 |\n",
    "| 2 → 11 | 7 | = 2 → 10 |\n",
    "| 2 → 12 | 10 | = 2 → 6 + 2 → 10 |\n",
    "| 2 → 13 | 10 | = 2 → 12 |\n",
    "| 2 → 14 | 13 | = 2 → 7 + 2 → 12 |\n",
    "| 2 → 15 | 13 | = 2 → 14 |\n",
    "| 2 → 16 | 18 | = 2 → 8 + 2 → 14 |\n",
    "| 2 → 17 | 18 | = 2 → 16 |\n",
    "| 2 → 18 | 23 | = 2 → 9 + 2 → 16 |\n",
    "| 2 → 19 | 23 | = 2 → 18 |\n",
    "| 2 → 20 | 30 | = 2 → 10 + 2 → 18 |\n",
    "| 2 → 21 | 30 | = 2 → 20 |\n",
    "| 2 → 22 | 37 | = 2 → 11 + 2 → 20 |\n",
    "| 2 → 23 | 37 | = 2 → 22 |\n",
    "| 2 → 24 | 47 | = 2 → 12 + 2 → 22 |\n",
    "| 2 → 25 | 47 | = 2 → 24 |"
   ]
  },
  {
   "cell_type": "code",
   "execution_count": 50,
   "metadata": {},
   "outputs": [
    {
     "name": "stdout",
     "output_type": "stream",
     "text": [
      "Length of x: 16777215\n",
      "\n",
      " Answer: 47\n"
     ]
    }
   ],
   "source": [
    "x = [2]\n",
    "for i in range(23):\n",
    "    n=int(len(x)-2**i)\n",
    "    y=[el+1 for el in x[n:]]\n",
    "    z=[el*2 for el in x[n:]]\n",
    "    x=x+y+z\n",
    "\n",
    "print('Length of x:', len(x))\n",
    "answer_dictionary[22]=str(x.count(25))\n",
    "print(\"\\n\",\"Answer:\", answer_dictionary[22])"
   ]
  },
  {
   "cell_type": "markdown",
   "metadata": {},
   "source": [
    "<div style=\"width: 800px; height: 280px; overflow:auto;\">\n",
    "    <img src=\"it_images/2017_06_23.png\" width=\"800\" height=\"280\"/>\n",
    "</div>"
   ]
  },
  {
   "cell_type": "markdown",
   "metadata": {},
   "source": [
    "Сколько существует различных наборов значений логических переменных $x_1, х_2, ... х_7 $, которые удовлетворяют всем перечисленным ниже условиям? \n",
    "\n",
    "В ответе не нужно перечислять все различные наборы значений $x_1, х_2, ... х_7$, при которых выполнена данная система равенств. В качестве ответа вам нужно указать количество таких наборов.\n",
    "\n",
    "---\n",
    "\n",
    "How many different sets of values of logical variables $x_1, х_2, ... х_7$ exist that satisfy all the conditions listed below?\n",
    "\n",
    "In the answer it is not necessary to list all the different sets of values $x_1, х_2, ... х_7$ for which the given system of equations is satisfied. As an answer, you need to specify only the number of such sets.\n",
    "\n",
    "- $ (x_1 \\equiv \\neg x_2) \\lor (x_1 \\land \\neg x_3) \\lor (\\neg x_1 \\land x_3) = 1 $  ***(1)***\n",
    "- $ (x_2 \\equiv \\neg x_3) \\lor (x_2 \\land \\neg x_4) \\lor (\\neg x_2 \\land x_4) = 1 $  ***(2)***\n",
    "- $ (x_3 \\equiv \\neg x_4) \\lor (x_3 \\land \\neg x_5) \\lor (\\neg x_3 \\land x_5) = 1 $  ***(3)***\n",
    "- $ (x_4 \\equiv \\neg x_5) \\lor (x_4 \\land \\neg x_6) \\lor (\\neg x_4 \\land x_6) = 1 $  ***(4)***\n",
    "- $ (x_5 \\equiv \\neg x_6) \\lor (x_5 \\land \\neg x_7) \\lor (\\neg x_5 \\land x_7) = 1 $  ***(5)***\n"
   ]
  },
  {
   "cell_type": "markdown",
   "metadata": {},
   "source": [
    "| $x_1$ | $x_3$ | $(x_1 \\land \\neg x_3) \\lor (\\neg x_1 \\land x_3)$ | $x_1 \\equiv \\neg x_3$ |\n",
    "|:-:|:-:|:-:|:-:|\n",
    "| 0 | 0 | 0 | 0 |\n",
    "| 0 | 1 | 1 | 1 |\n",
    "| 1 | 0 | 1 | 1 |\n",
    "| 1 | 1 | 0 | 0 |\n",
    "\n",
    "Согласно приведенной таблице истинности:\n",
    "\n",
    "---\n",
    "\n",
    "According to the truth table:\n",
    "\n",
    " $((x_1 \\land \\neg x_3) \\lor (\\neg x_1 \\land x_3)) \\equiv (x_1 \\equiv \\neg x_3)$\n",
    " \n",
    "Исходная система уравнений будет равносильна:\n",
    "\n",
    "---\n",
    "\n",
    "The initial system of equations is equivalent to:\n",
    "\n",
    "- $ (x_1 \\equiv \\neg x_2) \\lor (x_1 \\equiv \\neg x_3) = 1 \\ (1*)$  \n",
    "- $ (x_2 \\equiv \\neg x_3) \\lor (x_2 \\equiv \\neg x_4) = 1 \\ (2*)$  \n",
    "- $ (x_3 \\equiv \\neg x_4) \\lor (x_3 \\equiv \\neg x_5) = 1 \\ (3*)$  \n",
    "- $ (x_4 \\equiv \\neg x_5) \\lor (x_4 \\equiv \\neg x_6) = 1 \\ (4*)$  \n",
    "- $ (x_5 \\equiv \\neg x_6) \\lor (x_5 \\equiv \\neg x_7) = 1 \\ (5*)$ \n"
   ]
  },
  {
   "cell_type": "markdown",
   "metadata": {},
   "source": [
    "1) Тождество $(1*)$ выполнется только для 6 наборов переменных $(x_1,x_2,x_3)$ из 8 возможных: (0,0,1), (0,1,0), (1,0,0), (1,1,0), (0,1,1), (1,0,1).\n",
    "\n",
    "2) Эти решения $(x_1,x_2,x_3)$ должны пересекаться со множеством решений тождества $(2*)$ для переменных $(x_2,x_3,x_4)$. Два набора $(x_1,x_2,x_3)$ (1,0,0) или (0,1,1) могут быть решениями $(2*)$ только, если $(x_1,x_2,x_3,x_4)$ равны (1,0,0,1) или (0,1,1,0) соответственно. Для остальных 4 наборов $(x_1,x_2,x_3)$ переменная $x_4$ может принимать любые значения. Все решениями системы уравнений $(1*)$ и $(2*)$ являются $2 + 4 * 2 = 10$ наборов переменных $(x_1,x_2,x_3,x_4)$.\n",
    "\n",
    "3) Рассуждая аналогично: \n",
    "\n",
    "   - решениями тождеств $(1*)$, $(2*)$, $(3*)$ будут $4 + 6 * 2 = 16$ наборов переменных; \n",
    "   \n",
    "   - решениями тождеств $(1*)$, $(2*)$, $(3*)$ , $(4*)$  будут $6 + 10 * 2 = 26$ наборов переменных;\n",
    "   \n",
    "   - решениями тождеств $(1*)$, $(2*)$, $(3*)$ , $(4*)$, $(5*)$  будут $10 + 16 * 2 = 42$ набора переменных.\n",
    "   \n",
    "---\n",
    "\n",
    "1) The identity $(1*)$ is fulfilled only for 6 sets of variables $(x_1,x_2,x_3)$ from 8 possible ones: (0,0,1), (0,1,0), (1,0,0), (1,1,0), (0,1,1), (1,0,1).\n",
    "\n",
    "2) These sets $(x_1, x_2, x_3)$ must intersect the set of solutions of the identity $(2*)$ for the variables $(x_2, x_3, x_4)$. Two sets $(x_1, x_2, x_3)$ (1,0,0) or (0,1,1) can be solutions of $(2 *)$ only if $(x_1, x_2, x_3, x_4)$ are equal to (1,0,0,1) or (0,1,1,0) respectively. For the remaining 4 sets $(x_1, x_2, x_3)$, the variable $x_4$ can take any values. All solutions of the system of equations $(1 *)$ and $(2 *)$ are $2 + 4 * 2 = 10$ sets of variables $(x_1, x_2, x_3, x_4)$.\n",
    "\n",
    "3) Arguing similarly, we get:\n",
    "\n",
    "   - $4 + 6 * 2 = 16$ sets $(x_1, x_2, x_3, x_4, x_5)$ are solutions of the system $(1 *)$, $(2*)$, $(3*)$;\n",
    "\n",
    "   - $6 + 10 * 2 = 26$ sets $(x_1, x_2, x_3, x_4, x_5, x_6)$ are solutions of the system $(1*), (2*), (3*), (4*)$;\n",
    "   \n",
    "   - $10 + 16 * 2 = 42$ sets $(x_1, x_2, x_3, x_4, x_5, x_6, x_7)$ are solutions of the system $(1*), (2*), (3*), (4*), (5*)$."
   ]
  },
  {
   "cell_type": "code",
   "execution_count": 52,
   "metadata": {},
   "outputs": [
    {
     "name": "stdout",
     "output_type": "stream",
     "text": [
      "\n",
      " Answer: 42\n"
     ]
    }
   ],
   "source": [
    "# check the decision method\n",
    "import itertools\n",
    "\n",
    "n = 7\n",
    "binary_combinations = numpy.array(list(itertools.product([0, 1], repeat=n)))\n",
    "result = []\n",
    "\n",
    "def logical_function(k,l,m):\n",
    "    return (k == (not l)) or (k and (not m)) or ((not k) and m)\n",
    "\n",
    "for el in binary_combinations:\n",
    "    e1 = logical_function(el[0],el[1],el[2])\n",
    "    e2 = logical_function(el[1],el[2],el[3])\n",
    "    e3 = logical_function(el[2],el[3],el[4])\n",
    "    e4 = logical_function(el[3],el[4],el[5])\n",
    "    e5 = logical_function(el[4],el[5],el[6])\n",
    "       \n",
    "    result.append(e1 == 1 and e2 == 1 and e3 == 1 and e4 == 1 and e5 == 1)\n",
    "\n",
    "answer_dictionary[23]=str(sum(result))\n",
    "print(\"\\n\",\"Answer:\", answer_dictionary[23])"
   ]
  },
  {
   "cell_type": "markdown",
   "metadata": {},
   "source": [
    "## Часть 2 &nbsp; &nbsp; &nbsp; Part 2"
   ]
  },
  {
   "cell_type": "markdown",
   "metadata": {},
   "source": [
    "<div style=\"width: 800px; height: 880px; overflow:auto;\">\n",
    "    <img src=\"it_images/2017_06_24_1.png\" width=\"800\" height=\"390\"/>\n",
    "    <img src=\"it_images/2017_06_24_2.png\" width=\"800\" height=\"490\"/>\n",
    "</div>"
   ]
  },
  {
   "cell_type": "markdown",
   "metadata": {},
   "source": [
    "Требовалось написать программу, которая вводит с клавиатуры натуральное число $N \\ (N < 10^9)$ и выводит на экран наибольшую цифру числа. Программист торопился и написал программу неправильно.\n",
    "\n",
    "Выполните следующие действия:\n",
    "\n",
    "$1$. Напишите, что выведет программа при вводе числа 527.\n",
    "\n",
    "$2$. Приведите пример такого числа, при котором программа работает верно.\n",
    "\n",
    "$3$. Укажите все ошибки в программе и исправьте их. Для этого для каждой ошибки: выпишите строку, которая написана неправильно и приведите правильный вариант строки.\n",
    "\n",
    "---\n",
    "\n",
    "It was required to write a program that enters from the keyboard a natural number $N \\ (N < 10^9)$ and displays the largest digit of this number on the screen. The programmer was in a hurry and wrote the program incorrectly.\n",
    "\n",
    "Do the following:\n",
    "\n",
    "$1$. Write what the program will output when you enter the number 527.\n",
    "\n",
    "$2$. Give an example of a number, for which the program works correctly.\n",
    "\n",
    "$3$. Specify all errors in the program and correct them. To do this, for each error: write out the line that was written incorrectly and give the correct version of the line."
   ]
  },
  {
   "cell_type": "code",
   "execution_count": 179,
   "metadata": {},
   "outputs": [
    {
     "name": "stdout",
     "output_type": "stream",
     "text": [
      "N = 527\n",
      "2\n"
     ]
    }
   ],
   "source": [
    "# the wrong program, the wrong result\n",
    "N = int(input(\"N = \"))\n",
    "k = 10\n",
    "while N > 0:\n",
    "    if N % 10 < k:\n",
    "        k = N % 10\n",
    "    N = int(N / 10)\n",
    "\n",
    "print(k)"
   ]
  },
  {
   "cell_type": "code",
   "execution_count": 180,
   "metadata": {},
   "outputs": [
    {
     "name": "stdout",
     "output_type": "stream",
     "text": [
      "N = 111\n",
      "1\n"
     ]
    }
   ],
   "source": [
    "# the wrong program, the right result\n",
    "N = int(input(\"N = \"))\n",
    "k = 10\n",
    "while N > 0:\n",
    "    if N % 10 < k:\n",
    "        k = N % 10\n",
    "    N = int(N / 10)\n",
    "\n",
    "print(k)"
   ]
  },
  {
   "cell_type": "code",
   "execution_count": 181,
   "metadata": {},
   "outputs": [
    {
     "name": "stdout",
     "output_type": "stream",
     "text": [
      "N = 527\n",
      "7\n"
     ]
    }
   ],
   "source": [
    "# the right program, the right result\n",
    "N = int(input(\"N = \"))\n",
    "k = 0\n",
    "while N > 0:\n",
    "    if N % 10 > k:\n",
    "        k = N % 10\n",
    "    N = int(N / 10)\n",
    "\n",
    "print(k)"
   ]
  },
  {
   "cell_type": "code",
   "execution_count": 53,
   "metadata": {},
   "outputs": [
    {
     "name": "stdout",
     "output_type": "stream",
     "text": [
      "\n",
      " Answer: ['1. 2', '2. 111', '3. \"k = 10\" -> \"k = 0\"; \"if N % 10 < k\" -> \"if N % 10 > k\"']\n"
     ]
    }
   ],
   "source": [
    "answer_dictionary[24]=['1. 2', '2. 111', \n",
    "                       '3. \"k = 10\" -> \"k = 0\"; \"if N % 10 < k\" -> \"if N % 10 > k\"']\n",
    "print(\"\\n\",\"Answer:\", answer_dictionary[24])"
   ]
  },
  {
   "cell_type": "markdown",
   "metadata": {},
   "source": [
    "<div style=\"width: 800px; height: 980px; overflow:auto;\">\n",
    "    <img src=\"it_images/2017_06_25_1.png\" width=\"800\" height=\"150\"/>\n",
    "    <img src=\"it_images/2017_06_25_2.png\" width=\"800\" height=\"830\"/>\n",
    "</div>"
   ]
  },
  {
   "cell_type": "markdown",
   "metadata": {},
   "source": [
    "Дан целочисленный массив из 40 элементов. Элементы массива могут принимать значения от -10000 до 10000. Опишите на русском языке или на одном из языков программирования алгоритм, который находит и выводит наибольшую сумму двух соседних элементов, которая не кратна 3-м. Если таких пар нет, вывести на экран 0.\n",
    "\n",
    "Исходные данные объявлены так, как показано ниже. Запрещается использовать переменные, не описанные ниже, но разрешается не использовать часть из них.\n",
    "\n",
    "- Объявляем массив `A` из 40 элементов.\n",
    "\n",
    "- Объявляем целочисленные переменные `I, K, SUM, MAX`.\n",
    "\n",
    "- В цикле от 1 до 40 вводим элементы массива `A` с 1-го по 40-й.\n",
    "\n",
    "- ...\n",
    "\n",
    "В качестве ответа вам необходимо привести фрагмент программы (или описание алгоритма на естественном языке), который должен находиться на месте многоточия. Вы можете записать решение также на другом языке программирования (укажите название и используемую версию языка программирования, например `Borland Pascal 7.0`) или в виде блок-схемы. В этом случае вы должны использовать те же самые исходные данные и переменные, какие были предложены в условии (например, в образце, записанном на естественном языке).\n",
    "\n",
    "---\n",
    "\n",
    "An integer array of 40 elements is given. Elements of the array can take values from -10000 to 10000. Describe in Russian or in one of the programming languages an algorithm that finds and displays the largest sum of two neighboring elements, which has not the multiplier 3. If there are no such pairs, display 0.\n",
    "\n",
    "The original data is declared as shown below. It is forbidden to use variables not described below, but it is allowed not to use part of them.\n",
    "\n",
    "- Declare an array `A` of 40 elements.\n",
    "\n",
    "- Declare the integer variables `I, K, SUM, MAX`.\n",
    "\n",
    "- In the cycle from 1 to 40, we introduce the elements of array `A` from the 1st to the 40th.\n",
    "\n",
    "- ...\n",
    "\n",
    "As an answer, you need to bring the program fragment (or description of the algorithm in natural language), which should be in place of the ellipsis. You can also write the solution in another programming language (specify the name and the version of the programming language used, for example `Borland Pascal 7.0`) or as a flowchart. In this case, you must use the same source data and variables that were proposed in the condition (for example, in a sample written in natural language)."
   ]
  },
  {
   "cell_type": "code",
   "execution_count": 102,
   "metadata": {},
   "outputs": [
    {
     "name": "stdout",
     "output_type": "stream",
     "text": [
      "Create an array of 40 integer numbers from [-10000, 10000].\n",
      " 3\n",
      " 6\n",
      " 9\n",
      " 12\n",
      " 15\n",
      " 18\n",
      " 21\n",
      " 24\n",
      " 27\n",
      " 30\n",
      " 3000\n",
      " 33\n",
      " 36\n",
      " 11\n",
      " 22\n",
      " 33\n",
      " 44\n",
      " 55\n",
      " 66\n",
      " 77\n",
      " 88\n",
      " 99\n",
      " 100\n",
      " -11\n",
      " -22\n",
      " -33\n",
      " -44\n",
      " -55\n",
      " -66\n",
      " -77\n",
      " -88\n",
      " -99\n",
      " -100\n",
      " -3\n",
      " -6\n",
      " -9\n",
      " -12\n",
      " -15\n",
      " -18\n",
      " -21\n",
      "199\n"
     ]
    }
   ],
   "source": [
    "print(\"Create an array of 40 integer numbers from [-10000, 10000].\")\n",
    "A = numpy.zeros(40)\n",
    "MAX = -20001\n",
    "A[0] = int(input(\" \"))\n",
    "for I in range(1,40):\n",
    "    A[I] = int(input(\" \"))\n",
    "    if ((A[I-1] + A[I]) % 3 != 0) and (A[I-1] + A[I] > MAX): \n",
    "        MAX = A[I-1] + A[I]\n",
    "    if MAX ==-20001:\n",
    "        MAX = 0\n",
    "        \n",
    "print(int(MAX))"
   ]
  },
  {
   "cell_type": "code",
   "execution_count": 54,
   "metadata": {},
   "outputs": [],
   "source": [
    "import sys\n",
    "version = 'python '+str(sys.version_info[0])+'.'+str(sys.version_info[1])"
   ]
  },
  {
   "cell_type": "code",
   "execution_count": 55,
   "metadata": {},
   "outputs": [],
   "source": [
    "program_fragment = \\\n",
    "\"\"\"\n",
    "print(\"Create an array of 40 integer numbers from [-10000, 10000].\")\n",
    "A = numpy.zeros(40)\n",
    "MAX = -20001\n",
    "A[0] = int(input(\" \"))\n",
    "for I in range(1,40):\n",
    "    A[I] = int(input(\" \"))\n",
    "    if ((A[I-1] + A[I]) % 3 != 0) and (A[I-1] + A[I] > MAX): \n",
    "        MAX = A[I-1] + A[I]\n",
    "    if MAX ==-20001:\n",
    "        MAX = 0\n",
    "        \n",
    "print(int(MAX))\n",
    "\"\"\""
   ]
  },
  {
   "cell_type": "code",
   "execution_count": 56,
   "metadata": {},
   "outputs": [
    {
     "name": "stdout",
     "output_type": "stream",
     "text": [
      "Answer: ['python 3.6', '\\nprint(\"Create an array of 40 integer numbers from [-10000, 10000].\")\\nA = numpy.zeros(40)\\nMAX = -20001\\nA[0] = int(input(\" \"))\\nfor I in range(1,40):\\n    A[I] = int(input(\" \"))\\n    if ((A[I-1] + A[I]) % 3 != 0) and (A[I-1] + A[I] > MAX): \\n        MAX = A[I-1] + A[I]\\n    if MAX ==-20001:\\n        MAX = 0\\n        \\nprint(int(MAX))\\n']\n"
     ]
    }
   ],
   "source": [
    "answer_dictionary[25]=[version, program_fragment]\n",
    "print(\"Answer:\", answer_dictionary[25])"
   ]
  },
  {
   "cell_type": "markdown",
   "metadata": {},
   "source": [
    "<div style=\"width: 800px; height: 680px; overflow:auto;\">\n",
    "    <img src=\"it_images/2017_06_26_1.png\" width=\"800\" height=\"340\"/>\n",
    "    <img src=\"it_images/2017_06_26_2.png\" width=\"800\" height=\"340\"/>\n",
    "</div>"
   ]
  },
  {
   "cell_type": "markdown",
   "metadata": {},
   "source": [
    "Два игрока, Петя и Ваня, играют в следующую игру. Перед игроками лежит куча камней. Игроки ходят по очереди, первый ход делает Петя. За один ход игрок может добавить в кучу один или два камня или увеличить количество камней в куче в три раза. Например, имея кучу из 15 камней, за один ход можно получить кучу из 16, 17 или 45 камней. У каждого игрока, чтобы делать ходы, есть неограниченное количество камней.\n",
    "\n",
    "Игра завершается в тот момент, когда количество камней в куче становится не менее 30. Победителем считается игрок, сделавший последний ход, то есть первым получивший кучу, в которой будет 30 или больше камней.\n",
    "\n",
    "В начальный момент в куче было $S$ камней, $1 ≤ S ≤ 29$.\n",
    "\n",
    "Говорят, что игрок имеет выигрышную стратегию, если он может выиграть при любых ходах противника. Описать стратегию игрока — значит описать, какой ход он должен сделать в любой ситуации, которая ему может встретиться при различной игре противника.\n",
    "\n",
    "Выполните следующие задания. Во всех случаях обосновывайте свой ответ.\n",
    "\n",
    "$1$. \n",
    "\n",
    "- $а)$ Укажите все такие значения числа $S$, при которых Петя может выиграть в один ход. Обоснуйте, что найдены все нужные значения $S$, и укажите выигрывающий ход для каждого указанного значения $S$.\n",
    "\n",
    "- $б)$ Укажите такое значение $S$, при котором Петя не может выиграть за один ход, но при любом ходе Пети Ваня может выиграть своим первым ходом. Опишите выигрышную стратегию Вани.\n",
    "\n",
    "$2$. Укажите два значения $S$, при которых у Пети есть выигрышная стратегия, причем \n",
    "\n",
    "- $а)$ Петя не может выиграть за один ход и \n",
    "\n",
    "- $б)$ Петя может выиграть своим вторым ходом независимо от того, как будет ходить Ваня. \n",
    "\n",
    "Для каждого указанного значения $S$ опишите выигрышную стратегию Пети.\n",
    "\n",
    "$3$. Укажите такое значение $S$, при котором:\n",
    "\n",
    "- $а)$ у Вани есть выигрышная стратегия, позволяющая ему выиграть первым или вторым ходом при любой игре Пети, и\n",
    "\n",
    "- $б)$ у Вани нет стратегии, которая позволит ему гарантированно выиграть первым ходом. \n",
    "\n",
    "Для указанного значения $S$ опишите выигрышную стратегию Вани. Постройте дерево всех партий, возможных при этой выигрышной стратегии Вани (в виде рисунка или таблицы). На рёбрах дерева указывайте, кто делает ход, в узлах — количество камней в куче.\n",
    "\n",
    "---\n",
    "\n",
    "Two players, Petya and Vanya, play the next game. There is a bunch of stones in front of them. Players move by turns, the first step is made by Petya. In one move, a player can add one or two stones to the pile or increase the number of stones in the heap by three times. For example, having a bunch of 15 stones, you can get a heap of 16, 17 or 45 stones by one step. Each player has an unlimited number of stones for playing.\n",
    "\n",
    "The game ends at the moment when the number of stones in the heap becomes at least 30. The winner is the player who made the last step, that is, the first to receive a pile, in which there will be 30 or more stones.\n",
    "\n",
    "At the initial moment, the heap had S stones, $1 ≤ S ≤ 29$.\n",
    "\n",
    "It is said that a player has a winning strategy if he can win at any moves of the opponent. To describe a player's strategy is to describe what course he should take in any situation that he can meet in a different game of the opponent.\n",
    "\n",
    "Complete the following tasks. In all cases, justify your answer.\n",
    "\n",
    "$1$.\n",
    "\n",
    "- $a)$ Indicate all such values of the number $S$ at which Petya can win in one turn. Justify that you have found all the required values of $S$, and indicate the winning move for each specified value of $S$.\n",
    "\n",
    "- $b)$ Specify a value $S$ for which Petya cannot win in one move, but at any his step Vanya can win with his first move. Describe the Vanya's winning strategy.\n",
    "\n",
    "$2$. Specify two values of $S$ for which Petya has a winning strategy, and two conditions are satisfied:\n",
    "\n",
    "- $a)$ Petya cannot win in one move;\n",
    "    \n",
    "- $b)$ Petya can win with his second move regardless of how Vanya will walk. \n",
    "\n",
    "For each specified value of $S$, describe the Petya's winning strategy.\n",
    "\n",
    "$3$. Specify an $S$ value such that both points are true:\n",
    "\n",
    "- $a)$ Vanya has a winning strategy that allows him to win by the first or second move with any Petya's game;\n",
    "\n",
    "- $b)$ Vanya does not have a strategy that will allow him to win by the first step with a guarantee. \n",
    "\n",
    "For the specified value of $S$, describe the Vanya's winning strategy. Build a tree of all the possible batches with this winning strategy of Vanya (in the form of a picture or a table). On the edges of the tree indicate who is making the move, in the nodes - the number of stones in the heap."
   ]
  },
  {
   "cell_type": "markdown",
   "metadata": {},
   "source": [
    "#### 1.\n",
    "- a. `10≤S≤29`, $S \\in \\{10,...,29\\}$. Петя выигрывает одним ходом - утраивая количество камней: `30≤3*S≤87`, $3∗S \\in \\{30,...,87\\}$. При `1≤S≤9`, $S \\in \\{1,...,9\\}$ невозможно выиграть одним ходом: `2≤S+1≤10` $S+1 \\in \\{2,...,10\\}$; `3≤S+2≤11`, $S+2 \\in \\{3,...,11\\}$; `3≤3*S≤27`, $3*S \\in \\{3,...,27\\}$.\n",
    "\n",
    "- б. `S=9`. При любом следующем шаге `9 -> 10 (P +1)`, `9 -> 11 (P +2)` или `9 -> 27 (P *3)` Петя выиграть не сможет, а Ваня гарантированно победит, утроив результат на следующем этапе: `10 -> 30 (V *3)`, `11 -> 33 (V *3)` или `27 -> 81 (V *3)`.\n",
    "\n",
    "---\n",
    "\n",
    "- a. `10≤S≤29`, $S \\in \\{10,...,29\\}$. Petya wins by one step - tripling the number of stones: `30≤3*S≤87`, $3∗S \\in \\{30,...,87\\}$. At `1≤S≤9`, $S \\in \\{1,...,9\\}$ it is not possible to win by one move: `2≤S+1≤10` $S+1 \\in \\{2,...,10\\}$; `3≤S+2≤11`, $S+2 \\in \\{3,...,11\\}$; `3≤3*S≤27`, $3*S \\in \\{3,...,27\\}$.\n",
    "\n",
    "- b. `S=9`. In this case, at any next step, `9 -> 10 (P +1)`, `9 -> 11 (P +2)` or `9 -> 27 (P *3)` Petya will not be able to win, and Vanya will win by tripling the result in the next stage: `10 -> 30 (V *3)`, `11 -> 33 (V *3)` or `27 -> 81 (V *3)`."
   ]
  },
  {
   "cell_type": "markdown",
   "metadata": {},
   "source": [
    "#### 2.\n",
    "`S=3, S=7, S=8`. Петя должен выбрать тогда ход `3 -> 9 (P *3)`, `7 -> 9 (P +2)`, `8 -> 9 (P +1)`. При любом следующем шаге `9 -> 10 (V +1)`, `9 -> 11 (V +2)`, `9 -> 27 (V *3)` Ваня выиграть не сможет, а Петя победит, утроив результат на следующем этапе: `10 -> 30 (P *3)`, `11 -> 33 (P *3)`, `27 -> 81 (P *3)`.\n",
    "\n",
    "---\n",
    "\n",
    "`S=3, S=7, S=8`. Petya should choose the step `3 -> 9 (P *3)`, `7 -> 9 (P +2)`, `8 -> 9 (P +1)`. At any next step, `9 -> 10 (V +1)`, `9 -> 11 (V +2)`, `9 -> 27 (V *3)` Vanya cannot win, but Petya wins by tripling the result in the next stage `10 -> 30 (P *3)`, `11 -> 33 (P *3)`, `27 -> 81 (P *3)`."
   ]
  },
  {
   "cell_type": "markdown",
   "metadata": {},
   "source": [
    "#### 3. \n",
    "`S=6`. Выигрышная стратегия Вани:\n",
    "\n",
    "- Если первый ход Пети `6 -> 7 (P +1)` или `6 -> 8 (P +2)`, то Ваня должен выбрать ход `7 -> 9 (V +2)` или `8 -> 9 (V +1)`. В этом случае при любом следующем шаге `9 -> 10 (P +1)`, `9 -> 11 (P +2)` или `9 -> 27 (P *3)` Петя выиграть не сможет, а Ваня гарантированно победит, утроив результат на следующем этапе: `10 -> 30 (V *3)`, `11 -> 33 (V *3)` или `27 -> 81 (V *3)`.\n",
    "- Если первый ход Пети `6 -> 18 (P *3)`, то Ваня выигрывает первым своим ходом, утроив количество камней: `18 -> 54 (V *3)`.\n",
    "\n",
    "Ваня не сможет гарантированно победить первым же ходом при такой стартовой позиции.\n",
    "\n",
    "---\n",
    "\n",
    "`S=6`. Vanya's winning strategy:\n",
    "\n",
    "- If the first move of Petya `6 -> 7 (P +1)` or `6 -> 8 (P +2)`, then Vanya should choose the course `7 -> 9 (V +2)` or `8 -> 9 (V +1)`. In this case, at any next step, `9 -> 10 (P +1)`, `9 -> 11 (P +2)` or `9 -> 27 (P *3)` Petya will not be able to win, and Vanya will win by tripling the result in the next stage: `10 -> 30 (V *3)`, `11 -> 33 (V *3)` or `27 -> 81 (V *3)`.\n",
    "- If the first move of Petya `6 -> 18 (P *3)`, then Vanya wins by his first move, tripling the number of stones: `18 -> 54 (V *3)`.\n",
    "\n",
    "It is not possible for Vanya to win by the first move with a guarantee with this start position."
   ]
  },
  {
   "cell_type": "code",
   "execution_count": 89,
   "metadata": {},
   "outputs": [
    {
     "data": {
      "image/png": "[encoded data removed]",
      "text/plain": [
       "<matplotlib.figure.Figure at 0x115daddd8>"
      ]
     },
     "metadata": {},
     "output_type": "display_data"
    }
   ],
   "source": [
    "plt.figure(figsize=(9,9))\n",
    "\n",
    "G5 = nx.DiGraph()\n",
    "\n",
    "G5.add_edges_from([('6', '7'),('6','8'),('6','18')])\n",
    "G5.add_edges_from([('7', '9'),('8','9'),('18','54')])\n",
    "G5.add_edges_from([('9', '10'),('9','11'),('9','27')])\n",
    "G5.add_edges_from([('10', '30'),('11','33'),('27','81')])\n",
    "\n",
    "pos = graphviz_layout(G5, prog='dot')\n",
    "\n",
    "edge_labels={('6', '7'):'P +1', ('6','8'):'P +2', ('6','18'):'P *3',\n",
    "             ('7','9'):'V +2', ('8','9'):'V +1', ('18','54'):'V *3',\n",
    "             ('9', '10'):'P +1', ('9','11'):'P +2', ('9','27'):'P *3',\n",
    "             ('10','30'):'V *3', ('11','33'):'V *3', ('27','81'):'V *3'}\n",
    "\n",
    "node_colors=['coral', 'lightsteelblue', 'lightsteelblue','lightsteelblue',\n",
    "             'lightsteelblue', 'lightgreen', 'lightsteelblue', 'lightsteelblue',\n",
    "             'lightsteelblue', 'lightgreen', 'lightgreen', 'lightgreen']\n",
    "\n",
    "nx.draw_networkx_edges(G5, pos, width=3, alpha=0.5, edge_color='slategray',\n",
    "                       arrowsize=70, arrowstyle='-|>')\n",
    "nx.draw_networkx_nodes(G5, pos, node_size=1500, node_shape='h', node_color=node_colors)\n",
    "\n",
    "nx.draw_networkx_edge_labels(G5, pos, edge_labels, font_size=25, font_weight='bold')\n",
    "nx.draw_networkx_labels(G5, pos, font_size=20, font_weight='bold')\n",
    "\n",
    "plt.axis('off')            \n",
    "plt.show()"
   ]
  },
  {
   "cell_type": "code",
   "execution_count": 57,
   "metadata": {},
   "outputs": [],
   "source": [
    "answer1 = \\\n",
    "'''\n",
    "a. 10≤S≤29, S∈{10,...,29}. \n",
    "Petya wins by one step - tripling the number of stones: \n",
    "30≤3*S≤87, 3∗S∈{30,...,87}. \n",
    "At 1≤S≤9, S∈{1,...,9} it is not possible to win by one move: \n",
    "2≤S+1≤10, S+1∈{2,...,10}; 3≤S+2≤11, S+2∈{3,...,11}; 3≤3*S≤27, 3*S∈{3,...,27}.\n",
    "\n",
    "b. S=9. \n",
    "In this case, at any next step, \n",
    "9 -> 10 (P +1), 9 -> 11 (P +2) or 9 -> 27 (P *3) \n",
    "Petya will not be able to win, \n",
    "and Vanya will win by tripling the result in the next stage: \n",
    "10 -> 30 (V *3), 11 -> 33 (V *3) or 27 -> 81 (V *3).\n",
    "'''\n",
    "answer2 = \\\n",
    "'''\n",
    "S=3, S=7, S=8. \n",
    "Petya should choose the step 3 -> 9 (P *3), 7 -> 9 (P +2), 8 -> 9 (P +1). \n",
    "At any next step, 9 -> 10 (V +1), 9 -> 11 (V +2), 9 -> 27 (V *3) \n",
    "Vanya cannot win, but Petya wins by tripling the result in the next stage \n",
    "10 -> 30 (P *3), 11 -> 33 (P *3), 27 -> 81 (P *3).\n",
    "'''\n",
    "answer3 = \\\n",
    "'''\n",
    "S=6. Vanya's winning strategy:\n",
    "\n",
    "If the first move of Petya 6 -> 7 (P +1) or 6 -> 8 (P +2), \n",
    "then Vanya should choose the course 7 -> 9 (V +2) or 8 -> 9 (V +1).\n",
    "In this case, at any next step, \n",
    "9 -> 10 (P +1), 9 -> 11 (P +2) or 9 -> 27 (P *3)\n",
    "Petya will not be able to win, \n",
    "and Vanya will win by tripling the result in the next stage: \n",
    "10 -> 30 (V *3), 11 -> 33 (V *3) or 27 -> 81 (V *3).\n",
    "\n",
    "If the first move of Petya 6 -> 18 (P *3), \n",
    "then Vanya wins by his first move, tripling the number of stones: 18 -> 54 (V *3).\n",
    "\n",
    "It is not possible for Vanya to win by the first move with a guarantee for this start position.\n",
    "'''"
   ]
  },
  {
   "cell_type": "code",
   "execution_count": 58,
   "metadata": {},
   "outputs": [
    {
     "name": "stdout",
     "output_type": "stream",
     "text": [
      "\n",
      " Answer: ['\\na. 10≤S≤29, S∈{10,...,29}. \\nPetya wins by one step - tripling the number of stones: \\n30≤3*S≤87, 3∗S∈{30,...,87}. \\nAt 1≤S≤9, S∈{1,...,9} it is not possible to win by one move: \\n2≤S+1≤10, S+1∈{2,...,10}; 3≤S+2≤11, S+2∈{3,...,11}; 3≤3*S≤27, 3*S∈{3,...,27}.\\n\\nb. S=9. \\nIn this case, at any next step, \\n9 -> 10 (P +1), 9 -> 11 (P +2) or 9 -> 27 (P *3) \\nPetya will not be able to win, \\nand Vanya will win by tripling the result in the next stage: \\n10 -> 30 (V *3), 11 -> 33 (V *3) or 27 -> 81 (V *3).\\n', '\\nS=3, S=7, S=8. \\nPetya should choose the step 3 -> 9 (P *3), 7 -> 9 (P +2), 8 -> 9 (P +1). \\nAt any next step, 9 -> 10 (V +1), 9 -> 11 (V +2), 9 -> 27 (V *3) \\nVanya cannot win, but Petya wins by tripling the result in the next stage \\n10 -> 30 (P *3), 11 -> 33 (P *3), 27 -> 81 (P *3).\\n', \"\\nS=6. Vanya's winning strategy:\\n\\nIf the first move of Petya 6 -> 7 (P +1) or 6 -> 8 (P +2), \\nthen Vanya should choose the course 7 -> 9 (V +2) or 8 -> 9 (V +1).\\nIn this case, at any next step, \\n9 -> 10 (P +1), 9 -> 11 (P +2) or 9 -> 27 (P *3)\\nPetya will not be able to win, \\nand Vanya will win by tripling the result in the next stage: \\n10 -> 30 (V *3), 11 -> 33 (V *3) or 27 -> 81 (V *3).\\n\\nIf the first move of Petya 6 -> 18 (P *3), \\nthen Vanya wins by his first move, tripling the number of stones: 18 -> 54 (V *3).\\n\\nIt is not possible for Vanya to win by the first move with a guarantee for this start position.\\n\"]\n"
     ]
    }
   ],
   "source": [
    "answer_dictionary[26]=[answer1, answer2, answer3]\n",
    "print(\"\\n\",\"Answer:\", answer_dictionary[26])"
   ]
  },
  {
   "cell_type": "markdown",
   "metadata": {},
   "source": [
    "<div style=\"width: 800px; height: 490px; overflow:auto;\">\n",
    "    <img src=\"it_images/2017_06_27.png\" width=\"800\" height=\"490\"/>\n",
    "</div>"
   ]
  },
  {
   "cell_type": "markdown",
   "metadata": {},
   "source": [
    "В секретной службе некоторой страны работает N сотрудников (N < 40 000). Каждый сотрудник имеет свой собственный уникальный номер, совпадающий с порядковым номером в ведомости на зарплату. Специальная пропускная система на входе фиксирует номер каждого сотрудника, пришедшего на работу. В середине дня начальник заподозрил, что, возможно, один из сотрудников на работу не пришёл. Он запросил у пропускной системы список пришедших сотрудников.\n",
    "\n",
    "Вам нужно написать эффективную программу, которая определяет, все ли сотрудники пришли на работу, и вывести на экран список номеров всех пришедших сотрудников, отсортированный по порядку в зарплатной ведомости.\n",
    "\n",
    "На вход программе подаётся:\n",
    "\n",
    "— в первой строке: количество сотрудников в службе N,\n",
    "\n",
    "— во второй строке: последовательность номеров сотрудников, заканчивающийся нулем (этот ноль служит признаком окончания последовательности).\n",
    "\n",
    "Программа должна вывести требуемую последовательность, если один из сотрудников не пришёл на работу, или сообщение «Все пришли», если прогульщика нет.\n",
    "\n",
    "Пример входной строки:\n",
    "\n",
    "5\n",
    "\n",
    "3 2 5 1 4 0\n",
    "\n",
    "Пример выходных данных:\n",
    "\n",
    "Все пришли\n",
    "\n",
    "Другой пример входной строки:\n",
    "\n",
    "5\n",
    "\n",
    "3 5 1 4 0\n",
    "\n",
    "Пример выходных данных:\n",
    "\n",
    "1 3 4 5\n",
    "\n",
    "---\n",
    "\n",
    "In the secret service of some country, there are N employees (N < 40 000). Each employee has his own unique number, which coincides with the serial number on the payroll. A special access system at the entrance records the number of each employee who came to work. In the middle of the day, the chief suspected that perhaps one of the employees had not come to work. He asked the access system for a list of incoming employees.\n",
    "\n",
    "You need to write an effective program that determines whether all employees came to work and display the list of all the incoming employees, sorted in the order in the payroll.\n",
    "\n",
    "The input is given to:\n",
    "\n",
    "- in the first line: the number of employees in the service N,\n",
    "\n",
    "- in the second line: the sequence of employee numbers, ending with zero (this zero indicates the end of the sequence).\n",
    "\n",
    "The program should output the required sequence if one of the employees did not come to work, or the message \"All have come\", if there are no absentees.\n",
    "\n",
    "Example of an input line:\n",
    "\n",
    "5\n",
    "\n",
    "3 2 5 1 4 0\n",
    "\n",
    "Example of an output line:\n",
    "\n",
    "All have come\n",
    "\n",
    "Another example of an input line:\n",
    "\n",
    "5\n",
    "\n",
    "3 5 1 4 0\n",
    "\n",
    "Another example of an output line:\n",
    "\n",
    "1 3 4 5"
   ]
  },
  {
   "cell_type": "code",
   "execution_count": 27,
   "metadata": {},
   "outputs": [
    {
     "name": "stdout",
     "output_type": "stream",
     "text": [
      "-=-=-=-=-=-=-=-=-=-=-=-=-=-=-=-=-=-=-=-=-=-=-=-=-=-=-=-=-=-=-=-=-=-=-=-=-=-=-=-=-=-=-=-=-= \n",
      "\n",
      "Количество сотрудников: \n",
      "5\n",
      "-=-=-=-=-=-=-=-=-=-=-=-=-=-=-=-=-=-=-=-=-=-=-=-=-=-=-=-=-=-=-=-=-=-=-=-=-=-=-=-=-=-=-=-=-= \n",
      "\n",
      "Номера пришедших на работу сотрудников (номера вводятся через пробел и заканчиваются символом \"0\"): \n",
      "1 4 2 5 3 0 6\n",
      "-=-=-=-=-=-=-=-=-=-=-=-=-=-=-=-=-=-=-=-=-=-=-=-=-=-=-=-=-=-=-=-=-=-=-=-=-=-=-=-=-=-=-=-=-= \n",
      "\n",
      "Все пришли \n",
      "-=-=-=-=-=-=-=-=-=-=-=-=-=-=-=-=-=-=-=-=-=-=-=-=-=-=-=-=-=-=-=-=-=-=-=-=-=-=-=-=-=-=-=-=-=\n"
     ]
    }
   ],
   "source": [
    "line = 45*'-='\n",
    "print(line,'\\n')\n",
    "N = int(input('Количество сотрудников: \\n'))\n",
    "print(line,'\\n')\n",
    "numbers = str(input('Номера пришедших на работу сотрудников (номера вводятся через пробел и заканчиваются символом \"0\"): \\n'))\n",
    "print(line,'\\n')\n",
    "numbers = numbers[:numbers.find(\"0\")]\n",
    "numbers = [int(number) for number in numbers.split(' ')[:-1]]\n",
    "numbers.sort()\n",
    "\n",
    "if numbers == list(range(1,N+1)):\n",
    "    print(\"Все пришли \\n\"+line)\n",
    "else:\n",
    "    print(' '.join([str(number) for number in numbers]))"
   ]
  },
  {
   "cell_type": "code",
   "execution_count": 59,
   "metadata": {},
   "outputs": [],
   "source": [
    "program=\\\n",
    "\"\"\"\n",
    "line = 45*'-='\n",
    "print(line,'\\n')\n",
    "N = int(input('Количество сотрудников: \\n'))\n",
    "print(line,'\\n')\n",
    "numbers = str(input('Номера пришедших на работу сотрудников (номера вводятся через пробел и заканчиваются символом \"0\"): \\n'))\n",
    "print(line,'\\n')\n",
    "numbers = numbers[:numbers.find(\"0\")]\n",
    "numbers = [int(number) for number in numbers.split(' ')[:-1]]\n",
    "numbers.sort()\n",
    "\n",
    "if numbers == list(range(1,N+1)):\n",
    "    print(\"Все пришли \\n\"+line)\n",
    "else:\n",
    "    print(' '.join([str(number) for number in numbers]))\n",
    "\"\"\""
   ]
  },
  {
   "cell_type": "code",
   "execution_count": 60,
   "metadata": {},
   "outputs": [
    {
     "name": "stdout",
     "output_type": "stream",
     "text": [
      "Answer: ['python 3.6', '\\nline = 45*\\'-=\\'\\nprint(line,\\'\\n\\')\\nN = int(input(\\'Количество сотрудников: \\n\\'))\\nprint(line,\\'\\n\\')\\nnumbers = str(input(\\'Номера пришедших на работу сотрудников (номера вводятся через пробел и заканчиваются символом \"0\"): \\n\\'))\\nprint(line,\\'\\n\\')\\nnumbers = numbers[:numbers.find(\"0\")]\\nnumbers = [int(number) for number in numbers.split(\\' \\')[:-1]]\\nnumbers.sort()\\n\\nif numbers == list(range(1,N+1)):\\n    print(\"Все пришли \\n\"+line)\\nelse:\\n    print(\\' \\'.join([str(number) for number in numbers]))\\n']\n"
     ]
    }
   ],
   "source": [
    "answer_dictionary[27]=[version, program]\n",
    "print(\"Answer:\", answer_dictionary[27])"
   ]
  },
  {
   "cell_type": "markdown",
   "metadata": {},
   "source": [
    "## Ответы &nbsp; Answers"
   ]
  },
  {
   "cell_type": "code",
   "execution_count": 61,
   "metadata": {},
   "outputs": [
    {
     "data": {
      "text/plain": [
       "{1: '2',\n",
       " 2: '245',\n",
       " 3: '9',\n",
       " 4: '1',\n",
       " 5: 'D0',\n",
       " 6: 'D',\n",
       " 7: '6',\n",
       " 8: '17',\n",
       " 9: '15',\n",
       " 10: 720,\n",
       " 11: '13',\n",
       " 12: 'GCDA',\n",
       " 13: '600',\n",
       " 14: '322322',\n",
       " 15: '25',\n",
       " 16: '28',\n",
       " 17: '11',\n",
       " 18: '5',\n",
       " 19: '6',\n",
       " 20: '997',\n",
       " 21: '134',\n",
       " 22: '47',\n",
       " 23: '42',\n",
       " 24: ['1. 2',\n",
       "  '2. 111',\n",
       "  '3. \"k = 10\" -> \"k = 0\"; \"if N % 10 < k\" -> \"if N % 10 > k\"'],\n",
       " 25: ['python 3.6',\n",
       "  '\\nprint(\"Create an array of 40 integer numbers from [-10000, 10000].\")\\nA = numpy.zeros(40)\\nMAX = -20001\\nA[0] = int(input(\" \"))\\nfor I in range(1,40):\\n    A[I] = int(input(\" \"))\\n    if ((A[I-1] + A[I]) % 3 != 0) and (A[I-1] + A[I] > MAX): \\n        MAX = A[I-1] + A[I]\\n    if MAX ==-20001:\\n        MAX = 0\\n        \\nprint(int(MAX))\\n'],\n",
       " 26: ['\\na. 10≤S≤29, S∈{10,...,29}. \\nPetya wins by one step - tripling the number of stones: \\n30≤3*S≤87, 3∗S∈{30,...,87}. \\nAt 1≤S≤9, S∈{1,...,9} it is not possible to win by one move: \\n2≤S+1≤10, S+1∈{2,...,10}; 3≤S+2≤11, S+2∈{3,...,11}; 3≤3*S≤27, 3*S∈{3,...,27}.\\n\\nb. S=9. \\nIn this case, at any next step, \\n9 -> 10 (P +1), 9 -> 11 (P +2) or 9 -> 27 (P *3) \\nPetya will not be able to win, \\nand Vanya will win by tripling the result in the next stage: \\n10 -> 30 (V *3), 11 -> 33 (V *3) or 27 -> 81 (V *3).\\n',\n",
       "  '\\nS=3, S=7, S=8. \\nPetya should choose the step 3 -> 9 (P *3), 7 -> 9 (P +2), 8 -> 9 (P +1). \\nAt any next step, 9 -> 10 (V +1), 9 -> 11 (V +2), 9 -> 27 (V *3) \\nVanya cannot win, but Petya wins by tripling the result in the next stage \\n10 -> 30 (P *3), 11 -> 33 (P *3), 27 -> 81 (P *3).\\n',\n",
       "  \"\\nS=6. Vanya's winning strategy:\\n\\nIf the first move of Petya 6 -> 7 (P +1) or 6 -> 8 (P +2), \\nthen Vanya should choose the course 7 -> 9 (V +2) or 8 -> 9 (V +1).\\nIn this case, at any next step, \\n9 -> 10 (P +1), 9 -> 11 (P +2) or 9 -> 27 (P *3)\\nPetya will not be able to win, \\nand Vanya will win by tripling the result in the next stage: \\n10 -> 30 (V *3), 11 -> 33 (V *3) or 27 -> 81 (V *3).\\n\\nIf the first move of Petya 6 -> 18 (P *3), \\nthen Vanya wins by his first move, tripling the number of stones: 18 -> 54 (V *3).\\n\\nIt is not possible for Vanya to win by the first move with a guarantee for this start position.\\n\"],\n",
       " 27: ['python 3.6',\n",
       "  '\\nline = 45*\\'-=\\'\\nprint(line,\\'\\n\\')\\nN = int(input(\\'Количество сотрудников: \\n\\'))\\nprint(line,\\'\\n\\')\\nnumbers = str(input(\\'Номера пришедших на работу сотрудников (номера вводятся через пробел и заканчиваются символом \"0\"): \\n\\'))\\nprint(line,\\'\\n\\')\\nnumbers = numbers[:numbers.find(\"0\")]\\nnumbers = [int(number) for number in numbers.split(\\' \\')[:-1]]\\nnumbers.sort()\\n\\nif numbers == list(range(1,N+1)):\\n    print(\"Все пришли \\n\"+line)\\nelse:\\n    print(\\' \\'.join([str(number) for number in numbers]))\\n']}"
      ]
     },
     "execution_count": 61,
     "metadata": {},
     "output_type": "execute_result"
    }
   ],
   "source": [
    "answer_dictionary"
   ]
  }
 ],
 "metadata": {
  "kernelspec": {
   "display_name": "Python 3",
   "language": "python",
   "name": "python3"
  },
  "language_info": {
   "codemirror_mode": {
    "name": "ipython",
    "version": 3
   },
   "file_extension": ".py",
   "mimetype": "text/x-python",
   "name": "python",
   "nbconvert_exporter": "python",
   "pygments_lexer": "ipython3",
   "version": "3.6.4"
  }
 },
 "nbformat": 4,
 "nbformat_minor": 2
}
